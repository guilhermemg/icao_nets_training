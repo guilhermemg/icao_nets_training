{
 "cells": [
  {
   "cell_type": "markdown",
   "metadata": {},
   "source": [
    "# Import Libraries"
   ]
  },
  {
   "cell_type": "code",
   "execution_count": 1,
   "metadata": {},
   "outputs": [],
   "source": [
    "%load_ext autoreload\n",
    "%autoreload 2"
   ]
  },
  {
   "cell_type": "code",
   "execution_count": 2,
   "metadata": {},
   "outputs": [],
   "source": [
    "import sys\n",
    "import pandas as pd\n",
    "\n",
    "if '../../../notebooks/' not in sys.path:\n",
    "    sys.path.append('../../../notebooks/')\n",
    "\n",
    "import utils.constants as cts\n",
    "\n",
    "from models.oface_mouth_model import OpenfaceMouth\n",
    "from data_loaders.data_loader import DLName\n",
    "from gt_loaders.gt_names import GTName\n",
    "from net_trainer import NetworkTrainer, BaseModel, Optimizer"
   ]
  },
  {
   "cell_type": "markdown",
   "metadata": {},
   "source": [
    "# Start Network Trainer"
   ]
  },
  {
   "cell_type": "code",
   "execution_count": 3,
   "metadata": {
    "tags": []
   },
   "outputs": [
    {
     "name": "stdout",
     "output_type": "stream",
     "text": [
      "-----\n",
      "Use Neptune:  True\n",
      "-----\n",
      "===================\n",
      "Args: \n",
      "{'exp_params': {'description': 'Training VGG16 with all data loaders',\n",
      "                'name': 'train_vgg16',\n",
      "                'src_files': ['net_trainer.py'],\n",
      "                'tags': ['vgg16', 'data loaders']},\n",
      " 'net_train_params': {'base_model': <BaseModel.VGG16: {'target_size': (224, 224), 'prep_function': <function preprocess_input at 0x7f384b88fd30>}>,\n",
      "                      'batch_size': 64,\n",
      "                      'dense_units': 128,\n",
      "                      'dropout': 0.5,\n",
      "                      'early_stopping': 30,\n",
      "                      'learning_rate': 0.001,\n",
      "                      'n_epochs': 100,\n",
      "                      'optimizer': <Optimizer.ADAM: 'Adam'>,\n",
      "                      'seed': 42,\n",
      "                      'shuffle': True,\n",
      "                      'test_prop': 0.05,\n",
      "                      'train_prop': 0.9,\n",
      "                      'validation_prop': 0.05,\n",
      "                      'validation_split': 0.1},\n",
      " 'properties': {'aligned': True,\n",
      "                'balance_input_data': False,\n",
      "                'dl_names': [<DLName.VGGFACE2: 'vgg'>,\n",
      "                             <DLName.CALTECH: 'caltech'>,\n",
      "                             <DLName.FVC_PYBOSSA: 'fvc_pybossa'>,\n",
      "                             <DLName.CVL: 'cvl'>,\n",
      "                             <DLName.FEI_DB: 'fei'>,\n",
      "                             <DLName.GEORGIA_TECH: 'georgia_tech'>,\n",
      "                             <DLName.COLOR_FERET: 'color_feret'>,\n",
      "                             <DLName.ICPR04: 'icpr04'>,\n",
      "                             <DLName.IMFDB: 'imfdb'>,\n",
      "                             <DLName.IJBC: 'ijbc'>,\n",
      "                             <DLName.LFW: 'lfw'>,\n",
      "                             <DLName.CASIA_WF: 'casia_webface'>,\n",
      "                             <DLName.GENKI4K_DB: 'genki4k'>],\n",
      "                'req': <ICAO_REQ.MOUTH: 'mouth'>,\n",
      "                'tagger_model': <models.oface_mouth_model.OpenfaceMouth object at 0x7f38461a8fa0>,\n",
      "                'use_gt_data': False},\n",
      " 'use_neptune': True}\n",
      "===================\n",
      "----\n",
      "Base Model Name:  BaseModel.VGG16\n",
      "----\n"
     ]
    }
   ],
   "source": [
    "kwargs = { \n",
    "    'use_neptune': True,\n",
    "    'exp_params' : {\n",
    "        'name': 'train_vgg16',\n",
    "        'description': 'Training VGG16 with all data loaders',\n",
    "        'tags': ['vgg16', 'data loaders'],\n",
    "        'src_files': ['net_trainer.py']\n",
    "    },\n",
    "    'properties': {\n",
    "        'tagger_model': OpenfaceMouth(),\n",
    "        'dl_names': [DLName.VGGFACE2, DLName.CALTECH, DLName.FVC_PYBOSSA, \n",
    "                     DLName.CVL, DLName.FEI_DB, DLName.GEORGIA_TECH, DLName.COLOR_FERET,\n",
    "                     DLName.ICPR04, DLName.IMFDB, DLName.IJBC, DLName.LFW, DLName.CASIA_WF,\n",
    "                     DLName.GENKI4K_DB\n",
    "                    ],\n",
    "        'req': cts.ICAO_REQ.MOUTH,\n",
    "        'aligned': True,\n",
    "        'use_gt_data': False,\n",
    "#         'gt_names': [GTName.GENKI, GTName.FVC],\n",
    "        'balance_input_data': False,\n",
    "    },\n",
    "    'net_train_params': {\n",
    "        'base_model': BaseModel.VGG16,\n",
    "        'batch_size': 64,\n",
    "        'n_epochs': 100,\n",
    "        'early_stopping': 30,\n",
    "        'shuffle': True,\n",
    "        'dense_units': 128,\n",
    "        'learning_rate': 1e-3,\n",
    "        'optimizer': Optimizer.ADAM,\n",
    "        'dropout': 0.5,\n",
    "        'train_prop': 0.9,\n",
    "        'validation_prop': 0.05,\n",
    "        'test_prop': 0.05,\n",
    "        'seed': 42,\n",
    "        'validation_split': 0.1\n",
    "    }\n",
    "}\n",
    "\n",
    "trainer = NetworkTrainer(**kwargs)"
   ]
  },
  {
   "cell_type": "markdown",
   "metadata": {},
   "source": [
    "# Load Data"
   ]
  },
  {
   "cell_type": "code",
   "execution_count": 4,
   "metadata": {
    "tags": []
   },
   "outputs": [
    {
     "name": "stdout",
     "output_type": "stream",
     "text": [
      "Loading data\n",
      "..Ignoring 0 dummy and empty label values\n",
      "..Ignoring 0 dummy and empty label values\n",
      "..Ignoring 0 dummy and empty label values\n",
      "..Ignoring 0 dummy and empty label values\n",
      "..Ignoring 0 dummy and empty label values\n",
      "..Ignoring 0 dummy and empty label values\n",
      "..Ignoring 0 dummy and empty label values\n",
      "..Ignoring 0 dummy and empty label values\n",
      "..Ignoring 0 dummy and empty label values\n",
      "..Ignoring 0 dummy and empty label values\n",
      "..Ignoring 0 dummy and empty label values\n",
      "..Ignoring 0 dummy and empty label values\n",
      "..Ignoring 0 dummy and empty label values\n",
      "Input data.shape: (181819, 4)\n",
      "TrainData.shape: (181819, 4)\n",
      "..Ignoring 0 dummy and empty label values\n",
      "Input data.shape: (3554, 4)\n",
      "TestData.shape: (3554, 4)\n",
      "Data loaded\n"
     ]
    }
   ],
   "source": [
    "trainer.load_training_data()"
   ]
  },
  {
   "cell_type": "markdown",
   "metadata": {},
   "source": [
    "# Data Balancing"
   ]
  },
  {
   "cell_type": "code",
   "execution_count": 5,
   "metadata": {
    "tags": []
   },
   "outputs": [
    {
     "name": "stdout",
     "output_type": "stream",
     "text": [
      "Not balancing input_data\n"
     ]
    }
   ],
   "source": [
    "trainer.balance_input_data()"
   ]
  },
  {
   "cell_type": "markdown",
   "metadata": {},
   "source": [
    "# Data Generators"
   ]
  },
  {
   "cell_type": "code",
   "execution_count": 6,
   "metadata": {
    "tags": []
   },
   "outputs": [
    {
     "name": "stdout",
     "output_type": "stream",
     "text": [
      "Starting data generators\n",
      "Found 163638 validated image filenames belonging to 2 classes.\n",
      "Found 18181 validated image filenames belonging to 2 classes.\n",
      "Found 3554 validated image filenames belonging to 2 classes.\n",
      "TOTAL: 185373\n"
     ]
    }
   ],
   "source": [
    "trainer.setup_data_generators()"
   ]
  },
  {
   "cell_type": "markdown",
   "metadata": {},
   "source": [
    "# Use Neptune"
   ]
  },
  {
   "cell_type": "code",
   "execution_count": 7,
   "metadata": {},
   "outputs": [
    {
     "name": "stdout",
     "output_type": "stream",
     "text": [
      "Starting Neptune\n",
      "Creating experiment\n",
      "https://ui.neptune.ai/guilhermemg/icao-nets-training/e/IC-76\n"
     ]
    }
   ],
   "source": [
    "trainer.start_neptune()\n",
    "trainer.create_experiment()"
   ]
  },
  {
   "cell_type": "markdown",
   "metadata": {},
   "source": [
    "# Training Model"
   ]
  },
  {
   "cell_type": "code",
   "execution_count": null,
   "metadata": {
    "tags": []
   },
   "outputs": [
    {
     "name": "stdout",
     "output_type": "stream",
     "text": [
      "Training VGG16 network\n",
      "Epoch 1/100\n",
      "2556/2556 [==============================] - 4423s 2s/step - loss: 0.6399 - accuracy: 0.6223 - val_loss: 0.5921 - val_accuracy: 0.7059\n",
      "Epoch 2/100\n",
      "1335/2556 [==============>...............] - ETA: 28:58 - loss: 0.6238 - accuracy: 0.6371"
     ]
    }
   ],
   "source": [
    "trainer.train_model()"
   ]
  },
  {
   "cell_type": "code",
   "execution_count": null,
   "metadata": {},
   "outputs": [],
   "source": [
    "trainer.model.summary()"
   ]
  },
  {
   "cell_type": "markdown",
   "metadata": {},
   "source": [
    "# Plots"
   ]
  },
  {
   "cell_type": "code",
   "execution_count": null,
   "metadata": {},
   "outputs": [],
   "source": [
    "trainer.draw_training_history()"
   ]
  },
  {
   "cell_type": "markdown",
   "metadata": {},
   "source": [
    "# Saving Trained Model"
   ]
  },
  {
   "cell_type": "code",
   "execution_count": null,
   "metadata": {},
   "outputs": [],
   "source": [
    "trainer.save_model()"
   ]
  },
  {
   "cell_type": "markdown",
   "metadata": {},
   "source": [
    "# Test Trained Model"
   ]
  },
  {
   "cell_type": "code",
   "execution_count": null,
   "metadata": {},
   "outputs": [],
   "source": [
    "trainer.test_model()"
   ]
  },
  {
   "cell_type": "markdown",
   "metadata": {},
   "source": [
    "# Evaluate Model"
   ]
  },
  {
   "cell_type": "code",
   "execution_count": null,
   "metadata": {},
   "outputs": [],
   "source": [
    "trainer.evaluate_model()"
   ]
  },
  {
   "cell_type": "markdown",
   "metadata": {},
   "source": [
    "# Vizualize Model Classification"
   ]
  },
  {
   "cell_type": "code",
   "execution_count": null,
   "metadata": {},
   "outputs": [],
   "source": [
    "trainer.vizualize_predictions()"
   ]
  },
  {
   "cell_type": "markdown",
   "metadata": {},
   "source": [
    "# Finishing Experiment Manager"
   ]
  },
  {
   "cell_type": "code",
   "execution_count": null,
   "metadata": {},
   "outputs": [],
   "source": [
    "trainer.finish_experiment()"
   ]
  }
 ],
 "metadata": {
  "kernelspec": {
   "display_name": "Python 3",
   "language": "python",
   "name": "python3"
  },
  "language_info": {
   "codemirror_mode": {
    "name": "ipython",
    "version": 3
   },
   "file_extension": ".py",
   "mimetype": "text/x-python",
   "name": "python",
   "nbconvert_exporter": "python",
   "pygments_lexer": "ipython3",
   "version": "3.8.3"
  },
  "neptune": {
   "notebookId": "d6d95e8a-b251-40a1-bf9d-610ebc484f63"
  },
  "toc-autonumbering": true
 },
 "nbformat": 4,
 "nbformat_minor": 4
}

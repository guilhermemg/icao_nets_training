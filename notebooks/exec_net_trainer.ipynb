{
 "cells": [
  {
   "cell_type": "markdown",
   "metadata": {},
   "source": [
    "# Import Libraries"
   ]
  },
  {
   "cell_type": "code",
   "execution_count": 1,
   "metadata": {},
   "outputs": [],
   "source": [
    "%load_ext autoreload\n",
    "%autoreload 2"
   ]
  },
  {
   "cell_type": "code",
   "execution_count": 2,
   "metadata": {},
   "outputs": [],
   "source": [
    "import sys\n",
    "import pandas as pd\n",
    "\n",
    "if '../../../notebooks/' not in sys.path:\n",
    "    sys.path.append('../../../notebooks/')\n",
    "\n",
    "import utils.constants as cts\n",
    "\n",
    "from models.oface_mouth_model import OpenfaceMouth\n",
    "from data_loaders.data_loader import DLName\n",
    "from gt_loaders.gt_names import GTName\n",
    "from net_trainer import NetworkTrainer, BaseModel, Optimizer"
   ]
  },
  {
   "cell_type": "markdown",
   "metadata": {},
   "source": [
    "# Start Network Trainer"
   ]
  },
  {
   "cell_type": "code",
   "execution_count": 3,
   "metadata": {
    "tags": []
   },
   "outputs": [
    {
     "name": "stdout",
     "output_type": "stream",
     "text": [
      "-----\n",
      "Use Neptune:  True\n",
      "-----\n",
      "===================\n",
      "Args: \n",
      "{'exp_params': {'description': 'Training VGG16 with ground truths and using '\n",
      "                               'customized learning rate scheduler function',\n",
      "                'name': 'train_vgg16',\n",
      "                'src_files': ['net_trainer.py'],\n",
      "                'tags': ['vgg16', 'ground truths']},\n",
      " 'net_train_params': {'base_model': <BaseModel.VGG16: {'target_size': (224, 224), 'prep_function': <function preprocess_input at 0x7f547a95d820>}>,\n",
      "                      'batch_size': 64,\n",
      "                      'dense_units': 128,\n",
      "                      'dropout': 0.5,\n",
      "                      'early_stopping': 30,\n",
      "                      'learning_rate': 0.001,\n",
      "                      'n_epochs': 100,\n",
      "                      'optimizer': <Optimizer.ADAM_CUST: 'AdamCustomized'>,\n",
      "                      'seed': 42,\n",
      "                      'shuffle': False,\n",
      "                      'test_prop': 0.05,\n",
      "                      'train_prop': 0.9,\n",
      "                      'validation_prop': 0.05,\n",
      "                      'validation_split': 0.1},\n",
      " 'properties': {'aligned': True,\n",
      "                'balance_input_data': False,\n",
      "                'gt_names': [<GTName.GENKI: 'genki'>, <GTName.FVC: 'fvc'>],\n",
      "                'req': <ICAO_REQ.MOUTH: 'mouth'>,\n",
      "                'use_gt_data': True},\n",
      " 'use_neptune': True}\n",
      "===================\n",
      "----\n",
      "Base Model Name:  BaseModel.VGG16\n",
      "----\n"
     ]
    }
   ],
   "source": [
    "kwargs = { \n",
    "    'use_neptune': True,\n",
    "    'exp_params' : {\n",
    "        'name': 'train_vgg16',\n",
    "        'description': 'Training VGG16 with ground truths and using customized learning rate scheduler function',\n",
    "        'tags': ['vgg16', 'ground truths'],\n",
    "        'src_files': ['net_trainer.py']\n",
    "    },\n",
    "    'properties': {\n",
    "        #'tagger_model': OpenfaceMouth(),\n",
    "        #'dl_names': [DLName.FVC_PYBOSSA, DLName.GENKI4K_DB, DLName.FEI_DB, DLName.CALTECH, DLName.IMFDB, DLName.GEORGIA_TECH],\n",
    "        'req': cts.ICAO_REQ.MOUTH,\n",
    "        'aligned': True,\n",
    "        'use_gt_data': True,\n",
    "        'gt_names': [GTName.GENKI, GTName.FVC],\n",
    "        'balance_input_data': False,\n",
    "    },\n",
    "    'net_train_params': {\n",
    "        'base_model': BaseModel.VGG16,\n",
    "        'batch_size': 64,\n",
    "        'n_epochs': 100,\n",
    "        'early_stopping': 30,\n",
    "        'shuffle': False,\n",
    "        'dense_units': 128,\n",
    "        'learning_rate': 1e-3,\n",
    "        'optimizer': Optimizer.ADAM_CUST,\n",
    "        'dropout': 0.5,\n",
    "        'train_prop': 0.9,\n",
    "        'validation_prop': 0.05,\n",
    "        'test_prop': 0.05,\n",
    "        'seed': 42,\n",
    "        'validation_split': 0.1\n",
    "    }\n",
    "}\n",
    "\n",
    "trainer = NetworkTrainer(**kwargs)"
   ]
  },
  {
   "cell_type": "markdown",
   "metadata": {},
   "source": [
    "# Load Data"
   ]
  },
  {
   "cell_type": "code",
   "execution_count": 4,
   "metadata": {
    "tags": []
   },
   "outputs": [
    {
     "name": "stdout",
     "output_type": "stream",
     "text": [
      "Loading data\n",
      "len(files_list_train):  5210\n",
      "len(files_list_val):  570\n",
      "labels_train.shape: (5210,23)\n",
      "labels_val.shape: (570,23)\n",
      "Ground Thruth shape:  (5780, 23)\n",
      "..Ignoring 409 dummy and empty label values\n",
      "len(files_list_train):  3990\n",
      "labels_train.shape: (3990, 1)\n",
      "Ground Thruth shape:  (3990, 1)\n",
      "..Ignoring 0 dummy and empty label values\n",
      "Input data.shape: (9361, 4)\n",
      "Number of Samples: 9361\n",
      "Data loaded\n"
     ]
    }
   ],
   "source": [
    "trainer.load_training_data()"
   ]
  },
  {
   "cell_type": "markdown",
   "metadata": {},
   "source": [
    "# Data Balancing"
   ]
  },
  {
   "cell_type": "code",
   "execution_count": 5,
   "metadata": {
    "tags": []
   },
   "outputs": [
    {
     "name": "stdout",
     "output_type": "stream",
     "text": [
      "Not balancing input_data\n"
     ]
    }
   ],
   "source": [
    "trainer.balance_input_data()"
   ]
  },
  {
   "cell_type": "markdown",
   "metadata": {},
   "source": [
    "# Data Generators"
   ]
  },
  {
   "cell_type": "code",
   "execution_count": 6,
   "metadata": {
    "tags": []
   },
   "outputs": [
    {
     "name": "stdout",
     "output_type": "stream",
     "text": [
      "Starting data generators\n",
      "Found 8004 validated image filenames belonging to 2 classes.\n",
      "Found 889 validated image filenames belonging to 2 classes.\n",
      "Found 468 validated image filenames belonging to 2 classes.\n",
      "TOTAL: 9361\n"
     ]
    }
   ],
   "source": [
    "trainer.setup_data_generators()"
   ]
  },
  {
   "cell_type": "markdown",
   "metadata": {},
   "source": [
    "# Use Neptune"
   ]
  },
  {
   "cell_type": "code",
   "execution_count": 7,
   "metadata": {},
   "outputs": [
    {
     "name": "stdout",
     "output_type": "stream",
     "text": [
      "Starting Neptune\n",
      "Creating experiment\n",
      "https://ui.neptune.ai/guilhermemg/icao-nets-training/e/IC-70\n"
     ]
    }
   ],
   "source": [
    "trainer.start_neptune()\n",
    "trainer.create_experiment()"
   ]
  },
  {
   "cell_type": "markdown",
   "metadata": {},
   "source": [
    "# Training Model"
   ]
  },
  {
   "cell_type": "code",
   "execution_count": null,
   "metadata": {
    "tags": []
   },
   "outputs": [
    {
     "name": "stdout",
     "output_type": "stream",
     "text": [
      "Training VGG16 network\n",
      "Epoch 1/100\n",
      "125/125 [==============================] - 67s 538ms/step - loss: 0.5247 - accuracy: 0.7447 - val_loss: 0.4554 - val_accuracy: 0.7812\n",
      "Epoch 2/100\n",
      "125/125 [==============================] - 66s 524ms/step - loss: 0.4492 - accuracy: 0.7878 - val_loss: 0.4222 - val_accuracy: 0.8053\n",
      "Epoch 3/100\n",
      "125/125 [==============================] - 66s 527ms/step - loss: 0.4354 - accuracy: 0.7999 - val_loss: 0.4216 - val_accuracy: 0.7993\n",
      "Epoch 4/100\n",
      "125/125 [==============================] - 66s 532ms/step - loss: 0.4197 - accuracy: 0.8049 - val_loss: 0.4168 - val_accuracy: 0.8149\n",
      "Epoch 5/100\n",
      " 77/125 [=================>............] - ETA: 22s - loss: 0.4067 - accuracy: 0.8172"
     ]
    }
   ],
   "source": [
    "trainer.train_model()"
   ]
  },
  {
   "cell_type": "code",
   "execution_count": null,
   "metadata": {},
   "outputs": [],
   "source": [
    "trainer.model.summary()"
   ]
  },
  {
   "cell_type": "markdown",
   "metadata": {},
   "source": [
    "# Plots"
   ]
  },
  {
   "cell_type": "code",
   "execution_count": null,
   "metadata": {},
   "outputs": [],
   "source": [
    "trainer.draw_training_history()"
   ]
  },
  {
   "cell_type": "markdown",
   "metadata": {},
   "source": [
    "# Saving Trained Model"
   ]
  },
  {
   "cell_type": "code",
   "execution_count": null,
   "metadata": {},
   "outputs": [],
   "source": [
    "trainer.save_model()"
   ]
  },
  {
   "cell_type": "markdown",
   "metadata": {},
   "source": [
    "# Test Trained Model"
   ]
  },
  {
   "cell_type": "code",
   "execution_count": null,
   "metadata": {},
   "outputs": [],
   "source": [
    "trainer.test_model()"
   ]
  },
  {
   "cell_type": "markdown",
   "metadata": {},
   "source": [
    "# Evaluate Model"
   ]
  },
  {
   "cell_type": "code",
   "execution_count": null,
   "metadata": {},
   "outputs": [],
   "source": [
    "trainer.evaluate_model()"
   ]
  },
  {
   "cell_type": "markdown",
   "metadata": {},
   "source": [
    "# Vizualize Model Classification"
   ]
  },
  {
   "cell_type": "code",
   "execution_count": null,
   "metadata": {},
   "outputs": [],
   "source": [
    "trainer.vizualize_predictions()"
   ]
  },
  {
   "cell_type": "markdown",
   "metadata": {},
   "source": [
    "# Finishing Experiment Manager"
   ]
  },
  {
   "cell_type": "code",
   "execution_count": null,
   "metadata": {},
   "outputs": [],
   "source": [
    "trainer.finish_experiment()"
   ]
  }
 ],
 "metadata": {
  "kernelspec": {
   "display_name": "Python 3",
   "language": "python",
   "name": "python3"
  },
  "language_info": {
   "codemirror_mode": {
    "name": "ipython",
    "version": 3
   },
   "file_extension": ".py",
   "mimetype": "text/x-python",
   "name": "python",
   "nbconvert_exporter": "python",
   "pygments_lexer": "ipython3",
   "version": "3.8.3"
  },
  "neptune": {
   "notebookId": "d6d95e8a-b251-40a1-bf9d-610ebc484f63"
  },
  "toc-autonumbering": true
 },
 "nbformat": 4,
 "nbformat_minor": 4
}

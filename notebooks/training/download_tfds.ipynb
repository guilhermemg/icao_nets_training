{
 "cells": [
  {
   "cell_type": "markdown",
   "id": "fd6e0b34-63d0-4ad4-990b-e310d0d98efc",
   "metadata": {},
   "source": [
    "# Introduction"
   ]
  },
  {
   "cell_type": "markdown",
   "id": "352e09ab-53c1-400e-bb06-6d5da500bd69",
   "metadata": {},
   "source": [
    "Notebook para fazer download de datasets de TFDS (Tensorflow Datasets).\n",
    "\n",
    "Datasets baixados:\n",
    "* MNIST\n",
    "* FASHION_MNIST\n",
    "* CIFAR 10\n",
    "\n",
    "Esses datasets serão usados para verificação de corretude de algoritmo REINFORCE no contexto de NAS."
   ]
  },
  {
   "cell_type": "markdown",
   "id": "9f3ed2f3-9494-4293-ab51-ada523fa6186",
   "metadata": {},
   "source": [
    "# Import Libraries"
   ]
  },
  {
   "cell_type": "code",
   "execution_count": 1,
   "id": "bb8cb280-2639-4257-b239-1698ad020c4b",
   "metadata": {},
   "outputs": [
    {
     "name": "stderr",
     "output_type": "stream",
     "text": [
      "2021-11-18 22:23:58.303119: I tensorflow/stream_executor/platform/default/dso_loader.cc:53] Successfully opened dynamic library libcudart.so.11.0\n"
     ]
    }
   ],
   "source": [
    "import os\n",
    "import cv2 \n",
    "import sklearn\n",
    "\n",
    "import pandas as pd\n",
    "import tensorflow as tf\n",
    "import tensorflow_datasets as tfds"
   ]
  },
  {
   "cell_type": "markdown",
   "id": "97cc2bf1-4204-46af-a0ad-8f2dd3f207f4",
   "metadata": {},
   "source": [
    "# Datasets Root Directory Path"
   ]
  },
  {
   "cell_type": "code",
   "execution_count": 2,
   "id": "37e58b2b-9ed2-4efc-b3d9-afef30955554",
   "metadata": {},
   "outputs": [],
   "source": [
    "DATASETS_ROOT_DIR = '/home/guilherme/data1/Dropbox/Link to Desktop/Doutorado/Datasets/'"
   ]
  },
  {
   "cell_type": "markdown",
   "id": "93c422e4-db69-44a0-af1f-0595755b0f85",
   "metadata": {},
   "source": [
    "# Utility Functions"
   ]
  },
  {
   "cell_type": "code",
   "execution_count": 3,
   "id": "c5a8f7b6-aa9f-44eb-850e-1ad5f686c0e7",
   "metadata": {},
   "outputs": [],
   "source": [
    "def format_mnist_split(ds):\n",
    "    df = tfds.as_dataframe(ds)\n",
    "    df_labels = pd.get_dummies(df.label)\n",
    "    df = pd.concat([df, df_labels], axis=1)\n",
    "    #df = df.drop(columns=['label'], inplace=False)\n",
    "    df = df.rename(columns={x: f'n_{x}' for x in df.columns if type(x) is int}, inplace=False)\n",
    "    df['img_name'] = [f'image_{x}' for x in range(ds.cardinality())]\n",
    "    return df\n",
    "\n",
    "\n",
    "def record_dataset(df, ds_split, split_name, ds_name):\n",
    "    for idx,row in df.iterrows():\n",
    "        dir_path = os.path.join(f'{DATASETS_ROOT_DIR}', ds_name, split_name)\n",
    "        img_path = os.path.join(dir_path, row.img_name + '.jpg')\n",
    "        cv2.imwrite(img_path, row.image)\n",
    "        df.loc[idx, 'img_name'] = img_path\n",
    "    \n",
    "    split_labels_df = df[['img_name']+[f'n_{x}' for x in range(10)]]\n",
    "    labels_file_path = os.path.join(DATASETS_ROOT_DIR, ds_name, split_name + '_data.csv')\n",
    "    split_labels_df.to_csv(labels_file_path, index=False)\n",
    "                    "
   ]
  },
  {
   "cell_type": "markdown",
   "id": "c229c6f2-117c-43b3-8f7a-e8a3b0f67060",
   "metadata": {},
   "source": [
    "# MNIST Dataset"
   ]
  },
  {
   "cell_type": "code",
   "execution_count": 4,
   "id": "544c016c-be21-410c-bb46-22c9be57a6e8",
   "metadata": {
    "collapsed": true,
    "jupyter": {
     "outputs_hidden": true
    },
    "tags": []
   },
   "outputs": [
    {
     "name": "stderr",
     "output_type": "stream",
     "text": [
      "2021-11-18 22:23:59.344270: I tensorflow/stream_executor/platform/default/dso_loader.cc:53] Successfully opened dynamic library libcuda.so.1\n",
      "2021-11-18 22:23:59.417397: I tensorflow/stream_executor/cuda/cuda_gpu_executor.cc:937] successful NUMA node read from SysFS had negative value (-1), but there must be at least one NUMA node, so returning NUMA node zero\n",
      "2021-11-18 22:23:59.418071: I tensorflow/core/common_runtime/gpu/gpu_device.cc:1733] Found device 0 with properties: \n",
      "pciBusID: 0000:06:00.0 name: GeForce RTX 2070 SUPER computeCapability: 7.5\n",
      "coreClock: 1.785GHz coreCount: 40 deviceMemorySize: 7.79GiB deviceMemoryBandwidth: 417.29GiB/s\n",
      "2021-11-18 22:23:59.418109: I tensorflow/stream_executor/platform/default/dso_loader.cc:53] Successfully opened dynamic library libcudart.so.11.0\n",
      "2021-11-18 22:23:59.421302: I tensorflow/stream_executor/platform/default/dso_loader.cc:53] Successfully opened dynamic library libcublas.so.11\n",
      "2021-11-18 22:23:59.421369: I tensorflow/stream_executor/platform/default/dso_loader.cc:53] Successfully opened dynamic library libcublasLt.so.11\n",
      "2021-11-18 22:23:59.422508: I tensorflow/stream_executor/platform/default/dso_loader.cc:53] Successfully opened dynamic library libcufft.so.10\n",
      "2021-11-18 22:23:59.422770: I tensorflow/stream_executor/platform/default/dso_loader.cc:53] Successfully opened dynamic library libcurand.so.10\n",
      "2021-11-18 22:23:59.423685: I tensorflow/stream_executor/platform/default/dso_loader.cc:53] Successfully opened dynamic library libcusolver.so.11\n",
      "2021-11-18 22:23:59.424450: I tensorflow/stream_executor/platform/default/dso_loader.cc:53] Successfully opened dynamic library libcusparse.so.11\n",
      "2021-11-18 22:23:59.424610: I tensorflow/stream_executor/platform/default/dso_loader.cc:53] Successfully opened dynamic library libcudnn.so.8\n",
      "2021-11-18 22:23:59.424770: I tensorflow/stream_executor/cuda/cuda_gpu_executor.cc:937] successful NUMA node read from SysFS had negative value (-1), but there must be at least one NUMA node, so returning NUMA node zero\n",
      "2021-11-18 22:23:59.425422: I tensorflow/stream_executor/cuda/cuda_gpu_executor.cc:937] successful NUMA node read from SysFS had negative value (-1), but there must be at least one NUMA node, so returning NUMA node zero\n",
      "2021-11-18 22:23:59.425969: I tensorflow/core/common_runtime/gpu/gpu_device.cc:1871] Adding visible gpu devices: 0\n",
      "2021-11-18 22:23:59.426415: I tensorflow/core/platform/cpu_feature_guard.cc:142] This TensorFlow binary is optimized with oneAPI Deep Neural Network Library (oneDNN) to use the following CPU instructions in performance-critical operations:  AVX2 FMA\n",
      "To enable them in other operations, rebuild TensorFlow with the appropriate compiler flags.\n",
      "2021-11-18 22:23:59.427096: I tensorflow/stream_executor/cuda/cuda_gpu_executor.cc:937] successful NUMA node read from SysFS had negative value (-1), but there must be at least one NUMA node, so returning NUMA node zero\n",
      "2021-11-18 22:23:59.427439: I tensorflow/core/common_runtime/gpu/gpu_device.cc:1733] Found device 0 with properties: \n",
      "pciBusID: 0000:06:00.0 name: GeForce RTX 2070 SUPER computeCapability: 7.5\n",
      "coreClock: 1.785GHz coreCount: 40 deviceMemorySize: 7.79GiB deviceMemoryBandwidth: 417.29GiB/s\n",
      "2021-11-18 22:23:59.427495: I tensorflow/stream_executor/cuda/cuda_gpu_executor.cc:937] successful NUMA node read from SysFS had negative value (-1), but there must be at least one NUMA node, so returning NUMA node zero\n",
      "2021-11-18 22:23:59.427858: I tensorflow/stream_executor/cuda/cuda_gpu_executor.cc:937] successful NUMA node read from SysFS had negative value (-1), but there must be at least one NUMA node, so returning NUMA node zero\n",
      "2021-11-18 22:23:59.428176: I tensorflow/core/common_runtime/gpu/gpu_device.cc:1871] Adding visible gpu devices: 0\n",
      "2021-11-18 22:23:59.428202: I tensorflow/stream_executor/platform/default/dso_loader.cc:53] Successfully opened dynamic library libcudart.so.11.0\n",
      "2021-11-18 22:23:59.799629: I tensorflow/core/common_runtime/gpu/gpu_device.cc:1258] Device interconnect StreamExecutor with strength 1 edge matrix:\n",
      "2021-11-18 22:23:59.799652: I tensorflow/core/common_runtime/gpu/gpu_device.cc:1264]      0 \n",
      "2021-11-18 22:23:59.799657: I tensorflow/core/common_runtime/gpu/gpu_device.cc:1277] 0:   N \n",
      "2021-11-18 22:23:59.799890: I tensorflow/stream_executor/cuda/cuda_gpu_executor.cc:937] successful NUMA node read from SysFS had negative value (-1), but there must be at least one NUMA node, so returning NUMA node zero\n",
      "2021-11-18 22:23:59.800269: I tensorflow/stream_executor/cuda/cuda_gpu_executor.cc:937] successful NUMA node read from SysFS had negative value (-1), but there must be at least one NUMA node, so returning NUMA node zero\n",
      "2021-11-18 22:23:59.800617: I tensorflow/stream_executor/cuda/cuda_gpu_executor.cc:937] successful NUMA node read from SysFS had negative value (-1), but there must be at least one NUMA node, so returning NUMA node zero\n",
      "2021-11-18 22:23:59.800937: I tensorflow/core/common_runtime/gpu/gpu_device.cc:1418] Created TensorFlow device (/job:localhost/replica:0/task:0/device:GPU:0 with 5818 MB memory) -> physical GPU (device: 0, name: GeForce RTX 2070 SUPER, pci bus id: 0000:06:00.0, compute capability: 7.5)\n",
      "2021-11-18 22:23:59.863328: I tensorflow/compiler/mlir/mlir_graph_optimization_pass.cc:176] None of the MLIR Optimization Passes are enabled (registered 2)\n",
      "2021-11-18 22:23:59.881975: I tensorflow/core/platform/profile_utils/cpu_utils.cc:114] CPU Frequency: 3600075000 Hz\n"
     ]
    },
    {
     "data": {
      "text/html": [
       "<div>\n",
       "<style scoped>\n",
       "    .dataframe tbody tr th:only-of-type {\n",
       "        vertical-align: middle;\n",
       "    }\n",
       "\n",
       "    .dataframe tbody tr th {\n",
       "        vertical-align: top;\n",
       "    }\n",
       "\n",
       "    .dataframe thead th {\n",
       "        text-align: right;\n",
       "    }\n",
       "</style>\n",
       "<table border=\"1\" class=\"dataframe\">\n",
       "  <thead>\n",
       "    <tr style=\"text-align: right;\">\n",
       "      <th></th>\n",
       "      <th>image</th>\n",
       "      <th>label</th>\n",
       "      <th>n_0</th>\n",
       "      <th>n_1</th>\n",
       "      <th>n_2</th>\n",
       "      <th>n_3</th>\n",
       "      <th>n_4</th>\n",
       "      <th>n_5</th>\n",
       "      <th>n_6</th>\n",
       "      <th>n_7</th>\n",
       "      <th>n_8</th>\n",
       "      <th>n_9</th>\n",
       "      <th>img_name</th>\n",
       "    </tr>\n",
       "  </thead>\n",
       "  <tbody>\n",
       "    <tr>\n",
       "      <th>0</th>\n",
       "      <td>[[[0], [0], [0], [0], [0], [0], [0], [0], [0],...</td>\n",
       "      <td>4</td>\n",
       "      <td>0</td>\n",
       "      <td>0</td>\n",
       "      <td>0</td>\n",
       "      <td>0</td>\n",
       "      <td>1</td>\n",
       "      <td>0</td>\n",
       "      <td>0</td>\n",
       "      <td>0</td>\n",
       "      <td>0</td>\n",
       "      <td>0</td>\n",
       "      <td>image_0</td>\n",
       "    </tr>\n",
       "    <tr>\n",
       "      <th>1</th>\n",
       "      <td>[[[0], [0], [0], [0], [0], [0], [0], [0], [0],...</td>\n",
       "      <td>0</td>\n",
       "      <td>1</td>\n",
       "      <td>0</td>\n",
       "      <td>0</td>\n",
       "      <td>0</td>\n",
       "      <td>0</td>\n",
       "      <td>0</td>\n",
       "      <td>0</td>\n",
       "      <td>0</td>\n",
       "      <td>0</td>\n",
       "      <td>0</td>\n",
       "      <td>image_1</td>\n",
       "    </tr>\n",
       "    <tr>\n",
       "      <th>2</th>\n",
       "      <td>[[[0], [0], [0], [0], [0], [0], [0], [0], [0],...</td>\n",
       "      <td>1</td>\n",
       "      <td>0</td>\n",
       "      <td>1</td>\n",
       "      <td>0</td>\n",
       "      <td>0</td>\n",
       "      <td>0</td>\n",
       "      <td>0</td>\n",
       "      <td>0</td>\n",
       "      <td>0</td>\n",
       "      <td>0</td>\n",
       "      <td>0</td>\n",
       "      <td>image_2</td>\n",
       "    </tr>\n",
       "    <tr>\n",
       "      <th>3</th>\n",
       "      <td>[[[0], [0], [0], [0], [0], [0], [0], [0], [0],...</td>\n",
       "      <td>7</td>\n",
       "      <td>0</td>\n",
       "      <td>0</td>\n",
       "      <td>0</td>\n",
       "      <td>0</td>\n",
       "      <td>0</td>\n",
       "      <td>0</td>\n",
       "      <td>0</td>\n",
       "      <td>1</td>\n",
       "      <td>0</td>\n",
       "      <td>0</td>\n",
       "      <td>image_3</td>\n",
       "    </tr>\n",
       "    <tr>\n",
       "      <th>4</th>\n",
       "      <td>[[[0], [0], [0], [0], [0], [0], [0], [0], [0],...</td>\n",
       "      <td>8</td>\n",
       "      <td>0</td>\n",
       "      <td>0</td>\n",
       "      <td>0</td>\n",
       "      <td>0</td>\n",
       "      <td>0</td>\n",
       "      <td>0</td>\n",
       "      <td>0</td>\n",
       "      <td>0</td>\n",
       "      <td>1</td>\n",
       "      <td>0</td>\n",
       "      <td>image_4</td>\n",
       "    </tr>\n",
       "  </tbody>\n",
       "</table>\n",
       "</div>"
      ],
      "text/plain": [
       "                                               image  label  n_0  n_1  n_2  \\\n",
       "0  [[[0], [0], [0], [0], [0], [0], [0], [0], [0],...      4    0    0    0   \n",
       "1  [[[0], [0], [0], [0], [0], [0], [0], [0], [0],...      0    1    0    0   \n",
       "2  [[[0], [0], [0], [0], [0], [0], [0], [0], [0],...      1    0    1    0   \n",
       "3  [[[0], [0], [0], [0], [0], [0], [0], [0], [0],...      7    0    0    0   \n",
       "4  [[[0], [0], [0], [0], [0], [0], [0], [0], [0],...      8    0    0    0   \n",
       "\n",
       "   n_3  n_4  n_5  n_6  n_7  n_8  n_9 img_name  \n",
       "0    0    1    0    0    0    0    0  image_0  \n",
       "1    0    0    0    0    0    0    0  image_1  \n",
       "2    0    0    0    0    0    0    0  image_2  \n",
       "3    0    0    0    0    1    0    0  image_3  \n",
       "4    0    0    0    0    0    1    0  image_4  "
      ]
     },
     "execution_count": 4,
     "metadata": {},
     "output_type": "execute_result"
    }
   ],
   "source": [
    "[ds_train, ds_valid, ds_test] = tfds.load('mnist', split=['train[:80%]','train[80%:]','test'], shuffle_files=True)\n",
    "\n",
    "df_train = format_mnist_split(ds_train)\n",
    "df_valid = format_mnist_split(ds_valid)\n",
    "df_test = format_mnist_split(ds_test)\n",
    "  \n",
    "df_train.head()"
   ]
  },
  {
   "cell_type": "markdown",
   "id": "01f42daa-cc02-495f-82b0-59f1e2f01040",
   "metadata": {},
   "source": [
    "## Record Images Files"
   ]
  },
  {
   "cell_type": "code",
   "execution_count": 5,
   "id": "92e385e8-9437-4876-a0a1-23de46ac06eb",
   "metadata": {},
   "outputs": [],
   "source": [
    "record_dataset(df_train, ds_train, 'train', 'mnist')\n",
    "record_dataset(df_valid, ds_valid, 'valid', 'mnist')\n",
    "record_dataset(df_test, ds_test, 'test', 'mnist')"
   ]
  }
 ],
 "metadata": {
  "kernelspec": {
   "display_name": "Python 3 (ipykernel)",
   "language": "python",
   "name": "python3"
  },
  "language_info": {
   "codemirror_mode": {
    "name": "ipython",
    "version": 3
   },
   "file_extension": ".py",
   "mimetype": "text/x-python",
   "name": "python",
   "nbconvert_exporter": "python",
   "pygments_lexer": "ipython3",
   "version": "3.8.0"
  }
 },
 "nbformat": 4,
 "nbformat_minor": 5
}

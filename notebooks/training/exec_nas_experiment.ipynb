{
 "cells": [
  {
   "cell_type": "markdown",
   "metadata": {},
   "source": [
    "# Import Libraries"
   ]
  },
  {
   "cell_type": "code",
   "execution_count": 1,
   "metadata": {},
   "outputs": [],
   "source": [
    "%load_ext autoreload\n",
    "%autoreload 2"
   ]
  },
  {
   "cell_type": "code",
   "execution_count": 2,
   "metadata": {},
   "outputs": [
    {
     "name": "stdout",
     "output_type": "stream",
     "text": [
      " ==> Restrict GPU memory growth: True\n"
     ]
    }
   ],
   "source": [
    "import os\n",
    "# disable tensorflow log level infos\n",
    "os.environ['TF_CPP_MIN_LOG_LEVEL'] = '2' # show only errors\n",
    "\n",
    "import sys\n",
    "import pandas as pd\n",
    "\n",
    "if '../../../../notebooks/' not in sys.path:\n",
    "    sys.path.append('../../../../notebooks/')\n",
    "if 'src' not in sys.path:\n",
    "    sys.path.insert(0, 'src')\n",
    "\n",
    "import utils.constants as cts\n",
    "\n",
    "from data_loaders.data_loader import DLName\n",
    "from gt_loaders.gt_names import GTName\n",
    "from exp_runner import ExperimentRunner\n",
    "from base.model_evaluator import DataSource, DataPredSelection\n",
    "from base.base_models import BaseModel\n",
    "from base.optimizers import Optimizer\n",
    "from base.model_creator import MTLApproach, NAS_MTLApproach"
   ]
  },
  {
   "cell_type": "markdown",
   "metadata": {},
   "source": [
    "# Start Network runner"
   ]
  },
  {
   "cell_type": "code",
   "execution_count": 3,
   "metadata": {
    "tags": []
   },
   "outputs": [
    {
     "name": "stdout",
     "output_type": "stream",
     "text": [
      "-------------------- Init ExperimentRunner -------------------\n",
      "---------------------------\n",
      "Parent Process ID: 98268\n",
      "Process ID: 120949\n",
      "---------------------------\n",
      "-----\n",
      "Use Neptune:  True\n",
      "-----\n",
      "-------------------\n",
      "Args: \n",
      "{'exp_params': {'description': 'First train with neural architecture search',\n",
      "                'name': 'neural_arch_search',\n",
      "                'src_files': ['src/**/*.py'],\n",
      "                'tags': ['ground truths', 'nas', 'nas_approach_1']},\n",
      " 'nas_params': {'max_blocks_per_branch': 5, 'n_epochs': 2, 'n_trials': 3},\n",
      " 'net_train_params': {'base_model': <BaseModel.VGG16: {'target_size': (224, 224), 'prep_function': <function preprocess_input at 0x7f399f6773a0>}>,\n",
      "                      'batch_size': 32,\n",
      "                      'dropout': 0.3,\n",
      "                      'early_stopping': 10,\n",
      "                      'learning_rate': 0.001,\n",
      "                      'n_epochs': 10,\n",
      "                      'optimizer': <Optimizer.ADAMAX: 'Adamax'>},\n",
      " 'properties': {'aligned': True,\n",
      "                'approach': <NAS_MTLApproach.APPROACH_1: 'approach_1'>,\n",
      "                'balance_input_data': False,\n",
      "                'gt_names': {'test': [],\n",
      "                             'train_validation': [],\n",
      "                             'train_validation_test': [<GTName.FVC: 'fvc'>]},\n",
      "                'orig_model_experiment_id': '',\n",
      "                'reqs': [<ICAO_REQ.MOUTH: 'mouth'>,\n",
      "                         <ICAO_REQ.ROTATION: 'rotation'>,\n",
      "                         <ICAO_REQ.L_AWAY: 'l_away'>,\n",
      "                         <ICAO_REQ.EYES_CLOSED: 'eyes_closed'>,\n",
      "                         <ICAO_REQ.CLOSE: 'close'>,\n",
      "                         <ICAO_REQ.HAT: 'hat'>,\n",
      "                         <ICAO_REQ.DARK_GLASSES: 'dark_glasses'>,\n",
      "                         <ICAO_REQ.FRAMES_HEAVY: 'frames_heavy'>,\n",
      "                         <ICAO_REQ.FRAME_EYES: 'frame_eyes'>,\n",
      "                         <ICAO_REQ.FLASH_LENSES: 'flash_lenses'>,\n",
      "                         <ICAO_REQ.VEIL: 'veil'>,\n",
      "                         <ICAO_REQ.REFLECTION: 'reflection'>,\n",
      "                         <ICAO_REQ.LIGHT: 'light'>,\n",
      "                         <ICAO_REQ.SHADOW_FACE: 'sh_face'>,\n",
      "                         <ICAO_REQ.SHADOW_HEAD: 'sh_head'>,\n",
      "                         <ICAO_REQ.BLURRED: 'blurred'>,\n",
      "                         <ICAO_REQ.INK_MARK: 'ink_mark'>,\n",
      "                         <ICAO_REQ.SKIN_TONE: 'skin_tone'>,\n",
      "                         <ICAO_REQ.WASHED_OUT: 'washed_out'>,\n",
      "                         <ICAO_REQ.PIXELATION: 'pixelation'>,\n",
      "                         <ICAO_REQ.HAIR_EYES: 'hair_eyes'>,\n",
      "                         <ICAO_REQ.BACKGROUND: 'background'>,\n",
      "                         <ICAO_REQ.RED_EYES: 'red_eyes'>],\n",
      "                'sample_prop': 1.0,\n",
      "                'sample_training_data': False,\n",
      "                'save_trained_model': False,\n",
      "                'train_model': True,\n",
      "                'use_gt_data': True},\n",
      " 'use_neptune': True}\n",
      "-------------------\n",
      "----\n",
      "Base Model Name:  BaseModel.VGG16\n",
      "----\n",
      "-------------------- start neptune -------------------\n",
      "Starting Neptune\n",
      "https://ui.neptune.ai/guilhermemg/icao-nets-training-2/e/ICAO-258\n",
      "----\n",
      "MTL Model: True\n",
      "Approach: NAS_MTLApproach.APPROACH_1\n",
      "----\n",
      "----\n",
      "Checking model existence locally...\n",
      "Training a new model! Not checking model existence\n",
      "----\n",
      "------------------------------\n",
      "Checking GPU availability\n",
      " ..GPU is available!\n",
      "------------------------------\n"
     ]
    }
   ],
   "source": [
    "kwargs = { \n",
    "    'use_neptune': True,\n",
    "    'exp_params' : {\n",
    "        'name': 'neural_arch_search',\n",
    "        'description': 'First train with neural architecture search',\n",
    "        'tags': ['ground truths', 'nas', 'nas_approach_1'],\n",
    "        'src_files': [\"src/**/*.py\"]\n",
    "    },\n",
    "    'properties': {\n",
    "        'approach': NAS_MTLApproach.APPROACH_1,\n",
    "        'reqs': list(cts.ICAO_REQ),\n",
    "        'aligned': True,\n",
    "        'use_gt_data': True,\n",
    "        'gt_names': {\n",
    "            'train_validation': [],\n",
    "            'test': [],\n",
    "            'train_validation_test': [GTName.FVC]\n",
    "        },\n",
    "        'balance_input_data': False,\n",
    "        'train_model': True,\n",
    "        'save_trained_model': False,\n",
    "        'orig_model_experiment_id': '',\n",
    "        'sample_training_data': False,\n",
    "        'sample_prop': 1.0\n",
    "    },\n",
    "    'net_train_params': {\n",
    "        'base_model': BaseModel.VGG16,\n",
    "        'batch_size': 32,\n",
    "        'n_epochs': 10,\n",
    "        'early_stopping': 10,\n",
    "        'learning_rate': 1e-3,\n",
    "        'optimizer': Optimizer.ADAMAX,\n",
    "        'dropout': 0.3\n",
    "    },\n",
    "    'nas_params': {\n",
    "        'max_blocks_per_branch': 5,\n",
    "        'n_epochs': 2,\n",
    "        'n_trials': 3\n",
    "    }\n",
    "}\n",
    "\n",
    "runner = ExperimentRunner(**kwargs)"
   ]
  },
  {
   "cell_type": "markdown",
   "metadata": {},
   "source": [
    "# Load Data"
   ]
  },
  {
   "cell_type": "code",
   "execution_count": 4,
   "metadata": {
    "tags": []
   },
   "outputs": [
    {
     "name": "stdout",
     "output_type": "stream",
     "text": [
      "-------------------- load training data -------------------\n",
      "Loading data\n",
      "Loading GT FVC - TRAIN split...\n",
      "..Ignoring 0 empty label values\n",
      "Input data.shape: (4926, 26)\n",
      "Loading GT FVC - VALIDATION split...\n",
      "..Ignoring 0 empty label values\n",
      "Input data.shape: (547, 26)\n",
      "Loading GT FVC - TEST split...\n",
      "..Ignoring 0 empty label values\n",
      "Input data.shape: (288, 26)\n",
      "Data loaded\n"
     ]
    }
   ],
   "source": [
    "runner.load_training_data()"
   ]
  },
  {
   "cell_type": "markdown",
   "metadata": {},
   "source": [
    "# Producing Fake Data"
   ]
  },
  {
   "cell_type": "code",
   "execution_count": 5,
   "metadata": {},
   "outputs": [
    {
     "name": "stdout",
     "output_type": "stream",
     "text": [
      "-------------------- producing fake data for experimental purposes -------------------\n",
      "fake_train_data.shape: (500, 26)\n",
      "fake_validation_data_df.shape: (100, 26)\n",
      "fake_test_data_df.shape: (50, 26)\n"
     ]
    }
   ],
   "source": [
    "runner.produce_fake_data()"
   ]
  },
  {
   "cell_type": "markdown",
   "metadata": {},
   "source": [
    "# Data Generators"
   ]
  },
  {
   "cell_type": "code",
   "execution_count": 6,
   "metadata": {
    "tags": []
   },
   "outputs": [
    {
     "name": "stdout",
     "output_type": "stream",
     "text": [
      "-------------------- setup data generators -------------------\n",
      "Starting data generators\n",
      "Found 500 validated image filenames.\n",
      "Found 100 validated image filenames.\n",
      "Found 50 validated image filenames.\n",
      "TOTAL: 650\n",
      "\n",
      "Logging class indices\n",
      " .. MTL model not logging class indices!\n",
      "\n",
      "Logging class labels\n",
      " COMPLIANT label: 1\n",
      " NON_COMPLIANT label: 0\n",
      " DUMMY label: -1\n",
      " DUMMY_CLS label: 2\n",
      " NO_ANSWER label: -99\n"
     ]
    }
   ],
   "source": [
    "runner.setup_data_generators()"
   ]
  },
  {
   "cell_type": "markdown",
   "metadata": {},
   "source": [
    "# Neural Architecture Search"
   ]
  },
  {
   "cell_type": "code",
   "execution_count": 7,
   "metadata": {
    "tags": []
   },
   "outputs": [
    {
     "name": "stdout",
     "output_type": "stream",
     "text": [
      "-------------------- run neural architecture search -------------------\n",
      "++++++++++++++++++++ STARTING NEW TRAIN ++++++++++++++++++++\n",
      " ----- Training 1 | Config: {'n_denses_0': 3, 'n_denses_1': 2, 'n_denses_2': 2, 'n_denses_3': 1} --------\n",
      "Creating model...\n",
      "Model created\n",
      "Training VGG16 network\n",
      " .. Not fine tuning base model...\n",
      "  .. Total params: 15,572,654\n",
      "  .. Trainable params: 857,966\n",
      "  .. Non-trainable params: 14,714,688\n",
      "Epoch 1/2\n"
     ]
    },
    {
     "name": "stderr",
     "output_type": "stream",
     "text": [
      "Warning: string series 'monitoring/stdout' value was longer than 1000 characters and was truncated. This warning is printed only once per series.\n"
     ]
    },
    {
     "name": "stdout",
     "output_type": "stream",
     "text": [
      "15/15 [==============================] - 23s 707ms/step - loss: 2.7992 - background_loss: 0.7738 - close_loss: 0.9565 - ink_mark_loss: 1.0810 - pixelation_loss: 1.1603 - washed_out_loss: 0.7159 - blurred_loss: 0.8378 - sh_head_loss: 1.0357 - mouth_loss: 0.9537 - veil_loss: 0.8129 - red_eyes_loss: 1.2218 - flash_lenses_loss: 1.1147 - dark_glasses_loss: 1.2839 - l_away_loss: 0.9203 - frame_eyes_loss: 1.3481 - hair_eyes_loss: 1.1097 - eyes_closed_loss: 1.3436 - frames_heavy_loss: 1.0337 - sh_face_loss: 1.3349 - skin_tone_loss: 2.5032 - light_loss: 1.1068 - hat_loss: 1.4037 - rotation_loss: 2.7569 - reflection_loss: 1.1829 - background_accuracy: 0.5128 - close_accuracy: 0.5000 - ink_mark_accuracy: 0.4765 - pixelation_accuracy: 0.4872 - washed_out_accuracy: 0.5427 - blurred_accuracy: 0.5064 - sh_head_accuracy: 0.5278 - mouth_accuracy: 0.4936 - veil_accuracy: 0.4957 - red_eyes_accuracy: 0.5299 - flash_lenses_accuracy: 0.5299 - dark_glasses_accuracy: 0.5491 - l_away_accuracy: 0.4615 - frame_eyes_accuracy: 0.4915 - hair_eyes_accuracy: 0.4359 - eyes_closed_accuracy: 0.4722 - frames_heavy_accuracy: 0.4957 - sh_face_accuracy: 0.4936 - skin_tone_accuracy: 0.5043 - light_accuracy: 0.5299 - hat_accuracy: 0.5021 - rotation_accuracy: 0.5000 - reflection_accuracy: 0.5192 - val_loss: 1.5938 - val_background_loss: 0.6932 - val_close_loss: 0.6942 - val_ink_mark_loss: 0.6931 - val_pixelation_loss: 0.6928 - val_washed_out_loss: 0.6917 - val_blurred_loss: 0.6937 - val_sh_head_loss: 0.6932 - val_mouth_loss: 0.6928 - val_veil_loss: 0.6931 - val_red_eyes_loss: 0.6930 - val_flash_lenses_loss: 0.6918 - val_dark_glasses_loss: 0.6928 - val_l_away_loss: 0.6911 - val_frame_eyes_loss: 0.6926 - val_hair_eyes_loss: 0.6923 - val_eyes_closed_loss: 0.6931 - val_frames_heavy_loss: 0.6933 - val_sh_face_loss: 0.6909 - val_skin_tone_loss: 0.6932 - val_light_loss: 0.6967 - val_hat_loss: 0.6925 - val_rotation_loss: 0.6931 - val_reflection_loss: 0.6934 - val_background_accuracy: 0.4896 - val_close_accuracy: 0.4479 - val_ink_mark_accuracy: 0.5000 - val_pixelation_accuracy: 0.5312 - val_washed_out_accuracy: 0.6042 - val_blurred_accuracy: 0.4688 - val_sh_head_accuracy: 0.5104 - val_mouth_accuracy: 0.5104 - val_veil_accuracy: 0.4479 - val_red_eyes_accuracy: 0.5729 - val_flash_lenses_accuracy: 0.5417 - val_dark_glasses_accuracy: 0.5104 - val_l_away_accuracy: 0.5729 - val_frame_eyes_accuracy: 0.5312 - val_hair_eyes_accuracy: 0.5104 - val_eyes_closed_accuracy: 0.5208 - val_frames_heavy_accuracy: 0.5312 - val_sh_face_accuracy: 0.5833 - val_skin_tone_accuracy: 0.4583 - val_light_accuracy: 0.4583 - val_hat_accuracy: 0.5208 - val_rotation_accuracy: 0.5312 - val_reflection_accuracy: 0.5000\n",
      "\n",
      "Epoch 00001: val_loss improved from inf to 1.59376, saving model to training_ckpt/best_model.hdf5\n",
      "Epoch 2/2\n",
      "15/15 [==============================] - 4s 278ms/step - loss: 1.5949 - background_loss: 0.6927 - close_loss: 0.6926 - ink_mark_loss: 0.6930 - pixelation_loss: 0.6937 - washed_out_loss: 0.6939 - blurred_loss: 0.6932 - sh_head_loss: 0.6934 - mouth_loss: 0.6928 - veil_loss: 0.6936 - red_eyes_loss: 0.6938 - flash_lenses_loss: 0.6931 - dark_glasses_loss: 0.6943 - l_away_loss: 0.6944 - frame_eyes_loss: 0.6929 - hair_eyes_loss: 0.6936 - eyes_closed_loss: 0.6935 - frames_heavy_loss: 0.6948 - sh_face_loss: 0.6931 - skin_tone_loss: 0.6933 - light_loss: 0.6940 - hat_loss: 0.6934 - rotation_loss: 0.6923 - reflection_loss: 0.6934 - background_accuracy: 0.5214 - close_accuracy: 0.4957 - ink_mark_accuracy: 0.5107 - pixelation_accuracy: 0.5107 - washed_out_accuracy: 0.4338 - blurred_accuracy: 0.5043 - sh_head_accuracy: 0.4957 - mouth_accuracy: 0.5085 - veil_accuracy: 0.5171 - red_eyes_accuracy: 0.5000 - flash_lenses_accuracy: 0.5171 - dark_glasses_accuracy: 0.4850 - l_away_accuracy: 0.5171 - frame_eyes_accuracy: 0.5064 - hair_eyes_accuracy: 0.5128 - eyes_closed_accuracy: 0.4979 - frames_heavy_accuracy: 0.4979 - sh_face_accuracy: 0.5235 - skin_tone_accuracy: 0.4936 - light_accuracy: 0.4786 - hat_accuracy: 0.4850 - rotation_accuracy: 0.5214 - reflection_accuracy: 0.4850 - val_loss: 1.5940 - val_background_loss: 0.6928 - val_close_loss: 0.6945 - val_ink_mark_loss: 0.6932 - val_pixelation_loss: 0.6931 - val_washed_out_loss: 0.6934 - val_blurred_loss: 0.6934 - val_sh_head_loss: 0.6930 - val_mouth_loss: 0.6930 - val_veil_loss: 0.6926 - val_red_eyes_loss: 0.6929 - val_flash_lenses_loss: 0.6921 - val_dark_glasses_loss: 0.6928 - val_l_away_loss: 0.6935 - val_frame_eyes_loss: 0.6923 - val_hair_eyes_loss: 0.6930 - val_eyes_closed_loss: 0.6938 - val_frames_heavy_loss: 0.6935 - val_sh_face_loss: 0.6917 - val_skin_tone_loss: 0.6932 - val_light_loss: 0.6926 - val_hat_loss: 0.6926 - val_rotation_loss: 0.6942 - val_reflection_loss: 0.6925 - val_background_accuracy: 0.5208 - val_close_accuracy: 0.4583 - val_ink_mark_accuracy: 0.4479 - val_pixelation_accuracy: 0.5104 - val_washed_out_accuracy: 0.4062 - val_blurred_accuracy: 0.4896 - val_sh_head_accuracy: 0.5104 - val_mouth_accuracy: 0.5104 - val_veil_accuracy: 0.5625 - val_red_eyes_accuracy: 0.5312 - val_flash_lenses_accuracy: 0.5417 - val_dark_glasses_accuracy: 0.5104 - val_l_away_accuracy: 0.4271 - val_frame_eyes_accuracy: 0.5417 - val_hair_eyes_accuracy: 0.5104 - val_eyes_closed_accuracy: 0.4896 - val_frames_heavy_accuracy: 0.4583 - val_sh_face_accuracy: 0.5625 - val_skin_tone_accuracy: 0.4792 - val_light_accuracy: 0.5417 - val_hat_accuracy: 0.5208 - val_rotation_accuracy: 0.4479 - val_reflection_accuracy: 0.5312\n",
      "\n",
      "Epoch 00002: val_loss did not improve from 1.59376\n",
      "..Loading best model\n",
      "..Checkpoint weights loaded\n",
      "Testing Trained Model\n",
      "Predicting labels....\n",
      "4/4 [==============================] - 2s 353ms/step\n",
      "Prediction finished!\n",
      "--------------------FINISHING TRAIN--------------------\n",
      "++++++++++++++++++++ STARTING NEW TRAIN ++++++++++++++++++++\n",
      " ----- Training 2 | Config: {'n_denses_0': 3, 'n_denses_1': 2, 'n_denses_2': 4, 'n_denses_3': 1} --------\n",
      "Creating model...\n",
      "Model created\n",
      "Training VGG16 network\n",
      " .. Not fine tuning base model...\n",
      "  .. Total params: 15,639,214\n",
      "  .. Trainable params: 924,526\n",
      "  .. Non-trainable params: 14,714,688\n",
      "Epoch 1/2\n",
      "15/15 [==============================] - 10s 386ms/step - loss: 1.9420 - background_loss: 0.9082 - close_loss: 0.7752 - ink_mark_loss: 0.7798 - pixelation_loss: 0.7824 - washed_out_loss: 0.7865 - blurred_loss: 0.7470 - sh_head_loss: 0.7369 - mouth_loss: 0.8264 - veil_loss: 0.8301 - red_eyes_loss: 0.7894 - flash_lenses_loss: 0.7314 - dark_glasses_loss: 0.7554 - l_away_loss: 0.7349 - frame_eyes_loss: 0.8114 - hair_eyes_loss: 0.7270 - eyes_closed_loss: 0.7531 - frames_heavy_loss: 0.7355 - sh_face_loss: 1.0712 - skin_tone_loss: 0.9134 - light_loss: 1.2098 - hat_loss: 1.1133 - rotation_loss: 1.0558 - reflection_loss: 0.8459 - background_accuracy: 0.4979 - close_accuracy: 0.5321 - ink_mark_accuracy: 0.4722 - pixelation_accuracy: 0.5235 - washed_out_accuracy: 0.4701 - blurred_accuracy: 0.4936 - sh_head_accuracy: 0.5085 - mouth_accuracy: 0.5342 - veil_accuracy: 0.4850 - red_eyes_accuracy: 0.4402 - flash_lenses_accuracy: 0.4957 - dark_glasses_accuracy: 0.5192 - l_away_accuracy: 0.4658 - frame_eyes_accuracy: 0.4701 - hair_eyes_accuracy: 0.4893 - eyes_closed_accuracy: 0.5107 - frames_heavy_accuracy: 0.4829 - sh_face_accuracy: 0.5064 - skin_tone_accuracy: 0.4979 - light_accuracy: 0.4872 - hat_accuracy: 0.5000 - rotation_accuracy: 0.4679 - reflection_accuracy: 0.4872 - val_loss: 1.5958 - val_background_loss: 0.6939 - val_close_loss: 0.6887 - val_ink_mark_loss: 0.6935 - val_pixelation_loss: 0.6934 - val_washed_out_loss: 0.6931 - val_blurred_loss: 0.6940 - val_sh_head_loss: 0.6964 - val_mouth_loss: 0.6975 - val_veil_loss: 0.6955 - val_red_eyes_loss: 0.6962 - val_flash_lenses_loss: 0.6939 - val_dark_glasses_loss: 0.6940 - val_l_away_loss: 0.6935 - val_frame_eyes_loss: 0.6907 - val_hair_eyes_loss: 0.6933 - val_eyes_closed_loss: 0.6939 - val_frames_heavy_loss: 0.6924 - val_sh_face_loss: 0.6867 - val_skin_tone_loss: 0.6963 - val_light_loss: 0.7019 - val_hat_loss: 0.6976 - val_rotation_loss: 0.6914 - val_reflection_loss: 0.6903 - val_background_accuracy: 0.5208 - val_close_accuracy: 0.5417 - val_ink_mark_accuracy: 0.5000 - val_pixelation_accuracy: 0.4896 - val_washed_out_accuracy: 0.5312 - val_blurred_accuracy: 0.4896 - val_sh_head_accuracy: 0.4896 - val_mouth_accuracy: 0.4896 - val_veil_accuracy: 0.4375 - val_red_eyes_accuracy: 0.4688 - val_flash_lenses_accuracy: 0.4688 - val_dark_glasses_accuracy: 0.5104 - val_l_away_accuracy: 0.5312 - val_frame_eyes_accuracy: 0.5417 - val_hair_eyes_accuracy: 0.5104 - val_eyes_closed_accuracy: 0.4896 - val_frames_heavy_accuracy: 0.5625 - val_sh_face_accuracy: 0.5625 - val_skin_tone_accuracy: 0.4896 - val_light_accuracy: 0.4583 - val_hat_accuracy: 0.4792 - val_rotation_accuracy: 0.5521 - val_reflection_accuracy: 0.5312\n",
      "\n",
      "Epoch 00001: val_loss improved from inf to 1.59581, saving model to training_ckpt/best_model.hdf5\n",
      "Epoch 2/2\n",
      "15/15 [==============================] - 5s 285ms/step - loss: 1.5956 - background_loss: 0.6931 - close_loss: 0.6924 - ink_mark_loss: 0.6940 - pixelation_loss: 0.6925 - washed_out_loss: 0.6942 - blurred_loss: 0.6934 - sh_head_loss: 0.6927 - mouth_loss: 0.6948 - veil_loss: 0.6934 - red_eyes_loss: 0.6941 - flash_lenses_loss: 0.6933 - dark_glasses_loss: 0.6951 - l_away_loss: 0.6942 - frame_eyes_loss: 0.6927 - hair_eyes_loss: 0.6936 - eyes_closed_loss: 0.6929 - frames_heavy_loss: 0.6936 - sh_face_loss: 0.6936 - skin_tone_loss: 0.6978 - light_loss: 0.6922 - hat_loss: 0.6934 - rotation_loss: 0.6951 - reflection_loss: 0.6938 - background_accuracy: 0.5363 - close_accuracy: 0.5171 - ink_mark_accuracy: 0.4722 - pixelation_accuracy: 0.5171 - washed_out_accuracy: 0.4679 - blurred_accuracy: 0.5064 - sh_head_accuracy: 0.5021 - mouth_accuracy: 0.4850 - veil_accuracy: 0.4979 - red_eyes_accuracy: 0.4722 - flash_lenses_accuracy: 0.5021 - dark_glasses_accuracy: 0.4765 - l_away_accuracy: 0.4637 - frame_eyes_accuracy: 0.5150 - hair_eyes_accuracy: 0.5107 - eyes_closed_accuracy: 0.5256 - frames_heavy_accuracy: 0.4850 - sh_face_accuracy: 0.4979 - skin_tone_accuracy: 0.4765 - light_accuracy: 0.5342 - hat_accuracy: 0.4850 - rotation_accuracy: 0.4893 - reflection_accuracy: 0.5021 - val_loss: 1.5939 - val_background_loss: 0.6928 - val_close_loss: 0.6909 - val_ink_mark_loss: 0.6931 - val_pixelation_loss: 0.6928 - val_washed_out_loss: 0.6908 - val_blurred_loss: 0.6946 - val_sh_head_loss: 0.6938 - val_mouth_loss: 0.6947 - val_veil_loss: 0.6922 - val_red_eyes_loss: 0.6940 - val_flash_lenses_loss: 0.6937 - val_dark_glasses_loss: 0.6934 - val_l_away_loss: 0.6918 - val_frame_eyes_loss: 0.6907 - val_hair_eyes_loss: 0.6928 - val_eyes_closed_loss: 0.6939 - val_frames_heavy_loss: 0.6923 - val_sh_face_loss: 0.6927 - val_skin_tone_loss: 0.6936 - val_light_loss: 0.6962 - val_hat_loss: 0.6928 - val_rotation_loss: 0.6904 - val_reflection_loss: 0.6947 - val_background_accuracy: 0.5208 - val_close_accuracy: 0.5417 - val_ink_mark_accuracy: 0.4688 - val_pixelation_accuracy: 0.5312 - val_washed_out_accuracy: 0.5938 - val_blurred_accuracy: 0.4896 - val_sh_head_accuracy: 0.4896 - val_mouth_accuracy: 0.4896 - val_veil_accuracy: 0.5625 - val_red_eyes_accuracy: 0.4688 - val_flash_lenses_accuracy: 0.4583 - val_dark_glasses_accuracy: 0.5104 - val_l_away_accuracy: 0.5729 - val_frame_eyes_accuracy: 0.5417 - val_hair_eyes_accuracy: 0.5104 - val_eyes_closed_accuracy: 0.4896 - val_frames_heavy_accuracy: 0.5417 - val_sh_face_accuracy: 0.5625 - val_skin_tone_accuracy: 0.5000 - val_light_accuracy: 0.4583 - val_hat_accuracy: 0.5208 - val_rotation_accuracy: 0.5521 - val_reflection_accuracy: 0.4688\n",
      "\n",
      "Epoch 00002: val_loss improved from 1.59581 to 1.59386, saving model to training_ckpt/best_model.hdf5\n",
      "..Loading best model\n",
      "..Checkpoint weights loaded\n",
      "Testing Trained Model\n",
      "Predicting labels....\n",
      "4/4 [==============================] - 1s 67ms/step\n",
      "Prediction finished!\n",
      "--------------------FINISHING TRAIN--------------------\n",
      "++++++++++++++++++++ STARTING NEW TRAIN ++++++++++++++++++++\n",
      " ----- Training 3 | Config: {'n_denses_0': 2, 'n_denses_1': 5, 'n_denses_2': 3, 'n_denses_3': 5} --------\n",
      "Creating model...\n",
      "Model created\n",
      "Training VGG16 network\n",
      " .. Not fine tuning base model...\n",
      "  .. Total params: 15,701,614\n",
      "  .. Trainable params: 986,926\n",
      "  .. Non-trainable params: 14,714,688\n",
      "Epoch 1/2\n",
      "15/15 [==============================] - 11s 392ms/step - loss: 2.8533 - background_loss: 1.7465 - close_loss: 2.3981 - ink_mark_loss: 1.7206 - pixelation_loss: 1.8649 - washed_out_loss: 1.3762 - blurred_loss: 1.6587 - sh_head_loss: 0.9495 - mouth_loss: 0.7570 - veil_loss: 0.8127 - red_eyes_loss: 1.1423 - flash_lenses_loss: 0.8279 - dark_glasses_loss: 1.5869 - l_away_loss: 1.2736 - frame_eyes_loss: 1.1193 - hair_eyes_loss: 1.3192 - eyes_closed_loss: 0.9973 - frames_heavy_loss: 1.0519 - sh_face_loss: 0.7640 - skin_tone_loss: 0.8311 - light_loss: 0.9718 - hat_loss: 0.9191 - rotation_loss: 1.7095 - reflection_loss: 0.7350 - background_accuracy: 0.5214 - close_accuracy: 0.4701 - ink_mark_accuracy: 0.5256 - pixelation_accuracy: 0.5321 - washed_out_accuracy: 0.4744 - blurred_accuracy: 0.5021 - sh_head_accuracy: 0.5235 - mouth_accuracy: 0.4722 - veil_accuracy: 0.5235 - red_eyes_accuracy: 0.5128 - flash_lenses_accuracy: 0.4850 - dark_glasses_accuracy: 0.4594 - l_away_accuracy: 0.5043 - frame_eyes_accuracy: 0.5043 - hair_eyes_accuracy: 0.5235 - eyes_closed_accuracy: 0.5192 - frames_heavy_accuracy: 0.4829 - sh_face_accuracy: 0.4829 - skin_tone_accuracy: 0.4893 - light_accuracy: 0.4744 - hat_accuracy: 0.5150 - rotation_accuracy: 0.4979 - reflection_accuracy: 0.5235 - val_loss: 1.5949 - val_background_loss: 0.6927 - val_close_loss: 0.6922 - val_ink_mark_loss: 0.6932 - val_pixelation_loss: 0.6957 - val_washed_out_loss: 0.6973 - val_blurred_loss: 0.6921 - val_sh_head_loss: 0.6936 - val_mouth_loss: 0.6929 - val_veil_loss: 0.6952 - val_red_eyes_loss: 0.6915 - val_flash_lenses_loss: 0.6935 - val_dark_glasses_loss: 0.6930 - val_l_away_loss: 0.6967 - val_frame_eyes_loss: 0.6926 - val_hair_eyes_loss: 0.6932 - val_eyes_closed_loss: 0.6930 - val_frames_heavy_loss: 0.6918 - val_sh_face_loss: 0.6941 - val_skin_tone_loss: 0.6932 - val_light_loss: 0.6947 - val_hat_loss: 0.6927 - val_rotation_loss: 0.6910 - val_reflection_loss: 0.6930 - val_background_accuracy: 0.5208 - val_close_accuracy: 0.5417 - val_ink_mark_accuracy: 0.4896 - val_pixelation_accuracy: 0.4688 - val_washed_out_accuracy: 0.4062 - val_blurred_accuracy: 0.5625 - val_sh_head_accuracy: 0.4896 - val_mouth_accuracy: 0.5104 - val_veil_accuracy: 0.4375 - val_red_eyes_accuracy: 0.5312 - val_flash_lenses_accuracy: 0.4583 - val_dark_glasses_accuracy: 0.5104 - val_l_away_accuracy: 0.4271 - val_frame_eyes_accuracy: 0.5417 - val_hair_eyes_accuracy: 0.4896 - val_eyes_closed_accuracy: 0.5000 - val_frames_heavy_accuracy: 0.5417 - val_sh_face_accuracy: 0.4375 - val_skin_tone_accuracy: 0.5000 - val_light_accuracy: 0.4583 - val_hat_accuracy: 0.5208 - val_rotation_accuracy: 0.5521 - val_reflection_accuracy: 0.5312\n",
      "\n",
      "Epoch 00001: val_loss improved from inf to 1.59490, saving model to training_ckpt/best_model.hdf5\n",
      "Epoch 2/2\n",
      "15/15 [==============================] - 5s 288ms/step - loss: 1.5973 - background_loss: 0.6928 - close_loss: 0.6925 - ink_mark_loss: 0.7000 - pixelation_loss: 0.6949 - washed_out_loss: 0.6956 - blurred_loss: 0.6989 - sh_head_loss: 0.6964 - mouth_loss: 0.6929 - veil_loss: 0.6944 - red_eyes_loss: 0.6928 - flash_lenses_loss: 0.6943 - dark_glasses_loss: 0.6930 - l_away_loss: 0.6944 - frame_eyes_loss: 0.6969 - hair_eyes_loss: 0.6941 - eyes_closed_loss: 0.6946 - frames_heavy_loss: 0.6970 - sh_face_loss: 0.6936 - skin_tone_loss: 0.6921 - light_loss: 0.6926 - hat_loss: 0.6926 - rotation_loss: 0.6937 - reflection_loss: 0.6927 - background_accuracy: 0.5235 - close_accuracy: 0.5256 - ink_mark_accuracy: 0.5299 - pixelation_accuracy: 0.4957 - washed_out_accuracy: 0.5214 - blurred_accuracy: 0.4786 - sh_head_accuracy: 0.5427 - mouth_accuracy: 0.5214 - veil_accuracy: 0.4637 - red_eyes_accuracy: 0.5470 - flash_lenses_accuracy: 0.4829 - dark_glasses_accuracy: 0.4957 - l_away_accuracy: 0.5321 - frame_eyes_accuracy: 0.5150 - hair_eyes_accuracy: 0.4808 - eyes_closed_accuracy: 0.5235 - frames_heavy_accuracy: 0.4765 - sh_face_accuracy: 0.4658 - skin_tone_accuracy: 0.4936 - light_accuracy: 0.5321 - hat_accuracy: 0.5192 - rotation_accuracy: 0.4957 - reflection_accuracy: 0.5064 - val_loss: 1.5951 - val_background_loss: 0.6925 - val_close_loss: 0.6920 - val_ink_mark_loss: 0.6931 - val_pixelation_loss: 0.6960 - val_washed_out_loss: 0.6971 - val_blurred_loss: 0.6930 - val_sh_head_loss: 0.6940 - val_mouth_loss: 0.6929 - val_veil_loss: 0.6946 - val_red_eyes_loss: 0.6916 - val_flash_lenses_loss: 0.6931 - val_dark_glasses_loss: 0.6929 - val_l_away_loss: 0.6978 - val_frame_eyes_loss: 0.6928 - val_hair_eyes_loss: 0.6931 - val_eyes_closed_loss: 0.6937 - val_frames_heavy_loss: 0.6918 - val_sh_face_loss: 0.6933 - val_skin_tone_loss: 0.6932 - val_light_loss: 0.6952 - val_hat_loss: 0.6927 - val_rotation_loss: 0.6913 - val_reflection_loss: 0.6928 - val_background_accuracy: 0.5208 - val_close_accuracy: 0.5417 - val_ink_mark_accuracy: 0.5000 - val_pixelation_accuracy: 0.4688 - val_washed_out_accuracy: 0.4062 - val_blurred_accuracy: 0.5104 - val_sh_head_accuracy: 0.4896 - val_mouth_accuracy: 0.5104 - val_veil_accuracy: 0.4375 - val_red_eyes_accuracy: 0.5312 - val_flash_lenses_accuracy: 0.5208 - val_dark_glasses_accuracy: 0.5104 - val_l_away_accuracy: 0.4271 - val_frame_eyes_accuracy: 0.5417 - val_hair_eyes_accuracy: 0.5104 - val_eyes_closed_accuracy: 0.4896 - val_frames_heavy_accuracy: 0.5417 - val_sh_face_accuracy: 0.4375 - val_skin_tone_accuracy: 0.5000 - val_light_accuracy: 0.4583 - val_hat_accuracy: 0.5208 - val_rotation_accuracy: 0.5521 - val_reflection_accuracy: 0.5312\n",
      "\n",
      "Epoch 00002: val_loss did not improve from 1.59490\n",
      "..Loading best model\n",
      "..Checkpoint weights loaded\n",
      "Testing Trained Model\n",
      "Predicting labels....\n",
      "4/4 [==============================] - 1s 68ms/step\n",
      "Prediction finished!\n",
      "--------------------FINISHING TRAIN--------------------\n",
      "Trial: \n",
      "  num: 1\n",
      "  config: {'n_denses_0': 3, 'n_denses_1': 2, 'n_denses_2': 2, 'n_denses_3': 1}\n",
      "  result: {'final_EER_mean': 50.83, 'final_ACC': 49.18}\n",
      "Trial: \n",
      "  num: 2\n",
      "  config: {'n_denses_0': 3, 'n_denses_1': 2, 'n_denses_2': 4, 'n_denses_3': 1}\n",
      "  result: {'final_EER_mean': 50.98, 'final_ACC': 49.0}\n",
      "Trial: \n",
      "  num: 3\n",
      "  config: {'n_denses_0': 2, 'n_denses_1': 5, 'n_denses_2': 3, 'n_denses_3': 5}\n",
      "  result: {'final_EER_mean': 49.35, 'final_ACC': 50.64}\n",
      "\n",
      "best_trial: Trial: \n",
      "  num: 3\n",
      "  config: {'n_denses_0': 2, 'n_denses_1': 5, 'n_denses_2': 3, 'n_denses_3': 5}\n",
      "  result: {'final_EER_mean': 49.35, 'final_ACC': 50.64}\n",
      "\n",
      "best_config: {'n_denses_0': 2, 'n_denses_1': 5, 'n_denses_2': 3, 'n_denses_3': 5}\n"
     ]
    }
   ],
   "source": [
    "runner.run_neural_architeture_search()"
   ]
  },
  {
   "cell_type": "markdown",
   "metadata": {},
   "source": [
    "# Finish Neptune"
   ]
  },
  {
   "cell_type": "code",
   "execution_count": 8,
   "metadata": {},
   "outputs": [
    {
     "name": "stdout",
     "output_type": "stream",
     "text": [
      "-------------------- finish experiment -------------------\n",
      "Finishing Neptune\n"
     ]
    }
   ],
   "source": [
    "runner.finish_experiment()"
   ]
  },
  {
   "cell_type": "markdown",
   "metadata": {},
   "source": [
    "# Testing Network Modification"
   ]
  },
  {
   "cell_type": "raw",
   "metadata": {
    "jupyter": {
     "outputs_hidden": true
    },
    "tags": []
   },
   "source": [
    "import tensorflow as tf\n",
    "import tensorflow.keras as keras\n",
    "import tensorflow.keras.backend as K\n",
    "import numpy as np\n",
    "from tensorflow.keras.layers import Dense, Input, Layer\n",
    "from tensorflow.keras.models import Model\n",
    "\n",
    "input_tensor = Input(shape=(20,), name=\"input\")\n",
    "hidden = Dense(100, activation='relu')(input_tensor)\n",
    "out = Dense(10, activation='relu', name=\"out\")(hidden)\n",
    "\n",
    "model = Model(inputs=input_tensor, outputs=out)\n",
    "model.compile(loss=\"mse\", optimizer='adam')\n",
    "\n",
    "model.summary()\n",
    "\n",
    "out = Dense(5, activation='softmax', name='new_out')(model.layers[-2].output)\n",
    "\n",
    "new_model = Model(input_tensor, out)\n",
    "new_model.summary()"
   ]
  }
 ],
 "metadata": {
  "interpreter": {
   "hash": "85f5044ba23e75135dc4c908fd4d7609c1c80b195047fdb4d16ee0e66a953254"
  },
  "kernelspec": {
   "display_name": "Python 3 (ipykernel)",
   "language": "python",
   "name": "python3"
  },
  "language_info": {
   "codemirror_mode": {
    "name": "ipython",
    "version": 3
   },
   "file_extension": ".py",
   "mimetype": "text/x-python",
   "name": "python",
   "nbconvert_exporter": "python",
   "pygments_lexer": "ipython3",
   "version": "3.8.0"
  },
  "toc-autonumbering": true
 },
 "nbformat": 4,
 "nbformat_minor": 4
}

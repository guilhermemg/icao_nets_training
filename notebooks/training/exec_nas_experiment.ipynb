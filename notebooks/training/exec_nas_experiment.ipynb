{
 "cells": [
  {
   "cell_type": "markdown",
   "metadata": {},
   "source": [
    "# Import Libraries"
   ]
  },
  {
   "cell_type": "code",
   "execution_count": 1,
   "metadata": {},
   "outputs": [],
   "source": [
    "%load_ext autoreload\n",
    "%autoreload 2"
   ]
  },
  {
   "cell_type": "code",
   "execution_count": 2,
   "metadata": {},
   "outputs": [
    {
     "name": "stdout",
     "output_type": "stream",
     "text": [
      " ==> Restrict GPU memory growth: True\n"
     ]
    }
   ],
   "source": [
    "import os\n",
    "# disable tensorflow log level infos\n",
    "os.environ['TF_CPP_MIN_LOG_LEVEL'] = '2' # show only errors\n",
    "\n",
    "import sys\n",
    "import pandas as pd\n",
    "\n",
    "if '../../../../notebooks/' not in sys.path:\n",
    "    sys.path.append('../../../../notebooks/')\n",
    "if 'src' not in sys.path:\n",
    "    sys.path.insert(0, 'src')\n",
    "\n",
    "import utils.constants as cts\n",
    "\n",
    "from data_loaders.data_loader import DLName\n",
    "from gt_loaders.gt_names import GTName\n",
    "from exp_runner import ExperimentRunner\n",
    "from model_evaluator import DataSource, DataPredSelection\n",
    "from base_models import BaseModel\n",
    "from optimizers import Optimizer\n",
    "from model_creator import MTLApproach, NAS_MTLApproach"
   ]
  },
  {
   "cell_type": "markdown",
   "metadata": {},
   "source": [
    "# Start Network runner"
   ]
  },
  {
   "cell_type": "code",
   "execution_count": 3,
   "metadata": {
    "tags": []
   },
   "outputs": [
    {
     "name": "stdout",
     "output_type": "stream",
     "text": [
      "-------------------- Init ExperimentRunner -------------------\n",
      "---------------------------\n",
      "Parent Process ID: 95416\n",
      "Process ID: 110891\n",
      "---------------------------\n",
      "-----\n",
      "Use Neptune:  False\n",
      "-----\n",
      "-------------------\n",
      "Args: \n",
      "{'exp_params': {'description': 'Training mtl network for ALL requisites - 10 '\n",
      "                               'epochs - without early_stopping in FVC GT '\n",
      "                               'dataset NOT aligned',\n",
      "                'name': 'train_vgg16',\n",
      "                'src_files': ['src/**/*.py'],\n",
      "                'tags': ['vgg16',\n",
      "                         'ground truths',\n",
      "                         'adamax',\n",
      "                         'mtl',\n",
      "                         '10 epochs']},\n",
      " 'nas_params': {'max_blocks_per_branch': 3, 'max_train_steps_per_op': 5},\n",
      " 'net_train_params': {'base_model': <BaseModel.VGG16: {'target_size': (224, 224), 'prep_function': <function preprocess_input at 0x7f9de4cd2ee0>}>,\n",
      "                      'batch_size': 32,\n",
      "                      'dropout': 0.3,\n",
      "                      'early_stopping': 10,\n",
      "                      'learning_rate': 0.001,\n",
      "                      'n_epochs': 10,\n",
      "                      'optimizer': <Optimizer.ADAMAX: 'Adamax'>},\n",
      " 'properties': {'aligned': True,\n",
      "                'approach': <NAS_MTLApproach.APPROACH_1: 'approach_1'>,\n",
      "                'balance_input_data': False,\n",
      "                'gt_names': {'test': [],\n",
      "                             'train_validation': [],\n",
      "                             'train_validation_test': [<GTName.FVC: 'fvc'>]},\n",
      "                'orig_model_experiment_id': '',\n",
      "                'reqs': [<ICAO_REQ.MOUTH: 'mouth'>,\n",
      "                         <ICAO_REQ.ROTATION: 'rotation'>,\n",
      "                         <ICAO_REQ.L_AWAY: 'l_away'>,\n",
      "                         <ICAO_REQ.EYES_CLOSED: 'eyes_closed'>,\n",
      "                         <ICAO_REQ.CLOSE: 'close'>,\n",
      "                         <ICAO_REQ.HAT: 'hat'>,\n",
      "                         <ICAO_REQ.DARK_GLASSES: 'dark_glasses'>,\n",
      "                         <ICAO_REQ.FRAMES_HEAVY: 'frames_heavy'>,\n",
      "                         <ICAO_REQ.FRAME_EYES: 'frame_eyes'>,\n",
      "                         <ICAO_REQ.FLASH_LENSES: 'flash_lenses'>,\n",
      "                         <ICAO_REQ.VEIL: 'veil'>,\n",
      "                         <ICAO_REQ.REFLECTION: 'reflection'>,\n",
      "                         <ICAO_REQ.LIGHT: 'light'>,\n",
      "                         <ICAO_REQ.SHADOW_FACE: 'sh_face'>,\n",
      "                         <ICAO_REQ.SHADOW_HEAD: 'sh_head'>,\n",
      "                         <ICAO_REQ.BLURRED: 'blurred'>,\n",
      "                         <ICAO_REQ.INK_MARK: 'ink_mark'>,\n",
      "                         <ICAO_REQ.SKIN_TONE: 'skin_tone'>,\n",
      "                         <ICAO_REQ.WASHED_OUT: 'washed_out'>,\n",
      "                         <ICAO_REQ.PIXELATION: 'pixelation'>,\n",
      "                         <ICAO_REQ.HAIR_EYES: 'hair_eyes'>,\n",
      "                         <ICAO_REQ.BACKGROUND: 'background'>,\n",
      "                         <ICAO_REQ.RED_EYES: 'red_eyes'>],\n",
      "                'sample_prop': 1.0,\n",
      "                'sample_training_data': False,\n",
      "                'save_trained_model': False,\n",
      "                'train_model': True,\n",
      "                'use_gt_data': True},\n",
      " 'use_neptune': False}\n",
      "-------------------\n",
      "----\n",
      "Base Model Name:  BaseModel.VGG16\n",
      "----\n",
      "-------------------- start neptune -------------------\n",
      "Not using Neptune to record Experiment Metadata\n",
      "----\n",
      "MTL Model: True\n",
      "Approach: NAS_MTLApproach.APPROACH_1\n",
      "----\n",
      "----\n",
      "Checking model existence locally...\n",
      "Training a new model! Not checking model existence\n",
      "----\n",
      "------------------------------\n",
      "Checking GPU availability\n",
      " ..GPU is available!\n",
      "------------------------------\n"
     ]
    }
   ],
   "source": [
    "kwargs = { \n",
    "    'use_neptune': False,\n",
    "    'exp_params' : {\n",
    "        'name': 'train_vgg16',\n",
    "        'description': 'Training mtl network for ALL requisites - 10 epochs - without early_stopping in FVC GT dataset NOT aligned',\n",
    "        'tags': ['vgg16', 'ground truths', 'adamax', 'mtl', '10 epochs'],\n",
    "        'src_files': [\"src/**/*.py\"]\n",
    "    },\n",
    "    'properties': {\n",
    "        'approach': NAS_MTLApproach.APPROACH_1,\n",
    "        'reqs': list(cts.ICAO_REQ),\n",
    "        'aligned': True,\n",
    "        'use_gt_data': True,\n",
    "        'gt_names': {\n",
    "            'train_validation': [],\n",
    "            'test': [],\n",
    "            'train_validation_test': [GTName.FVC]\n",
    "        },\n",
    "        'balance_input_data': False,\n",
    "        'train_model': True,\n",
    "        'save_trained_model': False,\n",
    "        'orig_model_experiment_id': '',\n",
    "        'sample_training_data': False,\n",
    "        'sample_prop': 1.0\n",
    "    },\n",
    "    'net_train_params': {\n",
    "        'base_model': BaseModel.VGG16,\n",
    "        'batch_size': 32,\n",
    "        'n_epochs': 10,\n",
    "        'early_stopping': 10,\n",
    "        'learning_rate': 1e-3,\n",
    "        'optimizer': Optimizer.ADAMAX,\n",
    "        'dropout': 0.3\n",
    "    },\n",
    "    'nas_params': {\n",
    "        'max_blocks_per_branch': 3,\n",
    "        'max_train_steps_per_op': 5\n",
    "    }\n",
    "}\n",
    "\n",
    "runner = ExperimentRunner(**kwargs)"
   ]
  },
  {
   "cell_type": "markdown",
   "metadata": {},
   "source": [
    "# Load Data"
   ]
  },
  {
   "cell_type": "code",
   "execution_count": 4,
   "metadata": {
    "tags": []
   },
   "outputs": [
    {
     "name": "stdout",
     "output_type": "stream",
     "text": [
      "-------------------- load training data -------------------\n",
      "Loading data\n",
      "Loading GT FVC - TRAIN split...\n",
      "..Ignoring 0 empty label values\n",
      "Input data.shape: (4926, 26)\n",
      "Loading GT FVC - VALIDATION split...\n",
      "..Ignoring 0 empty label values\n",
      "Input data.shape: (547, 26)\n",
      "Loading GT FVC - TEST split...\n",
      "..Ignoring 0 empty label values\n",
      "Input data.shape: (288, 26)\n",
      "Data loaded\n"
     ]
    }
   ],
   "source": [
    "runner.load_training_data()"
   ]
  },
  {
   "cell_type": "markdown",
   "metadata": {},
   "source": [
    "# Producing Fake Data"
   ]
  },
  {
   "cell_type": "code",
   "execution_count": 7,
   "metadata": {},
   "outputs": [
    {
     "name": "stdout",
     "output_type": "stream",
     "text": [
      "-------------------- producing fake data for experimental purposes -------------------\n",
      "fake_train_data.shape: (500, 26)\n",
      "fake_validation_data_df.shape: (100, 26)\n",
      "fake_test_data_df.shape: (50, 26)\n"
     ]
    }
   ],
   "source": [
    "runner.produce_fake_data()"
   ]
  },
  {
   "cell_type": "markdown",
   "metadata": {},
   "source": [
    "# Data Generators"
   ]
  },
  {
   "cell_type": "code",
   "execution_count": 8,
   "metadata": {
    "tags": []
   },
   "outputs": [
    {
     "name": "stdout",
     "output_type": "stream",
     "text": [
      "-------------------- setup data generators -------------------\n",
      "Starting data generators\n",
      "Found 500 validated image filenames.\n",
      "Found 100 validated image filenames.\n",
      "Found 50 validated image filenames.\n",
      "TOTAL: 650\n",
      "\n",
      "Logging class indices\n",
      " .. MTL model not logging class indices!\n",
      "\n",
      "Logging class labels\n",
      " COMPLIANT label: 1\n",
      " NON_COMPLIANT label: 0\n",
      " DUMMY label: -1\n",
      " DUMMY_CLS label: 2\n",
      " NO_ANSWER label: -99\n"
     ]
    }
   ],
   "source": [
    "runner.setup_data_generators()"
   ]
  },
  {
   "cell_type": "markdown",
   "metadata": {},
   "source": [
    "# Neural Architecture Search"
   ]
  },
  {
   "cell_type": "code",
   "execution_count": 11,
   "metadata": {
    "tags": []
   },
   "outputs": [
    {
     "name": "stdout",
     "output_type": "stream",
     "text": [
      "-------------------- run neural architecture search -------------------\n",
      "++++++++++++++++++++++++++++++++++++++++++++++++++ NEW TRAIN ++++++++++++++++++++++++++++++++++++++++++++++++++\n",
      " ----- Training 0 | Config: {'n_denses_0': 1, 'n_denses_1': 2, 'n_denses_2': 5, 'n_denses_3': 5} --------\n",
      "Creating model...\n",
      "Model created\n",
      "Training VGG16 network\n",
      " .. Not fine tuning base model...\n",
      "  .. Total params: 15,714,094\n",
      "  .. Trainable params: 999,406\n",
      "  .. Non-trainable params: 14,714,688\n",
      "Epoch 1/2\n",
      "15/15 [==============================] - 11s 383ms/step - loss: 3.6311 - background_loss: 3.2167 - close_loss: 2.1989 - ink_mark_loss: 1.4295 - pixelation_loss: 2.9830 - washed_out_loss: 2.0499 - blurred_loss: 3.9921 - sh_head_loss: 2.4689 - mouth_loss: 1.7861 - veil_loss: 2.3359 - red_eyes_loss: 1.1364 - flash_lenses_loss: 0.8229 - dark_glasses_loss: 1.1734 - l_away_loss: 0.7677 - frame_eyes_loss: 0.8225 - hair_eyes_loss: 0.9104 - eyes_closed_loss: 0.9974 - frames_heavy_loss: 1.0568 - sh_face_loss: 0.8157 - skin_tone_loss: 1.1543 - light_loss: 1.2300 - hat_loss: 1.2203 - rotation_loss: 0.9867 - reflection_loss: 0.7555 - background_accuracy: 0.5021 - close_accuracy: 0.4487 - ink_mark_accuracy: 0.4915 - pixelation_accuracy: 0.5214 - washed_out_accuracy: 0.5171 - blurred_accuracy: 0.4765 - sh_head_accuracy: 0.4786 - mouth_accuracy: 0.4936 - veil_accuracy: 0.4658 - red_eyes_accuracy: 0.5363 - flash_lenses_accuracy: 0.4786 - dark_glasses_accuracy: 0.4679 - l_away_accuracy: 0.5064 - frame_eyes_accuracy: 0.5085 - hair_eyes_accuracy: 0.5235 - eyes_closed_accuracy: 0.4893 - frames_heavy_accuracy: 0.5085 - sh_face_accuracy: 0.4786 - skin_tone_accuracy: 0.5662 - light_accuracy: 0.5000 - hat_accuracy: 0.4872 - rotation_accuracy: 0.4808 - reflection_accuracy: 0.5171 - val_loss: 1.6046 - val_background_loss: 0.7097 - val_close_loss: 0.6897 - val_ink_mark_loss: 0.6947 - val_pixelation_loss: 0.6875 - val_washed_out_loss: 0.7119 - val_blurred_loss: 0.6946 - val_sh_head_loss: 0.7445 - val_mouth_loss: 0.6956 - val_veil_loss: 0.6882 - val_red_eyes_loss: 0.6933 - val_flash_lenses_loss: 0.6996 - val_dark_glasses_loss: 0.6945 - val_l_away_loss: 0.6944 - val_frame_eyes_loss: 0.6896 - val_hair_eyes_loss: 0.6928 - val_eyes_closed_loss: 0.6946 - val_frames_heavy_loss: 0.6969 - val_sh_face_loss: 0.7045 - val_skin_tone_loss: 0.6976 - val_light_loss: 0.6972 - val_hat_loss: 0.6942 - val_rotation_loss: 0.6897 - val_reflection_loss: 0.6905 - val_background_accuracy: 0.5208 - val_close_accuracy: 0.5417 - val_ink_mark_accuracy: 0.4896 - val_pixelation_accuracy: 0.5312 - val_washed_out_accuracy: 0.3542 - val_blurred_accuracy: 0.4792 - val_sh_head_accuracy: 0.4896 - val_mouth_accuracy: 0.4896 - val_veil_accuracy: 0.5625 - val_red_eyes_accuracy: 0.4792 - val_flash_lenses_accuracy: 0.4583 - val_dark_glasses_accuracy: 0.4896 - val_l_away_accuracy: 0.4167 - val_frame_eyes_accuracy: 0.5417 - val_hair_eyes_accuracy: 0.5208 - val_eyes_closed_accuracy: 0.5104 - val_frames_heavy_accuracy: 0.4583 - val_sh_face_accuracy: 0.4375 - val_skin_tone_accuracy: 0.5000 - val_light_accuracy: 0.4583 - val_hat_accuracy: 0.5208 - val_rotation_accuracy: 0.5521 - val_reflection_accuracy: 0.5312\n",
      "\n",
      "Epoch 00001: val_loss improved from inf to 1.60458, saving model to training_ckpt/best_model.hdf5\n",
      "Epoch 2/2\n",
      "15/15 [==============================] - 5s 292ms/step - loss: 1.5985 - background_loss: 0.7016 - close_loss: 0.6933 - ink_mark_loss: 0.6953 - pixelation_loss: 0.6957 - washed_out_loss: 0.6932 - blurred_loss: 0.6896 - sh_head_loss: 0.7119 - mouth_loss: 0.6924 - veil_loss: 0.6975 - red_eyes_loss: 0.6939 - flash_lenses_loss: 0.6946 - dark_glasses_loss: 0.6929 - l_away_loss: 0.6937 - frame_eyes_loss: 0.6936 - hair_eyes_loss: 0.6933 - eyes_closed_loss: 0.6946 - frames_heavy_loss: 0.6921 - sh_face_loss: 0.6979 - skin_tone_loss: 0.6941 - light_loss: 0.6914 - hat_loss: 0.6941 - rotation_loss: 0.6939 - reflection_loss: 0.6945 - background_accuracy: 0.4893 - close_accuracy: 0.5150 - ink_mark_accuracy: 0.5107 - pixelation_accuracy: 0.4872 - washed_out_accuracy: 0.5278 - blurred_accuracy: 0.5513 - sh_head_accuracy: 0.4573 - mouth_accuracy: 0.5043 - veil_accuracy: 0.4444 - red_eyes_accuracy: 0.4744 - flash_lenses_accuracy: 0.4979 - dark_glasses_accuracy: 0.5171 - l_away_accuracy: 0.4765 - frame_eyes_accuracy: 0.5107 - hair_eyes_accuracy: 0.4786 - eyes_closed_accuracy: 0.4829 - frames_heavy_accuracy: 0.5214 - sh_face_accuracy: 0.4509 - skin_tone_accuracy: 0.5214 - light_accuracy: 0.5256 - hat_accuracy: 0.4936 - rotation_accuracy: 0.4936 - reflection_accuracy: 0.4893 - val_loss: 1.5959 - val_background_loss: 0.6936 - val_close_loss: 0.6936 - val_ink_mark_loss: 0.6932 - val_pixelation_loss: 0.6944 - val_washed_out_loss: 0.6975 - val_blurred_loss: 0.6935 - val_sh_head_loss: 0.6932 - val_mouth_loss: 0.6934 - val_veil_loss: 0.6970 - val_red_eyes_loss: 0.6942 - val_flash_lenses_loss: 0.6931 - val_dark_glasses_loss: 0.6936 - val_l_away_loss: 0.6935 - val_frame_eyes_loss: 0.6914 - val_hair_eyes_loss: 0.6933 - val_eyes_closed_loss: 0.6929 - val_frames_heavy_loss: 0.6960 - val_sh_face_loss: 0.6943 - val_skin_tone_loss: 0.6936 - val_light_loss: 0.6966 - val_hat_loss: 0.6925 - val_rotation_loss: 0.6912 - val_reflection_loss: 0.6937 - val_background_accuracy: 0.4167 - val_close_accuracy: 0.4583 - val_ink_mark_accuracy: 0.5000 - val_pixelation_accuracy: 0.4688 - val_washed_out_accuracy: 0.4062 - val_blurred_accuracy: 0.4792 - val_sh_head_accuracy: 0.4896 - val_mouth_accuracy: 0.4896 - val_veil_accuracy: 0.4375 - val_red_eyes_accuracy: 0.4688 - val_flash_lenses_accuracy: 0.5208 - val_dark_glasses_accuracy: 0.4896 - val_l_away_accuracy: 0.4271 - val_frame_eyes_accuracy: 0.5417 - val_hair_eyes_accuracy: 0.4896 - val_eyes_closed_accuracy: 0.5104 - val_frames_heavy_accuracy: 0.4583 - val_sh_face_accuracy: 0.4375 - val_skin_tone_accuracy: 0.5000 - val_light_accuracy: 0.4583 - val_hat_accuracy: 0.5208 - val_rotation_accuracy: 0.5521 - val_reflection_accuracy: 0.4688\n",
      "\n",
      "Epoch 00002: val_loss improved from 1.60458 to 1.59594, saving model to training_ckpt/best_model.hdf5\n",
      "..Loading best model\n",
      "..Checkpoint weights loaded\n",
      "Testing Trained Model\n",
      "Predicting labels....\n",
      "4/4 [==============================] - 1s 64ms/step\n",
      "Prediction finished!\n",
      "  final_eer_mean: 0.4968727272727273\n",
      "  final_acc: 0.5031818181818183\n",
      "++++++++++++++++++++++++++++++++++++++++++++++++++NEW TRAIN++++++++++++++++++++++++++++++++++++++++++++++++++\n",
      "++++++++++++++++++++++++++++++++++++++++++++++++++ NEW TRAIN ++++++++++++++++++++++++++++++++++++++++++++++++++\n",
      " ----- Training 1 | Config: {'n_denses_0': 1, 'n_denses_1': 2, 'n_denses_2': 5, 'n_denses_3': 5} --------\n",
      "Creating model...\n",
      "Model created\n",
      "Training VGG16 network\n",
      " .. Not fine tuning base model...\n",
      "  .. Total params: 15,714,094\n",
      "  .. Trainable params: 999,406\n",
      "  .. Non-trainable params: 14,714,688\n",
      "Epoch 1/2\n",
      "15/15 [==============================] - 11s 390ms/step - loss: 3.0253 - background_loss: 1.1351 - close_loss: 2.5659 - ink_mark_loss: 1.2566 - pixelation_loss: 2.0881 - washed_out_loss: 4.1400 - blurred_loss: 2.7027 - sh_head_loss: 2.1978 - mouth_loss: 0.8372 - veil_loss: 1.3393 - red_eyes_loss: 0.8686 - flash_lenses_loss: 0.8942 - dark_glasses_loss: 0.8306 - l_away_loss: 1.0241 - frame_eyes_loss: 0.7557 - hair_eyes_loss: 0.8004 - eyes_closed_loss: 0.8263 - frames_heavy_loss: 0.7326 - sh_face_loss: 0.7818 - skin_tone_loss: 0.8142 - light_loss: 0.7488 - hat_loss: 0.9970 - rotation_loss: 0.7512 - reflection_loss: 1.1643 - background_accuracy: 0.5150 - close_accuracy: 0.4872 - ink_mark_accuracy: 0.4551 - pixelation_accuracy: 0.4872 - washed_out_accuracy: 0.4979 - blurred_accuracy: 0.5043 - sh_head_accuracy: 0.5107 - mouth_accuracy: 0.5171 - veil_accuracy: 0.4872 - red_eyes_accuracy: 0.4957 - flash_lenses_accuracy: 0.5128 - dark_glasses_accuracy: 0.4979 - l_away_accuracy: 0.4893 - frame_eyes_accuracy: 0.5406 - hair_eyes_accuracy: 0.4915 - eyes_closed_accuracy: 0.5278 - frames_heavy_accuracy: 0.4893 - sh_face_accuracy: 0.5214 - skin_tone_accuracy: 0.5085 - light_accuracy: 0.5235 - hat_accuracy: 0.4829 - rotation_accuracy: 0.5342 - reflection_accuracy: 0.4893 - val_loss: 1.5975 - val_background_loss: 0.6954 - val_close_loss: 0.6965 - val_ink_mark_loss: 0.6977 - val_pixelation_loss: 0.6980 - val_washed_out_loss: 0.6978 - val_blurred_loss: 0.6937 - val_sh_head_loss: 0.6947 - val_mouth_loss: 0.6911 - val_veil_loss: 0.6974 - val_red_eyes_loss: 0.6930 - val_flash_lenses_loss: 0.6920 - val_dark_glasses_loss: 0.6939 - val_l_away_loss: 0.6990 - val_frame_eyes_loss: 0.6949 - val_hair_eyes_loss: 0.6928 - val_eyes_closed_loss: 0.6954 - val_frames_heavy_loss: 0.6930 - val_sh_face_loss: 0.6948 - val_skin_tone_loss: 0.6927 - val_light_loss: 0.6964 - val_hat_loss: 0.6925 - val_rotation_loss: 0.6912 - val_reflection_loss: 0.6915 - val_background_accuracy: 0.5208 - val_close_accuracy: 0.4583 - val_ink_mark_accuracy: 0.5000 - val_pixelation_accuracy: 0.4688 - val_washed_out_accuracy: 0.3750 - val_blurred_accuracy: 0.5104 - val_sh_head_accuracy: 0.5000 - val_mouth_accuracy: 0.5104 - val_veil_accuracy: 0.4375 - val_red_eyes_accuracy: 0.5000 - val_flash_lenses_accuracy: 0.5938 - val_dark_glasses_accuracy: 0.4896 - val_l_away_accuracy: 0.4271 - val_frame_eyes_accuracy: 0.4583 - val_hair_eyes_accuracy: 0.5104 - val_eyes_closed_accuracy: 0.4896 - val_frames_heavy_accuracy: 0.5521 - val_sh_face_accuracy: 0.4375 - val_skin_tone_accuracy: 0.5521 - val_light_accuracy: 0.4583 - val_hat_accuracy: 0.5208 - val_rotation_accuracy: 0.5521 - val_reflection_accuracy: 0.5312\n",
      "\n",
      "Epoch 00001: val_loss improved from inf to 1.59754, saving model to training_ckpt/best_model.hdf5\n",
      "Epoch 2/2\n",
      "15/15 [==============================] - 4s 281ms/step - loss: 1.6002 - background_loss: 0.7003 - close_loss: 0.7038 - ink_mark_loss: 0.7077 - pixelation_loss: 0.7002 - washed_out_loss: 0.6954 - blurred_loss: 0.6979 - sh_head_loss: 0.7052 - mouth_loss: 0.6947 - veil_loss: 0.6935 - red_eyes_loss: 0.6928 - flash_lenses_loss: 0.6934 - dark_glasses_loss: 0.6939 - l_away_loss: 0.6923 - frame_eyes_loss: 0.6945 - hair_eyes_loss: 0.6928 - eyes_closed_loss: 0.6922 - frames_heavy_loss: 0.6929 - sh_face_loss: 0.6934 - skin_tone_loss: 0.6935 - light_loss: 0.6915 - hat_loss: 0.6939 - rotation_loss: 0.6926 - reflection_loss: 0.6936 - background_accuracy: 0.4979 - close_accuracy: 0.5342 - ink_mark_accuracy: 0.4765 - pixelation_accuracy: 0.5064 - washed_out_accuracy: 0.5171 - blurred_accuracy: 0.5085 - sh_head_accuracy: 0.5043 - mouth_accuracy: 0.4957 - veil_accuracy: 0.4765 - red_eyes_accuracy: 0.5128 - flash_lenses_accuracy: 0.5000 - dark_glasses_accuracy: 0.5150 - l_away_accuracy: 0.5321 - frame_eyes_accuracy: 0.4872 - hair_eyes_accuracy: 0.5342 - eyes_closed_accuracy: 0.5256 - frames_heavy_accuracy: 0.5171 - sh_face_accuracy: 0.5000 - skin_tone_accuracy: 0.4936 - light_accuracy: 0.5256 - hat_accuracy: 0.4979 - rotation_accuracy: 0.5000 - reflection_accuracy: 0.5043 - val_loss: 1.5945 - val_background_loss: 0.6927 - val_close_loss: 0.6920 - val_ink_mark_loss: 0.6931 - val_pixelation_loss: 0.6928 - val_washed_out_loss: 0.6948 - val_blurred_loss: 0.6932 - val_sh_head_loss: 0.6932 - val_mouth_loss: 0.6930 - val_veil_loss: 0.6934 - val_red_eyes_loss: 0.6925 - val_flash_lenses_loss: 0.6920 - val_dark_glasses_loss: 0.6934 - val_l_away_loss: 0.6960 - val_frame_eyes_loss: 0.6945 - val_hair_eyes_loss: 0.6930 - val_eyes_closed_loss: 0.6940 - val_frames_heavy_loss: 0.6937 - val_sh_face_loss: 0.6922 - val_skin_tone_loss: 0.6932 - val_light_loss: 0.6955 - val_hat_loss: 0.6927 - val_rotation_loss: 0.6922 - val_reflection_loss: 0.6919 - val_background_accuracy: 0.5208 - val_close_accuracy: 0.5417 - val_ink_mark_accuracy: 0.5000 - val_pixelation_accuracy: 0.5312 - val_washed_out_accuracy: 0.4062 - val_blurred_accuracy: 0.4896 - val_sh_head_accuracy: 0.4896 - val_mouth_accuracy: 0.5104 - val_veil_accuracy: 0.4375 - val_red_eyes_accuracy: 0.5312 - val_flash_lenses_accuracy: 0.5417 - val_dark_glasses_accuracy: 0.4896 - val_l_away_accuracy: 0.4271 - val_frame_eyes_accuracy: 0.4583 - val_hair_eyes_accuracy: 0.5104 - val_eyes_closed_accuracy: 0.4896 - val_frames_heavy_accuracy: 0.4583 - val_sh_face_accuracy: 0.5625 - val_skin_tone_accuracy: 0.5000 - val_light_accuracy: 0.4583 - val_hat_accuracy: 0.5208 - val_rotation_accuracy: 0.5521 - val_reflection_accuracy: 0.5312\n",
      "\n",
      "Epoch 00002: val_loss improved from 1.59754 to 1.59451, saving model to training_ckpt/best_model.hdf5\n",
      "..Loading best model\n",
      "..Checkpoint weights loaded\n",
      "Testing Trained Model\n",
      "Predicting labels....\n",
      "4/4 [==============================] - 1s 64ms/step\n",
      "Prediction finished!\n",
      "  final_eer_mean: 0.5\n",
      "  final_acc: 0.4918181818181818\n",
      "++++++++++++++++++++++++++++++++++++++++++++++++++NEW TRAIN++++++++++++++++++++++++++++++++++++++++++++++++++\n",
      "++++++++++++++++++++++++++++++++++++++++++++++++++ NEW TRAIN ++++++++++++++++++++++++++++++++++++++++++++++++++\n",
      " ----- Training 2 | Config: {'n_denses_0': 1, 'n_denses_1': 2, 'n_denses_2': 5, 'n_denses_3': 5} --------\n",
      "Creating model...\n",
      "Model created\n",
      "Training VGG16 network\n",
      " .. Not fine tuning base model...\n",
      "  .. Total params: 15,714,094\n",
      "  .. Trainable params: 999,406\n",
      "  .. Non-trainable params: 14,714,688\n",
      "Epoch 1/2\n",
      "15/15 [==============================] - 11s 434ms/step - loss: 2.1875 - background_loss: 1.2221 - close_loss: 0.9045 - ink_mark_loss: 1.1558 - pixelation_loss: 2.2098 - washed_out_loss: 1.4310 - blurred_loss: 1.1334 - sh_head_loss: 0.8972 - mouth_loss: 0.7911 - veil_loss: 1.3589 - red_eyes_loss: 0.7265 - flash_lenses_loss: 0.6997 - dark_glasses_loss: 0.8142 - l_away_loss: 0.7596 - frame_eyes_loss: 0.7527 - hair_eyes_loss: 0.7314 - eyes_closed_loss: 0.8143 - frames_heavy_loss: 0.8410 - sh_face_loss: 0.8759 - skin_tone_loss: 0.7688 - light_loss: 0.8075 - hat_loss: 0.7674 - rotation_loss: 0.7013 - reflection_loss: 0.7106 - background_accuracy: 0.5229 - close_accuracy: 0.4979 - ink_mark_accuracy: 0.4938 - pixelation_accuracy: 0.4646 - washed_out_accuracy: 0.5208 - blurred_accuracy: 0.4854 - sh_head_accuracy: 0.5021 - mouth_accuracy: 0.4938 - veil_accuracy: 0.4563 - red_eyes_accuracy: 0.5042 - flash_lenses_accuracy: 0.4896 - dark_glasses_accuracy: 0.5104 - l_away_accuracy: 0.5083 - frame_eyes_accuracy: 0.4875 - hair_eyes_accuracy: 0.4875 - eyes_closed_accuracy: 0.4750 - frames_heavy_accuracy: 0.4938 - sh_face_accuracy: 0.4750 - skin_tone_accuracy: 0.4688 - light_accuracy: 0.4625 - hat_accuracy: 0.4708 - rotation_accuracy: 0.5063 - reflection_accuracy: 0.4917 - val_loss: 1.5959 - val_background_loss: 0.6924 - val_close_loss: 0.6935 - val_ink_mark_loss: 0.6933 - val_pixelation_loss: 0.6936 - val_washed_out_loss: 0.6966 - val_blurred_loss: 0.6956 - val_sh_head_loss: 0.6942 - val_mouth_loss: 0.6948 - val_veil_loss: 0.6975 - val_red_eyes_loss: 0.6923 - val_flash_lenses_loss: 0.6934 - val_dark_glasses_loss: 0.6939 - val_l_away_loss: 0.6918 - val_frame_eyes_loss: 0.6918 - val_hair_eyes_loss: 0.6945 - val_eyes_closed_loss: 0.6936 - val_frames_heavy_loss: 0.6963 - val_sh_face_loss: 0.6959 - val_skin_tone_loss: 0.6935 - val_light_loss: 0.6919 - val_hat_loss: 0.6928 - val_rotation_loss: 0.6924 - val_reflection_loss: 0.6936 - val_background_accuracy: 0.5104 - val_close_accuracy: 0.5000 - val_ink_mark_accuracy: 0.5000 - val_pixelation_accuracy: 0.5208 - val_washed_out_accuracy: 0.4062 - val_blurred_accuracy: 0.5104 - val_sh_head_accuracy: 0.5104 - val_mouth_accuracy: 0.4896 - val_veil_accuracy: 0.4375 - val_red_eyes_accuracy: 0.5312 - val_flash_lenses_accuracy: 0.4896 - val_dark_glasses_accuracy: 0.4896 - val_l_away_accuracy: 0.5729 - val_frame_eyes_accuracy: 0.5417 - val_hair_eyes_accuracy: 0.4896 - val_eyes_closed_accuracy: 0.4896 - val_frames_heavy_accuracy: 0.4583 - val_sh_face_accuracy: 0.4375 - val_skin_tone_accuracy: 0.5000 - val_light_accuracy: 0.5417 - val_hat_accuracy: 0.5208 - val_rotation_accuracy: 0.5521 - val_reflection_accuracy: 0.4688\n",
      "\n",
      "Epoch 00001: val_loss improved from inf to 1.59592, saving model to training_ckpt/best_model.hdf5\n",
      "Epoch 2/2\n",
      "15/15 [==============================] - 4s 285ms/step - loss: 1.5946 - background_loss: 0.6915 - close_loss: 0.6933 - ink_mark_loss: 0.6921 - pixelation_loss: 0.6934 - washed_out_loss: 0.6931 - blurred_loss: 0.6948 - sh_head_loss: 0.6928 - mouth_loss: 0.6941 - veil_loss: 0.6937 - red_eyes_loss: 0.6923 - flash_lenses_loss: 0.6937 - dark_glasses_loss: 0.6932 - l_away_loss: 0.6949 - frame_eyes_loss: 0.6930 - hair_eyes_loss: 0.6942 - eyes_closed_loss: 0.6921 - frames_heavy_loss: 0.6925 - sh_face_loss: 0.6949 - skin_tone_loss: 0.6933 - light_loss: 0.6931 - hat_loss: 0.6934 - rotation_loss: 0.6933 - reflection_loss: 0.6935 - background_accuracy: 0.5085 - close_accuracy: 0.5363 - ink_mark_accuracy: 0.5192 - pixelation_accuracy: 0.5128 - washed_out_accuracy: 0.4808 - blurred_accuracy: 0.4872 - sh_head_accuracy: 0.5085 - mouth_accuracy: 0.4957 - veil_accuracy: 0.5342 - red_eyes_accuracy: 0.5299 - flash_lenses_accuracy: 0.4786 - dark_glasses_accuracy: 0.5021 - l_away_accuracy: 0.4487 - frame_eyes_accuracy: 0.5107 - hair_eyes_accuracy: 0.4915 - eyes_closed_accuracy: 0.5299 - frames_heavy_accuracy: 0.5192 - sh_face_accuracy: 0.4530 - skin_tone_accuracy: 0.5150 - light_accuracy: 0.4637 - hat_accuracy: 0.4979 - rotation_accuracy: 0.4957 - reflection_accuracy: 0.4722 - val_loss: 1.5944 - val_background_loss: 0.6930 - val_close_loss: 0.6930 - val_ink_mark_loss: 0.6932 - val_pixelation_loss: 0.6936 - val_washed_out_loss: 0.6925 - val_blurred_loss: 0.6931 - val_sh_head_loss: 0.6930 - val_mouth_loss: 0.6938 - val_veil_loss: 0.6933 - val_red_eyes_loss: 0.6921 - val_flash_lenses_loss: 0.6930 - val_dark_glasses_loss: 0.6936 - val_l_away_loss: 0.6934 - val_frame_eyes_loss: 0.6916 - val_hair_eyes_loss: 0.6935 - val_eyes_closed_loss: 0.6939 - val_frames_heavy_loss: 0.6953 - val_sh_face_loss: 0.6939 - val_skin_tone_loss: 0.6933 - val_light_loss: 0.6932 - val_hat_loss: 0.6928 - val_rotation_loss: 0.6928 - val_reflection_loss: 0.6931 - val_background_accuracy: 0.5208 - val_close_accuracy: 0.5417 - val_ink_mark_accuracy: 0.5000 - val_pixelation_accuracy: 0.4688 - val_washed_out_accuracy: 0.5938 - val_blurred_accuracy: 0.5104 - val_sh_head_accuracy: 0.5104 - val_mouth_accuracy: 0.4896 - val_veil_accuracy: 0.4375 - val_red_eyes_accuracy: 0.5312 - val_flash_lenses_accuracy: 0.5417 - val_dark_glasses_accuracy: 0.4896 - val_l_away_accuracy: 0.4271 - val_frame_eyes_accuracy: 0.5417 - val_hair_eyes_accuracy: 0.4896 - val_eyes_closed_accuracy: 0.4896 - val_frames_heavy_accuracy: 0.4583 - val_sh_face_accuracy: 0.4375 - val_skin_tone_accuracy: 0.5000 - val_light_accuracy: 0.4583 - val_hat_accuracy: 0.5208 - val_rotation_accuracy: 0.5521 - val_reflection_accuracy: 0.5312\n",
      "\n",
      "Epoch 00002: val_loss improved from 1.59592 to 1.59441, saving model to training_ckpt/best_model.hdf5\n",
      "..Loading best model\n",
      "..Checkpoint weights loaded\n",
      "Testing Trained Model\n",
      "Predicting labels....\n",
      "4/4 [==============================] - 1s 71ms/step\n",
      "Prediction finished!\n",
      "  final_eer_mean: 0.5022818181818182\n",
      "  final_acc: 0.4904545454545454\n",
      "++++++++++++++++++++++++++++++++++++++++++++++++++NEW TRAIN++++++++++++++++++++++++++++++++++++++++++++++++++\n",
      "++++++++++++++++++++++++++++++++++++++++++++++++++ NEW TRAIN ++++++++++++++++++++++++++++++++++++++++++++++++++\n",
      " ----- Training 3 | Config: {'n_denses_0': 1, 'n_denses_1': 2, 'n_denses_2': 5, 'n_denses_3': 5} --------\n",
      "Creating model...\n",
      "Model created\n",
      "Training VGG16 network\n",
      " .. Not fine tuning base model...\n",
      "  .. Total params: 15,714,094\n",
      "  .. Trainable params: 999,406\n",
      "  .. Non-trainable params: 14,714,688\n",
      "Epoch 1/2\n",
      "15/15 [==============================] - 11s 395ms/step - loss: 2.1301 - background_loss: 0.8155 - close_loss: 1.2199 - ink_mark_loss: 0.7850 - pixelation_loss: 1.5986 - washed_out_loss: 1.1675 - blurred_loss: 1.5289 - sh_head_loss: 0.8160 - mouth_loss: 0.7954 - veil_loss: 1.3465 - red_eyes_loss: 0.7747 - flash_lenses_loss: 1.0329 - dark_glasses_loss: 0.7352 - l_away_loss: 0.7637 - frame_eyes_loss: 0.7646 - hair_eyes_loss: 0.7351 - eyes_closed_loss: 0.7086 - frames_heavy_loss: 0.7042 - sh_face_loss: 0.6972 - skin_tone_loss: 0.7746 - light_loss: 0.7420 - hat_loss: 0.7392 - rotation_loss: 1.0923 - reflection_loss: 0.9630 - background_accuracy: 0.5235 - close_accuracy: 0.5000 - ink_mark_accuracy: 0.4744 - pixelation_accuracy: 0.5256 - washed_out_accuracy: 0.5192 - blurred_accuracy: 0.5171 - sh_head_accuracy: 0.5021 - mouth_accuracy: 0.4872 - veil_accuracy: 0.4957 - red_eyes_accuracy: 0.4808 - flash_lenses_accuracy: 0.5000 - dark_glasses_accuracy: 0.5278 - l_away_accuracy: 0.5235 - frame_eyes_accuracy: 0.4786 - hair_eyes_accuracy: 0.4979 - eyes_closed_accuracy: 0.4509 - frames_heavy_accuracy: 0.5107 - sh_face_accuracy: 0.5278 - skin_tone_accuracy: 0.5192 - light_accuracy: 0.5235 - hat_accuracy: 0.4786 - rotation_accuracy: 0.5085 - reflection_accuracy: 0.5235 - val_loss: 1.5978 - val_background_loss: 0.6968 - val_close_loss: 0.6914 - val_ink_mark_loss: 0.6967 - val_pixelation_loss: 0.6931 - val_washed_out_loss: 0.7193 - val_blurred_loss: 0.6950 - val_sh_head_loss: 0.6923 - val_mouth_loss: 0.6928 - val_veil_loss: 0.6917 - val_red_eyes_loss: 0.6913 - val_flash_lenses_loss: 0.6945 - val_dark_glasses_loss: 0.6945 - val_l_away_loss: 0.6929 - val_frame_eyes_loss: 0.6939 - val_hair_eyes_loss: 0.6935 - val_eyes_closed_loss: 0.6926 - val_frames_heavy_loss: 0.6953 - val_sh_face_loss: 0.6917 - val_skin_tone_loss: 0.6933 - val_light_loss: 0.6951 - val_hat_loss: 0.6932 - val_rotation_loss: 0.6952 - val_reflection_loss: 0.6920 - val_background_accuracy: 0.5000 - val_close_accuracy: 0.5417 - val_ink_mark_accuracy: 0.5000 - val_pixelation_accuracy: 0.5312 - val_washed_out_accuracy: 0.4062 - val_blurred_accuracy: 0.4896 - val_sh_head_accuracy: 0.5104 - val_mouth_accuracy: 0.5312 - val_veil_accuracy: 0.5625 - val_red_eyes_accuracy: 0.5312 - val_flash_lenses_accuracy: 0.4583 - val_dark_glasses_accuracy: 0.4896 - val_l_away_accuracy: 0.5729 - val_frame_eyes_accuracy: 0.4583 - val_hair_eyes_accuracy: 0.5104 - val_eyes_closed_accuracy: 0.5104 - val_frames_heavy_accuracy: 0.4583 - val_sh_face_accuracy: 0.5625 - val_skin_tone_accuracy: 0.5000 - val_light_accuracy: 0.4583 - val_hat_accuracy: 0.4896 - val_rotation_accuracy: 0.4479 - val_reflection_accuracy: 0.5312\n",
      "\n",
      "Epoch 00001: val_loss improved from inf to 1.59779, saving model to training_ckpt/best_model.hdf5\n",
      "Epoch 2/2\n",
      "15/15 [==============================] - 4s 281ms/step - loss: 1.5965 - background_loss: 0.6977 - close_loss: 0.6882 - ink_mark_loss: 0.6967 - pixelation_loss: 0.6929 - washed_out_loss: 0.7014 - blurred_loss: 0.7035 - sh_head_loss: 0.6954 - mouth_loss: 0.6930 - veil_loss: 0.6919 - red_eyes_loss: 0.6924 - flash_lenses_loss: 0.6935 - dark_glasses_loss: 0.6942 - l_away_loss: 0.6926 - frame_eyes_loss: 0.6934 - hair_eyes_loss: 0.6950 - eyes_closed_loss: 0.6934 - frames_heavy_loss: 0.6926 - sh_face_loss: 0.6914 - skin_tone_loss: 0.6924 - light_loss: 0.6927 - hat_loss: 0.6931 - rotation_loss: 0.6934 - reflection_loss: 0.6937 - background_accuracy: 0.5021 - close_accuracy: 0.5363 - ink_mark_accuracy: 0.5000 - pixelation_accuracy: 0.5128 - washed_out_accuracy: 0.5256 - blurred_accuracy: 0.5107 - sh_head_accuracy: 0.5128 - mouth_accuracy: 0.4765 - veil_accuracy: 0.5192 - red_eyes_accuracy: 0.5256 - flash_lenses_accuracy: 0.5043 - dark_glasses_accuracy: 0.5043 - l_away_accuracy: 0.4765 - frame_eyes_accuracy: 0.4808 - hair_eyes_accuracy: 0.5128 - eyes_closed_accuracy: 0.4744 - frames_heavy_accuracy: 0.5150 - sh_face_accuracy: 0.5449 - skin_tone_accuracy: 0.5235 - light_accuracy: 0.5385 - hat_accuracy: 0.4786 - rotation_accuracy: 0.5064 - reflection_accuracy: 0.4979 - val_loss: 1.5944 - val_background_loss: 0.6930 - val_close_loss: 0.6933 - val_ink_mark_loss: 0.6932 - val_pixelation_loss: 0.6925 - val_washed_out_loss: 0.6932 - val_blurred_loss: 0.6935 - val_sh_head_loss: 0.6933 - val_mouth_loss: 0.6930 - val_veil_loss: 0.6915 - val_red_eyes_loss: 0.6918 - val_flash_lenses_loss: 0.6946 - val_dark_glasses_loss: 0.6939 - val_l_away_loss: 0.6932 - val_frame_eyes_loss: 0.6932 - val_hair_eyes_loss: 0.6930 - val_eyes_closed_loss: 0.6931 - val_frames_heavy_loss: 0.6949 - val_sh_face_loss: 0.6917 - val_skin_tone_loss: 0.6934 - val_light_loss: 0.6952 - val_hat_loss: 0.6932 - val_rotation_loss: 0.6946 - val_reflection_loss: 0.6923 - val_background_accuracy: 0.5208 - val_close_accuracy: 0.4583 - val_ink_mark_accuracy: 0.5000 - val_pixelation_accuracy: 0.5312 - val_washed_out_accuracy: 0.4062 - val_blurred_accuracy: 0.4896 - val_sh_head_accuracy: 0.4896 - val_mouth_accuracy: 0.5104 - val_veil_accuracy: 0.5625 - val_red_eyes_accuracy: 0.5312 - val_flash_lenses_accuracy: 0.4583 - val_dark_glasses_accuracy: 0.4896 - val_l_away_accuracy: 0.4271 - val_frame_eyes_accuracy: 0.4583 - val_hair_eyes_accuracy: 0.5104 - val_eyes_closed_accuracy: 0.5104 - val_frames_heavy_accuracy: 0.4583 - val_sh_face_accuracy: 0.5625 - val_skin_tone_accuracy: 0.5000 - val_light_accuracy: 0.4583 - val_hat_accuracy: 0.4792 - val_rotation_accuracy: 0.4479 - val_reflection_accuracy: 0.5312\n",
      "\n",
      "Epoch 00002: val_loss improved from 1.59779 to 1.59443, saving model to training_ckpt/best_model.hdf5\n",
      "..Loading best model\n",
      "..Checkpoint weights loaded\n",
      "Testing Trained Model\n",
      "Predicting labels....\n",
      "4/4 [==============================] - 1s 65ms/step\n",
      "Prediction finished!\n",
      "  final_eer_mean: 0.5\n",
      "  final_acc: 0.4918181818181818\n",
      "++++++++++++++++++++++++++++++++++++++++++++++++++NEW TRAIN++++++++++++++++++++++++++++++++++++++++++++++++++\n",
      "++++++++++++++++++++++++++++++++++++++++++++++++++ NEW TRAIN ++++++++++++++++++++++++++++++++++++++++++++++++++\n",
      " ----- Training 4 | Config: {'n_denses_0': 1, 'n_denses_1': 2, 'n_denses_2': 5, 'n_denses_3': 5} --------\n",
      "Creating model...\n",
      "Model created\n",
      "Training VGG16 network\n",
      " .. Not fine tuning base model...\n",
      "  .. Total params: 15,714,094\n",
      "  .. Trainable params: 999,406\n",
      "  .. Non-trainable params: 14,714,688\n",
      "Epoch 1/2\n",
      "15/15 [==============================] - 11s 389ms/step - loss: 3.1511 - background_loss: 2.7076 - close_loss: 3.4045 - ink_mark_loss: 2.5280 - pixelation_loss: 2.8448 - washed_out_loss: 1.0391 - blurred_loss: 2.5610 - sh_head_loss: 2.1967 - mouth_loss: 0.8333 - veil_loss: 1.4541 - red_eyes_loss: 1.0177 - flash_lenses_loss: 0.8015 - dark_glasses_loss: 0.8729 - l_away_loss: 0.8835 - frame_eyes_loss: 0.8385 - hair_eyes_loss: 0.7608 - eyes_closed_loss: 1.0584 - frames_heavy_loss: 0.7348 - sh_face_loss: 1.1244 - skin_tone_loss: 0.7034 - light_loss: 0.8506 - hat_loss: 0.8110 - rotation_loss: 0.7056 - reflection_loss: 0.7792 - background_accuracy: 0.5128 - close_accuracy: 0.5256 - ink_mark_accuracy: 0.5085 - pixelation_accuracy: 0.4744 - washed_out_accuracy: 0.4744 - blurred_accuracy: 0.4658 - sh_head_accuracy: 0.5085 - mouth_accuracy: 0.4615 - veil_accuracy: 0.5406 - red_eyes_accuracy: 0.5171 - flash_lenses_accuracy: 0.5000 - dark_glasses_accuracy: 0.5299 - l_away_accuracy: 0.5000 - frame_eyes_accuracy: 0.5064 - hair_eyes_accuracy: 0.5128 - eyes_closed_accuracy: 0.4765 - frames_heavy_accuracy: 0.5363 - sh_face_accuracy: 0.5043 - skin_tone_accuracy: 0.5171 - light_accuracy: 0.4744 - hat_accuracy: 0.5150 - rotation_accuracy: 0.4979 - reflection_accuracy: 0.5150 - val_loss: 1.5936 - val_background_loss: 0.6927 - val_close_loss: 0.6930 - val_ink_mark_loss: 0.6925 - val_pixelation_loss: 0.6937 - val_washed_out_loss: 0.6918 - val_blurred_loss: 0.6928 - val_sh_head_loss: 0.6916 - val_mouth_loss: 0.6926 - val_veil_loss: 0.6881 - val_red_eyes_loss: 0.6938 - val_flash_lenses_loss: 0.6945 - val_dark_glasses_loss: 0.6939 - val_l_away_loss: 0.6924 - val_frame_eyes_loss: 0.6943 - val_hair_eyes_loss: 0.6930 - val_eyes_closed_loss: 0.6929 - val_frames_heavy_loss: 0.6951 - val_sh_face_loss: 0.6896 - val_skin_tone_loss: 0.6934 - val_light_loss: 0.6928 - val_hat_loss: 0.6947 - val_rotation_loss: 0.6929 - val_reflection_loss: 0.6944 - val_background_accuracy: 0.5208 - val_close_accuracy: 0.5417 - val_ink_mark_accuracy: 0.5000 - val_pixelation_accuracy: 0.4792 - val_washed_out_accuracy: 0.6042 - val_blurred_accuracy: 0.5000 - val_sh_head_accuracy: 0.5625 - val_mouth_accuracy: 0.5104 - val_veil_accuracy: 0.5625 - val_red_eyes_accuracy: 0.4688 - val_flash_lenses_accuracy: 0.4583 - val_dark_glasses_accuracy: 0.4896 - val_l_away_accuracy: 0.5729 - val_frame_eyes_accuracy: 0.4583 - val_hair_eyes_accuracy: 0.5104 - val_eyes_closed_accuracy: 0.5104 - val_frames_heavy_accuracy: 0.4583 - val_sh_face_accuracy: 0.5625 - val_skin_tone_accuracy: 0.5000 - val_light_accuracy: 0.5417 - val_hat_accuracy: 0.4792 - val_rotation_accuracy: 0.5521 - val_reflection_accuracy: 0.4688\n",
      "\n",
      "Epoch 00001: val_loss improved from inf to 1.59365, saving model to training_ckpt/best_model.hdf5\n",
      "Epoch 2/2\n",
      "15/15 [==============================] - 4s 278ms/step - loss: 1.5945 - background_loss: 0.6945 - close_loss: 0.6962 - ink_mark_loss: 0.6911 - pixelation_loss: 0.6928 - washed_out_loss: 0.6952 - blurred_loss: 0.6931 - sh_head_loss: 0.6927 - mouth_loss: 0.6946 - veil_loss: 0.6914 - red_eyes_loss: 0.6935 - flash_lenses_loss: 0.6940 - dark_glasses_loss: 0.6933 - l_away_loss: 0.6934 - frame_eyes_loss: 0.6934 - hair_eyes_loss: 0.6927 - eyes_closed_loss: 0.6943 - frames_heavy_loss: 0.6932 - sh_face_loss: 0.6903 - skin_tone_loss: 0.6925 - light_loss: 0.6936 - hat_loss: 0.6926 - rotation_loss: 0.6930 - reflection_loss: 0.6939 - background_accuracy: 0.5342 - close_accuracy: 0.4722 - ink_mark_accuracy: 0.5321 - pixelation_accuracy: 0.5107 - washed_out_accuracy: 0.4637 - blurred_accuracy: 0.5235 - sh_head_accuracy: 0.5128 - mouth_accuracy: 0.4530 - veil_accuracy: 0.5321 - red_eyes_accuracy: 0.4744 - flash_lenses_accuracy: 0.4786 - dark_glasses_accuracy: 0.5043 - l_away_accuracy: 0.4786 - frame_eyes_accuracy: 0.4872 - hair_eyes_accuracy: 0.5107 - eyes_closed_accuracy: 0.4872 - frames_heavy_accuracy: 0.5107 - sh_face_accuracy: 0.5406 - skin_tone_accuracy: 0.5256 - light_accuracy: 0.4701 - hat_accuracy: 0.5043 - rotation_accuracy: 0.5043 - reflection_accuracy: 0.4936 - val_loss: 1.5940 - val_background_loss: 0.6928 - val_close_loss: 0.6930 - val_ink_mark_loss: 0.6931 - val_pixelation_loss: 0.6927 - val_washed_out_loss: 0.6929 - val_blurred_loss: 0.6930 - val_sh_head_loss: 0.6947 - val_mouth_loss: 0.6929 - val_veil_loss: 0.6875 - val_red_eyes_loss: 0.6936 - val_flash_lenses_loss: 0.6941 - val_dark_glasses_loss: 0.6937 - val_l_away_loss: 0.6924 - val_frame_eyes_loss: 0.6938 - val_hair_eyes_loss: 0.6930 - val_eyes_closed_loss: 0.6929 - val_frames_heavy_loss: 0.6960 - val_sh_face_loss: 0.6890 - val_skin_tone_loss: 0.6935 - val_light_loss: 0.6926 - val_hat_loss: 0.6947 - val_rotation_loss: 0.6930 - val_reflection_loss: 0.6947 - val_background_accuracy: 0.5208 - val_close_accuracy: 0.5312 - val_ink_mark_accuracy: 0.5000 - val_pixelation_accuracy: 0.5312 - val_washed_out_accuracy: 0.5729 - val_blurred_accuracy: 0.5104 - val_sh_head_accuracy: 0.4896 - val_mouth_accuracy: 0.5104 - val_veil_accuracy: 0.5625 - val_red_eyes_accuracy: 0.4688 - val_flash_lenses_accuracy: 0.4583 - val_dark_glasses_accuracy: 0.4896 - val_l_away_accuracy: 0.5729 - val_frame_eyes_accuracy: 0.4583 - val_hair_eyes_accuracy: 0.5104 - val_eyes_closed_accuracy: 0.5104 - val_frames_heavy_accuracy: 0.4583 - val_sh_face_accuracy: 0.5625 - val_skin_tone_accuracy: 0.5000 - val_light_accuracy: 0.5417 - val_hat_accuracy: 0.4792 - val_rotation_accuracy: 0.5521 - val_reflection_accuracy: 0.4688\n",
      "\n",
      "Epoch 00002: val_loss did not improve from 1.59365\n",
      "..Loading best model\n",
      "..Checkpoint weights loaded\n",
      "Testing Trained Model\n",
      "Predicting labels....\n",
      "4/4 [==============================] - 1s 67ms/step\n",
      "Prediction finished!\n",
      "  final_eer_mean: 0.4975136363636363\n",
      "  final_acc: 0.5022727272727273\n",
      "++++++++++++++++++++++++++++++++++++++++++++++++++NEW TRAIN++++++++++++++++++++++++++++++++++++++++++++++++++\n",
      "memory_dict: {'model_0': {'final_EER_mean': 0.4968727272727273, 'final_ACC': 0.5031818181818183}, 'model_1': {'final_EER_mean': 0.5, 'final_ACC': 0.4918181818181818}, 'model_2': {'final_EER_mean': 0.5022818181818182, 'final_ACC': 0.4904545454545454}, 'model_3': {'final_EER_mean': 0.5, 'final_ACC': 0.4918181818181818}, 'model_4': {'final_EER_mean': 0.4975136363636363, 'final_ACC': 0.5022727272727273}}\n"
     ]
    },
    {
     "data": {
      "text/plain": [
       "{'model_0': {'final_EER_mean': 0.4968727272727273,\n",
       "  'final_ACC': 0.5031818181818183},\n",
       " 'model_1': {'final_EER_mean': 0.5, 'final_ACC': 0.4918181818181818},\n",
       " 'model_2': {'final_EER_mean': 0.5022818181818182,\n",
       "  'final_ACC': 0.4904545454545454},\n",
       " 'model_3': {'final_EER_mean': 0.5, 'final_ACC': 0.4918181818181818},\n",
       " 'model_4': {'final_EER_mean': 0.4975136363636363,\n",
       "  'final_ACC': 0.5022727272727273}}"
      ]
     },
     "execution_count": 11,
     "metadata": {},
     "output_type": "execute_result"
    }
   ],
   "source": [
    "runner.run_neural_architeture_search()"
   ]
  },
  {
   "cell_type": "markdown",
   "metadata": {},
   "source": [
    "# Testing Network Modification"
   ]
  },
  {
   "cell_type": "raw",
   "metadata": {
    "jupyter": {
     "outputs_hidden": true
    },
    "tags": []
   },
   "source": [
    "import tensorflow as tf\n",
    "import tensorflow.keras as keras\n",
    "import tensorflow.keras.backend as K\n",
    "import numpy as np\n",
    "from tensorflow.keras.layers import Dense, Input, Layer\n",
    "from tensorflow.keras.models import Model\n",
    "\n",
    "input_tensor = Input(shape=(20,), name=\"input\")\n",
    "hidden = Dense(100, activation='relu')(input_tensor)\n",
    "out = Dense(10, activation='relu', name=\"out\")(hidden)\n",
    "\n",
    "model = Model(inputs=input_tensor, outputs=out)\n",
    "model.compile(loss=\"mse\", optimizer='adam')\n",
    "\n",
    "model.summary()\n",
    "\n",
    "out = Dense(5, activation='softmax', name='new_out')(model.layers[-2].output)\n",
    "\n",
    "new_model = Model(input_tensor, out)\n",
    "new_model.summary()"
   ]
  }
 ],
 "metadata": {
  "interpreter": {
   "hash": "85f5044ba23e75135dc4c908fd4d7609c1c80b195047fdb4d16ee0e66a953254"
  },
  "kernelspec": {
   "display_name": "Python 3 (ipykernel)",
   "language": "python",
   "name": "python3"
  },
  "language_info": {
   "codemirror_mode": {
    "name": "ipython",
    "version": 3
   },
   "file_extension": ".py",
   "mimetype": "text/x-python",
   "name": "python",
   "nbconvert_exporter": "python",
   "pygments_lexer": "ipython3",
   "version": "3.8.0"
  },
  "toc-autonumbering": true
 },
 "nbformat": 4,
 "nbformat_minor": 4
}

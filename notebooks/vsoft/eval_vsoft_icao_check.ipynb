{
 "cells": [
  {
   "cell_type": "markdown",
   "metadata": {},
   "source": [
    "# Introduction\n",
    "\n",
    "Notebook de avaliação de serviço BiopassID ICAO Check em comparação com ground truth FVC-ICAO."
   ]
  },
  {
   "cell_type": "markdown",
   "metadata": {},
   "source": [
    "# Import Libraries"
   ]
  },
  {
   "cell_type": "code",
   "execution_count": 1,
   "metadata": {},
   "outputs": [],
   "source": [
    "%load_ext autoreload\n",
    "%autoreload 2"
   ]
  },
  {
   "cell_type": "code",
   "execution_count": 12,
   "metadata": {},
   "outputs": [],
   "source": [
    "import sys\n",
    "import numpy as np\n",
    "import pandas as pd\n",
    "\n",
    "if '../../../../notebooks/' not in sys.path:\n",
    "    sys.path.insert(0, '../../../../notebooks/')\n",
    "\n",
    "from net_data_loaders.net_gt_loader import NetGTLoader\n",
    "from gt_loaders.gt_names import GTName\n",
    "from utils.constants import ICAO_REQ\n",
    "from vsoft_evaluator import VsoftEvaluator, DataSource"
   ]
  },
  {
   "cell_type": "markdown",
   "metadata": {},
   "source": [
    "# Load Ground Truth"
   ]
  },
  {
   "cell_type": "code",
   "execution_count": 3,
   "metadata": {},
   "outputs": [
    {
     "name": "stdout",
     "output_type": "stream",
     "text": [
      "Loading GT FVC - TRAIN split...\n",
      "..Ignoring 0 empty label values\n",
      "Input data.shape: (4928, 26)\n",
      "Loading GT FVC - VALIDATION split...\n",
      "..Ignoring 0 empty label values\n",
      "Input data.shape: (547, 26)\n",
      "Loading GT FVC - TEST split...\n",
      "..Ignoring 0 empty label values\n",
      "Input data.shape: (288, 26)\n"
     ]
    }
   ],
   "source": [
    "net_gt_loader = NetGTLoader(aligned=False, gt_names=[GTName.FVC], requisites=list(ICAO_REQ), is_mtl_model=False)\n",
    "train_data = net_gt_loader.load_gt_data(split='train')\n",
    "valid_data = net_gt_loader.load_gt_data(split='validation')\n",
    "test_data = net_gt_loader.load_gt_data(split='test')"
   ]
  },
  {
   "cell_type": "markdown",
   "metadata": {},
   "source": [
    "# Load Vsoft Data"
   ]
  },
  {
   "cell_type": "code",
   "execution_count": 4,
   "metadata": {},
   "outputs": [
    {
     "name": "stdout",
     "output_type": "stream",
     "text": [
      "(5763, 25)\n",
      "830\n",
      "(4933, 25)\n"
     ]
    }
   ],
   "source": [
    "data_df = pd.read_csv('vsoft_data/compliance_check_vsoft.csv')\n",
    "print(data_df.shape)\n",
    "\n",
    "ignore_imgs = data_df[data_df.mouth != -99].img_name\n",
    "print(len(ignore_imgs))\n",
    "\n",
    "data_df = data_df[~data_df.img_name.isin(ignore_imgs)]\n",
    "print(data_df.shape)"
   ]
  },
  {
   "cell_type": "code",
   "execution_count": 22,
   "metadata": {},
   "outputs": [
    {
     "data": {
      "text/html": [
       "<div>\n",
       "<style scoped>\n",
       "    .dataframe tbody tr th:only-of-type {\n",
       "        vertical-align: middle;\n",
       "    }\n",
       "\n",
       "    .dataframe tbody tr th {\n",
       "        vertical-align: top;\n",
       "    }\n",
       "\n",
       "    .dataframe thead th {\n",
       "        text-align: right;\n",
       "    }\n",
       "</style>\n",
       "<table border=\"1\" class=\"dataframe\">\n",
       "  <thead>\n",
       "    <tr style=\"text-align: right;\">\n",
       "      <th></th>\n",
       "      <th>origin</th>\n",
       "      <th>img_name</th>\n",
       "      <th>mouth</th>\n",
       "      <th>rotation</th>\n",
       "      <th>l_away</th>\n",
       "      <th>eyes_closed</th>\n",
       "      <th>close</th>\n",
       "      <th>hat</th>\n",
       "      <th>dark_glasses</th>\n",
       "      <th>frames_heavy</th>\n",
       "      <th>...</th>\n",
       "      <th>sh_face</th>\n",
       "      <th>sh_head</th>\n",
       "      <th>blurred</th>\n",
       "      <th>ink_mark</th>\n",
       "      <th>skin_tone</th>\n",
       "      <th>washed_out</th>\n",
       "      <th>pixelation</th>\n",
       "      <th>hair_eyes</th>\n",
       "      <th>background</th>\n",
       "      <th>red_eyes</th>\n",
       "    </tr>\n",
       "  </thead>\n",
       "  <tbody>\n",
       "    <tr>\n",
       "      <th>8</th>\n",
       "      <td>VSOFT</td>\n",
       "      <td>/home/guilherme/data1/Dropbox/Link to Desktop/...</td>\n",
       "      <td>-99</td>\n",
       "      <td>-99</td>\n",
       "      <td>-99</td>\n",
       "      <td>-99</td>\n",
       "      <td>-99</td>\n",
       "      <td>-99</td>\n",
       "      <td>-99</td>\n",
       "      <td>-99</td>\n",
       "      <td>...</td>\n",
       "      <td>-99</td>\n",
       "      <td>-99</td>\n",
       "      <td>-99</td>\n",
       "      <td>-99</td>\n",
       "      <td>-99</td>\n",
       "      <td>-99</td>\n",
       "      <td>-99</td>\n",
       "      <td>-99</td>\n",
       "      <td>-99</td>\n",
       "      <td>-99</td>\n",
       "    </tr>\n",
       "    <tr>\n",
       "      <th>24</th>\n",
       "      <td>VSOFT</td>\n",
       "      <td>/home/guilherme/data1/Dropbox/Link to Desktop/...</td>\n",
       "      <td>-99</td>\n",
       "      <td>-99</td>\n",
       "      <td>-99</td>\n",
       "      <td>-99</td>\n",
       "      <td>-99</td>\n",
       "      <td>-99</td>\n",
       "      <td>-99</td>\n",
       "      <td>-99</td>\n",
       "      <td>...</td>\n",
       "      <td>-99</td>\n",
       "      <td>-99</td>\n",
       "      <td>-99</td>\n",
       "      <td>-99</td>\n",
       "      <td>-99</td>\n",
       "      <td>-99</td>\n",
       "      <td>-99</td>\n",
       "      <td>-99</td>\n",
       "      <td>-99</td>\n",
       "      <td>-99</td>\n",
       "    </tr>\n",
       "    <tr>\n",
       "      <th>39</th>\n",
       "      <td>VSOFT</td>\n",
       "      <td>/home/guilherme/data1/Dropbox/Link to Desktop/...</td>\n",
       "      <td>-99</td>\n",
       "      <td>-99</td>\n",
       "      <td>-99</td>\n",
       "      <td>-99</td>\n",
       "      <td>-99</td>\n",
       "      <td>-99</td>\n",
       "      <td>-99</td>\n",
       "      <td>-99</td>\n",
       "      <td>...</td>\n",
       "      <td>-99</td>\n",
       "      <td>-99</td>\n",
       "      <td>-99</td>\n",
       "      <td>-99</td>\n",
       "      <td>-99</td>\n",
       "      <td>-99</td>\n",
       "      <td>-99</td>\n",
       "      <td>-99</td>\n",
       "      <td>-99</td>\n",
       "      <td>-99</td>\n",
       "    </tr>\n",
       "    <tr>\n",
       "      <th>51</th>\n",
       "      <td>VSOFT</td>\n",
       "      <td>/home/guilherme/data1/Dropbox/Link to Desktop/...</td>\n",
       "      <td>-99</td>\n",
       "      <td>-99</td>\n",
       "      <td>-99</td>\n",
       "      <td>-99</td>\n",
       "      <td>-99</td>\n",
       "      <td>-99</td>\n",
       "      <td>-99</td>\n",
       "      <td>-99</td>\n",
       "      <td>...</td>\n",
       "      <td>-99</td>\n",
       "      <td>-99</td>\n",
       "      <td>-99</td>\n",
       "      <td>-99</td>\n",
       "      <td>-99</td>\n",
       "      <td>-99</td>\n",
       "      <td>-99</td>\n",
       "      <td>-99</td>\n",
       "      <td>-99</td>\n",
       "      <td>-99</td>\n",
       "    </tr>\n",
       "    <tr>\n",
       "      <th>52</th>\n",
       "      <td>VSOFT</td>\n",
       "      <td>/home/guilherme/data1/Dropbox/Link to Desktop/...</td>\n",
       "      <td>-99</td>\n",
       "      <td>-99</td>\n",
       "      <td>-99</td>\n",
       "      <td>-99</td>\n",
       "      <td>-99</td>\n",
       "      <td>-99</td>\n",
       "      <td>-99</td>\n",
       "      <td>-99</td>\n",
       "      <td>...</td>\n",
       "      <td>-99</td>\n",
       "      <td>-99</td>\n",
       "      <td>-99</td>\n",
       "      <td>-99</td>\n",
       "      <td>-99</td>\n",
       "      <td>-99</td>\n",
       "      <td>-99</td>\n",
       "      <td>-99</td>\n",
       "      <td>-99</td>\n",
       "      <td>-99</td>\n",
       "    </tr>\n",
       "  </tbody>\n",
       "</table>\n",
       "<p>5 rows × 25 columns</p>\n",
       "</div>"
      ],
      "text/plain": [
       "   origin                                           img_name  mouth  rotation  \\\n",
       "8   VSOFT  /home/guilherme/data1/Dropbox/Link to Desktop/...    -99       -99   \n",
       "24  VSOFT  /home/guilherme/data1/Dropbox/Link to Desktop/...    -99       -99   \n",
       "39  VSOFT  /home/guilherme/data1/Dropbox/Link to Desktop/...    -99       -99   \n",
       "51  VSOFT  /home/guilherme/data1/Dropbox/Link to Desktop/...    -99       -99   \n",
       "52  VSOFT  /home/guilherme/data1/Dropbox/Link to Desktop/...    -99       -99   \n",
       "\n",
       "    l_away  eyes_closed  close  hat  dark_glasses  frames_heavy  ...  sh_face  \\\n",
       "8      -99          -99    -99  -99           -99           -99  ...      -99   \n",
       "24     -99          -99    -99  -99           -99           -99  ...      -99   \n",
       "39     -99          -99    -99  -99           -99           -99  ...      -99   \n",
       "51     -99          -99    -99  -99           -99           -99  ...      -99   \n",
       "52     -99          -99    -99  -99           -99           -99  ...      -99   \n",
       "\n",
       "    sh_head  blurred  ink_mark  skin_tone  washed_out  pixelation  hair_eyes  \\\n",
       "8       -99      -99       -99        -99         -99         -99        -99   \n",
       "24      -99      -99       -99        -99         -99         -99        -99   \n",
       "39      -99      -99       -99        -99         -99         -99        -99   \n",
       "51      -99      -99       -99        -99         -99         -99        -99   \n",
       "52      -99      -99       -99        -99         -99         -99        -99   \n",
       "\n",
       "    background  red_eyes  \n",
       "8          -99       -99  \n",
       "24         -99       -99  \n",
       "39         -99       -99  \n",
       "51         -99       -99  \n",
       "52         -99       -99  \n",
       "\n",
       "[5 rows x 25 columns]"
      ]
     },
     "execution_count": 22,
     "metadata": {},
     "output_type": "execute_result"
    }
   ],
   "source": [
    "data_df.head()"
   ]
  },
  {
   "cell_type": "markdown",
   "metadata": {},
   "source": [
    "# Calculate Metrics"
   ]
  },
  {
   "cell_type": "code",
   "execution_count": 6,
   "metadata": {},
   "outputs": [],
   "source": [
    "def select_vsoft_data(vsoft_data_df, data_src):\n",
    "    if data_src == DataSource.TEST:\n",
    "        return vsoft_data_df[vsoft_data_df.img_name.isin(test_data.img_name)]\n",
    "    elif data_src == DataSource.VALIDATION:\n",
    "        return vsoft_data_df[vsoft_data_df.img_name.isin(valid_data.img_name)]"
   ]
  },
  {
   "cell_type": "markdown",
   "metadata": {},
   "source": [
    "## Test Split"
   ]
  },
  {
   "cell_type": "code",
   "execution_count": 19,
   "metadata": {},
   "outputs": [
    {
     "name": "stdout",
     "output_type": "stream",
     "text": [
      "Testing VSOFT BiopassID ICAO CHECK\n",
      "Requisite: MOUTH\n",
      "[1. 0. 1. 0. 0. 0. 1. 1. 1. 0. 1. 0. 1. 1. 1.]\n",
      "float64\n",
      "[-99. -99. -99. -99. -99. -99. -99. -99. -99. -99. -99. -99. -99. -99.\n",
      " -99.]\n",
      "float64\n"
     ]
    },
    {
     "data": {
      "image/png": "[encoded data removed]",
      "text/plain": [
       "<Figure size 432x288 with 1 Axes>"
      ]
     },
     "metadata": {
      "needs_background": "light"
     },
     "output_type": "display_data"
    },
    {
     "data": {
      "image/png": "[encoded data removed]",
      "text/plain": [
       "<Figure size 432x288 with 1 Axes>"
      ]
     },
     "metadata": {
      "needs_background": "light"
     },
     "output_type": "display_data"
    },
    {
     "name": "stdout",
     "output_type": "stream",
     "text": [
      "Requisite: MOUTH - EER_interp: 50.0% - Best Threshold: -98.5\n",
      "Classification report -----------------------------------\n",
      "              precision    recall  f1-score   support\n",
      "\n",
      "         0.0       0.25      1.00      0.40        73\n",
      "         1.0       0.00      0.00      0.00       215\n",
      "\n",
      "    accuracy                           0.25       288\n",
      "   macro avg       0.13      0.50      0.20       288\n",
      "weighted avg       0.06      0.25      0.10       288\n",
      "\n",
      "Confusion matrix ----------------------------------------\n",
      "FAR: 0.0% | FRR: 100.0% | EER_mean: 50.0% | TP: 0 | TN: 73 | FP: 0 | FN: 215\n",
      "Accuracy ------------------------------------------------\n",
      "Model Accuracy: 25.35%\n",
      "---------------------------------------------------------\n"
     ]
    },
    {
     "name": "stderr",
     "output_type": "stream",
     "text": [
      "/home/guilherme/anaconda3/envs/mteval-icao-reqs/submodules/icao_nets_training/lib/python3.8/site-packages/sklearn/metrics/_classification.py:1221: UndefinedMetricWarning: Precision and F-score are ill-defined and being set to 0.0 in labels with no predicted samples. Use `zero_division` parameter to control this behavior.\n",
      "  _warn_prf(average, modifier, msg_start, len(result))\n"
     ]
    }
   ],
   "source": [
    "data_src = DataSource.TEST\n",
    "\n",
    "vsoft_ev = VsoftEvaluator(data_src=data_src)\n",
    "tmp_df = select_vsoft_data(data_df, data_src)\n",
    "\n",
    "for req in list(ICAO_REQ)[:1]:\n",
    "    if req != ICAO_REQ.INK_MARK:\n",
    "        y_true = np.array([float(x) for x in test_data[req.value].values])\n",
    "        y_hat = np.array([float(x) for x in tmp_df[req.value].values])\n",
    "        vsoft_ev.calculate_metrics(y_true=y_true, y_hat=y_hat, requisite=req)"
   ]
  }
 ],
 "metadata": {
  "kernelspec": {
   "display_name": "Python 3",
   "language": "python",
   "name": "python3"
  },
  "language_info": {
   "codemirror_mode": {
    "name": "ipython",
    "version": 3
   },
   "file_extension": ".py",
   "mimetype": "text/x-python",
   "name": "python",
   "nbconvert_exporter": "python",
   "pygments_lexer": "ipython3",
   "version": "3.8.3"
  }
 },
 "nbformat": 4,
 "nbformat_minor": 4
}

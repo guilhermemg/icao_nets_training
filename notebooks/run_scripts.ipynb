{
 "cells": [
  {
   "cell_type": "markdown",
   "metadata": {},
   "source": [
    "# Introduction\n",
    "\n",
    "Notebook to run experiments training deep nets and recording results in neptune experiments manager."
   ]
  },
  {
   "cell_type": "markdown",
   "metadata": {},
   "source": [
    "# Import Libraries"
   ]
  },
  {
   "cell_type": "code",
   "execution_count": 1,
   "metadata": {},
   "outputs": [],
   "source": [
    "%load_ext autoreload\n",
    "%autoreload 2"
   ]
  },
  {
   "cell_type": "code",
   "execution_count": 2,
   "metadata": {},
   "outputs": [],
   "source": [
    "import sys\n",
    "\n",
    "if '../../../notebooks/' not in sys.path:\n",
    "    sys.path.append('../../../notebooks/')\n",
    "\n",
    "import utils.constants as cts\n",
    "\n",
    "from models.oface_mouth_model import OpenfaceMouth\n",
    "from data_loaders.data_loader import DLName\n",
    "from train_mobilenetv2 import NetworkTrainer"
   ]
  },
  {
   "cell_type": "markdown",
   "metadata": {},
   "source": [
    "# Train Network"
   ]
  },
  {
   "cell_type": "code",
   "execution_count": null,
   "metadata": {},
   "outputs": [
    {
     "name": "stdout",
     "output_type": "stream",
     "text": [
      "===================\n",
      "Args: \n",
      "{'exp_params': {'description': 'Testing to pass values as arguments to '\n",
      "                               'NetTrainer class',\n",
      "                'name': 'train_mobilenetv2',\n",
      "                'src_files': ['train_mobilenetv2.py'],\n",
      "                'tags': ['mobilenetv2']},\n",
      " 'net_train_params': {'batch_size': 32,\n",
      "                      'dense_units': 128,\n",
      "                      'dropout': 0.5,\n",
      "                      'learning_rate': 0.001,\n",
      "                      'n_epochs': 100,\n",
      "                      'optimizer': 'Adam',\n",
      "                      'seed': 42,\n",
      "                      'shuffle': True,\n",
      "                      'test_prop': 0.1,\n",
      "                      'train_prop': 0.8,\n",
      "                      'validation_prop': 0.1,\n",
      "                      'validation_split': 0.2},\n",
      " 'properties': {'aligned': True,\n",
      "                'dl_names': [<DLName.FVC_PYBOSSA: 'fvc_pybossa'>],\n",
      "                'req': <ICAO_REQ.MOUTH: 'mouth'>,\n",
      "                'tagger_model': <models.oface_mouth_model.OpenfaceMouth object at 0x7f669c67f670>}}\n",
      "===================\n",
      "Loading data\n",
      "Input data.shape: (5780, 4)\n",
      "Number of Samples: 5780\n",
      "Data loaded\n",
      "Starting data generators\n",
      "Found 4162 validated image filenames belonging to 2 classes.\n",
      "Found 1040 validated image filenames belonging to 2 classes.\n",
      "Found 578 validated image filenames belonging to 2 classes.\n",
      "TOTAL: 5780\n",
      "Starting Neptune\n",
      "Creating experiment\n",
      "https://ui.neptune.ai/guilhermemg/icao-nets-training/e/IC-28\n",
      "Training network\n",
      "Epoch 1/100\n",
      "130/130 [==============================] - 10s 80ms/step - loss: 0.7223 - accuracy: 0.4833 - val_loss: 0.6932 - val_accuracy: 0.4600\n",
      "Epoch 2/100\n",
      "130/130 [==============================] - 9s 67ms/step - loss: 0.6932 - accuracy: 0.3550 - val_loss: 0.6932 - val_accuracy: 0.3760\n",
      "Epoch 3/100\n",
      "130/130 [==============================] - 9s 67ms/step - loss: 0.6932 - accuracy: 0.3094 - val_loss: 0.6932 - val_accuracy: 0.3506\n",
      "Epoch 4/100\n",
      "130/130 [==============================] - 9s 66ms/step - loss: 0.6932 - accuracy: 0.3116 - val_loss: 0.6932 - val_accuracy: 0.3701\n",
      "Epoch 5/100\n",
      "130/130 [==============================] - 9s 67ms/step - loss: 0.6932 - accuracy: 0.3199 - val_loss: 0.6932 - val_accuracy: 0.3359\n",
      "Epoch 6/100\n",
      "130/130 [==============================] - 9s 67ms/step - loss: 0.6932 - accuracy: 0.2959 - val_loss: 0.6932 - val_accuracy: 0.3203\n",
      "Epoch 7/100\n",
      "130/130 [==============================] - 9s 67ms/step - loss: 0.6932 - accuracy: 0.2908 - val_loss: 0.6932 - val_accuracy: 0.3086\n",
      "Epoch 8/100\n",
      "130/130 [==============================] - 9s 66ms/step - loss: 0.6932 - accuracy: 0.2659 - val_loss: 0.6932 - val_accuracy: 0.2998\n",
      "Epoch 9/100\n",
      "130/130 [==============================] - 9s 68ms/step - loss: 0.6931 - accuracy: 0.2608 - val_loss: 0.6932 - val_accuracy: 0.2949\n",
      "Epoch 10/100\n",
      " 65/130 [==============>...............] - ETA: 3s - loss: 0.6931 - accuracy: 0.2415"
     ]
    }
   ],
   "source": [
    "kwargs = { \n",
    "    'exp_params' : {\n",
    "        'name': 'train_mobilenetv2',\n",
    "        'description': 'Testing to pass values as arguments to NetTrainer class',\n",
    "        'tags': ['mobilenetv2'],\n",
    "        'src_files': ['train_mobilenetv2.py']\n",
    "    },\n",
    "    'properties': {\n",
    "        'tagger_model': OpenfaceMouth(),\n",
    "        'dl_names': [DLName.FVC_PYBOSSA],\n",
    "        'req': cts.ICAO_REQ.MOUTH,\n",
    "        'aligned': True \n",
    "    },\n",
    "    'net_train_params': {\n",
    "        'batch_size': 32,\n",
    "        'n_epochs': 100,\n",
    "        'shuffle': True,\n",
    "        'dense_units': 128,\n",
    "        'learning_rate': 1e-3,\n",
    "        'optimizer': 'Adam',\n",
    "        'dropout': 0.5,\n",
    "        'train_prop': 0.8,\n",
    "        'validation_prop': 0.1,\n",
    "        'test_prop': 0.1,\n",
    "        'seed': 42,\n",
    "        'validation_split': 0.2\n",
    "    }\n",
    "}\n",
    "\n",
    "trainer = NetworkTrainer(**kwargs)\n",
    "trainer.run()"
   ]
  }
 ],
 "metadata": {
  "kernelspec": {
   "display_name": "Python 3",
   "language": "python",
   "name": "python3"
  },
  "language_info": {
   "codemirror_mode": {
    "name": "ipython",
    "version": 3
   },
   "file_extension": ".py",
   "mimetype": "text/x-python",
   "name": "python",
   "nbconvert_exporter": "python",
   "pygments_lexer": "ipython3",
   "version": "3.8.3"
  }
 },
 "nbformat": 4,
 "nbformat_minor": 4
}

{
 "cells": [
  {
   "cell_type": "code",
   "execution_count": 3,
   "metadata": {},
   "outputs": [
    {
     "name": "stdout",
     "output_type": "stream",
     "text": [
      "2020-08-07 16:34:53.201314: I tensorflow/stream_executor/platform/default/dso_loader.cc:48] Successfully opened dynamic library libcudart.so.10.1\n",
      "Starting Neptune\n",
      "DL names: [<DLName.FVC_PYBOSSA: 'fvc_pybossa'>, <DLName.VGGFACE2: 'vgg'>, <DLName.FEI_DB: 'fei'>, <DLName.GEORGIA_TECH: 'georgia_tech'>, <DLName.IMFDB: 'imfdb'>, <DLName.LFW: 'lfw'>, <DLName.CELEBA: 'celeba'>, <DLName.COLOR_FERET: 'color_feret'>, <DLName.ICPR04: 'icpr04'>, <DLName.UNI_ESSEX: 'uni_essex'>, <DLName.CVL: 'cvl'>]\n",
      "Loading data\n",
      "Traceback (most recent call last):\n",
      "  File \"train_mobilenetv2.py\", line 104, in <module>\n",
      "    in_data = netDataLoader.load_data()\n",
      "  File \"../../../notebooks/net_data_loaders/net_data_loader.py\", line 59, in load_data\n",
      "    t.load_labels_df()\n",
      "  File \"../../../notebooks/tagger/tagger.py\", line 35, in load_labels_df\n",
      "    self.labels_df = pd.read_csv(path)\n",
      "  File \"/home/guilherme/anaconda3/envs/mteval-icao-reqs/submodules/icao_nets_training/lib/python3.8/site-packages/pandas/io/parsers.py\", line 676, in parser_f\n",
      "    return _read(filepath_or_buffer, kwds)\n",
      "  File \"/home/guilherme/anaconda3/envs/mteval-icao-reqs/submodules/icao_nets_training/lib/python3.8/site-packages/pandas/io/parsers.py\", line 448, in _read\n",
      "    parser = TextFileReader(fp_or_buf, **kwds)\n",
      "  File \"/home/guilherme/anaconda3/envs/mteval-icao-reqs/submodules/icao_nets_training/lib/python3.8/site-packages/pandas/io/parsers.py\", line 880, in __init__\n",
      "    self._make_engine(self.engine)\n",
      "  File \"/home/guilherme/anaconda3/envs/mteval-icao-reqs/submodules/icao_nets_training/lib/python3.8/site-packages/pandas/io/parsers.py\", line 1114, in _make_engine\n",
      "    self._engine = CParserWrapper(self.f, **self.options)\n",
      "  File \"/home/guilherme/anaconda3/envs/mteval-icao-reqs/submodules/icao_nets_training/lib/python3.8/site-packages/pandas/io/parsers.py\", line 1891, in __init__\n",
      "    self._reader = parsers.TextReader(src, **kwds)\n",
      "  File \"pandas/_libs/parsers.pyx\", line 374, in pandas._libs.parsers.TextReader.__cinit__\n",
      "  File \"pandas/_libs/parsers.pyx\", line 674, in pandas._libs.parsers.TextReader._setup_parser_source\n",
      "FileNotFoundError: [Errno 2] File /home/guilherme/data/Dropbox/Anaconda Envs Backups/mteval-icao-reqs/icao_reqs/openface_mouth/labels/aligned/mouth_cvl.csv does not exist: '/home/guilherme/data/Dropbox/Anaconda Envs Backups/mteval-icao-reqs/icao_reqs/openface_mouth/labels/aligned/mouth_cvl.csv'\n"
     ]
    }
   ],
   "source": [
    "!python train_mobilenetv2.py"
   ]
  }
 ],
 "metadata": {
  "kernelspec": {
   "display_name": "Python 3",
   "language": "python",
   "name": "python3"
  },
  "language_info": {
   "codemirror_mode": {
    "name": "ipython",
    "version": 3
   },
   "file_extension": ".py",
   "mimetype": "text/x-python",
   "name": "python",
   "nbconvert_exporter": "python",
   "pygments_lexer": "ipython3",
   "version": "3.8.3"
  }
 },
 "nbformat": 4,
 "nbformat_minor": 4
}

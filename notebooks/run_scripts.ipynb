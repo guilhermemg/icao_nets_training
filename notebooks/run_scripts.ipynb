{
 "cells": [
  {
   "cell_type": "markdown",
   "metadata": {},
   "source": [
    "# Introduction\n",
    "\n",
    "Notebook to run experiments training deep nets and recording results in neptune experiments manager."
   ]
  },
  {
   "cell_type": "markdown",
   "metadata": {},
   "source": [
    "# Import Libraries"
   ]
  },
  {
   "cell_type": "code",
   "execution_count": 2,
   "metadata": {},
   "outputs": [],
   "source": [
    "%load_ext autoreload\n",
    "%autoreload 2"
   ]
  },
  {
   "cell_type": "code",
   "execution_count": 3,
   "metadata": {},
   "outputs": [],
   "source": [
    "import sys\n",
    "\n",
    "if '../../../notebooks/' not in sys.path:\n",
    "    sys.path.append('../../../notebooks/')\n",
    "\n",
    "import utils.constants as cts\n",
    "\n",
    "from models.oface_mouth_model import OpenfaceMouth\n",
    "from data_loaders.data_loader import DLName\n",
    "from net_trainer import NetworkTrainer"
   ]
  },
  {
   "cell_type": "markdown",
   "metadata": {},
   "source": [
    "# Train Network"
   ]
  },
  {
   "cell_type": "code",
   "execution_count": 12,
   "metadata": {},
   "outputs": [
    {
     "name": "stdout",
     "output_type": "stream",
     "text": [
      "===================\n",
      "Args: \n",
      "{'exp_params': {'description': 'Changing network architecture and BS',\n",
      "                'name': 'train_mobilenetv2',\n",
      "                'src_files': ['mobilenet_trainer.py', 'net_trainer.py'],\n",
      "                'tags': ['mobilenetv2']},\n",
      " 'net_train_params': {'batch_size': 32,\n",
      "                      'dense_units': 128,\n",
      "                      'dropout': 0.5,\n",
      "                      'early_stopping': 10,\n",
      "                      'learning_rate': 0.0001,\n",
      "                      'n_epochs': 60,\n",
      "                      'optimizer': 'Adam',\n",
      "                      'seed': 42,\n",
      "                      'shuffle': True,\n",
      "                      'test_prop': 0.1,\n",
      "                      'train_prop': 0.8,\n",
      "                      'validation_prop': 0.1,\n",
      "                      'validation_split': 0.1},\n",
      " 'properties': {'aligned': True,\n",
      "                'dl_names': [<DLName.FVC_PYBOSSA: 'fvc_pybossa'>],\n",
      "                'req': <ICAO_REQ.MOUTH: 'mouth'>,\n",
      "                'tagger_model': <models.oface_mouth_model.OpenfaceMouth object at 0x7f82cc53a250>}}\n",
      "===================\n",
      "Loading data\n",
      "Input data.shape: (5780, 4)\n",
      "Number of Samples: 5780\n",
      "Data loaded\n",
      "Starting data generators\n",
      "Found 4682 validated image filenames belonging to 2 classes.\n",
      "Found 520 validated image filenames belonging to 2 classes.\n",
      "Found 578 validated image filenames belonging to 2 classes.\n",
      "TOTAL: 5780\n",
      "Starting Neptune\n",
      "Creating experiment\n",
      "https://ui.neptune.ai/guilhermemg/icao-nets-training/e/IC-45\n",
      "Training mobilenetv2 network\n",
      "Epoch 1/60\n",
      "146/146 [==============================] - 11s 74ms/step - loss: 3.2532 - accuracy: 0.7867 - val_loss: 3.0379 - val_accuracy: 0.8008\n",
      "Epoch 2/60\n",
      "146/146 [==============================] - 9s 60ms/step - loss: 3.2466 - accuracy: 0.7871 - val_loss: 3.0379 - val_accuracy: 0.8008\n",
      "Epoch 3/60\n",
      "146/146 [==============================] - 9s 61ms/step - loss: 3.2335 - accuracy: 0.7880 - val_loss: 2.9784 - val_accuracy: 0.8047\n",
      "Epoch 4/60\n",
      "146/146 [==============================] - 9s 61ms/step - loss: 3.2269 - accuracy: 0.7884 - val_loss: 3.0677 - val_accuracy: 0.7988\n",
      "Epoch 5/60\n",
      "146/146 [==============================] - 9s 61ms/step - loss: 3.2335 - accuracy: 0.7880 - val_loss: 3.0082 - val_accuracy: 0.8027\n",
      "Epoch 6/60\n",
      "146/146 [==============================] - 9s 61ms/step - loss: 3.2532 - accuracy: 0.7867 - val_loss: 3.0379 - val_accuracy: 0.8008\n",
      "Epoch 7/60\n",
      "146/146 [==============================] - 9s 61ms/step - loss: 3.2204 - accuracy: 0.7888 - val_loss: 3.0379 - val_accuracy: 0.8008\n",
      "Epoch 8/60\n",
      "146/146 [==============================] - 9s 61ms/step - loss: 3.2335 - accuracy: 0.7880 - val_loss: 3.0379 - val_accuracy: 0.8008\n",
      "Epoch 9/60\n",
      "146/146 [==============================] - 9s 62ms/step - loss: 3.2433 - accuracy: 0.7873 - val_loss: 3.0677 - val_accuracy: 0.7988\n",
      "Epoch 10/60\n",
      "146/146 [==============================] - 9s 62ms/step - loss: 3.2335 - accuracy: 0.7880 - val_loss: 3.0677 - val_accuracy: 0.7988\n",
      "Epoch 11/60\n",
      "146/146 [==============================] - 9s 60ms/step - loss: 3.2368 - accuracy: 0.7877 - val_loss: 3.0082 - val_accuracy: 0.8027\n",
      "Epoch 12/60\n",
      "146/146 [==============================] - 9s 61ms/step - loss: 3.2401 - accuracy: 0.7875 - val_loss: 3.0677 - val_accuracy: 0.7988\n",
      "Epoch 13/60\n",
      "146/146 [==============================] - 9s 62ms/step - loss: 3.2401 - accuracy: 0.7875 - val_loss: 2.9784 - val_accuracy: 0.8047\n",
      "Epoch 14/60\n",
      "146/146 [==============================] - 9s 62ms/step - loss: 3.2466 - accuracy: 0.7871 - val_loss: 2.9784 - val_accuracy: 0.8047\n",
      "Epoch 15/60\n",
      "146/146 [==============================] - 9s 62ms/step - loss: 3.2433 - accuracy: 0.7873 - val_loss: 3.0677 - val_accuracy: 0.7988\n",
      "Epoch 16/60\n",
      "146/146 [==============================] - 9s 61ms/step - loss: 3.2433 - accuracy: 0.7873 - val_loss: 3.0677 - val_accuracy: 0.7988\n",
      "Epoch 17/60\n",
      "146/146 [==============================] - 9s 62ms/step - loss: 3.2433 - accuracy: 0.7873 - val_loss: 3.0082 - val_accuracy: 0.8027\n",
      "Saving model\n"
     ]
    },
    {
     "name": "stderr",
     "output_type": "stream",
     "text": [
      "/home/guilherme/anaconda3/envs/mteval-icao-reqs/submodules/icao_nets_training/lib/python3.8/site-packages/sklearn/metrics/_classification.py:1221: UndefinedMetricWarning: Precision and F-score are ill-defined and being set to 0.0 in labels with no predicted samples. Use `zero_division` parameter to control this behavior.\n",
      "  _warn_prf(average, modifier, msg_start, len(result))\n"
     ]
    },
    {
     "name": "stdout",
     "output_type": "stream",
     "text": [
      "              precision    recall  f1-score   support\n",
      "\n",
      "    NON_COMP       0.20      1.00      0.33       114\n",
      "        COMP       0.00      0.00      0.00       464\n",
      "\n",
      "    accuracy                           0.20       578\n",
      "   macro avg       0.10      0.50      0.16       578\n",
      "weighted avg       0.04      0.20      0.06       578\n",
      "\n",
      "Evaluating model\n",
      "Finishing Neptune\n"
     ]
    }
   ],
   "source": [
    "kwargs = { \n",
    "    'exp_params' : {\n",
    "        'name': 'train_mobilenetv2',\n",
    "        'description': 'Changing network architecture and BS',\n",
    "        'tags': ['mobilenetv2'],\n",
    "        'src_files': ['mobilenet_trainer.py','net_trainer.py']\n",
    "    },\n",
    "    'properties': {\n",
    "        'tagger_model': OpenfaceMouth(),\n",
    "        'dl_names': [DLName.FVC_PYBOSSA],\n",
    "        'req': cts.ICAO_REQ.MOUTH,\n",
    "        'aligned': True \n",
    "    },\n",
    "    'net_train_params': {\n",
    "        'batch_size': 32,\n",
    "        'n_epochs': 60,\n",
    "        'early_stopping': 10,\n",
    "        'shuffle': True,\n",
    "        'dense_units': 128,\n",
    "        'learning_rate': 1e-4,\n",
    "        'optimizer': 'Adam',\n",
    "        'dropout': 0.5,\n",
    "        'train_prop': 0.8,\n",
    "        'validation_prop': 0.1,\n",
    "        'test_prop': 0.1,\n",
    "        'seed': 42,\n",
    "        'validation_split': 0.1\n",
    "    }\n",
    "}\n",
    "\n",
    "trainer = NetworkTrainer(**kwargs)\n",
    "trainer.run()"
   ]
  },
  {
   "cell_type": "code",
   "execution_count": 15,
   "metadata": {},
   "outputs": [
    {
     "ename": "OSError",
     "evalue": "SavedModel file does not exist at: output/model_trained/model_weights//{saved_model.pbtxt|saved_model.pb}",
     "output_type": "error",
     "traceback": [
      "\u001b[0;31m---------------------------------------------------------------------------\u001b[0m",
      "\u001b[0;31mOSError\u001b[0m                                   Traceback (most recent call last)",
      "\u001b[0;32m<ipython-input-15-e47a59c37af6>\u001b[0m in \u001b[0;36m<module>\u001b[0;34m\u001b[0m\n\u001b[1;32m      1\u001b[0m \u001b[0;32mfrom\u001b[0m \u001b[0mtensorflow\u001b[0m \u001b[0;32mimport\u001b[0m \u001b[0mkeras\u001b[0m\u001b[0;34m\u001b[0m\u001b[0;34m\u001b[0m\u001b[0m\n\u001b[1;32m      2\u001b[0m \u001b[0;34m\u001b[0m\u001b[0m\n\u001b[0;32m----> 3\u001b[0;31m \u001b[0mmodel\u001b[0m \u001b[0;34m=\u001b[0m \u001b[0mkeras\u001b[0m\u001b[0;34m.\u001b[0m\u001b[0mmodels\u001b[0m\u001b[0;34m.\u001b[0m\u001b[0mload_model\u001b[0m\u001b[0;34m(\u001b[0m\u001b[0;34m'output/model_trained/model_weights/'\u001b[0m\u001b[0;34m)\u001b[0m\u001b[0;34m\u001b[0m\u001b[0;34m\u001b[0m\u001b[0m\n\u001b[0m",
      "\u001b[0;32m~/anaconda3/envs/mteval-icao-reqs/submodules/icao_nets_training/lib/python3.8/site-packages/tensorflow/python/keras/saving/save.py\u001b[0m in \u001b[0;36mload_model\u001b[0;34m(filepath, custom_objects, compile, options)\u001b[0m\n\u001b[1;32m    184\u001b[0m     \u001b[0mfilepath\u001b[0m \u001b[0;34m=\u001b[0m \u001b[0mpath_to_string\u001b[0m\u001b[0;34m(\u001b[0m\u001b[0mfilepath\u001b[0m\u001b[0;34m)\u001b[0m\u001b[0;34m\u001b[0m\u001b[0;34m\u001b[0m\u001b[0m\n\u001b[1;32m    185\u001b[0m     \u001b[0;32mif\u001b[0m \u001b[0misinstance\u001b[0m\u001b[0;34m(\u001b[0m\u001b[0mfilepath\u001b[0m\u001b[0;34m,\u001b[0m \u001b[0msix\u001b[0m\u001b[0;34m.\u001b[0m\u001b[0mstring_types\u001b[0m\u001b[0;34m)\u001b[0m\u001b[0;34m:\u001b[0m\u001b[0;34m\u001b[0m\u001b[0;34m\u001b[0m\u001b[0m\n\u001b[0;32m--> 186\u001b[0;31m       \u001b[0mloader_impl\u001b[0m\u001b[0;34m.\u001b[0m\u001b[0mparse_saved_model\u001b[0m\u001b[0;34m(\u001b[0m\u001b[0mfilepath\u001b[0m\u001b[0;34m)\u001b[0m\u001b[0;34m\u001b[0m\u001b[0;34m\u001b[0m\u001b[0m\n\u001b[0m\u001b[1;32m    187\u001b[0m       \u001b[0;32mreturn\u001b[0m \u001b[0msaved_model_load\u001b[0m\u001b[0;34m.\u001b[0m\u001b[0mload\u001b[0m\u001b[0;34m(\u001b[0m\u001b[0mfilepath\u001b[0m\u001b[0;34m,\u001b[0m \u001b[0mcompile\u001b[0m\u001b[0;34m,\u001b[0m \u001b[0moptions\u001b[0m\u001b[0;34m)\u001b[0m\u001b[0;34m\u001b[0m\u001b[0;34m\u001b[0m\u001b[0m\n\u001b[1;32m    188\u001b[0m \u001b[0;34m\u001b[0m\u001b[0m\n",
      "\u001b[0;32m~/anaconda3/envs/mteval-icao-reqs/submodules/icao_nets_training/lib/python3.8/site-packages/tensorflow/python/saved_model/loader_impl.py\u001b[0m in \u001b[0;36mparse_saved_model\u001b[0;34m(export_dir)\u001b[0m\n\u001b[1;32m    108\u001b[0m       \u001b[0;32mraise\u001b[0m \u001b[0mIOError\u001b[0m\u001b[0;34m(\u001b[0m\u001b[0;34m\"Cannot parse file %s: %s.\"\u001b[0m \u001b[0;34m%\u001b[0m \u001b[0;34m(\u001b[0m\u001b[0mpath_to_pbtxt\u001b[0m\u001b[0;34m,\u001b[0m \u001b[0mstr\u001b[0m\u001b[0;34m(\u001b[0m\u001b[0me\u001b[0m\u001b[0;34m)\u001b[0m\u001b[0;34m)\u001b[0m\u001b[0;34m)\u001b[0m\u001b[0;34m\u001b[0m\u001b[0;34m\u001b[0m\u001b[0m\n\u001b[1;32m    109\u001b[0m   \u001b[0;32melse\u001b[0m\u001b[0;34m:\u001b[0m\u001b[0;34m\u001b[0m\u001b[0;34m\u001b[0m\u001b[0m\n\u001b[0;32m--> 110\u001b[0;31m     raise IOError(\"SavedModel file does not exist at: %s/{%s|%s}\" %\n\u001b[0m\u001b[1;32m    111\u001b[0m                   (export_dir,\n\u001b[1;32m    112\u001b[0m                    \u001b[0mconstants\u001b[0m\u001b[0;34m.\u001b[0m\u001b[0mSAVED_MODEL_FILENAME_PBTXT\u001b[0m\u001b[0;34m,\u001b[0m\u001b[0;34m\u001b[0m\u001b[0;34m\u001b[0m\u001b[0m\n",
      "\u001b[0;31mOSError\u001b[0m: SavedModel file does not exist at: output/model_trained/model_weights//{saved_model.pbtxt|saved_model.pb}"
     ]
    }
   ],
   "source": [
    "from tensorflow import keras\n",
    "\n",
    "model = keras.models.load_model('output/model_trained/model_weights/')\n"
   ]
  }
 ],
 "metadata": {
  "kernelspec": {
   "display_name": "Python 3",
   "language": "python",
   "name": "python3"
  },
  "language_info": {
   "codemirror_mode": {
    "name": "ipython",
    "version": 3
   },
   "file_extension": ".py",
   "mimetype": "text/x-python",
   "name": "python",
   "nbconvert_exporter": "python",
   "pygments_lexer": "ipython3",
   "version": "3.8.3"
  }
 },
 "nbformat": 4,
 "nbformat_minor": 4
}

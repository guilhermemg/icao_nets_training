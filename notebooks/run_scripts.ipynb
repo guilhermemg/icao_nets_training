{
 "cells": [
  {
   "cell_type": "markdown",
   "metadata": {},
   "source": [
    "# Introduction\n",
    "\n",
    "Notebook to run experiments training deep nets and recording results in neptune experiments manager."
   ]
  },
  {
   "cell_type": "markdown",
   "metadata": {},
   "source": [
    "# Import Libraries"
   ]
  },
  {
   "cell_type": "code",
   "execution_count": 2,
   "metadata": {},
   "outputs": [],
   "source": [
    "%load_ext autoreload\n",
    "%autoreload 2"
   ]
  },
  {
   "cell_type": "code",
   "execution_count": 3,
   "metadata": {},
   "outputs": [],
   "source": [
    "import sys\n",
    "\n",
    "if '../../../notebooks/' not in sys.path:\n",
    "    sys.path.append('../../../notebooks/')\n",
    "\n",
    "import utils.constants as cts\n",
    "\n",
    "from models.oface_mouth_model import OpenfaceMouth\n",
    "from data_loaders.data_loader import DLName\n",
    "from net_trainer import NetworkTrainer"
   ]
  },
  {
   "cell_type": "markdown",
   "metadata": {},
   "source": [
    "# Train Network"
   ]
  },
  {
   "cell_type": "code",
   "execution_count": 5,
   "metadata": {},
   "outputs": [
    {
     "name": "stdout",
     "output_type": "stream",
     "text": [
      "===================\n",
      "Args: \n",
      "{'exp_params': {'description': 'Changing network architecture and BS',\n",
      "                'name': 'train_mobilenetv2',\n",
      "                'src_files': ['mobilenet_trainer.py', 'net_trainer.py'],\n",
      "                'tags': ['mobilenetv2']},\n",
      " 'net_train_params': {'batch_size': 32,\n",
      "                      'dense_units': 128,\n",
      "                      'dropout': 0.5,\n",
      "                      'early_stopping': 10,\n",
      "                      'learning_rate': 0.0001,\n",
      "                      'n_epochs': 60,\n",
      "                      'optimizer': 'Adam',\n",
      "                      'seed': 42,\n",
      "                      'shuffle': True,\n",
      "                      'test_prop': 0.1,\n",
      "                      'train_prop': 0.8,\n",
      "                      'validation_prop': 0.1,\n",
      "                      'validation_split': 0.1},\n",
      " 'properties': {'aligned': True,\n",
      "                'dl_names': [<DLName.FVC_PYBOSSA: 'fvc_pybossa'>],\n",
      "                'req': <ICAO_REQ.MOUTH: 'mouth'>,\n",
      "                'tagger_model': <models.oface_mouth_model.OpenfaceMouth object at 0x7efb600d0d60>}}\n",
      "===================\n",
      "Loading data\n",
      "Input data.shape: (5780, 4)\n",
      "Number of Samples: 5780\n",
      "Data loaded\n",
      "Starting data generators\n",
      "Found 4682 validated image filenames belonging to 2 classes.\n",
      "Found 520 validated image filenames belonging to 2 classes.\n",
      "Found 578 validated image filenames belonging to 2 classes.\n",
      "TOTAL: 5780\n",
      "Starting Neptune\n",
      "Creating experiment\n",
      "https://ui.neptune.ai/guilhermemg/icao-nets-training/e/IC-47\n",
      "Training mobilenetv2 network\n",
      "WARNING:tensorflow:`period` argument is deprecated. Please use `save_freq` to specify the frequency in number of batches seen.\n",
      "Epoch 1/60\n",
      "146/146 [==============================] - 42s 287ms/step - loss: 3.2433 - accuracy: 0.7873 - val_loss: 3.0082 - val_accuracy: 0.8027\n",
      "Epoch 2/60\n",
      "146/146 [==============================] - 8s 58ms/step - loss: 3.2335 - accuracy: 0.7880 - val_loss: 3.0082 - val_accuracy: 0.8027\n",
      "Epoch 3/60\n",
      "146/146 [==============================] - 8s 56ms/step - loss: 3.2466 - accuracy: 0.7871 - val_loss: 3.0677 - val_accuracy: 0.7988\n",
      "Epoch 4/60\n",
      "146/146 [==============================] - 8s 57ms/step - loss: 3.2499 - accuracy: 0.7869 - val_loss: 3.0379 - val_accuracy: 0.8008\n",
      "Epoch 5/60\n",
      "145/146 [============================>.] - ETA: 0s - loss: 3.2559 - accuracy: 0.7865\n",
      "Epoch 00005: saving model to output/training/cp-0005.ckpt\n",
      "146/146 [==============================] - 8s 57ms/step - loss: 3.2466 - accuracy: 0.7871 - val_loss: 3.0082 - val_accuracy: 0.8027\n",
      "Epoch 6/60\n",
      "146/146 [==============================] - 8s 57ms/step - loss: 3.2401 - accuracy: 0.7875 - val_loss: 2.9784 - val_accuracy: 0.8047\n",
      "Epoch 7/60\n",
      "146/146 [==============================] - 8s 57ms/step - loss: 3.2368 - accuracy: 0.7877 - val_loss: 3.0082 - val_accuracy: 0.8027\n",
      "Epoch 8/60\n",
      "146/146 [==============================] - 8s 57ms/step - loss: 3.2401 - accuracy: 0.7875 - val_loss: 3.0379 - val_accuracy: 0.8008\n",
      "Epoch 9/60\n",
      "146/146 [==============================] - 8s 57ms/step - loss: 3.2401 - accuracy: 0.7875 - val_loss: 3.0082 - val_accuracy: 0.8027\n",
      "Epoch 10/60\n",
      "146/146 [==============================] - ETA: 0s - loss: 3.2401 - accuracy: 0.7875\n",
      "Epoch 00010: saving model to output/training/cp-0010.ckpt\n",
      "146/146 [==============================] - 8s 58ms/step - loss: 3.2401 - accuracy: 0.7875 - val_loss: 3.0677 - val_accuracy: 0.7988\n",
      "Epoch 11/60\n",
      "146/146 [==============================] - 8s 57ms/step - loss: 3.2466 - accuracy: 0.7871 - val_loss: 3.0082 - val_accuracy: 0.8027\n",
      "Epoch 12/60\n",
      "146/146 [==============================] - 8s 57ms/step - loss: 3.2335 - accuracy: 0.7880 - val_loss: 3.0379 - val_accuracy: 0.8008\n",
      "Saving model\n",
      "ERROR: Unable to create file (unable to open file: name = './tmpyloaa76l/model_weights/model.h5', errno = 2, error message = 'No such file or directory', flags = 13, o_flags = 242)\n",
      "Finishing Neptune\n"
     ]
    }
   ],
   "source": [
    "kwargs = { \n",
    "    'exp_params' : {\n",
    "        'name': 'train_mobilenetv2',\n",
    "        'description': 'Changing network architecture and BS',\n",
    "        'tags': ['mobilenetv2'],\n",
    "        'src_files': ['mobilenet_trainer.py','net_trainer.py']\n",
    "    },\n",
    "    'properties': {\n",
    "        'tagger_model': OpenfaceMouth(),\n",
    "        'dl_names': [DLName.FVC_PYBOSSA],\n",
    "        'req': cts.ICAO_REQ.MOUTH,\n",
    "        'aligned': True \n",
    "    },\n",
    "    'net_train_params': {\n",
    "        'batch_size': 32,\n",
    "        'n_epochs': 60,\n",
    "        'early_stopping': 10,\n",
    "        'shuffle': True,\n",
    "        'dense_units': 128,\n",
    "        'learning_rate': 1e-4,\n",
    "        'optimizer': 'Adam',\n",
    "        'dropout': 0.5,\n",
    "        'train_prop': 0.8,\n",
    "        'validation_prop': 0.1,\n",
    "        'test_prop': 0.1,\n",
    "        'seed': 42,\n",
    "        'validation_split': 0.1\n",
    "    }\n",
    "}\n",
    "\n",
    "trainer = NetworkTrainer(**kwargs)\n",
    "trainer.run()"
   ]
  }
 ],
 "metadata": {
  "kernelspec": {
   "display_name": "Python 3",
   "language": "python",
   "name": "python3"
  },
  "language_info": {
   "codemirror_mode": {
    "name": "ipython",
    "version": 3
   },
   "file_extension": ".py",
   "mimetype": "text/x-python",
   "name": "python",
   "nbconvert_exporter": "python",
   "pygments_lexer": "ipython3",
   "version": "3.8.3"
  }
 },
 "nbformat": 4,
 "nbformat_minor": 4
}

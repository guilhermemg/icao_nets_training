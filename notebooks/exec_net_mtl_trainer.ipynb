{
 "cells": [
  {
   "cell_type": "markdown",
   "metadata": {},
   "source": [
    "# Import Libraries"
   ]
  },
  {
   "cell_type": "code",
   "execution_count": 1,
   "metadata": {},
   "outputs": [],
   "source": [
    "%load_ext autoreload\n",
    "%autoreload 2"
   ]
  },
  {
   "cell_type": "code",
   "execution_count": 2,
   "metadata": {},
   "outputs": [],
   "source": [
    "import sys\n",
    "import pandas as pd\n",
    "\n",
    "if '../../../notebooks/' not in sys.path:\n",
    "    sys.path.append('../../../notebooks/')\n",
    "\n",
    "import utils.constants as cts\n",
    "\n",
    "from models.oface_mouth_model import OpenfaceMouth\n",
    "from data_loaders.data_loader import DLName\n",
    "from gt_loaders.gt_names import GTName\n",
    "from net_trainer import NetworkTrainer, BaseModel, Optimizer"
   ]
  },
  {
   "cell_type": "markdown",
   "metadata": {},
   "source": [
    "# Start Network Trainer"
   ]
  },
  {
   "cell_type": "code",
   "execution_count": 3,
   "metadata": {
    "tags": []
   },
   "outputs": [
    {
     "name": "stdout",
     "output_type": "stream",
     "text": [
      "-----\n",
      "Use Neptune:  False\n",
      "-----\n",
      "===================\n",
      "Args: \n",
      "{'exp_params': {'description': 'Training mtl network for mouth and veil '\n",
      "                               'requisites',\n",
      "                'name': 'train_vgg16',\n",
      "                'src_files': ['net_trainer.py'],\n",
      "                'tags': ['vgg16', 'ground truths', 'adagrad', 'veil', 'mouth']},\n",
      " 'net_train_params': {'base_model': <BaseModel.VGG16: {'target_size': (224, 224), 'prep_function': <function preprocess_input at 0x7f6901d74ee0>}>,\n",
      "                      'batch_size': 64,\n",
      "                      'dropout': 0.3,\n",
      "                      'early_stopping': 10,\n",
      "                      'learning_rate': 0.001,\n",
      "                      'n_epochs': 10,\n",
      "                      'optimizer': <Optimizer.ADAGRAD: 'Adagrad'>,\n",
      "                      'seed': 42,\n",
      "                      'shuffle': True,\n",
      "                      'test_prop': 0.05,\n",
      "                      'train_prop': 0.9,\n",
      "                      'validation_prop': 0.05,\n",
      "                      'validation_split': 0.1},\n",
      " 'properties': {'aligned': True,\n",
      "                'balance_input_data': False,\n",
      "                'gt_names': {'test': [],\n",
      "                             'train_validation': [],\n",
      "                             'train_validation_test': [<GTName.FVC: 'fvc'>,\n",
      "                                                       <GTName.GENKI: 'genki'>,\n",
      "                                                       <GTName.IMFD: 'imfd'>,\n",
      "                                                       <GTName.CMFD: 'cmfd'>,\n",
      "                                                       <GTName.IM_SEARCH: 'im_search'>]},\n",
      "                'reqs': [<ICAO_REQ.MOUTH: 'mouth'>, <ICAO_REQ.VEIL: 'veil'>],\n",
      "                'save_trained_model': False,\n",
      "                'use_gt_data': True},\n",
      " 'use_neptune': False}\n",
      "===================\n",
      "----\n",
      "Base Model Name:  BaseModel.VGG16\n",
      "----\n",
      "----\n",
      "MTL Model: True\n",
      "----\n"
     ]
    }
   ],
   "source": [
    "kwargs = { \n",
    "    'use_neptune': False,\n",
    "    'exp_params' : {\n",
    "        'name': 'train_vgg16',\n",
    "        'description': 'Training mtl network for mouth and veil requisites',\n",
    "        'tags': ['vgg16', 'ground truths', 'adagrad', 'veil', 'mouth'],\n",
    "        'src_files': ['net_trainer.py']\n",
    "    },\n",
    "    'properties': {\n",
    "#         'tagger_model': OpenfaceMouth(),\n",
    "#         'dl_names': {'train_validation':\n",
    "#                            [DLName.VGGFACE2, DLName.CALTECH, DLName.FVC_PYBOSSA, \n",
    "#                             DLName.CVL, DLName.FEI_DB, DLName.GEORGIA_TECH, DLName.COLOR_FERET,\n",
    "#                             DLName.ICPR04, DLName.IMFDB, DLName.IJBC, DLName.LFW, DLName.CASIA_WF,\n",
    "#                             DLName.GENKI4K_DB],\n",
    "#                       'test': [],\n",
    "        'reqs': [cts.ICAO_REQ.MOUTH, cts.ICAO_REQ.VEIL],\n",
    "        'aligned': True,\n",
    "        'use_gt_data': True,\n",
    "        'gt_names': {\n",
    "            'train_validation': [],\n",
    "            'test': [],\n",
    "            'train_validation_test': [GTName.FVC, GTName.GENKI, GTName.IMFD, GTName.CMFD, GTName.IM_SEARCH]\n",
    "        },\n",
    "        'balance_input_data': False,\n",
    "        'save_trained_model': False\n",
    "    },\n",
    "    'net_train_params': {\n",
    "        'base_model': BaseModel.VGG16,\n",
    "        'batch_size': 64,\n",
    "        'n_epochs': 10,\n",
    "        'early_stopping': 10,\n",
    "        'shuffle': True,\n",
    "        'learning_rate': 1e-3,\n",
    "        'optimizer': Optimizer.ADAGRAD,\n",
    "        'train_prop': 0.9,\n",
    "        'validation_prop': 0.05,\n",
    "        'test_prop': 0.05,\n",
    "        'seed': 42,\n",
    "        'validation_split': 0.1,\n",
    "        'dropout': 0.3\n",
    "    }\n",
    "}\n",
    "\n",
    "trainer = NetworkTrainer(**kwargs)"
   ]
  },
  {
   "cell_type": "markdown",
   "metadata": {},
   "source": [
    "# Load Data"
   ]
  },
  {
   "cell_type": "code",
   "execution_count": 4,
   "metadata": {
    "tags": []
   },
   "outputs": [
    {
     "name": "stdout",
     "output_type": "stream",
     "text": [
      "Loading data\n",
      "Loading GT FVC...\n",
      "..Ignoring 19 empty label values\n",
      "Loading GT GENKI...\n",
      "..Ignoring 0 empty label values\n",
      "Loading GT IMFD...\n",
      "..Ignoring 0 empty label values\n",
      "Loading GT CMFD...\n",
      "..Ignoring 0 empty label values\n",
      "Loading GT IM_SEARCH...\n",
      "..Ignoring 0 empty label values\n",
      "Input data.shape: (13060, 5)\n",
      "Data loaded\n"
     ]
    }
   ],
   "source": [
    "trainer.load_training_data()"
   ]
  },
  {
   "cell_type": "markdown",
   "metadata": {},
   "source": [
    "# Data Balancing"
   ]
  },
  {
   "cell_type": "code",
   "execution_count": 5,
   "metadata": {
    "tags": []
   },
   "outputs": [
    {
     "name": "stdout",
     "output_type": "stream",
     "text": [
      "Not balancing input_data\n"
     ]
    }
   ],
   "source": [
    "trainer.balance_input_data()"
   ]
  },
  {
   "cell_type": "markdown",
   "metadata": {},
   "source": [
    "# Data Generators"
   ]
  },
  {
   "cell_type": "code",
   "execution_count": 6,
   "metadata": {
    "tags": []
   },
   "outputs": [
    {
     "name": "stdout",
     "output_type": "stream",
     "text": [
      "Starting data generators\n",
      "Found 11167 validated image filenames.\n",
      "Found 1240 validated image filenames.\n",
      "Found 653 validated image filenames.\n",
      "TOTAL: 13060\n"
     ]
    }
   ],
   "source": [
    "trainer.setup_data_generators()"
   ]
  },
  {
   "cell_type": "markdown",
   "metadata": {},
   "source": [
    "# Labels Distribution"
   ]
  },
  {
   "cell_type": "code",
   "execution_count": 7,
   "metadata": {},
   "outputs": [
    {
     "name": "stdout",
     "output_type": "stream",
     "text": [
      "Requisite: MOUTH\n",
      "N_TRAIN_VALID_COMP: 5769 (46.5%)\n",
      "N_TRAIN_VALID_NOT_COMP: 3493 (28.15%)\n",
      "N_TRAIN_VALID_DUMMY: 3145 (25.35%)\n",
      "N_TEST_COMP: 305 (46.71%)\n",
      "N_TEST_NOT_COMP: 184 (28.18%)\n",
      "N_TEST_DUMMY: 164 (25.11%)\n",
      "----\n",
      "Requisite: VEIL\n",
      "N_TRAIN_VALID_COMP: 8916 (71.86%)\n",
      "N_TRAIN_VALID_NOT_COMP: 3491 (28.14%)\n",
      "N_TRAIN_VALID_DUMMY: 0 (0.0%)\n",
      "N_TEST_COMP: 471 (72.13%)\n",
      "N_TEST_NOT_COMP: 182 (27.87%)\n",
      "N_TEST_DUMMY: 0 (0.0%)\n",
      "----\n"
     ]
    }
   ],
   "source": [
    "trainer.summary_labels_dist()"
   ]
  },
  {
   "cell_type": "code",
   "execution_count": 8,
   "metadata": {},
   "outputs": [
    {
     "data": {
      "text/plain": [
       "array([1., 0., 1., ..., 2., 0., 1.])"
      ]
     },
     "execution_count": 8,
     "metadata": {},
     "output_type": "execute_result"
    }
   ],
   "source": [
    "trainer.train_gen.labels[0]"
   ]
  },
  {
   "cell_type": "code",
   "execution_count": 9,
   "metadata": {},
   "outputs": [
    {
     "data": {
      "text/plain": [
       "1.1769392"
      ]
     },
     "execution_count": 9,
     "metadata": {},
     "output_type": "execute_result"
    }
   ],
   "source": [
    "import tensorflow as tf\n",
    "\n",
    "y_true = [1, 2]\n",
    "y_pred = [[0.05, 0.95, 0], [0.1, 0.8, 0.1]]\n",
    "# Using 'auto'/'sum_over_batch_size' reduction type.  \n",
    "scce = tf.keras.losses.SparseCategoricalCrossentropy()\n",
    "scce(y_true, y_pred).numpy()"
   ]
  },
  {
   "cell_type": "code",
   "execution_count": 10,
   "metadata": {},
   "outputs": [
    {
     "data": {
      "text/plain": [
       "<AxesSubplot:>"
      ]
     },
     "execution_count": 10,
     "metadata": {},
     "output_type": "execute_result"
    },
    {
     "data": {
      "image/png": "[encoded data removed]",
      "text/plain": [
       "<Figure size 432x288 with 1 Axes>"
      ]
     },
     "metadata": {
      "needs_background": "light"
     },
     "output_type": "display_data"
    }
   ],
   "source": [
    "trainer.train_data.origin.hist()"
   ]
  },
  {
   "cell_type": "code",
   "execution_count": 11,
   "metadata": {},
   "outputs": [
    {
     "data": {
      "text/plain": [
       "origin       object\n",
       "img_name     object\n",
       "mouth       float64\n",
       "veil        float64\n",
       "aligned      object\n",
       "dtype: object"
      ]
     },
     "execution_count": 11,
     "metadata": {},
     "output_type": "execute_result"
    }
   ],
   "source": [
    "trainer.train_data.dtypes"
   ]
  },
  {
   "cell_type": "markdown",
   "metadata": {},
   "source": [
    "# Use Neptune"
   ]
  },
  {
   "cell_type": "code",
   "execution_count": 12,
   "metadata": {},
   "outputs": [
    {
     "name": "stdout",
     "output_type": "stream",
     "text": [
      "Not using Neptune\n",
      "Not using Neptune\n"
     ]
    }
   ],
   "source": [
    "trainer.start_neptune()\n",
    "trainer.create_experiment()"
   ]
  },
  {
   "cell_type": "markdown",
   "metadata": {},
   "source": [
    "# Create Model"
   ]
  },
  {
   "cell_type": "code",
   "execution_count": 13,
   "metadata": {},
   "outputs": [
    {
     "name": "stdout",
     "output_type": "stream",
     "text": [
      "Creating model...\n",
      "Model created\n"
     ]
    }
   ],
   "source": [
    "trainer.create_model()"
   ]
  },
  {
   "cell_type": "markdown",
   "metadata": {},
   "source": [
    "# Vizualize Model"
   ]
  },
  {
   "cell_type": "raw",
   "metadata": {},
   "source": [
    "trainer.vizualize_model()"
   ]
  },
  {
   "cell_type": "raw",
   "metadata": {},
   "source": [
    "trainer.model.summary()"
   ]
  },
  {
   "cell_type": "markdown",
   "metadata": {},
   "source": [
    "# Training Model"
   ]
  },
  {
   "cell_type": "code",
   "execution_count": 14,
   "metadata": {
    "tags": []
   },
   "outputs": [
    {
     "name": "stdout",
     "output_type": "stream",
     "text": [
      "Training VGG16 network\n",
      "Epoch 1/10\n",
      "174/174 [==============================] - 92s 531ms/step - loss: 0.3982 - mouth_loss: 1.0970 - veil_loss: 0.6909 - mouth_accuracy: 0.4631 - veil_accuracy: 0.7140 - val_loss: 0.3976 - val_mouth_loss: 1.0956 - val_veil_loss: 0.6887 - val_mouth_accuracy: 0.4679 - val_veil_accuracy: 0.7262\n",
      "Epoch 2/10\n",
      "174/174 [==============================] - 93s 534ms/step - loss: 0.3971 - mouth_loss: 1.0947 - veil_loss: 0.6872 - mouth_accuracy: 0.4649 - veil_accuracy: 0.7179 - val_loss: 0.3966 - val_mouth_loss: 1.0937 - val_veil_loss: 0.6853 - val_mouth_accuracy: 0.4688 - val_veil_accuracy: 0.7278\n",
      "Epoch 3/10\n",
      "174/174 [==============================] - 93s 536ms/step - loss: 0.3964 - mouth_loss: 1.0931 - veil_loss: 0.6843 - mouth_accuracy: 0.4643 - veil_accuracy: 0.7172 - val_loss: 0.3959 - val_mouth_loss: 1.0922 - val_veil_loss: 0.6824 - val_mouth_accuracy: 0.4671 - val_veil_accuracy: 0.7286\n",
      "Epoch 4/10\n",
      "174/174 [==============================] - 93s 534ms/step - loss: 0.3957 - mouth_loss: 1.0918 - veil_loss: 0.6818 - mouth_accuracy: 0.4642 - veil_accuracy: 0.7173 - val_loss: 0.3952 - val_mouth_loss: 1.0908 - val_veil_loss: 0.6799 - val_mouth_accuracy: 0.4696 - val_veil_accuracy: 0.7286\n",
      "Epoch 5/10\n",
      "174/174 [==============================] - 93s 535ms/step - loss: 0.3951 - mouth_loss: 1.0906 - veil_loss: 0.6795 - mouth_accuracy: 0.4648 - veil_accuracy: 0.7178 - val_loss: 0.3947 - val_mouth_loss: 1.0898 - val_veil_loss: 0.6779 - val_mouth_accuracy: 0.4671 - val_veil_accuracy: 0.7270\n",
      "Epoch 6/10\n",
      "174/174 [==============================] - 93s 535ms/step - loss: 0.3946 - mouth_loss: 1.0896 - veil_loss: 0.6776 - mouth_accuracy: 0.4639 - veil_accuracy: 0.7176 - val_loss: 0.3942 - val_mouth_loss: 1.0889 - val_veil_loss: 0.6758 - val_mouth_accuracy: 0.4671 - val_veil_accuracy: 0.7278\n",
      "Epoch 7/10\n",
      "174/174 [==============================] - 94s 540ms/step - loss: 0.3942 - mouth_loss: 1.0886 - veil_loss: 0.6757 - mouth_accuracy: 0.4649 - veil_accuracy: 0.7178 - val_loss: 0.3938 - val_mouth_loss: 1.0881 - val_veil_loss: 0.6742 - val_mouth_accuracy: 0.4663 - val_veil_accuracy: 0.7253\n",
      "Epoch 8/10\n",
      "174/174 [==============================] - 93s 535ms/step - loss: 0.3938 - mouth_loss: 1.0878 - veil_loss: 0.6741 - mouth_accuracy: 0.4647 - veil_accuracy: 0.7181 - val_loss: 0.3934 - val_mouth_loss: 1.0874 - val_veil_loss: 0.6723 - val_mouth_accuracy: 0.4646 - val_veil_accuracy: 0.7286\n",
      "Epoch 9/10\n",
      "174/174 [==============================] - 93s 537ms/step - loss: 0.3934 - mouth_loss: 1.0871 - veil_loss: 0.6725 - mouth_accuracy: 0.4650 - veil_accuracy: 0.7181 - val_loss: 0.3931 - val_mouth_loss: 1.0866 - val_veil_loss: 0.6709 - val_mouth_accuracy: 0.4655 - val_veil_accuracy: 0.7262\n",
      "Epoch 10/10\n",
      "174/174 [==============================] - 93s 534ms/step - loss: 0.3930 - mouth_loss: 1.0864 - veil_loss: 0.6711 - mouth_accuracy: 0.4647 - veil_accuracy: 0.7178 - val_loss: 0.3925 - val_mouth_loss: 1.0854 - val_veil_loss: 0.6692 - val_mouth_accuracy: 0.4704 - val_veil_accuracy: 0.7286\n"
     ]
    }
   ],
   "source": [
    "trainer.train_model()"
   ]
  },
  {
   "cell_type": "markdown",
   "metadata": {},
   "source": [
    "# Plots"
   ]
  },
  {
   "cell_type": "code",
   "execution_count": null,
   "metadata": {},
   "outputs": [],
   "source": [
    "trainer.draw_training_history()"
   ]
  },
  {
   "cell_type": "markdown",
   "metadata": {},
   "source": [
    "# Load Best Model"
   ]
  },
  {
   "cell_type": "code",
   "execution_count": null,
   "metadata": {},
   "outputs": [],
   "source": [
    "trainer.load_best_model()"
   ]
  },
  {
   "cell_type": "markdown",
   "metadata": {},
   "source": [
    "# Saving Trained Model"
   ]
  },
  {
   "cell_type": "code",
   "execution_count": null,
   "metadata": {},
   "outputs": [],
   "source": [
    "trainer.save_model()"
   ]
  },
  {
   "cell_type": "markdown",
   "metadata": {},
   "source": [
    "# Test Trained Model"
   ]
  },
  {
   "cell_type": "code",
   "execution_count": 15,
   "metadata": {},
   "outputs": [
    {
     "name": "stdout",
     "output_type": "stream",
     "text": [
      "Testing Trained Model\n",
      "Requisite: MOUTH\n",
      "              precision    recall  f1-score   support\n",
      "\n",
      "    NON_COMP       0.00      0.00      0.00        66\n",
      "        COMP       0.77      1.00      0.87       222\n",
      "\n",
      "    accuracy                           0.77       288\n",
      "   macro avg       0.39      0.50      0.44       288\n",
      "weighted avg       0.59      0.77      0.67       288\n",
      "\n",
      "Model Accuracy: 0.7708\n",
      "Requisite: VEIL\n",
      "              precision    recall  f1-score   support\n",
      "\n",
      "    NON_COMP       0.06      1.00      0.11        17\n",
      "        COMP       0.00      0.00      0.00       271\n",
      "\n",
      "    accuracy                           0.06       288\n",
      "   macro avg       0.03      0.50      0.06       288\n",
      "weighted avg       0.00      0.06      0.01       288\n",
      "\n",
      "Model Accuracy: 0.059\n"
     ]
    },
    {
     "name": "stderr",
     "output_type": "stream",
     "text": [
      "/home/guilherme/anaconda3/envs/mteval-icao-reqs/submodules/icao_nets_training/lib/python3.8/site-packages/sklearn/metrics/_classification.py:1221: UndefinedMetricWarning: Precision and F-score are ill-defined and being set to 0.0 in labels with no predicted samples. Use `zero_division` parameter to control this behavior.\n",
      "  _warn_prf(average, modifier, msg_start, len(result))\n"
     ]
    }
   ],
   "source": [
    "trainer.test_model()"
   ]
  },
  {
   "cell_type": "markdown",
   "metadata": {},
   "source": [
    "# Evaluate Model"
   ]
  },
  {
   "cell_type": "code",
   "execution_count": null,
   "metadata": {},
   "outputs": [],
   "source": [
    "trainer.evaluate_model()"
   ]
  },
  {
   "cell_type": "markdown",
   "metadata": {},
   "source": [
    "# Vizualize Model Classification"
   ]
  },
  {
   "cell_type": "code",
   "execution_count": null,
   "metadata": {},
   "outputs": [],
   "source": [
    "trainer.vizualize_predictions()"
   ]
  },
  {
   "cell_type": "markdown",
   "metadata": {},
   "source": [
    "# Finishing Experiment Manager"
   ]
  },
  {
   "cell_type": "code",
   "execution_count": null,
   "metadata": {},
   "outputs": [],
   "source": [
    "trainer.finish_experiment()"
   ]
  }
 ],
 "metadata": {
  "kernelspec": {
   "display_name": "Python 3",
   "language": "python",
   "name": "python3"
  },
  "language_info": {
   "codemirror_mode": {
    "name": "ipython",
    "version": 3
   },
   "file_extension": ".py",
   "mimetype": "text/x-python",
   "name": "python",
   "nbconvert_exporter": "python",
   "pygments_lexer": "ipython3",
   "version": "3.8.3"
  },
  "neptune": {
   "notebookId": "d6d95e8a-b251-40a1-bf9d-610ebc484f63"
  },
  "toc-autonumbering": true
 },
 "nbformat": 4,
 "nbformat_minor": 4
}

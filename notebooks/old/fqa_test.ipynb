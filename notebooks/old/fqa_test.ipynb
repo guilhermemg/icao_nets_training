{
 "cells": [
  {
   "cell_type": "markdown",
   "metadata": {},
   "source": [
    "# Introduction\n",
    "\n",
    "Test train neural nets with selection of dataset based on calculated FQA Score"
   ]
  },
  {
   "cell_type": "markdown",
   "metadata": {},
   "source": [
    "# Import Libraries"
   ]
  },
  {
   "cell_type": "code",
   "execution_count": 1,
   "metadata": {},
   "outputs": [],
   "source": [
    "%load_ext autoreload\n",
    "%autoreload 2"
   ]
  },
  {
   "cell_type": "code",
   "execution_count": 2,
   "metadata": {},
   "outputs": [],
   "source": [
    "import sys\n",
    "import pandas as pd\n",
    "\n",
    "from tqdm.notebook import tqdm_notebook\n",
    "\n",
    "import matplotlib.pyplot as plt\n",
    "\n",
    "if '../../../notebooks/' not in sys.path:\n",
    "    sys.path.append('../../../notebooks/')\n",
    "\n",
    "import utils.constants as cts    \n",
    "    \n",
    "from fqa.fqa_analyzer import FQAAnalyzer\n",
    "\n",
    "from data_loaders.dl_list import ALL_DATA_LOADERS_LIST\n",
    "\n",
    "from models.oface_mouth_model import OpenfaceMouth\n",
    "\n",
    "from tagger.tagger import Tagger"
   ]
  },
  {
   "cell_type": "markdown",
   "metadata": {},
   "source": [
    "# Joining Labels and FQA Score"
   ]
  },
  {
   "cell_type": "code",
   "execution_count": 3,
   "metadata": {},
   "outputs": [
    {
     "name": "stdout",
     "output_type": "stream",
     "text": [
      "(233469, 2)\n"
     ]
    },
    {
     "data": {
      "text/html": [
       "<div>\n",
       "<style scoped>\n",
       "    .dataframe tbody tr th:only-of-type {\n",
       "        vertical-align: middle;\n",
       "    }\n",
       "\n",
       "    .dataframe tbody tr th {\n",
       "        vertical-align: top;\n",
       "    }\n",
       "\n",
       "    .dataframe thead th {\n",
       "        text-align: right;\n",
       "    }\n",
       "</style>\n",
       "<table border=\"1\" class=\"dataframe\">\n",
       "  <thead>\n",
       "    <tr style=\"text-align: right;\">\n",
       "      <th></th>\n",
       "      <th>img_name</th>\n",
       "      <th>fqa_score</th>\n",
       "    </tr>\n",
       "  </thead>\n",
       "  <tbody>\n",
       "    <tr>\n",
       "      <th>0</th>\n",
       "      <td>/home/guilherme/data/Dropbox/Link to Desktop/D...</td>\n",
       "      <td>0.261643</td>\n",
       "    </tr>\n",
       "    <tr>\n",
       "      <th>1</th>\n",
       "      <td>/home/guilherme/data/Dropbox/Link to Desktop/D...</td>\n",
       "      <td>0.341480</td>\n",
       "    </tr>\n",
       "    <tr>\n",
       "      <th>2</th>\n",
       "      <td>/home/guilherme/data/Dropbox/Link to Desktop/D...</td>\n",
       "      <td>0.390947</td>\n",
       "    </tr>\n",
       "    <tr>\n",
       "      <th>3</th>\n",
       "      <td>/home/guilherme/data/Dropbox/Link to Desktop/D...</td>\n",
       "      <td>0.385531</td>\n",
       "    </tr>\n",
       "    <tr>\n",
       "      <th>4</th>\n",
       "      <td>/home/guilherme/data/Dropbox/Link to Desktop/D...</td>\n",
       "      <td>0.341721</td>\n",
       "    </tr>\n",
       "  </tbody>\n",
       "</table>\n",
       "</div>"
      ],
      "text/plain": [
       "                                            img_name  fqa_score\n",
       "0  /home/guilherme/data/Dropbox/Link to Desktop/D...   0.261643\n",
       "1  /home/guilherme/data/Dropbox/Link to Desktop/D...   0.341480\n",
       "2  /home/guilherme/data/Dropbox/Link to Desktop/D...   0.390947\n",
       "3  /home/guilherme/data/Dropbox/Link to Desktop/D...   0.385531\n",
       "4  /home/guilherme/data/Dropbox/Link to Desktop/D...   0.341721"
      ]
     },
     "execution_count": 3,
     "metadata": {},
     "output_type": "execute_result"
    }
   ],
   "source": [
    "fqa_anlz = FQAAnalyzer(aligned=True)\n",
    "fqa_anlz.load_fqa_scores()\n",
    "fqa_scores_df = fqa_anlz.fqa_scores_df\n",
    "\n",
    "print(fqa_scores_df.shape)\n",
    "\n",
    "fqa_scores_df.head()"
   ]
  },
  {
   "cell_type": "code",
   "execution_count": 4,
   "metadata": {},
   "outputs": [
    {
     "data": {
      "application/vnd.jupyter.widget-view+json": {
       "model_id": "7b72e7d8ef49428e8fe51640559313b4",
       "version_major": 2,
       "version_minor": 0
      },
      "text/plain": [
       "HBox(children=(FloatProgress(value=0.0, max=26.0), HTML(value='')))"
      ]
     },
     "metadata": {},
     "output_type": "display_data"
    },
    {
     "name": "stdout",
     "output_type": "stream",
     "text": [
      "\n",
      "(233469, 2)\n"
     ]
    },
    {
     "data": {
      "text/html": [
       "<div>\n",
       "<style scoped>\n",
       "    .dataframe tbody tr th:only-of-type {\n",
       "        vertical-align: middle;\n",
       "    }\n",
       "\n",
       "    .dataframe tbody tr th {\n",
       "        vertical-align: top;\n",
       "    }\n",
       "\n",
       "    .dataframe thead th {\n",
       "        text-align: right;\n",
       "    }\n",
       "</style>\n",
       "<table border=\"1\" class=\"dataframe\">\n",
       "  <thead>\n",
       "    <tr style=\"text-align: right;\">\n",
       "      <th></th>\n",
       "      <th>img_name</th>\n",
       "      <th>comp</th>\n",
       "    </tr>\n",
       "  </thead>\n",
       "  <tbody>\n",
       "    <tr>\n",
       "      <th>0</th>\n",
       "      <td>/home/guilherme/data/Dropbox/Link to Desktop/D...</td>\n",
       "      <td>1.0</td>\n",
       "    </tr>\n",
       "    <tr>\n",
       "      <th>1</th>\n",
       "      <td>/home/guilherme/data/Dropbox/Link to Desktop/D...</td>\n",
       "      <td>0.0</td>\n",
       "    </tr>\n",
       "    <tr>\n",
       "      <th>2</th>\n",
       "      <td>/home/guilherme/data/Dropbox/Link to Desktop/D...</td>\n",
       "      <td>0.0</td>\n",
       "    </tr>\n",
       "    <tr>\n",
       "      <th>3</th>\n",
       "      <td>/home/guilherme/data/Dropbox/Link to Desktop/D...</td>\n",
       "      <td>0.0</td>\n",
       "    </tr>\n",
       "    <tr>\n",
       "      <th>4</th>\n",
       "      <td>/home/guilherme/data/Dropbox/Link to Desktop/D...</td>\n",
       "      <td>1.0</td>\n",
       "    </tr>\n",
       "  </tbody>\n",
       "</table>\n",
       "</div>"
      ],
      "text/plain": [
       "                                            img_name  comp\n",
       "0  /home/guilherme/data/Dropbox/Link to Desktop/D...   1.0\n",
       "1  /home/guilherme/data/Dropbox/Link to Desktop/D...   0.0\n",
       "2  /home/guilherme/data/Dropbox/Link to Desktop/D...   0.0\n",
       "3  /home/guilherme/data/Dropbox/Link to Desktop/D...   0.0\n",
       "4  /home/guilherme/data/Dropbox/Link to Desktop/D...   1.0"
      ]
     },
     "execution_count": 4,
     "metadata": {},
     "output_type": "execute_result"
    }
   ],
   "source": [
    "m = OpenfaceMouth()\n",
    "t = Tagger(None, m, cts.ICAO_REQ.MOUTH)\n",
    "\n",
    "labels_df = pd.DataFrame()\n",
    "\n",
    "for dl in tqdm_notebook(ALL_DATA_LOADERS_LIST):\n",
    "    t.set_dataloader(dl)\n",
    "    t.load_labels_df()\n",
    "    \n",
    "    if dl.is_aligned():\n",
    "        labels_df = labels_df.append(t.get_labels_df())\n",
    "            \n",
    "print(labels_df.shape)\n",
    "\n",
    "labels_df.head()"
   ]
  },
  {
   "cell_type": "code",
   "execution_count": 5,
   "metadata": {},
   "outputs": [
    {
     "data": {
      "text/html": [
       "<div>\n",
       "<style scoped>\n",
       "    .dataframe tbody tr th:only-of-type {\n",
       "        vertical-align: middle;\n",
       "    }\n",
       "\n",
       "    .dataframe tbody tr th {\n",
       "        vertical-align: top;\n",
       "    }\n",
       "\n",
       "    .dataframe thead th {\n",
       "        text-align: right;\n",
       "    }\n",
       "</style>\n",
       "<table border=\"1\" class=\"dataframe\">\n",
       "  <thead>\n",
       "    <tr style=\"text-align: right;\">\n",
       "      <th></th>\n",
       "      <th>img_name</th>\n",
       "      <th>fqa_score</th>\n",
       "      <th>comp</th>\n",
       "    </tr>\n",
       "  </thead>\n",
       "  <tbody>\n",
       "    <tr>\n",
       "      <th>0</th>\n",
       "      <td>/home/guilherme/data/Dropbox/Link to Desktop/D...</td>\n",
       "      <td>0.261643</td>\n",
       "      <td>1.0</td>\n",
       "    </tr>\n",
       "    <tr>\n",
       "      <th>1</th>\n",
       "      <td>/home/guilherme/data/Dropbox/Link to Desktop/D...</td>\n",
       "      <td>0.341480</td>\n",
       "      <td>0.0</td>\n",
       "    </tr>\n",
       "    <tr>\n",
       "      <th>2</th>\n",
       "      <td>/home/guilherme/data/Dropbox/Link to Desktop/D...</td>\n",
       "      <td>0.390947</td>\n",
       "      <td>0.0</td>\n",
       "    </tr>\n",
       "    <tr>\n",
       "      <th>3</th>\n",
       "      <td>/home/guilherme/data/Dropbox/Link to Desktop/D...</td>\n",
       "      <td>0.385531</td>\n",
       "      <td>0.0</td>\n",
       "    </tr>\n",
       "    <tr>\n",
       "      <th>4</th>\n",
       "      <td>/home/guilherme/data/Dropbox/Link to Desktop/D...</td>\n",
       "      <td>0.341721</td>\n",
       "      <td>1.0</td>\n",
       "    </tr>\n",
       "  </tbody>\n",
       "</table>\n",
       "</div>"
      ],
      "text/plain": [
       "                                            img_name  fqa_score  comp\n",
       "0  /home/guilherme/data/Dropbox/Link to Desktop/D...   0.261643   1.0\n",
       "1  /home/guilherme/data/Dropbox/Link to Desktop/D...   0.341480   0.0\n",
       "2  /home/guilherme/data/Dropbox/Link to Desktop/D...   0.390947   0.0\n",
       "3  /home/guilherme/data/Dropbox/Link to Desktop/D...   0.385531   0.0\n",
       "4  /home/guilherme/data/Dropbox/Link to Desktop/D...   0.341721   1.0"
      ]
     },
     "execution_count": 5,
     "metadata": {},
     "output_type": "execute_result"
    }
   ],
   "source": [
    "labels_fqa_df = pd.DataFrame()\n",
    "labels_fqa_df['img_name'] = labels_df.img_name\n",
    "labels_fqa_df['fqa_score'] = fqa_scores_df.fqa_score\n",
    "labels_fqa_df['comp'] = labels_df.comp\n",
    "\n",
    "labels_fqa_df.head()"
   ]
  },
  {
   "cell_type": "markdown",
   "metadata": {},
   "source": [
    "# QQ-Plot Normality Test"
   ]
  },
  {
   "cell_type": "code",
   "execution_count": 6,
   "metadata": {},
   "outputs": [
    {
     "data": {
      "image/png": "[encoded data removed]",
      "text/plain": [
       "<Figure size 432x288 with 1 Axes>"
      ]
     },
     "metadata": {
      "needs_background": "light"
     },
     "output_type": "display_data"
    },
    {
     "data": {
      "image/png": "[encoded data removed]",
      "text/plain": [
       "<Figure size 432x288 with 1 Axes>"
      ]
     },
     "metadata": {
      "needs_background": "light"
     },
     "output_type": "display_data"
    }
   ],
   "source": [
    "import statsmodels.api as sm\n",
    "import pylab\n",
    "\n",
    "sm.qqplot(labels_fqa_df.comp, loc = 4, scale = 3, line='s')\n",
    "sm.qqplot(labels_fqa_df.fqa_score, loc = 4, scale = 3, line='s')\n",
    "\n",
    "pylab.show()"
   ]
  },
  {
   "cell_type": "markdown",
   "metadata": {},
   "source": [
    "## Histogram FQA Score"
   ]
  },
  {
   "cell_type": "code",
   "execution_count": 7,
   "metadata": {},
   "outputs": [
    {
     "data": {
      "image/png": "[encoded data removed]",
      "text/plain": [
       "<Figure size 432x288 with 1 Axes>"
      ]
     },
     "metadata": {
      "needs_background": "light"
     },
     "output_type": "display_data"
    }
   ],
   "source": [
    "plt.hist(labels_fqa_df.fqa_score, bins=100)\n",
    "plt.show()"
   ]
  },
  {
   "cell_type": "markdown",
   "metadata": {},
   "source": [
    "# Save Data"
   ]
  },
  {
   "cell_type": "code",
   "execution_count": 8,
   "metadata": {},
   "outputs": [],
   "source": [
    "labels_fqa_df.to_csv(cts.LABELS_FQA_SCORES_DATA_PATH, index=False)"
   ]
  }
 ],
 "metadata": {
  "kernelspec": {
   "display_name": "Python 3",
   "language": "python",
   "name": "python3"
  },
  "language_info": {
   "codemirror_mode": {
    "name": "ipython",
    "version": 3
   },
   "file_extension": ".py",
   "mimetype": "text/x-python",
   "name": "python",
   "nbconvert_exporter": "python",
   "pygments_lexer": "ipython3",
   "version": "3.8.3"
  }
 },
 "nbformat": 4,
 "nbformat_minor": 4
}

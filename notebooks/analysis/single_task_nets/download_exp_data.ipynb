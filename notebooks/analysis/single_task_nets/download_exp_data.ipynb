{
 "cells": [
  {
   "cell_type": "markdown",
   "metadata": {},
   "source": [
    "# Introduction\n",
    "\n",
    "Notebook para fazer análise de modelos e de resultados de experimentos feitos e armazenados no Neptune"
   ]
  },
  {
   "cell_type": "markdown",
   "metadata": {},
   "source": [
    "# Import Libraries"
   ]
  },
  {
   "cell_type": "code",
   "execution_count": 2,
   "metadata": {},
   "outputs": [],
   "source": [
    "import os\n",
    "import sys\n",
    "import neptune\n",
    "import zipfile\n",
    "import shutil\n",
    "import numpy as np\n",
    "import pandas as pd\n",
    "\n",
    "from datetime import datetime\n",
    "\n",
    "from tqdm.notebook import tqdm\n",
    "\n",
    "if '../..' not in sys.path:\n",
    "    sys.path.insert(0, '../..')\n",
    "\n",
    "import config"
   ]
  },
  {
   "cell_type": "markdown",
   "metadata": {},
   "source": [
    "# Download de Modelos"
   ]
  },
  {
   "cell_type": "markdown",
   "metadata": {},
   "source": [
    "## Fetch Project"
   ]
  },
  {
   "cell_type": "code",
   "execution_count": 3,
   "metadata": {},
   "outputs": [],
   "source": [
    "icao_nets_proj = neptune.init('guilhermemg/icao-nets-training', api_token=config.NEPTUNE_API_TOKEN)"
   ]
  },
  {
   "cell_type": "markdown",
   "metadata": {},
   "source": [
    "## Fetch Experiments"
   ]
  },
  {
   "cell_type": "code",
   "execution_count": 4,
   "metadata": {},
   "outputs": [],
   "source": [
    "df = icao_nets_proj.get_leaderboard(owner='guilhermemg')"
   ]
  },
  {
   "cell_type": "code",
   "execution_count": 5,
   "metadata": {},
   "outputs": [],
   "source": [
    "df.to_csv('single_task_exps_data/experiments_data.csv', index=False)"
   ]
  },
  {
   "cell_type": "markdown",
   "metadata": {},
   "source": [
    "## Select Experiments"
   ]
  },
  {
   "cell_type": "code",
   "execution_count": 6,
   "metadata": {},
   "outputs": [],
   "source": [
    "def process_gt_names(gt_names):\n",
    "    gt_names_dict = {'train_validation_test': gt_names.split(':')[-1]}\n",
    "    train_val_test = gt_names_dict['train_validation_test']\n",
    "    train_val_test = train_val_test[:-3]\n",
    "    train_val_test = train_val_test[3:]\n",
    "    return train_val_test"
   ]
  },
  {
   "cell_type": "code",
   "execution_count": 7,
   "metadata": {},
   "outputs": [
    {
     "data": {
      "text/html": [
       "<div>\n",
       "<style scoped>\n",
       "    .dataframe tbody tr th:only-of-type {\n",
       "        vertical-align: middle;\n",
       "    }\n",
       "\n",
       "    .dataframe tbody tr th {\n",
       "        vertical-align: top;\n",
       "    }\n",
       "\n",
       "    .dataframe thead th {\n",
       "        text-align: right;\n",
       "    }\n",
       "</style>\n",
       "<table border=\"1\" class=\"dataframe\">\n",
       "  <thead>\n",
       "    <tr style=\"text-align: right;\">\n",
       "      <th></th>\n",
       "      <th>id</th>\n",
       "      <th>property_icao_reqs</th>\n",
       "      <th>property_aligned</th>\n",
       "      <th>property_gt_names</th>\n",
       "      <th>created</th>\n",
       "    </tr>\n",
       "  </thead>\n",
       "  <tbody>\n",
       "    <tr>\n",
       "      <th>186</th>\n",
       "      <td>IC-540</td>\n",
       "      <td>['mouth']</td>\n",
       "      <td>False</td>\n",
       "      <td>fvc</td>\n",
       "      <td>2021-05-25 02:59:05.091</td>\n",
       "    </tr>\n",
       "    <tr>\n",
       "      <th>187</th>\n",
       "      <td>IC-541</td>\n",
       "      <td>['rotation']</td>\n",
       "      <td>False</td>\n",
       "      <td>fvc</td>\n",
       "      <td>2021-05-25 04:11:22.507</td>\n",
       "    </tr>\n",
       "    <tr>\n",
       "      <th>188</th>\n",
       "      <td>IC-542</td>\n",
       "      <td>['l_away']</td>\n",
       "      <td>False</td>\n",
       "      <td>fvc</td>\n",
       "      <td>2021-05-25 05:12:09.412</td>\n",
       "    </tr>\n",
       "    <tr>\n",
       "      <th>189</th>\n",
       "      <td>IC-543</td>\n",
       "      <td>['eyes_closed']</td>\n",
       "      <td>False</td>\n",
       "      <td>fvc</td>\n",
       "      <td>2021-05-25 06:12:53.979</td>\n",
       "    </tr>\n",
       "    <tr>\n",
       "      <th>190</th>\n",
       "      <td>IC-545</td>\n",
       "      <td>['hat']</td>\n",
       "      <td>False</td>\n",
       "      <td>fvc</td>\n",
       "      <td>2021-05-25 08:21:44.326</td>\n",
       "    </tr>\n",
       "  </tbody>\n",
       "</table>\n",
       "</div>"
      ],
      "text/plain": [
       "         id property_icao_reqs property_aligned property_gt_names  \\\n",
       "186  IC-540          ['mouth']            False               fvc   \n",
       "187  IC-541       ['rotation']            False               fvc   \n",
       "188  IC-542         ['l_away']            False               fvc   \n",
       "189  IC-543    ['eyes_closed']            False               fvc   \n",
       "190  IC-545            ['hat']            False               fvc   \n",
       "\n",
       "                    created  \n",
       "186 2021-05-25 02:59:05.091  \n",
       "187 2021-05-25 04:11:22.507  \n",
       "188 2021-05-25 05:12:09.412  \n",
       "189 2021-05-25 06:12:53.979  \n",
       "190 2021-05-25 08:21:44.326  "
      ]
     },
     "metadata": {},
     "output_type": "display_data"
    },
    {
     "name": "stdout",
     "output_type": "stream",
     "text": [
      "(23, 5)\n"
     ]
    }
   ],
   "source": [
    "df = pd.read_csv('single_task_exps_data/experiments_data.csv')\n",
    "df = df[['id','property_icao_reqs','property_aligned','property_gt_names', 'created']]\n",
    "df = df.dropna()\n",
    "df = df[df.property_icao_reqs.str.contains('\\[')]\n",
    "df['property_gt_names'] = df.property_gt_names.apply(lambda row : process_gt_names(row))\n",
    "\n",
    "init_date_exps = datetime(2021, 5, 25)\n",
    "final_date_exps = datetime(2021, 5, 27)\n",
    "\n",
    "df['created'] = df['created'].astype('datetime64[ns]')\n",
    "\n",
    "df = df[(df.created >=  init_date_exps) & (df.created <  final_date_exps)]\n",
    "\n",
    "df = df[(df.property_gt_names == 'fvc') & (df.property_aligned == False)]\n",
    "\n",
    "display(df.head(5))\n",
    "print(df.shape)\n",
    "\n",
    "assert df.shape[0] == 23 # 23 experiments (FVC, NOT_ALIGNED) !!!"
   ]
  },
  {
   "cell_type": "markdown",
   "metadata": {},
   "source": [
    "### Save Data to New .csv"
   ]
  },
  {
   "cell_type": "code",
   "execution_count": 8,
   "metadata": {},
   "outputs": [],
   "source": [
    "df.to_csv('single_task_exps_data/processed_experiments_data.csv', index=False)"
   ]
  },
  {
   "cell_type": "markdown",
   "metadata": {},
   "source": [
    "## Download Models"
   ]
  },
  {
   "cell_type": "code",
   "execution_count": 9,
   "metadata": {},
   "outputs": [],
   "source": [
    "if '../../../../../notebooks/' not in sys.path:\n",
    "    sys.path.insert(0, '../../../../../notebooks/')\n",
    "\n",
    "from utils import constants as cts"
   ]
  },
  {
   "cell_type": "code",
   "execution_count": 10,
   "metadata": {},
   "outputs": [],
   "source": [
    "def __check_dest_folder(dest_folder):\n",
    "    if os.path.exists(dest_folder):\n",
    "        shutil.rmtree(dest_folder)\n",
    "\n",
    "\n",
    "def download_model(req, ds, align):\n",
    "    print(f' Requisite: {req.upper()} | Dataset: {ds.upper()} | Aligned: {align}')\n",
    "    \n",
    "    req_name = f\"['{req}']\"\n",
    "    \n",
    "    exp_id = df[(df.property_icao_reqs.str.contains(req_name, regex=False, case=False)) & \n",
    "                 (df.property_aligned == align) &\n",
    "                (df.property_gt_names.str.contains(ds))].id.values[0]\n",
    "    print(f'.. Identified experiment id: {exp_id}')\n",
    "\n",
    "    my_exp = icao_nets_proj.get_experiments(id=exp_id)[0]\n",
    "    print('.. Downloading artifacts...')\n",
    "    aligned = 'aligned' if align else 'not_aligned'\n",
    "    dest_dir = f'prev_trained_models/single_task/{ds}_{aligned}/{req}'\n",
    "    \n",
    "    __check_dest_folder(dest_dir)\n",
    "    \n",
    "    print(f' .. Destination Folder: {dest_dir}')\n",
    "    my_exp.download_artifacts(destination_dir=dest_dir)\n",
    "    print(' .. Download done!')\n",
    "    \n",
    "    with zipfile.ZipFile(os.path.join(dest_dir, 'output.zip'), 'r') as zip_ref:\n",
    "        zip_ref.extractall(dest_dir)\n",
    "    \n",
    "    os.remove(os.path.join(dest_dir, 'output.zip'))\n",
    "    shutil.move(os.path.join(dest_dir, 'output', 'variables'), dest_dir)\n",
    "    shutil.move(os.path.join(dest_dir, 'output', 'saved_model.pb'), dest_dir)\n",
    "    shutil.rmtree(os.path.join(dest_dir, 'output'))\n",
    "    \n",
    "    print('.. Folders set')\n",
    "    print('-----------------------------')"
   ]
  },
  {
   "cell_type": "code",
   "execution_count": 11,
   "metadata": {},
   "outputs": [
    {
     "name": "stdout",
     "output_type": "stream",
     "text": [
      " Requisite: MOUTH | Dataset: FVC | Aligned: False\n",
      ".. Identified experiment id: IC-540\n",
      ".. Downloading artifacts...\n",
      " .. Destination Folder: prev_trained_models/single_task/fvc_not_aligned/mouth\n",
      " .. Download done!\n",
      ".. Folders set\n",
      "-----------------------------\n",
      " Requisite: ROTATION | Dataset: FVC | Aligned: False\n",
      ".. Identified experiment id: IC-541\n",
      ".. Downloading artifacts...\n",
      " .. Destination Folder: prev_trained_models/single_task/fvc_not_aligned/rotation\n",
      " .. Download done!\n",
      ".. Folders set\n",
      "-----------------------------\n",
      " Requisite: L_AWAY | Dataset: FVC | Aligned: False\n",
      ".. Identified experiment id: IC-542\n",
      ".. Downloading artifacts...\n",
      " .. Destination Folder: prev_trained_models/single_task/fvc_not_aligned/l_away\n",
      " .. Download done!\n",
      ".. Folders set\n",
      "-----------------------------\n",
      " Requisite: EYES_CLOSED | Dataset: FVC | Aligned: False\n",
      ".. Identified experiment id: IC-543\n",
      ".. Downloading artifacts...\n",
      " .. Destination Folder: prev_trained_models/single_task/fvc_not_aligned/eyes_closed\n",
      " .. Download done!\n",
      ".. Folders set\n",
      "-----------------------------\n",
      " Requisite: CLOSE | Dataset: FVC | Aligned: False\n",
      ".. Identified experiment id: IC-583\n",
      ".. Downloading artifacts...\n",
      " .. Destination Folder: prev_trained_models/single_task/fvc_not_aligned/close\n",
      " .. Download done!\n",
      ".. Folders set\n",
      "-----------------------------\n",
      " Requisite: HAT | Dataset: FVC | Aligned: False\n",
      ".. Identified experiment id: IC-545\n",
      ".. Downloading artifacts...\n",
      " .. Destination Folder: prev_trained_models/single_task/fvc_not_aligned/hat\n",
      " .. Download done!\n",
      ".. Folders set\n",
      "-----------------------------\n",
      " Requisite: DARK_GLASSES | Dataset: FVC | Aligned: False\n",
      ".. Identified experiment id: IC-546\n",
      ".. Downloading artifacts...\n",
      " .. Destination Folder: prev_trained_models/single_task/fvc_not_aligned/dark_glasses\n",
      " .. Download done!\n",
      ".. Folders set\n",
      "-----------------------------\n",
      " Requisite: FRAMES_HEAVY | Dataset: FVC | Aligned: False\n",
      ".. Identified experiment id: IC-588\n",
      ".. Downloading artifacts...\n",
      " .. Destination Folder: prev_trained_models/single_task/fvc_not_aligned/frames_heavy\n",
      " .. Download done!\n",
      ".. Folders set\n",
      "-----------------------------\n",
      " Requisite: FRAME_EYES | Dataset: FVC | Aligned: False\n",
      ".. Identified experiment id: IC-548\n",
      ".. Downloading artifacts...\n",
      " .. Destination Folder: prev_trained_models/single_task/fvc_not_aligned/frame_eyes\n",
      " .. Download done!\n",
      ".. Folders set\n",
      "-----------------------------\n",
      " Requisite: FLASH_LENSES | Dataset: FVC | Aligned: False\n",
      ".. Identified experiment id: IC-549\n",
      ".. Downloading artifacts...\n",
      " .. Destination Folder: prev_trained_models/single_task/fvc_not_aligned/flash_lenses\n",
      " .. Download done!\n",
      ".. Folders set\n",
      "-----------------------------\n",
      " Requisite: VEIL | Dataset: FVC | Aligned: False\n",
      ".. Identified experiment id: IC-589\n",
      ".. Downloading artifacts...\n",
      " .. Destination Folder: prev_trained_models/single_task/fvc_not_aligned/veil\n",
      " .. Download done!\n",
      ".. Folders set\n",
      "-----------------------------\n",
      " Requisite: REFLECTION | Dataset: FVC | Aligned: False\n",
      ".. Identified experiment id: IC-555\n",
      ".. Downloading artifacts...\n",
      " .. Destination Folder: prev_trained_models/single_task/fvc_not_aligned/reflection\n",
      " .. Download done!\n",
      ".. Folders set\n",
      "-----------------------------\n",
      " Requisite: LIGHT | Dataset: FVC | Aligned: False\n",
      ".. Identified experiment id: IC-567\n",
      ".. Downloading artifacts...\n",
      " .. Destination Folder: prev_trained_models/single_task/fvc_not_aligned/light\n",
      " .. Download done!\n",
      ".. Folders set\n",
      "-----------------------------\n",
      " Requisite: SH_FACE | Dataset: FVC | Aligned: False\n",
      ".. Identified experiment id: IC-574\n",
      ".. Downloading artifacts...\n",
      " .. Destination Folder: prev_trained_models/single_task/fvc_not_aligned/sh_face\n",
      " .. Download done!\n",
      ".. Folders set\n",
      "-----------------------------\n",
      " Requisite: SH_HEAD | Dataset: FVC | Aligned: False\n",
      ".. Identified experiment id: IC-575\n",
      ".. Downloading artifacts...\n",
      " .. Destination Folder: prev_trained_models/single_task/fvc_not_aligned/sh_head\n",
      " .. Download done!\n",
      ".. Folders set\n",
      "-----------------------------\n",
      " Requisite: BLURRED | Dataset: FVC | Aligned: False\n",
      ".. Identified experiment id: IC-576\n",
      ".. Downloading artifacts...\n",
      " .. Destination Folder: prev_trained_models/single_task/fvc_not_aligned/blurred\n",
      " .. Download done!\n",
      ".. Folders set\n",
      "-----------------------------\n",
      " Requisite: INK_MARK | Dataset: FVC | Aligned: False\n",
      ".. Identified experiment id: IC-591\n",
      ".. Downloading artifacts...\n",
      " .. Destination Folder: prev_trained_models/single_task/fvc_not_aligned/ink_mark\n",
      " .. Download done!\n",
      ".. Folders set\n",
      "-----------------------------\n",
      " Requisite: SKIN_TONE | Dataset: FVC | Aligned: False\n",
      ".. Identified experiment id: IC-561\n",
      ".. Downloading artifacts...\n",
      " .. Destination Folder: prev_trained_models/single_task/fvc_not_aligned/skin_tone\n",
      " .. Download done!\n",
      ".. Folders set\n",
      "-----------------------------\n",
      " Requisite: WASHED_OUT | Dataset: FVC | Aligned: False\n",
      ".. Identified experiment id: IC-590\n",
      ".. Downloading artifacts...\n",
      " .. Destination Folder: prev_trained_models/single_task/fvc_not_aligned/washed_out\n",
      " .. Download done!\n",
      ".. Folders set\n",
      "-----------------------------\n",
      " Requisite: PIXELATION | Dataset: FVC | Aligned: False\n",
      ".. Identified experiment id: IC-579\n",
      ".. Downloading artifacts...\n",
      " .. Destination Folder: prev_trained_models/single_task/fvc_not_aligned/pixelation\n",
      " .. Download done!\n",
      ".. Folders set\n",
      "-----------------------------\n",
      " Requisite: HAIR_EYES | Dataset: FVC | Aligned: False\n",
      ".. Identified experiment id: IC-580\n",
      ".. Downloading artifacts...\n",
      " .. Destination Folder: prev_trained_models/single_task/fvc_not_aligned/hair_eyes\n",
      " .. Download done!\n",
      ".. Folders set\n",
      "-----------------------------\n",
      " Requisite: BACKGROUND | Dataset: FVC | Aligned: False\n",
      ".. Identified experiment id: IC-581\n",
      ".. Downloading artifacts...\n",
      " .. Destination Folder: prev_trained_models/single_task/fvc_not_aligned/background\n",
      " .. Download done!\n",
      ".. Folders set\n",
      "-----------------------------\n",
      " Requisite: RED_EYES | Dataset: FVC | Aligned: False\n",
      ".. Identified experiment id: IC-582\n",
      ".. Downloading artifacts...\n",
      " .. Destination Folder: prev_trained_models/single_task/fvc_not_aligned/red_eyes\n",
      " .. Download done!\n",
      ".. Folders set\n",
      "-----------------------------\n"
     ]
    }
   ],
   "source": [
    "reqs = cts.ICAO_REQ.list_reqs_names()\n",
    "datasets = ['fvc']\n",
    "aligns = [False]\n",
    "\n",
    "for req in reqs:\n",
    "    for ds in datasets:\n",
    "        for alig in aligns:\n",
    "            download_model(req, ds, alig)"
   ]
  }
 ],
 "metadata": {
  "kernelspec": {
   "display_name": "Python 3",
   "language": "python",
   "name": "python3"
  },
  "language_info": {
   "codemirror_mode": {
    "name": "ipython",
    "version": 3
   },
   "file_extension": ".py",
   "mimetype": "text/x-python",
   "name": "python",
   "nbconvert_exporter": "python",
   "pygments_lexer": "ipython3",
   "version": "3.8.3"
  }
 },
 "nbformat": 4,
 "nbformat_minor": 4
}

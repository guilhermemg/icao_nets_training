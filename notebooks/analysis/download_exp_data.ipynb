{
 "cells": [
  {
   "cell_type": "markdown",
   "metadata": {},
   "source": [
    "# Introduction\n",
    "\n",
    "Notebook para fazer análise de modelos e de resultados de experimentos feitos e armazenados no Neptune"
   ]
  },
  {
   "cell_type": "markdown",
   "metadata": {},
   "source": [
    "# Import Libraries"
   ]
  },
  {
   "cell_type": "code",
   "execution_count": 13,
   "metadata": {},
   "outputs": [],
   "source": [
    "import os\n",
    "import sys\n",
    "import neptune\n",
    "import zipfile\n",
    "import shutil\n",
    "import numpy as np\n",
    "import pandas as pd\n",
    "\n",
    "from datetime import datetime\n",
    "\n",
    "from tqdm.notebook import tqdm\n",
    "\n",
    "if '..' not in sys.path:\n",
    "    sys.path.insert(0, '..')\n",
    "\n",
    "import config"
   ]
  },
  {
   "cell_type": "markdown",
   "metadata": {},
   "source": [
    "# Download de Modelos"
   ]
  },
  {
   "cell_type": "markdown",
   "metadata": {},
   "source": [
    "## Fetch Project"
   ]
  },
  {
   "cell_type": "code",
   "execution_count": 3,
   "metadata": {},
   "outputs": [],
   "source": [
    "icao_nets_proj = neptune.init('guilhermemg/icao-nets-training', api_token=config.NEPTUNE_API_TOKEN)"
   ]
  },
  {
   "cell_type": "markdown",
   "metadata": {},
   "source": [
    "## Fetch Experiments"
   ]
  },
  {
   "cell_type": "code",
   "execution_count": 3,
   "metadata": {},
   "outputs": [],
   "source": [
    "df = icao_nets_proj.get_leaderboard(owner='guilhermemg')"
   ]
  },
  {
   "cell_type": "code",
   "execution_count": 4,
   "metadata": {},
   "outputs": [],
   "source": [
    "df.to_csv('single_task_exps/experiments_data.csv', index=False)"
   ]
  },
  {
   "cell_type": "markdown",
   "metadata": {},
   "source": [
    "## Select Experiments"
   ]
  },
  {
   "cell_type": "code",
   "execution_count": 5,
   "metadata": {},
   "outputs": [],
   "source": [
    "def process_gt_names(gt_names):\n",
    "    gt_names_dict = {'train_validation_test': gt_names.split(':')[-1]}\n",
    "    train_val_test = gt_names_dict['train_validation_test']\n",
    "    train_val_test = train_val_test[:-3]\n",
    "    return train_val_test"
   ]
  },
  {
   "cell_type": "code",
   "execution_count": 7,
   "metadata": {},
   "outputs": [
    {
     "data": {
      "text/html": [
       "<div>\n",
       "<style scoped>\n",
       "    .dataframe tbody tr th:only-of-type {\n",
       "        vertical-align: middle;\n",
       "    }\n",
       "\n",
       "    .dataframe tbody tr th {\n",
       "        vertical-align: top;\n",
       "    }\n",
       "\n",
       "    .dataframe thead th {\n",
       "        text-align: right;\n",
       "    }\n",
       "</style>\n",
       "<table border=\"1\" class=\"dataframe\">\n",
       "  <thead>\n",
       "    <tr style=\"text-align: right;\">\n",
       "      <th></th>\n",
       "      <th>id</th>\n",
       "      <th>property_icao_reqs</th>\n",
       "      <th>property_aligned</th>\n",
       "      <th>property_gt_names</th>\n",
       "      <th>created</th>\n",
       "    </tr>\n",
       "  </thead>\n",
       "  <tbody>\n",
       "    <tr>\n",
       "      <th>122</th>\n",
       "      <td>IC-376</td>\n",
       "      <td>['mouth']</td>\n",
       "      <td>True</td>\n",
       "      <td>'fvc'</td>\n",
       "      <td>2021-05-12 14:09:59.262</td>\n",
       "    </tr>\n",
       "    <tr>\n",
       "      <th>123</th>\n",
       "      <td>IC-377</td>\n",
       "      <td>['rotation']</td>\n",
       "      <td>True</td>\n",
       "      <td>'fvc'</td>\n",
       "      <td>2021-05-12 14:25:49.929</td>\n",
       "    </tr>\n",
       "    <tr>\n",
       "      <th>124</th>\n",
       "      <td>IC-378</td>\n",
       "      <td>['l_away']</td>\n",
       "      <td>True</td>\n",
       "      <td>'fvc'</td>\n",
       "      <td>2021-05-12 14:41:49.938</td>\n",
       "    </tr>\n",
       "    <tr>\n",
       "      <th>125</th>\n",
       "      <td>IC-379</td>\n",
       "      <td>['eyes_closed']</td>\n",
       "      <td>True</td>\n",
       "      <td>'fvc'</td>\n",
       "      <td>2021-05-12 14:57:41.876</td>\n",
       "    </tr>\n",
       "    <tr>\n",
       "      <th>126</th>\n",
       "      <td>IC-380</td>\n",
       "      <td>['close']</td>\n",
       "      <td>True</td>\n",
       "      <td>'fvc'</td>\n",
       "      <td>2021-05-12 15:13:22.753</td>\n",
       "    </tr>\n",
       "  </tbody>\n",
       "</table>\n",
       "</div>"
      ],
      "text/plain": [
       "         id property_icao_reqs property_aligned property_gt_names  \\\n",
       "122  IC-376          ['mouth']             True             'fvc'   \n",
       "123  IC-377       ['rotation']             True             'fvc'   \n",
       "124  IC-378         ['l_away']             True             'fvc'   \n",
       "125  IC-379    ['eyes_closed']             True             'fvc'   \n",
       "126  IC-380          ['close']             True             'fvc'   \n",
       "\n",
       "                    created  \n",
       "122 2021-05-12 14:09:59.262  \n",
       "123 2021-05-12 14:25:49.929  \n",
       "124 2021-05-12 14:41:49.938  \n",
       "125 2021-05-12 14:57:41.876  \n",
       "126 2021-05-12 15:13:22.753  "
      ]
     },
     "metadata": {},
     "output_type": "display_data"
    },
    {
     "name": "stdout",
     "output_type": "stream",
     "text": [
      "(92, 5)\n"
     ]
    }
   ],
   "source": [
    "df = pd.read_csv('single_task_exps/experiments_data.csv')\n",
    "df = df[['id','property_icao_reqs','property_aligned','property_gt_names', 'created']]\n",
    "df = df.dropna()\n",
    "df = df[df.property_icao_reqs.str.contains('\\[')]\n",
    "df['property_gt_names'] = df.property_gt_names.apply(lambda row : process_gt_names(row))\n",
    "\n",
    "init_date_exps = datetime(2021, 5, 12)\n",
    "final_date_exps = datetime(2021, 5, 19)\n",
    "\n",
    "df['created'] = df['created'].astype('datetime64[ns]')\n",
    "\n",
    "df = df[(df.created >=  init_date_exps) & (df.created <  final_date_exps)]\n",
    "\n",
    "display(df.head(5))\n",
    "print(df.shape)\n",
    "\n",
    "assert df.shape[0] == 92 # 92 experiments !!!"
   ]
  },
  {
   "cell_type": "markdown",
   "metadata": {},
   "source": [
    "## Download Models"
   ]
  },
  {
   "cell_type": "code",
   "execution_count": 22,
   "metadata": {},
   "outputs": [],
   "source": [
    "if '../../../../notebooks/' not in sys.path:\n",
    "    sys.path.insert(0, '../../../../notebooks/')\n",
    "\n",
    "from utils import constants as cts"
   ]
  },
  {
   "cell_type": "code",
   "execution_count": 21,
   "metadata": {},
   "outputs": [],
   "source": [
    "def download_model(req, ds, align):\n",
    "    print(f' Requisite: {req.upper()} | Dataset: {ds.upper()} | Aligned: {align}')\n",
    "    \n",
    "    exp_id = df[((df.property_icao_reqs.str.contains(req)) & df.property_aligned == align) & (df.property_gt_names.str.contains(ds))].id.values[0]\n",
    "    print(f'.. Identified experiment id: {exp_id}')\n",
    "\n",
    "    my_exp = icao_nets_proj.get_experiments(id=exp_id)[0]\n",
    "    print('.. Downloading artifacts...')\n",
    "    aligned = 'aligned' if align else 'not_aligned'\n",
    "    dest_dir = f'../prev_trained_models/single_task/{ds}_{aligned}/{req}'\n",
    "    my_exp.download_artifacts(destination_dir=dest_dir)\n",
    "    print(' .. Download done!')\n",
    "    \n",
    "    with zipfile.ZipFile(os.path.join(dest_dir, 'output.zip'), 'r') as zip_ref:\n",
    "        zip_ref.extractall(dest_dir)\n",
    "    \n",
    "    os.remove(os.path.join(dest_dir, 'output.zip'))\n",
    "    shutil.move(os.path.join(dest_dir, 'output', 'variables'), dest_dir)\n",
    "    shutil.move(os.path.join(dest_dir, 'output', 'saved_model.pb'), dest_dir)\n",
    "    shutil.rmtree(os.path.join(dest_dir, 'output'))\n",
    "    \n",
    "    print('.. Folders set')\n",
    "    print('-----------------------------')"
   ]
  },
  {
   "cell_type": "code",
   "execution_count": 24,
   "metadata": {},
   "outputs": [
    {
     "name": "stdout",
     "output_type": "stream",
     "text": [
      " Requisite: BACKGROUND | Dataset: FVC | Aligned: True\n",
      ".. Identified experiment id: IC-401\n",
      ".. Downloading artifacts...\n",
      " .. Download done!\n",
      ".. Folders set\n",
      "-----------------------------\n",
      " Requisite: BACKGROUND | Dataset: FVC | Aligned: False\n",
      ".. Identified experiment id: IC-376\n",
      ".. Downloading artifacts...\n",
      " .. Download done!\n",
      ".. Folders set\n",
      "-----------------------------\n",
      " Requisite: BACKGROUND | Dataset: PYBOSSA | Aligned: True\n",
      ".. Identified experiment id: IC-458\n",
      ".. Downloading artifacts...\n",
      " .. Download done!\n",
      ".. Folders set\n",
      "-----------------------------\n",
      " Requisite: BACKGROUND | Dataset: PYBOSSA | Aligned: False\n",
      ".. Identified experiment id: IC-412\n",
      ".. Downloading artifacts...\n",
      " .. Download done!\n",
      ".. Folders set\n",
      "-----------------------------\n",
      " Requisite: RED_EYES | Dataset: FVC | Aligned: True\n",
      ".. Identified experiment id: IC-405\n",
      ".. Downloading artifacts...\n",
      " .. Download done!\n",
      ".. Folders set\n",
      "-----------------------------\n",
      " Requisite: RED_EYES | Dataset: FVC | Aligned: False\n",
      ".. Identified experiment id: IC-376\n",
      ".. Downloading artifacts...\n",
      " .. Download done!\n",
      ".. Folders set\n",
      "-----------------------------\n",
      " Requisite: RED_EYES | Dataset: PYBOSSA | Aligned: True\n",
      ".. Identified experiment id: IC-459\n",
      ".. Downloading artifacts...\n",
      " .. Download done!\n",
      ".. Folders set\n",
      "-----------------------------\n",
      " Requisite: RED_EYES | Dataset: PYBOSSA | Aligned: False\n",
      ".. Identified experiment id: IC-412\n",
      ".. Downloading artifacts...\n",
      " .. Download done!\n",
      ".. Folders set\n",
      "-----------------------------\n"
     ]
    }
   ],
   "source": [
    "reqs = cts.ICAO_REQ.list_reqs_names()\n",
    "datasets = ['fvc', 'pybossa']\n",
    "aligns = [True, False]\n",
    "\n",
    "for req in reqs[-2:]:\n",
    "    for ds in datasets:\n",
    "        for alig in aligns:\n",
    "            download_model(req, ds, alig)"
   ]
  }
 ],
 "metadata": {
  "kernelspec": {
   "display_name": "Python 3",
   "language": "python",
   "name": "python3"
  },
  "language_info": {
   "codemirror_mode": {
    "name": "ipython",
    "version": 3
   },
   "file_extension": ".py",
   "mimetype": "text/x-python",
   "name": "python",
   "nbconvert_exporter": "python",
   "pygments_lexer": "ipython3",
   "version": "3.8.3"
  }
 },
 "nbformat": 4,
 "nbformat_minor": 4
}

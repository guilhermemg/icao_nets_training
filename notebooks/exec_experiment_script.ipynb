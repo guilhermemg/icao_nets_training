{
 "cells": [
  {
   "cell_type": "markdown",
   "metadata": {},
   "source": [
    "# Import libs"
   ]
  },
  {
   "cell_type": "code",
   "execution_count": 1,
   "metadata": {},
   "outputs": [],
   "source": [
    "%load_ext autoreload\n",
    "%autoreload 2"
   ]
  },
  {
   "cell_type": "code",
   "execution_count": 2,
   "metadata": {},
   "outputs": [],
   "source": [
    "import os\n",
    "import sys\n",
    "import yaml\n",
    "import pprint\n",
    "import subprocess\n",
    "\n",
    "if '../../../notebooks/' not in sys.path:\n",
    "    sys.path.append('../../../notebooks/')\n",
    "\n",
    "import utils.constants as cts\n",
    "\n",
    "from data_loaders.data_loader import DLName\n",
    "from gt_loaders.gt_names import GTName\n",
    "from exp_runner import ExperimentRunner\n",
    "from model_trainer import BaseModel, Optimizer"
   ]
  },
  {
   "cell_type": "markdown",
   "metadata": {},
   "source": [
    "# create_config Function"
   ]
  },
  {
   "cell_type": "code",
   "execution_count": 3,
   "metadata": {},
   "outputs": [],
   "source": [
    "def create_config(req, ds, aligned):\n",
    "    return { \n",
    "                'use_neptune': True,\n",
    "                'exp_params' : {\n",
    "                    'name': 'train_vgg16',\n",
    "                    'description': f'Training network for {req.value.upper()} requisite',\n",
    "                    'tags': ['vgg16', 'ground truths', 'adamax', ds.value.lower(), 'binary_output', req.value.lower()],\n",
    "                    'src_files': ['exp_runner.py', 'data_processor.py', 'model_trainer.py', 'model_evaluator.py']\n",
    "                },\n",
    "                'properties': {\n",
    "                    'reqs': [req],\n",
    "                    'aligned': aligned,\n",
    "                    'use_gt_data': True,\n",
    "                    'gt_names': {\n",
    "                        'train_validation': [],\n",
    "                        'test': [],\n",
    "                        'train_validation_test': [ds]\n",
    "                    },\n",
    "                    'balance_input_data': False,\n",
    "                    'train_model': True,\n",
    "                    'save_trained_model': True,\n",
    "                    'model_name': '',\n",
    "                    'sample_training_data': False,\n",
    "                    'sample_prop': 1.\n",
    "                },\n",
    "                'net_train_params': {\n",
    "                    'base_model': BaseModel.VGG16,\n",
    "                    'batch_size': 64,\n",
    "                    'n_epochs': 15,\n",
    "                    'early_stopping': 10,\n",
    "                    'learning_rate': 1e-3,\n",
    "                    'optimizer': Optimizer.ADAMAX,\n",
    "                    'train_prop': 0.9,\n",
    "                    'validation_prop': 0.05,\n",
    "                    'test_prop': 0.05,\n",
    "                    'validation_split': 0.1,\n",
    "                    'dropout': 0.3\n",
    "                }\n",
    "            }"
   ]
  },
  {
   "cell_type": "markdown",
   "metadata": {},
   "source": [
    "# Execute Experiment Runner"
   ]
  },
  {
   "cell_type": "code",
   "execution_count": 4,
   "metadata": {},
   "outputs": [
    {
     "ename": "AttributeError",
     "evalue": "module 'subprocess' has no attribute 'DETACHED_PROCESS'",
     "output_type": "error",
     "traceback": [
      "\u001b[0;31m---------------------------------------------------------------------------\u001b[0m",
      "\u001b[0;31mAttributeError\u001b[0m                            Traceback (most recent call last)",
      "\u001b[0;32m<ipython-input-4-0346ba3a6456>\u001b[0m in \u001b[0;36m<module>\u001b[0;34m\u001b[0m\n\u001b[1;32m     14\u001b[0m             \u001b[0;32mwith\u001b[0m \u001b[0mopen\u001b[0m\u001b[0;34m(\u001b[0m\u001b[0mf_name\u001b[0m\u001b[0;34m,\u001b[0m\u001b[0;34m'w'\u001b[0m\u001b[0;34m)\u001b[0m \u001b[0;32mas\u001b[0m \u001b[0mf\u001b[0m\u001b[0;34m:\u001b[0m\u001b[0;34m\u001b[0m\u001b[0;34m\u001b[0m\u001b[0m\n\u001b[1;32m     15\u001b[0m                 \u001b[0myaml\u001b[0m\u001b[0;34m.\u001b[0m\u001b[0mdump\u001b[0m\u001b[0;34m(\u001b[0m\u001b[0;34m[\u001b[0m\u001b[0mexp_cf\u001b[0m\u001b[0;34m]\u001b[0m\u001b[0;34m,\u001b[0m \u001b[0mf\u001b[0m\u001b[0;34m)\u001b[0m\u001b[0;34m\u001b[0m\u001b[0;34m\u001b[0m\u001b[0m\n\u001b[0;32m---> 16\u001b[0;31m                 \u001b[0msubprocess\u001b[0m\u001b[0;34m.\u001b[0m\u001b[0mPopen\u001b[0m\u001b[0;34m(\u001b[0m\u001b[0;34m[\u001b[0m\u001b[0;34m'python'\u001b[0m\u001b[0;34m,\u001b[0m \u001b[0;34m'exp_runner.py'\u001b[0m\u001b[0;34m,\u001b[0m \u001b[0;34m'-c'\u001b[0m\u001b[0;34m,\u001b[0m \u001b[0;34m'exp_config.yaml'\u001b[0m\u001b[0;34m]\u001b[0m\u001b[0;34m,\u001b[0m \u001b[0mstartupinfo\u001b[0m\u001b[0;34m=\u001b[0m\u001b[0msubprocess\u001b[0m\u001b[0;34m.\u001b[0m\u001b[0mDETACHED_PROCESS\u001b[0m\u001b[0;34m)\u001b[0m\u001b[0;34m\u001b[0m\u001b[0;34m\u001b[0m\u001b[0m\n\u001b[0m\u001b[1;32m     17\u001b[0m                 \u001b[0;31m#!python exp_runner.py -c 'exp_config.yaml' >> 'exp_logs/single_task_exp_logs.log'\u001b[0m\u001b[0;34m\u001b[0m\u001b[0;34m\u001b[0m\u001b[0;34m\u001b[0m\u001b[0m\n\u001b[1;32m     18\u001b[0m \u001b[0;34m\u001b[0m\u001b[0m\n",
      "\u001b[0;31mAttributeError\u001b[0m: module 'subprocess' has no attribute 'DETACHED_PROCESS'"
     ]
    }
   ],
   "source": [
    "logs_path = 'exp_logs/single_task_exp_logs.log'\n",
    "if os.path.exists(logs_path):\n",
    "    os.remove(logs_path)\n",
    "\n",
    "reqs_list = list(cts.ICAO_REQ)\n",
    "ds_list = [GTName.FVC, GTName.PYBOSSA]\n",
    "align_list = [True, False]\n",
    "\n",
    "for req in reqs_list:\n",
    "    for ds in ds_list:\n",
    "        for alig in align_list:\n",
    "            exp_cf = create_config(req, ds, alig)\n",
    "            f_name = 'exp_config.yaml'\n",
    "            with open(f_name,'w') as f:\n",
    "                yaml.dump([exp_cf], f)\n",
    "                subprocess.Popen(['python', 'exp_runner.py', '-c', 'exp_config.yaml'])\n",
    "                #!python exp_runner.py -c 'exp_config.yaml' >> 'exp_logs/single_task_exp_logs.log'\n",
    "\n"
   ]
  }
 ],
 "metadata": {
  "kernelspec": {
   "display_name": "Python 3",
   "language": "python",
   "name": "python3"
  },
  "language_info": {
   "codemirror_mode": {
    "name": "ipython",
    "version": 3
   },
   "file_extension": ".py",
   "mimetype": "text/x-python",
   "name": "python",
   "nbconvert_exporter": "python",
   "pygments_lexer": "ipython3",
   "version": "3.8.3"
  }
 },
 "nbformat": 4,
 "nbformat_minor": 4
}

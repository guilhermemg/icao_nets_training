{
 "cells": [
  {
   "cell_type": "markdown",
   "metadata": {},
   "source": [
    "### Test with TensorflowDatasets"
   ]
  },
  {
   "cell_type": "code",
   "execution_count": 2,
   "metadata": {},
   "outputs": [
    {
     "name": "stdout",
     "output_type": "stream",
     "text": [
      "Epoch 1/6\n",
      "469/469 [==============================] - 2s 2ms/step - loss: 0.6227 - sparse_categorical_accuracy: 0.8306 - val_loss: 0.1992 - val_sparse_categorical_accuracy: 0.9426\n",
      "Epoch 2/6\n",
      "469/469 [==============================] - 1s 1ms/step - loss: 0.1794 - sparse_categorical_accuracy: 0.9480 - val_loss: 0.1396 - val_sparse_categorical_accuracy: 0.9588\n",
      "Epoch 3/6\n",
      "469/469 [==============================] - 1s 1ms/step - loss: 0.1230 - sparse_categorical_accuracy: 0.9661 - val_loss: 0.1076 - val_sparse_categorical_accuracy: 0.9678\n",
      "Epoch 4/6\n",
      "469/469 [==============================] - 1s 1ms/step - loss: 0.0925 - sparse_categorical_accuracy: 0.9731 - val_loss: 0.0948 - val_sparse_categorical_accuracy: 0.9716\n",
      "Epoch 5/6\n",
      "469/469 [==============================] - 1s 1ms/step - loss: 0.0691 - sparse_categorical_accuracy: 0.9802 - val_loss: 0.0857 - val_sparse_categorical_accuracy: 0.9754\n",
      "Epoch 6/6\n",
      "469/469 [==============================] - 1s 1ms/step - loss: 0.0581 - sparse_categorical_accuracy: 0.9832 - val_loss: 0.0825 - val_sparse_categorical_accuracy: 0.9736\n"
     ]
    },
    {
     "data": {
      "text/plain": [
       "<tensorflow.python.keras.callbacks.History at 0x7f5ec004cd60>"
      ]
     },
     "execution_count": 2,
     "metadata": {},
     "output_type": "execute_result"
    }
   ],
   "source": [
    "import tensorflow as tf\n",
    "import tensorflow_datasets as tfds\n",
    "\n",
    "(ds_train, ds_test), ds_info = tfds.load(\n",
    "    'mnist',\n",
    "    split=['train', 'test'],\n",
    "    shuffle_files=True,\n",
    "    as_supervised=True,\n",
    "    with_info=True,\n",
    ")\n",
    "\n",
    "def normalize_img(image, label):\n",
    "    \"\"\"Normalizes images: `uint8` -> `float32`.\"\"\"\n",
    "    return tf.cast(image, tf.float32) / 255., label\n",
    "\n",
    "ds_train = ds_train.map(\n",
    "    normalize_img, num_parallel_calls=tf.data.experimental.AUTOTUNE)\n",
    "ds_train = ds_train.cache()\n",
    "ds_train = ds_train.shuffle(ds_info.splits['train'].num_examples)\n",
    "ds_train = ds_train.batch(128)\n",
    "ds_train = ds_train.prefetch(tf.data.experimental.AUTOTUNE)\n",
    "\n",
    "ds_test = ds_test.map(\n",
    "    normalize_img, num_parallel_calls=tf.data.experimental.AUTOTUNE)\n",
    "ds_test = ds_test.batch(128)\n",
    "ds_test = ds_test.cache()\n",
    "ds_test = ds_test.prefetch(tf.data.experimental.AUTOTUNE)\n",
    "\n",
    "\n",
    "model = tf.keras.models.Sequential([\n",
    "  tf.keras.layers.Flatten(input_shape=(28, 28)),\n",
    "  tf.keras.layers.Dense(128,activation='relu'),\n",
    "  tf.keras.layers.Dense(10)])\n",
    "\n",
    "model.compile(\n",
    "    optimizer=tf.keras.optimizers.Adam(0.001),\n",
    "    loss=tf.keras.losses.SparseCategoricalCrossentropy(from_logits=True),\n",
    "    metrics=[tf.keras.metrics.SparseCategoricalAccuracy()])\n",
    "\n",
    "model.fit(\n",
    "    ds_train,\n",
    "    epochs=6,\n",
    "    validation_data=ds_test)"
   ]
  },
  {
   "cell_type": "markdown",
   "metadata": {},
   "source": [
    "### Test with Keras Dataset load_data()"
   ]
  },
  {
   "cell_type": "code",
   "execution_count": 7,
   "metadata": {},
   "outputs": [
    {
     "name": "stdout",
     "output_type": "stream",
     "text": [
      "(60000, 28, 28) (60000,)\n",
      "(10000, 28, 28) (10000,)\n",
      "[5 0 4 1 9 2 1 3 1 4]\n",
      "[[5]\n",
      " [0]\n",
      " [4]\n",
      " [1]\n",
      " [9]\n",
      " [2]\n",
      " [1]\n",
      " [3]\n",
      " [1]\n",
      " [4]]\n",
      "(60000, 28, 28, 1) (60000, 1)\n",
      "(10000, 28, 28, 1) (10000, 1)\n",
      "(100, 28, 28, 1) (100, 1)\n",
      "(100, 28, 28, 1) (100, 1)\n",
      "(100, 28, 28, 1) (100, 1)\n",
      "600\n"
     ]
    }
   ],
   "source": [
    "import tensorflow as tf\n",
    "\n",
    "(X_train,y_train), (X_test,y_test) = tf.keras.datasets.mnist.load_data()\n",
    "\n",
    "print(X_train.shape, y_train.shape)\n",
    "print(X_test.shape, y_test.shape)\n",
    "\n",
    "print(y_train[0:10])\n",
    "\n",
    "X_train = X_train.reshape(X_train.shape[0], 28, 28,1)\n",
    "#y_train = tf.keras.utils.to_categorical(y_train,10)\n",
    "y_train = y_train.reshape(y_train.shape[0], 1)\n",
    "X_test = X_test.reshape(X_test.shape[0], 28, 28,1)\n",
    "#y_test = tf.keras.utils.to_categorical(y_test,10)\n",
    "y_test = y_test.reshape(y_test.shape[0], 1)\n",
    "\n",
    "print(y_train[:10])\n",
    "\n",
    "print(X_train.shape, y_train.shape)\n",
    "print(X_test.shape, y_test.shape)\n",
    "\n",
    "X_train = tf.cast(X_train, tf.float32)\n",
    "X_test = tf.cast(X_test, tf.float32)\n",
    "\n",
    "X_train_ds = tf.data.Dataset.from_tensor_slices(X_train)\n",
    "X_train_ds = X_train_ds.map(lambda x: x/255.)\n",
    "y_train_ds = tf.data.Dataset.from_tensor_slices(y_train)\n",
    "\n",
    "train_ds = tf.data.Dataset.zip((X_train_ds, y_train_ds))\n",
    "train_ds = train_ds.batch(100)\n",
    "\n",
    "cnt = 0\n",
    "for batch_x,batch_y in train_ds.as_numpy_iterator():\n",
    "    if cnt < 3:\n",
    "        print(batch_x.shape, batch_y.shape)\n",
    "    cnt += 1\n",
    "print(cnt)    \n",
    "\n",
    "#test_dataset = tf.data.Dataset.from_tensor_slices((X_test, y_test))\n",
    "#test_dataset = test_dataset.map(lambda x: x/255.)\n",
    "#test_dataset = test_dataset.batch(batch_size)"
   ]
  },
  {
   "cell_type": "markdown",
   "metadata": {},
   "source": [
    "### Customized Keras Model"
   ]
  },
  {
   "cell_type": "code",
   "execution_count": 17,
   "metadata": {
    "collapsed": true,
    "jupyter": {
     "outputs_hidden": true,
     "source_hidden": true
    }
   },
   "outputs": [
    {
     "name": "stdout",
     "output_type": "stream",
     "text": [
      "Model: \"my_model_3\"\n",
      "_________________________________________________________________\n",
      "Layer (type)                 Output Shape              Param #   \n",
      "=================================================================\n",
      "dense_6 (Dense)              multiple                  68        \n",
      "_________________________________________________________________\n",
      "dense_7 (Dense)              multiple                  25        \n",
      "_________________________________________________________________\n"
     ]
    },
    {
     "ename": "ValueError",
     "evalue": "You tried to call `count_params` on dropout_3, but the layer isn't built. You can build it manually via: `dropout_3.build(batch_input_shape)`.",
     "output_type": "error",
     "traceback": [
      "\u001b[0;31m---------------------------------------------------------------------------\u001b[0m",
      "\u001b[0;31mValueError\u001b[0m                                Traceback (most recent call last)",
      "\u001b[0;32m<ipython-input-17-95a657a96ee0>\u001b[0m in \u001b[0;36m<module>\u001b[0;34m\u001b[0m\n\u001b[1;32m     18\u001b[0m \u001b[0mmodel\u001b[0m\u001b[0;34m.\u001b[0m\u001b[0mbuild\u001b[0m\u001b[0;34m(\u001b[0m\u001b[0;34m(\u001b[0m\u001b[0;32mNone\u001b[0m\u001b[0;34m,\u001b[0m \u001b[0;36m16\u001b[0m\u001b[0;34m)\u001b[0m\u001b[0;34m)\u001b[0m\u001b[0;34m\u001b[0m\u001b[0;34m\u001b[0m\u001b[0m\n\u001b[1;32m     19\u001b[0m \u001b[0;34m\u001b[0m\u001b[0m\n\u001b[0;32m---> 20\u001b[0;31m \u001b[0mmodel\u001b[0m\u001b[0;34m.\u001b[0m\u001b[0msummary\u001b[0m\u001b[0;34m(\u001b[0m\u001b[0;34m)\u001b[0m\u001b[0;34m\u001b[0m\u001b[0;34m\u001b[0m\u001b[0m\n\u001b[0m",
      "\u001b[0;32m~/anaconda3/envs/mteval-icao-reqs/submodules/icao_nets_training/lib/python3.8/site-packages/tensorflow/python/keras/engine/training.py\u001b[0m in \u001b[0;36msummary\u001b[0;34m(self, line_length, positions, print_fn)\u001b[0m\n\u001b[1;32m   2379\u001b[0m                        \u001b[0;34m'an `input_shape` argument in the first layer(s) for '\u001b[0m\u001b[0;34m\u001b[0m\u001b[0;34m\u001b[0m\u001b[0m\n\u001b[1;32m   2380\u001b[0m                        'automatic build.')\n\u001b[0;32m-> 2381\u001b[0;31m     layer_utils.print_summary(self,\n\u001b[0m\u001b[1;32m   2382\u001b[0m                               \u001b[0mline_length\u001b[0m\u001b[0;34m=\u001b[0m\u001b[0mline_length\u001b[0m\u001b[0;34m,\u001b[0m\u001b[0;34m\u001b[0m\u001b[0;34m\u001b[0m\u001b[0m\n\u001b[1;32m   2383\u001b[0m                               \u001b[0mpositions\u001b[0m\u001b[0;34m=\u001b[0m\u001b[0mpositions\u001b[0m\u001b[0;34m,\u001b[0m\u001b[0;34m\u001b[0m\u001b[0;34m\u001b[0m\u001b[0m\n",
      "\u001b[0;32m~/anaconda3/envs/mteval-icao-reqs/submodules/icao_nets_training/lib/python3.8/site-packages/tensorflow/python/keras/utils/layer_utils.py\u001b[0m in \u001b[0;36mprint_summary\u001b[0;34m(model, line_length, positions, print_fn)\u001b[0m\n\u001b[1;32m    250\u001b[0m   \u001b[0;32mfor\u001b[0m \u001b[0mi\u001b[0m \u001b[0;32min\u001b[0m \u001b[0mrange\u001b[0m\u001b[0;34m(\u001b[0m\u001b[0mlen\u001b[0m\u001b[0;34m(\u001b[0m\u001b[0mlayers\u001b[0m\u001b[0;34m)\u001b[0m\u001b[0;34m)\u001b[0m\u001b[0;34m:\u001b[0m\u001b[0;34m\u001b[0m\u001b[0;34m\u001b[0m\u001b[0m\n\u001b[1;32m    251\u001b[0m     \u001b[0;32mif\u001b[0m \u001b[0msequential_like\u001b[0m\u001b[0;34m:\u001b[0m\u001b[0;34m\u001b[0m\u001b[0;34m\u001b[0m\u001b[0m\n\u001b[0;32m--> 252\u001b[0;31m       \u001b[0mprint_layer_summary\u001b[0m\u001b[0;34m(\u001b[0m\u001b[0mlayers\u001b[0m\u001b[0;34m[\u001b[0m\u001b[0mi\u001b[0m\u001b[0;34m]\u001b[0m\u001b[0;34m)\u001b[0m\u001b[0;34m\u001b[0m\u001b[0;34m\u001b[0m\u001b[0m\n\u001b[0m\u001b[1;32m    253\u001b[0m     \u001b[0;32melse\u001b[0m\u001b[0;34m:\u001b[0m\u001b[0;34m\u001b[0m\u001b[0;34m\u001b[0m\u001b[0m\n\u001b[1;32m    254\u001b[0m       \u001b[0mprint_layer_summary_with_connections\u001b[0m\u001b[0;34m(\u001b[0m\u001b[0mlayers\u001b[0m\u001b[0;34m[\u001b[0m\u001b[0mi\u001b[0m\u001b[0;34m]\u001b[0m\u001b[0;34m)\u001b[0m\u001b[0;34m\u001b[0m\u001b[0;34m\u001b[0m\u001b[0m\n",
      "\u001b[0;32m~/anaconda3/envs/mteval-icao-reqs/submodules/icao_nets_training/lib/python3.8/site-packages/tensorflow/python/keras/utils/layer_utils.py\u001b[0m in \u001b[0;36mprint_layer_summary\u001b[0;34m(layer)\u001b[0m\n\u001b[1;32m    208\u001b[0m     \u001b[0mname\u001b[0m \u001b[0;34m=\u001b[0m \u001b[0mlayer\u001b[0m\u001b[0;34m.\u001b[0m\u001b[0mname\u001b[0m\u001b[0;34m\u001b[0m\u001b[0;34m\u001b[0m\u001b[0m\n\u001b[1;32m    209\u001b[0m     \u001b[0mcls_name\u001b[0m \u001b[0;34m=\u001b[0m \u001b[0mlayer\u001b[0m\u001b[0;34m.\u001b[0m\u001b[0m__class__\u001b[0m\u001b[0;34m.\u001b[0m\u001b[0m__name__\u001b[0m\u001b[0;34m\u001b[0m\u001b[0;34m\u001b[0m\u001b[0m\n\u001b[0;32m--> 210\u001b[0;31m     \u001b[0mfields\u001b[0m \u001b[0;34m=\u001b[0m \u001b[0;34m[\u001b[0m\u001b[0mname\u001b[0m \u001b[0;34m+\u001b[0m \u001b[0;34m' ('\u001b[0m \u001b[0;34m+\u001b[0m \u001b[0mcls_name\u001b[0m \u001b[0;34m+\u001b[0m \u001b[0;34m')'\u001b[0m\u001b[0;34m,\u001b[0m \u001b[0moutput_shape\u001b[0m\u001b[0;34m,\u001b[0m \u001b[0mlayer\u001b[0m\u001b[0;34m.\u001b[0m\u001b[0mcount_params\u001b[0m\u001b[0;34m(\u001b[0m\u001b[0;34m)\u001b[0m\u001b[0;34m]\u001b[0m\u001b[0;34m\u001b[0m\u001b[0;34m\u001b[0m\u001b[0m\n\u001b[0m\u001b[1;32m    211\u001b[0m     \u001b[0mprint_row\u001b[0m\u001b[0;34m(\u001b[0m\u001b[0mfields\u001b[0m\u001b[0;34m,\u001b[0m \u001b[0mpositions\u001b[0m\u001b[0;34m)\u001b[0m\u001b[0;34m\u001b[0m\u001b[0;34m\u001b[0m\u001b[0m\n\u001b[1;32m    212\u001b[0m \u001b[0;34m\u001b[0m\u001b[0m\n",
      "\u001b[0;32m~/anaconda3/envs/mteval-icao-reqs/submodules/icao_nets_training/lib/python3.8/site-packages/tensorflow/python/keras/engine/base_layer.py\u001b[0m in \u001b[0;36mcount_params\u001b[0;34m(self)\u001b[0m\n\u001b[1;32m   2203\u001b[0m           \u001b[0mself\u001b[0m\u001b[0;34m.\u001b[0m\u001b[0m_maybe_build\u001b[0m\u001b[0;34m(\u001b[0m\u001b[0mself\u001b[0m\u001b[0;34m.\u001b[0m\u001b[0minputs\u001b[0m\u001b[0;34m)\u001b[0m\u001b[0;34m\u001b[0m\u001b[0;34m\u001b[0m\u001b[0m\n\u001b[1;32m   2204\u001b[0m       \u001b[0;32melse\u001b[0m\u001b[0;34m:\u001b[0m\u001b[0;34m\u001b[0m\u001b[0;34m\u001b[0m\u001b[0m\n\u001b[0;32m-> 2205\u001b[0;31m         raise ValueError('You tried to call `count_params` on ' + self.name +\n\u001b[0m\u001b[1;32m   2206\u001b[0m                          \u001b[0;34m', but the layer isn\\'t built. '\u001b[0m\u001b[0;34m\u001b[0m\u001b[0;34m\u001b[0m\u001b[0m\n\u001b[1;32m   2207\u001b[0m                          \u001b[0;34m'You can build it manually via: `'\u001b[0m \u001b[0;34m+\u001b[0m \u001b[0mself\u001b[0m\u001b[0;34m.\u001b[0m\u001b[0mname\u001b[0m \u001b[0;34m+\u001b[0m\u001b[0;34m\u001b[0m\u001b[0;34m\u001b[0m\u001b[0m\n",
      "\u001b[0;31mValueError\u001b[0m: You tried to call `count_params` on dropout_3, but the layer isn't built. You can build it manually via: `dropout_3.build(batch_input_shape)`."
     ]
    }
   ],
   "source": [
    "import tensorflow as tf\n",
    "\n",
    "class MyModel(tf.keras.Model):\n",
    "    def __init__(self):\n",
    "        super(MyModel, self).__init__()\n",
    "        self.dense1 = tf.keras.layers.Dense(4, activation=tf.nn.relu)\n",
    "        self.dense2 = tf.keras.layers.Dense(5, activation=tf.nn.softmax)\n",
    "        self.dropout = tf.keras.layers.Dropout(0.5)\n",
    "\n",
    "    def call(self, inputs, training=False):\n",
    "        x = self.dense1(inputs)\n",
    "        if training:\n",
    "            x = self.dropout(x, training=training)\n",
    "        return self.dense2(x)\n",
    "\n",
    "model = MyModel()\n",
    "model.build((None, 16))\n",
    "\n",
    "model.summary()"
   ]
  },
  {
   "cell_type": "markdown",
   "metadata": {},
   "source": [
    "### Run Experiment"
   ]
  },
  {
   "cell_type": "code",
   "execution_count": 4,
   "metadata": {},
   "outputs": [
    {
     "name": "stdout",
     "output_type": "stream",
     "text": [
      "batch_size: 100\n",
      "training_epochs: 10\n",
      "action: [[61, 24, 60, 5], [57, 55, 59, 3]]\n",
      "cnn_drop_rate: [5, 3]\n",
      "name: model\n",
      "(60000, 28, 28) (60000,)\n",
      "(10000, 28, 28) (10000,)\n",
      "(60000, 28, 28, 1) (60000, 1)\n",
      "(10000, 28, 28, 1) (10000, 1)\n",
      "num_classes: 10\n",
      "cnn_config: [[61, 24, 60, 5], [57, 55, 59, 3]]\n",
      "cnn_drop_rate: [5, 3]\n",
      "batch_size: 100\n",
      "cnn: [61, 57]\n",
      "cnn_num_filters: [24, 55]\n",
      "max_pool_ksize: [60, 59]\n",
      "Model: \"sequential\"\n",
      "_________________________________________________________________\n",
      "Layer (type)                 Output Shape              Param #   \n",
      "=================================================================\n",
      "conv_out_0 (Conv2D)          (None, 26, 26, 64)        640       \n",
      "_________________________________________________________________\n",
      "max_pool_0 (MaxPooling2D)    (None, 13, 13, 64)        0         \n",
      "_________________________________________________________________\n",
      "dropout (Dropout)            (None, 13, 13, 64)        0         \n",
      "_________________________________________________________________\n",
      "conv_out_1 (Conv2D)          (None, 11, 11, 64)        36928     \n",
      "_________________________________________________________________\n",
      "max_pool_1 (MaxPooling2D)    (None, 5, 5, 64)          0         \n",
      "_________________________________________________________________\n",
      "dropout_1 (Dropout)          (None, 5, 5, 64)          0         \n",
      "_________________________________________________________________\n",
      "flatten (Flatten)            (None, 1600)              0         \n",
      "_________________________________________________________________\n",
      "dense (Dense)                (None, 10)                16010     \n",
      "=================================================================\n",
      "Total params: 53,578\n",
      "Trainable params: 53,578\n",
      "Non-trainable params: 0\n",
      "_________________________________________________________________\n",
      "None\n",
      "Epoch 1/10\n",
      "600/600 [==============================] - 6s 4ms/step - loss: 2.3054 - accuracy: 0.1693\n",
      "Epoch 2/10\n",
      "600/600 [==============================] - 2s 4ms/step - loss: 1.4966 - accuracy: 0.4987\n",
      "Epoch 3/10\n",
      "600/600 [==============================] - 2s 4ms/step - loss: 0.9818 - accuracy: 0.6759\n",
      "Epoch 4/10\n",
      "600/600 [==============================] - 3s 4ms/step - loss: 0.7548 - accuracy: 0.7574\n",
      "Epoch 5/10\n",
      "600/600 [==============================] - 2s 4ms/step - loss: 0.6317 - accuracy: 0.7972\n",
      "Epoch 6/10\n",
      "600/600 [==============================] - 3s 4ms/step - loss: 0.5437 - accuracy: 0.8292\n",
      "Epoch 7/10\n",
      "600/600 [==============================] - 3s 4ms/step - loss: 0.4839 - accuracy: 0.8496\n",
      "Epoch 8/10\n",
      "600/600 [==============================] - 3s 4ms/step - loss: 0.4365 - accuracy: 0.8662\n",
      "Epoch 9/10\n",
      "600/600 [==============================] - 3s 4ms/step - loss: 0.4126 - accuracy: 0.8745\n",
      "Epoch 10/10\n",
      "600/600 [==============================] - 3s 4ms/step - loss: 0.3832 - accuracy: 0.8832\n",
      "100/100 [==============================] - 0s 3ms/step - loss: 0.1855 - accuracy: 0.9544\n",
      "Test Accuracy: 95.44%\n",
      "Test Loss: 0.1855\n"
     ]
    }
   ],
   "source": [
    "!python3 keras_version/exec_experiment.py --architecture \"61, 24, 60,  5, 57, 55, 59, 3\""
   ]
  }
 ],
 "metadata": {
  "kernelspec": {
   "display_name": "Python 3",
   "language": "python",
   "name": "python3"
  },
  "language_info": {
   "codemirror_mode": {
    "name": "ipython",
    "version": 3
   },
   "file_extension": ".py",
   "mimetype": "text/x-python",
   "name": "python",
   "nbconvert_exporter": "python",
   "pygments_lexer": "ipython3",
   "version": "3.8.3"
  }
 },
 "nbformat": 4,
 "nbformat_minor": 4
}

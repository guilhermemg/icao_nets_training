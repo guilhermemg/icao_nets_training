{
 "cells": [
  {
   "cell_type": "markdown",
   "metadata": {},
   "source": [
    "# Introduction\n",
    "\n",
    "Notebook for training deep neural networks to estimate the compliance of an image to the MOUTH requisite.\n",
    "\n",
    "The training is supervised and labels were obtained through the running of the MouthOpenface model followed by a Tagger execution\n",
    "with a threshold of 0.1."
   ]
  },
  {
   "cell_type": "markdown",
   "metadata": {},
   "source": [
    "# Import Libraries and Dependencies"
   ]
  },
  {
   "cell_type": "code",
   "execution_count": 1,
   "metadata": {},
   "outputs": [],
   "source": [
    "%load_ext autoreload\n",
    "%autoreload 2"
   ]
  },
  {
   "cell_type": "code",
   "execution_count": 2,
   "metadata": {},
   "outputs": [],
   "source": [
    "import sys\n",
    "import cv2\n",
    "import random\n",
    "import datetime\n",
    "import numpy as np\n",
    "import pandas as pd\n",
    "\n",
    "from imutils import paths\n",
    "\n",
    "import matplotlib.pyplot as plt\n",
    "\n",
    "from tensorflow.keras.preprocessing.image import ImageDataGenerator\n",
    "from tensorflow.keras.applications import MobileNetV2, InceptionV3\n",
    "from tensorflow.keras.layers import AveragePooling2D\n",
    "from tensorflow.keras.layers import Dropout\n",
    "from tensorflow.keras.layers import Flatten\n",
    "from tensorflow.keras.layers import Dense\n",
    "from tensorflow.keras.layers import Input\n",
    "from tensorflow.keras.models import Model\n",
    "from tensorflow.keras.optimizers import Adam\n",
    "from tensorflow.keras.applications.mobilenet_v2 import preprocess_input as prep_input_mobilenetv2\n",
    "from tensorflow.keras.applications.inception_v3 import preprocess_input as prep_input_inceptionv3\n",
    "from tensorflow.keras.preprocessing.image import img_to_array\n",
    "from tensorflow.keras.preprocessing.image import load_img\n",
    "\n",
    "from sklearn.model_selection import train_test_split\n",
    "from sklearn.metrics import classification_report\n",
    "\n",
    "\n",
    "if '../../../notebooks/' not in sys.path:\n",
    "    sys.path.append('../../../notebooks/')\n",
    "\n",
    "import utils.constants as cts\n",
    "import utils.draw_utils as dr\n",
    "\n",
    "from models.oface_mouth_model import OpenfaceMouth\n",
    "\n",
    "from data_loaders.fvc_pyb_loader import FvcPybossaDL\n",
    "from data_loaders.vgg_loader import VggFace2DL\n",
    "from data_loaders.caltech_loader import CaltechDL\n",
    "from data_loaders.cvl_loader import CvlDL\n",
    "from data_loaders.colorferet_loader import ColorFeretDL\n",
    "from data_loaders.fei_loader import FeiDB_DL\n",
    "from data_loaders.gtech_loader import GeorgiaTechDL\n",
    "from data_loaders.uni_essex_loader import UniEssexDL\n",
    "from data_loaders.icpr04_loader import ICPR04_DL\n",
    "from data_loaders.imfdb_loader import IMFDB_DL\n",
    "from data_loaders.ijbc_loader import IJBC_DL\n",
    "from data_loaders.lfw_loader import LFWDL\n",
    "from data_loaders.celeba_loader import CelebA_DL\n",
    "from data_loaders.casia_webface_loader import CasiaWebface_DL\n",
    "\n",
    "from gt_loaders.gen_gt import Eval\n",
    "from gt_loaders.fvc_gt import FVC_GTLoader\n",
    "from gt_loaders.pybossa_gt import PybossaGTLoader\n",
    "\n",
    "from tagger.tagger import Tagger"
   ]
  },
  {
   "cell_type": "code",
   "execution_count": 3,
   "metadata": {},
   "outputs": [],
   "source": [
    "import tensorflow as tf\n",
    "physical_devices = tf.config.list_physical_devices('GPU') \n",
    "try: \n",
    "    tf.config.experimental.set_memory_growth(physical_devices[0], True) \n",
    "except: \n",
    "    raise Exception(\"Invalid device or cannot modify virtual devices once initialized.\")\n"
   ]
  },
  {
   "cell_type": "markdown",
   "metadata": {},
   "source": [
    "# Load Data and Labels"
   ]
  },
  {
   "cell_type": "code",
   "execution_count": 4,
   "metadata": {},
   "outputs": [
    {
     "data": {
      "text/plain": [
       "(16199, 4)"
      ]
     },
     "execution_count": 4,
     "metadata": {},
     "output_type": "execute_result"
    }
   ],
   "source": [
    "m = OpenfaceMouth()\n",
    "\n",
    "req = cts.ICAO_REQ.MOUTH\n",
    "\n",
    "dl_list = [FvcPybossaDL(aligned=False), FvcPybossaDL(aligned=True),\n",
    "           CaltechDL(aligned=False), \n",
    "           VggFace2DL(aligned=False), VggFace2DL(aligned=True),\n",
    "           CvlDL(aligned=False), \n",
    "           ColorFeretDL(aligned=False), \n",
    "           FeiDB_DL(aligned=False), FeiDB_DL(aligned=True),\n",
    "           CvlDL(aligned=False), \n",
    "           GeorgiaTechDL(aligned=False), GeorgiaTechDL(aligned=True), \n",
    "           UniEssexDL(aligned=False), \n",
    "           ICPR04_DL(aligned=False), \n",
    "           IMFDB_DL(aligned=True),\n",
    "           IJBC_DL(aligned=False),\n",
    "           LFWDL(aligned=False), LFWDL(aligned=True), \n",
    "           CelebA_DL(aligned=True),\n",
    "           CasiaWebface_DL(aligned=False)\n",
    "          ]\n",
    "\n",
    "in_data = pd.DataFrame(columns=['origin','img_name','comp'])\n",
    "\n",
    "for dl in dl_list:\n",
    "    if dl.is_aligned():\n",
    "        t = Tagger(dl, m, req)\n",
    "        t.load_labels_df()\n",
    "        tmp_df = t.labels_df\n",
    "        tmp_df['origin'] = dl.get_name().value\n",
    "        tmp_df['aligned'] = dl.is_aligned()\n",
    "        in_data = in_data.append(tmp_df)\n",
    "\n",
    "in_data['comp'] = in_data['comp'].astype('str')\n",
    "in_data.shape    "
   ]
  },
  {
   "cell_type": "markdown",
   "metadata": {},
   "source": [
    "# Network Training"
   ]
  },
  {
   "cell_type": "markdown",
   "metadata": {},
   "source": [
    "## Data Selection and Preprocessing"
   ]
  },
  {
   "cell_type": "raw",
   "metadata": {},
   "source": [
    "data = []\n",
    "labels = []\n",
    "\n",
    "for img_path,label in zip(in_data.img_name,in_data.comp):\n",
    "\timage = load_img(img_path, target_size=(224, 224))\n",
    "\timage = img_to_array(image)\n",
    "\timage = preprocess_input(image)\n",
    "\n",
    "\tdata.append(image)\n",
    "\tlabels.append(label)\n",
    "\n",
    "data = np.array(data, dtype=\"float32\")\n",
    "labels = np.array(labels)\n",
    "\n",
    "print(data.shape, labels.shape)"
   ]
  },
  {
   "cell_type": "markdown",
   "metadata": {},
   "source": [
    "## Training MobileNetV2"
   ]
  },
  {
   "cell_type": "code",
   "execution_count": 6,
   "metadata": {},
   "outputs": [
    {
     "name": "stdout",
     "output_type": "stream",
     "text": [
      "Found 12750 validated image filenames belonging to 2 classes.\n",
      "Found 2250 validated image filenames belonging to 2 classes.\n",
      "Found 1199 validated image filenames belonging to 2 classes.\n"
     ]
    }
   ],
   "source": [
    "datagen = ImageDataGenerator(preprocessing_function=prep_input_mobilenetv2, \n",
    "                             validation_split=0.15)\n",
    "\n",
    "train_gen = datagen.flow_from_dataframe(in_data[:15000], \n",
    "                                        x_col=\"img_name\", \n",
    "                                        y_col=\"comp\",\n",
    "                                        target_size=(224, 224),\n",
    "                                        class_mode=\"binary\",\n",
    "                                        batch_size=32, \n",
    "                                        shuffle=True,\n",
    "                                        subset='training',\n",
    "                                        seed=0)\n",
    "\n",
    "validation_gen = datagen.flow_from_dataframe(in_data[:15000],\n",
    "                                            x_col=\"img_name\", \n",
    "                                            y_col=\"comp\",\n",
    "                                            target_size=(224, 224),\n",
    "                                            class_mode=\"binary\",\n",
    "                                            batch_size=32, \n",
    "                                            shuffle=True,\n",
    "                                            subset='validation',\n",
    "                                            seed=0)\n",
    "\n",
    "test_gen = datagen.flow_from_dataframe(in_data[15000:],\n",
    "                                       x_col=\"img_name\", \n",
    "                                       y_col=\"comp\",\n",
    "                                       target_size=(224, 224),\n",
    "                                       class_mode=\"binary\",\n",
    "                                       batch_size=32, \n",
    "                                       shuffle=True,\n",
    "                                       seed=0)"
   ]
  },
  {
   "cell_type": "code",
   "execution_count": 7,
   "metadata": {},
   "outputs": [
    {
     "name": "stdout",
     "output_type": "stream",
     "text": [
      "WARNING:tensorflow:`input_shape` is undefined or non-square, or `rows` is not in [96, 128, 160, 192, 224]. Weights for input shape (224, 224) will be loaded as the default.\n",
      "[INFO] compiling model...\n",
      "[INFO] training head...\n",
      "Epoch 1/40\n",
      "398/398 [==============================] - 23s 57ms/step - loss: 0.7421 - accuracy: 0.5067 - val_loss: 0.6950 - val_accuracy: 0.5080\n",
      "Epoch 2/40\n",
      "398/398 [==============================] - 22s 55ms/step - loss: 0.6946 - accuracy: 0.5112 - val_loss: 0.6937 - val_accuracy: 0.5170\n",
      "Epoch 3/40\n",
      "398/398 [==============================] - 22s 55ms/step - loss: 0.6936 - accuracy: 0.5046 - val_loss: 0.6934 - val_accuracy: 0.5116\n",
      "Epoch 4/40\n",
      "398/398 [==============================] - 22s 55ms/step - loss: 0.6934 - accuracy: 0.5098 - val_loss: 0.6933 - val_accuracy: 0.4879\n",
      "Epoch 5/40\n",
      "398/398 [==============================] - 22s 55ms/step - loss: 0.6933 - accuracy: 0.5009 - val_loss: 0.6932 - val_accuracy: 0.4821\n",
      "Epoch 6/40\n",
      "398/398 [==============================] - 22s 55ms/step - loss: 0.6932 - accuracy: 0.4999 - val_loss: 0.6932 - val_accuracy: 0.4482\n",
      "Epoch 7/40\n",
      "398/398 [==============================] - 22s 55ms/step - loss: 0.6932 - accuracy: 0.4986 - val_loss: 0.6932 - val_accuracy: 0.4415\n",
      "Epoch 8/40\n",
      "398/398 [==============================] - 22s 55ms/step - loss: 0.6932 - accuracy: 0.4866 - val_loss: 0.6932 - val_accuracy: 0.4487\n",
      "Epoch 9/40\n",
      "398/398 [==============================] - 22s 55ms/step - loss: 0.6932 - accuracy: 0.4894 - val_loss: 0.6932 - val_accuracy: 0.4491\n",
      "Epoch 10/40\n",
      "398/398 [==============================] - 22s 55ms/step - loss: 0.6932 - accuracy: 0.4910 - val_loss: 0.6932 - val_accuracy: 0.4286\n",
      "Epoch 11/40\n",
      "398/398 [==============================] - 22s 56ms/step - loss: 0.6932 - accuracy: 0.4836 - val_loss: 0.6932 - val_accuracy: 0.4174\n",
      "Epoch 12/40\n",
      "398/398 [==============================] - 22s 56ms/step - loss: 0.6932 - accuracy: 0.4877 - val_loss: 0.6932 - val_accuracy: 0.4013\n",
      "Epoch 13/40\n",
      "398/398 [==============================] - 22s 56ms/step - loss: 0.6932 - accuracy: 0.4820 - val_loss: 0.6932 - val_accuracy: 0.4451\n",
      "Epoch 14/40\n",
      "398/398 [==============================] - 22s 56ms/step - loss: 0.6931 - accuracy: 0.4858 - val_loss: 0.6932 - val_accuracy: 0.3848\n",
      "Epoch 15/40\n",
      "398/398 [==============================] - 22s 56ms/step - loss: 0.6931 - accuracy: 0.4899 - val_loss: 0.6932 - val_accuracy: 0.5754\n",
      "Epoch 16/40\n",
      "398/398 [==============================] - 22s 56ms/step - loss: 0.6931 - accuracy: 0.4843 - val_loss: 0.6932 - val_accuracy: 0.6433\n",
      "Epoch 17/40\n",
      "398/398 [==============================] - 22s 55ms/step - loss: 0.6931 - accuracy: 0.4882 - val_loss: 0.6932 - val_accuracy: 0.6424\n",
      "Epoch 18/40\n",
      "398/398 [==============================] - 22s 56ms/step - loss: 0.6931 - accuracy: 0.4881 - val_loss: 0.6932 - val_accuracy: 0.3402\n",
      "Epoch 19/40\n",
      "398/398 [==============================] - 22s 56ms/step - loss: 0.6931 - accuracy: 0.4800 - val_loss: 0.6932 - val_accuracy: 0.3719\n",
      "Epoch 20/40\n",
      "398/398 [==============================] - 22s 56ms/step - loss: 0.6931 - accuracy: 0.4912 - val_loss: 0.6932 - val_accuracy: 0.3469\n",
      "Epoch 21/40\n",
      "398/398 [==============================] - 22s 56ms/step - loss: 0.6931 - accuracy: 0.4940 - val_loss: 0.6932 - val_accuracy: 0.3594\n",
      "Epoch 22/40\n",
      "398/398 [==============================] - 22s 56ms/step - loss: 0.6931 - accuracy: 0.4930 - val_loss: 0.6932 - val_accuracy: 0.3295\n",
      "Epoch 23/40\n",
      "398/398 [==============================] - 22s 56ms/step - loss: 0.6931 - accuracy: 0.4748 - val_loss: 0.6932 - val_accuracy: 0.5696\n",
      "Epoch 24/40\n",
      "398/398 [==============================] - 22s 56ms/step - loss: 0.6931 - accuracy: 0.4868 - val_loss: 0.6932 - val_accuracy: 0.6884\n",
      "Epoch 25/40\n",
      "398/398 [==============================] - 22s 56ms/step - loss: 0.6931 - accuracy: 0.4972 - val_loss: 0.6932 - val_accuracy: 0.4241\n",
      "Epoch 26/40\n",
      "398/398 [==============================] - 22s 56ms/step - loss: 0.6931 - accuracy: 0.5000 - val_loss: 0.6932 - val_accuracy: 0.4580\n",
      "Epoch 27/40\n",
      "398/398 [==============================] - 22s 56ms/step - loss: 0.6931 - accuracy: 0.4910 - val_loss: 0.6932 - val_accuracy: 0.3179\n",
      "Epoch 28/40\n",
      "398/398 [==============================] - 22s 56ms/step - loss: 0.6931 - accuracy: 0.4995 - val_loss: 0.6932 - val_accuracy: 0.3165\n",
      "Epoch 29/40\n",
      "398/398 [==============================] - 22s 56ms/step - loss: 0.6931 - accuracy: 0.5068 - val_loss: 0.6932 - val_accuracy: 0.3170\n",
      "Epoch 30/40\n",
      "398/398 [==============================] - 22s 56ms/step - loss: 0.6931 - accuracy: 0.5082 - val_loss: 0.6932 - val_accuracy: 0.3821\n",
      "Epoch 31/40\n",
      "398/398 [==============================] - 22s 56ms/step - loss: 0.6931 - accuracy: 0.4990 - val_loss: 0.6932 - val_accuracy: 0.3424\n",
      "Epoch 32/40\n",
      "398/398 [==============================] - 22s 56ms/step - loss: 0.6931 - accuracy: 0.5070 - val_loss: 0.6932 - val_accuracy: 0.3612\n",
      "Epoch 33/40\n",
      "398/398 [==============================] - 22s 56ms/step - loss: 0.6931 - accuracy: 0.5017 - val_loss: 0.6932 - val_accuracy: 0.4817\n",
      "Epoch 34/40\n",
      "398/398 [==============================] - 22s 56ms/step - loss: 0.6931 - accuracy: 0.4890 - val_loss: 0.6932 - val_accuracy: 0.6897\n",
      "Epoch 35/40\n",
      "398/398 [==============================] - 22s 56ms/step - loss: 0.6931 - accuracy: 0.4958 - val_loss: 0.6932 - val_accuracy: 0.3692\n",
      "Epoch 36/40\n",
      "398/398 [==============================] - 22s 56ms/step - loss: 0.6931 - accuracy: 0.4903 - val_loss: 0.6932 - val_accuracy: 0.6893\n",
      "Epoch 37/40\n",
      "398/398 [==============================] - 22s 56ms/step - loss: 0.6931 - accuracy: 0.4964 - val_loss: 0.6932 - val_accuracy: 0.4085\n",
      "Epoch 38/40\n",
      "398/398 [==============================] - 22s 56ms/step - loss: 0.6931 - accuracy: 0.4997 - val_loss: 0.6932 - val_accuracy: 0.6933\n",
      "Epoch 39/40\n",
      "398/398 [==============================] - 22s 56ms/step - loss: 0.6931 - accuracy: 0.5054 - val_loss: 0.6932 - val_accuracy: 0.3098\n",
      "Epoch 40/40\n",
      "398/398 [==============================] - 22s 56ms/step - loss: 0.6931 - accuracy: 0.5052 - val_loss: 0.6932 - val_accuracy: 0.6344\n"
     ]
    }
   ],
   "source": [
    "INIT_LR = 1e-4\n",
    "EPOCHS = 40\n",
    "BS = 32  \n",
    "\n",
    "# (trainX, testX, trainY, testY) = train_test_split(in_data, labels,\n",
    "# \ttest_size=0.20, stratify=labels, random_state=42)\n",
    "\n",
    "# construct the training image generator for data augmentation\n",
    "# aug = ImageDataGenerator(\n",
    "# \trotation_range=20,\n",
    "# \tzoom_range=0.15,\n",
    "# \twidth_shift_range=0.2,\n",
    "# \theight_shift_range=0.2,\n",
    "# \tshear_range=0.15,\n",
    "# \thorizontal_flip=True,\n",
    "# \tfill_mode=\"nearest\")\n",
    "\n",
    "# load the MobileNetV2 network, ensuring the head FC layer sets are\n",
    "# left off\n",
    "baseModel = MobileNetV2(weights=\"imagenet\", include_top=False,\n",
    "\tinput_tensor=Input(shape=(224, 224, 3)))\n",
    "\n",
    "# construct the head of the model that will be placed on top of the\n",
    "# the base model\n",
    "headModel = baseModel.output\n",
    "headModel = AveragePooling2D(pool_size=(7, 7))(headModel)\n",
    "headModel = Flatten(name=\"flatten\")(headModel)\n",
    "headModel = Dense(128, activation=\"relu\")(headModel)\n",
    "headModel = Dropout(0.5)(headModel)\n",
    "headModel = Dense(2, activation=\"softmax\")(headModel)\n",
    "\n",
    "# place the head FC model on top of the base model (this will become\n",
    "# the actual model we will train)\n",
    "model = Model(inputs=baseModel.input, outputs=headModel)\n",
    "\n",
    "# loop over all layers in the base model and freeze them so they will\n",
    "# *not* be updated during the first training process\n",
    "for layer in baseModel.layers:\n",
    "\tlayer.trainable = False\n",
    "\n",
    "# compile our model\n",
    "print(\"[INFO] compiling model...\")\n",
    "opt = Adam(lr=INIT_LR, decay=INIT_LR / EPOCHS)\n",
    "model.compile(loss=\"binary_crossentropy\", optimizer=opt, metrics=[\"accuracy\"])\n",
    "\n",
    "# train the head of the network\n",
    "print(\"[INFO] training head...\")\n",
    "H = model.fit(\n",
    "\ttrain_gen,\n",
    "\tsteps_per_epoch=train_gen.n // BS,\n",
    "\tvalidation_data=validation_gen,\n",
    "\tvalidation_steps=validation_gen.n // BS,\n",
    "\tepochs=EPOCHS)"
   ]
  },
  {
   "cell_type": "markdown",
   "metadata": {},
   "source": [
    "### Testing Trained Model"
   ]
  },
  {
   "cell_type": "code",
   "execution_count": 8,
   "metadata": {},
   "outputs": [
    {
     "name": "stdout",
     "output_type": "stream",
     "text": [
      "[INFO] evaluating network...\n",
      "              precision    recall  f1-score   support\n",
      "\n",
      "    NON_COMP       0.62      0.03      0.06       802\n",
      "        COMP       0.33      0.96      0.49       397\n",
      "\n",
      "    accuracy                           0.34      1199\n",
      "   macro avg       0.48      0.50      0.28      1199\n",
      "weighted avg       0.53      0.34      0.20      1199\n",
      "\n"
     ]
    }
   ],
   "source": [
    "# make predictions on the testing set\n",
    "print(\"[INFO] evaluating network...\")\n",
    "predIdxs = model.predict(test_gen, batch_size=BS)\n",
    "\n",
    "# for each image in the testing set we need to find the index of the\n",
    "# label with corresponding largest predicted probability\n",
    "predIdxs = np.argmax(predIdxs, axis=1)\n",
    "\n",
    "# show a nicely formatted classification report\n",
    "print(classification_report(test_gen.labels, predIdxs, target_names=['NON_COMP','COMP']))"
   ]
  },
  {
   "cell_type": "markdown",
   "metadata": {},
   "source": [
    "## Saving Model"
   ]
  },
  {
   "cell_type": "code",
   "execution_count": 9,
   "metadata": {},
   "outputs": [
    {
     "name": "stdout",
     "output_type": "stream",
     "text": [
      "[INFO] saving model...\n"
     ]
    }
   ],
   "source": [
    "# serialize the model to disk\n",
    "print(\"[INFO] saving model...\")\n",
    "model.save(f\"models/mouth_mobilenev2_model-{datetime.datetime.now()}.h5\", save_format=\"h5\")"
   ]
  },
  {
   "cell_type": "markdown",
   "metadata": {},
   "source": [
    "## Plot Training Curves"
   ]
  },
  {
   "cell_type": "code",
   "execution_count": 10,
   "metadata": {},
   "outputs": [
    {
     "data": {
      "image/png": "[encoded data removed]",
      "text/plain": [
       "<Figure size 1656x504 with 1 Axes>"
      ]
     },
     "metadata": {},
     "output_type": "display_data"
    }
   ],
   "source": [
    "# plot the training loss and accuracy\n",
    "N = EPOCHS\n",
    "plt.style.use(\"ggplot\")\n",
    "plt.figure(figsize=(23,7))\n",
    "plt.plot(np.arange(0, N), H.history[\"loss\"], label=\"train_loss\")\n",
    "plt.plot(np.arange(0, N), H.history[\"val_loss\"], label=\"val_loss\")\n",
    "plt.plot(np.arange(0, N), H.history[\"accuracy\"], label=\"train_acc\")\n",
    "plt.plot(np.arange(0, N), H.history[\"val_accuracy\"], label=\"val_acc\")\n",
    "plt.title(\"Training Loss and Accuracy\")\n",
    "plt.xlabel(\"Epoch #\")\n",
    "plt.ylabel(\"Loss/Accuracy\")\n",
    "plt.ylim([0,1])\n",
    "plt.legend(loc=\"lower left\")\n",
    "plt.savefig(\"figs/mouth_training_mobilenetv2.png\")"
   ]
  },
  {
   "cell_type": "markdown",
   "metadata": {},
   "source": [
    "## Training InceptionV3"
   ]
  },
  {
   "cell_type": "code",
   "execution_count": 15,
   "metadata": {},
   "outputs": [
    {
     "name": "stdout",
     "output_type": "stream",
     "text": [
      "Found 12750 validated image filenames belonging to 2 classes.\n",
      "Found 2250 validated image filenames belonging to 2 classes.\n",
      "Found 1199 validated image filenames belonging to 2 classes.\n"
     ]
    }
   ],
   "source": [
    "datagen = ImageDataGenerator(preprocessing_function=prep_input_inceptionv3, \n",
    "                             validation_split=0.15)\n",
    "\n",
    "train_gen = datagen.flow_from_dataframe(in_data[:15000], \n",
    "                                        x_col=\"img_name\", \n",
    "                                        y_col=\"comp\",\n",
    "                                        target_size=(299, 299),\n",
    "                                        class_mode=\"binary\",\n",
    "                                        batch_size=32, \n",
    "                                        shuffle=True,\n",
    "                                        subset='training',\n",
    "                                        seed=0)\n",
    "\n",
    "validation_gen = datagen.flow_from_dataframe(in_data[:15000],\n",
    "                                            x_col=\"img_name\", \n",
    "                                            y_col=\"comp\",\n",
    "                                            target_size=(299, 299),\n",
    "                                            class_mode=\"binary\",\n",
    "                                            batch_size=32, \n",
    "                                            shuffle=True,\n",
    "                                            subset='validation',\n",
    "                                            seed=0)\n",
    "\n",
    "test_gen = datagen.flow_from_dataframe(in_data[15000:],\n",
    "                                       x_col=\"img_name\", \n",
    "                                       y_col=\"comp\",\n",
    "                                       target_size=(299, 299),\n",
    "                                       class_mode=\"binary\",\n",
    "                                       batch_size=32, \n",
    "                                       shuffle=True,\n",
    "                                       seed=0)"
   ]
  },
  {
   "cell_type": "code",
   "execution_count": 16,
   "metadata": {
    "collapsed": true,
    "jupyter": {
     "outputs_hidden": true
    }
   },
   "outputs": [
    {
     "name": "stdout",
     "output_type": "stream",
     "text": [
      "[INFO] compiling model...\n",
      "[INFO] training head...\n",
      "Epoch 1/40\n",
      "398/398 [==============================] - 37s 93ms/step - loss: 0.6998 - accuracy: 0.4995 - val_loss: 0.6932 - val_accuracy: 0.4996\n",
      "Epoch 2/40\n",
      "398/398 [==============================] - 36s 90ms/step - loss: 0.6932 - accuracy: 0.5085 - val_loss: 0.6932 - val_accuracy: 0.5643\n",
      "Epoch 3/40\n",
      "398/398 [==============================] - 36s 91ms/step - loss: 0.6932 - accuracy: 0.5235 - val_loss: 0.6932 - val_accuracy: 0.5969\n",
      "Epoch 4/40\n",
      "398/398 [==============================] - 36s 91ms/step - loss: 0.6932 - accuracy: 0.5241 - val_loss: 0.6932 - val_accuracy: 0.6522\n",
      "Epoch 5/40\n",
      "398/398 [==============================] - 36s 90ms/step - loss: 0.6932 - accuracy: 0.5399 - val_loss: 0.6932 - val_accuracy: 0.6634\n",
      "Epoch 6/40\n",
      "398/398 [==============================] - 36s 91ms/step - loss: 0.6931 - accuracy: 0.5396 - val_loss: 0.6931 - val_accuracy: 0.6750\n",
      "Epoch 7/40\n",
      "398/398 [==============================] - 36s 91ms/step - loss: 0.6931 - accuracy: 0.5267 - val_loss: 0.6931 - val_accuracy: 0.4062\n",
      "Epoch 8/40\n",
      "398/398 [==============================] - 36s 91ms/step - loss: 0.6931 - accuracy: 0.5396 - val_loss: 0.6931 - val_accuracy: 0.6902\n",
      "Epoch 9/40\n",
      "398/398 [==============================] - 36s 90ms/step - loss: 0.6931 - accuracy: 0.5105 - val_loss: 0.6931 - val_accuracy: 0.6942\n",
      "Epoch 10/40\n",
      "398/398 [==============================] - 36s 89ms/step - loss: 0.6931 - accuracy: 0.5119 - val_loss: 0.6931 - val_accuracy: 0.6960\n",
      "Epoch 11/40\n",
      "398/398 [==============================] - 35s 89ms/step - loss: 0.6931 - accuracy: 0.5100 - val_loss: 0.6931 - val_accuracy: 0.6924\n",
      "Epoch 12/40\n",
      "398/398 [==============================] - 35s 89ms/step - loss: 0.6931 - accuracy: 0.4829 - val_loss: 0.6931 - val_accuracy: 0.6991\n",
      "Epoch 13/40\n",
      "398/398 [==============================] - 36s 89ms/step - loss: 0.6931 - accuracy: 0.5073 - val_loss: 0.6931 - val_accuracy: 0.6946\n",
      "Epoch 14/40\n",
      "398/398 [==============================] - 35s 89ms/step - loss: 0.6931 - accuracy: 0.5023 - val_loss: 0.6931 - val_accuracy: 0.3205\n",
      "Epoch 15/40\n",
      "398/398 [==============================] - 36s 92ms/step - loss: 0.6931 - accuracy: 0.5197 - val_loss: 0.6931 - val_accuracy: 0.7018\n",
      "Epoch 16/40\n",
      "398/398 [==============================] - 35s 89ms/step - loss: 0.6931 - accuracy: 0.5121 - val_loss: 0.6931 - val_accuracy: 0.6991\n",
      "Epoch 17/40\n",
      "398/398 [==============================] - 35s 88ms/step - loss: 0.6931 - accuracy: 0.5017 - val_loss: 0.6931 - val_accuracy: 0.3165\n",
      "Epoch 18/40\n",
      "398/398 [==============================] - 35s 88ms/step - loss: 0.6931 - accuracy: 0.5123 - val_loss: 0.6931 - val_accuracy: 0.3156\n",
      "Epoch 19/40\n",
      "398/398 [==============================] - 35s 88ms/step - loss: 0.6931 - accuracy: 0.4949 - val_loss: 0.6931 - val_accuracy: 0.3156\n",
      "Epoch 20/40\n",
      "398/398 [==============================] - 35s 88ms/step - loss: 0.6931 - accuracy: 0.4983 - val_loss: 0.6931 - val_accuracy: 0.7013\n",
      "Epoch 21/40\n",
      "398/398 [==============================] - 36s 90ms/step - loss: 0.6931 - accuracy: 0.4957 - val_loss: 0.6931 - val_accuracy: 0.7013\n",
      "Epoch 22/40\n",
      "398/398 [==============================] - 35s 89ms/step - loss: 0.6931 - accuracy: 0.4824 - val_loss: 0.6931 - val_accuracy: 0.3134\n",
      "Epoch 23/40\n",
      "398/398 [==============================] - 35s 89ms/step - loss: 0.6931 - accuracy: 0.4909 - val_loss: 0.6931 - val_accuracy: 0.3134\n",
      "Epoch 24/40\n",
      "398/398 [==============================] - 36s 91ms/step - loss: 0.6931 - accuracy: 0.4966 - val_loss: 0.6931 - val_accuracy: 0.7031\n",
      "Epoch 25/40\n",
      "398/398 [==============================] - 37s 92ms/step - loss: 0.6931 - accuracy: 0.4891 - val_loss: 0.6931 - val_accuracy: 0.3107\n",
      "Epoch 26/40\n",
      "398/398 [==============================] - 37s 92ms/step - loss: 0.6931 - accuracy: 0.4970 - val_loss: 0.6931 - val_accuracy: 0.7031\n",
      "Epoch 27/40\n",
      "398/398 [==============================] - 37s 92ms/step - loss: 0.6931 - accuracy: 0.4885 - val_loss: 0.6931 - val_accuracy: 0.7049\n",
      "Epoch 28/40\n",
      "398/398 [==============================] - 37s 92ms/step - loss: 0.6931 - accuracy: 0.4884 - val_loss: 0.6931 - val_accuracy: 0.3107\n",
      "Epoch 29/40\n",
      "398/398 [==============================] - 37s 92ms/step - loss: 0.6931 - accuracy: 0.4969 - val_loss: 0.6931 - val_accuracy: 0.7022\n",
      "Epoch 30/40\n",
      "398/398 [==============================] - 37s 92ms/step - loss: 0.6931 - accuracy: 0.4997 - val_loss: 0.6931 - val_accuracy: 0.7009\n",
      "Epoch 31/40\n",
      "398/398 [==============================] - 37s 92ms/step - loss: 0.6931 - accuracy: 0.4991 - val_loss: 0.6931 - val_accuracy: 0.3107\n",
      "Epoch 32/40\n",
      "398/398 [==============================] - 36s 92ms/step - loss: 0.6931 - accuracy: 0.5023 - val_loss: 0.6931 - val_accuracy: 0.3080\n",
      "Epoch 33/40\n",
      "398/398 [==============================] - 37s 93ms/step - loss: 0.6931 - accuracy: 0.4974 - val_loss: 0.6931 - val_accuracy: 0.7000\n",
      "Epoch 34/40\n",
      "398/398 [==============================] - 36s 91ms/step - loss: 0.6931 - accuracy: 0.4877 - val_loss: 0.6931 - val_accuracy: 0.3018\n",
      "Epoch 35/40\n",
      "398/398 [==============================] - 36s 91ms/step - loss: 0.6931 - accuracy: 0.4890 - val_loss: 0.6931 - val_accuracy: 0.3022\n",
      "Epoch 36/40\n",
      "398/398 [==============================] - 36s 90ms/step - loss: 0.6931 - accuracy: 0.5001 - val_loss: 0.6931 - val_accuracy: 0.3022\n",
      "Epoch 37/40\n",
      "398/398 [==============================] - 36s 91ms/step - loss: 0.6931 - accuracy: 0.4859 - val_loss: 0.6931 - val_accuracy: 0.6978\n",
      "Epoch 38/40\n",
      "398/398 [==============================] - 35s 89ms/step - loss: 0.6931 - accuracy: 0.4951 - val_loss: 0.6931 - val_accuracy: 0.3009\n",
      "Epoch 39/40\n",
      "398/398 [==============================] - 36s 90ms/step - loss: 0.6931 - accuracy: 0.4939 - val_loss: 0.6931 - val_accuracy: 0.7036\n",
      "Epoch 40/40\n",
      "398/398 [==============================] - 37s 92ms/step - loss: 0.6931 - accuracy: 0.4918 - val_loss: 0.6931 - val_accuracy: 0.3058\n"
     ]
    }
   ],
   "source": [
    "INIT_LR = 1e-4\n",
    "EPOCHS = 40\n",
    "BS = 32  \n",
    "\n",
    "# (trainX, testX, trainY, testY) = train_test_split(data, labels,\n",
    "# \ttest_size=0.20, stratify=labels, random_state=42)\n",
    "\n",
    "# # construct the training image generator for data augmentation\n",
    "# aug = ImageDataGenerator(\n",
    "# \trotation_range=20,\n",
    "# \tzoom_range=0.15,\n",
    "# \twidth_shift_range=0.2,\n",
    "# \theight_shift_range=0.2,\n",
    "# \tshear_range=0.15,\n",
    "# \thorizontal_flip=True,\n",
    "# \tfill_mode=\"nearest\")\n",
    "\n",
    "# load the MobileNetV2 network, ensuring the head FC layer sets are\n",
    "# left off\n",
    "baseModel = InceptionV3(weights=\"imagenet\", include_top=False,\n",
    "\tinput_tensor=Input(shape=(299, 299, 3)))\n",
    "\n",
    "# construct the head of the model that will be placed on top of the\n",
    "# the base model\n",
    "headModel = baseModel.output\n",
    "headModel = AveragePooling2D(pool_size=(8, 8))(headModel)\n",
    "headModel = Flatten(name=\"flatten\")(headModel)\n",
    "headModel = Dense(128, activation=\"relu\")(headModel)\n",
    "headModel = Dropout(0.5)(headModel)\n",
    "headModel = Dense(2, activation=\"softmax\")(headModel)\n",
    "\n",
    "# place the head FC model on top of the base model (this will become\n",
    "# the actual model we will train)\n",
    "model = Model(inputs=baseModel.input, outputs=headModel)\n",
    "\n",
    "# loop over all layers in the base model and freeze them so they will\n",
    "# *not* be updated during the first training process\n",
    "for layer in baseModel.layers:\n",
    "\tlayer.trainable = False\n",
    "\n",
    "# compile our model\n",
    "print(\"[INFO] compiling model...\")\n",
    "opt = Adam(lr=INIT_LR, decay=INIT_LR / EPOCHS)\n",
    "model.compile(loss=\"binary_crossentropy\", optimizer=opt, metrics=[\"accuracy\"])\n",
    "\n",
    "# train the head of the network\n",
    "print(\"[INFO] training head...\")\n",
    "H = model.fit(\n",
    "\ttrain_gen,\n",
    "\tsteps_per_epoch=train_gen.n // BS,\n",
    "\tvalidation_data=validation_gen,\n",
    "\tvalidation_steps=validation_gen.n // BS,\n",
    "\tepochs=EPOCHS)"
   ]
  },
  {
   "cell_type": "markdown",
   "metadata": {},
   "source": [
    "### Testing Trained Model"
   ]
  },
  {
   "cell_type": "code",
   "execution_count": 17,
   "metadata": {},
   "outputs": [
    {
     "name": "stdout",
     "output_type": "stream",
     "text": [
      "[INFO] evaluating network...\n",
      "              precision    recall  f1-score   support\n",
      "\n",
      "    NON_COMP       0.67      0.99      0.80       802\n",
      "        COMP       0.36      0.01      0.02       397\n",
      "\n",
      "    accuracy                           0.67      1199\n",
      "   macro avg       0.51      0.50      0.41      1199\n",
      "weighted avg       0.57      0.67      0.54      1199\n",
      "\n"
     ]
    }
   ],
   "source": [
    "# make predictions on the testing set\n",
    "print(\"[INFO] evaluating network...\")\n",
    "predIdxs = model.predict(test_gen, batch_size=BS)\n",
    "\n",
    "# for each image in the testing set we need to find the index of the\n",
    "# label with corresponding largest predicted probability\n",
    "predIdxs = np.argmax(predIdxs, axis=1)\n",
    "\n",
    "# show a nicely formatted classification report\n",
    "print(classification_report(test_gen.labels, predIdxs, target_names=['NON_COMP','COMP']))"
   ]
  },
  {
   "cell_type": "markdown",
   "metadata": {},
   "source": [
    "## Saving Model"
   ]
  },
  {
   "cell_type": "code",
   "execution_count": 18,
   "metadata": {},
   "outputs": [
    {
     "name": "stdout",
     "output_type": "stream",
     "text": [
      "[INFO] saving model...\n"
     ]
    }
   ],
   "source": [
    "# serialize the model to disk\n",
    "print(\"[INFO] saving model...\")\n",
    "model.save(f\"models/mouth_inceptionv3_model-{datetime.datetime.now()}.h5\", save_format=\"h5\")"
   ]
  },
  {
   "cell_type": "markdown",
   "metadata": {},
   "source": [
    "## Plot Training Curves"
   ]
  },
  {
   "cell_type": "code",
   "execution_count": 19,
   "metadata": {},
   "outputs": [
    {
     "data": {
      "image/png": "[encoded data removed]",
      "text/plain": [
       "<Figure size 1656x504 with 1 Axes>"
      ]
     },
     "metadata": {},
     "output_type": "display_data"
    }
   ],
   "source": [
    "# plot the training loss and accuracy\n",
    "N = EPOCHS\n",
    "plt.style.use(\"ggplot\")\n",
    "plt.figure(figsize=(23,7))\n",
    "plt.plot(np.arange(0, N), H.history[\"loss\"], label=\"train_loss\")\n",
    "plt.plot(np.arange(0, N), H.history[\"val_loss\"], label=\"val_loss\")\n",
    "plt.plot(np.arange(0, N), H.history[\"accuracy\"], label=\"train_acc\")\n",
    "plt.plot(np.arange(0, N), H.history[\"val_accuracy\"], label=\"val_acc\")\n",
    "plt.title(\"Training Loss and Accuracy\")\n",
    "plt.xlabel(\"Epoch #\")\n",
    "plt.ylabel(\"Loss/Accuracy\")\n",
    "plt.ylim([0,1])\n",
    "plt.legend(loc=\"lower left\")\n",
    "plt.savefig(\"figs/mouth_training_inceptionv3.png\")"
   ]
  }
 ],
 "metadata": {
  "kernelspec": {
   "display_name": "Python 3",
   "language": "python",
   "name": "python3"
  },
  "language_info": {
   "codemirror_mode": {
    "name": "ipython",
    "version": 3
   },
   "file_extension": ".py",
   "mimetype": "text/x-python",
   "name": "python",
   "nbconvert_exporter": "python",
   "pygments_lexer": "ipython3",
   "version": "3.8.3"
  },
  "toc-autonumbering": true
 },
 "nbformat": 4,
 "nbformat_minor": 4
}

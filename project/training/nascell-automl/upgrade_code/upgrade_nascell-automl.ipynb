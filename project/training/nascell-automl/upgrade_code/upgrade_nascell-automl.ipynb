{
 "cells": [
  {
   "cell_type": "markdown",
   "metadata": {},
   "source": [
    "# Notebook Conversão tf1 -> tf2"
   ]
  },
  {
   "cell_type": "markdown",
   "metadata": {},
   "source": [
    "## cnn.py"
   ]
  },
  {
   "cell_type": "code",
   "execution_count": 6,
   "metadata": {
    "collapsed": true,
    "jupyter": {
     "outputs_hidden": true
    }
   },
   "outputs": [
    {
     "name": "stdout",
     "output_type": "stream",
     "text": [
      "2021-04-24 11:35:57.904302: I tensorflow/stream_executor/platform/default/dso_loader.cc:49] Successfully opened dynamic library libcudart.so.10.1\n",
      "INFO line 9:17: Renamed 'tf.placeholder' to 'tf.compat.v1.placeholder'\n",
      "INFO line 12:17: Renamed 'tf.placeholder' to 'tf.compat.v1.placeholder'\n",
      "INFO line 13:33: Renamed 'tf.placeholder' to 'tf.compat.v1.placeholder'\n",
      "INFO line 14:33: Renamed 'tf.placeholder' to 'tf.compat.v1.placeholder'\n",
      "INFO line 19:13: `name` passed to `name_scope`. Because you may be re-entering an existing scope, it is not safe to convert automatically,  the v2 name_scope does not support re-entering scopes by name.\n",
      "\n",
      "INFO line 19:13: Renamed 'tf.name_scope' to 'tf.compat.v1.name_scope'\n",
      "INFO line 21:21: `name` passed to `name_scope`. Because you may be re-entering an existing scope, it is not safe to convert automatically,  the v2 name_scope does not support re-entering scopes by name.\n",
      "\n",
      "INFO line 21:21: Renamed 'tf.name_scope' to 'tf.compat.v1.name_scope'\n",
      "INFO line 22:31: Renamed 'tf.layers.conv1d' to 'tf.compat.v1.layers.conv1d'\n",
      "INFO line 30:43: Changing tf.contrib.layers xavier initializer to a tf.compat.v1.keras.initializers.VarianceScaling and converting arguments.\n",
      "\n",
      "INFO line 31:41: tf.zeros_initializer requires manual check. Initializers no longer have the dtype argument in the constructor or partition_info argument in the __call__ method.\n",
      "The calls have been converted to compat.v1 for safety (even though they may already have been correct).\n",
      "INFO line 31:41: Renamed 'tf.zeros_initializer' to 'tf.compat.v1.zeros_initializer'\n",
      "INFO line 33:31: Renamed 'tf.layers.max_pooling1d' to 'tf.compat.v1.layers.max_pooling1d'\n",
      "INFO line 40:31: Changing keep_prob arg of tf.nn.dropout to rate, and recomputing value.\n",
      "\n",
      "ERROR line 42:31: Using member tf.contrib.layers.flatten in deprecated module tf.contrib. tf.contrib.layers.flatten cannot be converted automatically. tf.contrib will not be distributed with TensorFlow 2.0, please consider an alternative in non-contrib TensorFlow, a community-maintained repository such as tensorflow/addons, or fork the required code.\n",
      "INFO line 43:26: Renamed 'tf.layers.dense' to 'tf.compat.v1.layers.dense'\n",
      "INFO line 46:20: Changing labels arg of tf.nn.softmax_cross_entropy_with_logits to tf.stop_gradient(labels). Please check this transformation.\n",
      "\n",
      "INFO line 47:32: Added keywords to args of function 'tf.argmax'\n",
      "INFO line 47:63: Added keywords to args of function 'tf.argmax'\n",
      "INFO line 48:24: Added keywords to args of function 'tf.reduce_mean'\n",
      "TensorFlow 2.0 Upgrade Script\n",
      "-----------------------------\n",
      "Converted 1 files\n",
      "Detected 1 issues that require attention\n",
      "--------------------------------------------------------------------------------\n",
      "--------------------------------------------------------------------------------\n",
      "File: tf1_version/cnn.py\n",
      "--------------------------------------------------------------------------------\n",
      "tf1_version/cnn.py:42:31: ERROR: Using member tf.contrib.layers.flatten in deprecated module tf.contrib. tf.contrib.layers.flatten cannot be converted automatically. tf.contrib will not be distributed with TensorFlow 2.0, please consider an alternative in non-contrib TensorFlow, a community-maintained repository such as tensorflow/addons, or fork the required code.\n",
      "\n",
      "\n",
      "Make sure to read the detailed log 'cnn_report.txt'\n",
      "\n"
     ]
    }
   ],
   "source": [
    "!tf_upgrade_v2 \\\n",
    "    --infile ../tf1_version/cnn.py \\\n",
    "    --outfile ../tf2_version/cnn.py \\\n",
    "    --reportfile cnn_report.txt"
   ]
  },
  {
   "cell_type": "markdown",
   "metadata": {},
   "source": [
    "## net_manager.py"
   ]
  },
  {
   "cell_type": "code",
   "execution_count": 8,
   "metadata": {
    "collapsed": true,
    "jupyter": {
     "outputs_hidden": true
    }
   },
   "outputs": [
    {
     "name": "stdout",
     "output_type": "stream",
     "text": [
      "2021-04-24 11:36:51.962707: I tensorflow/stream_executor/platform/default/dso_loader.cc:49] Successfully opened dynamic library libcudart.so.10.1\n",
      "INFO line 25:26: Added keywords to args of function 'tf.reduce_mean'\n",
      "INFO line 26:28: Renamed 'tf.train.AdamOptimizer' to 'tf.compat.v1.train.AdamOptimizer'\n",
      "INFO line 29:21: Renamed 'tf.Session' to 'tf.compat.v1.Session'\n",
      "INFO line 30:27: Renamed 'tf.global_variables_initializer' to 'tf.compat.v1.global_variables_initializer'\n",
      "TensorFlow 2.0 Upgrade Script\n",
      "-----------------------------\n",
      "Converted 1 files\n",
      "Detected 0 issues that require attention\n",
      "--------------------------------------------------------------------------------\n",
      "\n",
      "\n",
      "Make sure to read the detailed log 'netmanager_report.txt'\n",
      "\n"
     ]
    }
   ],
   "source": [
    "!tf_upgrade_v2 \\\n",
    "    --infile ../tf1_version/net_manager.py \\\n",
    "    --outfile ../tf2_version/net_manager.py \\\n",
    "    --reportfile netmanager_report.txt"
   ]
  },
  {
   "cell_type": "markdown",
   "metadata": {},
   "source": [
    "### reinforce.py"
   ]
  },
  {
   "cell_type": "code",
   "execution_count": 9,
   "metadata": {
    "collapsed": true,
    "jupyter": {
     "outputs_hidden": true
    }
   },
   "outputs": [
    {
     "name": "stdout",
     "output_type": "stream",
     "text": [
      "2021-04-24 11:37:11.985049: I tensorflow/stream_executor/platform/default/dso_loader.cc:49] Successfully opened dynamic library libcudart.so.10.1\n",
      "INFO line 24:20: Renamed 'tf.get_collection' to 'tf.compat.v1.get_collection'\n",
      "INFO line 24:38: Renamed 'tf.GraphKeys' to 'tf.compat.v1.GraphKeys'\n",
      "INFO line 25:22: Renamed 'tf.variables_initializer' to 'tf.compat.v1.variables_initializer'\n",
      "INFO line 35:13: `name` passed to `name_scope`. Because you may be re-entering an existing scope, it is not safe to convert automatically,  the v2 name_scope does not support re-entering scopes by name.\n",
      "\n",
      "INFO line 35:13: Renamed 'tf.name_scope' to 'tf.compat.v1.name_scope'\n",
      "INFO line 37:26: Renamed 'tf.placeholder' to 'tf.compat.v1.placeholder'\n",
      "INFO line 39:13: `name` passed to `name_scope`. Because you may be re-entering an existing scope, it is not safe to convert automatically,  the v2 name_scope does not support re-entering scopes by name.\n",
      "\n",
      "INFO line 39:13: Renamed 'tf.name_scope' to 'tf.compat.v1.name_scope'\n",
      "INFO line 41:17: Renamed 'tf.variable_scope' to 'tf.compat.v1.variable_scope'\n",
      "INFO line 50:35: Renamed 'tf.get_collection' to 'tf.compat.v1.get_collection'\n",
      "INFO line 50:53: Renamed 'tf.GraphKeys' to 'tf.compat.v1.GraphKeys'\n",
      "INFO line 53:13: `name` passed to `name_scope`. Because you may be re-entering an existing scope, it is not safe to convert automatically,  the v2 name_scope does not support re-entering scopes by name.\n",
      "\n",
      "INFO line 53:13: Renamed 'tf.name_scope' to 'tf.compat.v1.name_scope'\n",
      "INFO line 55:38: Renamed 'tf.placeholder' to 'tf.compat.v1.placeholder'\n",
      "INFO line 57:17: Renamed 'tf.variable_scope' to 'tf.compat.v1.variable_scope'\n",
      "INFO line 62:38: Changing labels arg of tf.nn.softmax_cross_entropy_with_logits to tf.stop_gradient(labels). Please check this transformation.\n",
      "\n",
      "INFO line 63:38: Added keywords to args of function 'tf.reduce_mean'\n",
      "INFO line 64:38: Added keywords to args of function 'tf.reduce_sum'\n",
      "INFO line 64:53: Added keywords to args of function 'tf.reduce_sum'\n",
      "INFO line 76:17: `name` passed to `name_scope`. Because you may be re-entering an existing scope, it is not safe to convert automatically,  the v2 name_scope does not support re-entering scopes by name.\n",
      "\n",
      "INFO line 76:17: Renamed 'tf.name_scope' to 'tf.compat.v1.name_scope'\n",
      "TensorFlow 2.0 Upgrade Script\n",
      "-----------------------------\n",
      "Converted 1 files\n",
      "Detected 0 issues that require attention\n",
      "--------------------------------------------------------------------------------\n",
      "\n",
      "\n",
      "Make sure to read the detailed log 'reinforce_report.txt'\n",
      "\n"
     ]
    }
   ],
   "source": [
    "!tf_upgrade_v2 \\\n",
    "    --infile ../tf1_version/reinforce.py \\\n",
    "    --outfile ../tf2_version/reinforce.py \\\n",
    "    --reportfile reinforce_report.txt"
   ]
  },
  {
   "cell_type": "markdown",
   "metadata": {},
   "source": [
    "### train.py"
   ]
  },
  {
   "cell_type": "code",
   "execution_count": 10,
   "metadata": {
    "collapsed": true,
    "jupyter": {
     "outputs_hidden": true
    }
   },
   "outputs": [
    {
     "name": "stdout",
     "output_type": "stream",
     "text": [
      "2021-04-24 11:37:21.425298: I tensorflow/stream_executor/platform/default/dso_loader.cc:49] Successfully opened dynamic library libcudart.so.10.1\n",
      "INFO line 35:9: `name` passed to `name_scope`. Because you may be re-entering an existing scope, it is not safe to convert automatically,  the v2 name_scope does not support re-entering scopes by name.\n",
      "\n",
      "INFO line 35:9: Renamed 'tf.name_scope' to 'tf.compat.v1.name_scope'\n",
      "WARNING line 36:19: tf.contrib.rnn.NASCell requires manual check. (Manual edit required) `tf.contrib.rnn.NASCell` has been migrated to `tfa.rnn.NASCell` in TensorFlow Addons. The API spec may have changed during the migration. Please see https://github.com/tensorflow/addons for more info.\n",
      "WARNING line 36:19: Using member tf.contrib.rnn.NASCell in deprecated module tf.contrib.rnn. (Manual edit required) tf.contrib.rnn.* has been deprecated, and widely used cells/functions will be moved to tensorflow/addons repository. Please check it there and file Github issues if necessary.\n",
      "ERROR line 36:19: Using member tf.contrib.rnn.NASCell in deprecated module tf.contrib. tf.contrib.rnn.NASCell cannot be converted automatically. tf.contrib will not be distributed with TensorFlow 2.0, please consider an alternative in non-contrib TensorFlow, a community-maintained repository such as tensorflow/addons, or fork the required code.\n",
      "INFO line 37:25: Renamed 'tf.nn.dynamic_rnn' to 'tf.compat.v1.nn.dynamic_rnn'\n",
      "INFO line 51:11: Renamed 'tf.Session' to 'tf.compat.v1.Session'\n",
      "INFO line 54:20: tf.train.exponential_decay requires manual check. To use learning rate decay schedules with TensorFlow 2.0, switch to the schedules in `tf.keras.optimizers.schedules`.\n",
      "\n",
      "INFO line 54:20: Renamed 'tf.train.exponential_decay' to 'tf.compat.v1.train.exponential_decay'\n",
      "INFO line 57:16: Renamed 'tf.train.RMSPropOptimizer' to 'tf.compat.v1.train.RMSPropOptimizer'\n",
      "TensorFlow 2.0 Upgrade Script\n",
      "-----------------------------\n",
      "Converted 1 files\n",
      "Detected 3 issues that require attention\n",
      "--------------------------------------------------------------------------------\n",
      "--------------------------------------------------------------------------------\n",
      "File: tf1_version/train.py\n",
      "--------------------------------------------------------------------------------\n",
      "tf1_version/train.py:36:19: WARNING: tf.contrib.rnn.NASCell requires manual check. (Manual edit required) `tf.contrib.rnn.NASCell` has been migrated to `tfa.rnn.NASCell` in TensorFlow Addons. The API spec may have changed during the migration. Please see https://github.com/tensorflow/addons for more info.\n",
      "tf1_version/train.py:36:19: WARNING: Using member tf.contrib.rnn.NASCell in deprecated module tf.contrib.rnn. (Manual edit required) tf.contrib.rnn.* has been deprecated, and widely used cells/functions will be moved to tensorflow/addons repository. Please check it there and file Github issues if necessary.\n",
      "tf1_version/train.py:36:19: ERROR: Using member tf.contrib.rnn.NASCell in deprecated module tf.contrib. tf.contrib.rnn.NASCell cannot be converted automatically. tf.contrib will not be distributed with TensorFlow 2.0, please consider an alternative in non-contrib TensorFlow, a community-maintained repository such as tensorflow/addons, or fork the required code.\n",
      "\n",
      "\n",
      "Make sure to read the detailed log 'train_report.txt'\n",
      "\n"
     ]
    }
   ],
   "source": [
    "!tf_upgrade_v2 \\\n",
    "    --infile ../tf1_version/train.py \\\n",
    "    --outfile ../tf2_version/train.py \\\n",
    "    --reportfile train_report.txt"
   ]
  },
  {
   "cell_type": "markdown",
   "metadata": {},
   "source": [
    "### exec_experiment"
   ]
  },
  {
   "cell_type": "code",
   "execution_count": 3,
   "metadata": {
    "collapsed": true,
    "jupyter": {
     "outputs_hidden": true
    }
   },
   "outputs": [
    {
     "name": "stdout",
     "output_type": "stream",
     "text": [
      "2021-04-24 11:45:58.728641: I tensorflow/stream_executor/platform/default/dso_loader.cc:49] Successfully opened dynamic library libcudart.so.10.1\n",
      "INFO line 18:14: Added keywords to args of function 'tf.reduce_mean'\n",
      "INFO line 19:16: Renamed 'tf.train.AdamOptimizer' to 'tf.compat.v1.train.AdamOptimizer'\n",
      "INFO line 22:4: tf.summary.scalar requires manual check. The TF 1.x summary API cannot be automatically migrated to TF 2.0, so symbols have been converted to tf.compat.v1.summary.* and must be migrated manually. Typical usage will only require changes to the summary writing logic, not to individual calls like scalar(). For examples of the new summary API, see the Effective TF 2.0 migration document or check the TF 2.0 TensorBoard tutorials.\n",
      "INFO line 22:4: Renamed 'tf.summary.scalar' to 'tf.compat.v1.summary.scalar'\n",
      "INFO line 23:4: tf.summary.scalar requires manual check. The TF 1.x summary API cannot be automatically migrated to TF 2.0, so symbols have been converted to tf.compat.v1.summary.* and must be migrated manually. Typical usage will only require changes to the summary writing logic, not to individual calls like scalar(). For examples of the new summary API, see the Effective TF 2.0 migration document or check the TF 2.0 TensorBoard tutorials.\n",
      "INFO line 23:4: Renamed 'tf.summary.scalar' to 'tf.compat.v1.summary.scalar'\n",
      "INFO line 23:30: Added keywords to args of function 'tf.reduce_mean'\n",
      "INFO line 24:24: tf.summary.merge_all requires manual check. The TF 1.x summary API cannot be automatically migrated to TF 2.0, so symbols have been converted to tf.compat.v1.summary.* and must be migrated manually. Typical usage will only require changes to the summary writing logic, not to individual calls like scalar(). For examples of the new summary API, see the Effective TF 2.0 migration document or check the TF 2.0 TensorBoard tutorials.\n",
      "INFO line 24:24: Renamed 'tf.summary.merge_all' to 'tf.compat.v1.summary.merge_all'\n",
      "INFO line 25:21: tf.summary.FileWriter requires manual check. The TF 1.x summary API cannot be automatically migrated to TF 2.0, so symbols have been converted to tf.compat.v1.summary.* and must be migrated manually. Typical usage will only require changes to the summary writing logic, not to individual calls like scalar(). For examples of the new summary API, see the Effective TF 2.0 migration document or check the TF 2.0 TensorBoard tutorials.\n",
      "INFO line 25:21: Renamed 'tf.summary.FileWriter' to 'tf.compat.v1.summary.FileWriter'\n",
      "INFO line 25:55: Renamed 'tf.get_default_graph' to 'tf.compat.v1.get_default_graph'\n",
      "INFO line 27:11: Renamed 'tf.global_variables_initializer' to 'tf.compat.v1.global_variables_initializer'\n",
      "INFO line 28:11: Renamed 'tf.Session' to 'tf.compat.v1.Session'\n",
      "INFO line 18:14: Added keywords to args of function 'tf.reduce_mean'\n",
      "INFO line 19:16: Renamed 'tf.train.AdamOptimizer' to 'tf.compat.v1.train.AdamOptimizer'\n",
      "INFO line 22:4: tf.summary.scalar requires manual check. The TF 1.x summary API cannot be automatically migrated to TF 2.0, so symbols have been converted to tf.compat.v1.summary.* and must be migrated manually. Typical usage will only require changes to the summary writing logic, not to individual calls like scalar(). For examples of the new summary API, see the Effective TF 2.0 migration document or check the TF 2.0 TensorBoard tutorials.\n",
      "INFO line 22:4: Renamed 'tf.summary.scalar' to 'tf.compat.v1.summary.scalar'\n",
      "INFO line 23:4: tf.summary.scalar requires manual check. The TF 1.x summary API cannot be automatically migrated to TF 2.0, so symbols have been converted to tf.compat.v1.summary.* and must be migrated manually. Typical usage will only require changes to the summary writing logic, not to individual calls like scalar(). For examples of the new summary API, see the Effective TF 2.0 migration document or check the TF 2.0 TensorBoard tutorials.\n",
      "INFO line 23:4: Renamed 'tf.summary.scalar' to 'tf.compat.v1.summary.scalar'\n",
      "INFO line 23:30: Added keywords to args of function 'tf.reduce_mean'\n",
      "INFO line 24:24: tf.summary.merge_all requires manual check. The TF 1.x summary API cannot be automatically migrated to TF 2.0, so symbols have been converted to tf.compat.v1.summary.* and must be migrated manually. Typical usage will only require changes to the summary writing logic, not to individual calls like scalar(). For examples of the new summary API, see the Effective TF 2.0 migration document or check the TF 2.0 TensorBoard tutorials.\n",
      "INFO line 24:24: Renamed 'tf.summary.merge_all' to 'tf.compat.v1.summary.merge_all'\n",
      "INFO line 25:21: tf.summary.FileWriter requires manual check. The TF 1.x summary API cannot be automatically migrated to TF 2.0, so symbols have been converted to tf.compat.v1.summary.* and must be migrated manually. Typical usage will only require changes to the summary writing logic, not to individual calls like scalar(). For examples of the new summary API, see the Effective TF 2.0 migration document or check the TF 2.0 TensorBoard tutorials.\n",
      "INFO line 25:21: Renamed 'tf.summary.FileWriter' to 'tf.compat.v1.summary.FileWriter'\n",
      "INFO line 25:55: Renamed 'tf.get_default_graph' to 'tf.compat.v1.get_default_graph'\n",
      "INFO line 27:11: Renamed 'tf.global_variables_initializer' to 'tf.compat.v1.global_variables_initializer'\n",
      "INFO line 28:11: Renamed 'tf.Session' to 'tf.compat.v1.Session'\n",
      "TensorFlow 2.0 Upgrade Script\n",
      "-----------------------------\n",
      "Converted 2 files\n",
      "Detected 0 issues that require attention\n",
      "--------------------------------------------------------------------------------\n",
      "\n",
      "\n",
      "Make sure to read the detailed log 'exec_experiment_report.txt'\n",
      "\n"
     ]
    }
   ],
   "source": [
    "!tf_upgrade_v2 \\\n",
    "    --infile ../tf1_version/exec_experiment.py \\\n",
    "    --outfile ../tf2_version/exec_experiment.py \\\n",
    "    --reportfile exec_experiment_report.txt"
   ]
  }
 ],
 "metadata": {
  "kernelspec": {
   "display_name": "Python 3",
   "language": "python",
   "name": "python3"
  },
  "language_info": {
   "codemirror_mode": {
    "name": "ipython",
    "version": 3
   },
   "file_extension": ".py",
   "mimetype": "text/x-python",
   "name": "python",
   "nbconvert_exporter": "python",
   "pygments_lexer": "ipython3",
   "version": "3.8.3"
  }
 },
 "nbformat": 4,
 "nbformat_minor": 4
}

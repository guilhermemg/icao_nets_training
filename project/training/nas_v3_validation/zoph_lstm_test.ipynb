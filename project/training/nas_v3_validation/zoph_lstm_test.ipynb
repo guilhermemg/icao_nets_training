{
 "cells": [
  {
   "cell_type": "markdown",
   "id": "6af04acc-18fd-42e0-be5e-c2ee16ee4cd8",
   "metadata": {},
   "source": [
    "# Introduction\n",
    "\n",
    "Notebook para executar grid-search para encontrar melhores parâmetros para RL com NAS-v3 em variados datasets de NATS-Bench-201."
   ]
  },
  {
   "cell_type": "markdown",
   "id": "a0cc156f-e3fe-48b5-b949-fa359585e3f1",
   "metadata": {
    "tags": []
   },
   "source": [
    "# Import Libraries"
   ]
  },
  {
   "cell_type": "code",
   "execution_count": 1,
   "id": "43e6c031-f77b-4052-a841-9682663bc7ef",
   "metadata": {
    "tags": []
   },
   "outputs": [],
   "source": [
    "%load_ext autoreload\n",
    "%autoreload 2"
   ]
  },
  {
   "cell_type": "code",
   "execution_count": 2,
   "id": "f9a804b6-5a69-4a9c-88b6-0ea6343eda8e",
   "metadata": {
    "tags": []
   },
   "outputs": [],
   "source": [
    "import os\n",
    "# disable tensorflow log level infos\n",
    "os.environ['TF_CPP_MIN_LOG_LEVEL'] = '2' # show only errors"
   ]
  },
  {
   "cell_type": "code",
   "execution_count": 3,
   "id": "9789bbb5-bc72-4c98-a1e8-9a998eab1833",
   "metadata": {},
   "outputs": [],
   "source": [
    "from IPython.display import clear_output\n",
    "\n",
    "import pandas as pd\n",
    "import numpy as np"
   ]
  },
  {
   "cell_type": "code",
   "execution_count": 4,
   "id": "f92fe4d2-08b5-424d-9148-53cbe282e1fc",
   "metadata": {
    "tags": []
   },
   "outputs": [],
   "source": [
    "import sys\n",
    "if '../..' not in sys.path:\n",
    "    sys.path.insert(0, '../..')\n",
    "    \n",
    "from validation_src.val_nas_executor import NASExecutor \n",
    "\n",
    "from src.base.experiment.training.optimizers import Optimizer"
   ]
  },
  {
   "cell_type": "code",
   "execution_count": 5,
   "id": "95b81e70-cd71-4905-b8b7-0d908a6f90b6",
   "metadata": {
    "tags": []
   },
   "outputs": [
    {
     "name": "stdout",
     "output_type": "stream",
     "text": [
      " ==> Restrict GPU memory growth: True\n"
     ]
    }
   ],
   "source": [
    "## restrict memory growth -------------------\n",
    "import tensorflow as tf\n",
    "physical_devices = tf.config.list_physical_devices('GPU') \n",
    "try:\n",
    "    gpu_0 = physical_devices[0]\n",
    "    tf.config.experimental.set_memory_growth(gpu_0, True) \n",
    "    #tf.config.experimental.set_virtual_device_configuration(gpu_0, [tf.config.experimental.VirtualDeviceConfiguration(memory_limit=6500)])\n",
    "    print(' ==> Restrict GPU memory growth: True')\n",
    "except: \n",
    "    raise Exception(\"Invalid device or cannot modify virtual devices once initialized.\")\n",
    "## restrict memory growth ------------------- "
   ]
  },
  {
   "cell_type": "markdown",
   "id": "54d9072b-fd4d-4fd8-8a82-60d0681270a7",
   "metadata": {},
   "source": [
    "# Run Zoph LSTM Setup"
   ]
  },
  {
   "cell_type": "code",
   "execution_count": 6,
   "id": "3ac1ba44-a46b-47e9-bcf7-ed244065919a",
   "metadata": {
    "tags": []
   },
   "outputs": [],
   "source": [
    "ss_indicators = ['tss'] #'sss'\n",
    "algos_list = ['rl']  # ,'random','evolution'\n",
    "datasets_list = ['ImageNet16-120','cifar10','cifar100']\n",
    "mth_list = [100]\n",
    "use_neptune = False\n",
    "\n",
    "\n",
    "for ss in ss_indicators:\n",
    "    for a in algos_list:\n",
    "        for d in datasets_list:\n",
    "            for mth in mth_list:\n",
    "                executor = NASExecutor(a, d, mth, ss, use_neptune)\n",
    "                sorted_results = executor.test_nas_algo(f'./results/zoph_lstm/{ss}/{a}_{str(mth)}h_{d}.csv')\n",
    "                clear_output()               "
   ]
  },
  {
   "cell_type": "markdown",
   "id": "dcf0282c-b0d9-4b6a-b689-51df5650897b",
   "metadata": {
    "tags": []
   },
   "source": [
    "# Util Function"
   ]
  },
  {
   "cell_type": "code",
   "execution_count": 23,
   "id": "c7b22c5c-3168-4f01-ae0b-ba5fd2f1595a",
   "metadata": {
    "tags": []
   },
   "outputs": [],
   "source": [
    "def get_best_arch(orig_df, dataset):\n",
    "    df = orig_df[orig_df['dataset'] == dataset]\n",
    "    cols = ['id','dna','pred_acc','train_accuracy','val_acc','test_acc']\n",
    "    df = df[cols]\n",
    "    df = df.sort_values(by='val_acc', ascending=False, ignore_index=True)\n",
    "    df = df[df['val_acc'] == np.max(df['val_acc'])].sort_values(by='id', ignore_index=True)\n",
    "    display(df.head(1))"
   ]
  },
  {
   "cell_type": "markdown",
   "id": "bf762116-e481-4d0c-8e65-a55f3601af2f",
   "metadata": {},
   "source": [
    "# Zoph LSTM Setup Analysis"
   ]
  },
  {
   "cell_type": "markdown",
   "id": "f672ff03-2bd2-4ee2-b740-fed611682d51",
   "metadata": {
    "tags": []
   },
   "source": [
    "## SSS - Search Space"
   ]
  },
  {
   "cell_type": "code",
   "execution_count": 8,
   "id": "43d0b302-f63c-4039-af66-dcf537fa2512",
   "metadata": {
    "tags": []
   },
   "outputs": [],
   "source": [
    "sss_cifar10_df  = pd.read_csv('./results/zoph_lstm/sss/rl_100h_cifar10.csv')\n",
    "sss_cifar100_df = pd.read_csv('./results/zoph_lstm/sss/rl_100h_cifar100.csv')\n",
    "sss_imagenet_df = pd.read_csv('./results/zoph_lstm/sss/rl_100h_ImageNet16-120.csv')"
   ]
  },
  {
   "cell_type": "code",
   "execution_count": 10,
   "id": "f3e0ba31-69eb-4029-9b6e-309b818f4d69",
   "metadata": {
    "collapsed": true,
    "jupyter": {
     "outputs_hidden": true
    },
    "tags": []
   },
   "outputs": [
    {
     "data": {
      "text/html": [
       "<div>\n",
       "<style scoped>\n",
       "    .dataframe tbody tr th:only-of-type {\n",
       "        vertical-align: middle;\n",
       "    }\n",
       "\n",
       "    .dataframe tbody tr th {\n",
       "        vertical-align: top;\n",
       "    }\n",
       "\n",
       "    .dataframe thead th {\n",
       "        text-align: right;\n",
       "    }\n",
       "</style>\n",
       "<table border=\"1\" class=\"dataframe\">\n",
       "  <thead>\n",
       "    <tr style=\"text-align: right;\">\n",
       "      <th></th>\n",
       "      <th>id</th>\n",
       "      <th>dna</th>\n",
       "      <th>cell_spec</th>\n",
       "      <th>val_acc</th>\n",
       "      <th>pred_acc</th>\n",
       "      <th>latency</th>\n",
       "      <th>time_cost</th>\n",
       "      <th>total_time</th>\n",
       "      <th>test_acc</th>\n",
       "      <th>test_loss</th>\n",
       "      <th>...</th>\n",
       "      <th>time_spent_in_hours</th>\n",
       "      <th>time_spent_in_secs</th>\n",
       "      <th>train_accuracy</th>\n",
       "      <th>train_loss</th>\n",
       "      <th>train_per_time</th>\n",
       "      <th>train_all_time</th>\n",
       "      <th>comment</th>\n",
       "      <th>algorithm</th>\n",
       "      <th>dataset</th>\n",
       "      <th>max_train_hours</th>\n",
       "    </tr>\n",
       "  </thead>\n",
       "  <tbody>\n",
       "    <tr>\n",
       "      <th>0</th>\n",
       "      <td>6919</td>\n",
       "      <td>DNA([7, 7, 7, 7, 7])</td>\n",
       "      <td>64:64:64:64:64</td>\n",
       "      <td>84.956</td>\n",
       "      <td>-1</td>\n",
       "      <td>0.020403</td>\n",
       "      <td>70.035428</td>\n",
       "      <td>291018.409453</td>\n",
       "      <td>93.4</td>\n",
       "      <td>0.253872</td>\n",
       "      <td>...</td>\n",
       "      <td>80</td>\n",
       "      <td>291018.409</td>\n",
       "      <td>99.920</td>\n",
       "      <td>0.007021</td>\n",
       "      <td>10.806808</td>\n",
       "      <td>972.612677</td>\n",
       "      <td>In this dict, train-loss/accuracy/time is the ...</td>\n",
       "      <td>RL_DNAGenerator()</td>\n",
       "      <td>cifar10</td>\n",
       "      <td>100</td>\n",
       "    </tr>\n",
       "    <tr>\n",
       "      <th>1</th>\n",
       "      <td>7120</td>\n",
       "      <td>DNA([7, 7, 7, 7, 7])</td>\n",
       "      <td>64:64:64:64:64</td>\n",
       "      <td>84.956</td>\n",
       "      <td>-1</td>\n",
       "      <td>0.020403</td>\n",
       "      <td>70.035428</td>\n",
       "      <td>301681.114148</td>\n",
       "      <td>93.4</td>\n",
       "      <td>0.253872</td>\n",
       "      <td>...</td>\n",
       "      <td>83</td>\n",
       "      <td>301681.114</td>\n",
       "      <td>99.920</td>\n",
       "      <td>0.007021</td>\n",
       "      <td>10.806808</td>\n",
       "      <td>972.612677</td>\n",
       "      <td>In this dict, train-loss/accuracy/time is the ...</td>\n",
       "      <td>RL_DNAGenerator()</td>\n",
       "      <td>cifar10</td>\n",
       "      <td>100</td>\n",
       "    </tr>\n",
       "    <tr>\n",
       "      <th>2</th>\n",
       "      <td>7167</td>\n",
       "      <td>DNA([7, 7, 7, 7, 7])</td>\n",
       "      <td>64:64:64:64:64</td>\n",
       "      <td>84.956</td>\n",
       "      <td>-1</td>\n",
       "      <td>0.020403</td>\n",
       "      <td>70.035428</td>\n",
       "      <td>304204.968086</td>\n",
       "      <td>93.4</td>\n",
       "      <td>0.253872</td>\n",
       "      <td>...</td>\n",
       "      <td>84</td>\n",
       "      <td>304204.968</td>\n",
       "      <td>99.920</td>\n",
       "      <td>0.007021</td>\n",
       "      <td>10.806808</td>\n",
       "      <td>972.612677</td>\n",
       "      <td>In this dict, train-loss/accuracy/time is the ...</td>\n",
       "      <td>RL_DNAGenerator()</td>\n",
       "      <td>cifar10</td>\n",
       "      <td>100</td>\n",
       "    </tr>\n",
       "    <tr>\n",
       "      <th>3</th>\n",
       "      <td>6932</td>\n",
       "      <td>DNA([7, 7, 7, 7, 2])</td>\n",
       "      <td>64:64:64:64:24</td>\n",
       "      <td>84.592</td>\n",
       "      <td>-1</td>\n",
       "      <td>0.020061</td>\n",
       "      <td>70.235065</td>\n",
       "      <td>291705.616526</td>\n",
       "      <td>93.0</td>\n",
       "      <td>0.269074</td>\n",
       "      <td>...</td>\n",
       "      <td>81</td>\n",
       "      <td>291705.617</td>\n",
       "      <td>99.862</td>\n",
       "      <td>0.010108</td>\n",
       "      <td>10.778216</td>\n",
       "      <td>970.039430</td>\n",
       "      <td>In this dict, train-loss/accuracy/time is the ...</td>\n",
       "      <td>RL_DNAGenerator()</td>\n",
       "      <td>cifar10</td>\n",
       "      <td>100</td>\n",
       "    </tr>\n",
       "    <tr>\n",
       "      <th>4</th>\n",
       "      <td>7151</td>\n",
       "      <td>DNA([7, 7, 7, 7, 2])</td>\n",
       "      <td>64:64:64:64:24</td>\n",
       "      <td>84.592</td>\n",
       "      <td>-1</td>\n",
       "      <td>0.020061</td>\n",
       "      <td>70.235065</td>\n",
       "      <td>303331.299581</td>\n",
       "      <td>93.0</td>\n",
       "      <td>0.269074</td>\n",
       "      <td>...</td>\n",
       "      <td>84</td>\n",
       "      <td>303331.300</td>\n",
       "      <td>99.862</td>\n",
       "      <td>0.010108</td>\n",
       "      <td>10.778216</td>\n",
       "      <td>970.039430</td>\n",
       "      <td>In this dict, train-loss/accuracy/time is the ...</td>\n",
       "      <td>RL_DNAGenerator()</td>\n",
       "      <td>cifar10</td>\n",
       "      <td>100</td>\n",
       "    </tr>\n",
       "  </tbody>\n",
       "</table>\n",
       "<p>5 rows × 22 columns</p>\n",
       "</div>"
      ],
      "text/plain": [
       "     id                   dna       cell_spec  val_acc  pred_acc   latency  \\\n",
       "0  6919  DNA([7, 7, 7, 7, 7])  64:64:64:64:64   84.956        -1  0.020403   \n",
       "1  7120  DNA([7, 7, 7, 7, 7])  64:64:64:64:64   84.956        -1  0.020403   \n",
       "2  7167  DNA([7, 7, 7, 7, 7])  64:64:64:64:64   84.956        -1  0.020403   \n",
       "3  6932  DNA([7, 7, 7, 7, 2])  64:64:64:64:24   84.592        -1  0.020061   \n",
       "4  7151  DNA([7, 7, 7, 7, 2])  64:64:64:64:24   84.592        -1  0.020061   \n",
       "\n",
       "   time_cost     total_time  test_acc  test_loss  ...  time_spent_in_hours  \\\n",
       "0  70.035428  291018.409453      93.4   0.253872  ...                   80   \n",
       "1  70.035428  301681.114148      93.4   0.253872  ...                   83   \n",
       "2  70.035428  304204.968086      93.4   0.253872  ...                   84   \n",
       "3  70.235065  291705.616526      93.0   0.269074  ...                   81   \n",
       "4  70.235065  303331.299581      93.0   0.269074  ...                   84   \n",
       "\n",
       "   time_spent_in_secs  train_accuracy  train_loss  train_per_time  \\\n",
       "0          291018.409          99.920    0.007021       10.806808   \n",
       "1          301681.114          99.920    0.007021       10.806808   \n",
       "2          304204.968          99.920    0.007021       10.806808   \n",
       "3          291705.617          99.862    0.010108       10.778216   \n",
       "4          303331.300          99.862    0.010108       10.778216   \n",
       "\n",
       "   train_all_time                                            comment  \\\n",
       "0      972.612677  In this dict, train-loss/accuracy/time is the ...   \n",
       "1      972.612677  In this dict, train-loss/accuracy/time is the ...   \n",
       "2      972.612677  In this dict, train-loss/accuracy/time is the ...   \n",
       "3      970.039430  In this dict, train-loss/accuracy/time is the ...   \n",
       "4      970.039430  In this dict, train-loss/accuracy/time is the ...   \n",
       "\n",
       "           algorithm  dataset max_train_hours  \n",
       "0  RL_DNAGenerator()  cifar10             100  \n",
       "1  RL_DNAGenerator()  cifar10             100  \n",
       "2  RL_DNAGenerator()  cifar10             100  \n",
       "3  RL_DNAGenerator()  cifar10             100  \n",
       "4  RL_DNAGenerator()  cifar10             100  \n",
       "\n",
       "[5 rows x 22 columns]"
      ]
     },
     "execution_count": 10,
     "metadata": {},
     "output_type": "execute_result"
    }
   ],
   "source": [
    "sss_cifar10_df.head()"
   ]
  },
  {
   "cell_type": "code",
   "execution_count": 24,
   "id": "2e1c4b6a-1d50-4208-86c9-11faf7585b07",
   "metadata": {
    "tags": []
   },
   "outputs": [
    {
     "data": {
      "text/html": [
       "<div>\n",
       "<style scoped>\n",
       "    .dataframe tbody tr th:only-of-type {\n",
       "        vertical-align: middle;\n",
       "    }\n",
       "\n",
       "    .dataframe tbody tr th {\n",
       "        vertical-align: top;\n",
       "    }\n",
       "\n",
       "    .dataframe thead th {\n",
       "        text-align: right;\n",
       "    }\n",
       "</style>\n",
       "<table border=\"1\" class=\"dataframe\">\n",
       "  <thead>\n",
       "    <tr style=\"text-align: right;\">\n",
       "      <th></th>\n",
       "      <th>id</th>\n",
       "      <th>dna</th>\n",
       "      <th>pred_acc</th>\n",
       "      <th>train_accuracy</th>\n",
       "      <th>val_acc</th>\n",
       "      <th>test_acc</th>\n",
       "    </tr>\n",
       "  </thead>\n",
       "  <tbody>\n",
       "    <tr>\n",
       "      <th>0</th>\n",
       "      <td>6919</td>\n",
       "      <td>DNA([7, 7, 7, 7, 7])</td>\n",
       "      <td>-1</td>\n",
       "      <td>99.92</td>\n",
       "      <td>84.956</td>\n",
       "      <td>93.4</td>\n",
       "    </tr>\n",
       "  </tbody>\n",
       "</table>\n",
       "</div>"
      ],
      "text/plain": [
       "     id                   dna  pred_acc  train_accuracy  val_acc  test_acc\n",
       "0  6919  DNA([7, 7, 7, 7, 7])        -1           99.92   84.956      93.4"
      ]
     },
     "metadata": {},
     "output_type": "display_data"
    },
    {
     "data": {
      "text/html": [
       "<div>\n",
       "<style scoped>\n",
       "    .dataframe tbody tr th:only-of-type {\n",
       "        vertical-align: middle;\n",
       "    }\n",
       "\n",
       "    .dataframe tbody tr th {\n",
       "        vertical-align: top;\n",
       "    }\n",
       "\n",
       "    .dataframe thead th {\n",
       "        text-align: right;\n",
       "    }\n",
       "</style>\n",
       "<table border=\"1\" class=\"dataframe\">\n",
       "  <thead>\n",
       "    <tr style=\"text-align: right;\">\n",
       "      <th></th>\n",
       "      <th>id</th>\n",
       "      <th>dna</th>\n",
       "      <th>pred_acc</th>\n",
       "      <th>train_accuracy</th>\n",
       "      <th>val_acc</th>\n",
       "      <th>test_acc</th>\n",
       "    </tr>\n",
       "  </thead>\n",
       "  <tbody>\n",
       "    <tr>\n",
       "      <th>0</th>\n",
       "      <td>813</td>\n",
       "      <td>DNA([7, 7, 7, 7, 7])</td>\n",
       "      <td>-1</td>\n",
       "      <td>96.982</td>\n",
       "      <td>61.06</td>\n",
       "      <td>70.72</td>\n",
       "    </tr>\n",
       "  </tbody>\n",
       "</table>\n",
       "</div>"
      ],
      "text/plain": [
       "    id                   dna  pred_acc  train_accuracy  val_acc  test_acc\n",
       "0  813  DNA([7, 7, 7, 7, 7])        -1          96.982    61.06     70.72"
      ]
     },
     "metadata": {},
     "output_type": "display_data"
    },
    {
     "data": {
      "text/html": [
       "<div>\n",
       "<style scoped>\n",
       "    .dataframe tbody tr th:only-of-type {\n",
       "        vertical-align: middle;\n",
       "    }\n",
       "\n",
       "    .dataframe tbody tr th {\n",
       "        vertical-align: top;\n",
       "    }\n",
       "\n",
       "    .dataframe thead th {\n",
       "        text-align: right;\n",
       "    }\n",
       "</style>\n",
       "<table border=\"1\" class=\"dataframe\">\n",
       "  <thead>\n",
       "    <tr style=\"text-align: right;\">\n",
       "      <th></th>\n",
       "      <th>id</th>\n",
       "      <th>dna</th>\n",
       "      <th>pred_acc</th>\n",
       "      <th>train_accuracy</th>\n",
       "      <th>val_acc</th>\n",
       "      <th>test_acc</th>\n",
       "    </tr>\n",
       "  </thead>\n",
       "  <tbody>\n",
       "    <tr>\n",
       "      <th>0</th>\n",
       "      <td>2388</td>\n",
       "      <td>DNA([6, 5, 5, 6, 5])</td>\n",
       "      <td>-1</td>\n",
       "      <td>52.39354</td>\n",
       "      <td>36.366667</td>\n",
       "      <td>44.5</td>\n",
       "    </tr>\n",
       "  </tbody>\n",
       "</table>\n",
       "</div>"
      ],
      "text/plain": [
       "     id                   dna  pred_acc  train_accuracy    val_acc  test_acc\n",
       "0  2388  DNA([6, 5, 5, 6, 5])        -1        52.39354  36.366667      44.5"
      ]
     },
     "metadata": {},
     "output_type": "display_data"
    }
   ],
   "source": [
    "get_best_arch(sss_cifar10_df,  'cifar10')\n",
    "get_best_arch(sss_cifar100_df, 'cifar100')\n",
    "get_best_arch(sss_imagenet_df, 'ImageNet16-120')"
   ]
  },
  {
   "cell_type": "markdown",
   "id": "2526f0e6-86b2-452e-9a12-b2bae93e7766",
   "metadata": {
    "tags": []
   },
   "source": [
    "## TSS - Search Space"
   ]
  },
  {
   "cell_type": "code",
   "execution_count": 14,
   "id": "ae662d9b-36b5-4721-9a1e-726a40fe8baa",
   "metadata": {
    "tags": []
   },
   "outputs": [],
   "source": [
    "tss_cifar10_df  = pd.read_csv('./results/zoph_lstm/tss/rl_100h_cifar10.csv')\n",
    "tss_cifar100_df = pd.read_csv('./results/zoph_lstm/tss/rl_100h_cifar100.csv')\n",
    "tss_imagenet_df = pd.read_csv('./results/zoph_lstm/tss/rl_100h_ImageNet16-120.csv')"
   ]
  },
  {
   "cell_type": "code",
   "execution_count": 25,
   "id": "1d0717f6-5bdf-4901-8df1-d405a9fac890",
   "metadata": {
    "tags": []
   },
   "outputs": [
    {
     "data": {
      "text/html": [
       "<div>\n",
       "<style scoped>\n",
       "    .dataframe tbody tr th:only-of-type {\n",
       "        vertical-align: middle;\n",
       "    }\n",
       "\n",
       "    .dataframe tbody tr th {\n",
       "        vertical-align: top;\n",
       "    }\n",
       "\n",
       "    .dataframe thead th {\n",
       "        text-align: right;\n",
       "    }\n",
       "</style>\n",
       "<table border=\"1\" class=\"dataframe\">\n",
       "  <thead>\n",
       "    <tr style=\"text-align: right;\">\n",
       "      <th></th>\n",
       "      <th>id</th>\n",
       "      <th>dna</th>\n",
       "      <th>pred_acc</th>\n",
       "      <th>train_accuracy</th>\n",
       "      <th>val_acc</th>\n",
       "      <th>test_acc</th>\n",
       "    </tr>\n",
       "  </thead>\n",
       "  <tbody>\n",
       "    <tr>\n",
       "      <th>0</th>\n",
       "      <td>1666</td>\n",
       "      <td>DNA([2, 4, 3, 1, 4, 2])</td>\n",
       "      <td>-1</td>\n",
       "      <td>99.858</td>\n",
       "      <td>80.712</td>\n",
       "      <td>92.27</td>\n",
       "    </tr>\n",
       "  </tbody>\n",
       "</table>\n",
       "</div>"
      ],
      "text/plain": [
       "     id                      dna  pred_acc  train_accuracy  val_acc  test_acc\n",
       "0  1666  DNA([2, 4, 3, 1, 4, 2])        -1          99.858   80.712     92.27"
      ]
     },
     "metadata": {},
     "output_type": "display_data"
    },
    {
     "data": {
      "text/html": [
       "<div>\n",
       "<style scoped>\n",
       "    .dataframe tbody tr th:only-of-type {\n",
       "        vertical-align: middle;\n",
       "    }\n",
       "\n",
       "    .dataframe tbody tr th {\n",
       "        vertical-align: top;\n",
       "    }\n",
       "\n",
       "    .dataframe thead th {\n",
       "        text-align: right;\n",
       "    }\n",
       "</style>\n",
       "<table border=\"1\" class=\"dataframe\">\n",
       "  <thead>\n",
       "    <tr style=\"text-align: right;\">\n",
       "      <th></th>\n",
       "      <th>id</th>\n",
       "      <th>dna</th>\n",
       "      <th>pred_acc</th>\n",
       "      <th>train_accuracy</th>\n",
       "      <th>val_acc</th>\n",
       "      <th>test_acc</th>\n",
       "    </tr>\n",
       "  </thead>\n",
       "  <tbody>\n",
       "    <tr>\n",
       "      <th>0</th>\n",
       "      <td>1731</td>\n",
       "      <td>DNA([0, 1, 0, 3, 0, 1])</td>\n",
       "      <td>-1</td>\n",
       "      <td>91.348</td>\n",
       "      <td>54.76</td>\n",
       "      <td>67.02</td>\n",
       "    </tr>\n",
       "  </tbody>\n",
       "</table>\n",
       "</div>"
      ],
      "text/plain": [
       "     id                      dna  pred_acc  train_accuracy  val_acc  test_acc\n",
       "0  1731  DNA([0, 1, 0, 3, 0, 1])        -1          91.348    54.76     67.02"
      ]
     },
     "metadata": {},
     "output_type": "display_data"
    },
    {
     "data": {
      "text/html": [
       "<div>\n",
       "<style scoped>\n",
       "    .dataframe tbody tr th:only-of-type {\n",
       "        vertical-align: middle;\n",
       "    }\n",
       "\n",
       "    .dataframe tbody tr th {\n",
       "        vertical-align: top;\n",
       "    }\n",
       "\n",
       "    .dataframe thead th {\n",
       "        text-align: right;\n",
       "    }\n",
       "</style>\n",
       "<table border=\"1\" class=\"dataframe\">\n",
       "  <thead>\n",
       "    <tr style=\"text-align: right;\">\n",
       "      <th></th>\n",
       "      <th>id</th>\n",
       "      <th>dna</th>\n",
       "      <th>pred_acc</th>\n",
       "      <th>train_accuracy</th>\n",
       "      <th>val_acc</th>\n",
       "      <th>test_acc</th>\n",
       "    </tr>\n",
       "  </thead>\n",
       "  <tbody>\n",
       "    <tr>\n",
       "      <th>0</th>\n",
       "      <td>85</td>\n",
       "      <td>DNA([2, 2, 2, 1, 0, 3])</td>\n",
       "      <td>-1</td>\n",
       "      <td>55.348055</td>\n",
       "      <td>34.766667</td>\n",
       "      <td>44.066667</td>\n",
       "    </tr>\n",
       "  </tbody>\n",
       "</table>\n",
       "</div>"
      ],
      "text/plain": [
       "   id                      dna  pred_acc  train_accuracy    val_acc   test_acc\n",
       "0  85  DNA([2, 2, 2, 1, 0, 3])        -1       55.348055  34.766667  44.066667"
      ]
     },
     "metadata": {},
     "output_type": "display_data"
    }
   ],
   "source": [
    "get_best_arch(tss_cifar10_df, 'cifar10')\n",
    "get_best_arch(tss_cifar100_df, 'cifar100')\n",
    "get_best_arch(tss_imagenet_df, 'ImageNet16-120')"
   ]
  },
  {
   "cell_type": "markdown",
   "id": "ddf8f3a4-899a-409a-b8df-277dad6c598b",
   "metadata": {},
   "source": [
    "# Results Analysis"
   ]
  },
  {
   "cell_type": "markdown",
   "id": "8d379ad3-bda1-4576-9ec5-24aa53d2f086",
   "metadata": {},
   "source": [
    "Before ==> melhor configuração da grid_search para o search space + dataset\n",
    "After  ==> configuração após grid_search com abordagem de probabilidade\n",
    "Zoph   ==> experimentos realizados com configuração de paper de Zoph (2017)\n",
    "\n",
    "\n",
    "**SSS**:\n",
    "\n",
    "* Cifar-10\n",
    "  * Before: 85.02% val_acc / ID = 354\n",
    "  * After:  82.80% val_acc / ID = 638\n",
    "  * Zoph:   84.95% val_acc / ID = 6919\n",
    "\n",
    "* Cifar-100\n",
    "  * Before: 61.06% val_acc / ID = 105 \n",
    "  * After:  58.64% val_acc / ID = 1494\n",
    "  * Zoph:   61.06% val_acc / ID = 813\n",
    "\n",
    "* ImageNet16-120\n",
    "  * Before: 39.33% val_acc / ID = 54\n",
    "  * After:  38.13% val_acc / ID = 108\n",
    "  * Zoph:   36.36% val_acc / ID = 2388\n",
    "  \n",
    "**TSS**:\n",
    "\n",
    "* Cifar-10\n",
    "  - Before: 84.96% val_acc / ID = 127\n",
    "  - After:  83.50% val_acc / ID = 5712 \n",
    "  - Zoph:   80.71% val_acc / ID = 1666\n",
    "\n",
    "* Cifar-100\n",
    "  - Before: 61.32% val_acc / ID = 2204\n",
    "  - After:  58.64% val_acc / ID = 1494\n",
    "  - Zoph:   54.76% val_acc / ID = 1731\n",
    "\n",
    "* ImageNet16-120\n",
    "  - Before: 37.63% val_acc / ID = 20\n",
    "  - After:  27.90% val_acc / ID = 624\n",
    "  - Zoph:   34.76% val_acc / ID = 85"
   ]
  }
 ],
 "metadata": {
  "kernelspec": {
   "display_name": "Python 3 (ipykernel)",
   "language": "python",
   "name": "python3"
  },
  "language_info": {
   "codemirror_mode": {
    "name": "ipython",
    "version": 3
   },
   "file_extension": ".py",
   "mimetype": "text/x-python",
   "name": "python",
   "nbconvert_exporter": "python",
   "pygments_lexer": "ipython3",
   "version": "3.8.0"
  }
 },
 "nbformat": 4,
 "nbformat_minor": 5
}

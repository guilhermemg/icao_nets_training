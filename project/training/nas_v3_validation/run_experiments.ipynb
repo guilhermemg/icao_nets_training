{
 "cells": [
  {
   "cell_type": "markdown",
   "metadata": {},
   "source": [
    "# Introduction\n",
    "\n",
    "Notebook para avaliação de NAS-v3 com dataset NATS-Bench-201."
   ]
  },
  {
   "cell_type": "markdown",
   "metadata": {
    "tags": []
   },
   "source": [
    "# Import Libraries"
   ]
  },
  {
   "cell_type": "code",
   "execution_count": 1,
   "metadata": {
    "tags": []
   },
   "outputs": [],
   "source": [
    "%load_ext autoreload\n",
    "%autoreload 2"
   ]
  },
  {
   "cell_type": "code",
   "execution_count": 2,
   "metadata": {
    "tags": []
   },
   "outputs": [],
   "source": [
    "import os\n",
    "# disable tensorflow log level infos\n",
    "os.environ['TF_CPP_MIN_LOG_LEVEL'] = '2' # show only errors"
   ]
  },
  {
   "cell_type": "code",
   "execution_count": 3,
   "metadata": {},
   "outputs": [],
   "source": [
    "from IPython.display import clear_output\n",
    "\n",
    "import pandas as pd"
   ]
  },
  {
   "cell_type": "code",
   "execution_count": 4,
   "metadata": {
    "tags": []
   },
   "outputs": [],
   "source": [
    "import sys\n",
    "if '../..' not in sys.path:\n",
    "    sys.path.insert(0, '../..')\n",
    "    \n",
    "from validation_src.val_nas_executor import NASExecutor \n",
    "\n",
    "from src.base.experiment.training.optimizers import Optimizer"
   ]
  },
  {
   "cell_type": "code",
   "execution_count": 5,
   "metadata": {
    "tags": []
   },
   "outputs": [
    {
     "name": "stdout",
     "output_type": "stream",
     "text": [
      " ==> Restrict GPU memory growth: True\n"
     ]
    }
   ],
   "source": [
    "## restrict memory growth -------------------\n",
    "import tensorflow as tf\n",
    "physical_devices = tf.config.list_physical_devices('GPU') \n",
    "try:\n",
    "    gpu_0 = physical_devices[0]\n",
    "    tf.config.experimental.set_memory_growth(gpu_0, True) \n",
    "    #tf.config.experimental.set_virtual_device_configuration(gpu_0, [tf.config.experimental.VirtualDeviceConfiguration(memory_limit=6500)])\n",
    "    print(' ==> Restrict GPU memory growth: True')\n",
    "except: \n",
    "    raise Exception(\"Invalid device or cannot modify virtual devices once initialized.\")\n",
    "## restrict memory growth ------------------- "
   ]
  },
  {
   "cell_type": "markdown",
   "metadata": {},
   "source": [
    "# Run Set of Experiments"
   ]
  },
  {
   "cell_type": "code",
   "execution_count": 6,
   "metadata": {
    "tags": []
   },
   "outputs": [],
   "source": [
    "ss_indicators = ['tss'] #'tss'\n",
    "algos_list = ['rl']  # ,'random','evolution'\n",
    "datasets_list = ['ImageNet16-120','cifar10','cifar100'] #\n",
    "mth_list = [1,10,50,100,200]\n",
    "use_neptune = False\n",
    "exp = 'final'\n",
    "\n",
    "for ss in ss_indicators:\n",
    "    for a in algos_list:\n",
    "        for d in datasets_list:\n",
    "            for mth in mth_list:\n",
    "                executor = NASExecutor(a, d, mth, ss, use_neptune)\n",
    "                sorted_results = executor.test_nas_algo(f'./results/{exp}/{ss}/{a}_{str(mth)}h_{d}.csv')\n",
    "                clear_output()               "
   ]
  },
  {
   "cell_type": "markdown",
   "metadata": {
    "tags": []
   },
   "source": [
    "# Tests NAS ALgorithms - Size Search Space (SSS)"
   ]
  },
  {
   "cell_type": "markdown",
   "metadata": {
    "tags": []
   },
   "source": [
    "## Cifar10"
   ]
  },
  {
   "cell_type": "markdown",
   "metadata": {
    "tags": []
   },
   "source": [
    "### Test with Random Algorithm"
   ]
  },
  {
   "cell_type": "markdown",
   "metadata": {
    "tags": []
   },
   "source": [
    "#### 1 hour"
   ]
  },
  {
   "cell_type": "code",
   "execution_count": 9,
   "metadata": {
    "collapsed": true,
    "jupyter": {
     "outputs_hidden": true
    },
    "tags": []
   },
   "outputs": [
    {
     "name": "stdout",
     "output_type": "stream",
     "text": [
      "--------------------------------------------------------------------------------\n",
      "Preparing NASExecutor:\n",
      "  Algorithm: random\n",
      "  Dataset: cifar10\n",
      "  Max Training Hours: 1\n",
      "  Search Space Indicator: tss\n",
      "[2023-07-13 00:17:21] Try to use the default NATS-Bench (topology) path from fast_mode=True and path=None.\n",
      "  .. Operations: ['none', 'skip_connect', 'nor_conv_1x1', 'nor_conv_3x3', 'avg_pool_3x3']\n",
      "  .. Nodes: 4\n",
      "Total time elapse: 0.8537559509277344 seconds.\n",
      "--------------------------------------------------------------------------------\n",
      "Total evaluated architectures: 31\n",
      "Total time spent:              0 hours\n",
      "Best model found:              |nor_conv_1x1~0|+|none~0|nor_conv_1x1~1|+|skip_connect~0|avg_pool_3x3~1|nor_conv_3x3~2|\n",
      "Best model DNA:                DNA([2, 0, 2, 1, 4, 3])\n",
      "Validation accuracy:           81.52000001464843\n",
      "Test accuracy:                 92.39\n",
      "--------------------------------------------------------------------------------\n"
     ]
    },
    {
     "name": "stderr",
     "output_type": "stream",
     "text": [
      "/home/guilherme/projects/doutorado/mteval-icao-reqs/submodules/icao_nets_training/project/training/nas_v3_validation/validation_src/val_nas_executor.py:238: NeptuneWarning: To avoid unintended consumption of logging hours during interactive sessions, the following monitoring options are disabled unless set to 'True' when initializing the run: 'capture_stdout', 'capture_stderr', and 'capture_hardware_metrics'.\n",
      "  run = neptune.init_run(name='NAS with NATS and SSS',\n"
     ]
    },
    {
     "name": "stdout",
     "output_type": "stream",
     "text": [
      "https://app.neptune.ai/guilhermemg/nas-v3/e/NAS-103\n",
      "Shutting down background jobs, please wait a moment...\n",
      "Done!\n",
      "Waiting for the remaining 468 operations to synchronize with Neptune. Do not kill this process.\n",
      "All 468 operations synced, thanks for waiting!\n",
      "Explore the metadata in the Neptune app:\n",
      "https://app.neptune.ai/guilhermemg/nas-v3/e/NAS-103/metadata\n",
      "Search completed.\n",
      "--------------------------------------------------------------------------------\n"
     ]
    },
    {
     "data": {
      "text/html": [
       "<div>\n",
       "<style scoped>\n",
       "    .dataframe tbody tr th:only-of-type {\n",
       "        vertical-align: middle;\n",
       "    }\n",
       "\n",
       "    .dataframe tbody tr th {\n",
       "        vertical-align: top;\n",
       "    }\n",
       "\n",
       "    .dataframe thead th {\n",
       "        text-align: right;\n",
       "    }\n",
       "</style>\n",
       "<table border=\"1\" class=\"dataframe\">\n",
       "  <thead>\n",
       "    <tr style=\"text-align: right;\">\n",
       "      <th></th>\n",
       "      <th>id</th>\n",
       "      <th>dna</th>\n",
       "      <th>cell_spec</th>\n",
       "      <th>val_acc</th>\n",
       "      <th>latency</th>\n",
       "      <th>time_cost</th>\n",
       "      <th>total_time</th>\n",
       "      <th>test_acc</th>\n",
       "      <th>test_loss</th>\n",
       "      <th>test_per_time</th>\n",
       "      <th>...</th>\n",
       "      <th>time_spent_in_hours</th>\n",
       "      <th>time_spent_in_secs</th>\n",
       "      <th>train_accuracy</th>\n",
       "      <th>train_loss</th>\n",
       "      <th>train_per_time</th>\n",
       "      <th>train_all_time</th>\n",
       "      <th>comment</th>\n",
       "      <th>algorithm</th>\n",
       "      <th>dataset</th>\n",
       "      <th>max_train_hours</th>\n",
       "    </tr>\n",
       "  </thead>\n",
       "  <tbody>\n",
       "    <tr>\n",
       "      <th>8</th>\n",
       "      <td>9</td>\n",
       "      <td>DNA([2, 0, 2, 1, 4, 3])</td>\n",
       "      <td>|nor_conv_1x1~0|+|none~0|nor_conv_1x1~1|+|skip...</td>\n",
       "      <td>81.520</td>\n",
       "      <td>0.017940</td>\n",
       "      <td>123.290374</td>\n",
       "      <td>907.051306</td>\n",
       "      <td>92.39</td>\n",
       "      <td>0.311796</td>\n",
       "      <td>1.295413</td>\n",
       "      <td>...</td>\n",
       "      <td>0</td>\n",
       "      <td>907.051</td>\n",
       "      <td>99.828</td>\n",
       "      <td>0.009845</td>\n",
       "      <td>20.008640</td>\n",
       "      <td>4001.728082</td>\n",
       "      <td>In this dict, train-loss/accuracy/time is the ...</td>\n",
       "      <td>Random(\\n  seed = None\\n)</td>\n",
       "      <td>cifar10</td>\n",
       "      <td>1</td>\n",
       "    </tr>\n",
       "    <tr>\n",
       "      <th>7</th>\n",
       "      <td>8</td>\n",
       "      <td>DNA([1, 2, 2, 1, 3, 4])</td>\n",
       "      <td>|skip_connect~0|+|nor_conv_1x1~0|nor_conv_1x1~...</td>\n",
       "      <td>81.096</td>\n",
       "      <td>0.017405</td>\n",
       "      <td>118.003582</td>\n",
       "      <td>783.760932</td>\n",
       "      <td>92.11</td>\n",
       "      <td>0.307300</td>\n",
       "      <td>1.274225</td>\n",
       "      <td>...</td>\n",
       "      <td>0</td>\n",
       "      <td>783.761</td>\n",
       "      <td>99.750</td>\n",
       "      <td>0.013166</td>\n",
       "      <td>19.136337</td>\n",
       "      <td>3827.267345</td>\n",
       "      <td>In this dict, train-loss/accuracy/time is the ...</td>\n",
       "      <td>Random(\\n  seed = None\\n)</td>\n",
       "      <td>cifar10</td>\n",
       "      <td>1</td>\n",
       "    </tr>\n",
       "    <tr>\n",
       "      <th>12</th>\n",
       "      <td>13</td>\n",
       "      <td>DNA([0, 0, 4, 3, 3, 4])</td>\n",
       "      <td>|none~0|+|none~0|avg_pool_3x3~1|+|nor_conv_3x3...</td>\n",
       "      <td>77.784</td>\n",
       "      <td>0.015255</td>\n",
       "      <td>122.709889</td>\n",
       "      <td>1329.294601</td>\n",
       "      <td>91.89</td>\n",
       "      <td>0.343630</td>\n",
       "      <td>1.411940</td>\n",
       "      <td>...</td>\n",
       "      <td>0</td>\n",
       "      <td>1329.295</td>\n",
       "      <td>99.750</td>\n",
       "      <td>0.012569</td>\n",
       "      <td>19.863340</td>\n",
       "      <td>3972.667980</td>\n",
       "      <td>In this dict, train-loss/accuracy/time is the ...</td>\n",
       "      <td>Random(\\n  seed = None\\n)</td>\n",
       "      <td>cifar10</td>\n",
       "      <td>1</td>\n",
       "    </tr>\n",
       "    <tr>\n",
       "      <th>25</th>\n",
       "      <td>26</td>\n",
       "      <td>DNA([2, 3, 4, 3, 0, 0])</td>\n",
       "      <td>|nor_conv_1x1~0|+|nor_conv_3x3~0|avg_pool_3x3~...</td>\n",
       "      <td>75.960</td>\n",
       "      <td>0.018286</td>\n",
       "      <td>129.946872</td>\n",
       "      <td>2914.553638</td>\n",
       "      <td>91.85</td>\n",
       "      <td>0.348913</td>\n",
       "      <td>1.410117</td>\n",
       "      <td>...</td>\n",
       "      <td>0</td>\n",
       "      <td>2914.554</td>\n",
       "      <td>99.772</td>\n",
       "      <td>0.011703</td>\n",
       "      <td>21.070263</td>\n",
       "      <td>4214.052677</td>\n",
       "      <td>In this dict, train-loss/accuracy/time is the ...</td>\n",
       "      <td>Random(\\n  seed = None\\n)</td>\n",
       "      <td>cifar10</td>\n",
       "      <td>1</td>\n",
       "    </tr>\n",
       "    <tr>\n",
       "      <th>26</th>\n",
       "      <td>27</td>\n",
       "      <td>DNA([3, 2, 1, 4, 2, 1])</td>\n",
       "      <td>|nor_conv_3x3~0|+|nor_conv_1x1~0|skip_connect~...</td>\n",
       "      <td>75.688</td>\n",
       "      <td>0.017142</td>\n",
       "      <td>114.534012</td>\n",
       "      <td>3029.087650</td>\n",
       "      <td>92.55</td>\n",
       "      <td>0.357250</td>\n",
       "      <td>1.160168</td>\n",
       "      <td>...</td>\n",
       "      <td>0</td>\n",
       "      <td>3029.088</td>\n",
       "      <td>99.854</td>\n",
       "      <td>0.006556</td>\n",
       "      <td>18.605598</td>\n",
       "      <td>3721.119690</td>\n",
       "      <td>In this dict, train-loss/accuracy/time is the ...</td>\n",
       "      <td>Random(\\n  seed = None\\n)</td>\n",
       "      <td>cifar10</td>\n",
       "      <td>1</td>\n",
       "    </tr>\n",
       "  </tbody>\n",
       "</table>\n",
       "<p>5 rows × 21 columns</p>\n",
       "</div>"
      ],
      "text/plain": [
       "    id                      dna  \\\n",
       "8    9  DNA([2, 0, 2, 1, 4, 3])   \n",
       "7    8  DNA([1, 2, 2, 1, 3, 4])   \n",
       "12  13  DNA([0, 0, 4, 3, 3, 4])   \n",
       "25  26  DNA([2, 3, 4, 3, 0, 0])   \n",
       "26  27  DNA([3, 2, 1, 4, 2, 1])   \n",
       "\n",
       "                                            cell_spec  val_acc   latency  \\\n",
       "8   |nor_conv_1x1~0|+|none~0|nor_conv_1x1~1|+|skip...   81.520  0.017940   \n",
       "7   |skip_connect~0|+|nor_conv_1x1~0|nor_conv_1x1~...   81.096  0.017405   \n",
       "12  |none~0|+|none~0|avg_pool_3x3~1|+|nor_conv_3x3...   77.784  0.015255   \n",
       "25  |nor_conv_1x1~0|+|nor_conv_3x3~0|avg_pool_3x3~...   75.960  0.018286   \n",
       "26  |nor_conv_3x3~0|+|nor_conv_1x1~0|skip_connect~...   75.688  0.017142   \n",
       "\n",
       "     time_cost   total_time  test_acc  test_loss  test_per_time  ...  \\\n",
       "8   123.290374   907.051306     92.39   0.311796       1.295413  ...   \n",
       "7   118.003582   783.760932     92.11   0.307300       1.274225  ...   \n",
       "12  122.709889  1329.294601     91.89   0.343630       1.411940  ...   \n",
       "25  129.946872  2914.553638     91.85   0.348913       1.410117  ...   \n",
       "26  114.534012  3029.087650     92.55   0.357250       1.160168  ...   \n",
       "\n",
       "    time_spent_in_hours time_spent_in_secs  train_accuracy  train_loss  \\\n",
       "8                     0            907.051          99.828    0.009845   \n",
       "7                     0            783.761          99.750    0.013166   \n",
       "12                    0           1329.295          99.750    0.012569   \n",
       "25                    0           2914.554          99.772    0.011703   \n",
       "26                    0           3029.088          99.854    0.006556   \n",
       "\n",
       "    train_per_time  train_all_time  \\\n",
       "8        20.008640     4001.728082   \n",
       "7        19.136337     3827.267345   \n",
       "12       19.863340     3972.667980   \n",
       "25       21.070263     4214.052677   \n",
       "26       18.605598     3721.119690   \n",
       "\n",
       "                                              comment  \\\n",
       "8   In this dict, train-loss/accuracy/time is the ...   \n",
       "7   In this dict, train-loss/accuracy/time is the ...   \n",
       "12  In this dict, train-loss/accuracy/time is the ...   \n",
       "25  In this dict, train-loss/accuracy/time is the ...   \n",
       "26  In this dict, train-loss/accuracy/time is the ...   \n",
       "\n",
       "                    algorithm  dataset max_train_hours  \n",
       "8   Random(\\n  seed = None\\n)  cifar10               1  \n",
       "7   Random(\\n  seed = None\\n)  cifar10               1  \n",
       "12  Random(\\n  seed = None\\n)  cifar10               1  \n",
       "25  Random(\\n  seed = None\\n)  cifar10               1  \n",
       "26  Random(\\n  seed = None\\n)  cifar10               1  \n",
       "\n",
       "[5 rows x 21 columns]"
      ]
     },
     "execution_count": 9,
     "metadata": {},
     "output_type": "execute_result"
    }
   ],
   "source": [
    "ss_indicator = 'tss'\n",
    "algo_name = 'random'\n",
    "dataset = 'cifar10'\n",
    "max_train_hours = 1\n",
    "\n",
    "executor = NASExecutor(algo_name, dataset, max_train_hours, ss_indicator)\n",
    "\n",
    "sorted_results = executor.test_nas_algo()\n",
    "sorted_results.head()\n",
    "\n",
    "#executor.save_report(sorted_results_rnd, f'data/{algo_name}_{max_train_hours}h_{dataset}.csv')"
   ]
  },
  {
   "cell_type": "markdown",
   "metadata": {
    "tags": []
   },
   "source": [
    "#### 10 hours"
   ]
  },
  {
   "cell_type": "code",
   "execution_count": 8,
   "metadata": {
    "collapsed": true,
    "jupyter": {
     "outputs_hidden": true
    },
    "tags": []
   },
   "outputs": [
    {
     "name": "stdout",
     "output_type": "stream",
     "text": [
      "[2023-07-05 00:50:29] Try to use the default NATS-Bench (size) path from fast_mode=True and path=None.\n",
      "Candidates: [8, 16, 24, 32, 40, 48, 56, 64]\n",
      "Tried 100 models, valid 100, time_spent_in_hours: 1h, time_spent_in_secs: 5332.785s, elapse since last report: 3.167s.\n",
      "Tried 200 models, valid 200, time_spent_in_hours: 2h, time_spent_in_secs: 10579.699s, elapse since last report: 7.647s.\n",
      "Tried 300 models, valid 300, time_spent_in_hours: 4h, time_spent_in_secs: 15846.698s, elapse since last report: 3.654s.\n",
      "Tried 400 models, valid 400, time_spent_in_hours: 5h, time_spent_in_secs: 20952.365s, elapse since last report: 1.918s.\n",
      "Tried 500 models, valid 500, time_spent_in_hours: 7h, time_spent_in_secs: 26299.739s, elapse since last report: 1.755s.\n",
      "Tried 600 models, valid 600, time_spent_in_hours: 8h, time_spent_in_secs: 31517.087s, elapse since last report: 1.769s.\n",
      "Total time elapse: 21.58799457550049 seconds.\n",
      "--------------------------------------------------------------------------------\n",
      "Total evaluated architectures: 685\n",
      "Total time spent:              3 hours\n",
      "Best model found:              48:64:64:56:48\n",
      "Best model DNA:                DNA([5, 7, 7, 6, 5])\n",
      "Validation accuracy:           84.34399997558593\n",
      "Test accuracy:                 92.73\n",
      "--------------------------------------------------------------------------------\n"
     ]
    }
   ],
   "source": [
    "ss_indicator = 'sss'\n",
    "algo_name = 'random'\n",
    "dataset = 'cifar10'\n",
    "max_train_hours = 10\n",
    "\n",
    "executor = NASExecutor(algo_name, dataset, max_train_hours, ss_indicator)\n",
    "\n",
    "sorted_results_rnd = executor.test_nas_algo()\n",
    "#sorted_results_rnd.head()\n",
    "\n",
    "#executor.save_report(sorted_results_rnd, f'data/{algo_name}_{max_train_hours}h_{dataset}.csv')"
   ]
  },
  {
   "cell_type": "markdown",
   "metadata": {
    "tags": []
   },
   "source": [
    "#### 50 hours"
   ]
  },
  {
   "cell_type": "code",
   "execution_count": 9,
   "metadata": {
    "collapsed": true,
    "jupyter": {
     "outputs_hidden": true
    },
    "tags": []
   },
   "outputs": [
    {
     "name": "stdout",
     "output_type": "stream",
     "text": [
      "[2023-07-05 00:50:50] Try to use the default NATS-Bench (size) path from fast_mode=True and path=None.\n",
      "Candidates: [8, 16, 24, 32, 40, 48, 56, 64]\n",
      "Tried 100 models, valid 100, time_spent_in_hours: 1h, time_spent_in_secs: 5370.005s, elapse since last report: 1.918s.\n",
      "Tried 200 models, valid 200, time_spent_in_hours: 2h, time_spent_in_secs: 10639.11s, elapse since last report: 1.775s.\n",
      "Tried 300 models, valid 300, time_spent_in_hours: 4h, time_spent_in_secs: 15904.222s, elapse since last report: 1.949s.\n",
      "Tried 400 models, valid 400, time_spent_in_hours: 5h, time_spent_in_secs: 21109.48s, elapse since last report: 1.884s.\n",
      "Tried 500 models, valid 500, time_spent_in_hours: 7h, time_spent_in_secs: 26526.803s, elapse since last report: 1.722s.\n",
      "Tried 600 models, valid 600, time_spent_in_hours: 8h, time_spent_in_secs: 31785.054s, elapse since last report: 1.756s.\n",
      "Tried 700 models, valid 700, time_spent_in_hours: 10h, time_spent_in_secs: 37007.997s, elapse since last report: 2.414s.\n",
      "Tried 800 models, valid 800, time_spent_in_hours: 11h, time_spent_in_secs: 42295.752s, elapse since last report: 1.779s.\n",
      "Tried 900 models, valid 900, time_spent_in_hours: 13h, time_spent_in_secs: 47467.489s, elapse since last report: 1.789s.\n",
      "Tried 1000 models, valid 1000, time_spent_in_hours: 14h, time_spent_in_secs: 52677.627s, elapse since last report: 1.925s.\n",
      "Tried 1100 models, valid 1100, time_spent_in_hours: 16h, time_spent_in_secs: 58004.059s, elapse since last report: 2.095s.\n",
      "Tried 1200 models, valid 1200, time_spent_in_hours: 17h, time_spent_in_secs: 63218.198s, elapse since last report: 1.8s.\n",
      "Tried 1300 models, valid 1300, time_spent_in_hours: 19h, time_spent_in_secs: 68537.298s, elapse since last report: 1.755s.\n",
      "Tried 1400 models, valid 1400, time_spent_in_hours: 20h, time_spent_in_secs: 73888.773s, elapse since last report: 1.809s.\n",
      "Tried 1500 models, valid 1500, time_spent_in_hours: 22h, time_spent_in_secs: 79200.541s, elapse since last report: 1.997s.\n",
      "Tried 1600 models, valid 1600, time_spent_in_hours: 23h, time_spent_in_secs: 84567.579s, elapse since last report: 2.42s.\n",
      "Tried 1700 models, valid 1700, time_spent_in_hours: 24h, time_spent_in_secs: 89934.381s, elapse since last report: 1.92s.\n",
      "Tried 1800 models, valid 1800, time_spent_in_hours: 26h, time_spent_in_secs: 95135.952s, elapse since last report: 1.852s.\n",
      "Tried 1900 models, valid 1900, time_spent_in_hours: 27h, time_spent_in_secs: 100414.923s, elapse since last report: 1.925s.\n",
      "Tried 2000 models, valid 2000, time_spent_in_hours: 29h, time_spent_in_secs: 105788.582s, elapse since last report: 2.091s.\n",
      "Tried 2100 models, valid 2100, time_spent_in_hours: 30h, time_spent_in_secs: 111079.485s, elapse since last report: 3.627s.\n",
      "Tried 2200 models, valid 2200, time_spent_in_hours: 32h, time_spent_in_secs: 116041.7s, elapse since last report: 1.907s.\n",
      "Tried 2300 models, valid 2300, time_spent_in_hours: 33h, time_spent_in_secs: 121265.814s, elapse since last report: 2.235s.\n",
      "Tried 2400 models, valid 2400, time_spent_in_hours: 35h, time_spent_in_secs: 126618.496s, elapse since last report: 1.864s.\n",
      "Tried 2500 models, valid 2500, time_spent_in_hours: 36h, time_spent_in_secs: 131863.299s, elapse since last report: 1.978s.\n",
      "Tried 2600 models, valid 2600, time_spent_in_hours: 38h, time_spent_in_secs: 136996.968s, elapse since last report: 2.021s.\n",
      "Tried 2700 models, valid 2700, time_spent_in_hours: 39h, time_spent_in_secs: 142322.278s, elapse since last report: 1.858s.\n",
      "Tried 2800 models, valid 2800, time_spent_in_hours: 41h, time_spent_in_secs: 147649.259s, elapse since last report: 1.874s.\n",
      "Tried 2900 models, valid 2900, time_spent_in_hours: 42h, time_spent_in_secs: 152893.617s, elapse since last report: 1.83s.\n",
      "Tried 3000 models, valid 3000, time_spent_in_hours: 43h, time_spent_in_secs: 158143.006s, elapse since last report: 2.31s.\n",
      "Tried 3100 models, valid 3100, time_spent_in_hours: 45h, time_spent_in_secs: 163418.129s, elapse since last report: 1.839s.\n",
      "Tried 3200 models, valid 3200, time_spent_in_hours: 46h, time_spent_in_secs: 168721.928s, elapse since last report: 1.811s.\n",
      "Tried 3300 models, valid 3300, time_spent_in_hours: 48h, time_spent_in_secs: 173993.606s, elapse since last report: 1.784s.\n",
      "Tried 3400 models, valid 3400, time_spent_in_hours: 49h, time_spent_in_secs: 179191.787s, elapse since last report: 1.818s.\n",
      "Total time elapse: 67.62595677375793 seconds.\n",
      "--------------------------------------------------------------------------------\n",
      "Total evaluated architectures: 3415\n",
      "Total time spent:              24 hours\n",
      "Best model found:              64:64:64:56:56\n",
      "Best model DNA:                DNA([7, 7, 7, 6, 6])\n",
      "Validation accuracy:           85.02000001464843\n",
      "Test accuracy:                 93.18\n",
      "--------------------------------------------------------------------------------\n"
     ]
    }
   ],
   "source": [
    "ss_indicator = 'sss'\n",
    "algo_name = 'random'\n",
    "dataset = 'cifar10'\n",
    "max_train_hours = 50\n",
    "\n",
    "executor = NASExecutor(algo_name, dataset, max_train_hours, ss_indicator)\n",
    "\n",
    "sorted_results_rnd = executor.test_nas_algo()\n",
    "#sorted_results_rnd.head()\n",
    "\n",
    "#executor.save_report(sorted_results_rnd, f'data/{algo_name}_{max_train_hours}h_{dataset}.csv')"
   ]
  },
  {
   "cell_type": "markdown",
   "metadata": {
    "tags": []
   },
   "source": [
    "#### 100 hours"
   ]
  },
  {
   "cell_type": "code",
   "execution_count": 36,
   "metadata": {
    "collapsed": true,
    "jupyter": {
     "outputs_hidden": true
    },
    "tags": []
   },
   "outputs": [
    {
     "name": "stdout",
     "output_type": "stream",
     "text": [
      "[2023-07-05 01:54:40] Try to use the default NATS-Bench (size) path from fast_mode=True and path=None.\n",
      "Candidates: [8, 16, 24, 32, 40, 48, 56, 64]\n",
      "Tried 100 models, valid 100, time_spent_in_hours: 1h, time_spent_in_secs: 5261.611s, elapse since last report: 1.804s.\n",
      "Tried 200 models, valid 200, time_spent_in_hours: 2h, time_spent_in_secs: 10474.59s, elapse since last report: 2.132s.\n",
      "Tried 300 models, valid 300, time_spent_in_hours: 4h, time_spent_in_secs: 15836.267s, elapse since last report: 1.753s.\n",
      "Tried 400 models, valid 400, time_spent_in_hours: 5h, time_spent_in_secs: 21175.221s, elapse since last report: 1.766s.\n",
      "Tried 500 models, valid 500, time_spent_in_hours: 7h, time_spent_in_secs: 26565.04s, elapse since last report: 1.752s.\n",
      "Tried 600 models, valid 600, time_spent_in_hours: 8h, time_spent_in_secs: 31913.082s, elapse since last report: 1.748s.\n",
      "Tried 700 models, valid 700, time_spent_in_hours: 10h, time_spent_in_secs: 37135.893s, elapse since last report: 1.763s.\n",
      "Tried 800 models, valid 800, time_spent_in_hours: 11h, time_spent_in_secs: 42188.075s, elapse since last report: 2.202s.\n",
      "Tried 900 models, valid 900, time_spent_in_hours: 13h, time_spent_in_secs: 47471.89s, elapse since last report: 1.777s.\n",
      "Tried 1000 models, valid 1000, time_spent_in_hours: 14h, time_spent_in_secs: 52674.175s, elapse since last report: 1.745s.\n",
      "Tried 1100 models, valid 1100, time_spent_in_hours: 16h, time_spent_in_secs: 57926.719s, elapse since last report: 1.786s.\n",
      "Tried 1200 models, valid 1200, time_spent_in_hours: 17h, time_spent_in_secs: 63246.203s, elapse since last report: 1.756s.\n",
      "Tried 1300 models, valid 1300, time_spent_in_hours: 19h, time_spent_in_secs: 68553.034s, elapse since last report: 1.736s.\n",
      "Tried 1400 models, valid 1400, time_spent_in_hours: 20h, time_spent_in_secs: 73918.269s, elapse since last report: 1.757s.\n",
      "Tried 1500 models, valid 1500, time_spent_in_hours: 21h, time_spent_in_secs: 79058.27s, elapse since last report: 1.751s.\n",
      "Tried 1600 models, valid 1600, time_spent_in_hours: 23h, time_spent_in_secs: 84523.356s, elapse since last report: 2.296s.\n",
      "Tried 1700 models, valid 1700, time_spent_in_hours: 24h, time_spent_in_secs: 89765.337s, elapse since last report: 1.756s.\n",
      "Tried 1800 models, valid 1800, time_spent_in_hours: 26h, time_spent_in_secs: 95168.577s, elapse since last report: 1.747s.\n",
      "Tried 1900 models, valid 1900, time_spent_in_hours: 27h, time_spent_in_secs: 100527.296s, elapse since last report: 1.745s.\n",
      "Tried 2000 models, valid 2000, time_spent_in_hours: 29h, time_spent_in_secs: 105817.749s, elapse since last report: 1.744s.\n",
      "Tried 2100 models, valid 2100, time_spent_in_hours: 30h, time_spent_in_secs: 111003.056s, elapse since last report: 1.756s.\n",
      "Tried 2200 models, valid 2200, time_spent_in_hours: 32h, time_spent_in_secs: 116299.719s, elapse since last report: 1.749s.\n",
      "Tried 2300 models, valid 2300, time_spent_in_hours: 33h, time_spent_in_secs: 121459.535s, elapse since last report: 1.835s.\n",
      "Tried 2400 models, valid 2400, time_spent_in_hours: 35h, time_spent_in_secs: 126702.789s, elapse since last report: 1.748s.\n",
      "Tried 2500 models, valid 2500, time_spent_in_hours: 36h, time_spent_in_secs: 131982.503s, elapse since last report: 1.753s.\n",
      "Tried 2600 models, valid 2600, time_spent_in_hours: 38h, time_spent_in_secs: 137261.42s, elapse since last report: 2.43s.\n",
      "Tried 2700 models, valid 2700, time_spent_in_hours: 39h, time_spent_in_secs: 142381.334s, elapse since last report: 1.834s.\n",
      "Tried 2800 models, valid 2800, time_spent_in_hours: 41h, time_spent_in_secs: 147624.245s, elapse since last report: 1.772s.\n",
      "Tried 2900 models, valid 2900, time_spent_in_hours: 42h, time_spent_in_secs: 152782.211s, elapse since last report: 1.789s.\n",
      "Tried 3000 models, valid 3000, time_spent_in_hours: 43h, time_spent_in_secs: 158170.629s, elapse since last report: 1.822s.\n",
      "Tried 3100 models, valid 3100, time_spent_in_hours: 45h, time_spent_in_secs: 163317.296s, elapse since last report: 1.836s.\n",
      "Tried 3200 models, valid 3200, time_spent_in_hours: 46h, time_spent_in_secs: 168461.076s, elapse since last report: 1.85s.\n",
      "Tried 3300 models, valid 3300, time_spent_in_hours: 48h, time_spent_in_secs: 173752.811s, elapse since last report: 1.805s.\n",
      "Tried 3400 models, valid 3400, time_spent_in_hours: 49h, time_spent_in_secs: 178871.581s, elapse since last report: 1.839s.\n",
      "Tried 3500 models, valid 3500, time_spent_in_hours: 51h, time_spent_in_secs: 184271.228s, elapse since last report: 1.825s.\n",
      "Tried 3600 models, valid 3600, time_spent_in_hours: 52h, time_spent_in_secs: 189406.326s, elapse since last report: 1.873s.\n",
      "Tried 3700 models, valid 3700, time_spent_in_hours: 54h, time_spent_in_secs: 194651.166s, elapse since last report: 1.818s.\n",
      "Tried 3800 models, valid 3800, time_spent_in_hours: 55h, time_spent_in_secs: 200065.819s, elapse since last report: 2.616s.\n",
      "Tried 3900 models, valid 3900, time_spent_in_hours: 56h, time_spent_in_secs: 205181.137s, elapse since last report: 1.897s.\n",
      "Tried 4000 models, valid 4000, time_spent_in_hours: 58h, time_spent_in_secs: 210382.666s, elapse since last report: 1.898s.\n",
      "Tried 4100 models, valid 4100, time_spent_in_hours: 59h, time_spent_in_secs: 215492.915s, elapse since last report: 1.855s.\n",
      "Tried 4200 models, valid 4200, time_spent_in_hours: 61h, time_spent_in_secs: 220610.389s, elapse since last report: 1.906s.\n",
      "Tried 4300 models, valid 4300, time_spent_in_hours: 62h, time_spent_in_secs: 225730.788s, elapse since last report: 1.839s.\n",
      "Tried 4400 models, valid 4400, time_spent_in_hours: 64h, time_spent_in_secs: 230832.32s, elapse since last report: 1.942s.\n",
      "Tried 4500 models, valid 4500, time_spent_in_hours: 65h, time_spent_in_secs: 236113.771s, elapse since last report: 1.891s.\n",
      "Tried 4600 models, valid 4600, time_spent_in_hours: 67h, time_spent_in_secs: 241234.791s, elapse since last report: 1.864s.\n",
      "Tried 4700 models, valid 4700, time_spent_in_hours: 68h, time_spent_in_secs: 246723.653s, elapse since last report: 1.831s.\n",
      "Tried 4800 models, valid 4800, time_spent_in_hours: 70h, time_spent_in_secs: 252024.719s, elapse since last report: 1.852s.\n",
      "Tried 4900 models, valid 4900, time_spent_in_hours: 71h, time_spent_in_secs: 257253.284s, elapse since last report: 1.853s.\n",
      "Tried 5000 models, valid 5000, time_spent_in_hours: 72h, time_spent_in_secs: 262538.399s, elapse since last report: 1.896s.\n",
      "Tried 5100 models, valid 5100, time_spent_in_hours: 74h, time_spent_in_secs: 267759.745s, elapse since last report: 1.875s.\n",
      "Tried 5200 models, valid 5200, time_spent_in_hours: 75h, time_spent_in_secs: 273228.116s, elapse since last report: 1.853s.\n",
      "Tried 5300 models, valid 5300, time_spent_in_hours: 77h, time_spent_in_secs: 278543.592s, elapse since last report: 2.826s.\n",
      "Tried 5400 models, valid 5400, time_spent_in_hours: 78h, time_spent_in_secs: 283817.531s, elapse since last report: 1.916s.\n",
      "Tried 5500 models, valid 5500, time_spent_in_hours: 80h, time_spent_in_secs: 289075.07s, elapse since last report: 1.939s.\n",
      "Tried 5600 models, valid 5600, time_spent_in_hours: 81h, time_spent_in_secs: 294294.676s, elapse since last report: 1.93s.\n",
      "Tried 5700 models, valid 5700, time_spent_in_hours: 83h, time_spent_in_secs: 299549.023s, elapse since last report: 1.867s.\n",
      "Tried 5800 models, valid 5800, time_spent_in_hours: 84h, time_spent_in_secs: 304774.892s, elapse since last report: 1.885s.\n",
      "Tried 5900 models, valid 5900, time_spent_in_hours: 86h, time_spent_in_secs: 309889.858s, elapse since last report: 1.88s.\n",
      "Tried 6000 models, valid 6000, time_spent_in_hours: 87h, time_spent_in_secs: 315221.918s, elapse since last report: 1.911s.\n",
      "Tried 6100 models, valid 6100, time_spent_in_hours: 88h, time_spent_in_secs: 320379.211s, elapse since last report: 1.893s.\n",
      "Tried 6200 models, valid 6200, time_spent_in_hours: 90h, time_spent_in_secs: 325599.866s, elapse since last report: 1.869s.\n",
      "Tried 6300 models, valid 6300, time_spent_in_hours: 91h, time_spent_in_secs: 330954.684s, elapse since last report: 1.871s.\n",
      "Tried 6400 models, valid 6400, time_spent_in_hours: 93h, time_spent_in_secs: 336144.064s, elapse since last report: 1.981s.\n",
      "Tried 6500 models, valid 6500, time_spent_in_hours: 94h, time_spent_in_secs: 341536.817s, elapse since last report: 1.934s.\n",
      "Tried 6600 models, valid 6600, time_spent_in_hours: 96h, time_spent_in_secs: 346953.868s, elapse since last report: 1.861s.\n",
      "Tried 6700 models, valid 6700, time_spent_in_hours: 97h, time_spent_in_secs: 352275.211s, elapse since last report: 1.873s.\n",
      "Tried 6800 models, valid 6800, time_spent_in_hours: 99h, time_spent_in_secs: 357480.673s, elapse since last report: 1.919s.\n",
      "Total time elapse: 129.02073001861572 seconds.\n",
      "--------------------------------------------------------------------------------\n",
      "Total evaluated architectures: 6847\n",
      "Total time spent:              33 hours\n",
      "Best model found:              64:64:48:64:56\n",
      "Best model DNA:                DNA([7, 7, 5, 7, 6])\n",
      "Validation accuracy:           84.70399999267578\n",
      "Test accuracy:                 93.12\n",
      "--------------------------------------------------------------------------------\n"
     ]
    }
   ],
   "source": [
    "ss_indicator = 'sss'\n",
    "algo_name = 'random'\n",
    "dataset = 'cifar10'\n",
    "max_train_hours = 100\n",
    "\n",
    "executor = NASExecutor(algo_name, dataset, max_train_hours, ss_indicator)\n",
    "\n",
    "sorted_results_rnd = executor.test_nas_algo()\n",
    "#sorted_results_rnd.head()\n",
    "\n",
    "#executor.save_report(sorted_results_rnd, f'data/{algo_name}_{max_train_hours}h_{dataset}.csv')"
   ]
  },
  {
   "cell_type": "markdown",
   "metadata": {
    "tags": []
   },
   "source": [
    "#### 200 hours"
   ]
  },
  {
   "cell_type": "code",
   "execution_count": 37,
   "metadata": {
    "collapsed": true,
    "jupyter": {
     "outputs_hidden": true
    },
    "tags": []
   },
   "outputs": [
    {
     "name": "stdout",
     "output_type": "stream",
     "text": [
      "[2023-07-05 01:56:50] Try to use the default NATS-Bench (size) path from fast_mode=True and path=None.\n",
      "Candidates: [8, 16, 24, 32, 40, 48, 56, 64]\n",
      "Tried 100 models, valid 100, time_spent_in_hours: 1h, time_spent_in_secs: 5266.513s, elapse since last report: 1.868s.\n",
      "Tried 200 models, valid 200, time_spent_in_hours: 2h, time_spent_in_secs: 10582.646s, elapse since last report: 1.825s.\n",
      "Tried 300 models, valid 300, time_spent_in_hours: 4h, time_spent_in_secs: 15899.359s, elapse since last report: 1.772s.\n",
      "Tried 400 models, valid 400, time_spent_in_hours: 5h, time_spent_in_secs: 21188.249s, elapse since last report: 2.736s.\n",
      "Tried 500 models, valid 500, time_spent_in_hours: 7h, time_spent_in_secs: 26341.35s, elapse since last report: 1.782s.\n",
      "Tried 600 models, valid 600, time_spent_in_hours: 8h, time_spent_in_secs: 31432.785s, elapse since last report: 1.787s.\n",
      "Tried 700 models, valid 700, time_spent_in_hours: 10h, time_spent_in_secs: 36759.189s, elapse since last report: 1.783s.\n",
      "Tried 800 models, valid 800, time_spent_in_hours: 11h, time_spent_in_secs: 42007.08s, elapse since last report: 1.761s.\n",
      "Tried 900 models, valid 900, time_spent_in_hours: 13h, time_spent_in_secs: 47156.655s, elapse since last report: 1.751s.\n",
      "Tried 1000 models, valid 1000, time_spent_in_hours: 14h, time_spent_in_secs: 52291.854s, elapse since last report: 1.76s.\n",
      "Tried 1100 models, valid 1100, time_spent_in_hours: 15h, time_spent_in_secs: 57415.159s, elapse since last report: 1.792s.\n",
      "Tried 1200 models, valid 1200, time_spent_in_hours: 17h, time_spent_in_secs: 62779.904s, elapse since last report: 1.793s.\n",
      "Tried 1300 models, valid 1300, time_spent_in_hours: 18h, time_spent_in_secs: 68049.348s, elapse since last report: 1.787s.\n",
      "Tried 1400 models, valid 1400, time_spent_in_hours: 20h, time_spent_in_secs: 73429.443s, elapse since last report: 1.793s.\n",
      "Tried 1500 models, valid 1500, time_spent_in_hours: 21h, time_spent_in_secs: 78771.972s, elapse since last report: 1.785s.\n",
      "Tried 1600 models, valid 1600, time_spent_in_hours: 23h, time_spent_in_secs: 84025.844s, elapse since last report: 1.795s.\n",
      "Tried 1700 models, valid 1700, time_spent_in_hours: 24h, time_spent_in_secs: 89210.979s, elapse since last report: 1.831s.\n",
      "Tried 1800 models, valid 1800, time_spent_in_hours: 26h, time_spent_in_secs: 94441.249s, elapse since last report: 2.801s.\n",
      "Tried 1900 models, valid 1900, time_spent_in_hours: 27h, time_spent_in_secs: 99668.412s, elapse since last report: 1.878s.\n",
      "Tried 2000 models, valid 2000, time_spent_in_hours: 29h, time_spent_in_secs: 105037.599s, elapse since last report: 1.862s.\n",
      "Tried 2100 models, valid 2100, time_spent_in_hours: 30h, time_spent_in_secs: 110214.172s, elapse since last report: 1.792s.\n",
      "Tried 2200 models, valid 2200, time_spent_in_hours: 32h, time_spent_in_secs: 115396.526s, elapse since last report: 1.83s.\n",
      "Tried 2300 models, valid 2300, time_spent_in_hours: 33h, time_spent_in_secs: 120695.248s, elapse since last report: 1.81s.\n",
      "Tried 2400 models, valid 2400, time_spent_in_hours: 35h, time_spent_in_secs: 126143.186s, elapse since last report: 1.78s.\n",
      "Tried 2500 models, valid 2500, time_spent_in_hours: 36h, time_spent_in_secs: 131428.345s, elapse since last report: 1.806s.\n",
      "Tried 2600 models, valid 2600, time_spent_in_hours: 37h, time_spent_in_secs: 136564.047s, elapse since last report: 1.846s.\n",
      "Tried 2700 models, valid 2700, time_spent_in_hours: 39h, time_spent_in_secs: 141896.124s, elapse since last report: 1.792s.\n",
      "Tried 2800 models, valid 2800, time_spent_in_hours: 40h, time_spent_in_secs: 147106.719s, elapse since last report: 1.828s.\n",
      "Tried 2900 models, valid 2900, time_spent_in_hours: 42h, time_spent_in_secs: 152253.238s, elapse since last report: 1.803s.\n",
      "Tried 3000 models, valid 3000, time_spent_in_hours: 43h, time_spent_in_secs: 157505.678s, elapse since last report: 1.839s.\n",
      "Tried 3100 models, valid 3100, time_spent_in_hours: 45h, time_spent_in_secs: 162907.8s, elapse since last report: 1.861s.\n",
      "Tried 3200 models, valid 3200, time_spent_in_hours: 46h, time_spent_in_secs: 168009.881s, elapse since last report: 1.895s.\n",
      "Tried 3300 models, valid 3300, time_spent_in_hours: 48h, time_spent_in_secs: 173407.971s, elapse since last report: 1.823s.\n",
      "Tried 3400 models, valid 3400, time_spent_in_hours: 49h, time_spent_in_secs: 178513.249s, elapse since last report: 1.795s.\n",
      "Tried 3500 models, valid 3500, time_spent_in_hours: 51h, time_spent_in_secs: 183687.3s, elapse since last report: 1.813s.\n",
      "Tried 3600 models, valid 3600, time_spent_in_hours: 52h, time_spent_in_secs: 188865.672s, elapse since last report: 3.053s.\n",
      "Tried 3700 models, valid 3700, time_spent_in_hours: 53h, time_spent_in_secs: 194087.163s, elapse since last report: 1.861s.\n",
      "Tried 3800 models, valid 3800, time_spent_in_hours: 55h, time_spent_in_secs: 199328.041s, elapse since last report: 1.875s.\n",
      "Tried 3900 models, valid 3900, time_spent_in_hours: 56h, time_spent_in_secs: 204677.7s, elapse since last report: 1.915s.\n",
      "Tried 4000 models, valid 4000, time_spent_in_hours: 58h, time_spent_in_secs: 209892.515s, elapse since last report: 1.85s.\n",
      "Tried 4100 models, valid 4100, time_spent_in_hours: 59h, time_spent_in_secs: 214978.391s, elapse since last report: 1.829s.\n",
      "Tried 4200 models, valid 4200, time_spent_in_hours: 61h, time_spent_in_secs: 220112.66s, elapse since last report: 1.871s.\n",
      "Tried 4300 models, valid 4300, time_spent_in_hours: 62h, time_spent_in_secs: 225479.234s, elapse since last report: 1.868s.\n",
      "Tried 4400 models, valid 4400, time_spent_in_hours: 64h, time_spent_in_secs: 230661.637s, elapse since last report: 1.872s.\n",
      "Tried 4500 models, valid 4500, time_spent_in_hours: 65h, time_spent_in_secs: 235992.574s, elapse since last report: 1.831s.\n",
      "Tried 4600 models, valid 4600, time_spent_in_hours: 66h, time_spent_in_secs: 241186.967s, elapse since last report: 1.886s.\n",
      "Tried 4700 models, valid 4700, time_spent_in_hours: 68h, time_spent_in_secs: 246432.859s, elapse since last report: 1.914s.\n",
      "Tried 4800 models, valid 4800, time_spent_in_hours: 69h, time_spent_in_secs: 251583.05s, elapse since last report: 1.89s.\n",
      "Tried 4900 models, valid 4900, time_spent_in_hours: 71h, time_spent_in_secs: 256894.297s, elapse since last report: 1.934s.\n",
      "Tried 5000 models, valid 5000, time_spent_in_hours: 72h, time_spent_in_secs: 262207.708s, elapse since last report: 1.852s.\n",
      "Tried 5100 models, valid 5100, time_spent_in_hours: 74h, time_spent_in_secs: 267433.733s, elapse since last report: 1.88s.\n",
      "Tried 5200 models, valid 5200, time_spent_in_hours: 75h, time_spent_in_secs: 272553.723s, elapse since last report: 1.892s.\n",
      "Tried 5300 models, valid 5300, time_spent_in_hours: 77h, time_spent_in_secs: 277729.776s, elapse since last report: 1.902s.\n",
      "Tried 5400 models, valid 5400, time_spent_in_hours: 78h, time_spent_in_secs: 282938.372s, elapse since last report: 1.922s.\n",
      "Tried 5500 models, valid 5500, time_spent_in_hours: 80h, time_spent_in_secs: 288281.878s, elapse since last report: 1.951s.\n",
      "Tried 5600 models, valid 5600, time_spent_in_hours: 81h, time_spent_in_secs: 293477.545s, elapse since last report: 1.93s.\n",
      "Tried 5700 models, valid 5700, time_spent_in_hours: 82h, time_spent_in_secs: 298634.993s, elapse since last report: 1.929s.\n",
      "Tried 5800 models, valid 5800, time_spent_in_hours: 84h, time_spent_in_secs: 303926.304s, elapse since last report: 1.892s.\n",
      "Tried 5900 models, valid 5900, time_spent_in_hours: 85h, time_spent_in_secs: 309121.738s, elapse since last report: 3.399s.\n",
      "Tried 6000 models, valid 6000, time_spent_in_hours: 87h, time_spent_in_secs: 314402.836s, elapse since last report: 1.963s.\n",
      "Tried 6100 models, valid 6100, time_spent_in_hours: 88h, time_spent_in_secs: 319705.135s, elapse since last report: 1.938s.\n",
      "Tried 6200 models, valid 6200, time_spent_in_hours: 90h, time_spent_in_secs: 324956.673s, elapse since last report: 1.935s.\n",
      "Tried 6300 models, valid 6300, time_spent_in_hours: 91h, time_spent_in_secs: 330318.965s, elapse since last report: 1.926s.\n",
      "Tried 6400 models, valid 6400, time_spent_in_hours: 93h, time_spent_in_secs: 335610.877s, elapse since last report: 1.899s.\n",
      "Tried 6500 models, valid 6500, time_spent_in_hours: 94h, time_spent_in_secs: 340799.158s, elapse since last report: 1.925s.\n",
      "Tried 6600 models, valid 6600, time_spent_in_hours: 96h, time_spent_in_secs: 346073.246s, elapse since last report: 1.908s.\n",
      "Tried 6700 models, valid 6700, time_spent_in_hours: 97h, time_spent_in_secs: 351360.033s, elapse since last report: 1.955s.\n",
      "Tried 6800 models, valid 6800, time_spent_in_hours: 98h, time_spent_in_secs: 356340.686s, elapse since last report: 1.955s.\n",
      "Tried 6900 models, valid 6900, time_spent_in_hours: 100h, time_spent_in_secs: 361518.988s, elapse since last report: 1.931s.\n",
      "Tried 7000 models, valid 7000, time_spent_in_hours: 101h, time_spent_in_secs: 366747.57s, elapse since last report: 1.954s.\n",
      "Tried 7100 models, valid 7100, time_spent_in_hours: 103h, time_spent_in_secs: 371992.417s, elapse since last report: 1.966s.\n",
      "Tried 7200 models, valid 7200, time_spent_in_hours: 104h, time_spent_in_secs: 377176.538s, elapse since last report: 1.959s.\n",
      "Tried 7300 models, valid 7300, time_spent_in_hours: 106h, time_spent_in_secs: 382403.68s, elapse since last report: 1.952s.\n",
      "Tried 7400 models, valid 7400, time_spent_in_hours: 107h, time_spent_in_secs: 387600.6s, elapse since last report: 1.935s.\n",
      "Tried 7500 models, valid 7500, time_spent_in_hours: 109h, time_spent_in_secs: 392780.678s, elapse since last report: 1.945s.\n",
      "Tried 7600 models, valid 7600, time_spent_in_hours: 110h, time_spent_in_secs: 397994.423s, elapse since last report: 1.952s.\n",
      "Tried 7700 models, valid 7700, time_spent_in_hours: 111h, time_spent_in_secs: 403193.854s, elapse since last report: 1.983s.\n",
      "Tried 7800 models, valid 7800, time_spent_in_hours: 113h, time_spent_in_secs: 408616.996s, elapse since last report: 1.985s.\n",
      "Tried 7900 models, valid 7900, time_spent_in_hours: 115h, time_spent_in_secs: 414161.979s, elapse since last report: 2.033s.\n",
      "Tried 8000 models, valid 8000, time_spent_in_hours: 116h, time_spent_in_secs: 419466.443s, elapse since last report: 1.98s.\n",
      "Tried 8100 models, valid 8100, time_spent_in_hours: 118h, time_spent_in_secs: 424822.897s, elapse since last report: 1.997s.\n",
      "Tried 8200 models, valid 8200, time_spent_in_hours: 119h, time_spent_in_secs: 430063.854s, elapse since last report: 1.964s.\n",
      "Tried 8300 models, valid 8300, time_spent_in_hours: 120h, time_spent_in_secs: 435384.751s, elapse since last report: 2.004s.\n",
      "Tried 8400 models, valid 8400, time_spent_in_hours: 122h, time_spent_in_secs: 440711.184s, elapse since last report: 2.024s.\n",
      "Tried 8500 models, valid 8500, time_spent_in_hours: 123h, time_spent_in_secs: 445908.646s, elapse since last report: 2.028s.\n",
      "Tried 8600 models, valid 8600, time_spent_in_hours: 125h, time_spent_in_secs: 451290.253s, elapse since last report: 2.07s.\n",
      "Tried 8700 models, valid 8700, time_spent_in_hours: 126h, time_spent_in_secs: 456542.696s, elapse since last report: 3.812s.\n",
      "Tried 8800 models, valid 8800, time_spent_in_hours: 128h, time_spent_in_secs: 461906.11s, elapse since last report: 2.077s.\n",
      "Tried 8900 models, valid 8900, time_spent_in_hours: 129h, time_spent_in_secs: 467319.832s, elapse since last report: 2.079s.\n",
      "Tried 9000 models, valid 9000, time_spent_in_hours: 131h, time_spent_in_secs: 472608.02s, elapse since last report: 2.067s.\n",
      "Tried 9100 models, valid 9100, time_spent_in_hours: 132h, time_spent_in_secs: 477920.383s, elapse since last report: 2.044s.\n",
      "Tried 9200 models, valid 9200, time_spent_in_hours: 134h, time_spent_in_secs: 483352.249s, elapse since last report: 2.107s.\n",
      "Tried 9300 models, valid 9300, time_spent_in_hours: 135h, time_spent_in_secs: 488732.638s, elapse since last report: 2.075s.\n",
      "Tried 9400 models, valid 9400, time_spent_in_hours: 137h, time_spent_in_secs: 493993.613s, elapse since last report: 2.042s.\n",
      "Tried 9500 models, valid 9500, time_spent_in_hours: 138h, time_spent_in_secs: 499240.974s, elapse since last report: 2.064s.\n",
      "Tried 9600 models, valid 9600, time_spent_in_hours: 140h, time_spent_in_secs: 504477.875s, elapse since last report: 2.075s.\n",
      "Tried 9700 models, valid 9700, time_spent_in_hours: 141h, time_spent_in_secs: 509773.133s, elapse since last report: 2.116s.\n",
      "Tried 9800 models, valid 9800, time_spent_in_hours: 143h, time_spent_in_secs: 515068.476s, elapse since last report: 2.055s.\n",
      "Tried 9900 models, valid 9900, time_spent_in_hours: 144h, time_spent_in_secs: 520599.668s, elapse since last report: 2.115s.\n",
      "Tried 10000 models, valid 10000, time_spent_in_hours: 146h, time_spent_in_secs: 525955.306s, elapse since last report: 2.099s.\n",
      "Tried 10100 models, valid 10100, time_spent_in_hours: 147h, time_spent_in_secs: 531367.0s, elapse since last report: 2.091s.\n",
      "Tried 10200 models, valid 10200, time_spent_in_hours: 149h, time_spent_in_secs: 536702.527s, elapse since last report: 2.095s.\n",
      "Tried 10300 models, valid 10300, time_spent_in_hours: 150h, time_spent_in_secs: 541848.054s, elapse since last report: 2.168s.\n",
      "Tried 10400 models, valid 10400, time_spent_in_hours: 152h, time_spent_in_secs: 547285.894s, elapse since last report: 2.115s.\n",
      "Tried 10500 models, valid 10500, time_spent_in_hours: 153h, time_spent_in_secs: 552558.883s, elapse since last report: 2.117s.\n",
      "Tried 10600 models, valid 10600, time_spent_in_hours: 154h, time_spent_in_secs: 557754.401s, elapse since last report: 2.113s.\n",
      "Tried 10700 models, valid 10700, time_spent_in_hours: 156h, time_spent_in_secs: 563071.811s, elapse since last report: 2.152s.\n",
      "Tried 10800 models, valid 10800, time_spent_in_hours: 157h, time_spent_in_secs: 568489.47s, elapse since last report: 2.124s.\n",
      "Tried 10900 models, valid 10900, time_spent_in_hours: 159h, time_spent_in_secs: 573585.913s, elapse since last report: 2.092s.\n",
      "Tried 11000 models, valid 11000, time_spent_in_hours: 160h, time_spent_in_secs: 578750.343s, elapse since last report: 2.072s.\n",
      "Tried 11100 models, valid 11100, time_spent_in_hours: 162h, time_spent_in_secs: 583835.281s, elapse since last report: 2.152s.\n",
      "Tried 11200 models, valid 11200, time_spent_in_hours: 163h, time_spent_in_secs: 589324.895s, elapse since last report: 2.1s.\n",
      "Tried 11300 models, valid 11300, time_spent_in_hours: 165h, time_spent_in_secs: 594445.856s, elapse since last report: 2.137s.\n",
      "Tried 11400 models, valid 11400, time_spent_in_hours: 166h, time_spent_in_secs: 599665.062s, elapse since last report: 2.132s.\n",
      "Tried 11500 models, valid 11500, time_spent_in_hours: 168h, time_spent_in_secs: 604941.803s, elapse since last report: 2.129s.\n",
      "Tried 11600 models, valid 11600, time_spent_in_hours: 169h, time_spent_in_secs: 610102.668s, elapse since last report: 2.275s.\n",
      "Tried 11700 models, valid 11700, time_spent_in_hours: 170h, time_spent_in_secs: 615352.305s, elapse since last report: 2.116s.\n",
      "Tried 11800 models, valid 11800, time_spent_in_hours: 172h, time_spent_in_secs: 620586.553s, elapse since last report: 2.168s.\n",
      "Tried 11900 models, valid 11900, time_spent_in_hours: 173h, time_spent_in_secs: 625797.508s, elapse since last report: 2.141s.\n",
      "Tried 12000 models, valid 12000, time_spent_in_hours: 175h, time_spent_in_secs: 631017.731s, elapse since last report: 2.137s.\n",
      "Tried 12100 models, valid 12100, time_spent_in_hours: 176h, time_spent_in_secs: 636382.979s, elapse since last report: 2.143s.\n",
      "Tried 12200 models, valid 12200, time_spent_in_hours: 178h, time_spent_in_secs: 641726.39s, elapse since last report: 2.185s.\n",
      "Tried 12300 models, valid 12300, time_spent_in_hours: 179h, time_spent_in_secs: 646925.911s, elapse since last report: 4.315s.\n",
      "Tried 12400 models, valid 12400, time_spent_in_hours: 181h, time_spent_in_secs: 652341.29s, elapse since last report: 2.164s.\n",
      "Tried 12500 models, valid 12500, time_spent_in_hours: 182h, time_spent_in_secs: 657660.56s, elapse since last report: 2.202s.\n",
      "Tried 12600 models, valid 12600, time_spent_in_hours: 184h, time_spent_in_secs: 662907.731s, elapse since last report: 2.169s.\n",
      "Tried 12700 models, valid 12700, time_spent_in_hours: 185h, time_spent_in_secs: 668178.728s, elapse since last report: 2.158s.\n",
      "Tried 12800 models, valid 12800, time_spent_in_hours: 187h, time_spent_in_secs: 673390.099s, elapse since last report: 2.184s.\n",
      "Tried 12900 models, valid 12900, time_spent_in_hours: 188h, time_spent_in_secs: 678727.254s, elapse since last report: 2.238s.\n",
      "Tried 13000 models, valid 13000, time_spent_in_hours: 189h, time_spent_in_secs: 683898.223s, elapse since last report: 2.241s.\n",
      "Tried 13100 models, valid 13100, time_spent_in_hours: 191h, time_spent_in_secs: 689275.24s, elapse since last report: 2.241s.\n",
      "Tried 13200 models, valid 13200, time_spent_in_hours: 192h, time_spent_in_secs: 694747.889s, elapse since last report: 2.206s.\n",
      "Tried 13300 models, valid 13300, time_spent_in_hours: 194h, time_spent_in_secs: 700035.888s, elapse since last report: 2.221s.\n",
      "Tried 13400 models, valid 13400, time_spent_in_hours: 195h, time_spent_in_secs: 705415.953s, elapse since last report: 2.285s.\n",
      "Tried 13500 models, valid 13500, time_spent_in_hours: 197h, time_spent_in_secs: 710490.38s, elapse since last report: 2.268s.\n",
      "Tried 13600 models, valid 13600, time_spent_in_hours: 198h, time_spent_in_secs: 715861.739s, elapse since last report: 2.26s.\n",
      "Total time elapse: 279.03334188461304 seconds.\n",
      "--------------------------------------------------------------------------------\n",
      "Total evaluated architectures: 13678\n",
      "Total time spent:              165 hours\n",
      "Best model found:              64:64:64:64:64\n",
      "Best model DNA:                DNA([7, 7, 7, 7, 7])\n",
      "Validation accuracy:           84.95600000488281\n",
      "Test accuracy:                 93.4\n",
      "--------------------------------------------------------------------------------\n"
     ]
    }
   ],
   "source": [
    "ss_indicator = 'sss'\n",
    "algo_name = 'random'\n",
    "dataset = 'cifar10'\n",
    "max_train_hours = 200\n",
    "\n",
    "executor = NASExecutor(algo_name, dataset, max_train_hours, ss_indicator)\n",
    "\n",
    "sorted_results_rnd = executor.test_nas_algo()\n",
    "#sorted_results_rnd.head()\n",
    "\n",
    "#executor.save_report(sorted_results_rnd, f'data/{algo_name}_{max_train_hours}h_{dataset}.csv')"
   ]
  },
  {
   "cell_type": "markdown",
   "metadata": {
    "tags": []
   },
   "source": [
    "### Test with Regularized Evolution Algorithm"
   ]
  },
  {
   "cell_type": "markdown",
   "metadata": {
    "tags": []
   },
   "source": [
    "#### 1 hour"
   ]
  },
  {
   "cell_type": "code",
   "execution_count": 34,
   "metadata": {
    "collapsed": true,
    "jupyter": {
     "outputs_hidden": true
    },
    "tags": []
   },
   "outputs": [
    {
     "name": "stdout",
     "output_type": "stream",
     "text": [
      "[2023-07-05 01:28:58] Try to use the default NATS-Bench (size) path from fast_mode=True and path=None.\n",
      "Candidates: [8, 16, 24, 32, 40, 48, 56, 64]\n",
      "Total time elapse: 1.2171447277069092 seconds.\n",
      "--------------------------------------------------------------------------------\n",
      "Total evaluated architectures: 67\n",
      "Total time spent:              0 hours\n",
      "Best model found:              56:40:64:64:56\n",
      "Best model DNA:                DNA([6, 4, 7, 7, 6])\n",
      "Validation accuracy:           84.25600001464844\n",
      "Test accuracy:                 93.01\n",
      "--------------------------------------------------------------------------------\n"
     ]
    }
   ],
   "source": [
    "ss_indicator = 'sss'\n",
    "algo_name = 'evolution'\n",
    "dataset = 'cifar10'\n",
    "max_train_hours = 1\n",
    "\n",
    "executor = NASExecutor(algo_name, dataset, max_train_hours, ss_indicator)\n",
    "\n",
    "sorted_results_rnd = executor.test_nas_algo()\n",
    "#sorted_results_rnd.head()\n",
    "\n",
    "#executor.save_report(sorted_results_rnd, f'data/{algo_name}_{max_train_hours}h_{dataset}.csv')"
   ]
  },
  {
   "cell_type": "markdown",
   "metadata": {
    "tags": []
   },
   "source": [
    "#### 10 hours"
   ]
  },
  {
   "cell_type": "code",
   "execution_count": 35,
   "metadata": {
    "collapsed": true,
    "jupyter": {
     "outputs_hidden": true
    },
    "tags": []
   },
   "outputs": [
    {
     "name": "stdout",
     "output_type": "stream",
     "text": [
      "[2023-07-05 01:29:01] Try to use the default NATS-Bench (size) path from fast_mode=True and path=None.\n",
      "Candidates: [8, 16, 24, 32, 40, 48, 56, 64]\n",
      "Tried 100 models, valid 100, time_spent_in_hours: 1h, time_spent_in_secs: 5781.245s, elapse since last report: 2.466s.\n",
      "Tried 200 models, valid 200, time_spent_in_hours: 3h, time_spent_in_secs: 11952.847s, elapse since last report: 1.48s.\n",
      "Tried 300 models, valid 300, time_spent_in_hours: 5h, time_spent_in_secs: 18318.637s, elapse since last report: 1.438s.\n",
      "Tried 400 models, valid 400, time_spent_in_hours: 6h, time_spent_in_secs: 24561.716s, elapse since last report: 1.381s.\n",
      "Tried 500 models, valid 500, time_spent_in_hours: 8h, time_spent_in_secs: 30979.206s, elapse since last report: 1.46s.\n",
      "Total time elapse: 9.394320964813232 seconds.\n",
      "--------------------------------------------------------------------------------\n",
      "Total evaluated architectures: 578\n",
      "Total time spent:              8 hours\n",
      "Best model found:              64:64:56:64:48\n",
      "Best model DNA:                DNA([7, 7, 6, 7, 5])\n",
      "Validation accuracy:           84.96399999511719\n",
      "Test accuracy:                 93.3\n",
      "--------------------------------------------------------------------------------\n"
     ]
    }
   ],
   "source": [
    "ss_indicator = 'sss'\n",
    "algo_name = 'evolution'\n",
    "dataset = 'cifar10'\n",
    "max_train_hours = 10\n",
    "\n",
    "executor = NASExecutor(algo_name, dataset, max_train_hours, ss_indicator)\n",
    "\n",
    "sorted_results_rnd = executor.test_nas_algo()\n",
    "#sorted_results_rnd.head()\n",
    "\n",
    "#executor.save_report(sorted_results_rnd, f'data/{algo_name}_{max_train_hours}h_{dataset}.csv')"
   ]
  },
  {
   "cell_type": "markdown",
   "metadata": {
    "tags": []
   },
   "source": [
    "#### 50 hours"
   ]
  },
  {
   "cell_type": "code",
   "execution_count": 12,
   "metadata": {
    "collapsed": true,
    "jupyter": {
     "outputs_hidden": true
    },
    "tags": []
   },
   "outputs": [
    {
     "name": "stdout",
     "output_type": "stream",
     "text": [
      "[2023-07-05 00:52:17] Try to use the default NATS-Bench (size) path from fast_mode=True and path=None.\n",
      "Candidates: [8, 16, 24, 32, 40, 48, 56, 64]\n",
      "Tried 100 models, valid 100, time_spent_in_hours: 1h, time_spent_in_secs: 5430.092s, elapse since last report: 1.716s.\n",
      "Tried 200 models, valid 200, time_spent_in_hours: 3h, time_spent_in_secs: 11252.357s, elapse since last report: 1.551s.\n",
      "Tried 300 models, valid 300, time_spent_in_hours: 4h, time_spent_in_secs: 17637.734s, elapse since last report: 1.527s.\n",
      "Tried 400 models, valid 400, time_spent_in_hours: 6h, time_spent_in_secs: 23956.257s, elapse since last report: 1.967s.\n",
      "Tried 500 models, valid 500, time_spent_in_hours: 8h, time_spent_in_secs: 30329.692s, elapse since last report: 1.432s.\n",
      "Tried 600 models, valid 600, time_spent_in_hours: 10h, time_spent_in_secs: 36625.062s, elapse since last report: 1.454s.\n",
      "Tried 700 models, valid 700, time_spent_in_hours: 11h, time_spent_in_secs: 42987.433s, elapse since last report: 1.378s.\n",
      "Tried 800 models, valid 800, time_spent_in_hours: 13h, time_spent_in_secs: 49414.934s, elapse since last report: 1.38s.\n",
      "Tried 900 models, valid 900, time_spent_in_hours: 15h, time_spent_in_secs: 55913.653s, elapse since last report: 1.39s.\n",
      "Tried 1000 models, valid 1000, time_spent_in_hours: 17h, time_spent_in_secs: 62429.784s, elapse since last report: 1.357s.\n",
      "Tried 1100 models, valid 1100, time_spent_in_hours: 19h, time_spent_in_secs: 68873.524s, elapse since last report: 1.39s.\n",
      "Tried 1200 models, valid 1200, time_spent_in_hours: 20h, time_spent_in_secs: 75270.649s, elapse since last report: 1.37s.\n",
      "Tried 1300 models, valid 1300, time_spent_in_hours: 22h, time_spent_in_secs: 81519.053s, elapse since last report: 1.353s.\n",
      "Tried 1400 models, valid 1400, time_spent_in_hours: 24h, time_spent_in_secs: 87750.057s, elapse since last report: 1.402s.\n",
      "Tried 1500 models, valid 1500, time_spent_in_hours: 26h, time_spent_in_secs: 94113.957s, elapse since last report: 1.874s.\n",
      "Tried 1600 models, valid 1600, time_spent_in_hours: 27h, time_spent_in_secs: 100445.25s, elapse since last report: 1.443s.\n",
      "Tried 1700 models, valid 1700, time_spent_in_hours: 29h, time_spent_in_secs: 106856.747s, elapse since last report: 1.381s.\n",
      "Tried 1800 models, valid 1800, time_spent_in_hours: 31h, time_spent_in_secs: 113225.92s, elapse since last report: 1.415s.\n",
      "Tried 1900 models, valid 1900, time_spent_in_hours: 33h, time_spent_in_secs: 119794.02s, elapse since last report: 1.337s.\n",
      "Tried 2000 models, valid 2000, time_spent_in_hours: 35h, time_spent_in_secs: 126219.319s, elapse since last report: 1.428s.\n",
      "Tried 2100 models, valid 2100, time_spent_in_hours: 36h, time_spent_in_secs: 132725.213s, elapse since last report: 1.422s.\n",
      "Tried 2200 models, valid 2200, time_spent_in_hours: 38h, time_spent_in_secs: 139047.618s, elapse since last report: 1.45s.\n",
      "Tried 2300 models, valid 2300, time_spent_in_hours: 40h, time_spent_in_secs: 145268.699s, elapse since last report: 1.478s.\n",
      "Tried 2400 models, valid 2400, time_spent_in_hours: 42h, time_spent_in_secs: 151734.343s, elapse since last report: 1.4s.\n",
      "Tried 2500 models, valid 2500, time_spent_in_hours: 43h, time_spent_in_secs: 158065.909s, elapse since last report: 1.432s.\n",
      "Tried 2600 models, valid 2600, time_spent_in_hours: 45h, time_spent_in_secs: 164515.929s, elapse since last report: 1.432s.\n",
      "Tried 2700 models, valid 2700, time_spent_in_hours: 47h, time_spent_in_secs: 170887.396s, elapse since last report: 1.452s.\n",
      "Tried 2800 models, valid 2800, time_spent_in_hours: 49h, time_spent_in_secs: 177386.347s, elapse since last report: 1.395s.\n",
      "Total time elapse: 42.17261838912964 seconds.\n",
      "--------------------------------------------------------------------------------\n",
      "Total evaluated architectures: 2840\n",
      "Total time spent:              32 hours\n",
      "Best model found:              64:64:64:56:56\n",
      "Best model DNA:                DNA([7, 7, 7, 6, 6])\n",
      "Validation accuracy:           85.02000001464843\n",
      "Test accuracy:                 93.18\n",
      "--------------------------------------------------------------------------------\n"
     ]
    }
   ],
   "source": [
    "ss_indicator = 'sss'\n",
    "algo_name = 'evolution'\n",
    "dataset = 'cifar10'\n",
    "max_train_hours = 50\n",
    "\n",
    "executor = NASExecutor(algo_name, dataset, max_train_hours, ss_indicator)\n",
    "\n",
    "sorted_results_rnd = executor.test_nas_algo()\n",
    "#sorted_results_rnd.head()\n",
    "\n",
    "#executor.save_report(sorted_results_rnd, f'data/{algo_name}_{max_train_hours}h_{dataset}.csv')"
   ]
  },
  {
   "cell_type": "markdown",
   "metadata": {
    "tags": []
   },
   "source": [
    "#### 100 hours"
   ]
  },
  {
   "cell_type": "code",
   "execution_count": 38,
   "metadata": {
    "collapsed": true,
    "jupyter": {
     "outputs_hidden": true
    },
    "tags": []
   },
   "outputs": [
    {
     "name": "stdout",
     "output_type": "stream",
     "text": [
      "[2023-07-05 02:01:31] Try to use the default NATS-Bench (size) path from fast_mode=True and path=None.\n",
      "Candidates: [8, 16, 24, 32, 40, 48, 56, 64]\n",
      "Tried 100 models, valid 100, time_spent_in_hours: 1h, time_spent_in_secs: 5783.441s, elapse since last report: 1.737s.\n",
      "Tried 200 models, valid 200, time_spent_in_hours: 3h, time_spent_in_secs: 12189.407s, elapse since last report: 1.528s.\n",
      "Tried 300 models, valid 300, time_spent_in_hours: 5h, time_spent_in_secs: 18589.116s, elapse since last report: 1.488s.\n",
      "Tried 400 models, valid 400, time_spent_in_hours: 6h, time_spent_in_secs: 24792.925s, elapse since last report: 1.474s.\n",
      "Tried 500 models, valid 500, time_spent_in_hours: 8h, time_spent_in_secs: 31226.422s, elapse since last report: 1.494s.\n",
      "Tried 600 models, valid 600, time_spent_in_hours: 10h, time_spent_in_secs: 37617.904s, elapse since last report: 1.675s.\n",
      "Tried 700 models, valid 700, time_spent_in_hours: 12h, time_spent_in_secs: 44106.74s, elapse since last report: 1.503s.\n",
      "Tried 800 models, valid 800, time_spent_in_hours: 14h, time_spent_in_secs: 50527.417s, elapse since last report: 1.517s.\n",
      "Tried 900 models, valid 900, time_spent_in_hours: 15h, time_spent_in_secs: 56917.519s, elapse since last report: 1.416s.\n",
      "Tried 1000 models, valid 1000, time_spent_in_hours: 17h, time_spent_in_secs: 63289.749s, elapse since last report: 1.417s.\n",
      "Tried 1100 models, valid 1100, time_spent_in_hours: 19h, time_spent_in_secs: 69632.498s, elapse since last report: 1.445s.\n",
      "Tried 1200 models, valid 1200, time_spent_in_hours: 21h, time_spent_in_secs: 75956.71s, elapse since last report: 1.451s.\n",
      "Tried 1300 models, valid 1300, time_spent_in_hours: 22h, time_spent_in_secs: 82382.4s, elapse since last report: 1.43s.\n",
      "Tried 1400 models, valid 1400, time_spent_in_hours: 24h, time_spent_in_secs: 89031.013s, elapse since last report: 1.387s.\n",
      "Tried 1500 models, valid 1500, time_spent_in_hours: 26h, time_spent_in_secs: 95348.627s, elapse since last report: 1.451s.\n",
      "Tried 1600 models, valid 1600, time_spent_in_hours: 28h, time_spent_in_secs: 101735.481s, elapse since last report: 1.461s.\n",
      "Tried 1700 models, valid 1700, time_spent_in_hours: 30h, time_spent_in_secs: 108296.502s, elapse since last report: 1.425s.\n",
      "Tried 1800 models, valid 1800, time_spent_in_hours: 31h, time_spent_in_secs: 114711.917s, elapse since last report: 1.48s.\n",
      "Tried 1900 models, valid 1900, time_spent_in_hours: 33h, time_spent_in_secs: 121148.989s, elapse since last report: 1.484s.\n",
      "Tried 2000 models, valid 2000, time_spent_in_hours: 35h, time_spent_in_secs: 127609.919s, elapse since last report: 1.506s.\n",
      "Tried 2100 models, valid 2100, time_spent_in_hours: 37h, time_spent_in_secs: 134004.541s, elapse since last report: 1.538s.\n",
      "Tried 2200 models, valid 2200, time_spent_in_hours: 38h, time_spent_in_secs: 140279.071s, elapse since last report: 1.604s.\n",
      "Tried 2300 models, valid 2300, time_spent_in_hours: 40h, time_spent_in_secs: 146816.916s, elapse since last report: 1.56s.\n",
      "Tried 2400 models, valid 2400, time_spent_in_hours: 42h, time_spent_in_secs: 153354.282s, elapse since last report: 1.528s.\n",
      "Tried 2500 models, valid 2500, time_spent_in_hours: 44h, time_spent_in_secs: 159689.855s, elapse since last report: 1.555s.\n",
      "Tried 2600 models, valid 2600, time_spent_in_hours: 46h, time_spent_in_secs: 166165.694s, elapse since last report: 1.593s.\n",
      "Tried 2700 models, valid 2700, time_spent_in_hours: 47h, time_spent_in_secs: 172407.714s, elapse since last report: 1.596s.\n",
      "Tried 2800 models, valid 2800, time_spent_in_hours: 49h, time_spent_in_secs: 178693.444s, elapse since last report: 1.595s.\n",
      "Tried 2900 models, valid 2900, time_spent_in_hours: 51h, time_spent_in_secs: 185143.966s, elapse since last report: 1.544s.\n",
      "Tried 3000 models, valid 3000, time_spent_in_hours: 53h, time_spent_in_secs: 191364.808s, elapse since last report: 1.61s.\n",
      "Tried 3100 models, valid 3100, time_spent_in_hours: 54h, time_spent_in_secs: 197551.716s, elapse since last report: 1.574s.\n",
      "Tried 3200 models, valid 3200, time_spent_in_hours: 56h, time_spent_in_secs: 203929.769s, elapse since last report: 1.579s.\n",
      "Tried 3300 models, valid 3300, time_spent_in_hours: 58h, time_spent_in_secs: 210395.035s, elapse since last report: 1.561s.\n",
      "Tried 3400 models, valid 3400, time_spent_in_hours: 60h, time_spent_in_secs: 216906.373s, elapse since last report: 1.631s.\n",
      "Tried 3500 models, valid 3500, time_spent_in_hours: 62h, time_spent_in_secs: 223242.265s, elapse since last report: 1.598s.\n",
      "Tried 3600 models, valid 3600, time_spent_in_hours: 63h, time_spent_in_secs: 229617.95s, elapse since last report: 1.643s.\n",
      "Tried 3700 models, valid 3700, time_spent_in_hours: 65h, time_spent_in_secs: 236099.935s, elapse since last report: 4.178s.\n",
      "Tried 3800 models, valid 3800, time_spent_in_hours: 67h, time_spent_in_secs: 242451.614s, elapse since last report: 1.641s.\n",
      "Tried 3900 models, valid 3900, time_spent_in_hours: 69h, time_spent_in_secs: 248722.045s, elapse since last report: 1.649s.\n",
      "Tried 4000 models, valid 4000, time_spent_in_hours: 70h, time_spent_in_secs: 255275.057s, elapse since last report: 1.575s.\n",
      "Tried 4100 models, valid 4100, time_spent_in_hours: 72h, time_spent_in_secs: 261769.648s, elapse since last report: 1.615s.\n",
      "Tried 4200 models, valid 4200, time_spent_in_hours: 74h, time_spent_in_secs: 268290.323s, elapse since last report: 1.562s.\n",
      "Tried 4300 models, valid 4300, time_spent_in_hours: 76h, time_spent_in_secs: 274586.561s, elapse since last report: 1.651s.\n",
      "Tried 4400 models, valid 4400, time_spent_in_hours: 78h, time_spent_in_secs: 280847.517s, elapse since last report: 1.654s.\n",
      "Tried 4500 models, valid 4500, time_spent_in_hours: 79h, time_spent_in_secs: 287184.943s, elapse since last report: 1.581s.\n",
      "Tried 4600 models, valid 4600, time_spent_in_hours: 81h, time_spent_in_secs: 293516.541s, elapse since last report: 1.544s.\n",
      "Tried 4700 models, valid 4700, time_spent_in_hours: 83h, time_spent_in_secs: 300013.888s, elapse since last report: 1.608s.\n",
      "Tried 4800 models, valid 4800, time_spent_in_hours: 85h, time_spent_in_secs: 306329.977s, elapse since last report: 1.62s.\n",
      "Tried 4900 models, valid 4900, time_spent_in_hours: 86h, time_spent_in_secs: 312768.477s, elapse since last report: 1.606s.\n",
      "Tried 5000 models, valid 5000, time_spent_in_hours: 88h, time_spent_in_secs: 319170.029s, elapse since last report: 1.652s.\n",
      "Tried 5100 models, valid 5100, time_spent_in_hours: 90h, time_spent_in_secs: 325642.363s, elapse since last report: 1.618s.\n",
      "Tried 5200 models, valid 5200, time_spent_in_hours: 92h, time_spent_in_secs: 332111.584s, elapse since last report: 1.649s.\n",
      "Tried 5300 models, valid 5300, time_spent_in_hours: 93h, time_spent_in_secs: 338357.454s, elapse since last report: 1.673s.\n",
      "Tried 5400 models, valid 5400, time_spent_in_hours: 95h, time_spent_in_secs: 344844.013s, elapse since last report: 1.659s.\n",
      "Tried 5500 models, valid 5500, time_spent_in_hours: 97h, time_spent_in_secs: 351248.715s, elapse since last report: 1.697s.\n",
      "Tried 5600 models, valid 5600, time_spent_in_hours: 99h, time_spent_in_secs: 357678.527s, elapse since last report: 1.709s.\n",
      "Total time elapse: 90.81640481948853 seconds.\n",
      "--------------------------------------------------------------------------------\n",
      "Total evaluated architectures: 5635\n",
      "Total time spent:              7 hours\n",
      "Best model found:              64:64:64:56:56\n",
      "Best model DNA:                DNA([7, 7, 7, 6, 6])\n",
      "Validation accuracy:           85.02000001464843\n",
      "Test accuracy:                 93.18\n",
      "--------------------------------------------------------------------------------\n"
     ]
    }
   ],
   "source": [
    "ss_indicator = 'sss'\n",
    "algo_name = 'evolution'\n",
    "dataset = 'cifar10'\n",
    "max_train_hours = 100\n",
    "\n",
    "executor = NASExecutor(algo_name, dataset, max_train_hours, ss_indicator)\n",
    "\n",
    "sorted_results_rnd = executor.test_nas_algo()\n",
    "#sorted_results_rnd.head()\n",
    "\n",
    "#executor.save_report(sorted_results_rnd, f'data/{algo_name}_{max_train_hours}h_{dataset}.csv')"
   ]
  },
  {
   "cell_type": "markdown",
   "metadata": {
    "tags": []
   },
   "source": [
    "#### 200 hours"
   ]
  },
  {
   "cell_type": "code",
   "execution_count": 39,
   "metadata": {
    "collapsed": true,
    "jupyter": {
     "outputs_hidden": true
    },
    "tags": []
   },
   "outputs": [
    {
     "name": "stdout",
     "output_type": "stream",
     "text": [
      "[2023-07-05 02:03:02] Try to use the default NATS-Bench (size) path from fast_mode=True and path=None.\n",
      "Candidates: [8, 16, 24, 32, 40, 48, 56, 64]\n",
      "Tried 100 models, valid 100, time_spent_in_hours: 1h, time_spent_in_secs: 5592.996s, elapse since last report: 1.799s.\n",
      "Tried 200 models, valid 200, time_spent_in_hours: 3h, time_spent_in_secs: 11879.27s, elapse since last report: 1.572s.\n",
      "Tried 300 models, valid 300, time_spent_in_hours: 5h, time_spent_in_secs: 18278.528s, elapse since last report: 1.55s.\n",
      "Tried 400 models, valid 400, time_spent_in_hours: 6h, time_spent_in_secs: 24601.88s, elapse since last report: 1.537s.\n",
      "Tried 500 models, valid 500, time_spent_in_hours: 8h, time_spent_in_secs: 30910.636s, elapse since last report: 1.508s.\n",
      "Tried 600 models, valid 600, time_spent_in_hours: 10h, time_spent_in_secs: 37416.663s, elapse since last report: 1.527s.\n",
      "Tried 700 models, valid 700, time_spent_in_hours: 12h, time_spent_in_secs: 43679.447s, elapse since last report: 1.567s.\n",
      "Tried 800 models, valid 800, time_spent_in_hours: 13h, time_spent_in_secs: 50208.345s, elapse since last report: 1.478s.\n",
      "Tried 900 models, valid 900, time_spent_in_hours: 15h, time_spent_in_secs: 56646.421s, elapse since last report: 1.438s.\n",
      "Tried 1000 models, valid 1000, time_spent_in_hours: 17h, time_spent_in_secs: 62992.07s, elapse since last report: 1.459s.\n",
      "Tried 1100 models, valid 1100, time_spent_in_hours: 19h, time_spent_in_secs: 69298.365s, elapse since last report: 1.52s.\n",
      "Tried 1200 models, valid 1200, time_spent_in_hours: 21h, time_spent_in_secs: 75716.14s, elapse since last report: 1.428s.\n",
      "Tried 1300 models, valid 1300, time_spent_in_hours: 22h, time_spent_in_secs: 82164.78s, elapse since last report: 1.453s.\n",
      "Tried 1400 models, valid 1400, time_spent_in_hours: 24h, time_spent_in_secs: 88442.78s, elapse since last report: 1.471s.\n",
      "Tried 1500 models, valid 1500, time_spent_in_hours: 26h, time_spent_in_secs: 94854.102s, elapse since last report: 1.45s.\n",
      "Tried 1600 models, valid 1600, time_spent_in_hours: 28h, time_spent_in_secs: 101227.707s, elapse since last report: 1.491s.\n",
      "Tried 1700 models, valid 1700, time_spent_in_hours: 29h, time_spent_in_secs: 107737.015s, elapse since last report: 1.49s.\n",
      "Tried 1800 models, valid 1800, time_spent_in_hours: 31h, time_spent_in_secs: 114210.433s, elapse since last report: 1.43s.\n",
      "Tried 1900 models, valid 1900, time_spent_in_hours: 33h, time_spent_in_secs: 120688.893s, elapse since last report: 1.481s.\n",
      "Tried 2000 models, valid 2000, time_spent_in_hours: 35h, time_spent_in_secs: 127143.9s, elapse since last report: 1.483s.\n",
      "Tried 2100 models, valid 2100, time_spent_in_hours: 37h, time_spent_in_secs: 133744.865s, elapse since last report: 3.322s.\n",
      "Tried 2200 models, valid 2200, time_spent_in_hours: 38h, time_spent_in_secs: 140325.36s, elapse since last report: 1.458s.\n",
      "Tried 2300 models, valid 2300, time_spent_in_hours: 40h, time_spent_in_secs: 146604.567s, elapse since last report: 1.481s.\n",
      "Tried 2400 models, valid 2400, time_spent_in_hours: 42h, time_spent_in_secs: 153107.73s, elapse since last report: 1.487s.\n",
      "Tried 2500 models, valid 2500, time_spent_in_hours: 44h, time_spent_in_secs: 159177.082s, elapse since last report: 1.537s.\n",
      "Tried 2600 models, valid 2600, time_spent_in_hours: 45h, time_spent_in_secs: 165425.561s, elapse since last report: 1.556s.\n",
      "Tried 2700 models, valid 2700, time_spent_in_hours: 47h, time_spent_in_secs: 171694.094s, elapse since last report: 1.617s.\n",
      "Tried 2800 models, valid 2800, time_spent_in_hours: 49h, time_spent_in_secs: 178183.716s, elapse since last report: 1.545s.\n",
      "Tried 2900 models, valid 2900, time_spent_in_hours: 51h, time_spent_in_secs: 184617.027s, elapse since last report: 1.51s.\n",
      "Tried 3000 models, valid 3000, time_spent_in_hours: 53h, time_spent_in_secs: 190987.475s, elapse since last report: 1.512s.\n",
      "Tried 3100 models, valid 3100, time_spent_in_hours: 54h, time_spent_in_secs: 197480.64s, elapse since last report: 1.539s.\n",
      "Tried 3200 models, valid 3200, time_spent_in_hours: 56h, time_spent_in_secs: 203909.163s, elapse since last report: 1.524s.\n",
      "Tried 3300 models, valid 3300, time_spent_in_hours: 58h, time_spent_in_secs: 210323.694s, elapse since last report: 1.532s.\n",
      "Tried 3400 models, valid 3400, time_spent_in_hours: 60h, time_spent_in_secs: 216725.908s, elapse since last report: 1.586s.\n",
      "Tried 3500 models, valid 3500, time_spent_in_hours: 61h, time_spent_in_secs: 223081.573s, elapse since last report: 1.553s.\n",
      "Tried 3600 models, valid 3600, time_spent_in_hours: 63h, time_spent_in_secs: 229476.919s, elapse since last report: 1.573s.\n",
      "Tried 3700 models, valid 3700, time_spent_in_hours: 65h, time_spent_in_secs: 235715.26s, elapse since last report: 1.81s.\n",
      "Tried 3800 models, valid 3800, time_spent_in_hours: 67h, time_spent_in_secs: 242228.253s, elapse since last report: 1.559s.\n",
      "Tried 3900 models, valid 3900, time_spent_in_hours: 69h, time_spent_in_secs: 248842.395s, elapse since last report: 1.628s.\n",
      "Tried 4000 models, valid 4000, time_spent_in_hours: 70h, time_spent_in_secs: 255386.822s, elapse since last report: 1.716s.\n",
      "Tried 4100 models, valid 4100, time_spent_in_hours: 72h, time_spent_in_secs: 261912.76s, elapse since last report: 1.568s.\n",
      "Tried 4200 models, valid 4200, time_spent_in_hours: 74h, time_spent_in_secs: 268372.361s, elapse since last report: 1.573s.\n",
      "Tried 4300 models, valid 4300, time_spent_in_hours: 76h, time_spent_in_secs: 274899.962s, elapse since last report: 1.573s.\n",
      "Tried 4400 models, valid 4400, time_spent_in_hours: 78h, time_spent_in_secs: 281171.902s, elapse since last report: 1.784s.\n",
      "Tried 4500 models, valid 4500, time_spent_in_hours: 79h, time_spent_in_secs: 287395.962s, elapse since last report: 1.713s.\n",
      "Tried 4600 models, valid 4600, time_spent_in_hours: 81h, time_spent_in_secs: 293773.126s, elapse since last report: 1.764s.\n",
      "Tried 4700 models, valid 4700, time_spent_in_hours: 83h, time_spent_in_secs: 300214.476s, elapse since last report: 1.602s.\n",
      "Tried 4800 models, valid 4800, time_spent_in_hours: 85h, time_spent_in_secs: 306685.38s, elapse since last report: 1.614s.\n",
      "Tried 4900 models, valid 4900, time_spent_in_hours: 86h, time_spent_in_secs: 313123.946s, elapse since last report: 1.641s.\n",
      "Tried 5000 models, valid 5000, time_spent_in_hours: 88h, time_spent_in_secs: 319646.082s, elapse since last report: 1.905s.\n",
      "Tried 5100 models, valid 5100, time_spent_in_hours: 90h, time_spent_in_secs: 326049.89s, elapse since last report: 1.62s.\n",
      "Tried 5200 models, valid 5200, time_spent_in_hours: 92h, time_spent_in_secs: 332437.217s, elapse since last report: 1.678s.\n",
      "Tried 5300 models, valid 5300, time_spent_in_hours: 94h, time_spent_in_secs: 338882.997s, elapse since last report: 1.634s.\n",
      "Tried 5400 models, valid 5400, time_spent_in_hours: 95h, time_spent_in_secs: 345332.215s, elapse since last report: 1.701s.\n",
      "Tried 5500 models, valid 5500, time_spent_in_hours: 97h, time_spent_in_secs: 351749.211s, elapse since last report: 1.764s.\n",
      "Tried 5600 models, valid 5600, time_spent_in_hours: 99h, time_spent_in_secs: 358256.437s, elapse since last report: 1.619s.\n",
      "Tried 5700 models, valid 5700, time_spent_in_hours: 101h, time_spent_in_secs: 364668.53s, elapse since last report: 1.707s.\n",
      "Tried 5800 models, valid 5800, time_spent_in_hours: 103h, time_spent_in_secs: 371148.131s, elapse since last report: 1.785s.\n",
      "Tried 5900 models, valid 5900, time_spent_in_hours: 104h, time_spent_in_secs: 377466.873s, elapse since last report: 1.904s.\n",
      "Tried 6000 models, valid 6000, time_spent_in_hours: 106h, time_spent_in_secs: 383788.657s, elapse since last report: 1.954s.\n",
      "Tried 6100 models, valid 6100, time_spent_in_hours: 108h, time_spent_in_secs: 390210.117s, elapse since last report: 1.784s.\n",
      "Tried 6200 models, valid 6200, time_spent_in_hours: 110h, time_spent_in_secs: 396422.285s, elapse since last report: 1.707s.\n",
      "Tried 6300 models, valid 6300, time_spent_in_hours: 111h, time_spent_in_secs: 402798.208s, elapse since last report: 1.666s.\n",
      "Tried 6400 models, valid 6400, time_spent_in_hours: 113h, time_spent_in_secs: 409217.008s, elapse since last report: 1.701s.\n",
      "Tried 6500 models, valid 6500, time_spent_in_hours: 115h, time_spent_in_secs: 415624.827s, elapse since last report: 1.752s.\n",
      "Tried 6600 models, valid 6600, time_spent_in_hours: 117h, time_spent_in_secs: 422026.19s, elapse since last report: 2.073s.\n",
      "Tried 6700 models, valid 6700, time_spent_in_hours: 119h, time_spent_in_secs: 428456.69s, elapse since last report: 1.828s.\n",
      "Tried 6800 models, valid 6800, time_spent_in_hours: 120h, time_spent_in_secs: 434752.16s, elapse since last report: 1.786s.\n",
      "Tried 6900 models, valid 6900, time_spent_in_hours: 122h, time_spent_in_secs: 441316.891s, elapse since last report: 3.89s.\n",
      "Tried 7000 models, valid 7000, time_spent_in_hours: 124h, time_spent_in_secs: 447682.719s, elapse since last report: 2.007s.\n",
      "Tried 7100 models, valid 7100, time_spent_in_hours: 126h, time_spent_in_secs: 454159.949s, elapse since last report: 1.792s.\n",
      "Tried 7200 models, valid 7200, time_spent_in_hours: 127h, time_spent_in_secs: 460623.802s, elapse since last report: 1.715s.\n",
      "Tried 7300 models, valid 7300, time_spent_in_hours: 129h, time_spent_in_secs: 467219.986s, elapse since last report: 1.676s.\n",
      "Tried 7400 models, valid 7400, time_spent_in_hours: 131h, time_spent_in_secs: 473608.644s, elapse since last report: 1.786s.\n",
      "Tried 7500 models, valid 7500, time_spent_in_hours: 133h, time_spent_in_secs: 479934.377s, elapse since last report: 1.819s.\n",
      "Tried 7600 models, valid 7600, time_spent_in_hours: 135h, time_spent_in_secs: 486272.922s, elapse since last report: 1.832s.\n",
      "Tried 7700 models, valid 7700, time_spent_in_hours: 136h, time_spent_in_secs: 492823.003s, elapse since last report: 1.719s.\n",
      "Tried 7800 models, valid 7800, time_spent_in_hours: 138h, time_spent_in_secs: 499096.035s, elapse since last report: 1.7s.\n",
      "Tried 7900 models, valid 7900, time_spent_in_hours: 140h, time_spent_in_secs: 505501.511s, elapse since last report: 1.799s.\n",
      "Tried 8000 models, valid 8000, time_spent_in_hours: 142h, time_spent_in_secs: 512024.44s, elapse since last report: 1.779s.\n",
      "Tried 8100 models, valid 8100, time_spent_in_hours: 144h, time_spent_in_secs: 518520.635s, elapse since last report: 1.82s.\n",
      "Tried 8200 models, valid 8200, time_spent_in_hours: 145h, time_spent_in_secs: 524959.491s, elapse since last report: 2.15s.\n",
      "Tried 8300 models, valid 8300, time_spent_in_hours: 147h, time_spent_in_secs: 531145.161s, elapse since last report: 1.884s.\n",
      "Tried 8400 models, valid 8400, time_spent_in_hours: 149h, time_spent_in_secs: 537595.944s, elapse since last report: 1.732s.\n",
      "Tried 8500 models, valid 8500, time_spent_in_hours: 151h, time_spent_in_secs: 543840.789s, elapse since last report: 1.834s.\n",
      "Tried 8600 models, valid 8600, time_spent_in_hours: 152h, time_spent_in_secs: 550376.451s, elapse since last report: 1.795s.\n",
      "Tried 8700 models, valid 8700, time_spent_in_hours: 154h, time_spent_in_secs: 556730.095s, elapse since last report: 1.897s.\n",
      "Tried 8800 models, valid 8800, time_spent_in_hours: 156h, time_spent_in_secs: 563197.255s, elapse since last report: 1.884s.\n",
      "Tried 8900 models, valid 8900, time_spent_in_hours: 158h, time_spent_in_secs: 569442.907s, elapse since last report: 1.827s.\n",
      "Tried 9000 models, valid 9000, time_spent_in_hours: 159h, time_spent_in_secs: 575871.944s, elapse since last report: 1.847s.\n",
      "Tried 9100 models, valid 9100, time_spent_in_hours: 161h, time_spent_in_secs: 582064.027s, elapse since last report: 2.19s.\n",
      "Tried 9200 models, valid 9200, time_spent_in_hours: 163h, time_spent_in_secs: 588506.171s, elapse since last report: 1.854s.\n",
      "Tried 9300 models, valid 9300, time_spent_in_hours: 165h, time_spent_in_secs: 594944.762s, elapse since last report: 1.878s.\n",
      "Tried 9400 models, valid 9400, time_spent_in_hours: 167h, time_spent_in_secs: 601385.895s, elapse since last report: 1.96s.\n",
      "Tried 9500 models, valid 9500, time_spent_in_hours: 168h, time_spent_in_secs: 607920.912s, elapse since last report: 1.852s.\n",
      "Tried 9600 models, valid 9600, time_spent_in_hours: 170h, time_spent_in_secs: 614227.954s, elapse since last report: 1.93s.\n",
      "Tried 9700 models, valid 9700, time_spent_in_hours: 172h, time_spent_in_secs: 620634.189s, elapse since last report: 1.954s.\n",
      "Tried 9800 models, valid 9800, time_spent_in_hours: 174h, time_spent_in_secs: 627009.001s, elapse since last report: 1.875s.\n",
      "Tried 9900 models, valid 9900, time_spent_in_hours: 175h, time_spent_in_secs: 633498.016s, elapse since last report: 1.813s.\n",
      "Tried 10000 models, valid 10000, time_spent_in_hours: 177h, time_spent_in_secs: 639954.403s, elapse since last report: 1.798s.\n",
      "Tried 10100 models, valid 10100, time_spent_in_hours: 179h, time_spent_in_secs: 646394.996s, elapse since last report: 1.892s.\n",
      "Tried 10200 models, valid 10200, time_spent_in_hours: 181h, time_spent_in_secs: 652567.089s, elapse since last report: 2.237s.\n",
      "Tried 10300 models, valid 10300, time_spent_in_hours: 183h, time_spent_in_secs: 658903.847s, elapse since last report: 1.955s.\n",
      "Tried 10400 models, valid 10400, time_spent_in_hours: 184h, time_spent_in_secs: 665294.285s, elapse since last report: 2.033s.\n",
      "Tried 10500 models, valid 10500, time_spent_in_hours: 186h, time_spent_in_secs: 671685.756s, elapse since last report: 1.91s.\n",
      "Tried 10600 models, valid 10600, time_spent_in_hours: 188h, time_spent_in_secs: 678170.148s, elapse since last report: 1.934s.\n",
      "Tried 10700 models, valid 10700, time_spent_in_hours: 190h, time_spent_in_secs: 684427.995s, elapse since last report: 2.058s.\n",
      "Tried 10800 models, valid 10800, time_spent_in_hours: 191h, time_spent_in_secs: 690707.925s, elapse since last report: 2.09s.\n",
      "Tried 10900 models, valid 10900, time_spent_in_hours: 193h, time_spent_in_secs: 696923.931s, elapse since last report: 2.084s.\n",
      "Tried 11000 models, valid 11000, time_spent_in_hours: 195h, time_spent_in_secs: 703211.147s, elapse since last report: 2.01s.\n",
      "Tried 11100 models, valid 11100, time_spent_in_hours: 197h, time_spent_in_secs: 709488.391s, elapse since last report: 2.011s.\n",
      "Tried 11200 models, valid 11200, time_spent_in_hours: 198h, time_spent_in_secs: 715642.801s, elapse since last report: 2.035s.\n",
      "Total time elapse: 198.76349902153015 seconds.\n",
      "--------------------------------------------------------------------------------\n",
      "Total evaluated architectures: 11267\n",
      "Total time spent:              81 hours\n",
      "Best model found:              64:64:64:56:56\n",
      "Best model DNA:                DNA([7, 7, 7, 6, 6])\n",
      "Validation accuracy:           85.02000001464843\n",
      "Test accuracy:                 93.18\n",
      "--------------------------------------------------------------------------------\n"
     ]
    }
   ],
   "source": [
    "ss_indicator = 'sss'\n",
    "algo_name = 'evolution'\n",
    "dataset = 'cifar10'\n",
    "max_train_hours = 200\n",
    "\n",
    "executor = NASExecutor(algo_name, dataset, max_train_hours, ss_indicator)\n",
    "\n",
    "sorted_results_rnd = executor.test_nas_algo()\n",
    "#sorted_results_rnd.head()\n",
    "\n",
    "#executor.save_report(sorted_results_rnd, f'data/{algo_name}_{max_train_hours}h_{dataset}.csv')"
   ]
  },
  {
   "cell_type": "markdown",
   "metadata": {
    "tags": []
   },
   "source": [
    "### Test with Reinforcement Learning Algorithm"
   ]
  },
  {
   "cell_type": "markdown",
   "metadata": {
    "tags": []
   },
   "source": [
    "#### 1 hour"
   ]
  },
  {
   "cell_type": "code",
   "execution_count": 13,
   "metadata": {
    "collapsed": true,
    "jupyter": {
     "outputs_hidden": true
    },
    "tags": []
   },
   "outputs": [
    {
     "name": "stdout",
     "output_type": "stream",
     "text": [
      "[2023-07-05 00:52:59] Try to use the default NATS-Bench (size) path from fast_mode=True and path=None.\n",
      "Candidates: [8, 16, 24, 32, 40, 48, 56, 64]\n",
      "Total time elapse: 11.599350929260254 seconds.\n",
      "--------------------------------------------------------------------------------\n",
      "Total evaluated architectures: 75\n",
      "Total time spent:              0 hours\n",
      "Best model found:              48:40:40:40:40\n",
      "Best model DNA:                DNA([5, 4, 4, 4, 4])\n",
      "Validation accuracy:           83.27199997070312\n",
      "Test accuracy:                 92.51\n",
      "--------------------------------------------------------------------------------\n"
     ]
    }
   ],
   "source": [
    "ss_indicator = 'sss'\n",
    "algo_name = 'rl'\n",
    "dataset = 'cifar10'\n",
    "max_train_hours = 1\n",
    "\n",
    "executor = NASExecutor(algo_name, dataset, max_train_hours, ss_indicator)\n",
    "\n",
    "sorted_results_rnd = executor.test_nas_algo()\n",
    "#sorted_results_rnd.head()\n",
    "\n",
    "#executor.save_report(sorted_results_rnd, f'data/{algo_name}_{max_train_hours}h_{dataset}.csv')"
   ]
  },
  {
   "cell_type": "markdown",
   "metadata": {
    "tags": []
   },
   "source": [
    "#### 10 hours"
   ]
  },
  {
   "cell_type": "code",
   "execution_count": 14,
   "metadata": {
    "collapsed": true,
    "jupyter": {
     "outputs_hidden": true
    },
    "tags": []
   },
   "outputs": [
    {
     "name": "stdout",
     "output_type": "stream",
     "text": [
      "[2023-07-05 00:53:14] Try to use the default NATS-Bench (size) path from fast_mode=True and path=None.\n",
      "Candidates: [8, 16, 24, 32, 40, 48, 56, 64]\n",
      "Tried 100 models, valid 100, time_spent_in_hours: 1h, time_spent_in_secs: 4181.159s, elapse since last report: 13.638s.\n",
      "Tried 200 models, valid 200, time_spent_in_hours: 2h, time_spent_in_secs: 8274.62s, elapse since last report: 13.6s.\n",
      "Tried 300 models, valid 300, time_spent_in_hours: 3h, time_spent_in_secs: 12490.835s, elapse since last report: 16.227s.\n",
      "Tried 400 models, valid 400, time_spent_in_hours: 4h, time_spent_in_secs: 16854.043s, elapse since last report: 14.531s.\n",
      "Tried 500 models, valid 500, time_spent_in_hours: 5h, time_spent_in_secs: 21049.764s, elapse since last report: 14.644s.\n",
      "Tried 600 models, valid 600, time_spent_in_hours: 7h, time_spent_in_secs: 25642.012s, elapse since last report: 16.783s.\n",
      "Tried 700 models, valid 700, time_spent_in_hours: 8h, time_spent_in_secs: 30299.062s, elapse since last report: 15.597s.\n",
      "Tried 800 models, valid 800, time_spent_in_hours: 9h, time_spent_in_secs: 34733.325s, elapse since last report: 16.404s.\n",
      "Total time elapse: 126.55475163459778 seconds.\n",
      "--------------------------------------------------------------------------------\n",
      "Total evaluated architectures: 831\n",
      "Total time spent:              6 hours\n",
      "Best model found:              56:08:48:56:56\n",
      "Best model DNA:                DNA([6, 0, 5, 6, 6])\n",
      "Validation accuracy:           82.17199997314454\n",
      "Test accuracy:                 92.69\n",
      "--------------------------------------------------------------------------------\n"
     ]
    }
   ],
   "source": [
    "ss_indicator = 'sss'\n",
    "algo_name = 'rl'\n",
    "dataset = 'cifar10'\n",
    "max_train_hours = 10\n",
    "\n",
    "executor = NASExecutor(algo_name, dataset, max_train_hours, ss_indicator)\n",
    "\n",
    "sorted_results_rnd = executor.test_nas_algo()\n",
    "#sorted_results_rnd.head()\n",
    "\n",
    "#executor.save_report(sorted_results_rnd, f'data/{algo_name}_{max_train_hours}h_{dataset}.csv')"
   ]
  },
  {
   "cell_type": "markdown",
   "metadata": {
    "tags": []
   },
   "source": [
    "#### 50 hours"
   ]
  },
  {
   "cell_type": "code",
   "execution_count": 15,
   "metadata": {
    "collapsed": true,
    "jupyter": {
     "outputs_hidden": true
    },
    "tags": []
   },
   "outputs": [
    {
     "name": "stdout",
     "output_type": "stream",
     "text": [
      "[2023-07-05 00:55:21] Try to use the default NATS-Bench (size) path from fast_mode=True and path=None.\n",
      "Candidates: [8, 16, 24, 32, 40, 48, 56, 64]\n",
      "Tried 100 models, valid 100, time_spent_in_hours: 1h, time_spent_in_secs: 4259.677s, elapse since last report: 14.459s.\n",
      "Tried 200 models, valid 200, time_spent_in_hours: 2h, time_spent_in_secs: 8414.774s, elapse since last report: 13.929s.\n",
      "Tried 300 models, valid 300, time_spent_in_hours: 3h, time_spent_in_secs: 13580.868s, elapse since last report: 15.051s.\n",
      "Tried 400 models, valid 400, time_spent_in_hours: 5h, time_spent_in_secs: 19935.225s, elapse since last report: 14.449s.\n",
      "Tried 500 models, valid 500, time_spent_in_hours: 7h, time_spent_in_secs: 26099.432s, elapse since last report: 15.53s.\n",
      "WARNING:tensorflow:5 out of the last 9 calls to <function Model.make_train_function.<locals>.train_function at 0x7fb0f5645940> triggered tf.function retracing. Tracing is expensive and the excessive number of tracings could be due to (1) creating @tf.function repeatedly in a loop, (2) passing tensors with different shapes, (3) passing Python objects instead of tensors. For (1), please define your @tf.function outside of the loop. For (2), @tf.function has experimental_relax_shapes=True option that relaxes argument shapes that can avoid unnecessary retracing. For (3), please refer to https://www.tensorflow.org/guide/function#controlling_retracing and https://www.tensorflow.org/api_docs/python/tf/function for  more details.\n",
      "Tried 600 models, valid 600, time_spent_in_hours: 8h, time_spent_in_secs: 32219.353s, elapse since last report: 16.003s.\n",
      "Tried 700 models, valid 700, time_spent_in_hours: 10h, time_spent_in_secs: 38108.035s, elapse since last report: 15.373s.\n",
      "WARNING:tensorflow:6 out of the last 11 calls to <function Model.make_train_function.<locals>.train_function at 0x7fb0d3b87160> triggered tf.function retracing. Tracing is expensive and the excessive number of tracings could be due to (1) creating @tf.function repeatedly in a loop, (2) passing tensors with different shapes, (3) passing Python objects instead of tensors. For (1), please define your @tf.function outside of the loop. For (2), @tf.function has experimental_relax_shapes=True option that relaxes argument shapes that can avoid unnecessary retracing. For (3), please refer to https://www.tensorflow.org/guide/function#controlling_retracing and https://www.tensorflow.org/api_docs/python/tf/function for  more details.\n",
      "Tried 800 models, valid 800, time_spent_in_hours: 12h, time_spent_in_secs: 44018.402s, elapse since last report: 17.662s.\n",
      "Tried 900 models, valid 900, time_spent_in_hours: 13h, time_spent_in_secs: 49590.643s, elapse since last report: 16.728s.\n",
      "Tried 1000 models, valid 1000, time_spent_in_hours: 15h, time_spent_in_secs: 55223.955s, elapse since last report: 17.088s.\n",
      "Tried 1100 models, valid 1100, time_spent_in_hours: 17h, time_spent_in_secs: 61752.662s, elapse since last report: 17.715s.\n",
      "Tried 1200 models, valid 1200, time_spent_in_hours: 19h, time_spent_in_secs: 68612.54s, elapse since last report: 18.279s.\n",
      "Tried 1300 models, valid 1300, time_spent_in_hours: 20h, time_spent_in_secs: 75501.159s, elapse since last report: 18.68s.\n",
      "Tried 1400 models, valid 1400, time_spent_in_hours: 22h, time_spent_in_secs: 82309.089s, elapse since last report: 17.711s.\n",
      "Tried 1500 models, valid 1500, time_spent_in_hours: 24h, time_spent_in_secs: 89086.835s, elapse since last report: 18.209s.\n",
      "Tried 1600 models, valid 1600, time_spent_in_hours: 26h, time_spent_in_secs: 95042.649s, elapse since last report: 19.396s.\n",
      "Tried 1700 models, valid 1700, time_spent_in_hours: 27h, time_spent_in_secs: 100397.182s, elapse since last report: 20.503s.\n",
      "Tried 1800 models, valid 1800, time_spent_in_hours: 29h, time_spent_in_secs: 105872.764s, elapse since last report: 20.145s.\n",
      "Tried 1900 models, valid 1900, time_spent_in_hours: 31h, time_spent_in_secs: 112808.758s, elapse since last report: 19.341s.\n",
      "Tried 2000 models, valid 2000, time_spent_in_hours: 33h, time_spent_in_secs: 119740.574s, elapse since last report: 20.072s.\n",
      "Tried 2100 models, valid 2100, time_spent_in_hours: 35h, time_spent_in_secs: 126684.649s, elapse since last report: 22.296s.\n",
      "Tried 2200 models, valid 2200, time_spent_in_hours: 37h, time_spent_in_secs: 133673.336s, elapse since last report: 20.734s.\n",
      "Tried 2300 models, valid 2300, time_spent_in_hours: 39h, time_spent_in_secs: 140602.302s, elapse since last report: 20.956s.\n",
      "Tried 2400 models, valid 2400, time_spent_in_hours: 40h, time_spent_in_secs: 147594.873s, elapse since last report: 22.024s.\n",
      "Tried 2500 models, valid 2500, time_spent_in_hours: 42h, time_spent_in_secs: 154585.254s, elapse since last report: 21.48s.\n",
      "Tried 2600 models, valid 2600, time_spent_in_hours: 44h, time_spent_in_secs: 161089.969s, elapse since last report: 23.903s.\n",
      "Tried 2700 models, valid 2700, time_spent_in_hours: 46h, time_spent_in_secs: 166861.965s, elapse since last report: 22.322s.\n",
      "Tried 2800 models, valid 2800, time_spent_in_hours: 47h, time_spent_in_secs: 172648.279s, elapse since last report: 22.476s.\n",
      "Tried 2900 models, valid 2900, time_spent_in_hours: 49h, time_spent_in_secs: 177471.886s, elapse since last report: 23.617s.\n",
      "Total time elapse: 558.749908208847 seconds.\n",
      "--------------------------------------------------------------------------------\n",
      "Total evaluated architectures: 2954\n",
      "Total time spent:              32 hours\n",
      "Best model found:              64:64:64:64:64\n",
      "Best model DNA:                DNA([7, 7, 7, 7, 7])\n",
      "Validation accuracy:           84.95600000488281\n",
      "Test accuracy:                 93.4\n",
      "--------------------------------------------------------------------------------\n"
     ]
    }
   ],
   "source": [
    "ss_indicator = 'sss'\n",
    "algo_name = 'rl'\n",
    "dataset = 'cifar10'\n",
    "max_train_hours = 50\n",
    "\n",
    "executor = NASExecutor(algo_name, dataset, max_train_hours, ss_indicator)\n",
    "\n",
    "sorted_results_rnd = executor.test_nas_algo()\n",
    "#sorted_results_rnd.head()\n",
    "\n",
    "#executor.save_report(sorted_results_rnd, f'data/{algo_name}_{max_train_hours}h_{dataset}.csv')"
   ]
  },
  {
   "cell_type": "markdown",
   "metadata": {
    "tags": []
   },
   "source": [
    "#### 100 hours"
   ]
  },
  {
   "cell_type": "code",
   "execution_count": 40,
   "metadata": {
    "collapsed": true,
    "jupyter": {
     "outputs_hidden": true
    },
    "tags": []
   },
   "outputs": [
    {
     "name": "stdout",
     "output_type": "stream",
     "text": [
      "[2023-07-05 02:06:22] Try to use the default NATS-Bench (size) path from fast_mode=True and path=None.\n",
      "Candidates: [8, 16, 24, 32, 40, 48, 56, 64]\n",
      "Tried 100 models, valid 100, time_spent_in_hours: 1h, time_spent_in_secs: 4700.345s, elapse since last report: 13.946s.\n",
      "Tried 200 models, valid 200, time_spent_in_hours: 2h, time_spent_in_secs: 9394.581s, elapse since last report: 13.643s.\n",
      "Tried 300 models, valid 300, time_spent_in_hours: 3h, time_spent_in_secs: 13892.221s, elapse since last report: 14.862s.\n",
      "Tried 400 models, valid 400, time_spent_in_hours: 5h, time_spent_in_secs: 18150.117s, elapse since last report: 17.581s.\n",
      "Tried 500 models, valid 500, time_spent_in_hours: 6h, time_spent_in_secs: 22465.956s, elapse since last report: 14.982s.\n",
      "Tried 600 models, valid 600, time_spent_in_hours: 7h, time_spent_in_secs: 27343.173s, elapse since last report: 16.072s.\n",
      "Tried 700 models, valid 700, time_spent_in_hours: 8h, time_spent_in_secs: 32138.169s, elapse since last report: 15.452s.\n",
      "Tried 800 models, valid 800, time_spent_in_hours: 10h, time_spent_in_secs: 37289.791s, elapse since last report: 16.827s.\n",
      "Tried 900 models, valid 900, time_spent_in_hours: 11h, time_spent_in_secs: 42807.971s, elapse since last report: 16.284s.\n",
      "Tried 1000 models, valid 1000, time_spent_in_hours: 13h, time_spent_in_secs: 48328.484s, elapse since last report: 16.563s.\n",
      "Tried 1100 models, valid 1100, time_spent_in_hours: 15h, time_spent_in_secs: 54291.565s, elapse since last report: 17.679s.\n",
      "Tried 1200 models, valid 1200, time_spent_in_hours: 16h, time_spent_in_secs: 60366.319s, elapse since last report: 17.418s.\n",
      "Tried 1300 models, valid 1300, time_spent_in_hours: 18h, time_spent_in_secs: 66313.336s, elapse since last report: 18.427s.\n",
      "Tried 1400 models, valid 1400, time_spent_in_hours: 19h, time_spent_in_secs: 71638.034s, elapse since last report: 17.992s.\n",
      "Tried 1500 models, valid 1500, time_spent_in_hours: 21h, time_spent_in_secs: 76958.085s, elapse since last report: 21.344s.\n",
      "Tried 1600 models, valid 1600, time_spent_in_hours: 23h, time_spent_in_secs: 83003.481s, elapse since last report: 19.748s.\n",
      "Tried 1700 models, valid 1700, time_spent_in_hours: 24h, time_spent_in_secs: 89380.496s, elapse since last report: 19.236s.\n",
      "Tried 1800 models, valid 1800, time_spent_in_hours: 26h, time_spent_in_secs: 95686.999s, elapse since last report: 20.387s.\n",
      "Tried 1900 models, valid 1900, time_spent_in_hours: 28h, time_spent_in_secs: 101867.465s, elapse since last report: 19.676s.\n",
      "Tried 2000 models, valid 2000, time_spent_in_hours: 30h, time_spent_in_secs: 108138.448s, elapse since last report: 20.198s.\n",
      "Tried 2100 models, valid 2100, time_spent_in_hours: 31h, time_spent_in_secs: 114157.432s, elapse since last report: 21.297s.\n",
      "Tried 2200 models, valid 2200, time_spent_in_hours: 33h, time_spent_in_secs: 120121.429s, elapse since last report: 20.858s.\n",
      "Tried 2300 models, valid 2300, time_spent_in_hours: 35h, time_spent_in_secs: 126053.133s, elapse since last report: 21.236s.\n",
      "Tried 2400 models, valid 2400, time_spent_in_hours: 36h, time_spent_in_secs: 132189.586s, elapse since last report: 22.3s.\n",
      "Tried 2500 models, valid 2500, time_spent_in_hours: 38h, time_spent_in_secs: 138288.932s, elapse since last report: 22.326s.\n",
      "Tried 2600 models, valid 2600, time_spent_in_hours: 40h, time_spent_in_secs: 144525.706s, elapse since last report: 23.817s.\n",
      "Tried 2700 models, valid 2700, time_spent_in_hours: 41h, time_spent_in_secs: 151055.024s, elapse since last report: 26.892s.\n",
      "Tried 2800 models, valid 2800, time_spent_in_hours: 43h, time_spent_in_secs: 157608.803s, elapse since last report: 23.909s.\n",
      "Tried 2900 models, valid 2900, time_spent_in_hours: 45h, time_spent_in_secs: 164120.896s, elapse since last report: 24.696s.\n",
      "Tried 3000 models, valid 3000, time_spent_in_hours: 47h, time_spent_in_secs: 170658.616s, elapse since last report: 24.306s.\n",
      "Tried 3100 models, valid 3100, time_spent_in_hours: 49h, time_spent_in_secs: 176856.267s, elapse since last report: 25.814s.\n",
      "Tried 3200 models, valid 3200, time_spent_in_hours: 50h, time_spent_in_secs: 181800.977s, elapse since last report: 25.189s.\n",
      "Tried 3300 models, valid 3300, time_spent_in_hours: 51h, time_spent_in_secs: 186730.467s, elapse since last report: 25.519s.\n",
      "Tried 3400 models, valid 3400, time_spent_in_hours: 53h, time_spent_in_secs: 191731.008s, elapse since last report: 26.75s.\n",
      "Tried 3500 models, valid 3500, time_spent_in_hours: 54h, time_spent_in_secs: 196668.003s, elapse since last report: 26.139s.\n",
      "Tried 3600 models, valid 3600, time_spent_in_hours: 56h, time_spent_in_secs: 201755.248s, elapse since last report: 27.148s.\n",
      "Tried 3700 models, valid 3700, time_spent_in_hours: 57h, time_spent_in_secs: 207203.237s, elapse since last report: 26.655s.\n",
      "Tried 3800 models, valid 3800, time_spent_in_hours: 59h, time_spent_in_secs: 212714.508s, elapse since last report: 26.999s.\n",
      "Tried 3900 models, valid 3900, time_spent_in_hours: 60h, time_spent_in_secs: 217962.657s, elapse since last report: 31.593s.\n",
      "Tried 4000 models, valid 4000, time_spent_in_hours: 61h, time_spent_in_secs: 222952.727s, elapse since last report: 28.5s.\n",
      "Tried 4100 models, valid 4100, time_spent_in_hours: 63h, time_spent_in_secs: 227935.335s, elapse since last report: 29.202s.\n",
      "Tried 4200 models, valid 4200, time_spent_in_hours: 64h, time_spent_in_secs: 233267.223s, elapse since last report: 28.689s.\n",
      "Tried 4300 models, valid 4300, time_spent_in_hours: 66h, time_spent_in_secs: 238658.491s, elapse since last report: 29.009s.\n",
      "Tried 4400 models, valid 4400, time_spent_in_hours: 67h, time_spent_in_secs: 243651.782s, elapse since last report: 30.494s.\n",
      "Tried 4500 models, valid 4500, time_spent_in_hours: 68h, time_spent_in_secs: 248235.329s, elapse since last report: 29.711s.\n",
      "Tried 4600 models, valid 4600, time_spent_in_hours: 70h, time_spent_in_secs: 252750.742s, elapse since last report: 30.395s.\n",
      "Tried 4700 models, valid 4700, time_spent_in_hours: 71h, time_spent_in_secs: 256983.789s, elapse since last report: 31.728s.\n",
      "Tried 4800 models, valid 4800, time_spent_in_hours: 72h, time_spent_in_secs: 261204.283s, elapse since last report: 31.399s.\n",
      "Tried 4900 models, valid 4900, time_spent_in_hours: 73h, time_spent_in_secs: 265474.712s, elapse since last report: 31.637s.\n",
      "Tried 5000 models, valid 5000, time_spent_in_hours: 74h, time_spent_in_secs: 269800.335s, elapse since last report: 31.83s.\n",
      "Tried 5100 models, valid 5100, time_spent_in_hours: 76h, time_spent_in_secs: 274067.697s, elapse since last report: 32.24s.\n",
      "Tried 5200 models, valid 5200, time_spent_in_hours: 77h, time_spent_in_secs: 278672.482s, elapse since last report: 37.518s.\n",
      "Tried 5300 models, valid 5300, time_spent_in_hours: 78h, time_spent_in_secs: 283330.128s, elapse since last report: 33.344s.\n",
      "Tried 5400 models, valid 5400, time_spent_in_hours: 79h, time_spent_in_secs: 287997.67s, elapse since last report: 34.134s.\n",
      "Tried 5500 models, valid 5500, time_spent_in_hours: 81h, time_spent_in_secs: 292778.702s, elapse since last report: 33.92s.\n",
      "Tried 5600 models, valid 5600, time_spent_in_hours: 82h, time_spent_in_secs: 297492.767s, elapse since last report: 34.079s.\n",
      "Tried 5700 models, valid 5700, time_spent_in_hours: 83h, time_spent_in_secs: 302050.514s, elapse since last report: 35.31s.\n",
      "Tried 5800 models, valid 5800, time_spent_in_hours: 85h, time_spent_in_secs: 306535.182s, elapse since last report: 34.976s.\n",
      "Tried 5900 models, valid 5900, time_spent_in_hours: 86h, time_spent_in_secs: 311094.172s, elapse since last report: 35.919s.\n",
      "Tried 6000 models, valid 6000, time_spent_in_hours: 87h, time_spent_in_secs: 315311.134s, elapse since last report: 34.72s.\n",
      "Tried 6100 models, valid 6100, time_spent_in_hours: 88h, time_spent_in_secs: 319464.145s, elapse since last report: 34.903s.\n",
      "Tried 6200 models, valid 6200, time_spent_in_hours: 90h, time_spent_in_secs: 324024.738s, elapse since last report: 36.639s.\n",
      "Tried 6300 models, valid 6300, time_spent_in_hours: 91h, time_spent_in_secs: 328755.949s, elapse since last report: 35.822s.\n",
      "Tried 6400 models, valid 6400, time_spent_in_hours: 92h, time_spent_in_secs: 333408.14s, elapse since last report: 36.477s.\n",
      "Tried 6500 models, valid 6500, time_spent_in_hours: 93h, time_spent_in_secs: 338089.588s, elapse since last report: 37.752s.\n",
      "Tried 6600 models, valid 6600, time_spent_in_hours: 95h, time_spent_in_secs: 342791.516s, elapse since last report: 41.211s.\n",
      "Tried 6700 models, valid 6700, time_spent_in_hours: 96h, time_spent_in_secs: 347628.055s, elapse since last report: 38.884s.\n",
      "Tried 6800 models, valid 6800, time_spent_in_hours: 97h, time_spent_in_secs: 352723.935s, elapse since last report: 38.149s.\n",
      "Tried 6900 models, valid 6900, time_spent_in_hours: 99h, time_spent_in_secs: 357829.888s, elapse since last report: 38.327s.\n",
      "Total time elapse: 1857.980568408966 seconds.\n",
      "--------------------------------------------------------------------------------\n",
      "Total evaluated architectures: 6946\n",
      "Total time spent:              45 hours\n",
      "Best model found:              56:64:64:56:56\n",
      "Best model DNA:                DNA([6, 7, 7, 6, 6])\n",
      "Validation accuracy:           85.0\n",
      "Test accuracy:                 93.09\n",
      "--------------------------------------------------------------------------------\n"
     ]
    }
   ],
   "source": [
    "ss_indicator = 'sss'\n",
    "algo_name = 'rl'\n",
    "dataset = 'cifar10'\n",
    "max_train_hours = 100\n",
    "\n",
    "executor = NASExecutor(algo_name, dataset, max_train_hours, ss_indicator)\n",
    "\n",
    "sorted_results_rnd = executor.test_nas_algo()\n",
    "#sorted_results_rnd.head()\n",
    "\n",
    "#executor.save_report(sorted_results_rnd, f'data/{algo_name}_{max_train_hours}h_{dataset}.csv')"
   ]
  },
  {
   "cell_type": "markdown",
   "metadata": {
    "tags": []
   },
   "source": [
    "#### 200 hours"
   ]
  },
  {
   "cell_type": "code",
   "execution_count": 41,
   "metadata": {
    "collapsed": true,
    "jupyter": {
     "outputs_hidden": true
    },
    "tags": []
   },
   "outputs": [
    {
     "name": "stdout",
     "output_type": "stream",
     "text": [
      "[2023-07-05 02:37:21] Try to use the default NATS-Bench (size) path from fast_mode=True and path=None.\n",
      "Candidates: [8, 16, 24, 32, 40, 48, 56, 64]\n",
      "Tried 100 models, valid 100, time_spent_in_hours: 1h, time_spent_in_secs: 6410.188s, elapse since last report: 14.866s.\n",
      "Tried 200 models, valid 200, time_spent_in_hours: 3h, time_spent_in_secs: 12835.853s, elapse since last report: 14.524s.\n",
      "Tried 300 models, valid 300, time_spent_in_hours: 5h, time_spent_in_secs: 19231.922s, elapse since last report: 15.73s.\n",
      "Tried 400 models, valid 400, time_spent_in_hours: 7h, time_spent_in_secs: 25452.95s, elapse since last report: 15.321s.\n",
      "Tried 500 models, valid 500, time_spent_in_hours: 8h, time_spent_in_secs: 31660.937s, elapse since last report: 15.41s.\n",
      "Tried 600 models, valid 600, time_spent_in_hours: 10h, time_spent_in_secs: 38120.776s, elapse since last report: 16.996s.\n",
      "Tried 700 models, valid 700, time_spent_in_hours: 12h, time_spent_in_secs: 44582.968s, elapse since last report: 16.212s.\n",
      "Tried 800 models, valid 800, time_spent_in_hours: 14h, time_spent_in_secs: 50927.049s, elapse since last report: 17.955s.\n",
      "Tried 900 models, valid 900, time_spent_in_hours: 15h, time_spent_in_secs: 56736.387s, elapse since last report: 17.002s.\n",
      "Tried 1000 models, valid 1000, time_spent_in_hours: 17h, time_spent_in_secs: 62626.386s, elapse since last report: 17.729s.\n",
      "Tried 1100 models, valid 1100, time_spent_in_hours: 19h, time_spent_in_secs: 68787.168s, elapse since last report: 23.232s.\n",
      "Tried 1200 models, valid 1200, time_spent_in_hours: 20h, time_spent_in_secs: 74982.953s, elapse since last report: 18.232s.\n",
      "Tried 1300 models, valid 1300, time_spent_in_hours: 22h, time_spent_in_secs: 81231.947s, elapse since last report: 19.228s.\n",
      "Tried 1400 models, valid 1400, time_spent_in_hours: 24h, time_spent_in_secs: 87808.557s, elapse since last report: 18.811s.\n",
      "Tried 1500 models, valid 1500, time_spent_in_hours: 26h, time_spent_in_secs: 94392.863s, elapse since last report: 19.429s.\n",
      "Tried 1600 models, valid 1600, time_spent_in_hours: 28h, time_spent_in_secs: 101045.819s, elapse since last report: 20.683s.\n",
      "Tried 1700 models, valid 1700, time_spent_in_hours: 29h, time_spent_in_secs: 107706.037s, elapse since last report: 20.108s.\n",
      "Tried 1800 models, valid 1800, time_spent_in_hours: 31h, time_spent_in_secs: 114360.774s, elapse since last report: 21.443s.\n",
      "Tried 1900 models, valid 1900, time_spent_in_hours: 33h, time_spent_in_secs: 120990.628s, elapse since last report: 20.758s.\n",
      "Tried 2000 models, valid 2000, time_spent_in_hours: 35h, time_spent_in_secs: 127636.943s, elapse since last report: 21.118s.\n",
      "Tried 2100 models, valid 2100, time_spent_in_hours: 37h, time_spent_in_secs: 134218.837s, elapse since last report: 22.532s.\n",
      "Tried 2200 models, valid 2200, time_spent_in_hours: 39h, time_spent_in_secs: 140758.73s, elapse since last report: 21.544s.\n",
      "Tried 2300 models, valid 2300, time_spent_in_hours: 40h, time_spent_in_secs: 147337.539s, elapse since last report: 21.923s.\n",
      "Tried 2400 models, valid 2400, time_spent_in_hours: 42h, time_spent_in_secs: 154342.59s, elapse since last report: 22.9s.\n",
      "Tried 2500 models, valid 2500, time_spent_in_hours: 44h, time_spent_in_secs: 161366.903s, elapse since last report: 22.98s.\n",
      "Tried 2600 models, valid 2600, time_spent_in_hours: 46h, time_spent_in_secs: 168372.822s, elapse since last report: 28.511s.\n",
      "Tried 2700 models, valid 2700, time_spent_in_hours: 48h, time_spent_in_secs: 175411.788s, elapse since last report: 23.627s.\n",
      "Tried 2800 models, valid 2800, time_spent_in_hours: 50h, time_spent_in_secs: 182462.003s, elapse since last report: 24.335s.\n",
      "Tried 2900 models, valid 2900, time_spent_in_hours: 52h, time_spent_in_secs: 189459.709s, elapse since last report: 25.26s.\n",
      "Tried 3000 models, valid 3000, time_spent_in_hours: 54h, time_spent_in_secs: 196415.511s, elapse since last report: 24.698s.\n",
      "Tried 3100 models, valid 3100, time_spent_in_hours: 56h, time_spent_in_secs: 203163.077s, elapse since last report: 26.139s.\n",
      "Tried 3200 models, valid 3200, time_spent_in_hours: 58h, time_spent_in_secs: 209385.6s, elapse since last report: 25.396s.\n",
      "Tried 3300 models, valid 3300, time_spent_in_hours: 59h, time_spent_in_secs: 215652.889s, elapse since last report: 25.966s.\n",
      "Tried 3400 models, valid 3400, time_spent_in_hours: 61h, time_spent_in_secs: 221955.246s, elapse since last report: 26.954s.\n",
      "Tried 3500 models, valid 3500, time_spent_in_hours: 63h, time_spent_in_secs: 228285.668s, elapse since last report: 26.652s.\n",
      "Tried 3600 models, valid 3600, time_spent_in_hours: 65h, time_spent_in_secs: 234661.423s, elapse since last report: 27.645s.\n",
      "Tried 3700 models, valid 3700, time_spent_in_hours: 66h, time_spent_in_secs: 240682.904s, elapse since last report: 27.133s.\n",
      "Tried 3800 models, valid 3800, time_spent_in_hours: 68h, time_spent_in_secs: 246657.972s, elapse since last report: 27.515s.\n",
      "Tried 3900 models, valid 3900, time_spent_in_hours: 70h, time_spent_in_secs: 252567.658s, elapse since last report: 28.754s.\n",
      "Tried 4000 models, valid 4000, time_spent_in_hours: 71h, time_spent_in_secs: 258424.718s, elapse since last report: 32.647s.\n",
      "Tried 4100 models, valid 4100, time_spent_in_hours: 73h, time_spent_in_secs: 264325.144s, elapse since last report: 30.341s.\n",
      "Tried 4200 models, valid 4200, time_spent_in_hours: 74h, time_spent_in_secs: 269935.941s, elapse since last report: 29.133s.\n",
      "Tried 4300 models, valid 4300, time_spent_in_hours: 76h, time_spent_in_secs: 275554.676s, elapse since last report: 29.593s.\n",
      "Tried 4400 models, valid 4400, time_spent_in_hours: 78h, time_spent_in_secs: 281347.199s, elapse since last report: 30.156s.\n",
      "Tried 4500 models, valid 4500, time_spent_in_hours: 79h, time_spent_in_secs: 287307.912s, elapse since last report: 30.504s.\n",
      "Tried 4600 models, valid 4600, time_spent_in_hours: 81h, time_spent_in_secs: 293299.919s, elapse since last report: 29.821s.\n",
      "Tried 4700 models, valid 4700, time_spent_in_hours: 83h, time_spent_in_secs: 299270.937s, elapse since last report: 31.963s.\n",
      "Tried 4800 models, valid 4800, time_spent_in_hours: 84h, time_spent_in_secs: 305185.44s, elapse since last report: 31.171s.\n",
      "Tried 4900 models, valid 4900, time_spent_in_hours: 86h, time_spent_in_secs: 311133.445s, elapse since last report: 32.525s.\n",
      "Tried 5000 models, valid 5000, time_spent_in_hours: 88h, time_spent_in_secs: 316982.413s, elapse since last report: 31.655s.\n",
      "Tried 5100 models, valid 5100, time_spent_in_hours: 89h, time_spent_in_secs: 322900.161s, elapse since last report: 32.111s.\n",
      "Tried 5200 models, valid 5200, time_spent_in_hours: 91h, time_spent_in_secs: 328866.031s, elapse since last report: 32.977s.\n",
      "Tried 5300 models, valid 5300, time_spent_in_hours: 93h, time_spent_in_secs: 334830.77s, elapse since last report: 32.827s.\n",
      "Tried 5400 models, valid 5400, time_spent_in_hours: 94h, time_spent_in_secs: 340720.497s, elapse since last report: 33.999s.\n",
      "Tried 5500 models, valid 5500, time_spent_in_hours: 96h, time_spent_in_secs: 346115.864s, elapse since last report: 33.504s.\n",
      "Tried 5600 models, valid 5600, time_spent_in_hours: 97h, time_spent_in_secs: 351581.665s, elapse since last report: 39.226s.\n",
      "Tried 5700 models, valid 5700, time_spent_in_hours: 98h, time_spent_in_secs: 356322.798s, elapse since last report: 35.485s.\n",
      "Tried 5800 models, valid 5800, time_spent_in_hours: 100h, time_spent_in_secs: 360916.785s, elapse since last report: 34.765s.\n",
      "Tried 5900 models, valid 5900, time_spent_in_hours: 101h, time_spent_in_secs: 365631.827s, elapse since last report: 35.889s.\n",
      "Tried 6000 models, valid 6000, time_spent_in_hours: 103h, time_spent_in_secs: 370923.518s, elapse since last report: 35.939s.\n",
      "Tried 6100 models, valid 6100, time_spent_in_hours: 104h, time_spent_in_secs: 376388.216s, elapse since last report: 35.963s.\n",
      "Tried 6200 models, valid 6200, time_spent_in_hours: 106h, time_spent_in_secs: 382162.023s, elapse since last report: 36.841s.\n",
      "Tried 6300 models, valid 6300, time_spent_in_hours: 107h, time_spent_in_secs: 388173.588s, elapse since last report: 36.329s.\n",
      "Tried 6400 models, valid 6400, time_spent_in_hours: 109h, time_spent_in_secs: 394207.812s, elapse since last report: 36.616s.\n",
      "Tried 6500 models, valid 6500, time_spent_in_hours: 111h, time_spent_in_secs: 400274.153s, elapse since last report: 37.813s.\n",
      "Tried 6600 models, valid 6600, time_spent_in_hours: 112h, time_spent_in_secs: 406339.272s, elapse since last report: 37.15s.\n",
      "Tried 6700 models, valid 6700, time_spent_in_hours: 114h, time_spent_in_secs: 412391.242s, elapse since last report: 38.528s.\n",
      "Tried 6800 models, valid 6800, time_spent_in_hours: 116h, time_spent_in_secs: 418434.213s, elapse since last report: 38.106s.\n",
      "Tried 6900 models, valid 6900, time_spent_in_hours: 117h, time_spent_in_secs: 424467.935s, elapse since last report: 38.243s.\n",
      "Tried 7000 models, valid 7000, time_spent_in_hours: 119h, time_spent_in_secs: 430416.961s, elapse since last report: 39.316s.\n",
      "Tried 7100 models, valid 7100, time_spent_in_hours: 121h, time_spent_in_secs: 436358.781s, elapse since last report: 38.846s.\n",
      "Tried 7200 models, valid 7200, time_spent_in_hours: 122h, time_spent_in_secs: 442104.144s, elapse since last report: 44.974s.\n",
      "Tried 7300 models, valid 7300, time_spent_in_hours: 124h, time_spent_in_secs: 447465.081s, elapse since last report: 41.094s.\n",
      "Tried 7400 models, valid 7400, time_spent_in_hours: 125h, time_spent_in_secs: 452879.115s, elapse since last report: 40.699s.\n",
      "Tried 7500 models, valid 7500, time_spent_in_hours: 127h, time_spent_in_secs: 458321.185s, elapse since last report: 42.064s.\n",
      "Tried 7600 models, valid 7600, time_spent_in_hours: 128h, time_spent_in_secs: 463518.993s, elapse since last report: 41.082s.\n",
      "Tried 7700 models, valid 7700, time_spent_in_hours: 130h, time_spent_in_secs: 468947.992s, elapse since last report: 42.551s.\n",
      "Tried 7800 models, valid 7800, time_spent_in_hours: 131h, time_spent_in_secs: 474582.984s, elapse since last report: 41.729s.\n",
      "Tried 7900 models, valid 7900, time_spent_in_hours: 133h, time_spent_in_secs: 480140.907s, elapse since last report: 41.7s.\n",
      "Tried 8000 models, valid 8000, time_spent_in_hours: 135h, time_spent_in_secs: 486073.825s, elapse since last report: 43.101s.\n",
      "Tried 8100 models, valid 8100, time_spent_in_hours: 136h, time_spent_in_secs: 492280.285s, elapse since last report: 42.37s.\n",
      "Tried 8200 models, valid 8200, time_spent_in_hours: 138h, time_spent_in_secs: 498369.843s, elapse since last report: 43.816s.\n",
      "Tried 8300 models, valid 8300, time_spent_in_hours: 139h, time_spent_in_secs: 503952.004s, elapse since last report: 43.018s.\n",
      "Tried 8400 models, valid 8400, time_spent_in_hours: 141h, time_spent_in_secs: 509558.521s, elapse since last report: 43.54s.\n",
      "Tried 8500 models, valid 8500, time_spent_in_hours: 143h, time_spent_in_secs: 515199.417s, elapse since last report: 44.724s.\n",
      "Tried 8600 models, valid 8600, time_spent_in_hours: 144h, time_spent_in_secs: 520871.221s, elapse since last report: 44.049s.\n",
      "Tried 8700 models, valid 8700, time_spent_in_hours: 146h, time_spent_in_secs: 526536.281s, elapse since last report: 44.696s.\n",
      "Tried 8800 models, valid 8800, time_spent_in_hours: 147h, time_spent_in_secs: 532172.982s, elapse since last report: 45.648s.\n",
      "Tried 8900 models, valid 8900, time_spent_in_hours: 149h, time_spent_in_secs: 537819.807s, elapse since last report: 45.395s.\n",
      "Tried 9000 models, valid 9000, time_spent_in_hours: 150h, time_spent_in_secs: 543205.935s, elapse since last report: 52.357s.\n",
      "Tried 9100 models, valid 9100, time_spent_in_hours: 152h, time_spent_in_secs: 548209.321s, elapse since last report: 46.472s.\n",
      "Tried 9200 models, valid 9200, time_spent_in_hours: 153h, time_spent_in_secs: 553260.114s, elapse since last report: 45.979s.\n",
      "Tried 9300 models, valid 9300, time_spent_in_hours: 155h, time_spent_in_secs: 558651.636s, elapse since last report: 46.143s.\n",
      "Tried 9400 models, valid 9400, time_spent_in_hours: 156h, time_spent_in_secs: 564085.156s, elapse since last report: 45.66s.\n",
      "Tried 9500 models, valid 9500, time_spent_in_hours: 158h, time_spent_in_secs: 569441.156s, elapse since last report: 46.965s.\n",
      "Tried 9600 models, valid 9600, time_spent_in_hours: 159h, time_spent_in_secs: 574743.325s, elapse since last report: 46.134s.\n",
      "Tried 9700 models, valid 9700, time_spent_in_hours: 161h, time_spent_in_secs: 579963.645s, elapse since last report: 46.46s.\n",
      "Tried 9800 models, valid 9800, time_spent_in_hours: 162h, time_spent_in_secs: 585233.676s, elapse since last report: 47.439s.\n",
      "Tried 9900 models, valid 9900, time_spent_in_hours: 164h, time_spent_in_secs: 590508.02s, elapse since last report: 46.947s.\n",
      "Tried 10000 models, valid 10000, time_spent_in_hours: 165h, time_spent_in_secs: 595774.174s, elapse since last report: 48.173s.\n",
      "Tried 10100 models, valid 10100, time_spent_in_hours: 167h, time_spent_in_secs: 601311.831s, elapse since last report: 47.402s.\n",
      "Tried 10200 models, valid 10200, time_spent_in_hours: 168h, time_spent_in_secs: 606834.825s, elapse since last report: 47.77s.\n",
      "Tried 10300 models, valid 10300, time_spent_in_hours: 170h, time_spent_in_secs: 612356.029s, elapse since last report: 48.87s.\n",
      "Tried 10400 models, valid 10400, time_spent_in_hours: 171h, time_spent_in_secs: 617879.497s, elapse since last report: 48.455s.\n",
      "Tried 10500 models, valid 10500, time_spent_in_hours: 173h, time_spent_in_secs: 623404.178s, elapse since last report: 49.509s.\n",
      "Tried 10600 models, valid 10600, time_spent_in_hours: 174h, time_spent_in_secs: 628985.279s, elapse since last report: 49.245s.\n",
      "Tried 10700 models, valid 10700, time_spent_in_hours: 176h, time_spent_in_secs: 634593.18s, elapse since last report: 49.237s.\n",
      "Tried 10800 models, valid 10800, time_spent_in_hours: 177h, time_spent_in_secs: 639998.544s, elapse since last report: 55.715s.\n",
      "Tried 10900 models, valid 10900, time_spent_in_hours: 179h, time_spent_in_secs: 645026.977s, elapse since last report: 51.278s.\n",
      "Tried 11000 models, valid 11000, time_spent_in_hours: 180h, time_spent_in_secs: 650019.656s, elapse since last report: 50.766s.\n",
      "Tried 11100 models, valid 11100, time_spent_in_hours: 182h, time_spent_in_secs: 655567.968s, elapse since last report: 52.133s.\n",
      "Tried 11200 models, valid 11200, time_spent_in_hours: 183h, time_spent_in_secs: 661222.097s, elapse since last report: 51.714s.\n",
      "Tried 11300 models, valid 11300, time_spent_in_hours: 185h, time_spent_in_secs: 667010.586s, elapse since last report: 52.93s.\n",
      "Tried 11400 models, valid 11400, time_spent_in_hours: 186h, time_spent_in_secs: 672865.929s, elapse since last report: 52.329s.\n",
      "Tried 11500 models, valid 11500, time_spent_in_hours: 188h, time_spent_in_secs: 678896.049s, elapse since last report: 52.433s.\n",
      "Tried 11600 models, valid 11600, time_spent_in_hours: 190h, time_spent_in_secs: 684078.844s, elapse since last report: 53.521s.\n",
      "Tried 11700 models, valid 11700, time_spent_in_hours: 191h, time_spent_in_secs: 688970.0s, elapse since last report: 53.051s.\n",
      "Tried 11800 models, valid 11800, time_spent_in_hours: 192h, time_spent_in_secs: 694183.523s, elapse since last report: 53.932s.\n",
      "Tried 11900 models, valid 11900, time_spent_in_hours: 194h, time_spent_in_secs: 700244.278s, elapse since last report: 53.82s.\n",
      "Tried 12000 models, valid 12000, time_spent_in_hours: 196h, time_spent_in_secs: 706417.819s, elapse since last report: 53.815s.\n",
      "Tried 12100 models, valid 12100, time_spent_in_hours: 198h, time_spent_in_secs: 712924.534s, elapse since last report: 54.958s.\n",
      "Tried 12200 models, valid 12200, time_spent_in_hours: 199h, time_spent_in_secs: 719613.37s, elapse since last report: 54.442s.\n",
      "Total time elapse: 4380.815835237503 seconds.\n",
      "--------------------------------------------------------------------------------\n",
      "Total evaluated architectures: 12205\n",
      "Total time spent:              198 hours\n",
      "Best model found:              56:64:64:56:56\n",
      "Best model DNA:                DNA([6, 7, 7, 6, 6])\n",
      "Validation accuracy:           85.0\n",
      "Test accuracy:                 93.09\n",
      "--------------------------------------------------------------------------------\n"
     ]
    }
   ],
   "source": [
    "ss_indicator = 'sss'\n",
    "algo_name = 'rl'\n",
    "dataset = 'cifar10'\n",
    "max_train_hours = 200\n",
    "\n",
    "executor = NASExecutor(algo_name, dataset, max_train_hours, ss_indicator)\n",
    "\n",
    "sorted_results_rnd = executor.test_nas_algo()\n",
    "#sorted_results_rnd.head()\n",
    "\n",
    "#executor.save_report(sorted_results_rnd, f'data/{algo_name}_{max_train_hours}h_{dataset}.csv')"
   ]
  },
  {
   "cell_type": "markdown",
   "metadata": {
    "tags": []
   },
   "source": [
    "## Cifar100"
   ]
  },
  {
   "cell_type": "markdown",
   "metadata": {
    "tags": []
   },
   "source": [
    "### Test with Random Algorithm"
   ]
  },
  {
   "cell_type": "markdown",
   "metadata": {
    "tags": []
   },
   "source": [
    "#### 1 hour"
   ]
  },
  {
   "cell_type": "code",
   "execution_count": 16,
   "metadata": {
    "collapsed": true,
    "jupyter": {
     "outputs_hidden": true
    },
    "tags": []
   },
   "outputs": [
    {
     "name": "stdout",
     "output_type": "stream",
     "text": [
      "[2023-07-05 01:04:40] Try to use the default NATS-Bench (size) path from fast_mode=True and path=None.\n",
      "Candidates: [8, 16, 24, 32, 40, 48, 56, 64]\n",
      "Total time elapse: 0.7068636417388916 seconds.\n",
      "--------------------------------------------------------------------------------\n",
      "Total evaluated architectures: 37\n",
      "Total time spent:              0 hours\n",
      "Best model found:              40:48:56:56:64\n",
      "Best model DNA:                DNA([4, 5, 6, 6, 7])\n",
      "Validation accuracy:           59.58000002441406\n",
      "Test accuracy:                 69.75999987792969\n",
      "--------------------------------------------------------------------------------\n"
     ]
    }
   ],
   "source": [
    "ss_indicator = 'sss'\n",
    "algo_name = 'random'\n",
    "dataset = 'cifar100'\n",
    "max_train_hours = 1\n",
    "\n",
    "executor = NASExecutor(algo_name, dataset, max_train_hours, ss_indicator)\n",
    "\n",
    "sorted_results_rnd = executor.test_nas_algo()\n",
    "#sorted_results_rnd.head()\n",
    "\n",
    "#executor.save_report(sorted_results_rnd, f'data/{algo_name}_{max_train_hours}h_{dataset}.csv')"
   ]
  },
  {
   "cell_type": "markdown",
   "metadata": {
    "tags": []
   },
   "source": [
    "#### 10 hours"
   ]
  },
  {
   "cell_type": "code",
   "execution_count": 17,
   "metadata": {
    "collapsed": true,
    "jupyter": {
     "outputs_hidden": true
    },
    "tags": []
   },
   "outputs": [
    {
     "name": "stdout",
     "output_type": "stream",
     "text": [
      "[2023-07-05 01:04:41] Try to use the default NATS-Bench (size) path from fast_mode=True and path=None.\n",
      "Candidates: [8, 16, 24, 32, 40, 48, 56, 64]\n",
      "Tried 100 models, valid 100, time_spent_in_hours: 2h, time_spent_in_secs: 9566.075s, elapse since last report: 1.814s.\n",
      "Tried 200 models, valid 200, time_spent_in_hours: 5h, time_spent_in_secs: 18871.742s, elapse since last report: 3.402s.\n",
      "Tried 300 models, valid 300, time_spent_in_hours: 7h, time_spent_in_secs: 28450.455s, elapse since last report: 1.785s.\n",
      "Total time elapse: 8.412373304367065 seconds.\n",
      "--------------------------------------------------------------------------------\n",
      "Total evaluated architectures: 377\n",
      "Total time spent:              8 hours\n",
      "Best model found:              64:64:56:56:64\n",
      "Best model DNA:                DNA([7, 7, 6, 6, 7])\n",
      "Validation accuracy:           60.81999995727539\n",
      "Test accuracy:                 69.98000002441407\n",
      "--------------------------------------------------------------------------------\n"
     ]
    }
   ],
   "source": [
    "ss_indicator = 'sss'\n",
    "algo_name = 'random'\n",
    "dataset = 'cifar100'\n",
    "max_train_hours = 10\n",
    "\n",
    "executor = NASExecutor(algo_name, dataset, max_train_hours, ss_indicator)\n",
    "\n",
    "sorted_results_rnd = executor.test_nas_algo()\n",
    "#sorted_results_rnd.head()\n",
    "\n",
    "#executor.save_report(sorted_results_rnd, f'data/{algo_name}_{max_train_hours}h_{dataset}.csv')"
   ]
  },
  {
   "cell_type": "markdown",
   "metadata": {
    "tags": []
   },
   "source": [
    "#### 50 hours"
   ]
  },
  {
   "cell_type": "code",
   "execution_count": 18,
   "metadata": {
    "collapsed": true,
    "jupyter": {
     "outputs_hidden": true
    },
    "tags": []
   },
   "outputs": [
    {
     "name": "stdout",
     "output_type": "stream",
     "text": [
      "[2023-07-05 01:04:49] Try to use the default NATS-Bench (size) path from fast_mode=True and path=None.\n",
      "Candidates: [8, 16, 24, 32, 40, 48, 56, 64]\n",
      "Tried 100 models, valid 100, time_spent_in_hours: 2h, time_spent_in_secs: 9436.578s, elapse since last report: 1.822s.\n",
      "Tried 200 models, valid 200, time_spent_in_hours: 5h, time_spent_in_secs: 19086.609s, elapse since last report: 1.798s.\n",
      "Tried 300 models, valid 300, time_spent_in_hours: 7h, time_spent_in_secs: 28775.985s, elapse since last report: 1.815s.\n",
      "Tried 400 models, valid 400, time_spent_in_hours: 10h, time_spent_in_secs: 38232.509s, elapse since last report: 1.8s.\n",
      "Tried 500 models, valid 500, time_spent_in_hours: 13h, time_spent_in_secs: 47834.127s, elapse since last report: 1.848s.\n",
      "Tried 600 models, valid 600, time_spent_in_hours: 15h, time_spent_in_secs: 57218.871s, elapse since last report: 1.777s.\n",
      "Tried 700 models, valid 700, time_spent_in_hours: 18h, time_spent_in_secs: 67030.577s, elapse since last report: 1.822s.\n",
      "Tried 800 models, valid 800, time_spent_in_hours: 21h, time_spent_in_secs: 76762.4s, elapse since last report: 1.771s.\n",
      "Tried 900 models, valid 900, time_spent_in_hours: 23h, time_spent_in_secs: 86356.625s, elapse since last report: 2.473s.\n",
      "Tried 1000 models, valid 1000, time_spent_in_hours: 26h, time_spent_in_secs: 96150.484s, elapse since last report: 1.786s.\n",
      "Tried 1100 models, valid 1100, time_spent_in_hours: 29h, time_spent_in_secs: 105960.2s, elapse since last report: 1.778s.\n",
      "Tried 1200 models, valid 1200, time_spent_in_hours: 32h, time_spent_in_secs: 115454.577s, elapse since last report: 1.792s.\n",
      "Tried 1300 models, valid 1300, time_spent_in_hours: 34h, time_spent_in_secs: 125237.82s, elapse since last report: 1.785s.\n",
      "Tried 1400 models, valid 1400, time_spent_in_hours: 37h, time_spent_in_secs: 134843.719s, elapse since last report: 1.772s.\n",
      "Tried 1500 models, valid 1500, time_spent_in_hours: 40h, time_spent_in_secs: 144528.128s, elapse since last report: 1.77s.\n",
      "Tried 1600 models, valid 1600, time_spent_in_hours: 42h, time_spent_in_secs: 154689.649s, elapse since last report: 1.769s.\n",
      "Tried 1700 models, valid 1700, time_spent_in_hours: 45h, time_spent_in_secs: 164664.197s, elapse since last report: 1.802s.\n",
      "Tried 1800 models, valid 1800, time_spent_in_hours: 48h, time_spent_in_secs: 174296.255s, elapse since last report: 1.861s.\n",
      "Total time elapse: 34.08887839317322 seconds.\n",
      "--------------------------------------------------------------------------------\n",
      "Total evaluated architectures: 1858\n",
      "Total time spent:              29 hours\n",
      "Best model found:              16:56:64:64:64\n",
      "Best model DNA:                DNA([1, 6, 7, 7, 7])\n",
      "Validation accuracy:           60.07999996948242\n",
      "Test accuracy:                 69.43999998779297\n",
      "--------------------------------------------------------------------------------\n"
     ]
    }
   ],
   "source": [
    "ss_indicator = 'sss'\n",
    "algo_name = 'random'\n",
    "dataset = 'cifar100'\n",
    "max_train_hours = 50\n",
    "\n",
    "executor = NASExecutor(algo_name, dataset, max_train_hours, ss_indicator)\n",
    "\n",
    "sorted_results_rnd = executor.test_nas_algo()\n",
    "#sorted_results_rnd.head()\n",
    "\n",
    "#executor.save_report(sorted_results_rnd, f'data/{algo_name}_{max_train_hours}h_{dataset}.csv')"
   ]
  },
  {
   "cell_type": "markdown",
   "metadata": {
    "tags": []
   },
   "source": [
    "#### 100 hours"
   ]
  },
  {
   "cell_type": "code",
   "execution_count": 42,
   "metadata": {
    "collapsed": true,
    "jupyter": {
     "outputs_hidden": true
    },
    "tags": []
   },
   "outputs": [
    {
     "name": "stdout",
     "output_type": "stream",
     "text": [
      "[2023-07-05 03:50:23] Try to use the default NATS-Bench (size) path from fast_mode=True and path=None.\n",
      "Candidates: [8, 16, 24, 32, 40, 48, 56, 64]\n",
      "Tried 100 models, valid 100, time_spent_in_hours: 2h, time_spent_in_secs: 9802.337s, elapse since last report: 1.759s.\n",
      "Tried 200 models, valid 200, time_spent_in_hours: 5h, time_spent_in_secs: 19721.623s, elapse since last report: 1.732s.\n",
      "Tried 300 models, valid 300, time_spent_in_hours: 8h, time_spent_in_secs: 29311.166s, elapse since last report: 1.766s.\n",
      "Tried 400 models, valid 400, time_spent_in_hours: 10h, time_spent_in_secs: 39063.647s, elapse since last report: 1.77s.\n",
      "Tried 500 models, valid 500, time_spent_in_hours: 13h, time_spent_in_secs: 48329.867s, elapse since last report: 1.749s.\n",
      "Tried 600 models, valid 600, time_spent_in_hours: 16h, time_spent_in_secs: 58068.072s, elapse since last report: 1.741s.\n",
      "Tried 700 models, valid 700, time_spent_in_hours: 18h, time_spent_in_secs: 68002.801s, elapse since last report: 1.759s.\n",
      "Tried 800 models, valid 800, time_spent_in_hours: 21h, time_spent_in_secs: 77727.841s, elapse since last report: 1.751s.\n",
      "Tried 900 models, valid 900, time_spent_in_hours: 24h, time_spent_in_secs: 87409.15s, elapse since last report: 1.754s.\n",
      "Tried 1000 models, valid 1000, time_spent_in_hours: 27h, time_spent_in_secs: 97268.416s, elapse since last report: 1.763s.\n",
      "Tried 1100 models, valid 1100, time_spent_in_hours: 29h, time_spent_in_secs: 106953.526s, elapse since last report: 1.793s.\n",
      "Tried 1200 models, valid 1200, time_spent_in_hours: 32h, time_spent_in_secs: 116919.056s, elapse since last report: 1.787s.\n",
      "Tried 1300 models, valid 1300, time_spent_in_hours: 35h, time_spent_in_secs: 126730.523s, elapse since last report: 1.83s.\n",
      "Tried 1400 models, valid 1400, time_spent_in_hours: 37h, time_spent_in_secs: 136361.638s, elapse since last report: 1.759s.\n",
      "Tried 1500 models, valid 1500, time_spent_in_hours: 40h, time_spent_in_secs: 145695.951s, elapse since last report: 1.769s.\n",
      "Tried 1600 models, valid 1600, time_spent_in_hours: 43h, time_spent_in_secs: 155323.87s, elapse since last report: 1.752s.\n",
      "Tried 1700 models, valid 1700, time_spent_in_hours: 45h, time_spent_in_secs: 164587.394s, elapse since last report: 1.775s.\n",
      "Tried 1800 models, valid 1800, time_spent_in_hours: 48h, time_spent_in_secs: 173989.803s, elapse since last report: 1.773s.\n",
      "Tried 1900 models, valid 1900, time_spent_in_hours: 50h, time_spent_in_secs: 183565.62s, elapse since last report: 8.478s.\n",
      "Tried 2000 models, valid 2000, time_spent_in_hours: 53h, time_spent_in_secs: 193361.831s, elapse since last report: 1.886s.\n",
      "Tried 2100 models, valid 2100, time_spent_in_hours: 56h, time_spent_in_secs: 202997.446s, elapse since last report: 1.864s.\n",
      "Tried 2200 models, valid 2200, time_spent_in_hours: 59h, time_spent_in_secs: 212930.497s, elapse since last report: 1.843s.\n",
      "Tried 2300 models, valid 2300, time_spent_in_hours: 61h, time_spent_in_secs: 222931.056s, elapse since last report: 1.902s.\n",
      "Tried 2400 models, valid 2400, time_spent_in_hours: 64h, time_spent_in_secs: 232955.632s, elapse since last report: 1.872s.\n",
      "Tried 2500 models, valid 2500, time_spent_in_hours: 67h, time_spent_in_secs: 242616.987s, elapse since last report: 1.875s.\n",
      "Tried 2600 models, valid 2600, time_spent_in_hours: 70h, time_spent_in_secs: 252420.15s, elapse since last report: 1.875s.\n",
      "Tried 2700 models, valid 2700, time_spent_in_hours: 72h, time_spent_in_secs: 262129.788s, elapse since last report: 1.932s.\n",
      "Tried 2800 models, valid 2800, time_spent_in_hours: 75h, time_spent_in_secs: 271647.574s, elapse since last report: 1.955s.\n",
      "Tried 2900 models, valid 2900, time_spent_in_hours: 78h, time_spent_in_secs: 281467.676s, elapse since last report: 1.954s.\n",
      "Tried 3000 models, valid 3000, time_spent_in_hours: 80h, time_spent_in_secs: 291180.82s, elapse since last report: 1.883s.\n",
      "Tried 3100 models, valid 3100, time_spent_in_hours: 83h, time_spent_in_secs: 300781.558s, elapse since last report: 1.915s.\n",
      "Tried 3200 models, valid 3200, time_spent_in_hours: 86h, time_spent_in_secs: 310486.873s, elapse since last report: 1.921s.\n",
      "Tried 3300 models, valid 3300, time_spent_in_hours: 88h, time_spent_in_secs: 320347.681s, elapse since last report: 1.929s.\n",
      "Tried 3400 models, valid 3400, time_spent_in_hours: 91h, time_spent_in_secs: 330100.936s, elapse since last report: 1.908s.\n",
      "Tried 3500 models, valid 3500, time_spent_in_hours: 94h, time_spent_in_secs: 339999.647s, elapse since last report: 1.901s.\n",
      "Tried 3600 models, valid 3600, time_spent_in_hours: 97h, time_spent_in_secs: 349779.701s, elapse since last report: 1.936s.\n",
      "Tried 3700 models, valid 3700, time_spent_in_hours: 99h, time_spent_in_secs: 359545.587s, elapse since last report: 1.916s.\n",
      "Total time elapse: 74.64119553565979 seconds.\n",
      "--------------------------------------------------------------------------------\n",
      "Total evaluated architectures: 3705\n",
      "Total time spent:              97 hours\n",
      "Best model found:              64:64:56:56:64\n",
      "Best model DNA:                DNA([7, 7, 6, 6, 7])\n",
      "Validation accuracy:           60.81999995727539\n",
      "Test accuracy:                 69.98000002441407\n",
      "--------------------------------------------------------------------------------\n"
     ]
    }
   ],
   "source": [
    "ss_indicator = 'sss'\n",
    "algo_name = 'random'\n",
    "dataset = 'cifar100'\n",
    "max_train_hours = 100\n",
    "\n",
    "executor = NASExecutor(algo_name, dataset, max_train_hours, ss_indicator)\n",
    "\n",
    "sorted_results_rnd = executor.test_nas_algo()\n",
    "#sorted_results_rnd.head()\n",
    "\n",
    "#executor.save_report(sorted_results_rnd, f'data/{algo_name}_{max_train_hours}h_{dataset}.csv')"
   ]
  },
  {
   "cell_type": "markdown",
   "metadata": {
    "tags": []
   },
   "source": [
    "#### 200 hours"
   ]
  },
  {
   "cell_type": "code",
   "execution_count": 43,
   "metadata": {
    "collapsed": true,
    "jupyter": {
     "outputs_hidden": true
    },
    "tags": []
   },
   "outputs": [
    {
     "name": "stdout",
     "output_type": "stream",
     "text": [
      "[2023-07-05 03:51:38] Try to use the default NATS-Bench (size) path from fast_mode=True and path=None.\n",
      "Candidates: [8, 16, 24, 32, 40, 48, 56, 64]\n",
      "Tried 100 models, valid 100, time_spent_in_hours: 2h, time_spent_in_secs: 9365.55s, elapse since last report: 1.821s.\n",
      "Tried 200 models, valid 200, time_spent_in_hours: 5h, time_spent_in_secs: 19105.024s, elapse since last report: 1.793s.\n",
      "Tried 300 models, valid 300, time_spent_in_hours: 8h, time_spent_in_secs: 28915.298s, elapse since last report: 1.796s.\n",
      "Tried 400 models, valid 400, time_spent_in_hours: 10h, time_spent_in_secs: 38566.367s, elapse since last report: 1.821s.\n",
      "Tried 500 models, valid 500, time_spent_in_hours: 13h, time_spent_in_secs: 48290.74s, elapse since last report: 1.807s.\n",
      "Tried 600 models, valid 600, time_spent_in_hours: 16h, time_spent_in_secs: 58150.187s, elapse since last report: 1.824s.\n",
      "Tried 700 models, valid 700, time_spent_in_hours: 18h, time_spent_in_secs: 67717.582s, elapse since last report: 1.816s.\n",
      "Tried 800 models, valid 800, time_spent_in_hours: 21h, time_spent_in_secs: 77285.413s, elapse since last report: 1.838s.\n",
      "Tried 900 models, valid 900, time_spent_in_hours: 24h, time_spent_in_secs: 87099.358s, elapse since last report: 1.819s.\n",
      "Tried 1000 models, valid 1000, time_spent_in_hours: 26h, time_spent_in_secs: 96551.787s, elapse since last report: 1.819s.\n",
      "Tried 1100 models, valid 1100, time_spent_in_hours: 29h, time_spent_in_secs: 106156.323s, elapse since last report: 1.825s.\n",
      "Tried 1200 models, valid 1200, time_spent_in_hours: 32h, time_spent_in_secs: 115753.977s, elapse since last report: 1.833s.\n",
      "Tried 1300 models, valid 1300, time_spent_in_hours: 34h, time_spent_in_secs: 125115.214s, elapse since last report: 1.874s.\n",
      "Tried 1400 models, valid 1400, time_spent_in_hours: 37h, time_spent_in_secs: 134911.179s, elapse since last report: 1.832s.\n",
      "Tried 1500 models, valid 1500, time_spent_in_hours: 40h, time_spent_in_secs: 144889.622s, elapse since last report: 1.85s.\n",
      "Tried 1600 models, valid 1600, time_spent_in_hours: 42h, time_spent_in_secs: 154725.141s, elapse since last report: 1.861s.\n",
      "Tried 1700 models, valid 1700, time_spent_in_hours: 45h, time_spent_in_secs: 164620.512s, elapse since last report: 1.877s.\n",
      "Tried 1800 models, valid 1800, time_spent_in_hours: 48h, time_spent_in_secs: 174071.37s, elapse since last report: 1.893s.\n",
      "Tried 1900 models, valid 1900, time_spent_in_hours: 51h, time_spent_in_secs: 183606.45s, elapse since last report: 1.884s.\n",
      "Tried 2000 models, valid 2000, time_spent_in_hours: 53h, time_spent_in_secs: 193398.796s, elapse since last report: 1.907s.\n",
      "Tried 2100 models, valid 2100, time_spent_in_hours: 56h, time_spent_in_secs: 203045.372s, elapse since last report: 1.895s.\n",
      "Tried 2200 models, valid 2200, time_spent_in_hours: 59h, time_spent_in_secs: 212660.51s, elapse since last report: 1.915s.\n",
      "Tried 2300 models, valid 2300, time_spent_in_hours: 61h, time_spent_in_secs: 222544.389s, elapse since last report: 1.882s.\n",
      "Tried 2400 models, valid 2400, time_spent_in_hours: 64h, time_spent_in_secs: 232340.141s, elapse since last report: 1.914s.\n",
      "Tried 2500 models, valid 2500, time_spent_in_hours: 67h, time_spent_in_secs: 241942.213s, elapse since last report: 1.905s.\n",
      "Tried 2600 models, valid 2600, time_spent_in_hours: 69h, time_spent_in_secs: 251958.994s, elapse since last report: 1.896s.\n",
      "Tried 2700 models, valid 2700, time_spent_in_hours: 72h, time_spent_in_secs: 261613.062s, elapse since last report: 1.924s.\n",
      "Tried 2800 models, valid 2800, time_spent_in_hours: 75h, time_spent_in_secs: 271671.179s, elapse since last report: 1.913s.\n",
      "Tried 2900 models, valid 2900, time_spent_in_hours: 78h, time_spent_in_secs: 281754.84s, elapse since last report: 1.899s.\n",
      "Tried 3000 models, valid 3000, time_spent_in_hours: 80h, time_spent_in_secs: 291506.045s, elapse since last report: 1.891s.\n",
      "Tried 3100 models, valid 3100, time_spent_in_hours: 83h, time_spent_in_secs: 301157.937s, elapse since last report: 1.871s.\n",
      "Tried 3200 models, valid 3200, time_spent_in_hours: 86h, time_spent_in_secs: 310996.973s, elapse since last report: 1.87s.\n",
      "Tried 3300 models, valid 3300, time_spent_in_hours: 89h, time_spent_in_secs: 320737.077s, elapse since last report: 1.899s.\n",
      "Tried 3400 models, valid 3400, time_spent_in_hours: 91h, time_spent_in_secs: 330562.765s, elapse since last report: 1.901s.\n",
      "Tried 3500 models, valid 3500, time_spent_in_hours: 94h, time_spent_in_secs: 340427.788s, elapse since last report: 1.92s.\n",
      "Tried 3600 models, valid 3600, time_spent_in_hours: 97h, time_spent_in_secs: 350527.749s, elapse since last report: 1.898s.\n",
      "Tried 3700 models, valid 3700, time_spent_in_hours: 100h, time_spent_in_secs: 360625.958s, elapse since last report: 1.907s.\n",
      "Tried 3800 models, valid 3800, time_spent_in_hours: 102h, time_spent_in_secs: 370301.878s, elapse since last report: 1.914s.\n",
      "Tried 3900 models, valid 3900, time_spent_in_hours: 105h, time_spent_in_secs: 380039.287s, elapse since last report: 6.871s.\n",
      "Tried 4000 models, valid 4000, time_spent_in_hours: 108h, time_spent_in_secs: 389904.969s, elapse since last report: 1.928s.\n",
      "Tried 4100 models, valid 4100, time_spent_in_hours: 110h, time_spent_in_secs: 399417.49s, elapse since last report: 1.887s.\n",
      "Tried 4200 models, valid 4200, time_spent_in_hours: 113h, time_spent_in_secs: 408847.567s, elapse since last report: 1.888s.\n",
      "Tried 4300 models, valid 4300, time_spent_in_hours: 116h, time_spent_in_secs: 418648.466s, elapse since last report: 1.912s.\n",
      "Tried 4400 models, valid 4400, time_spent_in_hours: 119h, time_spent_in_secs: 428692.324s, elapse since last report: 1.907s.\n",
      "Tried 4500 models, valid 4500, time_spent_in_hours: 121h, time_spent_in_secs: 438427.57s, elapse since last report: 1.898s.\n",
      "Tried 4600 models, valid 4600, time_spent_in_hours: 124h, time_spent_in_secs: 447714.151s, elapse since last report: 1.899s.\n",
      "Tried 4700 models, valid 4700, time_spent_in_hours: 127h, time_spent_in_secs: 457278.362s, elapse since last report: 1.912s.\n",
      "Tried 4800 models, valid 4800, time_spent_in_hours: 129h, time_spent_in_secs: 467187.347s, elapse since last report: 1.911s.\n",
      "Tried 4900 models, valid 4900, time_spent_in_hours: 132h, time_spent_in_secs: 476945.557s, elapse since last report: 1.921s.\n",
      "Tried 5000 models, valid 5000, time_spent_in_hours: 135h, time_spent_in_secs: 486825.122s, elapse since last report: 1.942s.\n",
      "Tried 5100 models, valid 5100, time_spent_in_hours: 137h, time_spent_in_secs: 496558.394s, elapse since last report: 1.948s.\n",
      "Tried 5200 models, valid 5200, time_spent_in_hours: 140h, time_spent_in_secs: 506315.46s, elapse since last report: 1.942s.\n",
      "Tried 5300 models, valid 5300, time_spent_in_hours: 143h, time_spent_in_secs: 516205.864s, elapse since last report: 1.952s.\n",
      "Tried 5400 models, valid 5400, time_spent_in_hours: 146h, time_spent_in_secs: 526022.878s, elapse since last report: 1.949s.\n",
      "Tried 5500 models, valid 5500, time_spent_in_hours: 148h, time_spent_in_secs: 535779.437s, elapse since last report: 1.936s.\n",
      "Tried 5600 models, valid 5600, time_spent_in_hours: 151h, time_spent_in_secs: 545860.792s, elapse since last report: 1.939s.\n",
      "Tried 5700 models, valid 5700, time_spent_in_hours: 154h, time_spent_in_secs: 555579.796s, elapse since last report: 1.951s.\n",
      "Tried 5800 models, valid 5800, time_spent_in_hours: 157h, time_spent_in_secs: 565277.825s, elapse since last report: 1.956s.\n",
      "Tried 5900 models, valid 5900, time_spent_in_hours: 159h, time_spent_in_secs: 574979.149s, elapse since last report: 1.937s.\n",
      "Tried 6000 models, valid 6000, time_spent_in_hours: 162h, time_spent_in_secs: 584713.171s, elapse since last report: 1.91s.\n",
      "Tried 6100 models, valid 6100, time_spent_in_hours: 165h, time_spent_in_secs: 594423.466s, elapse since last report: 1.902s.\n",
      "Tried 6200 models, valid 6200, time_spent_in_hours: 167h, time_spent_in_secs: 604065.103s, elapse since last report: 1.918s.\n",
      "Tried 6300 models, valid 6300, time_spent_in_hours: 170h, time_spent_in_secs: 614138.433s, elapse since last report: 1.948s.\n",
      "Tried 6400 models, valid 6400, time_spent_in_hours: 173h, time_spent_in_secs: 623935.062s, elapse since last report: 1.974s.\n",
      "Tried 6500 models, valid 6500, time_spent_in_hours: 176h, time_spent_in_secs: 633695.798s, elapse since last report: 1.95s.\n",
      "Tried 6600 models, valid 6600, time_spent_in_hours: 178h, time_spent_in_secs: 643361.068s, elapse since last report: 1.965s.\n",
      "Tried 6700 models, valid 6700, time_spent_in_hours: 181h, time_spent_in_secs: 653340.309s, elapse since last report: 1.976s.\n",
      "Tried 6800 models, valid 6800, time_spent_in_hours: 184h, time_spent_in_secs: 663065.444s, elapse since last report: 1.957s.\n",
      "Tried 6900 models, valid 6900, time_spent_in_hours: 186h, time_spent_in_secs: 672769.009s, elapse since last report: 1.948s.\n",
      "Tried 7000 models, valid 7000, time_spent_in_hours: 189h, time_spent_in_secs: 681991.657s, elapse since last report: 1.956s.\n",
      "Tried 7100 models, valid 7100, time_spent_in_hours: 192h, time_spent_in_secs: 691560.949s, elapse since last report: 1.931s.\n",
      "Tried 7200 models, valid 7200, time_spent_in_hours: 194h, time_spent_in_secs: 701095.573s, elapse since last report: 1.963s.\n",
      "Tried 7300 models, valid 7300, time_spent_in_hours: 197h, time_spent_in_secs: 710635.642s, elapse since last report: 1.953s.\n",
      "Total time elapse: 145.61544728279114 seconds.\n",
      "--------------------------------------------------------------------------------\n",
      "Total evaluated architectures: 7399\n",
      "Total time spent:              7 hours\n",
      "Best model found:              64:64:64:64:56\n",
      "Best model DNA:                DNA([7, 7, 7, 7, 6])\n",
      "Validation accuracy:           60.700000012207035\n",
      "Test accuracy:                 70.15999995117187\n",
      "--------------------------------------------------------------------------------\n"
     ]
    }
   ],
   "source": [
    "ss_indicator = 'sss'\n",
    "algo_name = 'random'\n",
    "dataset = 'cifar100'\n",
    "max_train_hours = 200\n",
    "\n",
    "executor = NASExecutor(algo_name, dataset, max_train_hours, ss_indicator)\n",
    "\n",
    "sorted_results_rnd = executor.test_nas_algo()\n",
    "#sorted_results_rnd.head()\n",
    "\n",
    "#executor.save_report(sorted_results_rnd, f'data/{algo_name}_{max_train_hours}h_{dataset}.csv')"
   ]
  },
  {
   "cell_type": "markdown",
   "metadata": {
    "tags": []
   },
   "source": [
    "### Test with Regularized Evolution Algorithm"
   ]
  },
  {
   "cell_type": "markdown",
   "metadata": {
    "tags": []
   },
   "source": [
    "#### 1 hour"
   ]
  },
  {
   "cell_type": "code",
   "execution_count": 19,
   "metadata": {
    "collapsed": true,
    "jupyter": {
     "outputs_hidden": true
    },
    "tags": []
   },
   "outputs": [
    {
     "name": "stdout",
     "output_type": "stream",
     "text": [
      "[2023-07-05 01:05:24] Try to use the default NATS-Bench (size) path from fast_mode=True and path=None.\n",
      "Candidates: [8, 16, 24, 32, 40, 48, 56, 64]\n",
      "Total time elapse: 0.7797629833221436 seconds.\n",
      "--------------------------------------------------------------------------------\n",
      "Total evaluated architectures: 39\n",
      "Total time spent:              0 hours\n",
      "Best model found:              48:48:56:56:56\n",
      "Best model DNA:                DNA([5, 5, 6, 6, 6])\n",
      "Validation accuracy:           59.36000001220703\n",
      "Test accuracy:                 69.25999986572266\n",
      "--------------------------------------------------------------------------------\n"
     ]
    }
   ],
   "source": [
    "ss_indicator = 'sss'\n",
    "algo_name = 'evolution'\n",
    "dataset = 'cifar100'\n",
    "max_train_hours = 1\n",
    "\n",
    "executor = NASExecutor(algo_name, dataset, max_train_hours, ss_indicator)\n",
    "\n",
    "sorted_results_rnd = executor.test_nas_algo()\n",
    "#sorted_results_rnd.head()\n",
    "\n",
    "#executor.save_report(sorted_results_rnd, f'data/{algo_name}_{max_train_hours}h_{dataset}.csv')"
   ]
  },
  {
   "cell_type": "markdown",
   "metadata": {
    "tags": []
   },
   "source": [
    "#### 10 hours"
   ]
  },
  {
   "cell_type": "code",
   "execution_count": 20,
   "metadata": {
    "collapsed": true,
    "jupyter": {
     "outputs_hidden": true
    },
    "tags": []
   },
   "outputs": [
    {
     "name": "stdout",
     "output_type": "stream",
     "text": [
      "[2023-07-05 01:05:25] Try to use the default NATS-Bench (size) path from fast_mode=True and path=None.\n",
      "Candidates: [8, 16, 24, 32, 40, 48, 56, 64]\n",
      "Tried 100 models, valid 100, time_spent_in_hours: 2h, time_spent_in_secs: 9588.883s, elapse since last report: 1.792s.\n",
      "Tried 200 models, valid 200, time_spent_in_hours: 5h, time_spent_in_secs: 21011.728s, elapse since last report: 2.508s.\n",
      "Tried 300 models, valid 300, time_spent_in_hours: 9h, time_spent_in_secs: 32860.634s, elapse since last report: 1.505s.\n",
      "Total time elapse: 6.240071058273315 seconds.\n",
      "--------------------------------------------------------------------------------\n",
      "Total evaluated architectures: 327\n",
      "Total time spent:              7 hours\n",
      "Best model found:              64:64:64:64:64\n",
      "Best model DNA:                DNA([7, 7, 7, 7, 7])\n",
      "Validation accuracy:           61.060000024414066\n",
      "Test accuracy:                 70.71999989013672\n",
      "--------------------------------------------------------------------------------\n"
     ]
    }
   ],
   "source": [
    "ss_indicator = 'sss'\n",
    "algo_name = 'evolution'\n",
    "dataset = 'cifar100'\n",
    "max_train_hours = 10\n",
    "\n",
    "executor = NASExecutor(algo_name, dataset, max_train_hours, ss_indicator)\n",
    "\n",
    "sorted_results_rnd = executor.test_nas_algo()\n",
    "#sorted_results_rnd.head()\n",
    "\n",
    "#executor.save_report(sorted_results_rnd, f'data/{algo_name}_{max_train_hours}h_{dataset}.csv')"
   ]
  },
  {
   "cell_type": "markdown",
   "metadata": {
    "tags": []
   },
   "source": [
    "#### 50 hours"
   ]
  },
  {
   "cell_type": "code",
   "execution_count": 21,
   "metadata": {
    "collapsed": true,
    "jupyter": {
     "outputs_hidden": true
    },
    "tags": []
   },
   "outputs": [
    {
     "name": "stdout",
     "output_type": "stream",
     "text": [
      "[2023-07-05 01:05:31] Try to use the default NATS-Bench (size) path from fast_mode=True and path=None.\n",
      "Candidates: [8, 16, 24, 32, 40, 48, 56, 64]\n",
      "Tried 100 models, valid 100, time_spent_in_hours: 2h, time_spent_in_secs: 10219.244s, elapse since last report: 1.738s.\n",
      "Tried 200 models, valid 200, time_spent_in_hours: 5h, time_spent_in_secs: 20386.47s, elapse since last report: 1.59s.\n",
      "Tried 300 models, valid 300, time_spent_in_hours: 8h, time_spent_in_secs: 31529.561s, elapse since last report: 1.512s.\n",
      "Tried 400 models, valid 400, time_spent_in_hours: 12h, time_spent_in_secs: 43570.935s, elapse since last report: 1.434s.\n",
      "Tried 500 models, valid 500, time_spent_in_hours: 15h, time_spent_in_secs: 55396.351s, elapse since last report: 1.422s.\n",
      "Tried 600 models, valid 600, time_spent_in_hours: 18h, time_spent_in_secs: 67350.374s, elapse since last report: 1.472s.\n",
      "Tried 700 models, valid 700, time_spent_in_hours: 22h, time_spent_in_secs: 79347.569s, elapse since last report: 1.426s.\n",
      "Tried 800 models, valid 800, time_spent_in_hours: 25h, time_spent_in_secs: 90904.216s, elapse since last report: 1.469s.\n",
      "Tried 900 models, valid 900, time_spent_in_hours: 28h, time_spent_in_secs: 101090.237s, elapse since last report: 1.628s.\n",
      "Tried 1000 models, valid 1000, time_spent_in_hours: 30h, time_spent_in_secs: 111305.228s, elapse since last report: 2.17s.\n",
      "Tried 1100 models, valid 1100, time_spent_in_hours: 33h, time_spent_in_secs: 121979.108s, elapse since last report: 1.463s.\n",
      "Tried 1200 models, valid 1200, time_spent_in_hours: 36h, time_spent_in_secs: 132165.873s, elapse since last report: 1.538s.\n",
      "Tried 1300 models, valid 1300, time_spent_in_hours: 39h, time_spent_in_secs: 142542.518s, elapse since last report: 1.471s.\n",
      "Tried 1400 models, valid 1400, time_spent_in_hours: 42h, time_spent_in_secs: 153326.188s, elapse since last report: 1.569s.\n",
      "Tried 1500 models, valid 1500, time_spent_in_hours: 45h, time_spent_in_secs: 164174.52s, elapse since last report: 1.51s.\n",
      "Tried 1600 models, valid 1600, time_spent_in_hours: 48h, time_spent_in_secs: 175014.139s, elapse since last report: 1.488s.\n",
      "Total time elapse: 25.632837295532227 seconds.\n",
      "--------------------------------------------------------------------------------\n",
      "Total evaluated architectures: 1647\n",
      "Total time spent:              19 hours\n",
      "Best model found:              64:64:64:64:64\n",
      "Best model DNA:                DNA([7, 7, 7, 7, 7])\n",
      "Validation accuracy:           61.060000024414066\n",
      "Test accuracy:                 70.71999989013672\n",
      "--------------------------------------------------------------------------------\n"
     ]
    }
   ],
   "source": [
    "ss_indicator = 'sss'\n",
    "algo_name = 'evolution'\n",
    "dataset = 'cifar100'\n",
    "max_train_hours = 50\n",
    "\n",
    "executor = NASExecutor(algo_name, dataset, max_train_hours, ss_indicator)\n",
    "\n",
    "sorted_results_rnd = executor.test_nas_algo()\n",
    "#sorted_results_rnd.head()\n",
    "\n",
    "#executor.save_report(sorted_results_rnd, f'data/{algo_name}_{max_train_hours}h_{dataset}.csv')"
   ]
  },
  {
   "cell_type": "markdown",
   "metadata": {
    "tags": []
   },
   "source": [
    "#### 100 hours"
   ]
  },
  {
   "cell_type": "code",
   "execution_count": 44,
   "metadata": {
    "collapsed": true,
    "jupyter": {
     "outputs_hidden": true
    },
    "tags": []
   },
   "outputs": [
    {
     "name": "stdout",
     "output_type": "stream",
     "text": [
      "[2023-07-05 03:54:05] Try to use the default NATS-Bench (size) path from fast_mode=True and path=None.\n",
      "Candidates: [8, 16, 24, 32, 40, 48, 56, 64]\n",
      "Tried 100 models, valid 100, time_spent_in_hours: 2h, time_spent_in_secs: 9935.367s, elapse since last report: 1.77s.\n",
      "Tried 200 models, valid 200, time_spent_in_hours: 6h, time_spent_in_secs: 22192.779s, elapse since last report: 1.503s.\n",
      "Tried 300 models, valid 300, time_spent_in_hours: 9h, time_spent_in_secs: 33959.126s, elapse since last report: 1.469s.\n",
      "Tried 400 models, valid 400, time_spent_in_hours: 12h, time_spent_in_secs: 45686.933s, elapse since last report: 1.483s.\n",
      "Tried 500 models, valid 500, time_spent_in_hours: 15h, time_spent_in_secs: 57494.508s, elapse since last report: 1.483s.\n",
      "Tried 600 models, valid 600, time_spent_in_hours: 19h, time_spent_in_secs: 69070.144s, elapse since last report: 1.488s.\n",
      "Tried 700 models, valid 700, time_spent_in_hours: 22h, time_spent_in_secs: 79821.72s, elapse since last report: 1.545s.\n",
      "Tried 800 models, valid 800, time_spent_in_hours: 25h, time_spent_in_secs: 90055.555s, elapse since last report: 1.541s.\n",
      "Tried 900 models, valid 900, time_spent_in_hours: 28h, time_spent_in_secs: 101435.287s, elapse since last report: 1.54s.\n",
      "Tried 1000 models, valid 1000, time_spent_in_hours: 31h, time_spent_in_secs: 113517.569s, elapse since last report: 1.461s.\n",
      "Tried 1100 models, valid 1100, time_spent_in_hours: 34h, time_spent_in_secs: 124912.71s, elapse since last report: 1.502s.\n",
      "Tried 1200 models, valid 1200, time_spent_in_hours: 37h, time_spent_in_secs: 136734.955s, elapse since last report: 1.469s.\n",
      "Tried 1300 models, valid 1300, time_spent_in_hours: 41h, time_spent_in_secs: 148463.793s, elapse since last report: 1.539s.\n",
      "Tried 1400 models, valid 1400, time_spent_in_hours: 44h, time_spent_in_secs: 160038.595s, elapse since last report: 1.459s.\n",
      "Tried 1500 models, valid 1500, time_spent_in_hours: 47h, time_spent_in_secs: 172281.809s, elapse since last report: 1.392s.\n",
      "Tried 1600 models, valid 1600, time_spent_in_hours: 51h, time_spent_in_secs: 184021.367s, elapse since last report: 1.466s.\n",
      "Tried 1700 models, valid 1700, time_spent_in_hours: 54h, time_spent_in_secs: 196298.765s, elapse since last report: 1.439s.\n",
      "Tried 1800 models, valid 1800, time_spent_in_hours: 57h, time_spent_in_secs: 207823.986s, elapse since last report: 5.084s.\n",
      "Tried 1900 models, valid 1900, time_spent_in_hours: 60h, time_spent_in_secs: 219598.465s, elapse since last report: 1.544s.\n",
      "Tried 2000 models, valid 2000, time_spent_in_hours: 64h, time_spent_in_secs: 231039.346s, elapse since last report: 1.579s.\n",
      "Tried 2100 models, valid 2100, time_spent_in_hours: 67h, time_spent_in_secs: 242472.104s, elapse since last report: 1.6s.\n",
      "Tried 2200 models, valid 2200, time_spent_in_hours: 70h, time_spent_in_secs: 254077.722s, elapse since last report: 1.61s.\n",
      "Tried 2300 models, valid 2300, time_spent_in_hours: 73h, time_spent_in_secs: 265699.144s, elapse since last report: 1.574s.\n",
      "Tried 2400 models, valid 2400, time_spent_in_hours: 77h, time_spent_in_secs: 277287.182s, elapse since last report: 1.548s.\n",
      "Tried 2500 models, valid 2500, time_spent_in_hours: 80h, time_spent_in_secs: 288954.668s, elapse since last report: 1.535s.\n",
      "Tried 2600 models, valid 2600, time_spent_in_hours: 83h, time_spent_in_secs: 300683.865s, elapse since last report: 1.536s.\n",
      "Tried 2700 models, valid 2700, time_spent_in_hours: 86h, time_spent_in_secs: 311875.793s, elapse since last report: 1.558s.\n",
      "Tried 2800 models, valid 2800, time_spent_in_hours: 89h, time_spent_in_secs: 323145.39s, elapse since last report: 1.577s.\n",
      "Tried 2900 models, valid 2900, time_spent_in_hours: 92h, time_spent_in_secs: 334466.126s, elapse since last report: 1.612s.\n",
      "Tried 3000 models, valid 3000, time_spent_in_hours: 96h, time_spent_in_secs: 346325.437s, elapse since last report: 1.54s.\n",
      "Tried 3100 models, valid 3100, time_spent_in_hours: 99h, time_spent_in_secs: 357873.861s, elapse since last report: 1.537s.\n",
      "Total time elapse: 51.296751499176025 seconds.\n",
      "--------------------------------------------------------------------------------\n",
      "Total evaluated architectures: 3119\n",
      "Total time spent:              15 hours\n",
      "Best model found:              64:64:64:64:64\n",
      "Best model DNA:                DNA([7, 7, 7, 7, 7])\n",
      "Validation accuracy:           61.060000024414066\n",
      "Test accuracy:                 70.71999989013672\n",
      "--------------------------------------------------------------------------------\n"
     ]
    }
   ],
   "source": [
    "ss_indicator = 'sss'\n",
    "algo_name = 'evolution'\n",
    "dataset = 'cifar100'\n",
    "max_train_hours = 100\n",
    "\n",
    "executor = NASExecutor(algo_name, dataset, max_train_hours, ss_indicator)\n",
    "\n",
    "sorted_results_rnd = executor.test_nas_algo()\n",
    "#sorted_results_rnd.head()\n",
    "\n",
    "#executor.save_report(sorted_results_rnd, f'data/{algo_name}_{max_train_hours}h_{dataset}.csv')"
   ]
  },
  {
   "cell_type": "markdown",
   "metadata": {
    "tags": []
   },
   "source": [
    "#### 200 hours"
   ]
  },
  {
   "cell_type": "code",
   "execution_count": 45,
   "metadata": {
    "collapsed": true,
    "jupyter": {
     "outputs_hidden": true
    },
    "tags": []
   },
   "outputs": [
    {
     "name": "stdout",
     "output_type": "stream",
     "text": [
      "[2023-07-05 03:54:57] Try to use the default NATS-Bench (size) path from fast_mode=True and path=None.\n",
      "Candidates: [8, 16, 24, 32, 40, 48, 56, 64]\n",
      "Tried 100 models, valid 100, time_spent_in_hours: 2h, time_spent_in_secs: 10638.702s, elapse since last report: 1.718s.\n",
      "Tried 200 models, valid 200, time_spent_in_hours: 6h, time_spent_in_secs: 22578.753s, elapse since last report: 1.492s.\n",
      "Tried 300 models, valid 300, time_spent_in_hours: 9h, time_spent_in_secs: 34329.516s, elapse since last report: 1.524s.\n",
      "Tried 400 models, valid 400, time_spent_in_hours: 12h, time_spent_in_secs: 46215.657s, elapse since last report: 1.485s.\n",
      "Tried 500 models, valid 500, time_spent_in_hours: 16h, time_spent_in_secs: 58250.801s, elapse since last report: 1.587s.\n",
      "Tried 600 models, valid 600, time_spent_in_hours: 19h, time_spent_in_secs: 70039.419s, elapse since last report: 1.555s.\n",
      "Tried 700 models, valid 700, time_spent_in_hours: 22h, time_spent_in_secs: 81479.751s, elapse since last report: 1.608s.\n",
      "Tried 800 models, valid 800, time_spent_in_hours: 25h, time_spent_in_secs: 93110.19s, elapse since last report: 1.805s.\n",
      "Tried 900 models, valid 900, time_spent_in_hours: 29h, time_spent_in_secs: 104627.773s, elapse since last report: 1.632s.\n",
      "Tried 1000 models, valid 1000, time_spent_in_hours: 32h, time_spent_in_secs: 116495.629s, elapse since last report: 1.547s.\n",
      "Tried 1100 models, valid 1100, time_spent_in_hours: 35h, time_spent_in_secs: 128613.586s, elapse since last report: 1.52s.\n",
      "Tried 1200 models, valid 1200, time_spent_in_hours: 38h, time_spent_in_secs: 139989.174s, elapse since last report: 1.736s.\n",
      "Tried 1300 models, valid 1300, time_spent_in_hours: 42h, time_spent_in_secs: 151841.374s, elapse since last report: 1.643s.\n",
      "Tried 1400 models, valid 1400, time_spent_in_hours: 45h, time_spent_in_secs: 163897.727s, elapse since last report: 1.713s.\n",
      "Tried 1500 models, valid 1500, time_spent_in_hours: 48h, time_spent_in_secs: 175619.688s, elapse since last report: 1.539s.\n",
      "Tried 1600 models, valid 1600, time_spent_in_hours: 51h, time_spent_in_secs: 187073.285s, elapse since last report: 1.758s.\n",
      "Tried 1700 models, valid 1700, time_spent_in_hours: 55h, time_spent_in_secs: 198532.118s, elapse since last report: 1.711s.\n",
      "Tried 1800 models, valid 1800, time_spent_in_hours: 58h, time_spent_in_secs: 209726.665s, elapse since last report: 1.632s.\n",
      "Tried 1900 models, valid 1900, time_spent_in_hours: 61h, time_spent_in_secs: 221299.17s, elapse since last report: 1.702s.\n",
      "Tried 2000 models, valid 2000, time_spent_in_hours: 64h, time_spent_in_secs: 233022.777s, elapse since last report: 1.492s.\n",
      "Tried 2100 models, valid 2100, time_spent_in_hours: 67h, time_spent_in_secs: 244679.251s, elapse since last report: 1.674s.\n",
      "Tried 2200 models, valid 2200, time_spent_in_hours: 71h, time_spent_in_secs: 256591.361s, elapse since last report: 1.716s.\n",
      "Tried 2300 models, valid 2300, time_spent_in_hours: 74h, time_spent_in_secs: 268630.574s, elapse since last report: 1.661s.\n",
      "Tried 2400 models, valid 2400, time_spent_in_hours: 77h, time_spent_in_secs: 280394.937s, elapse since last report: 1.515s.\n",
      "Tried 2500 models, valid 2500, time_spent_in_hours: 81h, time_spent_in_secs: 292485.35s, elapse since last report: 1.555s.\n",
      "Tried 2600 models, valid 2600, time_spent_in_hours: 84h, time_spent_in_secs: 304330.692s, elapse since last report: 1.456s.\n",
      "Tried 2700 models, valid 2700, time_spent_in_hours: 87h, time_spent_in_secs: 316033.4s, elapse since last report: 1.585s.\n",
      "Tried 2800 models, valid 2800, time_spent_in_hours: 91h, time_spent_in_secs: 327932.831s, elapse since last report: 1.602s.\n",
      "Tried 2900 models, valid 2900, time_spent_in_hours: 94h, time_spent_in_secs: 339848.947s, elapse since last report: 1.575s.\n",
      "Tried 3000 models, valid 3000, time_spent_in_hours: 97h, time_spent_in_secs: 351712.311s, elapse since last report: 1.779s.\n",
      "Tried 3100 models, valid 3100, time_spent_in_hours: 100h, time_spent_in_secs: 363545.928s, elapse since last report: 1.672s.\n",
      "Tried 3200 models, valid 3200, time_spent_in_hours: 104h, time_spent_in_secs: 375631.869s, elapse since last report: 1.518s.\n",
      "Tried 3300 models, valid 3300, time_spent_in_hours: 107h, time_spent_in_secs: 387583.591s, elapse since last report: 1.554s.\n",
      "Tried 3400 models, valid 3400, time_spent_in_hours: 110h, time_spent_in_secs: 399247.831s, elapse since last report: 1.637s.\n",
      "Tried 3500 models, valid 3500, time_spent_in_hours: 113h, time_spent_in_secs: 410192.907s, elapse since last report: 1.65s.\n",
      "Tried 3600 models, valid 3600, time_spent_in_hours: 117h, time_spent_in_secs: 421478.809s, elapse since last report: 1.624s.\n",
      "Tried 3700 models, valid 3700, time_spent_in_hours: 120h, time_spent_in_secs: 432402.478s, elapse since last report: 1.659s.\n",
      "Tried 3800 models, valid 3800, time_spent_in_hours: 123h, time_spent_in_secs: 443052.056s, elapse since last report: 1.638s.\n",
      "Tried 3900 models, valid 3900, time_spent_in_hours: 125h, time_spent_in_secs: 453580.658s, elapse since last report: 1.573s.\n",
      "Tried 4000 models, valid 4000, time_spent_in_hours: 128h, time_spent_in_secs: 464106.514s, elapse since last report: 1.635s.\n",
      "Tried 4100 models, valid 4100, time_spent_in_hours: 132h, time_spent_in_secs: 475210.567s, elapse since last report: 1.623s.\n",
      "Tried 4200 models, valid 4200, time_spent_in_hours: 135h, time_spent_in_secs: 487139.854s, elapse since last report: 1.57s.\n",
      "Tried 4300 models, valid 4300, time_spent_in_hours: 138h, time_spent_in_secs: 499019.524s, elapse since last report: 1.579s.\n",
      "Tried 4400 models, valid 4400, time_spent_in_hours: 141h, time_spent_in_secs: 511003.175s, elapse since last report: 1.544s.\n",
      "Tried 4500 models, valid 4500, time_spent_in_hours: 145h, time_spent_in_secs: 523026.409s, elapse since last report: 1.547s.\n",
      "Tried 4600 models, valid 4600, time_spent_in_hours: 148h, time_spent_in_secs: 534999.099s, elapse since last report: 1.576s.\n",
      "Tried 4700 models, valid 4700, time_spent_in_hours: 151h, time_spent_in_secs: 547177.611s, elapse since last report: 1.53s.\n",
      "Tried 4800 models, valid 4800, time_spent_in_hours: 155h, time_spent_in_secs: 558728.967s, elapse since last report: 1.626s.\n",
      "Tried 4900 models, valid 4900, time_spent_in_hours: 158h, time_spent_in_secs: 570269.193s, elapse since last report: 1.594s.\n",
      "Tried 5000 models, valid 5000, time_spent_in_hours: 161h, time_spent_in_secs: 581913.889s, elapse since last report: 5.76s.\n",
      "Tried 5100 models, valid 5100, time_spent_in_hours: 164h, time_spent_in_secs: 593453.581s, elapse since last report: 1.638s.\n",
      "Tried 5200 models, valid 5200, time_spent_in_hours: 168h, time_spent_in_secs: 605054.988s, elapse since last report: 1.674s.\n",
      "Tried 5300 models, valid 5300, time_spent_in_hours: 171h, time_spent_in_secs: 616791.149s, elapse since last report: 1.642s.\n",
      "Tried 5400 models, valid 5400, time_spent_in_hours: 174h, time_spent_in_secs: 628492.066s, elapse since last report: 1.63s.\n",
      "Tried 5500 models, valid 5500, time_spent_in_hours: 177h, time_spent_in_secs: 640204.497s, elapse since last report: 1.626s.\n",
      "Tried 5600 models, valid 5600, time_spent_in_hours: 181h, time_spent_in_secs: 651885.674s, elapse since last report: 1.653s.\n",
      "Tried 5700 models, valid 5700, time_spent_in_hours: 184h, time_spent_in_secs: 664159.371s, elapse since last report: 1.61s.\n",
      "Tried 5800 models, valid 5800, time_spent_in_hours: 187h, time_spent_in_secs: 676262.625s, elapse since last report: 1.607s.\n",
      "Tried 5900 models, valid 5900, time_spent_in_hours: 191h, time_spent_in_secs: 687872.64s, elapse since last report: 1.649s.\n",
      "Tried 6000 models, valid 6000, time_spent_in_hours: 194h, time_spent_in_secs: 699633.637s, elapse since last report: 1.654s.\n",
      "Tried 6100 models, valid 6100, time_spent_in_hours: 197h, time_spent_in_secs: 711652.123s, elapse since last report: 1.606s.\n",
      "Total time elapse: 103.7767322063446 seconds.\n",
      "--------------------------------------------------------------------------------\n",
      "Total evaluated architectures: 6170\n",
      "Total time spent:              56 hours\n",
      "Best model found:              64:64:64:64:64\n",
      "Best model DNA:                DNA([7, 7, 7, 7, 7])\n",
      "Validation accuracy:           61.060000024414066\n",
      "Test accuracy:                 70.71999989013672\n",
      "--------------------------------------------------------------------------------\n"
     ]
    }
   ],
   "source": [
    "ss_indicator = 'sss'\n",
    "algo_name = 'evolution'\n",
    "dataset = 'cifar100'\n",
    "max_train_hours = 200\n",
    "\n",
    "executor = NASExecutor(algo_name, dataset, max_train_hours, ss_indicator)\n",
    "\n",
    "sorted_results_rnd = executor.test_nas_algo()\n",
    "#sorted_results_rnd.head()\n",
    "\n",
    "#executor.save_report(sorted_results_rnd, f'data/{algo_name}_{max_train_hours}h_{dataset}.csv')"
   ]
  },
  {
   "cell_type": "markdown",
   "metadata": {
    "tags": []
   },
   "source": [
    "### Test with Reinforcement Learning Algorithm"
   ]
  },
  {
   "cell_type": "markdown",
   "metadata": {
    "jp-MarkdownHeadingCollapsed": true,
    "tags": []
   },
   "source": [
    "#### 1 hour"
   ]
  },
  {
   "cell_type": "code",
   "execution_count": 22,
   "metadata": {
    "collapsed": true,
    "jupyter": {
     "outputs_hidden": true
    },
    "tags": []
   },
   "outputs": [
    {
     "name": "stdout",
     "output_type": "stream",
     "text": [
      "[2023-07-05 01:05:57] Try to use the default NATS-Bench (size) path from fast_mode=True and path=None.\n",
      "Candidates: [8, 16, 24, 32, 40, 48, 56, 64]\n",
      "Total time elapse: 5.032488822937012 seconds.\n",
      "--------------------------------------------------------------------------------\n",
      "Total evaluated architectures: 35\n",
      "Total time spent:              0 hours\n",
      "Best model found:              16:40:64:48:48\n",
      "Best model DNA:                DNA([1, 4, 7, 5, 5])\n",
      "Validation accuracy:           57.179999963378904\n",
      "Test accuracy:                 67.36000001220702\n",
      "--------------------------------------------------------------------------------\n"
     ]
    }
   ],
   "source": [
    "algo_name = 'rl'\n",
    "dataset = 'cifar100'\n",
    "max_train_hours = 1\n",
    "\n",
    "executor = NASExecutor(algo_name, dataset, max_train_hours, ss_indicator)\n",
    "\n",
    "sorted_results_rnd = executor.test_nas_algo()\n",
    "#sorted_results_rnd.head()\n",
    "\n",
    "#executor.save_report(sorted_results_rnd, f'data/{algo_name}_{max_train_hours}h_{dataset}.csv')"
   ]
  },
  {
   "cell_type": "markdown",
   "metadata": {
    "tags": []
   },
   "source": [
    "#### 10 hours"
   ]
  },
  {
   "cell_type": "code",
   "execution_count": 23,
   "metadata": {
    "collapsed": true,
    "jupyter": {
     "outputs_hidden": true
    },
    "tags": []
   },
   "outputs": [
    {
     "name": "stdout",
     "output_type": "stream",
     "text": [
      "[2023-07-05 01:06:02] Try to use the default NATS-Bench (size) path from fast_mode=True and path=None.\n",
      "Candidates: [8, 16, 24, 32, 40, 48, 56, 64]\n",
      "Tried 100 models, valid 100, time_spent_in_hours: 2h, time_spent_in_secs: 9003.156s, elapse since last report: 13.594s.\n",
      "Tried 200 models, valid 200, time_spent_in_hours: 5h, time_spent_in_secs: 18066.206s, elapse since last report: 14.884s.\n",
      "Tried 300 models, valid 300, time_spent_in_hours: 7h, time_spent_in_secs: 26566.226s, elapse since last report: 14.924s.\n",
      "Tried 400 models, valid 400, time_spent_in_hours: 9h, time_spent_in_secs: 34216.98s, elapse since last report: 15.443s.\n",
      "Total time elapse: 62.23725652694702 seconds.\n",
      "--------------------------------------------------------------------------------\n",
      "Total evaluated architectures: 422\n",
      "Total time spent:              0 hours\n",
      "Best model found:              48:48:48:48:48\n",
      "Best model DNA:                DNA([5, 5, 5, 5, 5])\n",
      "Validation accuracy:           58.500000024414064\n",
      "Test accuracy:                 68.95999991455078\n",
      "--------------------------------------------------------------------------------\n"
     ]
    }
   ],
   "source": [
    "ss_indicator = 'sss'\n",
    "algo_name = 'rl'\n",
    "dataset = 'cifar100'\n",
    "max_train_hours = 10\n",
    "\n",
    "executor = NASExecutor(algo_name, dataset, max_train_hours, ss_indicator)\n",
    "\n",
    "sorted_results_rnd = executor.test_nas_algo()\n",
    "#sorted_results_rnd.head()\n",
    "\n",
    "#executor.save_report(sorted_results_rnd, f'data/{algo_name}_{max_train_hours}h_{dataset}.csv')"
   ]
  },
  {
   "cell_type": "markdown",
   "metadata": {
    "tags": []
   },
   "source": [
    "#### 50 hours"
   ]
  },
  {
   "cell_type": "code",
   "execution_count": 24,
   "metadata": {
    "collapsed": true,
    "jupyter": {
     "outputs_hidden": true
    },
    "tags": []
   },
   "outputs": [
    {
     "name": "stdout",
     "output_type": "stream",
     "text": [
      "[2023-07-05 01:07:04] Try to use the default NATS-Bench (size) path from fast_mode=True and path=None.\n",
      "Candidates: [8, 16, 24, 32, 40, 48, 56, 64]\n",
      "Tried 100 models, valid 100, time_spent_in_hours: 3h, time_spent_in_secs: 11520.774s, elapse since last report: 13.477s.\n",
      "Tried 200 models, valid 200, time_spent_in_hours: 6h, time_spent_in_secs: 23050.327s, elapse since last report: 14.7s.\n",
      "Tried 300 models, valid 300, time_spent_in_hours: 9h, time_spent_in_secs: 35176.375s, elapse since last report: 14.95s.\n",
      "Tried 400 models, valid 400, time_spent_in_hours: 13h, time_spent_in_secs: 48198.432s, elapse since last report: 15.059s.\n",
      "Tried 500 models, valid 500, time_spent_in_hours: 17h, time_spent_in_secs: 61213.973s, elapse since last report: 14.818s.\n",
      "Tried 600 models, valid 600, time_spent_in_hours: 20h, time_spent_in_secs: 74226.887s, elapse since last report: 16.635s.\n",
      "Tried 700 models, valid 700, time_spent_in_hours: 24h, time_spent_in_secs: 87283.506s, elapse since last report: 15.948s.\n",
      "Tried 800 models, valid 800, time_spent_in_hours: 27h, time_spent_in_secs: 100279.975s, elapse since last report: 16.999s.\n",
      "Tried 900 models, valid 900, time_spent_in_hours: 31h, time_spent_in_secs: 113151.682s, elapse since last report: 17.294s.\n",
      "Tried 1000 models, valid 1000, time_spent_in_hours: 35h, time_spent_in_secs: 126139.417s, elapse since last report: 17.054s.\n",
      "Tried 1100 models, valid 1100, time_spent_in_hours: 38h, time_spent_in_secs: 138249.388s, elapse since last report: 18.608s.\n",
      "Tried 1200 models, valid 1200, time_spent_in_hours: 41h, time_spent_in_secs: 150366.894s, elapse since last report: 17.438s.\n",
      "Tried 1300 models, valid 1300, time_spent_in_hours: 45h, time_spent_in_secs: 162165.666s, elapse since last report: 18.318s.\n",
      "Tried 1400 models, valid 1400, time_spent_in_hours: 48h, time_spent_in_secs: 173436.575s, elapse since last report: 18.704s.\n",
      "Total time elapse: 240.86648058891296 seconds.\n",
      "--------------------------------------------------------------------------------\n",
      "Total evaluated architectures: 1458\n",
      "Total time spent:              5 hours\n",
      "Best model found:              64:64:64:64:64\n",
      "Best model DNA:                DNA([7, 7, 7, 7, 7])\n",
      "Validation accuracy:           61.060000024414066\n",
      "Test accuracy:                 70.71999989013672\n",
      "--------------------------------------------------------------------------------\n"
     ]
    }
   ],
   "source": [
    "ss_indicator = 'sss'\n",
    "algo_name = 'rl'\n",
    "dataset = 'cifar100'\n",
    "max_train_hours = 50\n",
    "\n",
    "executor = NASExecutor(algo_name, dataset, max_train_hours, ss_indicator)\n",
    "\n",
    "sorted_results_rnd = executor.test_nas_algo()\n",
    "#sorted_results_rnd.head()\n",
    "\n",
    "#executor.save_report(sorted_results_rnd, f'data/{algo_name}_{max_train_hours}h_{dataset}.csv')"
   ]
  },
  {
   "cell_type": "markdown",
   "metadata": {
    "tags": []
   },
   "source": [
    "#### 100 hours"
   ]
  },
  {
   "cell_type": "code",
   "execution_count": 46,
   "metadata": {
    "collapsed": true,
    "jupyter": {
     "outputs_hidden": true
    },
    "tags": []
   },
   "outputs": [
    {
     "name": "stdout",
     "output_type": "stream",
     "text": [
      "[2023-07-05 03:56:41] Try to use the default NATS-Bench (size) path from fast_mode=True and path=None.\n",
      "Candidates: [8, 16, 24, 32, 40, 48, 56, 64]\n",
      "Tried 100 models, valid 100, time_spent_in_hours: 2h, time_spent_in_secs: 10369.313s, elapse since last report: 13.491s.\n",
      "Tried 200 models, valid 200, time_spent_in_hours: 5h, time_spent_in_secs: 20931.987s, elapse since last report: 13.581s.\n",
      "Tried 300 models, valid 300, time_spent_in_hours: 8h, time_spent_in_secs: 31730.525s, elapse since last report: 14.804s.\n",
      "Tried 400 models, valid 400, time_spent_in_hours: 11h, time_spent_in_secs: 42701.65s, elapse since last report: 14.325s.\n",
      "Tried 500 models, valid 500, time_spent_in_hours: 14h, time_spent_in_secs: 53674.593s, elapse since last report: 14.645s.\n",
      "Tried 600 models, valid 600, time_spent_in_hours: 18h, time_spent_in_secs: 64841.468s, elapse since last report: 15.94s.\n",
      "Tried 700 models, valid 700, time_spent_in_hours: 21h, time_spent_in_secs: 76011.23s, elapse since last report: 15.362s.\n",
      "Tried 800 models, valid 800, time_spent_in_hours: 24h, time_spent_in_secs: 87268.41s, elapse since last report: 16.612s.\n",
      "Tried 900 models, valid 900, time_spent_in_hours: 27h, time_spent_in_secs: 98787.734s, elapse since last report: 16.222s.\n",
      "Tried 1000 models, valid 1000, time_spent_in_hours: 30h, time_spent_in_secs: 110118.617s, elapse since last report: 20.274s.\n",
      "Tried 1100 models, valid 1100, time_spent_in_hours: 33h, time_spent_in_secs: 120880.535s, elapse since last report: 17.902s.\n",
      "Tried 1200 models, valid 1200, time_spent_in_hours: 36h, time_spent_in_secs: 131454.948s, elapse since last report: 17.208s.\n",
      "Tried 1300 models, valid 1300, time_spent_in_hours: 39h, time_spent_in_secs: 141995.144s, elapse since last report: 18.521s.\n",
      "Tried 1400 models, valid 1400, time_spent_in_hours: 42h, time_spent_in_secs: 152463.8s, elapse since last report: 17.981s.\n",
      "Tried 1500 models, valid 1500, time_spent_in_hours: 45h, time_spent_in_secs: 162948.182s, elapse since last report: 18.507s.\n",
      "Tried 1600 models, valid 1600, time_spent_in_hours: 48h, time_spent_in_secs: 173759.078s, elapse since last report: 19.525s.\n",
      "Tried 1700 models, valid 1700, time_spent_in_hours: 51h, time_spent_in_secs: 184817.712s, elapse since last report: 18.919s.\n",
      "Tried 1800 models, valid 1800, time_spent_in_hours: 54h, time_spent_in_secs: 195925.77s, elapse since last report: 20.164s.\n",
      "Tried 1900 models, valid 1900, time_spent_in_hours: 57h, time_spent_in_secs: 206990.075s, elapse since last report: 19.51s.\n",
      "Tried 2000 models, valid 2000, time_spent_in_hours: 60h, time_spent_in_secs: 218129.3s, elapse since last report: 20.043s.\n",
      "Tried 2100 models, valid 2100, time_spent_in_hours: 63h, time_spent_in_secs: 229532.596s, elapse since last report: 21.082s.\n",
      "Tried 2200 models, valid 2200, time_spent_in_hours: 66h, time_spent_in_secs: 241003.345s, elapse since last report: 24.748s.\n",
      "Tried 2300 models, valid 2300, time_spent_in_hours: 70h, time_spent_in_secs: 252524.082s, elapse since last report: 21.256s.\n",
      "Tried 2400 models, valid 2400, time_spent_in_hours: 72h, time_spent_in_secs: 262692.272s, elapse since last report: 22.488s.\n",
      "Tried 2500 models, valid 2500, time_spent_in_hours: 75h, time_spent_in_secs: 272700.838s, elapse since last report: 21.943s.\n",
      "Tried 2600 models, valid 2600, time_spent_in_hours: 78h, time_spent_in_secs: 281935.035s, elapse since last report: 23.006s.\n",
      "Tried 2700 models, valid 2700, time_spent_in_hours: 80h, time_spent_in_secs: 289962.08s, elapse since last report: 22.489s.\n",
      "Tried 2800 models, valid 2800, time_spent_in_hours: 82h, time_spent_in_secs: 297773.676s, elapse since last report: 22.95s.\n",
      "Tried 2900 models, valid 2900, time_spent_in_hours: 85h, time_spent_in_secs: 308316.491s, elapse since last report: 23.857s.\n",
      "Tried 3000 models, valid 3000, time_spent_in_hours: 88h, time_spent_in_secs: 319096.014s, elapse since last report: 23.555s.\n",
      "Tried 3100 models, valid 3100, time_spent_in_hours: 91h, time_spent_in_secs: 330259.883s, elapse since last report: 24.665s.\n",
      "Tried 3200 models, valid 3200, time_spent_in_hours: 94h, time_spent_in_secs: 341627.238s, elapse since last report: 24.092s.\n",
      "Tried 3300 models, valid 3300, time_spent_in_hours: 98h, time_spent_in_secs: 353215.909s, elapse since last report: 24.419s.\n",
      "Total time elapse: 663.3671622276306 seconds.\n",
      "--------------------------------------------------------------------------------\n",
      "Total evaluated architectures: 3358\n",
      "Total time spent:              27 hours\n",
      "Best model found:              64:48:48:64:64\n",
      "Best model DNA:                DNA([7, 5, 5, 7, 7])\n",
      "Validation accuracy:           60.73999994506836\n",
      "Test accuracy:                 70.11999997558594\n",
      "--------------------------------------------------------------------------------\n"
     ]
    }
   ],
   "source": [
    "ss_indicator = 'sss'\n",
    "algo_name = 'rl'\n",
    "dataset = 'cifar100'\n",
    "max_train_hours = 100\n",
    "\n",
    "executor = NASExecutor(algo_name, dataset, max_train_hours, ss_indicator)\n",
    "\n",
    "sorted_results_rnd = executor.test_nas_algo()\n",
    "#sorted_results_rnd.head()\n",
    "\n",
    "#executor.save_report(sorted_results_rnd, f'data/{algo_name}_{max_train_hours}h_{dataset}.csv')"
   ]
  },
  {
   "cell_type": "markdown",
   "metadata": {
    "tags": []
   },
   "source": [
    "#### 200 hours"
   ]
  },
  {
   "cell_type": "code",
   "execution_count": 47,
   "metadata": {
    "collapsed": true,
    "jupyter": {
     "outputs_hidden": true
    },
    "tags": []
   },
   "outputs": [
    {
     "name": "stdout",
     "output_type": "stream",
     "text": [
      "[2023-07-05 04:07:45] Try to use the default NATS-Bench (size) path from fast_mode=True and path=None.\n",
      "Candidates: [8, 16, 24, 32, 40, 48, 56, 64]\n",
      "Tried 100 models, valid 100, time_spent_in_hours: 2h, time_spent_in_secs: 8094.035s, elapse since last report: 13.881s.\n",
      "Tried 200 models, valid 200, time_spent_in_hours: 4h, time_spent_in_secs: 16432.983s, elapse since last report: 13.953s.\n",
      "Tried 300 models, valid 300, time_spent_in_hours: 6h, time_spent_in_secs: 24630.563s, elapse since last report: 15.164s.\n",
      "Tried 400 models, valid 400, time_spent_in_hours: 9h, time_spent_in_secs: 33341.536s, elapse since last report: 14.7s.\n",
      "Tried 500 models, valid 500, time_spent_in_hours: 11h, time_spent_in_secs: 42229.625s, elapse since last report: 14.878s.\n",
      "Tried 600 models, valid 600, time_spent_in_hours: 14h, time_spent_in_secs: 52394.26s, elapse since last report: 16.083s.\n",
      "Tried 700 models, valid 700, time_spent_in_hours: 17h, time_spent_in_secs: 62675.932s, elapse since last report: 15.676s.\n",
      "Tried 800 models, valid 800, time_spent_in_hours: 20h, time_spent_in_secs: 72150.591s, elapse since last report: 16.6s.\n",
      "Tried 900 models, valid 900, time_spent_in_hours: 22h, time_spent_in_secs: 80011.103s, elapse since last report: 16.228s.\n",
      "Tried 1000 models, valid 1000, time_spent_in_hours: 24h, time_spent_in_secs: 87775.815s, elapse since last report: 16.512s.\n",
      "Tried 1100 models, valid 1100, time_spent_in_hours: 26h, time_spent_in_secs: 95552.834s, elapse since last report: 17.478s.\n",
      "Tried 1200 models, valid 1200, time_spent_in_hours: 28h, time_spent_in_secs: 103374.621s, elapse since last report: 17.251s.\n",
      "Tried 1300 models, valid 1300, time_spent_in_hours: 30h, time_spent_in_secs: 111184.056s, elapse since last report: 23.625s.\n",
      "Tried 1400 models, valid 1400, time_spent_in_hours: 33h, time_spent_in_secs: 119260.383s, elapse since last report: 18.172s.\n",
      "Tried 1500 models, valid 1500, time_spent_in_hours: 35h, time_spent_in_secs: 127413.172s, elapse since last report: 18.531s.\n",
      "Tried 1600 models, valid 1600, time_spent_in_hours: 38h, time_spent_in_secs: 137046.64s, elapse since last report: 19.701s.\n",
      "Tried 1700 models, valid 1700, time_spent_in_hours: 40h, time_spent_in_secs: 146929.796s, elapse since last report: 19.371s.\n",
      "Tried 1800 models, valid 1800, time_spent_in_hours: 43h, time_spent_in_secs: 156559.747s, elapse since last report: 20.283s.\n",
      "Tried 1900 models, valid 1900, time_spent_in_hours: 45h, time_spent_in_secs: 164655.152s, elapse since last report: 19.815s.\n",
      "Tried 2000 models, valid 2000, time_spent_in_hours: 47h, time_spent_in_secs: 172755.45s, elapse since last report: 20.039s.\n",
      "Tried 2100 models, valid 2100, time_spent_in_hours: 50h, time_spent_in_secs: 180566.812s, elapse since last report: 23.778s.\n",
      "Tried 2200 models, valid 2200, time_spent_in_hours: 52h, time_spent_in_secs: 188139.631s, elapse since last report: 20.883s.\n",
      "Tried 2300 models, valid 2300, time_spent_in_hours: 54h, time_spent_in_secs: 195715.113s, elapse since last report: 21.136s.\n",
      "Tried 2400 models, valid 2400, time_spent_in_hours: 56h, time_spent_in_secs: 203225.88s, elapse since last report: 22.341s.\n",
      "Tried 2500 models, valid 2500, time_spent_in_hours: 58h, time_spent_in_secs: 210713.98s, elapse since last report: 21.838s.\n",
      "Tried 2600 models, valid 2600, time_spent_in_hours: 60h, time_spent_in_secs: 218273.701s, elapse since last report: 22.915s.\n",
      "Tried 2700 models, valid 2700, time_spent_in_hours: 62h, time_spent_in_secs: 226020.416s, elapse since last report: 22.469s.\n",
      "Tried 2800 models, valid 2800, time_spent_in_hours: 64h, time_spent_in_secs: 233542.664s, elapse since last report: 22.896s.\n",
      "Tried 2900 models, valid 2900, time_spent_in_hours: 67h, time_spent_in_secs: 241872.309s, elapse since last report: 24.093s.\n",
      "Tried 3000 models, valid 3000, time_spent_in_hours: 69h, time_spent_in_secs: 250015.759s, elapse since last report: 26.612s.\n",
      "Tried 3100 models, valid 3100, time_spent_in_hours: 71h, time_spent_in_secs: 258801.166s, elapse since last report: 25.148s.\n",
      "Tried 3200 models, valid 3200, time_spent_in_hours: 74h, time_spent_in_secs: 268075.686s, elapse since last report: 24.46s.\n",
      "Tried 3300 models, valid 3300, time_spent_in_hours: 77h, time_spent_in_secs: 277253.483s, elapse since last report: 24.615s.\n",
      "Tried 3400 models, valid 3400, time_spent_in_hours: 79h, time_spent_in_secs: 287283.803s, elapse since last report: 25.749s.\n",
      "Tried 3500 models, valid 3500, time_spent_in_hours: 82h, time_spent_in_secs: 297563.592s, elapse since last report: 25.135s.\n",
      "Tried 3600 models, valid 3600, time_spent_in_hours: 85h, time_spent_in_secs: 307868.221s, elapse since last report: 26.304s.\n",
      "Tried 3700 models, valid 3700, time_spent_in_hours: 88h, time_spent_in_secs: 318240.931s, elapse since last report: 25.726s.\n",
      "Tried 3800 models, valid 3800, time_spent_in_hours: 91h, time_spent_in_secs: 328692.768s, elapse since last report: 26.238s.\n",
      "Tried 3900 models, valid 3900, time_spent_in_hours: 94h, time_spent_in_secs: 338967.737s, elapse since last report: 30.534s.\n",
      "Tried 4000 models, valid 4000, time_spent_in_hours: 97h, time_spent_in_secs: 349393.201s, elapse since last report: 27.039s.\n",
      "Tried 4100 models, valid 4100, time_spent_in_hours: 99h, time_spent_in_secs: 359753.822s, elapse since last report: 28.316s.\n",
      "Tried 4200 models, valid 4200, time_spent_in_hours: 103h, time_spent_in_secs: 370897.589s, elapse since last report: 27.759s.\n",
      "Tried 4300 models, valid 4300, time_spent_in_hours: 106h, time_spent_in_secs: 382077.27s, elapse since last report: 28.029s.\n",
      "Tried 4400 models, valid 4400, time_spent_in_hours: 109h, time_spent_in_secs: 393284.095s, elapse since last report: 28.987s.\n",
      "Tried 4500 models, valid 4500, time_spent_in_hours: 112h, time_spent_in_secs: 404573.006s, elapse since last report: 28.571s.\n",
      "Tried 4600 models, valid 4600, time_spent_in_hours: 115h, time_spent_in_secs: 415904.325s, elapse since last report: 28.829s.\n",
      "Tried 4700 models, valid 4700, time_spent_in_hours: 118h, time_spent_in_secs: 426601.765s, elapse since last report: 30.185s.\n",
      "Tried 4800 models, valid 4800, time_spent_in_hours: 121h, time_spent_in_secs: 437411.719s, elapse since last report: 32.941s.\n",
      "Tried 4900 models, valid 4900, time_spent_in_hours: 124h, time_spent_in_secs: 448184.974s, elapse since last report: 31.218s.\n",
      "Tried 5000 models, valid 5000, time_spent_in_hours: 127h, time_spent_in_secs: 459335.138s, elapse since last report: 30.809s.\n",
      "Tried 5100 models, valid 5100, time_spent_in_hours: 130h, time_spent_in_secs: 470359.015s, elapse since last report: 30.895s.\n",
      "Tried 5200 models, valid 5200, time_spent_in_hours: 133h, time_spent_in_secs: 482275.337s, elapse since last report: 31.939s.\n",
      "Tried 5300 models, valid 5300, time_spent_in_hours: 137h, time_spent_in_secs: 494452.953s, elapse since last report: 31.157s.\n",
      "Tried 5400 models, valid 5400, time_spent_in_hours: 140h, time_spent_in_secs: 506647.163s, elapse since last report: 32.401s.\n",
      "Tried 5500 models, valid 5500, time_spent_in_hours: 144h, time_spent_in_secs: 519603.701s, elapse since last report: 31.998s.\n",
      "Tried 5600 models, valid 5600, time_spent_in_hours: 147h, time_spent_in_secs: 532620.519s, elapse since last report: 32.188s.\n",
      "Tried 5700 models, valid 5700, time_spent_in_hours: 151h, time_spent_in_secs: 545737.225s, elapse since last report: 33.476s.\n",
      "Tried 5800 models, valid 5800, time_spent_in_hours: 155h, time_spent_in_secs: 558862.026s, elapse since last report: 36.243s.\n",
      "Tried 5900 models, valid 5900, time_spent_in_hours: 158h, time_spent_in_secs: 571975.115s, elapse since last report: 34.814s.\n",
      "Tried 6000 models, valid 6000, time_spent_in_hours: 162h, time_spent_in_secs: 585088.772s, elapse since last report: 33.93s.\n",
      "Tried 6100 models, valid 6100, time_spent_in_hours: 166h, time_spent_in_secs: 598195.93s, elapse since last report: 34.345s.\n",
      "Tried 6200 models, valid 6200, time_spent_in_hours: 169h, time_spent_in_secs: 611293.013s, elapse since last report: 35.46s.\n",
      "Tried 6300 models, valid 6300, time_spent_in_hours: 173h, time_spent_in_secs: 624389.463s, elapse since last report: 35.061s.\n",
      "Tried 6400 models, valid 6400, time_spent_in_hours: 177h, time_spent_in_secs: 637472.27s, elapse since last report: 34.946s.\n",
      "Tried 6500 models, valid 6500, time_spent_in_hours: 180h, time_spent_in_secs: 650551.818s, elapse since last report: 36.06s.\n",
      "Tried 6600 models, valid 6600, time_spent_in_hours: 184h, time_spent_in_secs: 663630.035s, elapse since last report: 35.767s.\n",
      "Tried 6700 models, valid 6700, time_spent_in_hours: 187h, time_spent_in_secs: 676725.261s, elapse since last report: 36.807s.\n",
      "Tried 6800 models, valid 6800, time_spent_in_hours: 191h, time_spent_in_secs: 689840.05s, elapse since last report: 36.253s.\n",
      "Tried 6900 models, valid 6900, time_spent_in_hours: 195h, time_spent_in_secs: 702956.074s, elapse since last report: 39.947s.\n",
      "Tried 7000 models, valid 7000, time_spent_in_hours: 198h, time_spent_in_secs: 715988.84s, elapse since last report: 38.313s.\n",
      "Total time elapse: 1837.1332569122314 seconds.\n",
      "--------------------------------------------------------------------------------\n",
      "Total evaluated architectures: 7030\n",
      "Total time spent:              146 hours\n",
      "Best model found:              64:64:64:64:64\n",
      "Best model DNA:                DNA([7, 7, 7, 7, 7])\n",
      "Validation accuracy:           61.060000024414066\n",
      "Test accuracy:                 70.71999989013672\n",
      "--------------------------------------------------------------------------------\n"
     ]
    }
   ],
   "source": [
    "ss_indicator = 'sss'\n",
    "algo_name = 'rl'\n",
    "dataset = 'cifar100'\n",
    "max_train_hours = 200\n",
    "\n",
    "executor = NASExecutor(algo_name, dataset, max_train_hours, ss_indicator)\n",
    "\n",
    "sorted_results_rnd = executor.test_nas_algo()\n",
    "#sorted_results_rnd.head()\n",
    "\n",
    "#executor.save_report(sorted_results_rnd, f'data/{algo_name}_{max_train_hours}h_{dataset}.csv')"
   ]
  },
  {
   "cell_type": "markdown",
   "metadata": {
    "tags": []
   },
   "source": [
    "## ImageNet16-120"
   ]
  },
  {
   "cell_type": "markdown",
   "metadata": {
    "tags": []
   },
   "source": [
    "### Test with Random Algorithm"
   ]
  },
  {
   "cell_type": "markdown",
   "metadata": {
    "tags": []
   },
   "source": [
    "#### 1 hour"
   ]
  },
  {
   "cell_type": "code",
   "execution_count": 25,
   "metadata": {
    "collapsed": true,
    "jupyter": {
     "outputs_hidden": true
    },
    "tags": []
   },
   "outputs": [
    {
     "name": "stdout",
     "output_type": "stream",
     "text": [
      "[2023-07-05 01:11:06] Try to use the default NATS-Bench (size) path from fast_mode=True and path=None.\n",
      "Candidates: [8, 16, 24, 32, 40, 48, 56, 64]\n",
      "Total time elapse: 0.5006227493286133 seconds.\n",
      "--------------------------------------------------------------------------------\n",
      "Total evaluated architectures: 25\n",
      "Total time spent:              0 hours\n",
      "Best model found:              48:56:64:40:64\n",
      "Best model DNA:                DNA([5, 6, 7, 4, 7])\n",
      "Validation accuracy:           36.43333339436849\n",
      "Test accuracy:                 44.566666575113935\n",
      "--------------------------------------------------------------------------------\n"
     ]
    }
   ],
   "source": [
    "ss_indicator = 'sss'\n",
    "algo_name = 'random'\n",
    "dataset = 'ImageNet16-120'\n",
    "max_train_hours = 1\n",
    "\n",
    "executor = NASExecutor(algo_name, dataset, max_train_hours, ss_indicator)\n",
    "\n",
    "sorted_results_rnd = executor.test_nas_algo()\n",
    "#sorted_results_rnd.head()\n",
    "\n",
    "#executor.save_report(sorted_results_rnd, f'data/{algo_name}_{max_train_hours}h_{dataset}.csv')"
   ]
  },
  {
   "cell_type": "markdown",
   "metadata": {
    "tags": []
   },
   "source": [
    "#### 10 hours"
   ]
  },
  {
   "cell_type": "code",
   "execution_count": 26,
   "metadata": {
    "collapsed": true,
    "jupyter": {
     "outputs_hidden": true
    },
    "tags": []
   },
   "outputs": [
    {
     "name": "stdout",
     "output_type": "stream",
     "text": [
      "[2023-07-05 01:11:06] Try to use the default NATS-Bench (size) path from fast_mode=True and path=None.\n",
      "Candidates: [8, 16, 24, 32, 40, 48, 56, 64]\n",
      "Tried 100 models, valid 100, time_spent_in_hours: 3h, time_spent_in_secs: 14343.547s, elapse since last report: 1.835s.\n",
      "Tried 200 models, valid 200, time_spent_in_hours: 8h, time_spent_in_secs: 28863.847s, elapse since last report: 1.778s.\n",
      "Total time elapse: 4.497319459915161 seconds.\n",
      "--------------------------------------------------------------------------------\n",
      "Total evaluated architectures: 249\n",
      "Total time spent:              4 hours\n",
      "Best model found:              48:64:40:48:64\n",
      "Best model DNA:                DNA([5, 7, 4, 5, 7])\n",
      "Validation accuracy:           36.999999969482424\n",
      "Test accuracy:                 43.60000006103515\n",
      "--------------------------------------------------------------------------------\n"
     ]
    }
   ],
   "source": [
    "ss_indicator = 'sss'\n",
    "algo_name = 'random'\n",
    "dataset = 'ImageNet16-120'\n",
    "max_train_hours = 10\n",
    "\n",
    "executor = NASExecutor(algo_name, dataset, max_train_hours, ss_indicator)\n",
    "\n",
    "sorted_results_rnd = executor.test_nas_algo()\n",
    "#sorted_results_rnd.head()\n",
    "\n",
    "#executor.save_report(sorted_results_rnd, f'data/{algo_name}_{max_train_hours}h_{dataset}.csv')"
   ]
  },
  {
   "cell_type": "markdown",
   "metadata": {
    "tags": []
   },
   "source": [
    "#### 50 hours"
   ]
  },
  {
   "cell_type": "code",
   "execution_count": 27,
   "metadata": {
    "collapsed": true,
    "jupyter": {
     "outputs_hidden": true
    },
    "tags": []
   },
   "outputs": [
    {
     "name": "stdout",
     "output_type": "stream",
     "text": [
      "[2023-07-05 01:11:11] Try to use the default NATS-Bench (size) path from fast_mode=True and path=None.\n",
      "Candidates: [8, 16, 24, 32, 40, 48, 56, 64]\n",
      "Tried 100 models, valid 100, time_spent_in_hours: 4h, time_spent_in_secs: 14410.901s, elapse since last report: 1.816s.\n",
      "Tried 200 models, valid 200, time_spent_in_hours: 8h, time_spent_in_secs: 28963.356s, elapse since last report: 1.792s.\n",
      "Tried 300 models, valid 300, time_spent_in_hours: 12h, time_spent_in_secs: 43412.337s, elapse since last report: 1.755s.\n",
      "Tried 400 models, valid 400, time_spent_in_hours: 16h, time_spent_in_secs: 58008.3s, elapse since last report: 1.762s.\n",
      "Tried 500 models, valid 500, time_spent_in_hours: 20h, time_spent_in_secs: 72488.078s, elapse since last report: 2.75s.\n",
      "Tried 600 models, valid 600, time_spent_in_hours: 24h, time_spent_in_secs: 86937.055s, elapse since last report: 1.857s.\n",
      "Tried 700 models, valid 700, time_spent_in_hours: 28h, time_spent_in_secs: 101506.183s, elapse since last report: 1.803s.\n",
      "Tried 800 models, valid 800, time_spent_in_hours: 32h, time_spent_in_secs: 116024.426s, elapse since last report: 1.775s.\n",
      "Tried 900 models, valid 900, time_spent_in_hours: 36h, time_spent_in_secs: 130400.075s, elapse since last report: 1.768s.\n",
      "Tried 1000 models, valid 1000, time_spent_in_hours: 40h, time_spent_in_secs: 144942.769s, elapse since last report: 1.773s.\n",
      "Tried 1100 models, valid 1100, time_spent_in_hours: 44h, time_spent_in_secs: 159372.373s, elapse since last report: 1.791s.\n",
      "Tried 1200 models, valid 1200, time_spent_in_hours: 48h, time_spent_in_secs: 173693.754s, elapse since last report: 1.781s.\n",
      "Total time elapse: 23.20181155204773 seconds.\n",
      "--------------------------------------------------------------------------------\n",
      "Total evaluated architectures: 1243\n",
      "Total time spent:              27 hours\n",
      "Best model found:              64:64:48:56:64\n",
      "Best model DNA:                DNA([7, 7, 5, 6, 7])\n",
      "Validation accuracy:           37.59999989827474\n",
      "Test accuracy:                 46.03333335367839\n",
      "--------------------------------------------------------------------------------\n"
     ]
    }
   ],
   "source": [
    "ss_indicator = 'sss'\n",
    "algo_name = 'random'\n",
    "dataset = 'ImageNet16-120'\n",
    "max_train_hours = 50\n",
    "\n",
    "executor = NASExecutor(algo_name, dataset, max_train_hours, ss_indicator)\n",
    "\n",
    "sorted_results_rnd = executor.test_nas_algo()\n",
    "#sorted_results_rnd.head()\n",
    "\n",
    "#executor.save_report(sorted_results_rnd, f'data/{algo_name}_{max_train_hours}h_{dataset}.csv')"
   ]
  },
  {
   "cell_type": "markdown",
   "metadata": {
    "tags": []
   },
   "source": [
    "#### 100 hours"
   ]
  },
  {
   "cell_type": "code",
   "execution_count": 48,
   "metadata": {
    "collapsed": true,
    "jupyter": {
     "outputs_hidden": true
    },
    "tags": []
   },
   "outputs": [
    {
     "name": "stdout",
     "output_type": "stream",
     "text": [
      "[2023-07-05 04:38:23] Try to use the default NATS-Bench (size) path from fast_mode=True and path=None.\n",
      "Candidates: [8, 16, 24, 32, 40, 48, 56, 64]\n",
      "Tried 100 models, valid 100, time_spent_in_hours: 4h, time_spent_in_secs: 14603.799s, elapse since last report: 1.798s.\n",
      "Tried 200 models, valid 200, time_spent_in_hours: 8h, time_spent_in_secs: 28899.317s, elapse since last report: 1.779s.\n",
      "Tried 300 models, valid 300, time_spent_in_hours: 12h, time_spent_in_secs: 43382.277s, elapse since last report: 1.81s.\n",
      "Tried 400 models, valid 400, time_spent_in_hours: 15h, time_spent_in_secs: 57582.598s, elapse since last report: 1.811s.\n",
      "Tried 500 models, valid 500, time_spent_in_hours: 20h, time_spent_in_secs: 72113.545s, elapse since last report: 1.827s.\n",
      "Tried 600 models, valid 600, time_spent_in_hours: 24h, time_spent_in_secs: 86582.668s, elapse since last report: 1.822s.\n",
      "Tried 700 models, valid 700, time_spent_in_hours: 28h, time_spent_in_secs: 101103.852s, elapse since last report: 1.823s.\n",
      "Tried 800 models, valid 800, time_spent_in_hours: 32h, time_spent_in_secs: 115580.267s, elapse since last report: 1.843s.\n",
      "Tried 900 models, valid 900, time_spent_in_hours: 36h, time_spent_in_secs: 130042.189s, elapse since last report: 1.854s.\n",
      "Tried 1000 models, valid 1000, time_spent_in_hours: 40h, time_spent_in_secs: 144441.678s, elapse since last report: 1.825s.\n",
      "Tried 1100 models, valid 1100, time_spent_in_hours: 44h, time_spent_in_secs: 159066.316s, elapse since last report: 1.814s.\n",
      "Tried 1200 models, valid 1200, time_spent_in_hours: 48h, time_spent_in_secs: 173360.394s, elapse since last report: 1.831s.\n",
      "Tried 1300 models, valid 1300, time_spent_in_hours: 52h, time_spent_in_secs: 187913.943s, elapse since last report: 1.815s.\n",
      "Tried 1400 models, valid 1400, time_spent_in_hours: 56h, time_spent_in_secs: 202264.069s, elapse since last report: 1.832s.\n",
      "Tried 1500 models, valid 1500, time_spent_in_hours: 60h, time_spent_in_secs: 216707.077s, elapse since last report: 1.818s.\n",
      "Tried 1600 models, valid 1600, time_spent_in_hours: 64h, time_spent_in_secs: 231009.137s, elapse since last report: 1.815s.\n",
      "Tried 1700 models, valid 1700, time_spent_in_hours: 68h, time_spent_in_secs: 245380.875s, elapse since last report: 1.812s.\n",
      "Tried 1800 models, valid 1800, time_spent_in_hours: 72h, time_spent_in_secs: 259927.555s, elapse since last report: 1.787s.\n",
      "Tried 1900 models, valid 1900, time_spent_in_hours: 76h, time_spent_in_secs: 274367.033s, elapse since last report: 1.794s.\n",
      "Tried 2000 models, valid 2000, time_spent_in_hours: 80h, time_spent_in_secs: 288707.664s, elapse since last report: 1.797s.\n",
      "Tried 2100 models, valid 2100, time_spent_in_hours: 84h, time_spent_in_secs: 303129.72s, elapse since last report: 1.807s.\n",
      "Tried 2200 models, valid 2200, time_spent_in_hours: 88h, time_spent_in_secs: 317667.83s, elapse since last report: 1.792s.\n",
      "Tried 2300 models, valid 2300, time_spent_in_hours: 92h, time_spent_in_secs: 332170.035s, elapse since last report: 1.793s.\n",
      "Tried 2400 models, valid 2400, time_spent_in_hours: 96h, time_spent_in_secs: 346704.776s, elapse since last report: 1.812s.\n",
      "Total time elapse: 45.17536187171936 seconds.\n",
      "--------------------------------------------------------------------------------\n",
      "Total evaluated architectures: 2491\n",
      "Total time spent:              57 hours\n",
      "Best model found:              56:64:64:64:64\n",
      "Best model DNA:                DNA([6, 7, 7, 7, 7])\n",
      "Validation accuracy:           38.466666514078774\n",
      "Test accuracy:                 46.56666659545898\n",
      "--------------------------------------------------------------------------------\n"
     ]
    }
   ],
   "source": [
    "ss_indicator = 'sss'\n",
    "algo_name = 'random'\n",
    "dataset = 'ImageNet16-120'\n",
    "max_train_hours = 100\n",
    "\n",
    "executor = NASExecutor(algo_name, dataset, max_train_hours, ss_indicator)\n",
    "\n",
    "sorted_results_rnd = executor.test_nas_algo()\n",
    "#sorted_results_rnd.head()\n",
    "\n",
    "#executor.save_report(sorted_results_rnd, f'data/{algo_name}_{max_train_hours}h_{dataset}.csv')"
   ]
  },
  {
   "cell_type": "markdown",
   "metadata": {
    "tags": []
   },
   "source": [
    "#### 200 hours"
   ]
  },
  {
   "cell_type": "code",
   "execution_count": 49,
   "metadata": {
    "collapsed": true,
    "jupyter": {
     "outputs_hidden": true
    },
    "tags": []
   },
   "outputs": [
    {
     "name": "stdout",
     "output_type": "stream",
     "text": [
      "[2023-07-05 04:39:09] Try to use the default NATS-Bench (size) path from fast_mode=True and path=None.\n",
      "Candidates: [8, 16, 24, 32, 40, 48, 56, 64]\n",
      "Tried 100 models, valid 100, time_spent_in_hours: 4h, time_spent_in_secs: 14404.162s, elapse since last report: 1.816s.\n",
      "Tried 200 models, valid 200, time_spent_in_hours: 7h, time_spent_in_secs: 28666.449s, elapse since last report: 1.786s.\n",
      "Tried 300 models, valid 300, time_spent_in_hours: 11h, time_spent_in_secs: 42998.693s, elapse since last report: 1.805s.\n",
      "Tried 400 models, valid 400, time_spent_in_hours: 15h, time_spent_in_secs: 57477.628s, elapse since last report: 1.801s.\n",
      "Tried 500 models, valid 500, time_spent_in_hours: 19h, time_spent_in_secs: 71982.293s, elapse since last report: 1.814s.\n",
      "Tried 600 models, valid 600, time_spent_in_hours: 24h, time_spent_in_secs: 86413.741s, elapse since last report: 1.807s.\n",
      "Tried 700 models, valid 700, time_spent_in_hours: 27h, time_spent_in_secs: 100750.47s, elapse since last report: 1.835s.\n",
      "Tried 800 models, valid 800, time_spent_in_hours: 32h, time_spent_in_secs: 115248.784s, elapse since last report: 1.829s.\n",
      "Tried 900 models, valid 900, time_spent_in_hours: 36h, time_spent_in_secs: 129699.124s, elapse since last report: 1.82s.\n",
      "Tried 1000 models, valid 1000, time_spent_in_hours: 40h, time_spent_in_secs: 144134.467s, elapse since last report: 6.241s.\n",
      "Tried 1100 models, valid 1100, time_spent_in_hours: 44h, time_spent_in_secs: 158418.089s, elapse since last report: 1.859s.\n",
      "Tried 1200 models, valid 1200, time_spent_in_hours: 48h, time_spent_in_secs: 172883.894s, elapse since last report: 1.857s.\n",
      "Tried 1300 models, valid 1300, time_spent_in_hours: 52h, time_spent_in_secs: 187251.953s, elapse since last report: 1.843s.\n",
      "Tried 1400 models, valid 1400, time_spent_in_hours: 56h, time_spent_in_secs: 201678.503s, elapse since last report: 1.846s.\n",
      "Tried 1500 models, valid 1500, time_spent_in_hours: 60h, time_spent_in_secs: 216233.364s, elapse since last report: 1.839s.\n",
      "Tried 1600 models, valid 1600, time_spent_in_hours: 64h, time_spent_in_secs: 230743.61s, elapse since last report: 1.849s.\n",
      "Tried 1700 models, valid 1700, time_spent_in_hours: 68h, time_spent_in_secs: 245182.222s, elapse since last report: 1.874s.\n",
      "Tried 1800 models, valid 1800, time_spent_in_hours: 72h, time_spent_in_secs: 259488.455s, elapse since last report: 1.88s.\n",
      "Tried 1900 models, valid 1900, time_spent_in_hours: 76h, time_spent_in_secs: 273777.159s, elapse since last report: 1.874s.\n",
      "Tried 2000 models, valid 2000, time_spent_in_hours: 80h, time_spent_in_secs: 288297.718s, elapse since last report: 1.866s.\n",
      "Tried 2100 models, valid 2100, time_spent_in_hours: 84h, time_spent_in_secs: 302746.648s, elapse since last report: 1.847s.\n",
      "Tried 2200 models, valid 2200, time_spent_in_hours: 88h, time_spent_in_secs: 317229.159s, elapse since last report: 1.851s.\n",
      "Tried 2300 models, valid 2300, time_spent_in_hours: 92h, time_spent_in_secs: 331570.751s, elapse since last report: 1.853s.\n",
      "Tried 2400 models, valid 2400, time_spent_in_hours: 96h, time_spent_in_secs: 346067.027s, elapse since last report: 1.859s.\n",
      "Tried 2500 models, valid 2500, time_spent_in_hours: 100h, time_spent_in_secs: 360518.161s, elapse since last report: 1.845s.\n",
      "Tried 2600 models, valid 2600, time_spent_in_hours: 104h, time_spent_in_secs: 374865.524s, elapse since last report: 1.883s.\n",
      "Tried 2700 models, valid 2700, time_spent_in_hours: 108h, time_spent_in_secs: 389411.601s, elapse since last report: 1.846s.\n",
      "Tried 2800 models, valid 2800, time_spent_in_hours: 112h, time_spent_in_secs: 403889.771s, elapse since last report: 1.857s.\n",
      "Tried 2900 models, valid 2900, time_spent_in_hours: 116h, time_spent_in_secs: 418257.91s, elapse since last report: 1.842s.\n",
      "Tried 3000 models, valid 3000, time_spent_in_hours: 120h, time_spent_in_secs: 432782.174s, elapse since last report: 1.854s.\n",
      "Tried 3100 models, valid 3100, time_spent_in_hours: 124h, time_spent_in_secs: 447305.003s, elapse since last report: 1.855s.\n",
      "Tried 3200 models, valid 3200, time_spent_in_hours: 128h, time_spent_in_secs: 461544.221s, elapse since last report: 1.869s.\n",
      "Tried 3300 models, valid 3300, time_spent_in_hours: 132h, time_spent_in_secs: 475875.047s, elapse since last report: 1.848s.\n",
      "Tried 3400 models, valid 3400, time_spent_in_hours: 136h, time_spent_in_secs: 490344.606s, elapse since last report: 1.835s.\n",
      "Tried 3500 models, valid 3500, time_spent_in_hours: 140h, time_spent_in_secs: 504641.183s, elapse since last report: 3.941s.\n",
      "Tried 3600 models, valid 3600, time_spent_in_hours: 144h, time_spent_in_secs: 519145.768s, elapse since last report: 1.917s.\n",
      "Tried 3700 models, valid 3700, time_spent_in_hours: 148h, time_spent_in_secs: 533622.183s, elapse since last report: 1.858s.\n",
      "Tried 3800 models, valid 3800, time_spent_in_hours: 152h, time_spent_in_secs: 548046.478s, elapse since last report: 1.861s.\n",
      "Tried 3900 models, valid 3900, time_spent_in_hours: 156h, time_spent_in_secs: 562563.221s, elapse since last report: 1.853s.\n",
      "Tried 4000 models, valid 4000, time_spent_in_hours: 160h, time_spent_in_secs: 577097.399s, elapse since last report: 1.858s.\n",
      "Tried 4100 models, valid 4100, time_spent_in_hours: 164h, time_spent_in_secs: 591471.032s, elapse since last report: 1.874s.\n",
      "Tried 4200 models, valid 4200, time_spent_in_hours: 168h, time_spent_in_secs: 605910.301s, elapse since last report: 1.865s.\n",
      "Tried 4300 models, valid 4300, time_spent_in_hours: 172h, time_spent_in_secs: 620312.735s, elapse since last report: 1.869s.\n",
      "Tried 4400 models, valid 4400, time_spent_in_hours: 176h, time_spent_in_secs: 634794.926s, elapse since last report: 1.858s.\n",
      "Tried 4500 models, valid 4500, time_spent_in_hours: 180h, time_spent_in_secs: 649309.76s, elapse since last report: 1.902s.\n",
      "Tried 4600 models, valid 4600, time_spent_in_hours: 184h, time_spent_in_secs: 663551.735s, elapse since last report: 1.888s.\n",
      "Tried 4700 models, valid 4700, time_spent_in_hours: 188h, time_spent_in_secs: 677935.42s, elapse since last report: 1.859s.\n",
      "Tried 4800 models, valid 4800, time_spent_in_hours: 192h, time_spent_in_secs: 692438.547s, elapse since last report: 1.852s.\n",
      "Tried 4900 models, valid 4900, time_spent_in_hours: 196h, time_spent_in_secs: 706904.312s, elapse since last report: 1.905s.\n",
      "Total time elapse: 99.00411891937256 seconds.\n",
      "--------------------------------------------------------------------------------\n",
      "Total evaluated architectures: 4991\n",
      "Total time spent:              99 hours\n",
      "Best model found:              56:64:64:56:64\n",
      "Best model DNA:                DNA([6, 7, 7, 6, 7])\n",
      "Validation accuracy:           38.33333318074544\n",
      "Test accuracy:                 44.99999989827474\n",
      "--------------------------------------------------------------------------------\n"
     ]
    }
   ],
   "source": [
    "ss_indicator = 'sss'\n",
    "algo_name = 'random'\n",
    "dataset = 'ImageNet16-120'\n",
    "max_train_hours = 200\n",
    "\n",
    "executor = NASExecutor(algo_name, dataset, max_train_hours, ss_indicator)\n",
    "\n",
    "sorted_results_rnd = executor.test_nas_algo()\n",
    "#sorted_results_rnd.head()\n",
    "\n",
    "#executor.save_report(sorted_results_rnd, f'data/{algo_name}_{max_train_hours}h_{dataset}.csv')"
   ]
  },
  {
   "cell_type": "markdown",
   "metadata": {
    "jp-MarkdownHeadingCollapsed": true,
    "tags": []
   },
   "source": [
    "### Test with Regularized Evolution Algorithm"
   ]
  },
  {
   "cell_type": "markdown",
   "metadata": {
    "tags": []
   },
   "source": [
    "#### 1 hour"
   ]
  },
  {
   "cell_type": "code",
   "execution_count": 28,
   "metadata": {
    "collapsed": true,
    "jupyter": {
     "outputs_hidden": true
    },
    "tags": []
   },
   "outputs": [
    {
     "name": "stdout",
     "output_type": "stream",
     "text": [
      "[2023-07-05 01:11:34] Try to use the default NATS-Bench (size) path from fast_mode=True and path=None.\n",
      "Candidates: [8, 16, 24, 32, 40, 48, 56, 64]\n",
      "Total time elapse: 0.9676351547241211 seconds.\n",
      "--------------------------------------------------------------------------------\n",
      "Total evaluated architectures: 25\n",
      "Total time spent:              0 hours\n",
      "Best model found:              48:40:64:24:64\n",
      "Best model DNA:                DNA([5, 4, 7, 2, 7])\n",
      "Validation accuracy:           35.29999996439616\n",
      "Test accuracy:                 43.699999857584636\n",
      "--------------------------------------------------------------------------------\n"
     ]
    }
   ],
   "source": [
    "algo_name = 'evolution'\n",
    "dataset = 'ImageNet16-120'\n",
    "max_train_hours = 1\n",
    "\n",
    "executor = NASExecutor(algo_name, dataset, max_train_hours, ss_indicator)\n",
    "\n",
    "sorted_results_rnd = executor.test_nas_algo()\n",
    "#sorted_results_rnd.head()\n",
    "\n",
    "#executor.save_report(sorted_results_rnd, f'data/{algo_name}_{max_train_hours}h_{dataset}.csv')"
   ]
  },
  {
   "cell_type": "markdown",
   "metadata": {
    "tags": []
   },
   "source": [
    "#### 10 hours"
   ]
  },
  {
   "cell_type": "code",
   "execution_count": 29,
   "metadata": {
    "collapsed": true,
    "jupyter": {
     "outputs_hidden": true
    },
    "tags": []
   },
   "outputs": [
    {
     "name": "stdout",
     "output_type": "stream",
     "text": [
      "[2023-07-05 01:11:35] Try to use the default NATS-Bench (size) path from fast_mode=True and path=None.\n",
      "Candidates: [8, 16, 24, 32, 40, 48, 56, 64]\n",
      "Tried 100 models, valid 100, time_spent_in_hours: 4h, time_spent_in_secs: 14622.726s, elapse since last report: 1.746s.\n",
      "Tried 200 models, valid 200, time_spent_in_hours: 8h, time_spent_in_secs: 29656.563s, elapse since last report: 1.588s.\n",
      "Total time elapse: 4.036454916000366 seconds.\n",
      "--------------------------------------------------------------------------------\n",
      "Total evaluated architectures: 242\n",
      "Total time spent:              8 hours\n",
      "Best model found:              64:64:64:64:64\n",
      "Best model DNA:                DNA([7, 7, 7, 7, 7])\n",
      "Validation accuracy:           39.133333201090494\n",
      "Test accuracy:                 47.16666669718425\n",
      "--------------------------------------------------------------------------------\n"
     ]
    }
   ],
   "source": [
    "algo_name = 'evolution'\n",
    "dataset = 'ImageNet16-120'\n",
    "max_train_hours = 10\n",
    "\n",
    "executor = NASExecutor(algo_name, dataset, max_train_hours, ss_indicator)\n",
    "\n",
    "sorted_results_rnd = executor.test_nas_algo()\n",
    "#sorted_results_rnd.head()\n",
    "\n",
    "#executor.save_report(sorted_results_rnd, f'data/{algo_name}_{max_train_hours}h_{dataset}.csv')"
   ]
  },
  {
   "cell_type": "markdown",
   "metadata": {
    "tags": []
   },
   "source": [
    "#### 50 hours"
   ]
  },
  {
   "cell_type": "code",
   "execution_count": 30,
   "metadata": {
    "collapsed": true,
    "jupyter": {
     "outputs_hidden": true
    },
    "tags": []
   },
   "outputs": [
    {
     "name": "stdout",
     "output_type": "stream",
     "text": [
      "[2023-07-05 01:11:39] Try to use the default NATS-Bench (size) path from fast_mode=True and path=None.\n",
      "Candidates: [8, 16, 24, 32, 40, 48, 56, 64]\n",
      "Tried 100 models, valid 100, time_spent_in_hours: 4h, time_spent_in_secs: 14566.518s, elapse since last report: 1.712s.\n",
      "Tried 200 models, valid 200, time_spent_in_hours: 8h, time_spent_in_secs: 29522.473s, elapse since last report: 1.5s.\n",
      "Tried 300 models, valid 300, time_spent_in_hours: 12h, time_spent_in_secs: 44512.393s, elapse since last report: 1.546s.\n",
      "Tried 400 models, valid 400, time_spent_in_hours: 16h, time_spent_in_secs: 59622.731s, elapse since last report: 1.496s.\n",
      "Tried 500 models, valid 500, time_spent_in_hours: 20h, time_spent_in_secs: 74919.182s, elapse since last report: 1.518s.\n",
      "Tried 600 models, valid 600, time_spent_in_hours: 25h, time_spent_in_secs: 90291.678s, elapse since last report: 1.481s.\n",
      "Tried 700 models, valid 700, time_spent_in_hours: 29h, time_spent_in_secs: 105496.699s, elapse since last report: 2.136s.\n",
      "Tried 800 models, valid 800, time_spent_in_hours: 33h, time_spent_in_secs: 120775.591s, elapse since last report: 1.521s.\n",
      "Tried 900 models, valid 900, time_spent_in_hours: 37h, time_spent_in_secs: 136080.817s, elapse since last report: 1.516s.\n",
      "Tried 1000 models, valid 1000, time_spent_in_hours: 42h, time_spent_in_secs: 151669.64s, elapse since last report: 1.476s.\n",
      "Tried 1100 models, valid 1100, time_spent_in_hours: 46h, time_spent_in_secs: 167177.866s, elapse since last report: 1.439s.\n",
      "Total time elapse: 18.595675230026245 seconds.\n",
      "--------------------------------------------------------------------------------\n",
      "Total evaluated architectures: 1183\n",
      "Total time spent:              3 hours\n",
      "Best model found:              64:64:64:64:64\n",
      "Best model DNA:                DNA([7, 7, 7, 7, 7])\n",
      "Validation accuracy:           39.133333201090494\n",
      "Test accuracy:                 47.16666669718425\n",
      "--------------------------------------------------------------------------------\n"
     ]
    }
   ],
   "source": [
    "algo_name = 'evolution'\n",
    "dataset = 'ImageNet16-120'\n",
    "max_train_hours = 50\n",
    "\n",
    "executor = NASExecutor(algo_name, dataset, max_train_hours, ss_indicator)\n",
    "\n",
    "sorted_results_rnd = executor.test_nas_algo()\n",
    "#sorted_results_rnd.head()\n",
    "\n",
    "#executor.save_report(sorted_results_rnd, f'data/{algo_name}_{max_train_hours}h_{dataset}.csv')"
   ]
  },
  {
   "cell_type": "markdown",
   "metadata": {
    "tags": []
   },
   "source": [
    "#### 100 hours"
   ]
  },
  {
   "cell_type": "code",
   "execution_count": 50,
   "metadata": {
    "collapsed": true,
    "jupyter": {
     "outputs_hidden": true
    },
    "tags": []
   },
   "outputs": [
    {
     "name": "stdout",
     "output_type": "stream",
     "text": [
      "[2023-07-05 04:40:49] Try to use the default NATS-Bench (size) path from fast_mode=True and path=None.\n",
      "Candidates: [8, 16, 24, 32, 40, 48, 56, 64]\n",
      "Tried 100 models, valid 100, time_spent_in_hours: 4h, time_spent_in_secs: 14790.929s, elapse since last report: 1.84s.\n",
      "Tried 200 models, valid 200, time_spent_in_hours: 8h, time_spent_in_secs: 29644.988s, elapse since last report: 1.706s.\n",
      "Tried 300 models, valid 300, time_spent_in_hours: 12h, time_spent_in_secs: 44780.325s, elapse since last report: 1.914s.\n",
      "Tried 400 models, valid 400, time_spent_in_hours: 16h, time_spent_in_secs: 60111.672s, elapse since last report: 1.487s.\n",
      "Tried 500 models, valid 500, time_spent_in_hours: 20h, time_spent_in_secs: 75427.968s, elapse since last report: 1.652s.\n",
      "Tried 600 models, valid 600, time_spent_in_hours: 25h, time_spent_in_secs: 90674.098s, elapse since last report: 1.627s.\n",
      "Tried 700 models, valid 700, time_spent_in_hours: 29h, time_spent_in_secs: 105973.378s, elapse since last report: 1.545s.\n",
      "Tried 800 models, valid 800, time_spent_in_hours: 33h, time_spent_in_secs: 121261.207s, elapse since last report: 1.663s.\n",
      "Tried 900 models, valid 900, time_spent_in_hours: 37h, time_spent_in_secs: 136448.649s, elapse since last report: 1.501s.\n",
      "Tried 1000 models, valid 1000, time_spent_in_hours: 42h, time_spent_in_secs: 151586.813s, elapse since last report: 1.531s.\n",
      "Tried 1100 models, valid 1100, time_spent_in_hours: 46h, time_spent_in_secs: 166628.866s, elapse since last report: 1.597s.\n",
      "Tried 1200 models, valid 1200, time_spent_in_hours: 50h, time_spent_in_secs: 181925.002s, elapse since last report: 1.642s.\n",
      "Tried 1300 models, valid 1300, time_spent_in_hours: 54h, time_spent_in_secs: 197147.729s, elapse since last report: 1.608s.\n",
      "Tried 1400 models, valid 1400, time_spent_in_hours: 58h, time_spent_in_secs: 212392.852s, elapse since last report: 1.638s.\n",
      "Tried 1500 models, valid 1500, time_spent_in_hours: 63h, time_spent_in_secs: 227459.604s, elapse since last report: 1.538s.\n",
      "Tried 1600 models, valid 1600, time_spent_in_hours: 67h, time_spent_in_secs: 242469.638s, elapse since last report: 1.726s.\n",
      "Tried 1700 models, valid 1700, time_spent_in_hours: 71h, time_spent_in_secs: 257655.82s, elapse since last report: 1.519s.\n",
      "Tried 1800 models, valid 1800, time_spent_in_hours: 75h, time_spent_in_secs: 272659.559s, elapse since last report: 1.519s.\n",
      "Tried 1900 models, valid 1900, time_spent_in_hours: 79h, time_spent_in_secs: 287784.561s, elapse since last report: 1.651s.\n",
      "Tried 2000 models, valid 2000, time_spent_in_hours: 84h, time_spent_in_secs: 303037.812s, elapse since last report: 1.594s.\n",
      "Tried 2100 models, valid 2100, time_spent_in_hours: 88h, time_spent_in_secs: 318407.468s, elapse since last report: 1.495s.\n",
      "Tried 2200 models, valid 2200, time_spent_in_hours: 92h, time_spent_in_secs: 333628.424s, elapse since last report: 4.006s.\n",
      "Tried 2300 models, valid 2300, time_spent_in_hours: 96h, time_spent_in_secs: 348778.532s, elapse since last report: 1.507s.\n",
      "Total time elapse: 40.783616065979004 seconds.\n",
      "--------------------------------------------------------------------------------\n",
      "Total evaluated architectures: 2372\n",
      "Total time spent:              89 hours\n",
      "Best model found:              48:64:64:64:64\n",
      "Best model DNA:                DNA([5, 7, 7, 7, 7])\n",
      "Validation accuracy:           39.33333330281575\n",
      "Test accuracy:                 45.43333318074544\n",
      "--------------------------------------------------------------------------------\n"
     ]
    }
   ],
   "source": [
    "algo_name = 'evolution'\n",
    "dataset = 'ImageNet16-120'\n",
    "max_train_hours = 100\n",
    "\n",
    "executor = NASExecutor(algo_name, dataset, max_train_hours, ss_indicator)\n",
    "\n",
    "sorted_results_rnd = executor.test_nas_algo()\n",
    "#sorted_results_rnd.head()\n",
    "\n",
    "#executor.save_report(sorted_results_rnd, f'data/{algo_name}_{max_train_hours}h_{dataset}.csv')"
   ]
  },
  {
   "cell_type": "markdown",
   "metadata": {
    "tags": []
   },
   "source": [
    "#### 200 hours"
   ]
  },
  {
   "cell_type": "code",
   "execution_count": 51,
   "metadata": {
    "collapsed": true,
    "jupyter": {
     "outputs_hidden": true
    },
    "tags": []
   },
   "outputs": [
    {
     "name": "stdout",
     "output_type": "stream",
     "text": [
      "[2023-07-05 04:41:30] Try to use the default NATS-Bench (size) path from fast_mode=True and path=None.\n",
      "Candidates: [8, 16, 24, 32, 40, 48, 56, 64]\n",
      "Tried 100 models, valid 100, time_spent_in_hours: 4h, time_spent_in_secs: 14578.983s, elapse since last report: 2.285s.\n",
      "Tried 200 models, valid 200, time_spent_in_hours: 8h, time_spent_in_secs: 29583.513s, elapse since last report: 1.87s.\n",
      "Tried 300 models, valid 300, time_spent_in_hours: 12h, time_spent_in_secs: 45001.847s, elapse since last report: 1.569s.\n",
      "Tried 400 models, valid 400, time_spent_in_hours: 16h, time_spent_in_secs: 60135.758s, elapse since last report: 1.548s.\n",
      "Tried 500 models, valid 500, time_spent_in_hours: 20h, time_spent_in_secs: 75177.439s, elapse since last report: 1.63s.\n",
      "Tried 600 models, valid 600, time_spent_in_hours: 25h, time_spent_in_secs: 90472.124s, elapse since last report: 1.583s.\n",
      "Tried 700 models, valid 700, time_spent_in_hours: 29h, time_spent_in_secs: 105546.308s, elapse since last report: 1.485s.\n",
      "Tried 800 models, valid 800, time_spent_in_hours: 33h, time_spent_in_secs: 120783.88s, elapse since last report: 1.474s.\n",
      "Tried 900 models, valid 900, time_spent_in_hours: 37h, time_spent_in_secs: 136181.584s, elapse since last report: 1.44s.\n",
      "Tried 1000 models, valid 1000, time_spent_in_hours: 42h, time_spent_in_secs: 151386.537s, elapse since last report: 1.497s.\n",
      "Tried 1100 models, valid 1100, time_spent_in_hours: 46h, time_spent_in_secs: 166569.361s, elapse since last report: 1.505s.\n",
      "Tried 1200 models, valid 1200, time_spent_in_hours: 50h, time_spent_in_secs: 181672.489s, elapse since last report: 1.464s.\n",
      "Tried 1300 models, valid 1300, time_spent_in_hours: 54h, time_spent_in_secs: 197049.107s, elapse since last report: 1.479s.\n",
      "Tried 1400 models, valid 1400, time_spent_in_hours: 58h, time_spent_in_secs: 212052.547s, elapse since last report: 1.528s.\n",
      "Tried 1500 models, valid 1500, time_spent_in_hours: 63h, time_spent_in_secs: 227053.173s, elapse since last report: 1.531s.\n",
      "Tried 1600 models, valid 1600, time_spent_in_hours: 67h, time_spent_in_secs: 242118.969s, elapse since last report: 1.513s.\n",
      "Tried 1700 models, valid 1700, time_spent_in_hours: 71h, time_spent_in_secs: 257476.87s, elapse since last report: 1.512s.\n",
      "Tried 1800 models, valid 1800, time_spent_in_hours: 75h, time_spent_in_secs: 272673.811s, elapse since last report: 1.497s.\n",
      "Tried 1900 models, valid 1900, time_spent_in_hours: 80h, time_spent_in_secs: 288130.094s, elapse since last report: 1.542s.\n",
      "Tried 2000 models, valid 2000, time_spent_in_hours: 84h, time_spent_in_secs: 303592.385s, elapse since last report: 1.543s.\n",
      "Tried 2100 models, valid 2100, time_spent_in_hours: 88h, time_spent_in_secs: 318630.307s, elapse since last report: 1.529s.\n",
      "Tried 2200 models, valid 2200, time_spent_in_hours: 92h, time_spent_in_secs: 333691.007s, elapse since last report: 1.521s.\n",
      "Tried 2300 models, valid 2300, time_spent_in_hours: 96h, time_spent_in_secs: 348849.228s, elapse since last report: 1.48s.\n",
      "Tried 2400 models, valid 2400, time_spent_in_hours: 101h, time_spent_in_secs: 363955.776s, elapse since last report: 1.479s.\n",
      "Tried 2500 models, valid 2500, time_spent_in_hours: 105h, time_spent_in_secs: 379218.778s, elapse since last report: 1.468s.\n",
      "Tried 2600 models, valid 2600, time_spent_in_hours: 109h, time_spent_in_secs: 394482.375s, elapse since last report: 1.472s.\n",
      "Tried 2700 models, valid 2700, time_spent_in_hours: 113h, time_spent_in_secs: 409872.567s, elapse since last report: 1.484s.\n",
      "Tried 2800 models, valid 2800, time_spent_in_hours: 118h, time_spent_in_secs: 424968.741s, elapse since last report: 1.472s.\n",
      "Tried 2900 models, valid 2900, time_spent_in_hours: 122h, time_spent_in_secs: 440074.67s, elapse since last report: 1.516s.\n",
      "Tried 3000 models, valid 3000, time_spent_in_hours: 126h, time_spent_in_secs: 455318.547s, elapse since last report: 1.517s.\n",
      "Tried 3100 models, valid 3100, time_spent_in_hours: 130h, time_spent_in_secs: 470421.96s, elapse since last report: 1.525s.\n",
      "Tried 3200 models, valid 3200, time_spent_in_hours: 134h, time_spent_in_secs: 485826.128s, elapse since last report: 1.552s.\n",
      "Tried 3300 models, valid 3300, time_spent_in_hours: 139h, time_spent_in_secs: 501238.037s, elapse since last report: 1.5s.\n",
      "Tried 3400 models, valid 3400, time_spent_in_hours: 143h, time_spent_in_secs: 516171.266s, elapse since last report: 1.538s.\n",
      "Tried 3500 models, valid 3500, time_spent_in_hours: 147h, time_spent_in_secs: 531320.492s, elapse since last report: 1.53s.\n",
      "Tried 3600 models, valid 3600, time_spent_in_hours: 151h, time_spent_in_secs: 546524.33s, elapse since last report: 1.503s.\n",
      "Tried 3700 models, valid 3700, time_spent_in_hours: 156h, time_spent_in_secs: 561769.254s, elapse since last report: 1.469s.\n",
      "Tried 3800 models, valid 3800, time_spent_in_hours: 160h, time_spent_in_secs: 577038.546s, elapse since last report: 1.506s.\n",
      "Tried 3900 models, valid 3900, time_spent_in_hours: 164h, time_spent_in_secs: 592297.966s, elapse since last report: 4.38s.\n",
      "Tried 4000 models, valid 4000, time_spent_in_hours: 168h, time_spent_in_secs: 607450.55s, elapse since last report: 1.565s.\n",
      "Tried 4100 models, valid 4100, time_spent_in_hours: 172h, time_spent_in_secs: 622390.98s, elapse since last report: 1.599s.\n",
      "Tried 4200 models, valid 4200, time_spent_in_hours: 177h, time_spent_in_secs: 637528.91s, elapse since last report: 1.484s.\n",
      "Tried 4300 models, valid 4300, time_spent_in_hours: 181h, time_spent_in_secs: 652671.635s, elapse since last report: 1.545s.\n",
      "Tried 4400 models, valid 4400, time_spent_in_hours: 185h, time_spent_in_secs: 667861.655s, elapse since last report: 1.513s.\n",
      "Tried 4500 models, valid 4500, time_spent_in_hours: 189h, time_spent_in_secs: 683010.161s, elapse since last report: 1.533s.\n",
      "Tried 4600 models, valid 4600, time_spent_in_hours: 193h, time_spent_in_secs: 698328.618s, elapse since last report: 1.511s.\n",
      "Tried 4700 models, valid 4700, time_spent_in_hours: 198h, time_spent_in_secs: 713538.596s, elapse since last report: 1.523s.\n",
      "Total time elapse: 75.88096308708191 seconds.\n",
      "--------------------------------------------------------------------------------\n",
      "Total evaluated architectures: 4742\n",
      "Total time spent:              88 hours\n",
      "Best model found:              48:64:64:64:64\n",
      "Best model DNA:                DNA([5, 7, 7, 7, 7])\n",
      "Validation accuracy:           39.33333330281575\n",
      "Test accuracy:                 45.43333318074544\n",
      "--------------------------------------------------------------------------------\n"
     ]
    }
   ],
   "source": [
    "algo_name = 'evolution'\n",
    "dataset = 'ImageNet16-120'\n",
    "max_train_hours = 200\n",
    "\n",
    "executor = NASExecutor(algo_name, dataset, max_train_hours, ss_indicator)\n",
    "\n",
    "sorted_results_rnd = executor.test_nas_algo()\n",
    "#sorted_results_rnd.head()\n",
    "\n",
    "#executor.save_report(sorted_results_rnd, f'data/{algo_name}_{max_train_hours}h_{dataset}.csv')"
   ]
  },
  {
   "cell_type": "markdown",
   "metadata": {
    "jp-MarkdownHeadingCollapsed": true,
    "tags": []
   },
   "source": [
    "### Test with Reinforcement Learning Algorithm"
   ]
  },
  {
   "cell_type": "markdown",
   "metadata": {
    "tags": []
   },
   "source": [
    "#### 1 hour"
   ]
  },
  {
   "cell_type": "code",
   "execution_count": 31,
   "metadata": {
    "collapsed": true,
    "jupyter": {
     "outputs_hidden": true
    },
    "tags": []
   },
   "outputs": [
    {
     "name": "stdout",
     "output_type": "stream",
     "text": [
      "[2023-07-05 01:11:58] Try to use the default NATS-Bench (size) path from fast_mode=True and path=None.\n",
      "Candidates: [8, 16, 24, 32, 40, 48, 56, 64]\n",
      "Total time elapse: 4.009060859680176 seconds.\n",
      "--------------------------------------------------------------------------------\n",
      "Total evaluated architectures: 26\n",
      "Total time spent:              0 hours\n",
      "Best model found:              40:64:40:40:40\n",
      "Best model DNA:                DNA([4, 7, 4, 4, 4])\n",
      "Validation accuracy:           35.166666534423825\n",
      "Test accuracy:                 42.23333318074544\n",
      "--------------------------------------------------------------------------------\n"
     ]
    }
   ],
   "source": [
    "algo_name = 'rl'\n",
    "dataset = 'ImageNet16-120'\n",
    "max_train_hours = 1\n",
    "\n",
    "executor = NASExecutor(algo_name, dataset, max_train_hours, ss_indicator)\n",
    "\n",
    "sorted_results_rnd = executor.test_nas_algo()\n",
    "#sorted_results_rnd.head()\n",
    "\n",
    "#executor.save_report(sorted_results_rnd, f'data/{algo_name}_{max_train_hours}h_{dataset}.csv')"
   ]
  },
  {
   "cell_type": "markdown",
   "metadata": {
    "tags": []
   },
   "source": [
    "#### 10 hours"
   ]
  },
  {
   "cell_type": "code",
   "execution_count": 32,
   "metadata": {
    "collapsed": true,
    "jupyter": {
     "outputs_hidden": true
    },
    "tags": []
   },
   "outputs": [
    {
     "name": "stdout",
     "output_type": "stream",
     "text": [
      "[2023-07-05 01:12:02] Try to use the default NATS-Bench (size) path from fast_mode=True and path=None.\n",
      "Candidates: [8, 16, 24, 32, 40, 48, 56, 64]\n",
      "Tried 100 models, valid 100, time_spent_in_hours: 3h, time_spent_in_secs: 13744.403s, elapse since last report: 14.413s.\n",
      "Tried 200 models, valid 200, time_spent_in_hours: 7h, time_spent_in_secs: 27469.853s, elapse since last report: 13.884s.\n",
      "Total time elapse: 38.125489234924316 seconds.\n",
      "--------------------------------------------------------------------------------\n",
      "Total evaluated architectures: 261\n",
      "Total time spent:              4 hours\n",
      "Best model found:              48:48:48:32:32\n",
      "Best model DNA:                DNA([5, 5, 5, 3, 3])\n",
      "Validation accuracy:           34.63333336385091\n",
      "Test accuracy:                 41.466666636149085\n",
      "--------------------------------------------------------------------------------\n"
     ]
    }
   ],
   "source": [
    "algo_name = 'rl'\n",
    "dataset = 'ImageNet16-120'\n",
    "max_train_hours = 10\n",
    "\n",
    "executor = NASExecutor(algo_name, dataset, max_train_hours, ss_indicator)\n",
    "\n",
    "sorted_results_rnd = executor.test_nas_algo()\n",
    "#sorted_results_rnd.head()\n",
    "\n",
    "#executor.save_report(sorted_results_rnd, f'data/{algo_name}_{max_train_hours}h_{dataset}.csv')"
   ]
  },
  {
   "cell_type": "markdown",
   "metadata": {
    "tags": []
   },
   "source": [
    "#### 50 hours"
   ]
  },
  {
   "cell_type": "code",
   "execution_count": 33,
   "metadata": {
    "collapsed": true,
    "jupyter": {
     "outputs_hidden": true
    },
    "tags": []
   },
   "outputs": [
    {
     "name": "stdout",
     "output_type": "stream",
     "text": [
      "[2023-07-05 01:12:41] Try to use the default NATS-Bench (size) path from fast_mode=True and path=None.\n",
      "Candidates: [8, 16, 24, 32, 40, 48, 56, 64]\n",
      "Tried 100 models, valid 100, time_spent_in_hours: 3h, time_spent_in_secs: 13792.357s, elapse since last report: 13.717s.\n",
      "Tried 200 models, valid 200, time_spent_in_hours: 7h, time_spent_in_secs: 27640.67s, elapse since last report: 14.485s.\n",
      "Tried 300 models, valid 300, time_spent_in_hours: 11h, time_spent_in_secs: 41433.677s, elapse since last report: 15.461s.\n",
      "Tried 400 models, valid 400, time_spent_in_hours: 15h, time_spent_in_secs: 55143.328s, elapse since last report: 14.939s.\n",
      "Tried 500 models, valid 500, time_spent_in_hours: 19h, time_spent_in_secs: 68846.589s, elapse since last report: 15.293s.\n",
      "Tried 600 models, valid 600, time_spent_in_hours: 22h, time_spent_in_secs: 82621.15s, elapse since last report: 16.073s.\n",
      "Tried 700 models, valid 700, time_spent_in_hours: 26h, time_spent_in_secs: 96403.602s, elapse since last report: 16.053s.\n",
      "Tried 800 models, valid 800, time_spent_in_hours: 30h, time_spent_in_secs: 110318.761s, elapse since last report: 16.811s.\n",
      "Tried 900 models, valid 900, time_spent_in_hours: 34h, time_spent_in_secs: 124493.856s, elapse since last report: 16.792s.\n",
      "Tried 1000 models, valid 1000, time_spent_in_hours: 38h, time_spent_in_secs: 138785.481s, elapse since last report: 16.897s.\n",
      "Tried 1100 models, valid 1100, time_spent_in_hours: 42h, time_spent_in_secs: 152851.651s, elapse since last report: 18.364s.\n",
      "Tried 1200 models, valid 1200, time_spent_in_hours: 46h, time_spent_in_secs: 166785.203s, elapse since last report: 17.556s.\n",
      "Total time elapse: 210.2513473033905 seconds.\n",
      "--------------------------------------------------------------------------------\n",
      "Total evaluated architectures: 1295\n",
      "Total time spent:              32 hours\n",
      "Best model found:              56:64:64:48:48\n",
      "Best model DNA:                DNA([6, 7, 7, 5, 5])\n",
      "Validation accuracy:           38.3666665242513\n",
      "Test accuracy:                 44.333333353678384\n",
      "--------------------------------------------------------------------------------\n"
     ]
    }
   ],
   "source": [
    "algo_name = 'rl'\n",
    "dataset = 'ImageNet16-120'\n",
    "max_train_hours = 50\n",
    "\n",
    "executor = NASExecutor(algo_name, dataset, max_train_hours, ss_indicator)\n",
    "\n",
    "sorted_results_rnd = executor.test_nas_algo()\n",
    "#sorted_results_rnd.head()\n",
    "\n",
    "#executor.save_report(sorted_results_rnd, f'data/{algo_name}_{max_train_hours}h_{dataset}.csv')"
   ]
  },
  {
   "cell_type": "markdown",
   "metadata": {
    "tags": []
   },
   "source": [
    "#### 100 hours"
   ]
  },
  {
   "cell_type": "code",
   "execution_count": 52,
   "metadata": {
    "collapsed": true,
    "jupyter": {
     "outputs_hidden": true
    },
    "tags": []
   },
   "outputs": [
    {
     "name": "stdout",
     "output_type": "stream",
     "text": [
      "[2023-07-05 04:42:46] Try to use the default NATS-Bench (size) path from fast_mode=True and path=None.\n",
      "Candidates: [8, 16, 24, 32, 40, 48, 56, 64]\n",
      "Tried 100 models, valid 100, time_spent_in_hours: 3h, time_spent_in_secs: 14123.038s, elapse since last report: 13.517s.\n",
      "Tried 200 models, valid 200, time_spent_in_hours: 7h, time_spent_in_secs: 28191.037s, elapse since last report: 13.699s.\n",
      "Tried 300 models, valid 300, time_spent_in_hours: 11h, time_spent_in_secs: 42555.701s, elapse since last report: 14.917s.\n",
      "Tried 400 models, valid 400, time_spent_in_hours: 15h, time_spent_in_secs: 57259.87s, elapse since last report: 14.34s.\n",
      "Tried 500 models, valid 500, time_spent_in_hours: 19h, time_spent_in_secs: 71967.407s, elapse since last report: 14.538s.\n",
      "Tried 600 models, valid 600, time_spent_in_hours: 24h, time_spent_in_secs: 87346.447s, elapse since last report: 15.805s.\n",
      "Tried 700 models, valid 700, time_spent_in_hours: 28h, time_spent_in_secs: 102722.231s, elapse since last report: 18.062s.\n",
      "Tried 800 models, valid 800, time_spent_in_hours: 32h, time_spent_in_secs: 117804.314s, elapse since last report: 16.77s.\n",
      "Tried 900 models, valid 900, time_spent_in_hours: 36h, time_spent_in_secs: 132254.024s, elapse since last report: 16.337s.\n",
      "Tried 1000 models, valid 1000, time_spent_in_hours: 40h, time_spent_in_secs: 146434.278s, elapse since last report: 16.53s.\n",
      "Tried 1100 models, valid 1100, time_spent_in_hours: 44h, time_spent_in_secs: 161001.81s, elapse since last report: 17.774s.\n",
      "Tried 1200 models, valid 1200, time_spent_in_hours: 48h, time_spent_in_secs: 175373.2s, elapse since last report: 17.198s.\n",
      "Tried 1300 models, valid 1300, time_spent_in_hours: 52h, time_spent_in_secs: 189589.931s, elapse since last report: 18.411s.\n",
      "Tried 1400 models, valid 1400, time_spent_in_hours: 56h, time_spent_in_secs: 203162.289s, elapse since last report: 20.296s.\n",
      "Tried 1500 models, valid 1500, time_spent_in_hours: 60h, time_spent_in_secs: 216746.1s, elapse since last report: 18.512s.\n",
      "Tried 1600 models, valid 1600, time_spent_in_hours: 63h, time_spent_in_secs: 230222.298s, elapse since last report: 19.511s.\n",
      "Tried 1700 models, valid 1700, time_spent_in_hours: 67h, time_spent_in_secs: 243650.605s, elapse since last report: 19.428s.\n",
      "Tried 1800 models, valid 1800, time_spent_in_hours: 71h, time_spent_in_secs: 257078.911s, elapse since last report: 20.228s.\n",
      "Tried 1900 models, valid 1900, time_spent_in_hours: 75h, time_spent_in_secs: 270507.218s, elapse since last report: 19.533s.\n",
      "Tried 2000 models, valid 2000, time_spent_in_hours: 78h, time_spent_in_secs: 283935.524s, elapse since last report: 19.985s.\n",
      "Tried 2100 models, valid 2100, time_spent_in_hours: 82h, time_spent_in_secs: 297363.831s, elapse since last report: 20.888s.\n",
      "Tried 2200 models, valid 2200, time_spent_in_hours: 86h, time_spent_in_secs: 310792.137s, elapse since last report: 20.602s.\n",
      "Tried 2300 models, valid 2300, time_spent_in_hours: 90h, time_spent_in_secs: 324220.444s, elapse since last report: 23.859s.\n",
      "Tried 2400 models, valid 2400, time_spent_in_hours: 93h, time_spent_in_secs: 337648.75s, elapse since last report: 22.274s.\n",
      "Tried 2500 models, valid 2500, time_spent_in_hours: 97h, time_spent_in_secs: 351077.057s, elapse since last report: 21.746s.\n",
      "Total time elapse: 470.3302664756775 seconds.\n",
      "--------------------------------------------------------------------------------\n",
      "Total evaluated architectures: 2566\n",
      "Total time spent:              27 hours\n",
      "Best model found:              64:64:64:64:64\n",
      "Best model DNA:                DNA([7, 7, 7, 7, 7])\n",
      "Validation accuracy:           39.133333201090494\n",
      "Test accuracy:                 47.16666669718425\n",
      "--------------------------------------------------------------------------------\n"
     ]
    }
   ],
   "source": [
    "algo_name = 'rl'\n",
    "dataset = 'ImageNet16-120'\n",
    "max_train_hours = 100\n",
    "\n",
    "executor = NASExecutor(algo_name, dataset, max_train_hours, ss_indicator)\n",
    "\n",
    "sorted_results_rnd = executor.test_nas_algo()\n",
    "#sorted_results_rnd.head()\n",
    "\n",
    "#executor.save_report(sorted_results_rnd, f'data/{algo_name}_{max_train_hours}h_{dataset}.csv')"
   ]
  },
  {
   "cell_type": "markdown",
   "metadata": {
    "tags": []
   },
   "source": [
    "#### 200 hours"
   ]
  },
  {
   "cell_type": "code",
   "execution_count": 53,
   "metadata": {
    "collapsed": true,
    "jupyter": {
     "outputs_hidden": true
    },
    "tags": []
   },
   "outputs": [
    {
     "name": "stdout",
     "output_type": "stream",
     "text": [
      "[2023-07-05 04:50:37] Try to use the default NATS-Bench (size) path from fast_mode=True and path=None.\n",
      "Candidates: [8, 16, 24, 32, 40, 48, 56, 64]\n",
      "Tried 100 models, valid 100, time_spent_in_hours: 4h, time_spent_in_secs: 15090.894s, elapse since last report: 13.606s.\n",
      "Tried 200 models, valid 200, time_spent_in_hours: 8h, time_spent_in_secs: 30008.169s, elapse since last report: 13.743s.\n",
      "Tried 300 models, valid 300, time_spent_in_hours: 12h, time_spent_in_secs: 44887.96s, elapse since last report: 14.721s.\n",
      "Tried 400 models, valid 400, time_spent_in_hours: 16h, time_spent_in_secs: 59582.04s, elapse since last report: 14.524s.\n",
      "Tried 500 models, valid 500, time_spent_in_hours: 20h, time_spent_in_secs: 74170.275s, elapse since last report: 14.615s.\n",
      "Tried 600 models, valid 600, time_spent_in_hours: 24h, time_spent_in_secs: 88894.445s, elapse since last report: 19.517s.\n",
      "Tried 700 models, valid 700, time_spent_in_hours: 28h, time_spent_in_secs: 103643.482s, elapse since last report: 15.438s.\n",
      "Tried 800 models, valid 800, time_spent_in_hours: 32h, time_spent_in_secs: 118392.519s, elapse since last report: 16.673s.\n",
      "Tried 900 models, valid 900, time_spent_in_hours: 36h, time_spent_in_secs: 133141.556s, elapse since last report: 16.098s.\n",
      "Tried 1000 models, valid 1000, time_spent_in_hours: 41h, time_spent_in_secs: 147890.593s, elapse since last report: 16.507s.\n",
      "Tried 1100 models, valid 1100, time_spent_in_hours: 45h, time_spent_in_secs: 162639.63s, elapse since last report: 17.622s.\n",
      "Tried 1200 models, valid 1200, time_spent_in_hours: 49h, time_spent_in_secs: 177368.678s, elapse since last report: 19.099s.\n",
      "Tried 1300 models, valid 1300, time_spent_in_hours: 53h, time_spent_in_secs: 192096.396s, elapse since last report: 18.588s.\n",
      "Tried 1400 models, valid 1400, time_spent_in_hours: 57h, time_spent_in_secs: 206850.55s, elapse since last report: 18.018s.\n",
      "Tried 1500 models, valid 1500, time_spent_in_hours: 61h, time_spent_in_secs: 221597.598s, elapse since last report: 18.422s.\n",
      "Tried 1600 models, valid 1600, time_spent_in_hours: 65h, time_spent_in_secs: 236346.635s, elapse since last report: 19.432s.\n",
      "Tried 1700 models, valid 1700, time_spent_in_hours: 69h, time_spent_in_secs: 251081.459s, elapse since last report: 18.935s.\n",
      "Tried 1800 models, valid 1800, time_spent_in_hours: 73h, time_spent_in_secs: 265780.18s, elapse since last report: 21.989s.\n",
      "Tried 1900 models, valid 1900, time_spent_in_hours: 77h, time_spent_in_secs: 280125.434s, elapse since last report: 19.797s.\n",
      "Tried 2000 models, valid 2000, time_spent_in_hours: 81h, time_spent_in_secs: 294530.539s, elapse since last report: 20.148s.\n",
      "Tried 2100 models, valid 2100, time_spent_in_hours: 85h, time_spent_in_secs: 308876.829s, elapse since last report: 21.155s.\n",
      "Tried 2200 models, valid 2200, time_spent_in_hours: 89h, time_spent_in_secs: 323433.093s, elapse since last report: 20.738s.\n",
      "Tried 2300 models, valid 2300, time_spent_in_hours: 93h, time_spent_in_secs: 337852.35s, elapse since last report: 21.088s.\n",
      "Tried 2400 models, valid 2400, time_spent_in_hours: 97h, time_spent_in_secs: 351499.47s, elapse since last report: 22.349s.\n",
      "Tried 2500 models, valid 2500, time_spent_in_hours: 101h, time_spent_in_secs: 365077.995s, elapse since last report: 24.038s.\n",
      "Tried 2600 models, valid 2600, time_spent_in_hours: 105h, time_spent_in_secs: 378839.678s, elapse since last report: 23.216s.\n",
      "Tried 2700 models, valid 2700, time_spent_in_hours: 109h, time_spent_in_secs: 392669.112s, elapse since last report: 22.587s.\n",
      "Tried 2800 models, valid 2800, time_spent_in_hours: 112h, time_spent_in_secs: 406602.455s, elapse since last report: 22.709s.\n",
      "Tried 2900 models, valid 2900, time_spent_in_hours: 116h, time_spent_in_secs: 420251.674s, elapse since last report: 23.859s.\n",
      "Tried 3000 models, valid 3000, time_spent_in_hours: 120h, time_spent_in_secs: 433909.479s, elapse since last report: 23.449s.\n",
      "Tried 3100 models, valid 3100, time_spent_in_hours: 124h, time_spent_in_secs: 447684.085s, elapse since last report: 26.654s.\n",
      "Tried 3200 models, valid 3200, time_spent_in_hours: 128h, time_spent_in_secs: 462264.436s, elapse since last report: 24.814s.\n",
      "Tried 3300 models, valid 3300, time_spent_in_hours: 132h, time_spent_in_secs: 476824.764s, elapse since last report: 24.785s.\n",
      "Tried 3400 models, valid 3400, time_spent_in_hours: 136h, time_spent_in_secs: 490569.358s, elapse since last report: 25.899s.\n",
      "Tried 3500 models, valid 3500, time_spent_in_hours: 140h, time_spent_in_secs: 504264.432s, elapse since last report: 25.237s.\n",
      "Tried 3600 models, valid 3600, time_spent_in_hours: 143h, time_spent_in_secs: 517809.344s, elapse since last report: 26.382s.\n",
      "Tried 3700 models, valid 3700, time_spent_in_hours: 147h, time_spent_in_secs: 531174.772s, elapse since last report: 25.746s.\n",
      "Tried 3800 models, valid 3800, time_spent_in_hours: 151h, time_spent_in_secs: 544523.998s, elapse since last report: 26.209s.\n",
      "Tried 3900 models, valid 3900, time_spent_in_hours: 154h, time_spent_in_secs: 557695.657s, elapse since last report: 29.827s.\n",
      "Tried 4000 models, valid 4000, time_spent_in_hours: 158h, time_spent_in_secs: 570717.485s, elapse since last report: 27.09s.\n",
      "Tried 4100 models, valid 4100, time_spent_in_hours: 162h, time_spent_in_secs: 583691.059s, elapse since last report: 28.195s.\n",
      "Tried 4200 models, valid 4200, time_spent_in_hours: 165h, time_spent_in_secs: 597426.467s, elapse since last report: 27.771s.\n",
      "Tried 4300 models, valid 4300, time_spent_in_hours: 169h, time_spent_in_secs: 611136.518s, elapse since last report: 27.937s.\n",
      "Tried 4400 models, valid 4400, time_spent_in_hours: 173h, time_spent_in_secs: 624773.801s, elapse since last report: 29.081s.\n",
      "Tried 4500 models, valid 4500, time_spent_in_hours: 177h, time_spent_in_secs: 638462.861s, elapse since last report: 28.672s.\n",
      "Tried 4600 models, valid 4600, time_spent_in_hours: 181h, time_spent_in_secs: 652139.008s, elapse since last report: 29.048s.\n",
      "Tried 4700 models, valid 4700, time_spent_in_hours: 185h, time_spent_in_secs: 666447.58s, elapse since last report: 32.676s.\n",
      "Tried 4800 models, valid 4800, time_spent_in_hours: 189h, time_spent_in_secs: 680716.983s, elapse since last report: 29.896s.\n",
      "Tried 4900 models, valid 4900, time_spent_in_hours: 193h, time_spent_in_secs: 695081.658s, elapse since last report: 31.111s.\n",
      "Tried 5000 models, valid 5000, time_spent_in_hours: 197h, time_spent_in_secs: 709277.336s, elapse since last report: 30.529s.\n",
      "Total time elapse: 1153.625906944275 seconds.\n",
      "--------------------------------------------------------------------------------\n",
      "Total evaluated architectures: 5075\n",
      "Total time spent:              0 hours\n",
      "Best model found:              64:56:56:64:64\n",
      "Best model DNA:                DNA([7, 6, 6, 7, 7])\n",
      "Validation accuracy:           38.53333329264323\n",
      "Test accuracy:                 46.833333170572914\n",
      "--------------------------------------------------------------------------------\n"
     ]
    }
   ],
   "source": [
    "algo_name = 'rl'\n",
    "dataset = 'ImageNet16-120'\n",
    "max_train_hours = 200\n",
    "\n",
    "executor = NASExecutor(algo_name, dataset, max_train_hours, ss_indicator)\n",
    "\n",
    "sorted_results_rnd = executor.test_nas_algo()\n",
    "#sorted_results_rnd.head()\n",
    "\n",
    "#executor.save_report(sorted_results_rnd, f'data/{algo_name}_{max_train_hours}h_{dataset}.csv')"
   ]
  },
  {
   "cell_type": "markdown",
   "metadata": {},
   "source": [
    "# Tests NAS Algortihms - Topology Search Space (TSS)"
   ]
  }
 ],
 "metadata": {
  "interpreter": {
   "hash": "85f5044ba23e75135dc4c908fd4d7609c1c80b195047fdb4d16ee0e66a953254"
  },
  "kernelspec": {
   "display_name": "Python 3 (ipykernel)",
   "language": "python",
   "name": "python3"
  },
  "language_info": {
   "codemirror_mode": {
    "name": "ipython",
    "version": 3
   },
   "file_extension": ".py",
   "mimetype": "text/x-python",
   "name": "python",
   "nbconvert_exporter": "python",
   "pygments_lexer": "ipython3",
   "version": "3.8.0"
  },
  "neptune": {
   "notebookId": "98a3967a-428e-4576-add1-6bd753600673",
   "projectVersion": 2
  },
  "toc-autonumbering": true
 },
 "nbformat": 4,
 "nbformat_minor": 4
}

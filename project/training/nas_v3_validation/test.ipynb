{
 "cells": [
  {
   "cell_type": "markdown",
   "metadata": {},
   "source": [
    "# Introduction\n",
    "\n",
    "Notebook para avaliação de NAS-v3 com dataset NATS-Bench-201."
   ]
  },
  {
   "cell_type": "markdown",
   "metadata": {
    "tags": []
   },
   "source": [
    "# Import Libraries"
   ]
  },
  {
   "cell_type": "code",
   "execution_count": 1,
   "metadata": {},
   "outputs": [],
   "source": [
    "%load_ext autoreload\n",
    "%autoreload 2"
   ]
  },
  {
   "cell_type": "code",
   "execution_count": 2,
   "metadata": {
    "tags": []
   },
   "outputs": [],
   "source": [
    "import os\n",
    "# disable tensorflow log level infos\n",
    "os.environ['TF_CPP_MIN_LOG_LEVEL'] = '2' # show only errors"
   ]
  },
  {
   "cell_type": "code",
   "execution_count": 3,
   "metadata": {},
   "outputs": [],
   "source": [
    "import sys\n",
    "if '../..' not in sys.path:\n",
    "    sys.path.insert(0, '../..')"
   ]
  },
  {
   "cell_type": "code",
   "execution_count": 4,
   "metadata": {},
   "outputs": [],
   "source": [
    "from validation_src.val_nas_executor import NASExecutor"
   ]
  },
  {
   "cell_type": "markdown",
   "metadata": {
    "tags": []
   },
   "source": [
    "# Check GPU Availability"
   ]
  },
  {
   "cell_type": "code",
   "execution_count": 5,
   "metadata": {
    "tags": []
   },
   "outputs": [
    {
     "name": "stdout",
     "output_type": "stream",
     "text": [
      " ==> Restrict GPU memory growth: True\n"
     ]
    }
   ],
   "source": [
    "## restrict memory growth -------------------\n",
    "import tensorflow as tf\n",
    "physical_devices = tf.config.list_physical_devices('GPU') \n",
    "try:\n",
    "    gpu_0 = physical_devices[0]\n",
    "    tf.config.experimental.set_memory_growth(gpu_0, True) \n",
    "    #tf.config.experimental.set_virtual_device_configuration(gpu_0, [tf.config.experimental.VirtualDeviceConfiguration(memory_limit=6500)])\n",
    "    print(' ==> Restrict GPU memory growth: True')\n",
    "except: \n",
    "    raise Exception(\"Invalid device or cannot modify virtual devices once initialized.\")\n",
    "## restrict memory growth ------------------- "
   ]
  },
  {
   "cell_type": "markdown",
   "metadata": {},
   "source": [
    "# Tests NAS ALgorithms"
   ]
  },
  {
   "cell_type": "markdown",
   "metadata": {},
   "source": [
    "## Cifar10"
   ]
  },
  {
   "cell_type": "markdown",
   "metadata": {
    "tags": []
   },
   "source": [
    "### Test with Random Algorithm"
   ]
  },
  {
   "cell_type": "code",
   "execution_count": 21,
   "metadata": {
    "tags": []
   },
   "outputs": [
    {
     "name": "stdout",
     "output_type": "stream",
     "text": [
      "[2023-06-29 01:47:28] Try to use the default NATS-Bench (size) path from fast_mode=True and path=None.\n",
      "Candidates: [8, 16, 24, 32, 40, 48, 56, 64]\n",
      "Tried 100 models, valid 100, time_spent_in_hours: 1h, time_spent_in_secs: 5342.577s, elapse since last report: 1.837s.\n",
      "Tried 200 models, valid 200, time_spent_in_hours: 2h, time_spent_in_secs: 10474.273s, elapse since last report: 1.758s.\n",
      "Tried 300 models, valid 300, time_spent_in_hours: 4h, time_spent_in_secs: 15866.078s, elapse since last report: 1.745s.\n",
      "Tried 400 models, valid 400, time_spent_in_hours: 5h, time_spent_in_secs: 21275.145s, elapse since last report: 1.745s.\n",
      "Tried 500 models, valid 500, time_spent_in_hours: 7h, time_spent_in_secs: 26470.053s, elapse since last report: 1.761s.\n",
      "Tried 600 models, valid 600, time_spent_in_hours: 8h, time_spent_in_secs: 31823.676s, elapse since last report: 1.767s.\n",
      "Total time elapse: 12.607734680175781 seconds.\n",
      "--------------------------------------------------------------------------------\n",
      "Best architecture found after 678 evaluated models!\n",
      "Total time spent:    5 hours\n",
      "Best model found:    64:56:56:48:64\n",
      "Best model DNA:      DNA([7, 6, 6, 5, 7])\n",
      "Validation accuracy: 84.66400001708985\n",
      "Test accuracy:       93.23\n",
      "--------------------------------------------------------------------------------\n"
     ]
    }
   ],
   "source": [
    "executor = NASExecutor()\n",
    "\n",
    "algo_name = 'random'\n",
    "dataset = 'cifar10'\n",
    "max_train_hours = 10\n",
    "\n",
    "sorted_results_rnd = executor.test_nas_algo(algo_name,dataset,max_train_hours)\n",
    "#sorted_results_rnd.head()\n",
    "\n",
    "executor.print_report(sorted_results_rnd)\n",
    "executor.save_report(sorted_results_rnd, f'data/{algo_name}_{max_train_hours}h_{dataset}.csv')"
   ]
  },
  {
   "cell_type": "markdown",
   "metadata": {
    "tags": []
   },
   "source": [
    "### Test with Regularized Evolution Algorithm"
   ]
  },
  {
   "cell_type": "code",
   "execution_count": 18,
   "metadata": {
    "tags": []
   },
   "outputs": [
    {
     "name": "stdout",
     "output_type": "stream",
     "text": [
      "[2023-06-29 01:43:20] Try to use the default NATS-Bench (size) path from fast_mode=True and path=None.\n",
      "Candidates: [8, 16, 24, 32, 40, 48, 56, 64]\n",
      "Tried 100 models, valid 100, time_spent_in_hours: 1h, time_spent_in_secs: 5632.725s, elapse since last report: 2.051s.\n",
      "Tried 200 models, valid 200, time_spent_in_hours: 3h, time_spent_in_secs: 12126.845s, elapse since last report: 1.442s.\n",
      "Tried 300 models, valid 300, time_spent_in_hours: 5h, time_spent_in_secs: 18458.513s, elapse since last report: 1.491s.\n",
      "Tried 400 models, valid 400, time_spent_in_hours: 6h, time_spent_in_secs: 24934.971s, elapse since last report: 1.459s.\n",
      "Tried 500 models, valid 500, time_spent_in_hours: 8h, time_spent_in_secs: 31290.48s, elapse since last report: 1.437s.\n",
      "Total time elapse: 8.97263765335083 seconds.\n",
      "--------------------------------------------------------------------------------\n",
      "Best architecture found after 574 evaluated models!\n",
      "Total time spent:    3 hours\n",
      "Best model found:    64:64:56:64:48\n",
      "Validation accuracy: 84.96399999511719\n",
      "Test accuracy:       93.3\n",
      "--------------------------------------------------------------------------------\n"
     ]
    }
   ],
   "source": [
    "executor = NASExecutor()\n",
    "\n",
    "algo_name = 'evolution'\n",
    "dataset = 'cifar10'\n",
    "max_train_hours = 10\n",
    "\n",
    "sorted_results_evol = executor.test_nas_algo(algo_name,dataset,max_train_hours)\n",
    "#sorted_results_evol.head()\n",
    "\n",
    "executor.save_report(sorted_results_evol, f'data/{algo_name}_{max_train_hours}h_{dataset}.csv')\n",
    "executor.print_report(sorted_results_evol)"
   ]
  },
  {
   "cell_type": "markdown",
   "metadata": {},
   "source": [
    "## Test with Reinforcement Learning Algorithm"
   ]
  },
  {
   "cell_type": "code",
   "execution_count": 23,
   "metadata": {
    "tags": []
   },
   "outputs": [
    {
     "name": "stdout",
     "output_type": "stream",
     "text": [
      "[2023-06-29 01:49:47] Try to use the default NATS-Bench (size) path from fast_mode=True and path=None.\n",
      "Candidates: [8, 16, 24, 32, 40, 48, 56, 64]\n",
      "Tried 100 models, valid 100, time_spent_in_hours: 1h, time_spent_in_secs: 6525.588s, elapse since last report: 13.646s.\n",
      "Tried 200 models, valid 200, time_spent_in_hours: 3h, time_spent_in_secs: 13106.155s, elapse since last report: 14.728s.\n",
      "Tried 300 models, valid 300, time_spent_in_hours: 5h, time_spent_in_secs: 18742.324s, elapse since last report: 14.955s.\n",
      "Tried 400 models, valid 400, time_spent_in_hours: 6h, time_spent_in_secs: 23579.599s, elapse since last report: 15.566s.\n",
      "Tried 500 models, valid 500, time_spent_in_hours: 7h, time_spent_in_secs: 28362.41s, elapse since last report: 15.539s.\n",
      "Tried 600 models, valid 600, time_spent_in_hours: 9h, time_spent_in_secs: 32478.501s, elapse since last report: 16.423s.\n",
      "Total time elapse: 105.8362283706665 seconds.\n",
      "--------------------------------------------------------------------------------\n",
      "Best architecture found after 687 evaluated models!\n",
      "Total time spent:    1 hours\n",
      "Best model found:    64:48:64:56:56\n",
      "Best model DNA:      DNA([7, 5, 7, 6, 6])\n",
      "Validation accuracy: 84.42400000976562\n",
      "Test accuracy:       93.33\n",
      "--------------------------------------------------------------------------------\n"
     ]
    }
   ],
   "source": [
    "executor = NASExecutor()\n",
    "\n",
    "algo_name = 'rl'\n",
    "dataset = 'cifar10'\n",
    "max_train_hours = 10\n",
    "\n",
    "sorted_results_rl = executor.test_nas_algo(algo_name,dataset,max_train_hours)\n",
    "#sorted_results_rl.head()\n",
    "\n",
    "executor.save_report(sorted_results_rl, f'data/{algo_name}_{max_train_hours}h_{dataset}.csv')\n",
    "executor.print_report(sorted_results_rl)"
   ]
  },
  {
   "cell_type": "markdown",
   "metadata": {},
   "source": [
    "## Cifar100"
   ]
  },
  {
   "cell_type": "markdown",
   "metadata": {
    "tags": []
   },
   "source": [
    "### Test with Random Algorithm"
   ]
  },
  {
   "cell_type": "code",
   "execution_count": 25,
   "metadata": {
    "tags": []
   },
   "outputs": [
    {
     "name": "stdout",
     "output_type": "stream",
     "text": [
      "[2023-06-29 01:53:30] Try to use the default NATS-Bench (size) path from fast_mode=True and path=None.\n",
      "Candidates: [8, 16, 24, 32, 40, 48, 56, 64]\n",
      "Tried 100 models, valid 100, time_spent_in_hours: 2h, time_spent_in_secs: 9404.955s, elapse since last report: 1.861s.\n",
      "Tried 200 models, valid 200, time_spent_in_hours: 5h, time_spent_in_secs: 19050.223s, elapse since last report: 1.792s.\n",
      "Tried 300 models, valid 300, time_spent_in_hours: 7h, time_spent_in_secs: 28576.77s, elapse since last report: 1.781s.\n",
      "Total time elapse: 6.779327630996704 seconds.\n",
      "--------------------------------------------------------------------------------\n",
      "Total evaluated architectures: 375!\n",
      "Total time spent:              8 hours\n",
      "Best model found:              48:64:64:64:64\n",
      "Best model DNA:                DNA([5, 7, 7, 7, 7])\n",
      "Validation accuracy:           60.57999995117188\n",
      "Test accuracy:                 70.13999997558594\n",
      "--------------------------------------------------------------------------------\n"
     ]
    }
   ],
   "source": [
    "executor = NASExecutor()\n",
    "\n",
    "algo_name = 'random'\n",
    "dataset = 'cifar100'\n",
    "max_train_hours = 10\n",
    "\n",
    "sorted_results_rnd = executor.test_nas_algo(algo_name,dataset,max_train_hours)\n",
    "#sorted_results_rnd.head()\n",
    "\n",
    "executor.print_report(sorted_results_rnd)\n",
    "executor.save_report(sorted_results_rnd, f'data/{algo_name}_{max_train_hours}h_{dataset}.csv')"
   ]
  },
  {
   "cell_type": "markdown",
   "metadata": {
    "tags": []
   },
   "source": [
    "### Test with Regularized Evolution Algorithm"
   ]
  },
  {
   "cell_type": "code",
   "execution_count": 26,
   "metadata": {
    "tags": []
   },
   "outputs": [
    {
     "name": "stdout",
     "output_type": "stream",
     "text": [
      "[2023-06-29 01:53:48] Try to use the default NATS-Bench (size) path from fast_mode=True and path=None.\n",
      "Candidates: [8, 16, 24, 32, 40, 48, 56, 64]\n",
      "Tried 100 models, valid 100, time_spent_in_hours: 2h, time_spent_in_secs: 10324.754s, elapse since last report: 1.759s.\n",
      "Tried 200 models, valid 200, time_spent_in_hours: 5h, time_spent_in_secs: 21209.934s, elapse since last report: 1.601s.\n",
      "Tried 300 models, valid 300, time_spent_in_hours: 9h, time_spent_in_secs: 32750.003s, elapse since last report: 1.535s.\n",
      "Total time elapse: 5.306481599807739 seconds.\n",
      "--------------------------------------------------------------------------------\n",
      "Total evaluated architectures: 327!\n",
      "Total time spent:              8 hours\n",
      "Best model found:              64:64:56:56:64\n",
      "Best model DNA:                DNA([7, 7, 6, 6, 7])\n",
      "Validation accuracy:           60.81999995727539\n",
      "Test accuracy:                 69.98000002441407\n",
      "--------------------------------------------------------------------------------\n"
     ]
    }
   ],
   "source": [
    "executor = NASExecutor()\n",
    "\n",
    "algo_name = 'evolution'\n",
    "dataset = 'cifar100'\n",
    "max_train_hours = 10\n",
    "\n",
    "sorted_results_evol = executor.test_nas_algo(algo_name,dataset,max_train_hours)\n",
    "#sorted_results_evol.head()\n",
    "\n",
    "executor.save_report(sorted_results_evol, f'data/{algo_name}_{max_train_hours}h_{dataset}.csv')\n",
    "executor.print_report(sorted_results_evol)"
   ]
  },
  {
   "cell_type": "markdown",
   "metadata": {},
   "source": [
    "## Test with Reinforcement Learning Algorithm"
   ]
  },
  {
   "cell_type": "code",
   "execution_count": 27,
   "metadata": {
    "tags": []
   },
   "outputs": [
    {
     "name": "stdout",
     "output_type": "stream",
     "text": [
      "[2023-06-29 01:54:21] Try to use the default NATS-Bench (size) path from fast_mode=True and path=None.\n",
      "Candidates: [8, 16, 24, 32, 40, 48, 56, 64]\n",
      "Tried 100 models, valid 100, time_spent_in_hours: 2h, time_spent_in_secs: 10441.843s, elapse since last report: 14.62s.\n",
      "Tried 200 models, valid 200, time_spent_in_hours: 5h, time_spent_in_secs: 20866.886s, elapse since last report: 14.452s.\n",
      "Tried 300 models, valid 300, time_spent_in_hours: 8h, time_spent_in_secs: 31681.879s, elapse since last report: 15.856s.\n",
      "Total time elapse: 50.6492235660553 seconds.\n",
      "--------------------------------------------------------------------------------\n",
      "Total evaluated architectures: 337\n",
      "Total time spent:              9 hours\n",
      "Best model found:              48:56:48:48:56\n",
      "Best model DNA:                DNA([5, 6, 5, 5, 6])\n",
      "Validation accuracy:           58.87999997558594\n",
      "Test accuracy:                 69.43999998779297\n",
      "--------------------------------------------------------------------------------\n"
     ]
    }
   ],
   "source": [
    "executor = NASExecutor()\n",
    "\n",
    "algo_name = 'rl'\n",
    "dataset = 'cifar100'\n",
    "max_train_hours = 10\n",
    "\n",
    "sorted_results_rl = executor.test_nas_algo(algo_name,dataset,max_train_hours)\n",
    "#sorted_results_rl.head()\n",
    "\n",
    "executor.save_report(sorted_results_rl, f'data/{algo_name}_{max_train_hours}h_{dataset}.csv')\n",
    "executor.print_report(sorted_results_rl)"
   ]
  },
  {
   "cell_type": "markdown",
   "metadata": {},
   "source": [
    "## ImageNet16-120"
   ]
  },
  {
   "cell_type": "markdown",
   "metadata": {
    "tags": []
   },
   "source": [
    "### Test with Random Algorithm"
   ]
  },
  {
   "cell_type": "code",
   "execution_count": 28,
   "metadata": {
    "tags": []
   },
   "outputs": [
    {
     "name": "stdout",
     "output_type": "stream",
     "text": [
      "[2023-06-29 01:56:29] Try to use the default NATS-Bench (size) path from fast_mode=True and path=None.\n",
      "Candidates: [8, 16, 24, 32, 40, 48, 56, 64]\n",
      "Tried 100 models, valid 100, time_spent_in_hours: 4h, time_spent_in_secs: 14416.738s, elapse since last report: 1.864s.\n",
      "Tried 200 models, valid 200, time_spent_in_hours: 7h, time_spent_in_secs: 28775.796s, elapse since last report: 1.833s.\n",
      "Total time elapse: 4.612654447555542 seconds.\n",
      "--------------------------------------------------------------------------------\n",
      "Total evaluated architectures: 249\n",
      "Total time spent:              8 hours\n",
      "Best model found:              64:40:64:64:64\n",
      "Best model DNA:                DNA([7, 4, 7, 7, 7])\n",
      "Validation accuracy:           38.03333320109049\n",
      "Test accuracy:                 46.36666658528646\n",
      "--------------------------------------------------------------------------------\n"
     ]
    }
   ],
   "source": [
    "executor = NASExecutor()\n",
    "\n",
    "algo_name = 'random'\n",
    "dataset = 'ImageNet16-120'\n",
    "max_train_hours = 10\n",
    "\n",
    "sorted_results_rnd = executor.test_nas_algo(algo_name,dataset,max_train_hours)\n",
    "#sorted_results_rnd.head()\n",
    "\n",
    "executor.print_report(sorted_results_rnd)\n",
    "executor.save_report(sorted_results_rnd, f'data/{algo_name}_{max_train_hours}h_{dataset}.csv')"
   ]
  },
  {
   "cell_type": "markdown",
   "metadata": {
    "tags": []
   },
   "source": [
    "### Test with Regularized Evolution Algorithm"
   ]
  },
  {
   "cell_type": "code",
   "execution_count": null,
   "metadata": {
    "tags": []
   },
   "outputs": [
    {
     "name": "stdout",
     "output_type": "stream",
     "text": [
      "[2023-06-29 01:56:35] Try to use the default NATS-Bench (size) path from fast_mode=True and path=None.\n",
      "Candidates: [8, 16, 24, 32, 40, 48, 56, 64]\n",
      "Tried 100 models, valid 100, time_spent_in_hours: 4h, time_spent_in_secs: 14745.984s, elapse since last report: 1.736s.\n",
      "Tried 200 models, valid 200, time_spent_in_hours: 8h, time_spent_in_secs: 29965.976s, elapse since last report: 1.609s.\n",
      "Total time elapse: 4.573469400405884 seconds.\n",
      "--------------------------------------------------------------------------------\n",
      "Total evaluated architectures: 239\n",
      "Total time spent:              9 hours\n",
      "Best model found:              56:48:64:64:64\n",
      "Best model DNA:                DNA([6, 5, 7, 7, 7])\n",
      "Validation accuracy:           38.73333336385091\n",
      "Test accuracy:                 46.83333319091797\n",
      "--------------------------------------------------------------------------------\n"
     ]
    }
   ],
   "source": [
    "executor = NASExecutor()\n",
    "\n",
    "algo_name = 'evolution'\n",
    "dataset = 'ImageNet16-120'\n",
    "max_train_hours = 10\n",
    "\n",
    "sorted_results_evol = executor.test_nas_algo(algo_name,dataset,max_train_hours)\n",
    "#sorted_results_evol.head()\n",
    "\n",
    "executor.save_report(sorted_results_evol, f'data/{algo_name}_{max_train_hours}h_{dataset}.csv')\n",
    "executor.print_report(sorted_results_evol)"
   ]
  },
  {
   "cell_type": "markdown",
   "metadata": {},
   "source": [
    "## Test with Reinforcement Learning Algorithm"
   ]
  },
  {
   "cell_type": "code",
   "execution_count": 30,
   "metadata": {
    "tags": []
   },
   "outputs": [
    {
     "name": "stdout",
     "output_type": "stream",
     "text": [
      "[2023-06-29 01:56:42] Try to use the default NATS-Bench (size) path from fast_mode=True and path=None.\n",
      "Candidates: [8, 16, 24, 32, 40, 48, 56, 64]\n",
      "Tried 100 models, valid 100, time_spent_in_hours: 4h, time_spent_in_secs: 14886.273s, elapse since last report: 13.727s.\n",
      "Tried 200 models, valid 200, time_spent_in_hours: 8h, time_spent_in_secs: 29698.077s, elapse since last report: 13.985s.\n",
      "Total time elapse: 34.388237714767456 seconds.\n",
      "--------------------------------------------------------------------------------\n",
      "Total evaluated architectures: 242\n",
      "Total time spent:              0 hours\n",
      "Best model found:              64:64:64:64:64\n",
      "Best model DNA:                DNA([7, 7, 7, 7, 7])\n",
      "Validation accuracy:           39.133333201090494\n",
      "Test accuracy:                 47.16666669718425\n",
      "--------------------------------------------------------------------------------\n"
     ]
    }
   ],
   "source": [
    "executor = NASExecutor()\n",
    "\n",
    "algo_name = 'rl'\n",
    "dataset = 'ImageNet16-120'\n",
    "max_train_hours = 10\n",
    "\n",
    "sorted_results_rl = executor.test_nas_algo(algo_name,dataset,max_train_hours)\n",
    "#sorted_results_rl.head()\n",
    "\n",
    "executor.save_report(sorted_results_rl, f'data/{algo_name}_{max_train_hours}h_{dataset}.csv')\n",
    "executor.print_report(sorted_results_rl)"
   ]
  }
 ],
 "metadata": {
  "interpreter": {
   "hash": "85f5044ba23e75135dc4c908fd4d7609c1c80b195047fdb4d16ee0e66a953254"
  },
  "kernelspec": {
   "display_name": "Python 3 (ipykernel)",
   "language": "python",
   "name": "python3"
  },
  "language_info": {
   "codemirror_mode": {
    "name": "ipython",
    "version": 3
   },
   "file_extension": ".py",
   "mimetype": "text/x-python",
   "name": "python",
   "nbconvert_exporter": "python",
   "pygments_lexer": "ipython3",
   "version": "3.8.0"
  },
  "neptune": {
   "notebookId": "98a3967a-428e-4576-add1-6bd753600673",
   "projectVersion": 2
  },
  "toc-autonumbering": true
 },
 "nbformat": 4,
 "nbformat_minor": 4
}

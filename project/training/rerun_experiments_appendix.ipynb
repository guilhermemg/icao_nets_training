{
 "cells": [
  {
   "cell_type": "markdown",
   "metadata": {},
   "source": [
    "# Import Libraries"
   ]
  },
  {
   "cell_type": "code",
   "execution_count": 1,
   "metadata": {},
   "outputs": [],
   "source": [
    "%load_ext autoreload\n",
    "%autoreload 2"
   ]
  },
  {
   "cell_type": "code",
   "execution_count": 2,
   "metadata": {},
   "outputs": [],
   "source": [
    "import os\n",
    "# disable tensorflow log level infos\n",
    "os.environ['TF_CPP_MIN_LOG_LEVEL'] = '2' # show only errors\n",
    "\n",
    "import sys\n",
    "import pandas as pd\n",
    "\n",
    "if '..' not in sys.path:\n",
    "    sys.path.insert(0,'..')"
   ]
  },
  {
   "cell_type": "code",
   "execution_count": 3,
   "metadata": {},
   "outputs": [
    {
     "name": "stdout",
     "output_type": "stream",
     "text": [
      " ==> Restrict GPU memory growth: True\n"
     ]
    }
   ],
   "source": [
    "from src.base.data_loaders.data_loader import DLName\n",
    "from src.base.gt_loaders.gt_names import GTName\n",
    "\n",
    "from src.exp_runner import ExperimentRunner\n",
    "\n",
    "from src.base.experiment.training.base_models import BaseModel\n",
    "from src.base.experiment.dataset.benchmark_dataset import BenchmarkDataset\n",
    "from src.base.experiment.training.model_creator import Optimizer\n",
    "from src.base.experiment.evaluation.model_evaluator import DataSource, DataPredSelection\n",
    "\n",
    "from src.m_utils.mtl_approach import MTLApproach\n",
    "from src.m_utils.nas_mtl_approach import NAS_MTLApproach\n",
    "\n",
    "from src.base.experiment.tasks.task import ICAO_REQ, MNIST_TASK"
   ]
  },
  {
   "cell_type": "markdown",
   "metadata": {},
   "source": [
    "# Start Network runner"
   ]
  },
  {
   "cell_type": "code",
   "execution_count": 3,
   "metadata": {
    "tags": []
   },
   "outputs": [
    {
     "name": "stdout",
     "output_type": "stream",
     "text": [
      "-------------------- Init ExperimentRunner -------------------\n",
      "---------------------------\n",
      "Parent Process ID: 17689\n",
      "Process ID: 39231\n",
      "---------------------------\n",
      "-----\n",
      "Use Neptune:  True\n",
      "-----\n",
      "-------------------\n",
      "Args: \n",
      "{'exp_params': {'description': 'Rerunning experiment ICAO 320 for generating '\n",
      "                               'new plots',\n",
      "                'name': 'rerun ICAO 320',\n",
      "                'src_files': ['../src/**/**.py'],\n",
      "                'tags': ['nas',\n",
      "                         'approach 2',\n",
      "                         'rerun_appendix',\n",
      "                         'fvc',\n",
      "                         'ground_truths']},\n",
      " 'nas_params': {'controller_batch_size': 32,\n",
      "                'controller_epochs': 50,\n",
      "                'max_blocks_per_branch': 5,\n",
      "                'n_child_epochs': 1,\n",
      "                'n_trials': 50},\n",
      " 'net_train_params': {'base_model': <BaseModel.VGG16: {'name': 'vgg16', 'target_size': (224, 224), 'prep_function': <function preprocess_input at 0x7f5f12b90040>}>,\n",
      "                      'batch_size': 32,\n",
      "                      'dropout': 0.3,\n",
      "                      'early_stopping': 200,\n",
      "                      'learning_rate': 0.001,\n",
      "                      'n_epochs': 200,\n",
      "                      'optimizer': <Optimizer.ADAMAX: 'Adamax'>},\n",
      " 'properties': {'approach': <NAS_MTLApproach.APPROACH_2: 'approach_2'>,\n",
      "                'balance_input_data': False,\n",
      "                'benchmarking': {'benchmark_dataset': <BenchmarkDataset.MNIST: {'name': 'mnist', 'target_cols': ['n_0', 'n_1', 'n_2', 'n_3', 'n_4', 'n_5', 'n_6', 'n_7', 'n_8', 'n_9']}>,\n",
      "                                 'tasks': [<MNIST_TASK.N_0: 'n_0'>,\n",
      "                                           <MNIST_TASK.N_1: 'n_1'>,\n",
      "                                           <MNIST_TASK.N_2: 'n_2'>,\n",
      "                                           <MNIST_TASK.N_3: 'n_3'>,\n",
      "                                           <MNIST_TASK.N_4: 'n_4'>,\n",
      "                                           <MNIST_TASK.N_5: 'n_5'>,\n",
      "                                           <MNIST_TASK.N_6: 'n_6'>,\n",
      "                                           <MNIST_TASK.N_7: 'n_7'>,\n",
      "                                           <MNIST_TASK.N_8: 'n_8'>,\n",
      "                                           <MNIST_TASK.N_9: 'n_9'>],\n",
      "                                 'use_benchmark_data': False},\n",
      "                'exec_nas': False,\n",
      "                'icao_data': {'aligned': False,\n",
      "                              'icao_dl': {'tagger_model': None,\n",
      "                                          'use_dl_data': False},\n",
      "                              'icao_gt': {'gt_names': {'test': [],\n",
      "                                                       'train_validation': [],\n",
      "                                                       'train_validation_test': [<GTName.FVC: 'fvc'>]},\n",
      "                                          'use_gt_data': True},\n",
      "                              'reqs': [<ICAO_REQ.MOUTH: 'mouth'>,\n",
      "                                       <ICAO_REQ.ROTATION: 'rotation'>,\n",
      "                                       <ICAO_REQ.L_AWAY: 'l_away'>,\n",
      "                                       <ICAO_REQ.EYES_CLOSED: 'eyes_closed'>,\n",
      "                                       <ICAO_REQ.CLOSE: 'close'>,\n",
      "                                       <ICAO_REQ.HAT: 'hat'>,\n",
      "                                       <ICAO_REQ.DARK_GLASSES: 'dark_glasses'>,\n",
      "                                       <ICAO_REQ.FRAMES_HEAVY: 'frames_heavy'>,\n",
      "                                       <ICAO_REQ.FRAME_EYES: 'frame_eyes'>,\n",
      "                                       <ICAO_REQ.FLASH_LENSES: 'flash_lenses'>,\n",
      "                                       <ICAO_REQ.VEIL: 'veil'>,\n",
      "                                       <ICAO_REQ.REFLECTION: 'reflection'>,\n",
      "                                       <ICAO_REQ.LIGHT: 'light'>,\n",
      "                                       <ICAO_REQ.SHADOW_FACE: 'sh_face'>,\n",
      "                                       <ICAO_REQ.SHADOW_HEAD: 'sh_head'>,\n",
      "                                       <ICAO_REQ.BLURRED: 'blurred'>,\n",
      "                                       <ICAO_REQ.INK_MARK: 'ink_mark'>,\n",
      "                                       <ICAO_REQ.SKIN_TONE: 'skin_tone'>,\n",
      "                                       <ICAO_REQ.WASHED_OUT: 'washed_out'>,\n",
      "                                       <ICAO_REQ.PIXELATION: 'pixelation'>,\n",
      "                                       <ICAO_REQ.HAIR_EYES: 'hair_eyes'>,\n",
      "                                       <ICAO_REQ.BACKGROUND: 'background'>,\n",
      "                                       <ICAO_REQ.RED_EYES: 'red_eyes'>]},\n",
      "                'orig_model_experiment_id': 'ICAO-320',\n",
      "                'sample_prop': 1.0,\n",
      "                'sample_training_data': False,\n",
      "                'save_trained_model': True,\n",
      "                'train_model': False},\n",
      " 'use_neptune': True}\n",
      "-------------------\n",
      "----\n",
      "Base Model Name:  BaseModel.VGG16\n",
      "----\n",
      "MTL Model: True\n",
      "Approach: NAS_MTLApproach.APPROACH_2\n",
      "----\n",
      "--------------------  starting neptune  -------------------\n",
      "Starting Neptune\n",
      "https://app.neptune.ai/guilhermemg/icao-nets-training-2/e/ICAO-343\n",
      "Remember to stop your run once you’ve finished logging your metadata (https://docs.neptune.ai/api-reference/run#.stop). It will be stopped automatically only when the notebook kernel/interactive console is terminated.\n",
      "----\n",
      "----\n",
      "Checking model existence locally...\n",
      "Model already exists locally. Not downloading!\n",
      "Trained model dir path: prev_trained_models/multi_task/fvc_not_aligned/multi_reqs/ICAO-320\n",
      "-----\n",
      " ..Checking previous experiment metadata\n",
      "https://app.neptune.ai/guilhermemg/icao-nets-training-2/e/ICAO-320\n",
      "Remember to stop your run once you’ve finished logging your metadata (https://docs.neptune.ai/api-reference/run#.stop). It will be stopped automatically only when the notebook kernel/interactive console is terminated.\n",
      " ...Prev Exp | Req: ['mouth', 'rotation', 'l_away', 'eyes_closed', 'close', 'hat', 'dark_glasses', 'frames_heavy', 'frame_eyes', 'flash_lenses', 'veil', 'reflection', 'light', 'sh_face', 'sh_head', 'blurred', 'ink_mark', 'skin_tone', 'washed_out', 'pixelation', 'hair_eyes', 'background', 'red_eyes']\n",
      " ...Prev Exp | Aligned: 0.0\n",
      " ...Prev Exp | DS: {'train_validation': [], 'test': [], 'train_validation_test': ['fvc']}\n",
      " ...Current Exp | Req: ['mouth', 'rotation', 'l_away', 'eyes_closed', 'close', 'hat', 'dark_glasses', 'frames_heavy', 'frame_eyes', 'flash_lenses', 'veil', 'reflection', 'light', 'sh_face', 'sh_head', 'blurred', 'ink_mark', 'skin_tone', 'washed_out', 'pixelation', 'hair_eyes', 'background', 'red_eyes']\n",
      " ...Current Exp | Aligned: 0.0\n",
      " ...Current Exp | DS: {'gt_names': \"{'train_validation': [], 'test': [], 'train_validation_test': ['fvc']}\"}\n",
      " ..All checked!\n",
      "-----\n",
      "Shutting down background jobs, please wait a moment...\n",
      "Done!\n",
      "Waiting for the remaining 22 operations to synchronize with Neptune. Do not kill this process.\n",
      "All 22 operations synced, thanks for waiting!\n",
      "Explore the metadata in the Neptune app:\n",
      "https://app.neptune.ai/guilhermemg/icao-nets-training-2/e/ICAO-320\n",
      "----\n",
      "------------------------------\n",
      "Checking GPU availability\n",
      " ..GPU is available!\n",
      "------------------------------\n"
     ]
    },
    {
     "name": "stderr",
     "output_type": "stream",
     "text": [
      "/home/guilherme/anaconda3/envs/mteval-icao-reqs/submodules/icao_nets_training/lib/python3.8/site-packages/tensorflow/python/keras/optimizer_v2/optimizer_v2.py:374: UserWarning: The `lr` argument is deprecated, use `learning_rate` instead.\n",
      "  warnings.warn(\n"
     ]
    }
   ],
   "source": [
    "kwargs = { \n",
    "    'use_neptune': True,\n",
    "    'exp_params' : {\n",
    "        'name': 'rerun ICAO 320',\n",
    "        'description': 'Rerunning experiment ICAO 320 for generating new plots',\n",
    "        'tags': ['nas', 'approach 2', 'rerun_appendix', 'fvc', 'ground_truths'],\n",
    "        'src_files': [\"../src/**/**.py\"]\n",
    "    },\n",
    "    'properties': {\n",
    "        'approach': NAS_MTLApproach.APPROACH_2,\n",
    "        'benchmarking': {\n",
    "            'use_benchmark_data': False,\n",
    "            'benchmark_dataset': BenchmarkDataset.MNIST,\n",
    "            'tasks': list(MNIST_TASK)\n",
    "        },\n",
    "        'icao_data': {\n",
    "            'icao_gt': {\n",
    "                'use_gt_data': True,\n",
    "                'gt_names': {\n",
    "                    'train_validation': [],\n",
    "                    'test': [],\n",
    "                    'train_validation_test': [GTName.FVC]\n",
    "                },\n",
    "            },\n",
    "            'icao_dl': {\n",
    "                'use_dl_data': False,\n",
    "                'tagger_model': None\n",
    "            },\n",
    "            'reqs': list(ICAO_REQ),\n",
    "            'aligned': False,\n",
    "        },\n",
    "        'balance_input_data': False,\n",
    "        'train_model': False,\n",
    "        'save_trained_model': True,\n",
    "        'exec_nas': False,\n",
    "        'orig_model_experiment_id': 'ICAO-320',\n",
    "        'sample_training_data': False,\n",
    "        'sample_prop': 1.0\n",
    "    },\n",
    "    'net_train_params': {\n",
    "        'base_model': BaseModel.VGG16,\n",
    "        'batch_size': 32,\n",
    "        'n_epochs': 200,\n",
    "        'early_stopping': 200,\n",
    "        'learning_rate': 1e-3,\n",
    "        'optimizer': Optimizer.ADAMAX,\n",
    "        'dropout': 0.3\n",
    "    },\n",
    "    'nas_params': {\n",
    "        'max_blocks_per_branch': 5,\n",
    "        'n_child_epochs': 1,\n",
    "        'controller_epochs': 50,\n",
    "        'controller_batch_size': 32,\n",
    "        'n_trials': 50\n",
    "    }\n",
    "}\n",
    "\n",
    "runner = ExperimentRunner(**kwargs)"
   ]
  },
  {
   "cell_type": "markdown",
   "metadata": {},
   "source": [
    "# Load Data"
   ]
  },
  {
   "cell_type": "code",
   "execution_count": 4,
   "metadata": {
    "tags": []
   },
   "outputs": [
    {
     "name": "stdout",
     "output_type": "stream",
     "text": [
      "-------------------- load training data -------------------\n",
      "Loading data\n",
      "Loading GT FVC - TRAIN split...\n",
      "..Ignoring 0 empty label values\n",
      "Input data.shape: (4928, 26)\n",
      "Loading GT FVC - VALIDATION split...\n",
      "..Ignoring 0 empty label values\n",
      "Input data.shape: (547, 26)\n",
      "Loading GT FVC - TEST split...\n",
      "..Ignoring 0 empty label values\n",
      "Input data.shape: (288, 26)\n",
      "Data loaded\n"
     ]
    }
   ],
   "source": [
    "runner.load_training_data()"
   ]
  },
  {
   "cell_type": "markdown",
   "metadata": {},
   "source": [
    "# Sampling Training Data"
   ]
  },
  {
   "cell_type": "code",
   "execution_count": 5,
   "metadata": {},
   "outputs": [
    {
     "name": "stdout",
     "output_type": "stream",
     "text": [
      "-------------------- sample training data -------------------\n",
      "Not applying subsampling in training data!\n"
     ]
    }
   ],
   "source": [
    "runner.sample_training_data()"
   ]
  },
  {
   "cell_type": "markdown",
   "metadata": {},
   "source": [
    "# Data Balancing"
   ]
  },
  {
   "cell_type": "code",
   "execution_count": 6,
   "metadata": {
    "tags": []
   },
   "outputs": [
    {
     "name": "stdout",
     "output_type": "stream",
     "text": [
      "-------------------- balance input data -------------------\n",
      "Not balancing input_data\n"
     ]
    }
   ],
   "source": [
    "runner.balance_input_data()"
   ]
  },
  {
   "cell_type": "markdown",
   "metadata": {},
   "source": [
    "# Data Generators"
   ]
  },
  {
   "cell_type": "code",
   "execution_count": 7,
   "metadata": {
    "tags": []
   },
   "outputs": [
    {
     "name": "stdout",
     "output_type": "stream",
     "text": [
      "-------------------- setup data generators -------------------\n",
      "Starting data generators\n",
      "Found 4928 validated image filenames.\n",
      "Found 547 validated image filenames.\n",
      "Found 288 validated image filenames.\n",
      "TOTAL: 5763\n",
      "\n",
      "Logging class indices\n",
      " .. MTL model not logging class indices!\n",
      "\n",
      "Logging class labels\n",
      " COMPLIANT label: 1\n",
      " NON_COMPLIANT label: 0\n",
      " DUMMY label: -1\n",
      " DUMMY_CLS label: 2\n",
      " NO_ANSWER label: -99\n"
     ]
    }
   ],
   "source": [
    "runner.setup_data_generators()"
   ]
  },
  {
   "cell_type": "markdown",
   "metadata": {},
   "source": [
    "# Setup Experiment"
   ]
  },
  {
   "cell_type": "code",
   "execution_count": 8,
   "metadata": {},
   "outputs": [
    {
     "name": "stdout",
     "output_type": "stream",
     "text": [
      "-------------------- create experiment -------------------\n",
      "Setup neptune properties and parameters\n",
      "Properties and parameters setup done!\n"
     ]
    }
   ],
   "source": [
    "runner.setup_experiment()"
   ]
  },
  {
   "cell_type": "markdown",
   "metadata": {},
   "source": [
    "# Labels Distribution"
   ]
  },
  {
   "cell_type": "code",
   "execution_count": 9,
   "metadata": {
    "collapsed": true,
    "jupyter": {
     "outputs_hidden": true
    },
    "tags": []
   },
   "outputs": [
    {
     "name": "stdout",
     "output_type": "stream",
     "text": [
      "-------------------- summary labels dist -------------------\n",
      "Requisite: MOUTH\n",
      "N_TRAIN_COMP: 3607 (73.19%)\n",
      "N_TRAIN_NOT_COMP: 1321 (26.81%)\n",
      "N_TRAIN_DUMMY: 0 (0.0%)\n",
      "N_VALIDATION_COMP: 420 (76.78%)\n",
      "N_VALIDATION_NOT_COMP: 127 (23.22%)\n",
      "N_VALIDATION_DUMMY: 0 (0.0%)\n",
      "N_TEST_COMP: 215 (74.65%)\n",
      "N_TEST_NOT_COMP: 73 (25.35%)\n",
      "N_TEST_DUMMY: 0 (0.0%)\n",
      "----\n",
      "Requisite: ROTATION\n",
      "N_TRAIN_COMP: 3716 (75.41%)\n",
      "N_TRAIN_NOT_COMP: 1212 (24.59%)\n",
      "N_TRAIN_DUMMY: 0 (0.0%)\n",
      "N_VALIDATION_COMP: 410 (74.95%)\n",
      "N_VALIDATION_NOT_COMP: 137 (25.05%)\n",
      "N_VALIDATION_DUMMY: 0 (0.0%)\n",
      "N_TEST_COMP: 208 (72.22%)\n",
      "N_TEST_NOT_COMP: 80 (27.78%)\n",
      "N_TEST_DUMMY: 0 (0.0%)\n",
      "----\n",
      "Requisite: L_AWAY\n",
      "N_TRAIN_COMP: 3375 (68.49%)\n",
      "N_TRAIN_NOT_COMP: 1553 (31.51%)\n",
      "N_TRAIN_DUMMY: 0 (0.0%)\n",
      "N_VALIDATION_COMP: 382 (69.84%)\n",
      "N_VALIDATION_NOT_COMP: 165 (30.16%)\n",
      "N_VALIDATION_DUMMY: 0 (0.0%)\n",
      "N_TEST_COMP: 201 (69.79%)\n",
      "N_TEST_NOT_COMP: 87 (30.21%)\n",
      "N_TEST_DUMMY: 0 (0.0%)\n",
      "----\n",
      "Requisite: EYES_CLOSED\n",
      "N_TRAIN_COMP: 3887 (78.88%)\n",
      "N_TRAIN_NOT_COMP: 1041 (21.12%)\n",
      "N_TRAIN_DUMMY: 0 (0.0%)\n",
      "N_VALIDATION_COMP: 441 (80.62%)\n",
      "N_VALIDATION_NOT_COMP: 106 (19.38%)\n",
      "N_VALIDATION_DUMMY: 0 (0.0%)\n",
      "N_TEST_COMP: 233 (80.9%)\n",
      "N_TEST_NOT_COMP: 55 (19.1%)\n",
      "N_TEST_DUMMY: 0 (0.0%)\n",
      "----\n",
      "Requisite: CLOSE\n",
      "N_TRAIN_COMP: 4875 (98.92%)\n",
      "N_TRAIN_NOT_COMP: 53 (1.08%)\n",
      "N_TRAIN_DUMMY: 0 (0.0%)\n",
      "N_VALIDATION_COMP: 541 (98.9%)\n",
      "N_VALIDATION_NOT_COMP: 6 (1.1%)\n",
      "N_VALIDATION_DUMMY: 0 (0.0%)\n",
      "N_TEST_COMP: 286 (99.31%)\n",
      "N_TEST_NOT_COMP: 2 (0.69%)\n",
      "N_TEST_DUMMY: 0 (0.0%)\n",
      "----\n",
      "Requisite: HAT\n",
      "N_TRAIN_COMP: 4230 (85.84%)\n",
      "N_TRAIN_NOT_COMP: 698 (14.16%)\n",
      "N_TRAIN_DUMMY: 0 (0.0%)\n",
      "N_VALIDATION_COMP: 454 (83.0%)\n",
      "N_VALIDATION_NOT_COMP: 93 (17.0%)\n",
      "N_VALIDATION_DUMMY: 0 (0.0%)\n",
      "N_TEST_COMP: 237 (82.29%)\n",
      "N_TEST_NOT_COMP: 51 (17.71%)\n",
      "N_TEST_DUMMY: 0 (0.0%)\n",
      "----\n",
      "Requisite: DARK_GLASSES\n",
      "N_TRAIN_COMP: 4363 (88.53%)\n",
      "N_TRAIN_NOT_COMP: 565 (11.47%)\n",
      "N_TRAIN_DUMMY: 0 (0.0%)\n",
      "N_VALIDATION_COMP: 495 (90.49%)\n",
      "N_VALIDATION_NOT_COMP: 52 (9.51%)\n",
      "N_VALIDATION_DUMMY: 0 (0.0%)\n",
      "N_TEST_COMP: 257 (89.24%)\n",
      "N_TEST_NOT_COMP: 31 (10.76%)\n",
      "N_TEST_DUMMY: 0 (0.0%)\n",
      "----\n",
      "Requisite: FRAMES_HEAVY\n",
      "N_TRAIN_COMP: 4914 (99.72%)\n",
      "N_TRAIN_NOT_COMP: 14 (0.28%)\n",
      "N_TRAIN_DUMMY: 0 (0.0%)\n",
      "N_VALIDATION_COMP: 544 (99.45%)\n",
      "N_VALIDATION_NOT_COMP: 3 (0.55%)\n",
      "N_VALIDATION_DUMMY: 0 (0.0%)\n",
      "N_TEST_COMP: 286 (99.31%)\n",
      "N_TEST_NOT_COMP: 2 (0.69%)\n",
      "N_TEST_DUMMY: 0 (0.0%)\n",
      "----\n",
      "Requisite: FRAME_EYES\n",
      "N_TRAIN_COMP: 3485 (70.72%)\n",
      "N_TRAIN_NOT_COMP: 1443 (29.28%)\n",
      "N_TRAIN_DUMMY: 0 (0.0%)\n",
      "N_VALIDATION_COMP: 395 (72.21%)\n",
      "N_VALIDATION_NOT_COMP: 152 (27.79%)\n",
      "N_VALIDATION_DUMMY: 0 (0.0%)\n",
      "N_TEST_COMP: 204 (70.83%)\n",
      "N_TEST_NOT_COMP: 84 (29.17%)\n",
      "N_TEST_DUMMY: 0 (0.0%)\n",
      "----\n",
      "Requisite: FLASH_LENSES\n",
      "N_TRAIN_COMP: 3894 (79.02%)\n",
      "N_TRAIN_NOT_COMP: 1034 (20.98%)\n",
      "N_TRAIN_DUMMY: 0 (0.0%)\n",
      "N_VALIDATION_COMP: 434 (79.34%)\n",
      "N_VALIDATION_NOT_COMP: 113 (20.66%)\n",
      "N_VALIDATION_DUMMY: 0 (0.0%)\n",
      "N_TEST_COMP: 228 (79.17%)\n",
      "N_TEST_NOT_COMP: 60 (20.83%)\n",
      "N_TEST_DUMMY: 0 (0.0%)\n",
      "----\n",
      "Requisite: VEIL\n",
      "N_TRAIN_COMP: 4616 (93.67%)\n",
      "N_TRAIN_NOT_COMP: 312 (6.33%)\n",
      "N_TRAIN_DUMMY: 0 (0.0%)\n",
      "N_VALIDATION_COMP: 514 (93.97%)\n",
      "N_VALIDATION_NOT_COMP: 33 (6.03%)\n",
      "N_VALIDATION_DUMMY: 0 (0.0%)\n",
      "N_TEST_COMP: 267 (92.71%)\n",
      "N_TEST_NOT_COMP: 21 (7.29%)\n",
      "N_TEST_DUMMY: 0 (0.0%)\n",
      "----\n",
      "Requisite: REFLECTION\n",
      "N_TRAIN_COMP: 2580 (52.35%)\n",
      "N_TRAIN_NOT_COMP: 2348 (47.65%)\n",
      "N_TRAIN_DUMMY: 0 (0.0%)\n",
      "N_VALIDATION_COMP: 282 (51.55%)\n",
      "N_VALIDATION_NOT_COMP: 265 (48.45%)\n",
      "N_VALIDATION_DUMMY: 0 (0.0%)\n",
      "N_TEST_COMP: 156 (54.17%)\n",
      "N_TEST_NOT_COMP: 132 (45.83%)\n",
      "N_TEST_DUMMY: 0 (0.0%)\n",
      "----\n",
      "Requisite: LIGHT\n",
      "N_TRAIN_COMP: 4527 (91.86%)\n",
      "N_TRAIN_NOT_COMP: 401 (8.14%)\n",
      "N_TRAIN_DUMMY: 0 (0.0%)\n",
      "N_VALIDATION_COMP: 505 (92.32%)\n",
      "N_VALIDATION_NOT_COMP: 42 (7.68%)\n",
      "N_VALIDATION_DUMMY: 0 (0.0%)\n",
      "N_TEST_COMP: 265 (92.01%)\n",
      "N_TEST_NOT_COMP: 23 (7.99%)\n",
      "N_TEST_DUMMY: 0 (0.0%)\n",
      "----\n",
      "Requisite: SH_FACE\n",
      "N_TRAIN_COMP: 3034 (61.57%)\n",
      "N_TRAIN_NOT_COMP: 1894 (38.43%)\n",
      "N_TRAIN_DUMMY: 0 (0.0%)\n",
      "N_VALIDATION_COMP: 342 (62.52%)\n",
      "N_VALIDATION_NOT_COMP: 205 (37.48%)\n",
      "N_VALIDATION_DUMMY: 0 (0.0%)\n",
      "N_TEST_COMP: 180 (62.5%)\n",
      "N_TEST_NOT_COMP: 108 (37.5%)\n",
      "N_TEST_DUMMY: 0 (0.0%)\n",
      "----\n",
      "Requisite: SH_HEAD\n",
      "N_TRAIN_COMP: 3103 (62.97%)\n",
      "N_TRAIN_NOT_COMP: 1825 (37.03%)\n",
      "N_TRAIN_DUMMY: 0 (0.0%)\n",
      "N_VALIDATION_COMP: 345 (63.07%)\n",
      "N_VALIDATION_NOT_COMP: 202 (36.93%)\n",
      "N_VALIDATION_DUMMY: 0 (0.0%)\n",
      "N_TEST_COMP: 185 (64.24%)\n",
      "N_TEST_NOT_COMP: 103 (35.76%)\n",
      "N_TEST_DUMMY: 0 (0.0%)\n",
      "----\n",
      "Requisite: BLURRED\n",
      "N_TRAIN_COMP: 4342 (88.11%)\n",
      "N_TRAIN_NOT_COMP: 586 (11.89%)\n",
      "N_TRAIN_DUMMY: 0 (0.0%)\n",
      "N_VALIDATION_COMP: 504 (92.14%)\n",
      "N_VALIDATION_NOT_COMP: 43 (7.86%)\n",
      "N_VALIDATION_DUMMY: 0 (0.0%)\n",
      "N_TEST_COMP: 253 (87.85%)\n",
      "N_TEST_NOT_COMP: 35 (12.15%)\n",
      "N_TEST_DUMMY: 0 (0.0%)\n",
      "----\n",
      "Requisite: INK_MARK\n",
      "N_TRAIN_COMP: 4928 (100.0%)\n",
      "N_TRAIN_NOT_COMP: 0 (0.0%)\n",
      "N_TRAIN_DUMMY: 0 (0.0%)\n",
      "N_VALIDATION_COMP: 547 (100.0%)\n",
      "N_VALIDATION_NOT_COMP: 0 (0.0%)\n",
      "N_VALIDATION_DUMMY: 0 (0.0%)\n",
      "N_TEST_COMP: 288 (100.0%)\n",
      "N_TEST_NOT_COMP: 0 (0.0%)\n",
      "N_TEST_DUMMY: 0 (0.0%)\n",
      "----\n",
      "Requisite: SKIN_TONE\n",
      "N_TRAIN_COMP: 2767 (56.15%)\n",
      "N_TRAIN_NOT_COMP: 2161 (43.85%)\n",
      "N_TRAIN_DUMMY: 0 (0.0%)\n",
      "N_VALIDATION_COMP: 313 (57.22%)\n",
      "N_VALIDATION_NOT_COMP: 234 (42.78%)\n",
      "N_VALIDATION_DUMMY: 0 (0.0%)\n",
      "N_TEST_COMP: 173 (60.07%)\n",
      "N_TEST_NOT_COMP: 115 (39.93%)\n",
      "N_TEST_DUMMY: 0 (0.0%)\n",
      "----\n",
      "Requisite: WASHED_OUT\n",
      "N_TRAIN_COMP: 4885 (99.13%)\n",
      "N_TRAIN_NOT_COMP: 43 (0.87%)\n",
      "N_TRAIN_DUMMY: 0 (0.0%)\n",
      "N_VALIDATION_COMP: 544 (99.45%)\n",
      "N_VALIDATION_NOT_COMP: 3 (0.55%)\n",
      "N_VALIDATION_DUMMY: 0 (0.0%)\n",
      "N_TEST_COMP: 284 (98.61%)\n",
      "N_TEST_NOT_COMP: 4 (1.39%)\n",
      "N_TEST_DUMMY: 0 (0.0%)\n",
      "----\n",
      "Requisite: PIXELATION\n",
      "N_TRAIN_COMP: 4592 (93.18%)\n",
      "N_TRAIN_NOT_COMP: 336 (6.82%)\n",
      "N_TRAIN_DUMMY: 0 (0.0%)\n",
      "N_VALIDATION_COMP: 516 (94.33%)\n",
      "N_VALIDATION_NOT_COMP: 31 (5.67%)\n",
      "N_VALIDATION_DUMMY: 0 (0.0%)\n",
      "N_TEST_COMP: 262 (90.97%)\n",
      "N_TEST_NOT_COMP: 26 (9.03%)\n",
      "N_TEST_DUMMY: 0 (0.0%)\n",
      "----\n",
      "Requisite: HAIR_EYES\n",
      "N_TRAIN_COMP: 4027 (81.72%)\n",
      "N_TRAIN_NOT_COMP: 901 (18.28%)\n",
      "N_TRAIN_DUMMY: 0 (0.0%)\n",
      "N_VALIDATION_COMP: 439 (80.26%)\n",
      "N_VALIDATION_NOT_COMP: 108 (19.74%)\n",
      "N_VALIDATION_DUMMY: 0 (0.0%)\n",
      "N_TEST_COMP: 238 (82.64%)\n",
      "N_TEST_NOT_COMP: 50 (17.36%)\n",
      "N_TEST_DUMMY: 0 (0.0%)\n",
      "----\n",
      "Requisite: BACKGROUND\n",
      "N_TRAIN_COMP: 2732 (55.44%)\n",
      "N_TRAIN_NOT_COMP: 2196 (44.56%)\n",
      "N_TRAIN_DUMMY: 0 (0.0%)\n",
      "N_VALIDATION_COMP: 325 (59.41%)\n",
      "N_VALIDATION_NOT_COMP: 222 (40.59%)\n",
      "N_VALIDATION_DUMMY: 0 (0.0%)\n",
      "N_TEST_COMP: 154 (53.47%)\n",
      "N_TEST_NOT_COMP: 134 (46.53%)\n",
      "N_TEST_DUMMY: 0 (0.0%)\n",
      "----\n",
      "Requisite: RED_EYES\n",
      "N_TRAIN_COMP: 3859 (78.31%)\n",
      "N_TRAIN_NOT_COMP: 1069 (21.69%)\n",
      "N_TRAIN_DUMMY: 0 (0.0%)\n",
      "N_VALIDATION_COMP: 437 (79.89%)\n",
      "N_VALIDATION_NOT_COMP: 110 (20.11%)\n",
      "N_VALIDATION_DUMMY: 0 (0.0%)\n",
      "N_TEST_COMP: 233 (80.9%)\n",
      "N_TEST_NOT_COMP: 55 (19.1%)\n",
      "N_TEST_DUMMY: 0 (0.0%)\n",
      "----\n"
     ]
    }
   ],
   "source": [
    "runner.summary_labels_dist()"
   ]
  },
  {
   "cell_type": "raw",
   "metadata": {},
   "source": [
    "runner.train_data.origin.hist()"
   ]
  },
  {
   "cell_type": "markdown",
   "metadata": {},
   "source": [
    "# Create Model"
   ]
  },
  {
   "cell_type": "code",
   "execution_count": 11,
   "metadata": {
    "tags": []
   },
   "outputs": [
    {
     "name": "stdout",
     "output_type": "stream",
     "text": [
      " ==> Restrict GPU memory growth: True\n",
      "-------------------- create model -------------------\n",
      "Not creating a model: not training a model! \n"
     ]
    }
   ],
   "source": [
    "runner.create_model()"
   ]
  },
  {
   "cell_type": "markdown",
   "metadata": {},
   "source": [
    "# Vizualize Model"
   ]
  },
  {
   "cell_type": "raw",
   "metadata": {
    "tags": []
   },
   "source": [
    "runner.visualize_model(outfile_path=f\"figs/handcrafted_mtl_model_3.png\")"
   ]
  },
  {
   "cell_type": "code",
   "execution_count": 12,
   "metadata": {
    "tags": []
   },
   "outputs": [
    {
     "name": "stdout",
     "output_type": "stream",
     "text": [
      "Not training a model!\n"
     ]
    }
   ],
   "source": [
    "runner.model_summary()"
   ]
  },
  {
   "cell_type": "markdown",
   "metadata": {},
   "source": [
    "# Training Model"
   ]
  },
  {
   "cell_type": "code",
   "execution_count": 13,
   "metadata": {
    "collapsed": true,
    "jupyter": {
     "outputs_hidden": true
    },
    "tags": []
   },
   "outputs": [
    {
     "name": "stdout",
     "output_type": "stream",
     "text": [
      "-------------------- train model -------------------\n",
      "Not training a model. Downloading data from Neptune\n",
      " ..Experiment ID: ICAO-320\n",
      " ..Downloading data from previous experiment\n",
      "https://app.neptune.ai/guilhermemg/icao-nets-training-2/e/ICAO-320\n",
      "Remember to stop your run once you’ve finished logging your metadata (https://docs.neptune.ai/api-reference/run#.stop). It will be stopped automatically only when the notebook kernel/interactive console is terminated.\n",
      " ..Requisite: ICAO_REQ.MOUTH\n",
      " ..Download finished\n",
      " ..Upload data to current experiment\n",
      " ..Requisite: ICAO_REQ.ROTATION\n",
      " ..Download finished\n",
      " ..Upload data to current experiment\n",
      " ..Requisite: ICAO_REQ.L_AWAY\n",
      " ..Download finished\n",
      " ..Upload data to current experiment\n",
      " ..Requisite: ICAO_REQ.EYES_CLOSED\n",
      " ..Download finished\n",
      " ..Upload data to current experiment\n",
      " ..Requisite: ICAO_REQ.CLOSE\n",
      " ..Download finished\n",
      " ..Upload data to current experiment\n",
      " ..Requisite: ICAO_REQ.HAT\n",
      " ..Download finished\n",
      " ..Upload data to current experiment\n",
      " ..Requisite: ICAO_REQ.DARK_GLASSES\n",
      " ..Download finished\n",
      " ..Upload data to current experiment\n",
      " ..Requisite: ICAO_REQ.FRAMES_HEAVY\n",
      " ..Download finished\n",
      " ..Upload data to current experiment\n",
      " ..Requisite: ICAO_REQ.FRAME_EYES\n",
      " ..Download finished\n",
      " ..Upload data to current experiment\n",
      " ..Requisite: ICAO_REQ.FLASH_LENSES\n",
      " ..Download finished\n",
      " ..Upload data to current experiment\n",
      " ..Requisite: ICAO_REQ.VEIL\n",
      " ..Download finished\n",
      " ..Upload data to current experiment\n",
      " ..Requisite: ICAO_REQ.REFLECTION\n",
      " ..Download finished\n",
      " ..Upload data to current experiment\n",
      " ..Requisite: ICAO_REQ.LIGHT\n",
      " ..Download finished\n",
      " ..Upload data to current experiment\n",
      " ..Requisite: ICAO_REQ.SHADOW_FACE\n",
      " ..Download finished\n",
      " ..Upload data to current experiment\n",
      " ..Requisite: ICAO_REQ.SHADOW_HEAD\n",
      " ..Download finished\n",
      " ..Upload data to current experiment\n",
      " ..Requisite: ICAO_REQ.BLURRED\n",
      " ..Download finished\n",
      " ..Upload data to current experiment\n",
      " ..Requisite: ICAO_REQ.INK_MARK\n",
      " ..Download finished\n",
      " ..Upload data to current experiment\n",
      " ..Requisite: ICAO_REQ.SKIN_TONE\n",
      " ..Download finished\n",
      " ..Upload data to current experiment\n",
      " ..Requisite: ICAO_REQ.WASHED_OUT\n",
      " ..Download finished\n",
      " ..Upload data to current experiment\n",
      " ..Requisite: ICAO_REQ.PIXELATION\n",
      " ..Download finished\n",
      " ..Upload data to current experiment\n",
      " ..Requisite: ICAO_REQ.HAIR_EYES\n",
      " ..Download finished\n",
      " ..Upload data to current experiment\n",
      " ..Requisite: ICAO_REQ.BACKGROUND\n",
      " ..Download finished\n",
      " ..Upload data to current experiment\n",
      " ..Requisite: ICAO_REQ.RED_EYES\n",
      " ..Download finished\n",
      " ..Upload data to current experiment\n",
      " ..Upload finished\n",
      "Shutting down background jobs, please wait a moment...\n",
      "Done!\n",
      "Waiting for the remaining 13 operations to synchronize with Neptune. Do not kill this process.\n",
      "All 13 operations synced, thanks for waiting!\n",
      "Explore the metadata in the Neptune app:\n",
      "https://app.neptune.ai/guilhermemg/icao-nets-training-2/e/ICAO-320\n"
     ]
    }
   ],
   "source": [
    "runner.train_model()"
   ]
  },
  {
   "cell_type": "markdown",
   "metadata": {},
   "source": [
    "# Plots"
   ]
  },
  {
   "cell_type": "code",
   "execution_count": 14,
   "metadata": {
    "tags": []
   },
   "outputs": [
    {
     "name": "stdout",
     "output_type": "stream",
     "text": [
      "-------------------- draw training history -------------------\n",
      "Not training a model. Downloading plot from Neptune\n",
      " ..Experiment ID: ICAO-320\n",
      " ..Downloading plot from previous experiment\n",
      "https://app.neptune.ai/guilhermemg/icao-nets-training-2/e/ICAO-320\n",
      "Remember to stop your run once you’ve finished logging your metadata (https://docs.neptune.ai/api-reference/run#.stop). It will be stopped automatically only when the notebook kernel/interactive console is terminated.\n",
      " ..Download finished\n",
      " ..Uploading plot\n",
      " ..Upload finished\n",
      "Shutting down background jobs, please wait a moment...\n",
      "Done!\n",
      "Waiting for the remaining 12 operations to synchronize with Neptune. Do not kill this process.\n",
      "All 12 operations synced, thanks for waiting!\n",
      "Explore the metadata in the Neptune app:\n",
      "https://app.neptune.ai/guilhermemg/icao-nets-training-2/e/ICAO-320\n"
     ]
    }
   ],
   "source": [
    "runner.draw_training_history()"
   ]
  },
  {
   "cell_type": "markdown",
   "metadata": {},
   "source": [
    "# Load Best Model"
   ]
  },
  {
   "cell_type": "code",
   "execution_count": 15,
   "metadata": {},
   "outputs": [
    {
     "name": "stdout",
     "output_type": "stream",
     "text": [
      "-------------------- load best model -------------------\n",
      "..Loading best model\n",
      "WARNING:tensorflow:SavedModel saved prior to TF 2.5 detected when loading Keras model. Please ensure that you are saving the model with model.save() or tf.keras.models.save_model(), *NOT* tf.saved_model.save(). To confirm, there should be a file named \"keras_metadata.pb\" in the SavedModel directory.\n",
      "..Model loaded\n",
      "...Model path: prev_trained_models/multi_task/fvc_not_aligned/multi_reqs/ICAO-320\n"
     ]
    }
   ],
   "source": [
    "runner.load_best_model()"
   ]
  },
  {
   "cell_type": "markdown",
   "metadata": {},
   "source": [
    "# Saving Trained Model"
   ]
  },
  {
   "cell_type": "code",
   "execution_count": 16,
   "metadata": {},
   "outputs": [
    {
     "name": "stdout",
     "output_type": "stream",
     "text": [
      "-------------------- save model -------------------\n",
      "Saving model\n"
     ]
    },
    {
     "name": "stderr",
     "output_type": "stream",
     "text": [
      "/home/guilherme/anaconda3/envs/mteval-icao-reqs/submodules/icao_nets_training/lib/python3.8/site-packages/tensorflow/python/keras/utils/generic_utils.py:494: CustomMaskWarning: Custom mask layers require a config and must override get_config. When loading, the custom mask layer must be passed to the custom_objects argument.\n",
      "  warnings.warn('Custom mask layers require a config and must override '\n"
     ]
    },
    {
     "name": "stdout",
     "output_type": "stream",
     "text": [
      "INFO:tensorflow:Assets written to: prev_trained_models/multi_task/fvc_not_aligned/multi_reqs/ICAO-320/assets\n",
      "..Model saved\n",
      "...Model path: prev_trained_models/multi_task/fvc_not_aligned/multi_reqs/ICAO-320\n",
      "Saving model to neptune\n",
      " ..Uploading file trained_model.zip\n",
      "Model saved into Neptune\n",
      "Saving process finished\n"
     ]
    }
   ],
   "source": [
    "runner.save_model()"
   ]
  },
  {
   "cell_type": "markdown",
   "metadata": {},
   "source": [
    "# Test Trained Model"
   ]
  },
  {
   "cell_type": "markdown",
   "metadata": {},
   "source": [
    "## Validation Split"
   ]
  },
  {
   "cell_type": "code",
   "execution_count": 17,
   "metadata": {
    "tags": []
   },
   "outputs": [
    {
     "name": "stdout",
     "output_type": "stream",
     "text": [
      "Testing Trained Model\n",
      "Predicting labels....\n",
      "18/18 [==============================] - 33s 2s/step\n",
      "Prediction finished!\n"
     ]
    },
    {
     "name": "stderr",
     "output_type": "stream",
     "text": [
      "/home/guilherme/anaconda3/envs/mteval-icao-reqs/submodules/icao_nets_training/lib/python3.8/site-packages/sklearn/metrics/_ranking.py:803: UndefinedMetricWarning: No negative samples in y_true, false positive value should be meaningless\n",
      "  warnings.warn(\"No negative samples in y_true, \"\n"
     ]
    },
    {
     "name": "stdout",
     "output_type": "stream",
     "text": [
      "  Task  0: mouth           | EER_mean: 0.39370 | EER_interp: 0.39560 | ACC: 0.60330\n",
      "  Task  1: rotation        | EER_mean: 0.39020 | EER_interp: 0.39220 | ACC: 0.60880\n",
      "  Task  2: l_away          | EER_mean: 0.38180 | EER_interp: 0.38200 | ACC: 0.61790\n",
      "  Task  3: eyes_closed     | EER_mean: 0.39000 | EER_interp: 0.38840 | ACC: 0.61060\n",
      "  Task  4: close           | EER_mean: 0.16670 | EER_interp: 0.20530 | ACC: 0.75690\n",
      "  Task  5: hat             | EER_mean: 0.31180 | EER_interp: 0.31340 | ACC: 0.68560\n",
      "  Task  6: dark_glasses    | EER_mean: 0.26060 | EER_interp: 0.25530 | ACC: 0.74040\n",
      "  Task  7: frames_heavy    | EER_mean: 0.12500 | EER_interp: 0.00000 | ACC: 0.87570\n",
      "  Task  8: frame_eyes      | EER_mean: 0.34870 | EER_interp: 0.34900 | ACC: 0.65080\n",
      "  Task  9: flash_lenses    | EER_mean: 0.49080 | EER_interp: 0.48880 | ACC: 0.51010\n",
      "  Task 10: veil            | EER_mean: 0.21210 | EER_interp: 0.21700 | ACC: 0.77880\n",
      "  Task 11: reflection      | EER_mean: 0.46100 | EER_interp: 0.46070 | ACC: 0.53930\n",
      "  Task 12: light           | EER_mean: 0.33330 | EER_interp: 0.33300 | ACC: 0.66730\n",
      "  Task 13: sh_face         | EER_mean: 0.38890 | EER_interp: 0.38470 | ACC: 0.61430\n",
      "  Task 14: sh_head         | EER_mean: 0.32180 | EER_interp: 0.31740 | ACC: 0.68370\n",
      "  Task 15: blurred         | EER_mean: 0.26790 | EER_interp: 0.26190 | ACC: 0.73310\n",
      "  Task 16: skin_tone       | EER_mean: 0.00000 | EER_interp: 0.00000 | ACC: 1.00000\n",
      "  Task 17: washed_out      | EER_mean: 0.43450 | EER_interp: 0.43520 | ACC: 0.56490\n",
      "  Task 18: pixelation      | EER_mean: 0.54350 | EER_interp: 0.48650 | ACC: 0.36200\n",
      "  Task 19: hair_eyes       | EER_mean: 0.30670 | EER_interp: 0.31080 | ACC: 0.67090\n",
      "  Task 20: background      | EER_mean: 0.31480 | EER_interp: 0.31230 | ACC: 0.68920\n",
      "  Task 21: red_eyes        | EER_mean: 0.39190 | EER_interp: 0.39290 | ACC: 0.60690\n",
      "final_EER_mean: 32.19% | final_ACC: 66.23%\n"
     ]
    },
    {
     "name": "stderr",
     "output_type": "stream",
     "text": [
      "Error occurred during asynchronous operation processing: Value of float attribute cannot be malformed.\n"
     ]
    }
   ],
   "source": [
    "#import neptune.new as neptune\n",
    "#old_neptune_run = runner.neptune_utils.neptune_run\n",
    "#runner.model_evaluator.neptune_run = neptune.init(run='ICAO-239')\n",
    "#runner.config_interp.use_neptune = True\n",
    "\n",
    "runner.set_model_evaluator_data_src(DataSource.VALIDATION)\n",
    "runner.test_model(verbose=False)"
   ]
  },
  {
   "cell_type": "markdown",
   "metadata": {},
   "source": [
    "## Test Split"
   ]
  },
  {
   "cell_type": "code",
   "execution_count": 18,
   "metadata": {
    "tags": []
   },
   "outputs": [
    {
     "name": "stdout",
     "output_type": "stream",
     "text": [
      "Testing Trained Model\n",
      "Predicting labels....\n",
      "9/9 [==============================] - 16s 2s/step\n",
      "Prediction finished!\n",
      "  Task  0: mouth           | EER_mean: 0.46510 | EER_interp: 0.45860 | ACC: 0.53820\n",
      "  Task  1: rotation        | EER_mean: 0.40000 | EER_interp: 0.40680 | ACC: 0.59030\n",
      "  Task  2: l_away          | EER_mean: 0.35820 | EER_interp: 0.35720 | ACC: 0.64240\n",
      "  Task  3: eyes_closed     | EER_mean: 0.37340 | EER_interp: 0.36850 | ACC: 0.62850\n",
      "  Task  4: close           | EER_mean: 0.44410 | EER_interp: 0.00000 | ACC: 0.00690\n",
      "  Task  5: hat             | EER_mean: 0.33330 | EER_interp: 0.32910 | ACC: 0.67360\n",
      "  Task  6: dark_glasses    | EER_mean: 0.16340 | EER_interp: 0.16240 | ACC: 0.83680\n",
      "  Task  7: frames_heavy    | EER_mean: 0.03850 | EER_interp: 0.00000 | ACC: 0.96180\n",
      "  Task  8: frame_eyes      | EER_mean: 0.33330 | EER_interp: 0.33080 | ACC: 0.67010\n",
      "  Task  9: flash_lenses    | EER_mean: 0.46050 | EER_interp: 0.45520 | ACC: 0.54170\n",
      "  Task 10: veil            | EER_mean: 0.19050 | EER_interp: 0.15700 | ACC: 0.87150\n",
      "  Task 11: reflection      | EER_mean: 0.44870 | EER_interp: 0.44780 | ACC: 0.55210\n",
      "  Task 12: light           | EER_mean: 0.30190 | EER_interp: 0.28140 | ACC: 0.70140\n",
      "  Task 13: sh_face         | EER_mean: 0.42590 | EER_interp: 0.42960 | ACC: 0.56940\n",
      "  Task 14: sh_head         | EER_mean: 0.32970 | EER_interp: 0.32500 | ACC: 0.67360\n",
      "  Task 15: blurred         | EER_mean: 0.25710 | EER_interp: 0.21750 | ACC: 0.81250\n",
      "  Task 16: skin_tone       | EER_mean: 0.00000 | EER_interp: 0.00000 | ACC: 1.00000\n",
      "  Task 17: washed_out      | EER_mean: 0.38260 | EER_interp: 0.38790 | ACC: 0.61110\n",
      "  Task 18: pixelation      | EER_mean: 0.55210 | EER_interp: 0.44900 | ACC: 0.35760\n",
      "  Task 19: hair_eyes       | EER_mean: 0.43290 | EER_interp: 0.42350 | ACC: 0.60760\n",
      "  Task 20: background      | EER_mean: 0.38000 | EER_interp: 0.38540 | ACC: 0.61110\n",
      "  Task 21: red_eyes        | EER_mean: 0.41790 | EER_interp: 0.41680 | ACC: 0.58330\n",
      "final_EER_mean: 30.86% | final_ACC: 63.83%\n"
     ]
    },
    {
     "name": "stderr",
     "output_type": "stream",
     "text": [
      "Error occurred during asynchronous operation processing: Value of float attribute cannot be malformed.\n"
     ]
    }
   ],
   "source": [
    "runner.set_model_evaluator_data_src(DataSource.TEST)\n",
    "runner.test_model(verbose=False)"
   ]
  },
  {
   "cell_type": "raw",
   "metadata": {},
   "source": [
    "runner.config_interp.use_neptune = False\n",
    "runner.model_evaluator.neptune_run.stop()"
   ]
  },
  {
   "cell_type": "markdown",
   "metadata": {},
   "source": [
    "# Visualize Model Classification"
   ]
  },
  {
   "cell_type": "raw",
   "metadata": {},
   "source": [
    "runner.visualize_predictions()"
   ]
  },
  {
   "cell_type": "markdown",
   "metadata": {},
   "source": [
    "# Finishing Experiment Manager"
   ]
  },
  {
   "cell_type": "code",
   "execution_count": 19,
   "metadata": {
    "tags": []
   },
   "outputs": [
    {
     "name": "stdout",
     "output_type": "stream",
     "text": [
      "-------------------- finish experiment -------------------\n",
      "Finishing Neptune\n",
      "Shutting down background jobs, please wait a moment...\n",
      "Done!\n",
      "Waiting for the remaining 5 operations to synchronize with Neptune. Do not kill this process.\n",
      "All 5 operations synced, thanks for waiting!\n",
      "Explore the metadata in the Neptune app:\n",
      "https://app.neptune.ai/guilhermemg/icao-nets-training-2/e/ICAO-343\n"
     ]
    }
   ],
   "source": [
    "runner.finish_experiment()"
   ]
  }
 ],
 "metadata": {
  "interpreter": {
   "hash": "85f5044ba23e75135dc4c908fd4d7609c1c80b195047fdb4d16ee0e66a953254"
  },
  "kernelspec": {
   "display_name": "Python 3 (ipykernel)",
   "language": "python",
   "name": "python3"
  },
  "language_info": {
   "codemirror_mode": {
    "name": "ipython",
    "version": 3
   },
   "file_extension": ".py",
   "mimetype": "text/x-python",
   "name": "python",
   "nbconvert_exporter": "python",
   "pygments_lexer": "ipython3",
   "version": "3.8.0"
  },
  "neptune": {
   "notebookId": "d6d95e8a-b251-40a1-bf9d-610ebc484f63"
  },
  "toc-autonumbering": true
 },
 "nbformat": 4,
 "nbformat_minor": 4
}

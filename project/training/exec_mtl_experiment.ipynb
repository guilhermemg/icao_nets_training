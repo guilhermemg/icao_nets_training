{
 "cells": [
  {
   "cell_type": "markdown",
   "metadata": {},
   "source": [
    "# Import Libraries"
   ]
  },
  {
   "cell_type": "code",
   "execution_count": 1,
   "metadata": {},
   "outputs": [],
   "source": [
    "%load_ext autoreload\n",
    "%autoreload 2"
   ]
  },
  {
   "cell_type": "code",
   "execution_count": 2,
   "metadata": {},
   "outputs": [],
   "source": [
    "import os\n",
    "# disable tensorflow log level infos\n",
    "os.environ['TF_CPP_MIN_LOG_LEVEL'] = '2' # show only errors\n",
    "\n",
    "import sys\n",
    "import pandas as pd\n",
    "\n",
    "if '..' not in sys.path:\n",
    "    sys.path.insert(0,'..')"
   ]
  },
  {
   "cell_type": "code",
   "execution_count": 3,
   "metadata": {},
   "outputs": [
    {
     "name": "stdout",
     "output_type": "stream",
     "text": [
      " ==> Restrict GPU memory growth: True\n"
     ]
    }
   ],
   "source": [
    "from src.base.data_loaders.data_loader import DLName\n",
    "from src.base.gt_loaders.gt_names import GTName\n",
    "\n",
    "from src.base.experiment.training.base_models import BaseModel\n",
    "from src.base.experiment.training.model_creator import Optimizer\n",
    "\n",
    "from src.base.experiment.dataset.benchmark_dataset import BenchmarkDataset\n",
    "from src.base.experiment.evaluation.model_evaluator import DataSource, DataPredSelection\n",
    "\n",
    "from src.exp_runner import ExperimentRunner\n",
    "\n",
    "from src.m_utils.mtl_approach import MTLApproach\n",
    "\n",
    "from src.base.experiment.tasks.task import ICAO_REQ\n",
    "from src.base.experiment.tasks.task import MNIST_TASK\n",
    "from src.base.experiment.tasks.task import FASHION_MNIST_TASK\n",
    "from src.base.experiment.tasks.task import CIFAR_10_TASK\n",
    "from src.base.experiment.tasks.task import CELEB_A_TASK"
   ]
  },
  {
   "cell_type": "markdown",
   "metadata": {},
   "source": [
    "# Start Network runner"
   ]
  },
  {
   "cell_type": "code",
   "execution_count": 4,
   "metadata": {
    "tags": []
   },
   "outputs": [
    {
     "name": "stdout",
     "output_type": "stream",
     "text": [
      "-------------------- Init ExperimentRunner -------------------\n",
      "---------------------------\n",
      "Parent Process ID: 90559\n",
      "Process ID: 100938\n",
      "---------------------------\n",
      "-----\n",
      "Use Neptune:  False\n",
      "-----\n",
      "-------------------\n",
      "Args: \n",
      "{'exp_params': {'description': 'Training MTL network for FVC-ICOA tasks with '\n",
      "                               'Handcrafted 3 network architecture',\n",
      "                'name': 'train_vg16_mtl_3_approach',\n",
      "                'src_files': ['../src/**/*.py'],\n",
      "                'tags': ['mtl',\n",
      "                         'handcrafted_3',\n",
      "                         'handcrafted_3_exp',\n",
      "                         'fvc',\n",
      "                         'ground_truths',\n",
      "                         '200 epochs']},\n",
      " 'nas_params': {},\n",
      " 'net_train_params': {'base_model': <BaseModel.VGG16: {'name': 'vgg16', 'target_size': (224, 224), 'prep_function': <function preprocess_input at 0x7f1030175790>}>,\n",
      "                      'batch_size': 32,\n",
      "                      'dropout': 0.3,\n",
      "                      'early_stopping': 200,\n",
      "                      'learning_rate': 0.001,\n",
      "                      'n_epochs': 1,\n",
      "                      'optimizer': <Optimizer.ADAMAX: 'Adamax'>},\n",
      " 'properties': {'approach': <MTLApproach.HAND_3: 'handcrafted_3'>,\n",
      "                'balance_input_data': False,\n",
      "                'benchmarking': {'benchmark_dataset': <BenchmarkDataset.MNIST: {'name': 'mnist', 'target_cols': ['n_0', 'n_1', 'n_2', 'n_3', 'n_4', 'n_5', 'n_6', 'n_7', 'n_8', 'n_9']}>,\n",
      "                                 'tasks': [<MNIST_TASK.N_0: 'n_0'>,\n",
      "                                           <MNIST_TASK.N_1: 'n_1'>,\n",
      "                                           <MNIST_TASK.N_2: 'n_2'>,\n",
      "                                           <MNIST_TASK.N_3: 'n_3'>,\n",
      "                                           <MNIST_TASK.N_4: 'n_4'>,\n",
      "                                           <MNIST_TASK.N_5: 'n_5'>,\n",
      "                                           <MNIST_TASK.N_6: 'n_6'>,\n",
      "                                           <MNIST_TASK.N_7: 'n_7'>,\n",
      "                                           <MNIST_TASK.N_8: 'n_8'>,\n",
      "                                           <MNIST_TASK.N_9: 'n_9'>],\n",
      "                                 'use_benchmark_data': False},\n",
      "                'exec_nas': False,\n",
      "                'icao_data': {'aligned': False,\n",
      "                              'icao_dl': {'tagger_model': None,\n",
      "                                          'use_dl_data': False},\n",
      "                              'icao_gt': {'gt_names': {'test': [],\n",
      "                                                       'train_validation': [],\n",
      "                                                       'train_validation_test': [<GTName.FVC: 'fvc'>]},\n",
      "                                          'use_gt_data': True},\n",
      "                              'reqs': [<ICAO_REQ.MOUTH: 'mouth'>,\n",
      "                                       <ICAO_REQ.ROTATION: 'rotation'>,\n",
      "                                       <ICAO_REQ.L_AWAY: 'l_away'>,\n",
      "                                       <ICAO_REQ.EYES_CLOSED: 'eyes_closed'>,\n",
      "                                       <ICAO_REQ.CLOSE: 'close'>,\n",
      "                                       <ICAO_REQ.HAT: 'hat'>,\n",
      "                                       <ICAO_REQ.DARK_GLASSES: 'dark_glasses'>,\n",
      "                                       <ICAO_REQ.FRAMES_HEAVY: 'frames_heavy'>,\n",
      "                                       <ICAO_REQ.FRAME_EYES: 'frame_eyes'>,\n",
      "                                       <ICAO_REQ.FLASH_LENSES: 'flash_lenses'>,\n",
      "                                       <ICAO_REQ.VEIL: 'veil'>,\n",
      "                                       <ICAO_REQ.REFLECTION: 'reflection'>,\n",
      "                                       <ICAO_REQ.LIGHT: 'light'>,\n",
      "                                       <ICAO_REQ.SHADOW_FACE: 'sh_face'>,\n",
      "                                       <ICAO_REQ.SHADOW_HEAD: 'sh_head'>,\n",
      "                                       <ICAO_REQ.BLURRED: 'blurred'>,\n",
      "                                       <ICAO_REQ.INK_MARK: 'ink_mark'>,\n",
      "                                       <ICAO_REQ.SKIN_TONE: 'skin_tone'>,\n",
      "                                       <ICAO_REQ.WASHED_OUT: 'washed_out'>,\n",
      "                                       <ICAO_REQ.PIXELATION: 'pixelation'>,\n",
      "                                       <ICAO_REQ.HAIR_EYES: 'hair_eyes'>,\n",
      "                                       <ICAO_REQ.BACKGROUND: 'background'>,\n",
      "                                       <ICAO_REQ.RED_EYES: 'red_eyes'>]},\n",
      "                'orig_model_experiment_id': '',\n",
      "                'sample_prop': 1.0,\n",
      "                'sample_training_data': False,\n",
      "                'save_trained_model': False,\n",
      "                'train_model': True},\n",
      " 'use_neptune': False}\n",
      "-------------------\n",
      "----\n",
      "Base Model Name:  BaseModel.VGG16\n",
      "----\n",
      "MTL Model: True\n",
      "Approach: MTLApproach.HAND_3\n",
      "----\n",
      "--------------------  starting neptune  -------------------\n",
      "Not using Neptune to record Experiment Metadata\n",
      "----\n",
      "Checking model existence locally...\n",
      "Training a new model! Not checking model existence\n",
      "----\n",
      "------------------------------\n",
      "Checking GPU availability\n",
      " ..GPU is available!\n",
      "------------------------------\n"
     ]
    }
   ],
   "source": [
    "kwargs = { \n",
    "    'use_neptune': False,\n",
    "    'exp_params' : {\n",
    "        'name': 'train_vg16_mtl_3_approach',\n",
    "        'description': 'Training MTL network for FVC-ICOA tasks with Handcrafted 3 network architecture',\n",
    "        'tags': ['mtl', 'handcrafted_3', 'handcrafted_3_exp', 'fvc', 'ground_truths', '200 epochs'],\n",
    "        'src_files': [\"../src/**/*.py\"]\n",
    "    },\n",
    "    'properties': {\n",
    "        'approach': MTLApproach.HAND_3,\n",
    "        'benchmarking': {\n",
    "            'use_benchmark_data': False,\n",
    "            'benchmark_dataset': BenchmarkDataset.MNIST,\n",
    "            'tasks': list(MNIST_TASK)\n",
    "        },\n",
    "        'icao_data': {\n",
    "            'icao_gt': {\n",
    "                'use_gt_data': True,\n",
    "                'gt_names': {\n",
    "                    'train_validation': [],\n",
    "                    'test': [],\n",
    "                    'train_validation_test': [GTName.FVC]\n",
    "                },\n",
    "            },\n",
    "            'icao_dl': {\n",
    "                'use_dl_data': False,\n",
    "                'tagger_model': None\n",
    "            },\n",
    "            'reqs': list(ICAO_REQ),\n",
    "            'aligned': False,\n",
    "        },\n",
    "        'balance_input_data': False,\n",
    "        'train_model': True,\n",
    "        'save_trained_model': False,\n",
    "        'exec_nas': False,\n",
    "        'orig_model_experiment_id': '',\n",
    "        'sample_training_data': False,\n",
    "        'sample_prop': 1.0\n",
    "    },\n",
    "    'net_train_params': {\n",
    "        'base_model': BaseModel.VGG16,\n",
    "        'batch_size': 32,\n",
    "        'n_epochs': 1,\n",
    "        'early_stopping': 200,\n",
    "        'learning_rate': 1e-3,\n",
    "        'optimizer': Optimizer.ADAMAX,\n",
    "        'dropout': 0.3\n",
    "    },\n",
    "    'nas_params': {}\n",
    "}\n",
    "\n",
    "runner = ExperimentRunner(**kwargs)"
   ]
  },
  {
   "cell_type": "markdown",
   "metadata": {},
   "source": [
    "# Load Data"
   ]
  },
  {
   "cell_type": "code",
   "execution_count": 5,
   "metadata": {
    "tags": []
   },
   "outputs": [
    {
     "name": "stdout",
     "output_type": "stream",
     "text": [
      "-------------------- load training data -------------------\n",
      "Loading data\n",
      "Loading GT FVC - TRAIN split...\n",
      "..Ignoring 0 empty label values\n",
      "Input data.shape: (4928, 26)\n",
      "Loading GT FVC - VALIDATION split...\n",
      "..Ignoring 0 empty label values\n",
      "Input data.shape: (547, 26)\n",
      "Loading GT FVC - TEST split...\n",
      "..Ignoring 0 empty label values\n",
      "Input data.shape: (288, 26)\n",
      "Data loaded\n"
     ]
    }
   ],
   "source": [
    "runner.load_training_data()"
   ]
  },
  {
   "cell_type": "code",
   "execution_count": 6,
   "metadata": {},
   "outputs": [
    {
     "data": {
      "text/html": [
       "<div>\n",
       "<style scoped>\n",
       "    .dataframe tbody tr th:only-of-type {\n",
       "        vertical-align: middle;\n",
       "    }\n",
       "\n",
       "    .dataframe tbody tr th {\n",
       "        vertical-align: top;\n",
       "    }\n",
       "\n",
       "    .dataframe thead th {\n",
       "        text-align: right;\n",
       "    }\n",
       "</style>\n",
       "<table border=\"1\" class=\"dataframe\">\n",
       "  <thead>\n",
       "    <tr style=\"text-align: right;\">\n",
       "      <th></th>\n",
       "      <th>origin</th>\n",
       "      <th>img_name</th>\n",
       "      <th>mouth</th>\n",
       "      <th>rotation</th>\n",
       "      <th>l_away</th>\n",
       "      <th>eyes_closed</th>\n",
       "      <th>close</th>\n",
       "      <th>hat</th>\n",
       "      <th>dark_glasses</th>\n",
       "      <th>frames_heavy</th>\n",
       "      <th>...</th>\n",
       "      <th>sh_head</th>\n",
       "      <th>blurred</th>\n",
       "      <th>ink_mark</th>\n",
       "      <th>skin_tone</th>\n",
       "      <th>washed_out</th>\n",
       "      <th>pixelation</th>\n",
       "      <th>hair_eyes</th>\n",
       "      <th>background</th>\n",
       "      <th>red_eyes</th>\n",
       "      <th>aligned</th>\n",
       "    </tr>\n",
       "  </thead>\n",
       "  <tbody>\n",
       "    <tr>\n",
       "      <th>0</th>\n",
       "      <td>fvc</td>\n",
       "      <td>/home/guilherme/data1/Dropbox/Link to Desktop/...</td>\n",
       "      <td>1.0</td>\n",
       "      <td>1.0</td>\n",
       "      <td>1.0</td>\n",
       "      <td>1.0</td>\n",
       "      <td>1.0</td>\n",
       "      <td>1.0</td>\n",
       "      <td>1.0</td>\n",
       "      <td>1.0</td>\n",
       "      <td>...</td>\n",
       "      <td>0.0</td>\n",
       "      <td>1.0</td>\n",
       "      <td>1.0</td>\n",
       "      <td>1.0</td>\n",
       "      <td>1.0</td>\n",
       "      <td>1.0</td>\n",
       "      <td>1.0</td>\n",
       "      <td>1.0</td>\n",
       "      <td>1.0</td>\n",
       "      <td>False</td>\n",
       "    </tr>\n",
       "    <tr>\n",
       "      <th>1</th>\n",
       "      <td>fvc</td>\n",
       "      <td>/home/guilherme/data1/Dropbox/Link to Desktop/...</td>\n",
       "      <td>1.0</td>\n",
       "      <td>1.0</td>\n",
       "      <td>0.0</td>\n",
       "      <td>1.0</td>\n",
       "      <td>1.0</td>\n",
       "      <td>1.0</td>\n",
       "      <td>1.0</td>\n",
       "      <td>1.0</td>\n",
       "      <td>...</td>\n",
       "      <td>1.0</td>\n",
       "      <td>1.0</td>\n",
       "      <td>1.0</td>\n",
       "      <td>1.0</td>\n",
       "      <td>1.0</td>\n",
       "      <td>1.0</td>\n",
       "      <td>1.0</td>\n",
       "      <td>1.0</td>\n",
       "      <td>1.0</td>\n",
       "      <td>False</td>\n",
       "    </tr>\n",
       "    <tr>\n",
       "      <th>2</th>\n",
       "      <td>fvc</td>\n",
       "      <td>/home/guilherme/data1/Dropbox/Link to Desktop/...</td>\n",
       "      <td>0.0</td>\n",
       "      <td>1.0</td>\n",
       "      <td>1.0</td>\n",
       "      <td>1.0</td>\n",
       "      <td>1.0</td>\n",
       "      <td>1.0</td>\n",
       "      <td>1.0</td>\n",
       "      <td>1.0</td>\n",
       "      <td>...</td>\n",
       "      <td>1.0</td>\n",
       "      <td>1.0</td>\n",
       "      <td>1.0</td>\n",
       "      <td>1.0</td>\n",
       "      <td>1.0</td>\n",
       "      <td>1.0</td>\n",
       "      <td>1.0</td>\n",
       "      <td>1.0</td>\n",
       "      <td>1.0</td>\n",
       "      <td>False</td>\n",
       "    </tr>\n",
       "    <tr>\n",
       "      <th>3</th>\n",
       "      <td>fvc</td>\n",
       "      <td>/home/guilherme/data1/Dropbox/Link to Desktop/...</td>\n",
       "      <td>1.0</td>\n",
       "      <td>1.0</td>\n",
       "      <td>1.0</td>\n",
       "      <td>1.0</td>\n",
       "      <td>1.0</td>\n",
       "      <td>1.0</td>\n",
       "      <td>1.0</td>\n",
       "      <td>1.0</td>\n",
       "      <td>...</td>\n",
       "      <td>0.0</td>\n",
       "      <td>1.0</td>\n",
       "      <td>1.0</td>\n",
       "      <td>0.0</td>\n",
       "      <td>1.0</td>\n",
       "      <td>1.0</td>\n",
       "      <td>1.0</td>\n",
       "      <td>0.0</td>\n",
       "      <td>1.0</td>\n",
       "      <td>False</td>\n",
       "    </tr>\n",
       "    <tr>\n",
       "      <th>4</th>\n",
       "      <td>fvc</td>\n",
       "      <td>/home/guilherme/data1/Dropbox/Link to Desktop/...</td>\n",
       "      <td>1.0</td>\n",
       "      <td>1.0</td>\n",
       "      <td>1.0</td>\n",
       "      <td>1.0</td>\n",
       "      <td>1.0</td>\n",
       "      <td>1.0</td>\n",
       "      <td>1.0</td>\n",
       "      <td>1.0</td>\n",
       "      <td>...</td>\n",
       "      <td>0.0</td>\n",
       "      <td>1.0</td>\n",
       "      <td>1.0</td>\n",
       "      <td>0.0</td>\n",
       "      <td>1.0</td>\n",
       "      <td>1.0</td>\n",
       "      <td>1.0</td>\n",
       "      <td>0.0</td>\n",
       "      <td>1.0</td>\n",
       "      <td>False</td>\n",
       "    </tr>\n",
       "  </tbody>\n",
       "</table>\n",
       "<p>5 rows × 26 columns</p>\n",
       "</div>"
      ],
      "text/plain": [
       "  origin                                           img_name  mouth  rotation  \\\n",
       "0    fvc  /home/guilherme/data1/Dropbox/Link to Desktop/...    1.0       1.0   \n",
       "1    fvc  /home/guilherme/data1/Dropbox/Link to Desktop/...    1.0       1.0   \n",
       "2    fvc  /home/guilherme/data1/Dropbox/Link to Desktop/...    0.0       1.0   \n",
       "3    fvc  /home/guilherme/data1/Dropbox/Link to Desktop/...    1.0       1.0   \n",
       "4    fvc  /home/guilherme/data1/Dropbox/Link to Desktop/...    1.0       1.0   \n",
       "\n",
       "   l_away  eyes_closed  close  hat  dark_glasses  frames_heavy  ...  sh_head  \\\n",
       "0     1.0          1.0    1.0  1.0           1.0           1.0  ...      0.0   \n",
       "1     0.0          1.0    1.0  1.0           1.0           1.0  ...      1.0   \n",
       "2     1.0          1.0    1.0  1.0           1.0           1.0  ...      1.0   \n",
       "3     1.0          1.0    1.0  1.0           1.0           1.0  ...      0.0   \n",
       "4     1.0          1.0    1.0  1.0           1.0           1.0  ...      0.0   \n",
       "\n",
       "   blurred  ink_mark  skin_tone  washed_out  pixelation  hair_eyes  \\\n",
       "0      1.0       1.0        1.0         1.0         1.0        1.0   \n",
       "1      1.0       1.0        1.0         1.0         1.0        1.0   \n",
       "2      1.0       1.0        1.0         1.0         1.0        1.0   \n",
       "3      1.0       1.0        0.0         1.0         1.0        1.0   \n",
       "4      1.0       1.0        0.0         1.0         1.0        1.0   \n",
       "\n",
       "   background  red_eyes  aligned  \n",
       "0         1.0       1.0    False  \n",
       "1         1.0       1.0    False  \n",
       "2         1.0       1.0    False  \n",
       "3         0.0       1.0    False  \n",
       "4         0.0       1.0    False  \n",
       "\n",
       "[5 rows x 26 columns]"
      ]
     },
     "execution_count": 6,
     "metadata": {},
     "output_type": "execute_result"
    }
   ],
   "source": [
    "runner.data_processor.train_data.head()"
   ]
  },
  {
   "cell_type": "markdown",
   "metadata": {},
   "source": [
    "# Sampling Training Data"
   ]
  },
  {
   "cell_type": "code",
   "execution_count": 7,
   "metadata": {},
   "outputs": [
    {
     "name": "stdout",
     "output_type": "stream",
     "text": [
      "-------------------- sample training data -------------------\n",
      "Not applying subsampling in training data!\n"
     ]
    }
   ],
   "source": [
    "runner.sample_training_data()"
   ]
  },
  {
   "cell_type": "markdown",
   "metadata": {},
   "source": [
    "# Data Balancing"
   ]
  },
  {
   "cell_type": "code",
   "execution_count": 8,
   "metadata": {
    "tags": []
   },
   "outputs": [
    {
     "name": "stdout",
     "output_type": "stream",
     "text": [
      "-------------------- balance input data -------------------\n",
      "Not balancing input_data\n"
     ]
    }
   ],
   "source": [
    "runner.balance_input_data()"
   ]
  },
  {
   "cell_type": "markdown",
   "metadata": {},
   "source": [
    "# Data Generators"
   ]
  },
  {
   "cell_type": "code",
   "execution_count": 9,
   "metadata": {
    "tags": []
   },
   "outputs": [
    {
     "name": "stdout",
     "output_type": "stream",
     "text": [
      "-------------------- setup data generators -------------------\n",
      "Starting data generators\n",
      "Found 4928 validated image filenames.\n",
      "Found 547 validated image filenames.\n",
      "Found 288 validated image filenames.\n",
      "TOTAL: 5763\n",
      "\n",
      "Logging class indices\n",
      " .. MTL model not logging class indices!\n",
      "\n",
      "Logging class labels\n",
      " COMPLIANT label: 1\n",
      " NON_COMPLIANT label: 0\n",
      " DUMMY label: -1\n",
      " DUMMY_CLS label: 2\n",
      " NO_ANSWER label: -99\n"
     ]
    }
   ],
   "source": [
    "runner.setup_data_generators()"
   ]
  },
  {
   "cell_type": "markdown",
   "metadata": {},
   "source": [
    "# Setup Experiment"
   ]
  },
  {
   "cell_type": "code",
   "execution_count": 10,
   "metadata": {},
   "outputs": [
    {
     "name": "stdout",
     "output_type": "stream",
     "text": [
      "-------------------- create experiment -------------------\n",
      "Not using Neptune\n"
     ]
    }
   ],
   "source": [
    "runner.setup_experiment()"
   ]
  },
  {
   "cell_type": "markdown",
   "metadata": {},
   "source": [
    "# Labels Distribution"
   ]
  },
  {
   "cell_type": "code",
   "execution_count": 11,
   "metadata": {
    "tags": []
   },
   "outputs": [
    {
     "name": "stdout",
     "output_type": "stream",
     "text": [
      "-------------------- summary labels dist -------------------\n",
      "Requisite: MOUTH\n",
      "N_TRAIN_COMP: 3607 (73.19%)\n",
      "N_TRAIN_NOT_COMP: 1321 (26.81%)\n",
      "N_TRAIN_DUMMY: 0 (0.0%)\n",
      "N_VALIDATION_COMP: 420 (76.78%)\n",
      "N_VALIDATION_NOT_COMP: 127 (23.22%)\n",
      "N_VALIDATION_DUMMY: 0 (0.0%)\n",
      "N_TEST_COMP: 215 (74.65%)\n",
      "N_TEST_NOT_COMP: 73 (25.35%)\n",
      "N_TEST_DUMMY: 0 (0.0%)\n",
      "----\n",
      "Requisite: ROTATION\n",
      "N_TRAIN_COMP: 3716 (75.41%)\n",
      "N_TRAIN_NOT_COMP: 1212 (24.59%)\n",
      "N_TRAIN_DUMMY: 0 (0.0%)\n",
      "N_VALIDATION_COMP: 410 (74.95%)\n",
      "N_VALIDATION_NOT_COMP: 137 (25.05%)\n",
      "N_VALIDATION_DUMMY: 0 (0.0%)\n",
      "N_TEST_COMP: 208 (72.22%)\n",
      "N_TEST_NOT_COMP: 80 (27.78%)\n",
      "N_TEST_DUMMY: 0 (0.0%)\n",
      "----\n",
      "Requisite: L_AWAY\n",
      "N_TRAIN_COMP: 3375 (68.49%)\n",
      "N_TRAIN_NOT_COMP: 1553 (31.51%)\n",
      "N_TRAIN_DUMMY: 0 (0.0%)\n",
      "N_VALIDATION_COMP: 382 (69.84%)\n",
      "N_VALIDATION_NOT_COMP: 165 (30.16%)\n",
      "N_VALIDATION_DUMMY: 0 (0.0%)\n",
      "N_TEST_COMP: 201 (69.79%)\n",
      "N_TEST_NOT_COMP: 87 (30.21%)\n",
      "N_TEST_DUMMY: 0 (0.0%)\n",
      "----\n",
      "Requisite: EYES_CLOSED\n",
      "N_TRAIN_COMP: 3887 (78.88%)\n",
      "N_TRAIN_NOT_COMP: 1041 (21.12%)\n",
      "N_TRAIN_DUMMY: 0 (0.0%)\n",
      "N_VALIDATION_COMP: 441 (80.62%)\n",
      "N_VALIDATION_NOT_COMP: 106 (19.38%)\n",
      "N_VALIDATION_DUMMY: 0 (0.0%)\n",
      "N_TEST_COMP: 233 (80.9%)\n",
      "N_TEST_NOT_COMP: 55 (19.1%)\n",
      "N_TEST_DUMMY: 0 (0.0%)\n",
      "----\n",
      "Requisite: CLOSE\n",
      "N_TRAIN_COMP: 4875 (98.92%)\n",
      "N_TRAIN_NOT_COMP: 53 (1.08%)\n",
      "N_TRAIN_DUMMY: 0 (0.0%)\n",
      "N_VALIDATION_COMP: 541 (98.9%)\n",
      "N_VALIDATION_NOT_COMP: 6 (1.1%)\n",
      "N_VALIDATION_DUMMY: 0 (0.0%)\n",
      "N_TEST_COMP: 286 (99.31%)\n",
      "N_TEST_NOT_COMP: 2 (0.69%)\n",
      "N_TEST_DUMMY: 0 (0.0%)\n",
      "----\n",
      "Requisite: HAT\n",
      "N_TRAIN_COMP: 4230 (85.84%)\n",
      "N_TRAIN_NOT_COMP: 698 (14.16%)\n",
      "N_TRAIN_DUMMY: 0 (0.0%)\n",
      "N_VALIDATION_COMP: 454 (83.0%)\n",
      "N_VALIDATION_NOT_COMP: 93 (17.0%)\n",
      "N_VALIDATION_DUMMY: 0 (0.0%)\n",
      "N_TEST_COMP: 237 (82.29%)\n",
      "N_TEST_NOT_COMP: 51 (17.71%)\n",
      "N_TEST_DUMMY: 0 (0.0%)\n",
      "----\n",
      "Requisite: DARK_GLASSES\n",
      "N_TRAIN_COMP: 4363 (88.53%)\n",
      "N_TRAIN_NOT_COMP: 565 (11.47%)\n",
      "N_TRAIN_DUMMY: 0 (0.0%)\n",
      "N_VALIDATION_COMP: 495 (90.49%)\n",
      "N_VALIDATION_NOT_COMP: 52 (9.51%)\n",
      "N_VALIDATION_DUMMY: 0 (0.0%)\n",
      "N_TEST_COMP: 257 (89.24%)\n",
      "N_TEST_NOT_COMP: 31 (10.76%)\n",
      "N_TEST_DUMMY: 0 (0.0%)\n",
      "----\n",
      "Requisite: FRAMES_HEAVY\n",
      "N_TRAIN_COMP: 4914 (99.72%)\n",
      "N_TRAIN_NOT_COMP: 14 (0.28%)\n",
      "N_TRAIN_DUMMY: 0 (0.0%)\n",
      "N_VALIDATION_COMP: 544 (99.45%)\n",
      "N_VALIDATION_NOT_COMP: 3 (0.55%)\n",
      "N_VALIDATION_DUMMY: 0 (0.0%)\n",
      "N_TEST_COMP: 286 (99.31%)\n",
      "N_TEST_NOT_COMP: 2 (0.69%)\n",
      "N_TEST_DUMMY: 0 (0.0%)\n",
      "----\n",
      "Requisite: FRAME_EYES\n",
      "N_TRAIN_COMP: 3485 (70.72%)\n",
      "N_TRAIN_NOT_COMP: 1443 (29.28%)\n",
      "N_TRAIN_DUMMY: 0 (0.0%)\n",
      "N_VALIDATION_COMP: 395 (72.21%)\n",
      "N_VALIDATION_NOT_COMP: 152 (27.79%)\n",
      "N_VALIDATION_DUMMY: 0 (0.0%)\n",
      "N_TEST_COMP: 204 (70.83%)\n",
      "N_TEST_NOT_COMP: 84 (29.17%)\n",
      "N_TEST_DUMMY: 0 (0.0%)\n",
      "----\n",
      "Requisite: FLASH_LENSES\n",
      "N_TRAIN_COMP: 3894 (79.02%)\n",
      "N_TRAIN_NOT_COMP: 1034 (20.98%)\n",
      "N_TRAIN_DUMMY: 0 (0.0%)\n",
      "N_VALIDATION_COMP: 434 (79.34%)\n",
      "N_VALIDATION_NOT_COMP: 113 (20.66%)\n",
      "N_VALIDATION_DUMMY: 0 (0.0%)\n",
      "N_TEST_COMP: 228 (79.17%)\n",
      "N_TEST_NOT_COMP: 60 (20.83%)\n",
      "N_TEST_DUMMY: 0 (0.0%)\n",
      "----\n",
      "Requisite: VEIL\n",
      "N_TRAIN_COMP: 4616 (93.67%)\n",
      "N_TRAIN_NOT_COMP: 312 (6.33%)\n",
      "N_TRAIN_DUMMY: 0 (0.0%)\n",
      "N_VALIDATION_COMP: 514 (93.97%)\n",
      "N_VALIDATION_NOT_COMP: 33 (6.03%)\n",
      "N_VALIDATION_DUMMY: 0 (0.0%)\n",
      "N_TEST_COMP: 267 (92.71%)\n",
      "N_TEST_NOT_COMP: 21 (7.29%)\n",
      "N_TEST_DUMMY: 0 (0.0%)\n",
      "----\n",
      "Requisite: REFLECTION\n",
      "N_TRAIN_COMP: 2580 (52.35%)\n",
      "N_TRAIN_NOT_COMP: 2348 (47.65%)\n",
      "N_TRAIN_DUMMY: 0 (0.0%)\n",
      "N_VALIDATION_COMP: 282 (51.55%)\n",
      "N_VALIDATION_NOT_COMP: 265 (48.45%)\n",
      "N_VALIDATION_DUMMY: 0 (0.0%)\n",
      "N_TEST_COMP: 156 (54.17%)\n",
      "N_TEST_NOT_COMP: 132 (45.83%)\n",
      "N_TEST_DUMMY: 0 (0.0%)\n",
      "----\n",
      "Requisite: LIGHT\n",
      "N_TRAIN_COMP: 4527 (91.86%)\n",
      "N_TRAIN_NOT_COMP: 401 (8.14%)\n",
      "N_TRAIN_DUMMY: 0 (0.0%)\n",
      "N_VALIDATION_COMP: 505 (92.32%)\n",
      "N_VALIDATION_NOT_COMP: 42 (7.68%)\n",
      "N_VALIDATION_DUMMY: 0 (0.0%)\n",
      "N_TEST_COMP: 265 (92.01%)\n",
      "N_TEST_NOT_COMP: 23 (7.99%)\n",
      "N_TEST_DUMMY: 0 (0.0%)\n",
      "----\n",
      "Requisite: SH_FACE\n",
      "N_TRAIN_COMP: 3034 (61.57%)\n",
      "N_TRAIN_NOT_COMP: 1894 (38.43%)\n",
      "N_TRAIN_DUMMY: 0 (0.0%)\n",
      "N_VALIDATION_COMP: 342 (62.52%)\n",
      "N_VALIDATION_NOT_COMP: 205 (37.48%)\n",
      "N_VALIDATION_DUMMY: 0 (0.0%)\n",
      "N_TEST_COMP: 180 (62.5%)\n",
      "N_TEST_NOT_COMP: 108 (37.5%)\n",
      "N_TEST_DUMMY: 0 (0.0%)\n",
      "----\n",
      "Requisite: SH_HEAD\n",
      "N_TRAIN_COMP: 3103 (62.97%)\n",
      "N_TRAIN_NOT_COMP: 1825 (37.03%)\n",
      "N_TRAIN_DUMMY: 0 (0.0%)\n",
      "N_VALIDATION_COMP: 345 (63.07%)\n",
      "N_VALIDATION_NOT_COMP: 202 (36.93%)\n",
      "N_VALIDATION_DUMMY: 0 (0.0%)\n",
      "N_TEST_COMP: 185 (64.24%)\n",
      "N_TEST_NOT_COMP: 103 (35.76%)\n",
      "N_TEST_DUMMY: 0 (0.0%)\n",
      "----\n",
      "Requisite: BLURRED\n",
      "N_TRAIN_COMP: 4342 (88.11%)\n",
      "N_TRAIN_NOT_COMP: 586 (11.89%)\n",
      "N_TRAIN_DUMMY: 0 (0.0%)\n",
      "N_VALIDATION_COMP: 504 (92.14%)\n",
      "N_VALIDATION_NOT_COMP: 43 (7.86%)\n",
      "N_VALIDATION_DUMMY: 0 (0.0%)\n",
      "N_TEST_COMP: 253 (87.85%)\n",
      "N_TEST_NOT_COMP: 35 (12.15%)\n",
      "N_TEST_DUMMY: 0 (0.0%)\n",
      "----\n",
      "Requisite: INK_MARK\n",
      "N_TRAIN_COMP: 4928 (100.0%)\n",
      "N_TRAIN_NOT_COMP: 0 (0.0%)\n",
      "N_TRAIN_DUMMY: 0 (0.0%)\n",
      "N_VALIDATION_COMP: 547 (100.0%)\n",
      "N_VALIDATION_NOT_COMP: 0 (0.0%)\n",
      "N_VALIDATION_DUMMY: 0 (0.0%)\n",
      "N_TEST_COMP: 288 (100.0%)\n",
      "N_TEST_NOT_COMP: 0 (0.0%)\n",
      "N_TEST_DUMMY: 0 (0.0%)\n",
      "----\n",
      "Requisite: SKIN_TONE\n",
      "N_TRAIN_COMP: 2767 (56.15%)\n",
      "N_TRAIN_NOT_COMP: 2161 (43.85%)\n",
      "N_TRAIN_DUMMY: 0 (0.0%)\n",
      "N_VALIDATION_COMP: 313 (57.22%)\n",
      "N_VALIDATION_NOT_COMP: 234 (42.78%)\n",
      "N_VALIDATION_DUMMY: 0 (0.0%)\n",
      "N_TEST_COMP: 173 (60.07%)\n",
      "N_TEST_NOT_COMP: 115 (39.93%)\n",
      "N_TEST_DUMMY: 0 (0.0%)\n",
      "----\n",
      "Requisite: WASHED_OUT\n",
      "N_TRAIN_COMP: 4885 (99.13%)\n",
      "N_TRAIN_NOT_COMP: 43 (0.87%)\n",
      "N_TRAIN_DUMMY: 0 (0.0%)\n",
      "N_VALIDATION_COMP: 544 (99.45%)\n",
      "N_VALIDATION_NOT_COMP: 3 (0.55%)\n",
      "N_VALIDATION_DUMMY: 0 (0.0%)\n",
      "N_TEST_COMP: 284 (98.61%)\n",
      "N_TEST_NOT_COMP: 4 (1.39%)\n",
      "N_TEST_DUMMY: 0 (0.0%)\n",
      "----\n",
      "Requisite: PIXELATION\n",
      "N_TRAIN_COMP: 4592 (93.18%)\n",
      "N_TRAIN_NOT_COMP: 336 (6.82%)\n",
      "N_TRAIN_DUMMY: 0 (0.0%)\n",
      "N_VALIDATION_COMP: 516 (94.33%)\n",
      "N_VALIDATION_NOT_COMP: 31 (5.67%)\n",
      "N_VALIDATION_DUMMY: 0 (0.0%)\n",
      "N_TEST_COMP: 262 (90.97%)\n",
      "N_TEST_NOT_COMP: 26 (9.03%)\n",
      "N_TEST_DUMMY: 0 (0.0%)\n",
      "----\n",
      "Requisite: HAIR_EYES\n",
      "N_TRAIN_COMP: 4027 (81.72%)\n",
      "N_TRAIN_NOT_COMP: 901 (18.28%)\n",
      "N_TRAIN_DUMMY: 0 (0.0%)\n",
      "N_VALIDATION_COMP: 439 (80.26%)\n",
      "N_VALIDATION_NOT_COMP: 108 (19.74%)\n",
      "N_VALIDATION_DUMMY: 0 (0.0%)\n",
      "N_TEST_COMP: 238 (82.64%)\n",
      "N_TEST_NOT_COMP: 50 (17.36%)\n",
      "N_TEST_DUMMY: 0 (0.0%)\n",
      "----\n",
      "Requisite: BACKGROUND\n",
      "N_TRAIN_COMP: 2732 (55.44%)\n",
      "N_TRAIN_NOT_COMP: 2196 (44.56%)\n",
      "N_TRAIN_DUMMY: 0 (0.0%)\n",
      "N_VALIDATION_COMP: 325 (59.41%)\n",
      "N_VALIDATION_NOT_COMP: 222 (40.59%)\n",
      "N_VALIDATION_DUMMY: 0 (0.0%)\n",
      "N_TEST_COMP: 154 (53.47%)\n",
      "N_TEST_NOT_COMP: 134 (46.53%)\n",
      "N_TEST_DUMMY: 0 (0.0%)\n",
      "----\n",
      "Requisite: RED_EYES\n",
      "N_TRAIN_COMP: 3859 (78.31%)\n",
      "N_TRAIN_NOT_COMP: 1069 (21.69%)\n",
      "N_TRAIN_DUMMY: 0 (0.0%)\n",
      "N_VALIDATION_COMP: 437 (79.89%)\n",
      "N_VALIDATION_NOT_COMP: 110 (20.11%)\n",
      "N_VALIDATION_DUMMY: 0 (0.0%)\n",
      "N_TEST_COMP: 233 (80.9%)\n",
      "N_TEST_NOT_COMP: 55 (19.1%)\n",
      "N_TEST_DUMMY: 0 (0.0%)\n",
      "----\n"
     ]
    }
   ],
   "source": [
    "runner.summary_labels_dist()"
   ]
  },
  {
   "cell_type": "raw",
   "metadata": {},
   "source": [
    "runner.train_data.origin.hist()"
   ]
  },
  {
   "cell_type": "markdown",
   "metadata": {},
   "source": [
    "# Create Model"
   ]
  },
  {
   "cell_type": "code",
   "execution_count": 12,
   "metadata": {
    "tags": []
   },
   "outputs": [
    {
     "name": "stdout",
     "output_type": "stream",
     "text": [
      "-------------------- create model -------------------\n",
      "Creating model...\n",
      "Model created\n"
     ]
    }
   ],
   "source": [
    "runner.create_model()"
   ]
  },
  {
   "cell_type": "markdown",
   "metadata": {},
   "source": [
    "# Vizualize Model"
   ]
  },
  {
   "cell_type": "code",
   "execution_count": 13,
   "metadata": {
    "tags": []
   },
   "outputs": [],
   "source": [
    "%%capture\n",
    "runner.visualize_model(outfile_path=f\"figs/handcrafted_mtl_model_3.png\")"
   ]
  },
  {
   "cell_type": "code",
   "execution_count": 14,
   "metadata": {
    "tags": []
   },
   "outputs": [],
   "source": [
    "%%capture\n",
    "runner.model_summary()"
   ]
  },
  {
   "cell_type": "markdown",
   "metadata": {},
   "source": [
    "# Training Model"
   ]
  },
  {
   "cell_type": "code",
   "execution_count": 15,
   "metadata": {
    "tags": []
   },
   "outputs": [
    {
     "name": "stdout",
     "output_type": "stream",
     "text": [
      "-------------------- train model -------------------\n",
      "Training VGG16 network\n",
      " .. Not fine tuning base model...\n",
      "  .. Total params: 17,555,310\n",
      "  .. Trainable params: 2,840,622\n",
      "  .. Non-trainable params: 14,714,688\n",
      "154/154 [==============================] - 408s 3s/step - loss: 1.0098 - background_loss: 0.6182 - close_loss: 0.5494 - ink_mark_loss: 0.6390 - pixelation_loss: 0.5126 - washed_out_loss: 0.0864 - blurred_loss: 0.4303 - sh_head_loss: 0.3748 - mouth_loss: 0.0426 - veil_loss: 0.5719 - red_eyes_loss: 0.5248 - flash_lenses_loss: 0.2855 - dark_glasses_loss: 0.6942 - l_away_loss: 0.3401 - frame_eyes_loss: 0.6405 - hair_eyes_loss: 0.6337 - eyes_closed_loss: 0.3491 - frames_heavy_loss: 0.0370 - sh_face_loss: 0.6958 - skin_tone_loss: 0.0937 - light_loss: 0.3027 - hat_loss: 0.4784 - rotation_loss: 0.6688 - reflection_loss: 0.5282 - background_accuracy: 0.7287 - close_accuracy: 0.7496 - ink_mark_accuracy: 0.6849 - pixelation_accuracy: 0.7819 - washed_out_accuracy: 0.9836 - blurred_accuracy: 0.8578 - sh_head_accuracy: 0.8853 - mouth_accuracy: 0.9972 - veil_accuracy: 0.7015 - red_eyes_accuracy: 0.7898 - flash_lenses_accuracy: 0.9314 - dark_glasses_accuracy: 0.5140 - l_away_accuracy: 0.9065 - frame_eyes_accuracy: 0.6284 - hair_eyes_accuracy: 0.6307 - eyes_closed_accuracy: 0.8809 - frames_heavy_accuracy: 0.9943 - sh_face_accuracy: 0.5578 - skin_tone_accuracy: 0.9823 - light_accuracy: 0.9316 - hat_accuracy: 0.8139 - rotation_accuracy: 0.5595 - reflection_accuracy: 0.7804 - val_loss: 0.9083 - val_background_loss: 0.5579 - val_close_loss: 0.5002 - val_ink_mark_loss: 0.5916 - val_pixelation_loss: 0.4418 - val_washed_out_loss: 0.0493 - val_blurred_loss: 0.4548 - val_sh_head_loss: 0.3063 - val_mouth_loss: 0.0410 - val_veil_loss: 0.5116 - val_red_eyes_loss: 0.4955 - val_flash_lenses_loss: 0.2166 - val_dark_glasses_loss: 0.6960 - val_l_away_loss: 0.3144 - val_frame_eyes_loss: 0.5768 - val_hair_eyes_loss: 0.5903 - val_eyes_closed_loss: 0.2320 - val_frames_heavy_loss: 6.0012e-05 - val_sh_face_loss: 0.6819 - val_skin_tone_loss: 0.0267 - val_light_loss: 0.2404 - val_hat_loss: 0.4585 - val_rotation_loss: 0.6354 - val_reflection_loss: 0.4639 - val_background_accuracy: 0.7151 - val_close_accuracy: 0.7518 - val_ink_mark_accuracy: 0.6985 - val_pixelation_accuracy: 0.8070 - val_washed_out_accuracy: 0.9890 - val_blurred_accuracy: 0.8290 - val_sh_head_accuracy: 0.9044 - val_mouth_accuracy: 0.9945 - val_veil_accuracy: 0.7224 - val_red_eyes_accuracy: 0.7923 - val_flash_lenses_accuracy: 0.9393 - val_dark_glasses_accuracy: 0.5184 - val_l_away_accuracy: 0.9228 - val_frame_eyes_accuracy: 0.6949 - val_hair_eyes_accuracy: 0.6434 - val_eyes_closed_accuracy: 0.9210 - val_frames_heavy_accuracy: 1.0000 - val_sh_face_accuracy: 0.5772 - val_skin_tone_accuracy: 0.9945 - val_light_accuracy: 0.9430 - val_hat_accuracy: 0.8051 - val_rotation_accuracy: 0.6893 - val_reflection_accuracy: 0.8015\n",
      "\n",
      "Epoch 00001: val_loss improved from inf to 0.90828, saving model to training_ckpt/best_model.hdf5\n"
     ]
    }
   ],
   "source": [
    "runner.train_model()"
   ]
  },
  {
   "cell_type": "markdown",
   "metadata": {},
   "source": [
    "# Plots"
   ]
  },
  {
   "cell_type": "code",
   "execution_count": 16,
   "metadata": {
    "collapsed": true,
    "jupyter": {
     "outputs_hidden": true
    },
    "tags": []
   },
   "outputs": [
    {
     "name": "stdout",
     "output_type": "stream",
     "text": [
      "-------------------- draw training history -------------------\n"
     ]
    },
    {
     "data": {
      "image/png": "[encoded data removed]",
      "text/plain": [
       "<Figure size 1440x1800 with 4 Axes>"
      ]
     },
     "metadata": {
      "needs_background": "light"
     },
     "output_type": "display_data"
    }
   ],
   "source": [
    "runner.draw_training_history()"
   ]
  },
  {
   "cell_type": "markdown",
   "metadata": {},
   "source": [
    "# Load Best Model"
   ]
  },
  {
   "cell_type": "code",
   "execution_count": 17,
   "metadata": {},
   "outputs": [
    {
     "name": "stdout",
     "output_type": "stream",
     "text": [
      "-------------------- load best model -------------------\n",
      "..Loading best model\n",
      "..Checkpoint weights loaded\n"
     ]
    }
   ],
   "source": [
    "runner.load_best_model()"
   ]
  },
  {
   "cell_type": "markdown",
   "metadata": {},
   "source": [
    "# Saving Trained Model"
   ]
  },
  {
   "cell_type": "code",
   "execution_count": 18,
   "metadata": {},
   "outputs": [
    {
     "name": "stdout",
     "output_type": "stream",
     "text": [
      "-------------------- save model -------------------\n",
      "Not saving model!\n"
     ]
    }
   ],
   "source": [
    "runner.save_model()"
   ]
  },
  {
   "cell_type": "markdown",
   "metadata": {},
   "source": [
    "# Test Trained Model"
   ]
  },
  {
   "cell_type": "markdown",
   "metadata": {},
   "source": [
    "## Validation Split"
   ]
  },
  {
   "cell_type": "code",
   "execution_count": 19,
   "metadata": {
    "tags": []
   },
   "outputs": [
    {
     "name": "stdout",
     "output_type": "stream",
     "text": [
      "Testing Trained Model\n",
      "Predicting labels....\n",
      "18/18 [==============================] - 32s 2s/step\n",
      "Prediction finished!\n"
     ]
    },
    {
     "name": "stderr",
     "output_type": "stream",
     "text": [
      "/home/guilherme/anaconda3/envs/mteval-icao-reqs/submodules/icao_nets_training/lib/python3.8/site-packages/sklearn/metrics/_ranking.py:803: UndefinedMetricWarning: No negative samples in y_true, false positive value should be meaningless\n",
      "  warnings.warn(\"No negative samples in y_true, \"\n"
     ]
    },
    {
     "name": "stdout",
     "output_type": "stream",
     "text": [
      "  Task  0: mouth           | EER_mean: 0.35950 | EER_interp: 0.35690 | ACC: 0.64170\n",
      "  Task  1: rotation        | EER_mean: 0.28050 | EER_interp: 0.27530 | ACC: 0.72210\n",
      "  Task  2: l_away          | EER_mean: 0.36390 | EER_interp: 0.36380 | ACC: 0.63620\n",
      "  Task  3: eyes_closed     | EER_mean: 0.35150 | EER_interp: 0.35030 | ACC: 0.64900\n",
      "  Task  4: close           | EER_mean: 0.10720 | EER_interp: 0.00000 | ACC: 0.89400\n",
      "  Task  5: hat             | EER_mean: 0.33330 | EER_interp: 0.33520 | ACC: 0.66360\n",
      "  Task  6: dark_glasses    | EER_mean: 0.36570 | EER_interp: 0.36560 | ACC: 0.63440\n",
      "  Task  7: frames_heavy    | EER_mean: 0.25180 | EER_interp: 0.00000 | ACC: 0.74950\n",
      "  Task  8: frame_eyes      | EER_mean: 0.28860 | EER_interp: 0.28910 | ACC: 0.71120\n",
      "  Task  9: flash_lenses    | EER_mean: 0.40710 | EER_interp: 0.40980 | ACC: 0.58870\n",
      "  Task 10: veil            | EER_mean: 0.35600 | EER_interp: 0.34460 | ACC: 0.64530\n",
      "  Task 11: reflection      | EER_mean: 0.50570 | EER_interp: 0.50280 | ACC: 0.49730\n",
      "  Task 12: light           | EER_mean: 0.56240 | EER_interp: 0.55500 | ACC: 0.43880\n",
      "  Task 13: sh_face         | EER_mean: 0.31710 | EER_interp: 0.31640 | ACC: 0.68370\n",
      "  Task 14: sh_head         | EER_mean: 0.27720 | EER_interp: 0.27780 | ACC: 0.72210\n",
      "  Task 15: blurred         | EER_mean: 0.25580 | EER_interp: 0.25490 | ACC: 0.74590\n",
      "  Task 16: skin_tone       | EER_mean: 0.00000 | EER_interp: 0.00000 | ACC: 1.00000\n",
      "  Task 17: washed_out      | EER_mean: 0.44090 | EER_interp: 0.44060 | ACC: 0.55940\n",
      "  Task 18: pixelation      | EER_mean: 0.09560 | EER_interp: 0.00000 | ACC: 0.90490\n",
      "  Task 19: hair_eyes       | EER_mean: 0.51160 | EER_interp: 0.49780 | ACC: 0.48990\n",
      "  Task 20: background      | EER_mean: 0.36110 | EER_interp: 0.36280 | ACC: 0.63620\n",
      "  Task 21: red_eyes        | EER_mean: 0.33780 | EER_interp: 0.33820 | ACC: 0.66180\n",
      "final_EER_mean: 30.17% | final_EER_median: 34.14% | final_EER_std_dv: 16.0% | final_ACC: 67.62%\n"
     ]
    }
   ],
   "source": [
    "runner.set_model_evaluator_data_src(DataSource.VALIDATION)\n",
    "runner.test_model(verbose=False)"
   ]
  },
  {
   "cell_type": "markdown",
   "metadata": {},
   "source": [
    "## Test Split"
   ]
  },
  {
   "cell_type": "code",
   "execution_count": 20,
   "metadata": {
    "tags": []
   },
   "outputs": [
    {
     "name": "stdout",
     "output_type": "stream",
     "text": [
      "Testing Trained Model\n",
      "Predicting labels....\n",
      "9/9 [==============================] - 30s 4s/step\n",
      "Prediction finished!\n",
      "  Task  0: mouth           | EER_mean: 0.39730 | EER_interp: 0.39860 | ACC: 0.60070\n",
      "  Task  1: rotation        | EER_mean: 0.28850 | EER_interp: 0.28800 | ACC: 0.71180\n",
      "  Task  2: l_away          | EER_mean: 0.40230 | EER_interp: 0.40260 | ACC: 0.59720\n",
      "  Task  3: eyes_closed     | EER_mean: 0.34550 | EER_interp: 0.34440 | ACC: 0.65620\n",
      "  Task  4: close           | EER_mean: 0.16430 | EER_interp: 0.00000 | ACC: 0.83680\n",
      "  Task  5: hat             | EER_mean: 0.32070 | EER_interp: 0.31720 | ACC: 0.68060\n",
      "  Task  6: dark_glasses    | EER_mean: 0.38520 | EER_interp: 0.37000 | ACC: 0.61810\n",
      "  Task  7: frames_heavy    | EER_mean: 0.45800 | EER_interp: 0.00000 | ACC: 0.54510\n",
      "  Task  8: frame_eyes      | EER_mean: 0.34310 | EER_interp: 0.33820 | ACC: 0.65970\n",
      "  Task  9: flash_lenses    | EER_mean: 0.39040 | EER_interp: 0.38690 | ACC: 0.61110\n",
      "  Task 10: veil            | EER_mean: 0.34460 | EER_interp: 0.33890 | ACC: 0.65620\n",
      "  Task 11: reflection      | EER_mean: 0.50760 | EER_interp: 0.51020 | ACC: 0.48960\n",
      "  Task 12: light           | EER_mean: 0.56520 | EER_interp: 0.53540 | ACC: 0.48960\n",
      "  Task 13: sh_face         | EER_mean: 0.36670 | EER_interp: 0.37320 | ACC: 0.62850\n",
      "  Task 14: sh_head         | EER_mean: 0.26210 | EER_interp: 0.26350 | ACC: 0.73610\n",
      "  Task 15: blurred         | EER_mean: 0.25710 | EER_interp: 0.22940 | ACC: 0.79170\n",
      "  Task 16: skin_tone       | EER_mean: 0.00000 | EER_interp: 0.00000 | ACC: 1.00000\n",
      "  Task 17: washed_out      | EER_mean: 0.47980 | EER_interp: 0.47900 | ACC: 0.52080\n",
      "  Task 18: pixelation      | EER_mean: 0.26760 | EER_interp: 0.25880 | ACC: 0.73260\n",
      "  Task 19: hair_eyes       | EER_mean: 0.46560 | EER_interp: 0.46360 | ACC: 0.53470\n",
      "  Task 20: background      | EER_mean: 0.34870 | EER_interp: 0.34440 | ACC: 0.65280\n",
      "  Task 21: red_eyes        | EER_mean: 0.40910 | EER_interp: 0.40600 | ACC: 0.59380\n",
      "final_EER_mean: 32.04% | final_EER_median: 34.44% | final_EER_std_dv: 14.83% | final_ACC: 65.2%\n"
     ]
    }
   ],
   "source": [
    "runner.set_model_evaluator_data_src(DataSource.TEST)\n",
    "runner.test_model(verbose=False)"
   ]
  },
  {
   "cell_type": "markdown",
   "metadata": {},
   "source": [
    "# Visualize Model Classification"
   ]
  },
  {
   "cell_type": "raw",
   "metadata": {},
   "source": [
    "runner.visualize_predictions()"
   ]
  },
  {
   "cell_type": "markdown",
   "metadata": {},
   "source": [
    "# Finishing Experiment Manager"
   ]
  },
  {
   "cell_type": "code",
   "execution_count": 21,
   "metadata": {
    "tags": []
   },
   "outputs": [
    {
     "name": "stdout",
     "output_type": "stream",
     "text": [
      "-------------------- finish experiment -------------------\n",
      "Not using Neptune\n"
     ]
    }
   ],
   "source": [
    "runner.finish_experiment()"
   ]
  }
 ],
 "metadata": {
  "interpreter": {
   "hash": "85f5044ba23e75135dc4c908fd4d7609c1c80b195047fdb4d16ee0e66a953254"
  },
  "kernelspec": {
   "display_name": "Python 3 (ipykernel)",
   "language": "python",
   "name": "python3"
  },
  "language_info": {
   "codemirror_mode": {
    "name": "ipython",
    "version": 3
   },
   "file_extension": ".py",
   "mimetype": "text/x-python",
   "name": "python",
   "nbconvert_exporter": "python",
   "pygments_lexer": "ipython3",
   "version": "3.8.0"
  },
  "neptune": {
   "notebookId": "d6d95e8a-b251-40a1-bf9d-610ebc484f63"
  },
  "toc-autonumbering": true
 },
 "nbformat": 4,
 "nbformat_minor": 4
}

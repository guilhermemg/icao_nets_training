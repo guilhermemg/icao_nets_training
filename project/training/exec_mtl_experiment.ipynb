{
 "cells": [
  {
   "cell_type": "markdown",
   "metadata": {},
   "source": [
    "# Import Libraries"
   ]
  },
  {
   "cell_type": "code",
   "execution_count": 1,
   "metadata": {},
   "outputs": [],
   "source": [
    "%load_ext autoreload\n",
    "%autoreload 2"
   ]
  },
  {
   "cell_type": "code",
   "execution_count": 2,
   "metadata": {},
   "outputs": [
    {
     "name": "stdout",
     "output_type": "stream",
     "text": [
      " ==> Restrict GPU memory growth: True\n"
     ]
    }
   ],
   "source": [
    "import os\n",
    "# disable tensorflow log level infos\n",
    "os.environ['TF_CPP_MIN_LOG_LEVEL'] = '2' # show only errors\n",
    "\n",
    "import sys\n",
    "import pandas as pd\n",
    "\n",
    "if '..' not in sys.path:\n",
    "    sys.path.insert(0,'..')\n",
    "\n",
    "from src.base.data_loaders.data_loader import DLName\n",
    "from src.base.gt_loaders.gt_names import GTName\n",
    "from src.exp_runner import ExperimentRunner\n",
    "from src.base.experiment.base_models import BaseModel\n",
    "from src.base.experiment.benchmark_dataset import BenchmarkDataset\n",
    "from src.base.experiment.model_creator import Optimizer\n",
    "from src.base.experiment.model_evaluator import DataSource, DataPredSelection\n",
    "from src.m_utils.mtl_approach import MTLApproach\n",
    "from src.m_utils.constants import ICAO_REQ, MNIST_TASK, FASHION_MNIST_TASK"
   ]
  },
  {
   "cell_type": "markdown",
   "metadata": {},
   "source": [
    "# Start Network runner"
   ]
  },
  {
   "cell_type": "code",
   "execution_count": 3,
   "metadata": {
    "tags": []
   },
   "outputs": [
    {
     "name": "stdout",
     "output_type": "stream",
     "text": [
      "-------------------- Init ExperimentRunner -------------------\n",
      "---------------------------\n",
      "Parent Process ID: 117376\n",
      "Process ID: 120702\n",
      "---------------------------\n",
      "-----\n",
      "Use Neptune:  False\n",
      "-----\n",
      "-------------------\n",
      "Args: \n",
      "{'exp_params': {'description': 'Training MTL network for FVC-ICOA tasks with '\n",
      "                               'Handcrafted 3 network architecture',\n",
      "                'name': 'train_vg16_mtl_3_approach',\n",
      "                'src_files': ['../src/**/*.py'],\n",
      "                'tags': ['mtl',\n",
      "                         'handcrafted_3',\n",
      "                         'handcrafted_3_exp',\n",
      "                         'fvc',\n",
      "                         'ground_truths',\n",
      "                         '200 epochs']},\n",
      " 'nas_params': {},\n",
      " 'net_train_params': {'base_model': <BaseModel.VGG16: {'name': 'vgg16', 'target_size': (224, 224), 'prep_function': <function preprocess_input at 0x7f2867eda5e0>}>,\n",
      "                      'batch_size': 32,\n",
      "                      'dropout': 0.3,\n",
      "                      'early_stopping': 200,\n",
      "                      'learning_rate': 0.001,\n",
      "                      'n_epochs': 3,\n",
      "                      'optimizer': <Optimizer.ADAMAX: 'Adamax'>},\n",
      " 'properties': {'approach': <MTLApproach.HAND_3: 'handcrafted_3'>,\n",
      "                'balance_input_data': False,\n",
      "                'benchmarking': {'benchmark_dataset': <BenchmarkDataset.FASHION_MNIST: {'name': 'fashion_mnist', 'target_cols': ['n_0', 'n_1', 'n_2', 'n_3', 'n_4', 'n_5', 'n_6', 'n_7', 'n_8', 'n_9']}>,\n",
      "                                 'tasks': [<FASHION_MNIST_TASK.N_0: 'n_0'>,\n",
      "                                           <FASHION_MNIST_TASK.N_1: 'n_1'>,\n",
      "                                           <FASHION_MNIST_TASK.N_2: 'n_2'>,\n",
      "                                           <FASHION_MNIST_TASK.N_3: 'n_3'>,\n",
      "                                           <FASHION_MNIST_TASK.N_4: 'n_4'>,\n",
      "                                           <FASHION_MNIST_TASK.N_5: 'n_5'>,\n",
      "                                           <FASHION_MNIST_TASK.N_6: 'n_6'>,\n",
      "                                           <FASHION_MNIST_TASK.N_7: 'n_7'>,\n",
      "                                           <FASHION_MNIST_TASK.N_8: 'n_8'>,\n",
      "                                           <FASHION_MNIST_TASK.N_9: 'n_9'>],\n",
      "                                 'use_benchmark_data': True},\n",
      "                'exec_nas': False,\n",
      "                'icao_data': {'aligned': False,\n",
      "                              'icao_dl': {'tagger_model': None,\n",
      "                                          'use_dl_data': False},\n",
      "                              'icao_gt': {'gt_names': {'test': [],\n",
      "                                                       'train_validation': [],\n",
      "                                                       'train_validation_test': [<GTName.FVC: 'fvc'>]},\n",
      "                                          'use_gt_data': False},\n",
      "                              'reqs': [<ICAO_REQ.MOUTH: 'mouth'>,\n",
      "                                       <ICAO_REQ.ROTATION: 'rotation'>,\n",
      "                                       <ICAO_REQ.L_AWAY: 'l_away'>,\n",
      "                                       <ICAO_REQ.EYES_CLOSED: 'eyes_closed'>,\n",
      "                                       <ICAO_REQ.CLOSE: 'close'>,\n",
      "                                       <ICAO_REQ.HAT: 'hat'>,\n",
      "                                       <ICAO_REQ.DARK_GLASSES: 'dark_glasses'>,\n",
      "                                       <ICAO_REQ.FRAMES_HEAVY: 'frames_heavy'>,\n",
      "                                       <ICAO_REQ.FRAME_EYES: 'frame_eyes'>,\n",
      "                                       <ICAO_REQ.FLASH_LENSES: 'flash_lenses'>,\n",
      "                                       <ICAO_REQ.VEIL: 'veil'>,\n",
      "                                       <ICAO_REQ.REFLECTION: 'reflection'>,\n",
      "                                       <ICAO_REQ.LIGHT: 'light'>,\n",
      "                                       <ICAO_REQ.SHADOW_FACE: 'sh_face'>,\n",
      "                                       <ICAO_REQ.SHADOW_HEAD: 'sh_head'>,\n",
      "                                       <ICAO_REQ.BLURRED: 'blurred'>,\n",
      "                                       <ICAO_REQ.INK_MARK: 'ink_mark'>,\n",
      "                                       <ICAO_REQ.SKIN_TONE: 'skin_tone'>,\n",
      "                                       <ICAO_REQ.WASHED_OUT: 'washed_out'>,\n",
      "                                       <ICAO_REQ.PIXELATION: 'pixelation'>,\n",
      "                                       <ICAO_REQ.HAIR_EYES: 'hair_eyes'>,\n",
      "                                       <ICAO_REQ.BACKGROUND: 'background'>,\n",
      "                                       <ICAO_REQ.RED_EYES: 'red_eyes'>]},\n",
      "                'orig_model_experiment_id': '',\n",
      "                'sample_prop': 1.0,\n",
      "                'sample_training_data': False,\n",
      "                'save_trained_model': False,\n",
      "                'train_model': True},\n",
      " 'use_neptune': False}\n",
      "-------------------\n",
      "----\n",
      "Base Model Name:  BaseModel.VGG16\n",
      "----\n",
      "MTL Model: True\n",
      "Approach: MTLApproach.HAND_3\n",
      "----\n",
      "--------------------  starting neptune  -------------------\n",
      "Not using Neptune to record Experiment Metadata\n",
      "----\n",
      "Checking model existence locally...\n",
      "Training a new model! Not checking model existence\n",
      "----\n",
      "------------------------------\n",
      "Checking GPU availability\n",
      " ..GPU is available!\n",
      "------------------------------\n"
     ]
    }
   ],
   "source": [
    "kwargs = { \n",
    "    'use_neptune': False,\n",
    "    'exp_params' : {\n",
    "        'name': 'train_vg16_mtl_3_approach',\n",
    "        'description': 'Training MTL network for FVC-ICOA tasks with Handcrafted 3 network architecture',\n",
    "        'tags': ['mtl', 'handcrafted_3', 'handcrafted_3_exp', 'fvc', 'ground_truths', '200 epochs'],\n",
    "        'src_files': [\"../src/**/*.py\"]\n",
    "    },\n",
    "    'properties': {\n",
    "        'approach': MTLApproach.HAND_3,\n",
    "        'benchmarking': {\n",
    "            'use_benchmark_data': True,\n",
    "            'benchmark_dataset': BenchmarkDataset.FASHION_MNIST,\n",
    "            'tasks': list(FASHION_MNIST_TASK)\n",
    "        },\n",
    "        'icao_data': {\n",
    "            'icao_gt': {\n",
    "                'use_gt_data': False,\n",
    "                'gt_names': {\n",
    "                    'train_validation': [],\n",
    "                    'test': [],\n",
    "                    'train_validation_test': [GTName.FVC]\n",
    "                },\n",
    "            },\n",
    "            'icao_dl': {\n",
    "                'use_dl_data': False,\n",
    "                'tagger_model': None\n",
    "            },\n",
    "            'reqs': list(ICAO_REQ),\n",
    "            'aligned': False,\n",
    "        },\n",
    "        'balance_input_data': False,\n",
    "        'train_model': True,\n",
    "        'save_trained_model': False,\n",
    "        'exec_nas': False,\n",
    "        'orig_model_experiment_id': '',\n",
    "        'sample_training_data': False,\n",
    "        'sample_prop': 1.0\n",
    "    },\n",
    "    'net_train_params': {\n",
    "        'base_model': BaseModel.VGG16,\n",
    "        'batch_size': 32,\n",
    "        'n_epochs': 3,\n",
    "        'early_stopping': 200,\n",
    "        'learning_rate': 1e-3,\n",
    "        'optimizer': Optimizer.ADAMAX,\n",
    "        'dropout': 0.3\n",
    "    },\n",
    "    'nas_params': {}\n",
    "}\n",
    "\n",
    "runner = ExperimentRunner(**kwargs)"
   ]
  },
  {
   "cell_type": "markdown",
   "metadata": {},
   "source": [
    "# Load Data"
   ]
  },
  {
   "cell_type": "code",
   "execution_count": 4,
   "metadata": {
    "tags": []
   },
   "outputs": [
    {
     "name": "stdout",
     "output_type": "stream",
     "text": [
      "-------------------- load training data -------------------\n",
      "Loading data\n",
      "TrainData.shape: (48000, 11)\n",
      "ValidationData.shape: (12000, 11)\n",
      "TestData.shape: (10000, 11)\n",
      "Data loaded\n"
     ]
    }
   ],
   "source": [
    "runner.load_training_data()"
   ]
  },
  {
   "cell_type": "markdown",
   "metadata": {},
   "source": [
    "# Sampling Training Data"
   ]
  },
  {
   "cell_type": "code",
   "execution_count": 5,
   "metadata": {},
   "outputs": [
    {
     "name": "stdout",
     "output_type": "stream",
     "text": [
      "-------------------- sample training data -------------------\n",
      "Not applying subsampling in training data!\n"
     ]
    }
   ],
   "source": [
    "runner.sample_training_data()"
   ]
  },
  {
   "cell_type": "markdown",
   "metadata": {},
   "source": [
    "# Data Balancing"
   ]
  },
  {
   "cell_type": "code",
   "execution_count": 6,
   "metadata": {
    "tags": []
   },
   "outputs": [
    {
     "name": "stdout",
     "output_type": "stream",
     "text": [
      "-------------------- balance input data -------------------\n",
      "Not balancing input_data\n"
     ]
    }
   ],
   "source": [
    "runner.balance_input_data()"
   ]
  },
  {
   "cell_type": "markdown",
   "metadata": {},
   "source": [
    "# Data Generators"
   ]
  },
  {
   "cell_type": "code",
   "execution_count": 8,
   "metadata": {
    "tags": []
   },
   "outputs": [
    {
     "name": "stdout",
     "output_type": "stream",
     "text": [
      "-------------------- setup data generators -------------------\n",
      "Starting data generators\n",
      "Found 48000 validated image filenames.\n",
      "Found 12000 validated image filenames.\n",
      "Found 10000 validated image filenames.\n",
      "TOTAL: 70000\n",
      "\n",
      "Logging class indices\n",
      " .. MTL model not logging class indices!\n",
      "\n",
      "Using benchmarking dataset. Not logging class labels!\n"
     ]
    }
   ],
   "source": [
    "runner.setup_data_generators()"
   ]
  },
  {
   "cell_type": "markdown",
   "metadata": {},
   "source": [
    "# Setup Experiment"
   ]
  },
  {
   "cell_type": "code",
   "execution_count": 9,
   "metadata": {},
   "outputs": [
    {
     "name": "stdout",
     "output_type": "stream",
     "text": [
      "-------------------- create experiment -------------------\n",
      "Not using Neptune\n"
     ]
    }
   ],
   "source": [
    "runner.setup_experiment()"
   ]
  },
  {
   "cell_type": "markdown",
   "metadata": {},
   "source": [
    "# Labels Distribution"
   ]
  },
  {
   "cell_type": "code",
   "execution_count": 10,
   "metadata": {
    "tags": []
   },
   "outputs": [
    {
     "name": "stdout",
     "output_type": "stream",
     "text": [
      "-------------------- summary labels dist -------------------\n",
      "Using benchmark data. Not doing summary_labels_dist()\n"
     ]
    }
   ],
   "source": [
    "runner.summary_labels_dist()"
   ]
  },
  {
   "cell_type": "raw",
   "metadata": {},
   "source": [
    "runner.train_data.origin.hist()"
   ]
  },
  {
   "cell_type": "markdown",
   "metadata": {},
   "source": [
    "# Create Model"
   ]
  },
  {
   "cell_type": "code",
   "execution_count": 13,
   "metadata": {
    "collapsed": true,
    "jupyter": {
     "outputs_hidden": true
    },
    "tags": []
   },
   "outputs": [
    {
     "name": "stdout",
     "output_type": "stream",
     "text": [
      "-------------------- create model -------------------\n",
      "Creating model...\n"
     ]
    },
    {
     "ename": "TypeError",
     "evalue": "'NoneType' object cannot be interpreted as an integer",
     "output_type": "error",
     "traceback": [
      "\u001b[0;31m---------------------------------------------------------------------------\u001b[0m",
      "\u001b[0;31mTypeError\u001b[0m                                 Traceback (most recent call last)",
      "\u001b[0;32m/tmp/ipykernel_120702/3109271441.py\u001b[0m in \u001b[0;36m<module>\u001b[0;34m\u001b[0m\n\u001b[0;32m----> 1\u001b[0;31m \u001b[0mrunner\u001b[0m\u001b[0;34m.\u001b[0m\u001b[0mcreate_model\u001b[0m\u001b[0;34m(\u001b[0m\u001b[0;34m)\u001b[0m\u001b[0;34m\u001b[0m\u001b[0;34m\u001b[0m\u001b[0m\n\u001b[0m",
      "\u001b[0;32m~/anaconda3/envs/mteval-icao-reqs/submodules/icao_nets_training/project/src/exp_runner.py\u001b[0m in \u001b[0;36mcreate_model\u001b[0;34m(self, config)\u001b[0m\n\u001b[1;32m    173\u001b[0m                 \u001b[0mself\u001b[0m\u001b[0;34m.\u001b[0m\u001b[0mmodel_trainer\u001b[0m\u001b[0;34m.\u001b[0m\u001b[0mcreate_model\u001b[0m\u001b[0;34m(\u001b[0m\u001b[0mself\u001b[0m\u001b[0;34m.\u001b[0m\u001b[0mtrain_gen\u001b[0m\u001b[0;34m,\u001b[0m \u001b[0mconfig\u001b[0m\u001b[0;34m=\u001b[0m\u001b[0mconfig\u001b[0m\u001b[0;34m)\u001b[0m\u001b[0;34m\u001b[0m\u001b[0;34m\u001b[0m\u001b[0m\n\u001b[1;32m    174\u001b[0m         \u001b[0;32melse\u001b[0m\u001b[0;34m:\u001b[0m\u001b[0;34m\u001b[0m\u001b[0;34m\u001b[0m\u001b[0m\n\u001b[0;32m--> 175\u001b[0;31m             \u001b[0mself\u001b[0m\u001b[0;34m.\u001b[0m\u001b[0mmodel_trainer\u001b[0m\u001b[0;34m.\u001b[0m\u001b[0mcreate_model\u001b[0m\u001b[0;34m(\u001b[0m\u001b[0mself\u001b[0m\u001b[0;34m.\u001b[0m\u001b[0mtrain_gen\u001b[0m\u001b[0;34m)\u001b[0m\u001b[0;34m\u001b[0m\u001b[0;34m\u001b[0m\u001b[0m\n\u001b[0m\u001b[1;32m    176\u001b[0m \u001b[0;34m\u001b[0m\u001b[0m\n\u001b[1;32m    177\u001b[0m \u001b[0;34m\u001b[0m\u001b[0m\n",
      "\u001b[0;32m~/anaconda3/envs/mteval-icao-reqs/submodules/icao_nets_training/project/src/base/experiment/model_trainer.py\u001b[0m in \u001b[0;36mcreate_model\u001b[0;34m(self, train_gen, config, running_nas)\u001b[0m\n\u001b[1;32m    106\u001b[0m \u001b[0;34m\u001b[0m\u001b[0m\n\u001b[1;32m    107\u001b[0m         \u001b[0mprint\u001b[0m\u001b[0;34m(\u001b[0m\u001b[0;34m'Creating model...'\u001b[0m\u001b[0;34m)\u001b[0m\u001b[0;34m\u001b[0m\u001b[0;34m\u001b[0m\u001b[0m\n\u001b[0;32m--> 108\u001b[0;31m         \u001b[0mself\u001b[0m\u001b[0;34m.\u001b[0m\u001b[0mbaseModel\u001b[0m\u001b[0;34m,\u001b[0m \u001b[0mself\u001b[0m\u001b[0;34m.\u001b[0m\u001b[0mmodel\u001b[0m \u001b[0;34m=\u001b[0m \u001b[0mself\u001b[0m\u001b[0;34m.\u001b[0m\u001b[0mmodel_creator\u001b[0m\u001b[0;34m.\u001b[0m\u001b[0mcreate_model\u001b[0m\u001b[0;34m(\u001b[0m\u001b[0mtrain_gen\u001b[0m\u001b[0;34m,\u001b[0m \u001b[0mconfig\u001b[0m\u001b[0;34m)\u001b[0m\u001b[0;34m\u001b[0m\u001b[0;34m\u001b[0m\u001b[0m\n\u001b[0m\u001b[1;32m    109\u001b[0m \u001b[0;34m\u001b[0m\u001b[0m\n\u001b[1;32m    110\u001b[0m         \u001b[0;32mif\u001b[0m \u001b[0mself\u001b[0m\u001b[0;34m.\u001b[0m\u001b[0mconfig_interp\u001b[0m\u001b[0;34m.\u001b[0m\u001b[0muse_neptune\u001b[0m \u001b[0;32mand\u001b[0m \u001b[0;32mnot\u001b[0m \u001b[0mrunning_nas\u001b[0m\u001b[0;34m:\u001b[0m\u001b[0;34m\u001b[0m\u001b[0;34m\u001b[0m\u001b[0m\n",
      "\u001b[0;32m~/anaconda3/envs/mteval-icao-reqs/submodules/icao_nets_training/project/src/base/experiment/model_creator.py\u001b[0m in \u001b[0;36mcreate_model\u001b[0;34m(self, train_gen, config)\u001b[0m\n\u001b[1;32m    295\u001b[0m                 \u001b[0;32mreturn\u001b[0m \u001b[0mself\u001b[0m\u001b[0;34m.\u001b[0m\u001b[0mcreate_mtl_model_2\u001b[0m\u001b[0;34m(\u001b[0m\u001b[0;34m)\u001b[0m\u001b[0;34m\u001b[0m\u001b[0;34m\u001b[0m\u001b[0m\n\u001b[1;32m    296\u001b[0m             \u001b[0;32melif\u001b[0m \u001b[0mself\u001b[0m\u001b[0;34m.\u001b[0m\u001b[0mconfig_interp\u001b[0m\u001b[0;34m.\u001b[0m\u001b[0mapproach\u001b[0m\u001b[0;34m.\u001b[0m\u001b[0mvalue\u001b[0m \u001b[0;34m==\u001b[0m \u001b[0mMTLApproach\u001b[0m\u001b[0;34m.\u001b[0m\u001b[0mHAND_3\u001b[0m\u001b[0;34m.\u001b[0m\u001b[0mvalue\u001b[0m\u001b[0;34m:\u001b[0m\u001b[0;34m\u001b[0m\u001b[0;34m\u001b[0m\u001b[0m\n\u001b[0;32m--> 297\u001b[0;31m                 \u001b[0;32mreturn\u001b[0m \u001b[0mself\u001b[0m\u001b[0;34m.\u001b[0m\u001b[0mcreate_mtl_model_3\u001b[0m\u001b[0;34m(\u001b[0m\u001b[0;34m)\u001b[0m\u001b[0;34m\u001b[0m\u001b[0;34m\u001b[0m\u001b[0m\n\u001b[0m\u001b[1;32m    298\u001b[0m             \u001b[0;32melif\u001b[0m \u001b[0mself\u001b[0m\u001b[0;34m.\u001b[0m\u001b[0mconfig_interp\u001b[0m\u001b[0;34m.\u001b[0m\u001b[0mapproach\u001b[0m\u001b[0;34m.\u001b[0m\u001b[0mvalue\u001b[0m \u001b[0;34m==\u001b[0m \u001b[0mNAS_MTLApproach\u001b[0m\u001b[0;34m.\u001b[0m\u001b[0mAPPROACH_1\u001b[0m\u001b[0;34m.\u001b[0m\u001b[0mvalue\u001b[0m \u001b[0;32mor\u001b[0m\u001b[0;31m \u001b[0m\u001b[0;31m\\\u001b[0m\u001b[0;34m\u001b[0m\u001b[0;34m\u001b[0m\u001b[0m\n\u001b[1;32m    299\u001b[0m                     \u001b[0mself\u001b[0m\u001b[0;34m.\u001b[0m\u001b[0mconfig_interp\u001b[0m\u001b[0;34m.\u001b[0m\u001b[0mapproach\u001b[0m\u001b[0;34m.\u001b[0m\u001b[0mvalue\u001b[0m \u001b[0;34m==\u001b[0m \u001b[0mNAS_MTLApproach\u001b[0m\u001b[0;34m.\u001b[0m\u001b[0mAPPROACH_2\u001b[0m\u001b[0;34m.\u001b[0m\u001b[0mvalue\u001b[0m\u001b[0;34m:\u001b[0m\u001b[0;34m\u001b[0m\u001b[0;34m\u001b[0m\u001b[0m\n",
      "\u001b[0;32m~/anaconda3/envs/mteval-icao-reqs/submodules/icao_nets_training/project/src/base/experiment/model_creator.py\u001b[0m in \u001b[0;36mcreate_mtl_model_3\u001b[0;34m(self)\u001b[0m\n\u001b[1;32m    241\u001b[0m         \u001b[0mout_branches_list\u001b[0m \u001b[0;34m=\u001b[0m \u001b[0mbr_list_0\u001b[0m \u001b[0;34m+\u001b[0m \u001b[0mbr_list_1\u001b[0m \u001b[0;34m+\u001b[0m \u001b[0mbr_list_2\u001b[0m \u001b[0;34m+\u001b[0m \u001b[0mbr_list_3\u001b[0m\u001b[0;34m\u001b[0m\u001b[0;34m\u001b[0m\u001b[0m\n\u001b[1;32m    242\u001b[0m \u001b[0;34m\u001b[0m\u001b[0m\n\u001b[0;32m--> 243\u001b[0;31m         \u001b[0mmodel\u001b[0m \u001b[0;34m=\u001b[0m \u001b[0mself\u001b[0m\u001b[0;34m.\u001b[0m\u001b[0m__compile_mtl_model\u001b[0m\u001b[0;34m(\u001b[0m\u001b[0mbaseModel\u001b[0m\u001b[0;34m.\u001b[0m\u001b[0minput\u001b[0m\u001b[0;34m,\u001b[0m \u001b[0mout_branches_list\u001b[0m\u001b[0;34m)\u001b[0m\u001b[0;34m\u001b[0m\u001b[0;34m\u001b[0m\u001b[0m\n\u001b[0m\u001b[1;32m    244\u001b[0m \u001b[0;34m\u001b[0m\u001b[0m\n\u001b[1;32m    245\u001b[0m         \u001b[0;32mreturn\u001b[0m \u001b[0mbaseModel\u001b[0m\u001b[0;34m,\u001b[0m \u001b[0mmodel\u001b[0m\u001b[0;34m\u001b[0m\u001b[0;34m\u001b[0m\u001b[0m\n",
      "\u001b[0;32m~/anaconda3/envs/mteval-icao-reqs/submodules/icao_nets_training/project/src/base/experiment/model_creator.py\u001b[0m in \u001b[0;36m__compile_mtl_model\u001b[0;34m(self, input_layer, output_layers)\u001b[0m\n\u001b[1;32m    110\u001b[0m \u001b[0;34m\u001b[0m\u001b[0m\n\u001b[1;32m    111\u001b[0m         \u001b[0mopt\u001b[0m \u001b[0;34m=\u001b[0m \u001b[0mself\u001b[0m\u001b[0;34m.\u001b[0m\u001b[0m__get_optimizer\u001b[0m\u001b[0;34m(\u001b[0m\u001b[0;34m)\u001b[0m\u001b[0;34m\u001b[0m\u001b[0;34m\u001b[0m\u001b[0m\n\u001b[0;32m--> 112\u001b[0;31m         \u001b[0mloss_list\u001b[0m \u001b[0;34m=\u001b[0m \u001b[0;34m[\u001b[0m\u001b[0;34m'sparse_categorical_crossentropy'\u001b[0m \u001b[0;32mfor\u001b[0m \u001b[0m_\u001b[0m \u001b[0;32min\u001b[0m \u001b[0mrange\u001b[0m\u001b[0;34m(\u001b[0m\u001b[0mn_tasks\u001b[0m\u001b[0;34m)\u001b[0m\u001b[0;34m]\u001b[0m\u001b[0;34m\u001b[0m\u001b[0;34m\u001b[0m\u001b[0m\n\u001b[0m\u001b[1;32m    113\u001b[0m         \u001b[0mmetrics_list\u001b[0m \u001b[0;34m=\u001b[0m \u001b[0;34m[\u001b[0m\u001b[0;34m'accuracy'\u001b[0m\u001b[0;34m]\u001b[0m\u001b[0;34m\u001b[0m\u001b[0;34m\u001b[0m\u001b[0m\n\u001b[1;32m    114\u001b[0m         \u001b[0mloss_weights\u001b[0m \u001b[0;34m=\u001b[0m \u001b[0;34m[\u001b[0m\u001b[0;36m.1\u001b[0m \u001b[0;32mfor\u001b[0m \u001b[0m_\u001b[0m \u001b[0;32min\u001b[0m \u001b[0mrange\u001b[0m\u001b[0;34m(\u001b[0m\u001b[0mn_tasks\u001b[0m\u001b[0;34m)\u001b[0m\u001b[0;34m]\u001b[0m\u001b[0;34m\u001b[0m\u001b[0;34m\u001b[0m\u001b[0m\n",
      "\u001b[0;31mTypeError\u001b[0m: 'NoneType' object cannot be interpreted as an integer"
     ]
    }
   ],
   "source": [
    "runner.create_model()"
   ]
  },
  {
   "cell_type": "markdown",
   "metadata": {},
   "source": [
    "# Vizualize Model"
   ]
  },
  {
   "cell_type": "code",
   "execution_count": 11,
   "metadata": {
    "tags": []
   },
   "outputs": [
    {
     "name": "stdout",
     "output_type": "stream",
     "text": [
      "-------------------- vizualize model -------------------\n",
      "Not training a model! No model to exhibit!\n"
     ]
    }
   ],
   "source": [
    "runner.visualize_model(outfile_path=f\"figs/handcrafted_mtl_model_3.png\")"
   ]
  },
  {
   "cell_type": "code",
   "execution_count": 12,
   "metadata": {
    "tags": []
   },
   "outputs": [
    {
     "name": "stdout",
     "output_type": "stream",
     "text": [
      "Not training a model!\n"
     ]
    }
   ],
   "source": [
    "runner.model_summary()"
   ]
  },
  {
   "cell_type": "markdown",
   "metadata": {},
   "source": [
    "# Training Model"
   ]
  },
  {
   "cell_type": "code",
   "execution_count": 13,
   "metadata": {
    "collapsed": true,
    "jupyter": {
     "outputs_hidden": true
    },
    "tags": []
   },
   "outputs": [
    {
     "name": "stdout",
     "output_type": "stream",
     "text": [
      "-------------------- train model -------------------\n",
      "Not training a model. Downloading data from Neptune\n",
      " ..Experiment ID: ICAO-338\n",
      " ..Downloading data from previous experiment\n",
      "https://app.neptune.ai/guilhermemg/icao-nets-training-2/e/ICAO-338\n",
      "Remember to stop your run once you’ve finished logging your metadata (https://docs.neptune.ai/api-reference/run#.stop). It will be stopped automatically only when the notebook kernel/interactive console is terminated.\n",
      " ..Requisite: ICAO_REQ.MOUTH\n",
      " ..Download finished\n",
      " ..Upload data to current experiment\n",
      " ..Requisite: ICAO_REQ.ROTATION\n",
      " ..Download finished\n",
      " ..Upload data to current experiment\n",
      " ..Requisite: ICAO_REQ.L_AWAY\n",
      " ..Download finished\n",
      " ..Upload data to current experiment\n",
      " ..Requisite: ICAO_REQ.EYES_CLOSED\n",
      " ..Download finished\n",
      " ..Upload data to current experiment\n",
      " ..Requisite: ICAO_REQ.CLOSE\n",
      " ..Download finished\n",
      " ..Upload data to current experiment\n",
      " ..Requisite: ICAO_REQ.HAT\n",
      " ..Download finished\n",
      " ..Upload data to current experiment\n",
      " ..Requisite: ICAO_REQ.DARK_GLASSES\n",
      " ..Download finished\n",
      " ..Upload data to current experiment\n",
      " ..Requisite: ICAO_REQ.FRAMES_HEAVY\n",
      " ..Download finished\n",
      " ..Upload data to current experiment\n",
      " ..Requisite: ICAO_REQ.FRAME_EYES\n",
      " ..Download finished\n",
      " ..Upload data to current experiment\n",
      " ..Requisite: ICAO_REQ.FLASH_LENSES\n",
      " ..Download finished\n",
      " ..Upload data to current experiment\n",
      " ..Requisite: ICAO_REQ.VEIL\n",
      " ..Download finished\n",
      " ..Upload data to current experiment\n",
      " ..Requisite: ICAO_REQ.REFLECTION\n",
      " ..Download finished\n",
      " ..Upload data to current experiment\n",
      " ..Requisite: ICAO_REQ.LIGHT\n",
      " ..Download finished\n",
      " ..Upload data to current experiment\n",
      " ..Requisite: ICAO_REQ.SHADOW_FACE\n",
      " ..Download finished\n",
      " ..Upload data to current experiment\n",
      " ..Requisite: ICAO_REQ.SHADOW_HEAD\n",
      " ..Download finished\n",
      " ..Upload data to current experiment\n",
      " ..Requisite: ICAO_REQ.BLURRED\n",
      " ..Download finished\n",
      " ..Upload data to current experiment\n",
      " ..Requisite: ICAO_REQ.INK_MARK\n",
      " ..Download finished\n",
      " ..Upload data to current experiment\n",
      " ..Requisite: ICAO_REQ.SKIN_TONE\n",
      " ..Download finished\n",
      " ..Upload data to current experiment\n",
      " ..Requisite: ICAO_REQ.WASHED_OUT\n",
      " ..Download finished\n",
      " ..Upload data to current experiment\n",
      " ..Requisite: ICAO_REQ.PIXELATION\n",
      " ..Download finished\n",
      " ..Upload data to current experiment\n",
      " ..Requisite: ICAO_REQ.HAIR_EYES\n",
      " ..Download finished\n",
      " ..Upload data to current experiment\n",
      " ..Requisite: ICAO_REQ.BACKGROUND\n",
      " ..Download finished\n",
      " ..Upload data to current experiment\n",
      " ..Requisite: ICAO_REQ.RED_EYES\n",
      " ..Download finished\n",
      " ..Upload data to current experiment\n",
      " ..Upload finished\n",
      "Shutting down background jobs, please wait a moment...\n",
      "Done!\n",
      "Waiting for the remaining 29 operations to synchronize with Neptune. Do not kill this process.\n",
      "All 29 operations synced, thanks for waiting!\n",
      "Explore the metadata in the Neptune app:\n",
      "https://app.neptune.ai/guilhermemg/icao-nets-training-2/e/ICAO-338\n"
     ]
    }
   ],
   "source": [
    "runner.train_model()"
   ]
  },
  {
   "cell_type": "markdown",
   "metadata": {},
   "source": [
    "# Plots"
   ]
  },
  {
   "cell_type": "code",
   "execution_count": 14,
   "metadata": {
    "collapsed": true,
    "jupyter": {
     "outputs_hidden": true
    },
    "tags": []
   },
   "outputs": [
    {
     "name": "stdout",
     "output_type": "stream",
     "text": [
      "-------------------- draw training history -------------------\n",
      "Not training a model. Downloading plot from Neptune\n",
      " ..Experiment ID: ICAO-338\n",
      " ..Downloading plot from previous experiment\n",
      "https://app.neptune.ai/guilhermemg/icao-nets-training-2/e/ICAO-338\n",
      "Remember to stop your run once you’ve finished logging your metadata (https://docs.neptune.ai/api-reference/run#.stop). It will be stopped automatically only when the notebook kernel/interactive console is terminated.\n",
      " ..Download finished\n",
      " ..Uploading plot\n",
      " ..Upload finished\n",
      "Shutting down background jobs, please wait a moment...\n",
      "Done!\n",
      "Waiting for the remaining 12 operations to synchronize with Neptune. Do not kill this process.\n",
      "All 12 operations synced, thanks for waiting!\n",
      "Explore the metadata in the Neptune app:\n",
      "https://app.neptune.ai/guilhermemg/icao-nets-training-2/e/ICAO-338\n"
     ]
    }
   ],
   "source": [
    "runner.draw_training_history()"
   ]
  },
  {
   "cell_type": "markdown",
   "metadata": {},
   "source": [
    "# Load Best Model"
   ]
  },
  {
   "cell_type": "code",
   "execution_count": 15,
   "metadata": {},
   "outputs": [
    {
     "name": "stdout",
     "output_type": "stream",
     "text": [
      "-------------------- load best model -------------------\n",
      "..Loading best model\n",
      "WARNING:tensorflow:SavedModel saved prior to TF 2.5 detected when loading Keras model. Please ensure that you are saving the model with model.save() or tf.keras.models.save_model(), *NOT* tf.saved_model.save(). To confirm, there should be a file named \"keras_metadata.pb\" in the SavedModel directory.\n",
      "..Model loaded\n",
      "...Model path: prev_trained_models/multi_task/fvc_not_aligned/multi_reqs/ICAO-338\n"
     ]
    }
   ],
   "source": [
    "runner.load_best_model()"
   ]
  },
  {
   "cell_type": "markdown",
   "metadata": {},
   "source": [
    "# Saving Trained Model"
   ]
  },
  {
   "cell_type": "code",
   "execution_count": 16,
   "metadata": {},
   "outputs": [
    {
     "name": "stdout",
     "output_type": "stream",
     "text": [
      "-------------------- save model -------------------\n",
      "Not saving model!\n"
     ]
    }
   ],
   "source": [
    "runner.save_model()"
   ]
  },
  {
   "cell_type": "markdown",
   "metadata": {},
   "source": [
    "# Test Trained Model"
   ]
  },
  {
   "cell_type": "markdown",
   "metadata": {},
   "source": [
    "## Validation Split"
   ]
  },
  {
   "cell_type": "code",
   "execution_count": 17,
   "metadata": {
    "tags": []
   },
   "outputs": [
    {
     "name": "stdout",
     "output_type": "stream",
     "text": [
      "Testing Trained Model\n",
      "Predicting labels....\n",
      "18/18 [==============================] - 37s 2s/step\n",
      "Prediction finished!\n"
     ]
    },
    {
     "name": "stderr",
     "output_type": "stream",
     "text": [
      "/home/guilherme/anaconda3/envs/mteval-icao-reqs/submodules/icao_nets_training/lib/python3.8/site-packages/scipy/interpolate/interpolate.py:630: RuntimeWarning: divide by zero encountered in true_divide\n",
      "  slope = (y_hi - y_lo) / (x_hi - x_lo)[:, None]\n",
      "/home/guilherme/anaconda3/envs/mteval-icao-reqs/submodules/icao_nets_training/lib/python3.8/site-packages/scipy/interpolate/interpolate.py:633: RuntimeWarning: invalid value encountered in multiply\n",
      "  y_new = slope*(x_new - x_lo)[:, None] + y_lo\n",
      "Error occurred during asynchronous operation processing: Value of float attribute cannot be malformed.\n",
      "/home/guilherme/anaconda3/envs/mteval-icao-reqs/submodules/icao_nets_training/lib/python3.8/site-packages/sklearn/metrics/_ranking.py:803: UndefinedMetricWarning: No negative samples in y_true, false positive value should be meaningless\n",
      "  warnings.warn(\"No negative samples in y_true, \"\n"
     ]
    },
    {
     "name": "stdout",
     "output_type": "stream",
     "text": [
      "  Task  0: mouth           | EER_mean: 0.04520 | EER_interp: 0.04230 | ACC: 0.95610\n",
      "  Task  1: rotation        | EER_mean: 0.18980 | EER_interp: 0.19490 | ACC: 0.80260\n",
      "  Task  2: l_away          | EER_mean: 0.10300 | EER_interp: 0.10640 | ACC: 0.89210\n",
      "  Task  3: eyes_closed     | EER_mean: 0.02830 | EER_interp: 0.02550 | ACC: 0.97620\n",
      "  Task  4: close           | EER_mean: 0.16670 | EER_interp: 0.14060 | ACC: 0.88480\n",
      "  Task  5: hat             | EER_mean: 0.01080 | EER_interp: 0.00870 | ACC: 0.99270\n",
      "  Task  6: dark_glasses    | EER_mean: 0.01920 | EER_interp: 0.01060 | ACC: 0.99630\n",
      "  Task  7: frames_heavy    | EER_mean: 0.02020 | EER_interp: 0.00000 | ACC: 0.97990\n",
      "  Task  8: frame_eyes      | EER_mean: 0.03540 | EER_interp: 0.03420 | ACC: 0.96530\n",
      "  Task  9: flash_lenses    | EER_mean: 0.05530 | EER_interp: 0.05420 | ACC: 0.94520\n",
      "  Task 10: veil            | EER_mean: 0.00000 | EER_interp: 0.00000 | ACC: 0.93970\n",
      "  Task 11: reflection      | EER_mean: 0.13580 | EER_interp: 0.13880 | ACC: 0.86110\n",
      "  Task 12: light           | EER_mean: 0.14290 | EER_interp: 0.13780 | ACC: 0.86650\n",
      "  Task 13: sh_face         | EER_mean: 0.12680 | EER_interp: 0.12620 | ACC: 0.87390\n",
      "  Task 14: sh_head         | EER_mean: 0.05940 | EER_interp: 0.05870 | ACC: 0.94150\n",
      "  Task 15: blurred         | EER_mean: 0.10710 | EER_interp: 0.10000 | ACC: 0.89400\n",
      "  Task 16: skin_tone       | EER_mean: 0.00000 | EER_interp: 0.00000 | ACC: 1.00000\n",
      "  Task 17: washed_out      | EER_mean: 0.14530 | EER_interp: 0.14460 | ACC: 0.85560\n",
      "  Task 18: pixelation      | EER_mean: 0.17550 | EER_interp: 0.00000 | ACC: 0.82450\n",
      "  Task 19: hair_eyes       | EER_mean: 0.24220 | EER_interp: 0.23400 | ACC: 0.75870\n",
      "  Task 20: background      | EER_mean: 0.07410 | EER_interp: 0.07460 | ACC: 0.92500\n",
      "  Task 21: red_eyes        | EER_mean: 0.11080 | EER_interp: 0.10940 | ACC: 0.89030\n",
      "final_EER_mean: 7.92% | final_EER_median: 6.66% | final_EER_std_dv: 6.7% | final_ACC: 91.01%\n"
     ]
    }
   ],
   "source": [
    "runner.set_model_evaluator_data_src(DataSource.VALIDATION)\n",
    "runner.test_model(verbose=False)"
   ]
  },
  {
   "cell_type": "markdown",
   "metadata": {},
   "source": [
    "## Test Split"
   ]
  },
  {
   "cell_type": "code",
   "execution_count": 18,
   "metadata": {
    "tags": []
   },
   "outputs": [
    {
     "name": "stdout",
     "output_type": "stream",
     "text": [
      "Testing Trained Model\n",
      "Predicting labels....\n",
      "3/9 [=========>....................] - ETA: 8s"
     ]
    },
    {
     "name": "stderr",
     "output_type": "stream",
     "text": [
      "Error occurred during asynchronous operation processing: Value of float attribute cannot be malformed.\n"
     ]
    },
    {
     "name": "stdout",
     "output_type": "stream",
     "text": [
      "9/9 [==============================] - 17s 2s/step\n",
      "Prediction finished!\n"
     ]
    },
    {
     "name": "stderr",
     "output_type": "stream",
     "text": [
      "Error occurred during asynchronous operation processing: Value of float attribute cannot be malformed.\n"
     ]
    },
    {
     "name": "stdout",
     "output_type": "stream",
     "text": [
      "  Task  0: mouth           | EER_mean: 0.05480 | EER_interp: 0.03670 | ACC: 0.97220\n",
      "  Task  1: rotation        | EER_mean: 0.18750 | EER_interp: 0.18750 | ACC: 0.81250\n",
      "  Task  2: l_away          | EER_mean: 0.11490 | EER_interp: 0.11960 | ACC: 0.87850\n",
      "  Task  3: eyes_closed     | EER_mean: 0.03860 | EER_interp: 0.03750 | ACC: 0.96180\n",
      "  Task  4: close           | EER_mean: 0.11190 | EER_interp: 0.00000 | ACC: 0.88890\n",
      "  Task  5: hat             | EER_mean: 0.01960 | EER_interp: 0.01610 | ACC: 0.98610\n",
      "  Task  6: dark_glasses    | EER_mean: 0.01950 | EER_interp: 0.00000 | ACC: 0.98260\n",
      "  Task  7: frames_heavy    | EER_mean: 0.00000 | EER_interp: 0.00000 | ACC: 0.99310\n",
      "  Task  8: frame_eyes      | EER_mean: 0.04900 | EER_interp: 0.04830 | ACC: 0.95140\n",
      "  Task  9: flash_lenses    | EER_mean: 0.04390 | EER_interp: 0.03860 | ACC: 0.95830\n",
      "  Task 10: veil            | EER_mean: 0.04760 | EER_interp: 0.04820 | ACC: 0.95140\n",
      "  Task 11: reflection      | EER_mean: 0.13460 | EER_interp: 0.13170 | ACC: 0.86810\n",
      "  Task 12: light           | EER_mean: 0.13040 | EER_interp: 0.08220 | ACC: 0.95830\n",
      "  Task 13: sh_face         | EER_mean: 0.12220 | EER_interp: 0.12130 | ACC: 0.87850\n",
      "  Task 14: sh_head         | EER_mean: 0.06490 | EER_interp: 0.06160 | ACC: 0.93750\n",
      "  Task 15: blurred         | EER_mean: 0.11430 | EER_interp: 0.09670 | ACC: 0.91670\n",
      "  Task 16: skin_tone       | EER_mean: 0.00000 | EER_interp: 0.00000 | ACC: 1.00000\n",
      "  Task 17: washed_out      | EER_mean: 0.19080 | EER_interp: 0.19100 | ACC: 0.80900\n",
      "  Task 18: pixelation      | EER_mean: 0.00000 | EER_interp: 0.00000 | ACC: 0.98610\n",
      "  Task 19: hair_eyes       | EER_mean: 0.27860 | EER_interp: 0.27390 | ACC: 0.72220\n",
      "  Task 20: background      | EER_mean: 0.06000 | EER_interp: 0.04890 | ACC: 0.95830\n",
      "  Task 21: red_eyes        | EER_mean: 0.10390 | EER_interp: 0.10420 | ACC: 0.89580\n",
      "final_EER_mean: 7.47% | final_EER_median: 4.86% | final_EER_std_dv: 7.15% | final_ACC: 92.12%\n"
     ]
    }
   ],
   "source": [
    "runner.set_model_evaluator_data_src(DataSource.TEST)\n",
    "runner.test_model(verbose=False)"
   ]
  },
  {
   "cell_type": "markdown",
   "metadata": {},
   "source": [
    "# Visualize Model Classification"
   ]
  },
  {
   "cell_type": "raw",
   "metadata": {},
   "source": [
    "runner.visualize_predictions()"
   ]
  },
  {
   "cell_type": "markdown",
   "metadata": {},
   "source": [
    "# Finishing Experiment Manager"
   ]
  },
  {
   "cell_type": "code",
   "execution_count": 19,
   "metadata": {
    "tags": []
   },
   "outputs": [
    {
     "name": "stdout",
     "output_type": "stream",
     "text": [
      "-------------------- finish experiment -------------------\n",
      "Finishing Neptune\n",
      "Shutting down background jobs, please wait a moment...\n",
      "Done!\n",
      "Waiting for the remaining 146 operations to synchronize with Neptune. Do not kill this process.\n"
     ]
    },
    {
     "name": "stderr",
     "output_type": "stream",
     "text": [
      "Error occurred during asynchronous operation processing: Value of float attribute cannot be malformed.\n",
      "Error occurred during asynchronous operation processing: Value of float attribute cannot be malformed.\n"
     ]
    },
    {
     "name": "stdout",
     "output_type": "stream",
     "text": [
      "All 146 operations synced, thanks for waiting!\n",
      "Explore the metadata in the Neptune app:\n",
      "https://app.neptune.ai/guilhermemg/icao-nets-training-2/e/ICAO-349\n"
     ]
    }
   ],
   "source": [
    "runner.finish_experiment()"
   ]
  }
 ],
 "metadata": {
  "interpreter": {
   "hash": "85f5044ba23e75135dc4c908fd4d7609c1c80b195047fdb4d16ee0e66a953254"
  },
  "kernelspec": {
   "display_name": "Python 3 (ipykernel)",
   "language": "python",
   "name": "python3"
  },
  "language_info": {
   "codemirror_mode": {
    "name": "ipython",
    "version": 3
   },
   "file_extension": ".py",
   "mimetype": "text/x-python",
   "name": "python",
   "nbconvert_exporter": "python",
   "pygments_lexer": "ipython3",
   "version": "3.8.0"
  },
  "neptune": {
   "notebookId": "d6d95e8a-b251-40a1-bf9d-610ebc484f63"
  },
  "toc-autonumbering": true
 },
 "nbformat": 4,
 "nbformat_minor": 4
}

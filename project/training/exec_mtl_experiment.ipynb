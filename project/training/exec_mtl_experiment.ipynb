{
 "cells": [
  {
   "cell_type": "markdown",
   "metadata": {},
   "source": [
    "# Import Libraries"
   ]
  },
  {
   "cell_type": "code",
   "execution_count": 1,
   "metadata": {},
   "outputs": [],
   "source": [
    "%load_ext autoreload\n",
    "%autoreload 2"
   ]
  },
  {
   "cell_type": "code",
   "execution_count": 2,
   "metadata": {},
   "outputs": [],
   "source": [
    "import os\n",
    "# disable tensorflow log level infos\n",
    "os.environ['TF_CPP_MIN_LOG_LEVEL'] = '2' # show only errors\n",
    "\n",
    "import sys\n",
    "import pandas as pd\n",
    "\n",
    "if '..' not in sys.path:\n",
    "    sys.path.insert(0,'..')"
   ]
  },
  {
   "cell_type": "code",
   "execution_count": 3,
   "metadata": {},
   "outputs": [
    {
     "name": "stdout",
     "output_type": "stream",
     "text": [
      " ==> Restrict GPU memory growth: True\n"
     ]
    }
   ],
   "source": [
    "from src.base.data_loaders.data_loader import DLName\n",
    "from src.base.gt_loaders.gt_names import GTName\n",
    "\n",
    "from src.base.experiment.training.base_models import BaseModel\n",
    "from src.base.experiment.training.model_creator import Optimizer\n",
    "\n",
    "from src.base.experiment.dataset.benchmark_dataset import BenchmarkDataset\n",
    "from src.base.experiment.evaluation.model_evaluator import DataSource, DataPredSelection\n",
    "\n",
    "from src.exp_runner import ExperimentRunner\n",
    "\n",
    "from src.m_utils.mtl_approach import MTLApproach\n",
    "\n",
    "from src.base.experiment.tasks.task import ICAO_REQ\n",
    "from src.base.experiment.tasks.task import MNIST_TASK\n",
    "from src.base.experiment.tasks.task import FASHION_MNIST_TASK\n",
    "from src.base.experiment.tasks.task import CIFAR_10_TASK\n",
    "from src.base.experiment.tasks.task import CELEB_A_TASK"
   ]
  },
  {
   "cell_type": "markdown",
   "metadata": {},
   "source": [
    "# Start Network runner"
   ]
  },
  {
   "cell_type": "code",
   "execution_count": 4,
   "metadata": {
    "tags": []
   },
   "outputs": [
    {
     "name": "stdout",
     "output_type": "stream",
     "text": [
      "-------------------- Init ExperimentRunner -------------------\n",
      "---------------------------\n",
      "Parent Process ID: 120314\n",
      "Process ID: 128362\n",
      "---------------------------\n",
      "-----\n",
      "Use Neptune:  False\n",
      "-----\n",
      "-------------------\n",
      "Args: \n",
      "{'exp_params': {'description': 'Training MTL network for CIFAR-10 tasks with '\n",
      "                               'Handcrafted 3 network architecture',\n",
      "                'name': 'train_vg16_mtl_3_approach',\n",
      "                'src_files': ['../src/**/*.py'],\n",
      "                'tags': ['mtl',\n",
      "                         'handcrafted_3',\n",
      "                         'handcrafted_3_exp',\n",
      "                         'cifar10',\n",
      "                         'benchmark',\n",
      "                         '1 epochs']},\n",
      " 'nas_params': {},\n",
      " 'net_train_params': {'base_model': <BaseModel.VGG16: {'name': 'vgg16', 'target_size': (224, 224), 'prep_function': <function preprocess_input at 0x7fc5a63c6820>}>,\n",
      "                      'batch_size': 32,\n",
      "                      'dropout': 0.3,\n",
      "                      'early_stopping': 200,\n",
      "                      'learning_rate': 0.001,\n",
      "                      'n_epochs': 1,\n",
      "                      'optimizer': <Optimizer.ADAMAX: 'Adamax'>},\n",
      " 'properties': {'approach': <MTLApproach.HAND_3: 'handcrafted_3'>,\n",
      "                'balance_input_data': False,\n",
      "                'benchmarking': {'benchmark_dataset': <BenchmarkDataset.CIFAR_10: {'name': 'cifar_10', 'target_cols': ['airplane', 'automobile', 'bird', 'cat', 'deer', 'dog', 'frog', 'horse', 'ship', 'truck']}>,\n",
      "                                 'tasks': [<CIFAR_10_TASK.AIRPLANE: 'airplane'>,\n",
      "                                           <CIFAR_10_TASK.AUTOMOBILE: 'automobile'>,\n",
      "                                           <CIFAR_10_TASK.BIRD: 'bird'>,\n",
      "                                           <CIFAR_10_TASK.CAT: 'cat'>,\n",
      "                                           <CIFAR_10_TASK.DEER: 'deer'>,\n",
      "                                           <CIFAR_10_TASK.DOG: 'dog'>,\n",
      "                                           <CIFAR_10_TASK.FROG: 'frog'>,\n",
      "                                           <CIFAR_10_TASK.HORSE: 'horse'>,\n",
      "                                           <CIFAR_10_TASK.SHIP: 'ship'>,\n",
      "                                           <CIFAR_10_TASK.TRUCK: 'truck'>],\n",
      "                                 'use_benchmark_data': True},\n",
      "                'exec_nas': False,\n",
      "                'icao_data': {'aligned': False,\n",
      "                              'icao_dl': {'tagger_model': None,\n",
      "                                          'use_dl_data': False},\n",
      "                              'icao_gt': {'gt_names': {'test': [],\n",
      "                                                       'train_validation': [],\n",
      "                                                       'train_validation_test': [<GTName.FVC: 'fvc'>]},\n",
      "                                          'use_gt_data': False},\n",
      "                              'reqs': [<ICAO_REQ.MOUTH: 'mouth'>,\n",
      "                                       <ICAO_REQ.ROTATION: 'rotation'>,\n",
      "                                       <ICAO_REQ.L_AWAY: 'l_away'>,\n",
      "                                       <ICAO_REQ.EYES_CLOSED: 'eyes_closed'>,\n",
      "                                       <ICAO_REQ.CLOSE: 'close'>,\n",
      "                                       <ICAO_REQ.HAT: 'hat'>,\n",
      "                                       <ICAO_REQ.DARK_GLASSES: 'dark_glasses'>,\n",
      "                                       <ICAO_REQ.FRAMES_HEAVY: 'frames_heavy'>,\n",
      "                                       <ICAO_REQ.FRAME_EYES: 'frame_eyes'>,\n",
      "                                       <ICAO_REQ.FLASH_LENSES: 'flash_lenses'>,\n",
      "                                       <ICAO_REQ.VEIL: 'veil'>,\n",
      "                                       <ICAO_REQ.REFLECTION: 'reflection'>,\n",
      "                                       <ICAO_REQ.LIGHT: 'light'>,\n",
      "                                       <ICAO_REQ.SHADOW_FACE: 'sh_face'>,\n",
      "                                       <ICAO_REQ.SHADOW_HEAD: 'sh_head'>,\n",
      "                                       <ICAO_REQ.BLURRED: 'blurred'>,\n",
      "                                       <ICAO_REQ.INK_MARK: 'ink_mark'>,\n",
      "                                       <ICAO_REQ.SKIN_TONE: 'skin_tone'>,\n",
      "                                       <ICAO_REQ.WASHED_OUT: 'washed_out'>,\n",
      "                                       <ICAO_REQ.PIXELATION: 'pixelation'>,\n",
      "                                       <ICAO_REQ.HAIR_EYES: 'hair_eyes'>,\n",
      "                                       <ICAO_REQ.BACKGROUND: 'background'>,\n",
      "                                       <ICAO_REQ.RED_EYES: 'red_eyes'>]},\n",
      "                'orig_model_experiment_id': '',\n",
      "                'sample_prop': 1.0,\n",
      "                'sample_training_data': False,\n",
      "                'save_trained_model': False,\n",
      "                'train_model': True},\n",
      " 'use_neptune': False}\n",
      "-------------------\n",
      "----\n",
      "Base Model Name:  BaseModel.VGG16\n",
      "----\n",
      "MTL Model: True\n",
      "Approach: MTLApproach.HAND_3\n",
      "----\n",
      "--------------------  starting neptune  -------------------\n",
      "Not using Neptune to record Experiment Metadata\n",
      "----\n",
      "Checking model existence locally...\n",
      "Training a new model! Not checking model existence\n",
      "----\n",
      "------------------------------\n",
      "Checking GPU availability\n",
      " ..GPU is available!\n",
      "------------------------------\n"
     ]
    }
   ],
   "source": [
    "kwargs = { \n",
    "    'use_neptune': True,\n",
    "    'exp_params' : {\n",
    "        'name': 'train_vgg16_mtl_3_approach',\n",
    "        'description': 'Training MTL network for CIFAR-10 tasks with Handcrafted 3 network architecture',\n",
    "        'tags': ['mtl', 'handcrafted_3', 'handcrafted_3_exp', 'cifar_10', 'benchmark', '10 epochs'],\n",
    "        'src_files': [\"../src/**/*.py\"]\n",
    "    },\n",
    "    'properties': {\n",
    "        'approach': MTLApproach.HAND_3,\n",
    "        'benchmarking': {\n",
    "            'use_benchmark_data': True,\n",
    "            'benchmark_dataset': BenchmarkDataset.CIFAR_10,\n",
    "            'tasks': list(CIFAR_10_TASK)\n",
    "        },\n",
    "        'icao_data': {\n",
    "            'icao_gt': {\n",
    "                'use_gt_data': False,\n",
    "                'gt_names': {\n",
    "                    'train_validation': [],\n",
    "                    'test': [],\n",
    "                    'train_validation_test': [GTName.FVC]\n",
    "                },\n",
    "            },\n",
    "            'icao_dl': {\n",
    "                'use_dl_data': False,\n",
    "                'tagger_model': None\n",
    "            },\n",
    "            'reqs': list(ICAO_REQ),\n",
    "            'aligned': False,\n",
    "        },\n",
    "        'balance_input_data': False,\n",
    "        'train_model': True,\n",
    "        'save_trained_model': False,\n",
    "        'exec_nas': False,\n",
    "        'orig_model_experiment_id': '',\n",
    "        'sample_training_data': False,\n",
    "        'sample_prop': 1.0\n",
    "    },\n",
    "    'net_train_params': {\n",
    "        'base_model': BaseModel.VGG16,\n",
    "        'batch_size': 32,\n",
    "        'n_epochs': 10,\n",
    "        'early_stopping': 200,\n",
    "        'learning_rate': 1e-3,\n",
    "        'optimizer': Optimizer.ADAMAX,\n",
    "        'dropout': 0.3\n",
    "    },\n",
    "    'nas_params': {}\n",
    "}\n",
    "\n",
    "runner = ExperimentRunner(**kwargs)"
   ]
  },
  {
   "cell_type": "markdown",
   "metadata": {},
   "source": [
    "# Load Data"
   ]
  },
  {
   "cell_type": "code",
   "execution_count": 5,
   "metadata": {
    "tags": []
   },
   "outputs": [
    {
     "name": "stdout",
     "output_type": "stream",
     "text": [
      "-------------------- load training data -------------------\n",
      "Loading data\n",
      "TrainData.shape: (40000, 12)\n",
      "ValidationData.shape: (10000, 12)\n",
      "TestData.shape: (10000, 12)\n",
      "Data loaded\n"
     ]
    }
   ],
   "source": [
    "runner.load_training_data()"
   ]
  },
  {
   "cell_type": "markdown",
   "metadata": {},
   "source": [
    "# Sampling Training Data"
   ]
  },
  {
   "cell_type": "code",
   "execution_count": 6,
   "metadata": {},
   "outputs": [
    {
     "name": "stdout",
     "output_type": "stream",
     "text": [
      "-------------------- sample training data -------------------\n",
      "Not applying subsampling in training data!\n"
     ]
    }
   ],
   "source": [
    "runner.sample_training_data()"
   ]
  },
  {
   "cell_type": "markdown",
   "metadata": {},
   "source": [
    "# Data Balancing"
   ]
  },
  {
   "cell_type": "code",
   "execution_count": 7,
   "metadata": {
    "tags": []
   },
   "outputs": [
    {
     "name": "stdout",
     "output_type": "stream",
     "text": [
      "-------------------- balance input data -------------------\n",
      "Not balancing input_data\n"
     ]
    }
   ],
   "source": [
    "runner.balance_input_data()"
   ]
  },
  {
   "cell_type": "markdown",
   "metadata": {},
   "source": [
    "# Data Generators"
   ]
  },
  {
   "cell_type": "code",
   "execution_count": 8,
   "metadata": {
    "tags": []
   },
   "outputs": [
    {
     "name": "stdout",
     "output_type": "stream",
     "text": [
      "-------------------- setup data generators -------------------\n",
      "Starting data generators\n",
      "Found 40000 validated image filenames.\n",
      "Found 10000 validated image filenames.\n",
      "Found 10000 validated image filenames.\n",
      "TOTAL: 60000\n",
      "\n",
      "Logging class indices\n",
      " .. MTL model not logging class indices!\n",
      "\n",
      "Using benchmarking dataset. Not logging class labels!\n"
     ]
    }
   ],
   "source": [
    "runner.setup_data_generators()"
   ]
  },
  {
   "cell_type": "markdown",
   "metadata": {},
   "source": [
    "# Setup Experiment"
   ]
  },
  {
   "cell_type": "code",
   "execution_count": 9,
   "metadata": {},
   "outputs": [
    {
     "name": "stdout",
     "output_type": "stream",
     "text": [
      "-------------------- create experiment -------------------\n",
      "Not using Neptune\n"
     ]
    }
   ],
   "source": [
    "runner.setup_experiment()"
   ]
  },
  {
   "cell_type": "markdown",
   "metadata": {},
   "source": [
    "# Labels Distribution"
   ]
  },
  {
   "cell_type": "code",
   "execution_count": 10,
   "metadata": {
    "tags": []
   },
   "outputs": [
    {
     "name": "stdout",
     "output_type": "stream",
     "text": [
      "-------------------- summary labels dist -------------------\n",
      "Using benchmark data. Not doing summary_labels_dist()\n"
     ]
    }
   ],
   "source": [
    "runner.summary_labels_dist()"
   ]
  },
  {
   "cell_type": "raw",
   "metadata": {},
   "source": [
    "runner.train_data.origin.hist()"
   ]
  },
  {
   "cell_type": "markdown",
   "metadata": {},
   "source": [
    "# Create Model"
   ]
  },
  {
   "cell_type": "code",
   "execution_count": 11,
   "metadata": {
    "tags": []
   },
   "outputs": [
    {
     "name": "stdout",
     "output_type": "stream",
     "text": [
      "-------------------- create model -------------------\n",
      "Creating model...\n",
      "Model created\n"
     ]
    }
   ],
   "source": [
    "runner.create_model()"
   ]
  },
  {
   "cell_type": "markdown",
   "metadata": {},
   "source": [
    "# Vizualize Model"
   ]
  },
  {
   "cell_type": "code",
   "execution_count": 12,
   "metadata": {
    "tags": []
   },
   "outputs": [],
   "source": [
    "%%capture\n",
    "runner.visualize_model(outfile_path=f\"figs/handcrafted_mtl_model_3.png\")"
   ]
  },
  {
   "cell_type": "code",
   "execution_count": 13,
   "metadata": {
    "tags": []
   },
   "outputs": [],
   "source": [
    "%%capture\n",
    "runner.model_summary()"
   ]
  },
  {
   "cell_type": "markdown",
   "metadata": {},
   "source": [
    "# Training Model"
   ]
  },
  {
   "cell_type": "code",
   "execution_count": 14,
   "metadata": {
    "tags": []
   },
   "outputs": [
    {
     "name": "stdout",
     "output_type": "stream",
     "text": [
      "-------------------- train model -------------------\n",
      "Training VGG16 network\n",
      " .. Not fine tuning base model...\n",
      "  .. Total params: 17,018,644\n",
      "  .. Trainable params: 2,303,956\n",
      "  .. Non-trainable params: 14,714,688\n",
      "1250/1250 [==============================] - 341s 254ms/step - loss: 0.2810 - airplane_loss: 0.2624 - automobile_loss: 0.2744 - bird_loss: 0.2912 - cat_loss: 0.2988 - deer_loss: 0.2902 - dog_loss: 0.2973 - frog_loss: 0.2707 - horse_loss: 0.2944 - ship_loss: 0.2544 - truck_loss: 0.2759 - airplane_accuracy: 0.9038 - automobile_accuracy: 0.9062 - bird_accuracy: 0.8994 - cat_accuracy: 0.8995 - deer_accuracy: 0.8996 - dog_accuracy: 0.8999 - frog_accuracy: 0.9036 - horse_accuracy: 0.9024 - ship_accuracy: 0.9036 - truck_accuracy: 0.9039 - val_loss: 0.2319 - val_airplane_loss: 0.2025 - val_automobile_loss: 0.1973 - val_bird_loss: 0.2620 - val_cat_loss: 0.2763 - val_deer_loss: 0.2486 - val_dog_loss: 0.2444 - val_frog_loss: 0.2247 - val_horse_loss: 0.2296 - val_ship_loss: 0.2005 - val_truck_loss: 0.2329 - val_airplane_accuracy: 0.9209 - val_automobile_accuracy: 0.9229 - val_bird_accuracy: 0.9035 - val_cat_accuracy: 0.8989 - val_deer_accuracy: 0.9022 - val_dog_accuracy: 0.9013 - val_frog_accuracy: 0.9173 - val_horse_accuracy: 0.9193 - val_ship_accuracy: 0.8991 - val_truck_accuracy: 0.9117\n",
      "\n",
      "Epoch 00001: val_loss improved from inf to 0.23189, saving model to training_ckpt/best_model.hdf5\n"
     ]
    }
   ],
   "source": [
    "runner.train_model()"
   ]
  },
  {
   "cell_type": "markdown",
   "metadata": {},
   "source": [
    "# Plots"
   ]
  },
  {
   "cell_type": "code",
   "execution_count": 16,
   "metadata": {
    "tags": []
   },
   "outputs": [
    {
     "name": "stdout",
     "output_type": "stream",
     "text": [
      "-------------------- draw training history -------------------\n"
     ]
    },
    {
     "data": {
      "image/png": "[encoded data removed]",
      "text/plain": [
       "<Figure size 1440x1800 with 4 Axes>"
      ]
     },
     "metadata": {
      "needs_background": "light"
     },
     "output_type": "display_data"
    }
   ],
   "source": [
    "runner.draw_training_history()"
   ]
  },
  {
   "cell_type": "markdown",
   "metadata": {},
   "source": [
    "# Load Best Model"
   ]
  },
  {
   "cell_type": "code",
   "execution_count": 17,
   "metadata": {},
   "outputs": [
    {
     "name": "stdout",
     "output_type": "stream",
     "text": [
      "-------------------- load best model -------------------\n",
      "..Loading best model\n",
      "..Checkpoint weights loaded\n"
     ]
    }
   ],
   "source": [
    "runner.load_best_model()"
   ]
  },
  {
   "cell_type": "markdown",
   "metadata": {},
   "source": [
    "# Saving Trained Model"
   ]
  },
  {
   "cell_type": "code",
   "execution_count": 18,
   "metadata": {},
   "outputs": [
    {
     "name": "stdout",
     "output_type": "stream",
     "text": [
      "-------------------- save model -------------------\n",
      "Not saving model!\n"
     ]
    }
   ],
   "source": [
    "runner.save_model()"
   ]
  },
  {
   "cell_type": "markdown",
   "metadata": {},
   "source": [
    "# Test Trained Model"
   ]
  },
  {
   "cell_type": "markdown",
   "metadata": {},
   "source": [
    "## Validation Split"
   ]
  },
  {
   "cell_type": "code",
   "execution_count": 19,
   "metadata": {
    "tags": []
   },
   "outputs": [
    {
     "name": "stdout",
     "output_type": "stream",
     "text": [
      "Testing Trained Model\n",
      "Predicting labels....\n",
      "313/313 [==============================] - 22s 70ms/step\n",
      "Prediction finished!\n",
      "  Task  0: airplane        | EER_mean: 0.18640 | EER_interp: 0.18620 | ACC: 0.81360\n",
      "  Task  1: automobile      | EER_mean: 0.16430 | EER_interp: 0.16420 | ACC: 0.83570\n",
      "  Task  2: bird            | EER_mean: 0.27260 | EER_interp: 0.27260 | ACC: 0.72740\n",
      "  Task  3: cat             | EER_mean: 0.28280 | EER_interp: 0.28310 | ACC: 0.71710\n",
      "  Task  4: deer            | EER_mean: 0.24410 | EER_interp: 0.24410 | ACC: 0.75590\n",
      "  Task  5: dog             | EER_mean: 0.23280 | EER_interp: 0.23270 | ACC: 0.76720\n",
      "  Task  6: frog            | EER_mean: 0.18940 | EER_interp: 0.19000 | ACC: 0.81050\n",
      "  Task  7: horse           | EER_mean: 0.22970 | EER_interp: 0.22960 | ACC: 0.77040\n",
      "  Task  8: ship            | EER_mean: 0.14460 | EER_interp: 0.14460 | ACC: 0.85540\n",
      "  Task  9: truck           | EER_mean: 0.18790 | EER_interp: 0.18790 | ACC: 0.81210\n",
      "final_EER_mean: 21.35% | final_EER_median: 20.98% | final_EER_std_dv: 4.36% | final_ACC: 78.65%\n"
     ]
    }
   ],
   "source": [
    "runner.set_model_evaluator_data_src(DataSource.VALIDATION)\n",
    "runner.test_model(verbose=False)"
   ]
  },
  {
   "cell_type": "markdown",
   "metadata": {},
   "source": [
    "## Test Split"
   ]
  },
  {
   "cell_type": "code",
   "execution_count": 20,
   "metadata": {
    "tags": []
   },
   "outputs": [
    {
     "name": "stdout",
     "output_type": "stream",
     "text": [
      "Testing Trained Model\n",
      "Predicting labels....\n",
      "313/313 [==============================] - 20s 64ms/step\n",
      "Prediction finished!\n",
      "  Task  0: airplane        | EER_mean: 0.17160 | EER_interp: 0.17180 | ACC: 0.82840\n",
      "  Task  1: automobile      | EER_mean: 0.16010 | EER_interp: 0.16000 | ACC: 0.83990\n",
      "  Task  2: bird            | EER_mean: 0.27570 | EER_interp: 0.27590 | ACC: 0.72430\n",
      "  Task  3: cat             | EER_mean: 0.29400 | EER_interp: 0.29400 | ACC: 0.70600\n",
      "  Task  4: deer            | EER_mean: 0.23600 | EER_interp: 0.23600 | ACC: 0.76400\n",
      "  Task  5: dog             | EER_mean: 0.23970 | EER_interp: 0.23980 | ACC: 0.76030\n",
      "  Task  6: frog            | EER_mean: 0.18500 | EER_interp: 0.18500 | ACC: 0.81500\n",
      "  Task  7: horse           | EER_mean: 0.22740 | EER_interp: 0.22770 | ACC: 0.77250\n",
      "  Task  8: ship            | EER_mean: 0.13990 | EER_interp: 0.14000 | ACC: 0.86010\n",
      "  Task  9: truck           | EER_mean: 0.18630 | EER_interp: 0.18610 | ACC: 0.81370\n",
      "final_EER_mean: 21.16% | final_EER_median: 20.69% | final_EER_std_dv: 4.83% | final_ACC: 78.84%\n"
     ]
    }
   ],
   "source": [
    "runner.set_model_evaluator_data_src(DataSource.TEST)\n",
    "runner.test_model(verbose=False)"
   ]
  },
  {
   "cell_type": "markdown",
   "metadata": {},
   "source": [
    "# Visualize Model Classification"
   ]
  },
  {
   "cell_type": "raw",
   "metadata": {},
   "source": [
    "runner.visualize_predictions()"
   ]
  },
  {
   "cell_type": "markdown",
   "metadata": {},
   "source": [
    "# Finishing Experiment Manager"
   ]
  },
  {
   "cell_type": "code",
   "execution_count": null,
   "metadata": {
    "tags": []
   },
   "outputs": [],
   "source": [
    "runner.finish_experiment()"
   ]
  }
 ],
 "metadata": {
  "interpreter": {
   "hash": "85f5044ba23e75135dc4c908fd4d7609c1c80b195047fdb4d16ee0e66a953254"
  },
  "kernelspec": {
   "display_name": "Python 3 (ipykernel)",
   "language": "python",
   "name": "python3"
  },
  "language_info": {
   "codemirror_mode": {
    "name": "ipython",
    "version": 3
   },
   "file_extension": ".py",
   "mimetype": "text/x-python",
   "name": "python",
   "nbconvert_exporter": "python",
   "pygments_lexer": "ipython3",
   "version": "3.8.0"
  },
  "neptune": {
   "notebookId": "d6d95e8a-b251-40a1-bf9d-610ebc484f63"
  },
  "toc-autonumbering": true
 },
 "nbformat": 4,
 "nbformat_minor": 4
}

{
 "cells": [
  {
   "cell_type": "markdown",
   "metadata": {},
   "source": [
    "# Import Libraries"
   ]
  },
  {
   "cell_type": "code",
   "execution_count": 1,
   "metadata": {},
   "outputs": [],
   "source": [
    "%load_ext autoreload\n",
    "%autoreload 2"
   ]
  },
  {
   "cell_type": "code",
   "execution_count": 2,
   "metadata": {},
   "outputs": [],
   "source": [
    "import os\n",
    "# disable tensorflow log level infos\n",
    "os.environ['TF_CPP_MIN_LOG_LEVEL'] = '2' # show only errors\n",
    "\n",
    "import sys\n",
    "import pandas as pd\n",
    "\n",
    "if '..' not in sys.path:\n",
    "    sys.path.insert(0,'..')"
   ]
  },
  {
   "cell_type": "code",
   "execution_count": 3,
   "metadata": {},
   "outputs": [
    {
     "name": "stdout",
     "output_type": "stream",
     "text": [
      " ==> Restrict GPU memory growth: True\n"
     ]
    }
   ],
   "source": [
    "from src.base.data_loaders.data_loader import DLName\n",
    "from src.base.gt_loaders.gt_names import GTName\n",
    "\n",
    "from src.base.experiment.training.base_models import BaseModel\n",
    "from src.base.experiment.training.model_creator import Optimizer\n",
    "\n",
    "from src.base.experiment.dataset.benchmark_dataset import BenchmarkDataset\n",
    "from src.base.experiment.evaluation.model_evaluator import DataSource, DataPredSelection\n",
    "\n",
    "from src.exp_runner import ExperimentRunner\n",
    "\n",
    "from src.m_utils.mtl_approach import MTLApproach\n",
    "\n",
    "from src.base.experiment.tasks.task import ICAO_REQ\n",
    "from src.base.experiment.tasks.task import MNIST_TASK\n",
    "from src.base.experiment.tasks.task import FASHION_MNIST_TASK\n",
    "from src.base.experiment.tasks.task import CIFAR_10_TASK\n",
    "from src.base.experiment.tasks.task import CELEB_A_TASK"
   ]
  },
  {
   "cell_type": "markdown",
   "metadata": {},
   "source": [
    "# Start Network runner"
   ]
  },
  {
   "cell_type": "code",
   "execution_count": 4,
   "metadata": {
    "tags": []
   },
   "outputs": [
    {
     "name": "stdout",
     "output_type": "stream",
     "text": [
      "-------------------- Init ExperimentRunner -------------------\n",
      "---------------------------\n",
      "Parent Process ID: 92575\n",
      "Process ID: 92808\n",
      "---------------------------\n",
      "-----\n",
      "Use Neptune:  False\n",
      "-----\n",
      "-------------------\n",
      "Args: \n",
      "{'exp_params': {'description': 'Training MTL network for MNIST tasks with '\n",
      "                               'Handcrafted 3 network architecture',\n",
      "                'name': 'train_vgg16_mtl_3_approach',\n",
      "                'src_files': ['../src/**/*.py'],\n",
      "                'tags': ['mtl',\n",
      "                         'handcrafted_3',\n",
      "                         'handcrafted_3_exp',\n",
      "                         'mnist',\n",
      "                         'benchmark',\n",
      "                         '10 epochs']},\n",
      " 'nas_params': {},\n",
      " 'net_train_params': {'base_model': <BaseModel.VGG16: {'name': 'vgg16', 'target_size': (224, 224), 'prep_function': <function preprocess_input at 0x7efe6a70b430>}>,\n",
      "                      'batch_size': 32,\n",
      "                      'dropout': 0.3,\n",
      "                      'early_stopping': 200,\n",
      "                      'learning_rate': 0.001,\n",
      "                      'n_epochs': 10,\n",
      "                      'optimizer': <Optimizer.ADAMAX: 'Adamax'>},\n",
      " 'properties': {'approach': <MTLApproach.HAND_3: 'handcrafted_3'>,\n",
      "                'balance_input_data': False,\n",
      "                'benchmarking': {'benchmark_dataset': <BenchmarkDataset.MNIST: {'name': 'mnist', 'target_cols': ['n_0', 'n_1', 'n_2', 'n_3', 'n_4', 'n_5', 'n_6', 'n_7', 'n_8', 'n_9']}>,\n",
      "                                 'tasks': [<MNIST_TASK.N_0: 'n_0'>,\n",
      "                                           <MNIST_TASK.N_1: 'n_1'>,\n",
      "                                           <MNIST_TASK.N_2: 'n_2'>,\n",
      "                                           <MNIST_TASK.N_3: 'n_3'>,\n",
      "                                           <MNIST_TASK.N_4: 'n_4'>,\n",
      "                                           <MNIST_TASK.N_5: 'n_5'>,\n",
      "                                           <MNIST_TASK.N_6: 'n_6'>,\n",
      "                                           <MNIST_TASK.N_7: 'n_7'>,\n",
      "                                           <MNIST_TASK.N_8: 'n_8'>,\n",
      "                                           <MNIST_TASK.N_9: 'n_9'>],\n",
      "                                 'use_benchmark_data': True},\n",
      "                'exec_nas': False,\n",
      "                'icao_data': {'aligned': False,\n",
      "                              'icao_dl': {'tagger_model': None,\n",
      "                                          'use_dl_data': False},\n",
      "                              'icao_gt': {'gt_names': {'test': [],\n",
      "                                                       'train_validation': [],\n",
      "                                                       'train_validation_test': [<GTName.FVC: 'fvc'>]},\n",
      "                                          'use_gt_data': False},\n",
      "                              'reqs': [<ICAO_REQ.MOUTH: 'mouth'>,\n",
      "                                       <ICAO_REQ.ROTATION: 'rotation'>,\n",
      "                                       <ICAO_REQ.L_AWAY: 'l_away'>,\n",
      "                                       <ICAO_REQ.EYES_CLOSED: 'eyes_closed'>,\n",
      "                                       <ICAO_REQ.CLOSE: 'close'>,\n",
      "                                       <ICAO_REQ.HAT: 'hat'>,\n",
      "                                       <ICAO_REQ.DARK_GLASSES: 'dark_glasses'>,\n",
      "                                       <ICAO_REQ.FRAMES_HEAVY: 'frames_heavy'>,\n",
      "                                       <ICAO_REQ.FRAME_EYES: 'frame_eyes'>,\n",
      "                                       <ICAO_REQ.FLASH_LENSES: 'flash_lenses'>,\n",
      "                                       <ICAO_REQ.VEIL: 'veil'>,\n",
      "                                       <ICAO_REQ.REFLECTION: 'reflection'>,\n",
      "                                       <ICAO_REQ.LIGHT: 'light'>,\n",
      "                                       <ICAO_REQ.SHADOW_FACE: 'sh_face'>,\n",
      "                                       <ICAO_REQ.SHADOW_HEAD: 'sh_head'>,\n",
      "                                       <ICAO_REQ.BLURRED: 'blurred'>,\n",
      "                                       <ICAO_REQ.INK_MARK: 'ink_mark'>,\n",
      "                                       <ICAO_REQ.SKIN_TONE: 'skin_tone'>,\n",
      "                                       <ICAO_REQ.WASHED_OUT: 'washed_out'>,\n",
      "                                       <ICAO_REQ.PIXELATION: 'pixelation'>,\n",
      "                                       <ICAO_REQ.HAIR_EYES: 'hair_eyes'>,\n",
      "                                       <ICAO_REQ.BACKGROUND: 'background'>,\n",
      "                                       <ICAO_REQ.RED_EYES: 'red_eyes'>]},\n",
      "                'orig_model_experiment_id': '',\n",
      "                'sample_prop': 1.0,\n",
      "                'sample_training_data': False,\n",
      "                'save_trained_model': False,\n",
      "                'train_model': True},\n",
      " 'use_neptune': False}\n",
      "-------------------\n",
      "----\n",
      "Base Model Name:  BaseModel.VGG16\n",
      "----\n",
      "MTL Model: True\n",
      "Approach: MTLApproach.HAND_3\n",
      "----\n",
      "--------------------  starting neptune  -------------------\n",
      "Not using Neptune to record Experiment Metadata\n",
      "----\n",
      "Checking model existence locally...\n",
      "Training a new model! Not checking model existence\n",
      "----\n",
      "------------------------------\n",
      "Checking GPU availability\n",
      " ..GPU is available!\n",
      "------------------------------\n"
     ]
    }
   ],
   "source": [
    "kwargs = { \n",
    "    'use_neptune': False,\n",
    "    'exp_params' : {\n",
    "        'name': 'train_vgg16_mtl_3_approach',\n",
    "        'description': 'Training MTL network for MNIST tasks with Handcrafted 3 network architecture',\n",
    "        'tags': ['mtl', 'handcrafted_3', 'handcrafted_3_exp', 'mnist', 'benchmark', '10 epochs'],\n",
    "        'src_files': [\"../src/**/*.py\"]\n",
    "    },\n",
    "    'properties': {\n",
    "        'approach': MTLApproach.HAND_3,\n",
    "        'benchmarking': {\n",
    "            'use_benchmark_data': True,\n",
    "            'benchmark_dataset': BenchmarkDataset.MNIST,\n",
    "            'tasks': list(MNIST_TASK)\n",
    "        },\n",
    "        'icao_data': {\n",
    "            'icao_gt': {\n",
    "                'use_gt_data': False,\n",
    "                'gt_names': {\n",
    "                    'train_validation': [],\n",
    "                    'test': [],\n",
    "                    'train_validation_test': [GTName.FVC]\n",
    "                },\n",
    "            },\n",
    "            'icao_dl': {\n",
    "                'use_dl_data': False,\n",
    "                'tagger_model': None\n",
    "            },\n",
    "            'reqs': list(ICAO_REQ),\n",
    "            'aligned': False,\n",
    "        },\n",
    "        'balance_input_data': False,\n",
    "        'train_model': True,\n",
    "        'save_trained_model': False,\n",
    "        'exec_nas': False,\n",
    "        'orig_model_experiment_id': '',\n",
    "        'sample_training_data': False,\n",
    "        'sample_prop': 1.0\n",
    "    },\n",
    "    'net_train_params': {\n",
    "        'base_model': BaseModel.VGG16,\n",
    "        'batch_size': 32,\n",
    "        'n_epochs': 10,\n",
    "        'early_stopping': 200,\n",
    "        'learning_rate': 1e-3,\n",
    "        'optimizer': Optimizer.ADAMAX,\n",
    "        'dropout': 0.3\n",
    "    },\n",
    "    'nas_params': {}\n",
    "}\n",
    "\n",
    "runner = ExperimentRunner(**kwargs)"
   ]
  },
  {
   "cell_type": "markdown",
   "metadata": {},
   "source": [
    "# Load Data"
   ]
  },
  {
   "cell_type": "code",
   "execution_count": 5,
   "metadata": {
    "tags": []
   },
   "outputs": [
    {
     "name": "stdout",
     "output_type": "stream",
     "text": [
      "-------------------- load training data -------------------\n",
      "Loading data\n",
      "TrainData.shape: (48000, 11)\n",
      "ValidationData.shape: (12000, 11)\n",
      "TestData.shape: (10000, 11)\n",
      "Data loaded\n"
     ]
    }
   ],
   "source": [
    "runner.load_training_data()"
   ]
  },
  {
   "cell_type": "code",
   "execution_count": 6,
   "metadata": {},
   "outputs": [
    {
     "data": {
      "text/html": [
       "<div>\n",
       "<style scoped>\n",
       "    .dataframe tbody tr th:only-of-type {\n",
       "        vertical-align: middle;\n",
       "    }\n",
       "\n",
       "    .dataframe tbody tr th {\n",
       "        vertical-align: top;\n",
       "    }\n",
       "\n",
       "    .dataframe thead th {\n",
       "        text-align: right;\n",
       "    }\n",
       "</style>\n",
       "<table border=\"1\" class=\"dataframe\">\n",
       "  <thead>\n",
       "    <tr style=\"text-align: right;\">\n",
       "      <th></th>\n",
       "      <th>img_name</th>\n",
       "      <th>n_0</th>\n",
       "      <th>n_1</th>\n",
       "      <th>n_2</th>\n",
       "      <th>n_3</th>\n",
       "      <th>n_4</th>\n",
       "      <th>n_5</th>\n",
       "      <th>n_6</th>\n",
       "      <th>n_7</th>\n",
       "      <th>n_8</th>\n",
       "      <th>n_9</th>\n",
       "    </tr>\n",
       "  </thead>\n",
       "  <tbody>\n",
       "    <tr>\n",
       "      <th>0</th>\n",
       "      <td>/home/guilherme/data1/Dropbox/Link to Desktop/...</td>\n",
       "      <td>0.0</td>\n",
       "      <td>0.0</td>\n",
       "      <td>0.0</td>\n",
       "      <td>0.0</td>\n",
       "      <td>1.0</td>\n",
       "      <td>0.0</td>\n",
       "      <td>0.0</td>\n",
       "      <td>0.0</td>\n",
       "      <td>0.0</td>\n",
       "      <td>0.0</td>\n",
       "    </tr>\n",
       "    <tr>\n",
       "      <th>1</th>\n",
       "      <td>/home/guilherme/data1/Dropbox/Link to Desktop/...</td>\n",
       "      <td>1.0</td>\n",
       "      <td>0.0</td>\n",
       "      <td>0.0</td>\n",
       "      <td>0.0</td>\n",
       "      <td>0.0</td>\n",
       "      <td>0.0</td>\n",
       "      <td>0.0</td>\n",
       "      <td>0.0</td>\n",
       "      <td>0.0</td>\n",
       "      <td>0.0</td>\n",
       "    </tr>\n",
       "    <tr>\n",
       "      <th>2</th>\n",
       "      <td>/home/guilherme/data1/Dropbox/Link to Desktop/...</td>\n",
       "      <td>0.0</td>\n",
       "      <td>1.0</td>\n",
       "      <td>0.0</td>\n",
       "      <td>0.0</td>\n",
       "      <td>0.0</td>\n",
       "      <td>0.0</td>\n",
       "      <td>0.0</td>\n",
       "      <td>0.0</td>\n",
       "      <td>0.0</td>\n",
       "      <td>0.0</td>\n",
       "    </tr>\n",
       "    <tr>\n",
       "      <th>3</th>\n",
       "      <td>/home/guilherme/data1/Dropbox/Link to Desktop/...</td>\n",
       "      <td>0.0</td>\n",
       "      <td>0.0</td>\n",
       "      <td>0.0</td>\n",
       "      <td>0.0</td>\n",
       "      <td>0.0</td>\n",
       "      <td>0.0</td>\n",
       "      <td>0.0</td>\n",
       "      <td>1.0</td>\n",
       "      <td>0.0</td>\n",
       "      <td>0.0</td>\n",
       "    </tr>\n",
       "    <tr>\n",
       "      <th>4</th>\n",
       "      <td>/home/guilherme/data1/Dropbox/Link to Desktop/...</td>\n",
       "      <td>0.0</td>\n",
       "      <td>0.0</td>\n",
       "      <td>0.0</td>\n",
       "      <td>0.0</td>\n",
       "      <td>0.0</td>\n",
       "      <td>0.0</td>\n",
       "      <td>0.0</td>\n",
       "      <td>0.0</td>\n",
       "      <td>1.0</td>\n",
       "      <td>0.0</td>\n",
       "    </tr>\n",
       "  </tbody>\n",
       "</table>\n",
       "</div>"
      ],
      "text/plain": [
       "                                            img_name  n_0  n_1  n_2  n_3  n_4  \\\n",
       "0  /home/guilherme/data1/Dropbox/Link to Desktop/...  0.0  0.0  0.0  0.0  1.0   \n",
       "1  /home/guilherme/data1/Dropbox/Link to Desktop/...  1.0  0.0  0.0  0.0  0.0   \n",
       "2  /home/guilherme/data1/Dropbox/Link to Desktop/...  0.0  1.0  0.0  0.0  0.0   \n",
       "3  /home/guilherme/data1/Dropbox/Link to Desktop/...  0.0  0.0  0.0  0.0  0.0   \n",
       "4  /home/guilherme/data1/Dropbox/Link to Desktop/...  0.0  0.0  0.0  0.0  0.0   \n",
       "\n",
       "   n_5  n_6  n_7  n_8  n_9  \n",
       "0  0.0  0.0  0.0  0.0  0.0  \n",
       "1  0.0  0.0  0.0  0.0  0.0  \n",
       "2  0.0  0.0  0.0  0.0  0.0  \n",
       "3  0.0  0.0  1.0  0.0  0.0  \n",
       "4  0.0  0.0  0.0  1.0  0.0  "
      ]
     },
     "execution_count": 6,
     "metadata": {},
     "output_type": "execute_result"
    }
   ],
   "source": [
    "runner.data_processor.train_data.head()"
   ]
  },
  {
   "cell_type": "code",
   "execution_count": 7,
   "metadata": {},
   "outputs": [],
   "source": [
    "train_data = runner.data_processor.train_data"
   ]
  },
  {
   "cell_type": "code",
   "execution_count": 9,
   "metadata": {},
   "outputs": [
    {
     "data": {
      "text/plain": [
       "array([0., 1., 0., ..., 0., 0., 0.])"
      ]
     },
     "execution_count": 9,
     "metadata": {},
     "output_type": "execute_result"
    }
   ],
   "source": [
    "n0 = train_data.n_0.values\n",
    "n8 = train_data.n_8.values\n",
    "\n",
    "from sklearn.metrics import normalized_mutual_info_score"
   ]
  },
  {
   "cell_type": "markdown",
   "metadata": {},
   "source": [
    "# Sampling Training Data"
   ]
  },
  {
   "cell_type": "code",
   "execution_count": 6,
   "metadata": {},
   "outputs": [
    {
     "name": "stdout",
     "output_type": "stream",
     "text": [
      "-------------------- sample training data -------------------\n",
      "Not applying subsampling in training data!\n"
     ]
    }
   ],
   "source": [
    "runner.sample_training_data()"
   ]
  },
  {
   "cell_type": "markdown",
   "metadata": {},
   "source": [
    "# Data Balancing"
   ]
  },
  {
   "cell_type": "code",
   "execution_count": 7,
   "metadata": {
    "tags": []
   },
   "outputs": [
    {
     "name": "stdout",
     "output_type": "stream",
     "text": [
      "-------------------- balance input data -------------------\n",
      "Not balancing input_data\n"
     ]
    }
   ],
   "source": [
    "runner.balance_input_data()"
   ]
  },
  {
   "cell_type": "markdown",
   "metadata": {},
   "source": [
    "# Data Generators"
   ]
  },
  {
   "cell_type": "code",
   "execution_count": 8,
   "metadata": {
    "tags": []
   },
   "outputs": [
    {
     "name": "stdout",
     "output_type": "stream",
     "text": [
      "-------------------- setup data generators -------------------\n",
      "Starting data generators\n",
      "Found 48000 validated image filenames.\n",
      "Found 12000 validated image filenames.\n",
      "Found 10000 validated image filenames.\n",
      "TOTAL: 70000\n",
      "\n",
      "Logging class indices\n",
      " .. MTL model not logging class indices!\n",
      "\n",
      "Using benchmarking dataset. Not logging class labels!\n"
     ]
    }
   ],
   "source": [
    "runner.setup_data_generators()"
   ]
  },
  {
   "cell_type": "markdown",
   "metadata": {},
   "source": [
    "# Setup Experiment"
   ]
  },
  {
   "cell_type": "code",
   "execution_count": 9,
   "metadata": {},
   "outputs": [
    {
     "name": "stdout",
     "output_type": "stream",
     "text": [
      "-------------------- create experiment -------------------\n",
      "Setup neptune properties and parameters\n",
      "Properties and parameters setup done!\n"
     ]
    }
   ],
   "source": [
    "runner.setup_experiment()"
   ]
  },
  {
   "cell_type": "markdown",
   "metadata": {},
   "source": [
    "# Labels Distribution"
   ]
  },
  {
   "cell_type": "code",
   "execution_count": 10,
   "metadata": {
    "tags": []
   },
   "outputs": [
    {
     "name": "stdout",
     "output_type": "stream",
     "text": [
      "-------------------- summary labels dist -------------------\n",
      "Using benchmark data. Not doing summary_labels_dist()\n"
     ]
    }
   ],
   "source": [
    "runner.summary_labels_dist()"
   ]
  },
  {
   "cell_type": "raw",
   "metadata": {},
   "source": [
    "runner.train_data.origin.hist()"
   ]
  },
  {
   "cell_type": "markdown",
   "metadata": {},
   "source": [
    "# Create Model"
   ]
  },
  {
   "cell_type": "code",
   "execution_count": 11,
   "metadata": {
    "tags": []
   },
   "outputs": [
    {
     "name": "stdout",
     "output_type": "stream",
     "text": [
      "-------------------- create model -------------------\n",
      "Creating model...\n",
      "Model created\n"
     ]
    }
   ],
   "source": [
    "runner.create_model()"
   ]
  },
  {
   "cell_type": "markdown",
   "metadata": {},
   "source": [
    "# Vizualize Model"
   ]
  },
  {
   "cell_type": "code",
   "execution_count": 12,
   "metadata": {
    "tags": []
   },
   "outputs": [],
   "source": [
    "%%capture\n",
    "runner.visualize_model(outfile_path=f\"figs/handcrafted_mtl_model_3.png\")"
   ]
  },
  {
   "cell_type": "code",
   "execution_count": 13,
   "metadata": {
    "tags": []
   },
   "outputs": [],
   "source": [
    "%%capture\n",
    "runner.model_summary()"
   ]
  },
  {
   "cell_type": "markdown",
   "metadata": {},
   "source": [
    "# Training Model"
   ]
  },
  {
   "cell_type": "code",
   "execution_count": 14,
   "metadata": {
    "tags": []
   },
   "outputs": [
    {
     "name": "stdout",
     "output_type": "stream",
     "text": [
      "-------------------- train model -------------------\n",
      "Training VGG16 network\n",
      " .. Not fine tuning base model...\n",
      "  .. Total params: 17,014,484\n",
      "  .. Trainable params: 2,299,796\n",
      "  .. Non-trainable params: 14,714,688\n",
      "Epoch 1/10\n",
      "1500/1500 [==============================] - 404s 263ms/step - loss: 0.0548 - n_0_loss: 0.0439 - n_1_loss: 0.0321 - n_7_loss: 0.0465 - n_4_loss: 0.0465 - n_2_loss: 0.0518 - n_3_loss: 0.0514 - n_5_loss: 0.0545 - n_6_loss: 0.0522 - n_8_loss: 0.0784 - n_9_loss: 0.0902 - n_0_accuracy: 0.9860 - n_1_accuracy: 0.9889 - n_7_accuracy: 0.9852 - n_4_accuracy: 0.9855 - n_2_accuracy: 0.9822 - n_3_accuracy: 0.9839 - n_5_accuracy: 0.9803 - n_6_accuracy: 0.9824 - n_8_accuracy: 0.9741 - n_9_accuracy: 0.9683 - val_loss: 0.0188 - val_n_0_loss: 0.0151 - val_n_1_loss: 0.0084 - val_n_7_loss: 0.0208 - val_n_4_loss: 0.0119 - val_n_2_loss: 0.0175 - val_n_3_loss: 0.0120 - val_n_5_loss: 0.0159 - val_n_6_loss: 0.0400 - val_n_8_loss: 0.0187 - val_n_9_loss: 0.0273 - val_n_0_accuracy: 0.9946 - val_n_1_accuracy: 0.9973 - val_n_7_accuracy: 0.9943 - val_n_4_accuracy: 0.9972 - val_n_2_accuracy: 0.9943 - val_n_3_accuracy: 0.9962 - val_n_5_accuracy: 0.9945 - val_n_6_accuracy: 0.9872 - val_n_8_accuracy: 0.9938 - val_n_9_accuracy: 0.9923\n",
      "\n",
      "Epoch 00001: val_loss improved from inf to 0.01875, saving model to training_ckpt/best_model.hdf5\n",
      "Epoch 2/10\n",
      "1500/1500 [==============================] - 393s 262ms/step - loss: 0.0145 - n_0_loss: 0.0112 - n_1_loss: 0.0090 - n_7_loss: 0.0141 - n_4_loss: 0.0100 - n_2_loss: 0.0144 - n_3_loss: 0.0134 - n_5_loss: 0.0135 - n_6_loss: 0.0150 - n_8_loss: 0.0193 - n_9_loss: 0.0248 - n_0_accuracy: 0.9966 - n_1_accuracy: 0.9972 - n_7_accuracy: 0.9956 - n_4_accuracy: 0.9971 - n_2_accuracy: 0.9956 - n_3_accuracy: 0.9960 - n_5_accuracy: 0.9956 - n_6_accuracy: 0.9952 - n_8_accuracy: 0.9938 - n_9_accuracy: 0.9919 - val_loss: 0.0106 - val_n_0_loss: 0.0088 - val_n_1_loss: 0.0063 - val_n_7_loss: 0.0154 - val_n_4_loss: 0.0063 - val_n_2_loss: 0.0093 - val_n_3_loss: 0.0084 - val_n_5_loss: 0.0148 - val_n_6_loss: 0.0113 - val_n_8_loss: 0.0115 - val_n_9_loss: 0.0141 - val_n_0_accuracy: 0.9973 - val_n_1_accuracy: 0.9980 - val_n_7_accuracy: 0.9957 - val_n_4_accuracy: 0.9986 - val_n_2_accuracy: 0.9976 - val_n_3_accuracy: 0.9980 - val_n_5_accuracy: 0.9946 - val_n_6_accuracy: 0.9964 - val_n_8_accuracy: 0.9962 - val_n_9_accuracy: 0.9953\n",
      "\n",
      "Epoch 00002: val_loss improved from 0.01875 to 0.01061, saving model to training_ckpt/best_model.hdf5\n",
      "Epoch 3/10\n",
      "1500/1500 [==============================] - 397s 265ms/step - loss: 0.0095 - n_0_loss: 0.0081 - n_1_loss: 0.0062 - n_7_loss: 0.0088 - n_4_loss: 0.0067 - n_2_loss: 0.0088 - n_3_loss: 0.0086 - n_5_loss: 0.0096 - n_6_loss: 0.0108 - n_8_loss: 0.0114 - n_9_loss: 0.0161 - n_0_accuracy: 0.9976 - n_1_accuracy: 0.9981 - n_7_accuracy: 0.9973 - n_4_accuracy: 0.9980 - n_2_accuracy: 0.9973 - n_3_accuracy: 0.9974 - n_5_accuracy: 0.9970 - n_6_accuracy: 0.9967 - n_8_accuracy: 0.9963 - n_9_accuracy: 0.9953 - val_loss: 0.0080 - val_n_0_loss: 0.0076 - val_n_1_loss: 0.0055 - val_n_7_loss: 0.0072 - val_n_4_loss: 0.0063 - val_n_2_loss: 0.0080 - val_n_3_loss: 0.0078 - val_n_5_loss: 0.0068 - val_n_6_loss: 0.0085 - val_n_8_loss: 0.0091 - val_n_9_loss: 0.0134 - val_n_0_accuracy: 0.9975 - val_n_1_accuracy: 0.9983 - val_n_7_accuracy: 0.9977 - val_n_4_accuracy: 0.9985 - val_n_2_accuracy: 0.9982 - val_n_3_accuracy: 0.9983 - val_n_5_accuracy: 0.9979 - val_n_6_accuracy: 0.9973 - val_n_8_accuracy: 0.9973 - val_n_9_accuracy: 0.9954\n",
      "\n",
      "Epoch 00003: val_loss improved from 0.01061 to 0.00802, saving model to training_ckpt/best_model.hdf5\n",
      "Epoch 4/10\n",
      "1500/1500 [==============================] - 396s 264ms/step - loss: 0.0072 - n_0_loss: 0.0060 - n_1_loss: 0.0045 - n_7_loss: 0.0072 - n_4_loss: 0.0051 - n_2_loss: 0.0075 - n_3_loss: 0.0072 - n_5_loss: 0.0062 - n_6_loss: 0.0079 - n_8_loss: 0.0085 - n_9_loss: 0.0124 - n_0_accuracy: 0.9981 - n_1_accuracy: 0.9985 - n_7_accuracy: 0.9976 - n_4_accuracy: 0.9986 - n_2_accuracy: 0.9975 - n_3_accuracy: 0.9979 - n_5_accuracy: 0.9982 - n_6_accuracy: 0.9975 - n_8_accuracy: 0.9974 - n_9_accuracy: 0.9964 - val_loss: 0.0069 - val_n_0_loss: 0.0077 - val_n_1_loss: 0.0039 - val_n_7_loss: 0.0059 - val_n_4_loss: 0.0058 - val_n_2_loss: 0.0072 - val_n_3_loss: 0.0050 - val_n_5_loss: 0.0065 - val_n_6_loss: 0.0096 - val_n_8_loss: 0.0079 - val_n_9_loss: 0.0096 - val_n_0_accuracy: 0.9977 - val_n_1_accuracy: 0.9987 - val_n_7_accuracy: 0.9982 - val_n_4_accuracy: 0.9987 - val_n_2_accuracy: 0.9980 - val_n_3_accuracy: 0.9984 - val_n_5_accuracy: 0.9983 - val_n_6_accuracy: 0.9969 - val_n_8_accuracy: 0.9975 - val_n_9_accuracy: 0.9966\n",
      "\n",
      "Epoch 00004: val_loss improved from 0.00802 to 0.00691, saving model to training_ckpt/best_model.hdf5\n",
      "Epoch 5/10\n",
      "1500/1500 [==============================] - 395s 263ms/step - loss: 0.0053 - n_0_loss: 0.0051 - n_1_loss: 0.0037 - n_7_loss: 0.0046 - n_4_loss: 0.0035 - n_2_loss: 0.0054 - n_3_loss: 0.0047 - n_5_loss: 0.0055 - n_6_loss: 0.0063 - n_8_loss: 0.0058 - n_9_loss: 0.0083 - n_0_accuracy: 0.9986 - n_1_accuracy: 0.9989 - n_7_accuracy: 0.9986 - n_4_accuracy: 0.9989 - n_2_accuracy: 0.9984 - n_3_accuracy: 0.9985 - n_5_accuracy: 0.9983 - n_6_accuracy: 0.9978 - n_8_accuracy: 0.9981 - n_9_accuracy: 0.9972 - val_loss: 0.0071 - val_n_0_loss: 0.0086 - val_n_1_loss: 0.0061 - val_n_7_loss: 0.0060 - val_n_4_loss: 0.0051 - val_n_2_loss: 0.0074 - val_n_3_loss: 0.0072 - val_n_5_loss: 0.0063 - val_n_6_loss: 0.0064 - val_n_8_loss: 0.0051 - val_n_9_loss: 0.0132 - val_n_0_accuracy: 0.9970 - val_n_1_accuracy: 0.9983 - val_n_7_accuracy: 0.9982 - val_n_4_accuracy: 0.9987 - val_n_2_accuracy: 0.9977 - val_n_3_accuracy: 0.9973 - val_n_5_accuracy: 0.9980 - val_n_6_accuracy: 0.9977 - val_n_8_accuracy: 0.9979 - val_n_9_accuracy: 0.9956\n",
      "\n",
      "Epoch 00005: val_loss did not improve from 0.00691\n",
      "Epoch 6/10\n",
      "1500/1500 [==============================] - 384s 256ms/step - loss: 0.0045 - n_0_loss: 0.0039 - n_1_loss: 0.0032 - n_7_loss: 0.0040 - n_4_loss: 0.0027 - n_2_loss: 0.0051 - n_3_loss: 0.0041 - n_5_loss: 0.0044 - n_6_loss: 0.0054 - n_8_loss: 0.0044 - n_9_loss: 0.0076 - n_0_accuracy: 0.9989 - n_1_accuracy: 0.9992 - n_7_accuracy: 0.9988 - n_4_accuracy: 0.9992 - n_2_accuracy: 0.9986 - n_3_accuracy: 0.9988 - n_5_accuracy: 0.9986 - n_6_accuracy: 0.9984 - n_8_accuracy: 0.9987 - n_9_accuracy: 0.9977 - val_loss: 0.0064 - val_n_0_loss: 0.0082 - val_n_1_loss: 0.0043 - val_n_7_loss: 0.0053 - val_n_4_loss: 0.0049 - val_n_2_loss: 0.0059 - val_n_3_loss: 0.0040 - val_n_5_loss: 0.0058 - val_n_6_loss: 0.0101 - val_n_8_loss: 0.0058 - val_n_9_loss: 0.0096 - val_n_0_accuracy: 0.9982 - val_n_1_accuracy: 0.9989 - val_n_7_accuracy: 0.9987 - val_n_4_accuracy: 0.9989 - val_n_2_accuracy: 0.9983 - val_n_3_accuracy: 0.9987 - val_n_5_accuracy: 0.9984 - val_n_6_accuracy: 0.9959 - val_n_8_accuracy: 0.9980 - val_n_9_accuracy: 0.9967\n",
      "\n",
      "Epoch 00006: val_loss improved from 0.00691 to 0.00638, saving model to training_ckpt/best_model.hdf5\n",
      "Epoch 7/10\n",
      "1500/1500 [==============================] - 381s 254ms/step - loss: 0.0035 - n_0_loss: 0.0028 - n_1_loss: 0.0029 - n_7_loss: 0.0031 - n_4_loss: 0.0024 - n_2_loss: 0.0034 - n_3_loss: 0.0034 - n_5_loss: 0.0035 - n_6_loss: 0.0043 - n_8_loss: 0.0039 - n_9_loss: 0.0057 - n_0_accuracy: 0.9992 - n_1_accuracy: 0.9991 - n_7_accuracy: 0.9989 - n_4_accuracy: 0.9993 - n_2_accuracy: 0.9989 - n_3_accuracy: 0.9989 - n_5_accuracy: 0.9989 - n_6_accuracy: 0.9987 - n_8_accuracy: 0.9986 - n_9_accuracy: 0.9982 - val_loss: 0.0062 - val_n_0_loss: 0.0060 - val_n_1_loss: 0.0034 - val_n_7_loss: 0.0063 - val_n_4_loss: 0.0058 - val_n_2_loss: 0.0066 - val_n_3_loss: 0.0040 - val_n_5_loss: 0.0057 - val_n_6_loss: 0.0069 - val_n_8_loss: 0.0069 - val_n_9_loss: 0.0110 - val_n_0_accuracy: 0.9978 - val_n_1_accuracy: 0.9990 - val_n_7_accuracy: 0.9985 - val_n_4_accuracy: 0.9987 - val_n_2_accuracy: 0.9979 - val_n_3_accuracy: 0.9987 - val_n_5_accuracy: 0.9988 - val_n_6_accuracy: 0.9979 - val_n_8_accuracy: 0.9978 - val_n_9_accuracy: 0.9962\n",
      "\n",
      "Epoch 00007: val_loss improved from 0.00638 to 0.00624, saving model to training_ckpt/best_model.hdf5\n",
      "Epoch 8/10\n",
      "  19/1500 [..............................] - ETA: 5:49 - loss: 6.0066e-04 - n_0_loss: 8.2438e-04 - n_1_loss: 1.2404e-04 - n_7_loss: 1.8685e-04 - n_4_loss: 0.0018 - n_2_loss: 2.5388e-04 - n_3_loss: 3.2776e-04 - n_5_loss: 7.3925e-04 - n_6_loss: 5.4506e-04 - n_8_loss: 2.4832e-04 - n_9_loss: 9.8629e-04 - n_0_accuracy: 1.0000 - n_1_accuracy: 1.0000 - n_7_accuracy: 1.0000 - n_4_accuracy: 0.9984 - n_2_accuracy: 1.0000 - n_3_accuracy: 1.0000 - n_5_accuracy: 1.0000 - n_6_accuracy: 1.0000 - n_8_accuracy: 1.0000 - n_9_accuracy: 1.0000Experiencing connection interruptions. Will try to reestablish communication with Neptune. Internal exception was: RequestsFutureAdapterTimeout\n",
      "  30/1500 [..............................] - ETA: 5:47 - loss: 0.0013 - n_0_loss: 9.4222e-04 - n_1_loss: 5.5359e-04 - n_7_loss: 1.3812e-04 - n_4_loss: 0.0012 - n_2_loss: 1.7051e-04 - n_3_loss: 5.8241e-04 - n_5_loss: 0.0054 - n_6_loss: 3.7412e-04 - n_8_loss: 0.0030 - n_9_loss: 7.0322e-04 - n_0_accuracy: 1.0000 - n_1_accuracy: 1.0000 - n_7_accuracy: 1.0000 - n_4_accuracy: 0.9990 - n_2_accuracy: 1.0000 - n_3_accuracy: 1.0000 - n_5_accuracy: 0.9990 - n_6_accuracy: 1.0000 - n_8_accuracy: 0.9990 - n_9_accuracy: 1.0000        Communication with Neptune restored!\n",
      "1500/1500 [==============================] - 381s 254ms/step - loss: 0.0029 - n_0_loss: 0.0024 - n_1_loss: 0.0023 - n_7_loss: 0.0023 - n_4_loss: 0.0021 - n_2_loss: 0.0031 - n_3_loss: 0.0033 - n_5_loss: 0.0029 - n_6_loss: 0.0035 - n_8_loss: 0.0026 - n_9_loss: 0.0049 - n_0_accuracy: 0.9994 - n_1_accuracy: 0.9992 - n_7_accuracy: 0.9991 - n_4_accuracy: 0.9993 - n_2_accuracy: 0.9991 - n_3_accuracy: 0.9989 - n_5_accuracy: 0.9991 - n_6_accuracy: 0.9990 - n_8_accuracy: 0.9991 - n_9_accuracy: 0.9985 - val_loss: 0.0062 - val_n_0_loss: 0.0049 - val_n_1_loss: 0.0049 - val_n_7_loss: 0.0035 - val_n_4_loss: 0.0056 - val_n_2_loss: 0.0061 - val_n_3_loss: 0.0051 - val_n_5_loss: 0.0075 - val_n_6_loss: 0.0092 - val_n_8_loss: 0.0050 - val_n_9_loss: 0.0106 - val_n_0_accuracy: 0.9989 - val_n_1_accuracy: 0.9983 - val_n_7_accuracy: 0.9988 - val_n_4_accuracy: 0.9987 - val_n_2_accuracy: 0.9984 - val_n_3_accuracy: 0.9987 - val_n_5_accuracy: 0.9983 - val_n_6_accuracy: 0.9971 - val_n_8_accuracy: 0.9982 - val_n_9_accuracy: 0.9967\n",
      "\n",
      "Epoch 00008: val_loss improved from 0.00624 to 0.00624, saving model to training_ckpt/best_model.hdf5\n",
      "Epoch 9/10\n",
      "1500/1500 [==============================] - 381s 254ms/step - loss: 0.0025 - n_0_loss: 0.0025 - n_1_loss: 0.0024 - n_7_loss: 0.0015 - n_4_loss: 0.0015 - n_2_loss: 0.0025 - n_3_loss: 0.0023 - n_5_loss: 0.0028 - n_6_loss: 0.0033 - n_8_loss: 0.0022 - n_9_loss: 0.0041 - n_0_accuracy: 0.9992 - n_1_accuracy: 0.9992 - n_7_accuracy: 0.9994 - n_4_accuracy: 0.9996 - n_2_accuracy: 0.9992 - n_3_accuracy: 0.9992 - n_5_accuracy: 0.9991 - n_6_accuracy: 0.9989 - n_8_accuracy: 0.9994 - n_9_accuracy: 0.9987 - val_loss: 0.0070 - val_n_0_loss: 0.0047 - val_n_1_loss: 0.0053 - val_n_7_loss: 0.0050 - val_n_4_loss: 0.0058 - val_n_2_loss: 0.0087 - val_n_3_loss: 0.0059 - val_n_5_loss: 0.0068 - val_n_6_loss: 0.0069 - val_n_8_loss: 0.0074 - val_n_9_loss: 0.0139 - val_n_0_accuracy: 0.9983 - val_n_1_accuracy: 0.9983 - val_n_7_accuracy: 0.9986 - val_n_4_accuracy: 0.9987 - val_n_2_accuracy: 0.9981 - val_n_3_accuracy: 0.9988 - val_n_5_accuracy: 0.9977 - val_n_6_accuracy: 0.9978 - val_n_8_accuracy: 0.9982 - val_n_9_accuracy: 0.9964\n",
      "\n",
      "Epoch 00009: val_loss did not improve from 0.00624\n",
      "Epoch 10/10\n",
      " 904/1500 [=================>............] - ETA: 2:21 - loss: 0.0020 - n_0_loss: 0.0026 - n_1_loss: 0.0012 - n_7_loss: 0.0012 - n_4_loss: 0.0014 - n_2_loss: 0.0020 - n_3_loss: 0.0015 - n_5_loss: 0.0014 - n_6_loss: 0.0023 - n_8_loss: 0.0021 - n_9_loss: 0.0042 - n_0_accuracy: 0.9992 - n_1_accuracy: 0.9997 - n_7_accuracy: 0.9995 - n_4_accuracy: 0.9996 - n_2_accuracy: 0.9993 - n_3_accuracy: 0.9993 - n_5_accuracy: 0.9996 - n_6_accuracy: 0.9993 - n_8_accuracy: 0.9993 - n_9_accuracy: 0.9988Experiencing connection interruptions. Will try to reestablish communication with Neptune. Internal exception was: RequestsFutureAdapterTimeout\n",
      " 916/1500 [=================>............] - ETA: 2:18 - loss: 0.0020 - n_0_loss: 0.0026 - n_1_loss: 0.0012 - n_7_loss: 0.0012 - n_4_loss: 0.0014 - n_2_loss: 0.0021 - n_3_loss: 0.0014 - n_5_loss: 0.0014 - n_6_loss: 0.0022 - n_8_loss: 0.0021 - n_9_loss: 0.0042 - n_0_accuracy: 0.9992 - n_1_accuracy: 0.9997 - n_7_accuracy: 0.9995 - n_4_accuracy: 0.9996 - n_2_accuracy: 0.9993 - n_3_accuracy: 0.9993 - n_5_accuracy: 0.9996 - n_6_accuracy: 0.9994 - n_8_accuracy: 0.9994 - n_9_accuracy: 0.9987Communication with Neptune restored!\n",
      "1500/1500 [==============================] - 381s 254ms/step - loss: 0.0021 - n_0_loss: 0.0022 - n_1_loss: 0.0014 - n_7_loss: 0.0013 - n_4_loss: 0.0018 - n_2_loss: 0.0021 - n_3_loss: 0.0018 - n_5_loss: 0.0018 - n_6_loss: 0.0024 - n_8_loss: 0.0020 - n_9_loss: 0.0039 - n_0_accuracy: 0.9992 - n_1_accuracy: 0.9996 - n_7_accuracy: 0.9995 - n_4_accuracy: 0.9995 - n_2_accuracy: 0.9994 - n_3_accuracy: 0.9993 - n_5_accuracy: 0.9995 - n_6_accuracy: 0.9993 - n_8_accuracy: 0.9993 - n_9_accuracy: 0.9989 - val_loss: 0.0061 - val_n_0_loss: 0.0048 - val_n_1_loss: 0.0045 - val_n_7_loss: 0.0057 - val_n_4_loss: 0.0067 - val_n_2_loss: 0.0062 - val_n_3_loss: 0.0037 - val_n_5_loss: 0.0050 - val_n_6_loss: 0.0086 - val_n_8_loss: 0.0057 - val_n_9_loss: 0.0102 - val_n_0_accuracy: 0.9985 - val_n_1_accuracy: 0.9987 - val_n_7_accuracy: 0.9987 - val_n_4_accuracy: 0.9988 - val_n_2_accuracy: 0.9987 - val_n_3_accuracy: 0.9992 - val_n_5_accuracy: 0.9987 - val_n_6_accuracy: 0.9977 - val_n_8_accuracy: 0.9980 - val_n_9_accuracy: 0.9971\n",
      "\n",
      "Epoch 00010: val_loss improved from 0.00624 to 0.00612, saving model to training_ckpt/best_model.hdf5\n"
     ]
    }
   ],
   "source": [
    "runner.train_model()"
   ]
  },
  {
   "cell_type": "markdown",
   "metadata": {},
   "source": [
    "# Plots"
   ]
  },
  {
   "cell_type": "code",
   "execution_count": 15,
   "metadata": {
    "tags": []
   },
   "outputs": [
    {
     "name": "stdout",
     "output_type": "stream",
     "text": [
      "-------------------- draw training history -------------------\n"
     ]
    },
    {
     "data": {
      "image/png": "[encoded data removed]",
      "text/plain": [
       "<Figure size 1440x1800 with 4 Axes>"
      ]
     },
     "metadata": {
      "needs_background": "light"
     },
     "output_type": "display_data"
    }
   ],
   "source": [
    "runner.draw_training_history()"
   ]
  },
  {
   "cell_type": "markdown",
   "metadata": {},
   "source": [
    "# Load Best Model"
   ]
  },
  {
   "cell_type": "code",
   "execution_count": 16,
   "metadata": {},
   "outputs": [
    {
     "name": "stdout",
     "output_type": "stream",
     "text": [
      "-------------------- load best model -------------------\n",
      "..Loading best model\n",
      "..Checkpoint weights loaded\n"
     ]
    }
   ],
   "source": [
    "runner.load_best_model()"
   ]
  },
  {
   "cell_type": "markdown",
   "metadata": {},
   "source": [
    "# Saving Trained Model"
   ]
  },
  {
   "cell_type": "code",
   "execution_count": 17,
   "metadata": {},
   "outputs": [
    {
     "name": "stdout",
     "output_type": "stream",
     "text": [
      "-------------------- save model -------------------\n",
      "Not saving model!\n"
     ]
    }
   ],
   "source": [
    "runner.save_model()"
   ]
  },
  {
   "cell_type": "markdown",
   "metadata": {},
   "source": [
    "# Test Trained Model"
   ]
  },
  {
   "cell_type": "markdown",
   "metadata": {},
   "source": [
    "## Validation Split"
   ]
  },
  {
   "cell_type": "code",
   "execution_count": 18,
   "metadata": {
    "tags": []
   },
   "outputs": [
    {
     "name": "stdout",
     "output_type": "stream",
     "text": [
      "Testing Trained Model\n",
      "Predicting labels....\n",
      "375/375 [==============================] - 24s 63ms/step\n",
      "Prediction finished!\n",
      "  Task  0: n_0             | EER_mean: 0.00240 | EER_interp: 0.00250 | ACC: 0.99760\n",
      "  Task  1: n_1             | EER_mean: 0.00170 | EER_interp: 0.00160 | ACC: 0.99830\n",
      "  Task  2: n_2             | EER_mean: 0.00220 | EER_interp: 0.00240 | ACC: 0.99780\n",
      "  Task  3: n_3             | EER_mean: 0.00330 | EER_interp: 0.00240 | ACC: 0.99830\n",
      "  Task  4: n_4             | EER_mean: 0.00320 | EER_interp: 0.00330 | ACC: 0.99680\n",
      "  Task  5: n_5             | EER_mean: 0.00170 | EER_interp: 0.00180 | ACC: 0.99820\n",
      "  Task  6: n_6             | EER_mean: 0.00310 | EER_interp: 0.00320 | ACC: 0.99690\n",
      "  Task  7: n_7             | EER_mean: 0.00370 | EER_interp: 0.00380 | ACC: 0.99620\n",
      "  Task  8: n_8             | EER_mean: 0.00340 | EER_interp: 0.00330 | ACC: 0.99680\n",
      "  Task  9: n_9             | EER_mean: 0.00610 | EER_interp: 0.00600 | ACC: 0.99390\n",
      "final_EER_mean: 0.3% | final_EER_median: 0.29% | final_EER_std_dv: 0.12% | final_ACC: 99.71%\n"
     ]
    }
   ],
   "source": [
    "runner.set_model_evaluator_data_src(DataSource.VALIDATION)\n",
    "runner.test_model(verbose=False)"
   ]
  },
  {
   "cell_type": "markdown",
   "metadata": {},
   "source": [
    "## Test Split"
   ]
  },
  {
   "cell_type": "code",
   "execution_count": 19,
   "metadata": {
    "tags": []
   },
   "outputs": [
    {
     "name": "stdout",
     "output_type": "stream",
     "text": [
      "Testing Trained Model\n",
      "Predicting labels....\n",
      "313/313 [==============================] - 22s 69ms/step\n",
      "Prediction finished!\n",
      "  Task  0: n_0             | EER_mean: 0.00140 | EER_interp: 0.00120 | ACC: 0.99860\n",
      "  Task  1: n_1             | EER_mean: 0.00170 | EER_interp: 0.00170 | ACC: 0.99830\n",
      "  Task  2: n_2             | EER_mean: 0.00260 | EER_interp: 0.00280 | ACC: 0.99740\n",
      "  Task  3: n_3             | EER_mean: 0.00110 | EER_interp: 0.00110 | ACC: 0.99890\n",
      "  Task  4: n_4             | EER_mean: 0.00110 | EER_interp: 0.00110 | ACC: 0.99890\n",
      "  Task  5: n_5             | EER_mean: 0.00220 | EER_interp: 0.00180 | ACC: 0.99840\n",
      "  Task  6: n_6             | EER_mean: 0.00520 | EER_interp: 0.00490 | ACC: 0.99530\n",
      "  Task  7: n_7             | EER_mean: 0.00390 | EER_interp: 0.00350 | ACC: 0.99680\n",
      "  Task  8: n_8             | EER_mean: 0.00310 | EER_interp: 0.00280 | ACC: 0.99750\n",
      "  Task  9: n_9             | EER_mean: 0.00370 | EER_interp: 0.00380 | ACC: 0.99630\n",
      "final_EER_mean: 0.25% | final_EER_median: 0.23% | final_EER_std_dv: 0.12% | final_ACC: 99.76%\n"
     ]
    }
   ],
   "source": [
    "runner.set_model_evaluator_data_src(DataSource.TEST)\n",
    "runner.test_model(verbose=False)"
   ]
  },
  {
   "cell_type": "markdown",
   "metadata": {},
   "source": [
    "# Visualize Model Classification"
   ]
  },
  {
   "cell_type": "raw",
   "metadata": {},
   "source": [
    "runner.visualize_predictions()"
   ]
  },
  {
   "cell_type": "markdown",
   "metadata": {},
   "source": [
    "# Finishing Experiment Manager"
   ]
  },
  {
   "cell_type": "code",
   "execution_count": 20,
   "metadata": {
    "tags": []
   },
   "outputs": [
    {
     "name": "stdout",
     "output_type": "stream",
     "text": [
      "-------------------- finish experiment -------------------\n",
      "Finishing Neptune\n",
      "Shutting down background jobs, please wait a moment...\n",
      "Done!\n",
      "Waiting for the remaining 41 operations to synchronize with Neptune. Do not kill this process.\n",
      "All 41 operations synced, thanks for waiting!\n",
      "Explore the metadata in the Neptune app:\n",
      "https://app.neptune.ai/guilhermemg/icao-nets-training-2/e/ICAO-360\n"
     ]
    }
   ],
   "source": [
    "runner.finish_experiment()"
   ]
  }
 ],
 "metadata": {
  "interpreter": {
   "hash": "85f5044ba23e75135dc4c908fd4d7609c1c80b195047fdb4d16ee0e66a953254"
  },
  "kernelspec": {
   "display_name": "Python 3 (ipykernel)",
   "language": "python",
   "name": "python3"
  },
  "language_info": {
   "codemirror_mode": {
    "name": "ipython",
    "version": 3
   },
   "file_extension": ".py",
   "mimetype": "text/x-python",
   "name": "python",
   "nbconvert_exporter": "python",
   "pygments_lexer": "ipython3",
   "version": "3.8.0"
  },
  "neptune": {
   "notebookId": "d6d95e8a-b251-40a1-bf9d-610ebc484f63"
  },
  "toc-autonumbering": true
 },
 "nbformat": 4,
 "nbformat_minor": 4
}

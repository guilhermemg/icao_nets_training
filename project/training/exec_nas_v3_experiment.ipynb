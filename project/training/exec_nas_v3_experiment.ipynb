{
 "cells": [
  {
   "cell_type": "markdown",
   "metadata": {},
   "source": [
    "# Import Libraries"
   ]
  },
  {
   "cell_type": "code",
   "execution_count": 1,
   "metadata": {},
   "outputs": [],
   "source": [
    "%load_ext autoreload\n",
    "%autoreload 2"
   ]
  },
  {
   "cell_type": "code",
   "execution_count": 2,
   "metadata": {},
   "outputs": [],
   "source": [
    "import os\n",
    "os.environ['NEPTUNE_API_TOKEN']=\"eyJhcGlfYWRkcmVzcyI6Imh0dHBzOi8vYXBwLm5lcHR1bmUuYWkiLCJhcGlfdXJsIjoiaHR0cHM6Ly9hcHAubmVwdHVuZS5haSIsImFwaV9rZXkiOiI5NDc0ZmNhNi0wODFlLTRhYTktYjgwZS01MWJkMDMxNWJhNTAifQ==\"\n",
    "os.environ['NEPTUNE_PROJECT']=\"guilhermemg/icao-nets-training-2\"\n",
    "os.environ['NEPTUNE_NOTEBOOK_ID']=\"98a391a1-c710-40bd-aaf4-42c31862cbbe\"\n",
    "os.environ['NEPTUNE_NOTEBOOK_PATH']=\"training/exec_nas_experiment.ipynb\""
   ]
  },
  {
   "cell_type": "code",
   "execution_count": 3,
   "metadata": {},
   "outputs": [],
   "source": [
    "import os\n",
    "# disable tensorflow log level infos\n",
    "os.environ['TF_CPP_MIN_LOG_LEVEL'] = '2' # show only errors\n",
    "\n",
    "import sys\n",
    "import pandas as pd\n",
    "\n",
    "if '..' not in sys.path:\n",
    "    sys.path.insert(0, '..')"
   ]
  },
  {
   "cell_type": "code",
   "execution_count": 4,
   "metadata": {
    "tags": []
   },
   "outputs": [
    {
     "name": "stdout",
     "output_type": "stream",
     "text": [
      " ==> Restrict GPU memory growth: True\n"
     ]
    }
   ],
   "source": [
    "from src.m_utils import constants as cts\n",
    "from src.base.data_loaders.data_loader import DLName\n",
    "from src.base.gt_loaders.gt_names import GTName\n",
    "from src.exp_runner import ExperimentRunner\n",
    "\n",
    "from src.base.experiment.dataset.dataset import Dataset\n",
    "from src.base.experiment.evaluation.model_evaluator import DataSource, DataPredSelection\n",
    "from src.base.experiment.training.base_models import BaseModel\n",
    "from src.base.experiment.training.optimizers import Optimizer\n",
    "\n",
    "from src.m_utils.stl_approach import STLApproach\n",
    "from src.m_utils.mtl_approach import MTLApproach\n",
    "from src.m_utils.nas_mtl_approach import NAS_MTLApproach"
   ]
  },
  {
   "cell_type": "markdown",
   "metadata": {},
   "source": [
    "# Start Network runner"
   ]
  },
  {
   "cell_type": "code",
   "execution_count": 5,
   "metadata": {
    "tags": []
   },
   "outputs": [
    {
     "name": "stdout",
     "output_type": "stream",
     "text": [
      "-------------------- Init ExperimentRunner -------------------\n",
      "---------------------------\n",
      "Parent Process ID: 24509\n",
      "Process ID: 75386\n",
      "---------------------------\n",
      "-----\n",
      "Use Neptune:  True\n",
      "-----\n",
      "-------------------\n",
      "Args: \n",
      "{'controller_params': {'controller_batch_size': 3,\n",
      "                       'controller_decay': 0.1,\n",
      "                       'controller_learning_rate': 0.01,\n",
      "                       'controller_loss_alpha': 0.9,\n",
      "                       'controller_lstm_dim': 100,\n",
      "                       'controller_momentum': 0.0,\n",
      "                       'controller_optimizer': <Optimizer.ADAM: 'Adam'>,\n",
      "                       'controller_sampling_epochs': 6,\n",
      "                       'controller_training_epochs': 5,\n",
      "                       'controller_use_predictor': False},\n",
      " 'exp_params': {'description': 'NAS with Approach 3',\n",
      "                'name': 'NAS experiment',\n",
      "                'src_files': ['../src/**/*.py'],\n",
      "                'tags': ['mnist', 'nas', 'nas_approach_3', 'no_use_predictor']},\n",
      " 'mlp_params': {'max_architecture_length': 5,\n",
      "                'min_task_group_size': 3,\n",
      "                'mlp_base_model': <BaseModel.MOBILENET_V2: {'name': 'mobilnet_v2', 'target_size': (224, 224), 'prep_function': <function preprocess_input at 0x7fc7cb59cca0>}>,\n",
      "                'mlp_batch_size': 64,\n",
      "                'mlp_decay': 0.0,\n",
      "                'mlp_dropout': 0.3,\n",
      "                'mlp_early_stopping': 50,\n",
      "                'mlp_learning_rate': 0.001,\n",
      "                'mlp_loss_function': 'sparse_categorical_crossentropy',\n",
      "                'mlp_momentum': 0.0,\n",
      "                'mlp_n_epochs': 50,\n",
      "                'mlp_one_shot': True,\n",
      "                'mlp_optimizer': <Optimizer.ADAMAX: 'Adamax'>},\n",
      " 'nas_params': {'architecture_training_epochs': 2,\n",
      "                'nas_algorithm': 'rl',\n",
      "                'nas_search_space': 'ss_1',\n",
      "                'total_num_proposed_architectures': 6},\n",
      " 'properties': {'approach': <NAS_MTLApproach.APPROACH_3: 'approach_3'>,\n",
      "                'balance_input_data': False,\n",
      "                'dataset': <Dataset.MNIST: {'name': 'mnist', 'target_cols': ['n_0', 'n_1', 'n_2', 'n_3', 'n_4', 'n_5', 'n_6', 'n_7', 'n_8', 'n_9'], 'tasks': [<MNIST_TASK.N_0: 'n_0'>, <MNIST_TASK.N_1: 'n_1'>, <MNIST_TASK.N_2: 'n_2'>, <MNIST_TASK.N_3: 'n_3'>, <MNIST_TASK.N_4: 'n_4'>, <MNIST_TASK.N_5: 'n_5'>, <MNIST_TASK.N_6: 'n_6'>, <MNIST_TASK.N_7: 'n_7'>, <MNIST_TASK.N_8: 'n_8'>, <MNIST_TASK.N_9: 'n_9'>]}>,\n",
      "                'exec_nas': True,\n",
      "                'orig_model_experiment_id': '',\n",
      "                'sample_prop': 0.03,\n",
      "                'sample_training_data': True,\n",
      "                'save_trained_model': True,\n",
      "                'tasks': [<MNIST_TASK.N_0: 'n_0'>,\n",
      "                          <MNIST_TASK.N_1: 'n_1'>,\n",
      "                          <MNIST_TASK.N_2: 'n_2'>,\n",
      "                          <MNIST_TASK.N_3: 'n_3'>,\n",
      "                          <MNIST_TASK.N_4: 'n_4'>,\n",
      "                          <MNIST_TASK.N_5: 'n_5'>,\n",
      "                          <MNIST_TASK.N_6: 'n_6'>,\n",
      "                          <MNIST_TASK.N_7: 'n_7'>,\n",
      "                          <MNIST_TASK.N_8: 'n_8'>,\n",
      "                          <MNIST_TASK.N_9: 'n_9'>],\n",
      "                'train_model': True},\n",
      " 'use_neptune': True}\n",
      "-------------------\n",
      "----\n",
      "Base Model Name:  BaseModel.MOBILENET_V2\n",
      "----\n",
      "MTL Model: True\n",
      "Approach: NAS_MTLApproach.APPROACH_3\n",
      "NAS MTL Model: True\n",
      "----\n",
      "--------------------  starting neptune  -------------------\n",
      "Starting Neptune\n",
      "https://app.neptune.ai/guilhermemg/icao-nets-training-2/e/ICAO-443\n",
      "Remember to stop your run once you’ve finished logging your metadata (https://docs.neptune.ai/api-reference/run#.stop). It will be stopped automatically only when the notebook kernel/interactive console is terminated.\n",
      "----\n",
      "Model path:  trained_model\n",
      "----\n",
      "Checking model existence locally...\n",
      "Training a new model! Not checking model existence\n",
      "----\n",
      "------------------------------\n",
      "Checking GPU availability\n",
      " ..GPU is available!\n",
      "------------------------------\n"
     ]
    }
   ],
   "source": [
    "DATASET = Dataset.MNIST\n",
    "APPROACH = NAS_MTLApproach.APPROACH_3\n",
    "\n",
    "kwargs = { \n",
    "    'use_neptune': True,\n",
    "    'exp_params' : {\n",
    "        'name': 'NAS experiment',\n",
    "        'description': 'NAS with Approach 3',\n",
    "        'tags': [f'{DATASET.value[\"name\"]}', 'nas', 'nas_approach_3', 'no_use_predictor'],\n",
    "        'src_files': [\"../src/**/*.py\"]\n",
    "    },\n",
    "    'properties': {\n",
    "        'approach': APPROACH,\n",
    "        'dataset': DATASET,\n",
    "        'tasks': DATASET.value['tasks'],\n",
    "        'balance_input_data': False,\n",
    "        'train_model': True,\n",
    "        'save_trained_model': True,\n",
    "        'exec_nas': True,\n",
    "        'orig_model_experiment_id': '',\n",
    "        'sample_training_data': True,\n",
    "        'sample_prop': 0.03\n",
    "    },\n",
    "    'nas_params': {\n",
    "        'architecture_training_epochs': 2,     # n_epochs for training proposed architecture\n",
    "        'total_num_proposed_architectures': 6,\n",
    "        'nas_algorithm': 'rl',\n",
    "        'nas_search_space': 'ss_1'\n",
    "    },\n",
    "    'controller_params': {\n",
    "        'controller_lstm_dim': 100,\n",
    "        'controller_optimizer': Optimizer.ADAM,\n",
    "        'controller_learning_rate': 0.01,\n",
    "        'controller_decay': 0.1,\n",
    "        'controller_momentum': 0.0,\n",
    "        'controller_use_predictor': False,\n",
    "        'controller_loss_alpha': 0.9,\n",
    "        'controller_training_epochs': 5,\n",
    "        'controller_sampling_epochs': 6,\n",
    "        'controller_batch_size': 3\n",
    "    },\n",
    "    'mlp_params': {\n",
    "        'max_architecture_length': 5,\n",
    "        'min_task_group_size': 3,\n",
    "        'mlp_base_model': BaseModel.MOBILENET_V2,\n",
    "        'mlp_n_epochs': 50,\n",
    "        'mlp_batch_size': 64,\n",
    "        'mlp_early_stopping': 50,\n",
    "        'mlp_optimizer': Optimizer.ADAMAX,\n",
    "        'mlp_learning_rate': 1e-3,\n",
    "        'mlp_decay': 0.0,\n",
    "        'mlp_momentum': 0.0,\n",
    "        'mlp_dropout': 0.3,\n",
    "        'mlp_loss_function': 'sparse_categorical_crossentropy',\n",
    "        'mlp_one_shot': True\n",
    "    }\n",
    "}\n",
    "\n",
    "\n",
    "runner = ExperimentRunner(**kwargs)"
   ]
  },
  {
   "cell_type": "markdown",
   "metadata": {
    "tags": []
   },
   "source": [
    "# Load Data"
   ]
  },
  {
   "cell_type": "code",
   "execution_count": 6,
   "metadata": {
    "tags": []
   },
   "outputs": [
    {
     "name": "stdout",
     "output_type": "stream",
     "text": [
      "-------------------- load training data -------------------\n",
      "Loading data\n",
      "TrainData.shape: (48000, 11)\n",
      "ValidationData.shape: (12000, 11)\n",
      "TestData.shape: (10000, 11)\n",
      "Data loaded\n"
     ]
    }
   ],
   "source": [
    "runner.load_training_data()"
   ]
  },
  {
   "cell_type": "code",
   "execution_count": 7,
   "metadata": {},
   "outputs": [
    {
     "name": "stdout",
     "output_type": "stream",
     "text": [
      "-------------------- sample training data -------------------\n",
      "Applying subsampling in training data\n",
      "..Sampling proportion: 0.03 (1440/48000)\n",
      "(1440, 11)\n",
      "Applying subsampling in validation data\n",
      "..Sampling proportion: 0.03 (360/12000)\n",
      "(360, 11)\n"
     ]
    }
   ],
   "source": [
    "runner.sample_training_data()"
   ]
  },
  {
   "cell_type": "code",
   "execution_count": 8,
   "metadata": {
    "tags": []
   },
   "outputs": [
    {
     "data": {
      "text/html": [
       "<div>\n",
       "<style scoped>\n",
       "    .dataframe tbody tr th:only-of-type {\n",
       "        vertical-align: middle;\n",
       "    }\n",
       "\n",
       "    .dataframe tbody tr th {\n",
       "        vertical-align: top;\n",
       "    }\n",
       "\n",
       "    .dataframe thead th {\n",
       "        text-align: right;\n",
       "    }\n",
       "</style>\n",
       "<table border=\"1\" class=\"dataframe\">\n",
       "  <thead>\n",
       "    <tr style=\"text-align: right;\">\n",
       "      <th></th>\n",
       "      <th>img_name</th>\n",
       "      <th>n_0</th>\n",
       "      <th>n_1</th>\n",
       "      <th>n_2</th>\n",
       "      <th>n_3</th>\n",
       "      <th>n_4</th>\n",
       "      <th>n_5</th>\n",
       "      <th>n_6</th>\n",
       "      <th>n_7</th>\n",
       "      <th>n_8</th>\n",
       "      <th>n_9</th>\n",
       "    </tr>\n",
       "  </thead>\n",
       "  <tbody>\n",
       "    <tr>\n",
       "      <th>32771</th>\n",
       "      <td>/home/guilherme/data1/Dropbox/Link to Desktop/...</td>\n",
       "      <td>0.0</td>\n",
       "      <td>0.0</td>\n",
       "      <td>0.0</td>\n",
       "      <td>0.0</td>\n",
       "      <td>0.0</td>\n",
       "      <td>0.0</td>\n",
       "      <td>1.0</td>\n",
       "      <td>0.0</td>\n",
       "      <td>0.0</td>\n",
       "      <td>0.0</td>\n",
       "    </tr>\n",
       "    <tr>\n",
       "      <th>39512</th>\n",
       "      <td>/home/guilherme/data1/Dropbox/Link to Desktop/...</td>\n",
       "      <td>0.0</td>\n",
       "      <td>0.0</td>\n",
       "      <td>0.0</td>\n",
       "      <td>0.0</td>\n",
       "      <td>0.0</td>\n",
       "      <td>0.0</td>\n",
       "      <td>1.0</td>\n",
       "      <td>0.0</td>\n",
       "      <td>0.0</td>\n",
       "      <td>0.0</td>\n",
       "    </tr>\n",
       "    <tr>\n",
       "      <th>43581</th>\n",
       "      <td>/home/guilherme/data1/Dropbox/Link to Desktop/...</td>\n",
       "      <td>1.0</td>\n",
       "      <td>0.0</td>\n",
       "      <td>0.0</td>\n",
       "      <td>0.0</td>\n",
       "      <td>0.0</td>\n",
       "      <td>0.0</td>\n",
       "      <td>0.0</td>\n",
       "      <td>0.0</td>\n",
       "      <td>0.0</td>\n",
       "      <td>0.0</td>\n",
       "    </tr>\n",
       "    <tr>\n",
       "      <th>2975</th>\n",
       "      <td>/home/guilherme/data1/Dropbox/Link to Desktop/...</td>\n",
       "      <td>0.0</td>\n",
       "      <td>0.0</td>\n",
       "      <td>0.0</td>\n",
       "      <td>0.0</td>\n",
       "      <td>0.0</td>\n",
       "      <td>0.0</td>\n",
       "      <td>0.0</td>\n",
       "      <td>1.0</td>\n",
       "      <td>0.0</td>\n",
       "      <td>0.0</td>\n",
       "    </tr>\n",
       "    <tr>\n",
       "      <th>3377</th>\n",
       "      <td>/home/guilherme/data1/Dropbox/Link to Desktop/...</td>\n",
       "      <td>0.0</td>\n",
       "      <td>0.0</td>\n",
       "      <td>0.0</td>\n",
       "      <td>1.0</td>\n",
       "      <td>0.0</td>\n",
       "      <td>0.0</td>\n",
       "      <td>0.0</td>\n",
       "      <td>0.0</td>\n",
       "      <td>0.0</td>\n",
       "      <td>0.0</td>\n",
       "    </tr>\n",
       "  </tbody>\n",
       "</table>\n",
       "</div>"
      ],
      "text/plain": [
       "                                                img_name  n_0  n_1  n_2  n_3  \\\n",
       "32771  /home/guilherme/data1/Dropbox/Link to Desktop/...  0.0  0.0  0.0  0.0   \n",
       "39512  /home/guilherme/data1/Dropbox/Link to Desktop/...  0.0  0.0  0.0  0.0   \n",
       "43581  /home/guilherme/data1/Dropbox/Link to Desktop/...  1.0  0.0  0.0  0.0   \n",
       "2975   /home/guilherme/data1/Dropbox/Link to Desktop/...  0.0  0.0  0.0  0.0   \n",
       "3377   /home/guilherme/data1/Dropbox/Link to Desktop/...  0.0  0.0  0.0  1.0   \n",
       "\n",
       "       n_4  n_5  n_6  n_7  n_8  n_9  \n",
       "32771  0.0  0.0  1.0  0.0  0.0  0.0  \n",
       "39512  0.0  0.0  1.0  0.0  0.0  0.0  \n",
       "43581  0.0  0.0  0.0  0.0  0.0  0.0  \n",
       "2975   0.0  0.0  0.0  1.0  0.0  0.0  \n",
       "3377   0.0  0.0  0.0  0.0  0.0  0.0  "
      ]
     },
     "execution_count": 8,
     "metadata": {},
     "output_type": "execute_result"
    }
   ],
   "source": [
    "runner.train_data.head()"
   ]
  },
  {
   "cell_type": "raw",
   "metadata": {
    "jupyter": {
     "source_hidden": true
    },
    "tags": []
   },
   "source": [
    "# <font color='red'>Producing Fake Data</font>"
   ]
  },
  {
   "cell_type": "raw",
   "metadata": {
    "jupyter": {
     "source_hidden": true
    },
    "tags": []
   },
   "source": [
    "runner.produce_fake_data()"
   ]
  },
  {
   "cell_type": "markdown",
   "metadata": {},
   "source": [
    "# Data Generators"
   ]
  },
  {
   "cell_type": "code",
   "execution_count": 9,
   "metadata": {
    "tags": []
   },
   "outputs": [
    {
     "name": "stdout",
     "output_type": "stream",
     "text": [
      "-------------------- setup data generators -------------------\n",
      "Starting data generators\n",
      "Found 1440 validated image filenames.\n",
      "Found 360 validated image filenames.\n",
      "Found 10000 validated image filenames.\n",
      "TOTAL: 11800\n",
      "\n",
      "Logging class indices\n",
      " .. MTL model not logging class indices!\n",
      "\n",
      "Using benchmarking dataset. Not logging class labels!\n"
     ]
    }
   ],
   "source": [
    "runner.setup_data_generators()"
   ]
  },
  {
   "cell_type": "markdown",
   "metadata": {
    "tags": []
   },
   "source": [
    "# Setup Experiment"
   ]
  },
  {
   "cell_type": "code",
   "execution_count": 10,
   "metadata": {},
   "outputs": [
    {
     "name": "stdout",
     "output_type": "stream",
     "text": [
      "-------------------- create experiment -------------------\n",
      "Setting up neptune experiment\n",
      "Neptune experiment setup done!\n"
     ]
    }
   ],
   "source": [
    "runner.setup_experiment()"
   ]
  },
  {
   "cell_type": "markdown",
   "metadata": {
    "tags": []
   },
   "source": [
    "# Labels Distribution"
   ]
  },
  {
   "cell_type": "code",
   "execution_count": 11,
   "metadata": {
    "tags": []
   },
   "outputs": [],
   "source": [
    "%%capture\n",
    "runner.summary_labels_dist()"
   ]
  },
  {
   "cell_type": "markdown",
   "metadata": {},
   "source": [
    "# Neural Architecture Search - v3"
   ]
  },
  {
   "cell_type": "code",
   "execution_count": 12,
   "metadata": {
    "tags": []
   },
   "outputs": [
    {
     "name": "stdout",
     "output_type": "stream",
     "text": [
      "-------------------- run neural architecture search -------------------\n",
      "all_archs[:10]: [[0, 0, 0, 0], [0, 0, 0, 1], [0, 0, 0, 2], [0, 0, 0, 3], [0, 0, 0, 4], [0, 0, 1, 0], [0, 0, 1, 1], [0, 0, 1, 2], [0, 0, 1, 3], [0, 0, 1, 4]]\n",
      "search_space_size: 625\n",
      "Controller model input shape: (None, 1, 4)\n",
      "Controller model output shape: (None, 1, 625)\n",
      "Model path:  trained_model\n",
      "----\n",
      "Checking model existence locally...\n",
      "Training a new model! Not checking model existence\n",
      "----\n",
      "------------------------------\n",
      "Checking GPU availability\n",
      " ..GPU is available!\n",
      "------------------------------\n",
      " ..prev_arch: [[[2 4 0 0]]]\n",
      " ..prev_arch.shape: (1, 1, 4)\n",
      "input: [[[2 4 0 0]]]\n",
      "prob_list[:5]: [0.00151664 0.00164782 0.00167094 0.00169515 0.00154823]\n",
      "chose_idx: 73\n",
      "new_arch: [0, 2, 4, 3]\n",
      "======================================================================\n",
      "  New Controller Epoch | Feedback ID: 1 | Feedback DNA: DNA([0, 2, 4, 3])\n",
      "----------------------------------------------------------------------\n",
      " -- Architecture 1: {'n_denses_0': 1, 'n_denses_1': 3, 'n_denses_2': 5, 'n_denses_3': 4}\n",
      "Creating model...\n",
      "Model created\n",
      "Training MOBILENET_V2 network\n",
      " .. Not fine tuning base model...\n",
      "  .. Total params: 3,187,284\n",
      "  .. Trainable params: 929,300\n",
      "  .. Non-trainable params: 2,257,984\n",
      "\n",
      "Epoch 00001: val_loss improved from inf to 0.78156, saving model to training/training_ckpt/best_model.hdf5\n"
     ]
    },
    {
     "name": "stderr",
     "output_type": "stream",
     "text": [
      "/home/guilherme/data2/anaconda3/envs/icao_nets_training/lib/python3.8/site-packages/tensorflow/python/keras/utils/generic_utils.py:494: CustomMaskWarning: Custom mask layers require a config and must override get_config. When loading, the custom mask layer must be passed to the custom_objects argument.\n",
      "  warnings.warn('Custom mask layers require a config and must override '\n"
     ]
    },
    {
     "name": "stdout",
     "output_type": "stream",
     "text": [
      "\n",
      "Epoch 00002: val_loss did not improve from 0.78156\n",
      "..Loading best model\n",
      "..Checkpoint weights loaded\n",
      "Testing Trained Model\n",
      "Predicting labels....\n",
      "6/6 [==============================] - 1s 102ms/step\n",
      "Prediction finished!\n",
      "  Task  0: n_0             | EER_mean: 0.03370 | EER_interp: 0.04620 | ACC: 0.96390\n",
      "  Task  1: n_1             | EER_mean: 0.06250 | EER_interp: 0.06170 | ACC: 0.93890\n",
      "  Task  2: n_2             | EER_mean: 0.33330 | EER_interp: 0.33650 | ACC: 0.66110\n",
      "  Task  3: n_3             | EER_mean: 0.33530 | EER_interp: 0.34080 | ACC: 0.66390\n",
      "  Task  4: n_4             | EER_mean: 0.15140 | EER_interp: 0.15710 | ACC: 0.84720\n",
      "  Task  5: n_5             | EER_mean: 0.13900 | EER_interp: 0.13850 | ACC: 0.86110\n",
      "  Task  6: n_6             | EER_mean: 0.25000 | EER_interp: 0.24840 | ACC: 0.75280\n",
      "  Task  7: n_7             | EER_mean: 0.17880 | EER_interp: 0.17270 | ACC: 0.82220\n",
      "  Task  8: n_8             | EER_mean: 0.27240 | EER_interp: 0.27140 | ACC: 0.72780\n",
      "  Task  9: n_9             | EER_mean: 0.32350 | EER_interp: 0.32280 | ACC: 0.67780\n",
      "final_EER_mean: 20.96% | final_EER_median: 21.06% | final_EER_std_dv: 10.45% | final_ACC: 79.17%\n",
      "validation accuracy:  79.17\n",
      "======================================================================\n",
      " ..nas_history_data: [[DNA([0, 2, 4, 3]), 79.17]]\n",
      " ..len(self.nas_history_data): 1\n",
      "logging nas_history_data...\n",
      " ..self.nas_history_data: [[DNA([0, 2, 4, 3]), 79.17]]\n",
      " ..nas_data_log_path: LOGS/nas_data.csv\n",
      " ..prev_arch: [[[0 2 4 3]]]\n",
      " ..prev_arch.shape: (1, 1, 4)\n",
      "input: [[[0 2 4 3]]]\n",
      "prob_list[:5]: [0.00142168 0.00161995 0.00157076 0.00161146 0.00158588]\n",
      "chose_idx: 61\n",
      "new_arch: [0, 2, 2, 1]\n",
      "======================================================================\n",
      "  New Controller Epoch | Feedback ID: 2 | Feedback DNA: DNA([0, 2, 2, 1])\n",
      "----------------------------------------------------------------------\n",
      " -- Architecture 2: {'n_denses_0': 1, 'n_denses_1': 3, 'n_denses_2': 3, 'n_denses_3': 2}\n",
      "Creating model...\n",
      "Model created\n",
      "Training MOBILENET_V2 network\n",
      " .. Not fine tuning base model...\n",
      "  .. Total params: 3,137,364\n",
      "  .. Trainable params: 879,380\n",
      "  .. Non-trainable params: 2,257,984\n",
      "\n",
      "Epoch 00001: val_loss improved from inf to 0.75273, saving model to training/training_ckpt/best_model.hdf5\n",
      "\n",
      "Epoch 00002: val_loss improved from 0.75273 to 0.71128, saving model to training/training_ckpt/best_model.hdf5\n",
      "..Loading best model\n",
      "..Checkpoint weights loaded\n",
      "Testing Trained Model\n",
      "Predicting labels....\n",
      "6/6 [==============================] - 1s 42ms/step\n",
      "Prediction finished!\n",
      "  Task  0: n_0             | EER_mean: 0.02940 | EER_interp: 0.02230 | ACC: 0.98330\n",
      "  Task  1: n_1             | EER_mean: 0.02080 | EER_interp: 0.01840 | ACC: 0.98330\n",
      "  Task  2: n_2             | EER_mean: 0.15380 | EER_interp: 0.14860 | ACC: 0.85560\n",
      "  Task  3: n_3             | EER_mean: 0.11540 | EER_interp: 0.11460 | ACC: 0.88610\n",
      "  Task  4: n_4             | EER_mean: 0.18600 | EER_interp: 0.18450 | ACC: 0.81670\n",
      "  Task  5: n_5             | EER_mean: 0.13790 | EER_interp: 0.12330 | ACC: 0.88890\n",
      "  Task  6: n_6             | EER_mean: 0.17190 | EER_interp: 0.17340 | ACC: 0.82780\n",
      "  Task  7: n_7             | EER_mean: 0.13330 | EER_interp: 0.13180 | ACC: 0.86940\n",
      "  Task  8: n_8             | EER_mean: 0.19500 | EER_interp: 0.19210 | ACC: 0.80560\n",
      "  Task  9: n_9             | EER_mean: 0.47060 | EER_interp: 0.46540 | ACC: 0.53890\n",
      "final_EER_mean: 15.74% | final_EER_median: 14.02% | final_EER_std_dv: 11.76% | final_ACC: 84.56%\n",
      "validation accuracy:  84.56\n",
      "======================================================================\n",
      " ..nas_history_data: [[DNA([0, 2, 4, 3]), 79.17], [DNA([0, 2, 2, 1]), 84.56]]\n",
      " ..len(self.nas_history_data): 2\n",
      "logging nas_history_data...\n",
      " ..self.nas_history_data: [[DNA([0, 2, 4, 3]), 79.17], [DNA([0, 2, 2, 1]), 84.56]]\n",
      " ..nas_data_log_path: LOGS/nas_data.csv\n",
      " ..prev_arch: [[[0 2 2 1]]]\n",
      " ..prev_arch.shape: (1, 1, 4)\n",
      "input: [[[0 2 2 1]]]\n",
      "prob_list[:5]: [0.00149468 0.00163273 0.00161063 0.00164564 0.00157958]\n",
      "chose_idx: 589\n",
      "new_arch: [4, 3, 2, 4]\n",
      "======================================================================\n",
      "  New Controller Epoch | Feedback ID: 3 | Feedback DNA: DNA([4, 3, 2, 4])\n",
      "----------------------------------------------------------------------\n",
      " -- Architecture 3: {'n_denses_0': 5, 'n_denses_1': 4, 'n_denses_2': 3, 'n_denses_3': 5}\n",
      "Creating model...\n",
      "Model created\n",
      "Training MOBILENET_V2 network\n",
      " .. Not fine tuning base model...\n",
      "  .. Total params: 3,216,404\n",
      "  .. Trainable params: 958,420\n",
      "  .. Non-trainable params: 2,257,984\n",
      "\n",
      "Epoch 00001: val_loss improved from inf to 0.34451, saving model to training/training_ckpt/best_model.hdf5\n",
      "\n",
      "Epoch 00002: val_loss improved from 0.34451 to 0.27469, saving model to training/training_ckpt/best_model.hdf5\n",
      "..Loading best model\n",
      "..Checkpoint weights loaded\n",
      "Testing Trained Model\n",
      "Predicting labels....\n",
      "6/6 [==============================] - 1s 52ms/step\n",
      "Prediction finished!\n"
     ]
    },
    {
     "name": "stderr",
     "output_type": "stream",
     "text": [
      "/home/guilherme/data2/anaconda3/envs/icao_nets_training/lib/python3.8/site-packages/scipy/interpolate/interpolate.py:630: RuntimeWarning: divide by zero encountered in true_divide\n",
      "  slope = (y_hi - y_lo) / (x_hi - x_lo)[:, None]\n",
      "/home/guilherme/data2/anaconda3/envs/icao_nets_training/lib/python3.8/site-packages/scipy/interpolate/interpolate.py:633: RuntimeWarning: invalid value encountered in multiply\n",
      "  y_new = slope*(x_new - x_lo)[:, None] + y_lo\n"
     ]
    },
    {
     "name": "stdout",
     "output_type": "stream",
     "text": [
      "  Task  0: n_0             | EER_mean: 0.02940 | EER_interp: 0.02390 | ACC: 0.98060\n",
      "  Task  1: n_1             | EER_mean: 0.00000 | EER_interp: 0.00000 | ACC: 0.13330\n",
      "  Task  2: n_2             | EER_mean: 0.20510 | EER_interp: 0.20220 | ACC: 0.80000\n",
      "  Task  3: n_3             | EER_mean: 0.07690 | EER_interp: 0.07590 | ACC: 0.92500\n",
      "  Task  4: n_4             | EER_mean: 0.04650 | EER_interp: 0.03120 | ACC: 0.98060\n",
      "  Task  5: n_5             | EER_mean: 0.05440 | EER_interp: 0.06170 | ACC: 0.94440\n",
      "  Task  6: n_6             | EER_mean: 0.00940 | EER_interp: 0.00000 | ACC: 0.99170\n",
      "  Task  7: n_7             | EER_mean: 0.06970 | EER_interp: 0.06820 | ACC: 0.93060\n",
      "  Task  8: n_8             | EER_mean: 0.05410 | EER_interp: 0.05340 | ACC: 0.94720\n",
      "  Task  9: n_9             | EER_mean: 0.02940 | EER_interp: 0.03000 | ACC: 0.96940\n",
      "final_EER_mean: 5.46% | final_EER_median: 4.23% | final_EER_std_dv: 5.53% | final_ACC: 86.03%\n",
      "validation accuracy:  86.03\n",
      "======================================================================\n",
      " ..nas_history_data: [[DNA([0, 2, 4, 3]), 79.17], [DNA([0, 2, 2, 1]), 84.56], [DNA([4, 3, 2, 4]), 86.03]]\n",
      " ..len(self.nas_history_data): 3\n",
      "logging nas_history_data...\n",
      " ..self.nas_history_data: [[DNA([0, 2, 4, 3]), 79.17], [DNA([0, 2, 2, 1]), 84.56], [DNA([4, 3, 2, 4]), 86.03]]\n",
      " ..nas_data_log_path: LOGS/nas_data.csv\n",
      "......................................................................\n",
      " ..New batch of architectures. Training controller model...\n",
      "Training controller model...\n",
      "Preparing controller data...\n",
      " ..nas_data_history: [[DNA([0, 2, 4, 3]), 79.17], [DNA([0, 2, 2, 1]), 84.56], [DNA([4, 3, 2, 4]), 86.03]]\n",
      " ..xc: [[[0 2 4 3]]\n",
      "\n",
      " [[0 2 2 1]]\n",
      "\n",
      " [[4 3 2 4]]]\n",
      " ..xc.shape: (3, 1, 4)\n",
      " ..yc: [[[0. 0. 0. 0.]]\n",
      "\n",
      " [[0. 0. 0. 0.]]\n",
      "\n",
      " [[0. 0. 0. 0.]]]\n",
      " ..yc.shape: (3, 1, 4)\n",
      " ..val_acc_target: [79.17, 84.56, 86.03]\n",
      " ..val_acc_target.length: 3\n",
      "TRAINING CONTROLLER...\n",
      " ..Controller model trained!\n",
      "......................................................................\n",
      " ..prev_arch: [[[4 3 2 4]]]\n",
      " ..prev_arch.shape: (1, 1, 4)\n",
      "input: [[[4 3 2 4]]]\n",
      "prob_list[:5]: [0.00144285 0.00160273 0.00180218 0.00153982 0.00171824]\n",
      "chose_idx: 584\n",
      "new_arch: [4, 3, 1, 4]\n",
      "======================================================================\n",
      "  New Controller Epoch | Feedback ID: 4 | Feedback DNA: DNA([4, 3, 1, 4])\n",
      "----------------------------------------------------------------------\n",
      " -- Architecture 4: {'n_denses_0': 5, 'n_denses_1': 4, 'n_denses_2': 2, 'n_denses_3': 5}\n",
      "Creating model...\n",
      "Model created\n",
      "Training MOBILENET_V2 network\n",
      " .. Not fine tuning base model...\n",
      "  .. Total params: 3,208,084\n",
      "  .. Trainable params: 950,100\n",
      "  .. Non-trainable params: 2,257,984\n",
      "\n",
      "Epoch 00001: val_loss improved from inf to 0.80134, saving model to training/training_ckpt/best_model.hdf5\n",
      "\n",
      "Epoch 00002: val_loss did not improve from 0.80134\n",
      "..Loading best model\n",
      "..Checkpoint weights loaded\n",
      "Testing Trained Model\n",
      "Predicting labels....\n",
      "6/6 [==============================] - ETA:  - 1s 51ms/step\n",
      "Prediction finished!\n",
      "  Task  0: n_0             | EER_mean: 0.00310 | EER_interp: 0.00000 | ACC: 0.99720\n",
      "  Task  1: n_1             | EER_mean: 0.04170 | EER_interp: 0.04170 | ACC: 0.95830\n",
      "  Task  2: n_2             | EER_mean: 0.26480 | EER_interp: 0.27340 | ACC: 0.73330\n",
      "  Task  3: n_3             | EER_mean: 0.23080 | EER_interp: 0.22770 | ACC: 0.77500\n",
      "  Task  4: n_4             | EER_mean: 0.21450 | EER_interp: 0.21190 | ACC: 0.78610\n",
      "  Task  5: n_5             | EER_mean: 0.20690 | EER_interp: 0.19100 | ACC: 0.82220\n",
      "  Task  6: n_6             | EER_mean: 0.20000 | EER_interp: 0.19850 | ACC: 0.80280\n",
      "  Task  7: n_7             | EER_mean: 0.30000 | EER_interp: 0.30000 | ACC: 0.70000\n",
      "  Task  8: n_8             | EER_mean: 0.09290 | EER_interp: 0.08700 | ACC: 0.90830\n",
      "  Task  9: n_9             | EER_mean: 0.17790 | EER_interp: 0.17720 | ACC: 0.82220\n",
      "final_EER_mean: 17.08% | final_EER_median: 19.48% | final_EER_std_dv: 9.29% | final_ACC: 83.05%\n",
      "validation accuracy:  83.05\n",
      "======================================================================\n",
      " ..nas_history_data: [[DNA([0, 2, 4, 3]), 79.17], [DNA([0, 2, 2, 1]), 84.56], [DNA([4, 3, 2, 4]), 86.03], [DNA([4, 3, 1, 4]), 83.05]]\n",
      " ..len(self.nas_history_data): 4\n",
      "logging nas_history_data...\n",
      " ..self.nas_history_data: [[DNA([0, 2, 4, 3]), 79.17], [DNA([0, 2, 2, 1]), 84.56], [DNA([4, 3, 2, 4]), 86.03], [DNA([4, 3, 1, 4]), 83.05]]\n",
      " ..nas_data_log_path: LOGS/nas_data.csv\n",
      " ..prev_arch: [[[4 3 1 4]]]\n",
      " ..prev_arch.shape: (1, 1, 4)\n",
      "input: [[[4 3 1 4]]]\n",
      "prob_list[:5]: [0.00146551 0.00160488 0.00179689 0.0015345  0.00172338]\n",
      "chose_idx: 159\n",
      "new_arch: [1, 1, 1, 4]\n",
      "======================================================================\n",
      "  New Controller Epoch | Feedback ID: 5 | Feedback DNA: DNA([1, 1, 1, 4])\n",
      "----------------------------------------------------------------------\n",
      " -- Architecture 5: {'n_denses_0': 2, 'n_denses_1': 2, 'n_denses_2': 2, 'n_denses_3': 5}\n",
      "Creating model...\n",
      "Model created\n",
      "Training MOBILENET_V2 network\n",
      " .. Not fine tuning base model...\n",
      "  .. Total params: 3,170,644\n",
      "  .. Trainable params: 912,660\n",
      "  .. Non-trainable params: 2,257,984\n",
      "\n",
      "Epoch 00001: val_loss improved from inf to 0.59101, saving model to training/training_ckpt/best_model.hdf5\n",
      "\n",
      "Epoch 00002: val_loss improved from 0.59101 to 0.55959, saving model to training/training_ckpt/best_model.hdf5\n",
      "..Loading best model\n",
      "..Checkpoint weights loaded\n",
      "Testing Trained Model\n",
      "Predicting labels....\n",
      "6/6 [==============================] - 1s 47ms/step\n",
      "Prediction finished!\n",
      "  Task  0: n_0             | EER_mean: 0.10120 | EER_interp: 0.09470 | ACC: 0.90000\n",
      "  Task  1: n_1             | EER_mean: 0.04490 | EER_interp: 0.05370 | ACC: 0.95280\n",
      "  Task  2: n_2             | EER_mean: 0.17950 | EER_interp: 0.17700 | ACC: 0.82500\n",
      "  Task  3: n_3             | EER_mean: 0.08980 | EER_interp: 0.08340 | ACC: 0.91110\n",
      "  Task  4: n_4             | EER_mean: 0.23260 | EER_interp: 0.23140 | ACC: 0.76940\n",
      "  Task  5: n_5             | EER_mean: 0.13790 | EER_interp: 0.13700 | ACC: 0.86390\n",
      "  Task  6: n_6             | EER_mean: 0.20630 | EER_interp: 0.20310 | ACC: 0.79440\n",
      "  Task  7: n_7             | EER_mean: 0.16670 | EER_interp: 0.15300 | ACC: 0.85830\n",
      "  Task  8: n_8             | EER_mean: 0.18920 | EER_interp: 0.19060 | ACC: 0.80830\n",
      "  Task  9: n_9             | EER_mean: 0.38340 | EER_interp: 0.38290 | ACC: 0.61670\n",
      "final_EER_mean: 17.07% | final_EER_median: 16.5% | final_EER_std_dv: 8.87% | final_ACC: 83.0%\n",
      "validation accuracy:  83.0\n",
      "======================================================================\n",
      " ..nas_history_data: [[DNA([0, 2, 4, 3]), 79.17], [DNA([0, 2, 2, 1]), 84.56], [DNA([4, 3, 2, 4]), 86.03], [DNA([4, 3, 1, 4]), 83.05], [DNA([1, 1, 1, 4]), 83.0]]\n",
      " ..len(self.nas_history_data): 5\n",
      "logging nas_history_data...\n",
      " ..self.nas_history_data: [[DNA([0, 2, 4, 3]), 79.17], [DNA([0, 2, 2, 1]), 84.56], [DNA([4, 3, 2, 4]), 86.03], [DNA([4, 3, 1, 4]), 83.05], [DNA([1, 1, 1, 4]), 83.0]]\n",
      " ..nas_data_log_path: LOGS/nas_data.csv\n",
      " ..prev_arch: [[[1 1 1 4]]]\n",
      " ..prev_arch.shape: (1, 1, 4)\n",
      "input: [[[1 1 1 4]]]\n",
      "prob_list[:5]: [0.00144887 0.00160572 0.00168504 0.0015257  0.00171177]\n",
      "chose_idx: 495\n",
      "new_arch: [3, 4, 4, 0]\n",
      "======================================================================\n",
      "  New Controller Epoch | Feedback ID: 6 | Feedback DNA: DNA([3, 4, 4, 0])\n",
      "----------------------------------------------------------------------\n",
      " -- Architecture 6: {'n_denses_0': 4, 'n_denses_1': 5, 'n_denses_2': 5, 'n_denses_3': 1}\n",
      "Creating model...\n",
      "Model created\n",
      "Training MOBILENET_V2 network\n",
      " .. Not fine tuning base model...\n",
      "  .. Total params: 3,174,804\n",
      "  .. Trainable params: 916,820\n",
      "  .. Non-trainable params: 2,257,984\n",
      "\n",
      "Epoch 00001: val_loss improved from inf to 1.12835, saving model to training/training_ckpt/best_model.hdf5\n",
      "\n",
      "Epoch 00002: val_loss did not improve from 1.12835\n",
      "..Loading best model\n",
      "..Checkpoint weights loaded\n",
      "Testing Trained Model\n",
      "Predicting labels....\n",
      "6/6 [==============================] - 1s 51ms/step\n",
      "Prediction finished!\n",
      "  Task  0: n_0             | EER_mean: 0.22090 | EER_interp: 0.22810 | ACC: 0.77780\n",
      "  Task  1: n_1             | EER_mean: 0.16350 | EER_interp: 0.16510 | ACC: 0.83610\n",
      "  Task  2: n_2             | EER_mean: 0.41030 | EER_interp: 0.40920 | ACC: 0.59170\n",
      "  Task  3: n_3             | EER_mean: 0.43410 | EER_interp: 0.42860 | ACC: 0.56670\n",
      "  Task  4: n_4             | EER_mean: 0.28710 | EER_interp: 0.28310 | ACC: 0.71390\n",
      "  Task  5: n_5             | EER_mean: 0.40480 | EER_interp: 0.40930 | ACC: 0.59440\n",
      "  Task  6: n_6             | EER_mean: 0.30000 | EER_interp: 0.30160 | ACC: 0.69720\n",
      "  Task  7: n_7             | EER_mean: 0.23330 | EER_interp: 0.22270 | ACC: 0.78610\n",
      "  Task  8: n_8             | EER_mean: 0.21620 | EER_interp: 0.21340 | ACC: 0.78890\n",
      "  Task  9: n_9             | EER_mean: 0.44170 | EER_interp: 0.44140 | ACC: 0.55830\n",
      "final_EER_mean: 31.02% | final_EER_median: 29.24% | final_EER_std_dv: 9.82% | final_ACC: 69.11%\n",
      "validation accuracy:  69.11\n",
      "======================================================================\n",
      " ..nas_history_data: [[DNA([0, 2, 4, 3]), 79.17], [DNA([0, 2, 2, 1]), 84.56], [DNA([4, 3, 2, 4]), 86.03], [DNA([4, 3, 1, 4]), 83.05], [DNA([1, 1, 1, 4]), 83.0], [DNA([3, 4, 4, 0]), 69.11]]\n",
      " ..len(self.nas_history_data): 6\n",
      "logging nas_history_data...\n",
      " ..self.nas_history_data: [[DNA([0, 2, 4, 3]), 79.17], [DNA([0, 2, 2, 1]), 84.56], [DNA([4, 3, 2, 4]), 86.03], [DNA([4, 3, 1, 4]), 83.05], [DNA([1, 1, 1, 4]), 83.0], [DNA([3, 4, 4, 0]), 69.11]]\n",
      " ..nas_data_log_path: LOGS/nas_data.csv\n",
      "\n",
      "\n",
      "------------------ TOP ARCHITECTURES FOUND --------------------\n",
      " . Architecture 2: DNA([4, 3, 2, 4]) | Validation accuracy: 86.03%\n",
      " . Architecture 1: DNA([0, 2, 2, 1]) | Validation accuracy: 84.56%\n",
      " . Architecture 3: DNA([4, 3, 1, 4]) | Validation accuracy: 83.05%\n",
      " . Architecture 4: DNA([1, 1, 1, 4]) | Validation accuracy: 83.0%\n",
      " . Architecture 0: DNA([0, 2, 4, 3]) | Validation accuracy: 79.17%\n",
      "------------------------------------------------------\n",
      "\n",
      "\n"
     ]
    }
   ],
   "source": [
    "best_arch = runner.run_neural_architecture_search_v3()"
   ]
  },
  {
   "cell_type": "markdown",
   "metadata": {
    "tags": []
   },
   "source": [
    "# Create Model with Best Architecture Found"
   ]
  },
  {
   "cell_type": "code",
   "execution_count": 15,
   "metadata": {},
   "outputs": [
    {
     "name": "stdout",
     "output_type": "stream",
     "text": [
      "Shutting down background jobs, please wait a moment...\n",
      "Done!\n",
      "Waiting for the remaining 1 operations to synchronize with Neptune. Do not kill this process.\n",
      "All 1 operations synced, thanks for waiting!\n",
      "Explore the metadata in the Neptune app:\n",
      "https://app.neptune.ai/guilhermemg/icao-nets-training-2/e/ICAO-443\n"
     ]
    }
   ],
   "source": [
    "best_arch"
   ]
  },
  {
   "cell_type": "code",
   "execution_count": 13,
   "metadata": {},
   "outputs": [
    {
     "name": "stdout",
     "output_type": "stream",
     "text": [
      "-------------------- create model -------------------\n",
      "Creating model...\n"
     ]
    },
    {
     "ename": "TypeError",
     "evalue": "'NoneType' object is not subscriptable",
     "output_type": "error",
     "traceback": [
      "\u001b[0;31m---------------------------------------------------------------------------\u001b[0m",
      "\u001b[0;31mTypeError\u001b[0m                                 Traceback (most recent call last)",
      "\u001b[0;32m/tmp/ipykernel_75386/2559998625.py\u001b[0m in \u001b[0;36m<module>\u001b[0;34m\u001b[0m\n\u001b[0;32m----> 1\u001b[0;31m \u001b[0mrunner\u001b[0m\u001b[0;34m.\u001b[0m\u001b[0mcreate_model\u001b[0m\u001b[0;34m(\u001b[0m\u001b[0mbest_arch\u001b[0m\u001b[0;34m)\u001b[0m\u001b[0;34m\u001b[0m\u001b[0;34m\u001b[0m\u001b[0m\n\u001b[0m",
      "\u001b[0;32m~/projects/doutorado/mteval-icao-reqs/submodules/icao_nets_training/project/src/exp_runner.py\u001b[0m in \u001b[0;36mcreate_model\u001b[0;34m(self, config)\u001b[0m\n\u001b[1;32m    205\u001b[0m             \u001b[0;31m#    self.model_trainer.create_model(self.train_gen, config=config)\u001b[0m\u001b[0;34m\u001b[0m\u001b[0;34m\u001b[0m\u001b[0;34m\u001b[0m\u001b[0m\n\u001b[1;32m    206\u001b[0m             \u001b[0;31m#else:\u001b[0m\u001b[0;34m\u001b[0m\u001b[0;34m\u001b[0m\u001b[0;34m\u001b[0m\u001b[0m\n\u001b[0;32m--> 207\u001b[0;31m         \u001b[0mself\u001b[0m\u001b[0;34m.\u001b[0m\u001b[0mmodel_trainer\u001b[0m\u001b[0;34m.\u001b[0m\u001b[0mcreate_model\u001b[0m\u001b[0;34m(\u001b[0m\u001b[0mself\u001b[0m\u001b[0;34m.\u001b[0m\u001b[0mtrain_gen\u001b[0m\u001b[0;34m,\u001b[0m \u001b[0mconfig\u001b[0m\u001b[0;34m=\u001b[0m\u001b[0mconfig\u001b[0m\u001b[0;34m)\u001b[0m\u001b[0;34m\u001b[0m\u001b[0;34m\u001b[0m\u001b[0m\n\u001b[0m\u001b[1;32m    208\u001b[0m         \u001b[0;31m#else:\u001b[0m\u001b[0;34m\u001b[0m\u001b[0;34m\u001b[0m\u001b[0;34m\u001b[0m\u001b[0m\n\u001b[1;32m    209\u001b[0m         \u001b[0;31m#    self.model_trainer.create_model(self.train_gen)\u001b[0m\u001b[0;34m\u001b[0m\u001b[0;34m\u001b[0m\u001b[0;34m\u001b[0m\u001b[0m\n",
      "\u001b[0;32m~/projects/doutorado/mteval-icao-reqs/submodules/icao_nets_training/project/src/base/experiment/training/model_trainer.py\u001b[0m in \u001b[0;36mcreate_model\u001b[0;34m(self, train_gen, config, running_nas)\u001b[0m\n\u001b[1;32m    111\u001b[0m \u001b[0;34m\u001b[0m\u001b[0m\n\u001b[1;32m    112\u001b[0m         \u001b[0mprint\u001b[0m\u001b[0;34m(\u001b[0m\u001b[0;34m'Creating model...'\u001b[0m\u001b[0;34m)\u001b[0m\u001b[0;34m\u001b[0m\u001b[0;34m\u001b[0m\u001b[0m\n\u001b[0;32m--> 113\u001b[0;31m         \u001b[0mself\u001b[0m\u001b[0;34m.\u001b[0m\u001b[0mbaseModel\u001b[0m\u001b[0;34m,\u001b[0m \u001b[0mself\u001b[0m\u001b[0;34m.\u001b[0m\u001b[0mmodel\u001b[0m \u001b[0;34m=\u001b[0m \u001b[0mself\u001b[0m\u001b[0;34m.\u001b[0m\u001b[0mmodel_creator\u001b[0m\u001b[0;34m.\u001b[0m\u001b[0mcreate_model\u001b[0m\u001b[0;34m(\u001b[0m\u001b[0mtrain_gen\u001b[0m\u001b[0;34m,\u001b[0m \u001b[0mconfig\u001b[0m\u001b[0;34m)\u001b[0m\u001b[0;34m\u001b[0m\u001b[0;34m\u001b[0m\u001b[0m\n\u001b[0m\u001b[1;32m    114\u001b[0m \u001b[0;34m\u001b[0m\u001b[0m\n\u001b[1;32m    115\u001b[0m         \u001b[0;32mif\u001b[0m \u001b[0mself\u001b[0m\u001b[0;34m.\u001b[0m\u001b[0mconfig_interp\u001b[0m\u001b[0;34m.\u001b[0m\u001b[0muse_neptune\u001b[0m \u001b[0;32mand\u001b[0m \u001b[0;32mnot\u001b[0m \u001b[0mrunning_nas\u001b[0m\u001b[0;34m:\u001b[0m\u001b[0;34m\u001b[0m\u001b[0;34m\u001b[0m\u001b[0m\n",
      "\u001b[0;32m~/projects/doutorado/mteval-icao-reqs/submodules/icao_nets_training/project/src/base/experiment/training/model_creator.py\u001b[0m in \u001b[0;36mcreate_model\u001b[0;34m(self, train_gen, config)\u001b[0m\n\u001b[1;32m    320\u001b[0m             \u001b[0;32mreturn\u001b[0m \u001b[0mself\u001b[0m\u001b[0;34m.\u001b[0m\u001b[0m__create_nas_mtl_model_1\u001b[0m\u001b[0;34m(\u001b[0m\u001b[0mconfig\u001b[0m\u001b[0;34m)\u001b[0m\u001b[0;34m\u001b[0m\u001b[0;34m\u001b[0m\u001b[0m\n\u001b[1;32m    321\u001b[0m         \u001b[0;32melif\u001b[0m \u001b[0mself\u001b[0m\u001b[0;34m.\u001b[0m\u001b[0mconfig_interp\u001b[0m\u001b[0;34m.\u001b[0m\u001b[0mapproach\u001b[0m\u001b[0;34m.\u001b[0m\u001b[0mvalue\u001b[0m \u001b[0;34m==\u001b[0m \u001b[0mNAS_MTLApproach\u001b[0m\u001b[0;34m.\u001b[0m\u001b[0mAPPROACH_3\u001b[0m\u001b[0;34m.\u001b[0m\u001b[0mvalue\u001b[0m\u001b[0;34m:\u001b[0m\u001b[0;34m\u001b[0m\u001b[0;34m\u001b[0m\u001b[0m\n\u001b[0;32m--> 322\u001b[0;31m             \u001b[0;32mreturn\u001b[0m \u001b[0mself\u001b[0m\u001b[0;34m.\u001b[0m\u001b[0m__create_nas_mtl_model_2\u001b[0m\u001b[0;34m(\u001b[0m\u001b[0mconfig\u001b[0m\u001b[0;34m)\u001b[0m\u001b[0;34m\u001b[0m\u001b[0;34m\u001b[0m\u001b[0m\n\u001b[0m",
      "\u001b[0;32m~/projects/doutorado/mteval-icao-reqs/submodules/icao_nets_training/project/src/base/experiment/training/model_creator.py\u001b[0m in \u001b[0;36m__create_nas_mtl_model_2\u001b[0;34m(self, config)\u001b[0m\n\u001b[1;32m    294\u001b[0m             \u001b[0;31m#br_lists.append(br_list)\u001b[0m\u001b[0;34m\u001b[0m\u001b[0;34m\u001b[0m\u001b[0;34m\u001b[0m\u001b[0m\n\u001b[1;32m    295\u001b[0m \u001b[0;34m\u001b[0m\u001b[0m\n\u001b[0;32m--> 296\u001b[0;31m         \u001b[0mbr_list_0\u001b[0m \u001b[0;34m=\u001b[0m \u001b[0;34m[\u001b[0m\u001b[0mself\u001b[0m\u001b[0;34m.\u001b[0m\u001b[0m__create_fcs_block\u001b[0m\u001b[0;34m(\u001b[0m\u001b[0mx\u001b[0m\u001b[0;34m,\u001b[0m \u001b[0mconfig\u001b[0m\u001b[0;34m[\u001b[0m\u001b[0;34m'n_denses_0'\u001b[0m\u001b[0;34m]\u001b[0m\u001b[0;34m,\u001b[0m \u001b[0mt\u001b[0m\u001b[0;34m.\u001b[0m\u001b[0mvalue\u001b[0m\u001b[0;34m)\u001b[0m \u001b[0;32mfor\u001b[0m \u001b[0mt\u001b[0m \u001b[0;32min\u001b[0m \u001b[0mtasks_groups\u001b[0m\u001b[0;34m[\u001b[0m\u001b[0;34m'g0'\u001b[0m\u001b[0;34m]\u001b[0m\u001b[0;34m]\u001b[0m\u001b[0;34m\u001b[0m\u001b[0;34m\u001b[0m\u001b[0m\n\u001b[0m\u001b[1;32m    297\u001b[0m         \u001b[0mbr_list_1\u001b[0m \u001b[0;34m=\u001b[0m \u001b[0;34m[\u001b[0m\u001b[0mself\u001b[0m\u001b[0;34m.\u001b[0m\u001b[0m__create_fcs_block\u001b[0m\u001b[0;34m(\u001b[0m\u001b[0mx\u001b[0m\u001b[0;34m,\u001b[0m \u001b[0mconfig\u001b[0m\u001b[0;34m[\u001b[0m\u001b[0;34m'n_denses_1'\u001b[0m\u001b[0;34m]\u001b[0m\u001b[0;34m,\u001b[0m \u001b[0mt\u001b[0m\u001b[0;34m.\u001b[0m\u001b[0mvalue\u001b[0m\u001b[0;34m)\u001b[0m \u001b[0;32mfor\u001b[0m \u001b[0mt\u001b[0m \u001b[0;32min\u001b[0m \u001b[0mtasks_groups\u001b[0m\u001b[0;34m[\u001b[0m\u001b[0;34m'g1'\u001b[0m\u001b[0;34m]\u001b[0m\u001b[0;34m]\u001b[0m\u001b[0;34m\u001b[0m\u001b[0;34m\u001b[0m\u001b[0m\n\u001b[1;32m    298\u001b[0m         \u001b[0mbr_list_2\u001b[0m \u001b[0;34m=\u001b[0m \u001b[0;34m[\u001b[0m\u001b[0mself\u001b[0m\u001b[0;34m.\u001b[0m\u001b[0m__create_fcs_block\u001b[0m\u001b[0;34m(\u001b[0m\u001b[0mx\u001b[0m\u001b[0;34m,\u001b[0m \u001b[0mconfig\u001b[0m\u001b[0;34m[\u001b[0m\u001b[0;34m'n_denses_2'\u001b[0m\u001b[0;34m]\u001b[0m\u001b[0;34m,\u001b[0m \u001b[0mt\u001b[0m\u001b[0;34m.\u001b[0m\u001b[0mvalue\u001b[0m\u001b[0;34m)\u001b[0m \u001b[0;32mfor\u001b[0m \u001b[0mt\u001b[0m \u001b[0;32min\u001b[0m \u001b[0mtasks_groups\u001b[0m\u001b[0;34m[\u001b[0m\u001b[0;34m'g2'\u001b[0m\u001b[0;34m]\u001b[0m\u001b[0;34m]\u001b[0m\u001b[0;34m\u001b[0m\u001b[0;34m\u001b[0m\u001b[0m\n",
      "\u001b[0;32m~/projects/doutorado/mteval-icao-reqs/submodules/icao_nets_training/project/src/base/experiment/training/model_creator.py\u001b[0m in \u001b[0;36m<listcomp>\u001b[0;34m(.0)\u001b[0m\n\u001b[1;32m    294\u001b[0m             \u001b[0;31m#br_lists.append(br_list)\u001b[0m\u001b[0;34m\u001b[0m\u001b[0;34m\u001b[0m\u001b[0;34m\u001b[0m\u001b[0m\n\u001b[1;32m    295\u001b[0m \u001b[0;34m\u001b[0m\u001b[0m\n\u001b[0;32m--> 296\u001b[0;31m         \u001b[0mbr_list_0\u001b[0m \u001b[0;34m=\u001b[0m \u001b[0;34m[\u001b[0m\u001b[0mself\u001b[0m\u001b[0;34m.\u001b[0m\u001b[0m__create_fcs_block\u001b[0m\u001b[0;34m(\u001b[0m\u001b[0mx\u001b[0m\u001b[0;34m,\u001b[0m \u001b[0mconfig\u001b[0m\u001b[0;34m[\u001b[0m\u001b[0;34m'n_denses_0'\u001b[0m\u001b[0;34m]\u001b[0m\u001b[0;34m,\u001b[0m \u001b[0mt\u001b[0m\u001b[0;34m.\u001b[0m\u001b[0mvalue\u001b[0m\u001b[0;34m)\u001b[0m \u001b[0;32mfor\u001b[0m \u001b[0mt\u001b[0m \u001b[0;32min\u001b[0m \u001b[0mtasks_groups\u001b[0m\u001b[0;34m[\u001b[0m\u001b[0;34m'g0'\u001b[0m\u001b[0;34m]\u001b[0m\u001b[0;34m]\u001b[0m\u001b[0;34m\u001b[0m\u001b[0;34m\u001b[0m\u001b[0m\n\u001b[0m\u001b[1;32m    297\u001b[0m         \u001b[0mbr_list_1\u001b[0m \u001b[0;34m=\u001b[0m \u001b[0;34m[\u001b[0m\u001b[0mself\u001b[0m\u001b[0;34m.\u001b[0m\u001b[0m__create_fcs_block\u001b[0m\u001b[0;34m(\u001b[0m\u001b[0mx\u001b[0m\u001b[0;34m,\u001b[0m \u001b[0mconfig\u001b[0m\u001b[0;34m[\u001b[0m\u001b[0;34m'n_denses_1'\u001b[0m\u001b[0;34m]\u001b[0m\u001b[0;34m,\u001b[0m \u001b[0mt\u001b[0m\u001b[0;34m.\u001b[0m\u001b[0mvalue\u001b[0m\u001b[0;34m)\u001b[0m \u001b[0;32mfor\u001b[0m \u001b[0mt\u001b[0m \u001b[0;32min\u001b[0m \u001b[0mtasks_groups\u001b[0m\u001b[0;34m[\u001b[0m\u001b[0;34m'g1'\u001b[0m\u001b[0;34m]\u001b[0m\u001b[0;34m]\u001b[0m\u001b[0;34m\u001b[0m\u001b[0;34m\u001b[0m\u001b[0m\n\u001b[1;32m    298\u001b[0m         \u001b[0mbr_list_2\u001b[0m \u001b[0;34m=\u001b[0m \u001b[0;34m[\u001b[0m\u001b[0mself\u001b[0m\u001b[0;34m.\u001b[0m\u001b[0m__create_fcs_block\u001b[0m\u001b[0;34m(\u001b[0m\u001b[0mx\u001b[0m\u001b[0;34m,\u001b[0m \u001b[0mconfig\u001b[0m\u001b[0;34m[\u001b[0m\u001b[0;34m'n_denses_2'\u001b[0m\u001b[0;34m]\u001b[0m\u001b[0;34m,\u001b[0m \u001b[0mt\u001b[0m\u001b[0;34m.\u001b[0m\u001b[0mvalue\u001b[0m\u001b[0;34m)\u001b[0m \u001b[0;32mfor\u001b[0m \u001b[0mt\u001b[0m \u001b[0;32min\u001b[0m \u001b[0mtasks_groups\u001b[0m\u001b[0;34m[\u001b[0m\u001b[0;34m'g2'\u001b[0m\u001b[0;34m]\u001b[0m\u001b[0;34m]\u001b[0m\u001b[0;34m\u001b[0m\u001b[0;34m\u001b[0m\u001b[0m\n",
      "\u001b[0;31mTypeError\u001b[0m: 'NoneType' object is not subscriptable"
     ]
    }
   ],
   "source": [
    "runner.create_model(best_arch)"
   ]
  },
  {
   "cell_type": "markdown",
   "metadata": {},
   "source": [
    "# Visualize Model"
   ]
  },
  {
   "cell_type": "code",
   "execution_count": null,
   "metadata": {
    "tags": []
   },
   "outputs": [],
   "source": [
    "%%capture\n",
    "runner.visualize_model(outfile_path=f\"training/figs/nas/nas_model_{APPROACH.name}.png\")"
   ]
  },
  {
   "cell_type": "code",
   "execution_count": null,
   "metadata": {
    "tags": []
   },
   "outputs": [],
   "source": [
    "%%capture\n",
    "runner.model_summary()"
   ]
  },
  {
   "cell_type": "markdown",
   "metadata": {},
   "source": [
    "# Training Model"
   ]
  },
  {
   "cell_type": "code",
   "execution_count": null,
   "metadata": {
    "tags": []
   },
   "outputs": [],
   "source": [
    "runner.train_model()"
   ]
  },
  {
   "cell_type": "markdown",
   "metadata": {},
   "source": [
    "# Plots"
   ]
  },
  {
   "cell_type": "code",
   "execution_count": null,
   "metadata": {
    "tags": []
   },
   "outputs": [],
   "source": [
    "runner.draw_training_history()"
   ]
  },
  {
   "cell_type": "markdown",
   "metadata": {},
   "source": [
    "# Load Best Model"
   ]
  },
  {
   "cell_type": "code",
   "execution_count": null,
   "metadata": {},
   "outputs": [],
   "source": [
    "runner.load_best_model()"
   ]
  },
  {
   "cell_type": "markdown",
   "metadata": {},
   "source": [
    "# Saving Trained Model"
   ]
  },
  {
   "cell_type": "code",
   "execution_count": null,
   "metadata": {},
   "outputs": [],
   "source": [
    "runner.save_model()"
   ]
  },
  {
   "cell_type": "markdown",
   "metadata": {},
   "source": [
    "# Test Trained Model"
   ]
  },
  {
   "cell_type": "markdown",
   "metadata": {},
   "source": [
    "## Validation Split"
   ]
  },
  {
   "cell_type": "code",
   "execution_count": null,
   "metadata": {
    "tags": []
   },
   "outputs": [],
   "source": [
    "runner.set_model_evaluator_data_src(DataSource.VALIDATION)\n",
    "runner.test_model(verbose=False)"
   ]
  },
  {
   "cell_type": "markdown",
   "metadata": {},
   "source": [
    "## Test Split"
   ]
  },
  {
   "cell_type": "code",
   "execution_count": null,
   "metadata": {
    "tags": []
   },
   "outputs": [],
   "source": [
    "runner.set_model_evaluator_data_src(DataSource.TEST)\n",
    "runner.test_model(verbose=False)"
   ]
  },
  {
   "cell_type": "markdown",
   "metadata": {},
   "source": [
    "# Visualize Model Classification"
   ]
  },
  {
   "cell_type": "raw",
   "metadata": {},
   "source": [
    "runner.visualize_predictions()"
   ]
  },
  {
   "cell_type": "markdown",
   "metadata": {},
   "source": [
    "# Finishing Experiment Manager"
   ]
  },
  {
   "cell_type": "code",
   "execution_count": null,
   "metadata": {
    "tags": []
   },
   "outputs": [],
   "source": [
    "runner.finish_experiment()"
   ]
  }
 ],
 "metadata": {
  "interpreter": {
   "hash": "85f5044ba23e75135dc4c908fd4d7609c1c80b195047fdb4d16ee0e66a953254"
  },
  "kernelspec": {
   "display_name": "Python 3 (ipykernel)",
   "language": "python",
   "name": "python3"
  },
  "language_info": {
   "codemirror_mode": {
    "name": "ipython",
    "version": 3
   },
   "file_extension": ".py",
   "mimetype": "text/x-python",
   "name": "python",
   "nbconvert_exporter": "python",
   "pygments_lexer": "ipython3",
   "version": "3.8.0"
  },
  "neptune": {
   "notebookId": "98a3967a-428e-4576-add1-6bd753600673",
   "projectVersion": 2
  },
  "toc-autonumbering": true
 },
 "nbformat": 4,
 "nbformat_minor": 4
}

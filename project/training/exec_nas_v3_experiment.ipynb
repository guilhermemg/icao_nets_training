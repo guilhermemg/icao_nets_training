{
 "cells": [
  {
   "cell_type": "markdown",
   "metadata": {},
   "source": [
    "# Import Libraries"
   ]
  },
  {
   "cell_type": "code",
   "execution_count": 1,
   "metadata": {},
   "outputs": [],
   "source": [
    "%load_ext autoreload\n",
    "%autoreload 2"
   ]
  },
  {
   "cell_type": "code",
   "execution_count": 2,
   "metadata": {},
   "outputs": [],
   "source": [
    "import os\n",
    "os.environ['NEPTUNE_API_TOKEN']=\"eyJhcGlfYWRkcmVzcyI6Imh0dHBzOi8vYXBwLm5lcHR1bmUuYWkiLCJhcGlfdXJsIjoiaHR0cHM6Ly9hcHAubmVwdHVuZS5haSIsImFwaV9rZXkiOiI5NDc0ZmNhNi0wODFlLTRhYTktYjgwZS01MWJkMDMxNWJhNTAifQ==\"\n",
    "os.environ['NEPTUNE_PROJECT']=\"guilhermemg/icao-nets-training-2\"\n",
    "os.environ['NEPTUNE_NOTEBOOK_ID']=\"98a391a1-c710-40bd-aaf4-42c31862cbbe\"\n",
    "os.environ['NEPTUNE_NOTEBOOK_PATH']=\"training/exec_nas_experiment.ipynb\""
   ]
  },
  {
   "cell_type": "code",
   "execution_count": 3,
   "metadata": {},
   "outputs": [],
   "source": [
    "import os\n",
    "# disable tensorflow log level infos\n",
    "os.environ['TF_CPP_MIN_LOG_LEVEL'] = '2' # show only errors\n",
    "\n",
    "import sys\n",
    "import pandas as pd\n",
    "\n",
    "if '..' not in sys.path:\n",
    "    sys.path.insert(0, '..')"
   ]
  },
  {
   "cell_type": "code",
   "execution_count": 4,
   "metadata": {
    "tags": []
   },
   "outputs": [
    {
     "name": "stdout",
     "output_type": "stream",
     "text": [
      " ==> Restrict GPU memory growth: True\n"
     ]
    }
   ],
   "source": [
    "from src.m_utils import constants as cts\n",
    "from src.base.data_loaders.data_loader import DLName\n",
    "from src.base.gt_loaders.gt_names import GTName\n",
    "from src.exp_runner import ExperimentRunner\n",
    "\n",
    "from src.base.experiment.dataset.dataset import Dataset\n",
    "from src.base.experiment.evaluation.model_evaluator import DataSource, DataPredSelection\n",
    "from src.base.experiment.training.base_models import BaseModel\n",
    "from src.base.experiment.training.optimizers import Optimizer\n",
    "\n",
    "from src.m_utils.stl_approach import STLApproach\n",
    "from src.m_utils.mtl_approach import MTLApproach\n",
    "from src.m_utils.nas_mtl_approach import NAS_MTLApproach"
   ]
  },
  {
   "cell_type": "markdown",
   "metadata": {},
   "source": [
    "# Start Network runner"
   ]
  },
  {
   "cell_type": "code",
   "execution_count": 5,
   "metadata": {
    "tags": []
   },
   "outputs": [
    {
     "name": "stdout",
     "output_type": "stream",
     "text": [
      "-------------------- Init ExperimentRunner -------------------\n",
      "---------------------------\n",
      "Parent Process ID: 24509\n",
      "Process ID: 72201\n",
      "---------------------------\n",
      "-----\n",
      "Use Neptune:  True\n",
      "-----\n",
      "-------------------\n",
      "Args: \n",
      "{'controller_params': {'controller_decay': 0.1,\n",
      "                       'controller_learning_rate': 0.01,\n",
      "                       'controller_loss_alpha': 0.9,\n",
      "                       'controller_lstm_dim': 100,\n",
      "                       'controller_momentum': 0.0,\n",
      "                       'controller_optimizer': <Optimizer.ADAM: 'Adam'>,\n",
      "                       'controller_sampling_epochs': 6,\n",
      "                       'controller_training_epochs': 5,\n",
      "                       'controller_use_predictor': False},\n",
      " 'exp_params': {'description': 'NAS with Approach 3',\n",
      "                'name': 'NAS experiment',\n",
      "                'src_files': ['../src/**/*.py'],\n",
      "                'tags': ['mnist', 'nas', 'nas_approach_3']},\n",
      " 'mlp_params': {'max_architecture_length': 5,\n",
      "                'min_task_group_size': 3,\n",
      "                'mlp_base_model': <BaseModel.MOBILENET_V2: {'name': 'mobilnet_v2', 'target_size': (224, 224), 'prep_function': <function preprocess_input at 0x7f7e20b6aee0>}>,\n",
      "                'mlp_batch_size': 64,\n",
      "                'mlp_decay': 0.0,\n",
      "                'mlp_dropout': 0.3,\n",
      "                'mlp_early_stopping': 50,\n",
      "                'mlp_learning_rate': 0.001,\n",
      "                'mlp_loss_function': 'sparse_categorical_crossentropy',\n",
      "                'mlp_momentum': 0.0,\n",
      "                'mlp_n_epochs': 50,\n",
      "                'mlp_one_shot': True,\n",
      "                'mlp_optimizer': <Optimizer.ADAMAX: 'Adamax'>},\n",
      " 'nas_params': {'architecture_training_epochs': 2,\n",
      "                'nas_algorithm': 'rl',\n",
      "                'nas_search_space': 'ss_1',\n",
      "                'samples_per_controller_epoch': 3,\n",
      "                'total_num_proposed_architectures': 6},\n",
      " 'properties': {'approach': <NAS_MTLApproach.APPROACH_3: 'approach_3'>,\n",
      "                'balance_input_data': False,\n",
      "                'dataset': <Dataset.MNIST: {'name': 'mnist', 'target_cols': ['n_0', 'n_1', 'n_2', 'n_3', 'n_4', 'n_5', 'n_6', 'n_7', 'n_8', 'n_9'], 'tasks': [<MNIST_TASK.N_0: 'n_0'>, <MNIST_TASK.N_1: 'n_1'>, <MNIST_TASK.N_2: 'n_2'>, <MNIST_TASK.N_3: 'n_3'>, <MNIST_TASK.N_4: 'n_4'>, <MNIST_TASK.N_5: 'n_5'>, <MNIST_TASK.N_6: 'n_6'>, <MNIST_TASK.N_7: 'n_7'>, <MNIST_TASK.N_8: 'n_8'>, <MNIST_TASK.N_9: 'n_9'>]}>,\n",
      "                'exec_nas': True,\n",
      "                'orig_model_experiment_id': '',\n",
      "                'sample_prop': 0.03,\n",
      "                'sample_training_data': True,\n",
      "                'save_trained_model': True,\n",
      "                'tasks': [<MNIST_TASK.N_0: 'n_0'>,\n",
      "                          <MNIST_TASK.N_1: 'n_1'>,\n",
      "                          <MNIST_TASK.N_2: 'n_2'>,\n",
      "                          <MNIST_TASK.N_3: 'n_3'>,\n",
      "                          <MNIST_TASK.N_4: 'n_4'>,\n",
      "                          <MNIST_TASK.N_5: 'n_5'>,\n",
      "                          <MNIST_TASK.N_6: 'n_6'>,\n",
      "                          <MNIST_TASK.N_7: 'n_7'>,\n",
      "                          <MNIST_TASK.N_8: 'n_8'>,\n",
      "                          <MNIST_TASK.N_9: 'n_9'>],\n",
      "                'train_model': True},\n",
      " 'use_neptune': True}\n",
      "-------------------\n",
      "----\n",
      "Base Model Name:  BaseModel.MOBILENET_V2\n",
      "----\n",
      "MTL Model: True\n",
      "Approach: NAS_MTLApproach.APPROACH_3\n",
      "NAS MTL Model: True\n",
      "----\n",
      "--------------------  starting neptune  -------------------\n",
      "Starting Neptune\n",
      "https://app.neptune.ai/guilhermemg/icao-nets-training-2/e/ICAO-442\n",
      "Remember to stop your run once you’ve finished logging your metadata (https://docs.neptune.ai/api-reference/run#.stop). It will be stopped automatically only when the notebook kernel/interactive console is terminated.\n",
      "----\n",
      "Model path:  trained_model\n",
      "----\n",
      "Checking model existence locally...\n",
      "Training a new model! Not checking model existence\n",
      "----\n",
      "------------------------------\n",
      "Checking GPU availability\n",
      " ..GPU is available!\n",
      "------------------------------\n"
     ]
    }
   ],
   "source": [
    "DATASET = Dataset.MNIST\n",
    "APPROACH = NAS_MTLApproach.APPROACH_3\n",
    "\n",
    "kwargs = { \n",
    "    'use_neptune': True,\n",
    "    'exp_params' : {\n",
    "        'name': 'NAS experiment',\n",
    "        'description': 'NAS with Approach 3',\n",
    "        'tags': [f'{DATASET.value[\"name\"]}', 'nas', 'nas_approach_3'],\n",
    "        'src_files': [\"../src/**/*.py\"]\n",
    "    },\n",
    "    'properties': {\n",
    "        'approach': APPROACH,\n",
    "        'dataset': DATASET,\n",
    "        'tasks': DATASET.value['tasks'],\n",
    "        'balance_input_data': False,\n",
    "        'train_model': True,\n",
    "        'save_trained_model': True,\n",
    "        'exec_nas': True,\n",
    "        'orig_model_experiment_id': '',\n",
    "        'sample_training_data': True,\n",
    "        'sample_prop': 0.03\n",
    "    },\n",
    "    'nas_params': {\n",
    "        'samples_per_controller_epoch': 3,    # nas batch size (#architectures proposed per controller epoch)\n",
    "        'architecture_training_epochs': 2,     # n_epochs for training proposed architecture\n",
    "        'total_num_proposed_architectures': 6,\n",
    "        'nas_algorithm': 'rl',\n",
    "        'nas_search_space': 'ss_1'\n",
    "    },\n",
    "    'controller_params': {\n",
    "        'controller_lstm_dim': 100,\n",
    "        'controller_optimizer': Optimizer.ADAM,\n",
    "        'controller_learning_rate': 0.01,\n",
    "        'controller_decay': 0.1,\n",
    "        'controller_momentum': 0.0,\n",
    "        'controller_use_predictor': False,\n",
    "        'controller_loss_alpha': 0.9,\n",
    "        'controller_training_epochs': 5,\n",
    "        'controller_sampling_epochs': 6\n",
    "    },\n",
    "    'mlp_params': {\n",
    "        'max_architecture_length': 5,\n",
    "        'min_task_group_size': 3,\n",
    "        'mlp_base_model': BaseModel.MOBILENET_V2,\n",
    "        'mlp_n_epochs': 50,\n",
    "        'mlp_batch_size': 64,\n",
    "        'mlp_early_stopping': 50,\n",
    "        'mlp_optimizer': Optimizer.ADAMAX,\n",
    "        'mlp_learning_rate': 1e-3,\n",
    "        'mlp_decay': 0.0,\n",
    "        'mlp_momentum': 0.0,\n",
    "        'mlp_dropout': 0.3,\n",
    "        'mlp_loss_function': 'sparse_categorical_crossentropy',\n",
    "        'mlp_one_shot': True\n",
    "    }\n",
    "}\n",
    "\n",
    "\n",
    "runner = ExperimentRunner(**kwargs)"
   ]
  },
  {
   "cell_type": "markdown",
   "metadata": {
    "tags": []
   },
   "source": [
    "# Load Data"
   ]
  },
  {
   "cell_type": "code",
   "execution_count": 6,
   "metadata": {
    "tags": []
   },
   "outputs": [
    {
     "name": "stdout",
     "output_type": "stream",
     "text": [
      "-------------------- load training data -------------------\n",
      "Loading data\n",
      "TrainData.shape: (48000, 11)\n",
      "ValidationData.shape: (12000, 11)\n",
      "TestData.shape: (10000, 11)\n",
      "Data loaded\n"
     ]
    }
   ],
   "source": [
    "runner.load_training_data()"
   ]
  },
  {
   "cell_type": "code",
   "execution_count": 7,
   "metadata": {},
   "outputs": [
    {
     "name": "stdout",
     "output_type": "stream",
     "text": [
      "-------------------- sample training data -------------------\n",
      "Applying subsampling in training data\n",
      "..Sampling proportion: 0.03 (1440/48000)\n",
      "(1440, 11)\n",
      "Applying subsampling in validation data\n",
      "..Sampling proportion: 0.03 (360/12000)\n",
      "(360, 11)\n"
     ]
    }
   ],
   "source": [
    "runner.sample_training_data()"
   ]
  },
  {
   "cell_type": "code",
   "execution_count": 8,
   "metadata": {
    "tags": []
   },
   "outputs": [
    {
     "data": {
      "text/html": [
       "<div>\n",
       "<style scoped>\n",
       "    .dataframe tbody tr th:only-of-type {\n",
       "        vertical-align: middle;\n",
       "    }\n",
       "\n",
       "    .dataframe tbody tr th {\n",
       "        vertical-align: top;\n",
       "    }\n",
       "\n",
       "    .dataframe thead th {\n",
       "        text-align: right;\n",
       "    }\n",
       "</style>\n",
       "<table border=\"1\" class=\"dataframe\">\n",
       "  <thead>\n",
       "    <tr style=\"text-align: right;\">\n",
       "      <th></th>\n",
       "      <th>img_name</th>\n",
       "      <th>n_0</th>\n",
       "      <th>n_1</th>\n",
       "      <th>n_2</th>\n",
       "      <th>n_3</th>\n",
       "      <th>n_4</th>\n",
       "      <th>n_5</th>\n",
       "      <th>n_6</th>\n",
       "      <th>n_7</th>\n",
       "      <th>n_8</th>\n",
       "      <th>n_9</th>\n",
       "    </tr>\n",
       "  </thead>\n",
       "  <tbody>\n",
       "    <tr>\n",
       "      <th>32771</th>\n",
       "      <td>/home/guilherme/data1/Dropbox/Link to Desktop/...</td>\n",
       "      <td>0.0</td>\n",
       "      <td>0.0</td>\n",
       "      <td>0.0</td>\n",
       "      <td>0.0</td>\n",
       "      <td>0.0</td>\n",
       "      <td>0.0</td>\n",
       "      <td>1.0</td>\n",
       "      <td>0.0</td>\n",
       "      <td>0.0</td>\n",
       "      <td>0.0</td>\n",
       "    </tr>\n",
       "    <tr>\n",
       "      <th>39512</th>\n",
       "      <td>/home/guilherme/data1/Dropbox/Link to Desktop/...</td>\n",
       "      <td>0.0</td>\n",
       "      <td>0.0</td>\n",
       "      <td>0.0</td>\n",
       "      <td>0.0</td>\n",
       "      <td>0.0</td>\n",
       "      <td>0.0</td>\n",
       "      <td>1.0</td>\n",
       "      <td>0.0</td>\n",
       "      <td>0.0</td>\n",
       "      <td>0.0</td>\n",
       "    </tr>\n",
       "    <tr>\n",
       "      <th>43581</th>\n",
       "      <td>/home/guilherme/data1/Dropbox/Link to Desktop/...</td>\n",
       "      <td>1.0</td>\n",
       "      <td>0.0</td>\n",
       "      <td>0.0</td>\n",
       "      <td>0.0</td>\n",
       "      <td>0.0</td>\n",
       "      <td>0.0</td>\n",
       "      <td>0.0</td>\n",
       "      <td>0.0</td>\n",
       "      <td>0.0</td>\n",
       "      <td>0.0</td>\n",
       "    </tr>\n",
       "    <tr>\n",
       "      <th>2975</th>\n",
       "      <td>/home/guilherme/data1/Dropbox/Link to Desktop/...</td>\n",
       "      <td>0.0</td>\n",
       "      <td>0.0</td>\n",
       "      <td>0.0</td>\n",
       "      <td>0.0</td>\n",
       "      <td>0.0</td>\n",
       "      <td>0.0</td>\n",
       "      <td>0.0</td>\n",
       "      <td>1.0</td>\n",
       "      <td>0.0</td>\n",
       "      <td>0.0</td>\n",
       "    </tr>\n",
       "    <tr>\n",
       "      <th>3377</th>\n",
       "      <td>/home/guilherme/data1/Dropbox/Link to Desktop/...</td>\n",
       "      <td>0.0</td>\n",
       "      <td>0.0</td>\n",
       "      <td>0.0</td>\n",
       "      <td>1.0</td>\n",
       "      <td>0.0</td>\n",
       "      <td>0.0</td>\n",
       "      <td>0.0</td>\n",
       "      <td>0.0</td>\n",
       "      <td>0.0</td>\n",
       "      <td>0.0</td>\n",
       "    </tr>\n",
       "  </tbody>\n",
       "</table>\n",
       "</div>"
      ],
      "text/plain": [
       "                                                img_name  n_0  n_1  n_2  n_3  \\\n",
       "32771  /home/guilherme/data1/Dropbox/Link to Desktop/...  0.0  0.0  0.0  0.0   \n",
       "39512  /home/guilherme/data1/Dropbox/Link to Desktop/...  0.0  0.0  0.0  0.0   \n",
       "43581  /home/guilherme/data1/Dropbox/Link to Desktop/...  1.0  0.0  0.0  0.0   \n",
       "2975   /home/guilherme/data1/Dropbox/Link to Desktop/...  0.0  0.0  0.0  0.0   \n",
       "3377   /home/guilherme/data1/Dropbox/Link to Desktop/...  0.0  0.0  0.0  1.0   \n",
       "\n",
       "       n_4  n_5  n_6  n_7  n_8  n_9  \n",
       "32771  0.0  0.0  1.0  0.0  0.0  0.0  \n",
       "39512  0.0  0.0  1.0  0.0  0.0  0.0  \n",
       "43581  0.0  0.0  0.0  0.0  0.0  0.0  \n",
       "2975   0.0  0.0  0.0  1.0  0.0  0.0  \n",
       "3377   0.0  0.0  0.0  0.0  0.0  0.0  "
      ]
     },
     "execution_count": 8,
     "metadata": {},
     "output_type": "execute_result"
    }
   ],
   "source": [
    "runner.train_data.head()"
   ]
  },
  {
   "cell_type": "raw",
   "metadata": {
    "jupyter": {
     "source_hidden": true
    },
    "tags": []
   },
   "source": [
    "# <font color='red'>Producing Fake Data</font>"
   ]
  },
  {
   "cell_type": "raw",
   "metadata": {
    "jupyter": {
     "source_hidden": true
    },
    "tags": []
   },
   "source": [
    "runner.produce_fake_data()"
   ]
  },
  {
   "cell_type": "markdown",
   "metadata": {},
   "source": [
    "# Data Generators"
   ]
  },
  {
   "cell_type": "code",
   "execution_count": 9,
   "metadata": {
    "tags": []
   },
   "outputs": [
    {
     "name": "stdout",
     "output_type": "stream",
     "text": [
      "-------------------- setup data generators -------------------\n",
      "Starting data generators\n",
      "Found 1440 validated image filenames.\n",
      "Found 360 validated image filenames.\n",
      "Found 10000 validated image filenames.\n",
      "TOTAL: 11800\n",
      "\n",
      "Logging class indices\n",
      " .. MTL model not logging class indices!\n",
      "\n",
      "Using benchmarking dataset. Not logging class labels!\n"
     ]
    }
   ],
   "source": [
    "runner.setup_data_generators()"
   ]
  },
  {
   "cell_type": "markdown",
   "metadata": {
    "tags": []
   },
   "source": [
    "# Setup Experiment"
   ]
  },
  {
   "cell_type": "code",
   "execution_count": 10,
   "metadata": {},
   "outputs": [
    {
     "name": "stdout",
     "output_type": "stream",
     "text": [
      "-------------------- create experiment -------------------\n",
      "Setting up neptune experiment\n",
      "Neptune experiment setup done!\n"
     ]
    }
   ],
   "source": [
    "runner.setup_experiment()"
   ]
  },
  {
   "cell_type": "markdown",
   "metadata": {
    "tags": []
   },
   "source": [
    "# Labels Distribution"
   ]
  },
  {
   "cell_type": "code",
   "execution_count": 11,
   "metadata": {
    "tags": []
   },
   "outputs": [],
   "source": [
    "%%capture\n",
    "runner.summary_labels_dist()"
   ]
  },
  {
   "cell_type": "markdown",
   "metadata": {},
   "source": [
    "# Neural Architecture Search - v3"
   ]
  },
  {
   "cell_type": "raw",
   "metadata": {
    "jupyter": {
     "source_hidden": true
    },
    "tags": []
   },
   "source": [
    "from tensorflow.keras.models import Model\n",
    "from tensorflow.keras.layers import Dense, RNN, LSTMCell, Input\n",
    "\n",
    "\n",
    "all_archs = [(i,j,p,q) for i in range(1,6) for j in range(1,6) for p in range(1,6) for q in range(1,6)]\n",
    "\n",
    "print(f'all_archs[:10]: {all_archs[:10]}')\n",
    "\n",
    "search_space_size = len(all_archs)\n",
    "print(f'search_space_size: {search_space_size}')\n",
    "\n",
    "\n",
    "def __create_control_model(controller_input_shape):\n",
    "        main_input = Input(shape=controller_input_shape, name='main_input')        \n",
    "        print(f'Controller model input shape: {main_input.shape}')\n",
    "        x = RNN(LSTMCell(100), return_sequences=True)(main_input)\n",
    "        main_output = Dense(search_space_size, activation='softmax', name='main_output')(x)\n",
    "        print(f'Controller model output shape: {main_output.shape}')\n",
    "        model = Model(inputs=[main_input], outputs=[main_output])\n",
    "        return model\n",
    "    \n",
    "model = __create_control_model((1,4))    "
   ]
  },
  {
   "cell_type": "raw",
   "metadata": {
    "jupyter": {
     "source_hidden": true
    },
    "tags": []
   },
   "source": [
    "history = []\n",
    "for i in range(5):\n",
    "    print(10*'-')\n",
    "    if i == 0:\n",
    "        inp = np.zeros((1,1,4))\n",
    "    else:\n",
    "        inp = np.array(history[-1]).reshape(1,1,4)\n",
    "    \n",
    "    print(f'input: {inp}')\n",
    "    \n",
    "    prob_list = model.predict(inp)\n",
    "    \n",
    "    prob_list = prob_list[0][0]\n",
    "    print(f'prob_list[:5]: {prob_list[:5]}')\n",
    "    \n",
    "    chose_idx = np.random.choice(range(search_space_size), size=1, replace=False, p=prob_list)[0]\n",
    "    print(f'chose_idx: {chose_idx}')\n",
    "    \n",
    "    new_arch = all_archs[chose_idx]\n",
    "    print(f'new_arch: {new_arch}')\n",
    "    \n",
    "    history.append(new_arch)\n",
    "    print(f'history: {history}')\n",
    "    \n",
    "    print(10*'-')    "
   ]
  },
  {
   "cell_type": "code",
   "execution_count": 12,
   "metadata": {
    "tags": []
   },
   "outputs": [
    {
     "name": "stdout",
     "output_type": "stream",
     "text": [
      "-------------------- run neural architecture search -------------------\n",
      "all_archs[:10]: [[0, 0, 0, 0], [0, 0, 0, 1], [0, 0, 0, 2], [0, 0, 0, 3], [0, 0, 0, 4], [0, 0, 1, 0], [0, 0, 1, 1], [0, 0, 1, 2], [0, 0, 1, 3], [0, 0, 1, 4]]\n",
      "search_space_size: 625\n",
      "Controller model input shape: (None, 1, 4)\n",
      "Controller model output shape: (None, 1, 625)\n",
      "Model path:  trained_model\n",
      "----\n",
      "Checking model existence locally...\n",
      "Training a new model! Not checking model existence\n",
      "----\n",
      "------------------------------\n",
      "Checking GPU availability\n",
      " ..GPU is available!\n",
      "------------------------------\n",
      " ..prev_arch: [[[4 5 5 1]]]\n",
      " ..prev_arch.shape: (1, 1, 4)\n",
      "input: [[[4 5 5 1]]]\n",
      "prob_list[:5]: [0.00165842 0.00152811 0.00155093 0.00150549 0.00155656]\n",
      "chose_idx: 571\n",
      "new_arch: [4, 2, 4, 1]\n",
      "======================================================================\n",
      "  New Controller Epoch | Feedback ID: 1 | Feedback DNA: DNA([4, 2, 4, 1])\n",
      "----------------------------------------------------------------------\n",
      " -- Architecture 1: {'n_denses_0': 5, 'n_denses_1': 3, 'n_denses_2': 5, 'n_denses_3': 2}\n",
      "Creating model...\n",
      "Model created\n",
      "Training MOBILENET_V2 network\n",
      " .. Not fine tuning base model...\n",
      "  .. Total params: 3,170,644\n",
      "  .. Trainable params: 912,660\n",
      "  .. Non-trainable params: 2,257,984\n",
      "\n",
      "Epoch 00001: val_loss improved from inf to 1.58622, saving model to training/training_ckpt/best_model.hdf5\n"
     ]
    },
    {
     "name": "stderr",
     "output_type": "stream",
     "text": [
      "/home/guilherme/data2/anaconda3/envs/icao_nets_training/lib/python3.8/site-packages/tensorflow/python/keras/utils/generic_utils.py:494: CustomMaskWarning: Custom mask layers require a config and must override get_config. When loading, the custom mask layer must be passed to the custom_objects argument.\n",
      "  warnings.warn('Custom mask layers require a config and must override '\n"
     ]
    },
    {
     "name": "stdout",
     "output_type": "stream",
     "text": [
      "\n",
      "Epoch 00002: val_loss did not improve from 1.58622\n",
      "..Loading best model\n",
      "..Checkpoint weights loaded\n",
      "Testing Trained Model\n",
      "Predicting labels....\n",
      "6/6 [==============================] - 1s 103ms/step\n",
      "Prediction finished!\n",
      "  Task  0: n_0             | EER_mean: 0.19020 | EER_interp: 0.18340 | ACC: 0.81110\n",
      "  Task  1: n_1             | EER_mean: 0.11540 | EER_interp: 0.12020 | ACC: 0.88330\n",
      "  Task  2: n_2             | EER_mean: 0.23080 | EER_interp: 0.23220 | ACC: 0.76670\n",
      "  Task  3: n_3             | EER_mean: 0.23080 | EER_interp: 0.23060 | ACC: 0.76940\n",
      "  Task  4: n_4             | EER_mean: 0.32560 | EER_interp: 0.32840 | ACC: 0.66940\n",
      "  Task  5: n_5             | EER_mean: 0.24140 | EER_interp: 0.23700 | ACC: 0.76670\n",
      "  Task  6: n_6             | EER_mean: 0.16870 | EER_interp: 0.17190 | ACC: 0.83060\n",
      "  Task  7: n_7             | EER_mean: 0.33330 | EER_interp: 0.33330 | ACC: 0.66670\n",
      "  Task  8: n_8             | EER_mean: 0.36220 | EER_interp: 0.35680 | ACC: 0.63890\n",
      "  Task  9: n_9             | EER_mean: 0.42640 | EER_interp: 0.41910 | ACC: 0.57500\n",
      "final_EER_mean: 26.13% | final_EER_median: 23.46% | final_EER_std_dv: 8.95% | final_ACC: 73.78%\n",
      "validation accuracy:  73.78\n",
      "======================================================================\n",
      " ..nas_history_data: [[DNA([4, 2, 4, 1]), 73.78]]\n",
      " ..len(self.nas_history_data): 1\n",
      "logging nas_history_data...\n",
      " ..self.nas_history_data: [[DNA([4, 2, 4, 1]), 73.78]]\n",
      " ..nas_data_log_path: LOGS/nas_data.csv\n",
      " ..prev_arch: [[[4 2 4 1]]]\n",
      " ..prev_arch.shape: (1, 1, 4)\n",
      "input: [[[4 2 4 1]]]\n",
      "prob_list[:5]: [0.0016389  0.00154535 0.0015771  0.00154618 0.00155823]\n",
      "chose_idx: 61\n",
      "new_arch: [0, 2, 2, 1]\n",
      "======================================================================\n",
      "  New Controller Epoch | Feedback ID: 2 | Feedback DNA: DNA([0, 2, 2, 1])\n",
      "----------------------------------------------------------------------\n",
      " -- Architecture 2: {'n_denses_0': 1, 'n_denses_1': 3, 'n_denses_2': 3, 'n_denses_3': 2}\n",
      "Creating model...\n",
      "Model created\n",
      "Training MOBILENET_V2 network\n",
      " .. Not fine tuning base model...\n",
      "  .. Total params: 3,137,364\n",
      "  .. Trainable params: 879,380\n",
      "  .. Non-trainable params: 2,257,984\n",
      "\n",
      "Epoch 00001: val_loss improved from inf to 0.66529, saving model to training/training_ckpt/best_model.hdf5\n",
      "\n",
      "Epoch 00002: val_loss did not improve from 0.66529\n",
      "..Loading best model\n",
      "..Checkpoint weights loaded\n",
      "Testing Trained Model\n",
      "Predicting labels....\n",
      "6/6 [==============================] - 1s 53ms/step\n",
      "Prediction finished!\n",
      "  Task  0: n_0             | EER_mean: 0.02940 | EER_interp: 0.02700 | ACC: 0.97500\n",
      "  Task  1: n_1             | EER_mean: 0.02080 | EER_interp: 0.02000 | ACC: 0.98060\n",
      "  Task  2: n_2             | EER_mean: 0.18690 | EER_interp: 0.18320 | ACC: 0.81390\n",
      "  Task  3: n_3             | EER_mean: 0.15380 | EER_interp: 0.15320 | ACC: 0.84720\n",
      "  Task  4: n_4             | EER_mean: 0.18600 | EER_interp: 0.18760 | ACC: 0.81110\n",
      "  Task  5: n_5             | EER_mean: 0.24170 | EER_interp: 0.24160 | ACC: 0.75830\n",
      "  Task  6: n_6             | EER_mean: 0.17500 | EER_interp: 0.17500 | ACC: 0.82500\n",
      "  Task  7: n_7             | EER_mean: 0.20000 | EER_interp: 0.19700 | ACC: 0.80560\n",
      "  Task  8: n_8             | EER_mean: 0.08110 | EER_interp: 0.08080 | ACC: 0.91940\n",
      "  Task  9: n_9             | EER_mean: 0.48470 | EER_interp: 0.47760 | ACC: 0.51670\n",
      "final_EER_mean: 17.43% | final_EER_median: 17.91% | final_EER_std_dv: 12.33% | final_ACC: 82.53%\n",
      "validation accuracy:  82.53\n",
      "======================================================================\n",
      " ..nas_history_data: [[DNA([4, 2, 4, 1]), 73.78], [DNA([0, 2, 2, 1]), 82.53]]\n",
      " ..len(self.nas_history_data): 2\n",
      "logging nas_history_data...\n",
      " ..self.nas_history_data: [[DNA([4, 2, 4, 1]), 73.78], [DNA([0, 2, 2, 1]), 82.53]]\n",
      " ..nas_data_log_path: LOGS/nas_data.csv\n",
      " ..prev_arch: [[[0 2 2 1]]]\n",
      " ..prev_arch.shape: (1, 1, 4)\n",
      "input: [[[0 2 2 1]]]\n",
      "prob_list[:5]: [0.00166484 0.00158121 0.00157603 0.00157128 0.00159665]\n",
      "chose_idx: 590\n",
      "new_arch: [4, 3, 3, 0]\n",
      "======================================================================\n",
      "  New Controller Epoch | Feedback ID: 3 | Feedback DNA: DNA([4, 3, 3, 0])\n",
      "----------------------------------------------------------------------\n",
      " -- Architecture 3: {'n_denses_0': 5, 'n_denses_1': 4, 'n_denses_2': 4, 'n_denses_3': 1}\n",
      "Creating model...\n",
      "Model created\n",
      "Training MOBILENET_V2 network\n",
      " .. Not fine tuning base model...\n",
      "  .. Total params: 3,158,164\n",
      "  .. Trainable params: 900,180\n",
      "  .. Non-trainable params: 2,257,984\n",
      "\n",
      "Epoch 00001: val_loss improved from inf to 0.85084, saving model to training/training_ckpt/best_model.hdf5\n",
      "\n",
      "Epoch 00002: val_loss did not improve from 0.85084\n",
      "..Loading best model\n",
      "..Checkpoint weights loaded\n",
      "Testing Trained Model\n",
      "Predicting labels....\n",
      "6/6 [==============================] - 1s 46ms/step\n",
      "Prediction finished!\n",
      "  Task  0: n_0             | EER_mean: 0.19940 | EER_interp: 0.20260 | ACC: 0.80000\n",
      "  Task  1: n_1             | EER_mean: 0.02080 | EER_interp: 0.02000 | ACC: 0.98060\n",
      "  Task  2: n_2             | EER_mean: 0.20560 | EER_interp: 0.20540 | ACC: 0.79440\n",
      "  Task  3: n_3             | EER_mean: 0.26920 | EER_interp: 0.26790 | ACC: 0.73330\n",
      "  Task  4: n_4             | EER_mean: 0.13250 | EER_interp: 0.13600 | ACC: 0.86670\n",
      "  Task  5: n_5             | EER_mean: 0.13900 | EER_interp: 0.13850 | ACC: 0.86110\n",
      "  Task  6: n_6             | EER_mean: 0.20000 | EER_interp: 0.19850 | ACC: 0.80280\n",
      "  Task  7: n_7             | EER_mean: 0.15150 | EER_interp: 0.15910 | ACC: 0.84720\n",
      "  Task  8: n_8             | EER_mean: 0.13510 | EER_interp: 0.13410 | ACC: 0.86670\n",
      "  Task  9: n_9             | EER_mean: 0.16560 | EER_interp: 0.17100 | ACC: 0.83330\n",
      "final_EER_mean: 16.33% | final_EER_median: 16.5% | final_EER_std_dv: 6.19% | final_ACC: 83.86%\n",
      "validation accuracy:  83.86\n",
      "======================================================================\n",
      " ..nas_history_data: [[DNA([4, 2, 4, 1]), 73.78], [DNA([0, 2, 2, 1]), 82.53], [DNA([4, 3, 3, 0]), 83.86]]\n",
      " ..len(self.nas_history_data): 3\n",
      "logging nas_history_data...\n",
      " ..self.nas_history_data: [[DNA([4, 2, 4, 1]), 73.78], [DNA([0, 2, 2, 1]), 82.53], [DNA([4, 3, 3, 0]), 83.86]]\n",
      " ..nas_data_log_path: LOGS/nas_data.csv\n",
      "......................................................................\n",
      " ..New batch of architectures. Training controller model...\n",
      "Training controller model...\n",
      "Preparing controller data...\n",
      " ..nas_data_history: [[DNA([4, 2, 4, 1]), 73.78], [DNA([0, 2, 2, 1]), 82.53], [DNA([4, 3, 3, 0]), 83.86]]\n",
      " ..xc: [[[4 2 4 1]]\n",
      "\n",
      " [[0 2 2 1]]\n",
      "\n",
      " [[4 3 3 0]]]\n",
      " ..xc.shape: (3, 1, 4)\n",
      " ..yc: [[[0. 0. 0. 0.]]\n",
      "\n",
      " [[0. 0. 0. 0.]]\n",
      "\n",
      " [[0. 0. 0. 0.]]]\n",
      " ..yc.shape: (3, 1, 4)\n",
      " ..val_acc_target: [73.78, 82.53, 83.86]\n",
      " ..val_acc_target.length: 3\n",
      "TRAINING CONTROLLER...\n",
      " ..Controller model trained!\n",
      "......................................................................\n",
      " ..prev_arch: [[[4 3 3 0]]]\n",
      " ..prev_arch.shape: (1, 1, 4)\n",
      "input: [[[4 3 3 0]]]\n",
      "prob_list[:5]: [0.00171259 0.00168283 0.00156057 0.00162511 0.00165252]\n",
      "chose_idx: 584\n",
      "new_arch: [4, 3, 1, 4]\n",
      "======================================================================\n",
      "  New Controller Epoch | Feedback ID: 4 | Feedback DNA: DNA([4, 3, 1, 4])\n",
      "----------------------------------------------------------------------\n",
      " -- Architecture 4: {'n_denses_0': 5, 'n_denses_1': 4, 'n_denses_2': 2, 'n_denses_3': 5}\n",
      "Creating model...\n",
      "Model created\n",
      "Training MOBILENET_V2 network\n",
      " .. Not fine tuning base model...\n",
      "  .. Total params: 3,208,084\n",
      "  .. Trainable params: 950,100\n",
      "  .. Non-trainable params: 2,257,984\n",
      "\n",
      "Epoch 00001: val_loss improved from inf to 0.64479, saving model to training/training_ckpt/best_model.hdf5\n",
      "\n",
      "Epoch 00002: val_loss did not improve from 0.64479\n",
      "..Loading best model\n",
      "..Checkpoint weights loaded\n",
      "Testing Trained Model\n",
      "Predicting labels....\n",
      "6/6 [==============================] - 1s 46ms/step\n",
      "Prediction finished!\n",
      "  Task  0: n_0             | EER_mean: 0.08820 | EER_interp: 0.08700 | ACC: 0.91390\n",
      "  Task  1: n_1             | EER_mean: 0.07370 | EER_interp: 0.07850 | ACC: 0.92500\n",
      "  Task  2: n_2             | EER_mean: 0.28210 | EER_interp: 0.27970 | ACC: 0.72220\n",
      "  Task  3: n_3             | EER_mean: 0.26650 | EER_interp: 0.24860 | ACC: 0.73610\n",
      "  Task  4: n_4             | EER_mean: 0.25870 | EER_interp: 0.25720 | ACC: 0.74170\n",
      "  Task  5: n_5             | EER_mean: 0.17220 | EER_interp: 0.17230 | ACC: 0.82780\n",
      "  Task  6: n_6             | EER_mean: 0.20000 | EER_interp: 0.20000 | ACC: 0.80000\n",
      "  Task  7: n_7             | EER_mean: 0.33330 | EER_interp: 0.33030 | ACC: 0.67220\n",
      "  Task  8: n_8             | EER_mean: 0.24320 | EER_interp: 0.24080 | ACC: 0.76110\n",
      "  Task  9: n_9             | EER_mean: 0.35890 | EER_interp: 0.35590 | ACC: 0.64170\n",
      "final_EER_mean: 22.5% | final_EER_median: 24.47% | final_EER_std_dv: 8.77% | final_ACC: 77.42%\n",
      "validation accuracy:  77.42\n",
      "======================================================================\n",
      " ..nas_history_data: [[DNA([4, 2, 4, 1]), 73.78], [DNA([0, 2, 2, 1]), 82.53], [DNA([4, 3, 3, 0]), 83.86], [DNA([4, 3, 1, 4]), 77.42]]\n",
      " ..len(self.nas_history_data): 4\n",
      "logging nas_history_data...\n",
      " ..self.nas_history_data: [[DNA([4, 2, 4, 1]), 73.78], [DNA([0, 2, 2, 1]), 82.53], [DNA([4, 3, 3, 0]), 83.86], [DNA([4, 3, 1, 4]), 77.42]]\n",
      " ..nas_data_log_path: LOGS/nas_data.csv\n",
      " ..prev_arch: [[[4 3 1 4]]]\n",
      " ..prev_arch.shape: (1, 1, 4)\n",
      "input: [[[4 3 1 4]]]\n",
      "prob_list[:5]: [0.00184015 0.00164525 0.00152758 0.00165444 0.00171867]\n",
      "chose_idx: 160\n",
      "new_arch: [1, 1, 2, 0]\n",
      "======================================================================\n",
      "  New Controller Epoch | Feedback ID: 5 | Feedback DNA: DNA([1, 1, 2, 0])\n",
      "----------------------------------------------------------------------\n",
      " -- Architecture 5: {'n_denses_0': 2, 'n_denses_1': 2, 'n_denses_2': 3, 'n_denses_3': 1}\n",
      "Creating model...\n",
      "Model created\n",
      "Training MOBILENET_V2 network\n",
      " .. Not fine tuning base model...\n",
      "  .. Total params: 3,112,404\n",
      "  .. Trainable params: 854,420\n",
      "  .. Non-trainable params: 2,257,984\n",
      "\n",
      "Epoch 00001: val_loss improved from inf to 0.82003, saving model to training/training_ckpt/best_model.hdf5\n",
      "\n",
      "Epoch 00002: val_loss did not improve from 0.82003\n",
      "..Loading best model\n",
      "..Checkpoint weights loaded\n",
      "Testing Trained Model\n",
      "Predicting labels....\n",
      "6/6 [==============================] - 1s 48ms/step\n",
      "Prediction finished!\n",
      "  Task  0: n_0             | EER_mean: 0.08280 | EER_interp: 0.08550 | ACC: 0.91670\n",
      "  Task  1: n_1             | EER_mean: 0.08330 | EER_interp: 0.08010 | ACC: 0.92220\n",
      "  Task  2: n_2             | EER_mean: 0.23080 | EER_interp: 0.23060 | ACC: 0.76940\n",
      "  Task  3: n_3             | EER_mean: 0.16470 | EER_interp: 0.15920 | ACC: 0.83610\n",
      "  Task  4: n_4             | EER_mean: 0.26500 | EER_interp: 0.26040 | ACC: 0.73610\n",
      "  Task  5: n_5             | EER_mean: 0.24140 | EER_interp: 0.24160 | ACC: 0.75830\n",
      "  Task  6: n_6             | EER_mean: 0.27500 | EER_interp: 0.27340 | ACC: 0.72780\n",
      "  Task  7: n_7             | EER_mean: 0.23940 | EER_interp: 0.23640 | ACC: 0.76110\n",
      "  Task  8: n_8             | EER_mean: 0.21620 | EER_interp: 0.21490 | ACC: 0.78610\n",
      "  Task  9: n_9             | EER_mean: 0.18100 | EER_interp: 0.17880 | ACC: 0.81940\n",
      "final_EER_mean: 19.61% | final_EER_median: 22.28% | final_EER_std_dv: 6.53% | final_ACC: 80.33%\n",
      "validation accuracy:  80.33\n",
      "======================================================================\n",
      " ..nas_history_data: [[DNA([4, 2, 4, 1]), 73.78], [DNA([0, 2, 2, 1]), 82.53], [DNA([4, 3, 3, 0]), 83.86], [DNA([4, 3, 1, 4]), 77.42], [DNA([1, 1, 2, 0]), 80.33]]\n",
      " ..len(self.nas_history_data): 5\n",
      "logging nas_history_data...\n",
      " ..self.nas_history_data: [[DNA([4, 2, 4, 1]), 73.78], [DNA([0, 2, 2, 1]), 82.53], [DNA([4, 3, 3, 0]), 83.86], [DNA([4, 3, 1, 4]), 77.42], [DNA([1, 1, 2, 0]), 80.33]]\n",
      " ..nas_data_log_path: LOGS/nas_data.csv\n",
      " ..prev_arch: [[[1 1 2 0]]]\n",
      " ..prev_arch.shape: (1, 1, 4)\n",
      "input: [[[1 1 2 0]]]\n",
      "prob_list[:5]: [0.0017015  0.00166694 0.00156224 0.00161235 0.00162933]\n",
      "chose_idx: 494\n",
      "new_arch: [3, 4, 3, 4]\n",
      "======================================================================\n",
      "  New Controller Epoch | Feedback ID: 6 | Feedback DNA: DNA([3, 4, 3, 4])\n",
      "----------------------------------------------------------------------\n",
      " -- Architecture 6: {'n_denses_0': 4, 'n_denses_1': 5, 'n_denses_2': 4, 'n_denses_3': 5}\n",
      "Creating model...\n",
      "Model created\n",
      "Training MOBILENET_V2 network\n",
      " .. Not fine tuning base model...\n",
      "  .. Total params: 3,233,044\n",
      "  .. Trainable params: 975,060\n",
      "  .. Non-trainable params: 2,257,984\n",
      "\n",
      "Epoch 00001: val_loss improved from inf to 0.50850, saving model to training/training_ckpt/best_model.hdf5\n",
      "\n",
      "Epoch 00002: val_loss improved from 0.50850 to 0.49584, saving model to training/training_ckpt/best_model.hdf5\n",
      "..Loading best model\n",
      "..Checkpoint weights loaded\n",
      "Testing Trained Model\n",
      "Predicting labels....\n",
      "6/6 [==============================] - 1s 52ms/step\n",
      "Prediction finished!\n",
      "  Task  0: n_0             | EER_mean: 0.09820 | EER_interp: 0.09320 | ACC: 0.90280\n",
      "  Task  1: n_1             | EER_mean: 0.03210 | EER_interp: 0.03690 | ACC: 0.96670\n",
      "  Task  2: n_2             | EER_mean: 0.10260 | EER_interp: 0.09650 | ACC: 0.90830\n",
      "  Task  3: n_3             | EER_mean: 0.09880 | EER_interp: 0.10710 | ACC: 0.90000\n",
      "  Task  4: n_4             | EER_mean: 0.09300 | EER_interp: 0.09220 | ACC: 0.90830\n",
      "  Task  5: n_5             | EER_mean: 0.06900 | EER_interp: 0.05560 | ACC: 0.95560\n",
      "  Task  6: n_6             | EER_mean: 0.10000 | EER_interp: 0.09060 | ACC: 0.91670\n",
      "  Task  7: n_7             | EER_mean: 0.10000 | EER_interp: 0.09400 | ACC: 0.91110\n",
      "  Task  8: n_8             | EER_mean: 0.14550 | EER_interp: 0.14030 | ACC: 0.85560\n",
      "  Task  9: n_9             | EER_mean: 0.05880 | EER_interp: 0.05700 | ACC: 0.94440\n",
      "final_EER_mean: 8.63% | final_EER_median: 9.27% | final_EER_std_dv: 2.8% | final_ACC: 91.7%\n",
      "validation accuracy:  91.7\n",
      "======================================================================\n",
      " ..nas_history_data: [[DNA([4, 2, 4, 1]), 73.78], [DNA([0, 2, 2, 1]), 82.53], [DNA([4, 3, 3, 0]), 83.86], [DNA([4, 3, 1, 4]), 77.42], [DNA([1, 1, 2, 0]), 80.33], [DNA([3, 4, 3, 4]), 91.7]]\n",
      " ..len(self.nas_history_data): 6\n",
      "logging nas_history_data...\n",
      " ..self.nas_history_data: [[DNA([4, 2, 4, 1]), 73.78], [DNA([0, 2, 2, 1]), 82.53], [DNA([4, 3, 3, 0]), 83.86], [DNA([4, 3, 1, 4]), 77.42], [DNA([1, 1, 2, 0]), 80.33], [DNA([3, 4, 3, 4]), 91.7]]\n",
      " ..nas_data_log_path: LOGS/nas_data.csv\n",
      "\n",
      "\n",
      "------------------ TOP ARCHITECTURES FOUND --------------------\n",
      " . Architecture 5: DNA([3, 4, 3, 4]) | Validation accuracy: 91.7%\n",
      " . Architecture 2: DNA([4, 3, 3, 0]) | Validation accuracy: 83.86%\n",
      " . Architecture 1: DNA([0, 2, 2, 1]) | Validation accuracy: 82.53%\n",
      " . Architecture 4: DNA([1, 1, 2, 0]) | Validation accuracy: 80.33%\n",
      " . Architecture 3: DNA([4, 3, 1, 4]) | Validation accuracy: 77.42%\n",
      "------------------------------------------------------\n",
      "\n",
      "\n"
     ]
    }
   ],
   "source": [
    "best_archs_list = runner.run_neural_architecture_search_v3()"
   ]
  },
  {
   "cell_type": "code",
   "execution_count": 13,
   "metadata": {},
   "outputs": [
    {
     "name": "stdout",
     "output_type": "stream",
     "text": [
      "Top 5 Architectures:\n",
      " . Architecture 5: DNA([3, 4, 3, 4]) | Validation accuracy: 91.7%\n",
      " . Architecture 2: DNA([4, 3, 3, 0]) | Validation accuracy: 83.86%\n",
      " . Architecture 1: DNA([0, 2, 2, 1]) | Validation accuracy: 82.53%\n",
      " . Architecture 4: DNA([1, 1, 2, 0]) | Validation accuracy: 80.33%\n",
      " . Architecture 3: DNA([4, 3, 1, 4]) | Validation accuracy: 77.42%\n"
     ]
    }
   ],
   "source": [
    "from typing import List, Dict\n",
    "import numpy as np\n",
    "import pandas as pd\n",
    "\n",
    "\n",
    "def get_latest_event_id():\n",
    "    all_subdirs = ['LOGS/' + d for d in os.listdir('LOGS') if os.path.isdir('LOGS/' + d)]\n",
    "    latest_subdir = max(all_subdirs, key=os.path.getmtime)\n",
    "    return int(latest_subdir.replace('LOGS/event', ''))\n",
    "\n",
    "\n",
    "def get_top_n_architectures(data, top_n=5) -> List[Dict]:\n",
    "    data_df = pd.read_csv('LOGS/event{}/nas_data.csv'.format(get_latest_event_id()))\n",
    "    data_df = data_df.sort_values('reward', ascending=False, ignore_index=False)\n",
    "    data_df = data_df.iloc[:top_n,:]\n",
    "    print('Top {} Architectures:'.format(top_n))\n",
    "    best_archs = []\n",
    "    for idx,(arch,val_acc) in data_df.iterrows():\n",
    "        print(f' . Architecture {idx}: {arch} | Validation accuracy: {val_acc}%')\n",
    "        best_archs.append({'Architecture': arch, 'Validation accuracy': val_acc})\n",
    "    return best_archs\n",
    "\n",
    "best_archs_list = get_top_n_architectures(runner.nas_object, 5)"
   ]
  },
  {
   "cell_type": "markdown",
   "metadata": {
    "tags": []
   },
   "source": [
    "# Create Model with Best Architecture Found"
   ]
  },
  {
   "cell_type": "code",
   "execution_count": null,
   "metadata": {},
   "outputs": [],
   "source": [
    "#best_arch = {'n_denses_0':2,'n_denses_1':2,'n_denses_2':2,'n_denses_3':2}\n",
    "best_arch = best_archs_list[0]['Architecture'] if best_archs_list is not None else None"
   ]
  },
  {
   "cell_type": "code",
   "execution_count": null,
   "metadata": {},
   "outputs": [],
   "source": [
    "runner.create_model(best_arch)"
   ]
  },
  {
   "cell_type": "markdown",
   "metadata": {},
   "source": [
    "# Visualize Model"
   ]
  },
  {
   "cell_type": "code",
   "execution_count": null,
   "metadata": {
    "tags": []
   },
   "outputs": [],
   "source": [
    "%%capture\n",
    "runner.visualize_model(outfile_path=f\"training/figs/nas/nas_model_{APPROACH.name}.png\")"
   ]
  },
  {
   "cell_type": "code",
   "execution_count": null,
   "metadata": {
    "tags": []
   },
   "outputs": [],
   "source": [
    "%%capture\n",
    "runner.model_summary()"
   ]
  },
  {
   "cell_type": "markdown",
   "metadata": {},
   "source": [
    "# Training Model"
   ]
  },
  {
   "cell_type": "code",
   "execution_count": null,
   "metadata": {
    "tags": []
   },
   "outputs": [],
   "source": [
    "runner.train_model()"
   ]
  },
  {
   "cell_type": "markdown",
   "metadata": {},
   "source": [
    "# Plots"
   ]
  },
  {
   "cell_type": "code",
   "execution_count": null,
   "metadata": {
    "tags": []
   },
   "outputs": [],
   "source": [
    "runner.draw_training_history()"
   ]
  },
  {
   "cell_type": "markdown",
   "metadata": {},
   "source": [
    "# Load Best Model"
   ]
  },
  {
   "cell_type": "code",
   "execution_count": null,
   "metadata": {},
   "outputs": [],
   "source": [
    "runner.load_best_model()"
   ]
  },
  {
   "cell_type": "markdown",
   "metadata": {},
   "source": [
    "# Saving Trained Model"
   ]
  },
  {
   "cell_type": "code",
   "execution_count": null,
   "metadata": {},
   "outputs": [],
   "source": [
    "runner.save_model()"
   ]
  },
  {
   "cell_type": "markdown",
   "metadata": {},
   "source": [
    "# Test Trained Model"
   ]
  },
  {
   "cell_type": "markdown",
   "metadata": {},
   "source": [
    "## Validation Split"
   ]
  },
  {
   "cell_type": "code",
   "execution_count": null,
   "metadata": {
    "tags": []
   },
   "outputs": [],
   "source": [
    "runner.set_model_evaluator_data_src(DataSource.VALIDATION)\n",
    "runner.test_model(verbose=False)"
   ]
  },
  {
   "cell_type": "markdown",
   "metadata": {},
   "source": [
    "## Test Split"
   ]
  },
  {
   "cell_type": "code",
   "execution_count": null,
   "metadata": {
    "tags": []
   },
   "outputs": [],
   "source": [
    "runner.set_model_evaluator_data_src(DataSource.TEST)\n",
    "runner.test_model(verbose=False)"
   ]
  },
  {
   "cell_type": "markdown",
   "metadata": {},
   "source": [
    "# Visualize Model Classification"
   ]
  },
  {
   "cell_type": "raw",
   "metadata": {},
   "source": [
    "runner.visualize_predictions()"
   ]
  },
  {
   "cell_type": "markdown",
   "metadata": {},
   "source": [
    "# Finishing Experiment Manager"
   ]
  },
  {
   "cell_type": "code",
   "execution_count": null,
   "metadata": {
    "tags": []
   },
   "outputs": [],
   "source": [
    "runner.finish_experiment()"
   ]
  }
 ],
 "metadata": {
  "interpreter": {
   "hash": "85f5044ba23e75135dc4c908fd4d7609c1c80b195047fdb4d16ee0e66a953254"
  },
  "kernelspec": {
   "display_name": "Python 3 (ipykernel)",
   "language": "python",
   "name": "python3"
  },
  "language_info": {
   "codemirror_mode": {
    "name": "ipython",
    "version": 3
   },
   "file_extension": ".py",
   "mimetype": "text/x-python",
   "name": "python",
   "nbconvert_exporter": "python",
   "pygments_lexer": "ipython3",
   "version": "3.8.0"
  },
  "neptune": {
   "notebookId": "98a3967a-428e-4576-add1-6bd753600673",
   "projectVersion": 2
  },
  "toc-autonumbering": true
 },
 "nbformat": 4,
 "nbformat_minor": 4
}

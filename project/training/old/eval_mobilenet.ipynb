{
 "cells": [
  {
   "cell_type": "markdown",
   "metadata": {},
   "source": [
    "# Import Libraries"
   ]
  },
  {
   "cell_type": "code",
   "execution_count": 2,
   "metadata": {},
   "outputs": [],
   "source": [
    "%load_ext autoreload\n",
    "%autoreload 2"
   ]
  },
  {
   "cell_type": "code",
   "execution_count": 3,
   "metadata": {},
   "outputs": [],
   "source": [
    "import sys\n",
    "import pandas as pd\n",
    "\n",
    "if '../../../notebooks/' not in sys.path:\n",
    "    sys.path.append('../../../notebooks/')\n",
    "\n",
    "import utils.constants as cts\n",
    "\n",
    "from models.oface_mouth_model import OpenfaceMouth\n",
    "from data_loaders.data_loader import DLName\n",
    "from net_trainer import NetworkTrainer"
   ]
  },
  {
   "cell_type": "markdown",
   "metadata": {},
   "source": [
    "# Evaluation"
   ]
  },
  {
   "cell_type": "code",
   "execution_count": 20,
   "metadata": {},
   "outputs": [
    {
     "data": {
      "text/plain": [
       "(2180, 4)"
      ]
     },
     "execution_count": 20,
     "metadata": {},
     "output_type": "execute_result"
    }
   ],
   "source": [
    "df = pd.read_csv('output/out.csv')\n",
    "df.shape"
   ]
  },
  {
   "cell_type": "code",
   "execution_count": 21,
   "metadata": {},
   "outputs": [
    {
     "name": "stdout",
     "output_type": "stream",
     "text": [
      "Validation Accuracy: 0.4748\n",
      "Validation Accuracy: 0.4633\n",
      "Validation Accuracy: 0.4679\n",
      "Validation Accuracy: 0.4817\n",
      "Validation Accuracy: 0.4748\n"
     ]
    }
   ],
   "source": [
    "from sklearn.metrics import classification_report, accuracy_score\n",
    "\n",
    "for i in range(1,6):\n",
    "    tmp_df = df[df.epoch == i]\n",
    "    print(f'Validation Accuracy: {round(accuracy_score(y_true=tmp_df.y, y_pred=tmp_df.y_hat), 4)}')"
   ]
  },
  {
   "cell_type": "markdown",
   "metadata": {},
   "source": [
    "# Loading Checkpoints"
   ]
  },
  {
   "cell_type": "code",
   "execution_count": 11,
   "metadata": {},
   "outputs": [
    {
     "name": "stdout",
     "output_type": "stream",
     "text": [
      "===================\n",
      "Args: \n",
      "{'exp_params': {'description': 'Changing network architecture and BS',\n",
      "                'name': 'train_mobilenetv2',\n",
      "                'src_files': ['mobilenet_trainer.py', 'net_trainer.py'],\n",
      "                'tags': ['mobilenetv2']},\n",
      " 'net_train_params': {'batch_size': 32,\n",
      "                      'dense_units': 128,\n",
      "                      'dropout': 0.5,\n",
      "                      'early_stopping': 10,\n",
      "                      'learning_rate': 0.0001,\n",
      "                      'n_epochs': 60,\n",
      "                      'optimizer': 'Adam',\n",
      "                      'seed': 42,\n",
      "                      'shuffle': True,\n",
      "                      'test_prop': 0.1,\n",
      "                      'train_prop': 0.8,\n",
      "                      'validation_prop': 0.1,\n",
      "                      'validation_split': 0.1},\n",
      " 'properties': {'aligned': True,\n",
      "                'dl_names': [<DLName.FVC_PYBOSSA: 'fvc_pybossa'>],\n",
      "                'req': <ICAO_REQ.MOUTH: 'mouth'>,\n",
      "                'tagger_model': <models.oface_mouth_model.OpenfaceMouth object at 0x7f00c0187c10>}}\n",
      "===================\n"
     ]
    }
   ],
   "source": [
    "kwargs = { \n",
    "    'exp_params' : {\n",
    "        'name': 'train_mobilenetv2',\n",
    "        'description': 'Changing network architecture and BS',\n",
    "        'tags': ['mobilenetv2'],\n",
    "        'src_files': ['mobilenet_trainer.py','net_trainer.py']\n",
    "    },\n",
    "    'properties': {\n",
    "        'tagger_model': OpenfaceMouth(),\n",
    "        'dl_names': [DLName.FVC_PYBOSSA],\n",
    "        'req': cts.ICAO_REQ.MOUTH,\n",
    "        'aligned': True \n",
    "    },\n",
    "    'net_train_params': {\n",
    "        'batch_size': 32,\n",
    "        'n_epochs': 60,\n",
    "        'early_stopping': 10,\n",
    "        'shuffle': True,\n",
    "        'dense_units': 128,\n",
    "        'learning_rate': 1e-4,\n",
    "        'optimizer': 'Adam',\n",
    "        'dropout': 0.5,\n",
    "        'train_prop': 0.8,\n",
    "        'validation_prop': 0.1,\n",
    "        'test_prop': 0.1,\n",
    "        'seed': 42,\n",
    "        'validation_split': 0.1\n",
    "    }\n",
    "}\n",
    "\n",
    "trainer = NetworkTrainer(use_neptune=False, **kwargs)"
   ]
  },
  {
   "cell_type": "code",
   "execution_count": 13,
   "metadata": {},
   "outputs": [
    {
     "name": "stdout",
     "output_type": "stream",
     "text": [
      "Loading data\n",
      "Input data.shape: (5780, 4)\n",
      "Number of Samples: 5780\n",
      "Data loaded\n",
      "Starting data generators\n",
      "Found 4682 validated image filenames belonging to 2 classes.\n",
      "Found 520 validated image filenames belonging to 2 classes.\n",
      "Found 578 validated image filenames belonging to 2 classes.\n",
      "TOTAL: 5780\n",
      "Evaluating model\n",
      "Testing loss:  3.0076353549957275\n",
      "Testing accuracy:  0.8027681708335876\n"
     ]
    }
   ],
   "source": [
    "trainer.load_checkpoint('output/training/cp-0000.ckpt')\n",
    "trainer.load_training_data()\n",
    "trainer.setup_data_generators()\n",
    "trainer.evaluate_model()"
   ]
  },
  {
   "cell_type": "code",
   "execution_count": 15,
   "metadata": {},
   "outputs": [
    {
     "name": "stdout",
     "output_type": "stream",
     "text": [
      "Loading data\n",
      "Input data.shape: (5780, 4)\n",
      "Number of Samples: 5780\n",
      "Data loaded\n",
      "Starting data generators\n",
      "Found 4682 validated image filenames belonging to 2 classes.\n",
      "Found 520 validated image filenames belonging to 2 classes.\n",
      "Found 578 validated image filenames belonging to 2 classes.\n",
      "TOTAL: 5780\n",
      "Evaluating model\n",
      "Testing loss:  3.0076353549957275\n",
      "Testing accuracy:  0.8027681708335876\n"
     ]
    }
   ],
   "source": [
    "trainer.load_checkpoint('output/training/cp-0005.ckpt')\n",
    "trainer.load_training_data()\n",
    "trainer.setup_data_generators()\n",
    "trainer.evaluate_model()"
   ]
  },
  {
   "cell_type": "code",
   "execution_count": 17,
   "metadata": {},
   "outputs": [
    {
     "name": "stdout",
     "output_type": "stream",
     "text": [
      "WARNING:tensorflow:Unresolved object in checkpoint: (root).optimizer.beta_1\n",
      "WARNING:tensorflow:Unresolved object in checkpoint: (root).optimizer.beta_2\n",
      "WARNING:tensorflow:Unresolved object in checkpoint: (root).optimizer.decay\n",
      "WARNING:tensorflow:Unresolved object in checkpoint: (root).optimizer.learning_rate\n",
      "WARNING:tensorflow:Unresolved object in checkpoint: (root).optimizer.iter\n",
      "WARNING:tensorflow:A checkpoint was restored (e.g. tf.train.Checkpoint.restore or tf.keras.Model.load_weights) but not all checkpointed values were used. See above for specific issues. Use expect_partial() on the load status object, e.g. tf.train.Checkpoint.restore(...).expect_partial(), to silence these warnings, or use assert_consumed() to make the check explicit. See https://www.tensorflow.org/guide/checkpoint#loading_mechanics for details.\n",
      "Loading data\n",
      "Input data.shape: (5780, 4)\n",
      "Number of Samples: 5780\n",
      "Data loaded\n",
      "Starting data generators\n",
      "Found 4682 validated image filenames belonging to 2 classes.\n",
      "Found 520 validated image filenames belonging to 2 classes.\n",
      "Found 578 validated image filenames belonging to 2 classes.\n",
      "TOTAL: 5780\n",
      "Evaluating model\n",
      "VALIDATION loss:  3.020522117614746\n",
      "VALIDATION accuracy:  0.8019230961799622\n"
     ]
    }
   ],
   "source": [
    "trainer.load_checkpoint('output/training/cp-0010.ckpt')\n",
    "trainer.load_training_data()\n",
    "trainer.setup_data_generators()\n",
    "trainer.evaluate_model(data_src='validation')"
   ]
  },
  {
   "cell_type": "code",
   "execution_count": 18,
   "metadata": {},
   "outputs": [
    {
     "name": "stdout",
     "output_type": "stream",
     "text": [
      "WARNING:tensorflow:Unresolved object in checkpoint: (root).optimizer.beta_1\n",
      "WARNING:tensorflow:Unresolved object in checkpoint: (root).optimizer.beta_2\n",
      "WARNING:tensorflow:Unresolved object in checkpoint: (root).optimizer.decay\n",
      "WARNING:tensorflow:Unresolved object in checkpoint: (root).optimizer.learning_rate\n",
      "WARNING:tensorflow:Unresolved object in checkpoint: (root).optimizer.iter\n",
      "WARNING:tensorflow:A checkpoint was restored (e.g. tf.train.Checkpoint.restore or tf.keras.Model.load_weights) but not all checkpointed values were used. See above for specific issues. Use expect_partial() on the load status object, e.g. tf.train.Checkpoint.restore(...).expect_partial(), to silence these warnings, or use assert_consumed() to make the check explicit. See https://www.tensorflow.org/guide/checkpoint#loading_mechanics for details.\n",
      "WARNING:tensorflow:Unresolved object in checkpoint: (root).optimizer.beta_1\n",
      "WARNING:tensorflow:Unresolved object in checkpoint: (root).optimizer.beta_2\n",
      "WARNING:tensorflow:Unresolved object in checkpoint: (root).optimizer.decay\n",
      "WARNING:tensorflow:Unresolved object in checkpoint: (root).optimizer.learning_rate\n",
      "WARNING:tensorflow:Unresolved object in checkpoint: (root).optimizer.iter\n",
      "WARNING:tensorflow:A checkpoint was restored (e.g. tf.train.Checkpoint.restore or tf.keras.Model.load_weights) but not all checkpointed values were used. See above for specific issues. Use expect_partial() on the load status object, e.g. tf.train.Checkpoint.restore(...).expect_partial(), to silence these warnings, or use assert_consumed() to make the check explicit. See https://www.tensorflow.org/guide/checkpoint#loading_mechanics for details.\n",
      "Loading data\n",
      "Input data.shape: (5780, 4)\n",
      "Number of Samples: 5780\n",
      "Data loaded\n",
      "Starting data generators\n",
      "Found 4682 validated image filenames belonging to 2 classes.\n",
      "Found 520 validated image filenames belonging to 2 classes.\n",
      "Found 578 validated image filenames belonging to 2 classes.\n",
      "TOTAL: 5780\n",
      "Evaluating model\n",
      "TEST loss:  3.0076355934143066\n",
      "TEST accuracy:  0.8027681708335876\n"
     ]
    }
   ],
   "source": [
    "trainer.load_checkpoint('output/training/cp-0010.ckpt')\n",
    "trainer.load_training_data()\n",
    "trainer.setup_data_generators()\n",
    "trainer.evaluate_model(data_src='test')"
   ]
  }
 ],
 "metadata": {
  "kernelspec": {
   "display_name": "Python 3",
   "language": "python",
   "name": "python3"
  },
  "language_info": {
   "codemirror_mode": {
    "name": "ipython",
    "version": 3
   },
   "file_extension": ".py",
   "mimetype": "text/x-python",
   "name": "python",
   "nbconvert_exporter": "python",
   "pygments_lexer": "ipython3",
   "version": "3.8.3"
  }
 },
 "nbformat": 4,
 "nbformat_minor": 4
}

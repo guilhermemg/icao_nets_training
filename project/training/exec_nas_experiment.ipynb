{
 "cells": [
  {
   "cell_type": "markdown",
   "metadata": {},
   "source": [
    "# Import Libraries"
   ]
  },
  {
   "cell_type": "code",
   "execution_count": 1,
   "metadata": {},
   "outputs": [],
   "source": [
    "%load_ext autoreload\n",
    "%autoreload 2"
   ]
  },
  {
   "cell_type": "code",
   "execution_count": 2,
   "metadata": {},
   "outputs": [],
   "source": [
    "import os\n",
    "# disable tensorflow log level infos\n",
    "os.environ['TF_CPP_MIN_LOG_LEVEL'] = '2' # show only errors\n",
    "\n",
    "import sys\n",
    "import pandas as pd\n",
    "\n",
    "if '..' not in sys.path:\n",
    "    sys.path.insert(0, '..')"
   ]
  },
  {
   "cell_type": "code",
   "execution_count": 3,
   "metadata": {
    "tags": []
   },
   "outputs": [
    {
     "name": "stdout",
     "output_type": "stream",
     "text": [
      " ==> Restrict GPU memory growth: True\n"
     ]
    }
   ],
   "source": [
    "from src.m_utils import constants as cts\n",
    "from src.base.data_loaders.data_loader import DLName\n",
    "from src.base.gt_loaders.gt_names import GTName\n",
    "from src.exp_runner import ExperimentRunner\n",
    "\n",
    "from src.base.experiment.dataset.dataset import Dataset\n",
    "from src.base.experiment.evaluation.model_evaluator import DataSource, DataPredSelection\n",
    "from src.base.experiment.training.base_models import BaseModel\n",
    "from src.base.experiment.training.optimizers import Optimizer\n",
    "\n",
    "from src.m_utils.mtl_approach import MTLApproach\n",
    "from src.m_utils.nas_mtl_approach import NAS_MTLApproach"
   ]
  },
  {
   "cell_type": "markdown",
   "metadata": {},
   "source": [
    "# Start Network runner"
   ]
  },
  {
   "cell_type": "code",
   "execution_count": 4,
   "metadata": {
    "tags": []
   },
   "outputs": [
    {
     "name": "stdout",
     "output_type": "stream",
     "text": [
      "-------------------- Init ExperimentRunner -------------------\n",
      "---------------------------\n",
      "Parent Process ID: 24886\n",
      "Process ID: 25169\n",
      "---------------------------\n",
      "-----\n",
      "Use Neptune:  True\n",
      "-----\n",
      "-------------------\n",
      "Args: \n",
      "{'controller_params': {'controller_decay': 0.1,\n",
      "                       'controller_learning_rate': 0.01,\n",
      "                       'controller_lstm_dim': 100,\n",
      "                       'controller_momentum': 0.0,\n",
      "                       'controller_optimizer': 'Adam',\n",
      "                       'controller_use_predictor': False},\n",
      " 'exp_params': {'description': 'NAS with Approach 2 Fixed',\n",
      "                'name': 'neural_arch_search',\n",
      "                'src_files': ['../src/**/*.py'],\n",
      "                'tags': ['nas_approach_2_fixed', 'benchmark', 'fvc_icao']},\n",
      " 'mlp_params': {'max_architecture_length': 5,\n",
      "                'min_task_group_size': 3,\n",
      "                'mlp_base_model': <BaseModel.MOBILENET_V2: {'name': 'mobilnet_v2', 'target_size': (224, 224), 'prep_function': <function preprocess_input at 0x7f13f447d1f0>}>,\n",
      "                'mlp_batch_size': 64,\n",
      "                'mlp_decay': 0.0,\n",
      "                'mlp_dropout': 0.2,\n",
      "                'mlp_early_stopping': 5,\n",
      "                'mlp_learning_rate': 0.01,\n",
      "                'mlp_loss_function': 'categorical_crossentropy',\n",
      "                'mlp_momentum': 0.0,\n",
      "                'mlp_n_epochs': 50,\n",
      "                'mlp_one_shot': False,\n",
      "                'mlp_optimizer': <Optimizer.ADAMAX: 'Adamax'>},\n",
      " 'nas_params': {'architecture_training_epochs': 2,\n",
      "                'controller_loss_alpha': 0.9,\n",
      "                'controller_sampling_epochs': 2,\n",
      "                'controller_training_epochs': 5,\n",
      "                'samples_per_controller_epochs': 3},\n",
      " 'properties': {'approach': <NAS_MTLApproach.APPROACH_2: 'approach_2'>,\n",
      "                'balance_input_data': False,\n",
      "                'benchmarking': {'dataset': <Dataset.FVC_ICAO: {'name': 'fvc_icao', 'target_cols': ['mouth', 'rotation', 'l_away', 'eyes_closed', 'close', 'hat', 'dark_glasses', 'frames_heavy', 'frame_eyes', 'flash_lenses', 'veil', 'reflection', 'light', 'sh_face', 'sh_head', 'blurred', 'ink_mark', 'skin_tone', 'washed_out', 'pixelation', 'hair_eyes', 'background', 'red_eyes'], 'tasks': [<ICAO_REQ.MOUTH: 'mouth'>, <ICAO_REQ.ROTATION: 'rotation'>, <ICAO_REQ.L_AWAY: 'l_away'>, <ICAO_REQ.EYES_CLOSED: 'eyes_closed'>, <ICAO_REQ.CLOSE: 'close'>, <ICAO_REQ.HAT: 'hat'>, <ICAO_REQ.DARK_GLASSES: 'dark_glasses'>, <ICAO_REQ.FRAMES_HEAVY: 'frames_heavy'>, <ICAO_REQ.FRAME_EYES: 'frame_eyes'>, <ICAO_REQ.FLASH_LENSES: 'flash_lenses'>, <ICAO_REQ.VEIL: 'veil'>, <ICAO_REQ.REFLECTION: 'reflection'>, <ICAO_REQ.LIGHT: 'light'>, <ICAO_REQ.SHADOW_FACE: 'sh_face'>, <ICAO_REQ.SHADOW_HEAD: 'sh_head'>, <ICAO_REQ.BLURRED: 'blurred'>, <ICAO_REQ.INK_MARK: 'ink_mark'>, <ICAO_REQ.SKIN_TONE: 'skin_tone'>, <ICAO_REQ.WASHED_OUT: 'washed_out'>, <ICAO_REQ.PIXELATION: 'pixelation'>, <ICAO_REQ.HAIR_EYES: 'hair_eyes'>, <ICAO_REQ.BACKGROUND: 'background'>, <ICAO_REQ.RED_EYES: 'red_eyes'>]}>,\n",
      "                                 'use_benchmark_data': False},\n",
      "                'exec_nas': True,\n",
      "                'icao_data': {'aligned': False,\n",
      "                              'icao_dl': {'tagger_model': None,\n",
      "                                          'use_dl_data': False},\n",
      "                              'icao_gt': {'gt_names': {'test': [],\n",
      "                                                       'train_validation': [],\n",
      "                                                       'train_validation_test': [<GTName.FVC: 'fvc'>]},\n",
      "                                          'use_gt_data': True},\n",
      "                              'reqs': [<ICAO_REQ.MOUTH: 'mouth'>,\n",
      "                                       <ICAO_REQ.ROTATION: 'rotation'>,\n",
      "                                       <ICAO_REQ.L_AWAY: 'l_away'>,\n",
      "                                       <ICAO_REQ.EYES_CLOSED: 'eyes_closed'>,\n",
      "                                       <ICAO_REQ.CLOSE: 'close'>,\n",
      "                                       <ICAO_REQ.HAT: 'hat'>,\n",
      "                                       <ICAO_REQ.DARK_GLASSES: 'dark_glasses'>,\n",
      "                                       <ICAO_REQ.FRAMES_HEAVY: 'frames_heavy'>,\n",
      "                                       <ICAO_REQ.FRAME_EYES: 'frame_eyes'>,\n",
      "                                       <ICAO_REQ.FLASH_LENSES: 'flash_lenses'>,\n",
      "                                       <ICAO_REQ.VEIL: 'veil'>,\n",
      "                                       <ICAO_REQ.REFLECTION: 'reflection'>,\n",
      "                                       <ICAO_REQ.LIGHT: 'light'>,\n",
      "                                       <ICAO_REQ.SHADOW_FACE: 'sh_face'>,\n",
      "                                       <ICAO_REQ.SHADOW_HEAD: 'sh_head'>,\n",
      "                                       <ICAO_REQ.BLURRED: 'blurred'>,\n",
      "                                       <ICAO_REQ.INK_MARK: 'ink_mark'>,\n",
      "                                       <ICAO_REQ.SKIN_TONE: 'skin_tone'>,\n",
      "                                       <ICAO_REQ.WASHED_OUT: 'washed_out'>,\n",
      "                                       <ICAO_REQ.PIXELATION: 'pixelation'>,\n",
      "                                       <ICAO_REQ.HAIR_EYES: 'hair_eyes'>,\n",
      "                                       <ICAO_REQ.BACKGROUND: 'background'>,\n",
      "                                       <ICAO_REQ.RED_EYES: 'red_eyes'>]},\n",
      "                'orig_model_experiment_id': '',\n",
      "                'sample_prop': 1.0,\n",
      "                'sample_training_data': False,\n",
      "                'save_trained_model': True,\n",
      "                'train_model': True},\n",
      " 'use_neptune': True}\n",
      "-------------------\n",
      "----\n",
      "Base Model Name:  BaseModel.MOBILENET_V2\n",
      "----\n",
      "MTL Model: True\n",
      "Approach: NAS_MTLApproach.APPROACH_2\n",
      "----\n",
      "--------------------  starting neptune  -------------------\n",
      "Starting Neptune\n",
      "https://app.neptune.ai/guilhermemg/icao-nets-training-2/e/ICAO-387\n",
      "Remember to stop your run once you’ve finished logging your metadata (https://docs.neptune.ai/api-reference/run#.stop). It will be stopped automatically only when the notebook kernel/interactive console is terminated.\n",
      "----\n",
      "----\n",
      "Checking model existence locally...\n",
      "Training a new model! Not checking model existence\n",
      "----\n",
      "------------------------------\n",
      "Checking GPU availability\n",
      " ..GPU is available!\n",
      "------------------------------\n"
     ]
    }
   ],
   "source": [
    "DATASET = Dataset.FVC_ICAO\n",
    "\n",
    "kwargs = { \n",
    "    'use_neptune': True,\n",
    "    'exp_params' : {\n",
    "        'name': 'neural_arch_search',\n",
    "        'description': 'NAS with Approach 2 Fixed',\n",
    "        'tags': ['nas_approach_2_fixed', 'benchmark', f'{DATASET.value[\"name\"]}'],\n",
    "        'src_files': [\"../src/**/*.py\"]\n",
    "    },\n",
    "    'properties': {\n",
    "        'approach': NAS_MTLApproach.APPROACH_2,\n",
    "        'benchmarking': {\n",
    "            'use_benchmark_data': False,\n",
    "            'dataset': DATASET\n",
    "        },\n",
    "        'icao_data': {\n",
    "            'icao_gt': {\n",
    "                'use_gt_data': True,\n",
    "                'gt_names': {\n",
    "                    'train_validation': [],\n",
    "                    'test': [],\n",
    "                    'train_validation_test': [GTName.FVC]\n",
    "                },\n",
    "            },\n",
    "            'icao_dl': {\n",
    "                'use_dl_data': False,\n",
    "                'tagger_model': None\n",
    "            },\n",
    "            'reqs': Dataset.FVC_ICAO.value['tasks'],\n",
    "            'aligned': False\n",
    "        },\n",
    "        'balance_input_data': False,\n",
    "        'train_model': True,\n",
    "        'save_trained_model': True,\n",
    "        'exec_nas': True,\n",
    "        'orig_model_experiment_id': '',\n",
    "        'sample_training_data': False,\n",
    "        'sample_prop': 1.0\n",
    "    },\n",
    "    'nas_params': {\n",
    "        #'max_blocks_per_branch': 5,\n",
    "        #'n_child_epochs': N_CHILD_EPOCHS,\n",
    "        #'controller_epochs': CONTROLLER_EPOCHS,\n",
    "        #'controller_batch_size': 64,\n",
    "        #'n_trials': N_TRIALS,\n",
    "\n",
    "        'controller_sampling_epochs': 2,\n",
    "        'samples_per_controller_epochs': 3,\n",
    "        'controller_training_epochs': 5,\n",
    "        'architecture_training_epochs': 2,\n",
    "        'controller_loss_alpha': 0.9\n",
    "    },\n",
    "    'controller_params': {\n",
    "        'controller_lstm_dim': 100,\n",
    "        'controller_optimizer': 'Adam',\n",
    "        'controller_learning_rate': 0.01,\n",
    "        'controller_decay': 0.1,\n",
    "        'controller_momentum': 0.0,\n",
    "        'controller_use_predictor': False\n",
    "    },\n",
    "    'mlp_params': {\n",
    "        'max_architecture_length': 5,\n",
    "        'min_task_group_size': 3,\n",
    "        'mlp_base_model': BaseModel.MOBILENET_V2,\n",
    "        'mlp_n_epochs': 50,\n",
    "        'mlp_batch_size': 64,\n",
    "        'mlp_early_stopping': 5,\n",
    "        'mlp_optimizer': Optimizer.ADAMAX,\n",
    "        'mlp_learning_rate': 1e-2,\n",
    "        'mlp_decay': 0.0,\n",
    "        'mlp_momentum': 0.0,\n",
    "        'mlp_dropout': 0.2,\n",
    "        'mlp_loss_function': 'categorical_crossentropy',\n",
    "        'mlp_one_shot': False\n",
    "    }\n",
    "}\n",
    "\n",
    "\n",
    "runner = ExperimentRunner(**kwargs)"
   ]
  },
  {
   "cell_type": "markdown",
   "metadata": {},
   "source": [
    "# Load Data"
   ]
  },
  {
   "cell_type": "code",
   "execution_count": 5,
   "metadata": {
    "tags": []
   },
   "outputs": [
    {
     "name": "stdout",
     "output_type": "stream",
     "text": [
      "-------------------- load training data -------------------\n",
      "Loading data\n",
      "Loading GT FVC - TRAIN split...\n",
      "..Ignoring 0 empty label values\n",
      "Input data.shape: (4928, 26)\n",
      "Loading GT FVC - VALIDATION split...\n",
      "..Ignoring 0 empty label values\n",
      "Input data.shape: (547, 26)\n",
      "Loading GT FVC - TEST split...\n",
      "..Ignoring 0 empty label values\n",
      "Input data.shape: (288, 26)\n",
      "Data loaded\n"
     ]
    }
   ],
   "source": [
    "runner.load_training_data()"
   ]
  },
  {
   "cell_type": "code",
   "execution_count": 6,
   "metadata": {
    "tags": []
   },
   "outputs": [
    {
     "data": {
      "text/html": [
       "<div>\n",
       "<style scoped>\n",
       "    .dataframe tbody tr th:only-of-type {\n",
       "        vertical-align: middle;\n",
       "    }\n",
       "\n",
       "    .dataframe tbody tr th {\n",
       "        vertical-align: top;\n",
       "    }\n",
       "\n",
       "    .dataframe thead th {\n",
       "        text-align: right;\n",
       "    }\n",
       "</style>\n",
       "<table border=\"1\" class=\"dataframe\">\n",
       "  <thead>\n",
       "    <tr style=\"text-align: right;\">\n",
       "      <th></th>\n",
       "      <th>origin</th>\n",
       "      <th>img_name</th>\n",
       "      <th>mouth</th>\n",
       "      <th>rotation</th>\n",
       "      <th>l_away</th>\n",
       "      <th>eyes_closed</th>\n",
       "      <th>close</th>\n",
       "      <th>hat</th>\n",
       "      <th>dark_glasses</th>\n",
       "      <th>frames_heavy</th>\n",
       "      <th>...</th>\n",
       "      <th>sh_head</th>\n",
       "      <th>blurred</th>\n",
       "      <th>ink_mark</th>\n",
       "      <th>skin_tone</th>\n",
       "      <th>washed_out</th>\n",
       "      <th>pixelation</th>\n",
       "      <th>hair_eyes</th>\n",
       "      <th>background</th>\n",
       "      <th>red_eyes</th>\n",
       "      <th>aligned</th>\n",
       "    </tr>\n",
       "  </thead>\n",
       "  <tbody>\n",
       "    <tr>\n",
       "      <th>0</th>\n",
       "      <td>fvc</td>\n",
       "      <td>/home/guilherme/data1/Dropbox/Link to Desktop/...</td>\n",
       "      <td>1.0</td>\n",
       "      <td>1.0</td>\n",
       "      <td>1.0</td>\n",
       "      <td>1.0</td>\n",
       "      <td>1.0</td>\n",
       "      <td>1.0</td>\n",
       "      <td>1.0</td>\n",
       "      <td>1.0</td>\n",
       "      <td>...</td>\n",
       "      <td>0.0</td>\n",
       "      <td>1.0</td>\n",
       "      <td>1.0</td>\n",
       "      <td>1.0</td>\n",
       "      <td>1.0</td>\n",
       "      <td>1.0</td>\n",
       "      <td>1.0</td>\n",
       "      <td>1.0</td>\n",
       "      <td>1.0</td>\n",
       "      <td>False</td>\n",
       "    </tr>\n",
       "    <tr>\n",
       "      <th>1</th>\n",
       "      <td>fvc</td>\n",
       "      <td>/home/guilherme/data1/Dropbox/Link to Desktop/...</td>\n",
       "      <td>1.0</td>\n",
       "      <td>1.0</td>\n",
       "      <td>0.0</td>\n",
       "      <td>1.0</td>\n",
       "      <td>1.0</td>\n",
       "      <td>1.0</td>\n",
       "      <td>1.0</td>\n",
       "      <td>1.0</td>\n",
       "      <td>...</td>\n",
       "      <td>1.0</td>\n",
       "      <td>1.0</td>\n",
       "      <td>1.0</td>\n",
       "      <td>1.0</td>\n",
       "      <td>1.0</td>\n",
       "      <td>1.0</td>\n",
       "      <td>1.0</td>\n",
       "      <td>1.0</td>\n",
       "      <td>1.0</td>\n",
       "      <td>False</td>\n",
       "    </tr>\n",
       "    <tr>\n",
       "      <th>2</th>\n",
       "      <td>fvc</td>\n",
       "      <td>/home/guilherme/data1/Dropbox/Link to Desktop/...</td>\n",
       "      <td>0.0</td>\n",
       "      <td>1.0</td>\n",
       "      <td>1.0</td>\n",
       "      <td>1.0</td>\n",
       "      <td>1.0</td>\n",
       "      <td>1.0</td>\n",
       "      <td>1.0</td>\n",
       "      <td>1.0</td>\n",
       "      <td>...</td>\n",
       "      <td>1.0</td>\n",
       "      <td>1.0</td>\n",
       "      <td>1.0</td>\n",
       "      <td>1.0</td>\n",
       "      <td>1.0</td>\n",
       "      <td>1.0</td>\n",
       "      <td>1.0</td>\n",
       "      <td>1.0</td>\n",
       "      <td>1.0</td>\n",
       "      <td>False</td>\n",
       "    </tr>\n",
       "    <tr>\n",
       "      <th>3</th>\n",
       "      <td>fvc</td>\n",
       "      <td>/home/guilherme/data1/Dropbox/Link to Desktop/...</td>\n",
       "      <td>1.0</td>\n",
       "      <td>1.0</td>\n",
       "      <td>1.0</td>\n",
       "      <td>1.0</td>\n",
       "      <td>1.0</td>\n",
       "      <td>1.0</td>\n",
       "      <td>1.0</td>\n",
       "      <td>1.0</td>\n",
       "      <td>...</td>\n",
       "      <td>0.0</td>\n",
       "      <td>1.0</td>\n",
       "      <td>1.0</td>\n",
       "      <td>0.0</td>\n",
       "      <td>1.0</td>\n",
       "      <td>1.0</td>\n",
       "      <td>1.0</td>\n",
       "      <td>0.0</td>\n",
       "      <td>1.0</td>\n",
       "      <td>False</td>\n",
       "    </tr>\n",
       "    <tr>\n",
       "      <th>4</th>\n",
       "      <td>fvc</td>\n",
       "      <td>/home/guilherme/data1/Dropbox/Link to Desktop/...</td>\n",
       "      <td>1.0</td>\n",
       "      <td>1.0</td>\n",
       "      <td>1.0</td>\n",
       "      <td>1.0</td>\n",
       "      <td>1.0</td>\n",
       "      <td>1.0</td>\n",
       "      <td>1.0</td>\n",
       "      <td>1.0</td>\n",
       "      <td>...</td>\n",
       "      <td>0.0</td>\n",
       "      <td>1.0</td>\n",
       "      <td>1.0</td>\n",
       "      <td>0.0</td>\n",
       "      <td>1.0</td>\n",
       "      <td>1.0</td>\n",
       "      <td>1.0</td>\n",
       "      <td>0.0</td>\n",
       "      <td>1.0</td>\n",
       "      <td>False</td>\n",
       "    </tr>\n",
       "  </tbody>\n",
       "</table>\n",
       "<p>5 rows × 26 columns</p>\n",
       "</div>"
      ],
      "text/plain": [
       "  origin                                           img_name  mouth  rotation  \\\n",
       "0    fvc  /home/guilherme/data1/Dropbox/Link to Desktop/...    1.0       1.0   \n",
       "1    fvc  /home/guilherme/data1/Dropbox/Link to Desktop/...    1.0       1.0   \n",
       "2    fvc  /home/guilherme/data1/Dropbox/Link to Desktop/...    0.0       1.0   \n",
       "3    fvc  /home/guilherme/data1/Dropbox/Link to Desktop/...    1.0       1.0   \n",
       "4    fvc  /home/guilherme/data1/Dropbox/Link to Desktop/...    1.0       1.0   \n",
       "\n",
       "   l_away  eyes_closed  close  hat  dark_glasses  frames_heavy  ...  sh_head  \\\n",
       "0     1.0          1.0    1.0  1.0           1.0           1.0  ...      0.0   \n",
       "1     0.0          1.0    1.0  1.0           1.0           1.0  ...      1.0   \n",
       "2     1.0          1.0    1.0  1.0           1.0           1.0  ...      1.0   \n",
       "3     1.0          1.0    1.0  1.0           1.0           1.0  ...      0.0   \n",
       "4     1.0          1.0    1.0  1.0           1.0           1.0  ...      0.0   \n",
       "\n",
       "   blurred  ink_mark  skin_tone  washed_out  pixelation  hair_eyes  \\\n",
       "0      1.0       1.0        1.0         1.0         1.0        1.0   \n",
       "1      1.0       1.0        1.0         1.0         1.0        1.0   \n",
       "2      1.0       1.0        1.0         1.0         1.0        1.0   \n",
       "3      1.0       1.0        0.0         1.0         1.0        1.0   \n",
       "4      1.0       1.0        0.0         1.0         1.0        1.0   \n",
       "\n",
       "   background  red_eyes  aligned  \n",
       "0         1.0       1.0    False  \n",
       "1         1.0       1.0    False  \n",
       "2         1.0       1.0    False  \n",
       "3         0.0       1.0    False  \n",
       "4         0.0       1.0    False  \n",
       "\n",
       "[5 rows x 26 columns]"
      ]
     },
     "execution_count": 6,
     "metadata": {},
     "output_type": "execute_result"
    }
   ],
   "source": [
    "runner.train_data.head()"
   ]
  },
  {
   "cell_type": "raw",
   "metadata": {},
   "source": [
    "# <font color='red'>Producing Fake Data</font>"
   ]
  },
  {
   "cell_type": "raw",
   "metadata": {},
   "source": [
    "runner.produce_fake_data()"
   ]
  },
  {
   "cell_type": "markdown",
   "metadata": {},
   "source": [
    "# Data Generators"
   ]
  },
  {
   "cell_type": "code",
   "execution_count": 7,
   "metadata": {
    "tags": []
   },
   "outputs": [
    {
     "name": "stdout",
     "output_type": "stream",
     "text": [
      "-------------------- setup data generators -------------------\n",
      "Starting data generators\n",
      "Found 4928 validated image filenames.\n",
      "Found 547 validated image filenames.\n",
      "Found 288 validated image filenames.\n",
      "TOTAL: 5763\n",
      "\n",
      "Logging class indices\n",
      " .. MTL model not logging class indices!\n",
      "\n",
      "Logging class labels\n",
      " COMPLIANT label: 1\n",
      " NON_COMPLIANT label: 0\n",
      " DUMMY label: -1\n",
      " DUMMY_CLS label: 2\n",
      " NO_ANSWER label: -99\n"
     ]
    }
   ],
   "source": [
    "runner.setup_data_generators()"
   ]
  },
  {
   "cell_type": "markdown",
   "metadata": {},
   "source": [
    "# Setup Experiment"
   ]
  },
  {
   "cell_type": "code",
   "execution_count": 8,
   "metadata": {},
   "outputs": [
    {
     "name": "stdout",
     "output_type": "stream",
     "text": [
      "-------------------- create experiment -------------------\n",
      "Setting up neptune experiment\n",
      "Neptune experiment setup done!\n"
     ]
    }
   ],
   "source": [
    "runner.setup_experiment()"
   ]
  },
  {
   "cell_type": "markdown",
   "metadata": {},
   "source": [
    "# Labels Distribution"
   ]
  },
  {
   "cell_type": "code",
   "execution_count": 9,
   "metadata": {
    "tags": []
   },
   "outputs": [],
   "source": [
    "%%capture\n",
    "runner.summary_labels_dist()"
   ]
  },
  {
   "cell_type": "markdown",
   "metadata": {},
   "source": [
    "# Neural Architecture Search"
   ]
  },
  {
   "cell_type": "code",
   "execution_count": null,
   "metadata": {
    "tags": []
   },
   "outputs": [
    {
     "name": "stdout",
     "output_type": "stream",
     "text": [
      "-------------------- run neural architecture search -------------------\n",
      "----\n",
      "Checking model existence locally...\n",
      "Training a new model! Not checking model existence\n",
      "----\n",
      "------------------------------\n",
      "Checking GPU availability\n",
      " ..GPU is available!\n",
      "------------------------------\n",
      "------------------------------------------------------------------\n",
      "                       CONTROLLER EPOCH: 0\n",
      "------------------------------------------------------------------\n",
      "GENERATING ARCHITECTURE SAMPLES...\n",
      "------------------------------------------------------\n",
      "Sequence: [15, 19, 20]\n",
      " .Decoded seq: {'n_denses_2': 5, 'n_denses_3': 5}\n",
      " ..invalid sequence: less than 4 task groups!\n",
      "Sequence: [3, 11, 6, 13, 20]\n",
      " .Decoded seq: {'n_denses_2': 3, 'n_denses_1': 2, 'n_denses_0': 4, 'n_denses_3': 5}\n",
      "  ..valid sequence!\n",
      "Sequence: [9, 11, 19, 11, 20]\n",
      " .Decoded seq: {'n_denses_0': 3, 'n_denses_2': 3, 'n_denses_3': 5}\n",
      " ..invalid sequence: less than 4 task groups!\n",
      "Sequence: [9, 14, 14, 2, 20]\n",
      " .Decoded seq: {'n_denses_0': 3, 'n_denses_1': 1, 'n_denses_3': 5}\n",
      " ..invalid sequence: less than 4 task groups!\n",
      "Sequence: [13, 9, 5, 16, 20]\n",
      " .Decoded seq: {'n_denses_0': 2, 'n_denses_3': 5}\n",
      " ..invalid sequence: less than 4 task groups!\n",
      "Sequence: [7, 15, 10, 4, 20]\n",
      " .Decoded seq: {'n_denses_2': 4, 'n_denses_1': 3, 'n_denses_3': 5}\n",
      " ..invalid sequence: less than 4 task groups!\n",
      "Sequence: [9, 10, 15, 6, 20]\n",
      " .Decoded seq: {'n_denses_0': 3, 'n_denses_1': 2, 'n_denses_2': 4, 'n_denses_3': 5}\n",
      "  ..valid sequence!\n",
      "Sequence: [8, 18, 5, 5, 20]\n",
      " .Decoded seq: {'n_denses_3': 5, 'n_denses_1': 5, 'n_denses_0': 2}\n",
      " ..invalid sequence: less than 4 task groups!\n",
      "Sequence: [1, 6, 17, 1, 20]\n",
      " .Decoded seq: {'n_denses_0': 1, 'n_denses_1': 2, 'n_denses_3': 5}\n",
      " ..invalid sequence: less than 4 task groups!\n",
      "Sequence: [13, 20]\n",
      " .Decoded seq: {'n_denses_0': 4, 'n_denses_3': 5}\n",
      " ..invalid sequence: less than 4 task groups!\n",
      "Sequence: [14, 15, 17, 2, 20]\n",
      " .Decoded seq: {'n_denses_1': 1, 'n_denses_2': 4, 'n_denses_0': 5, 'n_denses_3': 5}\n",
      "  ..valid sequence!\n",
      " -- Architecture Number 0: {'n_denses_2': 3, 'n_denses_1': 2, 'n_denses_0': 4, 'n_denses_3': 5}\n",
      " -- Sequence: [3, 11, 6, 13, 20]\n",
      "Creating model...\n",
      "Model created\n",
      "Training MOBILENET_V2 network\n",
      " .. Not fine tuning base model...\n",
      "  .. Total params: 4,408,686\n",
      "  .. Trainable params: 2,150,702\n",
      "  .. Non-trainable params: 2,257,984\n",
      "\n",
      "Epoch 00001: val_loss improved from inf to 7.00539, saving model to training_ckpt/best_model.hdf5\n"
     ]
    },
    {
     "name": "stderr",
     "output_type": "stream",
     "text": [
      "/home/guilherme/data2/anaconda3/envs/icao_nets_training/lib/python3.8/site-packages/tensorflow/python/keras/utils/generic_utils.py:494: CustomMaskWarning: Custom mask layers require a config and must override get_config. When loading, the custom mask layer must be passed to the custom_objects argument.\n",
      "  warnings.warn('Custom mask layers require a config and must override '\n"
     ]
    }
   ],
   "source": [
    "best_archs_list = runner.run_neural_architecture_search_v2()"
   ]
  },
  {
   "cell_type": "markdown",
   "metadata": {},
   "source": [
    "# Create Model with Best Architecture Found"
   ]
  },
  {
   "cell_type": "code",
   "execution_count": null,
   "metadata": {},
   "outputs": [],
   "source": [
    "runner.create_model(best_archs_list[0]['Decoded architecture'])"
   ]
  },
  {
   "cell_type": "markdown",
   "metadata": {},
   "source": [
    "# Visualize Model"
   ]
  },
  {
   "cell_type": "code",
   "execution_count": null,
   "metadata": {
    "tags": []
   },
   "outputs": [],
   "source": [
    "%%capture\n",
    "runner.visualize_model(outfile_path=f\"figs/nas/nas_model_approach_1.png\")"
   ]
  },
  {
   "cell_type": "code",
   "execution_count": null,
   "metadata": {
    "tags": []
   },
   "outputs": [],
   "source": [
    "%%capture\n",
    "runner.model_summary()"
   ]
  },
  {
   "cell_type": "markdown",
   "metadata": {},
   "source": [
    "# Training Model"
   ]
  },
  {
   "cell_type": "code",
   "execution_count": null,
   "metadata": {
    "tags": []
   },
   "outputs": [],
   "source": [
    "runner.train_model()"
   ]
  },
  {
   "cell_type": "markdown",
   "metadata": {},
   "source": [
    "# Plots"
   ]
  },
  {
   "cell_type": "code",
   "execution_count": null,
   "metadata": {
    "tags": []
   },
   "outputs": [],
   "source": [
    "runner.draw_training_history()"
   ]
  },
  {
   "cell_type": "markdown",
   "metadata": {},
   "source": [
    "# Load Best Model"
   ]
  },
  {
   "cell_type": "code",
   "execution_count": null,
   "metadata": {},
   "outputs": [],
   "source": [
    "runner.load_best_model()"
   ]
  },
  {
   "cell_type": "markdown",
   "metadata": {},
   "source": [
    "# Saving Trained Model"
   ]
  },
  {
   "cell_type": "code",
   "execution_count": null,
   "metadata": {},
   "outputs": [],
   "source": [
    "runner.save_model()"
   ]
  },
  {
   "cell_type": "markdown",
   "metadata": {},
   "source": [
    "# Test Trained Model"
   ]
  },
  {
   "cell_type": "markdown",
   "metadata": {},
   "source": [
    "## Validation Split"
   ]
  },
  {
   "cell_type": "code",
   "execution_count": null,
   "metadata": {
    "tags": []
   },
   "outputs": [],
   "source": [
    "runner.set_model_evaluator_data_src(DataSource.VALIDATION)\n",
    "runner.test_model(verbose=False)"
   ]
  },
  {
   "cell_type": "markdown",
   "metadata": {},
   "source": [
    "## Test Split"
   ]
  },
  {
   "cell_type": "code",
   "execution_count": null,
   "metadata": {
    "tags": []
   },
   "outputs": [],
   "source": [
    "runner.set_model_evaluator_data_src(DataSource.TEST)\n",
    "runner.test_model(verbose=False)"
   ]
  },
  {
   "cell_type": "markdown",
   "metadata": {},
   "source": [
    "# Visualize Model Classification"
   ]
  },
  {
   "cell_type": "raw",
   "metadata": {},
   "source": [
    "runner.visualize_predictions()"
   ]
  },
  {
   "cell_type": "markdown",
   "metadata": {},
   "source": [
    "# Finishing Experiment Manager"
   ]
  },
  {
   "cell_type": "code",
   "execution_count": null,
   "metadata": {
    "tags": []
   },
   "outputs": [],
   "source": [
    "runner.finish_experiment()"
   ]
  }
 ],
 "metadata": {
  "interpreter": {
   "hash": "85f5044ba23e75135dc4c908fd4d7609c1c80b195047fdb4d16ee0e66a953254"
  },
  "kernelspec": {
   "display_name": "Python 3 (ipykernel)",
   "language": "python",
   "name": "python3"
  },
  "language_info": {
   "codemirror_mode": {
    "name": "ipython",
    "version": 3
   },
   "file_extension": ".py",
   "mimetype": "text/x-python",
   "name": "python",
   "nbconvert_exporter": "python",
   "pygments_lexer": "ipython3",
   "version": "3.8.0"
  },
  "toc-autonumbering": true
 },
 "nbformat": 4,
 "nbformat_minor": 4
}

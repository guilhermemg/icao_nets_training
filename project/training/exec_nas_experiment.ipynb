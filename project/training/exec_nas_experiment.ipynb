{
 "cells": [
  {
   "cell_type": "markdown",
   "metadata": {},
   "source": [
    "# Import Libraries"
   ]
  },
  {
   "cell_type": "code",
   "execution_count": 1,
   "metadata": {},
   "outputs": [],
   "source": [
    "%load_ext autoreload\n",
    "%autoreload 2"
   ]
  },
  {
   "cell_type": "code",
   "execution_count": 2,
   "metadata": {},
   "outputs": [],
   "source": [
    "import os\n",
    "os.environ['NEPTUNE_API_TOKEN']=\"eyJhcGlfYWRkcmVzcyI6Imh0dHBzOi8vYXBwLm5lcHR1bmUuYWkiLCJhcGlfdXJsIjoiaHR0cHM6Ly9hcHAubmVwdHVuZS5haSIsImFwaV9rZXkiOiI5NDc0ZmNhNi0wODFlLTRhYTktYjgwZS01MWJkMDMxNWJhNTAifQ==\"\n",
    "os.environ['NEPTUNE_PROJECT']=\"guilhermemg/icao-nets-training-2\"\n",
    "os.environ['NEPTUNE_NOTEBOOK_ID']=\"98a391a1-c710-40bd-aaf4-42c31862cbbe\"\n",
    "os.environ['NEPTUNE_NOTEBOOK_PATH']=\"training/exec_nas_experiment.ipynb\""
   ]
  },
  {
   "cell_type": "code",
   "execution_count": 3,
   "metadata": {},
   "outputs": [],
   "source": [
    "import os\n",
    "# disable tensorflow log level infos\n",
    "os.environ['TF_CPP_MIN_LOG_LEVEL'] = '2' # show only errors\n",
    "\n",
    "import sys\n",
    "import pandas as pd\n",
    "\n",
    "if '..' not in sys.path:\n",
    "    sys.path.insert(0, '..')"
   ]
  },
  {
   "cell_type": "code",
   "execution_count": 4,
   "metadata": {
    "tags": []
   },
   "outputs": [
    {
     "name": "stdout",
     "output_type": "stream",
     "text": [
      " ==> Restrict GPU memory growth: True\n"
     ]
    }
   ],
   "source": [
    "from src.m_utils import constants as cts\n",
    "from src.base.data_loaders.data_loader import DLName\n",
    "from src.base.gt_loaders.gt_names import GTName\n",
    "from src.exp_runner import ExperimentRunner\n",
    "\n",
    "from src.base.experiment.dataset.dataset import Dataset\n",
    "from src.base.experiment.evaluation.model_evaluator import DataSource, DataPredSelection\n",
    "from src.base.experiment.training.base_models import BaseModel\n",
    "from src.base.experiment.training.optimizers import Optimizer\n",
    "\n",
    "from src.m_utils.stl_approach import STLApproach\n",
    "from src.m_utils.mtl_approach import MTLApproach\n",
    "from src.m_utils.nas_mtl_approach import NAS_MTLApproach"
   ]
  },
  {
   "cell_type": "markdown",
   "metadata": {},
   "source": [
    "# Start Network runner"
   ]
  },
  {
   "cell_type": "code",
   "execution_count": 5,
   "metadata": {
    "tags": []
   },
   "outputs": [
    {
     "name": "stdout",
     "output_type": "stream",
     "text": [
      "-------------------- Init ExperimentRunner -------------------\n",
      "---------------------------\n",
      "Parent Process ID: 108884\n",
      "Process ID: 111225\n",
      "---------------------------\n",
      "-----\n",
      "Use Neptune:  True\n",
      "-----\n",
      "-------------------\n",
      "Args: \n",
      "{'controller_params': {'controller_decay': 0.1,\n",
      "                       'controller_learning_rate': 0.01,\n",
      "                       'controller_lstm_dim': 100,\n",
      "                       'controller_momentum': 0.0,\n",
      "                       'controller_optimizer': <Optimizer.ADAM: 'Adam'>,\n",
      "                       'controller_use_predictor': True},\n",
      " 'exp_params': {'description': 'NAS with Approach 2 Fixed',\n",
      "                'name': 'neural_arch_search',\n",
      "                'src_files': ['../src/**/*.py'],\n",
      "                'tags': ['fvc_icao', 'refac_properties', 'stl']},\n",
      " 'mlp_params': {'max_architecture_length': 5,\n",
      "                'min_task_group_size': 3,\n",
      "                'mlp_base_model': <BaseModel.MOBILENET_V2: {'name': 'mobilnet_v2', 'target_size': (224, 224), 'prep_function': <function preprocess_input at 0x7f5069d90b80>}>,\n",
      "                'mlp_batch_size': 64,\n",
      "                'mlp_decay': 0.0,\n",
      "                'mlp_dropout': 0.3,\n",
      "                'mlp_early_stopping': 50,\n",
      "                'mlp_learning_rate': 0.001,\n",
      "                'mlp_loss_function': 'sparse_categorical_crossentropy',\n",
      "                'mlp_momentum': 0.0,\n",
      "                'mlp_n_epochs': 50,\n",
      "                'mlp_one_shot': True,\n",
      "                'mlp_optimizer': <Optimizer.ADAMAX: 'Adamax'>},\n",
      " 'nas_params': {'architecture_training_epochs': 2,\n",
      "                'controller_loss_alpha': 0.9,\n",
      "                'controller_sampling_epochs': 2,\n",
      "                'controller_training_epochs': 5,\n",
      "                'samples_per_controller_epochs': 3},\n",
      " 'properties': {'approach': <STLApproach.STL: 'stl'>,\n",
      "                'balance_input_data': False,\n",
      "                'dataset': <Dataset.FVC_ICAO: {'name': 'fvc_icao', 'target_cols': ['mouth', 'rotation', 'l_away', 'eyes_closed', 'close', 'hat', 'dark_glasses', 'frames_heavy', 'frame_eyes', 'flash_lenses', 'veil', 'reflection', 'light', 'sh_face', 'sh_head', 'blurred', 'ink_mark', 'skin_tone', 'washed_out', 'pixelation', 'hair_eyes', 'background', 'red_eyes'], 'tasks': [<ICAO_REQ.MOUTH: 'mouth'>, <ICAO_REQ.ROTATION: 'rotation'>, <ICAO_REQ.L_AWAY: 'l_away'>, <ICAO_REQ.EYES_CLOSED: 'eyes_closed'>, <ICAO_REQ.CLOSE: 'close'>, <ICAO_REQ.HAT: 'hat'>, <ICAO_REQ.DARK_GLASSES: 'dark_glasses'>, <ICAO_REQ.FRAMES_HEAVY: 'frames_heavy'>, <ICAO_REQ.FRAME_EYES: 'frame_eyes'>, <ICAO_REQ.FLASH_LENSES: 'flash_lenses'>, <ICAO_REQ.VEIL: 'veil'>, <ICAO_REQ.REFLECTION: 'reflection'>, <ICAO_REQ.LIGHT: 'light'>, <ICAO_REQ.SHADOW_FACE: 'sh_face'>, <ICAO_REQ.SHADOW_HEAD: 'sh_head'>, <ICAO_REQ.BLURRED: 'blurred'>, <ICAO_REQ.INK_MARK: 'ink_mark'>, <ICAO_REQ.SKIN_TONE: 'skin_tone'>, <ICAO_REQ.WASHED_OUT: 'washed_out'>, <ICAO_REQ.PIXELATION: 'pixelation'>, <ICAO_REQ.HAIR_EYES: 'hair_eyes'>, <ICAO_REQ.BACKGROUND: 'background'>, <ICAO_REQ.RED_EYES: 'red_eyes'>]}>,\n",
      "                'exec_nas': False,\n",
      "                'orig_model_experiment_id': '',\n",
      "                'sample_prop': 1.0,\n",
      "                'sample_training_data': False,\n",
      "                'save_trained_model': True,\n",
      "                'tasks': [<ICAO_REQ.EYES_CLOSED: 'eyes_closed'>],\n",
      "                'train_model': True},\n",
      " 'use_neptune': True}\n",
      "-------------------\n",
      "----\n",
      "Base Model Name:  BaseModel.MOBILENET_V2\n",
      "----\n",
      "MTL Model: False\n",
      "Approach: STLApproach.STL\n",
      "NAS MTL Model: False\n",
      "----\n",
      "--------------------  starting neptune  -------------------\n",
      "Starting Neptune\n",
      "https://app.neptune.ai/guilhermemg/icao-nets-training-2/e/ICAO-428\n",
      "Remember to stop your run once you’ve finished logging your metadata (https://docs.neptune.ai/api-reference/run#.stop). It will be stopped automatically only when the notebook kernel/interactive console is terminated.\n",
      "----\n",
      "----\n",
      "Checking model existence locally...\n",
      "Training a new model! Not checking model existence\n",
      "----\n",
      "------------------------------\n",
      "Checking GPU availability\n",
      " ..GPU is available!\n",
      "------------------------------\n"
     ]
    }
   ],
   "source": [
    "DATASET = Dataset.FVC_ICAO\n",
    "#APPROACH = NAS_MTLApproach.APPROACH_2\n",
    "APPROACH = STLApproach.STL\n",
    "\n",
    "kwargs = { \n",
    "    'use_neptune': True,\n",
    "    'exp_params' : {\n",
    "        'name': 'neural_arch_search',\n",
    "        'description': 'NAS with Approach 2 Fixed',\n",
    "        'tags': [f'{DATASET.value[\"name\"]}', 'refac_properties', 'stl'],\n",
    "        'src_files': [\"../src/**/*.py\"]\n",
    "    },\n",
    "    'properties': {\n",
    "        'approach': APPROACH,\n",
    "        'dataset': DATASET,\n",
    "        'tasks': [DATASET.value['tasks'][3]],\n",
    "        'balance_input_data': False,\n",
    "        'train_model': True,\n",
    "        'save_trained_model': True,\n",
    "        'exec_nas': False,\n",
    "        'orig_model_experiment_id': '',\n",
    "        'sample_training_data': False,\n",
    "        'sample_prop': 1.0\n",
    "    },\n",
    "    'nas_params': {\n",
    "        #'max_blocks_per_branch': 5,\n",
    "        #'n_child_epochs': N_CHILD_EPOCHS,\n",
    "        #'controller_epochs': CONTROLLER_EPOCHS,\n",
    "        #'controller_batch_size': 64,\n",
    "        #'n_trials': N_TRIALS,\n",
    "\n",
    "        'controller_sampling_epochs': 2,\n",
    "        'samples_per_controller_epochs': 3,\n",
    "        'controller_training_epochs': 5,\n",
    "        'architecture_training_epochs': 2,\n",
    "        'controller_loss_alpha': 0.9\n",
    "    },\n",
    "    'controller_params': {\n",
    "        'controller_lstm_dim': 100,\n",
    "        'controller_optimizer': Optimizer.ADAM,\n",
    "        'controller_learning_rate': 0.01,\n",
    "        'controller_decay': 0.1,\n",
    "        'controller_momentum': 0.0,\n",
    "        'controller_use_predictor': True\n",
    "    },\n",
    "    'mlp_params': {\n",
    "        'max_architecture_length': 5,\n",
    "        'min_task_group_size': 3,\n",
    "        'mlp_base_model': BaseModel.MOBILENET_V2,\n",
    "        'mlp_n_epochs': 50,\n",
    "        'mlp_batch_size': 64,\n",
    "        'mlp_early_stopping': 50,\n",
    "        'mlp_optimizer': Optimizer.ADAMAX,\n",
    "        'mlp_learning_rate': 1e-3,\n",
    "        'mlp_decay': 0.0,\n",
    "        'mlp_momentum': 0.0,\n",
    "        'mlp_dropout': 0.3,\n",
    "        'mlp_loss_function': 'sparse_categorical_crossentropy',\n",
    "        'mlp_one_shot': True\n",
    "    }\n",
    "}\n",
    "\n",
    "\n",
    "runner = ExperimentRunner(**kwargs)"
   ]
  },
  {
   "cell_type": "markdown",
   "metadata": {},
   "source": [
    "# Load Data"
   ]
  },
  {
   "cell_type": "code",
   "execution_count": 6,
   "metadata": {
    "tags": []
   },
   "outputs": [
    {
     "name": "stdout",
     "output_type": "stream",
     "text": [
      "-------------------- load training data -------------------\n",
      "Loading data\n",
      "Loading GT FVC - TRAIN split...\n",
      "..Ignoring 0 empty label values\n",
      "Input data.shape: (4928, 4)\n",
      "Loading GT FVC - VALIDATION split...\n",
      "..Ignoring 0 empty label values\n",
      "Input data.shape: (547, 4)\n",
      "Loading GT FVC - TEST split...\n",
      "..Ignoring 0 empty label values\n",
      "Input data.shape: (288, 4)\n",
      "Data loaded\n"
     ]
    }
   ],
   "source": [
    "runner.load_training_data()"
   ]
  },
  {
   "cell_type": "code",
   "execution_count": 7,
   "metadata": {
    "tags": []
   },
   "outputs": [
    {
     "data": {
      "text/html": [
       "<div>\n",
       "<style scoped>\n",
       "    .dataframe tbody tr th:only-of-type {\n",
       "        vertical-align: middle;\n",
       "    }\n",
       "\n",
       "    .dataframe tbody tr th {\n",
       "        vertical-align: top;\n",
       "    }\n",
       "\n",
       "    .dataframe thead th {\n",
       "        text-align: right;\n",
       "    }\n",
       "</style>\n",
       "<table border=\"1\" class=\"dataframe\">\n",
       "  <thead>\n",
       "    <tr style=\"text-align: right;\">\n",
       "      <th></th>\n",
       "      <th>origin</th>\n",
       "      <th>img_name</th>\n",
       "      <th>eyes_closed</th>\n",
       "      <th>aligned</th>\n",
       "    </tr>\n",
       "  </thead>\n",
       "  <tbody>\n",
       "    <tr>\n",
       "      <th>0</th>\n",
       "      <td>fvc</td>\n",
       "      <td>/home/guilherme/data1/Dropbox/Link to Desktop/...</td>\n",
       "      <td>1</td>\n",
       "      <td>False</td>\n",
       "    </tr>\n",
       "    <tr>\n",
       "      <th>1</th>\n",
       "      <td>fvc</td>\n",
       "      <td>/home/guilherme/data1/Dropbox/Link to Desktop/...</td>\n",
       "      <td>1</td>\n",
       "      <td>False</td>\n",
       "    </tr>\n",
       "    <tr>\n",
       "      <th>2</th>\n",
       "      <td>fvc</td>\n",
       "      <td>/home/guilherme/data1/Dropbox/Link to Desktop/...</td>\n",
       "      <td>1</td>\n",
       "      <td>False</td>\n",
       "    </tr>\n",
       "    <tr>\n",
       "      <th>3</th>\n",
       "      <td>fvc</td>\n",
       "      <td>/home/guilherme/data1/Dropbox/Link to Desktop/...</td>\n",
       "      <td>1</td>\n",
       "      <td>False</td>\n",
       "    </tr>\n",
       "    <tr>\n",
       "      <th>4</th>\n",
       "      <td>fvc</td>\n",
       "      <td>/home/guilherme/data1/Dropbox/Link to Desktop/...</td>\n",
       "      <td>1</td>\n",
       "      <td>False</td>\n",
       "    </tr>\n",
       "  </tbody>\n",
       "</table>\n",
       "</div>"
      ],
      "text/plain": [
       "  origin                                           img_name eyes_closed  \\\n",
       "0    fvc  /home/guilherme/data1/Dropbox/Link to Desktop/...           1   \n",
       "1    fvc  /home/guilherme/data1/Dropbox/Link to Desktop/...           1   \n",
       "2    fvc  /home/guilherme/data1/Dropbox/Link to Desktop/...           1   \n",
       "3    fvc  /home/guilherme/data1/Dropbox/Link to Desktop/...           1   \n",
       "4    fvc  /home/guilherme/data1/Dropbox/Link to Desktop/...           1   \n",
       "\n",
       "  aligned  \n",
       "0   False  \n",
       "1   False  \n",
       "2   False  \n",
       "3   False  \n",
       "4   False  "
      ]
     },
     "execution_count": 7,
     "metadata": {},
     "output_type": "execute_result"
    }
   ],
   "source": [
    "runner.train_data.head()"
   ]
  },
  {
   "cell_type": "raw",
   "metadata": {},
   "source": [
    "# <font color='red'>Producing Fake Data</font>"
   ]
  },
  {
   "cell_type": "raw",
   "metadata": {},
   "source": [
    "runner.produce_fake_data()"
   ]
  },
  {
   "cell_type": "markdown",
   "metadata": {},
   "source": [
    "# Data Generators"
   ]
  },
  {
   "cell_type": "code",
   "execution_count": 8,
   "metadata": {
    "tags": []
   },
   "outputs": [
    {
     "name": "stdout",
     "output_type": "stream",
     "text": [
      "-------------------- setup data generators -------------------\n",
      "Starting data generators\n",
      "Found 4928 validated image filenames belonging to 2 classes.\n",
      "Found 547 validated image filenames belonging to 2 classes.\n",
      "Found 288 validated image filenames belonging to 2 classes.\n",
      "TOTAL: 5763\n",
      "\n",
      "Logging class indices\n",
      " ..Train Generator: {'0': 0, '1': 1}\n",
      " ..Valid Generator: {'0': 0, '1': 1}\n",
      " ..Test Generator: {'0': 0, '1': 1}\n",
      "\n",
      "Logging class labels\n",
      " COMPLIANT label: 1\n",
      " NON_COMPLIANT label: 0\n",
      " DUMMY label: -1\n",
      " DUMMY_CLS label: 2\n",
      " NO_ANSWER label: -99\n"
     ]
    }
   ],
   "source": [
    "runner.setup_data_generators()"
   ]
  },
  {
   "cell_type": "markdown",
   "metadata": {},
   "source": [
    "# Setup Experiment"
   ]
  },
  {
   "cell_type": "code",
   "execution_count": 9,
   "metadata": {},
   "outputs": [
    {
     "name": "stdout",
     "output_type": "stream",
     "text": [
      "-------------------- create experiment -------------------\n",
      "Setting up neptune experiment\n",
      "Neptune experiment setup done!\n"
     ]
    }
   ],
   "source": [
    "runner.setup_experiment()"
   ]
  },
  {
   "cell_type": "markdown",
   "metadata": {},
   "source": [
    "# Labels Distribution"
   ]
  },
  {
   "cell_type": "code",
   "execution_count": 10,
   "metadata": {
    "tags": []
   },
   "outputs": [],
   "source": [
    "%%capture\n",
    "runner.summary_labels_dist()"
   ]
  },
  {
   "cell_type": "markdown",
   "metadata": {},
   "source": [
    "# Neural Architecture Search"
   ]
  },
  {
   "cell_type": "code",
   "execution_count": 11,
   "metadata": {
    "tags": []
   },
   "outputs": [
    {
     "name": "stdout",
     "output_type": "stream",
     "text": [
      "-------------------- run neural architecture search -------------------\n",
      "Not executing neural architecture search\n"
     ]
    }
   ],
   "source": [
    "best_archs_list = runner.run_neural_architecture_search_v2()"
   ]
  },
  {
   "cell_type": "markdown",
   "metadata": {
    "tags": []
   },
   "source": [
    "# Create Model with Best Architecture Found"
   ]
  },
  {
   "cell_type": "code",
   "execution_count": 12,
   "metadata": {},
   "outputs": [],
   "source": [
    "#best_arch = {'n_denses_0':2,'n_denses_1':2,'n_denses_2':2,'n_denses_3':2}\n",
    "best_arch = best_archs_list[0]['Decoded architecture'] if best_archs_list is not None else None"
   ]
  },
  {
   "cell_type": "code",
   "execution_count": 13,
   "metadata": {},
   "outputs": [
    {
     "name": "stdout",
     "output_type": "stream",
     "text": [
      "-------------------- create model -------------------\n",
      "Creating model...\n",
      "Model created\n"
     ]
    }
   ],
   "source": [
    "runner.create_model(best_arch)"
   ]
  },
  {
   "cell_type": "markdown",
   "metadata": {},
   "source": [
    "# Visualize Model"
   ]
  },
  {
   "cell_type": "code",
   "execution_count": 14,
   "metadata": {
    "tags": []
   },
   "outputs": [],
   "source": [
    "%%capture\n",
    "runner.visualize_model(outfile_path=f\"figs/nas/nas_model_{APPROACH.name}.png\")"
   ]
  },
  {
   "cell_type": "code",
   "execution_count": 15,
   "metadata": {
    "tags": []
   },
   "outputs": [],
   "source": [
    "%%capture\n",
    "runner.model_summary()"
   ]
  },
  {
   "cell_type": "markdown",
   "metadata": {},
   "source": [
    "# Training Model"
   ]
  },
  {
   "cell_type": "code",
   "execution_count": 16,
   "metadata": {
    "tags": []
   },
   "outputs": [
    {
     "name": "stdout",
     "output_type": "stream",
     "text": [
      "-------------------- train model -------------------\n",
      "Training MOBILENET_V2 network\n",
      " .. Not fine tuning base model...\n",
      "  .. Total params: 10,286,530\n",
      "  .. Trainable params: 8,028,546\n",
      "  .. Non-trainable params: 2,257,984\n",
      "Epoch 1/50\n",
      "77/77 [==============================] - 410s 5s/step - loss: 0.2874 - accuracy: 0.8750 - val_loss: 1.1918 - val_accuracy: 0.8496\n",
      "\n",
      "Epoch 00001: val_loss improved from inf to 1.19182, saving model to training_ckpt/best_model.hdf5\n"
     ]
    },
    {
     "name": "stderr",
     "output_type": "stream",
     "text": [
      "/home/guilherme/data2/anaconda3/envs/icao_nets_training/lib/python3.8/site-packages/tensorflow/python/keras/utils/generic_utils.py:494: CustomMaskWarning: Custom mask layers require a config and must override get_config. When loading, the custom mask layer must be passed to the custom_objects argument.\n",
      "  warnings.warn('Custom mask layers require a config and must override '\n"
     ]
    },
    {
     "name": "stdout",
     "output_type": "stream",
     "text": [
      "Epoch 2/50\n",
      "77/77 [==============================] - 392s 5s/step - loss: 0.1957 - accuracy: 0.9600 - val_loss: 0.8474 - val_accuracy: 0.8789\n",
      "\n",
      "Epoch 00002: val_loss improved from 1.19182 to 0.84735, saving model to training_ckpt/best_model.hdf5\n",
      "Epoch 3/50\n",
      "77/77 [==============================] - 375s 5s/step - loss: 0.1764 - accuracy: 0.9704 - val_loss: 0.8273 - val_accuracy: 0.8867\n",
      "\n",
      "Epoch 00003: val_loss improved from 0.84735 to 0.82729, saving model to training_ckpt/best_model.hdf5\n",
      "Epoch 4/50\n",
      "77/77 [==============================] - 382s 5s/step - loss: 0.1672 - accuracy: 0.9775 - val_loss: 0.4924 - val_accuracy: 0.9238\n",
      "\n",
      "Epoch 00004: val_loss improved from 0.82729 to 0.49239, saving model to training_ckpt/best_model.hdf5\n",
      "Epoch 5/50\n",
      "77/77 [==============================] - 403s 5s/step - loss: 0.1576 - accuracy: 0.9783 - val_loss: 0.4453 - val_accuracy: 0.9688\n",
      "\n",
      "Epoch 00005: val_loss improved from 0.49239 to 0.44527, saving model to training_ckpt/best_model.hdf5\n",
      "Epoch 6/50\n",
      "77/77 [==============================] - 381s 5s/step - loss: 0.1426 - accuracy: 0.9846 - val_loss: 0.4462 - val_accuracy: 0.9707\n",
      "\n",
      "Epoch 00006: val_loss did not improve from 0.44527\n",
      "Epoch 7/50\n",
      "77/77 [==============================] - 382s 5s/step - loss: 0.1410 - accuracy: 0.9834 - val_loss: 0.4633 - val_accuracy: 0.9707\n",
      "\n",
      "Epoch 00007: val_loss did not improve from 0.44527\n",
      "Epoch 8/50\n",
      "77/77 [==============================] - 404s 5s/step - loss: 0.1359 - accuracy: 0.9846 - val_loss: 0.2509 - val_accuracy: 0.9727\n",
      "\n",
      "Epoch 00008: val_loss improved from 0.44527 to 0.25092, saving model to training_ckpt/best_model.hdf5\n",
      "Epoch 9/50\n",
      "77/77 [==============================] - 390s 5s/step - loss: 0.1240 - accuracy: 0.9856 - val_loss: 0.2903 - val_accuracy: 0.9766\n",
      "\n",
      "Epoch 00009: val_loss did not improve from 0.25092\n",
      "Epoch 10/50\n",
      "77/77 [==============================] - 404s 5s/step - loss: 0.1134 - accuracy: 0.9894 - val_loss: 0.4649 - val_accuracy: 0.9707\n",
      "\n",
      "Epoch 00010: val_loss did not improve from 0.25092\n",
      "Epoch 11/50\n",
      "77/77 [==============================] - 402s 5s/step - loss: 0.1109 - accuracy: 0.9888 - val_loss: 0.4158 - val_accuracy: 0.9707\n",
      "\n",
      "Epoch 00011: val_loss did not improve from 0.25092\n",
      "Epoch 12/50\n",
      "77/77 [==============================] - 383s 5s/step - loss: 0.1045 - accuracy: 0.9911 - val_loss: 0.4451 - val_accuracy: 0.9766\n",
      "\n",
      "Epoch 00012: val_loss did not improve from 0.25092\n",
      "Epoch 13/50\n",
      "77/77 [==============================] - 365s 5s/step - loss: 0.0951 - accuracy: 0.9915 - val_loss: 0.7126 - val_accuracy: 0.9551\n",
      "\n",
      "Epoch 00013: val_loss did not improve from 0.25092\n",
      "Epoch 14/50\n",
      "77/77 [==============================] - 355s 5s/step - loss: 0.0972 - accuracy: 0.9901 - val_loss: 0.5309 - val_accuracy: 0.9629\n",
      "\n",
      "Epoch 00014: val_loss did not improve from 0.25092\n",
      "Epoch 15/50\n",
      "77/77 [==============================] - 354s 5s/step - loss: 0.0883 - accuracy: 0.9911 - val_loss: 0.3669 - val_accuracy: 0.9766\n",
      "\n",
      "Epoch 00015: val_loss did not improve from 0.25092\n",
      "Epoch 16/50\n",
      "77/77 [==============================] - 346s 4s/step - loss: 0.0870 - accuracy: 0.9886 - val_loss: 0.5165 - val_accuracy: 0.9785\n",
      "\n",
      "Epoch 00016: val_loss did not improve from 0.25092\n",
      "Epoch 17/50\n",
      "77/77 [==============================] - 343s 4s/step - loss: 0.0840 - accuracy: 0.9886 - val_loss: 0.3070 - val_accuracy: 0.9805\n",
      "\n",
      "Epoch 00017: val_loss did not improve from 0.25092\n",
      "Epoch 18/50\n",
      "77/77 [==============================] - 344s 4s/step - loss: 0.0768 - accuracy: 0.9921 - val_loss: 0.3899 - val_accuracy: 0.9766\n",
      "\n",
      "Epoch 00018: val_loss did not improve from 0.25092\n",
      "Epoch 19/50\n",
      "77/77 [==============================] - 344s 4s/step - loss: 0.0623 - accuracy: 0.9968 - val_loss: 0.4910 - val_accuracy: 0.9785\n",
      "\n",
      "Epoch 00019: val_loss did not improve from 0.25092\n",
      "Epoch 20/50\n",
      "77/77 [==============================] - 343s 4s/step - loss: 0.0703 - accuracy: 0.9911 - val_loss: 0.3243 - val_accuracy: 0.9785\n",
      "\n",
      "Epoch 00020: val_loss did not improve from 0.25092\n",
      "Epoch 21/50\n",
      "77/77 [==============================] - 346s 4s/step - loss: 0.0652 - accuracy: 0.9921 - val_loss: 0.4363 - val_accuracy: 0.9805\n",
      "\n",
      "Epoch 00021: val_loss did not improve from 0.25092\n",
      "Epoch 22/50\n",
      "77/77 [==============================] - 343s 4s/step - loss: 0.0565 - accuracy: 0.9943 - val_loss: 0.3292 - val_accuracy: 0.9805\n",
      "\n",
      "Epoch 00022: val_loss did not improve from 0.25092\n",
      "Epoch 23/50\n",
      "77/77 [==============================] - 352s 5s/step - loss: 0.0623 - accuracy: 0.9905 - val_loss: 0.6435 - val_accuracy: 0.9629\n",
      "\n",
      "Epoch 00023: val_loss did not improve from 0.25092\n",
      "Epoch 24/50\n",
      "77/77 [==============================] - 353s 5s/step - loss: 0.0521 - accuracy: 0.9941 - val_loss: 0.3984 - val_accuracy: 0.9688\n",
      "\n",
      "Epoch 00024: val_loss did not improve from 0.25092\n",
      "Epoch 25/50\n",
      "77/77 [==============================] - 352s 5s/step - loss: 0.0455 - accuracy: 0.9966 - val_loss: 0.4534 - val_accuracy: 0.9785\n",
      "\n",
      "Epoch 00025: val_loss did not improve from 0.25092\n",
      "Epoch 26/50\n",
      "77/77 [==============================] - 345s 4s/step - loss: 0.0448 - accuracy: 0.9955 - val_loss: 0.3617 - val_accuracy: 0.9785\n",
      "\n",
      "Epoch 00026: val_loss did not improve from 0.25092\n",
      "Epoch 27/50\n",
      "77/77 [==============================] - 342s 4s/step - loss: 0.0389 - accuracy: 0.9970 - val_loss: 0.4004 - val_accuracy: 0.9746\n",
      "\n",
      "Epoch 00027: val_loss did not improve from 0.25092\n",
      "Epoch 28/50\n",
      "77/77 [==============================] - 337s 4s/step - loss: 0.0405 - accuracy: 0.9955 - val_loss: 0.6413 - val_accuracy: 0.9668\n",
      "\n",
      "Epoch 00028: val_loss did not improve from 0.25092\n",
      "Epoch 29/50\n",
      "77/77 [==============================] - 338s 4s/step - loss: 0.0372 - accuracy: 0.9966 - val_loss: 0.6776 - val_accuracy: 0.9688\n",
      "\n",
      "Epoch 00029: val_loss did not improve from 0.25092\n",
      "Epoch 30/50\n",
      "77/77 [==============================] - 338s 4s/step - loss: 0.0361 - accuracy: 0.9957 - val_loss: 0.5163 - val_accuracy: 0.9727\n",
      "\n",
      "Epoch 00030: val_loss did not improve from 0.25092\n",
      "Epoch 31/50\n",
      "77/77 [==============================] - 338s 4s/step - loss: 0.0346 - accuracy: 0.9961 - val_loss: 0.6586 - val_accuracy: 0.9707\n",
      "\n",
      "Epoch 00031: val_loss did not improve from 0.25092\n",
      "Epoch 32/50\n",
      "77/77 [==============================] - 338s 4s/step - loss: 0.0311 - accuracy: 0.9970 - val_loss: 0.8579 - val_accuracy: 0.9648\n",
      "\n",
      "Epoch 00032: val_loss did not improve from 0.25092\n",
      "Epoch 33/50\n",
      "77/77 [==============================] - 339s 4s/step - loss: 0.0352 - accuracy: 0.9955 - val_loss: 1.2491 - val_accuracy: 0.9629\n",
      "\n",
      "Epoch 00033: val_loss did not improve from 0.25092\n",
      "Epoch 34/50\n",
      "77/77 [==============================] - 343s 4s/step - loss: 0.0285 - accuracy: 0.9974 - val_loss: 0.9045 - val_accuracy: 0.9648\n",
      "\n",
      "Epoch 00034: val_loss did not improve from 0.25092\n",
      "Epoch 35/50\n",
      "77/77 [==============================] - 342s 4s/step - loss: 0.0294 - accuracy: 0.9963 - val_loss: 0.7132 - val_accuracy: 0.9688\n",
      "\n",
      "Epoch 00035: val_loss did not improve from 0.25092\n",
      "Epoch 36/50\n",
      "77/77 [==============================] - 339s 4s/step - loss: 0.0344 - accuracy: 0.9945 - val_loss: 0.6448 - val_accuracy: 0.9727\n",
      "\n",
      "Epoch 00036: val_loss did not improve from 0.25092\n",
      "Epoch 37/50\n",
      "77/77 [==============================] - 339s 4s/step - loss: 0.0258 - accuracy: 0.9968 - val_loss: 0.6317 - val_accuracy: 0.9688\n",
      "\n",
      "Epoch 00037: val_loss did not improve from 0.25092\n",
      "Epoch 38/50\n",
      "77/77 [==============================] - 340s 4s/step - loss: 0.0215 - accuracy: 0.9974 - val_loss: 0.7147 - val_accuracy: 0.9707\n",
      "\n",
      "Epoch 00038: val_loss did not improve from 0.25092\n",
      "Epoch 39/50\n",
      "77/77 [==============================] - 339s 4s/step - loss: 0.0282 - accuracy: 0.9959 - val_loss: 0.6378 - val_accuracy: 0.9727\n",
      "\n",
      "Epoch 00039: val_loss did not improve from 0.25092\n",
      "Epoch 40/50\n",
      "77/77 [==============================] - 339s 4s/step - loss: 0.0293 - accuracy: 0.9955 - val_loss: 0.6442 - val_accuracy: 0.9668\n",
      "\n",
      "Epoch 00040: val_loss did not improve from 0.25092\n",
      "Epoch 41/50\n",
      "77/77 [==============================] - 340s 4s/step - loss: 0.0204 - accuracy: 0.9978 - val_loss: 0.7801 - val_accuracy: 0.9648\n",
      "\n",
      "Epoch 00041: val_loss did not improve from 0.25092\n",
      "Epoch 42/50\n",
      "77/77 [==============================] - 341s 4s/step - loss: 0.0226 - accuracy: 0.9966 - val_loss: 0.6441 - val_accuracy: 0.9746\n",
      "\n",
      "Epoch 00042: val_loss did not improve from 0.25092\n",
      "Epoch 43/50\n",
      "77/77 [==============================] - 339s 4s/step - loss: 0.0177 - accuracy: 0.9986 - val_loss: 0.4791 - val_accuracy: 0.9707\n",
      "\n",
      "Epoch 00043: val_loss did not improve from 0.25092\n",
      "Epoch 44/50\n",
      "77/77 [==============================] - 339s 4s/step - loss: 0.0196 - accuracy: 0.9963 - val_loss: 0.4753 - val_accuracy: 0.9707\n",
      "\n",
      "Epoch 00044: val_loss did not improve from 0.25092\n",
      "Epoch 45/50\n",
      "77/77 [==============================] - 339s 4s/step - loss: 0.0186 - accuracy: 0.9974 - val_loss: 0.5436 - val_accuracy: 0.9785\n",
      "\n",
      "Epoch 00045: val_loss did not improve from 0.25092\n",
      "Epoch 46/50\n",
      "77/77 [==============================] - 339s 4s/step - loss: 0.0182 - accuracy: 0.9980 - val_loss: 0.6255 - val_accuracy: 0.9746\n",
      "\n",
      "Epoch 00046: val_loss did not improve from 0.25092\n",
      "Epoch 47/50\n",
      "77/77 [==============================] - 338s 4s/step - loss: 0.0171 - accuracy: 0.9980 - val_loss: 0.7390 - val_accuracy: 0.9688\n",
      "\n",
      "Epoch 00047: val_loss did not improve from 0.25092\n",
      "Epoch 48/50\n",
      "77/77 [==============================] - 338s 4s/step - loss: 0.0143 - accuracy: 0.9986 - val_loss: 0.8197 - val_accuracy: 0.9668\n",
      "\n",
      "Epoch 00048: val_loss did not improve from 0.25092\n",
      "Epoch 49/50\n",
      "77/77 [==============================] - 338s 4s/step - loss: 0.0133 - accuracy: 0.9982 - val_loss: 0.9420 - val_accuracy: 0.9707\n",
      "\n",
      "Epoch 00049: val_loss did not improve from 0.25092\n",
      "Epoch 50/50\n",
      "77/77 [==============================] - 338s 4s/step - loss: 0.0225 - accuracy: 0.9955 - val_loss: 0.5359 - val_accuracy: 0.9707\n",
      "\n",
      "Epoch 00050: val_loss did not improve from 0.25092\n"
     ]
    }
   ],
   "source": [
    "runner.train_model()"
   ]
  },
  {
   "cell_type": "markdown",
   "metadata": {},
   "source": [
    "# Plots"
   ]
  },
  {
   "cell_type": "code",
   "execution_count": 17,
   "metadata": {
    "tags": []
   },
   "outputs": [
    {
     "name": "stdout",
     "output_type": "stream",
     "text": [
      "-------------------- draw training history -------------------\n"
     ]
    },
    {
     "data": {
      "image/png": "[encoded data removed]",
      "text/plain": [
       "<Figure size 720x360 with 2 Axes>"
      ]
     },
     "metadata": {
      "needs_background": "light"
     },
     "output_type": "display_data"
    }
   ],
   "source": [
    "runner.draw_training_history()"
   ]
  },
  {
   "cell_type": "markdown",
   "metadata": {},
   "source": [
    "# Load Best Model"
   ]
  },
  {
   "cell_type": "code",
   "execution_count": 18,
   "metadata": {},
   "outputs": [
    {
     "name": "stdout",
     "output_type": "stream",
     "text": [
      "-------------------- load best model -------------------\n",
      "..Loading best model\n",
      "Checkpoint not found\n"
     ]
    }
   ],
   "source": [
    "runner.load_best_model()"
   ]
  },
  {
   "cell_type": "markdown",
   "metadata": {},
   "source": [
    "# Saving Trained Model"
   ]
  },
  {
   "cell_type": "code",
   "execution_count": 19,
   "metadata": {},
   "outputs": [
    {
     "name": "stdout",
     "output_type": "stream",
     "text": [
      "-------------------- save model -------------------\n",
      "Saving model\n"
     ]
    },
    {
     "name": "stderr",
     "output_type": "stream",
     "text": [
      "/home/guilherme/data2/anaconda3/envs/icao_nets_training/lib/python3.8/site-packages/tensorflow/python/keras/utils/generic_utils.py:494: CustomMaskWarning: Custom mask layers require a config and must override get_config. When loading, the custom mask layer must be passed to the custom_objects argument.\n",
      "  warnings.warn('Custom mask layers require a config and must override '\n"
     ]
    },
    {
     "name": "stdout",
     "output_type": "stream",
     "text": [
      "INFO:tensorflow:Assets written to: trained_model/assets\n",
      "..Model saved\n",
      "...Model path: trained_model\n",
      "Saving model to neptune\n",
      " ..Uploading file trained_model.zip\n",
      "Model saved into Neptune\n",
      "Saving process finished\n"
     ]
    }
   ],
   "source": [
    "runner.save_model()"
   ]
  },
  {
   "cell_type": "markdown",
   "metadata": {},
   "source": [
    "# Test Trained Model"
   ]
  },
  {
   "cell_type": "markdown",
   "metadata": {},
   "source": [
    "## Validation Split"
   ]
  },
  {
   "cell_type": "code",
   "execution_count": 21,
   "metadata": {
    "tags": []
   },
   "outputs": [
    {
     "name": "stdout",
     "output_type": "stream",
     "text": [
      "Testing Trained Model\n",
      "Predicting labels....\n",
      "9/9 [==============================] - 31s 3s/step\n",
      "Prediction finished!\n",
      "  Task  0: eyes_closed     | EER_mean: 0.05610 | EER_interp: 0.00000 | ACC: 0.19380\n",
      "final_EER_mean: 0.0% | final_EER_median: 0.0% | final_EER_std_dv: 0.0% | final_ACC: 19.38%\n"
     ]
    }
   ],
   "source": [
    "runner.set_model_evaluator_data_src(DataSource.VALIDATION)\n",
    "runner.test_model(verbose=False)"
   ]
  },
  {
   "cell_type": "markdown",
   "metadata": {},
   "source": [
    "## Test Split"
   ]
  },
  {
   "cell_type": "code",
   "execution_count": 22,
   "metadata": {
    "tags": []
   },
   "outputs": [
    {
     "name": "stdout",
     "output_type": "stream",
     "text": [
      "Testing Trained Model\n",
      "Predicting labels....\n",
      "5/5 [==============================] - 22s 5s/step\n",
      "Prediction finished!\n",
      "  Task  0: eyes_closed     | EER_mean: 0.08530 | EER_interp: 0.00000 | ACC: 0.19100\n",
      "final_EER_mean: 0.0% | final_EER_median: 0.0% | final_EER_std_dv: 0.0% | final_ACC: 19.1%\n"
     ]
    }
   ],
   "source": [
    "runner.set_model_evaluator_data_src(DataSource.TEST)\n",
    "runner.test_model(verbose=False)"
   ]
  },
  {
   "cell_type": "markdown",
   "metadata": {},
   "source": [
    "# Visualize Model Classification"
   ]
  },
  {
   "cell_type": "raw",
   "metadata": {},
   "source": [
    "runner.visualize_predictions()"
   ]
  },
  {
   "cell_type": "markdown",
   "metadata": {},
   "source": [
    "# Finishing Experiment Manager"
   ]
  },
  {
   "cell_type": "code",
   "execution_count": 23,
   "metadata": {
    "tags": []
   },
   "outputs": [
    {
     "name": "stdout",
     "output_type": "stream",
     "text": [
      "-------------------- finish experiment -------------------\n",
      "Finishing Neptune\n",
      "Shutting down background jobs, please wait a moment...\n",
      "Done!\n",
      "Waiting for the remaining 9 operations to synchronize with Neptune. Do not kill this process.\n",
      "All 9 operations synced, thanks for waiting!\n",
      "Explore the metadata in the Neptune app:\n",
      "https://app.neptune.ai/guilhermemg/icao-nets-training-2/e/ICAO-428\n"
     ]
    }
   ],
   "source": [
    "runner.finish_experiment()"
   ]
  }
 ],
 "metadata": {
  "interpreter": {
   "hash": "85f5044ba23e75135dc4c908fd4d7609c1c80b195047fdb4d16ee0e66a953254"
  },
  "kernelspec": {
   "display_name": "Python 3 (ipykernel)",
   "language": "python",
   "name": "python3"
  },
  "language_info": {
   "codemirror_mode": {
    "name": "ipython",
    "version": 3
   },
   "file_extension": ".py",
   "mimetype": "text/x-python",
   "name": "python",
   "nbconvert_exporter": "python",
   "pygments_lexer": "ipython3",
   "version": "3.8.0"
  },
  "neptune": {
   "notebookId": "98a3967a-428e-4576-add1-6bd753600673",
   "projectVersion": 2
  },
  "toc-autonumbering": true
 },
 "nbformat": 4,
 "nbformat_minor": 4
}

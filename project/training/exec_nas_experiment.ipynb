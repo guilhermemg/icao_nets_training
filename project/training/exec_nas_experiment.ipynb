{
 "cells": [
  {
   "cell_type": "markdown",
   "metadata": {},
   "source": [
    "# Import Libraries"
   ]
  },
  {
   "cell_type": "code",
   "execution_count": 1,
   "metadata": {},
   "outputs": [],
   "source": [
    "%load_ext autoreload\n",
    "%autoreload 2"
   ]
  },
  {
   "cell_type": "code",
   "execution_count": 2,
   "metadata": {},
   "outputs": [],
   "source": [
    "import os\n",
    "# disable tensorflow log level infos\n",
    "os.environ['TF_CPP_MIN_LOG_LEVEL'] = '2' # show only errors\n",
    "\n",
    "import sys\n",
    "import pandas as pd\n",
    "\n",
    "if '..' not in sys.path:\n",
    "    sys.path.insert(0, '..')"
   ]
  },
  {
   "cell_type": "code",
   "execution_count": 3,
   "metadata": {
    "tags": []
   },
   "outputs": [
    {
     "name": "stdout",
     "output_type": "stream",
     "text": [
      " ==> Restrict GPU memory growth: True\n"
     ]
    }
   ],
   "source": [
    "from src.m_utils import constants as cts\n",
    "from src.base.data_loaders.data_loader import DLName\n",
    "from src.base.gt_loaders.gt_names import GTName\n",
    "from src.exp_runner import ExperimentRunner\n",
    "\n",
    "from src.base.experiment.dataset.dataset import Dataset\n",
    "from src.base.experiment.evaluation.model_evaluator import DataSource, DataPredSelection\n",
    "from src.base.experiment.training.base_models import BaseModel\n",
    "from src.base.experiment.training.optimizers import Optimizer\n",
    "\n",
    "from src.m_utils.mtl_approach import MTLApproach\n",
    "from src.m_utils.nas_mtl_approach import NAS_MTLApproach"
   ]
  },
  {
   "cell_type": "markdown",
   "metadata": {},
   "source": [
    "# Start Network runner"
   ]
  },
  {
   "cell_type": "code",
   "execution_count": 4,
   "metadata": {
    "tags": []
   },
   "outputs": [
    {
     "name": "stdout",
     "output_type": "stream",
     "text": [
      "-------------------- Init ExperimentRunner -------------------\n",
      "---------------------------\n",
      "Parent Process ID: 101599\n",
      "Process ID: 106737\n",
      "---------------------------\n",
      "-----\n",
      "Use Neptune:  True\n",
      "-----\n",
      "-------------------\n",
      "Args: \n",
      "{'controller_params': {'controller_decay': 0.1,\n",
      "                       'controller_learning_rate': 0.01,\n",
      "                       'controller_lstm_dim': 100,\n",
      "                       'controller_momentum': 0.0,\n",
      "                       'controller_optimizer': 'Adam',\n",
      "                       'controller_use_predictor': False},\n",
      " 'exp_params': {'description': 'test',\n",
      "                'name': 'neural_arch_search',\n",
      "                'src_files': ['../src/**/*.py'],\n",
      "                'tags': ['test']},\n",
      " 'mlp_params': {'max_architecture_length': 5,\n",
      "                'min_task_group_size': 3,\n",
      "                'mlp_base_model': <BaseModel.MOBILENET_V2: {'name': 'mobilnet_v2', 'target_size': (224, 224), 'prep_function': <function preprocess_input at 0x7f2a59146550>}>,\n",
      "                'mlp_batch_size': 64,\n",
      "                'mlp_decay': 0.0,\n",
      "                'mlp_dropout': 0.2,\n",
      "                'mlp_early_stopping': 5,\n",
      "                'mlp_learning_rate': 0.01,\n",
      "                'mlp_loss_function': 'categorical_crossentropy',\n",
      "                'mlp_momentum': 0.0,\n",
      "                'mlp_n_epochs': 3,\n",
      "                'mlp_one_shot': False,\n",
      "                'mlp_optimizer': <Optimizer.ADAM: 'Adam'>},\n",
      " 'nas_params': {'architecture_training_epochs': 2,\n",
      "                'controller_loss_alpha': 0.9,\n",
      "                'controller_sampling_epochs': 2,\n",
      "                'controller_training_epochs': 5,\n",
      "                'samples_per_controller_epochs': 3},\n",
      " 'properties': {'approach': <NAS_MTLApproach.APPROACH_3: 'approach_3'>,\n",
      "                'balance_input_data': False,\n",
      "                'benchmarking': {'dataset': <Dataset.MNIST: {'name': 'mnist', 'target_cols': ['n_0', 'n_1', 'n_2', 'n_3', 'n_4', 'n_5', 'n_6', 'n_7', 'n_8', 'n_9'], 'tasks': [<MNIST_TASK.N_0: 'n_0'>, <MNIST_TASK.N_1: 'n_1'>, <MNIST_TASK.N_2: 'n_2'>, <MNIST_TASK.N_3: 'n_3'>, <MNIST_TASK.N_4: 'n_4'>, <MNIST_TASK.N_5: 'n_5'>, <MNIST_TASK.N_6: 'n_6'>, <MNIST_TASK.N_7: 'n_7'>, <MNIST_TASK.N_8: 'n_8'>, <MNIST_TASK.N_9: 'n_9'>]}>,\n",
      "                                 'use_benchmark_data': True},\n",
      "                'exec_nas': True,\n",
      "                'icao_data': {'aligned': False,\n",
      "                              'icao_dl': {'tagger_model': None,\n",
      "                                          'use_dl_data': False},\n",
      "                              'icao_gt': {'gt_names': {'test': [],\n",
      "                                                       'train_validation': [],\n",
      "                                                       'train_validation_test': [<GTName.FVC: 'fvc'>]},\n",
      "                                          'use_gt_data': False},\n",
      "                              'reqs': [<ICAO_REQ.MOUTH: 'mouth'>,\n",
      "                                       <ICAO_REQ.ROTATION: 'rotation'>,\n",
      "                                       <ICAO_REQ.L_AWAY: 'l_away'>,\n",
      "                                       <ICAO_REQ.EYES_CLOSED: 'eyes_closed'>,\n",
      "                                       <ICAO_REQ.CLOSE: 'close'>,\n",
      "                                       <ICAO_REQ.HAT: 'hat'>,\n",
      "                                       <ICAO_REQ.DARK_GLASSES: 'dark_glasses'>,\n",
      "                                       <ICAO_REQ.FRAMES_HEAVY: 'frames_heavy'>,\n",
      "                                       <ICAO_REQ.FRAME_EYES: 'frame_eyes'>,\n",
      "                                       <ICAO_REQ.FLASH_LENSES: 'flash_lenses'>,\n",
      "                                       <ICAO_REQ.VEIL: 'veil'>,\n",
      "                                       <ICAO_REQ.REFLECTION: 'reflection'>,\n",
      "                                       <ICAO_REQ.LIGHT: 'light'>,\n",
      "                                       <ICAO_REQ.SHADOW_FACE: 'sh_face'>,\n",
      "                                       <ICAO_REQ.SHADOW_HEAD: 'sh_head'>,\n",
      "                                       <ICAO_REQ.BLURRED: 'blurred'>,\n",
      "                                       <ICAO_REQ.INK_MARK: 'ink_mark'>,\n",
      "                                       <ICAO_REQ.SKIN_TONE: 'skin_tone'>,\n",
      "                                       <ICAO_REQ.WASHED_OUT: 'washed_out'>,\n",
      "                                       <ICAO_REQ.PIXELATION: 'pixelation'>,\n",
      "                                       <ICAO_REQ.HAIR_EYES: 'hair_eyes'>,\n",
      "                                       <ICAO_REQ.BACKGROUND: 'background'>,\n",
      "                                       <ICAO_REQ.RED_EYES: 'red_eyes'>]},\n",
      "                'orig_model_experiment_id': '',\n",
      "                'sample_prop': 1.0,\n",
      "                'sample_training_data': False,\n",
      "                'save_trained_model': True,\n",
      "                'train_model': True},\n",
      " 'use_neptune': True}\n",
      "-------------------\n",
      "----\n",
      "Base Model Name:  BaseModel.MOBILENET_V2\n",
      "----\n",
      "MTL Model: True\n",
      "Approach: NAS_MTLApproach.APPROACH_3\n",
      "----\n",
      "--------------------  starting neptune  -------------------\n",
      "Starting Neptune\n",
      "https://app.neptune.ai/guilhermemg/icao-nets-training-2/e/ICAO-367\n",
      "Remember to stop your run once you’ve finished logging your metadata (https://docs.neptune.ai/api-reference/run#.stop). It will be stopped automatically only when the notebook kernel/interactive console is terminated.\n",
      "----\n",
      "----\n",
      "Checking model existence locally...\n",
      "Training a new model! Not checking model existence\n",
      "----\n",
      "------------------------------\n",
      "Checking GPU availability\n",
      " ..GPU is available!\n",
      "------------------------------\n"
     ]
    }
   ],
   "source": [
    "#DATASET = Dataset.MNIST\n",
    "\n",
    "\n",
    "kwargs = { \n",
    "    'use_neptune': True,\n",
    "    'exp_params' : {\n",
    "        'name': 'neural_arch_search',\n",
    "        #'description': f'{NAS_APPROACH.value} with {DATASET.value[\"name\"].upper()} dataset with {N_TRIALS} trials and patience and {N_CHILD_EPOCHS} child epoch',\n",
    "        #'tags': ['nas', f'{NAS_APPROACH_STR}', 'benchmark', f'{DATASET.value[\"name\"]}', f'{N_CHILD_EPOCHS_STR}'],\n",
    "        'description': 'test',\n",
    "        'tags': ['test'],\n",
    "        'src_files': [\"../src/**/*.py\"]\n",
    "    },\n",
    "    'properties': {\n",
    "        'approach': NAS_MTLApproach.APPROACH_3,\n",
    "        'benchmarking': {\n",
    "            'use_benchmark_data': True,\n",
    "            'dataset': Dataset.MNIST\n",
    "        },\n",
    "        'icao_data': {\n",
    "            'icao_gt': {\n",
    "                'use_gt_data': False,\n",
    "                'gt_names': {\n",
    "                    'train_validation': [],\n",
    "                    'test': [],\n",
    "                    'train_validation_test': [GTName.FVC]\n",
    "                },\n",
    "            },\n",
    "            'icao_dl': {\n",
    "                'use_dl_data': False,\n",
    "                'tagger_model': None\n",
    "            },\n",
    "            'reqs': Dataset.FVC_ICAO.value['tasks'],\n",
    "            'aligned': False\n",
    "        },\n",
    "        'balance_input_data': False,\n",
    "        'train_model': True,\n",
    "        'save_trained_model': True,\n",
    "        'exec_nas': True,\n",
    "        'orig_model_experiment_id': '',\n",
    "        'sample_training_data': False,\n",
    "        'sample_prop': 1.0\n",
    "    },\n",
    "    'nas_params': {\n",
    "        #'max_blocks_per_branch': 5,\n",
    "        #'n_child_epochs': N_CHILD_EPOCHS,\n",
    "        #'controller_epochs': CONTROLLER_EPOCHS,\n",
    "        #'controller_batch_size': 64,\n",
    "        #'n_trials': N_TRIALS,\n",
    "\n",
    "        'controller_sampling_epochs': 2,\n",
    "        'samples_per_controller_epochs': 3,\n",
    "        'controller_training_epochs': 5,\n",
    "        'architecture_training_epochs': 2,\n",
    "        'controller_loss_alpha': 0.9\n",
    "    },\n",
    "    'controller_params': {\n",
    "        'controller_lstm_dim': 100,\n",
    "        'controller_optimizer': 'Adam',\n",
    "        'controller_learning_rate': 0.01,\n",
    "        'controller_decay': 0.1,\n",
    "        'controller_momentum': 0.0,\n",
    "        'controller_use_predictor': False\n",
    "    },\n",
    "    'mlp_params': {\n",
    "        'max_architecture_length': 5,\n",
    "        'min_task_group_size': 3,\n",
    "        'mlp_base_model': BaseModel.MOBILENET_V2,\n",
    "        'mlp_n_epochs': 3,\n",
    "        'mlp_batch_size': 64,\n",
    "        'mlp_early_stopping': 5,\n",
    "        'mlp_optimizer': Optimizer.ADAM,\n",
    "        'mlp_learning_rate': 1e-2,\n",
    "        'mlp_decay': 0.0,\n",
    "        'mlp_momentum': 0.0,\n",
    "        'mlp_dropout': 0.2,\n",
    "        'mlp_loss_function': 'categorical_crossentropy',\n",
    "        'mlp_one_shot': False\n",
    "    }\n",
    "}\n",
    "\n",
    "\n",
    "runner = ExperimentRunner(**kwargs)"
   ]
  },
  {
   "cell_type": "markdown",
   "metadata": {},
   "source": [
    "# Load Data"
   ]
  },
  {
   "cell_type": "code",
   "execution_count": 5,
   "metadata": {
    "tags": []
   },
   "outputs": [
    {
     "name": "stdout",
     "output_type": "stream",
     "text": [
      "-------------------- load training data -------------------\n",
      "Loading data\n",
      "TrainData.shape: (48000, 11)\n",
      "ValidationData.shape: (12000, 11)\n",
      "TestData.shape: (10000, 11)\n",
      "Data loaded\n"
     ]
    }
   ],
   "source": [
    "runner.load_training_data()"
   ]
  },
  {
   "cell_type": "code",
   "execution_count": 6,
   "metadata": {
    "tags": []
   },
   "outputs": [
    {
     "data": {
      "text/html": [
       "<div>\n",
       "<style scoped>\n",
       "    .dataframe tbody tr th:only-of-type {\n",
       "        vertical-align: middle;\n",
       "    }\n",
       "\n",
       "    .dataframe tbody tr th {\n",
       "        vertical-align: top;\n",
       "    }\n",
       "\n",
       "    .dataframe thead th {\n",
       "        text-align: right;\n",
       "    }\n",
       "</style>\n",
       "<table border=\"1\" class=\"dataframe\">\n",
       "  <thead>\n",
       "    <tr style=\"text-align: right;\">\n",
       "      <th></th>\n",
       "      <th>img_name</th>\n",
       "      <th>n_0</th>\n",
       "      <th>n_1</th>\n",
       "      <th>n_2</th>\n",
       "      <th>n_3</th>\n",
       "      <th>n_4</th>\n",
       "      <th>n_5</th>\n",
       "      <th>n_6</th>\n",
       "      <th>n_7</th>\n",
       "      <th>n_8</th>\n",
       "      <th>n_9</th>\n",
       "    </tr>\n",
       "  </thead>\n",
       "  <tbody>\n",
       "    <tr>\n",
       "      <th>0</th>\n",
       "      <td>/home/guilherme/data1/Dropbox/Link to Desktop/...</td>\n",
       "      <td>0.0</td>\n",
       "      <td>0.0</td>\n",
       "      <td>0.0</td>\n",
       "      <td>0.0</td>\n",
       "      <td>1.0</td>\n",
       "      <td>0.0</td>\n",
       "      <td>0.0</td>\n",
       "      <td>0.0</td>\n",
       "      <td>0.0</td>\n",
       "      <td>0.0</td>\n",
       "    </tr>\n",
       "    <tr>\n",
       "      <th>1</th>\n",
       "      <td>/home/guilherme/data1/Dropbox/Link to Desktop/...</td>\n",
       "      <td>1.0</td>\n",
       "      <td>0.0</td>\n",
       "      <td>0.0</td>\n",
       "      <td>0.0</td>\n",
       "      <td>0.0</td>\n",
       "      <td>0.0</td>\n",
       "      <td>0.0</td>\n",
       "      <td>0.0</td>\n",
       "      <td>0.0</td>\n",
       "      <td>0.0</td>\n",
       "    </tr>\n",
       "    <tr>\n",
       "      <th>2</th>\n",
       "      <td>/home/guilherme/data1/Dropbox/Link to Desktop/...</td>\n",
       "      <td>0.0</td>\n",
       "      <td>1.0</td>\n",
       "      <td>0.0</td>\n",
       "      <td>0.0</td>\n",
       "      <td>0.0</td>\n",
       "      <td>0.0</td>\n",
       "      <td>0.0</td>\n",
       "      <td>0.0</td>\n",
       "      <td>0.0</td>\n",
       "      <td>0.0</td>\n",
       "    </tr>\n",
       "    <tr>\n",
       "      <th>3</th>\n",
       "      <td>/home/guilherme/data1/Dropbox/Link to Desktop/...</td>\n",
       "      <td>0.0</td>\n",
       "      <td>0.0</td>\n",
       "      <td>0.0</td>\n",
       "      <td>0.0</td>\n",
       "      <td>0.0</td>\n",
       "      <td>0.0</td>\n",
       "      <td>0.0</td>\n",
       "      <td>1.0</td>\n",
       "      <td>0.0</td>\n",
       "      <td>0.0</td>\n",
       "    </tr>\n",
       "    <tr>\n",
       "      <th>4</th>\n",
       "      <td>/home/guilherme/data1/Dropbox/Link to Desktop/...</td>\n",
       "      <td>0.0</td>\n",
       "      <td>0.0</td>\n",
       "      <td>0.0</td>\n",
       "      <td>0.0</td>\n",
       "      <td>0.0</td>\n",
       "      <td>0.0</td>\n",
       "      <td>0.0</td>\n",
       "      <td>0.0</td>\n",
       "      <td>1.0</td>\n",
       "      <td>0.0</td>\n",
       "    </tr>\n",
       "  </tbody>\n",
       "</table>\n",
       "</div>"
      ],
      "text/plain": [
       "                                            img_name  n_0  n_1  n_2  n_3  n_4  \\\n",
       "0  /home/guilherme/data1/Dropbox/Link to Desktop/...  0.0  0.0  0.0  0.0  1.0   \n",
       "1  /home/guilherme/data1/Dropbox/Link to Desktop/...  1.0  0.0  0.0  0.0  0.0   \n",
       "2  /home/guilherme/data1/Dropbox/Link to Desktop/...  0.0  1.0  0.0  0.0  0.0   \n",
       "3  /home/guilherme/data1/Dropbox/Link to Desktop/...  0.0  0.0  0.0  0.0  0.0   \n",
       "4  /home/guilherme/data1/Dropbox/Link to Desktop/...  0.0  0.0  0.0  0.0  0.0   \n",
       "\n",
       "   n_5  n_6  n_7  n_8  n_9  \n",
       "0  0.0  0.0  0.0  0.0  0.0  \n",
       "1  0.0  0.0  0.0  0.0  0.0  \n",
       "2  0.0  0.0  0.0  0.0  0.0  \n",
       "3  0.0  0.0  1.0  0.0  0.0  \n",
       "4  0.0  0.0  0.0  1.0  0.0  "
      ]
     },
     "execution_count": 6,
     "metadata": {},
     "output_type": "execute_result"
    }
   ],
   "source": [
    "runner.train_data.head()"
   ]
  },
  {
   "cell_type": "markdown",
   "metadata": {},
   "source": [
    "# <font color='red'>Producing Fake Data</font>"
   ]
  },
  {
   "cell_type": "code",
   "execution_count": 7,
   "metadata": {},
   "outputs": [
    {
     "name": "stdout",
     "output_type": "stream",
     "text": [
      "-------------------- producing fake data for experimental purposes -------------------\n",
      "fake_train_data.shape: (500, 11)\n",
      "fake_validation_data_df.shape: (100, 11)\n",
      "fake_test_data_df.shape: (50, 11)\n"
     ]
    }
   ],
   "source": [
    "runner.produce_fake_data()"
   ]
  },
  {
   "cell_type": "markdown",
   "metadata": {},
   "source": [
    "# Data Generators"
   ]
  },
  {
   "cell_type": "code",
   "execution_count": 8,
   "metadata": {
    "tags": []
   },
   "outputs": [
    {
     "name": "stdout",
     "output_type": "stream",
     "text": [
      "-------------------- setup data generators -------------------\n",
      "Starting data generators\n",
      "Found 500 validated image filenames.\n",
      "Found 100 validated image filenames.\n",
      "Found 50 validated image filenames.\n",
      "TOTAL: 650\n",
      "\n",
      "Logging class indices\n",
      " .. MTL model not logging class indices!\n",
      "\n",
      "Using benchmarking dataset. Not logging class labels!\n"
     ]
    }
   ],
   "source": [
    "runner.setup_data_generators()"
   ]
  },
  {
   "cell_type": "markdown",
   "metadata": {},
   "source": [
    "# Setup Experiment"
   ]
  },
  {
   "cell_type": "code",
   "execution_count": 9,
   "metadata": {},
   "outputs": [
    {
     "name": "stdout",
     "output_type": "stream",
     "text": [
      "-------------------- create experiment -------------------\n",
      "Setting up neptune experiment\n",
      "Neptune experiment setup done!\n"
     ]
    }
   ],
   "source": [
    "runner.setup_experiment()"
   ]
  },
  {
   "cell_type": "markdown",
   "metadata": {},
   "source": [
    "# Labels Distribution"
   ]
  },
  {
   "cell_type": "code",
   "execution_count": 10,
   "metadata": {
    "tags": []
   },
   "outputs": [],
   "source": [
    "%%capture\n",
    "runner.summary_labels_dist()"
   ]
  },
  {
   "cell_type": "markdown",
   "metadata": {},
   "source": [
    "# Neural Architecture Search"
   ]
  },
  {
   "cell_type": "code",
   "execution_count": 18,
   "metadata": {
    "tags": []
   },
   "outputs": [
    {
     "name": "stdout",
     "output_type": "stream",
     "text": [
      "-------------------- run neural architecture search -------------------\n",
      "----\n",
      "Checking model existence locally...\n",
      "Training a new model! Not checking model existence\n",
      "----\n",
      "------------------------------\n",
      "Checking GPU availability\n",
      " ..GPU is available!\n",
      "------------------------------\n",
      "------------------------------------------------------------------\n",
      "                       CONTROLLER EPOCH: 0\n",
      "------------------------------------------------------------------\n",
      "GENERATING ARCHITECTURE SAMPLES...\n",
      "------------------------------------------------------\n",
      "WARNING:tensorflow:5 out of the last 38 calls to <function Model.make_predict_function.<locals>.predict_function at 0x7f295c7e7550> triggered tf.function retracing. Tracing is expensive and the excessive number of tracings could be due to (1) creating @tf.function repeatedly in a loop, (2) passing tensors with different shapes, (3) passing Python objects instead of tensors. For (1), please define your @tf.function outside of the loop. For (2), @tf.function has experimental_relax_shapes=True option that relaxes argument shapes that can avoid unnecessary retracing. For (3), please refer to https://www.tensorflow.org/guide/function#controlling_retracing and https://www.tensorflow.org/api_docs/python/tf/function for  more details.\n",
      "Sequence: [8, 2, 12, 5, 20]\n",
      " .Decoded seq: {'n_denses_3': 5, 'n_denses_1': 1, 'n_denses_0': 2}\n",
      " ..invalid sequence: less than 4 task groups!\n",
      "Sequence: [16, 13, 13, 8, 20]\n",
      " .Decoded seq: {'n_denses_3': 5, 'n_denses_0': 4}\n",
      " ..invalid sequence: less than 4 task groups!\n",
      "Sequence: [18, 2, 11, 12, 20]\n",
      " .Decoded seq: {'n_denses_1': 1, 'n_denses_2': 3, 'n_denses_3': 5}\n",
      " ..invalid sequence: less than 4 task groups!\n",
      "Sequence: [12, 13, 14, 15, 20]\n",
      " .Decoded seq: {'n_denses_3': 5, 'n_denses_0': 4, 'n_denses_1': 4, 'n_denses_2': 4}\n",
      "  ..valid sequence!\n",
      "Sequence: [2, 12, 19, 12, 20]\n",
      " .Decoded seq: {'n_denses_1': 1, 'n_denses_3': 5, 'n_denses_2': 5}\n",
      " ..invalid sequence: less than 4 task groups!\n",
      "Sequence: [11, 3, 13, 8, 20]\n",
      " .Decoded seq: {'n_denses_2': 1, 'n_denses_0': 4, 'n_denses_3': 5}\n",
      " ..invalid sequence: less than 4 task groups!\n",
      "Sequence: [14, 8, 8, 11, 20]\n",
      " .Decoded seq: {'n_denses_1': 4, 'n_denses_3': 5, 'n_denses_2': 3}\n",
      " ..invalid sequence: less than 4 task groups!\n",
      "Sequence: [17, 15, 18, 16, 20]\n",
      " .Decoded seq: {'n_denses_0': 5, 'n_denses_2': 4, 'n_denses_1': 5, 'n_denses_3': 5}\n",
      "  ..valid sequence!\n",
      "Sequence: [6, 13, 17, 1, 20]\n",
      " .Decoded seq: {'n_denses_1': 2, 'n_denses_0': 1, 'n_denses_3': 5}\n",
      " ..invalid sequence: less than 4 task groups!\n",
      "Sequence: [6, 19, 9, 17, 20]\n",
      " .Decoded seq: {'n_denses_1': 2, 'n_denses_2': 5, 'n_denses_0': 5, 'n_denses_3': 5}\n",
      "  ..valid sequence!\n",
      " -- Architecture Number 0: {'n_denses_3': 5, 'n_denses_0': 4, 'n_denses_1': 4, 'n_denses_2': 4}\n",
      " -- Sequence: [12, 13, 14, 15, 20]\n",
      "Creating model...\n",
      "<class 'dict'>\n",
      "Model created\n",
      "Training MOBILENET_V2 network\n",
      " .. Not fine tuning base model...\n",
      "  .. Total params: 3,220,564\n",
      "  .. Trainable params: 962,580\n",
      "  .. Non-trainable params: 2,257,984\n",
      "\n",
      "Epoch 00001: val_loss improved from inf to 1.98816, saving model to training_ckpt/best_model.hdf5\n",
      "\n",
      "Epoch 00002: val_loss improved from 1.98816 to 1.29750, saving model to training_ckpt/best_model.hdf5\n",
      "..Loading best model\n",
      "..Checkpoint weights loaded\n",
      "Testing Trained Model\n",
      "Predicting labels....\n",
      "2/2 [==============================] - 1s 45ms/step\n",
      "Prediction finished!\n",
      "  Task  0: n_0             | EER_mean: 0.47920 | EER_interp: 0.47040 | ACC: 0.53000\n",
      "  Task  1: n_1             | EER_mean: 0.54720 | EER_interp: 0.53960 | ACC: 0.46000\n",
      "  Task  2: n_2             | EER_mean: 0.56520 | EER_interp: 0.57890 | ACC: 0.42000\n",
      "  Task  3: n_3             | EER_mean: 0.54900 | EER_interp: 0.53980 | ACC: 0.46000\n",
      "  Task  4: n_4             | EER_mean: 0.55320 | EER_interp: 0.53130 | ACC: 0.47000\n",
      "  Task  5: n_5             | EER_mean: 0.49090 | EER_interp: 0.50100 | ACC: 0.50000\n",
      "  Task  6: n_6             | EER_mean: 0.36960 | EER_interp: 0.37000 | ACC: 0.63000\n",
      "  Task  7: n_7             | EER_mean: 0.40910 | EER_interp: 0.39200 | ACC: 0.61000\n",
      "  Task  8: n_8             | EER_mean: 0.55560 | EER_interp: 0.55960 | ACC: 0.44000\n",
      "  Task  9: n_9             | EER_mean: 0.51020 | EER_interp: 0.49040 | ACC: 0.51000\n",
      "final_EER_mean: 49.73% | final_EER_median: 51.62% | final_EER_std_dv: 6.59% | final_ACC: 50.3%\n",
      "validation accuracy:  50.3\n",
      "------------------------------------------------------\n",
      " -- Architecture Number 1: {'n_denses_0': 5, 'n_denses_2': 4, 'n_denses_1': 5, 'n_denses_3': 5}\n",
      " -- Sequence: [17, 15, 18, 16, 20]\n",
      "Creating model...\n",
      "<class 'dict'>\n",
      "Model created\n",
      "Training MOBILENET_V2 network\n",
      " .. Not fine tuning base model...\n",
      "  .. Total params: 3,237,204\n",
      "  .. Trainable params: 979,220\n",
      "  .. Non-trainable params: 2,257,984\n",
      "\n",
      "Epoch 00001: val_loss improved from inf to 1.33521, saving model to training_ckpt/best_model.hdf5\n",
      "\n",
      "Epoch 00002: val_loss did not improve from 1.33521\n",
      "..Loading best model\n",
      "..Checkpoint weights loaded\n",
      "Testing Trained Model\n",
      "Predicting labels....\n",
      "2/2 [==============================] - 1s 39ms/step\n",
      "Prediction finished!\n",
      "  Task  0: n_0             | EER_mean: 0.48080 | EER_interp: 0.48000 | ACC: 0.52000\n",
      "  Task  1: n_1             | EER_mean: 0.50940 | EER_interp: 0.51000 | ACC: 0.49000\n",
      "  Task  2: n_2             | EER_mean: 0.53700 | EER_interp: 0.52940 | ACC: 0.47000\n",
      "  Task  3: n_3             | EER_mean: 0.46940 | EER_interp: 0.47000 | ACC: 0.53000\n",
      "  Task  4: n_4             | EER_mean: 0.53190 | EER_interp: 0.53010 | ACC: 0.47000\n",
      "  Task  5: n_5             | EER_mean: 0.44440 | EER_interp: 0.44040 | ACC: 0.56000\n",
      "  Task  6: n_6             | EER_mean: 0.46300 | EER_interp: 0.44890 | ACC: 0.55000\n",
      "  Task  7: n_7             | EER_mean: 0.56820 | EER_interp: 0.56980 | ACC: 0.43000\n",
      "  Task  8: n_8             | EER_mean: 0.54550 | EER_interp: 0.53940 | ACC: 0.46000\n",
      "  Task  9: n_9             | EER_mean: 0.52940 | EER_interp: 0.53000 | ACC: 0.47000\n",
      "final_EER_mean: 50.48% | final_EER_median: 51.97% | final_EER_std_dv: 4.05% | final_ACC: 49.5%\n",
      "validation accuracy:  49.5\n",
      "------------------------------------------------------\n",
      " -- Architecture Number 2: {'n_denses_1': 2, 'n_denses_2': 5, 'n_denses_0': 5, 'n_denses_3': 5}\n",
      " -- Sequence: [6, 19, 9, 17, 20]\n",
      "Creating model...\n",
      "<class 'dict'>\n",
      "Model created\n",
      "Training MOBILENET_V2 network\n",
      " .. Not fine tuning base model...\n",
      "  .. Total params: 3,208,084\n",
      "  .. Trainable params: 950,100\n",
      "  .. Non-trainable params: 2,257,984\n",
      "\n",
      "Epoch 00001: val_loss improved from inf to 2.40453, saving model to training_ckpt/best_model.hdf5\n",
      "\n",
      "Epoch 00002: val_loss improved from 2.40453 to 2.11964, saving model to training_ckpt/best_model.hdf5\n",
      "..Loading best model\n",
      "..Checkpoint weights loaded\n",
      "Testing Trained Model\n",
      "Predicting labels....\n",
      "2/2 [==============================] - 1s 39ms/step\n",
      "Prediction finished!\n",
      "  Task  0: n_0             | EER_mean: 0.42310 | EER_interp: 0.41990 | ACC: 0.58000\n",
      "  Task  1: n_1             | EER_mean: 0.54720 | EER_interp: 0.53960 | ACC: 0.46000\n",
      "  Task  2: n_2             | EER_mean: 0.47830 | EER_interp: 0.47990 | ACC: 0.52000\n",
      "  Task  3: n_3             | EER_mean: 0.58820 | EER_interp: 0.57980 | ACC: 0.42000\n",
      "  Task  4: n_4             | EER_mean: 0.47170 | EER_interp: 0.46990 | ACC: 0.53000\n",
      "  Task  5: n_5             | EER_mean: 0.41000 | EER_interp: 0.41110 | ACC: 0.59000\n",
      "  Task  6: n_6             | EER_mean: 0.48150 | EER_interp: 0.47990 | ACC: 0.52000\n",
      "  Task  7: n_7             | EER_mean: 0.46430 | EER_interp: 0.43670 | ACC: 0.56000\n",
      "  Task  8: n_8             | EER_mean: 0.52730 | EER_interp: 0.51920 | ACC: 0.48000\n",
      "  Task  9: n_9             | EER_mean: 0.54900 | EER_interp: 0.56020 | ACC: 0.44000\n",
      "final_EER_mean: 48.96% | final_EER_median: 47.99% | final_EER_std_dv: 5.56% | final_ACC: 51.0%\n",
      "validation accuracy:  51.0\n",
      "------------------------------------------------------\n",
      "Preparing controller data...\n",
      "xc.shape: (3, 1, 4)\n",
      "yc.shape: (3, 21)\n",
      "val_acc_target.shape: 3\n",
      "TRAINING CONTROLLER...\n",
      "------------------------------------------------------------------\n",
      "                       CONTROLLER EPOCH: 1\n",
      "------------------------------------------------------------------\n",
      "GENERATING ARCHITECTURE SAMPLES...\n",
      "------------------------------------------------------\n",
      "Sequence: [11, 11, 14, 12, 20]\n",
      " .Decoded seq: {'n_denses_2': 3, 'n_denses_1': 4, 'n_denses_3': 5}\n",
      " ..invalid sequence: less than 4 task groups!\n",
      "Sequence: [11, 18, 5, 4, 20]\n",
      " .Decoded seq: {'n_denses_2': 3, 'n_denses_1': 5, 'n_denses_0': 2, 'n_denses_3': 5}\n",
      "  ..valid sequence!\n",
      "Sequence: [11, 8, 3, 8, 20]\n",
      " .Decoded seq: {'n_denses_2': 1, 'n_denses_3': 5}\n",
      " ..invalid sequence: less than 4 task groups!\n",
      "Sequence: [4, 13, 10, 9, 20]\n",
      " .Decoded seq: {'n_denses_3': 5, 'n_denses_0': 3, 'n_denses_1': 3}\n",
      " ..invalid sequence: less than 4 task groups!\n",
      "Sequence: [4, 3, 10, 2, 20]\n",
      " .Decoded seq: {'n_denses_3': 5, 'n_denses_2': 1, 'n_denses_1': 1}\n",
      " ..invalid sequence: less than 4 task groups!\n",
      "Sequence: [14, 1, 4, 4, 20]\n",
      " .Decoded seq: {'n_denses_1': 4, 'n_denses_0': 1, 'n_denses_3': 5}\n",
      " ..invalid sequence: less than 4 task groups!\n",
      "Sequence: [10, 11, 3, 20]\n",
      " .Decoded seq: {'n_denses_1': 3, 'n_denses_2': 1, 'n_denses_3': 5}\n",
      " ..invalid sequence: less than 4 task groups!\n",
      "Sequence: [14, 11, 10, 20]\n",
      " .Decoded seq: {'n_denses_1': 3, 'n_denses_2': 3, 'n_denses_3': 5}\n",
      " ..invalid sequence: less than 4 task groups!\n",
      "Sequence: [14, 17, 2, 2, 20]\n",
      " .Decoded seq: {'n_denses_1': 1, 'n_denses_0': 5, 'n_denses_3': 5}\n",
      " ..invalid sequence: less than 4 task groups!\n",
      "Sequence: [7, 1, 2, 11, 20]\n",
      " .Decoded seq: {'n_denses_2': 3, 'n_denses_0': 1, 'n_denses_1': 1, 'n_denses_3': 5}\n",
      "  ..valid sequence!\n",
      "Sequence: [8, 19, 7, 7, 20]\n",
      " .Decoded seq: {'n_denses_3': 5, 'n_denses_2': 2}\n",
      " ..invalid sequence: less than 4 task groups!\n",
      "Sequence: [3, 6, 3, 1, 20]\n",
      " .Decoded seq: {'n_denses_2': 1, 'n_denses_1': 2, 'n_denses_0': 1, 'n_denses_3': 5}\n",
      "  ..valid sequence!\n",
      " -- Architecture Number 0: {'n_denses_2': 3, 'n_denses_1': 5, 'n_denses_0': 2, 'n_denses_3': 5}\n",
      " -- Sequence: [11, 18, 5, 4, 20]\n",
      "Creating model...\n",
      "<class 'dict'>\n",
      "Model created\n",
      "Training MOBILENET_V2 network\n",
      " .. Not fine tuning base model...\n",
      "  .. Total params: 3,216,404\n",
      "  .. Trainable params: 958,420\n",
      "  .. Non-trainable params: 2,257,984\n",
      "\n",
      "Epoch 00001: val_loss improved from inf to 2.70742, saving model to training_ckpt/best_model.hdf5\n",
      "\n",
      "Epoch 00002: val_loss did not improve from 2.70742\n",
      "..Loading best model\n",
      "..Checkpoint weights loaded\n",
      "Testing Trained Model\n",
      "Predicting labels....\n",
      "2/2 [==============================] - 1s 40ms/step\n",
      "Prediction finished!\n",
      "  Task  0: n_0             | EER_mean: 0.57690 | EER_interp: 0.58010 | ACC: 0.42000\n",
      "  Task  1: n_1             | EER_mean: 0.50940 | EER_interp: 0.49940 | ACC: 0.50000\n",
      "  Task  2: n_2             | EER_mean: 0.54350 | EER_interp: 0.55880 | ACC: 0.44000\n",
      "  Task  3: n_3             | EER_mean: 0.51020 | EER_interp: 0.51000 | ACC: 0.49000\n",
      "  Task  4: n_4             | EER_mean: 0.63830 | EER_interp: 0.63990 | ACC: 0.36000\n",
      "  Task  5: n_5             | EER_mean: 0.49760 | EER_interp: 0.00000 | ACC: 0.55000\n",
      "  Task  6: n_6             | EER_mean: 0.55560 | EER_interp: 0.56040 | ACC: 0.44000\n",
      "  Task  7: n_7             | EER_mean: 0.41070 | EER_interp: 0.38720 | ACC: 0.61000\n",
      "  Task  8: n_8             | EER_mean: 0.47270 | EER_interp: 0.48080 | ACC: 0.52000\n",
      "  Task  9: n_9             | EER_mean: 0.47060 | EER_interp: 0.47000 | ACC: 0.53000\n",
      "final_EER_mean: 46.87% | final_EER_median: 50.47% | final_EER_std_dv: 16.95% | final_ACC: 48.6%\n",
      "validation accuracy:  48.6\n",
      "------------------------------------------------------\n",
      " -- Architecture Number 1: {'n_denses_2': 3, 'n_denses_0': 1, 'n_denses_1': 1, 'n_denses_3': 5}\n",
      " -- Sequence: [7, 1, 2, 11, 20]\n",
      "Creating model...\n",
      "<class 'dict'>\n",
      "Model created\n",
      "Training MOBILENET_V2 network\n",
      " .. Not fine tuning base model...\n",
      "  .. Total params: 3,162,324\n",
      "  .. Trainable params: 904,340\n",
      "  .. Non-trainable params: 2,257,984\n",
      "\n",
      "Epoch 00001: val_loss improved from inf to 2.73513, saving model to training_ckpt/best_model.hdf5\n",
      "\n",
      "Epoch 00002: val_loss did not improve from 2.73513\n",
      "..Loading best model\n",
      "..Checkpoint weights loaded\n",
      "Testing Trained Model\n",
      "Predicting labels....\n",
      "2/2 [==============================] - 1s 36ms/step\n",
      "Prediction finished!\n",
      "  Task  0: n_0             | EER_mean: 0.53570 | EER_interp: 0.00000 | ACC: 0.52000\n",
      "  Task  1: n_1             | EER_mean: 0.48270 | EER_interp: 0.00000 | ACC: 0.51000\n",
      "  Task  2: n_2             | EER_mean: 0.50580 | EER_interp: 0.51650 | ACC: 0.47000\n",
      "  Task  3: n_3             | EER_mean: 0.46620 | EER_interp: 0.45740 | ACC: 0.54000\n",
      "  Task  4: n_4             | EER_mean: 0.48770 | EER_interp: 0.51180 | ACC: 0.46000\n",
      "  Task  5: n_5             | EER_mean: 0.41080 | EER_interp: 0.38490 | ACC: 0.63000\n",
      "  Task  6: n_6             | EER_mean: 0.56220 | EER_interp: 0.56560 | ACC: 0.45000\n",
      "  Task  7: n_7             | EER_mean: 0.48840 | EER_interp: 0.49190 | ACC: 0.49000\n",
      "  Task  8: n_8             | EER_mean: 0.57070 | EER_interp: 0.58790 | ACC: 0.40000\n",
      "  Task  9: n_9             | EER_mean: 0.44130 | EER_interp: 0.41440 | ACC: 0.59000\n",
      "final_EER_mean: 39.3% | final_EER_median: 47.46% | final_EER_std_dv: 20.51% | final_ACC: 50.6%\n",
      "validation accuracy:  50.6\n",
      "------------------------------------------------------\n",
      " -- Architecture Number 2: {'n_denses_2': 1, 'n_denses_1': 2, 'n_denses_0': 1, 'n_denses_3': 5}\n",
      " -- Sequence: [3, 6, 3, 1, 20]\n",
      "Creating model...\n",
      "<class 'dict'>\n",
      "Model created\n",
      "Training MOBILENET_V2 network\n",
      " .. Not fine tuning base model...\n",
      "  .. Total params: 3,158,164\n",
      "  .. Trainable params: 900,180\n",
      "  .. Non-trainable params: 2,257,984\n",
      "\n",
      "Epoch 00001: val_loss improved from inf to 3.12144, saving model to training_ckpt/best_model.hdf5\n",
      "\n",
      "Epoch 00002: val_loss improved from 3.12144 to 2.28338, saving model to training_ckpt/best_model.hdf5\n",
      "..Loading best model\n",
      "..Checkpoint weights loaded\n",
      "Testing Trained Model\n",
      "Predicting labels....\n",
      "2/2 [==============================] - 1s 39ms/step\n",
      "Prediction finished!\n",
      "  Task  0: n_0             | EER_mean: 0.50000 | EER_interp: 0.00000 | ACC: 0.52000\n",
      "  Task  1: n_1             | EER_mean: 0.50000 | EER_interp: 0.00000 | ACC: 0.47000\n",
      "  Task  2: n_2             | EER_mean: 0.50000 | EER_interp: 0.00000 | ACC: 0.46000\n",
      "  Task  3: n_3             | EER_mean: 0.50000 | EER_interp: 0.00000 | ACC: 0.49000\n",
      "  Task  4: n_4             | EER_mean: 0.50000 | EER_interp: 0.00000 | ACC: 0.47000\n",
      "  Task  5: n_5             | EER_mean: 0.50000 | EER_interp: 0.00000 | ACC: 0.55000\n",
      "  Task  6: n_6             | EER_mean: 0.50000 | EER_interp: 0.00000 | ACC: 0.54000\n",
      "  Task  7: n_7             | EER_mean: 0.50000 | EER_interp: 0.00000 | ACC: 0.44000\n",
      "  Task  8: n_8             | EER_mean: 0.50000 | EER_interp: 0.00000 | ACC: 0.45000\n",
      "  Task  9: n_9             | EER_mean: 0.50000 | EER_interp: 0.00000 | ACC: 0.51000\n",
      "final_EER_mean: 0.0% | final_EER_median: 0.0% | final_EER_std_dv: 0.0% | final_ACC: 49.0%\n",
      "validation accuracy:  49.0\n",
      "------------------------------------------------------\n",
      "Preparing controller data...\n",
      "xc.shape: (3, 1, 4)\n",
      "yc.shape: (3, 21)\n",
      "val_acc_target.shape: 6\n",
      "TRAINING CONTROLLER...\n",
      "Top 5 Architectures:\n",
      "Architecture {'n_denses_1': 2, 'n_denses_2': 5, 'n_denses_0': 5, 'n_denses_3': 5}\n",
      "Validation Accuracy: 51.0\n",
      "Architecture {'n_denses_2': 3, 'n_denses_0': 1, 'n_denses_1': 1, 'n_denses_3': 5}\n",
      "Validation Accuracy: 50.6\n",
      "Architecture {'n_denses_3': 5, 'n_denses_0': 4, 'n_denses_1': 4, 'n_denses_2': 4}\n",
      "Validation Accuracy: 50.3\n",
      "Architecture {'n_denses_0': 5, 'n_denses_2': 4, 'n_denses_1': 5, 'n_denses_3': 5}\n",
      "Validation Accuracy: 49.5\n",
      "Architecture {'n_denses_2': 1, 'n_denses_1': 2, 'n_denses_0': 1, 'n_denses_3': 5}\n",
      "Validation Accuracy: 49.0\n",
      "Logging top architectures found..\n",
      " .. done!\n"
     ]
    }
   ],
   "source": [
    "best_archs_list = runner.run_neural_architecture_search_v2()"
   ]
  },
  {
   "cell_type": "markdown",
   "metadata": {},
   "source": [
    "# Create Model with Best Architecture Found"
   ]
  },
  {
   "cell_type": "code",
   "execution_count": 19,
   "metadata": {},
   "outputs": [
    {
     "name": "stdout",
     "output_type": "stream",
     "text": [
      "-------------------- create model -------------------\n",
      "Creating model...\n",
      "Model created\n"
     ]
    }
   ],
   "source": [
    "runner.create_model(best_archs_list[0]['Decoded architecture'])"
   ]
  },
  {
   "cell_type": "markdown",
   "metadata": {},
   "source": [
    "# Visualize Model"
   ]
  },
  {
   "cell_type": "code",
   "execution_count": 20,
   "metadata": {
    "tags": []
   },
   "outputs": [],
   "source": [
    "%%capture\n",
    "runner.visualize_model(outfile_path=f\"figs/nas/nas_model_approach_1.png\")"
   ]
  },
  {
   "cell_type": "code",
   "execution_count": 21,
   "metadata": {
    "tags": []
   },
   "outputs": [],
   "source": [
    "%%capture\n",
    "runner.model_summary()"
   ]
  },
  {
   "cell_type": "markdown",
   "metadata": {},
   "source": [
    "# Training Model"
   ]
  },
  {
   "cell_type": "code",
   "execution_count": 22,
   "metadata": {
    "tags": []
   },
   "outputs": [
    {
     "name": "stdout",
     "output_type": "stream",
     "text": [
      "-------------------- train model -------------------\n",
      "Training MOBILENET_V2 network\n",
      " .. Not fine tuning base model...\n",
      "  .. Total params: 3,208,084\n",
      "  .. Trainable params: 950,100\n",
      "  .. Non-trainable params: 2,257,984\n",
      "Epoch 1/3\n",
      "7/7 [==============================] - 9s 504ms/step - loss: 0.9682 - n_0_loss: 0.7776 - n_1_loss: 1.3780 - n_7_loss: 1.0735 - n_4_loss: 1.5269 - n_2_loss: 0.7930 - n_3_loss: 0.7979 - n_5_loss: 0.9292 - n_6_loss: 0.7351 - n_8_loss: 0.8251 - n_9_loss: 0.8455 - n_0_accuracy: 0.5161 - n_1_accuracy: 0.5138 - n_7_accuracy: 0.5138 - n_4_accuracy: 0.4954 - n_2_accuracy: 0.5367 - n_3_accuracy: 0.5046 - n_5_accuracy: 0.5183 - n_6_accuracy: 0.5069 - n_8_accuracy: 0.4977 - n_9_accuracy: 0.4633 - val_loss: 2.8252 - val_n_0_loss: 3.4629 - val_n_1_loss: 3.5118 - val_n_7_loss: 2.6126 - val_n_4_loss: 4.4310 - val_n_2_loss: 1.9071 - val_n_3_loss: 2.1052 - val_n_5_loss: 0.7861 - val_n_6_loss: 2.4690 - val_n_8_loss: 1.0679 - val_n_9_loss: 5.8980 - val_n_0_accuracy: 0.5312 - val_n_1_accuracy: 0.4375 - val_n_7_accuracy: 0.5469 - val_n_4_accuracy: 0.5625 - val_n_2_accuracy: 0.5312 - val_n_3_accuracy: 0.5000 - val_n_5_accuracy: 0.5312 - val_n_6_accuracy: 0.4844 - val_n_8_accuracy: 0.5156 - val_n_9_accuracy: 0.5000\n",
      "\n",
      "Epoch 00001: val_loss improved from inf to 2.82515, saving model to training_ckpt/best_model.hdf5\n"
     ]
    },
    {
     "name": "stderr",
     "output_type": "stream",
     "text": [
      "/home/guilherme/anaconda3/envs/mteval-icao-reqs/submodules/icao_nets_training/lib/python3.8/site-packages/tensorflow/python/keras/utils/generic_utils.py:494: CustomMaskWarning: Custom mask layers require a config and must override get_config. When loading, the custom mask layer must be passed to the custom_objects argument.\n",
      "  warnings.warn('Custom mask layers require a config and must override '\n"
     ]
    },
    {
     "name": "stdout",
     "output_type": "stream",
     "text": [
      "Epoch 2/3\n",
      "7/7 [==============================] - 2s 294ms/step - loss: 0.7132 - n_0_loss: 0.7031 - n_1_loss: 0.7086 - n_7_loss: 0.7369 - n_4_loss: 0.7500 - n_2_loss: 0.7096 - n_3_loss: 0.6959 - n_5_loss: 0.7067 - n_6_loss: 0.6996 - n_8_loss: 0.6934 - n_9_loss: 0.7284 - n_0_accuracy: 0.4908 - n_1_accuracy: 0.4633 - n_7_accuracy: 0.5321 - n_4_accuracy: 0.4725 - n_2_accuracy: 0.4725 - n_3_accuracy: 0.4931 - n_5_accuracy: 0.5069 - n_6_accuracy: 0.4954 - n_8_accuracy: 0.4817 - n_9_accuracy: 0.4977 - val_loss: 2.4427 - val_n_0_loss: 1.9652 - val_n_1_loss: 0.7268 - val_n_7_loss: 7.9668 - val_n_4_loss: 3.3671 - val_n_2_loss: 0.8344 - val_n_3_loss: 1.1945 - val_n_5_loss: 1.8184 - val_n_6_loss: 1.0523 - val_n_8_loss: 1.1220 - val_n_9_loss: 4.3797 - val_n_0_accuracy: 0.5312 - val_n_1_accuracy: 0.5625 - val_n_7_accuracy: 0.4531 - val_n_4_accuracy: 0.5625 - val_n_2_accuracy: 0.4688 - val_n_3_accuracy: 0.5000 - val_n_5_accuracy: 0.4688 - val_n_6_accuracy: 0.4844 - val_n_8_accuracy: 0.4844 - val_n_9_accuracy: 0.5000\n",
      "\n",
      "Epoch 00002: val_loss improved from 2.82515 to 2.44272, saving model to training_ckpt/best_model.hdf5\n",
      "Epoch 3/3\n",
      "7/7 [==============================] - 2s 290ms/step - loss: 0.7066 - n_0_loss: 0.7078 - n_1_loss: 0.6951 - n_7_loss: 0.7440 - n_4_loss: 0.7143 - n_2_loss: 0.6945 - n_3_loss: 0.6989 - n_5_loss: 0.7141 - n_6_loss: 0.6979 - n_8_loss: 0.6954 - n_9_loss: 0.7043 - n_0_accuracy: 0.4817 - n_1_accuracy: 0.5000 - n_7_accuracy: 0.4610 - n_4_accuracy: 0.5023 - n_2_accuracy: 0.5069 - n_3_accuracy: 0.4472 - n_5_accuracy: 0.4839 - n_6_accuracy: 0.4908 - n_8_accuracy: 0.4702 - n_9_accuracy: 0.5069 - val_loss: 1.4226 - val_n_0_loss: 1.4263 - val_n_1_loss: 0.7619 - val_n_7_loss: 0.8482 - val_n_4_loss: 2.5424 - val_n_2_loss: 0.7692 - val_n_3_loss: 0.8376 - val_n_5_loss: 4.5113 - val_n_6_loss: 0.8470 - val_n_8_loss: 0.8016 - val_n_9_loss: 0.8806 - val_n_0_accuracy: 0.4688 - val_n_1_accuracy: 0.4375 - val_n_7_accuracy: 0.5469 - val_n_4_accuracy: 0.4375 - val_n_2_accuracy: 0.4688 - val_n_3_accuracy: 0.5000 - val_n_5_accuracy: 0.4688 - val_n_6_accuracy: 0.4844 - val_n_8_accuracy: 0.4844 - val_n_9_accuracy: 0.5000\n",
      "\n",
      "Epoch 00003: val_loss improved from 2.44272 to 1.42261, saving model to training_ckpt/best_model.hdf5\n"
     ]
    }
   ],
   "source": [
    "runner.train_model()"
   ]
  },
  {
   "cell_type": "markdown",
   "metadata": {},
   "source": [
    "# Plots"
   ]
  },
  {
   "cell_type": "code",
   "execution_count": 23,
   "metadata": {
    "tags": []
   },
   "outputs": [
    {
     "name": "stdout",
     "output_type": "stream",
     "text": [
      "-------------------- draw training history -------------------\n"
     ]
    },
    {
     "data": {
      "image/png": "[encoded data removed]",
      "text/plain": [
       "<Figure size 1440x1800 with 4 Axes>"
      ]
     },
     "metadata": {
      "needs_background": "light"
     },
     "output_type": "display_data"
    }
   ],
   "source": [
    "runner.draw_training_history()"
   ]
  },
  {
   "cell_type": "markdown",
   "metadata": {},
   "source": [
    "# Load Best Model"
   ]
  },
  {
   "cell_type": "code",
   "execution_count": 24,
   "metadata": {},
   "outputs": [
    {
     "name": "stdout",
     "output_type": "stream",
     "text": [
      "-------------------- load best model -------------------\n",
      "..Loading best model\n",
      "..Checkpoint weights loaded\n"
     ]
    }
   ],
   "source": [
    "runner.load_best_model()"
   ]
  },
  {
   "cell_type": "markdown",
   "metadata": {},
   "source": [
    "# Saving Trained Model"
   ]
  },
  {
   "cell_type": "code",
   "execution_count": 25,
   "metadata": {},
   "outputs": [
    {
     "name": "stdout",
     "output_type": "stream",
     "text": [
      "-------------------- save model -------------------\n",
      "Saving model\n"
     ]
    },
    {
     "name": "stderr",
     "output_type": "stream",
     "text": [
      "/home/guilherme/anaconda3/envs/mteval-icao-reqs/submodules/icao_nets_training/lib/python3.8/site-packages/tensorflow/python/keras/utils/generic_utils.py:494: CustomMaskWarning: Custom mask layers require a config and must override get_config. When loading, the custom mask layer must be passed to the custom_objects argument.\n",
      "  warnings.warn('Custom mask layers require a config and must override '\n"
     ]
    },
    {
     "name": "stdout",
     "output_type": "stream",
     "text": [
      "INFO:tensorflow:Assets written to: trained_model/assets\n",
      "..Model saved\n",
      "...Model path: trained_model\n",
      "Saving model to neptune\n",
      " ..Uploading file trained_model.zip\n",
      "Model saved into Neptune\n",
      "Saving process finished\n"
     ]
    }
   ],
   "source": [
    "runner.save_model()"
   ]
  },
  {
   "cell_type": "markdown",
   "metadata": {},
   "source": [
    "# Test Trained Model"
   ]
  },
  {
   "cell_type": "markdown",
   "metadata": {},
   "source": [
    "## Validation Split"
   ]
  },
  {
   "cell_type": "code",
   "execution_count": 26,
   "metadata": {
    "tags": []
   },
   "outputs": [
    {
     "name": "stdout",
     "output_type": "stream",
     "text": [
      "Testing Trained Model\n",
      "Predicting labels....\n",
      "2/2 [==============================] - 1s 39ms/step\n",
      "Prediction finished!\n",
      "  Task  0: n_0             | EER_mean: 0.49090 | EER_interp: 0.00000 | ACC: 0.52000\n",
      "  Task  1: n_1             | EER_mean: 0.48080 | EER_interp: 0.46470 | ACC: 0.51000\n",
      "  Task  2: n_2             | EER_mean: 0.49260 | EER_interp: 0.48630 | ACC: 0.48000\n",
      "  Task  3: n_3             | EER_mean: 0.51170 | EER_interp: 0.52160 | ACC: 0.47000\n",
      "  Task  4: n_4             | EER_mean: 0.48080 | EER_interp: 0.46470 | ACC: 0.51000\n",
      "  Task  5: n_5             | EER_mean: 0.50440 | EER_interp: 0.00000 | ACC: 0.55000\n",
      "  Task  6: n_6             | EER_mean: 0.51450 | EER_interp: 0.00000 | ACC: 0.54000\n",
      "  Task  7: n_7             | EER_mean: 0.50570 | EER_interp: 0.00000 | ACC: 0.44000\n",
      "  Task  8: n_8             | EER_mean: 0.48460 | EER_interp: 0.00000 | ACC: 0.45000\n",
      "  Task  9: n_9             | EER_mean: 0.51000 | EER_interp: 0.51840 | ACC: 0.49000\n",
      "final_EER_mean: 24.56% | final_EER_median: 23.24% | final_EER_std_dv: 24.62% | final_ACC: 49.6%\n"
     ]
    }
   ],
   "source": [
    "runner.set_model_evaluator_data_src(DataSource.VALIDATION)\n",
    "runner.test_model(verbose=False)"
   ]
  },
  {
   "cell_type": "markdown",
   "metadata": {},
   "source": [
    "## Test Split"
   ]
  },
  {
   "cell_type": "code",
   "execution_count": 27,
   "metadata": {
    "tags": []
   },
   "outputs": [
    {
     "name": "stdout",
     "output_type": "stream",
     "text": [
      "Testing Trained Model\n",
      "Predicting labels....\n",
      "1/1 [==============================] - 0s 437ms/step\n",
      "Prediction finished!\n",
      "  Task  0: n_0             | EER_mean: 0.47310 | EER_interp: 0.00000 | ACC: 0.56000\n",
      "  Task  1: n_1             | EER_mean: 0.53110 | EER_interp: 0.55600 | ACC: 0.46000\n",
      "  Task  2: n_2             | EER_mean: 0.50230 | EER_interp: 0.50410 | ACC: 0.56000\n",
      "  Task  3: n_3             | EER_mean: 0.46890 | EER_interp: 0.44400 | ACC: 0.54000\n",
      "  Task  4: n_4             | EER_mean: 0.52490 | EER_interp: 0.54520 | ACC: 0.52000\n",
      "  Task  5: n_5             | EER_mean: 0.46890 | EER_interp: 0.00000 | ACC: 0.52000\n",
      "  Task  6: n_6             | EER_mean: 0.49110 | EER_interp: 0.00000 | ACC: 0.52000\n",
      "  Task  7: n_7             | EER_mean: 0.46640 | EER_interp: 0.00000 | ACC: 0.48000\n",
      "  Task  8: n_8             | EER_mean: 0.50000 | EER_interp: 0.00000 | ACC: 0.60000\n",
      "  Task  9: n_9             | EER_mean: 0.54550 | EER_interp: 0.00000 | ACC: 0.50000\n",
      "final_EER_mean: 20.49% | final_EER_median: 0.0% | final_EER_std_dv: 25.25% | final_ACC: 52.6%\n"
     ]
    }
   ],
   "source": [
    "runner.set_model_evaluator_data_src(DataSource.TEST)\n",
    "runner.test_model(verbose=False)"
   ]
  },
  {
   "cell_type": "markdown",
   "metadata": {},
   "source": [
    "# Visualize Model Classification"
   ]
  },
  {
   "cell_type": "raw",
   "metadata": {},
   "source": [
    "runner.visualize_predictions()"
   ]
  },
  {
   "cell_type": "markdown",
   "metadata": {},
   "source": [
    "# Finishing Experiment Manager"
   ]
  },
  {
   "cell_type": "code",
   "execution_count": 28,
   "metadata": {
    "tags": []
   },
   "outputs": [
    {
     "name": "stdout",
     "output_type": "stream",
     "text": [
      "-------------------- finish experiment -------------------\n",
      "Finishing Neptune\n",
      "Shutting down background jobs, please wait a moment...\n",
      "Done!\n",
      "Waiting for the remaining 29 operations to synchronize with Neptune. Do not kill this process.\n",
      "All 29 operations synced, thanks for waiting!\n",
      "Explore the metadata in the Neptune app:\n",
      "https://app.neptune.ai/guilhermemg/icao-nets-training-2/e/ICAO-367\n"
     ]
    }
   ],
   "source": [
    "runner.finish_experiment()"
   ]
  }
 ],
 "metadata": {
  "interpreter": {
   "hash": "85f5044ba23e75135dc4c908fd4d7609c1c80b195047fdb4d16ee0e66a953254"
  },
  "kernelspec": {
   "display_name": "Python 3 (ipykernel)",
   "language": "python",
   "name": "python3"
  },
  "language_info": {
   "codemirror_mode": {
    "name": "ipython",
    "version": 3
   },
   "file_extension": ".py",
   "mimetype": "text/x-python",
   "name": "python",
   "nbconvert_exporter": "python",
   "pygments_lexer": "ipython3",
   "version": "3.8.0"
  },
  "toc-autonumbering": true
 },
 "nbformat": 4,
 "nbformat_minor": 4
}

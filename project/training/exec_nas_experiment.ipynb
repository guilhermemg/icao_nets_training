{
 "cells": [
  {
   "cell_type": "markdown",
   "metadata": {},
   "source": [
    "# Import Libraries"
   ]
  },
  {
   "cell_type": "code",
   "execution_count": 1,
   "metadata": {},
   "outputs": [],
   "source": [
    "%load_ext autoreload\n",
    "%autoreload 2"
   ]
  },
  {
   "cell_type": "code",
   "execution_count": 2,
   "metadata": {
    "tags": []
   },
   "outputs": [
    {
     "name": "stdout",
     "output_type": "stream",
     "text": [
      " ==> Restrict GPU memory growth: True\n"
     ]
    }
   ],
   "source": [
    "import os\n",
    "# disable tensorflow log level infos\n",
    "os.environ['TF_CPP_MIN_LOG_LEVEL'] = '2' # show only errors\n",
    "\n",
    "import sys\n",
    "import pandas as pd\n",
    "\n",
    "if '..' not in sys.path:\n",
    "    sys.path.insert(0, '..')\n",
    "\n",
    "from src.m_utils import constants as cts\n",
    "from src.base.data_loaders.data_loader import DLName\n",
    "from src.base.gt_loaders.gt_names import GTName\n",
    "from src.exp_runner import ExperimentRunner\n",
    "from src.base.experiment.benchmark_dataset import BenchmarkDataset\n",
    "from src.base.experiment.model_evaluator import DataSource, DataPredSelection\n",
    "from src.base.experiment.base_models import BaseModel\n",
    "from src.base.experiment.optimizers import Optimizer\n",
    "from src.m_utils.mtl_approach import MTLApproach\n",
    "from src.m_utils.nas_mtl_approach import NAS_MTLApproach\n",
    "from src.m_utils.constants import ICAO_REQ, MNIST_TASK"
   ]
  },
  {
   "cell_type": "markdown",
   "metadata": {},
   "source": [
    "# Start Network runner"
   ]
  },
  {
   "cell_type": "code",
   "execution_count": 3,
   "metadata": {
    "tags": []
   },
   "outputs": [
    {
     "name": "stdout",
     "output_type": "stream",
     "text": [
      "-------------------- Init ExperimentRunner -------------------\n",
      "---------------------------\n",
      "Parent Process ID: 70221\n",
      "Process ID: 72509\n",
      "---------------------------\n",
      "-----\n",
      "Use Neptune:  True\n",
      "-----\n",
      "-------------------\n",
      "Args: \n",
      "{'exp_params': {'description': 'NAS Approach 1 with MNIST dataset with 50 '\n",
      "                               'trials and patience and 1 child epoch',\n",
      "                'name': 'neural_arch_search',\n",
      "                'src_files': ['src'],\n",
      "                'tags': ['nas',\n",
      "                         'nas_approach_1',\n",
      "                         'benchamark',\n",
      "                         'mnist',\n",
      "                         '1_child_epochs']},\n",
      " 'nas_params': {'controller_batch_size': 32,\n",
      "                'controller_epochs': 50,\n",
      "                'max_blocks_per_branch': 5,\n",
      "                'n_child_epochs': 1,\n",
      "                'n_trials': 50},\n",
      " 'net_train_params': {'base_model': <BaseModel.MOBILENET_V2: {'name': 'mobilnet_v2', 'target_size': (224, 224), 'prep_function': <function preprocess_input at 0x7f17f77678b0>}>,\n",
      "                      'batch_size': 32,\n",
      "                      'dropout': 0.3,\n",
      "                      'early_stopping': 5,\n",
      "                      'learning_rate': 0.001,\n",
      "                      'n_epochs': 50,\n",
      "                      'optimizer': <Optimizer.ADAMAX: 'Adamax'>},\n",
      " 'properties': {'approach': <NAS_MTLApproach.APPROACH_2: 'approach_2'>,\n",
      "                'balance_input_data': False,\n",
      "                'benchmarking': {'benchmark_dataset': <BenchmarkDataset.MNIST: {'name': 'mnist', 'target_cols': ['n_0', 'n_1', 'n_2', 'n_3', 'n_4', 'n_5', 'n_6', 'n_7', 'n_8', 'n_9']}>,\n",
      "                                 'tasks': [<MNIST_TASK.N_0: 'n_0'>,\n",
      "                                           <MNIST_TASK.N_1: 'n_1'>,\n",
      "                                           <MNIST_TASK.N_2: 'n_2'>,\n",
      "                                           <MNIST_TASK.N_3: 'n_3'>,\n",
      "                                           <MNIST_TASK.N_4: 'n_4'>,\n",
      "                                           <MNIST_TASK.N_5: 'n_5'>,\n",
      "                                           <MNIST_TASK.N_6: 'n_6'>,\n",
      "                                           <MNIST_TASK.N_7: 'n_7'>,\n",
      "                                           <MNIST_TASK.N_8: 'n_8'>,\n",
      "                                           <MNIST_TASK.N_9: 'n_9'>],\n",
      "                                 'use_benchmark_data': True},\n",
      "                'exec_nas': True,\n",
      "                'icao_data': {'aligned': False,\n",
      "                              'icao_dl': {'tagger_model': None,\n",
      "                                          'use_dl_data': False},\n",
      "                              'icao_gt': {'gt_names': {'test': [],\n",
      "                                                       'train_validation': [],\n",
      "                                                       'train_validation_test': [<GTName.FVC: 'fvc'>]},\n",
      "                                          'use_gt_data': False},\n",
      "                              'reqs': [<ICAO_REQ.MOUTH: 'mouth'>,\n",
      "                                       <ICAO_REQ.ROTATION: 'rotation'>,\n",
      "                                       <ICAO_REQ.L_AWAY: 'l_away'>,\n",
      "                                       <ICAO_REQ.EYES_CLOSED: 'eyes_closed'>,\n",
      "                                       <ICAO_REQ.CLOSE: 'close'>,\n",
      "                                       <ICAO_REQ.HAT: 'hat'>,\n",
      "                                       <ICAO_REQ.DARK_GLASSES: 'dark_glasses'>,\n",
      "                                       <ICAO_REQ.FRAMES_HEAVY: 'frames_heavy'>,\n",
      "                                       <ICAO_REQ.FRAME_EYES: 'frame_eyes'>,\n",
      "                                       <ICAO_REQ.FLASH_LENSES: 'flash_lenses'>,\n",
      "                                       <ICAO_REQ.VEIL: 'veil'>,\n",
      "                                       <ICAO_REQ.REFLECTION: 'reflection'>,\n",
      "                                       <ICAO_REQ.LIGHT: 'light'>,\n",
      "                                       <ICAO_REQ.SHADOW_FACE: 'sh_face'>,\n",
      "                                       <ICAO_REQ.SHADOW_HEAD: 'sh_head'>,\n",
      "                                       <ICAO_REQ.BLURRED: 'blurred'>,\n",
      "                                       <ICAO_REQ.INK_MARK: 'ink_mark'>,\n",
      "                                       <ICAO_REQ.SKIN_TONE: 'skin_tone'>,\n",
      "                                       <ICAO_REQ.WASHED_OUT: 'washed_out'>,\n",
      "                                       <ICAO_REQ.PIXELATION: 'pixelation'>,\n",
      "                                       <ICAO_REQ.HAIR_EYES: 'hair_eyes'>,\n",
      "                                       <ICAO_REQ.BACKGROUND: 'background'>,\n",
      "                                       <ICAO_REQ.RED_EYES: 'red_eyes'>]},\n",
      "                'orig_model_experiment_id': '',\n",
      "                'sample_prop': 1.0,\n",
      "                'sample_training_data': False,\n",
      "                'save_trained_model': True,\n",
      "                'train_model': True},\n",
      " 'use_neptune': True}\n",
      "-------------------\n",
      "----\n",
      "Base Model Name:  BaseModel.MOBILENET_V2\n",
      "----\n",
      "MTL Model: True\n",
      "Approach: NAS_MTLApproach.APPROACH_2\n",
      "----\n",
      "--------------------  starting neptune  -------------------\n",
      "Starting Neptune\n",
      "https://app.neptune.ai/guilhermemg/icao-nets-training-2/e/ICAO-339\n",
      "Remember to stop your run once you’ve finished logging your metadata (https://docs.neptune.ai/api-reference/run#.stop). It will be stopped automatically only when the notebook kernel/interactive console is terminated.\n",
      "----\n",
      "----\n",
      "Checking model existence locally...\n",
      "Training a new model! Not checking model existence\n",
      "----\n",
      "------------------------------\n",
      "Checking GPU availability\n",
      " ..GPU is available!\n",
      "------------------------------\n"
     ]
    },
    {
     "name": "stderr",
     "output_type": "stream",
     "text": [
      "/home/guilherme/anaconda3/envs/mteval-icao-reqs/submodules/icao_nets_training/lib/python3.8/site-packages/tensorflow/python/keras/optimizer_v2/optimizer_v2.py:374: UserWarning: The `lr` argument is deprecated, use `learning_rate` instead.\n",
      "  warnings.warn(\n"
     ]
    }
   ],
   "source": [
    "kwargs = { \n",
    "    'use_neptune': True,\n",
    "    'exp_params' : {\n",
    "        'name': 'neural_arch_search',\n",
    "        'description': 'NAS Approach 1 with MNIST dataset with 50 trials and patience and 1 child epoch',\n",
    "        'tags': ['nas', 'nas_approach_1', 'benchamark', 'mnist', '1_child_epochs'],\n",
    "        'src_files': [\"src\"]\n",
    "    },\n",
    "    'properties': {\n",
    "        'approach': NAS_MTLApproach.APPROACH_2,\n",
    "        'benchmarking': {\n",
    "            'use_benchmark_data': True,\n",
    "            'benchmark_dataset': BenchmarkDataset.MNIST,\n",
    "            'tasks': list(MNIST_TASK)\n",
    "        },\n",
    "        'icao_data': {\n",
    "            'icao_gt': {\n",
    "                'use_gt_data': False,\n",
    "                'gt_names': {\n",
    "                    'train_validation': [],\n",
    "                    'test': [],\n",
    "                    'train_validation_test': [GTName.FVC]\n",
    "                },\n",
    "            },\n",
    "            'icao_dl': {\n",
    "                'use_dl_data': False,\n",
    "                'tagger_model': None\n",
    "            },\n",
    "            'reqs': list(ICAO_REQ),\n",
    "            'aligned': False\n",
    "        },\n",
    "        'balance_input_data': False,\n",
    "        'train_model': True,\n",
    "        'save_trained_model': True,\n",
    "        'exec_nas': True,\n",
    "        'orig_model_experiment_id': '',\n",
    "        'sample_training_data': False,\n",
    "        'sample_prop': 1.0\n",
    "    },\n",
    "    'net_train_params': {\n",
    "        'base_model': BaseModel.MOBILENET_V2,\n",
    "        'batch_size': 32,\n",
    "        'n_epochs': 50,\n",
    "        'early_stopping': 5,\n",
    "        'learning_rate': 1e-3,\n",
    "        'optimizer': Optimizer.ADAMAX,\n",
    "        'dropout': 0.3\n",
    "    },\n",
    "    'nas_params': {\n",
    "        'max_blocks_per_branch': 5,\n",
    "        'n_child_epochs': 1,\n",
    "        'controller_epochs': 50,\n",
    "        'controller_batch_size': 32,\n",
    "        'n_trials': 50\n",
    "    }\n",
    "}\n",
    "\n",
    "runner = ExperimentRunner(**kwargs)"
   ]
  },
  {
   "cell_type": "markdown",
   "metadata": {},
   "source": [
    "# Load Data"
   ]
  },
  {
   "cell_type": "code",
   "execution_count": 4,
   "metadata": {
    "tags": []
   },
   "outputs": [
    {
     "name": "stdout",
     "output_type": "stream",
     "text": [
      "-------------------- load training data -------------------\n",
      "Loading data\n",
      "TrainData.shape: (48000, 11)\n",
      "ValidationData.shape: (12000, 11)\n",
      "TestData.shape: (10000, 11)\n",
      "Data loaded\n"
     ]
    }
   ],
   "source": [
    "runner.load_training_data()"
   ]
  },
  {
   "cell_type": "code",
   "execution_count": 5,
   "metadata": {
    "tags": []
   },
   "outputs": [
    {
     "data": {
      "text/html": [
       "<div>\n",
       "<style scoped>\n",
       "    .dataframe tbody tr th:only-of-type {\n",
       "        vertical-align: middle;\n",
       "    }\n",
       "\n",
       "    .dataframe tbody tr th {\n",
       "        vertical-align: top;\n",
       "    }\n",
       "\n",
       "    .dataframe thead th {\n",
       "        text-align: right;\n",
       "    }\n",
       "</style>\n",
       "<table border=\"1\" class=\"dataframe\">\n",
       "  <thead>\n",
       "    <tr style=\"text-align: right;\">\n",
       "      <th></th>\n",
       "      <th>img_name</th>\n",
       "      <th>n_0</th>\n",
       "      <th>n_1</th>\n",
       "      <th>n_2</th>\n",
       "      <th>n_3</th>\n",
       "      <th>n_4</th>\n",
       "      <th>n_5</th>\n",
       "      <th>n_6</th>\n",
       "      <th>n_7</th>\n",
       "      <th>n_8</th>\n",
       "      <th>n_9</th>\n",
       "    </tr>\n",
       "  </thead>\n",
       "  <tbody>\n",
       "    <tr>\n",
       "      <th>0</th>\n",
       "      <td>/home/guilherme/data1/Dropbox/Link to Desktop/...</td>\n",
       "      <td>0</td>\n",
       "      <td>0</td>\n",
       "      <td>0</td>\n",
       "      <td>0</td>\n",
       "      <td>1</td>\n",
       "      <td>0</td>\n",
       "      <td>0</td>\n",
       "      <td>0</td>\n",
       "      <td>0</td>\n",
       "      <td>0</td>\n",
       "    </tr>\n",
       "    <tr>\n",
       "      <th>1</th>\n",
       "      <td>/home/guilherme/data1/Dropbox/Link to Desktop/...</td>\n",
       "      <td>1</td>\n",
       "      <td>0</td>\n",
       "      <td>0</td>\n",
       "      <td>0</td>\n",
       "      <td>0</td>\n",
       "      <td>0</td>\n",
       "      <td>0</td>\n",
       "      <td>0</td>\n",
       "      <td>0</td>\n",
       "      <td>0</td>\n",
       "    </tr>\n",
       "    <tr>\n",
       "      <th>2</th>\n",
       "      <td>/home/guilherme/data1/Dropbox/Link to Desktop/...</td>\n",
       "      <td>0</td>\n",
       "      <td>1</td>\n",
       "      <td>0</td>\n",
       "      <td>0</td>\n",
       "      <td>0</td>\n",
       "      <td>0</td>\n",
       "      <td>0</td>\n",
       "      <td>0</td>\n",
       "      <td>0</td>\n",
       "      <td>0</td>\n",
       "    </tr>\n",
       "    <tr>\n",
       "      <th>3</th>\n",
       "      <td>/home/guilherme/data1/Dropbox/Link to Desktop/...</td>\n",
       "      <td>0</td>\n",
       "      <td>0</td>\n",
       "      <td>0</td>\n",
       "      <td>0</td>\n",
       "      <td>0</td>\n",
       "      <td>0</td>\n",
       "      <td>0</td>\n",
       "      <td>1</td>\n",
       "      <td>0</td>\n",
       "      <td>0</td>\n",
       "    </tr>\n",
       "    <tr>\n",
       "      <th>4</th>\n",
       "      <td>/home/guilherme/data1/Dropbox/Link to Desktop/...</td>\n",
       "      <td>0</td>\n",
       "      <td>0</td>\n",
       "      <td>0</td>\n",
       "      <td>0</td>\n",
       "      <td>0</td>\n",
       "      <td>0</td>\n",
       "      <td>0</td>\n",
       "      <td>0</td>\n",
       "      <td>1</td>\n",
       "      <td>0</td>\n",
       "    </tr>\n",
       "  </tbody>\n",
       "</table>\n",
       "</div>"
      ],
      "text/plain": [
       "                                            img_name  n_0  n_1  n_2  n_3  n_4  \\\n",
       "0  /home/guilherme/data1/Dropbox/Link to Desktop/...    0    0    0    0    1   \n",
       "1  /home/guilherme/data1/Dropbox/Link to Desktop/...    1    0    0    0    0   \n",
       "2  /home/guilherme/data1/Dropbox/Link to Desktop/...    0    1    0    0    0   \n",
       "3  /home/guilherme/data1/Dropbox/Link to Desktop/...    0    0    0    0    0   \n",
       "4  /home/guilherme/data1/Dropbox/Link to Desktop/...    0    0    0    0    0   \n",
       "\n",
       "   n_5  n_6  n_7  n_8  n_9  \n",
       "0    0    0    0    0    0  \n",
       "1    0    0    0    0    0  \n",
       "2    0    0    0    0    0  \n",
       "3    0    0    1    0    0  \n",
       "4    0    0    0    1    0  "
      ]
     },
     "execution_count": 5,
     "metadata": {},
     "output_type": "execute_result"
    }
   ],
   "source": [
    "runner.train_data.head()"
   ]
  },
  {
   "cell_type": "markdown",
   "metadata": {},
   "source": [
    "# <font color='red'>Producing Fake Data</font>"
   ]
  },
  {
   "cell_type": "raw",
   "metadata": {},
   "source": [
    "runner.produce_fake_data()"
   ]
  },
  {
   "cell_type": "markdown",
   "metadata": {},
   "source": [
    "# Data Generators"
   ]
  },
  {
   "cell_type": "code",
   "execution_count": 6,
   "metadata": {
    "tags": []
   },
   "outputs": [
    {
     "name": "stdout",
     "output_type": "stream",
     "text": [
      "-------------------- setup data generators -------------------\n",
      "Starting data generators\n",
      "Found 48000 validated image filenames.\n",
      "Found 12000 validated image filenames.\n",
      "Found 10000 validated image filenames.\n",
      "TOTAL: 70000\n",
      "\n",
      "Logging class indices\n",
      " .. MTL model not logging class indices!\n",
      "\n",
      "Logging class labels\n",
      " COMPLIANT label: 1\n",
      " NON_COMPLIANT label: 0\n",
      " DUMMY label: -1\n",
      " DUMMY_CLS label: 2\n",
      " NO_ANSWER label: -99\n"
     ]
    }
   ],
   "source": [
    "runner.setup_data_generators()"
   ]
  },
  {
   "cell_type": "markdown",
   "metadata": {},
   "source": [
    "# Setup Experiment"
   ]
  },
  {
   "cell_type": "code",
   "execution_count": 7,
   "metadata": {},
   "outputs": [
    {
     "name": "stdout",
     "output_type": "stream",
     "text": [
      "-------------------- create experiment -------------------\n",
      "Setup neptune properties and parameters\n",
      "Properties and parameters setup done!\n"
     ]
    }
   ],
   "source": [
    "runner.setup_experiment()"
   ]
  },
  {
   "cell_type": "markdown",
   "metadata": {},
   "source": [
    "# Labels Distribution"
   ]
  },
  {
   "cell_type": "code",
   "execution_count": 8,
   "metadata": {
    "tags": []
   },
   "outputs": [],
   "source": [
    "%%capture\n",
    "runner.summary_labels_dist()"
   ]
  },
  {
   "cell_type": "markdown",
   "metadata": {},
   "source": [
    "# Neural Architecture Search"
   ]
  },
  {
   "cell_type": "code",
   "execution_count": null,
   "metadata": {
    "collapsed": true,
    "jupyter": {
     "outputs_hidden": true
    },
    "tags": []
   },
   "outputs": [
    {
     "name": "stdout",
     "output_type": "stream",
     "text": [
      "-------------------- run neural architecture search -------------------\n",
      "Executing neural architectural search\n",
      "  Memory reseted\n",
      "\n",
      "==================== STARTING NEW TRIAL ====================\n",
      " selecting new config...\n",
      "  Memory is empty\n",
      " controller_pred: [[0.16985492 0.27474567 0.32593107 0.22946839]]\n",
      "\n",
      "\n",
      " ------ Training 1 | Config: {'n_denses_0': 1, 'n_denses_1': 2, 'n_denses_2': 2, 'n_denses_3': 2} -----\n",
      "\n",
      "Creating model...\n",
      "Model created\n",
      "Training MOBILENET_V2 network\n",
      " .. Not fine tuning base model...\n",
      "  .. Total params: 3,116,564\n",
      "  .. Trainable params: 858,580\n",
      "  .. Non-trainable params: 2,257,984\n",
      "\n",
      "Epoch 00001: val_loss improved from inf to 0.01738, saving model to training_ckpt/best_model.hdf5\n"
     ]
    },
    {
     "name": "stderr",
     "output_type": "stream",
     "text": [
      "/home/guilherme/anaconda3/envs/mteval-icao-reqs/submodules/icao_nets_training/lib/python3.8/site-packages/tensorflow/python/keras/utils/generic_utils.py:494: CustomMaskWarning: Custom mask layers require a config and must override get_config. When loading, the custom mask layer must be passed to the custom_objects argument.\n",
      "  warnings.warn('Custom mask layers require a config and must override '\n"
     ]
    },
    {
     "name": "stdout",
     "output_type": "stream",
     "text": [
      "..Loading best model\n",
      "..Checkpoint weights loaded\n",
      "Testing Trained Model\n",
      "Predicting labels....\n",
      "375/375 [==============================] - 9s 22ms/step\n",
      "Prediction finished!\n",
      "  Task  0: n_0             | EER_mean: 0.00090 | EER_interp: 0.00090 | ACC: 0.99910\n",
      "  Task  1: n_1             | EER_mean: 0.00150 | EER_interp: 0.00150 | ACC: 0.99850\n",
      "  Task  2: n_2             | EER_mean: 0.00680 | EER_interp: 0.00680 | ACC: 0.99320\n",
      "  Task  3: n_3             | EER_mean: 0.00330 | EER_interp: 0.00250 | ACC: 0.99820\n",
      "  Task  4: n_4             | EER_mean: 0.00510 | EER_interp: 0.00500 | ACC: 0.99510\n",
      "  Task  5: n_5             | EER_mean: 0.00210 | EER_interp: 0.00200 | ACC: 0.99790\n",
      "  Task  6: n_6             | EER_mean: 0.00290 | EER_interp: 0.00270 | ACC: 0.99720\n",
      "  Task  7: n_7             | EER_mean: 0.00390 | EER_interp: 0.00400 | ACC: 0.99610\n",
      "  Task  8: n_8             | EER_mean: 0.00390 | EER_interp: 0.00410 | ACC: 0.99610\n",
      "  Task  9: n_9             | EER_mean: 0.00590 | EER_interp: 0.00590 | ACC: 0.99410\n",
      "final_EER_mean: 0.35% | final_ACC: 99.65%\n",
      " .. training controller rnn ..\n",
      "  .. targets: [[0.16985492 0.27474567 0.32593107 0.22946839]]\n",
      "1/1 [==============================] - 0s 107ms/step - loss: 24.8627\n",
      "  Loss: 24.8627\n",
      "====================FINISHING TRIAL====================\n",
      "\n",
      "\n",
      "==================== STARTING NEW TRIAL ====================\n",
      " selecting new config...\n",
      "  Memory is not empty\n",
      "  Last Trial Conf: {'n_denses_0': 1, 'n_denses_1': 2, 'n_denses_2': 2, 'n_denses_3': 2}\n",
      "  LSTM entry: [[[1 2 2 2]]]\n",
      " controller_pred: [[0.2404137  0.24223796 0.25522983 0.26211852]]\n",
      "\n",
      "\n",
      " ------ Training 2 | Config: {'n_denses_0': 2, 'n_denses_1': 2, 'n_denses_2': 2, 'n_denses_3': 2} -----\n",
      "\n",
      "Creating model...\n",
      "Model created\n",
      "Training MOBILENET_V2 network\n",
      " .. Not fine tuning base model...\n",
      "  .. Total params: 3,120,724\n",
      "  .. Trainable params: 862,740\n",
      "  .. Non-trainable params: 2,257,984\n",
      "\n",
      "Epoch 00001: val_loss improved from inf to 0.01845, saving model to training_ckpt/best_model.hdf5\n"
     ]
    },
    {
     "name": "stderr",
     "output_type": "stream",
     "text": [
      "/home/guilherme/anaconda3/envs/mteval-icao-reqs/submodules/icao_nets_training/lib/python3.8/site-packages/tensorflow/python/keras/utils/generic_utils.py:494: CustomMaskWarning: Custom mask layers require a config and must override get_config. When loading, the custom mask layer must be passed to the custom_objects argument.\n",
      "  warnings.warn('Custom mask layers require a config and must override '\n"
     ]
    },
    {
     "name": "stdout",
     "output_type": "stream",
     "text": [
      "..Loading best model\n",
      "..Checkpoint weights loaded\n",
      "Testing Trained Model\n",
      "Predicting labels....\n",
      "375/375 [==============================] - 9s 23ms/step\n",
      "Prediction finished!\n",
      "  Task  0: n_0             | EER_mean: 0.00290 | EER_interp: 0.00280 | ACC: 0.99720\n",
      "  Task  1: n_1             | EER_mean: 0.00370 | EER_interp: 0.00290 | ACC: 0.99780\n",
      "  Task  2: n_2             | EER_mean: 0.00550 | EER_interp: 0.00570 | ACC: 0.99440\n",
      "  Task  3: n_3             | EER_mean: 0.00490 | EER_interp: 0.00460 | ACC: 0.99560\n",
      "  Task  4: n_4             | EER_mean: 0.00480 | EER_interp: 0.00490 | ACC: 0.99520\n",
      "  Task  5: n_5             | EER_mean: 0.00560 | EER_interp: 0.00550 | ACC: 0.99450\n",
      "  Task  6: n_6             | EER_mean: 0.00330 | EER_interp: 0.00330 | ACC: 0.99670\n",
      "  Task  7: n_7             | EER_mean: 0.00430 | EER_interp: 0.00420 | ACC: 0.99580\n",
      "  Task  8: n_8             | EER_mean: 0.00600 | EER_interp: 0.00520 | ACC: 0.99530\n",
      "  Task  9: n_9             | EER_mean: 0.00680 | EER_interp: 0.00640 | ACC: 0.99390\n",
      "final_EER_mean: 0.46% | final_ACC: 99.56%\n",
      " .. training controller rnn ..\n",
      "  .. targets: [[0.2404137  0.24223796 0.25522983 0.26211852]]\n",
      "1/1 [==============================] - 0s 99ms/step - loss: 24.7905\n",
      "  Loss: 24.7905\n",
      "====================FINISHING TRIAL====================\n",
      "\n",
      "\n",
      "==================== STARTING NEW TRIAL ====================\n",
      " selecting new config...\n",
      "  Memory is not empty\n",
      "  Last Trial Conf: {'n_denses_0': 2, 'n_denses_1': 2, 'n_denses_2': 2, 'n_denses_3': 2}\n",
      "  LSTM entry: [[[2 2 2 2]]]\n",
      " controller_pred: [[0.23665051 0.24089195 0.25414684 0.26831064]]\n",
      "\n",
      "\n",
      " ------ Training 3 | Config: {'n_denses_0': 2, 'n_denses_1': 2, 'n_denses_2': 2, 'n_denses_3': 2} -----\n",
      "\n",
      "Creating model...\n",
      "Model created\n",
      "Training MOBILENET_V2 network\n",
      " .. Not fine tuning base model...\n",
      "  .. Total params: 3,120,724\n",
      "  .. Trainable params: 862,740\n",
      "  .. Non-trainable params: 2,257,984\n",
      "\n",
      "Epoch 00001: val_loss improved from inf to 0.01640, saving model to training_ckpt/best_model.hdf5\n"
     ]
    },
    {
     "name": "stderr",
     "output_type": "stream",
     "text": [
      "/home/guilherme/anaconda3/envs/mteval-icao-reqs/submodules/icao_nets_training/lib/python3.8/site-packages/tensorflow/python/keras/utils/generic_utils.py:494: CustomMaskWarning: Custom mask layers require a config and must override get_config. When loading, the custom mask layer must be passed to the custom_objects argument.\n",
      "  warnings.warn('Custom mask layers require a config and must override '\n"
     ]
    },
    {
     "name": "stdout",
     "output_type": "stream",
     "text": [
      "..Loading best model\n",
      "..Checkpoint weights loaded\n",
      "Testing Trained Model\n",
      "Predicting labels....\n",
      "375/375 [==============================] - 9s 22ms/step\n",
      "Prediction finished!\n",
      "  Task  0: n_0             | EER_mean: 0.00140 | EER_interp: 0.00160 | ACC: 0.99860\n",
      "  Task  1: n_1             | EER_mean: 0.00310 | EER_interp: 0.00300 | ACC: 0.99690\n",
      "  Task  2: n_2             | EER_mean: 0.00570 | EER_interp: 0.00580 | ACC: 0.99420\n",
      "  Task  3: n_3             | EER_mean: 0.00470 | EER_interp: 0.00480 | ACC: 0.99530\n",
      "  Task  4: n_4             | EER_mean: 0.00310 | EER_interp: 0.00320 | ACC: 0.99680\n",
      "  Task  5: n_5             | EER_mean: 0.00470 | EER_interp: 0.00440 | ACC: 0.99580\n",
      "  Task  6: n_6             | EER_mean: 0.00420 | EER_interp: 0.00420 | ACC: 0.99580\n",
      "  Task  7: n_7             | EER_mean: 0.00470 | EER_interp: 0.00480 | ACC: 0.99530\n",
      "  Task  8: n_8             | EER_mean: 0.00770 | EER_interp: 0.00760 | ACC: 0.99250\n",
      "  Task  9: n_9             | EER_mean: 0.00510 | EER_interp: 0.00500 | ACC: 0.99510\n",
      "final_EER_mean: 0.44% | final_ACC: 99.56%\n",
      " .. training controller rnn ..\n",
      "  .. targets: [[0.23665051 0.24089195 0.25414684 0.26831064]]\n",
      "1/1 [==============================] - 0s 103ms/step - loss: 24.7410\n",
      "  Loss: 24.741\n",
      "====================FINISHING TRIAL====================\n",
      "\n",
      "\n",
      "==================== STARTING NEW TRIAL ====================\n",
      " selecting new config...\n",
      "  Memory is not empty\n",
      "  Last Trial Conf: {'n_denses_0': 2, 'n_denses_1': 2, 'n_denses_2': 2, 'n_denses_3': 2}\n",
      "  LSTM entry: [[[2 2 2 2]]]\n",
      " controller_pred: [[0.2367211  0.24102905 0.2539196  0.26833028]]\n",
      "\n",
      "\n",
      " ------ Training 4 | Config: {'n_denses_0': 2, 'n_denses_1': 2, 'n_denses_2': 2, 'n_denses_3': 2} -----\n",
      "\n",
      "Creating model...\n",
      "Model created\n",
      "Training MOBILENET_V2 network\n",
      " .. Not fine tuning base model...\n",
      "  .. Total params: 3,120,724\n",
      "  .. Trainable params: 862,740\n",
      "  .. Non-trainable params: 2,257,984\n",
      "\n",
      "Epoch 00001: val_loss improved from inf to 0.01670, saving model to training_ckpt/best_model.hdf5\n"
     ]
    },
    {
     "name": "stderr",
     "output_type": "stream",
     "text": [
      "/home/guilherme/anaconda3/envs/mteval-icao-reqs/submodules/icao_nets_training/lib/python3.8/site-packages/tensorflow/python/keras/utils/generic_utils.py:494: CustomMaskWarning: Custom mask layers require a config and must override get_config. When loading, the custom mask layer must be passed to the custom_objects argument.\n",
      "  warnings.warn('Custom mask layers require a config and must override '\n"
     ]
    },
    {
     "name": "stdout",
     "output_type": "stream",
     "text": [
      "..Loading best model\n",
      "..Checkpoint weights loaded\n",
      "Testing Trained Model\n",
      "Predicting labels....\n",
      "375/375 [==============================] - 9s 22ms/step\n",
      "Prediction finished!\n",
      "  Task  0: n_0             | EER_mean: 0.00150 | EER_interp: 0.00160 | ACC: 0.99850\n",
      "  Task  1: n_1             | EER_mean: 0.00330 | EER_interp: 0.00320 | ACC: 0.99680\n",
      "  Task  2: n_2             | EER_mean: 0.00200 | EER_interp: 0.00180 | ACC: 0.99800\n",
      "  Task  3: n_3             | EER_mean: 0.00410 | EER_interp: 0.00420 | ACC: 0.99580\n",
      "  Task  4: n_4             | EER_mean: 0.00340 | EER_interp: 0.00270 | ACC: 0.99780\n",
      "  Task  5: n_5             | EER_mean: 0.00280 | EER_interp: 0.00280 | ACC: 0.99720\n",
      "  Task  6: n_6             | EER_mean: 0.00190 | EER_interp: 0.00220 | ACC: 0.99810\n",
      "  Task  7: n_7             | EER_mean: 0.00510 | EER_interp: 0.00530 | ACC: 0.99480\n",
      "  Task  8: n_8             | EER_mean: 0.00430 | EER_interp: 0.00420 | ACC: 0.99580\n",
      "  Task  9: n_9             | EER_mean: 0.00420 | EER_interp: 0.00420 | ACC: 0.99590\n",
      "final_EER_mean: 0.32% | final_ACC: 99.69%\n",
      " .. training controller rnn ..\n",
      "  .. targets: [[0.2367211  0.24102905 0.2539196  0.26833028]]\n",
      "1/1 [==============================] - 0s 100ms/step - loss: 24.7240\n",
      "  Loss: 24.724\n",
      "====================FINISHING TRIAL====================\n",
      "\n",
      "\n",
      "==================== STARTING NEW TRIAL ====================\n",
      " selecting new config...\n",
      "  Memory is not empty\n",
      "  Last Trial Conf: {'n_denses_0': 2, 'n_denses_1': 2, 'n_denses_2': 2, 'n_denses_3': 2}\n",
      "  LSTM entry: [[[2 2 2 2]]]\n",
      " controller_pred: [[0.23665906 0.24087219 0.25425956 0.2682092 ]]\n",
      "\n",
      "\n",
      " ------ Training 5 | Config: {'n_denses_0': 2, 'n_denses_1': 2, 'n_denses_2': 2, 'n_denses_3': 2} -----\n",
      "\n",
      "Creating model...\n",
      "Model created\n",
      "Training MOBILENET_V2 network\n",
      " .. Not fine tuning base model...\n",
      "  .. Total params: 3,120,724\n",
      "  .. Trainable params: 862,740\n",
      "  .. Non-trainable params: 2,257,984\n",
      "\n",
      "Epoch 00001: val_loss improved from inf to 0.02467, saving model to training_ckpt/best_model.hdf5\n"
     ]
    },
    {
     "name": "stderr",
     "output_type": "stream",
     "text": [
      "/home/guilherme/anaconda3/envs/mteval-icao-reqs/submodules/icao_nets_training/lib/python3.8/site-packages/tensorflow/python/keras/utils/generic_utils.py:494: CustomMaskWarning: Custom mask layers require a config and must override get_config. When loading, the custom mask layer must be passed to the custom_objects argument.\n",
      "  warnings.warn('Custom mask layers require a config and must override '\n"
     ]
    },
    {
     "name": "stdout",
     "output_type": "stream",
     "text": [
      "..Loading best model\n",
      "..Checkpoint weights loaded\n",
      "Testing Trained Model\n",
      "Predicting labels....\n",
      "375/375 [==============================] - 9s 23ms/step\n",
      "Prediction finished!\n",
      "  Task  0: n_0             | EER_mean: 0.00110 | EER_interp: 0.00100 | ACC: 0.99890\n",
      "  Task  1: n_1             | EER_mean: 0.00580 | EER_interp: 0.00580 | ACC: 0.99420\n",
      "  Task  2: n_2             | EER_mean: 0.00680 | EER_interp: 0.00680 | ACC: 0.99320\n",
      "  Task  3: n_3             | EER_mean: 0.00350 | EER_interp: 0.00340 | ACC: 0.99650\n",
      "  Task  4: n_4             | EER_mean: 0.00420 | EER_interp: 0.00420 | ACC: 0.99580\n",
      "  Task  5: n_5             | EER_mean: 0.00370 | EER_interp: 0.00360 | ACC: 0.99650\n",
      "  Task  6: n_6             | EER_mean: 0.00490 | EER_interp: 0.00490 | ACC: 0.99510\n",
      "  Task  7: n_7             | EER_mean: 0.00480 | EER_interp: 0.00480 | ACC: 0.99530\n",
      "  Task  8: n_8             | EER_mean: 0.00600 | EER_interp: 0.00580 | ACC: 0.99420\n",
      "  Task  9: n_9             | EER_mean: 0.00650 | EER_interp: 0.00660 | ACC: 0.99350\n",
      "final_EER_mean: 0.47% | final_ACC: 99.53%\n",
      " .. training controller rnn ..\n",
      "  .. targets: [[0.23665906 0.24087219 0.25425956 0.2682092 ]]\n",
      "1/1 [==============================] - 0s 100ms/step - loss: 24.6346\n",
      "  Loss: 24.6346\n",
      "====================FINISHING TRIAL====================\n",
      "\n",
      "\n",
      "==================== STARTING NEW TRIAL ====================\n",
      " selecting new config...\n",
      "  Memory is not empty\n",
      "  Last Trial Conf: {'n_denses_0': 2, 'n_denses_1': 2, 'n_denses_2': 2, 'n_denses_3': 2}\n",
      "  LSTM entry: [[[2 2 2 2]]]\n",
      " controller_pred: [[0.23648854 0.24058448 0.25470963 0.26821736]]\n",
      "\n",
      "\n",
      " ------ Training 6 | Config: {'n_denses_0': 2, 'n_denses_1': 2, 'n_denses_2': 2, 'n_denses_3': 2} -----\n",
      "\n",
      "Creating model...\n",
      "Model created\n",
      "Training MOBILENET_V2 network\n",
      " .. Not fine tuning base model...\n",
      "  .. Total params: 3,120,724\n",
      "  .. Trainable params: 862,740\n",
      "  .. Non-trainable params: 2,257,984\n",
      "\n",
      "Epoch 00001: val_loss improved from inf to 0.01228, saving model to training_ckpt/best_model.hdf5\n"
     ]
    },
    {
     "name": "stderr",
     "output_type": "stream",
     "text": [
      "/home/guilherme/anaconda3/envs/mteval-icao-reqs/submodules/icao_nets_training/lib/python3.8/site-packages/tensorflow/python/keras/utils/generic_utils.py:494: CustomMaskWarning: Custom mask layers require a config and must override get_config. When loading, the custom mask layer must be passed to the custom_objects argument.\n",
      "  warnings.warn('Custom mask layers require a config and must override '\n"
     ]
    },
    {
     "name": "stdout",
     "output_type": "stream",
     "text": [
      "..Loading best model\n",
      "..Checkpoint weights loaded\n",
      "Testing Trained Model\n",
      "Predicting labels....\n",
      "375/375 [==============================] - 9s 23ms/step\n",
      "Prediction finished!\n",
      "  Task  0: n_0             | EER_mean: 0.00260 | EER_interp: 0.00260 | ACC: 0.99740\n",
      "  Task  1: n_1             | EER_mean: 0.00220 | EER_interp: 0.00220 | ACC: 0.99790\n",
      "  Task  2: n_2             | EER_mean: 0.00470 | EER_interp: 0.00490 | ACC: 0.99520\n",
      "  Task  3: n_3             | EER_mean: 0.00240 | EER_interp: 0.00180 | ACC: 0.99870\n",
      "  Task  4: n_4             | EER_mean: 0.00340 | EER_interp: 0.00300 | ACC: 0.99730\n",
      "  Task  5: n_5             | EER_mean: 0.00280 | EER_interp: 0.00240 | ACC: 0.99800\n",
      "  Task  6: n_6             | EER_mean: 0.00250 | EER_interp: 0.00240 | ACC: 0.99780\n",
      "  Task  7: n_7             | EER_mean: 0.00380 | EER_interp: 0.00390 | ACC: 0.99620\n",
      "  Task  8: n_8             | EER_mean: 0.00420 | EER_interp: 0.00420 | ACC: 0.99580\n",
      "  Task  9: n_9             | EER_mean: 0.00760 | EER_interp: 0.00760 | ACC: 0.99250\n",
      "final_EER_mean: 0.35% | final_ACC: 99.67%\n",
      " .. training controller rnn ..\n",
      "  .. targets: [[0.23648854 0.24058448 0.25470963 0.26821736]]\n",
      "1/1 [==============================] - 0s 100ms/step - loss: 24.6203\n",
      "  Loss: 24.6203\n",
      "====================FINISHING TRIAL====================\n",
      "\n",
      "\n",
      "==================== STARTING NEW TRIAL ====================\n",
      " selecting new config...\n",
      "  Memory is not empty\n",
      "  Last Trial Conf: {'n_denses_0': 2, 'n_denses_1': 2, 'n_denses_2': 2, 'n_denses_3': 2}\n",
      "  LSTM entry: [[[2 2 2 2]]]\n",
      " controller_pred: [[0.23700725 0.24140036 0.25351736 0.26807505]]\n",
      "\n",
      "\n",
      " ------ Training 7 | Config: {'n_denses_0': 2, 'n_denses_1': 2, 'n_denses_2': 2, 'n_denses_3': 2} -----\n",
      "\n",
      "Creating model...\n",
      "Model created\n",
      "Training MOBILENET_V2 network\n",
      " .. Not fine tuning base model...\n",
      "  .. Total params: 3,120,724\n",
      "  .. Trainable params: 862,740\n",
      "  .. Non-trainable params: 2,257,984\n",
      "\n",
      "Epoch 00001: val_loss improved from inf to 0.02208, saving model to training_ckpt/best_model.hdf5\n"
     ]
    },
    {
     "name": "stderr",
     "output_type": "stream",
     "text": [
      "/home/guilherme/anaconda3/envs/mteval-icao-reqs/submodules/icao_nets_training/lib/python3.8/site-packages/tensorflow/python/keras/utils/generic_utils.py:494: CustomMaskWarning: Custom mask layers require a config and must override get_config. When loading, the custom mask layer must be passed to the custom_objects argument.\n",
      "  warnings.warn('Custom mask layers require a config and must override '\n"
     ]
    },
    {
     "name": "stdout",
     "output_type": "stream",
     "text": [
      "..Loading best model\n",
      "..Checkpoint weights loaded\n",
      "Testing Trained Model\n",
      "Predicting labels....\n",
      "375/375 [==============================] - 9s 22ms/step\n",
      "Prediction finished!\n",
      "  Task  0: n_0             | EER_mean: 0.00410 | EER_interp: 0.00420 | ACC: 0.99590\n",
      "  Task  1: n_1             | EER_mean: 0.00300 | EER_interp: 0.00300 | ACC: 0.99700\n",
      "  Task  2: n_2             | EER_mean: 0.00510 | EER_interp: 0.00500 | ACC: 0.99510\n",
      "  Task  3: n_3             | EER_mean: 0.00450 | EER_interp: 0.00430 | ACC: 0.99560\n",
      "  Task  4: n_4             | EER_mean: 0.00340 | EER_interp: 0.00300 | ACC: 0.99720\n",
      "  Task  5: n_5             | EER_mean: 0.00280 | EER_interp: 0.00280 | ACC: 0.99730\n",
      "  Task  6: n_6             | EER_mean: 0.00770 | EER_interp: 0.00760 | ACC: 0.99230\n",
      "  Task  7: n_7             | EER_mean: 0.00550 | EER_interp: 0.00540 | ACC: 0.99460\n",
      "  Task  8: n_8             | EER_mean: 0.00630 | EER_interp: 0.00620 | ACC: 0.99380\n",
      "  Task  9: n_9             | EER_mean: 0.01020 | EER_interp: 0.00990 | ACC: 0.99030\n",
      "final_EER_mean: 0.51% | final_ACC: 99.49%\n",
      " .. training controller rnn ..\n",
      "  .. targets: [[0.23700725 0.24140036 0.25351736 0.26807505]]\n",
      "1/1 [==============================] - 0s 101ms/step - loss: 24.5262\n",
      "  Loss: 24.5262\n",
      "====================FINISHING TRIAL====================\n",
      "\n",
      "\n",
      "==================== STARTING NEW TRIAL ====================\n",
      " selecting new config...\n",
      "  Memory is not empty\n",
      "  Last Trial Conf: {'n_denses_0': 2, 'n_denses_1': 2, 'n_denses_2': 2, 'n_denses_3': 2}\n",
      "  LSTM entry: [[[2 2 2 2]]]\n",
      " controller_pred: [[0.23715486 0.24166244 0.25279754 0.26838517]]\n",
      "\n",
      "\n",
      " ------ Training 8 | Config: {'n_denses_0': 2, 'n_denses_1': 2, 'n_denses_2': 2, 'n_denses_3': 2} -----\n",
      "\n",
      "Creating model...\n",
      "Model created\n",
      "Training MOBILENET_V2 network\n",
      " .. Not fine tuning base model...\n",
      "  .. Total params: 3,120,724\n",
      "  .. Trainable params: 862,740\n",
      "  .. Non-trainable params: 2,257,984\n",
      "\n",
      "Epoch 00001: val_loss improved from inf to 0.03447, saving model to training_ckpt/best_model.hdf5\n"
     ]
    },
    {
     "name": "stderr",
     "output_type": "stream",
     "text": [
      "/home/guilherme/anaconda3/envs/mteval-icao-reqs/submodules/icao_nets_training/lib/python3.8/site-packages/tensorflow/python/keras/utils/generic_utils.py:494: CustomMaskWarning: Custom mask layers require a config and must override get_config. When loading, the custom mask layer must be passed to the custom_objects argument.\n",
      "  warnings.warn('Custom mask layers require a config and must override '\n"
     ]
    },
    {
     "name": "stdout",
     "output_type": "stream",
     "text": [
      "..Loading best model\n",
      "..Checkpoint weights loaded\n",
      "Testing Trained Model\n",
      "Predicting labels....\n",
      "375/375 [==============================] - 9s 22ms/step\n",
      "Prediction finished!\n",
      "  Task  0: n_0             | EER_mean: 0.00260 | EER_interp: 0.00260 | ACC: 0.99740\n",
      "  Task  1: n_1             | EER_mean: 0.00440 | EER_interp: 0.00420 | ACC: 0.99590\n",
      "  Task  2: n_2             | EER_mean: 0.00330 | EER_interp: 0.00340 | ACC: 0.99670\n",
      "  Task  3: n_3             | EER_mean: 0.00490 | EER_interp: 0.00460 | ACC: 0.99580\n",
      "  Task  4: n_4             | EER_mean: 0.00420 | EER_interp: 0.00420 | ACC: 0.99590\n",
      "  Task  5: n_5             | EER_mean: 0.00840 | EER_interp: 0.00820 | ACC: 0.99180\n",
      "  Task  6: n_6             | EER_mean: 0.00750 | EER_interp: 0.00750 | ACC: 0.99250\n",
      "  Task  7: n_7             | EER_mean: 0.00270 | EER_interp: 0.00260 | ACC: 0.99730\n",
      "  Task  8: n_8             | EER_mean: 0.00740 | EER_interp: 0.00760 | ACC: 0.99260\n",
      "  Task  9: n_9             | EER_mean: 0.00850 | EER_interp: 0.00850 | ACC: 0.99150\n",
      "final_EER_mean: 0.53% | final_ACC: 99.47%\n",
      " .. training controller rnn ..\n",
      "  .. targets: [[0.23715486 0.24166244 0.25279754 0.26838517]]\n",
      "1/1 [==============================] - 0s 100ms/step - loss: 24.4722\n",
      "  Loss: 24.4722\n",
      "====================FINISHING TRIAL====================\n",
      "\n",
      "\n",
      "==================== STARTING NEW TRIAL ====================\n",
      " selecting new config...\n",
      "  Memory is not empty\n",
      "  Last Trial Conf: {'n_denses_0': 2, 'n_denses_1': 2, 'n_denses_2': 2, 'n_denses_3': 2}\n",
      "  LSTM entry: [[[2 2 2 2]]]\n",
      " controller_pred: [[0.23719782 0.24169883 0.2528033  0.26830006]]\n",
      "\n",
      "\n",
      " ------ Training 9 | Config: {'n_denses_0': 2, 'n_denses_1': 2, 'n_denses_2': 2, 'n_denses_3': 2} -----\n",
      "\n",
      "Creating model...\n",
      "Model created\n",
      "Training MOBILENET_V2 network\n",
      " .. Not fine tuning base model...\n",
      "  .. Total params: 3,120,724\n",
      "  .. Trainable params: 862,740\n",
      "  .. Non-trainable params: 2,257,984\n",
      "\n",
      "Epoch 00001: val_loss improved from inf to 0.01984, saving model to training_ckpt/best_model.hdf5\n"
     ]
    },
    {
     "name": "stderr",
     "output_type": "stream",
     "text": [
      "/home/guilherme/anaconda3/envs/mteval-icao-reqs/submodules/icao_nets_training/lib/python3.8/site-packages/tensorflow/python/keras/utils/generic_utils.py:494: CustomMaskWarning: Custom mask layers require a config and must override get_config. When loading, the custom mask layer must be passed to the custom_objects argument.\n",
      "  warnings.warn('Custom mask layers require a config and must override '\n"
     ]
    },
    {
     "name": "stdout",
     "output_type": "stream",
     "text": [
      "..Loading best model\n",
      "..Checkpoint weights loaded\n",
      "Testing Trained Model\n",
      "Predicting labels....\n",
      "375/375 [==============================] - 9s 22ms/step\n",
      "Prediction finished!\n",
      "  Task  0: n_0             | EER_mean: 0.00190 | EER_interp: 0.00180 | ACC: 0.99810\n",
      "  Task  1: n_1             | EER_mean: 0.00400 | EER_interp: 0.00380 | ACC: 0.99600\n",
      "  Task  2: n_2             | EER_mean: 0.00760 | EER_interp: 0.00760 | ACC: 0.99250\n",
      "  Task  3: n_3             | EER_mean: 0.00330 | EER_interp: 0.00320 | ACC: 0.99680\n",
      "  Task  4: n_4             | EER_mean: 0.01020 | EER_interp: 0.01020 | ACC: 0.98980\n",
      "  Task  5: n_5             | EER_mean: 0.00190 | EER_interp: 0.00180 | ACC: 0.99820\n",
      "  Task  6: n_6             | EER_mean: 0.00360 | EER_interp: 0.00340 | ACC: 0.99640\n",
      "  Task  7: n_7             | EER_mean: 0.00240 | EER_interp: 0.00230 | ACC: 0.99780\n",
      "  Task  8: n_8             | EER_mean: 0.00570 | EER_interp: 0.00580 | ACC: 0.99420\n",
      "  Task  9: n_9             | EER_mean: 0.00490 | EER_interp: 0.00500 | ACC: 0.99510\n",
      "final_EER_mean: 0.45% | final_ACC: 99.55%\n",
      " .. training controller rnn ..\n",
      "  .. targets: [[0.23719782 0.24169883 0.2528033  0.26830006]]\n",
      "1/1 [==============================] - 0s 104ms/step - loss: 24.4432\n",
      "  Loss: 24.4432\n",
      "====================FINISHING TRIAL====================\n",
      "\n",
      "\n",
      "==================== STARTING NEW TRIAL ====================\n",
      " selecting new config...\n",
      "  Memory is not empty\n",
      "  Last Trial Conf: {'n_denses_0': 2, 'n_denses_1': 2, 'n_denses_2': 2, 'n_denses_3': 2}\n",
      "  LSTM entry: [[[2 2 2 2]]]\n",
      " controller_pred: [[0.23723291 0.24175149 0.2526143  0.2684013 ]]\n",
      "\n",
      "\n",
      " ------ Training 10 | Config: {'n_denses_0': 2, 'n_denses_1': 2, 'n_denses_2': 2, 'n_denses_3': 2} -----\n",
      "\n",
      "Creating model...\n",
      "Model created\n",
      "Training MOBILENET_V2 network\n",
      " .. Not fine tuning base model...\n",
      "  .. Total params: 3,120,724\n",
      "  .. Trainable params: 862,740\n",
      "  .. Non-trainable params: 2,257,984\n"
     ]
    },
    {
     "name": "stderr",
     "output_type": "stream",
     "text": [
      "Experiencing connection interruptions. Will try to reestablish communication with Neptune. Internal exception was: RequestsFutureAdapterTimeout\n"
     ]
    },
    {
     "name": "stdout",
     "output_type": "stream",
     "text": [
      "\n",
      "Epoch 00001: val_loss improved from inf to 0.01008, saving model to training_ckpt/best_model.hdf5\n"
     ]
    },
    {
     "name": "stderr",
     "output_type": "stream",
     "text": [
      "/home/guilherme/anaconda3/envs/mteval-icao-reqs/submodules/icao_nets_training/lib/python3.8/site-packages/tensorflow/python/keras/utils/generic_utils.py:494: CustomMaskWarning: Custom mask layers require a config and must override get_config. When loading, the custom mask layer must be passed to the custom_objects argument.\n",
      "  warnings.warn('Custom mask layers require a config and must override '\n",
      "Communication with Neptune restored!\n"
     ]
    },
    {
     "name": "stdout",
     "output_type": "stream",
     "text": [
      "..Loading best model\n",
      "..Checkpoint weights loaded\n",
      "Testing Trained Model\n",
      "Predicting labels....\n",
      "375/375 [==============================] - 9s 22ms/step\n",
      "Prediction finished!\n",
      "  Task  0: n_0             | EER_mean: 0.00100 | EER_interp: 0.00100 | ACC: 0.99900\n",
      "  Task  1: n_1             | EER_mean: 0.00370 | EER_interp: 0.00360 | ACC: 0.99660\n",
      "  Task  2: n_2             | EER_mean: 0.00420 | EER_interp: 0.00390 | ACC: 0.99630\n",
      "  Task  3: n_3             | EER_mean: 0.00330 | EER_interp: 0.00330 | ACC: 0.99670\n",
      "  Task  4: n_4             | EER_mean: 0.00320 | EER_interp: 0.00330 | ACC: 0.99680\n",
      "  Task  5: n_5             | EER_mean: 0.00190 | EER_interp: 0.00180 | ACC: 0.99820\n",
      "  Task  6: n_6             | EER_mean: 0.00420 | EER_interp: 0.00380 | ACC: 0.99650\n",
      "  Task  7: n_7             | EER_mean: 0.00160 | EER_interp: 0.00120 | ACC: 0.99850\n",
      "  Task  8: n_8             | EER_mean: 0.00430 | EER_interp: 0.00420 | ACC: 0.99580\n",
      "  Task  9: n_9             | EER_mean: 0.00510 | EER_interp: 0.00490 | ACC: 0.99520\n",
      "final_EER_mean: 0.31% | final_ACC: 99.7%\n",
      " .. training controller rnn ..\n",
      "  .. targets: [[0.23723291 0.24175149 0.2526143  0.2684013 ]]\n",
      "1/1 [==============================] - 1s 518ms/step - loss: 24.4318\n",
      "  Loss: 24.4318\n",
      "====================FINISHING TRIAL====================\n",
      "\n",
      "\n",
      "==================== STARTING NEW TRIAL ====================\n",
      " selecting new config...\n",
      "  Memory is not empty\n",
      "  Last Trial Conf: {'n_denses_0': 2, 'n_denses_1': 2, 'n_denses_2': 2, 'n_denses_3': 2}\n",
      "  LSTM entry: [[[2 2 2 2]]]\n",
      " controller_pred: [[0.23723717 0.24174239 0.2527718  0.26824868]]\n",
      "\n",
      "\n",
      " ------ Training 11 | Config: {'n_denses_0': 2, 'n_denses_1': 2, 'n_denses_2': 2, 'n_denses_3': 2} -----\n",
      "\n",
      "Creating model...\n",
      "Model created\n",
      "Training MOBILENET_V2 network\n",
      " .. Not fine tuning base model...\n",
      "  .. Total params: 3,120,724\n",
      "  .. Trainable params: 862,740\n",
      "  .. Non-trainable params: 2,257,984\n",
      "\n",
      "Epoch 00001: val_loss improved from inf to 0.02588, saving model to training_ckpt/best_model.hdf5\n"
     ]
    },
    {
     "name": "stderr",
     "output_type": "stream",
     "text": [
      "/home/guilherme/anaconda3/envs/mteval-icao-reqs/submodules/icao_nets_training/lib/python3.8/site-packages/tensorflow/python/keras/utils/generic_utils.py:494: CustomMaskWarning: Custom mask layers require a config and must override get_config. When loading, the custom mask layer must be passed to the custom_objects argument.\n",
      "  warnings.warn('Custom mask layers require a config and must override '\n"
     ]
    },
    {
     "name": "stdout",
     "output_type": "stream",
     "text": [
      "..Loading best model\n",
      "..Checkpoint weights loaded\n",
      "Testing Trained Model\n",
      "Predicting labels....\n",
      "375/375 [==============================] - 9s 22ms/step\n",
      "Prediction finished!\n",
      "  Task  0: n_0             | EER_mean: 0.00350 | EER_interp: 0.00340 | ACC: 0.99650\n",
      "  Task  1: n_1             | EER_mean: 0.00300 | EER_interp: 0.00290 | ACC: 0.99720\n",
      "  Task  2: n_2             | EER_mean: 0.00850 | EER_interp: 0.00850 | ACC: 0.99150\n",
      "  Task  3: n_3             | EER_mean: 0.00570 | EER_interp: 0.00510 | ACC: 0.99550\n",
      "  Task  4: n_4             | EER_mean: 0.00510 | EER_interp: 0.00510 | ACC: 0.99500\n",
      "  Task  5: n_5             | EER_mean: 0.00460 | EER_interp: 0.00460 | ACC: 0.99550\n",
      "  Task  6: n_6             | EER_mean: 0.00210 | EER_interp: 0.00230 | ACC: 0.99780\n",
      "  Task  7: n_7             | EER_mean: 0.00470 | EER_interp: 0.00480 | ACC: 0.99530\n",
      "  Task  8: n_8             | EER_mean: 0.00680 | EER_interp: 0.00680 | ACC: 0.99330\n",
      "  Task  9: n_9             | EER_mean: 0.00680 | EER_interp: 0.00640 | ACC: 0.99400\n",
      "final_EER_mean: 0.5% | final_ACC: 99.52%\n",
      " .. training controller rnn ..\n",
      "  .. targets: [[0.23723717 0.24174239 0.2527718  0.26824868]]\n",
      "1/1 [==============================] - 0s 103ms/step - loss: 24.3380\n",
      "  Loss: 24.338\n",
      "====================FINISHING TRIAL====================\n",
      "\n",
      "\n",
      "==================== STARTING NEW TRIAL ====================\n",
      " selecting new config...\n",
      "  Memory is not empty\n",
      "  Last Trial Conf: {'n_denses_0': 2, 'n_denses_1': 2, 'n_denses_2': 2, 'n_denses_3': 2}\n",
      "  LSTM entry: [[[2 2 2 2]]]\n",
      " controller_pred: [[0.23725623 0.24176045 0.25277683 0.2682065 ]]\n",
      "\n",
      "\n",
      " ------ Training 12 | Config: {'n_denses_0': 2, 'n_denses_1': 2, 'n_denses_2': 2, 'n_denses_3': 2} -----\n",
      "\n",
      "Creating model...\n",
      "Model created\n",
      "Training MOBILENET_V2 network\n",
      " .. Not fine tuning base model...\n",
      "  .. Total params: 3,120,724\n",
      "  .. Trainable params: 862,740\n",
      "  .. Non-trainable params: 2,257,984\n",
      "\n",
      "Epoch 00001: val_loss improved from inf to 0.02575, saving model to training_ckpt/best_model.hdf5\n"
     ]
    },
    {
     "name": "stderr",
     "output_type": "stream",
     "text": [
      "/home/guilherme/anaconda3/envs/mteval-icao-reqs/submodules/icao_nets_training/lib/python3.8/site-packages/tensorflow/python/keras/utils/generic_utils.py:494: CustomMaskWarning: Custom mask layers require a config and must override get_config. When loading, the custom mask layer must be passed to the custom_objects argument.\n",
      "  warnings.warn('Custom mask layers require a config and must override '\n"
     ]
    },
    {
     "name": "stdout",
     "output_type": "stream",
     "text": [
      "..Loading best model\n",
      "..Checkpoint weights loaded\n",
      "Testing Trained Model\n",
      "Predicting labels....\n",
      "375/375 [==============================] - 9s 22ms/step\n",
      "Prediction finished!\n",
      "  Task  0: n_0             | EER_mean: 0.00340 | EER_interp: 0.00260 | ACC: 0.99790\n",
      "  Task  1: n_1             | EER_mean: 0.00370 | EER_interp: 0.00360 | ACC: 0.99650\n",
      "  Task  2: n_2             | EER_mean: 0.00670 | EER_interp: 0.00680 | ACC: 0.99320\n",
      "  Task  3: n_3             | EER_mean: 0.01140 | EER_interp: 0.01130 | ACC: 0.98870\n",
      "  Task  4: n_4             | EER_mean: 0.00420 | EER_interp: 0.00400 | ACC: 0.99610\n",
      "  Task  5: n_5             | EER_mean: 0.00500 | EER_interp: 0.00480 | ACC: 0.99500\n",
      "  Task  6: n_6             | EER_mean: 0.00340 | EER_interp: 0.00340 | ACC: 0.99660\n",
      "  Task  7: n_7             | EER_mean: 0.00480 | EER_interp: 0.00480 | ACC: 0.99530\n",
      "  Task  8: n_8             | EER_mean: 0.00600 | EER_interp: 0.00580 | ACC: 0.99450\n",
      "  Task  9: n_9             | EER_mean: 0.00680 | EER_interp: 0.00680 | ACC: 0.99320\n",
      "final_EER_mean: 0.54% | final_ACC: 99.47%\n",
      " .. training controller rnn ..\n",
      "  .. targets: [[0.23725623 0.24176045 0.25277683 0.2682065 ]]\n",
      "1/1 [==============================] - 0s 102ms/step - loss: 24.2769\n",
      "  Loss: 24.2769\n",
      "====================FINISHING TRIAL====================\n",
      "\n",
      "\n",
      "==================== STARTING NEW TRIAL ====================\n",
      " selecting new config...\n",
      "  Memory is not empty\n",
      "  Last Trial Conf: {'n_denses_0': 2, 'n_denses_1': 2, 'n_denses_2': 2, 'n_denses_3': 2}\n",
      "  LSTM entry: [[[2 2 2 2]]]\n",
      " controller_pred: [[0.23729494 0.24180907 0.2526697  0.2682263 ]]\n",
      "\n",
      "\n",
      " ------ Training 13 | Config: {'n_denses_0': 2, 'n_denses_1': 2, 'n_denses_2': 2, 'n_denses_3': 2} -----\n",
      "\n",
      "Creating model...\n",
      "Model created\n",
      "Training MOBILENET_V2 network\n",
      " .. Not fine tuning base model...\n",
      "  .. Total params: 3,120,724\n",
      "  .. Trainable params: 862,740\n",
      "  .. Non-trainable params: 2,257,984\n",
      "\n",
      "Epoch 00001: val_loss improved from inf to 0.01375, saving model to training_ckpt/best_model.hdf5\n"
     ]
    },
    {
     "name": "stderr",
     "output_type": "stream",
     "text": [
      "/home/guilherme/anaconda3/envs/mteval-icao-reqs/submodules/icao_nets_training/lib/python3.8/site-packages/tensorflow/python/keras/utils/generic_utils.py:494: CustomMaskWarning: Custom mask layers require a config and must override get_config. When loading, the custom mask layer must be passed to the custom_objects argument.\n",
      "  warnings.warn('Custom mask layers require a config and must override '\n"
     ]
    },
    {
     "name": "stdout",
     "output_type": "stream",
     "text": [
      "..Loading best model\n",
      "..Checkpoint weights loaded\n",
      "Testing Trained Model\n",
      "Predicting labels....\n",
      "375/375 [==============================] - 9s 22ms/step\n",
      "Prediction finished!\n",
      "  Task  0: n_0             | EER_mean: 0.00340 | EER_interp: 0.00320 | ACC: 0.99690\n",
      "  Task  1: n_1             | EER_mean: 0.00340 | EER_interp: 0.00360 | ACC: 0.99660\n",
      "  Task  2: n_2             | EER_mean: 0.00410 | EER_interp: 0.00420 | ACC: 0.99590\n",
      "  Task  3: n_3             | EER_mean: 0.00330 | EER_interp: 0.00300 | ACC: 0.99720\n",
      "  Task  4: n_4             | EER_mean: 0.00340 | EER_interp: 0.00330 | ACC: 0.99680\n",
      "  Task  5: n_5             | EER_mean: 0.00370 | EER_interp: 0.00370 | ACC: 0.99630\n",
      "  Task  6: n_6             | EER_mean: 0.00190 | EER_interp: 0.00220 | ACC: 0.99800\n",
      "  Task  7: n_7             | EER_mean: 0.00260 | EER_interp: 0.00250 | ACC: 0.99740\n",
      "  Task  8: n_8             | EER_mean: 0.00460 | EER_interp: 0.00440 | ACC: 0.99540\n",
      "  Task  9: n_9             | EER_mean: 0.00610 | EER_interp: 0.00600 | ACC: 0.99390\n",
      "final_EER_mean: 0.36% | final_ACC: 99.64%\n",
      " .. training controller rnn ..\n",
      "  .. targets: [[0.23729494 0.24180907 0.2526697  0.2682263 ]]\n",
      "1/1 [==============================] - 0s 107ms/step - loss: 24.2708\n",
      "  Loss: 24.2708\n",
      "====================FINISHING TRIAL====================\n",
      "\n",
      "\n",
      "==================== STARTING NEW TRIAL ====================\n",
      " selecting new config...\n",
      "  Memory is not empty\n",
      "  Last Trial Conf: {'n_denses_0': 2, 'n_denses_1': 2, 'n_denses_2': 2, 'n_denses_3': 2}\n",
      "  LSTM entry: [[[2 2 2 2]]]\n",
      " controller_pred: [[0.23727769 0.24179016 0.25275594 0.26817623]]\n",
      "\n",
      "\n",
      " ------ Training 14 | Config: {'n_denses_0': 2, 'n_denses_1': 2, 'n_denses_2': 2, 'n_denses_3': 2} -----\n",
      "\n",
      "Creating model...\n",
      "Model created\n",
      "Training MOBILENET_V2 network\n",
      " .. Not fine tuning base model...\n",
      "  .. Total params: 3,120,724\n",
      "  .. Trainable params: 862,740\n",
      "  .. Non-trainable params: 2,257,984\n"
     ]
    },
    {
     "name": "stderr",
     "output_type": "stream",
     "text": [
      "Experiencing connection interruptions. Will try to reestablish communication with Neptune. Internal exception was: RequestsFutureAdapterTimeout\n",
      "Communication with Neptune restored!\n"
     ]
    },
    {
     "name": "stdout",
     "output_type": "stream",
     "text": [
      "\n",
      "Epoch 00001: val_loss improved from inf to 0.03521, saving model to training_ckpt/best_model.hdf5\n"
     ]
    },
    {
     "name": "stderr",
     "output_type": "stream",
     "text": [
      "/home/guilherme/anaconda3/envs/mteval-icao-reqs/submodules/icao_nets_training/lib/python3.8/site-packages/tensorflow/python/keras/utils/generic_utils.py:494: CustomMaskWarning: Custom mask layers require a config and must override get_config. When loading, the custom mask layer must be passed to the custom_objects argument.\n",
      "  warnings.warn('Custom mask layers require a config and must override '\n"
     ]
    },
    {
     "name": "stdout",
     "output_type": "stream",
     "text": [
      "..Loading best model\n",
      "..Checkpoint weights loaded\n",
      "Testing Trained Model\n",
      "Predicting labels....\n",
      "375/375 [==============================] - 9s 22ms/step\n",
      "Prediction finished!\n",
      "  Task  0: n_0             | EER_mean: 0.00940 | EER_interp: 0.00940 | ACC: 0.99060\n",
      "  Task  1: n_1             | EER_mean: 0.00670 | EER_interp: 0.00670 | ACC: 0.99330\n",
      "  Task  2: n_2             | EER_mean: 0.01020 | EER_interp: 0.01020 | ACC: 0.98990\n",
      "  Task  3: n_3             | EER_mean: 0.00460 | EER_interp: 0.00480 | ACC: 0.99530\n",
      "  Task  4: n_4             | EER_mean: 0.00850 | EER_interp: 0.00840 | ACC: 0.99170\n",
      "  Task  5: n_5             | EER_mean: 0.00470 | EER_interp: 0.00440 | ACC: 0.99580\n",
      "  Task  6: n_6             | EER_mean: 0.00420 | EER_interp: 0.00400 | ACC: 0.99620\n",
      "  Task  7: n_7             | EER_mean: 0.00480 | EER_interp: 0.00480 | ACC: 0.99520\n",
      "  Task  8: n_8             | EER_mean: 0.00600 | EER_interp: 0.00590 | ACC: 0.99420\n",
      "  Task  9: n_9             | EER_mean: 0.00520 | EER_interp: 0.00520 | ACC: 0.99480\n",
      "final_EER_mean: 0.64% | final_ACC: 99.37%\n",
      " .. training controller rnn ..\n",
      "  .. targets: [[0.23727769 0.24179016 0.25275594 0.26817623]]\n",
      "1/1 [==============================] - 0s 101ms/step - loss: 24.1549\n",
      "  Loss: 24.1549\n",
      "====================FINISHING TRIAL====================\n",
      "\n",
      "\n",
      "==================== STARTING NEW TRIAL ====================\n",
      " selecting new config...\n",
      "  Memory is not empty\n",
      "  Last Trial Conf: {'n_denses_0': 2, 'n_denses_1': 2, 'n_denses_2': 2, 'n_denses_3': 2}\n",
      "  LSTM entry: [[[2 2 2 2]]]\n",
      " controller_pred: [[0.23722725 0.2417322  0.2529408  0.26809976]]\n",
      "\n",
      "\n",
      " ------ Training 15 | Config: {'n_denses_0': 2, 'n_denses_1': 2, 'n_denses_2': 2, 'n_denses_3': 2} -----\n",
      "\n",
      "Creating model...\n",
      "Model created\n",
      "Training MOBILENET_V2 network\n",
      " .. Not fine tuning base model...\n",
      "  .. Total params: 3,120,724\n",
      "  .. Trainable params: 862,740\n",
      "  .. Non-trainable params: 2,257,984\n",
      "\n",
      "Epoch 00001: val_loss improved from inf to 0.01323, saving model to training_ckpt/best_model.hdf5\n"
     ]
    },
    {
     "name": "stderr",
     "output_type": "stream",
     "text": [
      "/home/guilherme/anaconda3/envs/mteval-icao-reqs/submodules/icao_nets_training/lib/python3.8/site-packages/tensorflow/python/keras/utils/generic_utils.py:494: CustomMaskWarning: Custom mask layers require a config and must override get_config. When loading, the custom mask layer must be passed to the custom_objects argument.\n",
      "  warnings.warn('Custom mask layers require a config and must override '\n"
     ]
    },
    {
     "name": "stdout",
     "output_type": "stream",
     "text": [
      "..Loading best model\n",
      "..Checkpoint weights loaded\n",
      "Testing Trained Model\n",
      "Predicting labels....\n",
      "375/375 [==============================] - 9s 21ms/step\n",
      "Prediction finished!\n",
      "  Task  0: n_0             | EER_mean: 0.00070 | EER_interp: 0.00080 | ACC: 0.99920\n",
      "  Task  1: n_1             | EER_mean: 0.00300 | EER_interp: 0.00260 | ACC: 0.99780\n",
      "  Task  2: n_2             | EER_mean: 0.00320 | EER_interp: 0.00330 | ACC: 0.99680\n",
      "  Task  3: n_3             | EER_mean: 0.00570 | EER_interp: 0.00560 | ACC: 0.99460\n",
      "  Task  4: n_4             | EER_mean: 0.00420 | EER_interp: 0.00420 | ACC: 0.99590\n",
      "  Task  5: n_5             | EER_mean: 0.00340 | EER_interp: 0.00360 | ACC: 0.99660\n",
      "  Task  6: n_6             | EER_mean: 0.00250 | EER_interp: 0.00240 | ACC: 0.99770\n",
      "  Task  7: n_7             | EER_mean: 0.00260 | EER_interp: 0.00250 | ACC: 0.99740\n",
      "  Task  8: n_8             | EER_mean: 0.00600 | EER_interp: 0.00600 | ACC: 0.99410\n",
      "  Task  9: n_9             | EER_mean: 0.00480 | EER_interp: 0.00490 | ACC: 0.99520\n",
      "final_EER_mean: 0.36% | final_ACC: 99.65%\n",
      " .. training controller rnn ..\n",
      "  .. targets: [[0.23722725 0.2417322  0.2529408  0.26809976]]\n",
      "1/1 [==============================] - 0s 108ms/step - loss: 24.1765\n",
      "  Loss: 24.1765\n",
      "====================FINISHING TRIAL====================\n",
      "\n",
      "\n",
      "==================== STARTING NEW TRIAL ====================\n",
      " selecting new config...\n",
      "  Memory is not empty\n",
      "  Last Trial Conf: {'n_denses_0': 2, 'n_denses_1': 2, 'n_denses_2': 2, 'n_denses_3': 2}\n",
      "  LSTM entry: [[[2 2 2 2]]]\n",
      " controller_pred: [[0.23711237 0.24159628 0.253253   0.2680383 ]]\n",
      "\n",
      "\n",
      " ------ Training 16 | Config: {'n_denses_0': 2, 'n_denses_1': 2, 'n_denses_2': 2, 'n_denses_3': 2} -----\n",
      "\n",
      "Creating model...\n",
      "Model created\n",
      "Training MOBILENET_V2 network\n",
      " .. Not fine tuning base model...\n",
      "  .. Total params: 3,120,724\n",
      "  .. Trainable params: 862,740\n",
      "  .. Non-trainable params: 2,257,984\n",
      "\n",
      "Epoch 00001: val_loss improved from inf to 0.01532, saving model to training_ckpt/best_model.hdf5\n"
     ]
    },
    {
     "name": "stderr",
     "output_type": "stream",
     "text": [
      "/home/guilherme/anaconda3/envs/mteval-icao-reqs/submodules/icao_nets_training/lib/python3.8/site-packages/tensorflow/python/keras/utils/generic_utils.py:494: CustomMaskWarning: Custom mask layers require a config and must override get_config. When loading, the custom mask layer must be passed to the custom_objects argument.\n",
      "  warnings.warn('Custom mask layers require a config and must override '\n"
     ]
    },
    {
     "name": "stdout",
     "output_type": "stream",
     "text": [
      "..Loading best model\n",
      "..Checkpoint weights loaded\n",
      "Testing Trained Model\n",
      "Predicting labels....\n",
      "375/375 [==============================] - 9s 23ms/step\n",
      "Prediction finished!\n",
      "  Task  0: n_0             | EER_mean: 0.00090 | EER_interp: 0.00080 | ACC: 0.99920\n",
      "  Task  1: n_1             | EER_mean: 0.00300 | EER_interp: 0.00280 | ACC: 0.99740\n",
      "  Task  2: n_2             | EER_mean: 0.00760 | EER_interp: 0.00760 | ACC: 0.99250\n",
      "  Task  3: n_3             | EER_mean: 0.00570 | EER_interp: 0.00570 | ACC: 0.99440\n",
      "  Task  4: n_4             | EER_mean: 0.00510 | EER_interp: 0.00490 | ACC: 0.99520\n",
      "  Task  5: n_5             | EER_mean: 0.00380 | EER_interp: 0.00380 | ACC: 0.99620\n",
      "  Task  6: n_6             | EER_mean: 0.00180 | EER_interp: 0.00170 | ACC: 0.99820\n",
      "  Task  7: n_7             | EER_mean: 0.00500 | EER_interp: 0.00490 | ACC: 0.99500\n",
      "  Task  8: n_8             | EER_mean: 0.00600 | EER_interp: 0.00600 | ACC: 0.99410\n",
      "  Task  9: n_9             | EER_mean: 0.00680 | EER_interp: 0.00680 | ACC: 0.99320\n",
      "final_EER_mean: 0.45% | final_ACC: 99.55%\n",
      " .. training controller rnn ..\n",
      "  .. targets: [[0.23711237 0.24159628 0.253253   0.2680383 ]]\n",
      "1/1 [==============================] - 0s 117ms/step - loss: 24.1032\n",
      "  Loss: 24.1032\n",
      "====================FINISHING TRIAL====================\n",
      "\n",
      "\n",
      "==================== STARTING NEW TRIAL ====================\n",
      " selecting new config...\n",
      "  Memory is not empty\n",
      "  Last Trial Conf: {'n_denses_0': 2, 'n_denses_1': 2, 'n_denses_2': 2, 'n_denses_3': 2}\n",
      "  LSTM entry: [[[2 2 2 2]]]\n",
      " controller_pred: [[0.23687094 0.24127014 0.2538106  0.26804835]]\n",
      "\n",
      "\n",
      " ------ Training 17 | Config: {'n_denses_0': 2, 'n_denses_1': 2, 'n_denses_2': 2, 'n_denses_3': 2} -----\n",
      "\n",
      "Creating model...\n",
      "Model created\n",
      "Training MOBILENET_V2 network\n",
      " .. Not fine tuning base model...\n",
      "  .. Total params: 3,120,724\n",
      "  .. Trainable params: 862,740\n",
      "  .. Non-trainable params: 2,257,984\n",
      "\n",
      "Epoch 00001: val_loss improved from inf to 0.02785, saving model to training_ckpt/best_model.hdf5\n"
     ]
    },
    {
     "name": "stderr",
     "output_type": "stream",
     "text": [
      "/home/guilherme/anaconda3/envs/mteval-icao-reqs/submodules/icao_nets_training/lib/python3.8/site-packages/tensorflow/python/keras/utils/generic_utils.py:494: CustomMaskWarning: Custom mask layers require a config and must override get_config. When loading, the custom mask layer must be passed to the custom_objects argument.\n",
      "  warnings.warn('Custom mask layers require a config and must override '\n"
     ]
    },
    {
     "name": "stdout",
     "output_type": "stream",
     "text": [
      "..Loading best model\n",
      "..Checkpoint weights loaded\n",
      "Testing Trained Model\n",
      "Predicting labels....\n",
      "375/375 [==============================] - 9s 23ms/step\n",
      "Prediction finished!\n",
      "  Task  0: n_0             | EER_mean: 0.00240 | EER_interp: 0.00250 | ACC: 0.99760\n",
      "  Task  1: n_1             | EER_mean: 0.00190 | EER_interp: 0.00200 | ACC: 0.99810\n",
      "  Task  2: n_2             | EER_mean: 0.00250 | EER_interp: 0.00240 | ACC: 0.99770\n",
      "  Task  3: n_3             | EER_mean: 0.00210 | EER_interp: 0.00220 | ACC: 0.99780\n",
      "  Task  4: n_4             | EER_mean: 0.00650 | EER_interp: 0.00620 | ACC: 0.99360\n",
      "  Task  5: n_5             | EER_mean: 0.00370 | EER_interp: 0.00360 | ACC: 0.99640\n",
      "  Task  6: n_6             | EER_mean: 0.00330 | EER_interp: 0.00260 | ACC: 0.99810\n",
      "  Task  7: n_7             | EER_mean: 0.00370 | EER_interp: 0.00380 | ACC: 0.99620\n",
      "  Task  8: n_8             | EER_mean: 0.00940 | EER_interp: 0.00940 | ACC: 0.99070\n",
      "  Task  9: n_9             | EER_mean: 0.00720 | EER_interp: 0.00740 | ACC: 0.99280\n",
      "final_EER_mean: 0.42% | final_ACC: 99.59%\n",
      " .. training controller rnn ..\n",
      "  .. targets: [[0.23687094 0.24127014 0.2538106  0.26804835]]\n",
      "1/1 [==============================] - 0s 100ms/step - loss: 24.0650\n",
      "  Loss: 24.065\n",
      "====================FINISHING TRIAL====================\n",
      "\n",
      "\n",
      "==================== STARTING NEW TRIAL ====================\n",
      " selecting new config...\n",
      "  Memory is not empty\n",
      "  Last Trial Conf: {'n_denses_0': 2, 'n_denses_1': 2, 'n_denses_2': 2, 'n_denses_3': 2}\n",
      "  LSTM entry: [[[2 2 2 2]]]\n",
      " controller_pred: [[0.23690942 0.24133545 0.2537406  0.26801455]]\n",
      "\n",
      "\n",
      " ------ Training 18 | Config: {'n_denses_0': 2, 'n_denses_1': 2, 'n_denses_2': 2, 'n_denses_3': 2} -----\n",
      "\n",
      "Creating model...\n",
      "Model created\n",
      "Training MOBILENET_V2 network\n",
      " .. Not fine tuning base model...\n",
      "  .. Total params: 3,120,724\n",
      "  .. Trainable params: 862,740\n",
      "  .. Non-trainable params: 2,257,984\n",
      "\n",
      "Epoch 00001: val_loss improved from inf to 0.01368, saving model to training_ckpt/best_model.hdf5\n"
     ]
    },
    {
     "name": "stderr",
     "output_type": "stream",
     "text": [
      "/home/guilherme/anaconda3/envs/mteval-icao-reqs/submodules/icao_nets_training/lib/python3.8/site-packages/tensorflow/python/keras/utils/generic_utils.py:494: CustomMaskWarning: Custom mask layers require a config and must override get_config. When loading, the custom mask layer must be passed to the custom_objects argument.\n",
      "  warnings.warn('Custom mask layers require a config and must override '\n"
     ]
    },
    {
     "name": "stdout",
     "output_type": "stream",
     "text": [
      "..Loading best model\n",
      "..Checkpoint weights loaded\n",
      "Testing Trained Model\n",
      "Predicting labels....\n",
      "375/375 [==============================] - 9s 22ms/step\n",
      "Prediction finished!\n",
      "  Task  0: n_0             | EER_mean: 0.00090 | EER_interp: 0.00090 | ACC: 0.99910\n",
      "  Task  1: n_1             | EER_mean: 0.00150 | EER_interp: 0.00150 | ACC: 0.99850\n",
      "  Task  2: n_2             | EER_mean: 0.00230 | EER_interp: 0.00240 | ACC: 0.99770\n",
      "  Task  3: n_3             | EER_mean: 0.00330 | EER_interp: 0.00320 | ACC: 0.99690\n",
      "  Task  4: n_4             | EER_mean: 0.00420 | EER_interp: 0.00400 | ACC: 0.99610\n",
      "  Task  5: n_5             | EER_mean: 0.00470 | EER_interp: 0.00440 | ACC: 0.99580\n",
      "  Task  6: n_6             | EER_mean: 0.00250 | EER_interp: 0.00250 | ACC: 0.99750\n",
      "  Task  7: n_7             | EER_mean: 0.00480 | EER_interp: 0.00470 | ACC: 0.99540\n",
      "  Task  8: n_8             | EER_mean: 0.00860 | EER_interp: 0.00860 | ACC: 0.99140\n",
      "  Task  9: n_9             | EER_mean: 0.00680 | EER_interp: 0.00680 | ACC: 0.99330\n",
      "final_EER_mean: 0.39% | final_ACC: 99.62%\n",
      " .. training controller rnn ..\n",
      "  .. targets: [[0.23690942 0.24133545 0.2537406  0.26801455]]\n",
      "1/1 [==============================] - 0s 99ms/step - loss: 24.0244\n",
      "  Loss: 24.0244\n",
      "====================FINISHING TRIAL====================\n",
      "\n",
      "\n",
      "==================== STARTING NEW TRIAL ====================\n",
      " selecting new config...\n",
      "  Memory is not empty\n",
      "  Last Trial Conf: {'n_denses_0': 2, 'n_denses_1': 2, 'n_denses_2': 2, 'n_denses_3': 2}\n",
      "  LSTM entry: [[[2 2 2 2]]]\n",
      " controller_pred: [[0.23692605 0.2413623  0.25370827 0.26800334]]\n",
      "\n",
      "\n",
      " ------ Training 19 | Config: {'n_denses_0': 2, 'n_denses_1': 2, 'n_denses_2': 2, 'n_denses_3': 2} -----\n",
      "\n",
      "Creating model...\n",
      "Model created\n",
      "Training MOBILENET_V2 network\n",
      " .. Not fine tuning base model...\n",
      "  .. Total params: 3,120,724\n",
      "  .. Trainable params: 862,740\n",
      "  .. Non-trainable params: 2,257,984\n",
      "\n",
      "Epoch 00001: val_loss improved from inf to 0.01621, saving model to training_ckpt/best_model.hdf5\n"
     ]
    },
    {
     "name": "stderr",
     "output_type": "stream",
     "text": [
      "/home/guilherme/anaconda3/envs/mteval-icao-reqs/submodules/icao_nets_training/lib/python3.8/site-packages/tensorflow/python/keras/utils/generic_utils.py:494: CustomMaskWarning: Custom mask layers require a config and must override get_config. When loading, the custom mask layer must be passed to the custom_objects argument.\n",
      "  warnings.warn('Custom mask layers require a config and must override '\n"
     ]
    },
    {
     "name": "stdout",
     "output_type": "stream",
     "text": [
      "..Loading best model\n",
      "..Checkpoint weights loaded\n",
      "Testing Trained Model\n",
      "Predicting labels....\n",
      "375/375 [==============================] - 9s 22ms/step\n",
      "Prediction finished!\n",
      "  Task  0: n_0             | EER_mean: 0.00340 | EER_interp: 0.00330 | ACC: 0.99680\n",
      "  Task  1: n_1             | EER_mean: 0.00220 | EER_interp: 0.00220 | ACC: 0.99790\n",
      "  Task  2: n_2             | EER_mean: 0.00510 | EER_interp: 0.00510 | ACC: 0.99490\n",
      "  Task  3: n_3             | EER_mean: 0.00180 | EER_interp: 0.00170 | ACC: 0.99820\n",
      "  Task  4: n_4             | EER_mean: 0.00410 | EER_interp: 0.00410 | ACC: 0.99600\n",
      "  Task  5: n_5             | EER_mean: 0.00310 | EER_interp: 0.00300 | ACC: 0.99690\n",
      "  Task  6: n_6             | EER_mean: 0.00320 | EER_interp: 0.00280 | ACC: 0.99680\n",
      "  Task  7: n_7             | EER_mean: 0.00250 | EER_interp: 0.00240 | ACC: 0.99750\n",
      "  Task  8: n_8             | EER_mean: 0.00610 | EER_interp: 0.00600 | ACC: 0.99390\n",
      "  Task  9: n_9             | EER_mean: 0.00720 | EER_interp: 0.00740 | ACC: 0.99280\n",
      "final_EER_mean: 0.38% | final_ACC: 99.62%\n",
      " .. training controller rnn ..\n",
      "  .. targets: [[0.23692605 0.2413623  0.25370827 0.26800334]]\n",
      "1/1 [==============================] - 0s 105ms/step - loss: 23.9763\n",
      "  Loss: 23.9763\n",
      "====================FINISHING TRIAL====================\n",
      "\n",
      "\n",
      "==================== STARTING NEW TRIAL ====================\n",
      " selecting new config...\n",
      "  Memory is not empty\n",
      "  Last Trial Conf: {'n_denses_0': 2, 'n_denses_1': 2, 'n_denses_2': 2, 'n_denses_3': 2}\n",
      "  LSTM entry: [[[2 2 2 2]]]\n",
      " controller_pred: [[0.23699498 0.24146266 0.25356466 0.26797768]]\n",
      "\n",
      "\n",
      " ------ Training 20 | Config: {'n_denses_0': 2, 'n_denses_1': 2, 'n_denses_2': 2, 'n_denses_3': 2} -----\n",
      "\n",
      "Creating model...\n",
      "Model created\n",
      "Training MOBILENET_V2 network\n",
      " .. Not fine tuning base model...\n",
      "  .. Total params: 3,120,724\n",
      "  .. Trainable params: 862,740\n",
      "  .. Non-trainable params: 2,257,984\n"
     ]
    },
    {
     "name": "stderr",
     "output_type": "stream",
     "text": [
      "Experiencing connection interruptions. Will try to reestablish communication with Neptune. Internal exception was: RequestsFutureAdapterTimeout\n",
      "Communication with Neptune restored!\n"
     ]
    },
    {
     "name": "stdout",
     "output_type": "stream",
     "text": [
      "\n",
      "Epoch 00001: val_loss improved from inf to 0.01474, saving model to training_ckpt/best_model.hdf5\n"
     ]
    },
    {
     "name": "stderr",
     "output_type": "stream",
     "text": [
      "/home/guilherme/anaconda3/envs/mteval-icao-reqs/submodules/icao_nets_training/lib/python3.8/site-packages/tensorflow/python/keras/utils/generic_utils.py:494: CustomMaskWarning: Custom mask layers require a config and must override get_config. When loading, the custom mask layer must be passed to the custom_objects argument.\n",
      "  warnings.warn('Custom mask layers require a config and must override '\n"
     ]
    },
    {
     "name": "stdout",
     "output_type": "stream",
     "text": [
      "..Loading best model\n",
      "..Checkpoint weights loaded\n",
      "Testing Trained Model\n",
      "Predicting labels....\n",
      "375/375 [==============================] - 9s 22ms/step\n",
      "Prediction finished!\n",
      "  Task  0: n_0             | EER_mean: 0.00170 | EER_interp: 0.00120 | ACC: 0.99920\n",
      "  Task  1: n_1             | EER_mean: 0.00300 | EER_interp: 0.00280 | ACC: 0.99730\n",
      "  Task  2: n_2             | EER_mean: 0.00170 | EER_interp: 0.00160 | ACC: 0.99850\n",
      "  Task  3: n_3             | EER_mean: 0.00730 | EER_interp: 0.00660 | ACC: 0.99380\n",
      "  Task  4: n_4             | EER_mean: 0.00420 | EER_interp: 0.00380 | ACC: 0.99640\n",
      "  Task  5: n_5             | EER_mean: 0.00470 | EER_interp: 0.00400 | ACC: 0.99660\n",
      "  Task  6: n_6             | EER_mean: 0.00190 | EER_interp: 0.00180 | ACC: 0.99810\n",
      "  Task  7: n_7             | EER_mean: 0.00250 | EER_interp: 0.00280 | ACC: 0.99740\n",
      "  Task  8: n_8             | EER_mean: 0.00490 | EER_interp: 0.00500 | ACC: 0.99510\n",
      "  Task  9: n_9             | EER_mean: 0.00530 | EER_interp: 0.00520 | ACC: 0.99480\n",
      "final_EER_mean: 0.35% | final_ACC: 99.67%\n",
      " .. training controller rnn ..\n",
      "  .. targets: [[0.23699498 0.24146266 0.25356466 0.26797768]]\n",
      "1/1 [==============================] - 0s 101ms/step - loss: 23.9409\n",
      "  Loss: 23.9409\n",
      "====================FINISHING TRIAL====================\n",
      "\n",
      "\n",
      "==================== STARTING NEW TRIAL ====================\n",
      " selecting new config...\n",
      "  Memory is not empty\n",
      "  Last Trial Conf: {'n_denses_0': 2, 'n_denses_1': 2, 'n_denses_2': 2, 'n_denses_3': 2}\n",
      "  LSTM entry: [[[2 2 2 2]]]\n",
      " controller_pred: [[0.23718001 0.24171866 0.2531707  0.26793063]]\n",
      "\n",
      "\n",
      " ------ Training 21 | Config: {'n_denses_0': 2, 'n_denses_1': 2, 'n_denses_2': 2, 'n_denses_3': 2} -----\n",
      "\n",
      "Creating model...\n",
      "Model created\n",
      "Training MOBILENET_V2 network\n",
      " .. Not fine tuning base model...\n",
      "  .. Total params: 3,120,724\n",
      "  .. Trainable params: 862,740\n",
      "  .. Non-trainable params: 2,257,984\n",
      "\n",
      "Epoch 00001: val_loss improved from inf to 0.01828, saving model to training_ckpt/best_model.hdf5\n"
     ]
    },
    {
     "name": "stderr",
     "output_type": "stream",
     "text": [
      "/home/guilherme/anaconda3/envs/mteval-icao-reqs/submodules/icao_nets_training/lib/python3.8/site-packages/tensorflow/python/keras/utils/generic_utils.py:494: CustomMaskWarning: Custom mask layers require a config and must override get_config. When loading, the custom mask layer must be passed to the custom_objects argument.\n",
      "  warnings.warn('Custom mask layers require a config and must override '\n"
     ]
    },
    {
     "name": "stdout",
     "output_type": "stream",
     "text": [
      "..Loading best model\n",
      "..Checkpoint weights loaded\n",
      "Testing Trained Model\n",
      "Predicting labels....\n",
      "375/375 [==============================] - 9s 22ms/step\n",
      "Prediction finished!\n",
      "  Task  0: n_0             | EER_mean: 0.00120 | EER_interp: 0.00140 | ACC: 0.99880\n",
      "  Task  1: n_1             | EER_mean: 0.00220 | EER_interp: 0.00190 | ACC: 0.99830\n",
      "  Task  2: n_2             | EER_mean: 0.00450 | EER_interp: 0.00440 | ACC: 0.99550\n",
      "  Task  3: n_3             | EER_mean: 0.00480 | EER_interp: 0.00480 | ACC: 0.99520\n",
      "  Task  4: n_4             | EER_mean: 0.00420 | EER_interp: 0.00420 | ACC: 0.99580\n",
      "  Task  5: n_5             | EER_mean: 0.00370 | EER_interp: 0.00370 | ACC: 0.99630\n",
      "  Task  6: n_6             | EER_mean: 0.00420 | EER_interp: 0.00410 | ACC: 0.99600\n",
      "  Task  7: n_7             | EER_mean: 0.00400 | EER_interp: 0.00400 | ACC: 0.99600\n",
      "  Task  8: n_8             | EER_mean: 0.00510 | EER_interp: 0.00510 | ACC: 0.99500\n",
      "  Task  9: n_9             | EER_mean: 0.00700 | EER_interp: 0.00690 | ACC: 0.99300\n",
      "final_EER_mean: 0.41% | final_ACC: 99.6%\n",
      " .. training controller rnn ..\n",
      "  .. targets: [[0.23718001 0.24171866 0.2531707  0.26793063]]\n",
      "1/1 [==============================] - 0s 100ms/step - loss: 23.8756\n",
      "  Loss: 23.8756\n",
      "====================FINISHING TRIAL====================\n",
      "\n",
      "\n",
      "==================== STARTING NEW TRIAL ====================\n",
      " selecting new config...\n",
      "  Memory is not empty\n",
      "  Last Trial Conf: {'n_denses_0': 2, 'n_denses_1': 2, 'n_denses_2': 2, 'n_denses_3': 2}\n",
      "  LSTM entry: [[[2 2 2 2]]]\n",
      " controller_pred: [[0.23721245 0.2417667  0.25311035 0.26791048]]\n",
      "\n",
      "\n",
      " ------ Training 22 | Config: {'n_denses_0': 2, 'n_denses_1': 2, 'n_denses_2': 2, 'n_denses_3': 2} -----\n",
      "\n",
      "Creating model...\n",
      "Model created\n",
      "Training MOBILENET_V2 network\n",
      " .. Not fine tuning base model...\n",
      "  .. Total params: 3,120,724\n",
      "  .. Trainable params: 862,740\n",
      "  .. Non-trainable params: 2,257,984\n",
      "\n",
      "Epoch 00001: val_loss improved from inf to 0.01352, saving model to training_ckpt/best_model.hdf5\n"
     ]
    },
    {
     "name": "stderr",
     "output_type": "stream",
     "text": [
      "/home/guilherme/anaconda3/envs/mteval-icao-reqs/submodules/icao_nets_training/lib/python3.8/site-packages/tensorflow/python/keras/utils/generic_utils.py:494: CustomMaskWarning: Custom mask layers require a config and must override get_config. When loading, the custom mask layer must be passed to the custom_objects argument.\n",
      "  warnings.warn('Custom mask layers require a config and must override '\n"
     ]
    },
    {
     "name": "stdout",
     "output_type": "stream",
     "text": [
      "..Loading best model\n",
      "..Checkpoint weights loaded\n",
      "Testing Trained Model\n",
      "Predicting labels....\n",
      "375/375 [==============================] - 9s 22ms/step\n",
      "Prediction finished!\n",
      "  Task  0: n_0             | EER_mean: 0.00260 | EER_interp: 0.00260 | ACC: 0.99750\n",
      "  Task  1: n_1             | EER_mean: 0.00150 | EER_interp: 0.00140 | ACC: 0.99870\n",
      "  Task  2: n_2             | EER_mean: 0.00340 | EER_interp: 0.00340 | ACC: 0.99650\n",
      "  Task  3: n_3             | EER_mean: 0.00490 | EER_interp: 0.00480 | ACC: 0.99520\n",
      "  Task  4: n_4             | EER_mean: 0.00340 | EER_interp: 0.00300 | ACC: 0.99720\n",
      "  Task  5: n_5             | EER_mean: 0.00270 | EER_interp: 0.00280 | ACC: 0.99730\n",
      "  Task  6: n_6             | EER_mean: 0.00250 | EER_interp: 0.00250 | ACC: 0.99750\n",
      "  Task  7: n_7             | EER_mean: 0.00240 | EER_interp: 0.00240 | ACC: 0.99760\n",
      "  Task  8: n_8             | EER_mean: 0.00480 | EER_interp: 0.00490 | ACC: 0.99520\n",
      "  Task  9: n_9             | EER_mean: 0.00720 | EER_interp: 0.00740 | ACC: 0.99280\n",
      "final_EER_mean: 0.35% | final_ACC: 99.66%\n",
      " .. training controller rnn ..\n",
      "  .. targets: [[0.23721245 0.2417667  0.25311035 0.26791048]]\n",
      "1/1 [==============================] - 0s 99ms/step - loss: 23.8428\n",
      "  Loss: 23.8428\n",
      "====================FINISHING TRIAL====================\n",
      "\n",
      "\n",
      "==================== STARTING NEW TRIAL ====================\n",
      " selecting new config...\n",
      "  Memory is not empty\n",
      "  Last Trial Conf: {'n_denses_0': 2, 'n_denses_1': 2, 'n_denses_2': 2, 'n_denses_3': 2}\n",
      "  LSTM entry: [[[2 2 2 2]]]\n",
      " controller_pred: [[0.23715737 0.24170788 0.2532513  0.2678834 ]]\n",
      "\n",
      "\n",
      " ------ Training 23 | Config: {'n_denses_0': 2, 'n_denses_1': 2, 'n_denses_2': 2, 'n_denses_3': 2} -----\n",
      "\n",
      "Creating model...\n",
      "Model created\n",
      "Training MOBILENET_V2 network\n",
      " .. Not fine tuning base model...\n",
      "  .. Total params: 3,120,724\n",
      "  .. Trainable params: 862,740\n",
      "  .. Non-trainable params: 2,257,984\n",
      "\n",
      "Epoch 00001: val_loss improved from inf to 0.05043, saving model to training_ckpt/best_model.hdf5\n"
     ]
    },
    {
     "name": "stderr",
     "output_type": "stream",
     "text": [
      "/home/guilherme/anaconda3/envs/mteval-icao-reqs/submodules/icao_nets_training/lib/python3.8/site-packages/tensorflow/python/keras/utils/generic_utils.py:494: CustomMaskWarning: Custom mask layers require a config and must override get_config. When loading, the custom mask layer must be passed to the custom_objects argument.\n",
      "  warnings.warn('Custom mask layers require a config and must override '\n"
     ]
    },
    {
     "name": "stdout",
     "output_type": "stream",
     "text": [
      "..Loading best model\n",
      "..Checkpoint weights loaded\n",
      "Testing Trained Model\n",
      "Predicting labels....\n",
      "375/375 [==============================] - 9s 22ms/step\n",
      "Prediction finished!\n"
     ]
    },
    {
     "name": "stderr",
     "output_type": "stream",
     "text": [
      "Experiencing connection interruptions. Will try to reestablish communication with Neptune. Internal exception was: RequestsFutureAdapterTimeout\n"
     ]
    },
    {
     "name": "stdout",
     "output_type": "stream",
     "text": [
      "  Task  0: n_0             | EER_mean: 0.00170 | EER_interp: 0.00170 | ACC: 0.99830\n",
      "  Task  1: n_1             | EER_mean: 0.00420 | EER_interp: 0.00430 | ACC: 0.99580\n",
      "  Task  2: n_2             | EER_mean: 0.01440 | EER_interp: 0.01420 | ACC: 0.98600\n",
      "  Task  3: n_3             | EER_mean: 0.00490 | EER_interp: 0.00480 | ACC: 0.99530\n",
      "  Task  4: n_4             | EER_mean: 0.00420 | EER_interp: 0.00420 | ACC: 0.99590\n",
      "  Task  5: n_5             | EER_mean: 0.00750 | EER_interp: 0.00740 | ACC: 0.99270\n",
      "  Task  6: n_6             | EER_mean: 0.00840 | EER_interp: 0.00800 | ACC: 0.99230\n",
      "  Task  7: n_7             | EER_mean: 0.00350 | EER_interp: 0.00340 | ACC: 0.99650\n",
      "  Task  8: n_8             | EER_mean: 0.00650 | EER_interp: 0.00660 | ACC: 0.99350\n",
      "  Task  9: n_9             | EER_mean: 0.00850 | EER_interp: 0.00840 | ACC: 0.99170\n",
      "final_EER_mean: 0.63% | final_ACC: 99.38%\n",
      " .. training controller rnn ..\n",
      "  .. targets: [[0.23715737 0.24170788 0.2532513  0.2678834 ]]\n",
      "1/1 [==============================] - 0s 98ms/step - loss: 23.7253\n",
      "  Loss: 23.7253\n",
      "====================FINISHING TRIAL====================\n",
      "\n",
      "\n",
      "==================== STARTING NEW TRIAL ====================\n",
      " selecting new config...\n",
      "  Memory is not empty\n",
      "  Last Trial Conf: {'n_denses_0': 2, 'n_denses_1': 2, 'n_denses_2': 2, 'n_denses_3': 2}\n",
      "  LSTM entry: [[[2 2 2 2]]]\n",
      " controller_pred: [[0.23721433 0.24178849 0.25314346 0.2678537 ]]\n",
      "\n",
      "\n",
      " ------ Training 24 | Config: {'n_denses_0': 2, 'n_denses_1': 2, 'n_denses_2': 2, 'n_denses_3': 2} -----\n",
      "\n",
      "Creating model...\n",
      "Model created\n",
      "Training MOBILENET_V2 network\n",
      " .. Not fine tuning base model...\n",
      "  .. Total params: 3,120,724\n",
      "  .. Trainable params: 862,740\n",
      "  .. Non-trainable params: 2,257,984\n"
     ]
    },
    {
     "name": "stderr",
     "output_type": "stream",
     "text": [
      "Communication with Neptune restored!\n"
     ]
    },
    {
     "name": "stdout",
     "output_type": "stream",
     "text": [
      "\n",
      "Epoch 00001: val_loss improved from inf to 0.01865, saving model to training_ckpt/best_model.hdf5\n"
     ]
    },
    {
     "name": "stderr",
     "output_type": "stream",
     "text": [
      "/home/guilherme/anaconda3/envs/mteval-icao-reqs/submodules/icao_nets_training/lib/python3.8/site-packages/tensorflow/python/keras/utils/generic_utils.py:494: CustomMaskWarning: Custom mask layers require a config and must override get_config. When loading, the custom mask layer must be passed to the custom_objects argument.\n",
      "  warnings.warn('Custom mask layers require a config and must override '\n"
     ]
    },
    {
     "name": "stdout",
     "output_type": "stream",
     "text": [
      "..Loading best model\n",
      "..Checkpoint weights loaded\n",
      "Testing Trained Model\n",
      "Predicting labels....\n",
      "375/375 [==============================] - 8s 21ms/step\n",
      "Prediction finished!\n",
      "  Task  0: n_0             | EER_mean: 0.00110 | EER_interp: 0.00140 | ACC: 0.99880\n",
      "  Task  1: n_1             | EER_mean: 0.00300 | EER_interp: 0.00270 | ACC: 0.99750\n",
      "  Task  2: n_2             | EER_mean: 0.00250 | EER_interp: 0.00240 | ACC: 0.99770\n",
      "  Task  3: n_3             | EER_mean: 0.00410 | EER_interp: 0.00400 | ACC: 0.99610\n",
      "  Task  4: n_4             | EER_mean: 0.00590 | EER_interp: 0.00540 | ACC: 0.99490\n",
      "  Task  5: n_5             | EER_mean: 0.00560 | EER_interp: 0.00560 | ACC: 0.99440\n",
      "  Task  6: n_6             | EER_mean: 0.00500 | EER_interp: 0.00470 | ACC: 0.99550\n",
      "  Task  7: n_7             | EER_mean: 0.00320 | EER_interp: 0.00320 | ACC: 0.99690\n",
      "  Task  8: n_8             | EER_mean: 0.00440 | EER_interp: 0.00440 | ACC: 0.99560\n",
      "  Task  9: n_9             | EER_mean: 0.00450 | EER_interp: 0.00440 | ACC: 0.99550\n",
      "final_EER_mean: 0.38% | final_ACC: 99.63%\n",
      " .. training controller rnn ..\n",
      "  .. targets: [[0.23721433 0.24178849 0.25314346 0.2678537 ]]\n",
      "1/1 [==============================] - 0s 99ms/step - loss: 23.7402\n",
      "  Loss: 23.7402\n",
      "====================FINISHING TRIAL====================\n",
      "\n",
      "\n",
      "==================== STARTING NEW TRIAL ====================\n",
      " selecting new config...\n",
      "  Memory is not empty\n",
      "  Last Trial Conf: {'n_denses_0': 2, 'n_denses_1': 2, 'n_denses_2': 2, 'n_denses_3': 2}\n",
      "  LSTM entry: [[[2 2 2 2]]]\n",
      " controller_pred: [[0.23728488 0.24187246 0.25298366 0.26785895]]\n",
      "\n",
      "\n",
      " ------ Training 25 | Config: {'n_denses_0': 2, 'n_denses_1': 2, 'n_denses_2': 2, 'n_denses_3': 2} -----\n",
      "\n",
      "Creating model...\n",
      "Model created\n",
      "Training MOBILENET_V2 network\n",
      " .. Not fine tuning base model...\n",
      "  .. Total params: 3,120,724\n",
      "  .. Trainable params: 862,740\n",
      "  .. Non-trainable params: 2,257,984\n",
      "\n",
      "Epoch 00001: val_loss improved from inf to 0.01811, saving model to training_ckpt/best_model.hdf5\n"
     ]
    },
    {
     "name": "stderr",
     "output_type": "stream",
     "text": [
      "/home/guilherme/anaconda3/envs/mteval-icao-reqs/submodules/icao_nets_training/lib/python3.8/site-packages/tensorflow/python/keras/utils/generic_utils.py:494: CustomMaskWarning: Custom mask layers require a config and must override get_config. When loading, the custom mask layer must be passed to the custom_objects argument.\n",
      "  warnings.warn('Custom mask layers require a config and must override '\n"
     ]
    },
    {
     "name": "stdout",
     "output_type": "stream",
     "text": [
      "..Loading best model\n",
      "..Checkpoint weights loaded\n",
      "Testing Trained Model\n",
      "Predicting labels....\n",
      "375/375 [==============================] - 9s 22ms/step\n",
      "Prediction finished!\n",
      "  Task  0: n_0             | EER_mean: 0.00170 | EER_interp: 0.00120 | ACC: 0.99920\n",
      "  Task  1: n_1             | EER_mean: 0.00370 | EER_interp: 0.00370 | ACC: 0.99630\n",
      "  Task  2: n_2             | EER_mean: 0.00250 | EER_interp: 0.00240 | ACC: 0.99780\n",
      "  Task  3: n_3             | EER_mean: 0.00340 | EER_interp: 0.00340 | ACC: 0.99660\n",
      "  Task  4: n_4             | EER_mean: 0.00360 | EER_interp: 0.00350 | ACC: 0.99640\n",
      "  Task  5: n_5             | EER_mean: 0.00470 | EER_interp: 0.00480 | ACC: 0.99520\n",
      "  Task  6: n_6             | EER_mean: 0.00370 | EER_interp: 0.00350 | ACC: 0.99630\n",
      "  Task  7: n_7             | EER_mean: 0.00320 | EER_interp: 0.00320 | ACC: 0.99690\n",
      "  Task  8: n_8             | EER_mean: 0.00770 | EER_interp: 0.00750 | ACC: 0.99270\n",
      "  Task  9: n_9             | EER_mean: 0.00680 | EER_interp: 0.00680 | ACC: 0.99320\n",
      "final_EER_mean: 0.4% | final_ACC: 99.61%\n",
      " .. training controller rnn ..\n",
      "  .. targets: [[0.23728488 0.24187246 0.25298366 0.26785895]]\n",
      "1/1 [==============================] - 0s 98ms/step - loss: 23.6878\n",
      "  Loss: 23.6878\n",
      "====================FINISHING TRIAL====================\n",
      "\n",
      "\n",
      "==================== STARTING NEW TRIAL ====================\n",
      " selecting new config...\n",
      "  Memory is not empty\n",
      "  Last Trial Conf: {'n_denses_0': 2, 'n_denses_1': 2, 'n_denses_2': 2, 'n_denses_3': 2}\n",
      "  LSTM entry: [[[2 2 2 2]]]\n",
      " controller_pred: [[0.23703043 0.24158265 0.25357854 0.26780838]]\n",
      "\n",
      "\n",
      " ------ Training 26 | Config: {'n_denses_0': 2, 'n_denses_1': 2, 'n_denses_2': 2, 'n_denses_3': 2} -----\n",
      "\n",
      "Creating model...\n",
      "Model created\n",
      "Training MOBILENET_V2 network\n",
      " .. Not fine tuning base model...\n",
      "  .. Total params: 3,120,724\n",
      "  .. Trainable params: 862,740\n",
      "  .. Non-trainable params: 2,257,984\n",
      "\n",
      "Epoch 00001: val_loss improved from inf to 0.01572, saving model to training_ckpt/best_model.hdf5\n"
     ]
    },
    {
     "name": "stderr",
     "output_type": "stream",
     "text": [
      "/home/guilherme/anaconda3/envs/mteval-icao-reqs/submodules/icao_nets_training/lib/python3.8/site-packages/tensorflow/python/keras/utils/generic_utils.py:494: CustomMaskWarning: Custom mask layers require a config and must override get_config. When loading, the custom mask layer must be passed to the custom_objects argument.\n",
      "  warnings.warn('Custom mask layers require a config and must override '\n"
     ]
    },
    {
     "name": "stdout",
     "output_type": "stream",
     "text": [
      "..Loading best model\n",
      "..Checkpoint weights loaded\n",
      "Testing Trained Model\n",
      "Predicting labels....\n",
      "375/375 [==============================] - 9s 22ms/step\n",
      "Prediction finished!\n",
      "  Task  0: n_0             | EER_mean: 0.00170 | EER_interp: 0.00160 | ACC: 0.99850\n",
      "  Task  1: n_1             | EER_mean: 0.00370 | EER_interp: 0.00260 | ACC: 0.99830\n",
      "  Task  2: n_2             | EER_mean: 0.00680 | EER_interp: 0.00660 | ACC: 0.99350\n",
      "  Task  3: n_3             | EER_mean: 0.00490 | EER_interp: 0.00440 | ACC: 0.99600\n",
      "  Task  4: n_4             | EER_mean: 0.00420 | EER_interp: 0.00400 | ACC: 0.99620\n",
      "  Task  5: n_5             | EER_mean: 0.00560 | EER_interp: 0.00560 | ACC: 0.99440\n",
      "  Task  6: n_6             | EER_mean: 0.00190 | EER_interp: 0.00180 | ACC: 0.99820\n",
      "  Task  7: n_7             | EER_mean: 0.00320 | EER_interp: 0.00320 | ACC: 0.99680\n",
      "  Task  8: n_8             | EER_mean: 0.00510 | EER_interp: 0.00480 | ACC: 0.99530\n",
      "  Task  9: n_9             | EER_mean: 0.00450 | EER_interp: 0.00440 | ACC: 0.99550\n",
      "final_EER_mean: 0.39% | final_ACC: 99.63%\n",
      " .. training controller rnn ..\n",
      "  .. targets: [[0.23703043 0.24158265 0.25357854 0.26780838]]\n",
      "1/1 [==============================] - 0s 98ms/step - loss: 23.6454\n",
      "  Loss: 23.6454\n",
      "====================FINISHING TRIAL====================\n",
      "\n",
      "\n",
      "==================== STARTING NEW TRIAL ====================\n",
      " selecting new config...\n",
      "  Memory is not empty\n",
      "  Last Trial Conf: {'n_denses_0': 2, 'n_denses_1': 2, 'n_denses_2': 2, 'n_denses_3': 2}\n",
      "  LSTM entry: [[[2 2 2 2]]]\n",
      " controller_pred: [[0.236883   0.24139757 0.25388616 0.26783326]]\n",
      "\n",
      "\n",
      " ------ Training 27 | Config: {'n_denses_0': 2, 'n_denses_1': 2, 'n_denses_2': 2, 'n_denses_3': 2} -----\n",
      "\n",
      "Creating model...\n",
      "Model created\n",
      "Training MOBILENET_V2 network\n",
      " .. Not fine tuning base model...\n",
      "  .. Total params: 3,120,724\n",
      "  .. Trainable params: 862,740\n",
      "  .. Non-trainable params: 2,257,984\n",
      "\n",
      "Epoch 00001: val_loss improved from inf to 0.02296, saving model to training_ckpt/best_model.hdf5\n"
     ]
    },
    {
     "name": "stderr",
     "output_type": "stream",
     "text": [
      "/home/guilherme/anaconda3/envs/mteval-icao-reqs/submodules/icao_nets_training/lib/python3.8/site-packages/tensorflow/python/keras/utils/generic_utils.py:494: CustomMaskWarning: Custom mask layers require a config and must override get_config. When loading, the custom mask layer must be passed to the custom_objects argument.\n",
      "  warnings.warn('Custom mask layers require a config and must override '\n"
     ]
    },
    {
     "name": "stdout",
     "output_type": "stream",
     "text": [
      "..Loading best model\n",
      "..Checkpoint weights loaded\n",
      "Testing Trained Model\n",
      "Predicting labels....\n",
      "375/375 [==============================] - 9s 22ms/step\n",
      "Prediction finished!\n"
     ]
    }
   ],
   "source": [
    "runner.run_neural_architeture_search()"
   ]
  },
  {
   "cell_type": "markdown",
   "metadata": {},
   "source": [
    "# Create Model with Best Config Found"
   ]
  },
  {
   "cell_type": "code",
   "execution_count": null,
   "metadata": {},
   "outputs": [],
   "source": [
    "runner.create_model()"
   ]
  },
  {
   "cell_type": "markdown",
   "metadata": {},
   "source": [
    "# Visualize Model"
   ]
  },
  {
   "cell_type": "code",
   "execution_count": null,
   "metadata": {
    "tags": []
   },
   "outputs": [],
   "source": [
    "runner.visualize_model(outfile_path=f\"figs/nas/nas_model_approach_2.png\")"
   ]
  },
  {
   "cell_type": "code",
   "execution_count": null,
   "metadata": {
    "tags": []
   },
   "outputs": [],
   "source": [
    "%%capture\n",
    "runner.model_summary()"
   ]
  },
  {
   "cell_type": "markdown",
   "metadata": {},
   "source": [
    "# Training Model"
   ]
  },
  {
   "cell_type": "code",
   "execution_count": null,
   "metadata": {
    "tags": []
   },
   "outputs": [],
   "source": [
    "runner.train_model()"
   ]
  },
  {
   "cell_type": "markdown",
   "metadata": {},
   "source": [
    "# Plots"
   ]
  },
  {
   "cell_type": "code",
   "execution_count": null,
   "metadata": {
    "tags": []
   },
   "outputs": [],
   "source": [
    "runner.draw_training_history()"
   ]
  },
  {
   "cell_type": "markdown",
   "metadata": {},
   "source": [
    "# Load Best Model"
   ]
  },
  {
   "cell_type": "code",
   "execution_count": null,
   "metadata": {},
   "outputs": [],
   "source": [
    "runner.load_best_model()"
   ]
  },
  {
   "cell_type": "markdown",
   "metadata": {},
   "source": [
    "# Saving Trained Model"
   ]
  },
  {
   "cell_type": "code",
   "execution_count": null,
   "metadata": {},
   "outputs": [],
   "source": [
    "runner.save_model()"
   ]
  },
  {
   "cell_type": "markdown",
   "metadata": {},
   "source": [
    "# Test Trained Model"
   ]
  },
  {
   "cell_type": "markdown",
   "metadata": {},
   "source": [
    "## Validation Split"
   ]
  },
  {
   "cell_type": "code",
   "execution_count": null,
   "metadata": {
    "tags": []
   },
   "outputs": [],
   "source": [
    "runner.set_model_evaluator_data_src(DataSource.VALIDATION)\n",
    "runner.test_model(verbose=False)"
   ]
  },
  {
   "cell_type": "markdown",
   "metadata": {},
   "source": [
    "## Test Split"
   ]
  },
  {
   "cell_type": "code",
   "execution_count": null,
   "metadata": {
    "tags": []
   },
   "outputs": [],
   "source": [
    "runner.set_model_evaluator_data_src(DataSource.TEST)\n",
    "runner.test_model(verbose=False)"
   ]
  },
  {
   "cell_type": "markdown",
   "metadata": {},
   "source": [
    "# Visualize Model Classification"
   ]
  },
  {
   "cell_type": "raw",
   "metadata": {},
   "source": [
    "runner.visualize_predictions()"
   ]
  },
  {
   "cell_type": "markdown",
   "metadata": {},
   "source": [
    "# Finishing Experiment Manager"
   ]
  },
  {
   "cell_type": "code",
   "execution_count": null,
   "metadata": {},
   "outputs": [],
   "source": [
    "runner.finish_experiment()"
   ]
  },
  {
   "cell_type": "markdown",
   "metadata": {},
   "source": [
    "# Testing Network Modification"
   ]
  },
  {
   "cell_type": "raw",
   "metadata": {
    "jupyter": {
     "outputs_hidden": true,
     "source_hidden": true
    },
    "tags": []
   },
   "source": [
    "import tensorflow as tf\n",
    "import tensorflow.keras as keras\n",
    "import tensorflow.keras.backend as K\n",
    "import numpy as np\n",
    "from tensorflow.keras.layers import Dense, Input, Layer\n",
    "from tensorflow.keras.models import Model\n",
    "\n",
    "input_tensor = Input(shape=(20,), name=\"input\")\n",
    "hidden = Dense(100, activation='relu')(input_tensor)\n",
    "out = Dense(10, activation='relu', name=\"out\")(hidden)\n",
    "\n",
    "model = Model(inputs=input_tensor, outputs=out)\n",
    "model.compile(loss=\"mse\", optimizer='adam')\n",
    "\n",
    "model.summary()\n",
    "\n",
    "out = Dense(5, activation='softmax', name='new_out')(model.layers[-2].output)\n",
    "\n",
    "new_model = Model(input_tensor, out)\n",
    "new_model.summary()"
   ]
  },
  {
   "cell_type": "markdown",
   "metadata": {},
   "source": [
    "# Test - Customized Loss Function"
   ]
  },
  {
   "cell_type": "raw",
   "metadata": {
    "jupyter": {
     "source_hidden": true
    },
    "tags": []
   },
   "source": [
    "import tensorflow as tf\n",
    "import tensorflow.keras as keras\n",
    "import tensorflow.keras.backend as K\n",
    "import numpy as np\n",
    "from tensorflow.keras.layers import Dense, Input, Layer\n",
    "from tensorflow.keras.models import Model\n",
    "\n",
    "np.random.seed(10)\n",
    "\n",
    "def my_loss_func(y_true, y_pred):\n",
    "    print(y_true, y_pred)\n",
    "    squared_difference = tf.square(y_true - y_pred)\n",
    "    return tf.reduce_mean(squared_difference, axis=-1)\n",
    "\n",
    "\n",
    "def _controller_loss(y_true, y_pred):\n",
    "    baseline = None\n",
    "    baseline_decay = 0.999\n",
    "    reward = 0\n",
    "\n",
    "    if baseline is None:\n",
    "        baseline = 0\n",
    "    else:\n",
    "        baseline -= (1 - baseline_decay) * (baseline - reward)\n",
    "    return y_pred * (reward - baseline)\n",
    "\n",
    "def _define_loss(controller_loss):\n",
    "    print(controller_loss)\n",
    "    a =  {f\"out\": controller_loss for i in range(4)}\n",
    "    print(a)\n",
    "    return a\n",
    "\n",
    "\n",
    "\n",
    "input_tensor = Input(shape=(4), name=\"input\")\n",
    "hidden = Dense(64, activation='relu')(input_tensor)\n",
    "out = Dense(4, activation='softmax', name=\"out\")(hidden)\n",
    "\n",
    "model = Model(inputs=input_tensor, outputs=out)\n",
    "#model.compile(loss=my_loss_func, optimizer='adam')\n",
    "model.compile(loss=_define_loss(_controller_loss), optimizer='adam')\n",
    "\n",
    "#print(model.summary())\n",
    "\n",
    "#x = np.random.rand(4,4)\n",
    "#y = np.random.rand(4,1)\n",
    "\n",
    "x = np.matrix([[2,1,4,5], [3,4,5,2]], dtype='float32').A\n",
    "y = np.array([4,2], dtype='float32')\n",
    "\n",
    "print(x)\n",
    "print(y)\n",
    "\n",
    "H = model.fit(x, y, epochs=3, batch_size=1)\n",
    "H.history"
   ]
  },
  {
   "cell_type": "markdown",
   "metadata": {},
   "source": [
    "# Test - "
   ]
  },
  {
   "cell_type": "raw",
   "metadata": {
    "jupyter": {
     "source_hidden": true
    },
    "tags": []
   },
   "source": [
    "import tensorflow as tf\n",
    "import numpy as np\n",
    "\n",
    "import os\n",
    "# disable tensorflow log level infos\n",
    "os.environ['TF_CPP_MIN_LOG_LEVEL'] = '2' # show only errors\n",
    "\n",
    "from tensorflow.keras.models import Sequential\n",
    "from tensorflow.keras.layers import Dense\n",
    "from tensorflow.keras.optimizers import Adam\n",
    "\n",
    "\n",
    "def __create_rnn_model():\n",
    "    model = Sequential([\n",
    "        Dense(4, activation=\"relu\"),\n",
    "        Dense(64, activation=\"relu\"),\n",
    "        Dense(4, activation=\"softmax\")\n",
    "    ])\n",
    "\n",
    "    model.compile(loss=\"categorical_crossentropy\", optimizer=Adam(), metrics=[\"accuracy\"])\n",
    "\n",
    "    return model\n",
    "\n",
    "def __preprocess_config(config):\n",
    "    return np.linalg.norm(config)\n",
    "    \n",
    "\n",
    "\n",
    "np.random.seed(2)\n",
    "\n",
    "X = np.random.rand(400,4)\n",
    "y = np.random.rand(400,4)\n",
    "\n",
    "# X = tf.expand_dims(X, axis=0)\n",
    "# y = np.expand_dims(y, axis=0)\n",
    "\n",
    "print(X.shape)\n",
    "print(y.shape)\n",
    "\n",
    "X_test = np.random.rand(20,4)\n",
    "y_test = np.random.rand(20,4)\n",
    "\n",
    "# X_test = tf.expand_dims(X_test, axis=0)\n",
    "# y_test = tf.expand_dims(y_test, axis=0)\n",
    "\n",
    "m = __create_rnn_model()\n",
    "\n",
    "m.fit(X,y, batch_size=32, epochs=5)\n",
    "\n",
    "loss, acc = m.evaluate(X_test,y_test, batch_size=32)\n",
    "\n",
    "print(f'loss: {loss}%')\n",
    "print(f'acc: {round(acc*100,2)}%')\n",
    "\n",
    "print(f'prediction: {m.predict(np.array(X_test[0]).reshape(1,4))}')"
   ]
  }
 ],
 "metadata": {
  "interpreter": {
   "hash": "85f5044ba23e75135dc4c908fd4d7609c1c80b195047fdb4d16ee0e66a953254"
  },
  "kernelspec": {
   "display_name": "Python 3 (ipykernel)",
   "language": "python",
   "name": "python3"
  },
  "language_info": {
   "codemirror_mode": {
    "name": "ipython",
    "version": 3
   },
   "file_extension": ".py",
   "mimetype": "text/x-python",
   "name": "python",
   "nbconvert_exporter": "python",
   "pygments_lexer": "ipython3",
   "version": "3.8.0"
  },
  "toc-autonumbering": true
 },
 "nbformat": 4,
 "nbformat_minor": 4
}

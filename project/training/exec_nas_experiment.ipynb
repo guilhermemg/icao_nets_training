{
 "cells": [
  {
   "cell_type": "markdown",
   "metadata": {},
   "source": [
    "# Import Libraries"
   ]
  },
  {
   "cell_type": "code",
   "execution_count": 1,
   "metadata": {},
   "outputs": [],
   "source": [
    "%load_ext autoreload\n",
    "%autoreload 2"
   ]
  },
  {
   "cell_type": "code",
   "execution_count": 2,
   "metadata": {},
   "outputs": [],
   "source": [
    "import os\n",
    "# disable tensorflow log level infos\n",
    "os.environ['TF_CPP_MIN_LOG_LEVEL'] = '2' # show only errors\n",
    "\n",
    "import sys\n",
    "import pandas as pd\n",
    "\n",
    "if '..' not in sys.path:\n",
    "    sys.path.insert(0, '..')"
   ]
  },
  {
   "cell_type": "code",
   "execution_count": 3,
   "metadata": {
    "tags": []
   },
   "outputs": [
    {
     "name": "stdout",
     "output_type": "stream",
     "text": [
      " ==> Restrict GPU memory growth: True\n"
     ]
    }
   ],
   "source": [
    "from src.m_utils import constants as cts\n",
    "from src.base.data_loaders.data_loader import DLName\n",
    "from src.base.gt_loaders.gt_names import GTName\n",
    "from src.exp_runner import ExperimentRunner\n",
    "\n",
    "from src.base.experiment.dataset.benchmark_dataset import BenchmarkDataset\n",
    "from src.base.experiment.evaluation.model_evaluator import DataSource, DataPredSelection\n",
    "from src.base.experiment.training.base_models import BaseModel\n",
    "from src.base.experiment.training.optimizers import Optimizer\n",
    "\n",
    "from src.m_utils.mtl_approach import MTLApproach\n",
    "from src.m_utils.nas_mtl_approach import NAS_MTLApproach\n",
    "from src.base.experiment.tasks.task import ICAO_REQ, MNIST_TASK"
   ]
  },
  {
   "cell_type": "markdown",
   "metadata": {},
   "source": [
    "# Start Network runner"
   ]
  },
  {
   "cell_type": "code",
   "execution_count": 4,
   "metadata": {
    "tags": []
   },
   "outputs": [
    {
     "name": "stdout",
     "output_type": "stream",
     "text": [
      "-------------------- Init ExperimentRunner -------------------\n",
      "---------------------------\n",
      "Parent Process ID: 90559\n",
      "Process ID: 102485\n",
      "---------------------------\n",
      "-----\n",
      "Use Neptune:  True\n",
      "-----\n",
      "-------------------\n",
      "Args: \n",
      "{'exp_params': {'description': 'NAS Approach 2 with FVC dataset with 50 trials '\n",
      "                               'and patience and 1 child epoch',\n",
      "                'name': 'neural_arch_search',\n",
      "                'src_files': ['../src/**/*.py'],\n",
      "                'tags': ['nas',\n",
      "                         'nas_approach_1',\n",
      "                         'benchamark',\n",
      "                         'mnist',\n",
      "                         '1_child_epochs']},\n",
      " 'nas_params': {'controller_batch_size': 32,\n",
      "                'controller_epochs': 1,\n",
      "                'max_blocks_per_branch': 5,\n",
      "                'n_child_epochs': 1,\n",
      "                'n_trials': 50},\n",
      " 'net_train_params': {'base_model': <BaseModel.MOBILENET_V2: {'name': 'mobilnet_v2', 'target_size': (224, 224), 'prep_function': <function preprocess_input at 0x7f6ad89613a0>}>,\n",
      "                      'batch_size': 32,\n",
      "                      'dropout': 0.3,\n",
      "                      'early_stopping': 5,\n",
      "                      'learning_rate': 0.001,\n",
      "                      'n_epochs': 1,\n",
      "                      'optimizer': <Optimizer.ADAMAX: 'Adamax'>},\n",
      " 'properties': {'approach': <NAS_MTLApproach.APPROACH_2: 'approach_2'>,\n",
      "                'balance_input_data': False,\n",
      "                'benchmarking': {'benchmark_dataset': <BenchmarkDataset.MNIST: {'name': 'mnist', 'target_cols': ['n_0', 'n_1', 'n_2', 'n_3', 'n_4', 'n_5', 'n_6', 'n_7', 'n_8', 'n_9']}>,\n",
      "                                 'tasks': [<MNIST_TASK.N_0: 'n_0'>,\n",
      "                                           <MNIST_TASK.N_1: 'n_1'>,\n",
      "                                           <MNIST_TASK.N_2: 'n_2'>,\n",
      "                                           <MNIST_TASK.N_3: 'n_3'>,\n",
      "                                           <MNIST_TASK.N_4: 'n_4'>,\n",
      "                                           <MNIST_TASK.N_5: 'n_5'>,\n",
      "                                           <MNIST_TASK.N_6: 'n_6'>,\n",
      "                                           <MNIST_TASK.N_7: 'n_7'>,\n",
      "                                           <MNIST_TASK.N_8: 'n_8'>,\n",
      "                                           <MNIST_TASK.N_9: 'n_9'>],\n",
      "                                 'use_benchmark_data': False},\n",
      "                'exec_nas': True,\n",
      "                'icao_data': {'aligned': False,\n",
      "                              'icao_dl': {'tagger_model': None,\n",
      "                                          'use_dl_data': False},\n",
      "                              'icao_gt': {'gt_names': {'test': [],\n",
      "                                                       'train_validation': [],\n",
      "                                                       'train_validation_test': [<GTName.FVC: 'fvc'>]},\n",
      "                                          'use_gt_data': True},\n",
      "                              'reqs': [<ICAO_REQ.MOUTH: 'mouth'>,\n",
      "                                       <ICAO_REQ.ROTATION: 'rotation'>,\n",
      "                                       <ICAO_REQ.L_AWAY: 'l_away'>,\n",
      "                                       <ICAO_REQ.EYES_CLOSED: 'eyes_closed'>,\n",
      "                                       <ICAO_REQ.CLOSE: 'close'>,\n",
      "                                       <ICAO_REQ.HAT: 'hat'>,\n",
      "                                       <ICAO_REQ.DARK_GLASSES: 'dark_glasses'>,\n",
      "                                       <ICAO_REQ.FRAMES_HEAVY: 'frames_heavy'>,\n",
      "                                       <ICAO_REQ.FRAME_EYES: 'frame_eyes'>,\n",
      "                                       <ICAO_REQ.FLASH_LENSES: 'flash_lenses'>,\n",
      "                                       <ICAO_REQ.VEIL: 'veil'>,\n",
      "                                       <ICAO_REQ.REFLECTION: 'reflection'>,\n",
      "                                       <ICAO_REQ.LIGHT: 'light'>,\n",
      "                                       <ICAO_REQ.SHADOW_FACE: 'sh_face'>,\n",
      "                                       <ICAO_REQ.SHADOW_HEAD: 'sh_head'>,\n",
      "                                       <ICAO_REQ.BLURRED: 'blurred'>,\n",
      "                                       <ICAO_REQ.INK_MARK: 'ink_mark'>,\n",
      "                                       <ICAO_REQ.SKIN_TONE: 'skin_tone'>,\n",
      "                                       <ICAO_REQ.WASHED_OUT: 'washed_out'>,\n",
      "                                       <ICAO_REQ.PIXELATION: 'pixelation'>,\n",
      "                                       <ICAO_REQ.HAIR_EYES: 'hair_eyes'>,\n",
      "                                       <ICAO_REQ.BACKGROUND: 'background'>,\n",
      "                                       <ICAO_REQ.RED_EYES: 'red_eyes'>]},\n",
      "                'orig_model_experiment_id': '',\n",
      "                'sample_prop': 1.0,\n",
      "                'sample_training_data': False,\n",
      "                'save_trained_model': True,\n",
      "                'train_model': True},\n",
      " 'use_neptune': True}\n",
      "-------------------\n",
      "----\n",
      "Base Model Name:  BaseModel.MOBILENET_V2\n",
      "----\n",
      "MTL Model: True\n",
      "Approach: NAS_MTLApproach.APPROACH_2\n",
      "----\n",
      "--------------------  starting neptune  -------------------\n",
      "Starting Neptune\n",
      "https://app.neptune.ai/guilhermemg/icao-nets-training-2/e/ICAO-350\n",
      "Remember to stop your run once you’ve finished logging your metadata (https://docs.neptune.ai/api-reference/run#.stop). It will be stopped automatically only when the notebook kernel/interactive console is terminated.\n",
      "----\n",
      "----\n",
      "Checking model existence locally...\n",
      "Training a new model! Not checking model existence\n",
      "----\n",
      "------------------------------\n",
      "Checking GPU availability\n",
      " ..GPU is available!\n",
      "------------------------------\n"
     ]
    },
    {
     "name": "stderr",
     "output_type": "stream",
     "text": [
      "/home/guilherme/anaconda3/envs/mteval-icao-reqs/submodules/icao_nets_training/lib/python3.8/site-packages/tensorflow/python/keras/optimizer_v2/optimizer_v2.py:374: UserWarning: The `lr` argument is deprecated, use `learning_rate` instead.\n",
      "  warnings.warn(\n"
     ]
    }
   ],
   "source": [
    "kwargs = { \n",
    "    'use_neptune': True,\n",
    "    'exp_params' : {\n",
    "        'name': 'neural_arch_search',\n",
    "        'description': 'NAS Approach 2 with FVC dataset with 50 trials and patience and 1 child epoch',\n",
    "        'tags': ['nas', 'nas_approach_1', 'benchamark', 'mnist', '1_child_epochs'],\n",
    "        'src_files': [\"../src/**/*.py\"]\n",
    "    },\n",
    "    'properties': {\n",
    "        'approach': NAS_MTLApproach.APPROACH_2,\n",
    "        'benchmarking': {\n",
    "            'use_benchmark_data': False,\n",
    "            'benchmark_dataset': BenchmarkDataset.MNIST,\n",
    "            'tasks': list(MNIST_TASK)\n",
    "        },\n",
    "        'icao_data': {\n",
    "            'icao_gt': {\n",
    "                'use_gt_data': True,\n",
    "                'gt_names': {\n",
    "                    'train_validation': [],\n",
    "                    'test': [],\n",
    "                    'train_validation_test': [GTName.FVC]\n",
    "                },\n",
    "            },\n",
    "            'icao_dl': {\n",
    "                'use_dl_data': False,\n",
    "                'tagger_model': None\n",
    "            },\n",
    "            'reqs': list(ICAO_REQ),\n",
    "            'aligned': False\n",
    "        },\n",
    "        'balance_input_data': False,\n",
    "        'train_model': True,\n",
    "        'save_trained_model': True,\n",
    "        'exec_nas': True,\n",
    "        'orig_model_experiment_id': '',\n",
    "        'sample_training_data': False,\n",
    "        'sample_prop': 1.0\n",
    "    },\n",
    "    'net_train_params': {\n",
    "        'base_model': BaseModel.MOBILENET_V2,\n",
    "        'batch_size': 32,\n",
    "        'n_epochs': 1,\n",
    "        'early_stopping': 5,\n",
    "        'learning_rate': 1e-3,\n",
    "        'optimizer': Optimizer.ADAMAX,\n",
    "        'dropout': 0.3\n",
    "    },\n",
    "    'nas_params': {\n",
    "        'max_blocks_per_branch': 5,\n",
    "        'n_child_epochs': 1,\n",
    "        'controller_epochs': 1,\n",
    "        'controller_batch_size': 32,\n",
    "        'n_trials': 50\n",
    "    }\n",
    "}\n",
    "\n",
    "runner = ExperimentRunner(**kwargs)"
   ]
  },
  {
   "cell_type": "markdown",
   "metadata": {},
   "source": [
    "# Load Data"
   ]
  },
  {
   "cell_type": "code",
   "execution_count": 5,
   "metadata": {
    "tags": []
   },
   "outputs": [
    {
     "name": "stdout",
     "output_type": "stream",
     "text": [
      "-------------------- load training data -------------------\n",
      "Loading data\n",
      "Loading GT FVC - TRAIN split...\n",
      "..Ignoring 0 empty label values\n",
      "Input data.shape: (4928, 26)\n",
      "Loading GT FVC - VALIDATION split...\n",
      "..Ignoring 0 empty label values\n",
      "Input data.shape: (547, 26)\n",
      "Loading GT FVC - TEST split...\n",
      "..Ignoring 0 empty label values\n",
      "Input data.shape: (288, 26)\n",
      "Data loaded\n"
     ]
    }
   ],
   "source": [
    "runner.load_training_data()"
   ]
  },
  {
   "cell_type": "code",
   "execution_count": 6,
   "metadata": {
    "tags": []
   },
   "outputs": [
    {
     "data": {
      "text/html": [
       "<div>\n",
       "<style scoped>\n",
       "    .dataframe tbody tr th:only-of-type {\n",
       "        vertical-align: middle;\n",
       "    }\n",
       "\n",
       "    .dataframe tbody tr th {\n",
       "        vertical-align: top;\n",
       "    }\n",
       "\n",
       "    .dataframe thead th {\n",
       "        text-align: right;\n",
       "    }\n",
       "</style>\n",
       "<table border=\"1\" class=\"dataframe\">\n",
       "  <thead>\n",
       "    <tr style=\"text-align: right;\">\n",
       "      <th></th>\n",
       "      <th>origin</th>\n",
       "      <th>img_name</th>\n",
       "      <th>mouth</th>\n",
       "      <th>rotation</th>\n",
       "      <th>l_away</th>\n",
       "      <th>eyes_closed</th>\n",
       "      <th>close</th>\n",
       "      <th>hat</th>\n",
       "      <th>dark_glasses</th>\n",
       "      <th>frames_heavy</th>\n",
       "      <th>...</th>\n",
       "      <th>sh_head</th>\n",
       "      <th>blurred</th>\n",
       "      <th>ink_mark</th>\n",
       "      <th>skin_tone</th>\n",
       "      <th>washed_out</th>\n",
       "      <th>pixelation</th>\n",
       "      <th>hair_eyes</th>\n",
       "      <th>background</th>\n",
       "      <th>red_eyes</th>\n",
       "      <th>aligned</th>\n",
       "    </tr>\n",
       "  </thead>\n",
       "  <tbody>\n",
       "    <tr>\n",
       "      <th>0</th>\n",
       "      <td>fvc</td>\n",
       "      <td>/home/guilherme/data1/Dropbox/Link to Desktop/...</td>\n",
       "      <td>1.0</td>\n",
       "      <td>1.0</td>\n",
       "      <td>1.0</td>\n",
       "      <td>1.0</td>\n",
       "      <td>1.0</td>\n",
       "      <td>1.0</td>\n",
       "      <td>1.0</td>\n",
       "      <td>1.0</td>\n",
       "      <td>...</td>\n",
       "      <td>0.0</td>\n",
       "      <td>1.0</td>\n",
       "      <td>1.0</td>\n",
       "      <td>1.0</td>\n",
       "      <td>1.0</td>\n",
       "      <td>1.0</td>\n",
       "      <td>1.0</td>\n",
       "      <td>1.0</td>\n",
       "      <td>1.0</td>\n",
       "      <td>False</td>\n",
       "    </tr>\n",
       "    <tr>\n",
       "      <th>1</th>\n",
       "      <td>fvc</td>\n",
       "      <td>/home/guilherme/data1/Dropbox/Link to Desktop/...</td>\n",
       "      <td>1.0</td>\n",
       "      <td>1.0</td>\n",
       "      <td>0.0</td>\n",
       "      <td>1.0</td>\n",
       "      <td>1.0</td>\n",
       "      <td>1.0</td>\n",
       "      <td>1.0</td>\n",
       "      <td>1.0</td>\n",
       "      <td>...</td>\n",
       "      <td>1.0</td>\n",
       "      <td>1.0</td>\n",
       "      <td>1.0</td>\n",
       "      <td>1.0</td>\n",
       "      <td>1.0</td>\n",
       "      <td>1.0</td>\n",
       "      <td>1.0</td>\n",
       "      <td>1.0</td>\n",
       "      <td>1.0</td>\n",
       "      <td>False</td>\n",
       "    </tr>\n",
       "    <tr>\n",
       "      <th>2</th>\n",
       "      <td>fvc</td>\n",
       "      <td>/home/guilherme/data1/Dropbox/Link to Desktop/...</td>\n",
       "      <td>0.0</td>\n",
       "      <td>1.0</td>\n",
       "      <td>1.0</td>\n",
       "      <td>1.0</td>\n",
       "      <td>1.0</td>\n",
       "      <td>1.0</td>\n",
       "      <td>1.0</td>\n",
       "      <td>1.0</td>\n",
       "      <td>...</td>\n",
       "      <td>1.0</td>\n",
       "      <td>1.0</td>\n",
       "      <td>1.0</td>\n",
       "      <td>1.0</td>\n",
       "      <td>1.0</td>\n",
       "      <td>1.0</td>\n",
       "      <td>1.0</td>\n",
       "      <td>1.0</td>\n",
       "      <td>1.0</td>\n",
       "      <td>False</td>\n",
       "    </tr>\n",
       "    <tr>\n",
       "      <th>3</th>\n",
       "      <td>fvc</td>\n",
       "      <td>/home/guilherme/data1/Dropbox/Link to Desktop/...</td>\n",
       "      <td>1.0</td>\n",
       "      <td>1.0</td>\n",
       "      <td>1.0</td>\n",
       "      <td>1.0</td>\n",
       "      <td>1.0</td>\n",
       "      <td>1.0</td>\n",
       "      <td>1.0</td>\n",
       "      <td>1.0</td>\n",
       "      <td>...</td>\n",
       "      <td>0.0</td>\n",
       "      <td>1.0</td>\n",
       "      <td>1.0</td>\n",
       "      <td>0.0</td>\n",
       "      <td>1.0</td>\n",
       "      <td>1.0</td>\n",
       "      <td>1.0</td>\n",
       "      <td>0.0</td>\n",
       "      <td>1.0</td>\n",
       "      <td>False</td>\n",
       "    </tr>\n",
       "    <tr>\n",
       "      <th>4</th>\n",
       "      <td>fvc</td>\n",
       "      <td>/home/guilherme/data1/Dropbox/Link to Desktop/...</td>\n",
       "      <td>1.0</td>\n",
       "      <td>1.0</td>\n",
       "      <td>1.0</td>\n",
       "      <td>1.0</td>\n",
       "      <td>1.0</td>\n",
       "      <td>1.0</td>\n",
       "      <td>1.0</td>\n",
       "      <td>1.0</td>\n",
       "      <td>...</td>\n",
       "      <td>0.0</td>\n",
       "      <td>1.0</td>\n",
       "      <td>1.0</td>\n",
       "      <td>0.0</td>\n",
       "      <td>1.0</td>\n",
       "      <td>1.0</td>\n",
       "      <td>1.0</td>\n",
       "      <td>0.0</td>\n",
       "      <td>1.0</td>\n",
       "      <td>False</td>\n",
       "    </tr>\n",
       "  </tbody>\n",
       "</table>\n",
       "<p>5 rows × 26 columns</p>\n",
       "</div>"
      ],
      "text/plain": [
       "  origin                                           img_name  mouth  rotation  \\\n",
       "0    fvc  /home/guilherme/data1/Dropbox/Link to Desktop/...    1.0       1.0   \n",
       "1    fvc  /home/guilherme/data1/Dropbox/Link to Desktop/...    1.0       1.0   \n",
       "2    fvc  /home/guilherme/data1/Dropbox/Link to Desktop/...    0.0       1.0   \n",
       "3    fvc  /home/guilherme/data1/Dropbox/Link to Desktop/...    1.0       1.0   \n",
       "4    fvc  /home/guilherme/data1/Dropbox/Link to Desktop/...    1.0       1.0   \n",
       "\n",
       "   l_away  eyes_closed  close  hat  dark_glasses  frames_heavy  ...  sh_head  \\\n",
       "0     1.0          1.0    1.0  1.0           1.0           1.0  ...      0.0   \n",
       "1     0.0          1.0    1.0  1.0           1.0           1.0  ...      1.0   \n",
       "2     1.0          1.0    1.0  1.0           1.0           1.0  ...      1.0   \n",
       "3     1.0          1.0    1.0  1.0           1.0           1.0  ...      0.0   \n",
       "4     1.0          1.0    1.0  1.0           1.0           1.0  ...      0.0   \n",
       "\n",
       "   blurred  ink_mark  skin_tone  washed_out  pixelation  hair_eyes  \\\n",
       "0      1.0       1.0        1.0         1.0         1.0        1.0   \n",
       "1      1.0       1.0        1.0         1.0         1.0        1.0   \n",
       "2      1.0       1.0        1.0         1.0         1.0        1.0   \n",
       "3      1.0       1.0        0.0         1.0         1.0        1.0   \n",
       "4      1.0       1.0        0.0         1.0         1.0        1.0   \n",
       "\n",
       "   background  red_eyes  aligned  \n",
       "0         1.0       1.0    False  \n",
       "1         1.0       1.0    False  \n",
       "2         1.0       1.0    False  \n",
       "3         0.0       1.0    False  \n",
       "4         0.0       1.0    False  \n",
       "\n",
       "[5 rows x 26 columns]"
      ]
     },
     "execution_count": 6,
     "metadata": {},
     "output_type": "execute_result"
    }
   ],
   "source": [
    "runner.train_data.head()"
   ]
  },
  {
   "cell_type": "markdown",
   "metadata": {},
   "source": [
    "# <font color='red'>Producing Fake Data</font>"
   ]
  },
  {
   "cell_type": "raw",
   "metadata": {},
   "source": [
    "runner.produce_fake_data()"
   ]
  },
  {
   "cell_type": "markdown",
   "metadata": {},
   "source": [
    "# Data Generators"
   ]
  },
  {
   "cell_type": "code",
   "execution_count": 7,
   "metadata": {
    "tags": []
   },
   "outputs": [
    {
     "name": "stdout",
     "output_type": "stream",
     "text": [
      "-------------------- setup data generators -------------------\n",
      "Starting data generators\n",
      "Found 4928 validated image filenames.\n",
      "Found 547 validated image filenames.\n",
      "Found 288 validated image filenames.\n",
      "TOTAL: 5763\n",
      "\n",
      "Logging class indices\n",
      " .. MTL model not logging class indices!\n",
      "\n",
      "Logging class labels\n",
      " COMPLIANT label: 1\n",
      " NON_COMPLIANT label: 0\n",
      " DUMMY label: -1\n",
      " DUMMY_CLS label: 2\n",
      " NO_ANSWER label: -99\n"
     ]
    }
   ],
   "source": [
    "runner.setup_data_generators()"
   ]
  },
  {
   "cell_type": "markdown",
   "metadata": {},
   "source": [
    "# Setup Experiment"
   ]
  },
  {
   "cell_type": "code",
   "execution_count": 8,
   "metadata": {},
   "outputs": [
    {
     "name": "stdout",
     "output_type": "stream",
     "text": [
      "-------------------- create experiment -------------------\n",
      "Setup neptune properties and parameters\n",
      "Properties and parameters setup done!\n"
     ]
    }
   ],
   "source": [
    "runner.setup_experiment()"
   ]
  },
  {
   "cell_type": "markdown",
   "metadata": {},
   "source": [
    "# Labels Distribution"
   ]
  },
  {
   "cell_type": "code",
   "execution_count": 9,
   "metadata": {
    "tags": []
   },
   "outputs": [],
   "source": [
    "%%capture\n",
    "runner.summary_labels_dist()"
   ]
  },
  {
   "cell_type": "markdown",
   "metadata": {},
   "source": [
    "# Neural Architecture Search"
   ]
  },
  {
   "cell_type": "code",
   "execution_count": null,
   "metadata": {
    "tags": []
   },
   "outputs": [
    {
     "name": "stdout",
     "output_type": "stream",
     "text": [
      "-------------------- run neural architecture search -------------------\n",
      "Executing neural architectural search\n",
      "  Memory reseted\n",
      "\n",
      "==================== STARTING NEW TRIAL ====================\n",
      " selecting new config...\n",
      "  Memory is empty\n",
      " controller_pred: [[0.22257014 0.2246993  0.26717    0.28556052]]\n",
      "\n",
      "\n",
      " ------ Training 1 | Config: {'n_denses_0': 2, 'n_denses_1': 2, 'n_denses_2': 2, 'n_denses_3': 2} -----\n",
      "\n",
      "Creating model...\n",
      "Model created\n",
      "Training MOBILENET_V2 network\n",
      " .. Not fine tuning base model...\n",
      "  .. Total params: 4,242,286\n",
      "  .. Trainable params: 1,984,302\n",
      "  .. Non-trainable params: 2,257,984\n",
      "\n",
      "Epoch 00001: val_loss improved from inf to 2.56555, saving model to training_ckpt/best_model.hdf5\n"
     ]
    },
    {
     "name": "stderr",
     "output_type": "stream",
     "text": [
      "/home/guilherme/anaconda3/envs/mteval-icao-reqs/submodules/icao_nets_training/lib/python3.8/site-packages/tensorflow/python/keras/utils/generic_utils.py:494: CustomMaskWarning: Custom mask layers require a config and must override get_config. When loading, the custom mask layer must be passed to the custom_objects argument.\n",
      "  warnings.warn('Custom mask layers require a config and must override '\n"
     ]
    },
    {
     "name": "stdout",
     "output_type": "stream",
     "text": [
      "..Loading best model\n",
      "..Checkpoint weights loaded\n",
      "Testing Trained Model\n",
      "Predicting labels....\n",
      "18/18 [==============================] - 33s 2s/step\n",
      "Prediction finished!\n"
     ]
    },
    {
     "name": "stderr",
     "output_type": "stream",
     "text": [
      "/home/guilherme/anaconda3/envs/mteval-icao-reqs/submodules/icao_nets_training/lib/python3.8/site-packages/sklearn/metrics/_ranking.py:803: UndefinedMetricWarning: No negative samples in y_true, false positive value should be meaningless\n",
      "  warnings.warn(\"No negative samples in y_true, \"\n"
     ]
    },
    {
     "name": "stdout",
     "output_type": "stream",
     "text": [
      "  Task  0: mouth           | EER_mean: 0.22830 | EER_interp: 0.22840 | ACC: 0.77150\n",
      "  Task  1: rotation        | EER_mean: 0.34630 | EER_interp: 0.34470 | ACC: 0.65450\n",
      "  Task  2: l_away          | EER_mean: 0.23560 | EER_interp: 0.23300 | ACC: 0.76600\n",
      "  Task  3: eyes_closed     | EER_mean: 0.06600 | EER_interp: 0.06480 | ACC: 0.93600\n",
      "  Task  4: close           | EER_mean: 0.40810 | EER_interp: 0.00000 | ACC: 0.01100\n",
      "  Task  5: hat             | EER_mean: 0.07530 | EER_interp: 0.07290 | ACC: 0.92870\n",
      "  Task  6: dark_glasses    | EER_mean: 0.03640 | EER_interp: 0.03740 | ACC: 0.96340\n",
      "  Task  7: frames_heavy    | EER_mean: 0.50090 | EER_interp: 0.00000 | ACC: 0.00550\n",
      "  Task  8: frame_eyes      | EER_mean: 0.14680 | EER_interp: 0.14580 | ACC: 0.85370\n",
      "  Task  9: flash_lenses    | EER_mean: 0.15040 | EER_interp: 0.15240 | ACC: 0.84640\n",
      "  Task 10: veil            | EER_mean: 0.44160 | EER_interp: 0.00000 | ACC: 0.06030\n",
      "  Task 11: reflection      | EER_mean: 0.25660 | EER_interp: 0.25600 | ACC: 0.74410\n",
      "  Task 12: light           | EER_mean: 0.30950 | EER_interp: 0.31420 | ACC: 0.68190\n",
      "  Task 13: sh_face         | EER_mean: 0.28290 | EER_interp: 0.28320 | ACC: 0.71660\n",
      "  Task 14: sh_head         | EER_mean: 0.17730 | EER_interp: 0.17750 | ACC: 0.82270\n",
      "  Task 15: blurred         | EER_mean: 0.17460 | EER_interp: 0.16870 | ACC: 0.82630\n",
      "  Task 16: skin_tone       | EER_mean: 0.00000 | EER_interp: 0.00000 | ACC: 1.00000\n",
      "  Task 17: washed_out      | EER_mean: 0.26520 | EER_interp: 0.26300 | ACC: 0.73670\n",
      "  Task 18: pixelation      | EER_mean: 0.33330 | EER_interp: 0.37070 | ACC: 0.59230\n",
      "  Task 19: hair_eyes       | EER_mean: 0.30230 | EER_interp: 0.29630 | ACC: 0.69840\n",
      "  Task 20: background      | EER_mean: 0.19900 | EER_interp: 0.20100 | ACC: 0.80070\n",
      "  Task 21: red_eyes        | EER_mean: 0.21620 | EER_interp: 0.21580 | ACC: 0.78430\n",
      "final_EER_mean: 17.39% | final_EER_median: 18.92% | final_EER_std_dv: 11.7% | final_ACC: 69.1%\n",
      " .. training controller rnn ..\n",
      "  .. targets: [[0.22257014 0.2246993  0.26717    0.28556052]]\n",
      "1/1 [==============================] - 0s 111ms/step - loss: 17.2405\n",
      "  Loss: 17.2405\n",
      "====================FINISHING TRIAL====================\n",
      "\n",
      "\n",
      "==================== STARTING NEW TRIAL ====================\n",
      " selecting new config...\n",
      "  Memory is not empty\n",
      "  Last Trial Conf: {'n_denses_0': 2, 'n_denses_1': 2, 'n_denses_2': 2, 'n_denses_3': 2}\n",
      "  LSTM entry: [[[2 2 2 2]]]\n",
      " controller_pred: [[0.23912257 0.23303097 0.26088881 0.26695764]]\n",
      "\n",
      "\n",
      " ------ Training 2 | Config: {'n_denses_0': 2, 'n_denses_1': 2, 'n_denses_2': 2, 'n_denses_3': 2} -----\n",
      "\n",
      "Creating model...\n",
      "Model created\n",
      "Training MOBILENET_V2 network\n",
      " .. Not fine tuning base model...\n",
      "  .. Total params: 4,242,286\n",
      "  .. Trainable params: 1,984,302\n",
      "  .. Non-trainable params: 2,257,984\n",
      "\n",
      "Epoch 00001: val_loss improved from inf to 3.82114, saving model to training_ckpt/best_model.hdf5\n"
     ]
    },
    {
     "name": "stderr",
     "output_type": "stream",
     "text": [
      "/home/guilherme/anaconda3/envs/mteval-icao-reqs/submodules/icao_nets_training/lib/python3.8/site-packages/tensorflow/python/keras/utils/generic_utils.py:494: CustomMaskWarning: Custom mask layers require a config and must override get_config. When loading, the custom mask layer must be passed to the custom_objects argument.\n",
      "  warnings.warn('Custom mask layers require a config and must override '\n"
     ]
    },
    {
     "name": "stdout",
     "output_type": "stream",
     "text": [
      "..Loading best model\n",
      "..Checkpoint weights loaded\n",
      "Testing Trained Model\n",
      "Predicting labels....\n",
      "18/18 [==============================] - 33s 2s/step\n",
      "Prediction finished!\n"
     ]
    },
    {
     "name": "stderr",
     "output_type": "stream",
     "text": [
      "/home/guilherme/anaconda3/envs/mteval-icao-reqs/submodules/icao_nets_training/lib/python3.8/site-packages/sklearn/metrics/_ranking.py:803: UndefinedMetricWarning: No negative samples in y_true, false positive value should be meaningless\n",
      "  warnings.warn(\"No negative samples in y_true, \"\n"
     ]
    },
    {
     "name": "stdout",
     "output_type": "stream",
     "text": [
      "  Task  0: mouth           | EER_mean: 0.24050 | EER_interp: 0.24230 | ACC: 0.75870\n",
      "  Task  1: rotation        | EER_mean: 0.32120 | EER_interp: 0.32160 | ACC: 0.67820\n",
      "  Task  2: l_away          | EER_mean: 0.20160 | EER_interp: 0.20080 | ACC: 0.79890\n",
      "  Task  3: eyes_closed     | EER_mean: 0.10410 | EER_interp: 0.10400 | ACC: 0.89580\n",
      "  Task  4: close           | EER_mean: 0.50050 | EER_interp: 0.00000 | ACC: 0.01100\n",
      "  Task  5: hat             | EER_mean: 0.19970 | EER_interp: 0.00000 | ACC: 0.17000\n",
      "  Task  6: dark_glasses    | EER_mean: 0.08840 | EER_interp: 0.00000 | ACC: 0.09510\n",
      "  Task  7: frames_heavy    | EER_mean: 0.50000 | EER_interp: 0.00000 | ACC: 0.00550\n",
      "  Task  8: frame_eyes      | EER_mean: 0.17710 | EER_interp: 0.00000 | ACC: 0.27790\n",
      "  Task  9: flash_lenses    | EER_mean: 0.17730 | EER_interp: 0.17390 | ACC: 0.82270\n",
      "  Task 10: veil            | EER_mean: 0.47620 | EER_interp: 0.00000 | ACC: 0.06030\n",
      "  Task 11: reflection      | EER_mean: 0.24530 | EER_interp: 0.24860 | ACC: 0.75140\n",
      "  Task 12: light           | EER_mean: 0.35680 | EER_interp: 0.35780 | ACC: 0.62160\n",
      "  Task 13: sh_face         | EER_mean: 0.23410 | EER_interp: 0.22960 | ACC: 0.77150\n",
      "  Task 14: sh_head         | EER_mean: 0.26080 | EER_interp: 0.00000 | ACC: 0.36930\n",
      "  Task 15: blurred         | EER_mean: 0.28780 | EER_interp: 0.00000 | ACC: 0.07860\n",
      "  Task 16: skin_tone       | EER_mean: 0.00000 | EER_interp: 0.00000 | ACC: 1.00000\n",
      "  Task 17: washed_out      | EER_mean: 0.25210 | EER_interp: 0.25380 | ACC: 0.74590\n",
      "  Task 18: pixelation      | EER_mean: 0.51520 | EER_interp: 0.00000 | ACC: 0.00550\n",
      "  Task 19: hair_eyes       | EER_mean: 0.31980 | EER_interp: 0.30500 | ACC: 0.68190\n",
      "  Task 20: background      | EER_mean: 0.17920 | EER_interp: 0.17800 | ACC: 0.82080\n",
      "  Task 21: red_eyes        | EER_mean: 0.28340 | EER_interp: 0.28280 | ACC: 0.71660\n",
      "final_EER_mean: 13.17% | final_EER_median: 13.9% | final_EER_std_dv: 13.03% | final_ACC: 50.62%\n",
      " .. training controller rnn ..\n",
      "  .. targets: [[0.23912257 0.23303097 0.26088881 0.26695764]]\n",
      "1/1 [==============================] - 0s 117ms/step - loss: 12.5952\n",
      "  Loss: 12.5952\n",
      "====================FINISHING TRIAL====================\n",
      "\n",
      "\n",
      "==================== STARTING NEW TRIAL ====================\n",
      " selecting new config...\n",
      "  Memory is not empty\n",
      "  Last Trial Conf: {'n_denses_0': 2, 'n_denses_1': 2, 'n_denses_2': 2, 'n_denses_3': 2}\n",
      "  LSTM entry: [[[2 2 2 2]]]\n",
      " controller_pred: [[0.23912257 0.23303097 0.26088881 0.26695764]]\n",
      "\n",
      "\n",
      " ------ Training 3 | Config: {'n_denses_0': 2, 'n_denses_1': 2, 'n_denses_2': 2, 'n_denses_3': 2} -----\n",
      "\n",
      "Creating model...\n",
      "Model created\n",
      "Training MOBILENET_V2 network\n",
      " .. Not fine tuning base model...\n",
      "  .. Total params: 4,242,286\n",
      "  .. Trainable params: 1,984,302\n",
      "  .. Non-trainable params: 2,257,984\n",
      "\n",
      "Epoch 00001: val_loss improved from inf to 2.42982, saving model to training_ckpt/best_model.hdf5\n"
     ]
    },
    {
     "name": "stderr",
     "output_type": "stream",
     "text": [
      "/home/guilherme/anaconda3/envs/mteval-icao-reqs/submodules/icao_nets_training/lib/python3.8/site-packages/tensorflow/python/keras/utils/generic_utils.py:494: CustomMaskWarning: Custom mask layers require a config and must override get_config. When loading, the custom mask layer must be passed to the custom_objects argument.\n",
      "  warnings.warn('Custom mask layers require a config and must override '\n"
     ]
    },
    {
     "name": "stdout",
     "output_type": "stream",
     "text": [
      "..Loading best model\n",
      "..Checkpoint weights loaded\n",
      "Testing Trained Model\n",
      "Predicting labels....\n",
      "18/18 [==============================] - 33s 2s/step\n",
      "Prediction finished!\n"
     ]
    },
    {
     "name": "stderr",
     "output_type": "stream",
     "text": [
      "/home/guilherme/anaconda3/envs/mteval-icao-reqs/submodules/icao_nets_training/lib/python3.8/site-packages/sklearn/metrics/_ranking.py:803: UndefinedMetricWarning: No negative samples in y_true, false positive value should be meaningless\n",
      "  warnings.warn(\"No negative samples in y_true, \"\n"
     ]
    },
    {
     "name": "stdout",
     "output_type": "stream",
     "text": [
      "  Task  0: mouth           | EER_mean: 0.24290 | EER_interp: 0.23960 | ACC: 0.75870\n",
      "  Task  1: rotation        | EER_mean: 0.35850 | EER_interp: 0.35080 | ACC: 0.64530\n",
      "  Task  2: l_away          | EER_mean: 0.16970 | EER_interp: 0.16860 | ACC: 0.83180\n",
      "  Task  3: eyes_closed     | EER_mean: 0.06600 | EER_interp: 0.07160 | ACC: 0.92500\n",
      "  Task  4: close           | EER_mean: 0.50190 | EER_interp: 0.00000 | ACC: 0.01100\n",
      "  Task  5: hat             | EER_mean: 0.17170 | EER_interp: 0.00000 | ACC: 0.17000\n",
      "  Task  6: dark_glasses    | EER_mean: 0.16160 | EER_interp: 0.00000 | ACC: 0.09510\n",
      "  Task  7: frames_heavy    | EER_mean: 0.50890 | EER_interp: 0.00000 | ACC: 0.00550\n",
      "  Task  8: frame_eyes      | EER_mean: 0.13670 | EER_interp: 0.13420 | ACC: 0.86470\n",
      "  Task  9: flash_lenses    | EER_mean: 0.15910 | EER_interp: 0.15920 | ACC: 0.84100\n",
      "  Task 10: veil            | EER_mean: 0.00970 | EER_interp: 0.00000 | ACC: 0.99090\n",
      "  Task 11: reflection      | EER_mean: 0.28720 | EER_interp: 0.28510 | ACC: 0.71480\n",
      "  Task 12: light           | EER_mean: 0.33330 | EER_interp: 0.33400 | ACC: 0.66540\n",
      "  Task 13: sh_face         | EER_mean: 0.26020 | EER_interp: 0.25700 | ACC: 0.74220\n",
      "  Task 14: sh_head         | EER_mean: 0.23270 | EER_interp: 0.23230 | ACC: 0.76780\n",
      "  Task 15: blurred         | EER_mean: 0.18460 | EER_interp: 0.18420 | ACC: 0.81720\n",
      "  Task 16: skin_tone       | EER_mean: 0.00000 | EER_interp: 0.00000 | ACC: 1.00000\n",
      "  Task 17: washed_out      | EER_mean: 0.25640 | EER_interp: 0.25120 | ACC: 0.74950\n",
      "  Task 18: pixelation      | EER_mean: 0.66670 | EER_interp: 0.68080 | ACC: 0.30530\n",
      "  Task 19: hair_eyes       | EER_mean: 0.29030 | EER_interp: 0.29240 | ACC: 0.70570\n",
      "  Task 20: background      | EER_mean: 0.13890 | EER_interp: 0.14240 | ACC: 0.85560\n",
      "  Task 21: red_eyes        | EER_mean: 0.22520 | EER_interp: 0.23100 | ACC: 0.76780\n",
      "final_EER_mean: 18.25% | final_EER_median: 17.64% | final_EER_std_dv: 15.92% | final_ACC: 64.68%\n",
      " .. training controller rnn ..\n",
      "  .. targets: [[0.23912257 0.23303097 0.26088881 0.26695764]]\n",
      "1/1 [==============================] - 0s 104ms/step - loss: 16.0780\n",
      "  Loss: 16.078\n",
      "====================FINISHING TRIAL====================\n",
      "\n",
      "\n",
      "==================== STARTING NEW TRIAL ====================\n",
      " selecting new config...\n",
      "  Memory is not empty\n",
      "  Last Trial Conf: {'n_denses_0': 2, 'n_denses_1': 2, 'n_denses_2': 2, 'n_denses_3': 2}\n",
      "  LSTM entry: [[[2 2 2 2]]]\n",
      " controller_pred: [[0.23912527 0.23306265 0.26085827 0.26695383]]\n",
      "\n",
      "\n",
      " ------ Training 4 | Config: {'n_denses_0': 2, 'n_denses_1': 2, 'n_denses_2': 2, 'n_denses_3': 2} -----\n",
      "\n",
      "Creating model...\n",
      "Model created\n",
      "Training MOBILENET_V2 network\n",
      " .. Not fine tuning base model...\n",
      "  .. Total params: 4,242,286\n",
      "  .. Trainable params: 1,984,302\n",
      "  .. Non-trainable params: 2,257,984\n",
      "\n",
      "Epoch 00001: val_loss improved from inf to 2.44595, saving model to training_ckpt/best_model.hdf5\n"
     ]
    },
    {
     "name": "stderr",
     "output_type": "stream",
     "text": [
      "/home/guilherme/anaconda3/envs/mteval-icao-reqs/submodules/icao_nets_training/lib/python3.8/site-packages/tensorflow/python/keras/utils/generic_utils.py:494: CustomMaskWarning: Custom mask layers require a config and must override get_config. When loading, the custom mask layer must be passed to the custom_objects argument.\n",
      "  warnings.warn('Custom mask layers require a config and must override '\n"
     ]
    },
    {
     "name": "stdout",
     "output_type": "stream",
     "text": [
      "..Loading best model\n",
      "..Checkpoint weights loaded\n",
      "Testing Trained Model\n",
      "Predicting labels....\n",
      "18/18 [==============================] - 32s 2s/step\n",
      "Prediction finished!\n"
     ]
    },
    {
     "name": "stderr",
     "output_type": "stream",
     "text": [
      "/home/guilherme/anaconda3/envs/mteval-icao-reqs/submodules/icao_nets_training/lib/python3.8/site-packages/sklearn/metrics/_ranking.py:803: UndefinedMetricWarning: No negative samples in y_true, false positive value should be meaningless\n",
      "  warnings.warn(\"No negative samples in y_true, \"\n"
     ]
    },
    {
     "name": "stdout",
     "output_type": "stream",
     "text": [
      "  Task  0: mouth           | EER_mean: 0.21260 | EER_interp: 0.21580 | ACC: 0.78240\n",
      "  Task  1: rotation        | EER_mean: 0.35040 | EER_interp: 0.35570 | ACC: 0.64170\n",
      "  Task  2: l_away          | EER_mean: 0.22770 | EER_interp: 0.22600 | ACC: 0.77330\n",
      "  Task  3: eyes_closed     | EER_mean: 0.08490 | EER_interp: 0.08440 | ACC: 0.91590\n",
      "  Task  4: close           | EER_mean: 0.26390 | EER_interp: 0.00000 | ACC: 0.01100\n",
      "  Task  5: hat             | EER_mean: 0.06410 | EER_interp: 0.06420 | ACC: 0.93600\n",
      "  Task  6: dark_glasses    | EER_mean: 0.01920 | EER_interp: 0.01770 | ACC: 0.98350\n",
      "  Task  7: frames_heavy    | EER_mean: 0.25070 | EER_interp: 0.00000 | ACC: 0.00550\n",
      "  Task  8: frame_eyes      | EER_mean: 0.13820 | EER_interp: 0.13870 | ACC: 0.86110\n",
      "  Task  9: flash_lenses    | EER_mean: 0.12440 | EER_interp: 0.11970 | ACC: 0.87750\n",
      "  Task 10: veil            | EER_mean: 0.08360 | EER_interp: 0.00000 | ACC: 0.06030\n",
      "  Task 11: reflection      | EER_mean: 0.22700 | EER_interp: 0.22670 | ACC: 0.77330\n",
      "  Task 12: light           | EER_mean: 0.36220 | EER_interp: 0.35680 | ACC: 0.62340\n",
      "  Task 13: sh_face         | EER_mean: 0.27780 | EER_interp: 0.27550 | ACC: 0.72390\n",
      "  Task 14: sh_head         | EER_mean: 0.18260 | EER_interp: 0.18040 | ACC: 0.81900\n",
      "  Task 15: blurred         | EER_mean: 0.18760 | EER_interp: 0.18720 | ACC: 0.81170\n",
      "  Task 16: skin_tone       | EER_mean: 0.00000 | EER_interp: 0.00000 | ACC: 1.00000\n",
      "  Task 17: washed_out      | EER_mean: 0.24860 | EER_interp: 0.24860 | ACC: 0.75140\n",
      "  Task 18: pixelation      | EER_mean: 0.40490 | EER_interp: 0.00000 | ACC: 0.00550\n",
      "  Task 19: hair_eyes       | EER_mean: 0.29030 | EER_interp: 0.29340 | ACC: 0.70380\n",
      "  Task 20: background      | EER_mean: 0.18520 | EER_interp: 0.18820 | ACC: 0.80990\n",
      "  Task 21: red_eyes        | EER_mean: 0.27080 | EER_interp: 0.27050 | ACC: 0.72940\n",
      "final_EER_mean: 15.68% | final_EER_median: 18.38% | final_EER_std_dv: 11.81% | final_ACC: 66.36%\n",
      " .. training controller rnn ..\n",
      "  .. targets: [[0.23912527 0.23306265 0.26085827 0.26695383]]\n",
      "1/1 [==============================] - 0s 100ms/step - loss: 16.4651\n",
      "  Loss: 16.4651\n",
      "====================FINISHING TRIAL====================\n",
      "\n",
      "\n",
      "==================== STARTING NEW TRIAL ====================\n",
      " selecting new config...\n",
      "  Memory is not empty\n",
      "  Last Trial Conf: {'n_denses_0': 2, 'n_denses_1': 2, 'n_denses_2': 2, 'n_denses_3': 2}\n",
      "  LSTM entry: [[[2 2 2 2]]]\n",
      " controller_pred: [[0.23912746 0.23308857 0.26083326 0.2669507 ]]\n",
      "\n",
      "\n",
      " ------ Training 5 | Config: {'n_denses_0': 2, 'n_denses_1': 2, 'n_denses_2': 2, 'n_denses_3': 2} -----\n",
      "\n",
      "Creating model...\n",
      "Model created\n",
      "Training MOBILENET_V2 network\n",
      " .. Not fine tuning base model...\n",
      "  .. Total params: 4,242,286\n",
      "  .. Trainable params: 1,984,302\n",
      "  .. Non-trainable params: 2,257,984\n",
      "\n",
      "Epoch 00001: val_loss improved from inf to 3.11287, saving model to training_ckpt/best_model.hdf5\n"
     ]
    },
    {
     "name": "stderr",
     "output_type": "stream",
     "text": [
      "/home/guilherme/anaconda3/envs/mteval-icao-reqs/submodules/icao_nets_training/lib/python3.8/site-packages/tensorflow/python/keras/utils/generic_utils.py:494: CustomMaskWarning: Custom mask layers require a config and must override get_config. When loading, the custom mask layer must be passed to the custom_objects argument.\n",
      "  warnings.warn('Custom mask layers require a config and must override '\n"
     ]
    },
    {
     "name": "stdout",
     "output_type": "stream",
     "text": [
      "..Loading best model\n",
      "..Checkpoint weights loaded\n",
      "Testing Trained Model\n",
      "Predicting labels....\n",
      "18/18 [==============================] - 32s 2s/step\n",
      "Prediction finished!\n"
     ]
    },
    {
     "name": "stderr",
     "output_type": "stream",
     "text": [
      "/home/guilherme/anaconda3/envs/mteval-icao-reqs/submodules/icao_nets_training/lib/python3.8/site-packages/sklearn/metrics/_ranking.py:803: UndefinedMetricWarning: No negative samples in y_true, false positive value should be meaningless\n",
      "  warnings.warn(\"No negative samples in y_true, \"\n"
     ]
    },
    {
     "name": "stdout",
     "output_type": "stream",
     "text": [
      "  Task  0: mouth           | EER_mean: 0.22050 | EER_interp: 0.21980 | ACC: 0.78060\n",
      "  Task  1: rotation        | EER_mean: 0.33170 | EER_interp: 0.33010 | ACC: 0.66910\n",
      "  Task  2: l_away          | EER_mean: 0.21730 | EER_interp: 0.21470 | ACC: 0.78430\n",
      "  Task  3: eyes_closed     | EER_mean: 0.08490 | EER_interp: 0.08440 | ACC: 0.91590\n",
      "  Task  4: close           | EER_mean: 0.50000 | EER_interp: 0.00000 | ACC: 0.01100\n",
      "  Task  5: hat             | EER_mean: 0.46240 | EER_interp: 0.00000 | ACC: 0.17000\n",
      "  Task  6: dark_glasses    | EER_mean: 0.20030 | EER_interp: 0.00000 | ACC: 0.09510\n",
      "  Task  7: frames_heavy    | EER_mean: 0.50000 | EER_interp: 0.00000 | ACC: 0.00550\n",
      "  Task  8: frame_eyes      | EER_mean: 0.14180 | EER_interp: 0.14000 | ACC: 0.85920\n",
      "  Task  9: flash_lenses    | EER_mean: 0.17970 | EER_interp: 0.17840 | ACC: 0.82080\n",
      "  Task 10: veil            | EER_mean: 0.23260 | EER_interp: 0.00000 | ACC: 0.06030\n",
      "  Task 11: reflection      | EER_mean: 0.31210 | EER_interp: 0.31070 | ACC: 0.68920\n",
      "  Task 12: light           | EER_mean: 0.44950 | EER_interp: 0.00000 | ACC: 0.07680\n",
      "  Task 13: sh_face         | EER_mean: 0.26610 | EER_interp: 0.26480 | ACC: 0.73490\n",
      "  Task 14: sh_head         | EER_mean: 0.20960 | EER_interp: 0.20940 | ACC: 0.79160\n",
      "  Task 15: blurred         | EER_mean: 0.23370 | EER_interp: 0.23340 | ACC: 0.76600\n",
      "  Task 16: skin_tone       | EER_mean: 0.00000 | EER_interp: 0.00000 | ACC: 1.00000\n",
      "  Task 17: washed_out      | EER_mean: 0.34500 | EER_interp: 0.34130 | ACC: 0.65810\n",
      "  Task 18: pixelation      | EER_mean: 0.34610 | EER_interp: 0.34040 | ACC: 0.65270\n",
      "  Task 19: hair_eyes       | EER_mean: 0.22580 | EER_interp: 0.21370 | ACC: 0.79710\n",
      "  Task 20: background      | EER_mean: 0.17080 | EER_interp: 0.16880 | ACC: 0.83000\n",
      "  Task 21: red_eyes        | EER_mean: 0.28380 | EER_interp: 0.28340 | ACC: 0.71660\n",
      "final_EER_mean: 16.06% | final_EER_median: 19.39% | final_EER_std_dv: 12.55% | final_ACC: 58.57%\n",
      " .. training controller rnn ..\n",
      "  .. targets: [[0.23912746 0.23308857 0.26083326 0.2669507 ]]\n",
      "1/1 [==============================] - 0s 106ms/step - loss: 14.4885\n",
      "  Loss: 14.4885\n",
      "====================FINISHING TRIAL====================\n",
      "\n",
      "\n",
      "==================== STARTING NEW TRIAL ====================\n",
      " selecting new config...\n",
      "  Memory is not empty\n",
      "  Last Trial Conf: {'n_denses_0': 2, 'n_denses_1': 2, 'n_denses_2': 2, 'n_denses_3': 2}\n",
      "  LSTM entry: [[[2 2 2 2]]]\n",
      " controller_pred: [[0.2391293  0.23311043 0.26081216 0.26694807]]\n",
      "\n",
      "\n",
      " ------ Training 6 | Config: {'n_denses_0': 2, 'n_denses_1': 2, 'n_denses_2': 2, 'n_denses_3': 2} -----\n",
      "\n",
      "Creating model...\n",
      "Model created\n",
      "Training MOBILENET_V2 network\n",
      " .. Not fine tuning base model...\n",
      "  .. Total params: 4,242,286\n",
      "  .. Trainable params: 1,984,302\n",
      "  .. Non-trainable params: 2,257,984\n",
      "\n",
      "Epoch 00001: val_loss improved from inf to 1.70074, saving model to training_ckpt/best_model.hdf5\n"
     ]
    },
    {
     "name": "stderr",
     "output_type": "stream",
     "text": [
      "/home/guilherme/anaconda3/envs/mteval-icao-reqs/submodules/icao_nets_training/lib/python3.8/site-packages/tensorflow/python/keras/utils/generic_utils.py:494: CustomMaskWarning: Custom mask layers require a config and must override get_config. When loading, the custom mask layer must be passed to the custom_objects argument.\n",
      "  warnings.warn('Custom mask layers require a config and must override '\n"
     ]
    },
    {
     "name": "stdout",
     "output_type": "stream",
     "text": [
      "..Loading best model\n",
      "..Checkpoint weights loaded\n",
      "Testing Trained Model\n",
      "Predicting labels....\n",
      "18/18 [==============================] - 32s 2s/step\n",
      "Prediction finished!\n"
     ]
    },
    {
     "name": "stderr",
     "output_type": "stream",
     "text": [
      "/home/guilherme/anaconda3/envs/mteval-icao-reqs/submodules/icao_nets_training/lib/python3.8/site-packages/sklearn/metrics/_ranking.py:803: UndefinedMetricWarning: No negative samples in y_true, false positive value should be meaningless\n",
      "  warnings.warn(\"No negative samples in y_true, \"\n"
     ]
    },
    {
     "name": "stdout",
     "output_type": "stream",
     "text": [
      "  Task  0: mouth           | EER_mean: 0.27620 | EER_interp: 0.27590 | ACC: 0.72390\n",
      "  Task  1: rotation        | EER_mean: 0.25850 | EER_interp: 0.25700 | ACC: 0.74220\n",
      "  Task  2: l_away          | EER_mean: 0.20940 | EER_interp: 0.20780 | ACC: 0.79160\n",
      "  Task  3: eyes_closed     | EER_mean: 0.07030 | EER_interp: 0.06820 | ACC: 0.93050\n",
      "  Task  4: close           | EER_mean: 0.45730 | EER_interp: 0.00000 | ACC: 0.01100\n",
      "  Task  5: hat             | EER_mean: 0.10200 | EER_interp: 0.00000 | ACC: 0.17000\n",
      "  Task  6: dark_glasses    | EER_mean: 0.03840 | EER_interp: 0.03840 | ACC: 0.96160\n",
      "  Task  7: frames_heavy    | EER_mean: 0.41270 | EER_interp: 0.00000 | ACC: 0.00550\n",
      "  Task  8: frame_eyes      | EER_mean: 0.13820 | EER_interp: 0.13870 | ACC: 0.86110\n",
      "  Task  9: flash_lenses    | EER_mean: 0.13820 | EER_interp: 0.13550 | ACC: 0.86290\n",
      "  Task 10: veil            | EER_mean: 0.50000 | EER_interp: 0.00000 | ACC: 0.06030\n",
      "  Task 11: reflection      | EER_mean: 0.20920 | EER_interp: 0.20840 | ACC: 0.79160\n",
      "  Task 12: light           | EER_mean: 0.23810 | EER_interp: 0.23880 | ACC: 0.76050\n",
      "  Task 13: sh_face         | EER_mean: 0.25730 | EER_interp: 0.26030 | ACC: 0.74040\n",
      "  Task 14: sh_head         | EER_mean: 0.17820 | EER_interp: 0.17320 | ACC: 0.82820\n",
      "  Task 15: blurred         | EER_mean: 0.12300 | EER_interp: 0.11960 | ACC: 0.87750\n",
      "  Task 16: skin_tone       | EER_mean: 0.00000 | EER_interp: 0.00000 | ACC: 1.00000\n",
      "  Task 17: washed_out      | EER_mean: 0.24790 | EER_interp: 0.23900 | ACC: 0.76230\n",
      "  Task 18: pixelation      | EER_mean: 0.29080 | EER_interp: 0.29720 | ACC: 0.73860\n",
      "  Task 19: hair_eyes       | EER_mean: 0.26940 | EER_interp: 0.26380 | ACC: 0.73130\n",
      "  Task 20: background      | EER_mean: 0.17590 | EER_interp: 0.17680 | ACC: 0.82270\n",
      "  Task 21: red_eyes        | EER_mean: 0.21620 | EER_interp: 0.21580 | ACC: 0.78430\n",
      "final_EER_mean: 15.07% | final_EER_median: 17.5% | final_EER_std_dv: 10.34% | final_ACC: 67.99%\n",
      " .. training controller rnn ..\n",
      "  .. targets: [[0.2391293  0.23311043 0.26081216 0.26694807]]\n",
      "1/1 [==============================] - 0s 99ms/step - loss: 16.8099\n",
      "  Loss: 16.8099\n",
      "====================FINISHING TRIAL====================\n",
      "\n",
      "\n",
      "==================== STARTING NEW TRIAL ====================\n",
      " selecting new config...\n",
      "  Memory is not empty\n",
      "  Last Trial Conf: {'n_denses_0': 2, 'n_denses_1': 2, 'n_denses_2': 2, 'n_denses_3': 2}\n",
      "  LSTM entry: [[[2 2 2 2]]]\n",
      " controller_pred: [[0.23913091 0.23312925 0.26079404 0.2669458 ]]\n",
      "\n",
      "\n",
      " ------ Training 7 | Config: {'n_denses_0': 2, 'n_denses_1': 2, 'n_denses_2': 2, 'n_denses_3': 2} -----\n",
      "\n",
      "Creating model...\n",
      "Model created\n",
      "Training MOBILENET_V2 network\n",
      " .. Not fine tuning base model...\n",
      "  .. Total params: 4,242,286\n",
      "  .. Trainable params: 1,984,302\n",
      "  .. Non-trainable params: 2,257,984\n",
      "Experiencing connection interruptions. Will try to reestablish communication with Neptune. Internal exception was: RequestsFutureAdapterTimeout\n",
      "Communication with Neptune restored!\n",
      "\n",
      "Epoch 00001: val_loss improved from inf to 2.86852, saving model to training_ckpt/best_model.hdf5\n"
     ]
    },
    {
     "name": "stderr",
     "output_type": "stream",
     "text": [
      "/home/guilherme/anaconda3/envs/mteval-icao-reqs/submodules/icao_nets_training/lib/python3.8/site-packages/tensorflow/python/keras/utils/generic_utils.py:494: CustomMaskWarning: Custom mask layers require a config and must override get_config. When loading, the custom mask layer must be passed to the custom_objects argument.\n",
      "  warnings.warn('Custom mask layers require a config and must override '\n"
     ]
    },
    {
     "name": "stdout",
     "output_type": "stream",
     "text": [
      "..Loading best model\n",
      "..Checkpoint weights loaded\n",
      "Testing Trained Model\n",
      "Predicting labels....\n",
      "18/18 [==============================] - 33s 2s/step\n",
      "Prediction finished!\n"
     ]
    },
    {
     "name": "stderr",
     "output_type": "stream",
     "text": [
      "/home/guilherme/anaconda3/envs/mteval-icao-reqs/submodules/icao_nets_training/lib/python3.8/site-packages/sklearn/metrics/_ranking.py:803: UndefinedMetricWarning: No negative samples in y_true, false positive value should be meaningless\n",
      "  warnings.warn(\"No negative samples in y_true, \"\n"
     ]
    },
    {
     "name": "stdout",
     "output_type": "stream",
     "text": [
      "  Task  0: mouth           | EER_mean: 0.22620 | EER_interp: 0.22720 | ACC: 0.77330\n",
      "  Task  1: rotation        | EER_mean: 0.29510 | EER_interp: 0.29360 | ACC: 0.70570\n",
      "  Task  2: l_away          | EER_mean: 0.23640 | EER_interp: 0.23200 | ACC: 0.76970\n",
      "  Task  3: eyes_closed     | EER_mean: 0.09490 | EER_interp: 0.09240 | ACC: 0.90310\n",
      "  Task  4: close           | EER_mean: 0.33830 | EER_interp: 0.00000 | ACC: 0.01100\n",
      "  Task  5: hat             | EER_mean: 0.29280 | EER_interp: 0.00000 | ACC: 0.17000\n",
      "  Task  6: dark_glasses    | EER_mean: 0.10400 | EER_interp: 0.00000 | ACC: 0.09510\n",
      "  Task  7: frames_heavy    | EER_mean: 0.50000 | EER_interp: 0.00000 | ACC: 0.00550\n",
      "  Task  8: frame_eyes      | EER_mean: 0.11700 | EER_interp: 0.11740 | ACC: 0.88300\n",
      "  Task  9: flash_lenses    | EER_mean: 0.14290 | EER_interp: 0.14220 | ACC: 0.85740\n",
      "  Task 10: veil            | EER_mean: 0.38940 | EER_interp: 0.00000 | ACC: 0.06030\n",
      "  Task 11: reflection      | EER_mean: 0.22700 | EER_interp: 0.22670 | ACC: 0.77330\n",
      "  Task 12: light           | EER_mean: 0.32670 | EER_interp: 0.31810 | ACC: 0.67460\n",
      "  Task 13: sh_face         | EER_mean: 0.28650 | EER_interp: 0.28470 | ACC: 0.71480\n",
      "  Task 14: sh_head         | EER_mean: 0.20290 | EER_interp: 0.20300 | ACC: 0.79710\n",
      "  Task 15: blurred         | EER_mean: 0.20930 | EER_interp: 0.21380 | ACC: 0.78240\n",
      "  Task 16: skin_tone       | EER_mean: 0.00000 | EER_interp: 0.00000 | ACC: 1.00000\n",
      "  Task 17: washed_out      | EER_mean: 0.25210 | EER_interp: 0.25380 | ACC: 0.74590\n",
      "  Task 18: pixelation      | EER_mean: 0.50000 | EER_interp: 0.00000 | ACC: 0.00550\n",
      "  Task 19: hair_eyes       | EER_mean: 0.30430 | EER_interp: 0.29730 | ACC: 0.69650\n",
      "  Task 20: background      | EER_mean: 0.19820 | EER_interp: 0.19980 | ACC: 0.80260\n",
      "  Task 21: red_eyes        | EER_mean: 0.26130 | EER_interp: 0.26140 | ACC: 0.73860\n",
      "final_EER_mean: 15.29% | final_EER_median: 20.14% | final_EER_std_dv: 11.71% | final_ACC: 58.93%\n",
      " .. training controller rnn ..\n",
      "  .. targets: [[0.23913091 0.23312925 0.26079404 0.2669458 ]]\n",
      "1/1 [==============================] - 0s 101ms/step - loss: 14.5158\n",
      "  Loss: 14.5158\n",
      "====================FINISHING TRIAL====================\n",
      "\n",
      "\n",
      "==================== STARTING NEW TRIAL ====================\n",
      " selecting new config...\n",
      "  Memory is not empty\n",
      "  Last Trial Conf: {'n_denses_0': 2, 'n_denses_1': 2, 'n_denses_2': 2, 'n_denses_3': 2}\n",
      "  LSTM entry: [[[2 2 2 2]]]\n",
      " controller_pred: [[0.23913231 0.23314564 0.26077825 0.26694384]]\n",
      "\n",
      "\n",
      " ------ Training 8 | Config: {'n_denses_0': 2, 'n_denses_1': 2, 'n_denses_2': 2, 'n_denses_3': 2} -----\n",
      "\n",
      "Creating model...\n",
      "Model created\n",
      "Training MOBILENET_V2 network\n",
      " .. Not fine tuning base model...\n",
      "  .. Total params: 4,242,286\n",
      "  .. Trainable params: 1,984,302\n",
      "  .. Non-trainable params: 2,257,984\n",
      "\n",
      "Epoch 00001: val_loss improved from inf to 2.31467, saving model to training_ckpt/best_model.hdf5\n"
     ]
    },
    {
     "name": "stderr",
     "output_type": "stream",
     "text": [
      "/home/guilherme/anaconda3/envs/mteval-icao-reqs/submodules/icao_nets_training/lib/python3.8/site-packages/tensorflow/python/keras/utils/generic_utils.py:494: CustomMaskWarning: Custom mask layers require a config and must override get_config. When loading, the custom mask layer must be passed to the custom_objects argument.\n",
      "  warnings.warn('Custom mask layers require a config and must override '\n"
     ]
    },
    {
     "name": "stdout",
     "output_type": "stream",
     "text": [
      "..Loading best model\n",
      "..Checkpoint weights loaded\n",
      "Testing Trained Model\n",
      "Predicting labels....\n",
      "18/18 [==============================] - 32s 2s/step\n",
      "Prediction finished!\n"
     ]
    },
    {
     "name": "stderr",
     "output_type": "stream",
     "text": [
      "/home/guilherme/anaconda3/envs/mteval-icao-reqs/submodules/icao_nets_training/lib/python3.8/site-packages/sklearn/metrics/_ranking.py:803: UndefinedMetricWarning: No negative samples in y_true, false positive value should be meaningless\n",
      "  warnings.warn(\"No negative samples in y_true, \"\n"
     ]
    },
    {
     "name": "stdout",
     "output_type": "stream",
     "text": [
      "  Task  0: mouth           | EER_mean: 0.21190 | EER_interp: 0.20830 | ACC: 0.78980\n",
      "  Task  1: rotation        | EER_mean: 0.29930 | EER_interp: 0.29960 | ACC: 0.70020\n",
      "  Task  2: l_away          | EER_mean: 0.20420 | EER_interp: 0.20210 | ACC: 0.79710\n",
      "  Task  3: eyes_closed     | EER_mean: 0.08620 | EER_interp: 0.08560 | ACC: 0.91410\n",
      "  Task  4: close           | EER_mean: 0.50280 | EER_interp: 0.00000 | ACC: 0.01100\n",
      "  Task  5: hat             | EER_mean: 0.07530 | EER_interp: 0.08170 | ACC: 0.91410\n",
      "  Task  6: dark_glasses    | EER_mean: 0.10420 | EER_interp: 0.00000 | ACC: 0.09510\n",
      "  Task  7: frames_heavy    | EER_mean: 0.08740 | EER_interp: 0.00000 | ACC: 0.89580\n",
      "  Task  8: frame_eyes      | EER_mean: 0.15130 | EER_interp: 0.14400 | ACC: 0.85920\n",
      "  Task  9: flash_lenses    | EER_mean: 0.11820 | EER_interp: 0.11740 | ACC: 0.88120\n",
      "  Task 10: veil            | EER_mean: 0.17580 | EER_interp: 0.00000 | ACC: 0.06030\n",
      "  Task 11: reflection      | EER_mean: 0.26040 | EER_interp: 0.26140 | ACC: 0.73860\n",
      "  Task 12: light           | EER_mean: 0.33330 | EER_interp: 0.33300 | ACC: 0.66730\n",
      "  Task 13: sh_face         | EER_mean: 0.28070 | EER_interp: 0.27940 | ACC: 0.72030\n",
      "  Task 14: sh_head         | EER_mean: 0.15840 | EER_interp: 0.15600 | ACC: 0.84460\n",
      "  Task 15: blurred         | EER_mean: 0.16270 | EER_interp: 0.16280 | ACC: 0.83730\n",
      "  Task 16: skin_tone       | EER_mean: 0.00000 | EER_interp: 0.00000 | ACC: 1.00000\n",
      "  Task 17: washed_out      | EER_mean: 0.27350 | EER_interp: 0.27420 | ACC: 0.72580\n",
      "  Task 18: pixelation      | EER_mean: 0.13740 | EER_interp: 0.00000 | ACC: 0.86110\n",
      "  Task 19: hair_eyes       | EER_mean: 0.32750 | EER_interp: 0.32500 | ACC: 0.67280\n",
      "  Task 20: background      | EER_mean: 0.19440 | EER_interp: 0.19630 | ACC: 0.80260\n",
      "  Task 21: red_eyes        | EER_mean: 0.29250 | EER_interp: 0.29250 | ACC: 0.70750\n",
      "final_EER_mean: 15.54% | final_EER_median: 15.94% | final_EER_std_dv: 11.76% | final_ACC: 70.44%\n",
      " .. training controller rnn ..\n",
      "  .. targets: [[0.23913231 0.23314564 0.26077825 0.26694384]]\n",
      "1/1 [==============================] - 0s 122ms/step - loss: 17.3585\n",
      "  Loss: 17.3585\n",
      "====================FINISHING TRIAL====================\n",
      "\n",
      "\n",
      "==================== STARTING NEW TRIAL ====================\n",
      " selecting new config...\n",
      "  Memory is not empty\n",
      "  Last Trial Conf: {'n_denses_0': 2, 'n_denses_1': 2, 'n_denses_2': 2, 'n_denses_3': 2}\n",
      "  LSTM entry: [[[2 2 2 2]]]\n",
      " controller_pred: [[0.23913352 0.23316005 0.2607643  0.2669421 ]]\n",
      "\n",
      "\n",
      " ------ Training 9 | Config: {'n_denses_0': 2, 'n_denses_1': 2, 'n_denses_2': 2, 'n_denses_3': 2} -----\n",
      "\n",
      "Creating model...\n",
      "Model created\n",
      "Training MOBILENET_V2 network\n",
      " .. Not fine tuning base model...\n",
      "  .. Total params: 4,242,286\n",
      "  .. Trainable params: 1,984,302\n",
      "  .. Non-trainable params: 2,257,984\n",
      "\n",
      "Epoch 00001: val_loss improved from inf to 2.20717, saving model to training_ckpt/best_model.hdf5\n"
     ]
    },
    {
     "name": "stderr",
     "output_type": "stream",
     "text": [
      "/home/guilherme/anaconda3/envs/mteval-icao-reqs/submodules/icao_nets_training/lib/python3.8/site-packages/tensorflow/python/keras/utils/generic_utils.py:494: CustomMaskWarning: Custom mask layers require a config and must override get_config. When loading, the custom mask layer must be passed to the custom_objects argument.\n",
      "  warnings.warn('Custom mask layers require a config and must override '\n"
     ]
    },
    {
     "name": "stdout",
     "output_type": "stream",
     "text": [
      "..Loading best model\n",
      "..Checkpoint weights loaded\n",
      "Testing Trained Model\n",
      "Predicting labels....\n",
      "18/18 [==============================] - 33s 2s/step\n",
      "Prediction finished!\n"
     ]
    },
    {
     "name": "stderr",
     "output_type": "stream",
     "text": [
      "/home/guilherme/anaconda3/envs/mteval-icao-reqs/submodules/icao_nets_training/lib/python3.8/site-packages/sklearn/metrics/_ranking.py:803: UndefinedMetricWarning: No negative samples in y_true, false positive value should be meaningless\n",
      "  warnings.warn(\"No negative samples in y_true, \"\n"
     ]
    },
    {
     "name": "stdout",
     "output_type": "stream",
     "text": [
      "  Task  0: mouth           | EER_mean: 0.22050 | EER_interp: 0.22580 | ACC: 0.77150\n",
      "  Task  1: rotation        | EER_mean: 0.25610 | EER_interp: 0.25580 | ACC: 0.74410\n",
      "  Task  2: l_away          | EER_mean: 0.20610 | EER_interp: 0.20380 | ACC: 0.79710\n",
      "  Task  3: eyes_closed     | EER_mean: 0.06800 | EER_interp: 0.06700 | ACC: 0.93240\n",
      "  Task  4: close           | EER_mean: 0.34520 | EER_interp: 0.00000 | ACC: 0.01100\n",
      "  Task  5: hat             | EER_mean: 0.11890 | EER_interp: 0.00000 | ACC: 0.17000\n",
      "  Task  6: dark_glasses    | EER_mean: 0.16350 | EER_interp: 0.00000 | ACC: 0.09510\n",
      "  Task  7: frames_heavy    | EER_mean: 0.40130 | EER_interp: 0.00000 | ACC: 0.00550\n",
      "  Task  8: frame_eyes      | EER_mean: 0.14470 | EER_interp: 0.14450 | ACC: 0.85560\n",
      "  Task  9: flash_lenses    | EER_mean: 0.15930 | EER_interp: 0.15920 | ACC: 0.84100\n",
      "  Task 10: veil            | EER_mean: 0.04700 | EER_interp: 0.04240 | ACC: 0.94700\n",
      "  Task 11: reflection      | EER_mean: 0.23050 | EER_interp: 0.22840 | ACC: 0.77150\n",
      "  Task 12: light           | EER_mean: 0.39800 | EER_interp: 0.38950 | ACC: 0.60330\n",
      "  Task 13: sh_face         | EER_mean: 0.27780 | EER_interp: 0.27550 | ACC: 0.72390\n",
      "  Task 14: sh_head         | EER_mean: 0.19310 | EER_interp: 0.19360 | ACC: 0.80620\n",
      "  Task 15: blurred         | EER_mean: 0.16280 | EER_interp: 0.16380 | ACC: 0.83550\n",
      "  Task 16: skin_tone       | EER_mean: 0.00000 | EER_interp: 0.00000 | ACC: 1.00000\n",
      "  Task 17: washed_out      | EER_mean: 0.25640 | EER_interp: 0.26080 | ACC: 0.73860\n",
      "  Task 18: pixelation      | EER_mean: 0.10290 | EER_interp: 0.00000 | ACC: 0.89760\n",
      "  Task 19: hair_eyes       | EER_mean: 0.27520 | EER_interp: 0.26660 | ACC: 0.72580\n",
      "  Task 20: background      | EER_mean: 0.23150 | EER_interp: 0.23190 | ACC: 0.76780\n",
      "  Task 21: red_eyes        | EER_mean: 0.18920 | EER_interp: 0.19000 | ACC: 0.80990\n",
      "final_EER_mean: 14.99% | final_EER_median: 17.69% | final_EER_std_dv: 11.46% | final_ACC: 67.5%\n",
      " .. training controller rnn ..\n",
      "  .. targets: [[0.23913352 0.23316005 0.2607643  0.2669421 ]]\n",
      "1/1 [==============================] - 0s 116ms/step - loss: 16.5903\n",
      "  Loss: 16.5903\n",
      "====================FINISHING TRIAL====================\n",
      "\n",
      "\n",
      "==================== STARTING NEW TRIAL ====================\n",
      " selecting new config...\n",
      "  Memory is not empty\n",
      "  Last Trial Conf: {'n_denses_0': 2, 'n_denses_1': 2, 'n_denses_2': 2, 'n_denses_3': 2}\n",
      "  LSTM entry: [[[2 2 2 2]]]\n",
      " controller_pred: [[0.23913464 0.23317285 0.26075196 0.26694056]]\n",
      "\n",
      "\n",
      " ------ Training 10 | Config: {'n_denses_0': 2, 'n_denses_1': 2, 'n_denses_2': 2, 'n_denses_3': 2} -----\n",
      "\n",
      "Creating model...\n",
      "Model created\n",
      "Training MOBILENET_V2 network\n",
      " .. Not fine tuning base model...\n",
      "  .. Total params: 4,242,286\n",
      "  .. Trainable params: 1,984,302\n",
      "  .. Non-trainable params: 2,257,984\n",
      "\n",
      "Epoch 00001: val_loss improved from inf to 2.03350, saving model to training_ckpt/best_model.hdf5\n"
     ]
    },
    {
     "name": "stderr",
     "output_type": "stream",
     "text": [
      "/home/guilherme/anaconda3/envs/mteval-icao-reqs/submodules/icao_nets_training/lib/python3.8/site-packages/tensorflow/python/keras/utils/generic_utils.py:494: CustomMaskWarning: Custom mask layers require a config and must override get_config. When loading, the custom mask layer must be passed to the custom_objects argument.\n",
      "  warnings.warn('Custom mask layers require a config and must override '\n"
     ]
    },
    {
     "name": "stdout",
     "output_type": "stream",
     "text": [
      "..Loading best model\n",
      "..Checkpoint weights loaded\n",
      "Testing Trained Model\n",
      "Predicting labels....\n",
      "18/18 [==============================] - 33s 2s/step\n",
      "Prediction finished!\n"
     ]
    },
    {
     "name": "stderr",
     "output_type": "stream",
     "text": [
      "/home/guilherme/anaconda3/envs/mteval-icao-reqs/submodules/icao_nets_training/lib/python3.8/site-packages/sklearn/metrics/_ranking.py:803: UndefinedMetricWarning: No negative samples in y_true, false positive value should be meaningless\n",
      "  warnings.warn(\"No negative samples in y_true, \"\n"
     ]
    },
    {
     "name": "stdout",
     "output_type": "stream",
     "text": [
      "  Task  0: mouth           | EER_mean: 0.18900 | EER_interp: 0.19100 | ACC: 0.80800\n",
      "  Task  1: rotation        | EER_mean: 0.37230 | EER_interp: 0.37880 | ACC: 0.61790\n",
      "  Task  2: l_away          | EER_mean: 0.21210 | EER_interp: 0.21340 | ACC: 0.78610\n",
      "  Task  3: eyes_closed     | EER_mean: 0.09980 | EER_interp: 0.09240 | ACC: 0.90310\n",
      "  Task  4: close           | EER_mean: 0.15950 | EER_interp: 0.00000 | ACC: 0.01100\n",
      "  Task  5: hat             | EER_mean: 0.24800 | EER_interp: 0.00000 | ACC: 0.17000\n",
      "  Task  6: dark_glasses    | EER_mean: 0.01920 | EER_interp: 0.01360 | ACC: 0.99090\n",
      "  Task  7: frames_heavy    | EER_mean: 0.50000 | EER_interp: 0.00000 | ACC: 0.00550\n",
      "  Task  8: frame_eyes      | EER_mean: 0.12500 | EER_interp: 0.12580 | ACC: 0.87390\n",
      "  Task  9: flash_lenses    | EER_mean: 0.15670 | EER_interp: 0.15360 | ACC: 0.84460\n",
      "  Task 10: veil            | EER_mean: 0.21430 | EER_interp: 0.00000 | ACC: 0.06030\n",
      "  Task 11: reflection      | EER_mean: 0.21890 | EER_interp: 0.21940 | ACC: 0.78060\n",
      "  Task 12: light           | EER_mean: 0.28570 | EER_interp: 0.28940 | ACC: 0.70750\n",
      "  Task 13: sh_face         | EER_mean: 0.23410 | EER_interp: 0.23400 | ACC: 0.76600\n",
      "  Task 14: sh_head         | EER_mean: 0.20740 | EER_interp: 0.20580 | ACC: 0.79340\n",
      "  Task 15: blurred         | EER_mean: 0.16280 | EER_interp: 0.16380 | ACC: 0.83550\n",
      "  Task 16: skin_tone       | EER_mean: 0.00000 | EER_interp: 0.00000 | ACC: 1.00000\n",
      "  Task 17: washed_out      | EER_mean: 0.26520 | EER_interp: 0.26300 | ACC: 0.73670\n",
      "  Task 18: pixelation      | EER_mean: 0.33330 | EER_interp: 0.42860 | ACC: 0.47710\n",
      "  Task 19: hair_eyes       | EER_mean: 0.35480 | EER_interp: 0.38180 | ACC: 0.59410\n",
      "  Task 20: background      | EER_mean: 0.13900 | EER_interp: 0.13900 | ACC: 0.86110\n",
      "  Task 21: red_eyes        | EER_mean: 0.27690 | EER_interp: 0.27580 | ACC: 0.72390\n",
      "final_EER_mean: 17.13% | final_EER_median: 17.74% | final_EER_std_dv: 13.1% | final_ACC: 65.21%\n",
      " .. training controller rnn ..\n",
      "  .. targets: [[0.23913464 0.23317285 0.26075196 0.26694056]]\n",
      "1/1 [==============================] - 0s 102ms/step - loss: 15.9858\n",
      "  Loss: 15.9858\n",
      "====================FINISHING TRIAL====================\n",
      "\n",
      "\n",
      "==================== STARTING NEW TRIAL ====================\n",
      " selecting new config...\n",
      "  Memory is not empty\n",
      "  Last Trial Conf: {'n_denses_0': 2, 'n_denses_1': 2, 'n_denses_2': 2, 'n_denses_3': 2}\n",
      "  LSTM entry: [[[2 2 2 2]]]\n",
      " controller_pred: [[0.23913562 0.23318423 0.26074097 0.2669392 ]]\n",
      "\n",
      "\n",
      " ------ Training 11 | Config: {'n_denses_0': 2, 'n_denses_1': 2, 'n_denses_2': 2, 'n_denses_3': 2} -----\n",
      "\n",
      "Creating model...\n",
      "Model created\n",
      "Training MOBILENET_V2 network\n",
      " .. Not fine tuning base model...\n",
      "  .. Total params: 4,242,286\n",
      "  .. Trainable params: 1,984,302\n",
      "  .. Non-trainable params: 2,257,984\n",
      "\n",
      "Epoch 00001: val_loss improved from inf to 2.37101, saving model to training_ckpt/best_model.hdf5\n"
     ]
    },
    {
     "name": "stderr",
     "output_type": "stream",
     "text": [
      "/home/guilherme/anaconda3/envs/mteval-icao-reqs/submodules/icao_nets_training/lib/python3.8/site-packages/tensorflow/python/keras/utils/generic_utils.py:494: CustomMaskWarning: Custom mask layers require a config and must override get_config. When loading, the custom mask layer must be passed to the custom_objects argument.\n",
      "  warnings.warn('Custom mask layers require a config and must override '\n"
     ]
    },
    {
     "name": "stdout",
     "output_type": "stream",
     "text": [
      "..Loading best model\n",
      "..Checkpoint weights loaded\n",
      "Testing Trained Model\n",
      "Predicting labels....\n",
      "18/18 [==============================] - 33s 2s/step\n",
      "Prediction finished!\n"
     ]
    },
    {
     "name": "stderr",
     "output_type": "stream",
     "text": [
      "/home/guilherme/anaconda3/envs/mteval-icao-reqs/submodules/icao_nets_training/lib/python3.8/site-packages/sklearn/metrics/_ranking.py:803: UndefinedMetricWarning: No negative samples in y_true, false positive value should be meaningless\n",
      "  warnings.warn(\"No negative samples in y_true, \"\n"
     ]
    },
    {
     "name": "stdout",
     "output_type": "stream",
     "text": [
      "  Task  0: mouth           | EER_mean: 0.26770 | EER_interp: 0.26840 | ACC: 0.73130\n",
      "  Task  1: rotation        | EER_mean: 0.35770 | EER_interp: 0.35940 | ACC: 0.63990\n",
      "  Task  2: l_away          | EER_mean: 0.19900 | EER_interp: 0.19650 | ACC: 0.80260\n",
      "  Task  3: eyes_closed     | EER_mean: 0.09430 | EER_interp: 0.09140 | ACC: 0.91040\n",
      "  Task  4: close           | EER_mean: 0.50050 | EER_interp: 0.00000 | ACC: 0.01100\n",
      "  Task  5: hat             | EER_mean: 0.37250 | EER_interp: 0.00000 | ACC: 0.17000\n",
      "  Task  6: dark_glasses    | EER_mean: 0.02420 | EER_interp: 0.02170 | ACC: 0.97620\n",
      "  Task  7: frames_heavy    | EER_mean: 0.50000 | EER_interp: 0.00000 | ACC: 0.00550\n",
      "  Task  8: frame_eyes      | EER_mean: 0.13820 | EER_interp: 0.14000 | ACC: 0.85920\n",
      "  Task  9: flash_lenses    | EER_mean: 0.15670 | EER_interp: 0.15800 | ACC: 0.84280\n",
      "  Task 10: veil            | EER_mean: 0.47810 | EER_interp: 0.00000 | ACC: 0.06030\n",
      "  Task 11: reflection      | EER_mean: 0.28300 | EER_interp: 0.28340 | ACC: 0.71660\n",
      "  Task 12: light           | EER_mean: 0.36150 | EER_interp: 0.36080 | ACC: 0.63620\n",
      "  Task 13: sh_face         | EER_mean: 0.24560 | EER_interp: 0.24480 | ACC: 0.75500\n",
      "  Task 14: sh_head         | EER_mean: 0.22590 | EER_interp: 0.22340 | ACC: 0.77510\n",
      "  Task 15: blurred         | EER_mean: 0.21630 | EER_interp: 0.21280 | ACC: 0.78430\n",
      "  Task 16: skin_tone       | EER_mean: 0.00000 | EER_interp: 0.00000 | ACC: 1.00000\n",
      "  Task 17: washed_out      | EER_mean: 0.27800 | EER_interp: 0.27790 | ACC: 0.72210\n",
      "  Task 18: pixelation      | EER_mean: 0.33330 | EER_interp: 0.21630 | ACC: 0.89950\n",
      "  Task 19: hair_eyes       | EER_mean: 0.29650 | EER_interp: 0.29340 | ACC: 0.70380\n",
      "  Task 20: background      | EER_mean: 0.17080 | EER_interp: 0.16880 | ACC: 0.83000\n",
      "  Task 21: red_eyes        | EER_mean: 0.24310 | EER_interp: 0.24320 | ACC: 0.75690\n",
      "final_EER_mean: 17.09% | final_EER_median: 20.46% | final_EER_std_dv: 11.94% | final_ACC: 66.31%\n",
      " .. training controller rnn ..\n",
      "  .. targets: [[0.23913562 0.23318423 0.26074097 0.2669392 ]]\n",
      "1/1 [==============================] - 0s 107ms/step - loss: 16.2283\n",
      "  Loss: 16.2283\n",
      "====================FINISHING TRIAL====================\n",
      "\n",
      "\n",
      "==================== STARTING NEW TRIAL ====================\n",
      " selecting new config...\n",
      "  Memory is not empty\n",
      "  Last Trial Conf: {'n_denses_0': 2, 'n_denses_1': 2, 'n_denses_2': 2, 'n_denses_3': 2}\n",
      "  LSTM entry: [[[2 2 2 2]]]\n",
      " controller_pred: [[0.2391397  0.23321217 0.26071134 0.26693678]]\n",
      "\n",
      "\n",
      " ------ Training 12 | Config: {'n_denses_0': 2, 'n_denses_1': 2, 'n_denses_2': 2, 'n_denses_3': 2} -----\n",
      "\n",
      "Creating model...\n",
      "Model created\n",
      "Training MOBILENET_V2 network\n",
      " .. Not fine tuning base model...\n",
      "  .. Total params: 4,242,286\n",
      "  .. Trainable params: 1,984,302\n",
      "  .. Non-trainable params: 2,257,984\n"
     ]
    }
   ],
   "source": [
    "runner.run_neural_architeture_search()"
   ]
  },
  {
   "cell_type": "markdown",
   "metadata": {},
   "source": [
    "# Create Model with Best Config Found"
   ]
  },
  {
   "cell_type": "code",
   "execution_count": null,
   "metadata": {},
   "outputs": [],
   "source": [
    "runner.create_model()"
   ]
  },
  {
   "cell_type": "markdown",
   "metadata": {},
   "source": [
    "# Visualize Model"
   ]
  },
  {
   "cell_type": "code",
   "execution_count": null,
   "metadata": {
    "tags": []
   },
   "outputs": [],
   "source": [
    "runner.visualize_model(outfile_path=f\"figs/nas/nas_model_approach_1.png\")"
   ]
  },
  {
   "cell_type": "code",
   "execution_count": null,
   "metadata": {
    "tags": []
   },
   "outputs": [],
   "source": [
    "%%capture\n",
    "runner.model_summary()"
   ]
  },
  {
   "cell_type": "markdown",
   "metadata": {},
   "source": [
    "# Training Model"
   ]
  },
  {
   "cell_type": "code",
   "execution_count": null,
   "metadata": {
    "tags": []
   },
   "outputs": [],
   "source": [
    "runner.train_model()"
   ]
  },
  {
   "cell_type": "markdown",
   "metadata": {},
   "source": [
    "# Plots"
   ]
  },
  {
   "cell_type": "code",
   "execution_count": null,
   "metadata": {
    "tags": []
   },
   "outputs": [],
   "source": [
    "runner.draw_training_history()"
   ]
  },
  {
   "cell_type": "markdown",
   "metadata": {},
   "source": [
    "# Load Best Model"
   ]
  },
  {
   "cell_type": "code",
   "execution_count": null,
   "metadata": {},
   "outputs": [],
   "source": [
    "runner.load_best_model()"
   ]
  },
  {
   "cell_type": "markdown",
   "metadata": {},
   "source": [
    "# Saving Trained Model"
   ]
  },
  {
   "cell_type": "code",
   "execution_count": null,
   "metadata": {},
   "outputs": [],
   "source": [
    "runner.save_model()"
   ]
  },
  {
   "cell_type": "markdown",
   "metadata": {},
   "source": [
    "# Test Trained Model"
   ]
  },
  {
   "cell_type": "markdown",
   "metadata": {},
   "source": [
    "## Validation Split"
   ]
  },
  {
   "cell_type": "code",
   "execution_count": null,
   "metadata": {
    "tags": []
   },
   "outputs": [],
   "source": [
    "runner.set_model_evaluator_data_src(DataSource.VALIDATION)\n",
    "runner.test_model(verbose=False)"
   ]
  },
  {
   "cell_type": "markdown",
   "metadata": {},
   "source": [
    "## Test Split"
   ]
  },
  {
   "cell_type": "code",
   "execution_count": null,
   "metadata": {
    "tags": []
   },
   "outputs": [],
   "source": [
    "runner.set_model_evaluator_data_src(DataSource.TEST)\n",
    "runner.test_model(verbose=False)"
   ]
  },
  {
   "cell_type": "markdown",
   "metadata": {},
   "source": [
    "# Visualize Model Classification"
   ]
  },
  {
   "cell_type": "raw",
   "metadata": {},
   "source": [
    "runner.visualize_predictions()"
   ]
  },
  {
   "cell_type": "markdown",
   "metadata": {},
   "source": [
    "# Finishing Experiment Manager"
   ]
  },
  {
   "cell_type": "code",
   "execution_count": null,
   "metadata": {
    "tags": []
   },
   "outputs": [],
   "source": [
    "runner.finish_experiment()"
   ]
  },
  {
   "cell_type": "markdown",
   "metadata": {},
   "source": [
    "# Testing Network Modification"
   ]
  },
  {
   "cell_type": "raw",
   "metadata": {
    "jupyter": {
     "outputs_hidden": true,
     "source_hidden": true
    },
    "tags": []
   },
   "source": [
    "import tensorflow as tf\n",
    "import tensorflow.keras as keras\n",
    "import tensorflow.keras.backend as K\n",
    "import numpy as np\n",
    "from tensorflow.keras.layers import Dense, Input, Layer\n",
    "from tensorflow.keras.models import Model\n",
    "\n",
    "input_tensor = Input(shape=(20,), name=\"input\")\n",
    "hidden = Dense(100, activation='relu')(input_tensor)\n",
    "out = Dense(10, activation='relu', name=\"out\")(hidden)\n",
    "\n",
    "model = Model(inputs=input_tensor, outputs=out)\n",
    "model.compile(loss=\"mse\", optimizer='adam')\n",
    "\n",
    "model.summary()\n",
    "\n",
    "out = Dense(5, activation='softmax', name='new_out')(model.layers[-2].output)\n",
    "\n",
    "new_model = Model(input_tensor, out)\n",
    "new_model.summary()"
   ]
  },
  {
   "cell_type": "markdown",
   "metadata": {},
   "source": [
    "# Test - Customized Loss Function"
   ]
  },
  {
   "cell_type": "raw",
   "metadata": {
    "jupyter": {
     "source_hidden": true
    },
    "tags": []
   },
   "source": [
    "import tensorflow as tf\n",
    "import tensorflow.keras as keras\n",
    "import tensorflow.keras.backend as K\n",
    "import numpy as np\n",
    "from tensorflow.keras.layers import Dense, Input, Layer\n",
    "from tensorflow.keras.models import Model\n",
    "\n",
    "np.random.seed(10)\n",
    "\n",
    "def my_loss_func(y_true, y_pred):\n",
    "    print(y_true, y_pred)\n",
    "    squared_difference = tf.square(y_true - y_pred)\n",
    "    return tf.reduce_mean(squared_difference, axis=-1)\n",
    "\n",
    "\n",
    "def _controller_loss(y_true, y_pred):\n",
    "    baseline = None\n",
    "    baseline_decay = 0.999\n",
    "    reward = 0\n",
    "\n",
    "    if baseline is None:\n",
    "        baseline = 0\n",
    "    else:\n",
    "        baseline -= (1 - baseline_decay) * (baseline - reward)\n",
    "    return y_pred * (reward - baseline)\n",
    "\n",
    "def _define_loss(controller_loss):\n",
    "    print(controller_loss)\n",
    "    a =  {f\"out\": controller_loss for i in range(4)}\n",
    "    print(a)\n",
    "    return a\n",
    "\n",
    "\n",
    "\n",
    "input_tensor = Input(shape=(4), name=\"input\")\n",
    "hidden = Dense(64, activation='relu')(input_tensor)\n",
    "out = Dense(4, activation='softmax', name=\"out\")(hidden)\n",
    "\n",
    "model = Model(inputs=input_tensor, outputs=out)\n",
    "#model.compile(loss=my_loss_func, optimizer='adam')\n",
    "model.compile(loss=_define_loss(_controller_loss), optimizer='adam')\n",
    "\n",
    "#print(model.summary())\n",
    "\n",
    "#x = np.random.rand(4,4)\n",
    "#y = np.random.rand(4,1)\n",
    "\n",
    "x = np.matrix([[2,1,4,5], [3,4,5,2]], dtype='float32').A\n",
    "y = np.array([4,2], dtype='float32')\n",
    "\n",
    "print(x)\n",
    "print(y)\n",
    "\n",
    "H = model.fit(x, y, epochs=3, batch_size=1)\n",
    "H.history"
   ]
  },
  {
   "cell_type": "markdown",
   "metadata": {},
   "source": [
    "# Test - "
   ]
  },
  {
   "cell_type": "raw",
   "metadata": {
    "jupyter": {
     "source_hidden": true
    },
    "tags": []
   },
   "source": [
    "import tensorflow as tf\n",
    "import numpy as np\n",
    "\n",
    "import os\n",
    "# disable tensorflow log level infos\n",
    "os.environ['TF_CPP_MIN_LOG_LEVEL'] = '2' # show only errors\n",
    "\n",
    "from tensorflow.keras.models import Sequential\n",
    "from tensorflow.keras.layers import Dense\n",
    "from tensorflow.keras.optimizers import Adam\n",
    "\n",
    "\n",
    "def __create_rnn_model():\n",
    "    model = Sequential([\n",
    "        Dense(4, activation=\"relu\"),\n",
    "        Dense(64, activation=\"relu\"),\n",
    "        Dense(4, activation=\"softmax\")\n",
    "    ])\n",
    "\n",
    "    model.compile(loss=\"categorical_crossentropy\", optimizer=Adam(), metrics=[\"accuracy\"])\n",
    "\n",
    "    return model\n",
    "\n",
    "def __preprocess_config(config):\n",
    "    return np.linalg.norm(config)\n",
    "    \n",
    "\n",
    "\n",
    "np.random.seed(2)\n",
    "\n",
    "X = np.random.rand(400,4)\n",
    "y = np.random.rand(400,4)\n",
    "\n",
    "# X = tf.expand_dims(X, axis=0)\n",
    "# y = np.expand_dims(y, axis=0)\n",
    "\n",
    "print(X.shape)\n",
    "print(y.shape)\n",
    "\n",
    "X_test = np.random.rand(20,4)\n",
    "y_test = np.random.rand(20,4)\n",
    "\n",
    "# X_test = tf.expand_dims(X_test, axis=0)\n",
    "# y_test = tf.expand_dims(y_test, axis=0)\n",
    "\n",
    "m = __create_rnn_model()\n",
    "\n",
    "m.fit(X,y, batch_size=32, epochs=5)\n",
    "\n",
    "loss, acc = m.evaluate(X_test,y_test, batch_size=32)\n",
    "\n",
    "print(f'loss: {loss}%')\n",
    "print(f'acc: {round(acc*100,2)}%')\n",
    "\n",
    "print(f'prediction: {m.predict(np.array(X_test[0]).reshape(1,4))}')"
   ]
  }
 ],
 "metadata": {
  "interpreter": {
   "hash": "85f5044ba23e75135dc4c908fd4d7609c1c80b195047fdb4d16ee0e66a953254"
  },
  "kernelspec": {
   "display_name": "Python 3 (ipykernel)",
   "language": "python",
   "name": "python3"
  },
  "language_info": {
   "codemirror_mode": {
    "name": "ipython",
    "version": 3
   },
   "file_extension": ".py",
   "mimetype": "text/x-python",
   "name": "python",
   "nbconvert_exporter": "python",
   "pygments_lexer": "ipython3",
   "version": "3.8.0"
  },
  "toc-autonumbering": true
 },
 "nbformat": 4,
 "nbformat_minor": 4
}

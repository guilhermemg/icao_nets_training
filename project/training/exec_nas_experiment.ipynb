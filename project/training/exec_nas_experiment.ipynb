{
 "cells": [
  {
   "cell_type": "markdown",
   "metadata": {},
   "source": [
    "# Import Libraries"
   ]
  },
  {
   "cell_type": "code",
   "execution_count": 1,
   "metadata": {},
   "outputs": [],
   "source": [
    "%load_ext autoreload\n",
    "%autoreload 2"
   ]
  },
  {
   "cell_type": "code",
   "execution_count": 2,
   "metadata": {},
   "outputs": [],
   "source": [
    "import os\n",
    "# disable tensorflow log level infos\n",
    "os.environ['TF_CPP_MIN_LOG_LEVEL'] = '2' # show only errors\n",
    "\n",
    "import sys\n",
    "import pandas as pd\n",
    "\n",
    "if '..' not in sys.path:\n",
    "    sys.path.insert(0, '..')"
   ]
  },
  {
   "cell_type": "code",
   "execution_count": 3,
   "metadata": {
    "tags": []
   },
   "outputs": [
    {
     "name": "stdout",
     "output_type": "stream",
     "text": [
      " ==> Restrict GPU memory growth: True\n"
     ]
    }
   ],
   "source": [
    "from src.m_utils import constants as cts\n",
    "from src.base.data_loaders.data_loader import DLName\n",
    "from src.base.gt_loaders.gt_names import GTName\n",
    "from src.exp_runner import ExperimentRunner\n",
    "\n",
    "from src.base.experiment.dataset.benchmark_dataset import BenchmarkDataset\n",
    "from src.base.experiment.evaluation.model_evaluator import DataSource, DataPredSelection\n",
    "from src.base.experiment.training.base_models import BaseModel\n",
    "from src.base.experiment.training.optimizers import Optimizer\n",
    "\n",
    "from src.m_utils.mtl_approach import MTLApproach\n",
    "from src.m_utils.nas_mtl_approach import NAS_MTLApproach\n",
    "from src.base.experiment.tasks.task import ICAO_REQ, MNIST_TASK, CELEB_A_TASK, CIFAR_10_TASK, FASHION_MNIST_TASK"
   ]
  },
  {
   "cell_type": "markdown",
   "metadata": {},
   "source": [
    "# Start Network runner"
   ]
  },
  {
   "cell_type": "code",
   "execution_count": 4,
   "metadata": {
    "tags": []
   },
   "outputs": [
    {
     "name": "stdout",
     "output_type": "stream",
     "text": [
      "-------------------- Init ExperimentRunner -------------------\n",
      "---------------------------\n",
      "Parent Process ID: 110776\n",
      "Process ID: 111132\n",
      "---------------------------\n",
      "-----\n",
      "Use Neptune:  False\n",
      "-----\n",
      "-------------------\n",
      "Args: \n",
      "{'exp_params': {'description': 'approach_2 with MNIST dataset with 3 trials '\n",
      "                               'and patience and 1 child epoch',\n",
      "                'name': 'neural_arch_search',\n",
      "                'src_files': ['../src/**/*.py'],\n",
      "                'tags': ['nas',\n",
      "                         'nas_approach_2',\n",
      "                         'benchmark',\n",
      "                         'mnist',\n",
      "                         '5_child_epochs']},\n",
      " 'nas_params': {'controller_batch_size': 32,\n",
      "                'controller_epochs': 50,\n",
      "                'max_blocks_per_branch': 5,\n",
      "                'n_child_epochs': 1,\n",
      "                'n_trials': 3},\n",
      " 'net_train_params': {'base_model': <BaseModel.MOBILENET_V2: {'name': 'mobilnet_v2', 'target_size': (224, 224), 'prep_function': <function preprocess_input at 0x7f85b7e7cf70>}>,\n",
      "                      'batch_size': 32,\n",
      "                      'dropout': 0.3,\n",
      "                      'early_stopping': 5,\n",
      "                      'learning_rate': 0.001,\n",
      "                      'n_epochs': 3,\n",
      "                      'optimizer': <Optimizer.ADAMAX: 'Adamax'>},\n",
      " 'properties': {'approach': <NAS_MTLApproach.APPROACH_2: 'approach_2'>,\n",
      "                'balance_input_data': False,\n",
      "                'benchmarking': {'benchmark_dataset': <BenchmarkDataset.MNIST: {'name': 'mnist', 'target_cols': ['n_0', 'n_1', 'n_2', 'n_3', 'n_4', 'n_5', 'n_6', 'n_7', 'n_8', 'n_9']}>,\n",
      "                                 'tasks': [<MNIST_TASK.N_0: 'n_0'>,\n",
      "                                           <MNIST_TASK.N_1: 'n_1'>,\n",
      "                                           <MNIST_TASK.N_2: 'n_2'>,\n",
      "                                           <MNIST_TASK.N_3: 'n_3'>,\n",
      "                                           <MNIST_TASK.N_4: 'n_4'>,\n",
      "                                           <MNIST_TASK.N_5: 'n_5'>,\n",
      "                                           <MNIST_TASK.N_6: 'n_6'>,\n",
      "                                           <MNIST_TASK.N_7: 'n_7'>,\n",
      "                                           <MNIST_TASK.N_8: 'n_8'>,\n",
      "                                           <MNIST_TASK.N_9: 'n_9'>],\n",
      "                                 'use_benchmark_data': True},\n",
      "                'exec_nas': True,\n",
      "                'icao_data': {'aligned': False,\n",
      "                              'icao_dl': {'tagger_model': None,\n",
      "                                          'use_dl_data': False},\n",
      "                              'icao_gt': {'gt_names': {'test': [],\n",
      "                                                       'train_validation': [],\n",
      "                                                       'train_validation_test': [<GTName.FVC: 'fvc'>]},\n",
      "                                          'use_gt_data': False},\n",
      "                              'reqs': [<ICAO_REQ.MOUTH: 'mouth'>,\n",
      "                                       <ICAO_REQ.ROTATION: 'rotation'>,\n",
      "                                       <ICAO_REQ.L_AWAY: 'l_away'>,\n",
      "                                       <ICAO_REQ.EYES_CLOSED: 'eyes_closed'>,\n",
      "                                       <ICAO_REQ.CLOSE: 'close'>,\n",
      "                                       <ICAO_REQ.HAT: 'hat'>,\n",
      "                                       <ICAO_REQ.DARK_GLASSES: 'dark_glasses'>,\n",
      "                                       <ICAO_REQ.FRAMES_HEAVY: 'frames_heavy'>,\n",
      "                                       <ICAO_REQ.FRAME_EYES: 'frame_eyes'>,\n",
      "                                       <ICAO_REQ.FLASH_LENSES: 'flash_lenses'>,\n",
      "                                       <ICAO_REQ.VEIL: 'veil'>,\n",
      "                                       <ICAO_REQ.REFLECTION: 'reflection'>,\n",
      "                                       <ICAO_REQ.LIGHT: 'light'>,\n",
      "                                       <ICAO_REQ.SHADOW_FACE: 'sh_face'>,\n",
      "                                       <ICAO_REQ.SHADOW_HEAD: 'sh_head'>,\n",
      "                                       <ICAO_REQ.BLURRED: 'blurred'>,\n",
      "                                       <ICAO_REQ.INK_MARK: 'ink_mark'>,\n",
      "                                       <ICAO_REQ.SKIN_TONE: 'skin_tone'>,\n",
      "                                       <ICAO_REQ.WASHED_OUT: 'washed_out'>,\n",
      "                                       <ICAO_REQ.PIXELATION: 'pixelation'>,\n",
      "                                       <ICAO_REQ.HAIR_EYES: 'hair_eyes'>,\n",
      "                                       <ICAO_REQ.BACKGROUND: 'background'>,\n",
      "                                       <ICAO_REQ.RED_EYES: 'red_eyes'>]},\n",
      "                'orig_model_experiment_id': '',\n",
      "                'sample_prop': 1.0,\n",
      "                'sample_training_data': False,\n",
      "                'save_trained_model': True,\n",
      "                'train_model': True},\n",
      " 'use_neptune': False}\n",
      "-------------------\n",
      "----\n",
      "Base Model Name:  BaseModel.MOBILENET_V2\n",
      "----\n",
      "MTL Model: True\n",
      "Approach: NAS_MTLApproach.APPROACH_2\n",
      "----\n",
      "--------------------  starting neptune  -------------------\n",
      "Not using Neptune to record Experiment Metadata\n",
      "----\n",
      "Checking model existence locally...\n",
      "Training a new model! Not checking model existence\n",
      "----\n",
      "------------------------------\n",
      "Checking GPU availability\n",
      " ..GPU is available!\n",
      "------------------------------\n"
     ]
    },
    {
     "name": "stderr",
     "output_type": "stream",
     "text": [
      "/home/guilherme/anaconda3/envs/mteval-icao-reqs/submodules/icao_nets_training/lib/python3.8/site-packages/tensorflow/python/keras/optimizer_v2/optimizer_v2.py:374: UserWarning: The `lr` argument is deprecated, use `learning_rate` instead.\n",
      "  warnings.warn(\n"
     ]
    }
   ],
   "source": [
    "N_TRIALS = 3\n",
    "NAS_APPROACH = NAS_MTLApproach.APPROACH_2\n",
    "NAS_APPROACH_STR = 'nas_approach_2'\n",
    "N_CHILD_EPOCHS = 1\n",
    "N_CHILD_EPOCHS_STR = '5_child_epochs'\n",
    "CONTROLLER_EPOCHS = 50\n",
    "N_EPOCHS = 3\n",
    "\n",
    "DATASET = BenchmarkDataset.MNIST\n",
    "TASKS = list(MNIST_TASK)\n",
    "\n",
    "kwargs = { \n",
    "    'use_neptune': False,\n",
    "    'exp_params' : {\n",
    "        'name': 'neural_arch_search',\n",
    "        'description': f'{NAS_APPROACH.value} with {DATASET.value[\"name\"].upper()} dataset with {N_TRIALS} trials and patience and {N_CHILD_EPOCHS} child epoch',\n",
    "        'tags': ['nas', f'{NAS_APPROACH_STR}', 'benchmark', f'{DATASET.value[\"name\"]}', f'{N_CHILD_EPOCHS_STR}'],\n",
    "        'src_files': [\"../src/**/*.py\"]\n",
    "    },\n",
    "    'properties': {\n",
    "        'approach': NAS_APPROACH,\n",
    "        'benchmarking': {\n",
    "            'use_benchmark_data': True,\n",
    "            'benchmark_dataset': DATASET,\n",
    "            'tasks': TASKS\n",
    "        },\n",
    "        'icao_data': {\n",
    "            'icao_gt': {\n",
    "                'use_gt_data': False,\n",
    "                'gt_names': {\n",
    "                    'train_validation': [],\n",
    "                    'test': [],\n",
    "                    'train_validation_test': [GTName.FVC]\n",
    "                },\n",
    "            },\n",
    "            'icao_dl': {\n",
    "                'use_dl_data': False,\n",
    "                'tagger_model': None\n",
    "            },\n",
    "            'reqs': list(ICAO_REQ),\n",
    "            'aligned': False\n",
    "        },\n",
    "        'balance_input_data': False,\n",
    "        'train_model': True,\n",
    "        'save_trained_model': True,\n",
    "        'exec_nas': True,\n",
    "        'orig_model_experiment_id': '',\n",
    "        'sample_training_data': False,\n",
    "        'sample_prop': 1.0\n",
    "    },\n",
    "    'net_train_params': {\n",
    "        'base_model': BaseModel.MOBILENET_V2,\n",
    "        'batch_size': 32,\n",
    "        'n_epochs': N_EPOCHS,\n",
    "        'early_stopping': 5,\n",
    "        'learning_rate': 1e-3,\n",
    "        'optimizer': Optimizer.ADAMAX,\n",
    "        'dropout': 0.3\n",
    "    },\n",
    "    'nas_params': {\n",
    "        'max_blocks_per_branch': 5,\n",
    "        'n_child_epochs': N_CHILD_EPOCHS,\n",
    "        'controller_epochs': CONTROLLER_EPOCHS,\n",
    "        'controller_batch_size': 32,\n",
    "        'n_trials': N_TRIALS\n",
    "    }\n",
    "}\n",
    "\n",
    "runner = ExperimentRunner(**kwargs)"
   ]
  },
  {
   "cell_type": "markdown",
   "metadata": {},
   "source": [
    "# Load Data"
   ]
  },
  {
   "cell_type": "code",
   "execution_count": 5,
   "metadata": {
    "tags": []
   },
   "outputs": [
    {
     "name": "stdout",
     "output_type": "stream",
     "text": [
      "-------------------- load training data -------------------\n",
      "Loading data\n",
      "TrainData.shape: (48000, 11)\n",
      "ValidationData.shape: (12000, 11)\n",
      "TestData.shape: (10000, 11)\n",
      "Data loaded\n"
     ]
    }
   ],
   "source": [
    "runner.load_training_data()"
   ]
  },
  {
   "cell_type": "code",
   "execution_count": 6,
   "metadata": {
    "tags": []
   },
   "outputs": [
    {
     "data": {
      "text/html": [
       "<div>\n",
       "<style scoped>\n",
       "    .dataframe tbody tr th:only-of-type {\n",
       "        vertical-align: middle;\n",
       "    }\n",
       "\n",
       "    .dataframe tbody tr th {\n",
       "        vertical-align: top;\n",
       "    }\n",
       "\n",
       "    .dataframe thead th {\n",
       "        text-align: right;\n",
       "    }\n",
       "</style>\n",
       "<table border=\"1\" class=\"dataframe\">\n",
       "  <thead>\n",
       "    <tr style=\"text-align: right;\">\n",
       "      <th></th>\n",
       "      <th>img_name</th>\n",
       "      <th>n_0</th>\n",
       "      <th>n_1</th>\n",
       "      <th>n_2</th>\n",
       "      <th>n_3</th>\n",
       "      <th>n_4</th>\n",
       "      <th>n_5</th>\n",
       "      <th>n_6</th>\n",
       "      <th>n_7</th>\n",
       "      <th>n_8</th>\n",
       "      <th>n_9</th>\n",
       "    </tr>\n",
       "  </thead>\n",
       "  <tbody>\n",
       "    <tr>\n",
       "      <th>0</th>\n",
       "      <td>/home/guilherme/data1/Dropbox/Link to Desktop/...</td>\n",
       "      <td>0.0</td>\n",
       "      <td>0.0</td>\n",
       "      <td>0.0</td>\n",
       "      <td>0.0</td>\n",
       "      <td>1.0</td>\n",
       "      <td>0.0</td>\n",
       "      <td>0.0</td>\n",
       "      <td>0.0</td>\n",
       "      <td>0.0</td>\n",
       "      <td>0.0</td>\n",
       "    </tr>\n",
       "    <tr>\n",
       "      <th>1</th>\n",
       "      <td>/home/guilherme/data1/Dropbox/Link to Desktop/...</td>\n",
       "      <td>1.0</td>\n",
       "      <td>0.0</td>\n",
       "      <td>0.0</td>\n",
       "      <td>0.0</td>\n",
       "      <td>0.0</td>\n",
       "      <td>0.0</td>\n",
       "      <td>0.0</td>\n",
       "      <td>0.0</td>\n",
       "      <td>0.0</td>\n",
       "      <td>0.0</td>\n",
       "    </tr>\n",
       "    <tr>\n",
       "      <th>2</th>\n",
       "      <td>/home/guilherme/data1/Dropbox/Link to Desktop/...</td>\n",
       "      <td>0.0</td>\n",
       "      <td>1.0</td>\n",
       "      <td>0.0</td>\n",
       "      <td>0.0</td>\n",
       "      <td>0.0</td>\n",
       "      <td>0.0</td>\n",
       "      <td>0.0</td>\n",
       "      <td>0.0</td>\n",
       "      <td>0.0</td>\n",
       "      <td>0.0</td>\n",
       "    </tr>\n",
       "    <tr>\n",
       "      <th>3</th>\n",
       "      <td>/home/guilherme/data1/Dropbox/Link to Desktop/...</td>\n",
       "      <td>0.0</td>\n",
       "      <td>0.0</td>\n",
       "      <td>0.0</td>\n",
       "      <td>0.0</td>\n",
       "      <td>0.0</td>\n",
       "      <td>0.0</td>\n",
       "      <td>0.0</td>\n",
       "      <td>1.0</td>\n",
       "      <td>0.0</td>\n",
       "      <td>0.0</td>\n",
       "    </tr>\n",
       "    <tr>\n",
       "      <th>4</th>\n",
       "      <td>/home/guilherme/data1/Dropbox/Link to Desktop/...</td>\n",
       "      <td>0.0</td>\n",
       "      <td>0.0</td>\n",
       "      <td>0.0</td>\n",
       "      <td>0.0</td>\n",
       "      <td>0.0</td>\n",
       "      <td>0.0</td>\n",
       "      <td>0.0</td>\n",
       "      <td>0.0</td>\n",
       "      <td>1.0</td>\n",
       "      <td>0.0</td>\n",
       "    </tr>\n",
       "  </tbody>\n",
       "</table>\n",
       "</div>"
      ],
      "text/plain": [
       "                                            img_name  n_0  n_1  n_2  n_3  n_4  \\\n",
       "0  /home/guilherme/data1/Dropbox/Link to Desktop/...  0.0  0.0  0.0  0.0  1.0   \n",
       "1  /home/guilherme/data1/Dropbox/Link to Desktop/...  1.0  0.0  0.0  0.0  0.0   \n",
       "2  /home/guilherme/data1/Dropbox/Link to Desktop/...  0.0  1.0  0.0  0.0  0.0   \n",
       "3  /home/guilherme/data1/Dropbox/Link to Desktop/...  0.0  0.0  0.0  0.0  0.0   \n",
       "4  /home/guilherme/data1/Dropbox/Link to Desktop/...  0.0  0.0  0.0  0.0  0.0   \n",
       "\n",
       "   n_5  n_6  n_7  n_8  n_9  \n",
       "0  0.0  0.0  0.0  0.0  0.0  \n",
       "1  0.0  0.0  0.0  0.0  0.0  \n",
       "2  0.0  0.0  0.0  0.0  0.0  \n",
       "3  0.0  0.0  1.0  0.0  0.0  \n",
       "4  0.0  0.0  0.0  1.0  0.0  "
      ]
     },
     "execution_count": 6,
     "metadata": {},
     "output_type": "execute_result"
    }
   ],
   "source": [
    "runner.train_data.head()"
   ]
  },
  {
   "cell_type": "markdown",
   "metadata": {},
   "source": [
    "# <font color='red'>Producing Fake Data</font>"
   ]
  },
  {
   "cell_type": "code",
   "execution_count": 7,
   "metadata": {},
   "outputs": [
    {
     "name": "stdout",
     "output_type": "stream",
     "text": [
      "-------------------- producing fake data for experimental purposes -------------------\n",
      "fake_train_data.shape: (500, 11)\n",
      "fake_validation_data_df.shape: (100, 11)\n",
      "fake_test_data_df.shape: (50, 11)\n"
     ]
    }
   ],
   "source": [
    "runner.produce_fake_data()"
   ]
  },
  {
   "cell_type": "markdown",
   "metadata": {},
   "source": [
    "# Data Generators"
   ]
  },
  {
   "cell_type": "code",
   "execution_count": 6,
   "metadata": {
    "tags": []
   },
   "outputs": [
    {
     "name": "stdout",
     "output_type": "stream",
     "text": [
      "-------------------- setup data generators -------------------\n",
      "Starting data generators\n",
      "Found 48000 validated image filenames.\n",
      "Found 12000 validated image filenames.\n",
      "Found 10000 validated image filenames.\n",
      "TOTAL: 70000\n",
      "\n",
      "Logging class indices\n",
      " .. MTL model not logging class indices!\n",
      "\n",
      "Using benchmarking dataset. Not logging class labels!\n"
     ]
    }
   ],
   "source": [
    "runner.setup_data_generators()"
   ]
  },
  {
   "cell_type": "markdown",
   "metadata": {},
   "source": [
    "# Setup Experiment"
   ]
  },
  {
   "cell_type": "code",
   "execution_count": 7,
   "metadata": {},
   "outputs": [
    {
     "name": "stdout",
     "output_type": "stream",
     "text": [
      "-------------------- create experiment -------------------\n",
      "Not using Neptune\n"
     ]
    }
   ],
   "source": [
    "runner.setup_experiment()"
   ]
  },
  {
   "cell_type": "markdown",
   "metadata": {},
   "source": [
    "# Labels Distribution"
   ]
  },
  {
   "cell_type": "code",
   "execution_count": 9,
   "metadata": {
    "tags": []
   },
   "outputs": [],
   "source": [
    "%%capture\n",
    "runner.summary_labels_dist()"
   ]
  },
  {
   "cell_type": "markdown",
   "metadata": {},
   "source": [
    "# Neural Architecture Search"
   ]
  },
  {
   "cell_type": "code",
   "execution_count": 10,
   "metadata": {
    "tags": []
   },
   "outputs": [
    {
     "name": "stdout",
     "output_type": "stream",
     "text": [
      "-------------------- run neural architecture search -------------------\n"
     ]
    },
    {
     "ename": "TypeError",
     "evalue": "__init__() missing 4 required positional arguments: 'model_trainer', 'model_evaluator', 'config_interp', and 'neptune_utils'",
     "output_type": "error",
     "traceback": [
      "\u001b[0;31m---------------------------------------------------------------------------\u001b[0m",
      "\u001b[0;31mTypeError\u001b[0m                                 Traceback (most recent call last)",
      "\u001b[0;32m/tmp/ipykernel_111132/2244243026.py\u001b[0m in \u001b[0;36m<module>\u001b[0;34m\u001b[0m\n\u001b[0;32m----> 1\u001b[0;31m \u001b[0mrunner\u001b[0m\u001b[0;34m.\u001b[0m\u001b[0mrun_neural_architecture_search_v2\u001b[0m\u001b[0;34m(\u001b[0m\u001b[0;34m)\u001b[0m\u001b[0;34m\u001b[0m\u001b[0;34m\u001b[0m\u001b[0m\n\u001b[0m",
      "\u001b[0;32m~/anaconda3/envs/mteval-icao-reqs/submodules/icao_nets_training/project/src/exp_runner.py\u001b[0m in \u001b[0;36mrun_neural_architecture_search_v2\u001b[0;34m(self)\u001b[0m\n\u001b[1;32m    173\u001b[0m \u001b[0;34m\u001b[0m\u001b[0m\n\u001b[1;32m    174\u001b[0m         \u001b[0;32mfrom\u001b[0m \u001b[0msrc\u001b[0m\u001b[0;34m.\u001b[0m\u001b[0mnas\u001b[0m\u001b[0;34m.\u001b[0m\u001b[0mv2\u001b[0m\u001b[0;34m.\u001b[0m\u001b[0mmlpnas\u001b[0m \u001b[0;32mimport\u001b[0m \u001b[0mMLPNAS\u001b[0m\u001b[0;34m\u001b[0m\u001b[0;34m\u001b[0m\u001b[0m\n\u001b[0;32m--> 175\u001b[0;31m         \u001b[0mnas_object\u001b[0m \u001b[0;34m=\u001b[0m \u001b[0mMLPNAS\u001b[0m\u001b[0;34m(\u001b[0m\u001b[0mself\u001b[0m\u001b[0;34m.\u001b[0m\u001b[0mtrain_gen\u001b[0m\u001b[0;34m,\u001b[0m \u001b[0mself\u001b[0m\u001b[0;34m.\u001b[0m\u001b[0mvalidation_gen\u001b[0m\u001b[0;34m,\u001b[0m \u001b[0mself\u001b[0m\u001b[0;34m.\u001b[0m\u001b[0mconfig_interp\u001b[0m\u001b[0;34m,\u001b[0m \u001b[0mself\u001b[0m\u001b[0;34m.\u001b[0m\u001b[0mneptune_utils\u001b[0m\u001b[0;34m)\u001b[0m\u001b[0;34m\u001b[0m\u001b[0;34m\u001b[0m\u001b[0m\n\u001b[0m\u001b[1;32m    176\u001b[0m         \u001b[0mnas_object\u001b[0m\u001b[0;34m.\u001b[0m\u001b[0msearch\u001b[0m\u001b[0;34m(\u001b[0m\u001b[0;34m)\u001b[0m\u001b[0;34m\u001b[0m\u001b[0;34m\u001b[0m\u001b[0m\n\u001b[1;32m    177\u001b[0m \u001b[0;34m\u001b[0m\u001b[0m\n",
      "\u001b[0;32m~/anaconda3/envs/mteval-icao-reqs/submodules/icao_nets_training/project/src/nas/v2/mlpnas.py\u001b[0m in \u001b[0;36m__init__\u001b[0;34m(self, train_gen, validation_gen, config_interp, neptune_utils)\u001b[0m\n\u001b[1;32m     32\u001b[0m         \u001b[0mclean_log\u001b[0m\u001b[0;34m(\u001b[0m\u001b[0;34m)\u001b[0m\u001b[0;34m\u001b[0m\u001b[0;34m\u001b[0m\u001b[0m\n\u001b[1;32m     33\u001b[0m \u001b[0;34m\u001b[0m\u001b[0m\n\u001b[0;32m---> 34\u001b[0;31m         \u001b[0msuper\u001b[0m\u001b[0;34m(\u001b[0m\u001b[0;34m)\u001b[0m\u001b[0;34m.\u001b[0m\u001b[0m__init__\u001b[0m\u001b[0;34m(\u001b[0m\u001b[0;34m)\u001b[0m\u001b[0;34m\u001b[0m\u001b[0;34m\u001b[0m\u001b[0m\n\u001b[0m\u001b[1;32m     35\u001b[0m \u001b[0;34m\u001b[0m\u001b[0m\n\u001b[1;32m     36\u001b[0m         \u001b[0;31m#self.model_generator = MLPGenerator()\u001b[0m\u001b[0;34m\u001b[0m\u001b[0;34m\u001b[0m\u001b[0;34m\u001b[0m\u001b[0m\n",
      "\u001b[0;31mTypeError\u001b[0m: __init__() missing 4 required positional arguments: 'model_trainer', 'model_evaluator', 'config_interp', and 'neptune_utils'"
     ]
    }
   ],
   "source": [
    "runner.run_neural_architecture_search_v2()"
   ]
  },
  {
   "cell_type": "markdown",
   "metadata": {},
   "source": [
    "# Create Model with Best Config Found"
   ]
  },
  {
   "cell_type": "code",
   "execution_count": 12,
   "metadata": {},
   "outputs": [
    {
     "name": "stdout",
     "output_type": "stream",
     "text": [
      "-------------------- create model -------------------\n",
      "Creating model...\n",
      "Model created\n"
     ]
    }
   ],
   "source": [
    "runner.create_model()"
   ]
  },
  {
   "cell_type": "markdown",
   "metadata": {},
   "source": [
    "# Visualize Model"
   ]
  },
  {
   "cell_type": "code",
   "execution_count": 13,
   "metadata": {
    "tags": []
   },
   "outputs": [],
   "source": [
    "%%capture\n",
    "runner.visualize_model(outfile_path=f\"figs/nas/nas_model_approach_1.png\")"
   ]
  },
  {
   "cell_type": "code",
   "execution_count": 14,
   "metadata": {
    "tags": []
   },
   "outputs": [],
   "source": [
    "%%capture\n",
    "runner.model_summary()"
   ]
  },
  {
   "cell_type": "markdown",
   "metadata": {},
   "source": [
    "# Training Model"
   ]
  },
  {
   "cell_type": "code",
   "execution_count": 15,
   "metadata": {
    "collapsed": true,
    "jupyter": {
     "outputs_hidden": true
    },
    "tags": []
   },
   "outputs": [
    {
     "name": "stdout",
     "output_type": "stream",
     "text": [
      "-------------------- train model -------------------\n",
      "Training MOBILENET_V2 network\n",
      " .. Not fine tuning base model...\n",
      "  .. Total params: 3,120,724\n",
      "  .. Trainable params: 862,740\n",
      "  .. Non-trainable params: 2,257,984\n",
      "Epoch 1/10\n",
      "1500/1500 [==============================] - 223s 146ms/step - loss: 0.0545 - tshirt_loss: 0.0811 - trouser_loss: 0.0143 - pullover_loss: 0.0771 - dress_loss: 0.0602 - coat_loss: 0.0851 - sandal_loss: 0.0209 - shirt_loss: 0.1294 - sneaker_loss: 0.0318 - bag_loss: 0.0167 - ankle_boot_loss: 0.0281 - tshirt_accuracy: 0.9671 - trouser_accuracy: 0.9952 - pullover_accuracy: 0.9706 - dress_accuracy: 0.9766 - coat_accuracy: 0.9659 - sandal_accuracy: 0.9928 - shirt_accuracy: 0.9452 - sneaker_accuracy: 0.9881 - bag_accuracy: 0.9948 - ankle_boot_accuracy: 0.9899 - val_loss: 0.1163 - val_tshirt_loss: 0.1160 - val_trouser_loss: 0.0261 - val_pullover_loss: 0.0740 - val_dress_loss: 0.0910 - val_coat_loss: 0.0658 - val_sandal_loss: 0.5394 - val_shirt_loss: 0.1277 - val_sneaker_loss: 0.0453 - val_bag_loss: 0.0494 - val_ankle_boot_loss: 0.0288 - val_tshirt_accuracy: 0.9565 - val_trouser_accuracy: 0.9951 - val_pullover_accuracy: 0.9749 - val_dress_accuracy: 0.9707 - val_coat_accuracy: 0.9738 - val_sandal_accuracy: 0.9209 - val_shirt_accuracy: 0.9492 - val_sneaker_accuracy: 0.9856 - val_bag_accuracy: 0.9872 - val_ankle_boot_accuracy: 0.9908\n",
      "Warning: string series 'monitoring/stdout' value was longer than 1000 characters and was truncated. This warning is printed only once per series.\n",
      "\n",
      "Epoch 00001: val_loss improved from inf to 0.11635, saving model to training_ckpt/best_model.hdf5\n"
     ]
    },
    {
     "name": "stderr",
     "output_type": "stream",
     "text": [
      "/home/guilherme/anaconda3/envs/mteval-icao-reqs/submodules/icao_nets_training/lib/python3.8/site-packages/tensorflow/python/keras/utils/generic_utils.py:494: CustomMaskWarning: Custom mask layers require a config and must override get_config. When loading, the custom mask layer must be passed to the custom_objects argument.\n",
      "  warnings.warn('Custom mask layers require a config and must override '\n"
     ]
    },
    {
     "name": "stdout",
     "output_type": "stream",
     "text": [
      "Epoch 2/10\n",
      "1500/1500 [==============================] - 226s 151ms/step - loss: 0.0366 - tshirt_loss: 0.0588 - trouser_loss: 0.0061 - pullover_loss: 0.0557 - dress_loss: 0.0393 - coat_loss: 0.0570 - sandal_loss: 0.0093 - shirt_loss: 0.0962 - sneaker_loss: 0.0192 - bag_loss: 0.0067 - ankle_boot_loss: 0.0173 - tshirt_accuracy: 0.9767 - trouser_accuracy: 0.9983 - pullover_accuracy: 0.9795 - dress_accuracy: 0.9853 - coat_accuracy: 0.9780 - sandal_accuracy: 0.9966 - shirt_accuracy: 0.9604 - sneaker_accuracy: 0.9930 - bag_accuracy: 0.9978 - ankle_boot_accuracy: 0.9936 - val_loss: 0.0625 - val_tshirt_loss: 0.0772 - val_trouser_loss: 0.0475 - val_pullover_loss: 0.0693 - val_dress_loss: 0.0615 - val_coat_loss: 0.0679 - val_sandal_loss: 0.0209 - val_shirt_loss: 0.1874 - val_sneaker_loss: 0.0419 - val_bag_loss: 0.0251 - val_ankle_boot_loss: 0.0264 - val_tshirt_accuracy: 0.9731 - val_trouser_accuracy: 0.9875 - val_pullover_accuracy: 0.9751 - val_dress_accuracy: 0.9765 - val_coat_accuracy: 0.9770 - val_sandal_accuracy: 0.9955 - val_shirt_accuracy: 0.9436 - val_sneaker_accuracy: 0.9881 - val_bag_accuracy: 0.9954 - val_ankle_boot_accuracy: 0.9912\n",
      "\n",
      "Epoch 00002: val_loss improved from 0.11635 to 0.06251, saving model to training_ckpt/best_model.hdf5\n",
      "Epoch 3/10\n",
      "1500/1500 [==============================] - 226s 150ms/step - loss: 0.0300 - tshirt_loss: 0.0517 - trouser_loss: 0.0041 - pullover_loss: 0.0466 - dress_loss: 0.0326 - coat_loss: 0.0445 - sandal_loss: 0.0065 - shirt_loss: 0.0813 - sneaker_loss: 0.0156 - bag_loss: 0.0042 - ankle_boot_loss: 0.0134 - tshirt_accuracy: 0.9794 - trouser_accuracy: 0.9986 - pullover_accuracy: 0.9825 - dress_accuracy: 0.9883 - coat_accuracy: 0.9832 - sandal_accuracy: 0.9978 - shirt_accuracy: 0.9669 - sneaker_accuracy: 0.9941 - bag_accuracy: 0.9986 - ankle_boot_accuracy: 0.9949 - val_loss: 0.0431 - val_tshirt_loss: 0.0993 - val_trouser_loss: 0.0101 - val_pullover_loss: 0.0544 - val_dress_loss: 0.0350 - val_coat_loss: 0.0463 - val_sandal_loss: 0.0271 - val_shirt_loss: 0.1104 - val_sneaker_loss: 0.0202 - val_bag_loss: 0.0088 - val_ankle_boot_loss: 0.0198 - val_tshirt_accuracy: 0.9651 - val_trouser_accuracy: 0.9977 - val_pullover_accuracy: 0.9812 - val_dress_accuracy: 0.9875 - val_coat_accuracy: 0.9837 - val_sandal_accuracy: 0.9933 - val_shirt_accuracy: 0.9616 - val_sneaker_accuracy: 0.9940 - val_bag_accuracy: 0.9980 - val_ankle_boot_accuracy: 0.9944\n",
      "\n",
      "Epoch 00003: val_loss improved from 0.06251 to 0.04314, saving model to training_ckpt/best_model.hdf5\n",
      "Epoch 4/10\n",
      "1500/1500 [==============================] - 225s 150ms/step - loss: 0.0249 - tshirt_loss: 0.0448 - trouser_loss: 0.0035 - pullover_loss: 0.0386 - dress_loss: 0.0266 - coat_loss: 0.0363 - sandal_loss: 0.0045 - shirt_loss: 0.0688 - sneaker_loss: 0.0120 - bag_loss: 0.0035 - ankle_boot_loss: 0.0110 - tshirt_accuracy: 0.9819 - trouser_accuracy: 0.9988 - pullover_accuracy: 0.9857 - dress_accuracy: 0.9903 - coat_accuracy: 0.9864 - sandal_accuracy: 0.9985 - shirt_accuracy: 0.9728 - sneaker_accuracy: 0.9956 - bag_accuracy: 0.9987 - ankle_boot_accuracy: 0.9959 - val_loss: 0.0373 - val_tshirt_loss: 0.0587 - val_trouser_loss: 0.0045 - val_pullover_loss: 0.0484 - val_dress_loss: 0.0384 - val_coat_loss: 0.0509 - val_sandal_loss: 0.0093 - val_shirt_loss: 0.1173 - val_sneaker_loss: 0.0191 - val_bag_loss: 0.0085 - val_ankle_boot_loss: 0.0175 - val_tshirt_accuracy: 0.9802 - val_trouser_accuracy: 0.9988 - val_pullover_accuracy: 0.9835 - val_dress_accuracy: 0.9862 - val_coat_accuracy: 0.9812 - val_sandal_accuracy: 0.9975 - val_shirt_accuracy: 0.9592 - val_sneaker_accuracy: 0.9933 - val_bag_accuracy: 0.9974 - val_ankle_boot_accuracy: 0.9939\n",
      "\n",
      "Epoch 00004: val_loss improved from 0.04314 to 0.03726, saving model to training_ckpt/best_model.hdf5\n",
      "Epoch 5/10\n",
      "1500/1500 [==============================] - 221s 148ms/step - loss: 0.0206 - tshirt_loss: 0.0387 - trouser_loss: 0.0015 - pullover_loss: 0.0320 - dress_loss: 0.0211 - coat_loss: 0.0276 - sandal_loss: 0.0032 - shirt_loss: 0.0601 - sneaker_loss: 0.0097 - bag_loss: 0.0026 - ankle_boot_loss: 0.0095 - tshirt_accuracy: 0.9841 - trouser_accuracy: 0.9994 - pullover_accuracy: 0.9881 - dress_accuracy: 0.9924 - coat_accuracy: 0.9894 - sandal_accuracy: 0.9989 - shirt_accuracy: 0.9759 - sneaker_accuracy: 0.9965 - bag_accuracy: 0.9992 - ankle_boot_accuracy: 0.9966 - val_loss: 0.0354 - val_tshirt_loss: 0.0635 - val_trouser_loss: 0.0226 - val_pullover_loss: 0.0471 - val_dress_loss: 0.0398 - val_coat_loss: 0.0426 - val_sandal_loss: 0.0057 - val_shirt_loss: 0.0976 - val_sneaker_loss: 0.0150 - val_bag_loss: 0.0058 - val_ankle_boot_loss: 0.0143 - val_tshirt_accuracy: 0.9752 - val_trouser_accuracy: 0.9936 - val_pullover_accuracy: 0.9855 - val_dress_accuracy: 0.9868 - val_coat_accuracy: 0.9848 - val_sandal_accuracy: 0.9985 - val_shirt_accuracy: 0.9602 - val_sneaker_accuracy: 0.9949 - val_bag_accuracy: 0.9985 - val_ankle_boot_accuracy: 0.9948\n",
      "\n",
      "Epoch 00005: val_loss improved from 0.03726 to 0.03541, saving model to training_ckpt/best_model.hdf5\n",
      "Epoch 6/10\n",
      "1500/1500 [==============================] - 222s 148ms/step - loss: 0.0167 - tshirt_loss: 0.0323 - trouser_loss: 0.0016 - pullover_loss: 0.0259 - dress_loss: 0.0171 - coat_loss: 0.0212 - sandal_loss: 0.0028 - shirt_loss: 0.0491 - sneaker_loss: 0.0075 - bag_loss: 0.0027 - ankle_boot_loss: 0.0068 - tshirt_accuracy: 0.9872 - trouser_accuracy: 0.9995 - pullover_accuracy: 0.9906 - dress_accuracy: 0.9940 - coat_accuracy: 0.9918 - sandal_accuracy: 0.9990 - shirt_accuracy: 0.9806 - sneaker_accuracy: 0.9972 - bag_accuracy: 0.9990 - ankle_boot_accuracy: 0.9975 - val_loss: 0.0514 - val_tshirt_loss: 0.0821 - val_trouser_loss: 0.0067 - val_pullover_loss: 0.1005 - val_dress_loss: 0.0541 - val_coat_loss: 0.0568 - val_sandal_loss: 0.0255 - val_shirt_loss: 0.1350 - val_sneaker_loss: 0.0191 - val_bag_loss: 0.0142 - val_ankle_boot_loss: 0.0204 - val_tshirt_accuracy: 0.9747 - val_trouser_accuracy: 0.9987 - val_pullover_accuracy: 0.9727 - val_dress_accuracy: 0.9812 - val_coat_accuracy: 0.9827 - val_sandal_accuracy: 0.9956 - val_shirt_accuracy: 0.9593 - val_sneaker_accuracy: 0.9948 - val_bag_accuracy: 0.9955 - val_ankle_boot_accuracy: 0.9945\n",
      "\n",
      "Epoch 00006: val_loss did not improve from 0.03541\n",
      "Epoch 7/10\n",
      "1500/1500 [==============================] - 222s 148ms/step - loss: 0.0134 - tshirt_loss: 0.0266 - trouser_loss: 0.0014 - pullover_loss: 0.0213 - dress_loss: 0.0131 - coat_loss: 0.0166 - sandal_loss: 0.0018 - shirt_loss: 0.0389 - sneaker_loss: 0.0064 - bag_loss: 0.0014 - ankle_boot_loss: 0.0063 - tshirt_accuracy: 0.9892 - trouser_accuracy: 0.9997 - pullover_accuracy: 0.9921 - dress_accuracy: 0.9951 - coat_accuracy: 0.9939 - sandal_accuracy: 0.9992 - shirt_accuracy: 0.9846 - sneaker_accuracy: 0.9977 - bag_accuracy: 0.9995 - ankle_boot_accuracy: 0.9976 - val_loss: 0.0443 - val_tshirt_loss: 0.0855 - val_trouser_loss: 0.0083 - val_pullover_loss: 0.0476 - val_dress_loss: 0.0527 - val_coat_loss: 0.0605 - val_sandal_loss: 0.0074 - val_shirt_loss: 0.1373 - val_sneaker_loss: 0.0188 - val_bag_loss: 0.0056 - val_ankle_boot_loss: 0.0196 - val_tshirt_accuracy: 0.9690 - val_trouser_accuracy: 0.9979 - val_pullover_accuracy: 0.9834 - val_dress_accuracy: 0.9828 - val_coat_accuracy: 0.9808 - val_sandal_accuracy: 0.9982 - val_shirt_accuracy: 0.9571 - val_sneaker_accuracy: 0.9937 - val_bag_accuracy: 0.9983 - val_ankle_boot_accuracy: 0.9933\n",
      "\n",
      "Epoch 00007: val_loss did not improve from 0.03541\n",
      "Epoch 8/10\n",
      "1500/1500 [==============================] - 223s 148ms/step - loss: 0.0114 - tshirt_loss: 0.0235 - trouser_loss: 0.0011 - pullover_loss: 0.0186 - dress_loss: 0.0114 - coat_loss: 0.0141 - sandal_loss: 0.0018 - shirt_loss: 0.0331 - sneaker_loss: 0.0048 - bag_loss: 0.0014 - ankle_boot_loss: 0.0039 - tshirt_accuracy: 0.9907 - trouser_accuracy: 0.9996 - pullover_accuracy: 0.9930 - dress_accuracy: 0.9957 - coat_accuracy: 0.9947 - sandal_accuracy: 0.9994 - shirt_accuracy: 0.9872 - sneaker_accuracy: 0.9985 - bag_accuracy: 0.9995 - ankle_boot_accuracy: 0.9988 - val_loss: 0.0475 - val_tshirt_loss: 0.0611 - val_trouser_loss: 0.0098 - val_pullover_loss: 0.0821 - val_dress_loss: 0.0511 - val_coat_loss: 0.0867 - val_sandal_loss: 0.0063 - val_shirt_loss: 0.1297 - val_sneaker_loss: 0.0191 - val_bag_loss: 0.0107 - val_ankle_boot_loss: 0.0184 - val_tshirt_accuracy: 0.9792 - val_trouser_accuracy: 0.9984 - val_pullover_accuracy: 0.9801 - val_dress_accuracy: 0.9865 - val_coat_accuracy: 0.9819 - val_sandal_accuracy: 0.9987 - val_shirt_accuracy: 0.9589 - val_sneaker_accuracy: 0.9955 - val_bag_accuracy: 0.9983 - val_ankle_boot_accuracy: 0.9958\n",
      "\n",
      "Epoch 00008: val_loss did not improve from 0.03541\n",
      "Epoch 9/10\n",
      " 601/1500 [===========>..................] - ETA: 2:04 - loss: 0.0082 - tshirt_loss: 0.0159 - trouser_loss: 7.2774e-04 - pullover_loss: 0.0128 - dress_loss: 0.0080 - coat_loss: 0.0106 - sandal_loss: 9.3979e-04 - shirt_loss: 0.0248 - sneaker_loss: 0.0038 - bag_loss: 6.3717e-04 - ankle_boot_loss: 0.0035 - tshirt_accuracy: 0.9940 - trouser_accuracy: 0.9996 - pullover_accuracy: 0.9957 - dress_accuracy: 0.9968 - coat_accuracy: 0.9958 - sandal_accuracy: 0.9996 - shirt_accuracy: 0.9905 - sneaker_accuracy: 0.9986 - bag_accuracy: 0.9997 - ankle_boot_accuracy: 0.9986Experiencing connection interruptions. Will try to reestablish communication with Neptune. Internal exception was: RequestsFutureAdapterTimeout\n",
      " 622/1500 [===========>..................] - ETA: 2:01 - loss: 0.0082 - tshirt_loss: 0.0158 - trouser_loss: 7.6107e-04 - pullover_loss: 0.0128 - dress_loss: 0.0080 - coat_loss: 0.0109 - sandal_loss: 0.0011 - shirt_loss: 0.0246 - sneaker_loss: 0.0038 - bag_loss: 6.8458e-04 - ankle_boot_loss: 0.0034 - tshirt_accuracy: 0.9940 - trouser_accuracy: 0.9996 - pullover_accuracy: 0.9956 - dress_accuracy: 0.9968 - coat_accuracy: 0.9957 - sandal_accuracy: 0.9995 - shirt_accuracy: 0.9906 - sneaker_accuracy: 0.9986 - bag_accuracy: 0.9996 - ankle_boot_accuracy: 0.9987Communication with Neptune restored!\n",
      "1500/1500 [==============================] - 218s 145ms/step - loss: 0.0090 - tshirt_loss: 0.0176 - trouser_loss: 9.6984e-04 - pullover_loss: 0.0144 - dress_loss: 0.0086 - coat_loss: 0.0105 - sandal_loss: 0.0016 - shirt_loss: 0.0267 - sneaker_loss: 0.0043 - bag_loss: 8.2485e-04 - ankle_boot_loss: 0.0039 - tshirt_accuracy: 0.9935 - trouser_accuracy: 0.9996 - pullover_accuracy: 0.9950 - dress_accuracy: 0.9967 - coat_accuracy: 0.9962 - sandal_accuracy: 0.9994 - shirt_accuracy: 0.9899 - sneaker_accuracy: 0.9983 - bag_accuracy: 0.9997 - ankle_boot_accuracy: 0.9984 - val_loss: 0.0465 - val_tshirt_loss: 0.0819 - val_trouser_loss: 0.0074 - val_pullover_loss: 0.0681 - val_dress_loss: 0.0593 - val_coat_loss: 0.0597 - val_sandal_loss: 0.0085 - val_shirt_loss: 0.1331 - val_sneaker_loss: 0.0225 - val_bag_loss: 0.0068 - val_ankle_boot_loss: 0.0172 - val_tshirt_accuracy: 0.9773 - val_trouser_accuracy: 0.9983 - val_pullover_accuracy: 0.9818 - val_dress_accuracy: 0.9860 - val_coat_accuracy: 0.9848 - val_sandal_accuracy: 0.9980 - val_shirt_accuracy: 0.9616 - val_sneaker_accuracy: 0.9942 - val_bag_accuracy: 0.9980 - val_ankle_boot_accuracy: 0.9947\n",
      "\n",
      "Epoch 00009: val_loss did not improve from 0.03541\n",
      "Epoch 10/10\n",
      "1500/1500 [==============================] - 218s 145ms/step - loss: 0.0083 - tshirt_loss: 0.0160 - trouser_loss: 0.0011 - pullover_loss: 0.0135 - dress_loss: 0.0087 - coat_loss: 0.0100 - sandal_loss: 0.0013 - shirt_loss: 0.0242 - sneaker_loss: 0.0038 - bag_loss: 0.0012 - ankle_boot_loss: 0.0036 - tshirt_accuracy: 0.9939 - trouser_accuracy: 0.9997 - pullover_accuracy: 0.9951 - dress_accuracy: 0.9969 - coat_accuracy: 0.9963 - sandal_accuracy: 0.9996 - shirt_accuracy: 0.9909 - sneaker_accuracy: 0.9987 - bag_accuracy: 0.9996 - ankle_boot_accuracy: 0.9987 - val_loss: 0.0513 - val_tshirt_loss: 0.0869 - val_trouser_loss: 0.0041 - val_pullover_loss: 0.0846 - val_dress_loss: 0.0488 - val_coat_loss: 0.0889 - val_sandal_loss: 0.0105 - val_shirt_loss: 0.1338 - val_sneaker_loss: 0.0265 - val_bag_loss: 0.0071 - val_ankle_boot_loss: 0.0222 - val_tshirt_accuracy: 0.9737 - val_trouser_accuracy: 0.9992 - val_pullover_accuracy: 0.9799 - val_dress_accuracy: 0.9870 - val_coat_accuracy: 0.9822 - val_sandal_accuracy: 0.9975 - val_shirt_accuracy: 0.9612 - val_sneaker_accuracy: 0.9924 - val_bag_accuracy: 0.9982 - val_ankle_boot_accuracy: 0.9936\n",
      "\n",
      "Epoch 00010: val_loss did not improve from 0.03541\n"
     ]
    }
   ],
   "source": [
    "runner.train_model()"
   ]
  },
  {
   "cell_type": "markdown",
   "metadata": {},
   "source": [
    "# Plots"
   ]
  },
  {
   "cell_type": "code",
   "execution_count": 16,
   "metadata": {
    "collapsed": true,
    "jupyter": {
     "outputs_hidden": true
    },
    "tags": []
   },
   "outputs": [
    {
     "name": "stdout",
     "output_type": "stream",
     "text": [
      "-------------------- draw training history -------------------\n"
     ]
    },
    {
     "data": {
      "image/png": "[encoded data removed]",
      "text/plain": [
       "<Figure size 1440x1800 with 4 Axes>"
      ]
     },
     "metadata": {
      "needs_background": "light"
     },
     "output_type": "display_data"
    }
   ],
   "source": [
    "runner.draw_training_history()"
   ]
  },
  {
   "cell_type": "markdown",
   "metadata": {},
   "source": [
    "# Load Best Model"
   ]
  },
  {
   "cell_type": "code",
   "execution_count": 17,
   "metadata": {},
   "outputs": [
    {
     "name": "stdout",
     "output_type": "stream",
     "text": [
      "-------------------- load best model -------------------\n",
      "..Loading best model\n",
      "..Checkpoint weights loaded\n"
     ]
    }
   ],
   "source": [
    "runner.load_best_model()"
   ]
  },
  {
   "cell_type": "markdown",
   "metadata": {},
   "source": [
    "# Saving Trained Model"
   ]
  },
  {
   "cell_type": "code",
   "execution_count": 18,
   "metadata": {},
   "outputs": [
    {
     "name": "stdout",
     "output_type": "stream",
     "text": [
      "-------------------- save model -------------------\n",
      "Saving model\n"
     ]
    },
    {
     "name": "stderr",
     "output_type": "stream",
     "text": [
      "/home/guilherme/anaconda3/envs/mteval-icao-reqs/submodules/icao_nets_training/lib/python3.8/site-packages/tensorflow/python/keras/utils/generic_utils.py:494: CustomMaskWarning: Custom mask layers require a config and must override get_config. When loading, the custom mask layer must be passed to the custom_objects argument.\n",
      "  warnings.warn('Custom mask layers require a config and must override '\n"
     ]
    },
    {
     "name": "stdout",
     "output_type": "stream",
     "text": [
      "INFO:tensorflow:Assets written to: trained_model/assets\n",
      "..Model saved\n",
      "...Model path: trained_model\n",
      "Saving model to neptune\n",
      " ..Uploading file trained_model.zip\n",
      "Model saved into Neptune\n",
      "Saving process finished\n"
     ]
    }
   ],
   "source": [
    "runner.save_model()"
   ]
  },
  {
   "cell_type": "markdown",
   "metadata": {},
   "source": [
    "# Test Trained Model"
   ]
  },
  {
   "cell_type": "markdown",
   "metadata": {},
   "source": [
    "## Validation Split"
   ]
  },
  {
   "cell_type": "code",
   "execution_count": 19,
   "metadata": {
    "tags": []
   },
   "outputs": [
    {
     "name": "stdout",
     "output_type": "stream",
     "text": [
      "Testing Trained Model\n",
      "Predicting labels....\n",
      "375/375 [==============================] - 9s 22ms/step\n",
      "Prediction finished!\n",
      "  Task  0: tshirt          | EER_mean: 0.03070 | EER_interp: 0.03080 | ACC: 0.96920\n",
      "  Task  1: trouser         | EER_mean: 0.00330 | EER_interp: 0.00240 | ACC: 0.99830\n",
      "  Task  2: pullover        | EER_mean: 0.02860 | EER_interp: 0.02810 | ACC: 0.97230\n",
      "  Task  3: dress           | EER_mean: 0.01740 | EER_interp: 0.01730 | ACC: 0.98270\n",
      "  Task  4: coat            | EER_mean: 0.02880 | EER_interp: 0.02880 | ACC: 0.97120\n",
      "  Task  5: sandal          | EER_mean: 0.00330 | EER_interp: 0.00320 | ACC: 0.99680\n",
      "  Task  6: shirt           | EER_mean: 0.05820 | EER_interp: 0.05820 | ACC: 0.94180\n",
      "  Task  7: sneaker         | EER_mean: 0.00650 | EER_interp: 0.00640 | ACC: 0.99360\n",
      "  Task  8: bag             | EER_mean: 0.00350 | EER_interp: 0.00340 | ACC: 0.99650\n",
      "  Task  9: ankle_boot      | EER_mean: 0.00790 | EER_interp: 0.00780 | ACC: 0.99220\n",
      "final_EER_mean: 1.86% | final_EER_median: 1.25% | final_EER_std_dv: 1.71% | final_ACC: 98.15%\n"
     ]
    }
   ],
   "source": [
    "runner.set_model_evaluator_data_src(DataSource.VALIDATION)\n",
    "runner.test_model(verbose=False)"
   ]
  },
  {
   "cell_type": "markdown",
   "metadata": {},
   "source": [
    "## Test Split"
   ]
  },
  {
   "cell_type": "code",
   "execution_count": 20,
   "metadata": {
    "tags": []
   },
   "outputs": [
    {
     "name": "stdout",
     "output_type": "stream",
     "text": [
      "Testing Trained Model\n",
      "Predicting labels....\n",
      "313/313 [==============================] - 7s 23ms/step  - ETA\n",
      "Prediction finished!\n",
      "  Task  0: tshirt          | EER_mean: 0.03300 | EER_interp: 0.03300 | ACC: 0.96710\n",
      "  Task  1: trouser         | EER_mean: 0.00600 | EER_interp: 0.00600 | ACC: 0.99400\n",
      "  Task  2: pullover        | EER_mean: 0.03740 | EER_interp: 0.03720 | ACC: 0.96260\n",
      "  Task  3: dress           | EER_mean: 0.02070 | EER_interp: 0.02040 | ACC: 0.97940\n",
      "  Task  4: coat            | EER_mean: 0.03070 | EER_interp: 0.03080 | ACC: 0.96930\n",
      "  Task  5: sandal          | EER_mean: 0.00400 | EER_interp: 0.00400 | ACC: 0.99590\n",
      "  Task  6: shirt           | EER_mean: 0.05810 | EER_interp: 0.05800 | ACC: 0.94190\n",
      "  Task  7: sneaker         | EER_mean: 0.00860 | EER_interp: 0.00880 | ACC: 0.99140\n",
      "  Task  8: bag             | EER_mean: 0.00310 | EER_interp: 0.00300 | ACC: 0.99690\n",
      "  Task  9: ankle_boot      | EER_mean: 0.01180 | EER_interp: 0.01190 | ACC: 0.98820\n",
      "final_EER_mean: 2.13% | final_EER_median: 1.62% | final_EER_std_dv: 1.71% | final_ACC: 97.87%\n"
     ]
    }
   ],
   "source": [
    "runner.set_model_evaluator_data_src(DataSource.TEST)\n",
    "runner.test_model(verbose=False)"
   ]
  },
  {
   "cell_type": "markdown",
   "metadata": {},
   "source": [
    "# Visualize Model Classification"
   ]
  },
  {
   "cell_type": "raw",
   "metadata": {},
   "source": [
    "runner.visualize_predictions()"
   ]
  },
  {
   "cell_type": "markdown",
   "metadata": {},
   "source": [
    "# Finishing Experiment Manager"
   ]
  },
  {
   "cell_type": "code",
   "execution_count": 21,
   "metadata": {
    "tags": []
   },
   "outputs": [
    {
     "name": "stdout",
     "output_type": "stream",
     "text": [
      "-------------------- finish experiment -------------------\n",
      "Finishing Neptune\n",
      "Shutting down background jobs, please wait a moment...\n",
      "Done!\n",
      "Waiting for the remaining 38569 operations to synchronize with Neptune. Do not kill this process.\n",
      "Still waiting for the remaining 38569 operations (0.00% done). Please wait.\n",
      "Still waiting for the remaining 38569 operations (0.00% done). Please wait.\n",
      "Still waiting for the remaining 38569 operations (0.00% done). Please wait.\n",
      "Still waiting for the remaining 38569 operations (0.00% done). Please wait.\n",
      "Still waiting for the remaining 38569 operations (0.00% done). Please wait.\n",
      "Still waiting for the remaining 38569 operations (0.00% done). Please wait.\n",
      "Still waiting for the remaining 38569 operations (0.00% done). Please wait.\n",
      "Still waiting for the remaining 38569 operations (0.00% done). Please wait.\n",
      "Still waiting for the remaining 38569 operations (0.00% done). Please wait.\n",
      "Still waiting for the remaining 38569 operations (0.00% done). Please wait.\n",
      "Still waiting for the remaining 38569 operations (0.00% done). Please wait.\n",
      "Still waiting for the remaining 38569 operations (0.00% done). Please wait.\n",
      "Still waiting for the remaining 38569 operations (0.00% done). Please wait.\n",
      "Still waiting for the remaining 38569 operations (0.00% done). Please wait.\n",
      "Still waiting for the remaining 38569 operations (0.00% done). Please wait.\n",
      "Still waiting for the remaining 38569 operations (0.00% done). Please wait.\n",
      "Still waiting for the remaining 38569 operations (0.00% done). Please wait.\n",
      "Experiencing connection interruptions. Will try to reestablish communication with Neptune. Internal exception was: RequestsFutureAdapterTimeout\n",
      "Communication with Neptune restored!\n",
      "Still waiting for the remaining 26418 operations (31.50% done). Please wait.\n",
      "Still waiting for the remaining 1418 operations (96.32% done). Please wait.\n",
      "All 38569 operations synced, thanks for waiting!\n",
      "Explore the metadata in the Neptune app:\n",
      "https://app.neptune.ai/guilhermemg/icao-nets-training-2/e/ICAO-362\n"
     ]
    }
   ],
   "source": [
    "runner.finish_experiment()"
   ]
  },
  {
   "cell_type": "markdown",
   "metadata": {},
   "source": [
    "# Testing Network Modification"
   ]
  },
  {
   "cell_type": "raw",
   "metadata": {
    "jupyter": {
     "outputs_hidden": true,
     "source_hidden": true
    },
    "tags": []
   },
   "source": [
    "import tensorflow as tf\n",
    "import tensorflow.keras as keras\n",
    "import tensorflow.keras.backend as K\n",
    "import numpy as np\n",
    "from tensorflow.keras.layers import Dense, Input, Layer\n",
    "from tensorflow.keras.models import Model\n",
    "\n",
    "input_tensor = Input(shape=(20,), name=\"input\")\n",
    "hidden = Dense(100, activation='relu')(input_tensor)\n",
    "out = Dense(10, activation='relu', name=\"out\")(hidden)\n",
    "\n",
    "model = Model(inputs=input_tensor, outputs=out)\n",
    "model.compile(loss=\"mse\", optimizer='adam')\n",
    "\n",
    "model.summary()\n",
    "\n",
    "out = Dense(5, activation='softmax', name='new_out')(model.layers[-2].output)\n",
    "\n",
    "new_model = Model(input_tensor, out)\n",
    "new_model.summary()"
   ]
  },
  {
   "cell_type": "markdown",
   "metadata": {},
   "source": [
    "# Test - Customized Loss Function"
   ]
  },
  {
   "cell_type": "raw",
   "metadata": {
    "jupyter": {
     "source_hidden": true
    },
    "tags": []
   },
   "source": [
    "import tensorflow as tf\n",
    "import tensorflow.keras as keras\n",
    "import tensorflow.keras.backend as K\n",
    "import numpy as np\n",
    "from tensorflow.keras.layers import Dense, Input, Layer\n",
    "from tensorflow.keras.models import Model\n",
    "\n",
    "np.random.seed(10)\n",
    "\n",
    "def my_loss_func(y_true, y_pred):\n",
    "    print(y_true, y_pred)\n",
    "    squared_difference = tf.square(y_true - y_pred)\n",
    "    return tf.reduce_mean(squared_difference, axis=-1)\n",
    "\n",
    "\n",
    "def _controller_loss(y_true, y_pred):\n",
    "    baseline = None\n",
    "    baseline_decay = 0.999\n",
    "    reward = 0\n",
    "\n",
    "    if baseline is None:\n",
    "        baseline = 0\n",
    "    else:\n",
    "        baseline -= (1 - baseline_decay) * (baseline - reward)\n",
    "    return y_pred * (reward - baseline)\n",
    "\n",
    "def _define_loss(controller_loss):\n",
    "    print(controller_loss)\n",
    "    a =  {f\"out\": controller_loss for i in range(4)}\n",
    "    print(a)\n",
    "    return a\n",
    "\n",
    "\n",
    "\n",
    "input_tensor = Input(shape=(4), name=\"input\")\n",
    "hidden = Dense(64, activation='relu')(input_tensor)\n",
    "out = Dense(4, activation='softmax', name=\"out\")(hidden)\n",
    "\n",
    "model = Model(inputs=input_tensor, outputs=out)\n",
    "#model.compile(loss=my_loss_func, optimizer='adam')\n",
    "model.compile(loss=_define_loss(_controller_loss), optimizer='adam')\n",
    "\n",
    "#print(model.summary())\n",
    "\n",
    "#x = np.random.rand(4,4)\n",
    "#y = np.random.rand(4,1)\n",
    "\n",
    "x = np.matrix([[2,1,4,5], [3,4,5,2]], dtype='float32').A\n",
    "y = np.array([4,2], dtype='float32')\n",
    "\n",
    "print(x)\n",
    "print(y)\n",
    "\n",
    "H = model.fit(x, y, epochs=3, batch_size=1)\n",
    "H.history"
   ]
  },
  {
   "cell_type": "markdown",
   "metadata": {},
   "source": [
    "# Test - "
   ]
  },
  {
   "cell_type": "raw",
   "metadata": {
    "jupyter": {
     "source_hidden": true
    },
    "tags": []
   },
   "source": [
    "import tensorflow as tf\n",
    "import numpy as np\n",
    "\n",
    "import os\n",
    "# disable tensorflow log level infos\n",
    "os.environ['TF_CPP_MIN_LOG_LEVEL'] = '2' # show only errors\n",
    "\n",
    "from tensorflow.keras.models import Sequential\n",
    "from tensorflow.keras.layers import Dense\n",
    "from tensorflow.keras.optimizers import Adam\n",
    "\n",
    "\n",
    "def __create_rnn_model():\n",
    "    model = Sequential([\n",
    "        Dense(4, activation=\"relu\"),\n",
    "        Dense(64, activation=\"relu\"),\n",
    "        Dense(4, activation=\"softmax\")\n",
    "    ])\n",
    "\n",
    "    model.compile(loss=\"categorical_crossentropy\", optimizer=Adam(), metrics=[\"accuracy\"])\n",
    "\n",
    "    return model\n",
    "\n",
    "def __preprocess_config(config):\n",
    "    return np.linalg.norm(config)\n",
    "    \n",
    "\n",
    "\n",
    "np.random.seed(2)\n",
    "\n",
    "X = np.random.rand(400,4)\n",
    "y = np.random.rand(400,4)\n",
    "\n",
    "# X = tf.expand_dims(X, axis=0)\n",
    "# y = np.expand_dims(y, axis=0)\n",
    "\n",
    "print(X.shape)\n",
    "print(y.shape)\n",
    "\n",
    "X_test = np.random.rand(20,4)\n",
    "y_test = np.random.rand(20,4)\n",
    "\n",
    "# X_test = tf.expand_dims(X_test, axis=0)\n",
    "# y_test = tf.expand_dims(y_test, axis=0)\n",
    "\n",
    "m = __create_rnn_model()\n",
    "\n",
    "m.fit(X,y, batch_size=32, epochs=5)\n",
    "\n",
    "loss, acc = m.evaluate(X_test,y_test, batch_size=32)\n",
    "\n",
    "print(f'loss: {loss}%')\n",
    "print(f'acc: {round(acc*100,2)}%')\n",
    "\n",
    "print(f'prediction: {m.predict(np.array(X_test[0]).reshape(1,4))}')"
   ]
  }
 ],
 "metadata": {
  "interpreter": {
   "hash": "85f5044ba23e75135dc4c908fd4d7609c1c80b195047fdb4d16ee0e66a953254"
  },
  "kernelspec": {
   "display_name": "Python 3 (ipykernel)",
   "language": "python",
   "name": "python3"
  },
  "language_info": {
   "codemirror_mode": {
    "name": "ipython",
    "version": 3
   },
   "file_extension": ".py",
   "mimetype": "text/x-python",
   "name": "python",
   "nbconvert_exporter": "python",
   "pygments_lexer": "ipython3",
   "version": "3.8.0"
  },
  "toc-autonumbering": true
 },
 "nbformat": 4,
 "nbformat_minor": 4
}

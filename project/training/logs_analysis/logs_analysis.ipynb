{
 "cells": [
  {
   "cell_type": "code",
   "execution_count": 1,
   "id": "89c15f5a-5fce-47aa-852d-a44a9dc184c8",
   "metadata": {},
   "outputs": [
    {
     "name": "stderr",
     "output_type": "stream",
     "text": [
      "2022-12-01 21:35:39.213750: I tensorflow/stream_executor/platform/default/dso_loader.cc:53] Successfully opened dynamic library libcudart.so.11.0\n"
     ]
    }
   ],
   "source": [
    "import os\n",
    "import sys\n",
    "\n",
    "os.chdir('..')\n",
    "\n",
    "if '..' not in sys.path:\n",
    "    sys.path.insert(0, '..')\n",
    "\n",
    "from src.nas.v2 import utils\n",
    "from src.nas.v2.mlp_search_space import MLPSearchSpace\n",
    "from src.nas.v2.constants import *\n",
    "\n",
    "import pandas as pd"
   ]
  },
  {
   "cell_type": "code",
   "execution_count": 2,
   "id": "cff91a5a",
   "metadata": {},
   "outputs": [
    {
     "data": {
      "image/png": "[encoded data removed]",
      "text/plain": [
       "<Figure size 432x288 with 1 Axes>"
      ]
     },
     "metadata": {
      "needs_background": "light"
     },
     "output_type": "display_data"
    }
   ],
   "source": [
    "utils.get_accuracy_distribution()"
   ]
  },
  {
   "cell_type": "code",
   "execution_count": 3,
   "id": "5536515f",
   "metadata": {},
   "outputs": [
    {
     "data": {
      "text/plain": [
       "7405"
      ]
     },
     "execution_count": 3,
     "metadata": {},
     "output_type": "execute_result"
    }
   ],
   "source": [
    "utils.get_latest_event_id()"
   ]
  },
  {
   "cell_type": "code",
   "execution_count": 8,
   "id": "969d0a89",
   "metadata": {},
   "outputs": [],
   "source": [
    "l = utils.load_nas_data()"
   ]
  },
  {
   "cell_type": "code",
   "execution_count": 10,
   "id": "42fffc0c",
   "metadata": {},
   "outputs": [
    {
     "data": {
      "text/html": [
       "<div>\n",
       "<style scoped>\n",
       "    .dataframe tbody tr th:only-of-type {\n",
       "        vertical-align: middle;\n",
       "    }\n",
       "\n",
       "    .dataframe tbody tr th {\n",
       "        vertical-align: top;\n",
       "    }\n",
       "\n",
       "    .dataframe thead th {\n",
       "        text-align: right;\n",
       "    }\n",
       "</style>\n",
       "<table border=\"1\" class=\"dataframe\">\n",
       "  <thead>\n",
       "    <tr style=\"text-align: right;\">\n",
       "      <th></th>\n",
       "      <th>sequence</th>\n",
       "      <th>val_acc</th>\n",
       "    </tr>\n",
       "  </thead>\n",
       "  <tbody>\n",
       "    <tr>\n",
       "      <th>0</th>\n",
       "      <td>[6, 6, 19, 5, 20]</td>\n",
       "      <td>99.45</td>\n",
       "    </tr>\n",
       "    <tr>\n",
       "      <th>1</th>\n",
       "      <td>[18, 8, 17, 19, 20]</td>\n",
       "      <td>99.66</td>\n",
       "    </tr>\n",
       "    <tr>\n",
       "      <th>2</th>\n",
       "      <td>[13, 14, 15, 8, 20]</td>\n",
       "      <td>99.62</td>\n",
       "    </tr>\n",
       "    <tr>\n",
       "      <th>3</th>\n",
       "      <td>[16, 6, 7, 17, 20]</td>\n",
       "      <td>99.52</td>\n",
       "    </tr>\n",
       "    <tr>\n",
       "      <th>4</th>\n",
       "      <td>[18, 15, 1, 7, 20]</td>\n",
       "      <td>99.73</td>\n",
       "    </tr>\n",
       "    <tr>\n",
       "      <th>5</th>\n",
       "      <td>[13, 18, 19, 5, 20]</td>\n",
       "      <td>99.63</td>\n",
       "    </tr>\n",
       "  </tbody>\n",
       "</table>\n",
       "</div>"
      ],
      "text/plain": [
       "              sequence  val_acc\n",
       "0    [6, 6, 19, 5, 20]    99.45\n",
       "1  [18, 8, 17, 19, 20]    99.66\n",
       "2  [13, 14, 15, 8, 20]    99.62\n",
       "3   [16, 6, 7, 17, 20]    99.52\n",
       "4   [18, 15, 1, 7, 20]    99.73\n",
       "5  [13, 18, 19, 5, 20]    99.63"
      ]
     },
     "execution_count": 10,
     "metadata": {},
     "output_type": "execute_result"
    }
   ],
   "source": [
    "df = pd.DataFrame(l, columns=['sequence','val_acc'])\n",
    "df.head(20)"
   ]
  },
  {
   "cell_type": "code",
   "execution_count": 11,
   "id": "3b2e2b61",
   "metadata": {},
   "outputs": [
    {
     "name": "stdout",
     "output_type": "stream",
     "text": [
      "Top 5 Architectures:\n",
      "Architecture {'n_denses_1': 5, 'n_denses_2': 2, 'n_denses_0': 1, 'n_denses_3': 5}\n",
      "Validation Accuracy: 99.73\n",
      "Architecture {'n_denses_1': 5, 'n_denses_3': 5, 'n_denses_0': 5, 'n_denses_2': 5}\n",
      "Validation Accuracy: 99.66\n",
      "Architecture {'n_denses_0': 2, 'n_denses_1': 5, 'n_denses_2': 5, 'n_denses_3': 5}\n",
      "Validation Accuracy: 99.63\n",
      "Architecture {'n_denses_0': 4, 'n_denses_1': 4, 'n_denses_2': 4, 'n_denses_3': 5}\n",
      "Validation Accuracy: 99.62\n",
      "Architecture {'n_denses_3': 5, 'n_denses_1': 2, 'n_denses_2': 2, 'n_denses_0': 5}\n",
      "Validation Accuracy: 99.52\n"
     ]
    }
   ],
   "source": [
    "utils.get_top_n_architectures(5)"
   ]
  }
 ],
 "metadata": {
  "kernelspec": {
   "display_name": "Python 3.8.0",
   "language": "python",
   "name": "python3"
  },
  "language_info": {
   "codemirror_mode": {
    "name": "ipython",
    "version": 3
   },
   "file_extension": ".py",
   "mimetype": "text/x-python",
   "name": "python",
   "nbconvert_exporter": "python",
   "pygments_lexer": "ipython3",
   "version": "3.8.0"
  },
  "vscode": {
   "interpreter": {
    "hash": "b9e1cb5400110cbdb8723d946d10a08e5012bb5456ff86015d4445d9a1396316"
   }
  }
 },
 "nbformat": 4,
 "nbformat_minor": 5
}

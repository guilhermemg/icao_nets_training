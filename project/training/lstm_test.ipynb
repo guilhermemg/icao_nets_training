{
 "cells": [
  {
   "cell_type": "code",
   "execution_count": null,
   "id": "d36a95ba-d5a0-4463-a68e-9c098b818440",
   "metadata": {},
   "outputs": [],
   "source": []
  }
 ],
 "metadata": {
  "kernelspec": {
   "display_name": "Python 3.8.0 64-bit ('biopass-face-anti-spoofing': conda)",
   "language": "python",
   "name": "python380jvsc74a57bd0b1c311bab11cc38260b789899d01bf6695f42b190365c2bd8f4469ca2b765172"
  },
  "language_info": {
   "codemirror_mode": {
    "name": "ipython",
    "version": 3
   },
   "file_extension": ".py",
   "mimetype": "text/x-python",
   "name": "python",
   "nbconvert_exporter": "python",
   "pygments_lexer": "ipython3",
   "version": "3.8.0"
  }
 },
 "nbformat": 4,
 "nbformat_minor": 5
}

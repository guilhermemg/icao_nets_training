{
 "cells": [
  {
   "cell_type": "markdown",
   "id": "d3a26b90-53cb-4136-a998-cac81d84bd8a",
   "metadata": {},
   "source": [
    "# Introduction\n",
    "\n",
    "Notebook para cálculo de métrica final_EER_median para experimentos com MTL Handcrafted 1, 2, 3 e com NAS.\n",
    "\n",
    "Os dados que já estão no Neptune são usados para calcular o final_EER_median e o valor calculado é armazenado de volta no Neptune."
   ]
  },
  {
   "cell_type": "markdown",
   "id": "d98d5a38-33d5-4ef9-a321-8f21b249d57d",
   "metadata": {},
   "source": [
    "# Import Libraries"
   ]
  },
  {
   "cell_type": "code",
   "execution_count": 1,
   "id": "6cd77f5e-c77f-482c-aaca-0f583922178e",
   "metadata": {
    "tags": []
   },
   "outputs": [],
   "source": [
    "import sys\n",
    "import statistics\n",
    "import neptune.new as neptune\n",
    "import pandas as pd\n",
    "\n",
    "from tqdm import tqdm\n",
    "\n",
    "if '..' not in sys.path:\n",
    "    sys.path.insert(0, '..')\n",
    "\n",
    "from src.configs import config \n",
    "from src.m_utils import constants as cts    "
   ]
  },
  {
   "cell_type": "markdown",
   "id": "cb464bfa-5a5c-4c2e-b3d6-50c7dd84563d",
   "metadata": {},
   "source": [
    "# Fix to Percentage STL Results on Neptune"
   ]
  },
  {
   "cell_type": "code",
   "execution_count": 5,
   "id": "e49d75c5-bb5e-4979-9f4b-1cbb7b48a9ba",
   "metadata": {
    "collapsed": true,
    "jupyter": {
     "outputs_hidden": true
    },
    "tags": []
   },
   "outputs": [
    {
     "name": "stdout",
     "output_type": "stream",
     "text": [
      "https://app.neptune.ai/guilhermemg/icao-nets-training-2/e/ICAO-169\n",
      "Remember to stop your run once you’ve finished logging your metadata (https://docs.neptune.ai/api-reference/run#.stop). It will be stopped automatically only when the notebook kernel/interactive console is terminated.\n",
      "Shutting down background jobs, please wait a moment...\n",
      "Done!\n"
     ]
    },
    {
     "name": "stderr",
     "output_type": "stream",
     "text": [
      "Waiting for the remaining 13 operations to synchronize with Neptune. Do not kill this process.\n"
     ]
    },
    {
     "name": "stdout",
     "output_type": "stream",
     "text": [
      "All 13 operations synced, thanks for waiting!\n",
      "https://app.neptune.ai/guilhermemg/icao-nets-training-2/e/ICAO-170\n",
      "Remember to stop your run once you’ve finished logging your metadata (https://docs.neptune.ai/api-reference/run#.stop). It will be stopped automatically only when the notebook kernel/interactive console is terminated.\n",
      "Shutting down background jobs, please wait a moment...\n",
      "Done!\n"
     ]
    },
    {
     "name": "stderr",
     "output_type": "stream",
     "text": [
      "Waiting for the remaining 13 operations to synchronize with Neptune. Do not kill this process.\n"
     ]
    },
    {
     "name": "stdout",
     "output_type": "stream",
     "text": [
      "All 13 operations synced, thanks for waiting!\n",
      "https://app.neptune.ai/guilhermemg/icao-nets-training-2/e/ICAO-174\n",
      "Remember to stop your run once you’ve finished logging your metadata (https://docs.neptune.ai/api-reference/run#.stop). It will be stopped automatically only when the notebook kernel/interactive console is terminated.\n",
      "Shutting down background jobs, please wait a moment...\n",
      "Done!\n"
     ]
    },
    {
     "name": "stderr",
     "output_type": "stream",
     "text": [
      "Waiting for the remaining 13 operations to synchronize with Neptune. Do not kill this process.\n"
     ]
    },
    {
     "name": "stdout",
     "output_type": "stream",
     "text": [
      "All 13 operations synced, thanks for waiting!\n",
      "https://app.neptune.ai/guilhermemg/icao-nets-training-2/e/ICAO-168\n",
      "Remember to stop your run once you’ve finished logging your metadata (https://docs.neptune.ai/api-reference/run#.stop). It will be stopped automatically only when the notebook kernel/interactive console is terminated.\n",
      "Shutting down background jobs, please wait a moment...\n",
      "Done!\n"
     ]
    },
    {
     "name": "stderr",
     "output_type": "stream",
     "text": [
      "Waiting for the remaining 13 operations to synchronize with Neptune. Do not kill this process.\n"
     ]
    },
    {
     "name": "stdout",
     "output_type": "stream",
     "text": [
      "All 13 operations synced, thanks for waiting!\n",
      "https://app.neptune.ai/guilhermemg/icao-nets-training-2/e/ICAO-185\n",
      "Remember to stop your run once you’ve finished logging your metadata (https://docs.neptune.ai/api-reference/run#.stop). It will be stopped automatically only when the notebook kernel/interactive console is terminated.\n",
      "Shutting down background jobs, please wait a moment...\n",
      "Done!\n"
     ]
    },
    {
     "name": "stderr",
     "output_type": "stream",
     "text": [
      "Waiting for the remaining 13 operations to synchronize with Neptune. Do not kill this process.\n"
     ]
    },
    {
     "name": "stdout",
     "output_type": "stream",
     "text": [
      "All 13 operations synced, thanks for waiting!\n",
      "https://app.neptune.ai/guilhermemg/icao-nets-training-2/e/ICAO-178\n",
      "Remember to stop your run once you’ve finished logging your metadata (https://docs.neptune.ai/api-reference/run#.stop). It will be stopped automatically only when the notebook kernel/interactive console is terminated.\n",
      "Shutting down background jobs, please wait a moment...\n",
      "Done!\n"
     ]
    },
    {
     "name": "stderr",
     "output_type": "stream",
     "text": [
      "Waiting for the remaining 13 operations to synchronize with Neptune. Do not kill this process.\n"
     ]
    },
    {
     "name": "stdout",
     "output_type": "stream",
     "text": [
      "All 13 operations synced, thanks for waiting!\n",
      "https://app.neptune.ai/guilhermemg/icao-nets-training-2/e/ICAO-179\n",
      "Remember to stop your run once you’ve finished logging your metadata (https://docs.neptune.ai/api-reference/run#.stop). It will be stopped automatically only when the notebook kernel/interactive console is terminated.\n",
      "Shutting down background jobs, please wait a moment...\n",
      "Done!\n"
     ]
    },
    {
     "name": "stderr",
     "output_type": "stream",
     "text": [
      "Waiting for the remaining 13 operations to synchronize with Neptune. Do not kill this process.\n"
     ]
    },
    {
     "name": "stdout",
     "output_type": "stream",
     "text": [
      "All 13 operations synced, thanks for waiting!\n",
      "https://app.neptune.ai/guilhermemg/icao-nets-training-2/e/ICAO-173\n",
      "Remember to stop your run once you’ve finished logging your metadata (https://docs.neptune.ai/api-reference/run#.stop). It will be stopped automatically only when the notebook kernel/interactive console is terminated.\n",
      "Shutting down background jobs, please wait a moment...\n",
      "Done!\n"
     ]
    },
    {
     "name": "stderr",
     "output_type": "stream",
     "text": [
      "Waiting for the remaining 13 operations to synchronize with Neptune. Do not kill this process.\n"
     ]
    },
    {
     "name": "stdout",
     "output_type": "stream",
     "text": [
      "All 13 operations synced, thanks for waiting!\n",
      "https://app.neptune.ai/guilhermemg/icao-nets-training-2/e/ICAO-184\n",
      "Remember to stop your run once you’ve finished logging your metadata (https://docs.neptune.ai/api-reference/run#.stop). It will be stopped automatically only when the notebook kernel/interactive console is terminated.\n",
      "Shutting down background jobs, please wait a moment...\n",
      "Done!\n"
     ]
    },
    {
     "name": "stderr",
     "output_type": "stream",
     "text": [
      "Waiting for the remaining 13 operations to synchronize with Neptune. Do not kill this process.\n"
     ]
    },
    {
     "name": "stdout",
     "output_type": "stream",
     "text": [
      "All 13 operations synced, thanks for waiting!\n",
      "https://app.neptune.ai/guilhermemg/icao-nets-training-2/e/ICAO-186\n",
      "Remember to stop your run once you’ve finished logging your metadata (https://docs.neptune.ai/api-reference/run#.stop). It will be stopped automatically only when the notebook kernel/interactive console is terminated.\n",
      "Shutting down background jobs, please wait a moment...\n",
      "Done!\n"
     ]
    },
    {
     "name": "stderr",
     "output_type": "stream",
     "text": [
      "Waiting for the remaining 13 operations to synchronize with Neptune. Do not kill this process.\n"
     ]
    },
    {
     "name": "stdout",
     "output_type": "stream",
     "text": [
      "All 13 operations synced, thanks for waiting!\n",
      "https://app.neptune.ai/guilhermemg/icao-nets-training-2/e/ICAO-176\n",
      "Remember to stop your run once you’ve finished logging your metadata (https://docs.neptune.ai/api-reference/run#.stop). It will be stopped automatically only when the notebook kernel/interactive console is terminated.\n",
      "Shutting down background jobs, please wait a moment...\n",
      "Done!\n"
     ]
    },
    {
     "name": "stderr",
     "output_type": "stream",
     "text": [
      "Waiting for the remaining 13 operations to synchronize with Neptune. Do not kill this process.\n"
     ]
    },
    {
     "name": "stdout",
     "output_type": "stream",
     "text": [
      "All 13 operations synced, thanks for waiting!\n",
      "https://app.neptune.ai/guilhermemg/icao-nets-training-2/e/ICAO-177\n",
      "Remember to stop your run once you’ve finished logging your metadata (https://docs.neptune.ai/api-reference/run#.stop). It will be stopped automatically only when the notebook kernel/interactive console is terminated.\n",
      "Shutting down background jobs, please wait a moment...\n",
      "Done!\n"
     ]
    },
    {
     "name": "stderr",
     "output_type": "stream",
     "text": [
      "Waiting for the remaining 13 operations to synchronize with Neptune. Do not kill this process.\n"
     ]
    },
    {
     "name": "stdout",
     "output_type": "stream",
     "text": [
      "All 13 operations synced, thanks for waiting!\n",
      "https://app.neptune.ai/guilhermemg/icao-nets-training-2/e/ICAO-172\n",
      "Remember to stop your run once you’ve finished logging your metadata (https://docs.neptune.ai/api-reference/run#.stop). It will be stopped automatically only when the notebook kernel/interactive console is terminated.\n",
      "Shutting down background jobs, please wait a moment...\n",
      "Done!\n"
     ]
    },
    {
     "name": "stderr",
     "output_type": "stream",
     "text": [
      "Waiting for the remaining 13 operations to synchronize with Neptune. Do not kill this process.\n"
     ]
    },
    {
     "name": "stdout",
     "output_type": "stream",
     "text": [
      "All 13 operations synced, thanks for waiting!\n",
      "https://app.neptune.ai/guilhermemg/icao-nets-training-2/e/ICAO-167\n",
      "Remember to stop your run once you’ve finished logging your metadata (https://docs.neptune.ai/api-reference/run#.stop). It will be stopped automatically only when the notebook kernel/interactive console is terminated.\n",
      "Shutting down background jobs, please wait a moment...\n",
      "Done!\n"
     ]
    },
    {
     "name": "stderr",
     "output_type": "stream",
     "text": [
      "Waiting for the remaining 13 operations to synchronize with Neptune. Do not kill this process.\n"
     ]
    },
    {
     "name": "stdout",
     "output_type": "stream",
     "text": [
      "All 13 operations synced, thanks for waiting!\n",
      "https://app.neptune.ai/guilhermemg/icao-nets-training-2/e/ICAO-175\n",
      "Remember to stop your run once you’ve finished logging your metadata (https://docs.neptune.ai/api-reference/run#.stop). It will be stopped automatically only when the notebook kernel/interactive console is terminated.\n",
      "Shutting down background jobs, please wait a moment...\n",
      "Done!\n"
     ]
    },
    {
     "name": "stderr",
     "output_type": "stream",
     "text": [
      "Waiting for the remaining 13 operations to synchronize with Neptune. Do not kill this process.\n"
     ]
    },
    {
     "name": "stdout",
     "output_type": "stream",
     "text": [
      "All 13 operations synced, thanks for waiting!\n",
      "https://app.neptune.ai/guilhermemg/icao-nets-training-2/e/ICAO-166\n",
      "Remember to stop your run once you’ve finished logging your metadata (https://docs.neptune.ai/api-reference/run#.stop). It will be stopped automatically only when the notebook kernel/interactive console is terminated.\n",
      "Shutting down background jobs, please wait a moment...\n",
      "Done!\n"
     ]
    },
    {
     "name": "stderr",
     "output_type": "stream",
     "text": [
      "Waiting for the remaining 13 operations to synchronize with Neptune. Do not kill this process.\n"
     ]
    },
    {
     "name": "stdout",
     "output_type": "stream",
     "text": [
      "All 13 operations synced, thanks for waiting!\n",
      "https://app.neptune.ai/guilhermemg/icao-nets-training-2/e/ICAO-181\n",
      "Remember to stop your run once you’ve finished logging your metadata (https://docs.neptune.ai/api-reference/run#.stop). It will be stopped automatically only when the notebook kernel/interactive console is terminated.\n",
      "Shutting down background jobs, please wait a moment...\n",
      "Done!\n"
     ]
    },
    {
     "name": "stderr",
     "output_type": "stream",
     "text": [
      "Waiting for the remaining 13 operations to synchronize with Neptune. Do not kill this process.\n"
     ]
    },
    {
     "name": "stdout",
     "output_type": "stream",
     "text": [
      "All 13 operations synced, thanks for waiting!\n",
      "https://app.neptune.ai/guilhermemg/icao-nets-training-2/e/ICAO-164\n",
      "Remember to stop your run once you’ve finished logging your metadata (https://docs.neptune.ai/api-reference/run#.stop). It will be stopped automatically only when the notebook kernel/interactive console is terminated.\n",
      "Shutting down background jobs, please wait a moment...\n",
      "Done!\n"
     ]
    },
    {
     "name": "stderr",
     "output_type": "stream",
     "text": [
      "Waiting for the remaining 13 operations to synchronize with Neptune. Do not kill this process.\n"
     ]
    },
    {
     "name": "stdout",
     "output_type": "stream",
     "text": [
      "All 13 operations synced, thanks for waiting!\n",
      "https://app.neptune.ai/guilhermemg/icao-nets-training-2/e/ICAO-165\n",
      "Remember to stop your run once you’ve finished logging your metadata (https://docs.neptune.ai/api-reference/run#.stop). It will be stopped automatically only when the notebook kernel/interactive console is terminated.\n",
      "Shutting down background jobs, please wait a moment...\n",
      "Done!\n"
     ]
    },
    {
     "name": "stderr",
     "output_type": "stream",
     "text": [
      "Waiting for the remaining 13 operations to synchronize with Neptune. Do not kill this process.\n"
     ]
    },
    {
     "name": "stdout",
     "output_type": "stream",
     "text": [
      "All 13 operations synced, thanks for waiting!\n",
      "https://app.neptune.ai/guilhermemg/icao-nets-training-2/e/ICAO-183\n",
      "Remember to stop your run once you’ve finished logging your metadata (https://docs.neptune.ai/api-reference/run#.stop). It will be stopped automatically only when the notebook kernel/interactive console is terminated.\n",
      "Shutting down background jobs, please wait a moment...\n",
      "Done!\n"
     ]
    },
    {
     "name": "stderr",
     "output_type": "stream",
     "text": [
      "Waiting for the remaining 13 operations to synchronize with Neptune. Do not kill this process.\n"
     ]
    },
    {
     "name": "stdout",
     "output_type": "stream",
     "text": [
      "All 13 operations synced, thanks for waiting!\n",
      "https://app.neptune.ai/guilhermemg/icao-nets-training-2/e/ICAO-171\n",
      "Remember to stop your run once you’ve finished logging your metadata (https://docs.neptune.ai/api-reference/run#.stop). It will be stopped automatically only when the notebook kernel/interactive console is terminated.\n",
      "Shutting down background jobs, please wait a moment...\n",
      "Done!\n"
     ]
    },
    {
     "name": "stderr",
     "output_type": "stream",
     "text": [
      "Waiting for the remaining 13 operations to synchronize with Neptune. Do not kill this process.\n"
     ]
    },
    {
     "name": "stdout",
     "output_type": "stream",
     "text": [
      "All 13 operations synced, thanks for waiting!\n"
     ]
    }
   ],
   "source": [
    "list_exp_ids = [f'ICAO-{x}' for x in [169, 170, 174, \n",
    "                                      168, 185, 178, \n",
    "                                      179, 173, 184, \n",
    "                                      186, 176, 177, \n",
    "                                      172, 167, 175, \n",
    "                                      166, 181, 164, \n",
    "                                      165, 183, 171]]\n",
    "\n",
    "for idexp in list_exp_ids:\n",
    "    run = neptune.init(project='guilhermemg/icao-nets-training-2', \n",
    "                                        api_token=config.NEPTUNE_API_TOKEN,\n",
    "                                        run=idexp)\n",
    "\n",
    "    run['metrics/validation/EER_mean'] = float(run['metrics/validation/EER_mean'].fetch() * 100)\n",
    "    run['metrics/validation/EER_interp'] = float(run['metrics/validation/EER_interp'].fetch()) * 100\n",
    "    run['metrics/validation/ACC'] = float(run['metrics/validation/ACC'].fetch()) * 100\n",
    "    run['metrics/test/EER_mean'] = float(run['metrics/test/EER_mean'].fetch()) * 100\n",
    "    run['metrics/test/EER_interp'] = float(run['metrics/test/EER_interp'].fetch()) * 100\n",
    "    run['metrics/test/ACC'] = float(run['metrics/test/ACC'].fetch()) * 100\n",
    "\n",
    "    run.stop()"
   ]
  },
  {
   "cell_type": "markdown",
   "id": "ad819c35-5a0c-40dd-a7be-242145987093",
   "metadata": {},
   "source": [
    "# Utilitary Functions"
   ]
  },
  {
   "cell_type": "code",
   "execution_count": 3,
   "id": "a0b4ab58-fe92-471a-a088-e851528aa7f5",
   "metadata": {
    "tags": []
   },
   "outputs": [],
   "source": [
    "def calculate_metric(exp_id, metric_name):\n",
    "    print(f'Calculating final_{metric_name} for Experiment {exp_id}')\n",
    "    try:\n",
    "        neptune_proj = None\n",
    "        neptune_proj = neptune.init(project='guilhermemg/icao-nets-training-2', \n",
    "                                    api_token=config.NEPTUNE_API_TOKEN,\n",
    "                                    run=exp_id)\n",
    "        \n",
    "        final_metric_vals_valid = []\n",
    "        final_metric_vals_test = []\n",
    "        \n",
    "        new_metric_name = None\n",
    "        if metric_name == 'EER_median':\n",
    "            new_metric_name = 'EER_mean'\n",
    "        else:\n",
    "            new_metric_name = metric_name\n",
    "        \n",
    "        for req in tqdm(list(cts.ICAO_REQ)):\n",
    "            if req.value != cts.ICAO_REQ.INK_MARK.value:\n",
    "                final_metric_vals_valid.append(float(neptune_proj[f'metrics/validation/{req.value}/{new_metric_name}'].fetch()))\n",
    "                final_metric_vals_test.append(float(neptune_proj[f'metrics/test/{req.value}/{new_metric_name}'].fetch()))\n",
    "\n",
    "        if metric_name in ['ACC','EER_mean']:\n",
    "            final_metric_val_valid = round(statistics.mean(final_metric_vals_valid)*100, 2)\n",
    "            final_metric_val_test = round(statistics.mean(final_metric_vals_test)*100, 2)\n",
    "        elif metric_name in ['EER_median']:\n",
    "            final_metric_val_valid = round(statistics.median(final_metric_vals_valid)*100, 2)\n",
    "            final_metric_val_test = round(statistics.median(final_metric_vals_test)*100, 2)\n",
    "\n",
    "        print(f'ExpID: {exp_id}')\n",
    "        print(f'final_{metric_name}_valid: {final_metric_val_valid}%')\n",
    "        print(f'final_{metric_name}_test: {final_metric_val_test}%')\n",
    "\n",
    "        neptune_proj[f'metrics/validation/final_{metric_name}'] = final_metric_val_valid\n",
    "        neptune_proj[f'metrics/test/final_{metric_name}'] = final_metric_val_test\n",
    "        \n",
    "    except Exception as e:\n",
    "        raise e\n",
    "    \n",
    "    finally:\n",
    "        if neptune_proj is not None:\n",
    "            neptune_proj.stop() "
   ]
  },
  {
   "cell_type": "markdown",
   "id": "01a53b0e-83a7-4445-970b-c2a42691e12d",
   "metadata": {},
   "source": [
    "# MTL Handcrafted 1"
   ]
  },
  {
   "cell_type": "markdown",
   "id": "49bb726d-85e2-4a5a-abb4-3a6272ac964d",
   "metadata": {},
   "source": [
    "## ICAO-192"
   ]
  },
  {
   "cell_type": "code",
   "execution_count": 18,
   "id": "529e875e-5864-4ddf-bf27-e5c63ff94673",
   "metadata": {
    "collapsed": true,
    "jupyter": {
     "outputs_hidden": true
    },
    "tags": []
   },
   "outputs": [
    {
     "name": "stdout",
     "output_type": "stream",
     "text": [
      "Calculating final_EER_mean for Experiment ICAO-192\n",
      "https://app.neptune.ai/guilhermemg/icao-nets-training-2/e/ICAO-192\n",
      "Remember to stop your run once you’ve finished logging your metadata (https://docs.neptune.ai/api-reference/run#.stop). It will be stopped automatically only when the notebook kernel/interactive console is terminated.\n"
     ]
    },
    {
     "name": "stderr",
     "output_type": "stream",
     "text": [
      "100%|███████████████████████████████████████████████████████████████████| 23/23 [00:13<00:00,  1.75it/s]"
     ]
    },
    {
     "name": "stdout",
     "output_type": "stream",
     "text": [
      "ExpID: ICAO-192\n",
      "final_EER_mean_valid: 12.75%\n",
      "final_EER_mean_test: 14.48%\n",
      "Shutting down background jobs, please wait a moment...\n"
     ]
    },
    {
     "name": "stderr",
     "output_type": "stream",
     "text": [
      "\n"
     ]
    },
    {
     "name": "stdout",
     "output_type": "stream",
     "text": [
      "Done!\n"
     ]
    },
    {
     "name": "stderr",
     "output_type": "stream",
     "text": [
      "Waiting for the remaining 16 operations to synchronize with Neptune. Do not kill this process.\n"
     ]
    },
    {
     "name": "stdout",
     "output_type": "stream",
     "text": [
      "All 16 operations synced, thanks for waiting!\n",
      "Calculating final_ACC for Experiment ICAO-192\n",
      "https://app.neptune.ai/guilhermemg/icao-nets-training-2/e/ICAO-192\n",
      "Remember to stop your run once you’ve finished logging your metadata (https://docs.neptune.ai/api-reference/run#.stop). It will be stopped automatically only when the notebook kernel/interactive console is terminated.\n"
     ]
    },
    {
     "name": "stderr",
     "output_type": "stream",
     "text": [
      "100%|███████████████████████████████████████████████████████████████████| 23/23 [00:12<00:00,  1.87it/s]"
     ]
    },
    {
     "name": "stdout",
     "output_type": "stream",
     "text": [
      "ExpID: ICAO-192\n",
      "final_ACC_valid: 86.84%\n",
      "final_ACC_test: 87.75%\n",
      "Shutting down background jobs, please wait a moment...\n"
     ]
    },
    {
     "name": "stderr",
     "output_type": "stream",
     "text": [
      "\n"
     ]
    },
    {
     "name": "stdout",
     "output_type": "stream",
     "text": [
      "Done!\n"
     ]
    },
    {
     "name": "stderr",
     "output_type": "stream",
     "text": [
      "Waiting for the remaining 16 operations to synchronize with Neptune. Do not kill this process.\n"
     ]
    },
    {
     "name": "stdout",
     "output_type": "stream",
     "text": [
      "All 16 operations synced, thanks for waiting!\n",
      "Calculating final_EER_median for Experiment ICAO-192\n",
      "https://app.neptune.ai/guilhermemg/icao-nets-training-2/e/ICAO-192\n",
      "Remember to stop your run once you’ve finished logging your metadata (https://docs.neptune.ai/api-reference/run#.stop). It will be stopped automatically only when the notebook kernel/interactive console is terminated.\n"
     ]
    },
    {
     "name": "stderr",
     "output_type": "stream",
     "text": [
      "100%|███████████████████████████████████████████████████████████████████| 23/23 [00:11<00:00,  1.95it/s]"
     ]
    },
    {
     "name": "stdout",
     "output_type": "stream",
     "text": [
      "ExpID: ICAO-192\n",
      "final_EER_median_valid: 13.54%\n",
      "final_EER_median_test: 13.91%\n",
      "Shutting down background jobs, please wait a moment...\n"
     ]
    },
    {
     "name": "stderr",
     "output_type": "stream",
     "text": [
      "\n"
     ]
    },
    {
     "name": "stdout",
     "output_type": "stream",
     "text": [
      "Done!\n"
     ]
    },
    {
     "name": "stderr",
     "output_type": "stream",
     "text": [
      "Waiting for the remaining 15 operations to synchronize with Neptune. Do not kill this process.\n"
     ]
    },
    {
     "name": "stdout",
     "output_type": "stream",
     "text": [
      "All 15 operations synced, thanks for waiting!\n"
     ]
    }
   ],
   "source": [
    "calculate_metric('ICAO-192', 'EER_mean')\n",
    "calculate_metric('ICAO-192', 'ACC')\n",
    "calculate_metric('ICAO-192', 'EER_median')"
   ]
  },
  {
   "cell_type": "markdown",
   "id": "b5295c92-0fe2-4d3c-bfea-6ef52dcf95e7",
   "metadata": {},
   "source": [
    "## ICAO-199"
   ]
  },
  {
   "cell_type": "code",
   "execution_count": 19,
   "id": "1c1bb6b2-c22f-453c-896e-031cec32f628",
   "metadata": {
    "collapsed": true,
    "jupyter": {
     "outputs_hidden": true
    },
    "tags": []
   },
   "outputs": [
    {
     "name": "stdout",
     "output_type": "stream",
     "text": [
      "Calculating final_EER_mean for Experiment ICAO-199\n",
      "https://app.neptune.ai/guilhermemg/icao-nets-training-2/e/ICAO-199\n",
      "Remember to stop your run once you’ve finished logging your metadata (https://docs.neptune.ai/api-reference/run#.stop). It will be stopped automatically only when the notebook kernel/interactive console is terminated.\n"
     ]
    },
    {
     "name": "stderr",
     "output_type": "stream",
     "text": [
      "100%|███████████████████████████████████████████████████████████████████| 23/23 [00:12<00:00,  1.82it/s]"
     ]
    },
    {
     "name": "stdout",
     "output_type": "stream",
     "text": [
      "ExpID: ICAO-199\n",
      "final_EER_mean_valid: 24.09%\n",
      "final_EER_mean_test: 24.15%\n",
      "Shutting down background jobs, please wait a moment...\n"
     ]
    },
    {
     "name": "stderr",
     "output_type": "stream",
     "text": [
      "\n"
     ]
    },
    {
     "name": "stdout",
     "output_type": "stream",
     "text": [
      "Done!\n"
     ]
    },
    {
     "name": "stderr",
     "output_type": "stream",
     "text": [
      "Waiting for the remaining 15 operations to synchronize with Neptune. Do not kill this process.\n"
     ]
    },
    {
     "name": "stdout",
     "output_type": "stream",
     "text": [
      "All 15 operations synced, thanks for waiting!\n",
      "Calculating final_ACC for Experiment ICAO-199\n",
      "https://app.neptune.ai/guilhermemg/icao-nets-training-2/e/ICAO-199\n",
      "Remember to stop your run once you’ve finished logging your metadata (https://docs.neptune.ai/api-reference/run#.stop). It will be stopped automatically only when the notebook kernel/interactive console is terminated.\n"
     ]
    },
    {
     "name": "stderr",
     "output_type": "stream",
     "text": [
      "100%|███████████████████████████████████████████████████████████████████| 23/23 [00:12<00:00,  1.77it/s]"
     ]
    },
    {
     "name": "stdout",
     "output_type": "stream",
     "text": [
      "ExpID: ICAO-199\n",
      "final_ACC_valid: 75.36%\n",
      "final_ACC_test: 75.24%\n",
      "Shutting down background jobs, please wait a moment...\n"
     ]
    },
    {
     "name": "stderr",
     "output_type": "stream",
     "text": [
      "\n"
     ]
    },
    {
     "name": "stdout",
     "output_type": "stream",
     "text": [
      "Done!\n"
     ]
    },
    {
     "name": "stderr",
     "output_type": "stream",
     "text": [
      "Waiting for the remaining 17 operations to synchronize with Neptune. Do not kill this process.\n"
     ]
    },
    {
     "name": "stdout",
     "output_type": "stream",
     "text": [
      "All 17 operations synced, thanks for waiting!\n",
      "Calculating final_EER_median for Experiment ICAO-199\n",
      "https://app.neptune.ai/guilhermemg/icao-nets-training-2/e/ICAO-199\n",
      "Remember to stop your run once you’ve finished logging your metadata (https://docs.neptune.ai/api-reference/run#.stop). It will be stopped automatically only when the notebook kernel/interactive console is terminated.\n"
     ]
    },
    {
     "name": "stderr",
     "output_type": "stream",
     "text": [
      "100%|███████████████████████████████████████████████████████████████████| 23/23 [00:12<00:00,  1.85it/s]"
     ]
    },
    {
     "name": "stdout",
     "output_type": "stream",
     "text": [
      "ExpID: ICAO-199\n",
      "final_EER_median_valid: 24.62%\n",
      "final_EER_median_test: 22.18%\n",
      "Shutting down background jobs, please wait a moment...\n"
     ]
    },
    {
     "name": "stderr",
     "output_type": "stream",
     "text": [
      "\n"
     ]
    },
    {
     "name": "stdout",
     "output_type": "stream",
     "text": [
      "Done!\n"
     ]
    },
    {
     "name": "stderr",
     "output_type": "stream",
     "text": [
      "Waiting for the remaining 16 operations to synchronize with Neptune. Do not kill this process.\n"
     ]
    },
    {
     "name": "stdout",
     "output_type": "stream",
     "text": [
      "All 16 operations synced, thanks for waiting!\n"
     ]
    }
   ],
   "source": [
    "calculate_metric('ICAO-199', 'EER_mean')\n",
    "calculate_metric('ICAO-199', 'ACC')\n",
    "calculate_metric('ICAO-199', 'EER_median')"
   ]
  },
  {
   "cell_type": "markdown",
   "id": "874c6782-196b-4eda-a350-20b57f3935ee",
   "metadata": {},
   "source": [
    "## ICAO-204"
   ]
  },
  {
   "cell_type": "code",
   "execution_count": 20,
   "id": "249dca95-f58b-41c8-9615-e9914827974b",
   "metadata": {
    "collapsed": true,
    "jupyter": {
     "outputs_hidden": true
    },
    "tags": []
   },
   "outputs": [
    {
     "name": "stdout",
     "output_type": "stream",
     "text": [
      "Calculating final_EER_mean for Experiment ICAO-204\n",
      "https://app.neptune.ai/guilhermemg/icao-nets-training-2/e/ICAO-204\n",
      "Remember to stop your run once you’ve finished logging your metadata (https://docs.neptune.ai/api-reference/run#.stop). It will be stopped automatically only when the notebook kernel/interactive console is terminated.\n"
     ]
    },
    {
     "name": "stderr",
     "output_type": "stream",
     "text": [
      "100%|███████████████████████████████████████████████████████████████████| 23/23 [00:11<00:00,  1.95it/s]"
     ]
    },
    {
     "name": "stdout",
     "output_type": "stream",
     "text": [
      "ExpID: ICAO-204\n",
      "final_EER_mean_valid: 17.21%\n",
      "final_EER_mean_test: 11.87%\n",
      "Shutting down background jobs, please wait a moment...\n"
     ]
    },
    {
     "name": "stderr",
     "output_type": "stream",
     "text": [
      "\n"
     ]
    },
    {
     "name": "stdout",
     "output_type": "stream",
     "text": [
      "Done!\n"
     ]
    },
    {
     "name": "stderr",
     "output_type": "stream",
     "text": [
      "Waiting for the remaining 14 operations to synchronize with Neptune. Do not kill this process.\n"
     ]
    },
    {
     "name": "stdout",
     "output_type": "stream",
     "text": [
      "All 14 operations synced, thanks for waiting!\n",
      "Calculating final_ACC for Experiment ICAO-204\n",
      "https://app.neptune.ai/guilhermemg/icao-nets-training-2/e/ICAO-204\n",
      "Remember to stop your run once you’ve finished logging your metadata (https://docs.neptune.ai/api-reference/run#.stop). It will be stopped automatically only when the notebook kernel/interactive console is terminated.\n"
     ]
    },
    {
     "name": "stderr",
     "output_type": "stream",
     "text": [
      "100%|███████████████████████████████████████████████████████████████████| 23/23 [00:11<00:00,  1.95it/s]"
     ]
    },
    {
     "name": "stdout",
     "output_type": "stream",
     "text": [
      "ExpID: ICAO-204\n",
      "final_ACC_valid: 84.74%\n",
      "final_ACC_test: 89.98%\n",
      "Shutting down background jobs, please wait a moment...\n"
     ]
    },
    {
     "name": "stderr",
     "output_type": "stream",
     "text": [
      "\n"
     ]
    },
    {
     "name": "stdout",
     "output_type": "stream",
     "text": [
      "Done!\n"
     ]
    },
    {
     "name": "stderr",
     "output_type": "stream",
     "text": [
      "Waiting for the remaining 15 operations to synchronize with Neptune. Do not kill this process.\n"
     ]
    },
    {
     "name": "stdout",
     "output_type": "stream",
     "text": [
      "All 15 operations synced, thanks for waiting!\n",
      "Calculating final_EER_median for Experiment ICAO-204\n",
      "https://app.neptune.ai/guilhermemg/icao-nets-training-2/e/ICAO-204\n",
      "Remember to stop your run once you’ve finished logging your metadata (https://docs.neptune.ai/api-reference/run#.stop). It will be stopped automatically only when the notebook kernel/interactive console is terminated.\n"
     ]
    },
    {
     "name": "stderr",
     "output_type": "stream",
     "text": [
      "100%|███████████████████████████████████████████████████████████████████| 23/23 [00:12<00:00,  1.86it/s]"
     ]
    },
    {
     "name": "stdout",
     "output_type": "stream",
     "text": [
      "ExpID: ICAO-204\n",
      "final_EER_median_valid: 13.38%\n",
      "final_EER_median_test: 7.95%\n",
      "Shutting down background jobs, please wait a moment...\n"
     ]
    },
    {
     "name": "stderr",
     "output_type": "stream",
     "text": [
      "\n"
     ]
    },
    {
     "name": "stdout",
     "output_type": "stream",
     "text": [
      "Done!\n"
     ]
    },
    {
     "name": "stderr",
     "output_type": "stream",
     "text": [
      "Waiting for the remaining 16 operations to synchronize with Neptune. Do not kill this process.\n"
     ]
    },
    {
     "name": "stdout",
     "output_type": "stream",
     "text": [
      "All 16 operations synced, thanks for waiting!\n"
     ]
    }
   ],
   "source": [
    "calculate_metric('ICAO-204', 'EER_mean')\n",
    "calculate_metric('ICAO-204', 'ACC')\n",
    "calculate_metric('ICAO-204', 'EER_median')"
   ]
  },
  {
   "cell_type": "markdown",
   "id": "3e68c603-1a1e-4b78-9532-95d5f39accbe",
   "metadata": {},
   "source": [
    "# MTL Handcrafted 2"
   ]
  },
  {
   "cell_type": "markdown",
   "id": "715cac38-99c7-4801-8558-d1d6e5b50761",
   "metadata": {
    "jupyter": {
     "outputs_hidden": true
    },
    "tags": []
   },
   "source": [
    "## ICAO-228"
   ]
  },
  {
   "cell_type": "code",
   "execution_count": 11,
   "id": "9205b5c4-3584-4261-9864-e93dec19923e",
   "metadata": {
    "collapsed": true,
    "jupyter": {
     "outputs_hidden": true
    },
    "tags": []
   },
   "outputs": [
    {
     "name": "stdout",
     "output_type": "stream",
     "text": [
      "Calculating final_EER_mean for Experiment ICAO-228\n",
      "https://app.neptune.ai/guilhermemg/icao-nets-training-2/e/ICAO-228\n",
      "Remember to stop your run once you’ve finished logging your metadata (https://docs.neptune.ai/api-reference/run#.stop). It will be stopped automatically only when the notebook kernel/interactive console is terminated.\n"
     ]
    },
    {
     "name": "stderr",
     "output_type": "stream",
     "text": [
      "100%|███████████████████████████████████████████████████████████████████| 23/23 [00:12<00:00,  1.84it/s]"
     ]
    },
    {
     "name": "stdout",
     "output_type": "stream",
     "text": [
      "ExpID: ICAO-228\n",
      "final_EER_mean_valid: 9.61%\n",
      "final_EER_mean_test: 16.75%\n",
      "Shutting down background jobs, please wait a moment...\n"
     ]
    },
    {
     "name": "stderr",
     "output_type": "stream",
     "text": [
      "\n"
     ]
    },
    {
     "name": "stdout",
     "output_type": "stream",
     "text": [
      "Done!\n"
     ]
    },
    {
     "name": "stderr",
     "output_type": "stream",
     "text": [
      "Waiting for the remaining 15 operations to synchronize with Neptune. Do not kill this process.\n"
     ]
    },
    {
     "name": "stdout",
     "output_type": "stream",
     "text": [
      "All 15 operations synced, thanks for waiting!\n",
      "Calculating final_ACC for Experiment ICAO-228\n",
      "https://app.neptune.ai/guilhermemg/icao-nets-training-2/e/ICAO-228\n",
      "Remember to stop your run once you’ve finished logging your metadata (https://docs.neptune.ai/api-reference/run#.stop). It will be stopped automatically only when the notebook kernel/interactive console is terminated.\n"
     ]
    },
    {
     "name": "stderr",
     "output_type": "stream",
     "text": [
      "100%|███████████████████████████████████████████████████████████████████| 23/23 [00:12<00:00,  1.86it/s]"
     ]
    },
    {
     "name": "stdout",
     "output_type": "stream",
     "text": [
      "ExpID: ICAO-228\n",
      "final_ACC_valid: 91.86%\n",
      "final_ACC_test: 90.96%\n",
      "Shutting down background jobs, please wait a moment...\n"
     ]
    },
    {
     "name": "stderr",
     "output_type": "stream",
     "text": [
      "\n"
     ]
    },
    {
     "name": "stdout",
     "output_type": "stream",
     "text": [
      "Done!\n"
     ]
    },
    {
     "name": "stderr",
     "output_type": "stream",
     "text": [
      "Waiting for the remaining 16 operations to synchronize with Neptune. Do not kill this process.\n"
     ]
    },
    {
     "name": "stdout",
     "output_type": "stream",
     "text": [
      "All 16 operations synced, thanks for waiting!\n",
      "Calculating final_EER_median for Experiment ICAO-228\n",
      "https://app.neptune.ai/guilhermemg/icao-nets-training-2/e/ICAO-228\n",
      "Remember to stop your run once you’ve finished logging your metadata (https://docs.neptune.ai/api-reference/run#.stop). It will be stopped automatically only when the notebook kernel/interactive console is terminated.\n"
     ]
    },
    {
     "name": "stderr",
     "output_type": "stream",
     "text": [
      "100%|███████████████████████████████████████████████████████████████████| 23/23 [00:12<00:00,  1.87it/s]"
     ]
    },
    {
     "name": "stdout",
     "output_type": "stream",
     "text": [
      "ExpID: ICAO-228\n",
      "final_EER_median_valid: 5.62%\n",
      "final_EER_median_test: 9.19%\n",
      "Shutting down background jobs, please wait a moment...\n"
     ]
    },
    {
     "name": "stderr",
     "output_type": "stream",
     "text": [
      "\n"
     ]
    },
    {
     "name": "stdout",
     "output_type": "stream",
     "text": [
      "Done!\n"
     ]
    },
    {
     "name": "stderr",
     "output_type": "stream",
     "text": [
      "Waiting for the remaining 16 operations to synchronize with Neptune. Do not kill this process.\n"
     ]
    },
    {
     "name": "stdout",
     "output_type": "stream",
     "text": [
      "All 16 operations synced, thanks for waiting!\n"
     ]
    }
   ],
   "source": [
    "calculate_metric('ICAO-228', 'EER_mean')\n",
    "calculate_metric('ICAO-228', 'ACC')\n",
    "calculate_metric('ICAO-228', 'EER_median')"
   ]
  },
  {
   "cell_type": "markdown",
   "id": "fd2d42b3-b7b5-4a19-a68e-ae45b0bd6eaf",
   "metadata": {
    "jupyter": {
     "outputs_hidden": true
    },
    "tags": []
   },
   "source": [
    "## ICAO-239"
   ]
  },
  {
   "cell_type": "code",
   "execution_count": 12,
   "id": "3eef8d14-38c7-481e-a55b-eb944472de65",
   "metadata": {
    "collapsed": true,
    "jupyter": {
     "outputs_hidden": true
    },
    "tags": []
   },
   "outputs": [
    {
     "name": "stdout",
     "output_type": "stream",
     "text": [
      "Calculating final_EER_mean for Experiment ICAO-239\n",
      "https://app.neptune.ai/guilhermemg/icao-nets-training-2/e/ICAO-239\n",
      "Remember to stop your run once you’ve finished logging your metadata (https://docs.neptune.ai/api-reference/run#.stop). It will be stopped automatically only when the notebook kernel/interactive console is terminated.\n"
     ]
    },
    {
     "name": "stderr",
     "output_type": "stream",
     "text": [
      "100%|███████████████████████████████████████████████████████████████████| 23/23 [00:11<00:00,  1.93it/s]"
     ]
    },
    {
     "name": "stdout",
     "output_type": "stream",
     "text": [
      "ExpID: ICAO-239\n",
      "final_EER_mean_valid: 9.7%\n",
      "final_EER_mean_test: 9.48%\n",
      "Shutting down background jobs, please wait a moment...\n"
     ]
    },
    {
     "name": "stderr",
     "output_type": "stream",
     "text": [
      "\n"
     ]
    },
    {
     "name": "stdout",
     "output_type": "stream",
     "text": [
      "Done!\n"
     ]
    },
    {
     "name": "stderr",
     "output_type": "stream",
     "text": [
      "Waiting for the remaining 29 operations to synchronize with Neptune. Do not kill this process.\n"
     ]
    },
    {
     "name": "stdout",
     "output_type": "stream",
     "text": [
      "All 29 operations synced, thanks for waiting!\n",
      "Calculating final_ACC for Experiment ICAO-239\n",
      "https://app.neptune.ai/guilhermemg/icao-nets-training-2/e/ICAO-239\n",
      "Remember to stop your run once you’ve finished logging your metadata (https://docs.neptune.ai/api-reference/run#.stop). It will be stopped automatically only when the notebook kernel/interactive console is terminated.\n"
     ]
    },
    {
     "name": "stderr",
     "output_type": "stream",
     "text": [
      "100%|███████████████████████████████████████████████████████████████████| 23/23 [00:12<00:00,  1.87it/s]"
     ]
    },
    {
     "name": "stdout",
     "output_type": "stream",
     "text": [
      "ExpID: ICAO-239\n",
      "final_ACC_valid: 92.87%\n",
      "final_ACC_test: 92.8%\n",
      "Shutting down background jobs, please wait a moment...\n"
     ]
    },
    {
     "name": "stderr",
     "output_type": "stream",
     "text": [
      "\n"
     ]
    },
    {
     "name": "stdout",
     "output_type": "stream",
     "text": [
      "Done!\n"
     ]
    },
    {
     "name": "stderr",
     "output_type": "stream",
     "text": [
      "Waiting for the remaining 16 operations to synchronize with Neptune. Do not kill this process.\n"
     ]
    },
    {
     "name": "stdout",
     "output_type": "stream",
     "text": [
      "All 16 operations synced, thanks for waiting!\n",
      "Calculating final_EER_median for Experiment ICAO-239\n",
      "https://app.neptune.ai/guilhermemg/icao-nets-training-2/e/ICAO-239\n",
      "Remember to stop your run once you’ve finished logging your metadata (https://docs.neptune.ai/api-reference/run#.stop). It will be stopped automatically only when the notebook kernel/interactive console is terminated.\n"
     ]
    },
    {
     "name": "stderr",
     "output_type": "stream",
     "text": [
      "100%|███████████████████████████████████████████████████████████████████| 23/23 [00:12<00:00,  1.91it/s]"
     ]
    },
    {
     "name": "stdout",
     "output_type": "stream",
     "text": [
      "ExpID: ICAO-239\n",
      "final_EER_median_valid: 6.34%\n",
      "final_EER_median_test: 5.07%\n",
      "Shutting down background jobs, please wait a moment...\n"
     ]
    },
    {
     "name": "stderr",
     "output_type": "stream",
     "text": [
      "\n"
     ]
    },
    {
     "name": "stdout",
     "output_type": "stream",
     "text": [
      "Done!\n"
     ]
    },
    {
     "name": "stderr",
     "output_type": "stream",
     "text": [
      "Waiting for the remaining 15 operations to synchronize with Neptune. Do not kill this process.\n"
     ]
    },
    {
     "name": "stdout",
     "output_type": "stream",
     "text": [
      "All 15 operations synced, thanks for waiting!\n"
     ]
    }
   ],
   "source": [
    "calculate_metric('ICAO-239', 'EER_mean')\n",
    "calculate_metric('ICAO-239', 'ACC')\n",
    "calculate_metric('ICAO-239', 'EER_median')"
   ]
  },
  {
   "cell_type": "markdown",
   "id": "79e00a7e-e0a4-4afb-988a-aa9693bf1ecd",
   "metadata": {
    "jupyter": {
     "outputs_hidden": true
    },
    "tags": []
   },
   "source": [
    "## ICAO-242"
   ]
  },
  {
   "cell_type": "code",
   "execution_count": 13,
   "id": "bae327f2-325c-4249-bbd0-78a63de4054a",
   "metadata": {
    "collapsed": true,
    "jupyter": {
     "outputs_hidden": true
    },
    "tags": []
   },
   "outputs": [
    {
     "name": "stdout",
     "output_type": "stream",
     "text": [
      "Calculating final_EER_mean for Experiment ICAO-242\n",
      "https://app.neptune.ai/guilhermemg/icao-nets-training-2/e/ICAO-242\n",
      "Remember to stop your run once you’ve finished logging your metadata (https://docs.neptune.ai/api-reference/run#.stop). It will be stopped automatically only when the notebook kernel/interactive console is terminated.\n"
     ]
    },
    {
     "name": "stderr",
     "output_type": "stream",
     "text": [
      "100%|███████████████████████████████████████████████████████████████████| 23/23 [00:11<00:00,  1.94it/s]"
     ]
    },
    {
     "name": "stdout",
     "output_type": "stream",
     "text": [
      "ExpID: ICAO-242\n",
      "final_EER_mean_valid: 7.54%\n",
      "final_EER_mean_test: 11.06%\n",
      "Shutting down background jobs, please wait a moment...\n"
     ]
    },
    {
     "name": "stderr",
     "output_type": "stream",
     "text": [
      "\n"
     ]
    },
    {
     "name": "stdout",
     "output_type": "stream",
     "text": [
      "Done!\n"
     ]
    },
    {
     "name": "stderr",
     "output_type": "stream",
     "text": [
      "Waiting for the remaining 29 operations to synchronize with Neptune. Do not kill this process.\n"
     ]
    },
    {
     "name": "stdout",
     "output_type": "stream",
     "text": [
      "All 29 operations synced, thanks for waiting!\n",
      "Calculating final_ACC for Experiment ICAO-242\n",
      "https://app.neptune.ai/guilhermemg/icao-nets-training-2/e/ICAO-242\n",
      "Remember to stop your run once you’ve finished logging your metadata (https://docs.neptune.ai/api-reference/run#.stop). It will be stopped automatically only when the notebook kernel/interactive console is terminated.\n"
     ]
    },
    {
     "name": "stderr",
     "output_type": "stream",
     "text": [
      "100%|███████████████████████████████████████████████████████████████████| 23/23 [00:12<00:00,  1.79it/s]"
     ]
    },
    {
     "name": "stdout",
     "output_type": "stream",
     "text": [
      "ExpID: ICAO-242\n",
      "final_ACC_valid: 91.78%\n",
      "final_ACC_test: 93.42%\n",
      "Shutting down background jobs, please wait a moment...\n"
     ]
    },
    {
     "name": "stderr",
     "output_type": "stream",
     "text": [
      "\n"
     ]
    },
    {
     "name": "stdout",
     "output_type": "stream",
     "text": [
      "Done!\n"
     ]
    },
    {
     "name": "stderr",
     "output_type": "stream",
     "text": [
      "Waiting for the remaining 15 operations to synchronize with Neptune. Do not kill this process.\n"
     ]
    },
    {
     "name": "stdout",
     "output_type": "stream",
     "text": [
      "All 15 operations synced, thanks for waiting!\n",
      "Calculating final_EER_median for Experiment ICAO-242\n",
      "https://app.neptune.ai/guilhermemg/icao-nets-training-2/e/ICAO-242\n",
      "Remember to stop your run once you’ve finished logging your metadata (https://docs.neptune.ai/api-reference/run#.stop). It will be stopped automatically only when the notebook kernel/interactive console is terminated.\n"
     ]
    },
    {
     "name": "stderr",
     "output_type": "stream",
     "text": [
      "100%|███████████████████████████████████████████████████████████████████| 23/23 [00:11<00:00,  1.92it/s]"
     ]
    },
    {
     "name": "stdout",
     "output_type": "stream",
     "text": [
      "ExpID: ICAO-242\n",
      "final_EER_median_valid: 6.94%\n",
      "final_EER_median_test: 6.49%\n",
      "Shutting down background jobs, please wait a moment...\n"
     ]
    },
    {
     "name": "stderr",
     "output_type": "stream",
     "text": [
      "\n"
     ]
    },
    {
     "name": "stdout",
     "output_type": "stream",
     "text": [
      "Done!\n"
     ]
    },
    {
     "name": "stderr",
     "output_type": "stream",
     "text": [
      "Waiting for the remaining 15 operations to synchronize with Neptune. Do not kill this process.\n"
     ]
    },
    {
     "name": "stdout",
     "output_type": "stream",
     "text": [
      "All 15 operations synced, thanks for waiting!\n"
     ]
    }
   ],
   "source": [
    "calculate_metric('ICAO-242', 'EER_mean')\n",
    "calculate_metric('ICAO-242', 'ACC')\n",
    "calculate_metric('ICAO-242', 'EER_median')"
   ]
  },
  {
   "cell_type": "markdown",
   "id": "a0110108-5e71-40b4-8b6b-ffe2b5f4942d",
   "metadata": {
    "jupyter": {
     "outputs_hidden": true
    },
    "tags": []
   },
   "source": [
    "## ICAO-238"
   ]
  },
  {
   "cell_type": "code",
   "execution_count": 14,
   "id": "e5756916-79d1-4dc5-8441-4c81ee73b7e3",
   "metadata": {
    "collapsed": true,
    "jupyter": {
     "outputs_hidden": true
    },
    "tags": []
   },
   "outputs": [
    {
     "name": "stdout",
     "output_type": "stream",
     "text": [
      "Calculating final_EER_mean for Experiment ICAO-238\n",
      "https://app.neptune.ai/guilhermemg/icao-nets-training-2/e/ICAO-238\n",
      "Remember to stop your run once you’ve finished logging your metadata (https://docs.neptune.ai/api-reference/run#.stop). It will be stopped automatically only when the notebook kernel/interactive console is terminated.\n"
     ]
    },
    {
     "name": "stderr",
     "output_type": "stream",
     "text": [
      "100%|███████████████████████████████████████████████████████████████████| 23/23 [00:12<00:00,  1.86it/s]"
     ]
    },
    {
     "name": "stdout",
     "output_type": "stream",
     "text": [
      "ExpID: ICAO-238\n",
      "final_EER_mean_valid: 9.81%\n",
      "final_EER_mean_test: 14.4%\n",
      "Shutting down background jobs, please wait a moment...\n"
     ]
    },
    {
     "name": "stderr",
     "output_type": "stream",
     "text": [
      "\n"
     ]
    },
    {
     "name": "stdout",
     "output_type": "stream",
     "text": [
      "Done!\n"
     ]
    },
    {
     "name": "stderr",
     "output_type": "stream",
     "text": [
      "Waiting for the remaining 14 operations to synchronize with Neptune. Do not kill this process.\n"
     ]
    },
    {
     "name": "stdout",
     "output_type": "stream",
     "text": [
      "All 14 operations synced, thanks for waiting!\n",
      "Calculating final_ACC for Experiment ICAO-238\n",
      "https://app.neptune.ai/guilhermemg/icao-nets-training-2/e/ICAO-238\n",
      "Remember to stop your run once you’ve finished logging your metadata (https://docs.neptune.ai/api-reference/run#.stop). It will be stopped automatically only when the notebook kernel/interactive console is terminated.\n"
     ]
    },
    {
     "name": "stderr",
     "output_type": "stream",
     "text": [
      "100%|███████████████████████████████████████████████████████████████████| 23/23 [00:11<00:00,  1.93it/s]"
     ]
    },
    {
     "name": "stdout",
     "output_type": "stream",
     "text": [
      "ExpID: ICAO-238\n",
      "final_ACC_valid: 91.75%\n",
      "final_ACC_test: 91.86%\n",
      "Shutting down background jobs, please wait a moment...\n"
     ]
    },
    {
     "name": "stderr",
     "output_type": "stream",
     "text": [
      "\n"
     ]
    },
    {
     "name": "stdout",
     "output_type": "stream",
     "text": [
      "Done!\n"
     ]
    },
    {
     "name": "stderr",
     "output_type": "stream",
     "text": [
      "Waiting for the remaining 14 operations to synchronize with Neptune. Do not kill this process.\n"
     ]
    },
    {
     "name": "stdout",
     "output_type": "stream",
     "text": [
      "All 14 operations synced, thanks for waiting!\n",
      "Calculating final_EER_median for Experiment ICAO-238\n",
      "https://app.neptune.ai/guilhermemg/icao-nets-training-2/e/ICAO-238\n",
      "Remember to stop your run once you’ve finished logging your metadata (https://docs.neptune.ai/api-reference/run#.stop). It will be stopped automatically only when the notebook kernel/interactive console is terminated.\n"
     ]
    },
    {
     "name": "stderr",
     "output_type": "stream",
     "text": [
      "100%|███████████████████████████████████████████████████████████████████| 23/23 [00:11<00:00,  1.93it/s]"
     ]
    },
    {
     "name": "stdout",
     "output_type": "stream",
     "text": [
      "ExpID: ICAO-238\n",
      "final_EER_median_valid: 5.92%\n",
      "final_EER_median_test: 10.01%\n",
      "Shutting down background jobs, please wait a moment...\n"
     ]
    },
    {
     "name": "stderr",
     "output_type": "stream",
     "text": [
      "\n"
     ]
    },
    {
     "name": "stdout",
     "output_type": "stream",
     "text": [
      "Done!\n"
     ]
    },
    {
     "name": "stderr",
     "output_type": "stream",
     "text": [
      "Waiting for the remaining 15 operations to synchronize with Neptune. Do not kill this process.\n"
     ]
    },
    {
     "name": "stdout",
     "output_type": "stream",
     "text": [
      "All 15 operations synced, thanks for waiting!\n"
     ]
    }
   ],
   "source": [
    "calculate_metric('ICAO-238', 'EER_mean')\n",
    "calculate_metric('ICAO-238', 'ACC')\n",
    "calculate_metric('ICAO-238', 'EER_median')"
   ]
  },
  {
   "cell_type": "markdown",
   "id": "e1da1b1f-576c-42ef-8039-9b9b72f39edb",
   "metadata": {
    "jupyter": {
     "outputs_hidden": true
    },
    "tags": []
   },
   "source": [
    "## ICAO-230"
   ]
  },
  {
   "cell_type": "code",
   "execution_count": 15,
   "id": "009bf80b-8d09-42a6-bfae-c8c99cc65de3",
   "metadata": {
    "collapsed": true,
    "jupyter": {
     "outputs_hidden": true
    },
    "tags": []
   },
   "outputs": [
    {
     "name": "stdout",
     "output_type": "stream",
     "text": [
      "Calculating final_EER_mean for Experiment ICAO-230\n",
      "https://app.neptune.ai/guilhermemg/icao-nets-training-2/e/ICAO-230\n",
      "Remember to stop your run once you’ve finished logging your metadata (https://docs.neptune.ai/api-reference/run#.stop). It will be stopped automatically only when the notebook kernel/interactive console is terminated.\n"
     ]
    },
    {
     "name": "stderr",
     "output_type": "stream",
     "text": [
      "100%|███████████████████████████████████████████████████████████████████| 23/23 [00:11<00:00,  1.94it/s]"
     ]
    },
    {
     "name": "stdout",
     "output_type": "stream",
     "text": [
      "ExpID: ICAO-230\n",
      "final_EER_mean_valid: 8.73%\n",
      "final_EER_mean_test: 10.05%\n",
      "Shutting down background jobs, please wait a moment...\n"
     ]
    },
    {
     "name": "stderr",
     "output_type": "stream",
     "text": [
      "\n"
     ]
    },
    {
     "name": "stdout",
     "output_type": "stream",
     "text": [
      "Done!\n"
     ]
    },
    {
     "name": "stderr",
     "output_type": "stream",
     "text": [
      "Waiting for the remaining 29 operations to synchronize with Neptune. Do not kill this process.\n"
     ]
    },
    {
     "name": "stdout",
     "output_type": "stream",
     "text": [
      "All 29 operations synced, thanks for waiting!\n",
      "Calculating final_ACC for Experiment ICAO-230\n",
      "https://app.neptune.ai/guilhermemg/icao-nets-training-2/e/ICAO-230\n",
      "Remember to stop your run once you’ve finished logging your metadata (https://docs.neptune.ai/api-reference/run#.stop). It will be stopped automatically only when the notebook kernel/interactive console is terminated.\n"
     ]
    },
    {
     "name": "stderr",
     "output_type": "stream",
     "text": [
      "100%|███████████████████████████████████████████████████████████████████| 23/23 [00:11<00:00,  1.93it/s]"
     ]
    },
    {
     "name": "stdout",
     "output_type": "stream",
     "text": [
      "ExpID: ICAO-230\n",
      "final_ACC_valid: 90.85%\n",
      "final_ACC_test: 92.01%\n",
      "Shutting down background jobs, please wait a moment...\n"
     ]
    },
    {
     "name": "stderr",
     "output_type": "stream",
     "text": [
      "\n"
     ]
    },
    {
     "name": "stdout",
     "output_type": "stream",
     "text": [
      "Done!\n"
     ]
    },
    {
     "name": "stderr",
     "output_type": "stream",
     "text": [
      "Waiting for the remaining 15 operations to synchronize with Neptune. Do not kill this process.\n"
     ]
    },
    {
     "name": "stdout",
     "output_type": "stream",
     "text": [
      "All 15 operations synced, thanks for waiting!\n",
      "Calculating final_EER_median for Experiment ICAO-230\n",
      "https://app.neptune.ai/guilhermemg/icao-nets-training-2/e/ICAO-230\n",
      "Remember to stop your run once you’ve finished logging your metadata (https://docs.neptune.ai/api-reference/run#.stop). It will be stopped automatically only when the notebook kernel/interactive console is terminated.\n"
     ]
    },
    {
     "name": "stderr",
     "output_type": "stream",
     "text": [
      "100%|███████████████████████████████████████████████████████████████████| 23/23 [00:11<00:00,  1.94it/s]"
     ]
    },
    {
     "name": "stdout",
     "output_type": "stream",
     "text": [
      "ExpID: ICAO-230\n",
      "final_EER_median_valid: 7.74%\n",
      "final_EER_median_test: 6.65%\n",
      "Shutting down background jobs, please wait a moment...\n"
     ]
    },
    {
     "name": "stderr",
     "output_type": "stream",
     "text": [
      "\n"
     ]
    },
    {
     "name": "stdout",
     "output_type": "stream",
     "text": [
      "Done!\n"
     ]
    },
    {
     "name": "stderr",
     "output_type": "stream",
     "text": [
      "Waiting for the remaining 15 operations to synchronize with Neptune. Do not kill this process.\n"
     ]
    },
    {
     "name": "stdout",
     "output_type": "stream",
     "text": [
      "All 15 operations synced, thanks for waiting!\n"
     ]
    }
   ],
   "source": [
    "calculate_metric('ICAO-230', 'EER_mean')\n",
    "calculate_metric('ICAO-230', 'ACC')\n",
    "calculate_metric('ICAO-230', 'EER_median')"
   ]
  },
  {
   "cell_type": "markdown",
   "id": "60584c66-a13b-4a39-96eb-4938b330d188",
   "metadata": {},
   "source": [
    "# MTL Handcrafted 3"
   ]
  },
  {
   "cell_type": "markdown",
   "id": "0cba5383-01e8-444c-9d7b-697381cdf278",
   "metadata": {},
   "source": [
    "## ICAO-232"
   ]
  },
  {
   "cell_type": "code",
   "execution_count": 5,
   "id": "e4f893ba-97ba-4381-a318-4246da505b25",
   "metadata": {
    "collapsed": true,
    "jupyter": {
     "outputs_hidden": true
    },
    "tags": []
   },
   "outputs": [
    {
     "name": "stdout",
     "output_type": "stream",
     "text": [
      "Calculating final_EER_median for Experiment ICAO-232\n",
      "https://app.neptune.ai/guilhermemg/icao-nets-training-2/e/ICAO-232\n",
      "Remember to stop your run once you’ve finished logging your metadata (https://docs.neptune.ai/api-reference/run#.stop). It will be stopped automatically only when the notebook kernel/interactive console is terminated.\n"
     ]
    },
    {
     "name": "stderr",
     "output_type": "stream",
     "text": [
      "100%|███████████████████████████████████████████████████████████████████| 23/23 [00:12<00:00,  1.86it/s]"
     ]
    },
    {
     "name": "stdout",
     "output_type": "stream",
     "text": [
      "ExpID: ICAO-232\n",
      "final_EER_median_valid: 16.25%\n",
      "final_EER_median_test: 16.49%\n",
      "Shutting down background jobs, please wait a moment...\n"
     ]
    },
    {
     "name": "stderr",
     "output_type": "stream",
     "text": [
      "\n"
     ]
    },
    {
     "name": "stdout",
     "output_type": "stream",
     "text": [
      "Done!\n"
     ]
    },
    {
     "name": "stderr",
     "output_type": "stream",
     "text": [
      "Waiting for the remaining 16 operations to synchronize with Neptune. Do not kill this process.\n"
     ]
    },
    {
     "name": "stdout",
     "output_type": "stream",
     "text": [
      "All 16 operations synced, thanks for waiting!\n"
     ]
    }
   ],
   "source": [
    "calculate_metric('ICAO-232', 'EER_mean')\n",
    "calculate_metric('ICAO-232', 'ACC')\n",
    "calculate_metric('ICAO-232', 'EER_median')"
   ]
  },
  {
   "cell_type": "markdown",
   "id": "e71919c0-0321-4d9c-a4dc-cfb3de41ab4b",
   "metadata": {},
   "source": [
    "## ICAO-233"
   ]
  },
  {
   "cell_type": "code",
   "execution_count": 7,
   "id": "1be0063d-bde9-4951-a3a2-085ef7ffdd7e",
   "metadata": {
    "collapsed": true,
    "jupyter": {
     "outputs_hidden": true
    },
    "tags": []
   },
   "outputs": [
    {
     "name": "stdout",
     "output_type": "stream",
     "text": [
      "Calculating final_EER_mean for Experiment ICAO-233\n",
      "https://app.neptune.ai/guilhermemg/icao-nets-training-2/e/ICAO-233\n",
      "Remember to stop your run once you’ve finished logging your metadata (https://docs.neptune.ai/api-reference/run#.stop). It will be stopped automatically only when the notebook kernel/interactive console is terminated.\n"
     ]
    },
    {
     "name": "stderr",
     "output_type": "stream",
     "text": [
      "100%|███████████████████████████████████████████████████████████████████| 23/23 [00:12<00:00,  1.90it/s]"
     ]
    },
    {
     "name": "stdout",
     "output_type": "stream",
     "text": [
      "ExpID: ICAO-233\n",
      "final_EER_mean_valid: 12.26%\n",
      "final_EER_mean_test: 10.66%\n",
      "Shutting down background jobs, please wait a moment...\n"
     ]
    },
    {
     "name": "stderr",
     "output_type": "stream",
     "text": [
      "\n"
     ]
    },
    {
     "name": "stdout",
     "output_type": "stream",
     "text": [
      "Done!\n"
     ]
    },
    {
     "name": "stderr",
     "output_type": "stream",
     "text": [
      "Waiting for the remaining 30 operations to synchronize with Neptune. Do not kill this process.\n"
     ]
    },
    {
     "name": "stdout",
     "output_type": "stream",
     "text": [
      "All 30 operations synced, thanks for waiting!\n",
      "Calculating final_ACC for Experiment ICAO-233\n",
      "https://app.neptune.ai/guilhermemg/icao-nets-training-2/e/ICAO-233\n",
      "Remember to stop your run once you’ve finished logging your metadata (https://docs.neptune.ai/api-reference/run#.stop). It will be stopped automatically only when the notebook kernel/interactive console is terminated.\n"
     ]
    },
    {
     "name": "stderr",
     "output_type": "stream",
     "text": [
      "100%|███████████████████████████████████████████████████████████████████| 23/23 [00:11<00:00,  1.94it/s]"
     ]
    },
    {
     "name": "stdout",
     "output_type": "stream",
     "text": [
      "ExpID: ICAO-233\n",
      "final_ACC_valid: 89.65%\n",
      "final_ACC_test: 91.46%\n",
      "Shutting down background jobs, please wait a moment...\n"
     ]
    },
    {
     "name": "stderr",
     "output_type": "stream",
     "text": [
      "\n"
     ]
    },
    {
     "name": "stdout",
     "output_type": "stream",
     "text": [
      "Done!\n"
     ]
    },
    {
     "name": "stderr",
     "output_type": "stream",
     "text": [
      "Waiting for the remaining 15 operations to synchronize with Neptune. Do not kill this process.\n"
     ]
    },
    {
     "name": "stdout",
     "output_type": "stream",
     "text": [
      "All 15 operations synced, thanks for waiting!\n",
      "Calculating final_EER_median for Experiment ICAO-233\n",
      "https://app.neptune.ai/guilhermemg/icao-nets-training-2/e/ICAO-233\n",
      "Remember to stop your run once you’ve finished logging your metadata (https://docs.neptune.ai/api-reference/run#.stop). It will be stopped automatically only when the notebook kernel/interactive console is terminated.\n"
     ]
    },
    {
     "name": "stderr",
     "output_type": "stream",
     "text": [
      "100%|███████████████████████████████████████████████████████████████████| 23/23 [00:11<00:00,  1.93it/s]"
     ]
    },
    {
     "name": "stdout",
     "output_type": "stream",
     "text": [
      "ExpID: ICAO-233\n",
      "final_EER_median_valid: 9.66%\n",
      "final_EER_median_test: 7.85%\n",
      "Shutting down background jobs, please wait a moment...\n"
     ]
    },
    {
     "name": "stderr",
     "output_type": "stream",
     "text": [
      "\n"
     ]
    },
    {
     "name": "stdout",
     "output_type": "stream",
     "text": [
      "Done!\n"
     ]
    },
    {
     "name": "stderr",
     "output_type": "stream",
     "text": [
      "Waiting for the remaining 15 operations to synchronize with Neptune. Do not kill this process.\n"
     ]
    },
    {
     "name": "stdout",
     "output_type": "stream",
     "text": [
      "All 15 operations synced, thanks for waiting!\n"
     ]
    }
   ],
   "source": [
    "calculate_metric('ICAO-233', 'EER_mean')\n",
    "calculate_metric('ICAO-233', 'ACC')\n",
    "calculate_metric('ICAO-233', 'EER_median')"
   ]
  },
  {
   "cell_type": "markdown",
   "id": "7f3d798d-ec00-4791-b5f4-8ef3be10ab92",
   "metadata": {},
   "source": [
    "## ICAO-236"
   ]
  },
  {
   "cell_type": "code",
   "execution_count": 8,
   "id": "e2c4ebfd-29fc-4eef-a2db-393e68adf2b4",
   "metadata": {
    "collapsed": true,
    "jupyter": {
     "outputs_hidden": true
    },
    "tags": []
   },
   "outputs": [
    {
     "name": "stdout",
     "output_type": "stream",
     "text": [
      "Calculating final_EER_mean for Experiment ICAO-236\n",
      "https://app.neptune.ai/guilhermemg/icao-nets-training-2/e/ICAO-236\n",
      "Remember to stop your run once you’ve finished logging your metadata (https://docs.neptune.ai/api-reference/run#.stop). It will be stopped automatically only when the notebook kernel/interactive console is terminated.\n"
     ]
    },
    {
     "name": "stderr",
     "output_type": "stream",
     "text": [
      "100%|███████████████████████████████████████████████████████████████████| 23/23 [00:12<00:00,  1.86it/s]"
     ]
    },
    {
     "name": "stdout",
     "output_type": "stream",
     "text": [
      "ExpID: ICAO-236\n",
      "final_EER_mean_valid: 11.79%\n",
      "final_EER_mean_test: 15.96%\n",
      "Shutting down background jobs, please wait a moment...\n"
     ]
    },
    {
     "name": "stderr",
     "output_type": "stream",
     "text": [
      "\n"
     ]
    },
    {
     "name": "stdout",
     "output_type": "stream",
     "text": [
      "Done!\n"
     ]
    },
    {
     "name": "stderr",
     "output_type": "stream",
     "text": [
      "Waiting for the remaining 15 operations to synchronize with Neptune. Do not kill this process.\n"
     ]
    },
    {
     "name": "stdout",
     "output_type": "stream",
     "text": [
      "All 15 operations synced, thanks for waiting!\n",
      "Calculating final_ACC for Experiment ICAO-236\n",
      "https://app.neptune.ai/guilhermemg/icao-nets-training-2/e/ICAO-236\n",
      "Remember to stop your run once you’ve finished logging your metadata (https://docs.neptune.ai/api-reference/run#.stop). It will be stopped automatically only when the notebook kernel/interactive console is terminated.\n"
     ]
    },
    {
     "name": "stderr",
     "output_type": "stream",
     "text": [
      "100%|███████████████████████████████████████████████████████████████████| 23/23 [00:12<00:00,  1.90it/s]"
     ]
    },
    {
     "name": "stdout",
     "output_type": "stream",
     "text": [
      "ExpID: ICAO-236\n",
      "final_ACC_valid: 89.51%\n",
      "final_ACC_test: 90.15%\n",
      "Shutting down background jobs, please wait a moment...\n"
     ]
    },
    {
     "name": "stderr",
     "output_type": "stream",
     "text": [
      "\n"
     ]
    },
    {
     "name": "stdout",
     "output_type": "stream",
     "text": [
      "Done!\n"
     ]
    },
    {
     "name": "stderr",
     "output_type": "stream",
     "text": [
      "Waiting for the remaining 15 operations to synchronize with Neptune. Do not kill this process.\n"
     ]
    },
    {
     "name": "stdout",
     "output_type": "stream",
     "text": [
      "All 15 operations synced, thanks for waiting!\n",
      "Calculating final_EER_median for Experiment ICAO-236\n",
      "https://app.neptune.ai/guilhermemg/icao-nets-training-2/e/ICAO-236\n",
      "Remember to stop your run once you’ve finished logging your metadata (https://docs.neptune.ai/api-reference/run#.stop). It will be stopped automatically only when the notebook kernel/interactive console is terminated.\n"
     ]
    },
    {
     "name": "stderr",
     "output_type": "stream",
     "text": [
      "100%|███████████████████████████████████████████████████████████████████| 23/23 [00:12<00:00,  1.86it/s]"
     ]
    },
    {
     "name": "stdout",
     "output_type": "stream",
     "text": [
      "ExpID: ICAO-236\n",
      "final_EER_median_valid: 11.03%\n",
      "final_EER_median_test: 12.05%\n",
      "Shutting down background jobs, please wait a moment...\n"
     ]
    },
    {
     "name": "stderr",
     "output_type": "stream",
     "text": [
      "\n"
     ]
    },
    {
     "name": "stdout",
     "output_type": "stream",
     "text": [
      "Done!\n"
     ]
    },
    {
     "name": "stderr",
     "output_type": "stream",
     "text": [
      "Waiting for the remaining 16 operations to synchronize with Neptune. Do not kill this process.\n"
     ]
    },
    {
     "name": "stdout",
     "output_type": "stream",
     "text": [
      "All 16 operations synced, thanks for waiting!\n"
     ]
    }
   ],
   "source": [
    "calculate_metric('ICAO-236', 'EER_mean')\n",
    "calculate_metric('ICAO-236', 'ACC')\n",
    "calculate_metric('ICAO-236', 'EER_median')"
   ]
  },
  {
   "cell_type": "markdown",
   "id": "2987b1f5-fde7-483f-9fb1-6197b1bb58bd",
   "metadata": {},
   "source": [
    "## ICAO-336"
   ]
  },
  {
   "cell_type": "code",
   "execution_count": 9,
   "id": "c2746f48-f255-4526-9cac-2d871e790e3b",
   "metadata": {
    "collapsed": true,
    "jupyter": {
     "outputs_hidden": true
    },
    "tags": []
   },
   "outputs": [
    {
     "name": "stdout",
     "output_type": "stream",
     "text": [
      "Calculating final_EER_mean for Experiment ICAO-336\n",
      "https://app.neptune.ai/guilhermemg/icao-nets-training-2/e/ICAO-336\n",
      "Remember to stop your run once you’ve finished logging your metadata (https://docs.neptune.ai/api-reference/run#.stop). It will be stopped automatically only when the notebook kernel/interactive console is terminated.\n"
     ]
    },
    {
     "name": "stderr",
     "output_type": "stream",
     "text": [
      "100%|███████████████████████████████████████████████████████████████████| 23/23 [00:11<00:00,  1.94it/s]"
     ]
    },
    {
     "name": "stdout",
     "output_type": "stream",
     "text": [
      "ExpID: ICAO-336\n",
      "final_EER_mean_valid: 15.48%\n",
      "final_EER_mean_test: 12.89%\n",
      "Shutting down background jobs, please wait a moment...\n"
     ]
    },
    {
     "name": "stderr",
     "output_type": "stream",
     "text": [
      "\n"
     ]
    },
    {
     "name": "stdout",
     "output_type": "stream",
     "text": [
      "Done!\n"
     ]
    },
    {
     "name": "stderr",
     "output_type": "stream",
     "text": [
      "Waiting for the remaining 14 operations to synchronize with Neptune. Do not kill this process.\n"
     ]
    },
    {
     "name": "stdout",
     "output_type": "stream",
     "text": [
      "All 14 operations synced, thanks for waiting!\n",
      "Calculating final_ACC for Experiment ICAO-336\n",
      "https://app.neptune.ai/guilhermemg/icao-nets-training-2/e/ICAO-336\n",
      "Remember to stop your run once you’ve finished logging your metadata (https://docs.neptune.ai/api-reference/run#.stop). It will be stopped automatically only when the notebook kernel/interactive console is terminated.\n"
     ]
    },
    {
     "name": "stderr",
     "output_type": "stream",
     "text": [
      "100%|███████████████████████████████████████████████████████████████████| 23/23 [00:12<00:00,  1.85it/s]"
     ]
    },
    {
     "name": "stdout",
     "output_type": "stream",
     "text": [
      "ExpID: ICAO-336\n",
      "final_ACC_valid: 83.56%\n",
      "final_ACC_test: 86.38%\n",
      "Shutting down background jobs, please wait a moment...\n"
     ]
    },
    {
     "name": "stderr",
     "output_type": "stream",
     "text": [
      "\n"
     ]
    },
    {
     "name": "stdout",
     "output_type": "stream",
     "text": [
      "Done!\n"
     ]
    },
    {
     "name": "stderr",
     "output_type": "stream",
     "text": [
      "Waiting for the remaining 16 operations to synchronize with Neptune. Do not kill this process.\n"
     ]
    },
    {
     "name": "stdout",
     "output_type": "stream",
     "text": [
      "All 16 operations synced, thanks for waiting!\n",
      "Calculating final_EER_median for Experiment ICAO-336\n",
      "https://app.neptune.ai/guilhermemg/icao-nets-training-2/e/ICAO-336\n",
      "Remember to stop your run once you’ve finished logging your metadata (https://docs.neptune.ai/api-reference/run#.stop). It will be stopped automatically only when the notebook kernel/interactive console is terminated.\n"
     ]
    },
    {
     "name": "stderr",
     "output_type": "stream",
     "text": [
      "100%|███████████████████████████████████████████████████████████████████| 23/23 [00:11<00:00,  1.93it/s]"
     ]
    },
    {
     "name": "stdout",
     "output_type": "stream",
     "text": [
      "ExpID: ICAO-336\n",
      "final_EER_median_valid: 15.57%\n",
      "final_EER_median_test: 13.94%\n",
      "Shutting down background jobs, please wait a moment...\n"
     ]
    },
    {
     "name": "stderr",
     "output_type": "stream",
     "text": [
      "\n"
     ]
    },
    {
     "name": "stdout",
     "output_type": "stream",
     "text": [
      "Done!\n"
     ]
    },
    {
     "name": "stderr",
     "output_type": "stream",
     "text": [
      "Waiting for the remaining 15 operations to synchronize with Neptune. Do not kill this process.\n"
     ]
    },
    {
     "name": "stdout",
     "output_type": "stream",
     "text": [
      "All 15 operations synced, thanks for waiting!\n"
     ]
    }
   ],
   "source": [
    "calculate_metric('ICAO-336', 'EER_mean')\n",
    "calculate_metric('ICAO-336', 'ACC')\n",
    "calculate_metric('ICAO-336', 'EER_median')"
   ]
  },
  {
   "cell_type": "markdown",
   "id": "d3357cf0-6218-4ec4-ba82-36ee3cc47251",
   "metadata": {},
   "source": [
    "## ICAO-337"
   ]
  },
  {
   "cell_type": "code",
   "execution_count": 10,
   "id": "76281b89-3671-40d0-b89a-7d337fa7442b",
   "metadata": {
    "collapsed": true,
    "jupyter": {
     "outputs_hidden": true
    },
    "tags": []
   },
   "outputs": [
    {
     "name": "stdout",
     "output_type": "stream",
     "text": [
      "Calculating final_EER_mean for Experiment ICAO-337\n",
      "https://app.neptune.ai/guilhermemg/icao-nets-training-2/e/ICAO-337\n",
      "Remember to stop your run once you’ve finished logging your metadata (https://docs.neptune.ai/api-reference/run#.stop). It will be stopped automatically only when the notebook kernel/interactive console is terminated.\n"
     ]
    },
    {
     "name": "stderr",
     "output_type": "stream",
     "text": [
      "100%|███████████████████████████████████████████████████████████████████| 23/23 [00:12<00:00,  1.83it/s]"
     ]
    },
    {
     "name": "stdout",
     "output_type": "stream",
     "text": [
      "ExpID: ICAO-337\n",
      "final_EER_mean_valid: 6.95%\n",
      "final_EER_mean_test: 7.93%\n",
      "Shutting down background jobs, please wait a moment...\n"
     ]
    },
    {
     "name": "stderr",
     "output_type": "stream",
     "text": [
      "\n"
     ]
    },
    {
     "name": "stdout",
     "output_type": "stream",
     "text": [
      "Done!\n"
     ]
    },
    {
     "name": "stderr",
     "output_type": "stream",
     "text": [
      "Waiting for the remaining 15 operations to synchronize with Neptune. Do not kill this process.\n"
     ]
    },
    {
     "name": "stdout",
     "output_type": "stream",
     "text": [
      "All 15 operations synced, thanks for waiting!\n",
      "Calculating final_ACC for Experiment ICAO-337\n",
      "https://app.neptune.ai/guilhermemg/icao-nets-training-2/e/ICAO-337\n",
      "Remember to stop your run once you’ve finished logging your metadata (https://docs.neptune.ai/api-reference/run#.stop). It will be stopped automatically only when the notebook kernel/interactive console is terminated.\n"
     ]
    },
    {
     "name": "stderr",
     "output_type": "stream",
     "text": [
      "100%|███████████████████████████████████████████████████████████████████| 23/23 [00:11<00:00,  1.93it/s]"
     ]
    },
    {
     "name": "stdout",
     "output_type": "stream",
     "text": [
      "ExpID: ICAO-337\n",
      "final_ACC_valid: 91.78%\n",
      "final_ACC_test: 90.77%\n",
      "Shutting down background jobs, please wait a moment...\n"
     ]
    },
    {
     "name": "stderr",
     "output_type": "stream",
     "text": [
      "\n"
     ]
    },
    {
     "name": "stdout",
     "output_type": "stream",
     "text": [
      "Done!\n"
     ]
    },
    {
     "name": "stderr",
     "output_type": "stream",
     "text": [
      "Waiting for the remaining 15 operations to synchronize with Neptune. Do not kill this process.\n"
     ]
    },
    {
     "name": "stdout",
     "output_type": "stream",
     "text": [
      "All 15 operations synced, thanks for waiting!\n",
      "Calculating final_EER_median for Experiment ICAO-337\n",
      "https://app.neptune.ai/guilhermemg/icao-nets-training-2/e/ICAO-337\n",
      "Remember to stop your run once you’ve finished logging your metadata (https://docs.neptune.ai/api-reference/run#.stop). It will be stopped automatically only when the notebook kernel/interactive console is terminated.\n"
     ]
    },
    {
     "name": "stderr",
     "output_type": "stream",
     "text": [
      "100%|███████████████████████████████████████████████████████████████████| 23/23 [00:12<00:00,  1.89it/s]"
     ]
    },
    {
     "name": "stdout",
     "output_type": "stream",
     "text": [
      "ExpID: ICAO-337\n",
      "final_EER_median_valid: 6.48%\n",
      "final_EER_median_test: 7.88%\n",
      "Shutting down background jobs, please wait a moment...\n"
     ]
    },
    {
     "name": "stderr",
     "output_type": "stream",
     "text": [
      "\n"
     ]
    },
    {
     "name": "stdout",
     "output_type": "stream",
     "text": [
      "Done!\n"
     ]
    },
    {
     "name": "stderr",
     "output_type": "stream",
     "text": [
      "Waiting for the remaining 16 operations to synchronize with Neptune. Do not kill this process.\n"
     ]
    },
    {
     "name": "stdout",
     "output_type": "stream",
     "text": [
      "All 16 operations synced, thanks for waiting!\n"
     ]
    }
   ],
   "source": [
    "calculate_metric('ICAO-337', 'EER_mean')\n",
    "calculate_metric('ICAO-337', 'ACC')\n",
    "calculate_metric('ICAO-337', 'EER_median')"
   ]
  },
  {
   "cell_type": "markdown",
   "id": "8a5bd1a4-280a-4332-9df0-d2363142674a",
   "metadata": {},
   "source": [
    "## ICAO-338"
   ]
  },
  {
   "cell_type": "code",
   "execution_count": 4,
   "id": "4ab2597d-8abd-4127-a897-59b22b679388",
   "metadata": {
    "collapsed": true,
    "jupyter": {
     "outputs_hidden": true
    },
    "tags": []
   },
   "outputs": [
    {
     "name": "stdout",
     "output_type": "stream",
     "text": [
      "Calculating final_EER_mean for Experiment ICAO-338\n",
      "https://app.neptune.ai/guilhermemg/icao-nets-training-2/e/ICAO-338\n",
      "Remember to stop your run once you’ve finished logging your metadata (https://docs.neptune.ai/api-reference/run#.stop). It will be stopped automatically only when the notebook kernel/interactive console is terminated.\n"
     ]
    },
    {
     "name": "stderr",
     "output_type": "stream",
     "text": [
      "100%|███████████████████████████████████████████████████████████████████| 23/23 [00:12<00:00,  1.88it/s]"
     ]
    },
    {
     "name": "stdout",
     "output_type": "stream",
     "text": [
      "ExpID: ICAO-338\n",
      "final_EER_mean_valid: 7.92%\n",
      "final_EER_mean_test: 7.47%\n",
      "Shutting down background jobs, please wait a moment...\n"
     ]
    },
    {
     "name": "stderr",
     "output_type": "stream",
     "text": [
      "\n"
     ]
    },
    {
     "name": "stdout",
     "output_type": "stream",
     "text": [
      "Done!\n"
     ]
    },
    {
     "name": "stderr",
     "output_type": "stream",
     "text": [
      "Waiting for the remaining 16 operations to synchronize with Neptune. Do not kill this process.\n"
     ]
    },
    {
     "name": "stdout",
     "output_type": "stream",
     "text": [
      "All 16 operations synced, thanks for waiting!\n",
      "Calculating final_ACC for Experiment ICAO-338\n",
      "https://app.neptune.ai/guilhermemg/icao-nets-training-2/e/ICAO-338\n",
      "Remember to stop your run once you’ve finished logging your metadata (https://docs.neptune.ai/api-reference/run#.stop). It will be stopped automatically only when the notebook kernel/interactive console is terminated.\n"
     ]
    },
    {
     "name": "stderr",
     "output_type": "stream",
     "text": [
      "100%|███████████████████████████████████████████████████████████████████| 23/23 [00:11<00:00,  1.93it/s]"
     ]
    },
    {
     "name": "stdout",
     "output_type": "stream",
     "text": [
      "ExpID: ICAO-338\n",
      "final_ACC_valid: 91.01%\n",
      "final_ACC_test: 92.12%\n",
      "Shutting down background jobs, please wait a moment...\n"
     ]
    },
    {
     "name": "stderr",
     "output_type": "stream",
     "text": [
      "\n"
     ]
    },
    {
     "name": "stdout",
     "output_type": "stream",
     "text": [
      "Done!\n"
     ]
    },
    {
     "name": "stderr",
     "output_type": "stream",
     "text": [
      "Waiting for the remaining 15 operations to synchronize with Neptune. Do not kill this process.\n"
     ]
    },
    {
     "name": "stdout",
     "output_type": "stream",
     "text": [
      "All 15 operations synced, thanks for waiting!\n",
      "Calculating final_EER_median for Experiment ICAO-338\n",
      "https://app.neptune.ai/guilhermemg/icao-nets-training-2/e/ICAO-338\n",
      "Remember to stop your run once you’ve finished logging your metadata (https://docs.neptune.ai/api-reference/run#.stop). It will be stopped automatically only when the notebook kernel/interactive console is terminated.\n"
     ]
    },
    {
     "name": "stderr",
     "output_type": "stream",
     "text": [
      "100%|███████████████████████████████████████████████████████████████████| 23/23 [00:12<00:00,  1.83it/s]"
     ]
    },
    {
     "name": "stdout",
     "output_type": "stream",
     "text": [
      "ExpID: ICAO-338\n",
      "final_EER_median_valid: 6.67%\n",
      "final_EER_median_test: 4.86%\n",
      "Shutting down background jobs, please wait a moment...\n"
     ]
    },
    {
     "name": "stderr",
     "output_type": "stream",
     "text": [
      "\n"
     ]
    },
    {
     "name": "stdout",
     "output_type": "stream",
     "text": [
      "Done!\n"
     ]
    },
    {
     "name": "stderr",
     "output_type": "stream",
     "text": [
      "Waiting for the remaining 16 operations to synchronize with Neptune. Do not kill this process.\n"
     ]
    },
    {
     "name": "stdout",
     "output_type": "stream",
     "text": [
      "All 16 operations synced, thanks for waiting!\n"
     ]
    }
   ],
   "source": [
    "calculate_metric('ICAO-338', 'EER_mean')\n",
    "calculate_metric('ICAO-338', 'ACC')\n",
    "calculate_metric('ICAO-338', 'EER_median')"
   ]
  },
  {
   "cell_type": "markdown",
   "id": "d577d5bb-e306-4bcf-820f-788e3f690c1c",
   "metadata": {},
   "source": [
    "# NAS - Approach 01"
   ]
  },
  {
   "cell_type": "markdown",
   "id": "8c6f3edc-a2b4-4693-b6ff-44acd6ec1a66",
   "metadata": {},
   "source": [
    "## ICAO-273"
   ]
  },
  {
   "cell_type": "code",
   "execution_count": 11,
   "id": "343a4e61-f5b8-4c2d-9feb-18ac16d3dc07",
   "metadata": {
    "collapsed": true,
    "jupyter": {
     "outputs_hidden": true
    },
    "tags": []
   },
   "outputs": [
    {
     "name": "stdout",
     "output_type": "stream",
     "text": [
      "Calculating final_EER_median for Experiment ICAO-273\n",
      "https://app.neptune.ai/guilhermemg/icao-nets-training-2/e/ICAO-273\n",
      "Remember to stop your run once you’ve finished logging your metadata (https://docs.neptune.ai/api-reference/run#.stop). It will be stopped automatically only when the notebook kernel/interactive console is terminated.\n"
     ]
    },
    {
     "name": "stderr",
     "output_type": "stream",
     "text": [
      "100%|███████████████████████████████████████████████████████████████████| 23/23 [00:12<00:00,  1.92it/s]"
     ]
    },
    {
     "name": "stdout",
     "output_type": "stream",
     "text": [
      "ExpID: ICAO-273\n",
      "final_ACC_valid: 90.19%\n",
      "final_ACC_test: 90.61%\n",
      "Shutting down background jobs, please wait a moment...\n"
     ]
    },
    {
     "name": "stderr",
     "output_type": "stream",
     "text": [
      "\n"
     ]
    },
    {
     "name": "stdout",
     "output_type": "stream",
     "text": [
      "Done!\n"
     ]
    },
    {
     "name": "stderr",
     "output_type": "stream",
     "text": [
      "Waiting for the remaining 15 operations to synchronize with Neptune. Do not kill this process.\n"
     ]
    },
    {
     "name": "stdout",
     "output_type": "stream",
     "text": [
      "All 15 operations synced, thanks for waiting!\n",
      "Calculating final_EER_median for Experiment ICAO-273\n",
      "https://app.neptune.ai/guilhermemg/icao-nets-training-2/e/ICAO-273\n",
      "Remember to stop your run once you’ve finished logging your metadata (https://docs.neptune.ai/api-reference/run#.stop). It will be stopped automatically only when the notebook kernel/interactive console is terminated.\n"
     ]
    },
    {
     "name": "stderr",
     "output_type": "stream",
     "text": [
      "100%|███████████████████████████████████████████████████████████████████| 23/23 [00:12<00:00,  1.85it/s]"
     ]
    },
    {
     "name": "stdout",
     "output_type": "stream",
     "text": [
      "ExpID: ICAO-273\n",
      "final_EER_mean_valid: 11.24%\n",
      "final_EER_mean_test: 13.52%\n",
      "Shutting down background jobs, please wait a moment...\n"
     ]
    },
    {
     "name": "stderr",
     "output_type": "stream",
     "text": [
      "\n"
     ]
    },
    {
     "name": "stdout",
     "output_type": "stream",
     "text": [
      "Done!\n"
     ]
    },
    {
     "name": "stderr",
     "output_type": "stream",
     "text": [
      "Waiting for the remaining 16 operations to synchronize with Neptune. Do not kill this process.\n"
     ]
    },
    {
     "name": "stdout",
     "output_type": "stream",
     "text": [
      "All 16 operations synced, thanks for waiting!\n",
      "Calculating final_EER_median for Experiment ICAO-273\n",
      "https://app.neptune.ai/guilhermemg/icao-nets-training-2/e/ICAO-273\n",
      "Remember to stop your run once you’ve finished logging your metadata (https://docs.neptune.ai/api-reference/run#.stop). It will be stopped automatically only when the notebook kernel/interactive console is terminated.\n"
     ]
    },
    {
     "name": "stderr",
     "output_type": "stream",
     "text": [
      "100%|███████████████████████████████████████████████████████████████████| 23/23 [00:12<00:00,  1.85it/s]"
     ]
    },
    {
     "name": "stdout",
     "output_type": "stream",
     "text": [
      "ExpID: ICAO-273\n",
      "final_EER_median_valid: 9.4%\n",
      "final_EER_median_test: 7.32%\n",
      "Shutting down background jobs, please wait a moment...\n"
     ]
    },
    {
     "name": "stderr",
     "output_type": "stream",
     "text": [
      "\n"
     ]
    },
    {
     "name": "stdout",
     "output_type": "stream",
     "text": [
      "Done!\n"
     ]
    },
    {
     "name": "stderr",
     "output_type": "stream",
     "text": [
      "Waiting for the remaining 16 operations to synchronize with Neptune. Do not kill this process.\n"
     ]
    },
    {
     "name": "stdout",
     "output_type": "stream",
     "text": [
      "All 16 operations synced, thanks for waiting!\n"
     ]
    }
   ],
   "source": [
    "calculate_metric('ICAO-273', 'ACC')   \n",
    "calculate_metric('ICAO-273', 'EER_mean')   \n",
    "calculate_metric('ICAO-273', 'EER_median')   "
   ]
  },
  {
   "cell_type": "markdown",
   "id": "aa23c01f-c27e-4043-b454-e9eb393899b2",
   "metadata": {},
   "source": [
    "## ICAO-322"
   ]
  },
  {
   "cell_type": "code",
   "execution_count": 8,
   "id": "12bb6162-3460-4647-91b2-fbdbd60ac69d",
   "metadata": {
    "collapsed": true,
    "jupyter": {
     "outputs_hidden": true
    },
    "tags": []
   },
   "outputs": [
    {
     "name": "stdout",
     "output_type": "stream",
     "text": [
      "Calculating final_ACC for Experiment ICAO-322\n",
      "https://app.neptune.ai/guilhermemg/icao-nets-training-2/e/ICAO-322\n",
      "Remember to stop your run once you’ve finished logging your metadata (https://docs.neptune.ai/api-reference/run#.stop). It will be stopped automatically only when the notebook kernel/interactive console is terminated.\n"
     ]
    },
    {
     "name": "stderr",
     "output_type": "stream",
     "text": [
      "100%|███████████████████████████████████████████████████████████████████| 23/23 [00:12<00:00,  1.85it/s]"
     ]
    },
    {
     "name": "stdout",
     "output_type": "stream",
     "text": [
      "ExpID: ICAO-322\n",
      "final_ACC_valid: 92.18%\n",
      "final_ACC_test: 91.76%\n",
      "Shutting down background jobs, please wait a moment...\n"
     ]
    },
    {
     "name": "stderr",
     "output_type": "stream",
     "text": [
      "\n"
     ]
    },
    {
     "name": "stdout",
     "output_type": "stream",
     "text": [
      "Done!\n"
     ]
    },
    {
     "name": "stderr",
     "output_type": "stream",
     "text": [
      "Waiting for the remaining 14 operations to synchronize with Neptune. Do not kill this process.\n"
     ]
    },
    {
     "name": "stdout",
     "output_type": "stream",
     "text": [
      "All 14 operations synced, thanks for waiting!\n",
      "Calculating final_EER_mean for Experiment ICAO-322\n",
      "https://app.neptune.ai/guilhermemg/icao-nets-training-2/e/ICAO-322\n",
      "Remember to stop your run once you’ve finished logging your metadata (https://docs.neptune.ai/api-reference/run#.stop). It will be stopped automatically only when the notebook kernel/interactive console is terminated.\n"
     ]
    },
    {
     "name": "stderr",
     "output_type": "stream",
     "text": [
      "100%|███████████████████████████████████████████████████████████████████| 23/23 [00:11<00:00,  1.92it/s]"
     ]
    },
    {
     "name": "stdout",
     "output_type": "stream",
     "text": [
      "ExpID: ICAO-322\n",
      "final_EER_mean_valid: 7.66%\n",
      "final_EER_mean_test: 7.86%\n",
      "Shutting down background jobs, please wait a moment...\n"
     ]
    },
    {
     "name": "stderr",
     "output_type": "stream",
     "text": [
      "\n"
     ]
    },
    {
     "name": "stdout",
     "output_type": "stream",
     "text": [
      "Done!\n"
     ]
    },
    {
     "name": "stderr",
     "output_type": "stream",
     "text": [
      "Waiting for the remaining 15 operations to synchronize with Neptune. Do not kill this process.\n"
     ]
    },
    {
     "name": "stdout",
     "output_type": "stream",
     "text": [
      "All 15 operations synced, thanks for waiting!\n",
      "Calculating final_EER_median for Experiment ICAO-322\n",
      "https://app.neptune.ai/guilhermemg/icao-nets-training-2/e/ICAO-322\n",
      "Remember to stop your run once you’ve finished logging your metadata (https://docs.neptune.ai/api-reference/run#.stop). It will be stopped automatically only when the notebook kernel/interactive console is terminated.\n"
     ]
    },
    {
     "name": "stderr",
     "output_type": "stream",
     "text": [
      "100%|███████████████████████████████████████████████████████████████████| 23/23 [00:12<00:00,  1.91it/s]"
     ]
    },
    {
     "name": "stdout",
     "output_type": "stream",
     "text": [
      "ExpID: ICAO-322\n",
      "final_EER_median_valid: 6.72%\n",
      "final_EER_median_test: 6.5%\n",
      "Shutting down background jobs, please wait a moment...\n"
     ]
    },
    {
     "name": "stderr",
     "output_type": "stream",
     "text": [
      "\n"
     ]
    },
    {
     "name": "stdout",
     "output_type": "stream",
     "text": [
      "Done!\n"
     ]
    },
    {
     "name": "stderr",
     "output_type": "stream",
     "text": [
      "Waiting for the remaining 15 operations to synchronize with Neptune. Do not kill this process.\n"
     ]
    },
    {
     "name": "stdout",
     "output_type": "stream",
     "text": [
      "All 15 operations synced, thanks for waiting!\n"
     ]
    }
   ],
   "source": [
    "calculate_metric('ICAO-322', 'ACC')   \n",
    "calculate_metric('ICAO-322', 'EER_mean')   \n",
    "calculate_metric('ICAO-322', 'EER_median')   "
   ]
  },
  {
   "cell_type": "markdown",
   "id": "84265d58-5367-4768-8853-68d609827800",
   "metadata": {},
   "source": [
    "## ICAO-321"
   ]
  },
  {
   "cell_type": "code",
   "execution_count": 9,
   "id": "6f7057ff-cd7c-4f29-acfd-b4d2cc639993",
   "metadata": {
    "collapsed": true,
    "jupyter": {
     "outputs_hidden": true
    },
    "tags": []
   },
   "outputs": [
    {
     "name": "stdout",
     "output_type": "stream",
     "text": [
      "Calculating final_ACC for Experiment ICAO-321\n",
      "https://app.neptune.ai/guilhermemg/icao-nets-training-2/e/ICAO-321\n",
      "Remember to stop your run once you’ve finished logging your metadata (https://docs.neptune.ai/api-reference/run#.stop). It will be stopped automatically only when the notebook kernel/interactive console is terminated.\n"
     ]
    },
    {
     "name": "stderr",
     "output_type": "stream",
     "text": [
      "100%|███████████████████████████████████████████████████████████████████| 23/23 [00:12<00:00,  1.85it/s]"
     ]
    },
    {
     "name": "stdout",
     "output_type": "stream",
     "text": [
      "ExpID: ICAO-321\n",
      "final_ACC_valid: 90.39%\n",
      "final_ACC_test: 87.72%\n",
      "Shutting down background jobs, please wait a moment...\n"
     ]
    },
    {
     "name": "stderr",
     "output_type": "stream",
     "text": [
      "\n"
     ]
    },
    {
     "name": "stdout",
     "output_type": "stream",
     "text": [
      "Done!\n"
     ]
    },
    {
     "name": "stderr",
     "output_type": "stream",
     "text": [
      "Waiting for the remaining 15 operations to synchronize with Neptune. Do not kill this process.\n"
     ]
    },
    {
     "name": "stdout",
     "output_type": "stream",
     "text": [
      "All 15 operations synced, thanks for waiting!\n",
      "Calculating final_EER_mean for Experiment ICAO-321\n",
      "https://app.neptune.ai/guilhermemg/icao-nets-training-2/e/ICAO-321\n",
      "Remember to stop your run once you’ve finished logging your metadata (https://docs.neptune.ai/api-reference/run#.stop). It will be stopped automatically only when the notebook kernel/interactive console is terminated.\n"
     ]
    },
    {
     "name": "stderr",
     "output_type": "stream",
     "text": [
      "100%|███████████████████████████████████████████████████████████████████| 23/23 [00:12<00:00,  1.83it/s]"
     ]
    },
    {
     "name": "stdout",
     "output_type": "stream",
     "text": [
      "ExpID: ICAO-321\n",
      "final_EER_mean_valid: 8.85%\n",
      "final_EER_mean_test: 7.72%\n",
      "Shutting down background jobs, please wait a moment...\n"
     ]
    },
    {
     "name": "stderr",
     "output_type": "stream",
     "text": [
      "\n"
     ]
    },
    {
     "name": "stdout",
     "output_type": "stream",
     "text": [
      "Done!\n"
     ]
    },
    {
     "name": "stderr",
     "output_type": "stream",
     "text": [
      "Waiting for the remaining 16 operations to synchronize with Neptune. Do not kill this process.\n"
     ]
    },
    {
     "name": "stdout",
     "output_type": "stream",
     "text": [
      "All 16 operations synced, thanks for waiting!\n",
      "Calculating final_EER_median for Experiment ICAO-321\n",
      "https://app.neptune.ai/guilhermemg/icao-nets-training-2/e/ICAO-321\n",
      "Remember to stop your run once you’ve finished logging your metadata (https://docs.neptune.ai/api-reference/run#.stop). It will be stopped automatically only when the notebook kernel/interactive console is terminated.\n"
     ]
    },
    {
     "name": "stderr",
     "output_type": "stream",
     "text": [
      "100%|███████████████████████████████████████████████████████████████████| 23/23 [00:12<00:00,  1.90it/s]"
     ]
    },
    {
     "name": "stdout",
     "output_type": "stream",
     "text": [
      "ExpID: ICAO-321\n",
      "final_EER_median_valid: 7.37%\n",
      "final_EER_median_test: 7.69%\n",
      "Shutting down background jobs, please wait a moment...\n"
     ]
    },
    {
     "name": "stderr",
     "output_type": "stream",
     "text": [
      "\n"
     ]
    },
    {
     "name": "stdout",
     "output_type": "stream",
     "text": [
      "Done!\n"
     ]
    },
    {
     "name": "stderr",
     "output_type": "stream",
     "text": [
      "Waiting for the remaining 15 operations to synchronize with Neptune. Do not kill this process.\n"
     ]
    },
    {
     "name": "stdout",
     "output_type": "stream",
     "text": [
      "All 15 operations synced, thanks for waiting!\n"
     ]
    }
   ],
   "source": [
    "calculate_metric('ICAO-321', 'ACC')   \n",
    "calculate_metric('ICAO-321', 'EER_mean')   \n",
    "calculate_metric('ICAO-321', 'EER_median')   "
   ]
  },
  {
   "cell_type": "markdown",
   "id": "dba4044b-6d23-4d50-b201-55792c1fe226",
   "metadata": {},
   "source": [
    "## ICAO-324"
   ]
  },
  {
   "cell_type": "code",
   "execution_count": 12,
   "id": "190dd3ad-c92b-4a5e-a3e6-c77a4c88d597",
   "metadata": {
    "collapsed": true,
    "jupyter": {
     "outputs_hidden": true
    },
    "tags": []
   },
   "outputs": [
    {
     "name": "stdout",
     "output_type": "stream",
     "text": [
      "Calculating final_ACC for Experiment ICAO-324\n",
      "https://app.neptune.ai/guilhermemg/icao-nets-training-2/e/ICAO-324\n",
      "Remember to stop your run once you’ve finished logging your metadata (https://docs.neptune.ai/api-reference/run#.stop). It will be stopped automatically only when the notebook kernel/interactive console is terminated.\n"
     ]
    },
    {
     "name": "stderr",
     "output_type": "stream",
     "text": [
      "100%|███████████████████████████████████████████████████████████████████| 23/23 [00:12<00:00,  1.92it/s]"
     ]
    },
    {
     "name": "stdout",
     "output_type": "stream",
     "text": [
      "ExpID: ICAO-324\n",
      "final_ACC_valid: 91.77%\n",
      "final_ACC_test: 91.59%\n",
      "Shutting down background jobs, please wait a moment...\n"
     ]
    },
    {
     "name": "stderr",
     "output_type": "stream",
     "text": [
      "\n"
     ]
    },
    {
     "name": "stdout",
     "output_type": "stream",
     "text": [
      "Done!\n"
     ]
    },
    {
     "name": "stderr",
     "output_type": "stream",
     "text": [
      "Waiting for the remaining 14 operations to synchronize with Neptune. Do not kill this process.\n"
     ]
    },
    {
     "name": "stdout",
     "output_type": "stream",
     "text": [
      "All 14 operations synced, thanks for waiting!\n",
      "Calculating final_EER_mean for Experiment ICAO-324\n",
      "https://app.neptune.ai/guilhermemg/icao-nets-training-2/e/ICAO-324\n",
      "Remember to stop your run once you’ve finished logging your metadata (https://docs.neptune.ai/api-reference/run#.stop). It will be stopped automatically only when the notebook kernel/interactive console is terminated.\n"
     ]
    },
    {
     "name": "stderr",
     "output_type": "stream",
     "text": [
      "100%|███████████████████████████████████████████████████████████████████| 23/23 [00:12<00:00,  1.91it/s]"
     ]
    },
    {
     "name": "stdout",
     "output_type": "stream",
     "text": [
      "ExpID: ICAO-324\n",
      "final_EER_mean_valid: 7.29%\n",
      "final_EER_mean_test: 7.67%\n",
      "Shutting down background jobs, please wait a moment...\n"
     ]
    },
    {
     "name": "stderr",
     "output_type": "stream",
     "text": [
      "\n"
     ]
    },
    {
     "name": "stdout",
     "output_type": "stream",
     "text": [
      "Done!\n"
     ]
    },
    {
     "name": "stderr",
     "output_type": "stream",
     "text": [
      "Waiting for the remaining 15 operations to synchronize with Neptune. Do not kill this process.\n"
     ]
    },
    {
     "name": "stdout",
     "output_type": "stream",
     "text": [
      "All 15 operations synced, thanks for waiting!\n",
      "Calculating final_EER_median for Experiment ICAO-324\n",
      "https://app.neptune.ai/guilhermemg/icao-nets-training-2/e/ICAO-324\n",
      "Remember to stop your run once you’ve finished logging your metadata (https://docs.neptune.ai/api-reference/run#.stop). It will be stopped automatically only when the notebook kernel/interactive console is terminated.\n"
     ]
    },
    {
     "name": "stderr",
     "output_type": "stream",
     "text": [
      "100%|███████████████████████████████████████████████████████████████████| 23/23 [00:11<00:00,  1.92it/s]"
     ]
    },
    {
     "name": "stdout",
     "output_type": "stream",
     "text": [
      "ExpID: ICAO-324\n",
      "final_EER_median_valid: 7.24%\n",
      "final_EER_median_test: 6.68%\n",
      "Shutting down background jobs, please wait a moment...\n"
     ]
    },
    {
     "name": "stderr",
     "output_type": "stream",
     "text": [
      "\n"
     ]
    },
    {
     "name": "stdout",
     "output_type": "stream",
     "text": [
      "Done!\n"
     ]
    },
    {
     "name": "stderr",
     "output_type": "stream",
     "text": [
      "Waiting for the remaining 15 operations to synchronize with Neptune. Do not kill this process.\n"
     ]
    },
    {
     "name": "stdout",
     "output_type": "stream",
     "text": [
      "All 15 operations synced, thanks for waiting!\n"
     ]
    }
   ],
   "source": [
    "calculate_metric('ICAO-324', 'ACC')   \n",
    "calculate_metric('ICAO-324', 'EER_mean')   \n",
    "calculate_metric('ICAO-324', 'EER_median')   "
   ]
  },
  {
   "cell_type": "markdown",
   "id": "e0b8d5bc-2f8b-4c82-a02c-3d7366b20f84",
   "metadata": {},
   "source": [
    "## ICAO-326"
   ]
  },
  {
   "cell_type": "code",
   "execution_count": 13,
   "id": "54745a76-fd2d-4366-a6d5-268dfb86e33b",
   "metadata": {
    "collapsed": true,
    "jupyter": {
     "outputs_hidden": true
    },
    "tags": []
   },
   "outputs": [
    {
     "name": "stdout",
     "output_type": "stream",
     "text": [
      "Calculating final_ACC for Experiment ICAO-326\n",
      "https://app.neptune.ai/guilhermemg/icao-nets-training-2/e/ICAO-326\n",
      "Remember to stop your run once you’ve finished logging your metadata (https://docs.neptune.ai/api-reference/run#.stop). It will be stopped automatically only when the notebook kernel/interactive console is terminated.\n"
     ]
    },
    {
     "name": "stderr",
     "output_type": "stream",
     "text": [
      "100%|███████████████████████████████████████████████████████████████████| 23/23 [00:12<00:00,  1.83it/s]"
     ]
    },
    {
     "name": "stdout",
     "output_type": "stream",
     "text": [
      "ExpID: ICAO-326\n",
      "final_ACC_valid: 91.6%\n",
      "final_ACC_test: 89.36%\n",
      "Shutting down background jobs, please wait a moment...\n"
     ]
    },
    {
     "name": "stderr",
     "output_type": "stream",
     "text": [
      "\n"
     ]
    },
    {
     "name": "stdout",
     "output_type": "stream",
     "text": [
      "Done!\n"
     ]
    },
    {
     "name": "stderr",
     "output_type": "stream",
     "text": [
      "Waiting for the remaining 30 operations to synchronize with Neptune. Do not kill this process.\n"
     ]
    },
    {
     "name": "stdout",
     "output_type": "stream",
     "text": [
      "All 30 operations synced, thanks for waiting!\n",
      "Calculating final_EER_mean for Experiment ICAO-326\n",
      "https://app.neptune.ai/guilhermemg/icao-nets-training-2/e/ICAO-326\n",
      "Remember to stop your run once you’ve finished logging your metadata (https://docs.neptune.ai/api-reference/run#.stop). It will be stopped automatically only when the notebook kernel/interactive console is terminated.\n"
     ]
    },
    {
     "name": "stderr",
     "output_type": "stream",
     "text": [
      "100%|███████████████████████████████████████████████████████████████████| 23/23 [00:12<00:00,  1.85it/s]"
     ]
    },
    {
     "name": "stdout",
     "output_type": "stream",
     "text": [
      "ExpID: ICAO-326\n",
      "final_EER_mean_valid: 7.87%\n",
      "final_EER_mean_test: 8.55%\n",
      "Shutting down background jobs, please wait a moment...\n"
     ]
    },
    {
     "name": "stderr",
     "output_type": "stream",
     "text": [
      "\n"
     ]
    },
    {
     "name": "stdout",
     "output_type": "stream",
     "text": [
      "Done!\n"
     ]
    },
    {
     "name": "stderr",
     "output_type": "stream",
     "text": [
      "Waiting for the remaining 16 operations to synchronize with Neptune. Do not kill this process.\n"
     ]
    },
    {
     "name": "stdout",
     "output_type": "stream",
     "text": [
      "All 16 operations synced, thanks for waiting!\n",
      "Calculating final_EER_median for Experiment ICAO-326\n",
      "https://app.neptune.ai/guilhermemg/icao-nets-training-2/e/ICAO-326\n",
      "Remember to stop your run once you’ve finished logging your metadata (https://docs.neptune.ai/api-reference/run#.stop). It will be stopped automatically only when the notebook kernel/interactive console is terminated.\n"
     ]
    },
    {
     "name": "stderr",
     "output_type": "stream",
     "text": [
      "100%|███████████████████████████████████████████████████████████████████| 23/23 [00:11<00:00,  1.92it/s]"
     ]
    },
    {
     "name": "stdout",
     "output_type": "stream",
     "text": [
      "ExpID: ICAO-326\n",
      "final_EER_median_valid: 6.76%\n",
      "final_EER_median_test: 9.2%\n",
      "Shutting down background jobs, please wait a moment...\n"
     ]
    },
    {
     "name": "stderr",
     "output_type": "stream",
     "text": [
      "\n"
     ]
    },
    {
     "name": "stdout",
     "output_type": "stream",
     "text": [
      "Done!\n"
     ]
    },
    {
     "name": "stderr",
     "output_type": "stream",
     "text": [
      "Waiting for the remaining 15 operations to synchronize with Neptune. Do not kill this process.\n"
     ]
    },
    {
     "name": "stdout",
     "output_type": "stream",
     "text": [
      "All 15 operations synced, thanks for waiting!\n"
     ]
    }
   ],
   "source": [
    "calculate_metric('ICAO-326', 'ACC')   \n",
    "calculate_metric('ICAO-326', 'EER_mean')   \n",
    "calculate_metric('ICAO-326', 'EER_median')   "
   ]
  },
  {
   "cell_type": "markdown",
   "id": "ebdd54e3-4a2c-4010-a71c-722638921750",
   "metadata": {},
   "source": [
    "# NAS - Approach 02"
   ]
  },
  {
   "cell_type": "markdown",
   "id": "281f4faf-0438-4979-ac65-de2cee522b81",
   "metadata": {},
   "source": [
    "## ICAO-319"
   ]
  },
  {
   "cell_type": "code",
   "execution_count": 10,
   "id": "a3922b42-71ec-4257-b68d-1d374a58e0a6",
   "metadata": {
    "collapsed": true,
    "jupyter": {
     "outputs_hidden": true
    },
    "tags": []
   },
   "outputs": [
    {
     "name": "stdout",
     "output_type": "stream",
     "text": [
      "Calculating final_ACC for Experiment ICAO-319\n",
      "https://app.neptune.ai/guilhermemg/icao-nets-training-2/e/ICAO-319\n",
      "Remember to stop your run once you’ve finished logging your metadata (https://docs.neptune.ai/api-reference/run#.stop). It will be stopped automatically only when the notebook kernel/interactive console is terminated.\n"
     ]
    },
    {
     "name": "stderr",
     "output_type": "stream",
     "text": [
      "100%|███████████████████████████████████████████████████████████████████| 23/23 [00:12<00:00,  1.85it/s]"
     ]
    },
    {
     "name": "stdout",
     "output_type": "stream",
     "text": [
      "ExpID: ICAO-319\n",
      "final_ACC_valid: 90.42%\n",
      "final_ACC_test: 89.96%\n",
      "Shutting down background jobs, please wait a moment...\n"
     ]
    },
    {
     "name": "stderr",
     "output_type": "stream",
     "text": [
      "\n"
     ]
    },
    {
     "name": "stdout",
     "output_type": "stream",
     "text": [
      "Done!\n"
     ]
    },
    {
     "name": "stderr",
     "output_type": "stream",
     "text": [
      "Waiting for the remaining 14 operations to synchronize with Neptune. Do not kill this process.\n"
     ]
    },
    {
     "name": "stdout",
     "output_type": "stream",
     "text": [
      "All 14 operations synced, thanks for waiting!\n",
      "Calculating final_EER_mean for Experiment ICAO-319\n",
      "https://app.neptune.ai/guilhermemg/icao-nets-training-2/e/ICAO-319\n",
      "Remember to stop your run once you’ve finished logging your metadata (https://docs.neptune.ai/api-reference/run#.stop). It will be stopped automatically only when the notebook kernel/interactive console is terminated.\n"
     ]
    },
    {
     "name": "stderr",
     "output_type": "stream",
     "text": [
      "100%|███████████████████████████████████████████████████████████████████| 23/23 [00:11<00:00,  1.92it/s]"
     ]
    },
    {
     "name": "stdout",
     "output_type": "stream",
     "text": [
      "ExpID: ICAO-319\n",
      "final_EER_mean_valid: 8.01%\n",
      "final_EER_mean_test: 8.83%\n",
      "Shutting down background jobs, please wait a moment...\n"
     ]
    },
    {
     "name": "stderr",
     "output_type": "stream",
     "text": [
      "\n"
     ]
    },
    {
     "name": "stdout",
     "output_type": "stream",
     "text": [
      "Done!\n"
     ]
    },
    {
     "name": "stderr",
     "output_type": "stream",
     "text": [
      "Waiting for the remaining 15 operations to synchronize with Neptune. Do not kill this process.\n"
     ]
    },
    {
     "name": "stdout",
     "output_type": "stream",
     "text": [
      "All 15 operations synced, thanks for waiting!\n",
      "Calculating final_EER_median for Experiment ICAO-319\n",
      "https://app.neptune.ai/guilhermemg/icao-nets-training-2/e/ICAO-319\n",
      "Remember to stop your run once you’ve finished logging your metadata (https://docs.neptune.ai/api-reference/run#.stop). It will be stopped automatically only when the notebook kernel/interactive console is terminated.\n"
     ]
    },
    {
     "name": "stderr",
     "output_type": "stream",
     "text": [
      "100%|███████████████████████████████████████████████████████████████████| 23/23 [00:12<00:00,  1.90it/s]"
     ]
    },
    {
     "name": "stdout",
     "output_type": "stream",
     "text": [
      "ExpID: ICAO-319\n",
      "final_EER_median_valid: 7.63%\n",
      "final_EER_median_test: 8.93%\n",
      "Shutting down background jobs, please wait a moment...\n"
     ]
    },
    {
     "name": "stderr",
     "output_type": "stream",
     "text": [
      "\n"
     ]
    },
    {
     "name": "stdout",
     "output_type": "stream",
     "text": [
      "Done!\n"
     ]
    },
    {
     "name": "stderr",
     "output_type": "stream",
     "text": [
      "Waiting for the remaining 15 operations to synchronize with Neptune. Do not kill this process.\n"
     ]
    },
    {
     "name": "stdout",
     "output_type": "stream",
     "text": [
      "All 15 operations synced, thanks for waiting!\n"
     ]
    }
   ],
   "source": [
    "calculate_metric('ICAO-319', 'ACC')   \n",
    "calculate_metric('ICAO-319', 'EER_mean')   \n",
    "calculate_metric('ICAO-319', 'EER_median')   "
   ]
  },
  {
   "cell_type": "markdown",
   "id": "c1347b13-1d72-4279-b6f1-d0a48e279bc3",
   "metadata": {},
   "source": [
    "## ICAO-320"
   ]
  },
  {
   "cell_type": "code",
   "execution_count": 11,
   "id": "51c1610f-5133-4ef1-9686-42617fff01bd",
   "metadata": {
    "collapsed": true,
    "jupyter": {
     "outputs_hidden": true
    },
    "tags": []
   },
   "outputs": [
    {
     "name": "stdout",
     "output_type": "stream",
     "text": [
      "Calculating final_ACC for Experiment ICAO-320\n",
      "https://app.neptune.ai/guilhermemg/icao-nets-training-2/e/ICAO-320\n",
      "Remember to stop your run once you’ve finished logging your metadata (https://docs.neptune.ai/api-reference/run#.stop). It will be stopped automatically only when the notebook kernel/interactive console is terminated.\n"
     ]
    },
    {
     "name": "stderr",
     "output_type": "stream",
     "text": [
      "100%|███████████████████████████████████████████████████████████████████| 23/23 [00:11<00:00,  1.92it/s]"
     ]
    },
    {
     "name": "stdout",
     "output_type": "stream",
     "text": [
      "ExpID: ICAO-320\n",
      "final_ACC_valid: 87.28%\n",
      "final_ACC_test: 87.09%\n",
      "Shutting down background jobs, please wait a moment...\n"
     ]
    },
    {
     "name": "stderr",
     "output_type": "stream",
     "text": [
      "\n"
     ]
    },
    {
     "name": "stdout",
     "output_type": "stream",
     "text": [
      "Done!\n"
     ]
    },
    {
     "name": "stderr",
     "output_type": "stream",
     "text": [
      "Waiting for the remaining 29 operations to synchronize with Neptune. Do not kill this process.\n"
     ]
    },
    {
     "name": "stdout",
     "output_type": "stream",
     "text": [
      "All 29 operations synced, thanks for waiting!\n",
      "Calculating final_EER_mean for Experiment ICAO-320\n",
      "https://app.neptune.ai/guilhermemg/icao-nets-training-2/e/ICAO-320\n",
      "Remember to stop your run once you’ve finished logging your metadata (https://docs.neptune.ai/api-reference/run#.stop). It will be stopped automatically only when the notebook kernel/interactive console is terminated.\n"
     ]
    },
    {
     "name": "stderr",
     "output_type": "stream",
     "text": [
      "100%|███████████████████████████████████████████████████████████████████| 23/23 [00:12<00:00,  1.91it/s]"
     ]
    },
    {
     "name": "stdout",
     "output_type": "stream",
     "text": [
      "ExpID: ICAO-320\n",
      "final_EER_mean_valid: 7.32%\n",
      "final_EER_mean_test: 7.73%\n",
      "Shutting down background jobs, please wait a moment...\n"
     ]
    },
    {
     "name": "stderr",
     "output_type": "stream",
     "text": [
      "\n"
     ]
    },
    {
     "name": "stdout",
     "output_type": "stream",
     "text": [
      "Done!\n"
     ]
    },
    {
     "name": "stderr",
     "output_type": "stream",
     "text": [
      "Waiting for the remaining 15 operations to synchronize with Neptune. Do not kill this process.\n"
     ]
    },
    {
     "name": "stdout",
     "output_type": "stream",
     "text": [
      "All 15 operations synced, thanks for waiting!\n",
      "Calculating final_EER_median for Experiment ICAO-320\n",
      "https://app.neptune.ai/guilhermemg/icao-nets-training-2/e/ICAO-320\n",
      "Remember to stop your run once you’ve finished logging your metadata (https://docs.neptune.ai/api-reference/run#.stop). It will be stopped automatically only when the notebook kernel/interactive console is terminated.\n"
     ]
    },
    {
     "name": "stderr",
     "output_type": "stream",
     "text": [
      "100%|███████████████████████████████████████████████████████████████████| 23/23 [00:12<00:00,  1.84it/s]"
     ]
    },
    {
     "name": "stdout",
     "output_type": "stream",
     "text": [
      "ExpID: ICAO-320\n",
      "final_EER_median_valid: 7.0%\n",
      "final_EER_median_test: 5.85%\n",
      "Shutting down background jobs, please wait a moment...\n"
     ]
    },
    {
     "name": "stderr",
     "output_type": "stream",
     "text": [
      "\n"
     ]
    },
    {
     "name": "stdout",
     "output_type": "stream",
     "text": [
      "Done!\n"
     ]
    },
    {
     "name": "stderr",
     "output_type": "stream",
     "text": [
      "Waiting for the remaining 16 operations to synchronize with Neptune. Do not kill this process.\n"
     ]
    },
    {
     "name": "stdout",
     "output_type": "stream",
     "text": [
      "All 16 operations synced, thanks for waiting!\n"
     ]
    }
   ],
   "source": [
    "calculate_metric('ICAO-320', 'ACC')   \n",
    "calculate_metric('ICAO-320', 'EER_mean')   \n",
    "calculate_metric('ICAO-320', 'EER_median')   "
   ]
  },
  {
   "cell_type": "markdown",
   "id": "64157853-d81a-4d6b-aad5-0e3c94a5ffd7",
   "metadata": {},
   "source": [
    "## ICAO-331"
   ]
  },
  {
   "cell_type": "code",
   "execution_count": 14,
   "id": "eb317355-d28a-4385-822a-92897522183d",
   "metadata": {
    "collapsed": true,
    "jupyter": {
     "outputs_hidden": true
    },
    "tags": []
   },
   "outputs": [
    {
     "name": "stdout",
     "output_type": "stream",
     "text": [
      "Calculating final_ACC for Experiment ICAO-331\n",
      "https://app.neptune.ai/guilhermemg/icao-nets-training-2/e/ICAO-331\n",
      "Remember to stop your run once you’ve finished logging your metadata (https://docs.neptune.ai/api-reference/run#.stop). It will be stopped automatically only when the notebook kernel/interactive console is terminated.\n"
     ]
    },
    {
     "name": "stderr",
     "output_type": "stream",
     "text": [
      "100%|███████████████████████████████████████████████████████████████████| 23/23 [00:12<00:00,  1.85it/s]"
     ]
    },
    {
     "name": "stdout",
     "output_type": "stream",
     "text": [
      "ExpID: ICAO-331\n",
      "final_ACC_valid: 86.95%\n",
      "final_ACC_test: 91.24%\n",
      "Shutting down background jobs, please wait a moment...\n"
     ]
    },
    {
     "name": "stderr",
     "output_type": "stream",
     "text": [
      "\n"
     ]
    },
    {
     "name": "stdout",
     "output_type": "stream",
     "text": [
      "Done!\n"
     ]
    },
    {
     "name": "stderr",
     "output_type": "stream",
     "text": [
      "Waiting for the remaining 13 operations to synchronize with Neptune. Do not kill this process.\n"
     ]
    },
    {
     "name": "stdout",
     "output_type": "stream",
     "text": [
      "All 13 operations synced, thanks for waiting!\n",
      "Calculating final_EER_mean for Experiment ICAO-331\n",
      "https://app.neptune.ai/guilhermemg/icao-nets-training-2/e/ICAO-331\n",
      "Remember to stop your run once you’ve finished logging your metadata (https://docs.neptune.ai/api-reference/run#.stop). It will be stopped automatically only when the notebook kernel/interactive console is terminated.\n"
     ]
    },
    {
     "name": "stderr",
     "output_type": "stream",
     "text": [
      "100%|███████████████████████████████████████████████████████████████████| 23/23 [00:12<00:00,  1.86it/s]"
     ]
    },
    {
     "name": "stdout",
     "output_type": "stream",
     "text": [
      "ExpID: ICAO-331\n",
      "final_EER_mean_valid: 8.26%\n",
      "final_EER_mean_test: 8.14%\n",
      "Shutting down background jobs, please wait a moment...\n"
     ]
    },
    {
     "name": "stderr",
     "output_type": "stream",
     "text": [
      "\n"
     ]
    },
    {
     "name": "stdout",
     "output_type": "stream",
     "text": [
      "Done!\n"
     ]
    },
    {
     "name": "stderr",
     "output_type": "stream",
     "text": [
      "Waiting for the remaining 16 operations to synchronize with Neptune. Do not kill this process.\n"
     ]
    },
    {
     "name": "stdout",
     "output_type": "stream",
     "text": [
      "All 16 operations synced, thanks for waiting!\n",
      "Calculating final_EER_median for Experiment ICAO-331\n",
      "https://app.neptune.ai/guilhermemg/icao-nets-training-2/e/ICAO-331\n",
      "Remember to stop your run once you’ve finished logging your metadata (https://docs.neptune.ai/api-reference/run#.stop). It will be stopped automatically only when the notebook kernel/interactive console is terminated.\n"
     ]
    },
    {
     "name": "stderr",
     "output_type": "stream",
     "text": [
      "100%|███████████████████████████████████████████████████████████████████| 23/23 [00:12<00:00,  1.78it/s]"
     ]
    },
    {
     "name": "stdout",
     "output_type": "stream",
     "text": [
      "ExpID: ICAO-331\n",
      "final_EER_median_valid: 8.04%\n",
      "final_EER_median_test: 8.45%\n",
      "Shutting down background jobs, please wait a moment...\n"
     ]
    },
    {
     "name": "stderr",
     "output_type": "stream",
     "text": [
      "\n"
     ]
    },
    {
     "name": "stdout",
     "output_type": "stream",
     "text": [
      "Done!\n"
     ]
    },
    {
     "name": "stderr",
     "output_type": "stream",
     "text": [
      "Waiting for the remaining 17 operations to synchronize with Neptune. Do not kill this process.\n"
     ]
    },
    {
     "name": "stdout",
     "output_type": "stream",
     "text": [
      "All 17 operations synced, thanks for waiting!\n"
     ]
    }
   ],
   "source": [
    "calculate_metric('ICAO-331', 'ACC')   \n",
    "calculate_metric('ICAO-331', 'EER_mean')   \n",
    "calculate_metric('ICAO-331', 'EER_median')   "
   ]
  },
  {
   "cell_type": "markdown",
   "id": "1b88e397-023c-4d06-909b-9dabbc3f2c08",
   "metadata": {},
   "source": [
    "## ICAO-320"
   ]
  },
  {
   "cell_type": "code",
   "execution_count": 15,
   "id": "8c108886-3414-494d-be4f-24aab458d6e8",
   "metadata": {
    "collapsed": true,
    "jupyter": {
     "outputs_hidden": true
    },
    "tags": []
   },
   "outputs": [
    {
     "name": "stdout",
     "output_type": "stream",
     "text": [
      "Calculating final_ACC for Experiment ICAO-332\n",
      "https://app.neptune.ai/guilhermemg/icao-nets-training-2/e/ICAO-332\n",
      "Remember to stop your run once you’ve finished logging your metadata (https://docs.neptune.ai/api-reference/run#.stop). It will be stopped automatically only when the notebook kernel/interactive console is terminated.\n"
     ]
    },
    {
     "name": "stderr",
     "output_type": "stream",
     "text": [
      "100%|███████████████████████████████████████████████████████████████████| 23/23 [00:11<00:00,  1.92it/s]"
     ]
    },
    {
     "name": "stdout",
     "output_type": "stream",
     "text": [
      "ExpID: ICAO-332\n",
      "final_ACC_valid: 91.24%\n",
      "final_ACC_test: 90.81%\n",
      "Shutting down background jobs, please wait a moment...\n"
     ]
    },
    {
     "name": "stderr",
     "output_type": "stream",
     "text": [
      "\n"
     ]
    },
    {
     "name": "stdout",
     "output_type": "stream",
     "text": [
      "Done!\n"
     ]
    },
    {
     "name": "stderr",
     "output_type": "stream",
     "text": [
      "Waiting for the remaining 13 operations to synchronize with Neptune. Do not kill this process.\n"
     ]
    },
    {
     "name": "stdout",
     "output_type": "stream",
     "text": [
      "All 13 operations synced, thanks for waiting!\n",
      "Calculating final_EER_mean for Experiment ICAO-332\n",
      "https://app.neptune.ai/guilhermemg/icao-nets-training-2/e/ICAO-332\n",
      "Remember to stop your run once you’ve finished logging your metadata (https://docs.neptune.ai/api-reference/run#.stop). It will be stopped automatically only when the notebook kernel/interactive console is terminated.\n"
     ]
    },
    {
     "name": "stderr",
     "output_type": "stream",
     "text": [
      "100%|███████████████████████████████████████████████████████████████████| 23/23 [00:11<00:00,  1.92it/s]"
     ]
    },
    {
     "name": "stdout",
     "output_type": "stream",
     "text": [
      "ExpID: ICAO-332\n",
      "final_EER_mean_valid: 8.14%\n",
      "final_EER_mean_test: 8.31%\n",
      "Shutting down background jobs, please wait a moment...\n"
     ]
    },
    {
     "name": "stderr",
     "output_type": "stream",
     "text": [
      "\n"
     ]
    },
    {
     "name": "stdout",
     "output_type": "stream",
     "text": [
      "Done!\n"
     ]
    },
    {
     "name": "stderr",
     "output_type": "stream",
     "text": [
      "Waiting for the remaining 29 operations to synchronize with Neptune. Do not kill this process.\n"
     ]
    },
    {
     "name": "stdout",
     "output_type": "stream",
     "text": [
      "All 29 operations synced, thanks for waiting!\n",
      "Calculating final_EER_median for Experiment ICAO-332\n",
      "https://app.neptune.ai/guilhermemg/icao-nets-training-2/e/ICAO-332\n",
      "Remember to stop your run once you’ve finished logging your metadata (https://docs.neptune.ai/api-reference/run#.stop). It will be stopped automatically only when the notebook kernel/interactive console is terminated.\n"
     ]
    },
    {
     "name": "stderr",
     "output_type": "stream",
     "text": [
      "100%|███████████████████████████████████████████████████████████████████| 23/23 [00:11<00:00,  1.93it/s]"
     ]
    },
    {
     "name": "stdout",
     "output_type": "stream",
     "text": [
      "ExpID: ICAO-332\n",
      "final_EER_median_valid: 6.48%\n",
      "final_EER_median_test: 7.83%\n",
      "Shutting down background jobs, please wait a moment...\n"
     ]
    },
    {
     "name": "stderr",
     "output_type": "stream",
     "text": [
      "\n"
     ]
    },
    {
     "name": "stdout",
     "output_type": "stream",
     "text": [
      "Done!\n"
     ]
    },
    {
     "name": "stderr",
     "output_type": "stream",
     "text": [
      "Waiting for the remaining 15 operations to synchronize with Neptune. Do not kill this process.\n"
     ]
    },
    {
     "name": "stdout",
     "output_type": "stream",
     "text": [
      "All 15 operations synced, thanks for waiting!\n"
     ]
    }
   ],
   "source": [
    "calculate_metric('ICAO-332', 'ACC')   \n",
    "calculate_metric('ICAO-332', 'EER_mean')   \n",
    "calculate_metric('ICAO-332', 'EER_median')   "
   ]
  }
 ],
 "metadata": {
  "kernelspec": {
   "display_name": "Python 3 (ipykernel)",
   "language": "python",
   "name": "python3"
  },
  "language_info": {
   "codemirror_mode": {
    "name": "ipython",
    "version": 3
   },
   "file_extension": ".py",
   "mimetype": "text/x-python",
   "name": "python",
   "nbconvert_exporter": "python",
   "pygments_lexer": "ipython3",
   "version": "3.8.0"
  }
 },
 "nbformat": 4,
 "nbformat_minor": 5
}

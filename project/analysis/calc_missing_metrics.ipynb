{
 "cells": [
  {
   "cell_type": "markdown",
   "id": "d3a26b90-53cb-4136-a998-cac81d84bd8a",
   "metadata": {},
   "source": [
    "# Introduction\n",
    "\n",
    "Notebook para cálculo de métrica final_EER_median para experimentos com MTL Handcrafted 1, 2, 3 e com NAS.\n",
    "\n",
    "Os dados que já estão no Neptune são usados para calcular o final_EER_median e o valor calculado é armazenado de volta no Neptune."
   ]
  },
  {
   "cell_type": "markdown",
   "id": "d98d5a38-33d5-4ef9-a321-8f21b249d57d",
   "metadata": {},
   "source": [
    "# Import Libraries"
   ]
  },
  {
   "cell_type": "code",
   "execution_count": 1,
   "id": "6cd77f5e-c77f-482c-aaca-0f583922178e",
   "metadata": {
    "tags": []
   },
   "outputs": [],
   "source": [
    "import sys\n",
    "import statistics\n",
    "import neptune.new as neptune\n",
    "import pandas as pd\n",
    "\n",
    "from tqdm import tqdm\n",
    "\n",
    "if '..' not in sys.path:\n",
    "    sys.path.insert(0, '..')\n",
    "\n",
    "from src.configs import config \n",
    "from src.m_utils import constants as cts    "
   ]
  },
  {
   "cell_type": "markdown",
   "id": "bb2340d1-2c80-44f3-a9ef-40844cdf8edc",
   "metadata": {},
   "source": [
    "# Fix n_child_epochs de ICAO-301 e ICAO-299\n",
    "\n",
    "n_child_epochs = 1, mas está faltando no Neptune"
   ]
  },
  {
   "cell_type": "code",
   "execution_count": 2,
   "id": "a06b96e8-c90f-491c-aa16-49820f0db73b",
   "metadata": {
    "collapsed": true,
    "jupyter": {
     "outputs_hidden": true,
     "source_hidden": true
    },
    "tags": []
   },
   "outputs": [
    {
     "name": "stdout",
     "output_type": "stream",
     "text": [
      "https://app.neptune.ai/guilhermemg/icao-nets-training-2/e/ICAO-299\n",
      "Remember to stop your run once you’ve finished logging your metadata (https://docs.neptune.ai/api-reference/run#.stop). It will be stopped automatically only when the notebook kernel/interactive console is terminated.\n",
      "Shutting down background jobs, please wait a moment...\n",
      "Done!\n"
     ]
    },
    {
     "name": "stderr",
     "output_type": "stream",
     "text": [
      "Waiting for the remaining 8 operations to synchronize with Neptune. Do not kill this process.\n"
     ]
    },
    {
     "name": "stdout",
     "output_type": "stream",
     "text": [
      "All 8 operations synced, thanks for waiting!\n"
     ]
    }
   ],
   "source": [
    "run = neptune.init(project='guilhermemg/icao-nets-training-2', \n",
    "                    api_token=config.NEPTUNE_API_TOKEN,\n",
    "                    run='ICAO-299')\n",
    "\n",
    "run['nas_parameters/n_child_epochs'] = 1\n",
    "\n",
    "run.stop()"
   ]
  },
  {
   "cell_type": "code",
   "execution_count": 3,
   "id": "8051315f-7f80-4dbd-aacb-e78f00e4bc0e",
   "metadata": {
    "collapsed": true,
    "jupyter": {
     "outputs_hidden": true,
     "source_hidden": true
    },
    "tags": []
   },
   "outputs": [
    {
     "name": "stdout",
     "output_type": "stream",
     "text": [
      "https://app.neptune.ai/guilhermemg/icao-nets-training-2/e/ICAO-301\n",
      "Remember to stop your run once you’ve finished logging your metadata (https://docs.neptune.ai/api-reference/run#.stop). It will be stopped automatically only when the notebook kernel/interactive console is terminated.\n",
      "Shutting down background jobs, please wait a moment...\n",
      "Done!\n"
     ]
    },
    {
     "name": "stderr",
     "output_type": "stream",
     "text": [
      "Waiting for the remaining 8 operations to synchronize with Neptune. Do not kill this process.\n"
     ]
    },
    {
     "name": "stdout",
     "output_type": "stream",
     "text": [
      "All 8 operations synced, thanks for waiting!\n"
     ]
    }
   ],
   "source": [
    "run = neptune.init(project='guilhermemg/icao-nets-training-2', \n",
    "                    api_token=config.NEPTUNE_API_TOKEN,\n",
    "                    run='ICAO-301')\n",
    "\n",
    "run['nas_parameters/n_child_epochs'] = 1\n",
    "\n",
    "run.stop()"
   ]
  },
  {
   "cell_type": "markdown",
   "id": "cb464bfa-5a5c-4c2e-b3d6-50c7dd84563d",
   "metadata": {},
   "source": [
    "# Fix to Percentage STL Results on Neptune"
   ]
  },
  {
   "cell_type": "code",
   "execution_count": 5,
   "id": "e49d75c5-bb5e-4979-9f4b-1cbb7b48a9ba",
   "metadata": {
    "collapsed": true,
    "jupyter": {
     "outputs_hidden": true
    },
    "tags": []
   },
   "outputs": [
    {
     "name": "stdout",
     "output_type": "stream",
     "text": [
      "https://app.neptune.ai/guilhermemg/icao-nets-training-2/e/ICAO-169\n",
      "Remember to stop your run once you’ve finished logging your metadata (https://docs.neptune.ai/api-reference/run#.stop). It will be stopped automatically only when the notebook kernel/interactive console is terminated.\n",
      "Shutting down background jobs, please wait a moment...\n",
      "Done!\n"
     ]
    },
    {
     "name": "stderr",
     "output_type": "stream",
     "text": [
      "Waiting for the remaining 13 operations to synchronize with Neptune. Do not kill this process.\n"
     ]
    },
    {
     "name": "stdout",
     "output_type": "stream",
     "text": [
      "All 13 operations synced, thanks for waiting!\n",
      "https://app.neptune.ai/guilhermemg/icao-nets-training-2/e/ICAO-170\n",
      "Remember to stop your run once you’ve finished logging your metadata (https://docs.neptune.ai/api-reference/run#.stop). It will be stopped automatically only when the notebook kernel/interactive console is terminated.\n",
      "Shutting down background jobs, please wait a moment...\n",
      "Done!\n"
     ]
    },
    {
     "name": "stderr",
     "output_type": "stream",
     "text": [
      "Waiting for the remaining 13 operations to synchronize with Neptune. Do not kill this process.\n"
     ]
    },
    {
     "name": "stdout",
     "output_type": "stream",
     "text": [
      "All 13 operations synced, thanks for waiting!\n",
      "https://app.neptune.ai/guilhermemg/icao-nets-training-2/e/ICAO-174\n",
      "Remember to stop your run once you’ve finished logging your metadata (https://docs.neptune.ai/api-reference/run#.stop). It will be stopped automatically only when the notebook kernel/interactive console is terminated.\n",
      "Shutting down background jobs, please wait a moment...\n",
      "Done!\n"
     ]
    },
    {
     "name": "stderr",
     "output_type": "stream",
     "text": [
      "Waiting for the remaining 13 operations to synchronize with Neptune. Do not kill this process.\n"
     ]
    },
    {
     "name": "stdout",
     "output_type": "stream",
     "text": [
      "All 13 operations synced, thanks for waiting!\n",
      "https://app.neptune.ai/guilhermemg/icao-nets-training-2/e/ICAO-168\n",
      "Remember to stop your run once you’ve finished logging your metadata (https://docs.neptune.ai/api-reference/run#.stop). It will be stopped automatically only when the notebook kernel/interactive console is terminated.\n",
      "Shutting down background jobs, please wait a moment...\n",
      "Done!\n"
     ]
    },
    {
     "name": "stderr",
     "output_type": "stream",
     "text": [
      "Waiting for the remaining 13 operations to synchronize with Neptune. Do not kill this process.\n"
     ]
    },
    {
     "name": "stdout",
     "output_type": "stream",
     "text": [
      "All 13 operations synced, thanks for waiting!\n",
      "https://app.neptune.ai/guilhermemg/icao-nets-training-2/e/ICAO-185\n",
      "Remember to stop your run once you’ve finished logging your metadata (https://docs.neptune.ai/api-reference/run#.stop). It will be stopped automatically only when the notebook kernel/interactive console is terminated.\n",
      "Shutting down background jobs, please wait a moment...\n",
      "Done!\n"
     ]
    },
    {
     "name": "stderr",
     "output_type": "stream",
     "text": [
      "Waiting for the remaining 13 operations to synchronize with Neptune. Do not kill this process.\n"
     ]
    },
    {
     "name": "stdout",
     "output_type": "stream",
     "text": [
      "All 13 operations synced, thanks for waiting!\n",
      "https://app.neptune.ai/guilhermemg/icao-nets-training-2/e/ICAO-178\n",
      "Remember to stop your run once you’ve finished logging your metadata (https://docs.neptune.ai/api-reference/run#.stop). It will be stopped automatically only when the notebook kernel/interactive console is terminated.\n",
      "Shutting down background jobs, please wait a moment...\n",
      "Done!\n"
     ]
    },
    {
     "name": "stderr",
     "output_type": "stream",
     "text": [
      "Waiting for the remaining 13 operations to synchronize with Neptune. Do not kill this process.\n"
     ]
    },
    {
     "name": "stdout",
     "output_type": "stream",
     "text": [
      "All 13 operations synced, thanks for waiting!\n",
      "https://app.neptune.ai/guilhermemg/icao-nets-training-2/e/ICAO-179\n",
      "Remember to stop your run once you’ve finished logging your metadata (https://docs.neptune.ai/api-reference/run#.stop). It will be stopped automatically only when the notebook kernel/interactive console is terminated.\n",
      "Shutting down background jobs, please wait a moment...\n",
      "Done!\n"
     ]
    },
    {
     "name": "stderr",
     "output_type": "stream",
     "text": [
      "Waiting for the remaining 13 operations to synchronize with Neptune. Do not kill this process.\n"
     ]
    },
    {
     "name": "stdout",
     "output_type": "stream",
     "text": [
      "All 13 operations synced, thanks for waiting!\n",
      "https://app.neptune.ai/guilhermemg/icao-nets-training-2/e/ICAO-173\n",
      "Remember to stop your run once you’ve finished logging your metadata (https://docs.neptune.ai/api-reference/run#.stop). It will be stopped automatically only when the notebook kernel/interactive console is terminated.\n",
      "Shutting down background jobs, please wait a moment...\n",
      "Done!\n"
     ]
    },
    {
     "name": "stderr",
     "output_type": "stream",
     "text": [
      "Waiting for the remaining 13 operations to synchronize with Neptune. Do not kill this process.\n"
     ]
    },
    {
     "name": "stdout",
     "output_type": "stream",
     "text": [
      "All 13 operations synced, thanks for waiting!\n",
      "https://app.neptune.ai/guilhermemg/icao-nets-training-2/e/ICAO-184\n",
      "Remember to stop your run once you’ve finished logging your metadata (https://docs.neptune.ai/api-reference/run#.stop). It will be stopped automatically only when the notebook kernel/interactive console is terminated.\n",
      "Shutting down background jobs, please wait a moment...\n",
      "Done!\n"
     ]
    },
    {
     "name": "stderr",
     "output_type": "stream",
     "text": [
      "Waiting for the remaining 13 operations to synchronize with Neptune. Do not kill this process.\n"
     ]
    },
    {
     "name": "stdout",
     "output_type": "stream",
     "text": [
      "All 13 operations synced, thanks for waiting!\n",
      "https://app.neptune.ai/guilhermemg/icao-nets-training-2/e/ICAO-186\n",
      "Remember to stop your run once you’ve finished logging your metadata (https://docs.neptune.ai/api-reference/run#.stop). It will be stopped automatically only when the notebook kernel/interactive console is terminated.\n",
      "Shutting down background jobs, please wait a moment...\n",
      "Done!\n"
     ]
    },
    {
     "name": "stderr",
     "output_type": "stream",
     "text": [
      "Waiting for the remaining 13 operations to synchronize with Neptune. Do not kill this process.\n"
     ]
    },
    {
     "name": "stdout",
     "output_type": "stream",
     "text": [
      "All 13 operations synced, thanks for waiting!\n",
      "https://app.neptune.ai/guilhermemg/icao-nets-training-2/e/ICAO-176\n",
      "Remember to stop your run once you’ve finished logging your metadata (https://docs.neptune.ai/api-reference/run#.stop). It will be stopped automatically only when the notebook kernel/interactive console is terminated.\n",
      "Shutting down background jobs, please wait a moment...\n",
      "Done!\n"
     ]
    },
    {
     "name": "stderr",
     "output_type": "stream",
     "text": [
      "Waiting for the remaining 13 operations to synchronize with Neptune. Do not kill this process.\n"
     ]
    },
    {
     "name": "stdout",
     "output_type": "stream",
     "text": [
      "All 13 operations synced, thanks for waiting!\n",
      "https://app.neptune.ai/guilhermemg/icao-nets-training-2/e/ICAO-177\n",
      "Remember to stop your run once you’ve finished logging your metadata (https://docs.neptune.ai/api-reference/run#.stop). It will be stopped automatically only when the notebook kernel/interactive console is terminated.\n",
      "Shutting down background jobs, please wait a moment...\n",
      "Done!\n"
     ]
    },
    {
     "name": "stderr",
     "output_type": "stream",
     "text": [
      "Waiting for the remaining 13 operations to synchronize with Neptune. Do not kill this process.\n"
     ]
    },
    {
     "name": "stdout",
     "output_type": "stream",
     "text": [
      "All 13 operations synced, thanks for waiting!\n",
      "https://app.neptune.ai/guilhermemg/icao-nets-training-2/e/ICAO-172\n",
      "Remember to stop your run once you’ve finished logging your metadata (https://docs.neptune.ai/api-reference/run#.stop). It will be stopped automatically only when the notebook kernel/interactive console is terminated.\n",
      "Shutting down background jobs, please wait a moment...\n",
      "Done!\n"
     ]
    },
    {
     "name": "stderr",
     "output_type": "stream",
     "text": [
      "Waiting for the remaining 13 operations to synchronize with Neptune. Do not kill this process.\n"
     ]
    },
    {
     "name": "stdout",
     "output_type": "stream",
     "text": [
      "All 13 operations synced, thanks for waiting!\n",
      "https://app.neptune.ai/guilhermemg/icao-nets-training-2/e/ICAO-167\n",
      "Remember to stop your run once you’ve finished logging your metadata (https://docs.neptune.ai/api-reference/run#.stop). It will be stopped automatically only when the notebook kernel/interactive console is terminated.\n",
      "Shutting down background jobs, please wait a moment...\n",
      "Done!\n"
     ]
    },
    {
     "name": "stderr",
     "output_type": "stream",
     "text": [
      "Waiting for the remaining 13 operations to synchronize with Neptune. Do not kill this process.\n"
     ]
    },
    {
     "name": "stdout",
     "output_type": "stream",
     "text": [
      "All 13 operations synced, thanks for waiting!\n",
      "https://app.neptune.ai/guilhermemg/icao-nets-training-2/e/ICAO-175\n",
      "Remember to stop your run once you’ve finished logging your metadata (https://docs.neptune.ai/api-reference/run#.stop). It will be stopped automatically only when the notebook kernel/interactive console is terminated.\n",
      "Shutting down background jobs, please wait a moment...\n",
      "Done!\n"
     ]
    },
    {
     "name": "stderr",
     "output_type": "stream",
     "text": [
      "Waiting for the remaining 13 operations to synchronize with Neptune. Do not kill this process.\n"
     ]
    },
    {
     "name": "stdout",
     "output_type": "stream",
     "text": [
      "All 13 operations synced, thanks for waiting!\n",
      "https://app.neptune.ai/guilhermemg/icao-nets-training-2/e/ICAO-166\n",
      "Remember to stop your run once you’ve finished logging your metadata (https://docs.neptune.ai/api-reference/run#.stop). It will be stopped automatically only when the notebook kernel/interactive console is terminated.\n",
      "Shutting down background jobs, please wait a moment...\n",
      "Done!\n"
     ]
    },
    {
     "name": "stderr",
     "output_type": "stream",
     "text": [
      "Waiting for the remaining 13 operations to synchronize with Neptune. Do not kill this process.\n"
     ]
    },
    {
     "name": "stdout",
     "output_type": "stream",
     "text": [
      "All 13 operations synced, thanks for waiting!\n",
      "https://app.neptune.ai/guilhermemg/icao-nets-training-2/e/ICAO-181\n",
      "Remember to stop your run once you’ve finished logging your metadata (https://docs.neptune.ai/api-reference/run#.stop). It will be stopped automatically only when the notebook kernel/interactive console is terminated.\n",
      "Shutting down background jobs, please wait a moment...\n",
      "Done!\n"
     ]
    },
    {
     "name": "stderr",
     "output_type": "stream",
     "text": [
      "Waiting for the remaining 13 operations to synchronize with Neptune. Do not kill this process.\n"
     ]
    },
    {
     "name": "stdout",
     "output_type": "stream",
     "text": [
      "All 13 operations synced, thanks for waiting!\n",
      "https://app.neptune.ai/guilhermemg/icao-nets-training-2/e/ICAO-164\n",
      "Remember to stop your run once you’ve finished logging your metadata (https://docs.neptune.ai/api-reference/run#.stop). It will be stopped automatically only when the notebook kernel/interactive console is terminated.\n",
      "Shutting down background jobs, please wait a moment...\n",
      "Done!\n"
     ]
    },
    {
     "name": "stderr",
     "output_type": "stream",
     "text": [
      "Waiting for the remaining 13 operations to synchronize with Neptune. Do not kill this process.\n"
     ]
    },
    {
     "name": "stdout",
     "output_type": "stream",
     "text": [
      "All 13 operations synced, thanks for waiting!\n",
      "https://app.neptune.ai/guilhermemg/icao-nets-training-2/e/ICAO-165\n",
      "Remember to stop your run once you’ve finished logging your metadata (https://docs.neptune.ai/api-reference/run#.stop). It will be stopped automatically only when the notebook kernel/interactive console is terminated.\n",
      "Shutting down background jobs, please wait a moment...\n",
      "Done!\n"
     ]
    },
    {
     "name": "stderr",
     "output_type": "stream",
     "text": [
      "Waiting for the remaining 13 operations to synchronize with Neptune. Do not kill this process.\n"
     ]
    },
    {
     "name": "stdout",
     "output_type": "stream",
     "text": [
      "All 13 operations synced, thanks for waiting!\n",
      "https://app.neptune.ai/guilhermemg/icao-nets-training-2/e/ICAO-183\n",
      "Remember to stop your run once you’ve finished logging your metadata (https://docs.neptune.ai/api-reference/run#.stop). It will be stopped automatically only when the notebook kernel/interactive console is terminated.\n",
      "Shutting down background jobs, please wait a moment...\n",
      "Done!\n"
     ]
    },
    {
     "name": "stderr",
     "output_type": "stream",
     "text": [
      "Waiting for the remaining 13 operations to synchronize with Neptune. Do not kill this process.\n"
     ]
    },
    {
     "name": "stdout",
     "output_type": "stream",
     "text": [
      "All 13 operations synced, thanks for waiting!\n",
      "https://app.neptune.ai/guilhermemg/icao-nets-training-2/e/ICAO-171\n",
      "Remember to stop your run once you’ve finished logging your metadata (https://docs.neptune.ai/api-reference/run#.stop). It will be stopped automatically only when the notebook kernel/interactive console is terminated.\n",
      "Shutting down background jobs, please wait a moment...\n",
      "Done!\n"
     ]
    },
    {
     "name": "stderr",
     "output_type": "stream",
     "text": [
      "Waiting for the remaining 13 operations to synchronize with Neptune. Do not kill this process.\n"
     ]
    },
    {
     "name": "stdout",
     "output_type": "stream",
     "text": [
      "All 13 operations synced, thanks for waiting!\n"
     ]
    }
   ],
   "source": [
    "list_exp_ids = [f'ICAO-{x}' for x in [169, 170, 174, \n",
    "                                      168, 185, 178, \n",
    "                                      179, 173, 184, \n",
    "                                      186, 176, 177, \n",
    "                                      172, 167, 175, \n",
    "                                      166, 181, 164, \n",
    "                                      165, 183, 171]]\n",
    "\n",
    "for idexp in list_exp_ids:\n",
    "    run = neptune.init(project='guilhermemg/icao-nets-training-2', \n",
    "                                        api_token=config.NEPTUNE_API_TOKEN,\n",
    "                                        run=idexp)\n",
    "\n",
    "    run['metrics/validation/EER_mean'] = float(run['metrics/validation/EER_mean'].fetch() * 100)\n",
    "    run['metrics/validation/EER_interp'] = float(run['metrics/validation/EER_interp'].fetch()) * 100\n",
    "    run['metrics/validation/ACC'] = float(run['metrics/validation/ACC'].fetch()) * 100\n",
    "    run['metrics/test/EER_mean'] = float(run['metrics/test/EER_mean'].fetch()) * 100\n",
    "    run['metrics/test/EER_interp'] = float(run['metrics/test/EER_interp'].fetch()) * 100\n",
    "    run['metrics/test/ACC'] = float(run['metrics/test/ACC'].fetch()) * 100\n",
    "\n",
    "    run.stop()"
   ]
  },
  {
   "cell_type": "markdown",
   "id": "eacc348a-318e-47bf-916d-14c7e4bdf69c",
   "metadata": {},
   "source": [
    "# Fix nas_paramters/n_child_epochs of NAS experiments"
   ]
  },
  {
   "cell_type": "code",
   "execution_count": 2,
   "id": "adaa6f29-7810-415a-a160-9e1ed5727c4e",
   "metadata": {
    "collapsed": true,
    "jupyter": {
     "outputs_hidden": true
    },
    "tags": []
   },
   "outputs": [
    {
     "name": "stdout",
     "output_type": "stream",
     "text": [
      "https://app.neptune.ai/guilhermemg/icao-nets-training-2/e/ICAO-320\n"
     ]
    },
    {
     "name": "stderr",
     "output_type": "stream",
     "text": [
      "Info (NVML): Driver Not Loaded. GPU usage metrics may not be reported. For more information, see https://docs.neptune.ai/you-should-know/what-can-you-log-and-display#hardware-consumption\n"
     ]
    },
    {
     "name": "stdout",
     "output_type": "stream",
     "text": [
      "Remember to stop your run once you’ve finished logging your metadata (https://docs.neptune.ai/api-reference/run#.stop). It will be stopped automatically only when the notebook kernel/interactive console is terminated.\n",
      "Shutting down background jobs, please wait a moment...\n",
      "Done!\n"
     ]
    },
    {
     "name": "stderr",
     "output_type": "stream",
     "text": [
      "Waiting for the remaining 7 operations to synchronize with Neptune. Do not kill this process.\n"
     ]
    },
    {
     "name": "stdout",
     "output_type": "stream",
     "text": [
      "All 7 operations synced, thanks for waiting!\n",
      "https://app.neptune.ai/guilhermemg/icao-nets-training-2/e/ICAO-319\n",
      "Remember to stop your run once you’ve finished logging your metadata (https://docs.neptune.ai/api-reference/run#.stop). It will be stopped automatically only when the notebook kernel/interactive console is terminated.\n",
      "Shutting down background jobs, please wait a moment...\n",
      "Done!\n"
     ]
    },
    {
     "name": "stderr",
     "output_type": "stream",
     "text": [
      "Waiting for the remaining 6 operations to synchronize with Neptune. Do not kill this process.\n"
     ]
    },
    {
     "name": "stdout",
     "output_type": "stream",
     "text": [
      "All 6 operations synced, thanks for waiting!\n",
      "https://app.neptune.ai/guilhermemg/icao-nets-training-2/e/ICAO-322\n",
      "Remember to stop your run once you’ve finished logging your metadata (https://docs.neptune.ai/api-reference/run#.stop). It will be stopped automatically only when the notebook kernel/interactive console is terminated.\n",
      "Shutting down background jobs, please wait a moment...\n",
      "Done!\n"
     ]
    },
    {
     "name": "stderr",
     "output_type": "stream",
     "text": [
      "Waiting for the remaining 6 operations to synchronize with Neptune. Do not kill this process.\n"
     ]
    },
    {
     "name": "stdout",
     "output_type": "stream",
     "text": [
      "All 6 operations synced, thanks for waiting!\n",
      "https://app.neptune.ai/guilhermemg/icao-nets-training-2/e/ICAO-273\n",
      "Remember to stop your run once you’ve finished logging your metadata (https://docs.neptune.ai/api-reference/run#.stop). It will be stopped automatically only when the notebook kernel/interactive console is terminated.\n",
      "Shutting down background jobs, please wait a moment...\n",
      "Done!\n"
     ]
    },
    {
     "name": "stderr",
     "output_type": "stream",
     "text": [
      "Waiting for the remaining 6 operations to synchronize with Neptune. Do not kill this process.\n"
     ]
    },
    {
     "name": "stdout",
     "output_type": "stream",
     "text": [
      "All 6 operations synced, thanks for waiting!\n",
      "https://app.neptune.ai/guilhermemg/icao-nets-training-2/e/ICAO-321\n",
      "Remember to stop your run once you’ve finished logging your metadata (https://docs.neptune.ai/api-reference/run#.stop). It will be stopped automatically only when the notebook kernel/interactive console is terminated.\n",
      "Shutting down background jobs, please wait a moment...\n",
      "Done!\n"
     ]
    },
    {
     "name": "stderr",
     "output_type": "stream",
     "text": [
      "Waiting for the remaining 6 operations to synchronize with Neptune. Do not kill this process.\n"
     ]
    },
    {
     "name": "stdout",
     "output_type": "stream",
     "text": [
      "All 6 operations synced, thanks for waiting!\n",
      "https://app.neptune.ai/guilhermemg/icao-nets-training-2/e/ICAO-265\n",
      "Remember to stop your run once you’ve finished logging your metadata (https://docs.neptune.ai/api-reference/run#.stop). It will be stopped automatically only when the notebook kernel/interactive console is terminated.\n",
      "Shutting down background jobs, please wait a moment...\n",
      "Done!\n"
     ]
    },
    {
     "name": "stderr",
     "output_type": "stream",
     "text": [
      "Waiting for the remaining 6 operations to synchronize with Neptune. Do not kill this process.\n"
     ]
    },
    {
     "name": "stdout",
     "output_type": "stream",
     "text": [
      "All 6 operations synced, thanks for waiting!\n"
     ]
    }
   ],
   "source": [
    "list_exp_ids = [f'ICAO-{x}' for x in [320,319,322,273,321,265]]\n",
    "\n",
    "for idexp in list_exp_ids:\n",
    "    run = neptune.init(project='guilhermemg/icao-nets-training-2', \n",
    "                       api_token=config.NEPTUNE_API_TOKEN,\n",
    "                       run=idexp)\n",
    "\n",
    "    run['nas_parameters/n_child_epochs'] = 1\n",
    "    \n",
    "    run.stop()"
   ]
  },
  {
   "cell_type": "markdown",
   "id": "ad819c35-5a0c-40dd-a7be-242145987093",
   "metadata": {},
   "source": [
    "# Utilitary Functions"
   ]
  },
  {
   "cell_type": "code",
   "execution_count": 2,
   "id": "a0b4ab58-fe92-471a-a088-e851528aa7f5",
   "metadata": {
    "tags": []
   },
   "outputs": [],
   "source": [
    "def calculate_metric(exp_id, metric_name, tasks_name='ICAO_REQ'):\n",
    "    print(f'Calculating final_{metric_name} for Experiment {exp_id}')\n",
    "    try:\n",
    "        neptune_proj = None\n",
    "        neptune_proj = neptune.init(project='guilhermemg/icao-nets-training-2', \n",
    "                                    api_token=config.NEPTUNE_API_TOKEN,\n",
    "                                    run=exp_id)\n",
    "        \n",
    "        final_metric_vals_valid = []\n",
    "        final_metric_vals_test = []\n",
    "        \n",
    "        new_metric_name = None\n",
    "        if metric_name in ['EER_median','EER_std_dv']:\n",
    "            new_metric_name = 'EER_mean'\n",
    "        else:\n",
    "            new_metric_name = metric_name\n",
    "        \n",
    "        tasks = None\n",
    "        if tasks_name == 'ICAO_REQ':\n",
    "            tasks = list(cts.ICAO_REQ)\n",
    "        elif tasks_name == 'MNIST':\n",
    "            tasks = list(cts.MNIST_TASK)\n",
    "        \n",
    "        for req in tqdm(tasks):\n",
    "            if req.value != cts.ICAO_REQ.INK_MARK.value:\n",
    "                final_metric_vals_valid.append(float(neptune_proj[f'metrics/validation/{req.value}/{new_metric_name}'].fetch()))\n",
    "                final_metric_vals_test.append(float(neptune_proj[f'metrics/test/{req.value}/{new_metric_name}'].fetch()))\n",
    "\n",
    "        if metric_name in ['ACC','EER_mean']:\n",
    "            final_metric_val_valid = round(statistics.mean(final_metric_vals_valid)*100, 2)\n",
    "            final_metric_val_test = round(statistics.mean(final_metric_vals_test)*100, 2)\n",
    "        elif metric_name in ['EER_median']:\n",
    "            final_metric_val_valid = round(statistics.median(final_metric_vals_valid)*100, 2)\n",
    "            final_metric_val_test = round(statistics.median(final_metric_vals_test)*100, 2)\n",
    "        elif metric_name in ['EER_std_dv']:\n",
    "            final_metric_val_valid = round(statistics.stdev(final_metric_vals_valid)*100, 2)\n",
    "            final_metric_val_test = round(statistics.stdev(final_metric_vals_test)*100, 2)\n",
    "        \n",
    "        print(f'ExpID: {exp_id}')\n",
    "        print(f'final_{metric_name}_valid: {final_metric_val_valid}%')\n",
    "        print(f'final_{metric_name}_test: {final_metric_val_test}%')\n",
    "\n",
    "        neptune_proj[f'metrics/validation/final_{metric_name}'] = final_metric_val_valid\n",
    "        neptune_proj[f'metrics/test/final_{metric_name}'] = final_metric_val_test\n",
    "        \n",
    "    except Exception as e:\n",
    "        raise e\n",
    "    \n",
    "    finally:\n",
    "        if neptune_proj is not None:\n",
    "            neptune_proj.stop() "
   ]
  },
  {
   "cell_type": "markdown",
   "id": "01a53b0e-83a7-4445-970b-c2a42691e12d",
   "metadata": {},
   "source": [
    "# MTL Handcrafted 1"
   ]
  },
  {
   "cell_type": "markdown",
   "id": "49bb726d-85e2-4a5a-abb4-3a6272ac964d",
   "metadata": {},
   "source": [
    "## ICAO-192"
   ]
  },
  {
   "cell_type": "code",
   "execution_count": 18,
   "id": "529e875e-5864-4ddf-bf27-e5c63ff94673",
   "metadata": {
    "collapsed": true,
    "jupyter": {
     "outputs_hidden": true
    },
    "tags": []
   },
   "outputs": [
    {
     "name": "stdout",
     "output_type": "stream",
     "text": [
      "Calculating final_EER_mean for Experiment ICAO-192\n",
      "https://app.neptune.ai/guilhermemg/icao-nets-training-2/e/ICAO-192\n",
      "Remember to stop your run once you’ve finished logging your metadata (https://docs.neptune.ai/api-reference/run#.stop). It will be stopped automatically only when the notebook kernel/interactive console is terminated.\n"
     ]
    },
    {
     "name": "stderr",
     "output_type": "stream",
     "text": [
      "100%|███████████████████████████████████████████████████████████████████| 23/23 [00:13<00:00,  1.75it/s]"
     ]
    },
    {
     "name": "stdout",
     "output_type": "stream",
     "text": [
      "ExpID: ICAO-192\n",
      "final_EER_mean_valid: 12.75%\n",
      "final_EER_mean_test: 14.48%\n",
      "Shutting down background jobs, please wait a moment...\n"
     ]
    },
    {
     "name": "stderr",
     "output_type": "stream",
     "text": [
      "\n"
     ]
    },
    {
     "name": "stdout",
     "output_type": "stream",
     "text": [
      "Done!\n"
     ]
    },
    {
     "name": "stderr",
     "output_type": "stream",
     "text": [
      "Waiting for the remaining 16 operations to synchronize with Neptune. Do not kill this process.\n"
     ]
    },
    {
     "name": "stdout",
     "output_type": "stream",
     "text": [
      "All 16 operations synced, thanks for waiting!\n",
      "Calculating final_ACC for Experiment ICAO-192\n",
      "https://app.neptune.ai/guilhermemg/icao-nets-training-2/e/ICAO-192\n",
      "Remember to stop your run once you’ve finished logging your metadata (https://docs.neptune.ai/api-reference/run#.stop). It will be stopped automatically only when the notebook kernel/interactive console is terminated.\n"
     ]
    },
    {
     "name": "stderr",
     "output_type": "stream",
     "text": [
      "100%|███████████████████████████████████████████████████████████████████| 23/23 [00:12<00:00,  1.87it/s]"
     ]
    },
    {
     "name": "stdout",
     "output_type": "stream",
     "text": [
      "ExpID: ICAO-192\n",
      "final_ACC_valid: 86.84%\n",
      "final_ACC_test: 87.75%\n",
      "Shutting down background jobs, please wait a moment...\n"
     ]
    },
    {
     "name": "stderr",
     "output_type": "stream",
     "text": [
      "\n"
     ]
    },
    {
     "name": "stdout",
     "output_type": "stream",
     "text": [
      "Done!\n"
     ]
    },
    {
     "name": "stderr",
     "output_type": "stream",
     "text": [
      "Waiting for the remaining 16 operations to synchronize with Neptune. Do not kill this process.\n"
     ]
    },
    {
     "name": "stdout",
     "output_type": "stream",
     "text": [
      "All 16 operations synced, thanks for waiting!\n",
      "Calculating final_EER_median for Experiment ICAO-192\n",
      "https://app.neptune.ai/guilhermemg/icao-nets-training-2/e/ICAO-192\n",
      "Remember to stop your run once you’ve finished logging your metadata (https://docs.neptune.ai/api-reference/run#.stop). It will be stopped automatically only when the notebook kernel/interactive console is terminated.\n"
     ]
    },
    {
     "name": "stderr",
     "output_type": "stream",
     "text": [
      "100%|███████████████████████████████████████████████████████████████████| 23/23 [00:11<00:00,  1.95it/s]"
     ]
    },
    {
     "name": "stdout",
     "output_type": "stream",
     "text": [
      "ExpID: ICAO-192\n",
      "final_EER_median_valid: 13.54%\n",
      "final_EER_median_test: 13.91%\n",
      "Shutting down background jobs, please wait a moment...\n"
     ]
    },
    {
     "name": "stderr",
     "output_type": "stream",
     "text": [
      "\n"
     ]
    },
    {
     "name": "stdout",
     "output_type": "stream",
     "text": [
      "Done!\n"
     ]
    },
    {
     "name": "stderr",
     "output_type": "stream",
     "text": [
      "Waiting for the remaining 15 operations to synchronize with Neptune. Do not kill this process.\n"
     ]
    },
    {
     "name": "stdout",
     "output_type": "stream",
     "text": [
      "All 15 operations synced, thanks for waiting!\n"
     ]
    }
   ],
   "source": [
    "calculate_metric('ICAO-192', 'EER_mean')\n",
    "calculate_metric('ICAO-192', 'ACC')\n",
    "calculate_metric('ICAO-192', 'EER_median')"
   ]
  },
  {
   "cell_type": "code",
   "execution_count": 13,
   "id": "fd92483e-f8bf-4e59-87cd-1e8bf3f7110e",
   "metadata": {
    "collapsed": true,
    "jupyter": {
     "outputs_hidden": true
    },
    "tags": []
   },
   "outputs": [
    {
     "name": "stdout",
     "output_type": "stream",
     "text": [
      "Calculating final_EER_std_dv for Experiment ICAO-192\n",
      "https://app.neptune.ai/guilhermemg/icao-nets-training-2/e/ICAO-192\n",
      "Remember to stop your run once you’ve finished logging your metadata (https://docs.neptune.ai/api-reference/run#.stop). It will be stopped automatically only when the notebook kernel/interactive console is terminated.\n"
     ]
    },
    {
     "name": "stderr",
     "output_type": "stream",
     "text": [
      "100%|███████████████████████████████████████████| 23/23 [00:13<00:00,  1.72it/s]"
     ]
    },
    {
     "name": "stdout",
     "output_type": "stream",
     "text": [
      "ExpID: ICAO-192\n",
      "final_EER_std_dv_valid: 8.04%\n",
      "final_EER_std_dv_test: 11.25%\n",
      "Shutting down background jobs, please wait a moment...\n"
     ]
    },
    {
     "name": "stderr",
     "output_type": "stream",
     "text": [
      "\n"
     ]
    },
    {
     "name": "stdout",
     "output_type": "stream",
     "text": [
      "Done!\n"
     ]
    },
    {
     "name": "stderr",
     "output_type": "stream",
     "text": [
      "Waiting for the remaining 16 operations to synchronize with Neptune. Do not kill this process.\n"
     ]
    },
    {
     "name": "stdout",
     "output_type": "stream",
     "text": [
      "All 16 operations synced, thanks for waiting!\n"
     ]
    }
   ],
   "source": [
    "calculate_metric('ICAO-192', 'EER_std_dv')"
   ]
  },
  {
   "cell_type": "markdown",
   "id": "b5295c92-0fe2-4d3c-bfea-6ef52dcf95e7",
   "metadata": {},
   "source": [
    "## ICAO-199"
   ]
  },
  {
   "cell_type": "code",
   "execution_count": 19,
   "id": "1c1bb6b2-c22f-453c-896e-031cec32f628",
   "metadata": {
    "collapsed": true,
    "jupyter": {
     "outputs_hidden": true
    },
    "tags": []
   },
   "outputs": [
    {
     "name": "stdout",
     "output_type": "stream",
     "text": [
      "Calculating final_EER_mean for Experiment ICAO-199\n",
      "https://app.neptune.ai/guilhermemg/icao-nets-training-2/e/ICAO-199\n",
      "Remember to stop your run once you’ve finished logging your metadata (https://docs.neptune.ai/api-reference/run#.stop). It will be stopped automatically only when the notebook kernel/interactive console is terminated.\n"
     ]
    },
    {
     "name": "stderr",
     "output_type": "stream",
     "text": [
      "100%|███████████████████████████████████████████████████████████████████| 23/23 [00:12<00:00,  1.82it/s]"
     ]
    },
    {
     "name": "stdout",
     "output_type": "stream",
     "text": [
      "ExpID: ICAO-199\n",
      "final_EER_mean_valid: 24.09%\n",
      "final_EER_mean_test: 24.15%\n",
      "Shutting down background jobs, please wait a moment...\n"
     ]
    },
    {
     "name": "stderr",
     "output_type": "stream",
     "text": [
      "\n"
     ]
    },
    {
     "name": "stdout",
     "output_type": "stream",
     "text": [
      "Done!\n"
     ]
    },
    {
     "name": "stderr",
     "output_type": "stream",
     "text": [
      "Waiting for the remaining 15 operations to synchronize with Neptune. Do not kill this process.\n"
     ]
    },
    {
     "name": "stdout",
     "output_type": "stream",
     "text": [
      "All 15 operations synced, thanks for waiting!\n",
      "Calculating final_ACC for Experiment ICAO-199\n",
      "https://app.neptune.ai/guilhermemg/icao-nets-training-2/e/ICAO-199\n",
      "Remember to stop your run once you’ve finished logging your metadata (https://docs.neptune.ai/api-reference/run#.stop). It will be stopped automatically only when the notebook kernel/interactive console is terminated.\n"
     ]
    },
    {
     "name": "stderr",
     "output_type": "stream",
     "text": [
      "100%|███████████████████████████████████████████████████████████████████| 23/23 [00:12<00:00,  1.77it/s]"
     ]
    },
    {
     "name": "stdout",
     "output_type": "stream",
     "text": [
      "ExpID: ICAO-199\n",
      "final_ACC_valid: 75.36%\n",
      "final_ACC_test: 75.24%\n",
      "Shutting down background jobs, please wait a moment...\n"
     ]
    },
    {
     "name": "stderr",
     "output_type": "stream",
     "text": [
      "\n"
     ]
    },
    {
     "name": "stdout",
     "output_type": "stream",
     "text": [
      "Done!\n"
     ]
    },
    {
     "name": "stderr",
     "output_type": "stream",
     "text": [
      "Waiting for the remaining 17 operations to synchronize with Neptune. Do not kill this process.\n"
     ]
    },
    {
     "name": "stdout",
     "output_type": "stream",
     "text": [
      "All 17 operations synced, thanks for waiting!\n",
      "Calculating final_EER_median for Experiment ICAO-199\n",
      "https://app.neptune.ai/guilhermemg/icao-nets-training-2/e/ICAO-199\n",
      "Remember to stop your run once you’ve finished logging your metadata (https://docs.neptune.ai/api-reference/run#.stop). It will be stopped automatically only when the notebook kernel/interactive console is terminated.\n"
     ]
    },
    {
     "name": "stderr",
     "output_type": "stream",
     "text": [
      "100%|███████████████████████████████████████████████████████████████████| 23/23 [00:12<00:00,  1.85it/s]"
     ]
    },
    {
     "name": "stdout",
     "output_type": "stream",
     "text": [
      "ExpID: ICAO-199\n",
      "final_EER_median_valid: 24.62%\n",
      "final_EER_median_test: 22.18%\n",
      "Shutting down background jobs, please wait a moment...\n"
     ]
    },
    {
     "name": "stderr",
     "output_type": "stream",
     "text": [
      "\n"
     ]
    },
    {
     "name": "stdout",
     "output_type": "stream",
     "text": [
      "Done!\n"
     ]
    },
    {
     "name": "stderr",
     "output_type": "stream",
     "text": [
      "Waiting for the remaining 16 operations to synchronize with Neptune. Do not kill this process.\n"
     ]
    },
    {
     "name": "stdout",
     "output_type": "stream",
     "text": [
      "All 16 operations synced, thanks for waiting!\n"
     ]
    }
   ],
   "source": [
    "calculate_metric('ICAO-199', 'EER_mean')\n",
    "calculate_metric('ICAO-199', 'ACC')\n",
    "calculate_metric('ICAO-199', 'EER_median')"
   ]
  },
  {
   "cell_type": "code",
   "execution_count": 14,
   "id": "ec6afd38-d21e-4bfb-bf92-d9107426358f",
   "metadata": {
    "collapsed": true,
    "jupyter": {
     "outputs_hidden": true
    },
    "tags": []
   },
   "outputs": [
    {
     "name": "stdout",
     "output_type": "stream",
     "text": [
      "Calculating final_EER_std_dv for Experiment ICAO-199\n",
      "https://app.neptune.ai/guilhermemg/icao-nets-training-2/e/ICAO-199\n",
      "Remember to stop your run once you’ve finished logging your metadata (https://docs.neptune.ai/api-reference/run#.stop). It will be stopped automatically only when the notebook kernel/interactive console is terminated.\n"
     ]
    },
    {
     "name": "stderr",
     "output_type": "stream",
     "text": [
      "100%|███████████████████████████████████████████| 23/23 [00:13<00:00,  1.73it/s]"
     ]
    },
    {
     "name": "stdout",
     "output_type": "stream",
     "text": [
      "ExpID: ICAO-199\n",
      "final_EER_std_dv_valid: 12.66%\n",
      "final_EER_std_dv_test: 11.88%\n",
      "Shutting down background jobs, please wait a moment...\n"
     ]
    },
    {
     "name": "stderr",
     "output_type": "stream",
     "text": [
      "\n"
     ]
    },
    {
     "name": "stdout",
     "output_type": "stream",
     "text": [
      "Done!\n"
     ]
    },
    {
     "name": "stderr",
     "output_type": "stream",
     "text": [
      "Waiting for the remaining 16 operations to synchronize with Neptune. Do not kill this process.\n"
     ]
    },
    {
     "name": "stdout",
     "output_type": "stream",
     "text": [
      "All 16 operations synced, thanks for waiting!\n"
     ]
    }
   ],
   "source": [
    "calculate_metric('ICAO-199', 'EER_std_dv')"
   ]
  },
  {
   "cell_type": "markdown",
   "id": "874c6782-196b-4eda-a350-20b57f3935ee",
   "metadata": {},
   "source": [
    "## ICAO-204"
   ]
  },
  {
   "cell_type": "code",
   "execution_count": 20,
   "id": "249dca95-f58b-41c8-9615-e9914827974b",
   "metadata": {
    "collapsed": true,
    "jupyter": {
     "outputs_hidden": true
    },
    "tags": []
   },
   "outputs": [
    {
     "name": "stdout",
     "output_type": "stream",
     "text": [
      "Calculating final_EER_mean for Experiment ICAO-204\n",
      "https://app.neptune.ai/guilhermemg/icao-nets-training-2/e/ICAO-204\n",
      "Remember to stop your run once you’ve finished logging your metadata (https://docs.neptune.ai/api-reference/run#.stop). It will be stopped automatically only when the notebook kernel/interactive console is terminated.\n"
     ]
    },
    {
     "name": "stderr",
     "output_type": "stream",
     "text": [
      "100%|███████████████████████████████████████████████████████████████████| 23/23 [00:11<00:00,  1.95it/s]"
     ]
    },
    {
     "name": "stdout",
     "output_type": "stream",
     "text": [
      "ExpID: ICAO-204\n",
      "final_EER_mean_valid: 17.21%\n",
      "final_EER_mean_test: 11.87%\n",
      "Shutting down background jobs, please wait a moment...\n"
     ]
    },
    {
     "name": "stderr",
     "output_type": "stream",
     "text": [
      "\n"
     ]
    },
    {
     "name": "stdout",
     "output_type": "stream",
     "text": [
      "Done!\n"
     ]
    },
    {
     "name": "stderr",
     "output_type": "stream",
     "text": [
      "Waiting for the remaining 14 operations to synchronize with Neptune. Do not kill this process.\n"
     ]
    },
    {
     "name": "stdout",
     "output_type": "stream",
     "text": [
      "All 14 operations synced, thanks for waiting!\n",
      "Calculating final_ACC for Experiment ICAO-204\n",
      "https://app.neptune.ai/guilhermemg/icao-nets-training-2/e/ICAO-204\n",
      "Remember to stop your run once you’ve finished logging your metadata (https://docs.neptune.ai/api-reference/run#.stop). It will be stopped automatically only when the notebook kernel/interactive console is terminated.\n"
     ]
    },
    {
     "name": "stderr",
     "output_type": "stream",
     "text": [
      "100%|███████████████████████████████████████████████████████████████████| 23/23 [00:11<00:00,  1.95it/s]"
     ]
    },
    {
     "name": "stdout",
     "output_type": "stream",
     "text": [
      "ExpID: ICAO-204\n",
      "final_ACC_valid: 84.74%\n",
      "final_ACC_test: 89.98%\n",
      "Shutting down background jobs, please wait a moment...\n"
     ]
    },
    {
     "name": "stderr",
     "output_type": "stream",
     "text": [
      "\n"
     ]
    },
    {
     "name": "stdout",
     "output_type": "stream",
     "text": [
      "Done!\n"
     ]
    },
    {
     "name": "stderr",
     "output_type": "stream",
     "text": [
      "Waiting for the remaining 15 operations to synchronize with Neptune. Do not kill this process.\n"
     ]
    },
    {
     "name": "stdout",
     "output_type": "stream",
     "text": [
      "All 15 operations synced, thanks for waiting!\n",
      "Calculating final_EER_median for Experiment ICAO-204\n",
      "https://app.neptune.ai/guilhermemg/icao-nets-training-2/e/ICAO-204\n",
      "Remember to stop your run once you’ve finished logging your metadata (https://docs.neptune.ai/api-reference/run#.stop). It will be stopped automatically only when the notebook kernel/interactive console is terminated.\n"
     ]
    },
    {
     "name": "stderr",
     "output_type": "stream",
     "text": [
      "100%|███████████████████████████████████████████████████████████████████| 23/23 [00:12<00:00,  1.86it/s]"
     ]
    },
    {
     "name": "stdout",
     "output_type": "stream",
     "text": [
      "ExpID: ICAO-204\n",
      "final_EER_median_valid: 13.38%\n",
      "final_EER_median_test: 7.95%\n",
      "Shutting down background jobs, please wait a moment...\n"
     ]
    },
    {
     "name": "stderr",
     "output_type": "stream",
     "text": [
      "\n"
     ]
    },
    {
     "name": "stdout",
     "output_type": "stream",
     "text": [
      "Done!\n"
     ]
    },
    {
     "name": "stderr",
     "output_type": "stream",
     "text": [
      "Waiting for the remaining 16 operations to synchronize with Neptune. Do not kill this process.\n"
     ]
    },
    {
     "name": "stdout",
     "output_type": "stream",
     "text": [
      "All 16 operations synced, thanks for waiting!\n"
     ]
    }
   ],
   "source": [
    "calculate_metric('ICAO-204', 'EER_mean')\n",
    "calculate_metric('ICAO-204', 'ACC')\n",
    "calculate_metric('ICAO-204', 'EER_median')"
   ]
  },
  {
   "cell_type": "code",
   "execution_count": 15,
   "id": "9c12a4d9-1636-4676-845c-a16e306ec071",
   "metadata": {
    "collapsed": true,
    "jupyter": {
     "outputs_hidden": true
    },
    "tags": []
   },
   "outputs": [
    {
     "name": "stdout",
     "output_type": "stream",
     "text": [
      "Calculating final_EER_std_dv for Experiment ICAO-204\n",
      "https://app.neptune.ai/guilhermemg/icao-nets-training-2/e/ICAO-204\n",
      "Remember to stop your run once you’ve finished logging your metadata (https://docs.neptune.ai/api-reference/run#.stop). It will be stopped automatically only when the notebook kernel/interactive console is terminated.\n"
     ]
    },
    {
     "name": "stderr",
     "output_type": "stream",
     "text": [
      "100%|███████████████████████████████████████████| 23/23 [00:13<00:00,  1.75it/s]"
     ]
    },
    {
     "name": "stdout",
     "output_type": "stream",
     "text": [
      "ExpID: ICAO-204\n",
      "final_EER_std_dv_valid: 15.76%\n",
      "final_EER_std_dv_test: 12.61%\n",
      "Shutting down background jobs, please wait a moment...\n"
     ]
    },
    {
     "name": "stderr",
     "output_type": "stream",
     "text": [
      "\n"
     ]
    },
    {
     "name": "stdout",
     "output_type": "stream",
     "text": [
      "Done!\n"
     ]
    },
    {
     "name": "stderr",
     "output_type": "stream",
     "text": [
      "Waiting for the remaining 16 operations to synchronize with Neptune. Do not kill this process.\n"
     ]
    },
    {
     "name": "stdout",
     "output_type": "stream",
     "text": [
      "All 16 operations synced, thanks for waiting!\n"
     ]
    }
   ],
   "source": [
    "calculate_metric('ICAO-204', 'EER_std_dv')"
   ]
  },
  {
   "cell_type": "markdown",
   "id": "3e68c603-1a1e-4b78-9532-95d5f39accbe",
   "metadata": {},
   "source": [
    "# MTL Handcrafted 2"
   ]
  },
  {
   "cell_type": "markdown",
   "id": "715cac38-99c7-4801-8558-d1d6e5b50761",
   "metadata": {
    "jupyter": {
     "outputs_hidden": true
    },
    "tags": []
   },
   "source": [
    "## ICAO-228"
   ]
  },
  {
   "cell_type": "code",
   "execution_count": 11,
   "id": "9205b5c4-3584-4261-9864-e93dec19923e",
   "metadata": {
    "collapsed": true,
    "jupyter": {
     "outputs_hidden": true
    },
    "tags": []
   },
   "outputs": [
    {
     "name": "stdout",
     "output_type": "stream",
     "text": [
      "Calculating final_EER_mean for Experiment ICAO-228\n",
      "https://app.neptune.ai/guilhermemg/icao-nets-training-2/e/ICAO-228\n",
      "Remember to stop your run once you’ve finished logging your metadata (https://docs.neptune.ai/api-reference/run#.stop). It will be stopped automatically only when the notebook kernel/interactive console is terminated.\n"
     ]
    },
    {
     "name": "stderr",
     "output_type": "stream",
     "text": [
      "100%|███████████████████████████████████████████████████████████████████| 23/23 [00:12<00:00,  1.84it/s]"
     ]
    },
    {
     "name": "stdout",
     "output_type": "stream",
     "text": [
      "ExpID: ICAO-228\n",
      "final_EER_mean_valid: 9.61%\n",
      "final_EER_mean_test: 16.75%\n",
      "Shutting down background jobs, please wait a moment...\n"
     ]
    },
    {
     "name": "stderr",
     "output_type": "stream",
     "text": [
      "\n"
     ]
    },
    {
     "name": "stdout",
     "output_type": "stream",
     "text": [
      "Done!\n"
     ]
    },
    {
     "name": "stderr",
     "output_type": "stream",
     "text": [
      "Waiting for the remaining 15 operations to synchronize with Neptune. Do not kill this process.\n"
     ]
    },
    {
     "name": "stdout",
     "output_type": "stream",
     "text": [
      "All 15 operations synced, thanks for waiting!\n",
      "Calculating final_ACC for Experiment ICAO-228\n",
      "https://app.neptune.ai/guilhermemg/icao-nets-training-2/e/ICAO-228\n",
      "Remember to stop your run once you’ve finished logging your metadata (https://docs.neptune.ai/api-reference/run#.stop). It will be stopped automatically only when the notebook kernel/interactive console is terminated.\n"
     ]
    },
    {
     "name": "stderr",
     "output_type": "stream",
     "text": [
      "100%|███████████████████████████████████████████████████████████████████| 23/23 [00:12<00:00,  1.86it/s]"
     ]
    },
    {
     "name": "stdout",
     "output_type": "stream",
     "text": [
      "ExpID: ICAO-228\n",
      "final_ACC_valid: 91.86%\n",
      "final_ACC_test: 90.96%\n",
      "Shutting down background jobs, please wait a moment...\n"
     ]
    },
    {
     "name": "stderr",
     "output_type": "stream",
     "text": [
      "\n"
     ]
    },
    {
     "name": "stdout",
     "output_type": "stream",
     "text": [
      "Done!\n"
     ]
    },
    {
     "name": "stderr",
     "output_type": "stream",
     "text": [
      "Waiting for the remaining 16 operations to synchronize with Neptune. Do not kill this process.\n"
     ]
    },
    {
     "name": "stdout",
     "output_type": "stream",
     "text": [
      "All 16 operations synced, thanks for waiting!\n",
      "Calculating final_EER_median for Experiment ICAO-228\n",
      "https://app.neptune.ai/guilhermemg/icao-nets-training-2/e/ICAO-228\n",
      "Remember to stop your run once you’ve finished logging your metadata (https://docs.neptune.ai/api-reference/run#.stop). It will be stopped automatically only when the notebook kernel/interactive console is terminated.\n"
     ]
    },
    {
     "name": "stderr",
     "output_type": "stream",
     "text": [
      "100%|███████████████████████████████████████████████████████████████████| 23/23 [00:12<00:00,  1.87it/s]"
     ]
    },
    {
     "name": "stdout",
     "output_type": "stream",
     "text": [
      "ExpID: ICAO-228\n",
      "final_EER_median_valid: 5.62%\n",
      "final_EER_median_test: 9.19%\n",
      "Shutting down background jobs, please wait a moment...\n"
     ]
    },
    {
     "name": "stderr",
     "output_type": "stream",
     "text": [
      "\n"
     ]
    },
    {
     "name": "stdout",
     "output_type": "stream",
     "text": [
      "Done!\n"
     ]
    },
    {
     "name": "stderr",
     "output_type": "stream",
     "text": [
      "Waiting for the remaining 16 operations to synchronize with Neptune. Do not kill this process.\n"
     ]
    },
    {
     "name": "stdout",
     "output_type": "stream",
     "text": [
      "All 16 operations synced, thanks for waiting!\n"
     ]
    }
   ],
   "source": [
    "calculate_metric('ICAO-228', 'EER_mean')\n",
    "calculate_metric('ICAO-228', 'ACC')\n",
    "calculate_metric('ICAO-228', 'EER_median')"
   ]
  },
  {
   "cell_type": "code",
   "execution_count": 16,
   "id": "b02e6fed-d480-468d-8c74-24f0e248edbc",
   "metadata": {
    "collapsed": true,
    "jupyter": {
     "outputs_hidden": true
    },
    "tags": []
   },
   "outputs": [
    {
     "name": "stdout",
     "output_type": "stream",
     "text": [
      "Calculating final_EER_std_dv for Experiment ICAO-228\n",
      "https://app.neptune.ai/guilhermemg/icao-nets-training-2/e/ICAO-228\n",
      "Remember to stop your run once you’ve finished logging your metadata (https://docs.neptune.ai/api-reference/run#.stop). It will be stopped automatically only when the notebook kernel/interactive console is terminated.\n"
     ]
    },
    {
     "name": "stderr",
     "output_type": "stream",
     "text": [
      "100%|███████████████████████████████████████████| 23/23 [00:13<00:00,  1.70it/s]"
     ]
    },
    {
     "name": "stdout",
     "output_type": "stream",
     "text": [
      "ExpID: ICAO-228\n",
      "final_EER_std_dv_valid: 10.82%\n",
      "final_EER_std_dv_test: 17.01%\n",
      "Shutting down background jobs, please wait a moment...\n"
     ]
    },
    {
     "name": "stderr",
     "output_type": "stream",
     "text": [
      "\n"
     ]
    },
    {
     "name": "stdout",
     "output_type": "stream",
     "text": [
      "Done!\n"
     ]
    },
    {
     "name": "stderr",
     "output_type": "stream",
     "text": [
      "Waiting for the remaining 16 operations to synchronize with Neptune. Do not kill this process.\n"
     ]
    },
    {
     "name": "stdout",
     "output_type": "stream",
     "text": [
      "All 16 operations synced, thanks for waiting!\n"
     ]
    }
   ],
   "source": [
    "calculate_metric('ICAO-228', 'EER_std_dv')"
   ]
  },
  {
   "cell_type": "markdown",
   "id": "fd2d42b3-b7b5-4a19-a68e-ae45b0bd6eaf",
   "metadata": {
    "jupyter": {
     "outputs_hidden": true
    },
    "tags": []
   },
   "source": [
    "## ICAO-239"
   ]
  },
  {
   "cell_type": "code",
   "execution_count": 12,
   "id": "3eef8d14-38c7-481e-a55b-eb944472de65",
   "metadata": {
    "collapsed": true,
    "jupyter": {
     "outputs_hidden": true
    },
    "tags": []
   },
   "outputs": [
    {
     "name": "stdout",
     "output_type": "stream",
     "text": [
      "Calculating final_EER_mean for Experiment ICAO-239\n",
      "https://app.neptune.ai/guilhermemg/icao-nets-training-2/e/ICAO-239\n",
      "Remember to stop your run once you’ve finished logging your metadata (https://docs.neptune.ai/api-reference/run#.stop). It will be stopped automatically only when the notebook kernel/interactive console is terminated.\n"
     ]
    },
    {
     "name": "stderr",
     "output_type": "stream",
     "text": [
      "100%|███████████████████████████████████████████████████████████████████| 23/23 [00:11<00:00,  1.93it/s]"
     ]
    },
    {
     "name": "stdout",
     "output_type": "stream",
     "text": [
      "ExpID: ICAO-239\n",
      "final_EER_mean_valid: 9.7%\n",
      "final_EER_mean_test: 9.48%\n",
      "Shutting down background jobs, please wait a moment...\n"
     ]
    },
    {
     "name": "stderr",
     "output_type": "stream",
     "text": [
      "\n"
     ]
    },
    {
     "name": "stdout",
     "output_type": "stream",
     "text": [
      "Done!\n"
     ]
    },
    {
     "name": "stderr",
     "output_type": "stream",
     "text": [
      "Waiting for the remaining 29 operations to synchronize with Neptune. Do not kill this process.\n"
     ]
    },
    {
     "name": "stdout",
     "output_type": "stream",
     "text": [
      "All 29 operations synced, thanks for waiting!\n",
      "Calculating final_ACC for Experiment ICAO-239\n",
      "https://app.neptune.ai/guilhermemg/icao-nets-training-2/e/ICAO-239\n",
      "Remember to stop your run once you’ve finished logging your metadata (https://docs.neptune.ai/api-reference/run#.stop). It will be stopped automatically only when the notebook kernel/interactive console is terminated.\n"
     ]
    },
    {
     "name": "stderr",
     "output_type": "stream",
     "text": [
      "100%|███████████████████████████████████████████████████████████████████| 23/23 [00:12<00:00,  1.87it/s]"
     ]
    },
    {
     "name": "stdout",
     "output_type": "stream",
     "text": [
      "ExpID: ICAO-239\n",
      "final_ACC_valid: 92.87%\n",
      "final_ACC_test: 92.8%\n",
      "Shutting down background jobs, please wait a moment...\n"
     ]
    },
    {
     "name": "stderr",
     "output_type": "stream",
     "text": [
      "\n"
     ]
    },
    {
     "name": "stdout",
     "output_type": "stream",
     "text": [
      "Done!\n"
     ]
    },
    {
     "name": "stderr",
     "output_type": "stream",
     "text": [
      "Waiting for the remaining 16 operations to synchronize with Neptune. Do not kill this process.\n"
     ]
    },
    {
     "name": "stdout",
     "output_type": "stream",
     "text": [
      "All 16 operations synced, thanks for waiting!\n",
      "Calculating final_EER_median for Experiment ICAO-239\n",
      "https://app.neptune.ai/guilhermemg/icao-nets-training-2/e/ICAO-239\n",
      "Remember to stop your run once you’ve finished logging your metadata (https://docs.neptune.ai/api-reference/run#.stop). It will be stopped automatically only when the notebook kernel/interactive console is terminated.\n"
     ]
    },
    {
     "name": "stderr",
     "output_type": "stream",
     "text": [
      "100%|███████████████████████████████████████████████████████████████████| 23/23 [00:12<00:00,  1.91it/s]"
     ]
    },
    {
     "name": "stdout",
     "output_type": "stream",
     "text": [
      "ExpID: ICAO-239\n",
      "final_EER_median_valid: 6.34%\n",
      "final_EER_median_test: 5.07%\n",
      "Shutting down background jobs, please wait a moment...\n"
     ]
    },
    {
     "name": "stderr",
     "output_type": "stream",
     "text": [
      "\n"
     ]
    },
    {
     "name": "stdout",
     "output_type": "stream",
     "text": [
      "Done!\n"
     ]
    },
    {
     "name": "stderr",
     "output_type": "stream",
     "text": [
      "Waiting for the remaining 15 operations to synchronize with Neptune. Do not kill this process.\n"
     ]
    },
    {
     "name": "stdout",
     "output_type": "stream",
     "text": [
      "All 15 operations synced, thanks for waiting!\n"
     ]
    }
   ],
   "source": [
    "calculate_metric('ICAO-239', 'EER_mean')\n",
    "calculate_metric('ICAO-239', 'ACC')\n",
    "calculate_metric('ICAO-239', 'EER_median')"
   ]
  },
  {
   "cell_type": "code",
   "execution_count": 17,
   "id": "17d521ed-2617-4518-b9a7-8fffe78f5253",
   "metadata": {
    "tags": []
   },
   "outputs": [
    {
     "name": "stdout",
     "output_type": "stream",
     "text": [
      "Calculating final_EER_std_dv for Experiment ICAO-239\n",
      "https://app.neptune.ai/guilhermemg/icao-nets-training-2/e/ICAO-239\n",
      "Remember to stop your run once you’ve finished logging your metadata (https://docs.neptune.ai/api-reference/run#.stop). It will be stopped automatically only when the notebook kernel/interactive console is terminated.\n"
     ]
    },
    {
     "name": "stderr",
     "output_type": "stream",
     "text": [
      "100%|███████████████████████████████████████████| 23/23 [00:13<00:00,  1.73it/s]"
     ]
    },
    {
     "name": "stdout",
     "output_type": "stream",
     "text": [
      "ExpID: ICAO-239\n",
      "final_EER_std_dv_valid: 10.88%\n",
      "final_EER_std_dv_test: 10.91%\n",
      "Shutting down background jobs, please wait a moment...\n"
     ]
    },
    {
     "name": "stderr",
     "output_type": "stream",
     "text": [
      "\n"
     ]
    },
    {
     "name": "stdout",
     "output_type": "stream",
     "text": [
      "Done!\n"
     ]
    },
    {
     "name": "stderr",
     "output_type": "stream",
     "text": [
      "Waiting for the remaining 16 operations to synchronize with Neptune. Do not kill this process.\n"
     ]
    },
    {
     "name": "stdout",
     "output_type": "stream",
     "text": [
      "All 16 operations synced, thanks for waiting!\n"
     ]
    }
   ],
   "source": [
    "calculate_metric('ICAO-239', 'EER_std_dv')"
   ]
  },
  {
   "cell_type": "markdown",
   "id": "79e00a7e-e0a4-4afb-988a-aa9693bf1ecd",
   "metadata": {
    "jupyter": {
     "outputs_hidden": true
    },
    "tags": []
   },
   "source": [
    "## ICAO-242"
   ]
  },
  {
   "cell_type": "code",
   "execution_count": 13,
   "id": "bae327f2-325c-4249-bbd0-78a63de4054a",
   "metadata": {
    "collapsed": true,
    "jupyter": {
     "outputs_hidden": true
    },
    "tags": []
   },
   "outputs": [
    {
     "name": "stdout",
     "output_type": "stream",
     "text": [
      "Calculating final_EER_mean for Experiment ICAO-242\n",
      "https://app.neptune.ai/guilhermemg/icao-nets-training-2/e/ICAO-242\n",
      "Remember to stop your run once you’ve finished logging your metadata (https://docs.neptune.ai/api-reference/run#.stop). It will be stopped automatically only when the notebook kernel/interactive console is terminated.\n"
     ]
    },
    {
     "name": "stderr",
     "output_type": "stream",
     "text": [
      "100%|███████████████████████████████████████████████████████████████████| 23/23 [00:11<00:00,  1.94it/s]"
     ]
    },
    {
     "name": "stdout",
     "output_type": "stream",
     "text": [
      "ExpID: ICAO-242\n",
      "final_EER_mean_valid: 7.54%\n",
      "final_EER_mean_test: 11.06%\n",
      "Shutting down background jobs, please wait a moment...\n"
     ]
    },
    {
     "name": "stderr",
     "output_type": "stream",
     "text": [
      "\n"
     ]
    },
    {
     "name": "stdout",
     "output_type": "stream",
     "text": [
      "Done!\n"
     ]
    },
    {
     "name": "stderr",
     "output_type": "stream",
     "text": [
      "Waiting for the remaining 29 operations to synchronize with Neptune. Do not kill this process.\n"
     ]
    },
    {
     "name": "stdout",
     "output_type": "stream",
     "text": [
      "All 29 operations synced, thanks for waiting!\n",
      "Calculating final_ACC for Experiment ICAO-242\n",
      "https://app.neptune.ai/guilhermemg/icao-nets-training-2/e/ICAO-242\n",
      "Remember to stop your run once you’ve finished logging your metadata (https://docs.neptune.ai/api-reference/run#.stop). It will be stopped automatically only when the notebook kernel/interactive console is terminated.\n"
     ]
    },
    {
     "name": "stderr",
     "output_type": "stream",
     "text": [
      "100%|███████████████████████████████████████████████████████████████████| 23/23 [00:12<00:00,  1.79it/s]"
     ]
    },
    {
     "name": "stdout",
     "output_type": "stream",
     "text": [
      "ExpID: ICAO-242\n",
      "final_ACC_valid: 91.78%\n",
      "final_ACC_test: 93.42%\n",
      "Shutting down background jobs, please wait a moment...\n"
     ]
    },
    {
     "name": "stderr",
     "output_type": "stream",
     "text": [
      "\n"
     ]
    },
    {
     "name": "stdout",
     "output_type": "stream",
     "text": [
      "Done!\n"
     ]
    },
    {
     "name": "stderr",
     "output_type": "stream",
     "text": [
      "Waiting for the remaining 15 operations to synchronize with Neptune. Do not kill this process.\n"
     ]
    },
    {
     "name": "stdout",
     "output_type": "stream",
     "text": [
      "All 15 operations synced, thanks for waiting!\n",
      "Calculating final_EER_median for Experiment ICAO-242\n",
      "https://app.neptune.ai/guilhermemg/icao-nets-training-2/e/ICAO-242\n",
      "Remember to stop your run once you’ve finished logging your metadata (https://docs.neptune.ai/api-reference/run#.stop). It will be stopped automatically only when the notebook kernel/interactive console is terminated.\n"
     ]
    },
    {
     "name": "stderr",
     "output_type": "stream",
     "text": [
      "100%|███████████████████████████████████████████████████████████████████| 23/23 [00:11<00:00,  1.92it/s]"
     ]
    },
    {
     "name": "stdout",
     "output_type": "stream",
     "text": [
      "ExpID: ICAO-242\n",
      "final_EER_median_valid: 6.94%\n",
      "final_EER_median_test: 6.49%\n",
      "Shutting down background jobs, please wait a moment...\n"
     ]
    },
    {
     "name": "stderr",
     "output_type": "stream",
     "text": [
      "\n"
     ]
    },
    {
     "name": "stdout",
     "output_type": "stream",
     "text": [
      "Done!\n"
     ]
    },
    {
     "name": "stderr",
     "output_type": "stream",
     "text": [
      "Waiting for the remaining 15 operations to synchronize with Neptune. Do not kill this process.\n"
     ]
    },
    {
     "name": "stdout",
     "output_type": "stream",
     "text": [
      "All 15 operations synced, thanks for waiting!\n"
     ]
    }
   ],
   "source": [
    "calculate_metric('ICAO-242', 'EER_mean')\n",
    "calculate_metric('ICAO-242', 'ACC')\n",
    "calculate_metric('ICAO-242', 'EER_median')"
   ]
  },
  {
   "cell_type": "code",
   "execution_count": 18,
   "id": "89fe2c86-c2ff-429a-85ef-ac00d3e4a660",
   "metadata": {
    "collapsed": true,
    "jupyter": {
     "outputs_hidden": true
    },
    "tags": []
   },
   "outputs": [
    {
     "name": "stdout",
     "output_type": "stream",
     "text": [
      "Calculating final_EER_std_dv for Experiment ICAO-242\n",
      "https://app.neptune.ai/guilhermemg/icao-nets-training-2/e/ICAO-242\n",
      "Remember to stop your run once you’ve finished logging your metadata (https://docs.neptune.ai/api-reference/run#.stop). It will be stopped automatically only when the notebook kernel/interactive console is terminated.\n"
     ]
    },
    {
     "name": "stderr",
     "output_type": "stream",
     "text": [
      "100%|███████████████████████████████████████████| 23/23 [00:13<00:00,  1.76it/s]"
     ]
    },
    {
     "name": "stdout",
     "output_type": "stream",
     "text": [
      "ExpID: ICAO-242\n",
      "final_EER_std_dv_valid: 5.65%\n",
      "final_EER_std_dv_test: 13.69%\n",
      "Shutting down background jobs, please wait a moment...\n"
     ]
    },
    {
     "name": "stderr",
     "output_type": "stream",
     "text": [
      "\n"
     ]
    },
    {
     "name": "stdout",
     "output_type": "stream",
     "text": [
      "Done!\n"
     ]
    },
    {
     "name": "stderr",
     "output_type": "stream",
     "text": [
      "Waiting for the remaining 16 operations to synchronize with Neptune. Do not kill this process.\n"
     ]
    },
    {
     "name": "stdout",
     "output_type": "stream",
     "text": [
      "All 16 operations synced, thanks for waiting!\n"
     ]
    }
   ],
   "source": [
    "calculate_metric('ICAO-242', 'EER_std_dv')"
   ]
  },
  {
   "cell_type": "markdown",
   "id": "a0110108-5e71-40b4-8b6b-ffe2b5f4942d",
   "metadata": {
    "jupyter": {
     "outputs_hidden": true
    },
    "tags": []
   },
   "source": [
    "## ICAO-238"
   ]
  },
  {
   "cell_type": "code",
   "execution_count": 14,
   "id": "e5756916-79d1-4dc5-8441-4c81ee73b7e3",
   "metadata": {
    "collapsed": true,
    "jupyter": {
     "outputs_hidden": true
    },
    "tags": []
   },
   "outputs": [
    {
     "name": "stdout",
     "output_type": "stream",
     "text": [
      "Calculating final_EER_mean for Experiment ICAO-238\n",
      "https://app.neptune.ai/guilhermemg/icao-nets-training-2/e/ICAO-238\n",
      "Remember to stop your run once you’ve finished logging your metadata (https://docs.neptune.ai/api-reference/run#.stop). It will be stopped automatically only when the notebook kernel/interactive console is terminated.\n"
     ]
    },
    {
     "name": "stderr",
     "output_type": "stream",
     "text": [
      "100%|███████████████████████████████████████████████████████████████████| 23/23 [00:12<00:00,  1.86it/s]"
     ]
    },
    {
     "name": "stdout",
     "output_type": "stream",
     "text": [
      "ExpID: ICAO-238\n",
      "final_EER_mean_valid: 9.81%\n",
      "final_EER_mean_test: 14.4%\n",
      "Shutting down background jobs, please wait a moment...\n"
     ]
    },
    {
     "name": "stderr",
     "output_type": "stream",
     "text": [
      "\n"
     ]
    },
    {
     "name": "stdout",
     "output_type": "stream",
     "text": [
      "Done!\n"
     ]
    },
    {
     "name": "stderr",
     "output_type": "stream",
     "text": [
      "Waiting for the remaining 14 operations to synchronize with Neptune. Do not kill this process.\n"
     ]
    },
    {
     "name": "stdout",
     "output_type": "stream",
     "text": [
      "All 14 operations synced, thanks for waiting!\n",
      "Calculating final_ACC for Experiment ICAO-238\n",
      "https://app.neptune.ai/guilhermemg/icao-nets-training-2/e/ICAO-238\n",
      "Remember to stop your run once you’ve finished logging your metadata (https://docs.neptune.ai/api-reference/run#.stop). It will be stopped automatically only when the notebook kernel/interactive console is terminated.\n"
     ]
    },
    {
     "name": "stderr",
     "output_type": "stream",
     "text": [
      "100%|███████████████████████████████████████████████████████████████████| 23/23 [00:11<00:00,  1.93it/s]"
     ]
    },
    {
     "name": "stdout",
     "output_type": "stream",
     "text": [
      "ExpID: ICAO-238\n",
      "final_ACC_valid: 91.75%\n",
      "final_ACC_test: 91.86%\n",
      "Shutting down background jobs, please wait a moment...\n"
     ]
    },
    {
     "name": "stderr",
     "output_type": "stream",
     "text": [
      "\n"
     ]
    },
    {
     "name": "stdout",
     "output_type": "stream",
     "text": [
      "Done!\n"
     ]
    },
    {
     "name": "stderr",
     "output_type": "stream",
     "text": [
      "Waiting for the remaining 14 operations to synchronize with Neptune. Do not kill this process.\n"
     ]
    },
    {
     "name": "stdout",
     "output_type": "stream",
     "text": [
      "All 14 operations synced, thanks for waiting!\n",
      "Calculating final_EER_median for Experiment ICAO-238\n",
      "https://app.neptune.ai/guilhermemg/icao-nets-training-2/e/ICAO-238\n",
      "Remember to stop your run once you’ve finished logging your metadata (https://docs.neptune.ai/api-reference/run#.stop). It will be stopped automatically only when the notebook kernel/interactive console is terminated.\n"
     ]
    },
    {
     "name": "stderr",
     "output_type": "stream",
     "text": [
      "100%|███████████████████████████████████████████████████████████████████| 23/23 [00:11<00:00,  1.93it/s]"
     ]
    },
    {
     "name": "stdout",
     "output_type": "stream",
     "text": [
      "ExpID: ICAO-238\n",
      "final_EER_median_valid: 5.92%\n",
      "final_EER_median_test: 10.01%\n",
      "Shutting down background jobs, please wait a moment...\n"
     ]
    },
    {
     "name": "stderr",
     "output_type": "stream",
     "text": [
      "\n"
     ]
    },
    {
     "name": "stdout",
     "output_type": "stream",
     "text": [
      "Done!\n"
     ]
    },
    {
     "name": "stderr",
     "output_type": "stream",
     "text": [
      "Waiting for the remaining 15 operations to synchronize with Neptune. Do not kill this process.\n"
     ]
    },
    {
     "name": "stdout",
     "output_type": "stream",
     "text": [
      "All 15 operations synced, thanks for waiting!\n"
     ]
    }
   ],
   "source": [
    "calculate_metric('ICAO-238', 'EER_mean')\n",
    "calculate_metric('ICAO-238', 'ACC')\n",
    "calculate_metric('ICAO-238', 'EER_median')"
   ]
  },
  {
   "cell_type": "code",
   "execution_count": 19,
   "id": "dfad8b95-ea80-4f80-bccf-173f0b23c65c",
   "metadata": {
    "tags": []
   },
   "outputs": [
    {
     "name": "stdout",
     "output_type": "stream",
     "text": [
      "Calculating final_EER_std_dv for Experiment ICAO-238\n",
      "https://app.neptune.ai/guilhermemg/icao-nets-training-2/e/ICAO-238\n",
      "Remember to stop your run once you’ve finished logging your metadata (https://docs.neptune.ai/api-reference/run#.stop). It will be stopped automatically only when the notebook kernel/interactive console is terminated.\n"
     ]
    },
    {
     "name": "stderr",
     "output_type": "stream",
     "text": [
      "100%|███████████████████████████████████████████| 23/23 [00:13<00:00,  1.68it/s]"
     ]
    },
    {
     "name": "stdout",
     "output_type": "stream",
     "text": [
      "ExpID: ICAO-238\n",
      "final_EER_std_dv_valid: 10.72%\n",
      "final_EER_std_dv_test: 15.89%\n",
      "Shutting down background jobs, please wait a moment...\n"
     ]
    },
    {
     "name": "stderr",
     "output_type": "stream",
     "text": [
      "\n"
     ]
    },
    {
     "name": "stdout",
     "output_type": "stream",
     "text": [
      "Done!\n"
     ]
    },
    {
     "name": "stderr",
     "output_type": "stream",
     "text": [
      "Waiting for the remaining 17 operations to synchronize with Neptune. Do not kill this process.\n"
     ]
    },
    {
     "name": "stdout",
     "output_type": "stream",
     "text": [
      "All 17 operations synced, thanks for waiting!\n"
     ]
    }
   ],
   "source": [
    "calculate_metric('ICAO-238', 'EER_std_dv')"
   ]
  },
  {
   "cell_type": "markdown",
   "id": "e1da1b1f-576c-42ef-8039-9b9b72f39edb",
   "metadata": {
    "jupyter": {
     "outputs_hidden": true
    },
    "tags": []
   },
   "source": [
    "## ICAO-230"
   ]
  },
  {
   "cell_type": "code",
   "execution_count": 15,
   "id": "009bf80b-8d09-42a6-bfae-c8c99cc65de3",
   "metadata": {
    "collapsed": true,
    "jupyter": {
     "outputs_hidden": true
    },
    "tags": []
   },
   "outputs": [
    {
     "name": "stdout",
     "output_type": "stream",
     "text": [
      "Calculating final_EER_mean for Experiment ICAO-230\n",
      "https://app.neptune.ai/guilhermemg/icao-nets-training-2/e/ICAO-230\n",
      "Remember to stop your run once you’ve finished logging your metadata (https://docs.neptune.ai/api-reference/run#.stop). It will be stopped automatically only when the notebook kernel/interactive console is terminated.\n"
     ]
    },
    {
     "name": "stderr",
     "output_type": "stream",
     "text": [
      "100%|███████████████████████████████████████████████████████████████████| 23/23 [00:11<00:00,  1.94it/s]"
     ]
    },
    {
     "name": "stdout",
     "output_type": "stream",
     "text": [
      "ExpID: ICAO-230\n",
      "final_EER_mean_valid: 8.73%\n",
      "final_EER_mean_test: 10.05%\n",
      "Shutting down background jobs, please wait a moment...\n"
     ]
    },
    {
     "name": "stderr",
     "output_type": "stream",
     "text": [
      "\n"
     ]
    },
    {
     "name": "stdout",
     "output_type": "stream",
     "text": [
      "Done!\n"
     ]
    },
    {
     "name": "stderr",
     "output_type": "stream",
     "text": [
      "Waiting for the remaining 29 operations to synchronize with Neptune. Do not kill this process.\n"
     ]
    },
    {
     "name": "stdout",
     "output_type": "stream",
     "text": [
      "All 29 operations synced, thanks for waiting!\n",
      "Calculating final_ACC for Experiment ICAO-230\n",
      "https://app.neptune.ai/guilhermemg/icao-nets-training-2/e/ICAO-230\n",
      "Remember to stop your run once you’ve finished logging your metadata (https://docs.neptune.ai/api-reference/run#.stop). It will be stopped automatically only when the notebook kernel/interactive console is terminated.\n"
     ]
    },
    {
     "name": "stderr",
     "output_type": "stream",
     "text": [
      "100%|███████████████████████████████████████████████████████████████████| 23/23 [00:11<00:00,  1.93it/s]"
     ]
    },
    {
     "name": "stdout",
     "output_type": "stream",
     "text": [
      "ExpID: ICAO-230\n",
      "final_ACC_valid: 90.85%\n",
      "final_ACC_test: 92.01%\n",
      "Shutting down background jobs, please wait a moment...\n"
     ]
    },
    {
     "name": "stderr",
     "output_type": "stream",
     "text": [
      "\n"
     ]
    },
    {
     "name": "stdout",
     "output_type": "stream",
     "text": [
      "Done!\n"
     ]
    },
    {
     "name": "stderr",
     "output_type": "stream",
     "text": [
      "Waiting for the remaining 15 operations to synchronize with Neptune. Do not kill this process.\n"
     ]
    },
    {
     "name": "stdout",
     "output_type": "stream",
     "text": [
      "All 15 operations synced, thanks for waiting!\n",
      "Calculating final_EER_median for Experiment ICAO-230\n",
      "https://app.neptune.ai/guilhermemg/icao-nets-training-2/e/ICAO-230\n",
      "Remember to stop your run once you’ve finished logging your metadata (https://docs.neptune.ai/api-reference/run#.stop). It will be stopped automatically only when the notebook kernel/interactive console is terminated.\n"
     ]
    },
    {
     "name": "stderr",
     "output_type": "stream",
     "text": [
      "100%|███████████████████████████████████████████████████████████████████| 23/23 [00:11<00:00,  1.94it/s]"
     ]
    },
    {
     "name": "stdout",
     "output_type": "stream",
     "text": [
      "ExpID: ICAO-230\n",
      "final_EER_median_valid: 7.74%\n",
      "final_EER_median_test: 6.65%\n",
      "Shutting down background jobs, please wait a moment...\n"
     ]
    },
    {
     "name": "stderr",
     "output_type": "stream",
     "text": [
      "\n"
     ]
    },
    {
     "name": "stdout",
     "output_type": "stream",
     "text": [
      "Done!\n"
     ]
    },
    {
     "name": "stderr",
     "output_type": "stream",
     "text": [
      "Waiting for the remaining 15 operations to synchronize with Neptune. Do not kill this process.\n"
     ]
    },
    {
     "name": "stdout",
     "output_type": "stream",
     "text": [
      "All 15 operations synced, thanks for waiting!\n"
     ]
    }
   ],
   "source": [
    "calculate_metric('ICAO-230', 'EER_mean')\n",
    "calculate_metric('ICAO-230', 'ACC')\n",
    "calculate_metric('ICAO-230', 'EER_median')"
   ]
  },
  {
   "cell_type": "code",
   "execution_count": 20,
   "id": "fe15d2a3-c0f2-479c-8b75-2eff2ffac291",
   "metadata": {
    "collapsed": true,
    "jupyter": {
     "outputs_hidden": true
    },
    "tags": []
   },
   "outputs": [
    {
     "name": "stdout",
     "output_type": "stream",
     "text": [
      "Calculating final_EER_std_dv for Experiment ICAO-230\n",
      "https://app.neptune.ai/guilhermemg/icao-nets-training-2/e/ICAO-230\n",
      "Remember to stop your run once you’ve finished logging your metadata (https://docs.neptune.ai/api-reference/run#.stop). It will be stopped automatically only when the notebook kernel/interactive console is terminated.\n"
     ]
    },
    {
     "name": "stderr",
     "output_type": "stream",
     "text": [
      "100%|███████████████████████████████████████████| 23/23 [00:13<00:00,  1.77it/s]"
     ]
    },
    {
     "name": "stdout",
     "output_type": "stream",
     "text": [
      "ExpID: ICAO-230\n",
      "final_EER_std_dv_valid: 6.79%\n",
      "final_EER_std_dv_test: 10.98%\n",
      "Shutting down background jobs, please wait a moment...\n"
     ]
    },
    {
     "name": "stderr",
     "output_type": "stream",
     "text": [
      "\n"
     ]
    },
    {
     "name": "stdout",
     "output_type": "stream",
     "text": [
      "Done!\n"
     ]
    },
    {
     "name": "stderr",
     "output_type": "stream",
     "text": [
      "Waiting for the remaining 16 operations to synchronize with Neptune. Do not kill this process.\n"
     ]
    },
    {
     "name": "stdout",
     "output_type": "stream",
     "text": [
      "All 16 operations synced, thanks for waiting!\n"
     ]
    }
   ],
   "source": [
    "calculate_metric('ICAO-230', 'EER_std_dv')"
   ]
  },
  {
   "cell_type": "markdown",
   "id": "60584c66-a13b-4a39-96eb-4938b330d188",
   "metadata": {},
   "source": [
    "# MTL Handcrafted 3"
   ]
  },
  {
   "cell_type": "markdown",
   "id": "0cba5383-01e8-444c-9d7b-697381cdf278",
   "metadata": {},
   "source": [
    "## ICAO-232"
   ]
  },
  {
   "cell_type": "code",
   "execution_count": 5,
   "id": "e4f893ba-97ba-4381-a318-4246da505b25",
   "metadata": {
    "collapsed": true,
    "jupyter": {
     "outputs_hidden": true
    },
    "tags": []
   },
   "outputs": [
    {
     "name": "stdout",
     "output_type": "stream",
     "text": [
      "Calculating final_EER_median for Experiment ICAO-232\n",
      "https://app.neptune.ai/guilhermemg/icao-nets-training-2/e/ICAO-232\n",
      "Remember to stop your run once you’ve finished logging your metadata (https://docs.neptune.ai/api-reference/run#.stop). It will be stopped automatically only when the notebook kernel/interactive console is terminated.\n"
     ]
    },
    {
     "name": "stderr",
     "output_type": "stream",
     "text": [
      "100%|███████████████████████████████████████████████████████████████████| 23/23 [00:12<00:00,  1.86it/s]"
     ]
    },
    {
     "name": "stdout",
     "output_type": "stream",
     "text": [
      "ExpID: ICAO-232\n",
      "final_EER_median_valid: 16.25%\n",
      "final_EER_median_test: 16.49%\n",
      "Shutting down background jobs, please wait a moment...\n"
     ]
    },
    {
     "name": "stderr",
     "output_type": "stream",
     "text": [
      "\n"
     ]
    },
    {
     "name": "stdout",
     "output_type": "stream",
     "text": [
      "Done!\n"
     ]
    },
    {
     "name": "stderr",
     "output_type": "stream",
     "text": [
      "Waiting for the remaining 16 operations to synchronize with Neptune. Do not kill this process.\n"
     ]
    },
    {
     "name": "stdout",
     "output_type": "stream",
     "text": [
      "All 16 operations synced, thanks for waiting!\n"
     ]
    }
   ],
   "source": [
    "calculate_metric('ICAO-232', 'EER_mean')\n",
    "calculate_metric('ICAO-232', 'ACC')\n",
    "calculate_metric('ICAO-232', 'EER_median')"
   ]
  },
  {
   "cell_type": "code",
   "execution_count": 21,
   "id": "1bf4dfbd-241e-43e6-8e31-50155d17ba6d",
   "metadata": {
    "collapsed": true,
    "jupyter": {
     "outputs_hidden": true
    },
    "tags": []
   },
   "outputs": [
    {
     "name": "stdout",
     "output_type": "stream",
     "text": [
      "Calculating final_EER_std_dv for Experiment ICAO-232\n",
      "https://app.neptune.ai/guilhermemg/icao-nets-training-2/e/ICAO-232\n",
      "Remember to stop your run once you’ve finished logging your metadata (https://docs.neptune.ai/api-reference/run#.stop). It will be stopped automatically only when the notebook kernel/interactive console is terminated.\n"
     ]
    },
    {
     "name": "stderr",
     "output_type": "stream",
     "text": [
      "100%|███████████████████████████████████████████| 23/23 [00:12<00:00,  1.79it/s]"
     ]
    },
    {
     "name": "stdout",
     "output_type": "stream",
     "text": [
      "ExpID: ICAO-232\n",
      "final_EER_std_dv_valid: 8.71%\n",
      "final_EER_std_dv_test: 12.22%\n",
      "Shutting down background jobs, please wait a moment...\n"
     ]
    },
    {
     "name": "stderr",
     "output_type": "stream",
     "text": [
      "\n"
     ]
    },
    {
     "name": "stdout",
     "output_type": "stream",
     "text": [
      "Done!\n"
     ]
    },
    {
     "name": "stderr",
     "output_type": "stream",
     "text": [
      "Waiting for the remaining 16 operations to synchronize with Neptune. Do not kill this process.\n"
     ]
    },
    {
     "name": "stdout",
     "output_type": "stream",
     "text": [
      "All 16 operations synced, thanks for waiting!\n"
     ]
    }
   ],
   "source": [
    "calculate_metric('ICAO-232', 'EER_std_dv')"
   ]
  },
  {
   "cell_type": "markdown",
   "id": "e71919c0-0321-4d9c-a4dc-cfb3de41ab4b",
   "metadata": {},
   "source": [
    "## ICAO-233"
   ]
  },
  {
   "cell_type": "code",
   "execution_count": 7,
   "id": "1be0063d-bde9-4951-a3a2-085ef7ffdd7e",
   "metadata": {
    "collapsed": true,
    "jupyter": {
     "outputs_hidden": true
    },
    "tags": []
   },
   "outputs": [
    {
     "name": "stdout",
     "output_type": "stream",
     "text": [
      "Calculating final_EER_mean for Experiment ICAO-233\n",
      "https://app.neptune.ai/guilhermemg/icao-nets-training-2/e/ICAO-233\n",
      "Remember to stop your run once you’ve finished logging your metadata (https://docs.neptune.ai/api-reference/run#.stop). It will be stopped automatically only when the notebook kernel/interactive console is terminated.\n"
     ]
    },
    {
     "name": "stderr",
     "output_type": "stream",
     "text": [
      "100%|███████████████████████████████████████████████████████████████████| 23/23 [00:12<00:00,  1.90it/s]"
     ]
    },
    {
     "name": "stdout",
     "output_type": "stream",
     "text": [
      "ExpID: ICAO-233\n",
      "final_EER_mean_valid: 12.26%\n",
      "final_EER_mean_test: 10.66%\n",
      "Shutting down background jobs, please wait a moment...\n"
     ]
    },
    {
     "name": "stderr",
     "output_type": "stream",
     "text": [
      "\n"
     ]
    },
    {
     "name": "stdout",
     "output_type": "stream",
     "text": [
      "Done!\n"
     ]
    },
    {
     "name": "stderr",
     "output_type": "stream",
     "text": [
      "Waiting for the remaining 30 operations to synchronize with Neptune. Do not kill this process.\n"
     ]
    },
    {
     "name": "stdout",
     "output_type": "stream",
     "text": [
      "All 30 operations synced, thanks for waiting!\n",
      "Calculating final_ACC for Experiment ICAO-233\n",
      "https://app.neptune.ai/guilhermemg/icao-nets-training-2/e/ICAO-233\n",
      "Remember to stop your run once you’ve finished logging your metadata (https://docs.neptune.ai/api-reference/run#.stop). It will be stopped automatically only when the notebook kernel/interactive console is terminated.\n"
     ]
    },
    {
     "name": "stderr",
     "output_type": "stream",
     "text": [
      "100%|███████████████████████████████████████████████████████████████████| 23/23 [00:11<00:00,  1.94it/s]"
     ]
    },
    {
     "name": "stdout",
     "output_type": "stream",
     "text": [
      "ExpID: ICAO-233\n",
      "final_ACC_valid: 89.65%\n",
      "final_ACC_test: 91.46%\n",
      "Shutting down background jobs, please wait a moment...\n"
     ]
    },
    {
     "name": "stderr",
     "output_type": "stream",
     "text": [
      "\n"
     ]
    },
    {
     "name": "stdout",
     "output_type": "stream",
     "text": [
      "Done!\n"
     ]
    },
    {
     "name": "stderr",
     "output_type": "stream",
     "text": [
      "Waiting for the remaining 15 operations to synchronize with Neptune. Do not kill this process.\n"
     ]
    },
    {
     "name": "stdout",
     "output_type": "stream",
     "text": [
      "All 15 operations synced, thanks for waiting!\n",
      "Calculating final_EER_median for Experiment ICAO-233\n",
      "https://app.neptune.ai/guilhermemg/icao-nets-training-2/e/ICAO-233\n",
      "Remember to stop your run once you’ve finished logging your metadata (https://docs.neptune.ai/api-reference/run#.stop). It will be stopped automatically only when the notebook kernel/interactive console is terminated.\n"
     ]
    },
    {
     "name": "stderr",
     "output_type": "stream",
     "text": [
      "100%|███████████████████████████████████████████████████████████████████| 23/23 [00:11<00:00,  1.93it/s]"
     ]
    },
    {
     "name": "stdout",
     "output_type": "stream",
     "text": [
      "ExpID: ICAO-233\n",
      "final_EER_median_valid: 9.66%\n",
      "final_EER_median_test: 7.85%\n",
      "Shutting down background jobs, please wait a moment...\n"
     ]
    },
    {
     "name": "stderr",
     "output_type": "stream",
     "text": [
      "\n"
     ]
    },
    {
     "name": "stdout",
     "output_type": "stream",
     "text": [
      "Done!\n"
     ]
    },
    {
     "name": "stderr",
     "output_type": "stream",
     "text": [
      "Waiting for the remaining 15 operations to synchronize with Neptune. Do not kill this process.\n"
     ]
    },
    {
     "name": "stdout",
     "output_type": "stream",
     "text": [
      "All 15 operations synced, thanks for waiting!\n"
     ]
    }
   ],
   "source": [
    "calculate_metric('ICAO-233', 'EER_mean')\n",
    "calculate_metric('ICAO-233', 'ACC')\n",
    "calculate_metric('ICAO-233', 'EER_median')"
   ]
  },
  {
   "cell_type": "code",
   "execution_count": 22,
   "id": "7677ea0e-d309-4755-aed6-37d3e8b0ab74",
   "metadata": {
    "collapsed": true,
    "jupyter": {
     "outputs_hidden": true
    },
    "tags": []
   },
   "outputs": [
    {
     "name": "stdout",
     "output_type": "stream",
     "text": [
      "Calculating final_EER_std_dv for Experiment ICAO-233\n",
      "https://app.neptune.ai/guilhermemg/icao-nets-training-2/e/ICAO-233\n",
      "Remember to stop your run once you’ve finished logging your metadata (https://docs.neptune.ai/api-reference/run#.stop). It will be stopped automatically only when the notebook kernel/interactive console is terminated.\n"
     ]
    },
    {
     "name": "stderr",
     "output_type": "stream",
     "text": [
      "100%|███████████████████████████████████████████| 23/23 [00:13<00:00,  1.74it/s]"
     ]
    },
    {
     "name": "stdout",
     "output_type": "stream",
     "text": [
      "ExpID: ICAO-233\n",
      "final_EER_std_dv_valid: 11.45%\n",
      "final_EER_std_dv_test: 11.28%\n",
      "Shutting down background jobs, please wait a moment...\n"
     ]
    },
    {
     "name": "stderr",
     "output_type": "stream",
     "text": [
      "\n"
     ]
    },
    {
     "name": "stdout",
     "output_type": "stream",
     "text": [
      "Done!\n"
     ]
    },
    {
     "name": "stderr",
     "output_type": "stream",
     "text": [
      "Waiting for the remaining 16 operations to synchronize with Neptune. Do not kill this process.\n"
     ]
    },
    {
     "name": "stdout",
     "output_type": "stream",
     "text": [
      "All 16 operations synced, thanks for waiting!\n"
     ]
    }
   ],
   "source": [
    "calculate_metric('ICAO-233', 'EER_std_dv')"
   ]
  },
  {
   "cell_type": "markdown",
   "id": "7f3d798d-ec00-4791-b5f4-8ef3be10ab92",
   "metadata": {},
   "source": [
    "## ICAO-236"
   ]
  },
  {
   "cell_type": "code",
   "execution_count": 8,
   "id": "e2c4ebfd-29fc-4eef-a2db-393e68adf2b4",
   "metadata": {
    "collapsed": true,
    "jupyter": {
     "outputs_hidden": true
    },
    "tags": []
   },
   "outputs": [
    {
     "name": "stdout",
     "output_type": "stream",
     "text": [
      "Calculating final_EER_mean for Experiment ICAO-236\n",
      "https://app.neptune.ai/guilhermemg/icao-nets-training-2/e/ICAO-236\n",
      "Remember to stop your run once you’ve finished logging your metadata (https://docs.neptune.ai/api-reference/run#.stop). It will be stopped automatically only when the notebook kernel/interactive console is terminated.\n"
     ]
    },
    {
     "name": "stderr",
     "output_type": "stream",
     "text": [
      "100%|███████████████████████████████████████████████████████████████████| 23/23 [00:12<00:00,  1.86it/s]"
     ]
    },
    {
     "name": "stdout",
     "output_type": "stream",
     "text": [
      "ExpID: ICAO-236\n",
      "final_EER_mean_valid: 11.79%\n",
      "final_EER_mean_test: 15.96%\n",
      "Shutting down background jobs, please wait a moment...\n"
     ]
    },
    {
     "name": "stderr",
     "output_type": "stream",
     "text": [
      "\n"
     ]
    },
    {
     "name": "stdout",
     "output_type": "stream",
     "text": [
      "Done!\n"
     ]
    },
    {
     "name": "stderr",
     "output_type": "stream",
     "text": [
      "Waiting for the remaining 15 operations to synchronize with Neptune. Do not kill this process.\n"
     ]
    },
    {
     "name": "stdout",
     "output_type": "stream",
     "text": [
      "All 15 operations synced, thanks for waiting!\n",
      "Calculating final_ACC for Experiment ICAO-236\n",
      "https://app.neptune.ai/guilhermemg/icao-nets-training-2/e/ICAO-236\n",
      "Remember to stop your run once you’ve finished logging your metadata (https://docs.neptune.ai/api-reference/run#.stop). It will be stopped automatically only when the notebook kernel/interactive console is terminated.\n"
     ]
    },
    {
     "name": "stderr",
     "output_type": "stream",
     "text": [
      "100%|███████████████████████████████████████████████████████████████████| 23/23 [00:12<00:00,  1.90it/s]"
     ]
    },
    {
     "name": "stdout",
     "output_type": "stream",
     "text": [
      "ExpID: ICAO-236\n",
      "final_ACC_valid: 89.51%\n",
      "final_ACC_test: 90.15%\n",
      "Shutting down background jobs, please wait a moment...\n"
     ]
    },
    {
     "name": "stderr",
     "output_type": "stream",
     "text": [
      "\n"
     ]
    },
    {
     "name": "stdout",
     "output_type": "stream",
     "text": [
      "Done!\n"
     ]
    },
    {
     "name": "stderr",
     "output_type": "stream",
     "text": [
      "Waiting for the remaining 15 operations to synchronize with Neptune. Do not kill this process.\n"
     ]
    },
    {
     "name": "stdout",
     "output_type": "stream",
     "text": [
      "All 15 operations synced, thanks for waiting!\n",
      "Calculating final_EER_median for Experiment ICAO-236\n",
      "https://app.neptune.ai/guilhermemg/icao-nets-training-2/e/ICAO-236\n",
      "Remember to stop your run once you’ve finished logging your metadata (https://docs.neptune.ai/api-reference/run#.stop). It will be stopped automatically only when the notebook kernel/interactive console is terminated.\n"
     ]
    },
    {
     "name": "stderr",
     "output_type": "stream",
     "text": [
      "100%|███████████████████████████████████████████████████████████████████| 23/23 [00:12<00:00,  1.86it/s]"
     ]
    },
    {
     "name": "stdout",
     "output_type": "stream",
     "text": [
      "ExpID: ICAO-236\n",
      "final_EER_median_valid: 11.03%\n",
      "final_EER_median_test: 12.05%\n",
      "Shutting down background jobs, please wait a moment...\n"
     ]
    },
    {
     "name": "stderr",
     "output_type": "stream",
     "text": [
      "\n"
     ]
    },
    {
     "name": "stdout",
     "output_type": "stream",
     "text": [
      "Done!\n"
     ]
    },
    {
     "name": "stderr",
     "output_type": "stream",
     "text": [
      "Waiting for the remaining 16 operations to synchronize with Neptune. Do not kill this process.\n"
     ]
    },
    {
     "name": "stdout",
     "output_type": "stream",
     "text": [
      "All 16 operations synced, thanks for waiting!\n"
     ]
    }
   ],
   "source": [
    "calculate_metric('ICAO-236', 'EER_mean')\n",
    "calculate_metric('ICAO-236', 'ACC')\n",
    "calculate_metric('ICAO-236', 'EER_median')"
   ]
  },
  {
   "cell_type": "code",
   "execution_count": 23,
   "id": "1434184d-7fb8-4a02-ba28-84d78d55279d",
   "metadata": {
    "collapsed": true,
    "jupyter": {
     "outputs_hidden": true
    },
    "tags": []
   },
   "outputs": [
    {
     "name": "stdout",
     "output_type": "stream",
     "text": [
      "Calculating final_EER_std_dv for Experiment ICAO-236\n",
      "https://app.neptune.ai/guilhermemg/icao-nets-training-2/e/ICAO-236\n",
      "Remember to stop your run once you’ve finished logging your metadata (https://docs.neptune.ai/api-reference/run#.stop). It will be stopped automatically only when the notebook kernel/interactive console is terminated.\n"
     ]
    },
    {
     "name": "stderr",
     "output_type": "stream",
     "text": [
      "100%|███████████████████████████████████████████| 23/23 [00:12<00:00,  1.77it/s]"
     ]
    },
    {
     "name": "stdout",
     "output_type": "stream",
     "text": [
      "ExpID: ICAO-236\n",
      "final_EER_std_dv_valid: 10.88%\n",
      "final_EER_std_dv_test: 15.93%\n",
      "Shutting down background jobs, please wait a moment...\n"
     ]
    },
    {
     "name": "stderr",
     "output_type": "stream",
     "text": [
      "\n"
     ]
    },
    {
     "name": "stdout",
     "output_type": "stream",
     "text": [
      "Done!\n"
     ]
    },
    {
     "name": "stderr",
     "output_type": "stream",
     "text": [
      "Waiting for the remaining 16 operations to synchronize with Neptune. Do not kill this process.\n"
     ]
    },
    {
     "name": "stdout",
     "output_type": "stream",
     "text": [
      "All 16 operations synced, thanks for waiting!\n"
     ]
    }
   ],
   "source": [
    "calculate_metric('ICAO-236', 'EER_std_dv')"
   ]
  },
  {
   "cell_type": "markdown",
   "id": "2987b1f5-fde7-483f-9fb1-6197b1bb58bd",
   "metadata": {},
   "source": [
    "## ICAO-336"
   ]
  },
  {
   "cell_type": "code",
   "execution_count": 9,
   "id": "c2746f48-f255-4526-9cac-2d871e790e3b",
   "metadata": {
    "collapsed": true,
    "jupyter": {
     "outputs_hidden": true
    },
    "tags": []
   },
   "outputs": [
    {
     "name": "stdout",
     "output_type": "stream",
     "text": [
      "Calculating final_EER_mean for Experiment ICAO-336\n",
      "https://app.neptune.ai/guilhermemg/icao-nets-training-2/e/ICAO-336\n",
      "Remember to stop your run once you’ve finished logging your metadata (https://docs.neptune.ai/api-reference/run#.stop). It will be stopped automatically only when the notebook kernel/interactive console is terminated.\n"
     ]
    },
    {
     "name": "stderr",
     "output_type": "stream",
     "text": [
      "100%|███████████████████████████████████████████████████████████████████| 23/23 [00:11<00:00,  1.94it/s]"
     ]
    },
    {
     "name": "stdout",
     "output_type": "stream",
     "text": [
      "ExpID: ICAO-336\n",
      "final_EER_mean_valid: 15.48%\n",
      "final_EER_mean_test: 12.89%\n",
      "Shutting down background jobs, please wait a moment...\n"
     ]
    },
    {
     "name": "stderr",
     "output_type": "stream",
     "text": [
      "\n"
     ]
    },
    {
     "name": "stdout",
     "output_type": "stream",
     "text": [
      "Done!\n"
     ]
    },
    {
     "name": "stderr",
     "output_type": "stream",
     "text": [
      "Waiting for the remaining 14 operations to synchronize with Neptune. Do not kill this process.\n"
     ]
    },
    {
     "name": "stdout",
     "output_type": "stream",
     "text": [
      "All 14 operations synced, thanks for waiting!\n",
      "Calculating final_ACC for Experiment ICAO-336\n",
      "https://app.neptune.ai/guilhermemg/icao-nets-training-2/e/ICAO-336\n",
      "Remember to stop your run once you’ve finished logging your metadata (https://docs.neptune.ai/api-reference/run#.stop). It will be stopped automatically only when the notebook kernel/interactive console is terminated.\n"
     ]
    },
    {
     "name": "stderr",
     "output_type": "stream",
     "text": [
      "100%|███████████████████████████████████████████████████████████████████| 23/23 [00:12<00:00,  1.85it/s]"
     ]
    },
    {
     "name": "stdout",
     "output_type": "stream",
     "text": [
      "ExpID: ICAO-336\n",
      "final_ACC_valid: 83.56%\n",
      "final_ACC_test: 86.38%\n",
      "Shutting down background jobs, please wait a moment...\n"
     ]
    },
    {
     "name": "stderr",
     "output_type": "stream",
     "text": [
      "\n"
     ]
    },
    {
     "name": "stdout",
     "output_type": "stream",
     "text": [
      "Done!\n"
     ]
    },
    {
     "name": "stderr",
     "output_type": "stream",
     "text": [
      "Waiting for the remaining 16 operations to synchronize with Neptune. Do not kill this process.\n"
     ]
    },
    {
     "name": "stdout",
     "output_type": "stream",
     "text": [
      "All 16 operations synced, thanks for waiting!\n",
      "Calculating final_EER_median for Experiment ICAO-336\n",
      "https://app.neptune.ai/guilhermemg/icao-nets-training-2/e/ICAO-336\n",
      "Remember to stop your run once you’ve finished logging your metadata (https://docs.neptune.ai/api-reference/run#.stop). It will be stopped automatically only when the notebook kernel/interactive console is terminated.\n"
     ]
    },
    {
     "name": "stderr",
     "output_type": "stream",
     "text": [
      "100%|███████████████████████████████████████████████████████████████████| 23/23 [00:11<00:00,  1.93it/s]"
     ]
    },
    {
     "name": "stdout",
     "output_type": "stream",
     "text": [
      "ExpID: ICAO-336\n",
      "final_EER_median_valid: 15.57%\n",
      "final_EER_median_test: 13.94%\n",
      "Shutting down background jobs, please wait a moment...\n"
     ]
    },
    {
     "name": "stderr",
     "output_type": "stream",
     "text": [
      "\n"
     ]
    },
    {
     "name": "stdout",
     "output_type": "stream",
     "text": [
      "Done!\n"
     ]
    },
    {
     "name": "stderr",
     "output_type": "stream",
     "text": [
      "Waiting for the remaining 15 operations to synchronize with Neptune. Do not kill this process.\n"
     ]
    },
    {
     "name": "stdout",
     "output_type": "stream",
     "text": [
      "All 15 operations synced, thanks for waiting!\n"
     ]
    }
   ],
   "source": [
    "calculate_metric('ICAO-336', 'EER_mean')\n",
    "calculate_metric('ICAO-336', 'ACC')\n",
    "calculate_metric('ICAO-336', 'EER_median')"
   ]
  },
  {
   "cell_type": "code",
   "execution_count": 24,
   "id": "84d0ea24-0a8c-4f47-9672-5459b1958977",
   "metadata": {
    "collapsed": true,
    "jupyter": {
     "outputs_hidden": true
    },
    "tags": []
   },
   "outputs": [
    {
     "name": "stdout",
     "output_type": "stream",
     "text": [
      "Calculating final_EER_std_dv for Experiment ICAO-336\n",
      "https://app.neptune.ai/guilhermemg/icao-nets-training-2/e/ICAO-336\n",
      "Remember to stop your run once you’ve finished logging your metadata (https://docs.neptune.ai/api-reference/run#.stop). It will be stopped automatically only when the notebook kernel/interactive console is terminated.\n"
     ]
    },
    {
     "name": "stderr",
     "output_type": "stream",
     "text": [
      "100%|███████████████████████████████████████████| 23/23 [00:12<00:00,  1.77it/s]"
     ]
    },
    {
     "name": "stdout",
     "output_type": "stream",
     "text": [
      "ExpID: ICAO-336\n",
      "final_EER_std_dv_valid: 10.88%\n",
      "final_EER_std_dv_test: 10.31%\n",
      "Shutting down background jobs, please wait a moment...\n"
     ]
    },
    {
     "name": "stderr",
     "output_type": "stream",
     "text": [
      "\n"
     ]
    },
    {
     "name": "stdout",
     "output_type": "stream",
     "text": [
      "Done!\n"
     ]
    },
    {
     "name": "stderr",
     "output_type": "stream",
     "text": [
      "Waiting for the remaining 16 operations to synchronize with Neptune. Do not kill this process.\n"
     ]
    },
    {
     "name": "stdout",
     "output_type": "stream",
     "text": [
      "All 16 operations synced, thanks for waiting!\n"
     ]
    }
   ],
   "source": [
    "calculate_metric('ICAO-336', 'EER_std_dv')"
   ]
  },
  {
   "cell_type": "markdown",
   "id": "d3357cf0-6218-4ec4-ba82-36ee3cc47251",
   "metadata": {},
   "source": [
    "## ICAO-337"
   ]
  },
  {
   "cell_type": "code",
   "execution_count": 10,
   "id": "76281b89-3671-40d0-b89a-7d337fa7442b",
   "metadata": {
    "collapsed": true,
    "jupyter": {
     "outputs_hidden": true
    },
    "tags": []
   },
   "outputs": [
    {
     "name": "stdout",
     "output_type": "stream",
     "text": [
      "Calculating final_EER_mean for Experiment ICAO-337\n",
      "https://app.neptune.ai/guilhermemg/icao-nets-training-2/e/ICAO-337\n",
      "Remember to stop your run once you’ve finished logging your metadata (https://docs.neptune.ai/api-reference/run#.stop). It will be stopped automatically only when the notebook kernel/interactive console is terminated.\n"
     ]
    },
    {
     "name": "stderr",
     "output_type": "stream",
     "text": [
      "100%|███████████████████████████████████████████████████████████████████| 23/23 [00:12<00:00,  1.83it/s]"
     ]
    },
    {
     "name": "stdout",
     "output_type": "stream",
     "text": [
      "ExpID: ICAO-337\n",
      "final_EER_mean_valid: 6.95%\n",
      "final_EER_mean_test: 7.93%\n",
      "Shutting down background jobs, please wait a moment...\n"
     ]
    },
    {
     "name": "stderr",
     "output_type": "stream",
     "text": [
      "\n"
     ]
    },
    {
     "name": "stdout",
     "output_type": "stream",
     "text": [
      "Done!\n"
     ]
    },
    {
     "name": "stderr",
     "output_type": "stream",
     "text": [
      "Waiting for the remaining 15 operations to synchronize with Neptune. Do not kill this process.\n"
     ]
    },
    {
     "name": "stdout",
     "output_type": "stream",
     "text": [
      "All 15 operations synced, thanks for waiting!\n",
      "Calculating final_ACC for Experiment ICAO-337\n",
      "https://app.neptune.ai/guilhermemg/icao-nets-training-2/e/ICAO-337\n",
      "Remember to stop your run once you’ve finished logging your metadata (https://docs.neptune.ai/api-reference/run#.stop). It will be stopped automatically only when the notebook kernel/interactive console is terminated.\n"
     ]
    },
    {
     "name": "stderr",
     "output_type": "stream",
     "text": [
      "100%|███████████████████████████████████████████████████████████████████| 23/23 [00:11<00:00,  1.93it/s]"
     ]
    },
    {
     "name": "stdout",
     "output_type": "stream",
     "text": [
      "ExpID: ICAO-337\n",
      "final_ACC_valid: 91.78%\n",
      "final_ACC_test: 90.77%\n",
      "Shutting down background jobs, please wait a moment...\n"
     ]
    },
    {
     "name": "stderr",
     "output_type": "stream",
     "text": [
      "\n"
     ]
    },
    {
     "name": "stdout",
     "output_type": "stream",
     "text": [
      "Done!\n"
     ]
    },
    {
     "name": "stderr",
     "output_type": "stream",
     "text": [
      "Waiting for the remaining 15 operations to synchronize with Neptune. Do not kill this process.\n"
     ]
    },
    {
     "name": "stdout",
     "output_type": "stream",
     "text": [
      "All 15 operations synced, thanks for waiting!\n",
      "Calculating final_EER_median for Experiment ICAO-337\n",
      "https://app.neptune.ai/guilhermemg/icao-nets-training-2/e/ICAO-337\n",
      "Remember to stop your run once you’ve finished logging your metadata (https://docs.neptune.ai/api-reference/run#.stop). It will be stopped automatically only when the notebook kernel/interactive console is terminated.\n"
     ]
    },
    {
     "name": "stderr",
     "output_type": "stream",
     "text": [
      "100%|███████████████████████████████████████████████████████████████████| 23/23 [00:12<00:00,  1.89it/s]"
     ]
    },
    {
     "name": "stdout",
     "output_type": "stream",
     "text": [
      "ExpID: ICAO-337\n",
      "final_EER_median_valid: 6.48%\n",
      "final_EER_median_test: 7.88%\n",
      "Shutting down background jobs, please wait a moment...\n"
     ]
    },
    {
     "name": "stderr",
     "output_type": "stream",
     "text": [
      "\n"
     ]
    },
    {
     "name": "stdout",
     "output_type": "stream",
     "text": [
      "Done!\n"
     ]
    },
    {
     "name": "stderr",
     "output_type": "stream",
     "text": [
      "Waiting for the remaining 16 operations to synchronize with Neptune. Do not kill this process.\n"
     ]
    },
    {
     "name": "stdout",
     "output_type": "stream",
     "text": [
      "All 16 operations synced, thanks for waiting!\n"
     ]
    }
   ],
   "source": [
    "calculate_metric('ICAO-337', 'EER_mean')\n",
    "calculate_metric('ICAO-337', 'ACC')\n",
    "calculate_metric('ICAO-337', 'EER_median')"
   ]
  },
  {
   "cell_type": "code",
   "execution_count": 25,
   "id": "b7082fed-57d8-4bb7-a19b-1ef518d1ca20",
   "metadata": {
    "collapsed": true,
    "jupyter": {
     "outputs_hidden": true
    },
    "tags": []
   },
   "outputs": [
    {
     "name": "stdout",
     "output_type": "stream",
     "text": [
      "Calculating final_EER_std_dv for Experiment ICAO-337\n",
      "https://app.neptune.ai/guilhermemg/icao-nets-training-2/e/ICAO-337\n",
      "Remember to stop your run once you’ve finished logging your metadata (https://docs.neptune.ai/api-reference/run#.stop). It will be stopped automatically only when the notebook kernel/interactive console is terminated.\n"
     ]
    },
    {
     "name": "stderr",
     "output_type": "stream",
     "text": [
      "100%|███████████████████████████████████████████| 23/23 [00:12<00:00,  1.79it/s]"
     ]
    },
    {
     "name": "stdout",
     "output_type": "stream",
     "text": [
      "ExpID: ICAO-337\n",
      "final_EER_std_dv_valid: 6.89%\n",
      "final_EER_std_dv_test: 7.83%\n",
      "Shutting down background jobs, please wait a moment...\n"
     ]
    },
    {
     "name": "stderr",
     "output_type": "stream",
     "text": [
      "\n"
     ]
    },
    {
     "name": "stdout",
     "output_type": "stream",
     "text": [
      "Done!\n"
     ]
    },
    {
     "name": "stderr",
     "output_type": "stream",
     "text": [
      "Waiting for the remaining 16 operations to synchronize with Neptune. Do not kill this process.\n"
     ]
    },
    {
     "name": "stdout",
     "output_type": "stream",
     "text": [
      "All 16 operations synced, thanks for waiting!\n"
     ]
    }
   ],
   "source": [
    "calculate_metric('ICAO-337', 'EER_std_dv')"
   ]
  },
  {
   "cell_type": "markdown",
   "id": "8a5bd1a4-280a-4332-9df0-d2363142674a",
   "metadata": {
    "tags": []
   },
   "source": [
    "## ICAO-338"
   ]
  },
  {
   "cell_type": "code",
   "execution_count": 4,
   "id": "4ab2597d-8abd-4127-a897-59b22b679388",
   "metadata": {
    "collapsed": true,
    "jupyter": {
     "outputs_hidden": true
    },
    "tags": []
   },
   "outputs": [
    {
     "name": "stdout",
     "output_type": "stream",
     "text": [
      "Calculating final_EER_mean for Experiment ICAO-338\n",
      "https://app.neptune.ai/guilhermemg/icao-nets-training-2/e/ICAO-338\n",
      "Remember to stop your run once you’ve finished logging your metadata (https://docs.neptune.ai/api-reference/run#.stop). It will be stopped automatically only when the notebook kernel/interactive console is terminated.\n"
     ]
    },
    {
     "name": "stderr",
     "output_type": "stream",
     "text": [
      "100%|███████████████████████████████████████████████████████████████████| 23/23 [00:12<00:00,  1.88it/s]"
     ]
    },
    {
     "name": "stdout",
     "output_type": "stream",
     "text": [
      "ExpID: ICAO-338\n",
      "final_EER_mean_valid: 7.92%\n",
      "final_EER_mean_test: 7.47%\n",
      "Shutting down background jobs, please wait a moment...\n"
     ]
    },
    {
     "name": "stderr",
     "output_type": "stream",
     "text": [
      "\n"
     ]
    },
    {
     "name": "stdout",
     "output_type": "stream",
     "text": [
      "Done!\n"
     ]
    },
    {
     "name": "stderr",
     "output_type": "stream",
     "text": [
      "Waiting for the remaining 16 operations to synchronize with Neptune. Do not kill this process.\n"
     ]
    },
    {
     "name": "stdout",
     "output_type": "stream",
     "text": [
      "All 16 operations synced, thanks for waiting!\n",
      "Calculating final_ACC for Experiment ICAO-338\n",
      "https://app.neptune.ai/guilhermemg/icao-nets-training-2/e/ICAO-338\n",
      "Remember to stop your run once you’ve finished logging your metadata (https://docs.neptune.ai/api-reference/run#.stop). It will be stopped automatically only when the notebook kernel/interactive console is terminated.\n"
     ]
    },
    {
     "name": "stderr",
     "output_type": "stream",
     "text": [
      "100%|███████████████████████████████████████████████████████████████████| 23/23 [00:11<00:00,  1.93it/s]"
     ]
    },
    {
     "name": "stdout",
     "output_type": "stream",
     "text": [
      "ExpID: ICAO-338\n",
      "final_ACC_valid: 91.01%\n",
      "final_ACC_test: 92.12%\n",
      "Shutting down background jobs, please wait a moment...\n"
     ]
    },
    {
     "name": "stderr",
     "output_type": "stream",
     "text": [
      "\n"
     ]
    },
    {
     "name": "stdout",
     "output_type": "stream",
     "text": [
      "Done!\n"
     ]
    },
    {
     "name": "stderr",
     "output_type": "stream",
     "text": [
      "Waiting for the remaining 15 operations to synchronize with Neptune. Do not kill this process.\n"
     ]
    },
    {
     "name": "stdout",
     "output_type": "stream",
     "text": [
      "All 15 operations synced, thanks for waiting!\n",
      "Calculating final_EER_median for Experiment ICAO-338\n",
      "https://app.neptune.ai/guilhermemg/icao-nets-training-2/e/ICAO-338\n",
      "Remember to stop your run once you’ve finished logging your metadata (https://docs.neptune.ai/api-reference/run#.stop). It will be stopped automatically only when the notebook kernel/interactive console is terminated.\n"
     ]
    },
    {
     "name": "stderr",
     "output_type": "stream",
     "text": [
      "100%|███████████████████████████████████████████████████████████████████| 23/23 [00:12<00:00,  1.83it/s]"
     ]
    },
    {
     "name": "stdout",
     "output_type": "stream",
     "text": [
      "ExpID: ICAO-338\n",
      "final_EER_median_valid: 6.67%\n",
      "final_EER_median_test: 4.86%\n",
      "Shutting down background jobs, please wait a moment...\n"
     ]
    },
    {
     "name": "stderr",
     "output_type": "stream",
     "text": [
      "\n"
     ]
    },
    {
     "name": "stdout",
     "output_type": "stream",
     "text": [
      "Done!\n"
     ]
    },
    {
     "name": "stderr",
     "output_type": "stream",
     "text": [
      "Waiting for the remaining 16 operations to synchronize with Neptune. Do not kill this process.\n"
     ]
    },
    {
     "name": "stdout",
     "output_type": "stream",
     "text": [
      "All 16 operations synced, thanks for waiting!\n"
     ]
    }
   ],
   "source": [
    "calculate_metric('ICAO-338', 'EER_mean')\n",
    "calculate_metric('ICAO-338', 'ACC')\n",
    "calculate_metric('ICAO-338', 'EER_median')"
   ]
  },
  {
   "cell_type": "code",
   "execution_count": 26,
   "id": "09a29b03-88f3-47b5-88b6-4736b5bdec59",
   "metadata": {
    "collapsed": true,
    "jupyter": {
     "outputs_hidden": true
    },
    "tags": []
   },
   "outputs": [
    {
     "name": "stdout",
     "output_type": "stream",
     "text": [
      "Calculating final_EER_std_dv for Experiment ICAO-338\n",
      "https://app.neptune.ai/guilhermemg/icao-nets-training-2/e/ICAO-338\n",
      "Remember to stop your run once you’ve finished logging your metadata (https://docs.neptune.ai/api-reference/run#.stop). It will be stopped automatically only when the notebook kernel/interactive console is terminated.\n"
     ]
    },
    {
     "name": "stderr",
     "output_type": "stream",
     "text": [
      "100%|███████████████████████████████████████████| 23/23 [00:13<00:00,  1.74it/s]"
     ]
    },
    {
     "name": "stdout",
     "output_type": "stream",
     "text": [
      "ExpID: ICAO-338\n",
      "final_EER_std_dv_valid: 6.86%\n",
      "final_EER_std_dv_test: 7.32%\n",
      "Shutting down background jobs, please wait a moment...\n"
     ]
    },
    {
     "name": "stderr",
     "output_type": "stream",
     "text": [
      "\n"
     ]
    },
    {
     "name": "stdout",
     "output_type": "stream",
     "text": [
      "Done!\n"
     ]
    },
    {
     "name": "stderr",
     "output_type": "stream",
     "text": [
      "Waiting for the remaining 16 operations to synchronize with Neptune. Do not kill this process.\n"
     ]
    },
    {
     "name": "stdout",
     "output_type": "stream",
     "text": [
      "All 16 operations synced, thanks for waiting!\n"
     ]
    }
   ],
   "source": [
    "calculate_metric('ICAO-338', 'EER_std_dv')"
   ]
  },
  {
   "cell_type": "markdown",
   "id": "d577d5bb-e306-4bcf-820f-788e3f690c1c",
   "metadata": {},
   "source": [
    "# NAS - Approach 01"
   ]
  },
  {
   "cell_type": "markdown",
   "id": "ba8309a5-f809-4c23-b7ce-bc9e26d9fb16",
   "metadata": {
    "tags": []
   },
   "source": [
    "## ICAO-265"
   ]
  },
  {
   "cell_type": "code",
   "execution_count": 4,
   "id": "a2470efa-7388-4243-a6b7-bdc1f96dab5a",
   "metadata": {
    "collapsed": true,
    "jupyter": {
     "outputs_hidden": true
    },
    "tags": []
   },
   "outputs": [
    {
     "name": "stdout",
     "output_type": "stream",
     "text": [
      "Calculating final_ACC for Experiment ICAO-265\n",
      "https://app.neptune.ai/guilhermemg/icao-nets-training-2/e/ICAO-265\n"
     ]
    },
    {
     "name": "stderr",
     "output_type": "stream",
     "text": [
      "Info (NVML): Driver Not Loaded. GPU usage metrics may not be reported. For more information, see https://docs.neptune.ai/you-should-know/what-can-you-log-and-display#hardware-consumption\n"
     ]
    },
    {
     "name": "stdout",
     "output_type": "stream",
     "text": [
      "Remember to stop your run once you’ve finished logging your metadata (https://docs.neptune.ai/api-reference/run#.stop). It will be stopped automatically only when the notebook kernel/interactive console is terminated.\n"
     ]
    },
    {
     "name": "stderr",
     "output_type": "stream",
     "text": [
      "100%|███████████████████████████████████████████| 23/23 [00:15<00:00,  1.50it/s]"
     ]
    },
    {
     "name": "stdout",
     "output_type": "stream",
     "text": [
      "ExpID: ICAO-265\n",
      "final_ACC_valid: 91.81%\n",
      "final_ACC_test: 91.24%\n",
      "Shutting down background jobs, please wait a moment...\n"
     ]
    },
    {
     "name": "stderr",
     "output_type": "stream",
     "text": [
      "\n"
     ]
    },
    {
     "name": "stdout",
     "output_type": "stream",
     "text": [
      "Done!\n"
     ]
    },
    {
     "name": "stderr",
     "output_type": "stream",
     "text": [
      "Waiting for the remaining 17 operations to synchronize with Neptune. Do not kill this process.\n"
     ]
    },
    {
     "name": "stdout",
     "output_type": "stream",
     "text": [
      "All 17 operations synced, thanks for waiting!\n",
      "Calculating final_EER_mean for Experiment ICAO-265\n",
      "https://app.neptune.ai/guilhermemg/icao-nets-training-2/e/ICAO-265\n",
      "Remember to stop your run once you’ve finished logging your metadata (https://docs.neptune.ai/api-reference/run#.stop). It will be stopped automatically only when the notebook kernel/interactive console is terminated.\n"
     ]
    },
    {
     "name": "stderr",
     "output_type": "stream",
     "text": [
      "100%|███████████████████████████████████████████| 23/23 [00:14<00:00,  1.60it/s]"
     ]
    },
    {
     "name": "stdout",
     "output_type": "stream",
     "text": [
      "ExpID: ICAO-265\n",
      "final_EER_mean_valid: 8.3%\n",
      "final_EER_mean_test: 10.81%\n",
      "Shutting down background jobs, please wait a moment...\n"
     ]
    },
    {
     "name": "stderr",
     "output_type": "stream",
     "text": [
      "\n"
     ]
    },
    {
     "name": "stdout",
     "output_type": "stream",
     "text": [
      "Done!\n"
     ]
    },
    {
     "name": "stderr",
     "output_type": "stream",
     "text": [
      "Waiting for the remaining 19 operations to synchronize with Neptune. Do not kill this process.\n"
     ]
    },
    {
     "name": "stdout",
     "output_type": "stream",
     "text": [
      "All 19 operations synced, thanks for waiting!\n",
      "Calculating final_EER_median for Experiment ICAO-265\n",
      "https://app.neptune.ai/guilhermemg/icao-nets-training-2/e/ICAO-265\n",
      "Remember to stop your run once you’ve finished logging your metadata (https://docs.neptune.ai/api-reference/run#.stop). It will be stopped automatically only when the notebook kernel/interactive console is terminated.\n"
     ]
    },
    {
     "name": "stderr",
     "output_type": "stream",
     "text": [
      "100%|███████████████████████████████████████████| 23/23 [00:14<00:00,  1.60it/s]"
     ]
    },
    {
     "name": "stdout",
     "output_type": "stream",
     "text": [
      "ExpID: ICAO-265\n",
      "final_EER_median_valid: 6.78%\n",
      "final_EER_median_test: 7.99%\n",
      "Shutting down background jobs, please wait a moment...\n"
     ]
    },
    {
     "name": "stderr",
     "output_type": "stream",
     "text": [
      "\n"
     ]
    },
    {
     "name": "stdout",
     "output_type": "stream",
     "text": [
      "Done!\n"
     ]
    },
    {
     "name": "stderr",
     "output_type": "stream",
     "text": [
      "Waiting for the remaining 19 operations to synchronize with Neptune. Do not kill this process.\n"
     ]
    },
    {
     "name": "stdout",
     "output_type": "stream",
     "text": [
      "All 19 operations synced, thanks for waiting!\n"
     ]
    }
   ],
   "source": [
    "calculate_metric('ICAO-265', 'ACC')   \n",
    "calculate_metric('ICAO-265', 'EER_mean')   \n",
    "calculate_metric('ICAO-265', 'EER_median')   "
   ]
  },
  {
   "cell_type": "code",
   "execution_count": 27,
   "id": "d3d195f4-3a72-4e77-958c-3c1dc3855aed",
   "metadata": {
    "collapsed": true,
    "jupyter": {
     "outputs_hidden": true
    },
    "tags": []
   },
   "outputs": [
    {
     "name": "stdout",
     "output_type": "stream",
     "text": [
      "Calculating final_EER_std_dv for Experiment ICAO-265\n",
      "https://app.neptune.ai/guilhermemg/icao-nets-training-2/e/ICAO-265\n",
      "Remember to stop your run once you’ve finished logging your metadata (https://docs.neptune.ai/api-reference/run#.stop). It will be stopped automatically only when the notebook kernel/interactive console is terminated.\n"
     ]
    },
    {
     "name": "stderr",
     "output_type": "stream",
     "text": [
      "100%|███████████████████████████████████████████| 23/23 [00:13<00:00,  1.74it/s]"
     ]
    },
    {
     "name": "stdout",
     "output_type": "stream",
     "text": [
      "ExpID: ICAO-265\n",
      "final_EER_std_dv_valid: 7.4%\n",
      "final_EER_std_dv_test: 11.61%\n",
      "Shutting down background jobs, please wait a moment...\n"
     ]
    },
    {
     "name": "stderr",
     "output_type": "stream",
     "text": [
      "\n"
     ]
    },
    {
     "name": "stdout",
     "output_type": "stream",
     "text": [
      "Done!\n"
     ]
    },
    {
     "name": "stderr",
     "output_type": "stream",
     "text": [
      "Waiting for the remaining 17 operations to synchronize with Neptune. Do not kill this process.\n"
     ]
    },
    {
     "name": "stdout",
     "output_type": "stream",
     "text": [
      "All 17 operations synced, thanks for waiting!\n"
     ]
    }
   ],
   "source": [
    "calculate_metric('ICAO-265', 'EER_std_dv')"
   ]
  },
  {
   "cell_type": "markdown",
   "id": "8c6f3edc-a2b4-4693-b6ff-44acd6ec1a66",
   "metadata": {
    "tags": []
   },
   "source": [
    "## ICAO-273"
   ]
  },
  {
   "cell_type": "code",
   "execution_count": 11,
   "id": "343a4e61-f5b8-4c2d-9feb-18ac16d3dc07",
   "metadata": {
    "collapsed": true,
    "jupyter": {
     "outputs_hidden": true
    },
    "tags": []
   },
   "outputs": [
    {
     "name": "stdout",
     "output_type": "stream",
     "text": [
      "Calculating final_EER_median for Experiment ICAO-273\n",
      "https://app.neptune.ai/guilhermemg/icao-nets-training-2/e/ICAO-273\n",
      "Remember to stop your run once you’ve finished logging your metadata (https://docs.neptune.ai/api-reference/run#.stop). It will be stopped automatically only when the notebook kernel/interactive console is terminated.\n"
     ]
    },
    {
     "name": "stderr",
     "output_type": "stream",
     "text": [
      "100%|███████████████████████████████████████████████████████████████████| 23/23 [00:12<00:00,  1.92it/s]"
     ]
    },
    {
     "name": "stdout",
     "output_type": "stream",
     "text": [
      "ExpID: ICAO-273\n",
      "final_ACC_valid: 90.19%\n",
      "final_ACC_test: 90.61%\n",
      "Shutting down background jobs, please wait a moment...\n"
     ]
    },
    {
     "name": "stderr",
     "output_type": "stream",
     "text": [
      "\n"
     ]
    },
    {
     "name": "stdout",
     "output_type": "stream",
     "text": [
      "Done!\n"
     ]
    },
    {
     "name": "stderr",
     "output_type": "stream",
     "text": [
      "Waiting for the remaining 15 operations to synchronize with Neptune. Do not kill this process.\n"
     ]
    },
    {
     "name": "stdout",
     "output_type": "stream",
     "text": [
      "All 15 operations synced, thanks for waiting!\n",
      "Calculating final_EER_median for Experiment ICAO-273\n",
      "https://app.neptune.ai/guilhermemg/icao-nets-training-2/e/ICAO-273\n",
      "Remember to stop your run once you’ve finished logging your metadata (https://docs.neptune.ai/api-reference/run#.stop). It will be stopped automatically only when the notebook kernel/interactive console is terminated.\n"
     ]
    },
    {
     "name": "stderr",
     "output_type": "stream",
     "text": [
      "100%|███████████████████████████████████████████████████████████████████| 23/23 [00:12<00:00,  1.85it/s]"
     ]
    },
    {
     "name": "stdout",
     "output_type": "stream",
     "text": [
      "ExpID: ICAO-273\n",
      "final_EER_mean_valid: 11.24%\n",
      "final_EER_mean_test: 13.52%\n",
      "Shutting down background jobs, please wait a moment...\n"
     ]
    },
    {
     "name": "stderr",
     "output_type": "stream",
     "text": [
      "\n"
     ]
    },
    {
     "name": "stdout",
     "output_type": "stream",
     "text": [
      "Done!\n"
     ]
    },
    {
     "name": "stderr",
     "output_type": "stream",
     "text": [
      "Waiting for the remaining 16 operations to synchronize with Neptune. Do not kill this process.\n"
     ]
    },
    {
     "name": "stdout",
     "output_type": "stream",
     "text": [
      "All 16 operations synced, thanks for waiting!\n",
      "Calculating final_EER_median for Experiment ICAO-273\n",
      "https://app.neptune.ai/guilhermemg/icao-nets-training-2/e/ICAO-273\n",
      "Remember to stop your run once you’ve finished logging your metadata (https://docs.neptune.ai/api-reference/run#.stop). It will be stopped automatically only when the notebook kernel/interactive console is terminated.\n"
     ]
    },
    {
     "name": "stderr",
     "output_type": "stream",
     "text": [
      "100%|███████████████████████████████████████████████████████████████████| 23/23 [00:12<00:00,  1.85it/s]"
     ]
    },
    {
     "name": "stdout",
     "output_type": "stream",
     "text": [
      "ExpID: ICAO-273\n",
      "final_EER_median_valid: 9.4%\n",
      "final_EER_median_test: 7.32%\n",
      "Shutting down background jobs, please wait a moment...\n"
     ]
    },
    {
     "name": "stderr",
     "output_type": "stream",
     "text": [
      "\n"
     ]
    },
    {
     "name": "stdout",
     "output_type": "stream",
     "text": [
      "Done!\n"
     ]
    },
    {
     "name": "stderr",
     "output_type": "stream",
     "text": [
      "Waiting for the remaining 16 operations to synchronize with Neptune. Do not kill this process.\n"
     ]
    },
    {
     "name": "stdout",
     "output_type": "stream",
     "text": [
      "All 16 operations synced, thanks for waiting!\n"
     ]
    }
   ],
   "source": [
    "calculate_metric('ICAO-273', 'ACC')   \n",
    "calculate_metric('ICAO-273', 'EER_mean')   \n",
    "calculate_metric('ICAO-273', 'EER_median')   "
   ]
  },
  {
   "cell_type": "code",
   "execution_count": 28,
   "id": "cb1f448a-ee8f-4d44-b3d9-13a0637fdba7",
   "metadata": {
    "collapsed": true,
    "jupyter": {
     "outputs_hidden": true
    },
    "tags": []
   },
   "outputs": [
    {
     "name": "stdout",
     "output_type": "stream",
     "text": [
      "Calculating final_EER_std_dv for Experiment ICAO-273\n",
      "https://app.neptune.ai/guilhermemg/icao-nets-training-2/e/ICAO-273\n",
      "Remember to stop your run once you’ve finished logging your metadata (https://docs.neptune.ai/api-reference/run#.stop). It will be stopped automatically only when the notebook kernel/interactive console is terminated.\n"
     ]
    },
    {
     "name": "stderr",
     "output_type": "stream",
     "text": [
      "100%|███████████████████████████████████████████| 23/23 [00:12<00:00,  1.79it/s]"
     ]
    },
    {
     "name": "stdout",
     "output_type": "stream",
     "text": [
      "ExpID: ICAO-273\n",
      "final_EER_std_dv_valid: 10.65%\n",
      "final_EER_std_dv_test: 13.93%\n",
      "Shutting down background jobs, please wait a moment...\n"
     ]
    },
    {
     "name": "stderr",
     "output_type": "stream",
     "text": [
      "\n"
     ]
    },
    {
     "name": "stdout",
     "output_type": "stream",
     "text": [
      "Done!\n"
     ]
    },
    {
     "name": "stderr",
     "output_type": "stream",
     "text": [
      "Waiting for the remaining 16 operations to synchronize with Neptune. Do not kill this process.\n"
     ]
    },
    {
     "name": "stdout",
     "output_type": "stream",
     "text": [
      "All 16 operations synced, thanks for waiting!\n"
     ]
    }
   ],
   "source": [
    "calculate_metric('ICAO-273', 'EER_std_dv')"
   ]
  },
  {
   "cell_type": "markdown",
   "id": "aa23c01f-c27e-4043-b454-e9eb393899b2",
   "metadata": {},
   "source": [
    "## ICAO-322"
   ]
  },
  {
   "cell_type": "code",
   "execution_count": 8,
   "id": "12bb6162-3460-4647-91b2-fbdbd60ac69d",
   "metadata": {
    "collapsed": true,
    "jupyter": {
     "outputs_hidden": true
    },
    "tags": []
   },
   "outputs": [
    {
     "name": "stdout",
     "output_type": "stream",
     "text": [
      "Calculating final_ACC for Experiment ICAO-322\n",
      "https://app.neptune.ai/guilhermemg/icao-nets-training-2/e/ICAO-322\n",
      "Remember to stop your run once you’ve finished logging your metadata (https://docs.neptune.ai/api-reference/run#.stop). It will be stopped automatically only when the notebook kernel/interactive console is terminated.\n"
     ]
    },
    {
     "name": "stderr",
     "output_type": "stream",
     "text": [
      "100%|███████████████████████████████████████████████████████████████████| 23/23 [00:12<00:00,  1.85it/s]"
     ]
    },
    {
     "name": "stdout",
     "output_type": "stream",
     "text": [
      "ExpID: ICAO-322\n",
      "final_ACC_valid: 92.18%\n",
      "final_ACC_test: 91.76%\n",
      "Shutting down background jobs, please wait a moment...\n"
     ]
    },
    {
     "name": "stderr",
     "output_type": "stream",
     "text": [
      "\n"
     ]
    },
    {
     "name": "stdout",
     "output_type": "stream",
     "text": [
      "Done!\n"
     ]
    },
    {
     "name": "stderr",
     "output_type": "stream",
     "text": [
      "Waiting for the remaining 14 operations to synchronize with Neptune. Do not kill this process.\n"
     ]
    },
    {
     "name": "stdout",
     "output_type": "stream",
     "text": [
      "All 14 operations synced, thanks for waiting!\n",
      "Calculating final_EER_mean for Experiment ICAO-322\n",
      "https://app.neptune.ai/guilhermemg/icao-nets-training-2/e/ICAO-322\n",
      "Remember to stop your run once you’ve finished logging your metadata (https://docs.neptune.ai/api-reference/run#.stop). It will be stopped automatically only when the notebook kernel/interactive console is terminated.\n"
     ]
    },
    {
     "name": "stderr",
     "output_type": "stream",
     "text": [
      "100%|███████████████████████████████████████████████████████████████████| 23/23 [00:11<00:00,  1.92it/s]"
     ]
    },
    {
     "name": "stdout",
     "output_type": "stream",
     "text": [
      "ExpID: ICAO-322\n",
      "final_EER_mean_valid: 7.66%\n",
      "final_EER_mean_test: 7.86%\n",
      "Shutting down background jobs, please wait a moment...\n"
     ]
    },
    {
     "name": "stderr",
     "output_type": "stream",
     "text": [
      "\n"
     ]
    },
    {
     "name": "stdout",
     "output_type": "stream",
     "text": [
      "Done!\n"
     ]
    },
    {
     "name": "stderr",
     "output_type": "stream",
     "text": [
      "Waiting for the remaining 15 operations to synchronize with Neptune. Do not kill this process.\n"
     ]
    },
    {
     "name": "stdout",
     "output_type": "stream",
     "text": [
      "All 15 operations synced, thanks for waiting!\n",
      "Calculating final_EER_median for Experiment ICAO-322\n",
      "https://app.neptune.ai/guilhermemg/icao-nets-training-2/e/ICAO-322\n",
      "Remember to stop your run once you’ve finished logging your metadata (https://docs.neptune.ai/api-reference/run#.stop). It will be stopped automatically only when the notebook kernel/interactive console is terminated.\n"
     ]
    },
    {
     "name": "stderr",
     "output_type": "stream",
     "text": [
      "100%|███████████████████████████████████████████████████████████████████| 23/23 [00:12<00:00,  1.91it/s]"
     ]
    },
    {
     "name": "stdout",
     "output_type": "stream",
     "text": [
      "ExpID: ICAO-322\n",
      "final_EER_median_valid: 6.72%\n",
      "final_EER_median_test: 6.5%\n",
      "Shutting down background jobs, please wait a moment...\n"
     ]
    },
    {
     "name": "stderr",
     "output_type": "stream",
     "text": [
      "\n"
     ]
    },
    {
     "name": "stdout",
     "output_type": "stream",
     "text": [
      "Done!\n"
     ]
    },
    {
     "name": "stderr",
     "output_type": "stream",
     "text": [
      "Waiting for the remaining 15 operations to synchronize with Neptune. Do not kill this process.\n"
     ]
    },
    {
     "name": "stdout",
     "output_type": "stream",
     "text": [
      "All 15 operations synced, thanks for waiting!\n"
     ]
    }
   ],
   "source": [
    "calculate_metric('ICAO-322', 'ACC')   \n",
    "calculate_metric('ICAO-322', 'EER_mean')   \n",
    "calculate_metric('ICAO-322', 'EER_median')   "
   ]
  },
  {
   "cell_type": "code",
   "execution_count": 29,
   "id": "6bd35a65-d5f4-49b6-8a49-c89b33e106d7",
   "metadata": {
    "collapsed": true,
    "jupyter": {
     "outputs_hidden": true
    },
    "tags": []
   },
   "outputs": [
    {
     "name": "stdout",
     "output_type": "stream",
     "text": [
      "Calculating final_EER_std_dv for Experiment ICAO-322\n",
      "https://app.neptune.ai/guilhermemg/icao-nets-training-2/e/ICAO-322\n",
      "Remember to stop your run once you’ve finished logging your metadata (https://docs.neptune.ai/api-reference/run#.stop). It will be stopped automatically only when the notebook kernel/interactive console is terminated.\n"
     ]
    },
    {
     "name": "stderr",
     "output_type": "stream",
     "text": [
      "100%|███████████████████████████████████████████| 23/23 [00:13<00:00,  1.72it/s]"
     ]
    },
    {
     "name": "stdout",
     "output_type": "stream",
     "text": [
      "ExpID: ICAO-322\n",
      "final_EER_std_dv_valid: 6.25%\n",
      "final_EER_std_dv_test: 7.2%\n",
      "Shutting down background jobs, please wait a moment...\n"
     ]
    },
    {
     "name": "stderr",
     "output_type": "stream",
     "text": [
      "\n"
     ]
    },
    {
     "name": "stdout",
     "output_type": "stream",
     "text": [
      "Done!\n"
     ]
    },
    {
     "name": "stderr",
     "output_type": "stream",
     "text": [
      "Waiting for the remaining 17 operations to synchronize with Neptune. Do not kill this process.\n"
     ]
    },
    {
     "name": "stdout",
     "output_type": "stream",
     "text": [
      "All 17 operations synced, thanks for waiting!\n"
     ]
    }
   ],
   "source": [
    "calculate_metric('ICAO-322', 'EER_std_dv')"
   ]
  },
  {
   "cell_type": "markdown",
   "id": "84265d58-5367-4768-8853-68d609827800",
   "metadata": {},
   "source": [
    "## ICAO-321"
   ]
  },
  {
   "cell_type": "code",
   "execution_count": 9,
   "id": "6f7057ff-cd7c-4f29-acfd-b4d2cc639993",
   "metadata": {
    "collapsed": true,
    "jupyter": {
     "outputs_hidden": true
    },
    "tags": []
   },
   "outputs": [
    {
     "name": "stdout",
     "output_type": "stream",
     "text": [
      "Calculating final_ACC for Experiment ICAO-321\n",
      "https://app.neptune.ai/guilhermemg/icao-nets-training-2/e/ICAO-321\n",
      "Remember to stop your run once you’ve finished logging your metadata (https://docs.neptune.ai/api-reference/run#.stop). It will be stopped automatically only when the notebook kernel/interactive console is terminated.\n"
     ]
    },
    {
     "name": "stderr",
     "output_type": "stream",
     "text": [
      "100%|███████████████████████████████████████████████████████████████████| 23/23 [00:12<00:00,  1.85it/s]"
     ]
    },
    {
     "name": "stdout",
     "output_type": "stream",
     "text": [
      "ExpID: ICAO-321\n",
      "final_ACC_valid: 90.39%\n",
      "final_ACC_test: 87.72%\n",
      "Shutting down background jobs, please wait a moment...\n"
     ]
    },
    {
     "name": "stderr",
     "output_type": "stream",
     "text": [
      "\n"
     ]
    },
    {
     "name": "stdout",
     "output_type": "stream",
     "text": [
      "Done!\n"
     ]
    },
    {
     "name": "stderr",
     "output_type": "stream",
     "text": [
      "Waiting for the remaining 15 operations to synchronize with Neptune. Do not kill this process.\n"
     ]
    },
    {
     "name": "stdout",
     "output_type": "stream",
     "text": [
      "All 15 operations synced, thanks for waiting!\n",
      "Calculating final_EER_mean for Experiment ICAO-321\n",
      "https://app.neptune.ai/guilhermemg/icao-nets-training-2/e/ICAO-321\n",
      "Remember to stop your run once you’ve finished logging your metadata (https://docs.neptune.ai/api-reference/run#.stop). It will be stopped automatically only when the notebook kernel/interactive console is terminated.\n"
     ]
    },
    {
     "name": "stderr",
     "output_type": "stream",
     "text": [
      "100%|███████████████████████████████████████████████████████████████████| 23/23 [00:12<00:00,  1.83it/s]"
     ]
    },
    {
     "name": "stdout",
     "output_type": "stream",
     "text": [
      "ExpID: ICAO-321\n",
      "final_EER_mean_valid: 8.85%\n",
      "final_EER_mean_test: 7.72%\n",
      "Shutting down background jobs, please wait a moment...\n"
     ]
    },
    {
     "name": "stderr",
     "output_type": "stream",
     "text": [
      "\n"
     ]
    },
    {
     "name": "stdout",
     "output_type": "stream",
     "text": [
      "Done!\n"
     ]
    },
    {
     "name": "stderr",
     "output_type": "stream",
     "text": [
      "Waiting for the remaining 16 operations to synchronize with Neptune. Do not kill this process.\n"
     ]
    },
    {
     "name": "stdout",
     "output_type": "stream",
     "text": [
      "All 16 operations synced, thanks for waiting!\n",
      "Calculating final_EER_median for Experiment ICAO-321\n",
      "https://app.neptune.ai/guilhermemg/icao-nets-training-2/e/ICAO-321\n",
      "Remember to stop your run once you’ve finished logging your metadata (https://docs.neptune.ai/api-reference/run#.stop). It will be stopped automatically only when the notebook kernel/interactive console is terminated.\n"
     ]
    },
    {
     "name": "stderr",
     "output_type": "stream",
     "text": [
      "100%|███████████████████████████████████████████████████████████████████| 23/23 [00:12<00:00,  1.90it/s]"
     ]
    },
    {
     "name": "stdout",
     "output_type": "stream",
     "text": [
      "ExpID: ICAO-321\n",
      "final_EER_median_valid: 7.37%\n",
      "final_EER_median_test: 7.69%\n",
      "Shutting down background jobs, please wait a moment...\n"
     ]
    },
    {
     "name": "stderr",
     "output_type": "stream",
     "text": [
      "\n"
     ]
    },
    {
     "name": "stdout",
     "output_type": "stream",
     "text": [
      "Done!\n"
     ]
    },
    {
     "name": "stderr",
     "output_type": "stream",
     "text": [
      "Waiting for the remaining 15 operations to synchronize with Neptune. Do not kill this process.\n"
     ]
    },
    {
     "name": "stdout",
     "output_type": "stream",
     "text": [
      "All 15 operations synced, thanks for waiting!\n"
     ]
    }
   ],
   "source": [
    "calculate_metric('ICAO-321', 'ACC')   \n",
    "calculate_metric('ICAO-321', 'EER_mean')   \n",
    "calculate_metric('ICAO-321', 'EER_median')   "
   ]
  },
  {
   "cell_type": "code",
   "execution_count": 30,
   "id": "c0bd403a-50c7-4c13-93dd-959cc79bb06e",
   "metadata": {
    "collapsed": true,
    "jupyter": {
     "outputs_hidden": true
    },
    "tags": []
   },
   "outputs": [
    {
     "name": "stdout",
     "output_type": "stream",
     "text": [
      "Calculating final_EER_std_dv for Experiment ICAO-321\n",
      "https://app.neptune.ai/guilhermemg/icao-nets-training-2/e/ICAO-321\n",
      "Remember to stop your run once you’ve finished logging your metadata (https://docs.neptune.ai/api-reference/run#.stop). It will be stopped automatically only when the notebook kernel/interactive console is terminated.\n"
     ]
    },
    {
     "name": "stderr",
     "output_type": "stream",
     "text": [
      "100%|███████████████████████████████████████████| 23/23 [00:13<00:00,  1.77it/s]"
     ]
    },
    {
     "name": "stdout",
     "output_type": "stream",
     "text": [
      "ExpID: ICAO-321\n",
      "final_EER_std_dv_valid: 7.02%\n",
      "final_EER_std_dv_test: 5.81%\n",
      "Shutting down background jobs, please wait a moment...\n"
     ]
    },
    {
     "name": "stderr",
     "output_type": "stream",
     "text": [
      "\n"
     ]
    },
    {
     "name": "stdout",
     "output_type": "stream",
     "text": [
      "Done!\n"
     ]
    },
    {
     "name": "stderr",
     "output_type": "stream",
     "text": [
      "Waiting for the remaining 16 operations to synchronize with Neptune. Do not kill this process.\n"
     ]
    },
    {
     "name": "stdout",
     "output_type": "stream",
     "text": [
      "All 16 operations synced, thanks for waiting!\n"
     ]
    }
   ],
   "source": [
    "calculate_metric('ICAO-321', 'EER_std_dv')"
   ]
  },
  {
   "cell_type": "markdown",
   "id": "dba4044b-6d23-4d50-b201-55792c1fe226",
   "metadata": {},
   "source": [
    "## ICAO-324"
   ]
  },
  {
   "cell_type": "code",
   "execution_count": 12,
   "id": "190dd3ad-c92b-4a5e-a3e6-c77a4c88d597",
   "metadata": {
    "collapsed": true,
    "jupyter": {
     "outputs_hidden": true
    },
    "tags": []
   },
   "outputs": [
    {
     "name": "stdout",
     "output_type": "stream",
     "text": [
      "Calculating final_ACC for Experiment ICAO-324\n",
      "https://app.neptune.ai/guilhermemg/icao-nets-training-2/e/ICAO-324\n",
      "Remember to stop your run once you’ve finished logging your metadata (https://docs.neptune.ai/api-reference/run#.stop). It will be stopped automatically only when the notebook kernel/interactive console is terminated.\n"
     ]
    },
    {
     "name": "stderr",
     "output_type": "stream",
     "text": [
      "100%|███████████████████████████████████████████████████████████████████| 23/23 [00:12<00:00,  1.92it/s]"
     ]
    },
    {
     "name": "stdout",
     "output_type": "stream",
     "text": [
      "ExpID: ICAO-324\n",
      "final_ACC_valid: 91.77%\n",
      "final_ACC_test: 91.59%\n",
      "Shutting down background jobs, please wait a moment...\n"
     ]
    },
    {
     "name": "stderr",
     "output_type": "stream",
     "text": [
      "\n"
     ]
    },
    {
     "name": "stdout",
     "output_type": "stream",
     "text": [
      "Done!\n"
     ]
    },
    {
     "name": "stderr",
     "output_type": "stream",
     "text": [
      "Waiting for the remaining 14 operations to synchronize with Neptune. Do not kill this process.\n"
     ]
    },
    {
     "name": "stdout",
     "output_type": "stream",
     "text": [
      "All 14 operations synced, thanks for waiting!\n",
      "Calculating final_EER_mean for Experiment ICAO-324\n",
      "https://app.neptune.ai/guilhermemg/icao-nets-training-2/e/ICAO-324\n",
      "Remember to stop your run once you’ve finished logging your metadata (https://docs.neptune.ai/api-reference/run#.stop). It will be stopped automatically only when the notebook kernel/interactive console is terminated.\n"
     ]
    },
    {
     "name": "stderr",
     "output_type": "stream",
     "text": [
      "100%|███████████████████████████████████████████████████████████████████| 23/23 [00:12<00:00,  1.91it/s]"
     ]
    },
    {
     "name": "stdout",
     "output_type": "stream",
     "text": [
      "ExpID: ICAO-324\n",
      "final_EER_mean_valid: 7.29%\n",
      "final_EER_mean_test: 7.67%\n",
      "Shutting down background jobs, please wait a moment...\n"
     ]
    },
    {
     "name": "stderr",
     "output_type": "stream",
     "text": [
      "\n"
     ]
    },
    {
     "name": "stdout",
     "output_type": "stream",
     "text": [
      "Done!\n"
     ]
    },
    {
     "name": "stderr",
     "output_type": "stream",
     "text": [
      "Waiting for the remaining 15 operations to synchronize with Neptune. Do not kill this process.\n"
     ]
    },
    {
     "name": "stdout",
     "output_type": "stream",
     "text": [
      "All 15 operations synced, thanks for waiting!\n",
      "Calculating final_EER_median for Experiment ICAO-324\n",
      "https://app.neptune.ai/guilhermemg/icao-nets-training-2/e/ICAO-324\n",
      "Remember to stop your run once you’ve finished logging your metadata (https://docs.neptune.ai/api-reference/run#.stop). It will be stopped automatically only when the notebook kernel/interactive console is terminated.\n"
     ]
    },
    {
     "name": "stderr",
     "output_type": "stream",
     "text": [
      "100%|███████████████████████████████████████████████████████████████████| 23/23 [00:11<00:00,  1.92it/s]"
     ]
    },
    {
     "name": "stdout",
     "output_type": "stream",
     "text": [
      "ExpID: ICAO-324\n",
      "final_EER_median_valid: 7.24%\n",
      "final_EER_median_test: 6.68%\n",
      "Shutting down background jobs, please wait a moment...\n"
     ]
    },
    {
     "name": "stderr",
     "output_type": "stream",
     "text": [
      "\n"
     ]
    },
    {
     "name": "stdout",
     "output_type": "stream",
     "text": [
      "Done!\n"
     ]
    },
    {
     "name": "stderr",
     "output_type": "stream",
     "text": [
      "Waiting for the remaining 15 operations to synchronize with Neptune. Do not kill this process.\n"
     ]
    },
    {
     "name": "stdout",
     "output_type": "stream",
     "text": [
      "All 15 operations synced, thanks for waiting!\n"
     ]
    }
   ],
   "source": [
    "calculate_metric('ICAO-324', 'ACC')   \n",
    "calculate_metric('ICAO-324', 'EER_mean')   \n",
    "calculate_metric('ICAO-324', 'EER_median')   "
   ]
  },
  {
   "cell_type": "code",
   "execution_count": 31,
   "id": "584bfe0c-399c-4beb-bc2a-389161ae3c86",
   "metadata": {
    "collapsed": true,
    "jupyter": {
     "outputs_hidden": true
    },
    "tags": []
   },
   "outputs": [
    {
     "name": "stdout",
     "output_type": "stream",
     "text": [
      "Calculating final_EER_std_dv for Experiment ICAO-324\n",
      "https://app.neptune.ai/guilhermemg/icao-nets-training-2/e/ICAO-324\n",
      "Remember to stop your run once you’ve finished logging your metadata (https://docs.neptune.ai/api-reference/run#.stop). It will be stopped automatically only when the notebook kernel/interactive console is terminated.\n"
     ]
    },
    {
     "name": "stderr",
     "output_type": "stream",
     "text": [
      "100%|███████████████████████████████████████████| 23/23 [00:13<00:00,  1.71it/s]"
     ]
    },
    {
     "name": "stdout",
     "output_type": "stream",
     "text": [
      "ExpID: ICAO-324\n",
      "final_EER_std_dv_valid: 6.07%\n",
      "final_EER_std_dv_test: 6.79%\n",
      "Shutting down background jobs, please wait a moment...\n"
     ]
    },
    {
     "name": "stderr",
     "output_type": "stream",
     "text": [
      "\n"
     ]
    },
    {
     "name": "stdout",
     "output_type": "stream",
     "text": [
      "Done!\n"
     ]
    },
    {
     "name": "stderr",
     "output_type": "stream",
     "text": [
      "Waiting for the remaining 17 operations to synchronize with Neptune. Do not kill this process.\n"
     ]
    },
    {
     "name": "stdout",
     "output_type": "stream",
     "text": [
      "All 17 operations synced, thanks for waiting!\n"
     ]
    }
   ],
   "source": [
    "calculate_metric('ICAO-324', 'EER_std_dv')"
   ]
  },
  {
   "cell_type": "markdown",
   "id": "e0b8d5bc-2f8b-4c82-a02c-3d7366b20f84",
   "metadata": {},
   "source": [
    "## ICAO-326"
   ]
  },
  {
   "cell_type": "code",
   "execution_count": 13,
   "id": "54745a76-fd2d-4366-a6d5-268dfb86e33b",
   "metadata": {
    "collapsed": true,
    "jupyter": {
     "outputs_hidden": true
    },
    "tags": []
   },
   "outputs": [
    {
     "name": "stdout",
     "output_type": "stream",
     "text": [
      "Calculating final_ACC for Experiment ICAO-326\n",
      "https://app.neptune.ai/guilhermemg/icao-nets-training-2/e/ICAO-326\n",
      "Remember to stop your run once you’ve finished logging your metadata (https://docs.neptune.ai/api-reference/run#.stop). It will be stopped automatically only when the notebook kernel/interactive console is terminated.\n"
     ]
    },
    {
     "name": "stderr",
     "output_type": "stream",
     "text": [
      "100%|███████████████████████████████████████████████████████████████████| 23/23 [00:12<00:00,  1.83it/s]"
     ]
    },
    {
     "name": "stdout",
     "output_type": "stream",
     "text": [
      "ExpID: ICAO-326\n",
      "final_ACC_valid: 91.6%\n",
      "final_ACC_test: 89.36%\n",
      "Shutting down background jobs, please wait a moment...\n"
     ]
    },
    {
     "name": "stderr",
     "output_type": "stream",
     "text": [
      "\n"
     ]
    },
    {
     "name": "stdout",
     "output_type": "stream",
     "text": [
      "Done!\n"
     ]
    },
    {
     "name": "stderr",
     "output_type": "stream",
     "text": [
      "Waiting for the remaining 30 operations to synchronize with Neptune. Do not kill this process.\n"
     ]
    },
    {
     "name": "stdout",
     "output_type": "stream",
     "text": [
      "All 30 operations synced, thanks for waiting!\n",
      "Calculating final_EER_mean for Experiment ICAO-326\n",
      "https://app.neptune.ai/guilhermemg/icao-nets-training-2/e/ICAO-326\n",
      "Remember to stop your run once you’ve finished logging your metadata (https://docs.neptune.ai/api-reference/run#.stop). It will be stopped automatically only when the notebook kernel/interactive console is terminated.\n"
     ]
    },
    {
     "name": "stderr",
     "output_type": "stream",
     "text": [
      "100%|███████████████████████████████████████████████████████████████████| 23/23 [00:12<00:00,  1.85it/s]"
     ]
    },
    {
     "name": "stdout",
     "output_type": "stream",
     "text": [
      "ExpID: ICAO-326\n",
      "final_EER_mean_valid: 7.87%\n",
      "final_EER_mean_test: 8.55%\n",
      "Shutting down background jobs, please wait a moment...\n"
     ]
    },
    {
     "name": "stderr",
     "output_type": "stream",
     "text": [
      "\n"
     ]
    },
    {
     "name": "stdout",
     "output_type": "stream",
     "text": [
      "Done!\n"
     ]
    },
    {
     "name": "stderr",
     "output_type": "stream",
     "text": [
      "Waiting for the remaining 16 operations to synchronize with Neptune. Do not kill this process.\n"
     ]
    },
    {
     "name": "stdout",
     "output_type": "stream",
     "text": [
      "All 16 operations synced, thanks for waiting!\n",
      "Calculating final_EER_median for Experiment ICAO-326\n",
      "https://app.neptune.ai/guilhermemg/icao-nets-training-2/e/ICAO-326\n",
      "Remember to stop your run once you’ve finished logging your metadata (https://docs.neptune.ai/api-reference/run#.stop). It will be stopped automatically only when the notebook kernel/interactive console is terminated.\n"
     ]
    },
    {
     "name": "stderr",
     "output_type": "stream",
     "text": [
      "100%|███████████████████████████████████████████████████████████████████| 23/23 [00:11<00:00,  1.92it/s]"
     ]
    },
    {
     "name": "stdout",
     "output_type": "stream",
     "text": [
      "ExpID: ICAO-326\n",
      "final_EER_median_valid: 6.76%\n",
      "final_EER_median_test: 9.2%\n",
      "Shutting down background jobs, please wait a moment...\n"
     ]
    },
    {
     "name": "stderr",
     "output_type": "stream",
     "text": [
      "\n"
     ]
    },
    {
     "name": "stdout",
     "output_type": "stream",
     "text": [
      "Done!\n"
     ]
    },
    {
     "name": "stderr",
     "output_type": "stream",
     "text": [
      "Waiting for the remaining 15 operations to synchronize with Neptune. Do not kill this process.\n"
     ]
    },
    {
     "name": "stdout",
     "output_type": "stream",
     "text": [
      "All 15 operations synced, thanks for waiting!\n"
     ]
    }
   ],
   "source": [
    "calculate_metric('ICAO-326', 'ACC')   \n",
    "calculate_metric('ICAO-326', 'EER_mean')   \n",
    "calculate_metric('ICAO-326', 'EER_median')   "
   ]
  },
  {
   "cell_type": "code",
   "execution_count": 32,
   "id": "086d9bc5-66e7-4bf6-a32a-1384260b955c",
   "metadata": {
    "collapsed": true,
    "jupyter": {
     "outputs_hidden": true
    },
    "tags": []
   },
   "outputs": [
    {
     "name": "stdout",
     "output_type": "stream",
     "text": [
      "Calculating final_EER_std_dv for Experiment ICAO-326\n",
      "https://app.neptune.ai/guilhermemg/icao-nets-training-2/e/ICAO-326\n",
      "Remember to stop your run once you’ve finished logging your metadata (https://docs.neptune.ai/api-reference/run#.stop). It will be stopped automatically only when the notebook kernel/interactive console is terminated.\n"
     ]
    },
    {
     "name": "stderr",
     "output_type": "stream",
     "text": [
      "100%|███████████████████████████████████████████| 23/23 [00:13<00:00,  1.72it/s]"
     ]
    },
    {
     "name": "stdout",
     "output_type": "stream",
     "text": [
      "ExpID: ICAO-326\n",
      "final_EER_std_dv_valid: 6.31%\n",
      "final_EER_std_dv_test: 7.17%\n",
      "Shutting down background jobs, please wait a moment...\n"
     ]
    },
    {
     "name": "stderr",
     "output_type": "stream",
     "text": [
      "\n"
     ]
    },
    {
     "name": "stdout",
     "output_type": "stream",
     "text": [
      "Done!\n"
     ]
    },
    {
     "name": "stderr",
     "output_type": "stream",
     "text": [
      "Waiting for the remaining 16 operations to synchronize with Neptune. Do not kill this process.\n"
     ]
    },
    {
     "name": "stdout",
     "output_type": "stream",
     "text": [
      "All 16 operations synced, thanks for waiting!\n"
     ]
    }
   ],
   "source": [
    "calculate_metric('ICAO-326', 'EER_std_dv')"
   ]
  },
  {
   "cell_type": "markdown",
   "id": "ebdd54e3-4a2c-4010-a71c-722638921750",
   "metadata": {},
   "source": [
    "# NAS - Approach 02"
   ]
  },
  {
   "cell_type": "markdown",
   "id": "281f4faf-0438-4979-ac65-de2cee522b81",
   "metadata": {},
   "source": [
    "## ICAO-319"
   ]
  },
  {
   "cell_type": "code",
   "execution_count": 10,
   "id": "a3922b42-71ec-4257-b68d-1d374a58e0a6",
   "metadata": {
    "collapsed": true,
    "jupyter": {
     "outputs_hidden": true
    },
    "tags": []
   },
   "outputs": [
    {
     "name": "stdout",
     "output_type": "stream",
     "text": [
      "Calculating final_ACC for Experiment ICAO-319\n",
      "https://app.neptune.ai/guilhermemg/icao-nets-training-2/e/ICAO-319\n",
      "Remember to stop your run once you’ve finished logging your metadata (https://docs.neptune.ai/api-reference/run#.stop). It will be stopped automatically only when the notebook kernel/interactive console is terminated.\n"
     ]
    },
    {
     "name": "stderr",
     "output_type": "stream",
     "text": [
      "100%|███████████████████████████████████████████████████████████████████| 23/23 [00:12<00:00,  1.85it/s]"
     ]
    },
    {
     "name": "stdout",
     "output_type": "stream",
     "text": [
      "ExpID: ICAO-319\n",
      "final_ACC_valid: 90.42%\n",
      "final_ACC_test: 89.96%\n",
      "Shutting down background jobs, please wait a moment...\n"
     ]
    },
    {
     "name": "stderr",
     "output_type": "stream",
     "text": [
      "\n"
     ]
    },
    {
     "name": "stdout",
     "output_type": "stream",
     "text": [
      "Done!\n"
     ]
    },
    {
     "name": "stderr",
     "output_type": "stream",
     "text": [
      "Waiting for the remaining 14 operations to synchronize with Neptune. Do not kill this process.\n"
     ]
    },
    {
     "name": "stdout",
     "output_type": "stream",
     "text": [
      "All 14 operations synced, thanks for waiting!\n",
      "Calculating final_EER_mean for Experiment ICAO-319\n",
      "https://app.neptune.ai/guilhermemg/icao-nets-training-2/e/ICAO-319\n",
      "Remember to stop your run once you’ve finished logging your metadata (https://docs.neptune.ai/api-reference/run#.stop). It will be stopped automatically only when the notebook kernel/interactive console is terminated.\n"
     ]
    },
    {
     "name": "stderr",
     "output_type": "stream",
     "text": [
      "100%|███████████████████████████████████████████████████████████████████| 23/23 [00:11<00:00,  1.92it/s]"
     ]
    },
    {
     "name": "stdout",
     "output_type": "stream",
     "text": [
      "ExpID: ICAO-319\n",
      "final_EER_mean_valid: 8.01%\n",
      "final_EER_mean_test: 8.83%\n",
      "Shutting down background jobs, please wait a moment...\n"
     ]
    },
    {
     "name": "stderr",
     "output_type": "stream",
     "text": [
      "\n"
     ]
    },
    {
     "name": "stdout",
     "output_type": "stream",
     "text": [
      "Done!\n"
     ]
    },
    {
     "name": "stderr",
     "output_type": "stream",
     "text": [
      "Waiting for the remaining 15 operations to synchronize with Neptune. Do not kill this process.\n"
     ]
    },
    {
     "name": "stdout",
     "output_type": "stream",
     "text": [
      "All 15 operations synced, thanks for waiting!\n",
      "Calculating final_EER_median for Experiment ICAO-319\n",
      "https://app.neptune.ai/guilhermemg/icao-nets-training-2/e/ICAO-319\n",
      "Remember to stop your run once you’ve finished logging your metadata (https://docs.neptune.ai/api-reference/run#.stop). It will be stopped automatically only when the notebook kernel/interactive console is terminated.\n"
     ]
    },
    {
     "name": "stderr",
     "output_type": "stream",
     "text": [
      "100%|███████████████████████████████████████████████████████████████████| 23/23 [00:12<00:00,  1.90it/s]"
     ]
    },
    {
     "name": "stdout",
     "output_type": "stream",
     "text": [
      "ExpID: ICAO-319\n",
      "final_EER_median_valid: 7.63%\n",
      "final_EER_median_test: 8.93%\n",
      "Shutting down background jobs, please wait a moment...\n"
     ]
    },
    {
     "name": "stderr",
     "output_type": "stream",
     "text": [
      "\n"
     ]
    },
    {
     "name": "stdout",
     "output_type": "stream",
     "text": [
      "Done!\n"
     ]
    },
    {
     "name": "stderr",
     "output_type": "stream",
     "text": [
      "Waiting for the remaining 15 operations to synchronize with Neptune. Do not kill this process.\n"
     ]
    },
    {
     "name": "stdout",
     "output_type": "stream",
     "text": [
      "All 15 operations synced, thanks for waiting!\n"
     ]
    }
   ],
   "source": [
    "calculate_metric('ICAO-319', 'ACC')   \n",
    "calculate_metric('ICAO-319', 'EER_mean')   \n",
    "calculate_metric('ICAO-319', 'EER_median')   "
   ]
  },
  {
   "cell_type": "code",
   "execution_count": 33,
   "id": "65c310db-6e6f-47e3-b410-846f4eb9f7dd",
   "metadata": {
    "collapsed": true,
    "jupyter": {
     "outputs_hidden": true
    },
    "tags": []
   },
   "outputs": [
    {
     "name": "stdout",
     "output_type": "stream",
     "text": [
      "Calculating final_EER_std_dv for Experiment ICAO-319\n",
      "https://app.neptune.ai/guilhermemg/icao-nets-training-2/e/ICAO-319\n",
      "Remember to stop your run once you’ve finished logging your metadata (https://docs.neptune.ai/api-reference/run#.stop). It will be stopped automatically only when the notebook kernel/interactive console is terminated.\n"
     ]
    },
    {
     "name": "stderr",
     "output_type": "stream",
     "text": [
      "100%|███████████████████████████████████████████| 23/23 [00:13<00:00,  1.75it/s]"
     ]
    },
    {
     "name": "stdout",
     "output_type": "stream",
     "text": [
      "ExpID: ICAO-319\n",
      "final_EER_std_dv_valid: 7.04%\n",
      "final_EER_std_dv_test: 7.52%\n",
      "Shutting down background jobs, please wait a moment...\n"
     ]
    },
    {
     "name": "stderr",
     "output_type": "stream",
     "text": [
      "\n"
     ]
    },
    {
     "name": "stdout",
     "output_type": "stream",
     "text": [
      "Done!\n"
     ]
    },
    {
     "name": "stderr",
     "output_type": "stream",
     "text": [
      "Waiting for the remaining 17 operations to synchronize with Neptune. Do not kill this process.\n"
     ]
    },
    {
     "name": "stdout",
     "output_type": "stream",
     "text": [
      "All 17 operations synced, thanks for waiting!\n"
     ]
    }
   ],
   "source": [
    "calculate_metric('ICAO-319', 'EER_std_dv')"
   ]
  },
  {
   "cell_type": "markdown",
   "id": "c1347b13-1d72-4279-b6f1-d0a48e279bc3",
   "metadata": {},
   "source": [
    "## ICAO-320"
   ]
  },
  {
   "cell_type": "code",
   "execution_count": 11,
   "id": "51c1610f-5133-4ef1-9686-42617fff01bd",
   "metadata": {
    "collapsed": true,
    "jupyter": {
     "outputs_hidden": true
    },
    "tags": []
   },
   "outputs": [
    {
     "name": "stdout",
     "output_type": "stream",
     "text": [
      "Calculating final_ACC for Experiment ICAO-320\n",
      "https://app.neptune.ai/guilhermemg/icao-nets-training-2/e/ICAO-320\n",
      "Remember to stop your run once you’ve finished logging your metadata (https://docs.neptune.ai/api-reference/run#.stop). It will be stopped automatically only when the notebook kernel/interactive console is terminated.\n"
     ]
    },
    {
     "name": "stderr",
     "output_type": "stream",
     "text": [
      "100%|███████████████████████████████████████████████████████████████████| 23/23 [00:11<00:00,  1.92it/s]"
     ]
    },
    {
     "name": "stdout",
     "output_type": "stream",
     "text": [
      "ExpID: ICAO-320\n",
      "final_ACC_valid: 87.28%\n",
      "final_ACC_test: 87.09%\n",
      "Shutting down background jobs, please wait a moment...\n"
     ]
    },
    {
     "name": "stderr",
     "output_type": "stream",
     "text": [
      "\n"
     ]
    },
    {
     "name": "stdout",
     "output_type": "stream",
     "text": [
      "Done!\n"
     ]
    },
    {
     "name": "stderr",
     "output_type": "stream",
     "text": [
      "Waiting for the remaining 29 operations to synchronize with Neptune. Do not kill this process.\n"
     ]
    },
    {
     "name": "stdout",
     "output_type": "stream",
     "text": [
      "All 29 operations synced, thanks for waiting!\n",
      "Calculating final_EER_mean for Experiment ICAO-320\n",
      "https://app.neptune.ai/guilhermemg/icao-nets-training-2/e/ICAO-320\n",
      "Remember to stop your run once you’ve finished logging your metadata (https://docs.neptune.ai/api-reference/run#.stop). It will be stopped automatically only when the notebook kernel/interactive console is terminated.\n"
     ]
    },
    {
     "name": "stderr",
     "output_type": "stream",
     "text": [
      "100%|███████████████████████████████████████████████████████████████████| 23/23 [00:12<00:00,  1.91it/s]"
     ]
    },
    {
     "name": "stdout",
     "output_type": "stream",
     "text": [
      "ExpID: ICAO-320\n",
      "final_EER_mean_valid: 7.32%\n",
      "final_EER_mean_test: 7.73%\n",
      "Shutting down background jobs, please wait a moment...\n"
     ]
    },
    {
     "name": "stderr",
     "output_type": "stream",
     "text": [
      "\n"
     ]
    },
    {
     "name": "stdout",
     "output_type": "stream",
     "text": [
      "Done!\n"
     ]
    },
    {
     "name": "stderr",
     "output_type": "stream",
     "text": [
      "Waiting for the remaining 15 operations to synchronize with Neptune. Do not kill this process.\n"
     ]
    },
    {
     "name": "stdout",
     "output_type": "stream",
     "text": [
      "All 15 operations synced, thanks for waiting!\n",
      "Calculating final_EER_median for Experiment ICAO-320\n",
      "https://app.neptune.ai/guilhermemg/icao-nets-training-2/e/ICAO-320\n",
      "Remember to stop your run once you’ve finished logging your metadata (https://docs.neptune.ai/api-reference/run#.stop). It will be stopped automatically only when the notebook kernel/interactive console is terminated.\n"
     ]
    },
    {
     "name": "stderr",
     "output_type": "stream",
     "text": [
      "100%|███████████████████████████████████████████████████████████████████| 23/23 [00:12<00:00,  1.84it/s]"
     ]
    },
    {
     "name": "stdout",
     "output_type": "stream",
     "text": [
      "ExpID: ICAO-320\n",
      "final_EER_median_valid: 7.0%\n",
      "final_EER_median_test: 5.85%\n",
      "Shutting down background jobs, please wait a moment...\n"
     ]
    },
    {
     "name": "stderr",
     "output_type": "stream",
     "text": [
      "\n"
     ]
    },
    {
     "name": "stdout",
     "output_type": "stream",
     "text": [
      "Done!\n"
     ]
    },
    {
     "name": "stderr",
     "output_type": "stream",
     "text": [
      "Waiting for the remaining 16 operations to synchronize with Neptune. Do not kill this process.\n"
     ]
    },
    {
     "name": "stdout",
     "output_type": "stream",
     "text": [
      "All 16 operations synced, thanks for waiting!\n"
     ]
    }
   ],
   "source": [
    "calculate_metric('ICAO-320', 'ACC')   \n",
    "calculate_metric('ICAO-320', 'EER_mean')   \n",
    "calculate_metric('ICAO-320', 'EER_median')   "
   ]
  },
  {
   "cell_type": "code",
   "execution_count": 34,
   "id": "71b74aed-0830-4ec8-bcef-aa56d026aaa6",
   "metadata": {
    "collapsed": true,
    "jupyter": {
     "outputs_hidden": true
    },
    "tags": []
   },
   "outputs": [
    {
     "name": "stdout",
     "output_type": "stream",
     "text": [
      "Calculating final_EER_std_dv for Experiment ICAO-320\n",
      "https://app.neptune.ai/guilhermemg/icao-nets-training-2/e/ICAO-320\n",
      "Remember to stop your run once you’ve finished logging your metadata (https://docs.neptune.ai/api-reference/run#.stop). It will be stopped automatically only when the notebook kernel/interactive console is terminated.\n"
     ]
    },
    {
     "name": "stderr",
     "output_type": "stream",
     "text": [
      "100%|███████████████████████████████████████████| 23/23 [00:13<00:00,  1.74it/s]"
     ]
    },
    {
     "name": "stdout",
     "output_type": "stream",
     "text": [
      "ExpID: ICAO-320\n",
      "final_EER_std_dv_valid: 6.2%\n",
      "final_EER_std_dv_test: 7.36%\n",
      "Shutting down background jobs, please wait a moment...\n"
     ]
    },
    {
     "name": "stderr",
     "output_type": "stream",
     "text": [
      "\n"
     ]
    },
    {
     "name": "stdout",
     "output_type": "stream",
     "text": [
      "Done!\n"
     ]
    },
    {
     "name": "stderr",
     "output_type": "stream",
     "text": [
      "Waiting for the remaining 17 operations to synchronize with Neptune. Do not kill this process.\n"
     ]
    },
    {
     "name": "stdout",
     "output_type": "stream",
     "text": [
      "All 17 operations synced, thanks for waiting!\n"
     ]
    }
   ],
   "source": [
    "calculate_metric('ICAO-320', 'EER_std_dv')"
   ]
  },
  {
   "cell_type": "markdown",
   "id": "64157853-d81a-4d6b-aad5-0e3c94a5ffd7",
   "metadata": {},
   "source": [
    "## ICAO-331"
   ]
  },
  {
   "cell_type": "code",
   "execution_count": 14,
   "id": "eb317355-d28a-4385-822a-92897522183d",
   "metadata": {
    "collapsed": true,
    "jupyter": {
     "outputs_hidden": true
    },
    "tags": []
   },
   "outputs": [
    {
     "name": "stdout",
     "output_type": "stream",
     "text": [
      "Calculating final_ACC for Experiment ICAO-331\n",
      "https://app.neptune.ai/guilhermemg/icao-nets-training-2/e/ICAO-331\n",
      "Remember to stop your run once you’ve finished logging your metadata (https://docs.neptune.ai/api-reference/run#.stop). It will be stopped automatically only when the notebook kernel/interactive console is terminated.\n"
     ]
    },
    {
     "name": "stderr",
     "output_type": "stream",
     "text": [
      "100%|███████████████████████████████████████████████████████████████████| 23/23 [00:12<00:00,  1.85it/s]"
     ]
    },
    {
     "name": "stdout",
     "output_type": "stream",
     "text": [
      "ExpID: ICAO-331\n",
      "final_ACC_valid: 86.95%\n",
      "final_ACC_test: 91.24%\n",
      "Shutting down background jobs, please wait a moment...\n"
     ]
    },
    {
     "name": "stderr",
     "output_type": "stream",
     "text": [
      "\n"
     ]
    },
    {
     "name": "stdout",
     "output_type": "stream",
     "text": [
      "Done!\n"
     ]
    },
    {
     "name": "stderr",
     "output_type": "stream",
     "text": [
      "Waiting for the remaining 13 operations to synchronize with Neptune. Do not kill this process.\n"
     ]
    },
    {
     "name": "stdout",
     "output_type": "stream",
     "text": [
      "All 13 operations synced, thanks for waiting!\n",
      "Calculating final_EER_mean for Experiment ICAO-331\n",
      "https://app.neptune.ai/guilhermemg/icao-nets-training-2/e/ICAO-331\n",
      "Remember to stop your run once you’ve finished logging your metadata (https://docs.neptune.ai/api-reference/run#.stop). It will be stopped automatically only when the notebook kernel/interactive console is terminated.\n"
     ]
    },
    {
     "name": "stderr",
     "output_type": "stream",
     "text": [
      "100%|███████████████████████████████████████████████████████████████████| 23/23 [00:12<00:00,  1.86it/s]"
     ]
    },
    {
     "name": "stdout",
     "output_type": "stream",
     "text": [
      "ExpID: ICAO-331\n",
      "final_EER_mean_valid: 8.26%\n",
      "final_EER_mean_test: 8.14%\n",
      "Shutting down background jobs, please wait a moment...\n"
     ]
    },
    {
     "name": "stderr",
     "output_type": "stream",
     "text": [
      "\n"
     ]
    },
    {
     "name": "stdout",
     "output_type": "stream",
     "text": [
      "Done!\n"
     ]
    },
    {
     "name": "stderr",
     "output_type": "stream",
     "text": [
      "Waiting for the remaining 16 operations to synchronize with Neptune. Do not kill this process.\n"
     ]
    },
    {
     "name": "stdout",
     "output_type": "stream",
     "text": [
      "All 16 operations synced, thanks for waiting!\n",
      "Calculating final_EER_median for Experiment ICAO-331\n",
      "https://app.neptune.ai/guilhermemg/icao-nets-training-2/e/ICAO-331\n",
      "Remember to stop your run once you’ve finished logging your metadata (https://docs.neptune.ai/api-reference/run#.stop). It will be stopped automatically only when the notebook kernel/interactive console is terminated.\n"
     ]
    },
    {
     "name": "stderr",
     "output_type": "stream",
     "text": [
      "100%|███████████████████████████████████████████████████████████████████| 23/23 [00:12<00:00,  1.78it/s]"
     ]
    },
    {
     "name": "stdout",
     "output_type": "stream",
     "text": [
      "ExpID: ICAO-331\n",
      "final_EER_median_valid: 8.04%\n",
      "final_EER_median_test: 8.45%\n",
      "Shutting down background jobs, please wait a moment...\n"
     ]
    },
    {
     "name": "stderr",
     "output_type": "stream",
     "text": [
      "\n"
     ]
    },
    {
     "name": "stdout",
     "output_type": "stream",
     "text": [
      "Done!\n"
     ]
    },
    {
     "name": "stderr",
     "output_type": "stream",
     "text": [
      "Waiting for the remaining 17 operations to synchronize with Neptune. Do not kill this process.\n"
     ]
    },
    {
     "name": "stdout",
     "output_type": "stream",
     "text": [
      "All 17 operations synced, thanks for waiting!\n"
     ]
    }
   ],
   "source": [
    "calculate_metric('ICAO-331', 'ACC')   \n",
    "calculate_metric('ICAO-331', 'EER_mean')   \n",
    "calculate_metric('ICAO-331', 'EER_median')   "
   ]
  },
  {
   "cell_type": "code",
   "execution_count": 5,
   "id": "33bf7373-4625-4ee5-a0db-b21cd3f3943e",
   "metadata": {
    "collapsed": true,
    "jupyter": {
     "outputs_hidden": true
    },
    "tags": []
   },
   "outputs": [
    {
     "name": "stdout",
     "output_type": "stream",
     "text": [
      "Calculating final_EER_std_dv for Experiment ICAO-331\n",
      "https://app.neptune.ai/guilhermemg/icao-nets-training-2/e/ICAO-331\n",
      "Remember to stop your run once you’ve finished logging your metadata (https://docs.neptune.ai/api-reference/run#.stop). It will be stopped automatically only when the notebook kernel/interactive console is terminated.\n"
     ]
    },
    {
     "name": "stderr",
     "output_type": "stream",
     "text": [
      "100%|███████████████████████████████████████████| 23/23 [00:18<00:00,  1.23it/s]"
     ]
    },
    {
     "name": "stdout",
     "output_type": "stream",
     "text": [
      "ExpID: ICAO-331\n",
      "final_EER_std_dv_valid: 6.52%\n",
      "final_EER_std_dv_test: 6.79%\n",
      "Shutting down background jobs, please wait a moment...\n"
     ]
    },
    {
     "name": "stderr",
     "output_type": "stream",
     "text": [
      "\n"
     ]
    },
    {
     "name": "stdout",
     "output_type": "stream",
     "text": [
      "Done!\n"
     ]
    },
    {
     "name": "stderr",
     "output_type": "stream",
     "text": [
      "Waiting for the remaining 15 operations to synchronize with Neptune. Do not kill this process.\n"
     ]
    },
    {
     "name": "stdout",
     "output_type": "stream",
     "text": [
      "All 15 operations synced, thanks for waiting!\n"
     ]
    }
   ],
   "source": [
    "calculate_metric('ICAO-331', 'EER_std_dv')"
   ]
  },
  {
   "cell_type": "markdown",
   "id": "1b88e397-023c-4d06-909b-9dabbc3f2c08",
   "metadata": {},
   "source": [
    "## ICAO-320"
   ]
  },
  {
   "cell_type": "code",
   "execution_count": 15,
   "id": "8c108886-3414-494d-be4f-24aab458d6e8",
   "metadata": {
    "collapsed": true,
    "jupyter": {
     "outputs_hidden": true
    },
    "tags": []
   },
   "outputs": [
    {
     "name": "stdout",
     "output_type": "stream",
     "text": [
      "Calculating final_ACC for Experiment ICAO-332\n",
      "https://app.neptune.ai/guilhermemg/icao-nets-training-2/e/ICAO-332\n",
      "Remember to stop your run once you’ve finished logging your metadata (https://docs.neptune.ai/api-reference/run#.stop). It will be stopped automatically only when the notebook kernel/interactive console is terminated.\n"
     ]
    },
    {
     "name": "stderr",
     "output_type": "stream",
     "text": [
      "100%|███████████████████████████████████████████████████████████████████| 23/23 [00:11<00:00,  1.92it/s]"
     ]
    },
    {
     "name": "stdout",
     "output_type": "stream",
     "text": [
      "ExpID: ICAO-332\n",
      "final_ACC_valid: 91.24%\n",
      "final_ACC_test: 90.81%\n",
      "Shutting down background jobs, please wait a moment...\n"
     ]
    },
    {
     "name": "stderr",
     "output_type": "stream",
     "text": [
      "\n"
     ]
    },
    {
     "name": "stdout",
     "output_type": "stream",
     "text": [
      "Done!\n"
     ]
    },
    {
     "name": "stderr",
     "output_type": "stream",
     "text": [
      "Waiting for the remaining 13 operations to synchronize with Neptune. Do not kill this process.\n"
     ]
    },
    {
     "name": "stdout",
     "output_type": "stream",
     "text": [
      "All 13 operations synced, thanks for waiting!\n",
      "Calculating final_EER_mean for Experiment ICAO-332\n",
      "https://app.neptune.ai/guilhermemg/icao-nets-training-2/e/ICAO-332\n",
      "Remember to stop your run once you’ve finished logging your metadata (https://docs.neptune.ai/api-reference/run#.stop). It will be stopped automatically only when the notebook kernel/interactive console is terminated.\n"
     ]
    },
    {
     "name": "stderr",
     "output_type": "stream",
     "text": [
      "100%|███████████████████████████████████████████████████████████████████| 23/23 [00:11<00:00,  1.92it/s]"
     ]
    },
    {
     "name": "stdout",
     "output_type": "stream",
     "text": [
      "ExpID: ICAO-332\n",
      "final_EER_mean_valid: 8.14%\n",
      "final_EER_mean_test: 8.31%\n",
      "Shutting down background jobs, please wait a moment...\n"
     ]
    },
    {
     "name": "stderr",
     "output_type": "stream",
     "text": [
      "\n"
     ]
    },
    {
     "name": "stdout",
     "output_type": "stream",
     "text": [
      "Done!\n"
     ]
    },
    {
     "name": "stderr",
     "output_type": "stream",
     "text": [
      "Waiting for the remaining 29 operations to synchronize with Neptune. Do not kill this process.\n"
     ]
    },
    {
     "name": "stdout",
     "output_type": "stream",
     "text": [
      "All 29 operations synced, thanks for waiting!\n",
      "Calculating final_EER_median for Experiment ICAO-332\n",
      "https://app.neptune.ai/guilhermemg/icao-nets-training-2/e/ICAO-332\n",
      "Remember to stop your run once you’ve finished logging your metadata (https://docs.neptune.ai/api-reference/run#.stop). It will be stopped automatically only when the notebook kernel/interactive console is terminated.\n"
     ]
    },
    {
     "name": "stderr",
     "output_type": "stream",
     "text": [
      "100%|███████████████████████████████████████████████████████████████████| 23/23 [00:11<00:00,  1.93it/s]"
     ]
    },
    {
     "name": "stdout",
     "output_type": "stream",
     "text": [
      "ExpID: ICAO-332\n",
      "final_EER_median_valid: 6.48%\n",
      "final_EER_median_test: 7.83%\n",
      "Shutting down background jobs, please wait a moment...\n"
     ]
    },
    {
     "name": "stderr",
     "output_type": "stream",
     "text": [
      "\n"
     ]
    },
    {
     "name": "stdout",
     "output_type": "stream",
     "text": [
      "Done!\n"
     ]
    },
    {
     "name": "stderr",
     "output_type": "stream",
     "text": [
      "Waiting for the remaining 15 operations to synchronize with Neptune. Do not kill this process.\n"
     ]
    },
    {
     "name": "stdout",
     "output_type": "stream",
     "text": [
      "All 15 operations synced, thanks for waiting!\n"
     ]
    }
   ],
   "source": [
    "calculate_metric('ICAO-332', 'ACC')   \n",
    "calculate_metric('ICAO-332', 'EER_mean')   \n",
    "calculate_metric('ICAO-332', 'EER_median')   "
   ]
  },
  {
   "cell_type": "code",
   "execution_count": 36,
   "id": "66b9a250-6c61-4ccd-8e26-9e50bb4a9b9e",
   "metadata": {
    "collapsed": true,
    "jupyter": {
     "outputs_hidden": true
    },
    "tags": []
   },
   "outputs": [
    {
     "name": "stdout",
     "output_type": "stream",
     "text": [
      "Calculating final_EER_std_dv for Experiment ICAO-332\n",
      "https://app.neptune.ai/guilhermemg/icao-nets-training-2/e/ICAO-332\n",
      "Remember to stop your run once you’ve finished logging your metadata (https://docs.neptune.ai/api-reference/run#.stop). It will be stopped automatically only when the notebook kernel/interactive console is terminated.\n"
     ]
    },
    {
     "name": "stderr",
     "output_type": "stream",
     "text": [
      "100%|███████████████████████████████████████████| 23/23 [00:13<00:00,  1.67it/s]"
     ]
    },
    {
     "name": "stdout",
     "output_type": "stream",
     "text": [
      "ExpID: ICAO-332\n",
      "final_EER_std_dv_valid: 7.04%\n",
      "final_EER_std_dv_test: 6.85%\n",
      "Shutting down background jobs, please wait a moment...\n"
     ]
    },
    {
     "name": "stderr",
     "output_type": "stream",
     "text": [
      "\n"
     ]
    },
    {
     "name": "stdout",
     "output_type": "stream",
     "text": [
      "Done!\n"
     ]
    },
    {
     "name": "stderr",
     "output_type": "stream",
     "text": [
      "Waiting for the remaining 16 operations to synchronize with Neptune. Do not kill this process.\n"
     ]
    },
    {
     "name": "stdout",
     "output_type": "stream",
     "text": [
      "All 16 operations synced, thanks for waiting!\n"
     ]
    }
   ],
   "source": [
    "calculate_metric('ICAO-332', 'EER_std_dv')"
   ]
  },
  {
   "cell_type": "markdown",
   "id": "ab7d9956-f55e-40be-b112-b3ea76948b43",
   "metadata": {},
   "source": [
    "# NAS - MNIST "
   ]
  },
  {
   "cell_type": "code",
   "execution_count": 9,
   "id": "dfd99bf3-db50-4a06-8d43-b0ac41405b92",
   "metadata": {
    "collapsed": true,
    "jupyter": {
     "outputs_hidden": true
    },
    "tags": []
   },
   "outputs": [
    {
     "name": "stderr",
     "output_type": "stream",
     "text": [
      "Exp.:   0%|                                               | 0/1 [00:00<?, ?it/s]"
     ]
    },
    {
     "name": "stdout",
     "output_type": "stream",
     "text": [
      "Calculating final_EER_mean for Experiment ICAO-273\n",
      "https://app.neptune.ai/guilhermemg/icao-nets-training-2/e/ICAO-273\n",
      "Remember to stop your run once you’ve finished logging your metadata (https://docs.neptune.ai/api-reference/run#.stop). It will be stopped automatically only when the notebook kernel/interactive console is terminated.\n"
     ]
    },
    {
     "name": "stderr",
     "output_type": "stream",
     "text": [
      "\n",
      "  0%|                                                    | 0/10 [00:00<?, ?it/s]\u001b[A"
     ]
    },
    {
     "name": "stdout",
     "output_type": "stream",
     "text": [
      "Shutting down background jobs, please wait a moment...\n"
     ]
    },
    {
     "name": "stderr",
     "output_type": "stream",
     "text": [
      "\n"
     ]
    },
    {
     "name": "stdout",
     "output_type": "stream",
     "text": [
      "Done!\n"
     ]
    },
    {
     "name": "stderr",
     "output_type": "stream",
     "text": [
      "Waiting for the remaining 11 operations to synchronize with Neptune. Do not kill this process.\n"
     ]
    },
    {
     "name": "stdout",
     "output_type": "stream",
     "text": [
      "All 11 operations synced, thanks for waiting!\n"
     ]
    },
    {
     "name": "stderr",
     "output_type": "stream",
     "text": [
      "Exp.:   0%|                                               | 0/1 [00:03<?, ?it/s]\n"
     ]
    },
    {
     "ename": "MissingFieldException",
     "evalue": "\n\u001b[95m\n----MissingFieldException-------------------------------------------------------\n\u001b[0m\nField \"metrics/validation/n_0/EER_mean\" was not found.\n\nThere are two possible reasons:\n    - There is a typo in a path. Double-check your code for typos.\n    - You are fetching a field that other process created, but local representation is not synchronized.\n    If you are sending metadata from multiple processes at the same time, synchronize the local representation before fetching values:\n        \u001b[96mrun.sync()\u001b[0m\n\n\u001b[92mNeed help?\u001b[0m-> https://docs.neptune.ai/getting-started/getting-help\n",
     "output_type": "error",
     "traceback": [
      "\u001b[0;31m---------------------------------------------------------------------------\u001b[0m",
      "\u001b[0;31mMissingFieldException\u001b[0m                     Traceback (most recent call last)",
      "Input \u001b[0;32mIn [9]\u001b[0m, in \u001b[0;36m<cell line: 3>\u001b[0;34m()\u001b[0m\n\u001b[1;32m      1\u001b[0m list_ids \u001b[38;5;241m=\u001b[39m [\u001b[38;5;241m273\u001b[39m] \u001b[38;5;66;03m# 330,301,329,299,328,327\u001b[39;00m\n\u001b[1;32m      3\u001b[0m \u001b[38;5;28;01mfor\u001b[39;00m idx \u001b[38;5;129;01min\u001b[39;00m tqdm(list_ids, \u001b[38;5;124m'\u001b[39m\u001b[38;5;124mExp.\u001b[39m\u001b[38;5;124m'\u001b[39m):\n\u001b[0;32m----> 4\u001b[0m     \u001b[43mcalculate_metric\u001b[49m\u001b[43m(\u001b[49m\u001b[38;5;124;43mf\u001b[39;49m\u001b[38;5;124;43m'\u001b[39;49m\u001b[38;5;124;43mICAO-\u001b[39;49m\u001b[38;5;132;43;01m{\u001b[39;49;00m\u001b[43midx\u001b[49m\u001b[38;5;132;43;01m}\u001b[39;49;00m\u001b[38;5;124;43m'\u001b[39;49m\u001b[43m,\u001b[49m\u001b[43m \u001b[49m\u001b[38;5;124;43m'\u001b[39;49m\u001b[38;5;124;43mEER_mean\u001b[39;49m\u001b[38;5;124;43m'\u001b[39;49m\u001b[43m,\u001b[49m\u001b[43m \u001b[49m\u001b[38;5;124;43m'\u001b[39;49m\u001b[38;5;124;43mMNIST\u001b[39;49m\u001b[38;5;124;43m'\u001b[39;49m\u001b[43m)\u001b[49m\n\u001b[1;32m      5\u001b[0m     calculate_metric(\u001b[38;5;124mf\u001b[39m\u001b[38;5;124m'\u001b[39m\u001b[38;5;124mICAO-\u001b[39m\u001b[38;5;132;01m{\u001b[39;00midx\u001b[38;5;132;01m}\u001b[39;00m\u001b[38;5;124m'\u001b[39m, \u001b[38;5;124m'\u001b[39m\u001b[38;5;124mACC\u001b[39m\u001b[38;5;124m'\u001b[39m, \u001b[38;5;124m'\u001b[39m\u001b[38;5;124mMNIST\u001b[39m\u001b[38;5;124m'\u001b[39m)\n\u001b[1;32m      6\u001b[0m     calculate_metric(\u001b[38;5;124mf\u001b[39m\u001b[38;5;124m'\u001b[39m\u001b[38;5;124mICAO-\u001b[39m\u001b[38;5;132;01m{\u001b[39;00midx\u001b[38;5;132;01m}\u001b[39;00m\u001b[38;5;124m'\u001b[39m, \u001b[38;5;124m'\u001b[39m\u001b[38;5;124mEER_median\u001b[39m\u001b[38;5;124m'\u001b[39m, \u001b[38;5;124m'\u001b[39m\u001b[38;5;124mMNIST\u001b[39m\u001b[38;5;124m'\u001b[39m)\n",
      "Input \u001b[0;32mIn [2]\u001b[0m, in \u001b[0;36mcalculate_metric\u001b[0;34m(exp_id, metric_name, tasks_name)\u001b[0m\n\u001b[1;32m     44\u001b[0m     neptune_proj[\u001b[38;5;124mf\u001b[39m\u001b[38;5;124m'\u001b[39m\u001b[38;5;124mmetrics/test/final_\u001b[39m\u001b[38;5;132;01m{\u001b[39;00mmetric_name\u001b[38;5;132;01m}\u001b[39;00m\u001b[38;5;124m'\u001b[39m] \u001b[38;5;241m=\u001b[39m final_metric_val_test\n\u001b[1;32m     46\u001b[0m \u001b[38;5;28;01mexcept\u001b[39;00m \u001b[38;5;167;01mException\u001b[39;00m \u001b[38;5;28;01mas\u001b[39;00m e:\n\u001b[0;32m---> 47\u001b[0m     \u001b[38;5;28;01mraise\u001b[39;00m e\n\u001b[1;32m     49\u001b[0m \u001b[38;5;28;01mfinally\u001b[39;00m:\n\u001b[1;32m     50\u001b[0m     \u001b[38;5;28;01mif\u001b[39;00m neptune_proj \u001b[38;5;129;01mis\u001b[39;00m \u001b[38;5;129;01mnot\u001b[39;00m \u001b[38;5;28;01mNone\u001b[39;00m:\n",
      "Input \u001b[0;32mIn [2]\u001b[0m, in \u001b[0;36mcalculate_metric\u001b[0;34m(exp_id, metric_name, tasks_name)\u001b[0m\n\u001b[1;32m     24\u001b[0m \u001b[38;5;28;01mfor\u001b[39;00m req \u001b[38;5;129;01min\u001b[39;00m tqdm(tasks):\n\u001b[1;32m     25\u001b[0m     \u001b[38;5;28;01mif\u001b[39;00m req\u001b[38;5;241m.\u001b[39mvalue \u001b[38;5;241m!=\u001b[39m cts\u001b[38;5;241m.\u001b[39mICAO_REQ\u001b[38;5;241m.\u001b[39mINK_MARK\u001b[38;5;241m.\u001b[39mvalue:\n\u001b[0;32m---> 26\u001b[0m         final_metric_vals_valid\u001b[38;5;241m.\u001b[39mappend(\u001b[38;5;28mfloat\u001b[39m(\u001b[43mneptune_proj\u001b[49m\u001b[43m[\u001b[49m\u001b[38;5;124;43mf\u001b[39;49m\u001b[38;5;124;43m'\u001b[39;49m\u001b[38;5;124;43mmetrics/validation/\u001b[39;49m\u001b[38;5;132;43;01m{\u001b[39;49;00m\u001b[43mreq\u001b[49m\u001b[38;5;241;43m.\u001b[39;49m\u001b[43mvalue\u001b[49m\u001b[38;5;132;43;01m}\u001b[39;49;00m\u001b[38;5;124;43m/\u001b[39;49m\u001b[38;5;132;43;01m{\u001b[39;49;00m\u001b[43mnew_metric_name\u001b[49m\u001b[38;5;132;43;01m}\u001b[39;49;00m\u001b[38;5;124;43m'\u001b[39;49m\u001b[43m]\u001b[49m\u001b[38;5;241;43m.\u001b[39;49m\u001b[43mfetch\u001b[49m\u001b[43m(\u001b[49m\u001b[43m)\u001b[49m))\n\u001b[1;32m     27\u001b[0m         final_metric_vals_test\u001b[38;5;241m.\u001b[39mappend(\u001b[38;5;28mfloat\u001b[39m(neptune_proj[\u001b[38;5;124mf\u001b[39m\u001b[38;5;124m'\u001b[39m\u001b[38;5;124mmetrics/test/\u001b[39m\u001b[38;5;132;01m{\u001b[39;00mreq\u001b[38;5;241m.\u001b[39mvalue\u001b[38;5;132;01m}\u001b[39;00m\u001b[38;5;124m/\u001b[39m\u001b[38;5;132;01m{\u001b[39;00mnew_metric_name\u001b[38;5;132;01m}\u001b[39;00m\u001b[38;5;124m'\u001b[39m]\u001b[38;5;241m.\u001b[39mfetch()))\n\u001b[1;32m     29\u001b[0m \u001b[38;5;28;01mif\u001b[39;00m metric_name \u001b[38;5;129;01min\u001b[39;00m [\u001b[38;5;124m'\u001b[39m\u001b[38;5;124mACC\u001b[39m\u001b[38;5;124m'\u001b[39m,\u001b[38;5;124m'\u001b[39m\u001b[38;5;124mEER_mean\u001b[39m\u001b[38;5;124m'\u001b[39m]:\n",
      "File \u001b[0;32m~/anaconda3/envs/mteval-icao-reqs/submodules/icao_nets_training/lib/python3.8/site-packages/neptune/new/handler.py:381\u001b[0m, in \u001b[0;36mHandler.fetch\u001b[0;34m(self)\u001b[0m\n\u001b[1;32m    363\u001b[0m \u001b[38;5;28;01mdef\u001b[39;00m \u001b[38;5;21mfetch\u001b[39m(\u001b[38;5;28mself\u001b[39m):\n\u001b[1;32m    364\u001b[0m     \u001b[38;5;124;03m\"\"\"Fetches fields value or in case of a namespace fetches values of all non-File Atom fields as a dictionary.\u001b[39;00m\n\u001b[1;32m    365\u001b[0m \n\u001b[1;32m    366\u001b[0m \u001b[38;5;124;03m    Available for following field types (`Field types docs page`_):\u001b[39;00m\n\u001b[0;32m   (...)\u001b[0m\n\u001b[1;32m    379\u001b[0m \u001b[38;5;124;03m       https://docs.neptune.ai/api-reference/field-types\u001b[39;00m\n\u001b[1;32m    380\u001b[0m \u001b[38;5;124;03m    \"\"\"\u001b[39;00m\n\u001b[0;32m--> 381\u001b[0m     \u001b[38;5;28;01mreturn\u001b[39;00m \u001b[38;5;28;43mself\u001b[39;49m\u001b[38;5;241;43m.\u001b[39;49m\u001b[43m_pass_call_to_attr\u001b[49m\u001b[43m(\u001b[49m\u001b[43mfunction_name\u001b[49m\u001b[38;5;241;43m=\u001b[39;49m\u001b[38;5;124;43m\"\u001b[39;49m\u001b[38;5;124;43mfetch\u001b[39;49m\u001b[38;5;124;43m\"\u001b[39;49m\u001b[43m)\u001b[49m\n",
      "File \u001b[0;32m~/anaconda3/envs/mteval-icao-reqs/submodules/icao_nets_training/lib/python3.8/site-packages/neptune/new/handler.py:505\u001b[0m, in \u001b[0;36mHandler._pass_call_to_attr\u001b[0;34m(self, function_name, **kwargs)\u001b[0m\n\u001b[1;32m    504\u001b[0m \u001b[38;5;28;01mdef\u001b[39;00m \u001b[38;5;21m_pass_call_to_attr\u001b[39m(\u001b[38;5;28mself\u001b[39m, function_name, \u001b[38;5;241m*\u001b[39m\u001b[38;5;241m*\u001b[39mkwargs):\n\u001b[0;32m--> 505\u001b[0m     \u001b[38;5;28;01mreturn\u001b[39;00m \u001b[38;5;28mgetattr\u001b[39m(\u001b[38;5;28;43mself\u001b[39;49m\u001b[38;5;241;43m.\u001b[39;49m\u001b[43m_get_attribute\u001b[49m\u001b[43m(\u001b[49m\u001b[43m)\u001b[49m, function_name)(\u001b[38;5;241m*\u001b[39m\u001b[38;5;241m*\u001b[39mkwargs)\n",
      "File \u001b[0;32m~/anaconda3/envs/mteval-icao-reqs/submodules/icao_nets_training/lib/python3.8/site-packages/neptune/new/handler.py:101\u001b[0m, in \u001b[0;36mHandler._get_attribute\u001b[0;34m(self)\u001b[0m\n\u001b[1;32m     99\u001b[0m attr \u001b[38;5;241m=\u001b[39m \u001b[38;5;28mself\u001b[39m\u001b[38;5;241m.\u001b[39m_container\u001b[38;5;241m.\u001b[39mget_attribute(\u001b[38;5;28mself\u001b[39m\u001b[38;5;241m.\u001b[39m_path)\n\u001b[1;32m    100\u001b[0m \u001b[38;5;28;01mif\u001b[39;00m attr \u001b[38;5;129;01mis\u001b[39;00m \u001b[38;5;28;01mNone\u001b[39;00m:\n\u001b[0;32m--> 101\u001b[0m     \u001b[38;5;28;01mraise\u001b[39;00m MissingFieldException(\u001b[38;5;28mself\u001b[39m\u001b[38;5;241m.\u001b[39m_path)\n\u001b[1;32m    102\u001b[0m \u001b[38;5;28;01mreturn\u001b[39;00m attr\n",
      "\u001b[0;31mMissingFieldException\u001b[0m: \n\u001b[95m\n----MissingFieldException-------------------------------------------------------\n\u001b[0m\nField \"metrics/validation/n_0/EER_mean\" was not found.\n\nThere are two possible reasons:\n    - There is a typo in a path. Double-check your code for typos.\n    - You are fetching a field that other process created, but local representation is not synchronized.\n    If you are sending metadata from multiple processes at the same time, synchronize the local representation before fetching values:\n        \u001b[96mrun.sync()\u001b[0m\n\n\u001b[92mNeed help?\u001b[0m-> https://docs.neptune.ai/getting-started/getting-help\n"
     ]
    }
   ],
   "source": [
    "list_ids = [330,301,329,299,328,327]\n",
    "\n",
    "for idx in tqdm(list_ids, 'Exp.'):\n",
    "    calculate_metric(f'ICAO-{idx}', 'EER_mean', 'MNIST')\n",
    "    calculate_metric(f'ICAO-{idx}', 'ACC', 'MNIST')\n",
    "    calculate_metric(f'ICAO-{idx}', 'EER_median', 'MNIST')\n",
    "    calculate_metric(f'ICAO-{idx}', 'EER_std_dv', 'MNIST')"
   ]
  }
 ],
 "metadata": {
  "kernelspec": {
   "display_name": "Python 3 (ipykernel)",
   "language": "python",
   "name": "python3"
  },
  "language_info": {
   "codemirror_mode": {
    "name": "ipython",
    "version": 3
   },
   "file_extension": ".py",
   "mimetype": "text/x-python",
   "name": "python",
   "nbconvert_exporter": "python",
   "pygments_lexer": "ipython3",
   "version": "3.8.12"
  }
 },
 "nbformat": 4,
 "nbformat_minor": 5
}

{
 "cells": [
  {
   "cell_type": "markdown",
   "metadata": {},
   "source": [
    "# Introduction\n",
    "\n",
    "Notebook para análise de experimentos com Single Task Networks treinadas usando a técnica de Transfer Learning.\n",
    "\n",
    "A rede de base é sempre uma VGG16 com os pesos da ImageNet.\n",
    "\n",
    "Um total de 23 redes são treinadas, uma para cada requisito ICAO. Cada requisito tem apenas duas classes possíveis: COMPLIANT ou NÃO-COMPLIANT, sendo assim uma classificação binária para um rede Single Task Network (STL), já para uma rede Multi Task Network (MTL) sáo 23 saídas simultâneas com dois neurônios cada.\n",
    "\n",
    "Os dados de preprocessamento, treinamento e avaliação de cada rede está no [Neptune](https://ui.neptune.ai/guilhermemg/icao-nets-training/experiments?viewId=6bb9c9c5-9198-432c-a8d7-fca327e76dcf).\n",
    "\n",
    "As redes foram baixadas para pastas locais usando o notebook download_models.ipynb.\n",
    "\n",
    "Os resultados obtidos são detalhados abaixo."
   ]
  },
  {
   "cell_type": "markdown",
   "metadata": {},
   "source": [
    "# Import Libraries"
   ]
  },
  {
   "cell_type": "code",
   "execution_count": 1,
   "metadata": {},
   "outputs": [],
   "source": [
    "%load_ext autoreload\n",
    "%autoreload 2"
   ]
  },
  {
   "cell_type": "code",
   "execution_count": 2,
   "metadata": {
    "tags": []
   },
   "outputs": [],
   "source": [
    "import sys\n",
    "import neptune.new as neptune\n",
    "import pandas as pd\n",
    "\n",
    "if '..' not in sys.path:\n",
    "    sys.path.insert(0, '..')\n",
    "\n",
    "from src.configs import config\n",
    "from src.m_utils import constants as cts"
   ]
  },
  {
   "cell_type": "markdown",
   "metadata": {},
   "source": [
    "# General Results - Single Task Networks"
   ]
  },
  {
   "cell_type": "markdown",
   "metadata": {},
   "source": [
    "## Utilitary Functions"
   ]
  },
  {
   "cell_type": "code",
   "execution_count": 3,
   "metadata": {
    "tags": []
   },
   "outputs": [],
   "source": [
    "def process_gt_names(gt_names):\n",
    "    gt_names_dict = {'train_validation_test': gt_names.split(':')[-1]}\n",
    "    train_val_test = gt_names_dict['train_validation_test']\n",
    "    train_val_test = train_val_test[:-3]\n",
    "    train_val_test = train_val_test[3:]\n",
    "    return train_val_test\n",
    "\n",
    "\n",
    "def get_experiments_metrics(exp_id):\n",
    "    print(f'Getting Experiment {exp_id} metrics')\n",
    "    try:\n",
    "        neptune_proj = None\n",
    "        neptune_proj = neptune.init(project=config.NEPTUNE_PROJECT, \n",
    "                                    api_token=config.NEPTUNE_API_TOKEN,\n",
    "                                    run=exp_id)\n",
    "        \n",
    "        ds = neptune_proj['properties/gt_names'].fetch()\n",
    "        alg = neptune_proj['properties/aligned'].fetch()\n",
    "        req = neptune_proj['properties/icao_reqs'].fetch()\n",
    "        is_mtl = bool(neptune_proj['properties/is_mtl_model'].fetch())\n",
    "\n",
    "        ds = process_gt_names(ds)\n",
    "        aligned = 'aligned' if bool(alg) == True else 'not_aligned'\n",
    "        \n",
    "        metrics = None\n",
    "        if not is_mtl:\n",
    "            req = req[2:-2]\n",
    "            \n",
    "            if req == 'ink_mark':\n",
    "                metrics = {\n",
    "                    'exp_id': neptune_proj['sys/id'].fetch(),\n",
    "                    'req': req,\n",
    "                    'aligned': aligned,\n",
    "                    'eer_mean_valid': '',\n",
    "                    'eer_interp_valid': '',\n",
    "                    'eer_mean_test': '',\n",
    "                    'eer_interp_test': ''\n",
    "                }\n",
    "            else:\n",
    "                metrics = {\n",
    "                    'exp_id': neptune_proj['sys/id'].fetch(),\n",
    "                    'req': req,\n",
    "                    'aligned': aligned,\n",
    "                    'eer_mean_valid': float(neptune_proj['metrics/validation/EER_mean'].fetch()),\n",
    "                    'eer_interp_valid': float(neptune_proj['metrics/validation/EER_interp'].fetch()),\n",
    "                    'eer_mean_test': float(neptune_proj['metrics/test/EER_mean'].fetch()),\n",
    "                    'eer_interp_test': float(neptune_proj['metrics/test/EER_interp'].fetch())\n",
    "                }\n",
    "            \n",
    "            return metrics\n",
    "        \n",
    "        else:\n",
    "            reqs_metrics = {}\n",
    "            for r in list(cts.ICAO_REQ):\n",
    "                r = r.value\n",
    "                print(f'  requisite: {r}')\n",
    "                \n",
    "                if r == 'ink_mark':\n",
    "                    reqs_metrics[r] = {\n",
    "                        'exp_id': neptune_proj['sys/id'].fetch(),\n",
    "                        'req': r,\n",
    "                        'aligned': aligned,\n",
    "                        'eer_mean_valid': '',\n",
    "                        'eer_interp_valid': '',\n",
    "                        'eer_mean_test': '',\n",
    "                        'eer_interp_test': ''\n",
    "                    }\n",
    "                else:\n",
    "                    reqs_metrics[r] = {\n",
    "                        'exp_id': neptune_proj['sys/id'].fetch(),\n",
    "                        'req': r,\n",
    "                        'aligned': aligned,\n",
    "                        'eer_mean_valid': float(neptune_proj[f'metrics/validation/{r}/EER_mean'].fetch()),\n",
    "                        'eer_interp_valid': float(neptune_proj[f'metrics/validation/{r}/EER_interp'].fetch()),\n",
    "                        'eer_mean_test': float(neptune_proj[f'metrics/test/{r}/EER_mean'].fetch()),\n",
    "                        'eer_interp_test': float(neptune_proj[f'metrics/test/{r}/EER_interp'].fetch())\n",
    "                    }\n",
    "            \n",
    "            return reqs_metrics\n",
    "        \n",
    "    except Exception as e:\n",
    "        raise e\n",
    "    \n",
    "    finally:\n",
    "        if neptune_proj is not None:\n",
    "            neptune_proj.stop()"
   ]
  },
  {
   "cell_type": "markdown",
   "metadata": {},
   "source": [
    "## Final Dataframe COLUMNS variable"
   ]
  },
  {
   "cell_type": "code",
   "execution_count": 4,
   "metadata": {},
   "outputs": [],
   "source": [
    "COLUMNS = ['exp_id', 'req', 'aligned', 'eer_mean_valid', 'eer_interp_valid', 'eer_mean_test', 'eer_interp_test']"
   ]
  },
  {
   "cell_type": "markdown",
   "metadata": {},
   "source": [
    "## Download STL Experiments Data"
   ]
  },
  {
   "cell_type": "code",
   "execution_count": 7,
   "metadata": {
    "collapsed": true,
    "jupyter": {
     "outputs_hidden": true
    },
    "tags": []
   },
   "outputs": [
    {
     "name": "stdout",
     "output_type": "stream",
     "text": [
      "Getting Experiment ICAO-186 metrics\n",
      "https://ui.neptune.ai/guilhermemg/icao-nets-training-2/e/ICAO-186\n",
      "Getting Experiment ICAO-185 metrics\n",
      "https://ui.neptune.ai/guilhermemg/icao-nets-training-2/e/ICAO-185\n",
      "Getting Experiment ICAO-184 metrics\n",
      "https://ui.neptune.ai/guilhermemg/icao-nets-training-2/e/ICAO-184\n",
      "Getting Experiment ICAO-183 metrics\n",
      "https://ui.neptune.ai/guilhermemg/icao-nets-training-2/e/ICAO-183\n",
      "Getting Experiment ICAO-182 metrics\n",
      "https://ui.neptune.ai/guilhermemg/icao-nets-training-2/e/ICAO-182\n",
      "Getting Experiment ICAO-181 metrics\n",
      "https://ui.neptune.ai/guilhermemg/icao-nets-training-2/e/ICAO-181\n",
      "Getting Experiment ICAO-180 metrics\n",
      "https://ui.neptune.ai/guilhermemg/icao-nets-training-2/e/ICAO-180\n",
      "Getting Experiment ICAO-179 metrics\n",
      "https://ui.neptune.ai/guilhermemg/icao-nets-training-2/e/ICAO-179\n",
      "Getting Experiment ICAO-178 metrics\n",
      "https://ui.neptune.ai/guilhermemg/icao-nets-training-2/e/ICAO-178\n",
      "Getting Experiment ICAO-177 metrics\n",
      "https://ui.neptune.ai/guilhermemg/icao-nets-training-2/e/ICAO-177\n",
      "Getting Experiment ICAO-176 metrics\n",
      "https://ui.neptune.ai/guilhermemg/icao-nets-training-2/e/ICAO-176\n",
      "Getting Experiment ICAO-175 metrics\n",
      "https://ui.neptune.ai/guilhermemg/icao-nets-training-2/e/ICAO-175\n",
      "Getting Experiment ICAO-174 metrics\n",
      "https://ui.neptune.ai/guilhermemg/icao-nets-training-2/e/ICAO-174\n",
      "Getting Experiment ICAO-173 metrics\n",
      "https://ui.neptune.ai/guilhermemg/icao-nets-training-2/e/ICAO-173\n",
      "Getting Experiment ICAO-172 metrics\n",
      "https://ui.neptune.ai/guilhermemg/icao-nets-training-2/e/ICAO-172\n",
      "Getting Experiment ICAO-171 metrics\n",
      "https://ui.neptune.ai/guilhermemg/icao-nets-training-2/e/ICAO-171\n",
      "Getting Experiment ICAO-170 metrics\n",
      "https://ui.neptune.ai/guilhermemg/icao-nets-training-2/e/ICAO-170\n",
      "Getting Experiment ICAO-169 metrics\n",
      "https://ui.neptune.ai/guilhermemg/icao-nets-training-2/e/ICAO-169\n",
      "Getting Experiment ICAO-168 metrics\n",
      "https://ui.neptune.ai/guilhermemg/icao-nets-training-2/e/ICAO-168\n",
      "Getting Experiment ICAO-167 metrics\n",
      "https://ui.neptune.ai/guilhermemg/icao-nets-training-2/e/ICAO-167\n",
      "Getting Experiment ICAO-166 metrics\n",
      "https://ui.neptune.ai/guilhermemg/icao-nets-training-2/e/ICAO-166\n",
      "Getting Experiment ICAO-165 metrics\n",
      "https://ui.neptune.ai/guilhermemg/icao-nets-training-2/e/ICAO-165\n",
      "Getting Experiment ICAO-164 metrics\n",
      "https://ui.neptune.ai/guilhermemg/icao-nets-training-2/e/ICAO-164\n"
     ]
    },
    {
     "data": {
      "text/html": [
       "<div>\n",
       "<style scoped>\n",
       "    .dataframe tbody tr th:only-of-type {\n",
       "        vertical-align: middle;\n",
       "    }\n",
       "\n",
       "    .dataframe tbody tr th {\n",
       "        vertical-align: top;\n",
       "    }\n",
       "\n",
       "    .dataframe thead th {\n",
       "        text-align: right;\n",
       "    }\n",
       "</style>\n",
       "<table border=\"1\" class=\"dataframe\">\n",
       "  <thead>\n",
       "    <tr style=\"text-align: right;\">\n",
       "      <th></th>\n",
       "      <th>aligned</th>\n",
       "      <th>eer_interp_test</th>\n",
       "      <th>eer_interp_valid</th>\n",
       "      <th>eer_mean_test</th>\n",
       "      <th>eer_mean_valid</th>\n",
       "      <th>exp_id</th>\n",
       "      <th>req</th>\n",
       "    </tr>\n",
       "  </thead>\n",
       "  <tbody>\n",
       "    <tr>\n",
       "      <th>0</th>\n",
       "      <td>not_aligned</td>\n",
       "      <td>0.1636</td>\n",
       "      <td>0.2273</td>\n",
       "      <td>0.144</td>\n",
       "      <td>0.2292</td>\n",
       "      <td>ICAO-186</td>\n",
       "      <td>red_eyes</td>\n",
       "    </tr>\n",
       "    <tr>\n",
       "      <th>1</th>\n",
       "      <td>not_aligned</td>\n",
       "      <td>0.0746</td>\n",
       "      <td>0.0901</td>\n",
       "      <td>0.073</td>\n",
       "      <td>0.0912</td>\n",
       "      <td>ICAO-185</td>\n",
       "      <td>background</td>\n",
       "    </tr>\n",
       "    <tr>\n",
       "      <th>2</th>\n",
       "      <td>not_aligned</td>\n",
       "      <td>0.1387</td>\n",
       "      <td>0.1936</td>\n",
       "      <td>0.1294</td>\n",
       "      <td>0.1894</td>\n",
       "      <td>ICAO-184</td>\n",
       "      <td>hair_eyes</td>\n",
       "    </tr>\n",
       "    <tr>\n",
       "      <th>3</th>\n",
       "      <td>not_aligned</td>\n",
       "      <td>0.3282</td>\n",
       "      <td>0.2907</td>\n",
       "      <td>0.3179</td>\n",
       "      <td>0.2905</td>\n",
       "      <td>ICAO-183</td>\n",
       "      <td>pixelation</td>\n",
       "    </tr>\n",
       "    <tr>\n",
       "      <th>4</th>\n",
       "      <td>not_aligned</td>\n",
       "      <td>0.0211</td>\n",
       "      <td>0.1268</td>\n",
       "      <td>0.0106</td>\n",
       "      <td>0.0634</td>\n",
       "      <td>ICAO-182</td>\n",
       "      <td>washed_out</td>\n",
       "    </tr>\n",
       "    <tr>\n",
       "      <th>5</th>\n",
       "      <td>not_aligned</td>\n",
       "      <td>0.2139</td>\n",
       "      <td>0.2094</td>\n",
       "      <td>0.2113</td>\n",
       "      <td>0.2102</td>\n",
       "      <td>ICAO-181</td>\n",
       "      <td>skin_tone</td>\n",
       "    </tr>\n",
       "    <tr>\n",
       "      <th>6</th>\n",
       "      <td>not_aligned</td>\n",
       "      <td></td>\n",
       "      <td></td>\n",
       "      <td></td>\n",
       "      <td></td>\n",
       "      <td>ICAO-180</td>\n",
       "      <td>ink_mark</td>\n",
       "    </tr>\n",
       "    <tr>\n",
       "      <th>7</th>\n",
       "      <td>not_aligned</td>\n",
       "      <td>0.1186</td>\n",
       "      <td>0.0893</td>\n",
       "      <td>0.1021</td>\n",
       "      <td>0.0796</td>\n",
       "      <td>ICAO-179</td>\n",
       "      <td>blurred</td>\n",
       "    </tr>\n",
       "    <tr>\n",
       "      <th>8</th>\n",
       "      <td>not_aligned</td>\n",
       "      <td>0.0971</td>\n",
       "      <td>0.099</td>\n",
       "      <td>0.0918</td>\n",
       "      <td>0.0988</td>\n",
       "      <td>ICAO-178</td>\n",
       "      <td>sh_head</td>\n",
       "    </tr>\n",
       "    <tr>\n",
       "      <th>9</th>\n",
       "      <td>not_aligned</td>\n",
       "      <td>0.1481</td>\n",
       "      <td>0.155</td>\n",
       "      <td>0.1518</td>\n",
       "      <td>0.1531</td>\n",
       "      <td>ICAO-177</td>\n",
       "      <td>sh_face</td>\n",
       "    </tr>\n",
       "    <tr>\n",
       "      <th>10</th>\n",
       "      <td>not_aligned</td>\n",
       "      <td>0.1623</td>\n",
       "      <td>0.1667</td>\n",
       "      <td>0.1463</td>\n",
       "      <td>0.1665</td>\n",
       "      <td>ICAO-176</td>\n",
       "      <td>light</td>\n",
       "    </tr>\n",
       "    <tr>\n",
       "      <th>11</th>\n",
       "      <td>not_aligned</td>\n",
       "      <td>0.1987</td>\n",
       "      <td>0.1811</td>\n",
       "      <td>0.194</td>\n",
       "      <td>0.181</td>\n",
       "      <td>ICAO-175</td>\n",
       "      <td>reflection</td>\n",
       "    </tr>\n",
       "    <tr>\n",
       "      <th>12</th>\n",
       "      <td>not_aligned</td>\n",
       "      <td>0.0476</td>\n",
       "      <td>0.0303</td>\n",
       "      <td>0.0238</td>\n",
       "      <td>0.0346</td>\n",
       "      <td>ICAO-174</td>\n",
       "      <td>veil</td>\n",
       "    </tr>\n",
       "    <tr>\n",
       "      <th>13</th>\n",
       "      <td>not_aligned</td>\n",
       "      <td>0.1167</td>\n",
       "      <td>0.1327</td>\n",
       "      <td>0.1176</td>\n",
       "      <td>0.1343</td>\n",
       "      <td>ICAO-173</td>\n",
       "      <td>flash_lenses</td>\n",
       "    </tr>\n",
       "    <tr>\n",
       "      <th>14</th>\n",
       "      <td>not_aligned</td>\n",
       "      <td>0.1569</td>\n",
       "      <td>0.1823</td>\n",
       "      <td>0.1558</td>\n",
       "      <td>0.18</td>\n",
       "      <td>ICAO-172</td>\n",
       "      <td>frame_eyes</td>\n",
       "    </tr>\n",
       "    <tr>\n",
       "      <th>15</th>\n",
       "      <td>not_aligned</td>\n",
       "      <td>0</td>\n",
       "      <td>0.0276</td>\n",
       "      <td>0.5</td>\n",
       "      <td>0.0138</td>\n",
       "      <td>ICAO-171</td>\n",
       "      <td>frames_heavy</td>\n",
       "    </tr>\n",
       "    <tr>\n",
       "      <th>16</th>\n",
       "      <td>not_aligned</td>\n",
       "      <td>0.0323</td>\n",
       "      <td>0.0192</td>\n",
       "      <td>0.0181</td>\n",
       "      <td>0.0136</td>\n",
       "      <td>ICAO-170</td>\n",
       "      <td>dark_glasses</td>\n",
       "    </tr>\n",
       "    <tr>\n",
       "      <th>17</th>\n",
       "      <td>not_aligned</td>\n",
       "      <td>0.0196</td>\n",
       "      <td>0.043</td>\n",
       "      <td>0.014</td>\n",
       "      <td>0.0468</td>\n",
       "      <td>ICAO-169</td>\n",
       "      <td>hat</td>\n",
       "    </tr>\n",
       "    <tr>\n",
       "      <th>18</th>\n",
       "      <td>not_aligned</td>\n",
       "      <td>0.0664</td>\n",
       "      <td>0.1017</td>\n",
       "      <td>0.0332</td>\n",
       "      <td>0.0508</td>\n",
       "      <td>ICAO-168</td>\n",
       "      <td>close</td>\n",
       "    </tr>\n",
       "    <tr>\n",
       "      <th>19</th>\n",
       "      <td>not_aligned</td>\n",
       "      <td>0.1845</td>\n",
       "      <td>0.2264</td>\n",
       "      <td>0.1831</td>\n",
       "      <td>0.2266</td>\n",
       "      <td>ICAO-167</td>\n",
       "      <td>eyes_closed</td>\n",
       "    </tr>\n",
       "    <tr>\n",
       "      <th>20</th>\n",
       "      <td>not_aligned</td>\n",
       "      <td>0.2139</td>\n",
       "      <td>0.2513</td>\n",
       "      <td>0.2104</td>\n",
       "      <td>0.2499</td>\n",
       "      <td>ICAO-166</td>\n",
       "      <td>l_away</td>\n",
       "    </tr>\n",
       "    <tr>\n",
       "      <th>21</th>\n",
       "      <td>not_aligned</td>\n",
       "      <td>0.2837</td>\n",
       "      <td>0.2439</td>\n",
       "      <td>0.2794</td>\n",
       "      <td>0.2388</td>\n",
       "      <td>ICAO-165</td>\n",
       "      <td>rotation</td>\n",
       "    </tr>\n",
       "    <tr>\n",
       "      <th>22</th>\n",
       "      <td>not_aligned</td>\n",
       "      <td>0.2192</td>\n",
       "      <td>0.2024</td>\n",
       "      <td>0.212</td>\n",
       "      <td>0.1996</td>\n",
       "      <td>ICAO-164</td>\n",
       "      <td>mouth</td>\n",
       "    </tr>\n",
       "  </tbody>\n",
       "</table>\n",
       "</div>"
      ],
      "text/plain": [
       "        aligned eer_interp_test eer_interp_valid eer_mean_test eer_mean_valid  \\\n",
       "0   not_aligned          0.1636           0.2273         0.144         0.2292   \n",
       "1   not_aligned          0.0746           0.0901         0.073         0.0912   \n",
       "2   not_aligned          0.1387           0.1936        0.1294         0.1894   \n",
       "3   not_aligned          0.3282           0.2907        0.3179         0.2905   \n",
       "4   not_aligned          0.0211           0.1268        0.0106         0.0634   \n",
       "5   not_aligned          0.2139           0.2094        0.2113         0.2102   \n",
       "6   not_aligned                                                                 \n",
       "7   not_aligned          0.1186           0.0893        0.1021         0.0796   \n",
       "8   not_aligned          0.0971            0.099        0.0918         0.0988   \n",
       "9   not_aligned          0.1481            0.155        0.1518         0.1531   \n",
       "10  not_aligned          0.1623           0.1667        0.1463         0.1665   \n",
       "11  not_aligned          0.1987           0.1811         0.194          0.181   \n",
       "12  not_aligned          0.0476           0.0303        0.0238         0.0346   \n",
       "13  not_aligned          0.1167           0.1327        0.1176         0.1343   \n",
       "14  not_aligned          0.1569           0.1823        0.1558           0.18   \n",
       "15  not_aligned               0           0.0276           0.5         0.0138   \n",
       "16  not_aligned          0.0323           0.0192        0.0181         0.0136   \n",
       "17  not_aligned          0.0196            0.043         0.014         0.0468   \n",
       "18  not_aligned          0.0664           0.1017        0.0332         0.0508   \n",
       "19  not_aligned          0.1845           0.2264        0.1831         0.2266   \n",
       "20  not_aligned          0.2139           0.2513        0.2104         0.2499   \n",
       "21  not_aligned          0.2837           0.2439        0.2794         0.2388   \n",
       "22  not_aligned          0.2192           0.2024         0.212         0.1996   \n",
       "\n",
       "      exp_id           req  \n",
       "0   ICAO-186      red_eyes  \n",
       "1   ICAO-185    background  \n",
       "2   ICAO-184     hair_eyes  \n",
       "3   ICAO-183    pixelation  \n",
       "4   ICAO-182    washed_out  \n",
       "5   ICAO-181     skin_tone  \n",
       "6   ICAO-180      ink_mark  \n",
       "7   ICAO-179       blurred  \n",
       "8   ICAO-178       sh_head  \n",
       "9   ICAO-177       sh_face  \n",
       "10  ICAO-176         light  \n",
       "11  ICAO-175    reflection  \n",
       "12  ICAO-174          veil  \n",
       "13  ICAO-173  flash_lenses  \n",
       "14  ICAO-172    frame_eyes  \n",
       "15  ICAO-171  frames_heavy  \n",
       "16  ICAO-170  dark_glasses  \n",
       "17  ICAO-169           hat  \n",
       "18  ICAO-168         close  \n",
       "19  ICAO-167   eyes_closed  \n",
       "20  ICAO-166        l_away  \n",
       "21  ICAO-165      rotation  \n",
       "22  ICAO-164         mouth  "
      ]
     },
     "metadata": {},
     "output_type": "display_data"
    },
    {
     "name": "stdout",
     "output_type": "stream",
     "text": [
      "(23, 7)\n"
     ]
    }
   ],
   "source": [
    "exp_data = pd.read_csv('single_task_exps_data/icao-nets-training-2.csv')\n",
    "\n",
    "final_df = pd.DataFrame()\n",
    "\n",
    "for idx,exp_id in enumerate(exp_data.Id):\n",
    "    metrics_dict = get_experiments_metrics(exp_id)\n",
    "    final_df = final_df.append(metrics_dict, ignore_index=True)\n",
    "    \n",
    "display(final_df.head(23))\n",
    "\n",
    "print(final_df.shape)b"
   ]
  },
  {
   "cell_type": "markdown",
   "metadata": {},
   "source": [
    "### Record Metrics STL"
   ]
  },
  {
   "cell_type": "code",
   "execution_count": 11,
   "metadata": {},
   "outputs": [
    {
     "data": {
      "text/html": [
       "<div>\n",
       "<style scoped>\n",
       "    .dataframe tbody tr th:only-of-type {\n",
       "        vertical-align: middle;\n",
       "    }\n",
       "\n",
       "    .dataframe tbody tr th {\n",
       "        vertical-align: top;\n",
       "    }\n",
       "\n",
       "    .dataframe thead th {\n",
       "        text-align: right;\n",
       "    }\n",
       "</style>\n",
       "<table border=\"1\" class=\"dataframe\">\n",
       "  <thead>\n",
       "    <tr style=\"text-align: right;\">\n",
       "      <th></th>\n",
       "      <th>exp_id</th>\n",
       "      <th>req</th>\n",
       "      <th>aligned</th>\n",
       "      <th>eer_mean_valid</th>\n",
       "      <th>eer_interp_valid</th>\n",
       "      <th>eer_mean_test</th>\n",
       "      <th>eer_interp_test</th>\n",
       "    </tr>\n",
       "  </thead>\n",
       "  <tbody>\n",
       "    <tr>\n",
       "      <th>0</th>\n",
       "      <td>ICAO-186</td>\n",
       "      <td>red_eyes</td>\n",
       "      <td>not_aligned</td>\n",
       "      <td>0.2292</td>\n",
       "      <td>0.2273</td>\n",
       "      <td>0.144</td>\n",
       "      <td>0.1636</td>\n",
       "    </tr>\n",
       "    <tr>\n",
       "      <th>1</th>\n",
       "      <td>ICAO-185</td>\n",
       "      <td>background</td>\n",
       "      <td>not_aligned</td>\n",
       "      <td>0.0912</td>\n",
       "      <td>0.0901</td>\n",
       "      <td>0.073</td>\n",
       "      <td>0.0746</td>\n",
       "    </tr>\n",
       "    <tr>\n",
       "      <th>2</th>\n",
       "      <td>ICAO-184</td>\n",
       "      <td>hair_eyes</td>\n",
       "      <td>not_aligned</td>\n",
       "      <td>0.1894</td>\n",
       "      <td>0.1936</td>\n",
       "      <td>0.1294</td>\n",
       "      <td>0.1387</td>\n",
       "    </tr>\n",
       "    <tr>\n",
       "      <th>3</th>\n",
       "      <td>ICAO-183</td>\n",
       "      <td>pixelation</td>\n",
       "      <td>not_aligned</td>\n",
       "      <td>0.2905</td>\n",
       "      <td>0.2907</td>\n",
       "      <td>0.3179</td>\n",
       "      <td>0.3282</td>\n",
       "    </tr>\n",
       "    <tr>\n",
       "      <th>4</th>\n",
       "      <td>ICAO-182</td>\n",
       "      <td>washed_out</td>\n",
       "      <td>not_aligned</td>\n",
       "      <td>0.0634</td>\n",
       "      <td>0.1268</td>\n",
       "      <td>0.0106</td>\n",
       "      <td>0.0211</td>\n",
       "    </tr>\n",
       "  </tbody>\n",
       "</table>\n",
       "</div>"
      ],
      "text/plain": [
       "     exp_id         req      aligned eer_mean_valid eer_interp_valid  \\\n",
       "0  ICAO-186    red_eyes  not_aligned         0.2292           0.2273   \n",
       "1  ICAO-185  background  not_aligned         0.0912           0.0901   \n",
       "2  ICAO-184   hair_eyes  not_aligned         0.1894           0.1936   \n",
       "3  ICAO-183  pixelation  not_aligned         0.2905           0.2907   \n",
       "4  ICAO-182  washed_out  not_aligned         0.0634           0.1268   \n",
       "\n",
       "  eer_mean_test eer_interp_test  \n",
       "0         0.144          0.1636  \n",
       "1         0.073          0.0746  \n",
       "2        0.1294          0.1387  \n",
       "3        0.3179          0.3282  \n",
       "4        0.0106          0.0211  "
      ]
     },
     "metadata": {},
     "output_type": "display_data"
    }
   ],
   "source": [
    "final_df = final_df[COLUMNS]\n",
    "\n",
    "display(final_df.head())\n",
    "\n",
    "final_df.to_csv('single_task_exps_data/STL_metrics.csv', index=False)"
   ]
  },
  {
   "cell_type": "markdown",
   "metadata": {},
   "source": [
    "# Handcrafted 1"
   ]
  },
  {
   "cell_type": "markdown",
   "metadata": {},
   "source": [
    "## Download MTL Experiments Data - 10 epochs"
   ]
  },
  {
   "cell_type": "code",
   "execution_count": 6,
   "metadata": {
    "collapsed": true,
    "jupyter": {
     "outputs_hidden": true
    },
    "tags": []
   },
   "outputs": [
    {
     "name": "stdout",
     "output_type": "stream",
     "text": [
      "Getting Experiment ICAO-199 metrics\n",
      "https://ui.neptune.ai/guilhermemg/icao-nets-training-2/e/ICAO-199\n",
      "  requisite: mouth\n",
      "  requisite: rotation\n",
      "  requisite: l_away\n",
      "  requisite: eyes_closed\n",
      "  requisite: close\n",
      "  requisite: hat\n",
      "  requisite: dark_glasses\n",
      "  requisite: frames_heavy\n",
      "  requisite: frame_eyes\n",
      "  requisite: flash_lenses\n",
      "  requisite: veil\n",
      "  requisite: reflection\n",
      "  requisite: light\n",
      "  requisite: sh_face\n",
      "  requisite: sh_head\n",
      "  requisite: blurred\n",
      "  requisite: ink_mark\n",
      "  requisite: skin_tone\n",
      "  requisite: washed_out\n",
      "  requisite: pixelation\n",
      "  requisite: hair_eyes\n",
      "  requisite: background\n",
      "  requisite: red_eyes\n"
     ]
    }
   ],
   "source": [
    "final_df = pd.DataFrame()\n",
    "\n",
    "reqs_metrics = get_experiments_metrics('ICAO-199')\n",
    "for req,metrics in reqs_metrics.items():\n",
    "    final_df = final_df.append(metrics, ignore_index=True)\n",
    "    \n",
    "final_df = final_df[COLUMNS]\n",
    "final_df.to_csv('multi_task_exps_data/MTL_metrics_handcrafted_1_10_epochs.csv', index=False)"
   ]
  },
  {
   "cell_type": "markdown",
   "metadata": {},
   "source": [
    "## Download MTL Experiments Data - 200 epochs"
   ]
  },
  {
   "cell_type": "code",
   "execution_count": 7,
   "metadata": {
    "collapsed": true,
    "jupyter": {
     "outputs_hidden": true
    },
    "tags": []
   },
   "outputs": [
    {
     "name": "stdout",
     "output_type": "stream",
     "text": [
      "Getting Experiment ICAO-192 metrics\n",
      "https://ui.neptune.ai/guilhermemg/icao-nets-training-2/e/ICAO-192\n",
      "  requisite: mouth\n",
      "  requisite: rotation\n",
      "  requisite: l_away\n",
      "  requisite: eyes_closed\n",
      "  requisite: close\n",
      "  requisite: hat\n",
      "  requisite: dark_glasses\n",
      "  requisite: frames_heavy\n",
      "  requisite: frame_eyes\n",
      "  requisite: flash_lenses\n",
      "  requisite: veil\n",
      "  requisite: reflection\n",
      "  requisite: light\n",
      "  requisite: sh_face\n",
      "  requisite: sh_head\n",
      "  requisite: blurred\n",
      "  requisite: ink_mark\n",
      "  requisite: skin_tone\n",
      "  requisite: washed_out\n",
      "  requisite: pixelation\n",
      "  requisite: hair_eyes\n",
      "  requisite: background\n",
      "  requisite: red_eyes\n"
     ]
    }
   ],
   "source": [
    "final_df = pd.DataFrame()\n",
    "\n",
    "reqs_metrics = get_experiments_metrics('ICAO-192')\n",
    "for req,metrics in reqs_metrics.items():\n",
    "    final_df = final_df.append(metrics, ignore_index=True)\n",
    "    \n",
    "final_df = final_df[COLUMNS]\n",
    "final_df.to_csv('multi_task_exps_data/MTL_metrics_handcrafted_1_200_epochs.csv', index=False)"
   ]
  },
  {
   "cell_type": "markdown",
   "metadata": {},
   "source": [
    "## Download MTL Experiment Data - Fine-Tuned - 200 epochs"
   ]
  },
  {
   "cell_type": "code",
   "execution_count": 5,
   "metadata": {
    "collapsed": true,
    "jupyter": {
     "outputs_hidden": true
    },
    "tags": []
   },
   "outputs": [
    {
     "name": "stdout",
     "output_type": "stream",
     "text": [
      "Getting Experiment ICAO-204 metrics\n",
      "https://ui.neptune.ai/guilhermemg/icao-nets-training-2/e/ICAO-204\n",
      "  requisite: mouth\n",
      "  requisite: rotation\n",
      "  requisite: l_away\n",
      "  requisite: eyes_closed\n",
      "  requisite: close\n",
      "  requisite: hat\n",
      "  requisite: dark_glasses\n",
      "  requisite: frames_heavy\n",
      "  requisite: frame_eyes\n",
      "  requisite: flash_lenses\n",
      "  requisite: veil\n",
      "  requisite: reflection\n",
      "  requisite: light\n",
      "  requisite: sh_face\n",
      "  requisite: sh_head\n",
      "  requisite: blurred\n",
      "  requisite: ink_mark\n",
      "  requisite: skin_tone\n",
      "  requisite: washed_out\n",
      "  requisite: pixelation\n",
      "  requisite: hair_eyes\n",
      "  requisite: background\n",
      "  requisite: red_eyes\n"
     ]
    }
   ],
   "source": [
    "final_df = pd.DataFrame()\n",
    "\n",
    "reqs_metrics = get_experiments_metrics('ICAO-204')\n",
    "for req,metrics in reqs_metrics.items():\n",
    "    final_df = final_df.append(metrics, ignore_index=True)\n",
    "    \n",
    "final_df = final_df[COLUMNS]\n",
    "final_df.to_csv('multi_task_exps_data/MTL_metrics_fine_tuned_200_epochs.csv', index=False)"
   ]
  },
  {
   "cell_type": "markdown",
   "metadata": {},
   "source": [
    "# Handcrafted 2"
   ]
  },
  {
   "cell_type": "markdown",
   "metadata": {},
   "source": [
    "## Download MTL Experiment Data - 50 epochs\n",
    "\n",
    "With Rotation and width_shift_range = 0.2 and height_shift_range = 0.1"
   ]
  },
  {
   "cell_type": "code",
   "execution_count": 5,
   "metadata": {
    "collapsed": true,
    "jupyter": {
     "outputs_hidden": true
    },
    "tags": []
   },
   "outputs": [
    {
     "name": "stdout",
     "output_type": "stream",
     "text": [
      "Getting Experiment ICAO-228 metrics\n",
      "https://ui.neptune.ai/guilhermemg/icao-nets-training-2/e/ICAO-228\n",
      "  requisite: mouth\n",
      "  requisite: rotation\n",
      "  requisite: l_away\n",
      "  requisite: eyes_closed\n",
      "  requisite: close\n",
      "  requisite: hat\n",
      "  requisite: dark_glasses\n",
      "  requisite: frames_heavy\n",
      "  requisite: frame_eyes\n",
      "  requisite: flash_lenses\n",
      "  requisite: veil\n",
      "  requisite: reflection\n",
      "  requisite: light\n",
      "  requisite: sh_face\n",
      "  requisite: sh_head\n",
      "  requisite: blurred\n",
      "  requisite: ink_mark\n",
      "  requisite: skin_tone\n",
      "  requisite: washed_out\n",
      "  requisite: pixelation\n",
      "  requisite: hair_eyes\n",
      "  requisite: background\n",
      "  requisite: red_eyes\n"
     ]
    }
   ],
   "source": [
    "final_df = pd.DataFrame()\n",
    "\n",
    "reqs_metrics = get_experiments_metrics('ICAO-228')\n",
    "for req,metrics in reqs_metrics.items():\n",
    "    final_df = final_df.append(metrics, ignore_index=True)\n",
    "    \n",
    "final_df = final_df[COLUMNS]\n",
    "final_df.to_csv('multi_task_exps_data/MTL_metrics_handcrafted_2_50_epochs.csv', index=False)"
   ]
  },
  {
   "cell_type": "markdown",
   "metadata": {},
   "source": [
    "## Download MTL Experiment Data - 50 epochs\n",
    "\n",
    "No Rotation in Data Augmentation"
   ]
  },
  {
   "cell_type": "code",
   "execution_count": 7,
   "metadata": {
    "collapsed": true,
    "jupyter": {
     "outputs_hidden": true
    },
    "tags": []
   },
   "outputs": [
    {
     "name": "stdout",
     "output_type": "stream",
     "text": [
      "Getting Experiment ICAO-239 metrics\n",
      "https://ui.neptune.ai/guilhermemg/icao-nets-training-2/e/ICAO-239\n",
      "  requisite: mouth\n",
      "  requisite: rotation\n",
      "  requisite: l_away\n",
      "  requisite: eyes_closed\n",
      "  requisite: close\n",
      "  requisite: hat\n",
      "  requisite: dark_glasses\n",
      "  requisite: frames_heavy\n",
      "  requisite: frame_eyes\n",
      "  requisite: flash_lenses\n",
      "  requisite: veil\n",
      "  requisite: reflection\n",
      "  requisite: light\n",
      "  requisite: sh_face\n",
      "  requisite: sh_head\n",
      "  requisite: blurred\n",
      "  requisite: ink_mark\n",
      "  requisite: skin_tone\n",
      "  requisite: washed_out\n",
      "  requisite: pixelation\n",
      "  requisite: hair_eyes\n",
      "  requisite: background\n",
      "  requisite: red_eyes\n"
     ]
    }
   ],
   "source": [
    "final_df = pd.DataFrame()\n",
    "\n",
    "reqs_metrics = get_experiments_metrics('ICAO-239')\n",
    "for req,metrics in reqs_metrics.items():\n",
    "    final_df = final_df.append(metrics, ignore_index=True)\n",
    "    \n",
    "final_df = final_df[COLUMNS]\n",
    "final_df.to_csv('multi_task_exps_data/MTL_metrics_handcrafted_2_50_epochs_no_rotation.csv', index=False)"
   ]
  },
  {
   "cell_type": "markdown",
   "metadata": {},
   "source": [
    "## Download MTL Experiment Data - 200 epochs\n",
    "\n",
    "No Rotation in Data Augmentation"
   ]
  },
  {
   "cell_type": "code",
   "execution_count": 6,
   "metadata": {
    "collapsed": true,
    "jupyter": {
     "outputs_hidden": true
    },
    "tags": []
   },
   "outputs": [
    {
     "name": "stdout",
     "output_type": "stream",
     "text": [
      "Getting Experiment ICAO-238 metrics\n",
      "https://ui.neptune.ai/guilhermemg/icao-nets-training-2/e/ICAO-238\n",
      "  requisite: mouth\n",
      "  requisite: rotation\n",
      "  requisite: l_away\n",
      "  requisite: eyes_closed\n",
      "  requisite: close\n",
      "  requisite: hat\n",
      "  requisite: dark_glasses\n",
      "  requisite: frames_heavy\n",
      "  requisite: frame_eyes\n",
      "  requisite: flash_lenses\n",
      "  requisite: veil\n",
      "  requisite: reflection\n",
      "  requisite: light\n",
      "  requisite: sh_face\n",
      "  requisite: sh_head\n",
      "  requisite: blurred\n",
      "  requisite: ink_mark\n",
      "  requisite: skin_tone\n",
      "  requisite: washed_out\n",
      "  requisite: pixelation\n",
      "  requisite: hair_eyes\n",
      "  requisite: background\n",
      "  requisite: red_eyes\n"
     ]
    }
   ],
   "source": [
    "final_df = pd.DataFrame()\n",
    "\n",
    "reqs_metrics = get_experiments_metrics('ICAO-238')\n",
    "for req,metrics in reqs_metrics.items():\n",
    "    final_df = final_df.append(metrics, ignore_index=True)\n",
    "    \n",
    "final_df = final_df[COLUMNS]\n",
    "final_df.to_csv('multi_task_exps_data/MTL_metrics_handcrafted_2_200_epochs_no_rotation.csv', index=False)"
   ]
  },
  {
   "cell_type": "markdown",
   "metadata": {},
   "source": [
    "## Download MTL Experiment Data - 50 epochs\n",
    "\n",
    "No Rotation and minor shift (width and height) in Data Augmentation"
   ]
  },
  {
   "cell_type": "code",
   "execution_count": 4,
   "metadata": {
    "tags": []
   },
   "outputs": [
    {
     "name": "stdout",
     "output_type": "stream",
     "text": [
      "Getting Experiment ICAO-242 metrics\n",
      "https://ui.neptune.ai/guilhermemg/icao-nets-training-2/e/ICAO-242\n",
      "  requisite: mouth\n",
      "  requisite: rotation\n",
      "  requisite: l_away\n",
      "  requisite: eyes_closed\n",
      "  requisite: close\n",
      "  requisite: hat\n",
      "  requisite: dark_glasses\n",
      "  requisite: frames_heavy\n",
      "  requisite: frame_eyes\n",
      "  requisite: flash_lenses\n",
      "  requisite: veil\n",
      "  requisite: reflection\n",
      "  requisite: light\n",
      "  requisite: sh_face\n",
      "  requisite: sh_head\n",
      "  requisite: blurred\n",
      "  requisite: ink_mark\n",
      "  requisite: skin_tone\n",
      "  requisite: washed_out\n",
      "  requisite: pixelation\n",
      "  requisite: hair_eyes\n",
      "  requisite: background\n",
      "  requisite: red_eyes\n"
     ]
    }
   ],
   "source": [
    "final_df = pd.DataFrame()\n",
    "\n",
    "reqs_metrics = get_experiments_metrics('ICAO-242')\n",
    "for req,metrics in reqs_metrics.items():\n",
    "    final_df = final_df.append(metrics, ignore_index=True)\n",
    "    \n",
    "final_df = final_df[COLUMNS]\n",
    "final_df.to_csv('multi_task_exps_data/MTL_metrics_handcrafted_2_50_epochs_no_rotation_minor_shift.csv', index=False)"
   ]
  },
  {
   "cell_type": "markdown",
   "metadata": {},
   "source": [
    "## Download MTL Experiment Data - 200 epochs"
   ]
  },
  {
   "cell_type": "code",
   "execution_count": 5,
   "metadata": {
    "collapsed": true,
    "jupyter": {
     "outputs_hidden": true
    },
    "tags": []
   },
   "outputs": [
    {
     "name": "stdout",
     "output_type": "stream",
     "text": [
      "Getting Experiment ICAO-230 metrics\n",
      "https://ui.neptune.ai/guilhermemg/icao-nets-training-2/e/ICAO-230\n",
      "  requisite: mouth\n",
      "  requisite: rotation\n",
      "  requisite: l_away\n",
      "  requisite: eyes_closed\n",
      "  requisite: close\n",
      "  requisite: hat\n",
      "  requisite: dark_glasses\n",
      "  requisite: frames_heavy\n",
      "  requisite: frame_eyes\n",
      "  requisite: flash_lenses\n",
      "  requisite: veil\n",
      "  requisite: reflection\n",
      "  requisite: light\n",
      "  requisite: sh_face\n",
      "  requisite: sh_head\n",
      "  requisite: blurred\n",
      "  requisite: ink_mark\n",
      "  requisite: skin_tone\n",
      "  requisite: washed_out\n",
      "  requisite: pixelation\n",
      "  requisite: hair_eyes\n",
      "  requisite: background\n",
      "  requisite: red_eyes\n"
     ]
    }
   ],
   "source": [
    "final_df = pd.DataFrame()\n",
    "\n",
    "reqs_metrics = get_experiments_metrics('ICAO-230')\n",
    "for req,metrics in reqs_metrics.items():\n",
    "    final_df = final_df.append(metrics, ignore_index=True)\n",
    "    \n",
    "final_df = final_df[COLUMNS]\n",
    "final_df.to_csv('multi_task_exps_data/MTL_metrics_handcrafted_2_200_epochs.csv', index=False)"
   ]
  },
  {
   "cell_type": "markdown",
   "metadata": {},
   "source": [
    "# Handcrafted 3"
   ]
  },
  {
   "cell_type": "markdown",
   "metadata": {},
   "source": [
    "## Download MTL Experiment Data - 10 epochs"
   ]
  },
  {
   "cell_type": "code",
   "execution_count": 5,
   "metadata": {
    "collapsed": true,
    "jupyter": {
     "outputs_hidden": true
    },
    "tags": []
   },
   "outputs": [
    {
     "name": "stdout",
     "output_type": "stream",
     "text": [
      "Getting Experiment ICAO-336 metrics\n",
      "https://app.neptune.ai/guilhermemg/icao-nets-training-2/e/ICAO-336\n"
     ]
    },
    {
     "name": "stderr",
     "output_type": "stream",
     "text": [
      "Info (NVML): Driver Not Loaded. GPU usage metrics may not be reported. For more information, see https://docs.neptune.ai/you-should-know/what-can-you-log-and-display#hardware-consumption\n"
     ]
    },
    {
     "name": "stdout",
     "output_type": "stream",
     "text": [
      "Remember to stop your run once you’ve finished logging your metadata (https://docs.neptune.ai/api-reference/run#.stop). It will be stopped automatically only when the notebook kernel/interactive console is terminated.\n",
      "  requisite: mouth\n",
      "  requisite: rotation\n",
      "  requisite: l_away\n",
      "  requisite: eyes_closed\n",
      "  requisite: close\n",
      "  requisite: hat\n",
      "  requisite: dark_glasses\n",
      "  requisite: frames_heavy\n",
      "  requisite: frame_eyes\n",
      "  requisite: flash_lenses\n",
      "  requisite: veil\n",
      "  requisite: reflection\n",
      "  requisite: light\n",
      "  requisite: sh_face\n",
      "  requisite: sh_head\n",
      "  requisite: blurred\n",
      "  requisite: ink_mark\n",
      "  requisite: skin_tone\n",
      "  requisite: washed_out\n",
      "  requisite: pixelation\n",
      "  requisite: hair_eyes\n",
      "  requisite: background\n",
      "  requisite: red_eyes\n",
      "Shutting down background jobs, please wait a moment...\n",
      "Done!\n"
     ]
    },
    {
     "name": "stderr",
     "output_type": "stream",
     "text": [
      "Waiting for the remaining 5 operations to synchronize with Neptune. Do not kill this process.\n"
     ]
    },
    {
     "name": "stdout",
     "output_type": "stream",
     "text": [
      "All 5 operations synced, thanks for waiting!\n"
     ]
    },
    {
     "name": "stderr",
     "output_type": "stream",
     "text": [
      "/tmp/ipykernel_82693/3368960707.py:5: FutureWarning: The frame.append method is deprecated and will be removed from pandas in a future version. Use pandas.concat instead.\n",
      "  final_df = final_df.append(metrics, ignore_index=True)\n",
      "/tmp/ipykernel_82693/3368960707.py:5: FutureWarning: The frame.append method is deprecated and will be removed from pandas in a future version. Use pandas.concat instead.\n",
      "  final_df = final_df.append(metrics, ignore_index=True)\n",
      "/tmp/ipykernel_82693/3368960707.py:5: FutureWarning: The frame.append method is deprecated and will be removed from pandas in a future version. Use pandas.concat instead.\n",
      "  final_df = final_df.append(metrics, ignore_index=True)\n",
      "/tmp/ipykernel_82693/3368960707.py:5: FutureWarning: The frame.append method is deprecated and will be removed from pandas in a future version. Use pandas.concat instead.\n",
      "  final_df = final_df.append(metrics, ignore_index=True)\n",
      "/tmp/ipykernel_82693/3368960707.py:5: FutureWarning: The frame.append method is deprecated and will be removed from pandas in a future version. Use pandas.concat instead.\n",
      "  final_df = final_df.append(metrics, ignore_index=True)\n",
      "/tmp/ipykernel_82693/3368960707.py:5: FutureWarning: The frame.append method is deprecated and will be removed from pandas in a future version. Use pandas.concat instead.\n",
      "  final_df = final_df.append(metrics, ignore_index=True)\n",
      "/tmp/ipykernel_82693/3368960707.py:5: FutureWarning: The frame.append method is deprecated and will be removed from pandas in a future version. Use pandas.concat instead.\n",
      "  final_df = final_df.append(metrics, ignore_index=True)\n",
      "/tmp/ipykernel_82693/3368960707.py:5: FutureWarning: The frame.append method is deprecated and will be removed from pandas in a future version. Use pandas.concat instead.\n",
      "  final_df = final_df.append(metrics, ignore_index=True)\n",
      "/tmp/ipykernel_82693/3368960707.py:5: FutureWarning: The frame.append method is deprecated and will be removed from pandas in a future version. Use pandas.concat instead.\n",
      "  final_df = final_df.append(metrics, ignore_index=True)\n",
      "/tmp/ipykernel_82693/3368960707.py:5: FutureWarning: The frame.append method is deprecated and will be removed from pandas in a future version. Use pandas.concat instead.\n",
      "  final_df = final_df.append(metrics, ignore_index=True)\n",
      "/tmp/ipykernel_82693/3368960707.py:5: FutureWarning: The frame.append method is deprecated and will be removed from pandas in a future version. Use pandas.concat instead.\n",
      "  final_df = final_df.append(metrics, ignore_index=True)\n",
      "/tmp/ipykernel_82693/3368960707.py:5: FutureWarning: The frame.append method is deprecated and will be removed from pandas in a future version. Use pandas.concat instead.\n",
      "  final_df = final_df.append(metrics, ignore_index=True)\n",
      "/tmp/ipykernel_82693/3368960707.py:5: FutureWarning: The frame.append method is deprecated and will be removed from pandas in a future version. Use pandas.concat instead.\n",
      "  final_df = final_df.append(metrics, ignore_index=True)\n",
      "/tmp/ipykernel_82693/3368960707.py:5: FutureWarning: The frame.append method is deprecated and will be removed from pandas in a future version. Use pandas.concat instead.\n",
      "  final_df = final_df.append(metrics, ignore_index=True)\n",
      "/tmp/ipykernel_82693/3368960707.py:5: FutureWarning: The frame.append method is deprecated and will be removed from pandas in a future version. Use pandas.concat instead.\n",
      "  final_df = final_df.append(metrics, ignore_index=True)\n",
      "/tmp/ipykernel_82693/3368960707.py:5: FutureWarning: The frame.append method is deprecated and will be removed from pandas in a future version. Use pandas.concat instead.\n",
      "  final_df = final_df.append(metrics, ignore_index=True)\n",
      "/tmp/ipykernel_82693/3368960707.py:5: FutureWarning: The frame.append method is deprecated and will be removed from pandas in a future version. Use pandas.concat instead.\n",
      "  final_df = final_df.append(metrics, ignore_index=True)\n",
      "/tmp/ipykernel_82693/3368960707.py:5: FutureWarning: The frame.append method is deprecated and will be removed from pandas in a future version. Use pandas.concat instead.\n",
      "  final_df = final_df.append(metrics, ignore_index=True)\n",
      "/tmp/ipykernel_82693/3368960707.py:5: FutureWarning: The frame.append method is deprecated and will be removed from pandas in a future version. Use pandas.concat instead.\n",
      "  final_df = final_df.append(metrics, ignore_index=True)\n",
      "/tmp/ipykernel_82693/3368960707.py:5: FutureWarning: The frame.append method is deprecated and will be removed from pandas in a future version. Use pandas.concat instead.\n",
      "  final_df = final_df.append(metrics, ignore_index=True)\n",
      "/tmp/ipykernel_82693/3368960707.py:5: FutureWarning: The frame.append method is deprecated and will be removed from pandas in a future version. Use pandas.concat instead.\n",
      "  final_df = final_df.append(metrics, ignore_index=True)\n",
      "/tmp/ipykernel_82693/3368960707.py:5: FutureWarning: The frame.append method is deprecated and will be removed from pandas in a future version. Use pandas.concat instead.\n",
      "  final_df = final_df.append(metrics, ignore_index=True)\n",
      "/tmp/ipykernel_82693/3368960707.py:5: FutureWarning: The frame.append method is deprecated and will be removed from pandas in a future version. Use pandas.concat instead.\n",
      "  final_df = final_df.append(metrics, ignore_index=True)\n"
     ]
    }
   ],
   "source": [
    "final_df = pd.DataFrame()\n",
    "\n",
    "reqs_metrics = get_experiments_metrics('ICAO-336')\n",
    "for req,metrics in reqs_metrics.items():\n",
    "    final_df = final_df.append(metrics, ignore_index=True)\n",
    "    \n",
    "final_df = final_df[COLUMNS]\n",
    "final_df.to_csv('multi_task_exps_data/MTL_metrics_handcrafted_3_10_epochs_NEW.csv', index=False)"
   ]
  },
  {
   "cell_type": "markdown",
   "metadata": {},
   "source": [
    "## Download MTL Experiment Data - 50 epochs"
   ]
  },
  {
   "cell_type": "code",
   "execution_count": 6,
   "metadata": {
    "collapsed": true,
    "jupyter": {
     "outputs_hidden": true
    },
    "tags": []
   },
   "outputs": [
    {
     "name": "stdout",
     "output_type": "stream",
     "text": [
      "Getting Experiment ICAO-337 metrics\n",
      "https://app.neptune.ai/guilhermemg/icao-nets-training-2/e/ICAO-337\n",
      "Remember to stop your run once you’ve finished logging your metadata (https://docs.neptune.ai/api-reference/run#.stop). It will be stopped automatically only when the notebook kernel/interactive console is terminated.\n",
      "  requisite: mouth\n",
      "  requisite: rotation\n",
      "  requisite: l_away\n",
      "  requisite: eyes_closed\n",
      "  requisite: close\n",
      "  requisite: hat\n",
      "  requisite: dark_glasses\n",
      "  requisite: frames_heavy\n",
      "  requisite: frame_eyes\n",
      "  requisite: flash_lenses\n",
      "  requisite: veil\n",
      "  requisite: reflection\n",
      "  requisite: light\n",
      "  requisite: sh_face\n",
      "  requisite: sh_head\n",
      "  requisite: blurred\n",
      "  requisite: ink_mark\n",
      "  requisite: skin_tone\n",
      "  requisite: washed_out\n",
      "  requisite: pixelation\n",
      "  requisite: hair_eyes\n",
      "  requisite: background\n",
      "  requisite: red_eyes\n",
      "Shutting down background jobs, please wait a moment...\n",
      "Done!\n"
     ]
    },
    {
     "name": "stderr",
     "output_type": "stream",
     "text": [
      "Waiting for the remaining 5 operations to synchronize with Neptune. Do not kill this process.\n"
     ]
    },
    {
     "name": "stdout",
     "output_type": "stream",
     "text": [
      "All 5 operations synced, thanks for waiting!\n"
     ]
    },
    {
     "name": "stderr",
     "output_type": "stream",
     "text": [
      "/tmp/ipykernel_82693/245912713.py:5: FutureWarning: The frame.append method is deprecated and will be removed from pandas in a future version. Use pandas.concat instead.\n",
      "  final_df = final_df.append(metrics, ignore_index=True)\n",
      "/tmp/ipykernel_82693/245912713.py:5: FutureWarning: The frame.append method is deprecated and will be removed from pandas in a future version. Use pandas.concat instead.\n",
      "  final_df = final_df.append(metrics, ignore_index=True)\n",
      "/tmp/ipykernel_82693/245912713.py:5: FutureWarning: The frame.append method is deprecated and will be removed from pandas in a future version. Use pandas.concat instead.\n",
      "  final_df = final_df.append(metrics, ignore_index=True)\n",
      "/tmp/ipykernel_82693/245912713.py:5: FutureWarning: The frame.append method is deprecated and will be removed from pandas in a future version. Use pandas.concat instead.\n",
      "  final_df = final_df.append(metrics, ignore_index=True)\n",
      "/tmp/ipykernel_82693/245912713.py:5: FutureWarning: The frame.append method is deprecated and will be removed from pandas in a future version. Use pandas.concat instead.\n",
      "  final_df = final_df.append(metrics, ignore_index=True)\n",
      "/tmp/ipykernel_82693/245912713.py:5: FutureWarning: The frame.append method is deprecated and will be removed from pandas in a future version. Use pandas.concat instead.\n",
      "  final_df = final_df.append(metrics, ignore_index=True)\n",
      "/tmp/ipykernel_82693/245912713.py:5: FutureWarning: The frame.append method is deprecated and will be removed from pandas in a future version. Use pandas.concat instead.\n",
      "  final_df = final_df.append(metrics, ignore_index=True)\n",
      "/tmp/ipykernel_82693/245912713.py:5: FutureWarning: The frame.append method is deprecated and will be removed from pandas in a future version. Use pandas.concat instead.\n",
      "  final_df = final_df.append(metrics, ignore_index=True)\n",
      "/tmp/ipykernel_82693/245912713.py:5: FutureWarning: The frame.append method is deprecated and will be removed from pandas in a future version. Use pandas.concat instead.\n",
      "  final_df = final_df.append(metrics, ignore_index=True)\n",
      "/tmp/ipykernel_82693/245912713.py:5: FutureWarning: The frame.append method is deprecated and will be removed from pandas in a future version. Use pandas.concat instead.\n",
      "  final_df = final_df.append(metrics, ignore_index=True)\n",
      "/tmp/ipykernel_82693/245912713.py:5: FutureWarning: The frame.append method is deprecated and will be removed from pandas in a future version. Use pandas.concat instead.\n",
      "  final_df = final_df.append(metrics, ignore_index=True)\n",
      "/tmp/ipykernel_82693/245912713.py:5: FutureWarning: The frame.append method is deprecated and will be removed from pandas in a future version. Use pandas.concat instead.\n",
      "  final_df = final_df.append(metrics, ignore_index=True)\n",
      "/tmp/ipykernel_82693/245912713.py:5: FutureWarning: The frame.append method is deprecated and will be removed from pandas in a future version. Use pandas.concat instead.\n",
      "  final_df = final_df.append(metrics, ignore_index=True)\n",
      "/tmp/ipykernel_82693/245912713.py:5: FutureWarning: The frame.append method is deprecated and will be removed from pandas in a future version. Use pandas.concat instead.\n",
      "  final_df = final_df.append(metrics, ignore_index=True)\n",
      "/tmp/ipykernel_82693/245912713.py:5: FutureWarning: The frame.append method is deprecated and will be removed from pandas in a future version. Use pandas.concat instead.\n",
      "  final_df = final_df.append(metrics, ignore_index=True)\n",
      "/tmp/ipykernel_82693/245912713.py:5: FutureWarning: The frame.append method is deprecated and will be removed from pandas in a future version. Use pandas.concat instead.\n",
      "  final_df = final_df.append(metrics, ignore_index=True)\n",
      "/tmp/ipykernel_82693/245912713.py:5: FutureWarning: The frame.append method is deprecated and will be removed from pandas in a future version. Use pandas.concat instead.\n",
      "  final_df = final_df.append(metrics, ignore_index=True)\n",
      "/tmp/ipykernel_82693/245912713.py:5: FutureWarning: The frame.append method is deprecated and will be removed from pandas in a future version. Use pandas.concat instead.\n",
      "  final_df = final_df.append(metrics, ignore_index=True)\n",
      "/tmp/ipykernel_82693/245912713.py:5: FutureWarning: The frame.append method is deprecated and will be removed from pandas in a future version. Use pandas.concat instead.\n",
      "  final_df = final_df.append(metrics, ignore_index=True)\n",
      "/tmp/ipykernel_82693/245912713.py:5: FutureWarning: The frame.append method is deprecated and will be removed from pandas in a future version. Use pandas.concat instead.\n",
      "  final_df = final_df.append(metrics, ignore_index=True)\n",
      "/tmp/ipykernel_82693/245912713.py:5: FutureWarning: The frame.append method is deprecated and will be removed from pandas in a future version. Use pandas.concat instead.\n",
      "  final_df = final_df.append(metrics, ignore_index=True)\n",
      "/tmp/ipykernel_82693/245912713.py:5: FutureWarning: The frame.append method is deprecated and will be removed from pandas in a future version. Use pandas.concat instead.\n",
      "  final_df = final_df.append(metrics, ignore_index=True)\n",
      "/tmp/ipykernel_82693/245912713.py:5: FutureWarning: The frame.append method is deprecated and will be removed from pandas in a future version. Use pandas.concat instead.\n",
      "  final_df = final_df.append(metrics, ignore_index=True)\n"
     ]
    }
   ],
   "source": [
    "final_df = pd.DataFrame()\n",
    "\n",
    "reqs_metrics = get_experiments_metrics('ICAO-337')\n",
    "for req,metrics in reqs_metrics.items():\n",
    "    final_df = final_df.append(metrics, ignore_index=True)\n",
    "    \n",
    "final_df = final_df[COLUMNS]\n",
    "final_df.to_csv('multi_task_exps_data/MTL_metrics_handcrafted_3_50_epochs_NEW.csv', index=False)"
   ]
  },
  {
   "cell_type": "markdown",
   "metadata": {},
   "source": [
    "## Download MTL Experiment Data - 200 epochs"
   ]
  },
  {
   "cell_type": "code",
   "execution_count": 7,
   "metadata": {
    "collapsed": true,
    "jupyter": {
     "outputs_hidden": true
    },
    "tags": []
   },
   "outputs": [
    {
     "name": "stdout",
     "output_type": "stream",
     "text": [
      "Getting Experiment ICAO-338 metrics\n",
      "https://app.neptune.ai/guilhermemg/icao-nets-training-2/e/ICAO-338\n",
      "Remember to stop your run once you’ve finished logging your metadata (https://docs.neptune.ai/api-reference/run#.stop). It will be stopped automatically only when the notebook kernel/interactive console is terminated.\n",
      "  requisite: mouth\n",
      "  requisite: rotation\n",
      "  requisite: l_away\n",
      "  requisite: eyes_closed\n",
      "  requisite: close\n",
      "  requisite: hat\n",
      "  requisite: dark_glasses\n",
      "  requisite: frames_heavy\n",
      "  requisite: frame_eyes\n",
      "  requisite: flash_lenses\n",
      "  requisite: veil\n",
      "  requisite: reflection\n",
      "  requisite: light\n",
      "  requisite: sh_face\n",
      "  requisite: sh_head\n",
      "  requisite: blurred\n",
      "  requisite: ink_mark\n",
      "  requisite: skin_tone\n",
      "  requisite: washed_out\n",
      "  requisite: pixelation\n",
      "  requisite: hair_eyes\n",
      "  requisite: background\n",
      "  requisite: red_eyes\n",
      "Shutting down background jobs, please wait a moment...\n",
      "Done!\n"
     ]
    },
    {
     "name": "stderr",
     "output_type": "stream",
     "text": [
      "Waiting for the remaining 1 operations to synchronize with Neptune. Do not kill this process.\n"
     ]
    },
    {
     "name": "stdout",
     "output_type": "stream",
     "text": [
      "All 1 operations synced, thanks for waiting!\n"
     ]
    },
    {
     "name": "stderr",
     "output_type": "stream",
     "text": [
      "/tmp/ipykernel_82693/2080583285.py:5: FutureWarning: The frame.append method is deprecated and will be removed from pandas in a future version. Use pandas.concat instead.\n",
      "  final_df = final_df.append(metrics, ignore_index=True)\n",
      "/tmp/ipykernel_82693/2080583285.py:5: FutureWarning: The frame.append method is deprecated and will be removed from pandas in a future version. Use pandas.concat instead.\n",
      "  final_df = final_df.append(metrics, ignore_index=True)\n",
      "/tmp/ipykernel_82693/2080583285.py:5: FutureWarning: The frame.append method is deprecated and will be removed from pandas in a future version. Use pandas.concat instead.\n",
      "  final_df = final_df.append(metrics, ignore_index=True)\n",
      "/tmp/ipykernel_82693/2080583285.py:5: FutureWarning: The frame.append method is deprecated and will be removed from pandas in a future version. Use pandas.concat instead.\n",
      "  final_df = final_df.append(metrics, ignore_index=True)\n",
      "/tmp/ipykernel_82693/2080583285.py:5: FutureWarning: The frame.append method is deprecated and will be removed from pandas in a future version. Use pandas.concat instead.\n",
      "  final_df = final_df.append(metrics, ignore_index=True)\n",
      "/tmp/ipykernel_82693/2080583285.py:5: FutureWarning: The frame.append method is deprecated and will be removed from pandas in a future version. Use pandas.concat instead.\n",
      "  final_df = final_df.append(metrics, ignore_index=True)\n",
      "/tmp/ipykernel_82693/2080583285.py:5: FutureWarning: The frame.append method is deprecated and will be removed from pandas in a future version. Use pandas.concat instead.\n",
      "  final_df = final_df.append(metrics, ignore_index=True)\n",
      "/tmp/ipykernel_82693/2080583285.py:5: FutureWarning: The frame.append method is deprecated and will be removed from pandas in a future version. Use pandas.concat instead.\n",
      "  final_df = final_df.append(metrics, ignore_index=True)\n",
      "/tmp/ipykernel_82693/2080583285.py:5: FutureWarning: The frame.append method is deprecated and will be removed from pandas in a future version. Use pandas.concat instead.\n",
      "  final_df = final_df.append(metrics, ignore_index=True)\n",
      "/tmp/ipykernel_82693/2080583285.py:5: FutureWarning: The frame.append method is deprecated and will be removed from pandas in a future version. Use pandas.concat instead.\n",
      "  final_df = final_df.append(metrics, ignore_index=True)\n",
      "/tmp/ipykernel_82693/2080583285.py:5: FutureWarning: The frame.append method is deprecated and will be removed from pandas in a future version. Use pandas.concat instead.\n",
      "  final_df = final_df.append(metrics, ignore_index=True)\n",
      "/tmp/ipykernel_82693/2080583285.py:5: FutureWarning: The frame.append method is deprecated and will be removed from pandas in a future version. Use pandas.concat instead.\n",
      "  final_df = final_df.append(metrics, ignore_index=True)\n",
      "/tmp/ipykernel_82693/2080583285.py:5: FutureWarning: The frame.append method is deprecated and will be removed from pandas in a future version. Use pandas.concat instead.\n",
      "  final_df = final_df.append(metrics, ignore_index=True)\n",
      "/tmp/ipykernel_82693/2080583285.py:5: FutureWarning: The frame.append method is deprecated and will be removed from pandas in a future version. Use pandas.concat instead.\n",
      "  final_df = final_df.append(metrics, ignore_index=True)\n",
      "/tmp/ipykernel_82693/2080583285.py:5: FutureWarning: The frame.append method is deprecated and will be removed from pandas in a future version. Use pandas.concat instead.\n",
      "  final_df = final_df.append(metrics, ignore_index=True)\n",
      "/tmp/ipykernel_82693/2080583285.py:5: FutureWarning: The frame.append method is deprecated and will be removed from pandas in a future version. Use pandas.concat instead.\n",
      "  final_df = final_df.append(metrics, ignore_index=True)\n",
      "/tmp/ipykernel_82693/2080583285.py:5: FutureWarning: The frame.append method is deprecated and will be removed from pandas in a future version. Use pandas.concat instead.\n",
      "  final_df = final_df.append(metrics, ignore_index=True)\n",
      "/tmp/ipykernel_82693/2080583285.py:5: FutureWarning: The frame.append method is deprecated and will be removed from pandas in a future version. Use pandas.concat instead.\n",
      "  final_df = final_df.append(metrics, ignore_index=True)\n",
      "/tmp/ipykernel_82693/2080583285.py:5: FutureWarning: The frame.append method is deprecated and will be removed from pandas in a future version. Use pandas.concat instead.\n",
      "  final_df = final_df.append(metrics, ignore_index=True)\n",
      "/tmp/ipykernel_82693/2080583285.py:5: FutureWarning: The frame.append method is deprecated and will be removed from pandas in a future version. Use pandas.concat instead.\n",
      "  final_df = final_df.append(metrics, ignore_index=True)\n",
      "/tmp/ipykernel_82693/2080583285.py:5: FutureWarning: The frame.append method is deprecated and will be removed from pandas in a future version. Use pandas.concat instead.\n",
      "  final_df = final_df.append(metrics, ignore_index=True)\n",
      "/tmp/ipykernel_82693/2080583285.py:5: FutureWarning: The frame.append method is deprecated and will be removed from pandas in a future version. Use pandas.concat instead.\n",
      "  final_df = final_df.append(metrics, ignore_index=True)\n",
      "/tmp/ipykernel_82693/2080583285.py:5: FutureWarning: The frame.append method is deprecated and will be removed from pandas in a future version. Use pandas.concat instead.\n",
      "  final_df = final_df.append(metrics, ignore_index=True)\n"
     ]
    }
   ],
   "source": [
    "final_df = pd.DataFrame()\n",
    "\n",
    "reqs_metrics = get_experiments_metrics('ICAO-338')\n",
    "for req,metrics in reqs_metrics.items():\n",
    "    final_df = final_df.append(metrics, ignore_index=True)\n",
    "    \n",
    "final_df = final_df[COLUMNS]\n",
    "final_df.to_csv('multi_task_exps_data/MTL_metrics_handcrafted_3_200_epochs_NEW.csv', index=False)"
   ]
  },
  {
   "cell_type": "markdown",
   "metadata": {},
   "source": [
    "# NAS Approach 1 - Random"
   ]
  },
  {
   "cell_type": "code",
   "execution_count": 5,
   "metadata": {},
   "outputs": [
    {
     "name": "stdout",
     "output_type": "stream",
     "text": [
      "Getting Experiment ICAO-273 metrics\n",
      "https://ui.neptune.ai/guilhermemg/icao-nets-training-2/e/ICAO-273\n",
      "  requisite: mouth\n",
      "  requisite: rotation\n",
      "  requisite: l_away\n",
      "  requisite: eyes_closed\n",
      "  requisite: close\n",
      "  requisite: hat\n",
      "  requisite: dark_glasses\n",
      "  requisite: frames_heavy\n",
      "  requisite: frame_eyes\n",
      "  requisite: flash_lenses\n",
      "  requisite: veil\n",
      "  requisite: reflection\n",
      "  requisite: light\n",
      "  requisite: sh_face\n",
      "  requisite: sh_head\n",
      "  requisite: blurred\n",
      "  requisite: ink_mark\n",
      "  requisite: skin_tone\n",
      "  requisite: washed_out\n",
      "  requisite: pixelation\n",
      "  requisite: hair_eyes\n",
      "  requisite: background\n",
      "  requisite: red_eyes\n"
     ]
    }
   ],
   "source": [
    "final_df = pd.DataFrame()\n",
    "\n",
    "reqs_metrics = get_experiments_metrics('ICAO-273')\n",
    "for req,metrics in reqs_metrics.items():\n",
    "    final_df = final_df.append(metrics, ignore_index=True)\n",
    "    \n",
    "final_df = final_df[COLUMNS]\n",
    "final_df.to_csv('multi_task_exps_data/NAS_metrics_approach_1_50_epochs.csv', index=False)"
   ]
  }
 ],
 "metadata": {
  "kernelspec": {
   "display_name": "Python 3 (ipykernel)",
   "language": "python",
   "name": "python3"
  },
  "language_info": {
   "codemirror_mode": {
    "name": "ipython",
    "version": 3
   },
   "file_extension": ".py",
   "mimetype": "text/x-python",
   "name": "python",
   "nbconvert_exporter": "python",
   "pygments_lexer": "ipython3",
   "version": "3.8.12"
  }
 },
 "nbformat": 4,
 "nbformat_minor": 4
}

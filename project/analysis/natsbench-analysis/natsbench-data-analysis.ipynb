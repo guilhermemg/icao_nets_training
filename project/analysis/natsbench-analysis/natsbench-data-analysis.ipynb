{
 "cells": [
  {
   "cell_type": "markdown",
   "id": "99d43c06-0aab-47cf-a345-d0dcf5736adf",
   "metadata": {},
   "source": [
    "# Introduction\n",
    "\n",
    "Notebook para análise de dataset NATS-Bench de neural architecture search (NAS)."
   ]
  },
  {
   "cell_type": "markdown",
   "id": "c63a0c82-87ce-443f-83f1-8a56b6c5abba",
   "metadata": {},
   "source": [
    "# Import Libraries"
   ]
  },
  {
   "cell_type": "code",
   "execution_count": 1,
   "id": "e9db9051-364d-49a4-83d3-d2b2969b048e",
   "metadata": {},
   "outputs": [],
   "source": [
    "import os\n",
    "# disable tensorflow log level infos\n",
    "os.environ['TF_CPP_MIN_LOG_LEVEL'] = '2' # show only errors"
   ]
  },
  {
   "cell_type": "code",
   "execution_count": 2,
   "id": "f6b5a9cb-7d9c-4bf1-9d77-a1114f32f627",
   "metadata": {},
   "outputs": [],
   "source": [
    "import time\n",
    "import random\n",
    "\n",
    "from absl import app\n",
    "from absl import flags\n",
    "import numpy as np\n",
    "import pyglove as pg\n",
    "from typing import Tuple\n",
    "\n",
    "import nats_bench\n",
    "import pyglove as pg\n",
    "\n",
    "from xautodl.models import get_cell_based_tiny_net"
   ]
  },
  {
   "cell_type": "markdown",
   "id": "a8fda361-c8c3-411f-9814-aba4208ebcfd",
   "metadata": {},
   "source": [
    "# Utilitary Functions"
   ]
  },
  {
   "cell_type": "code",
   "execution_count": 33,
   "id": "888f1978-edc6-4666-bb4f-3b1214599b73",
   "metadata": {},
   "outputs": [],
   "source": [
    "@pg.functor([('ops', pg.typing.List(pg.typing.Str())),('num_nodes', pg.typing.Int())])\n",
    "def model_tss_spc(ops, num_nodes):\n",
    "    \"\"\"The architecture in the topology search space of NATS-Bench.\"\"\"\n",
    "    nodes, k = [], 0\n",
    "    for i in range(1, num_nodes):\n",
    "        xstrs = []\n",
    "        for j in range(i):\n",
    "            xstrs.append('{:}~{:}'.format(ops[k], j))\n",
    "            k += 1\n",
    "        nodes.append('|' + '|'.join(xstrs) + '|')\n",
    "    return '+'.join(nodes)\n",
    "\n",
    "\n",
    "@pg.functor([('channels', pg.typing.List(pg.typing.Int()))])\n",
    "def model_sss_spc(channels):\n",
    "    \"\"\"The architecture in the size search space of NATS-Bench.\"\"\"\n",
    "    return ':'.join(str(x) for x in channels)\n",
    "\n",
    "\n",
    "def get_algorithm(algorithm_str):\n",
    "    \"\"\"Creates algorithm.\"\"\"\n",
    "    if algorithm_str == 'random':\n",
    "        return pg.generators.Random()\n",
    "    elif algorithm_str == 'evolution':\n",
    "        return pg.evolution.regularized_evolution(mutator=pg.evolution.mutators.Uniform(), population_size=50, tournament_size=10)\n",
    "    else:\n",
    "        return pg.load(algorithm_str)\n",
    "\n",
    "\n",
    "def get_search_space(ss_indicator):\n",
    "    \"\"\"The default search space in NATS-Bench.\n",
    "  \n",
    "    Args:\n",
    "      ss_indicator: tss or sss, indicating the topology or size search space.\n",
    "  \n",
    "    Returns:\n",
    "      A hyper model object that repesents a search space.\n",
    "    \"\"\"\n",
    "    info = nats_bench.search_space_info('nats-bench', ss_indicator)\n",
    "    #print(info)\n",
    "    if ss_indicator == 'tss':\n",
    "        total = info['num_nodes'] * (info['num_nodes'] - 1) // 2\n",
    "        return model_tss_spc(pg.sublist_of(total, info['op_names'], choices_distinct=False), info['num_nodes'])\n",
    "    elif ss_indicator == 'sss':\n",
    "        return model_sss_spc(pg.sublist_of(info['num_layers'], info['candidates'], choices_distinct=False))\n",
    "    \n",
    "\n",
    "def get_reporting_epoch(search_space_name):\n",
    "    # Results in the paper use reporting epochs $H^1$ and $H^2$ for the topology\n",
    "    # and size search spaces respectively. See section 3.3 of the paper.\n",
    "    DEFAULT_REPORTING_EPOCH = dict(tss=200, sss=90)\n",
    "    return DEFAULT_REPORTING_EPOCH[search_space_name]    \n",
    "\n",
    "\n",
    "def get_default_nats_file(search_space_name):\n",
    "    DEFAULT_NATS_FILEs = dict(tss=None, sss=None)\n",
    "    return DEFAULT_NATS_FILEs[search_space_name]\n",
    "\n",
    "    \n",
    "def search(nats_api,\n",
    "           model_search_space_name,\n",
    "           algo_name,\n",
    "           dataset='cifar10',\n",
    "           reporting_epoch=12,\n",
    "           max_train_hours=2e4):\n",
    "    \"\"\"Define the search procedure.\n",
    "  \n",
    "    Args:\n",
    "      nats_api: the NATS-Bench object.\n",
    "      search_model: which is a `model` object annotated with `one_of`.\n",
    "      algo: algorithm for search.\n",
    "      dataset: the target dataset\n",
    "      reporting_epoch: Use test set results for models trained for this many epochs.\n",
    "      max_train_hours: max time budget to train the models, which is the sum of training time queried from NAS-Bench.\n",
    "  \n",
    "    Returns:\n",
    "      A tuple of (total time spent at step i for all steps,\n",
    "                  best validation accuracy at step i for all steps,\n",
    "                  best test accuracy at step i for all steps)\n",
    "    \"\"\"\n",
    "    \n",
    "    print(f'Executing NAS: Search Space: {model_search_space_name} | algorithm: {algo_name} | dataset: {dataset} | reporting epoch: {reporting_epoch} | max_train_hours: {max_train_hours}')\n",
    "    \n",
    "    model_search_space = get_search_space(model_search_space_name)\n",
    "    reporting_epoch = get_reporting_epoch(model_search_space_name)\n",
    "    algorithm = get_algorithm(algo_name)\n",
    "    \n",
    "    nats_api.reset_time()\n",
    "    times, best_valids, best_tests = [0.0], [0.0], [0.0]\n",
    "    valid_models = 0\n",
    "    time_spent = 0\n",
    "    start_time = time.time()\n",
    "    last_report_time = start_time\n",
    "    for model, feedback in pg.sample(model_search_space, algorithm):\n",
    "        spec = model()\n",
    "        \n",
    "        #print(f'new cell-spec: {spec}')\n",
    "        #print(f'new cell-spec ID | DNA: {feedback.id} | {feedback.dna}')\n",
    "        \n",
    "        (validation_accuracy, _, _, _) = nats_api.simulate_train_eval(spec, dataset=dataset, hp=reporting_epoch)\n",
    "        \n",
    "        time_spent = nats_api.used_time\n",
    "        \n",
    "        more_info = nats_api.get_more_info(spec, dataset, hp=reporting_epoch)  # pytype: disable=wrong-arg-types  # dict-kwargs\n",
    "        \n",
    "        valid_models += 1\n",
    "        \n",
    "        feedback(validation_accuracy)\n",
    "        \n",
    "        if validation_accuracy > best_valids[-1]:\n",
    "            best_valids.append(validation_accuracy)\n",
    "            best_tests.append(more_info['test-accuracy'])\n",
    "        else:\n",
    "            best_valids.append(best_valids[-1])\n",
    "            best_tests.append(best_tests[-1])\n",
    "\n",
    "        times.append(time_spent)\n",
    "        time_spent_in_hours = time_spent / (60 * 60)\n",
    "        \n",
    "        if time_spent_in_hours > max_train_hours:\n",
    "            break # Break the first time we exceed the budget.\n",
    "        \n",
    "        if feedback.id % 100 == 0:\n",
    "            now = time.time()\n",
    "            print(f'Tried {feedback.id} models, valid {valid_models}, '\n",
    "                  f'time_spent_in_hours: {int(time_spent_in_hours)}h, '\n",
    "                  f'time_spent: {round(time_spent,3)}s, '\n",
    "                  f'elapse since last report: {round(now - last_report_time,3)}s.')\n",
    "            last_report_time = now\n",
    "            \n",
    "    print(f'Total time elapse: {time.time() - start_time} seconds.')\n",
    "    \n",
    "    # Remove the first element of each list because these are placeholders\n",
    "    # used for computing the current max. They don't correspond to\n",
    "    # actual results from nats_api.\n",
    "    times,best_valid,best_test = times[1:], best_valids[1:], best_tests[1:]    \n",
    "        \n",
    "    print('%15s %15s %15s %15s' % ('# trials', 'best valid (%)', 'best test (%)', 'simulated train hours'))\n",
    "    print('%15d %15.4f %15.4f %21d' % (len(times), best_valid[-1], best_test[-1], times[-1]))"
   ]
  },
  {
   "cell_type": "markdown",
   "id": "c97c67ce-ad91-48f5-ad70-650870a8a39d",
   "metadata": {},
   "source": [
    "# Create API and Load Dataset"
   ]
  },
  {
   "cell_type": "code",
   "execution_count": 27,
   "id": "5bc2d8ee-76e0-41cb-bb6a-aa6283bd3adb",
   "metadata": {},
   "outputs": [],
   "source": [
    "model_search_space_name = 'tss'"
   ]
  },
  {
   "cell_type": "code",
   "execution_count": 28,
   "id": "33494e0f-156d-40ec-a064-d660782b8f2a",
   "metadata": {},
   "outputs": [
    {
     "name": "stdout",
     "output_type": "stream",
     "text": [
      "[2023-05-30 02:51:18] Try to use the default NATS-Bench (topology) path from fast_mode=True and path=None.\n"
     ]
    }
   ],
   "source": [
    "default_nats_file = get_default_nats_file(model_search_space_name)\n",
    "\n",
    "# Load the dataset.\n",
    "nats_bench.api_utils.reset_file_system('default')\n",
    "nats_api = nats_bench.create(default_nats_file, model_search_space_name, fast_mode=True, verbose=False)"
   ]
  },
  {
   "cell_type": "markdown",
   "id": "8ee8981a-3120-4d5a-a0b6-0b04cdc6a4a0",
   "metadata": {
    "tags": []
   },
   "source": [
    "# Run Search"
   ]
  },
  {
   "cell_type": "markdown",
   "id": "75bfd3b9-fced-4914-8012-162b0cd6af2f",
   "metadata": {},
   "source": [
    "# Compare Algorithms - TSS Search Space"
   ]
  },
  {
   "cell_type": "markdown",
   "id": "af923fce-949a-46f6-a0a6-3460220afc6c",
   "metadata": {},
   "source": [
    "## Random"
   ]
  },
  {
   "cell_type": "code",
   "execution_count": 34,
   "id": "4d958cc1-467a-4946-b11f-12ee0f7bcca4",
   "metadata": {
    "tags": []
   },
   "outputs": [
    {
     "name": "stdout",
     "output_type": "stream",
     "text": [
      "Executing NAS: Search Space: tss | algorithm: random | dataset: cifar10 | reporting epoch: 200 | max_train_hours: 100\n",
      "Tried 100 models, valid 100, time_spent_in_hours: 52h, time_spent: 190723.99s, elapse since last report: 2.936s.\n",
      "Total time elapse: 5.784667253494263 seconds.\n",
      "       # trials  best valid (%)   best test (%) simulated train hours\n",
      "            192         91.5400         94.0700                361310\n"
     ]
    }
   ],
   "source": [
    "algorithm = 'random'\n",
    "dataset = 'cifar10'\n",
    "max_train_hours = 100\n",
    "\n",
    "search(nats_api, model_search_space_name, algorithm, dataset, reporting_epoch, max_train_hours)"
   ]
  },
  {
   "cell_type": "markdown",
   "id": "603ec996-2784-4369-945d-35b65b93eff8",
   "metadata": {},
   "source": [
    "## Evolution"
   ]
  },
  {
   "cell_type": "code",
   "execution_count": 35,
   "id": "775b8043-c01f-4665-954d-e762aebda0f0",
   "metadata": {},
   "outputs": [
    {
     "name": "stdout",
     "output_type": "stream",
     "text": [
      "Executing NAS: Search Space: tss | algorithm: evolution | dataset: cifar10 | reporting epoch: 200 | max_train_hours: 100\n",
      "Tried 100 models, valid 100, time_spent_in_hours: 55h, time_spent: 199073.843s, elapse since last report: 2.777s.\n",
      "Total time elapse: 4.355370998382568 seconds.\n",
      "       # trials  best valid (%)   best test (%) simulated train hours\n",
      "            166         91.7200         94.2600                361334\n"
     ]
    }
   ],
   "source": [
    "algorithm = 'evolution'\n",
    "dataset = 'cifar10'\n",
    "max_train_hours = 100\n",
    "\n",
    "search(nats_api, model_search_space_name, algorithm, dataset, reporting_epoch, max_train_hours)"
   ]
  }
 ],
 "metadata": {
  "kernelspec": {
   "display_name": "Python 3 (ipykernel)",
   "language": "python",
   "name": "python3"
  },
  "language_info": {
   "codemirror_mode": {
    "name": "ipython",
    "version": 3
   },
   "file_extension": ".py",
   "mimetype": "text/x-python",
   "name": "python",
   "nbconvert_exporter": "python",
   "pygments_lexer": "ipython3",
   "version": "3.8.0"
  }
 },
 "nbformat": 4,
 "nbformat_minor": 5
}
